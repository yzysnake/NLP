{
 "cells": [
  {
   "cell_type": "markdown",
   "metadata": {},
   "source": [
    "# Sentiment Analysis in Python"
   ]
  },
  {
   "cell_type": "code",
   "execution_count": 1,
   "metadata": {},
   "outputs": [],
   "source": [
    "#import nltk\n",
    "#nltk.download('popular', halt_on_error=False)\n",
    "#nltk.download('all', halt_on_error=False)"
   ]
  },
  {
   "cell_type": "code",
   "execution_count": 2,
   "metadata": {},
   "outputs": [],
   "source": [
    "import pandas as pd\n",
    "import re\n",
    "import requests\n",
    "import sys\n",
    "import os\n",
    "import matplotlib.pyplot as plt\n",
    "#import nltk as nltk\n",
    "#import nltk.corpus  \n",
    "#from nltk.text import Text\n",
    "from textblob import TextBlob\n",
    "from textblob.sentiments import NaiveBayesAnalyzer\n",
    "\n",
    "pd.set_option('display.max_colwidth', 500)"
   ]
  },
  {
   "cell_type": "code",
   "execution_count": 3,
   "metadata": {},
   "outputs": [
    {
     "name": "stdout",
     "output_type": "stream",
     "text": [
      "3.7.12 | packaged by conda-forge | (default, Oct 26 2021, 06:08:53) \n",
      "[GCC 9.4.0]\n"
     ]
    }
   ],
   "source": [
    "print(sys.version)"
   ]
  },
  {
   "cell_type": "markdown",
   "metadata": {},
   "source": [
    "#### Copy files to local FS from GCP bucket"
   ]
  },
  {
   "cell_type": "code",
   "execution_count": 4,
   "metadata": {},
   "outputs": [],
   "source": [
    "def get_gcs_data (bucket_name, folder_name, file_name, path_local):\n",
    "    url = 'https://storage.googleapis.com/' + bucket_name + '/' + folder_name + '/' + file_name\n",
    "    r = requests.get(url)\n",
    "    open(path_local + '/' + file_name , 'wb').write(r.content)"
   ]
  },
  {
   "cell_type": "code",
   "execution_count": 5,
   "metadata": {},
   "outputs": [],
   "source": [
    "path_books = '/home/jupyter/data/books'\n",
    "path_tweets = '/home/jupyter/data/tweets'"
   ]
  },
  {
   "cell_type": "code",
   "execution_count": 6,
   "metadata": {},
   "outputs": [
    {
     "name": "stdout",
     "output_type": "stream",
     "text": [
      "Downloaded: 2Book_2.txt\n"
     ]
    }
   ],
   "source": [
    "bucket_name = 'msca-bdp-data-open'\n",
    "folder_name = 'books'\n",
    "file_name = ['2Book_2.txt']\n",
    "path_local = path_books\n",
    "\n",
    "os.makedirs(path_local, exist_ok=True)\n",
    "\n",
    "for file in file_name:\n",
    "    get_gcs_data (bucket_name = bucket_name,\n",
    "                 folder_name = folder_name,\n",
    "                 file_name = file,\n",
    "                 path_local = path_local)\n",
    "    print('Downloaded: ' + file)"
   ]
  },
  {
   "cell_type": "code",
   "execution_count": 7,
   "metadata": {},
   "outputs": [
    {
     "name": "stdout",
     "output_type": "stream",
     "text": [
      "Downloaded: positive.txt\n",
      "Downloaded: negative.txt\n"
     ]
    }
   ],
   "source": [
    "bucket_name = 'msca-bdp-data-open'\n",
    "folder_name = 'tweets'\n",
    "file_name = ['positive.txt', 'negative.txt']\n",
    "path_local = path_tweets\n",
    "\n",
    "os.makedirs(path_local, exist_ok=True)\n",
    "\n",
    "for file in file_name:\n",
    "    get_gcs_data (bucket_name = bucket_name,\n",
    "                 folder_name = folder_name,\n",
    "                 file_name = file,\n",
    "                 path_local = path_local)\n",
    "    print('Downloaded: ' + file)"
   ]
  },
  {
   "cell_type": "markdown",
   "metadata": {},
   "source": [
    "## Sentiment Analysis with TextBlob: Polarity and Subjectivity"
   ]
  },
  {
   "cell_type": "markdown",
   "metadata": {},
   "source": [
    "__textblob.sentiments__ module contains two sentiment analysis implementations  \n",
    "\n",
    "- PatternAnalyzer (based on the pattern library: https://www.clips.uantwerpen.be/pattern)  \n",
    "- NaiveBayesAnalyzer (an NLTK classifier trained on a movie reviews corpus).\n",
    "\n",
    "The default implementation is PatternAnalyzer, but you can override the analyzer to use NaiveBayesAnalyzer\n",
    "\n",
    "Polarity and Subjectivity:  \n",
    "- Polarity is float which lies in the range of [-1,1] where 1 means positive statement and -1 means a negative statement  \n",
    "- Subjective sentences generally refer to personal opinion, emotion or judgment whereas objective refers to factual information. Subjectivity is also a float which lies in the range of [0,1]  "
   ]
  },
  {
   "cell_type": "code",
   "execution_count": 8,
   "metadata": {},
   "outputs": [],
   "source": [
    "text = '''What a federal government shutdown would mean in Chicago'''"
   ]
  },
  {
   "cell_type": "code",
   "execution_count": 9,
   "metadata": {},
   "outputs": [
    {
     "data": {
      "text/plain": [
       "Sentiment(classification='pos', p_pos=0.6807460809168594, p_neg=0.31925391908314127)"
      ]
     },
     "execution_count": 9,
     "metadata": {},
     "output_type": "execute_result"
    }
   ],
   "source": [
    "blob = TextBlob(text, analyzer=NaiveBayesAnalyzer())\n",
    "blob.sentiment"
   ]
  },
  {
   "cell_type": "code",
   "execution_count": 10,
   "metadata": {},
   "outputs": [
    {
     "data": {
      "text/plain": [
       "Sentiment(polarity=-0.3125, subjectivity=0.6875)"
      ]
     },
     "execution_count": 10,
     "metadata": {},
     "output_type": "execute_result"
    }
   ],
   "source": [
    "blob = TextBlob(text)\n",
    "blob.sentiment"
   ]
  },
  {
   "cell_type": "code",
   "execution_count": 11,
   "metadata": {},
   "outputs": [],
   "source": [
    "text = '''Wolf experts urge UK police not to shoot escaped animal'''"
   ]
  },
  {
   "cell_type": "code",
   "execution_count": 12,
   "metadata": {},
   "outputs": [
    {
     "data": {
      "text/plain": [
       "Sentiment(classification='pos', p_pos=0.6175593484868018, p_neg=0.382440651513196)"
      ]
     },
     "execution_count": 12,
     "metadata": {},
     "output_type": "execute_result"
    }
   ],
   "source": [
    "blob = TextBlob(text, analyzer=NaiveBayesAnalyzer())\n",
    "blob.sentiment"
   ]
  },
  {
   "cell_type": "code",
   "execution_count": 13,
   "metadata": {},
   "outputs": [
    {
     "data": {
      "text/plain": [
       "Sentiment(polarity=0.0, subjectivity=0.0)"
      ]
     },
     "execution_count": 13,
     "metadata": {},
     "output_type": "execute_result"
    }
   ],
   "source": [
    "blob = TextBlob(text)\n",
    "blob.sentiment"
   ]
  },
  {
   "cell_type": "code",
   "execution_count": 14,
   "metadata": {},
   "outputs": [],
   "source": [
    "text = '''A 29-year-old man was shot Friday evening on the South Side.'''"
   ]
  },
  {
   "cell_type": "code",
   "execution_count": 15,
   "metadata": {},
   "outputs": [
    {
     "data": {
      "text/plain": [
       "Sentiment(classification='pos', p_pos=0.7079960513228761, p_neg=0.2920039486771243)"
      ]
     },
     "execution_count": 15,
     "metadata": {},
     "output_type": "execute_result"
    }
   ],
   "source": [
    "blob = TextBlob(text, analyzer=NaiveBayesAnalyzer())\n",
    "blob.sentiment"
   ]
  },
  {
   "cell_type": "code",
   "execution_count": 16,
   "metadata": {},
   "outputs": [
    {
     "data": {
      "text/plain": [
       "Sentiment(polarity=0.0, subjectivity=0.0)"
      ]
     },
     "execution_count": 16,
     "metadata": {},
     "output_type": "execute_result"
    }
   ],
   "source": [
    "blob = TextBlob(text)\n",
    "blob.sentiment"
   ]
  },
  {
   "cell_type": "code",
   "execution_count": 17,
   "metadata": {},
   "outputs": [],
   "source": [
    "text = '''Three teenagers have been charged with felony robbery after they were \n",
    "taken into custody in connection with a string of robberies from the Near North Side to Kenwood.'''"
   ]
  },
  {
   "cell_type": "code",
   "execution_count": 18,
   "metadata": {},
   "outputs": [
    {
     "data": {
      "text/plain": [
       "Sentiment(classification='pos', p_pos=0.9002488373268706, p_neg=0.09975116267312774)"
      ]
     },
     "execution_count": 18,
     "metadata": {},
     "output_type": "execute_result"
    }
   ],
   "source": [
    "blob = TextBlob(text, analyzer=NaiveBayesAnalyzer())\n",
    "blob.sentiment"
   ]
  },
  {
   "cell_type": "code",
   "execution_count": 19,
   "metadata": {},
   "outputs": [
    {
     "data": {
      "text/plain": [
       "Sentiment(polarity=0.1, subjectivity=0.4)"
      ]
     },
     "execution_count": 19,
     "metadata": {},
     "output_type": "execute_result"
    }
   ],
   "source": [
    "blob = TextBlob(text)\n",
    "blob.sentiment"
   ]
  },
  {
   "cell_type": "code",
   "execution_count": 20,
   "metadata": {},
   "outputs": [],
   "source": [
    "text = '''American and Southwest joined United Airlines in reporting expectation-beating earnings \n",
    "and unveiling expansion plans.  But investors, fearing that more flights might lead to a fare war, \n",
    "pounded airline stocks for a second day even as American Airlines signaled that higher fuel costs \n",
    "will probably force it to raise fares..'''"
   ]
  },
  {
   "cell_type": "code",
   "execution_count": 21,
   "metadata": {},
   "outputs": [
    {
     "data": {
      "text/plain": [
       "Sentiment(classification='pos', p_pos=0.9141571646860674, p_neg=0.0858428353139356)"
      ]
     },
     "execution_count": 21,
     "metadata": {},
     "output_type": "execute_result"
    }
   ],
   "source": [
    "blob = TextBlob(text, analyzer=NaiveBayesAnalyzer())\n",
    "blob.sentiment"
   ]
  },
  {
   "cell_type": "code",
   "execution_count": 22,
   "metadata": {},
   "outputs": [
    {
     "data": {
      "text/plain": [
       "Sentiment(polarity=0.15, subjectivity=0.2)"
      ]
     },
     "execution_count": 22,
     "metadata": {},
     "output_type": "execute_result"
    }
   ],
   "source": [
    "blob = TextBlob(text)\n",
    "blob.sentiment"
   ]
  },
  {
   "cell_type": "code",
   "execution_count": 23,
   "metadata": {},
   "outputs": [],
   "source": [
    "text = '''The gorgeous Giulia Quadrifoglio seduces the soul and sears the \n",
    "senses with a beautiful balance of aggression and finesse. \n",
    "Alfa flaunts its racing pedigree with the four-leaf-clover \n",
    "badge displayed on the Giulia’s shapely flanks. \n",
    "Its Ferrari-derived twin-turbo V-6 sings a sinister tune, \n",
    "belting out 505 horsepower. Its clever, communicative chassis can \n",
    "conquer a race course with unfiltered ferocity or coolly traverse \n",
    "the tarmac without commotion. An excellent eight-speed automatic \n",
    "transmission and rear-wheel drive are standard; sadly, \n",
    "a manual gearbox is missing. Alfa Romeo’s past and present \n",
    "reliability issues also remain an unknown quantity. \n",
    "Still, the Giulia Quadrifoglio, or QF, is an exotic sports sedan \n",
    "that sets a new benchmark for the genre—which is why it made our list of 10Best Cars for 2018.'''"
   ]
  },
  {
   "cell_type": "code",
   "execution_count": 24,
   "metadata": {},
   "outputs": [
    {
     "data": {
      "text/plain": [
       "Sentiment(classification='pos', p_pos=0.991948748693045, p_neg=0.008051251306939424)"
      ]
     },
     "execution_count": 24,
     "metadata": {},
     "output_type": "execute_result"
    }
   ],
   "source": [
    "blob = TextBlob(text, analyzer=NaiveBayesAnalyzer())\n",
    "blob.sentiment"
   ]
  },
  {
   "cell_type": "code",
   "execution_count": 25,
   "metadata": {},
   "outputs": [
    {
     "data": {
      "text/plain": [
       "Sentiment(polarity=0.15378787878787878, subjectivity=0.6241341991341992)"
      ]
     },
     "execution_count": 25,
     "metadata": {},
     "output_type": "execute_result"
    }
   ],
   "source": [
    "blob = TextBlob(text)\n",
    "blob.sentiment"
   ]
  },
  {
   "cell_type": "code",
   "execution_count": 26,
   "metadata": {},
   "outputs": [],
   "source": [
    "text = '''My husband ordered a fruit arrangement for me for Valentine's Day. \n",
    "He had planned on taking me to the movies with two free tickets he was promised with a \n",
    "promotion you had been advertising. My husband was unaware that these tickets came via email. \n",
    "However, your sales representative who took his order failed to record his email address. \n",
    "Therefore we never received the tickets. \n",
    "I have called corporate and the store manager about this. \n",
    "They seem to not be able to resolve things in a timely manner. \n",
    "Also the fruit was not the best tasting. \n",
    "Needless to say we will never be supporting your business again. \n",
    "Overall poor customer service and a very overpriced product.'''"
   ]
  },
  {
   "cell_type": "code",
   "execution_count": 27,
   "metadata": {},
   "outputs": [
    {
     "data": {
      "text/plain": [
       "Sentiment(classification='pos', p_pos=0.9993862773779272, p_neg=0.0006137226220642661)"
      ]
     },
     "execution_count": 27,
     "metadata": {},
     "output_type": "execute_result"
    }
   ],
   "source": [
    "blob = TextBlob(text, analyzer=NaiveBayesAnalyzer())\n",
    "blob.sentiment"
   ]
  },
  {
   "cell_type": "code",
   "execution_count": 28,
   "metadata": {},
   "outputs": [
    {
     "data": {
      "text/plain": [
       "Sentiment(polarity=0.08636363636363636, subjectivity=0.425)"
      ]
     },
     "execution_count": 28,
     "metadata": {},
     "output_type": "execute_result"
    }
   ],
   "source": [
    "blob = TextBlob(text)\n",
    "blob.sentiment"
   ]
  },
  {
   "cell_type": "markdown",
   "metadata": {},
   "source": [
    "## Reading from URL\n",
    "#### BeautifulSoup to clean up meta-tags "
   ]
  },
  {
   "cell_type": "code",
   "execution_count": 29,
   "metadata": {},
   "outputs": [],
   "source": [
    "url = \"https://en.wikipedia.org/wiki/University_of_Chicago\"\n",
    "\n",
    "from bs4 import BeautifulSoup\n",
    "import urllib.request\n",
    "page = urllib.request.urlopen(url)\n",
    "soup = BeautifulSoup(page.read(), \"lxml\")"
   ]
  },
  {
   "cell_type": "code",
   "execution_count": 30,
   "metadata": {},
   "outputs": [
    {
     "name": "stdout",
     "output_type": "stream",
     "text": [
      "nd the Hyde Park campus opened for classes on October 1, 1892.[41]  Harper worked on building up the faculty and in two years he had a faculty of 120, including eight former university or college presidents.[46]  Harper was an accomplished scholar (Semiticist) and a member of the Baptist clergy who believed that a great university should maintain the study of faith as a central focus.[47] To fulfill this commitment, he brought the Baptist seminary that had begun as an independent school \"alongside\" the Old University of Chicago and separated from the old school decades earlier to Morgan Park. This became the Divinity School in 1891, the first professional school at the University of Chicago.[37]: 20–22 \n",
      "Harper recruited acclaimed Yale baseball and football player Amos Alonzo Stagg from the Young Men's Christian Association train\n"
     ]
    }
   ],
   "source": [
    "uc_wiki = (soup.get_text())\n",
    "#print (type(uc_wiki))\n",
    "print (uc_wiki[7170:8010]) "
   ]
  },
  {
   "cell_type": "markdown",
   "metadata": {},
   "source": [
    "### Sentiment analysis on entire body of text might be difficult to interpret"
   ]
  },
  {
   "cell_type": "code",
   "execution_count": 31,
   "metadata": {},
   "outputs": [
    {
     "data": {
      "text/plain": [
       "Sentiment(classification='pos', p_pos=1.0, p_neg=3.4230353457466076e-183)"
      ]
     },
     "execution_count": 31,
     "metadata": {},
     "output_type": "execute_result"
    }
   ],
   "source": [
    "blob = TextBlob(uc_wiki, analyzer=NaiveBayesAnalyzer())\n",
    "blob.sentiment"
   ]
  },
  {
   "cell_type": "code",
   "execution_count": 32,
   "metadata": {},
   "outputs": [
    {
     "data": {
      "text/plain": [
       "Sentiment(polarity=0.15078493143814012, subjectivity=0.3714800046062081)"
      ]
     },
     "execution_count": 32,
     "metadata": {},
     "output_type": "execute_result"
    }
   ],
   "source": [
    "blob = TextBlob(uc_wiki)\n",
    "blob.sentiment"
   ]
  },
  {
   "cell_type": "markdown",
   "metadata": {},
   "source": [
    "### Processing sentiment by sentences"
   ]
  },
  {
   "cell_type": "code",
   "execution_count": 33,
   "metadata": {},
   "outputs": [
    {
     "name": "stdout",
     "output_type": "stream",
     "text": [
      "[Sentence(\"[25]  Advances in chemistry led to the \"radiocarbon revolution\" in the carbon-14 dating of ancient life and objects.\"), Sentence(\"[26] The university research efforts include administration of Fermi National Accelerator Laboratory and Argonne National Laboratory, as well as the Marine Biological Laboratory.\"), Sentence(\"The university is also home to the University of Chicago Press, the largest university press in the United States.\"), Sentence(\"[27]\n",
      "The University of Chicago's students, faculty, and staff include 97 Nobel laureates, among the highest of any university in the world.\"), Sentence(\"[28] The university's faculty members and alumni also include 10 Fields Medalists,[29] 4 Turing Award winners, 52 MacArthur Fellows,[30] 26 Marshall Scholars,[31] 53 Rhodes Scholars,[32] 27 Pulitzer Prize winners,[33] 20 National Humanities Medalists,[34] 29 living billionaire graduates,[35] and eight Olympic medalists.\")]\n"
     ]
    }
   ],
   "source": [
    "b_sentences = blob.sentences\n",
    "print (b_sentences[10:15])"
   ]
  },
  {
   "cell_type": "markdown",
   "metadata": {},
   "source": [
    "#### NaiveBayesAnalyzer"
   ]
  },
  {
   "cell_type": "code",
   "execution_count": 34,
   "metadata": {},
   "outputs": [
    {
     "data": {
      "text/plain": [
       "Sentiment(classification='pos', p_pos=1.0, p_neg=3.4230353457466076e-183)"
      ]
     },
     "execution_count": 34,
     "metadata": {},
     "output_type": "execute_result"
    }
   ],
   "source": [
    "blob = TextBlob(uc_wiki, analyzer=NaiveBayesAnalyzer())\n",
    "blob.sentiment"
   ]
  },
  {
   "cell_type": "code",
   "execution_count": 35,
   "metadata": {},
   "outputs": [
    {
     "data": {
      "text/html": [
       "<div>\n",
       "<style scoped>\n",
       "    .dataframe tbody tr th:only-of-type {\n",
       "        vertical-align: middle;\n",
       "    }\n",
       "\n",
       "    .dataframe tbody tr th {\n",
       "        vertical-align: top;\n",
       "    }\n",
       "\n",
       "    .dataframe thead th {\n",
       "        text-align: right;\n",
       "    }\n",
       "</style>\n",
       "<table border=\"1\" class=\"dataframe\">\n",
       "  <thead>\n",
       "    <tr style=\"text-align: right;\">\n",
       "      <th></th>\n",
       "      <th>sentence</th>\n",
       "      <th>classification</th>\n",
       "      <th>prob_positive</th>\n",
       "      <th>prob_negative</th>\n",
       "    </tr>\n",
       "  </thead>\n",
       "  <tbody>\n",
       "    <tr>\n",
       "      <th>0</th>\n",
       "      <td>University of Chicago - Wikipedia                                             University of Chicago  From Wikipedia, the free encyclopedia    Jump to navigation Jump to search Private university in Chicago, Illinois   The University of ChicagoLatin: Universitas ChicaginiensisMottoCrescat scientia; vita excolatur (Latin)Motto in English\"Let knowledge grow from more to more; and so be human life enriched.</td>\n",
       "      <td>pos</td>\n",
       "      <td>0.9887360773913755</td>\n",
       "      <td>0.011263922608622011</td>\n",
       "    </tr>\n",
       "    <tr>\n",
       "      <th>1</th>\n",
       "      <td>\"[1]TypePrivate research universityEstablished1890, 1856; 132 years ago (1890, 1856)[1][2]FounderJohn D. RockefellerAccreditationHLCAcademic affiliationsAAUNAICUURASpace-grantEndowment$11.6 billion (2021)[3]PresidentA.</td>\n",
       "      <td>neg</td>\n",
       "      <td>0.22873779177239437</td>\n",
       "      <td>0.7712622082276058</td>\n",
       "    </tr>\n",
       "    <tr>\n",
       "      <th>2</th>\n",
       "      <td>Paul AlivisatosProvostKa Yee Christina LeeAcademic staff2,859[4]Administrative staff15,949 (including employees of The University of Chicago Medical Center)[4]Students18,452Undergraduates7,559[1]Postgraduates10,893[1]LocationChicago, Illinois, United States41°47′23″N 87°35′59″W﻿ / ﻿41.78972°N 87.59972°W﻿ / 41.78972; -87.59972Coordinates: 41°47′23″N 87°35′59″W﻿ / ﻿41.78972°N 87.59972°W﻿ / 41.78972; -87.59972CampusLarge City,[5] 217 acres (87.8 ha) (main campus)[1]Warren Woods Ecological Field...</td>\n",
       "      <td>pos</td>\n",
       "      <td>0.9943676010497957</td>\n",
       "      <td>0.005632398950201687</td>\n",
       "    </tr>\n",
       "    <tr>\n",
       "      <th>3</th>\n",
       "      <td>Its main campus is located in Chicago's Hyde Park neighborhood.</td>\n",
       "      <td>pos</td>\n",
       "      <td>0.8044073650002952</td>\n",
       "      <td>0.1955926349997047</td>\n",
       "    </tr>\n",
       "    <tr>\n",
       "      <th>4</th>\n",
       "      <td>[9][10] The University of Chicago is consistently ranked among the best universities in the world[11][12][13][14] and it is among the most selective in the United States.</td>\n",
       "      <td>pos</td>\n",
       "      <td>0.5456988956200433</td>\n",
       "      <td>0.454301104379956</td>\n",
       "    </tr>\n",
       "  </tbody>\n",
       "</table>\n",
       "</div>"
      ],
      "text/plain": [
       "                                                                                                                                                                                                                                                                                                                                                                                                                                                                                                              sentence  \\\n",
       "0                                                                                               University of Chicago - Wikipedia                                             University of Chicago  From Wikipedia, the free encyclopedia    Jump to navigation Jump to search Private university in Chicago, Illinois   The University of ChicagoLatin: Universitas ChicaginiensisMottoCrescat scientia; vita excolatur (Latin)Motto in English\"Let knowledge grow from more to more; and so be human life enriched.   \n",
       "1                                                                                                                                                                                                                                                                                           \"[1]TypePrivate research universityEstablished1890, 1856; 132 years ago (1890, 1856)[1][2]FounderJohn D. RockefellerAccreditationHLCAcademic affiliationsAAUNAICUURASpace-grantEndowment$11.6 billion (2021)[3]PresidentA.   \n",
       "2  Paul AlivisatosProvostKa Yee Christina LeeAcademic staff2,859[4]Administrative staff15,949 (including employees of The University of Chicago Medical Center)[4]Students18,452Undergraduates7,559[1]Postgraduates10,893[1]LocationChicago, Illinois, United States41°47′23″N 87°35′59″W﻿ / ﻿41.78972°N 87.59972°W﻿ / 41.78972; -87.59972Coordinates: 41°47′23″N 87°35′59″W﻿ / ﻿41.78972°N 87.59972°W﻿ / 41.78972; -87.59972CampusLarge City,[5] 217 acres (87.8 ha) (main campus)[1]Warren Woods Ecological Field...   \n",
       "3                                                                                                                                                                                                                                                                                                                                                                                                                                                      Its main campus is located in Chicago's Hyde Park neighborhood.   \n",
       "4                                                                                                                                                                                                                                                                                                                                           [9][10] The University of Chicago is consistently ranked among the best universities in the world[11][12][13][14] and it is among the most selective in the United States.   \n",
       "\n",
       "  classification        prob_positive         prob_negative  \n",
       "0            pos   0.9887360773913755  0.011263922608622011  \n",
       "1            neg  0.22873779177239437    0.7712622082276058  \n",
       "2            pos   0.9943676010497957  0.005632398950201687  \n",
       "3            pos   0.8044073650002952    0.1955926349997047  \n",
       "4            pos   0.5456988956200433     0.454301104379956  "
      ]
     },
     "execution_count": 35,
     "metadata": {},
     "output_type": "execute_result"
    }
   ],
   "source": [
    "sentences = []\n",
    "bSentimentClass = []\n",
    "bSentimentPos = []\n",
    "bSentimentNeg = []\n",
    "NaiveBayesAnalyzerDF = None\n",
    "NaiveBayesAnalyzerDF = pd.DataFrame(columns=['sentence' ,'classification', 'prob_positive', 'prob_negative'])\n",
    "\n",
    "for sentence in blob.sentences:\n",
    "    bSentimentClass.append(str(sentence.sentiment.classification))\n",
    "    bSentimentPos.append(str(sentence.sentiment.p_pos))\n",
    "    bSentimentNeg.append(str(sentence.sentiment.p_neg))\n",
    "    sentences.append(str(sentence))\n",
    "\n",
    "NaiveBayesAnalyzerDF['sentence'] = sentences\n",
    "NaiveBayesAnalyzerDF['classification'] = bSentimentClass\n",
    "NaiveBayesAnalyzerDF['prob_positive'] = bSentimentPos\n",
    "NaiveBayesAnalyzerDF['prob_negative'] = bSentimentNeg\n",
    "NaiveBayesAnalyzerDF['sentence'] = NaiveBayesAnalyzerDF['sentence'].str.replace('\\n', ' ') \n",
    "\n",
    "NaiveBayesAnalyzerDF.head(5)"
   ]
  },
  {
   "cell_type": "markdown",
   "metadata": {},
   "source": [
    "#### PatternAnalyzer"
   ]
  },
  {
   "cell_type": "code",
   "execution_count": 36,
   "metadata": {},
   "outputs": [
    {
     "data": {
      "text/plain": [
       "Sentiment(polarity=0.15078493143814012, subjectivity=0.3714800046062081)"
      ]
     },
     "execution_count": 36,
     "metadata": {},
     "output_type": "execute_result"
    }
   ],
   "source": [
    "blob = TextBlob(uc_wiki)\n",
    "blob.sentiment"
   ]
  },
  {
   "cell_type": "code",
   "execution_count": 37,
   "metadata": {},
   "outputs": [
    {
     "data": {
      "text/html": [
       "<div>\n",
       "<style scoped>\n",
       "    .dataframe tbody tr th:only-of-type {\n",
       "        vertical-align: middle;\n",
       "    }\n",
       "\n",
       "    .dataframe tbody tr th {\n",
       "        vertical-align: top;\n",
       "    }\n",
       "\n",
       "    .dataframe thead th {\n",
       "        text-align: right;\n",
       "    }\n",
       "</style>\n",
       "<table border=\"1\" class=\"dataframe\">\n",
       "  <thead>\n",
       "    <tr style=\"text-align: right;\">\n",
       "      <th></th>\n",
       "      <th>sentence</th>\n",
       "      <th>sentiment</th>\n",
       "      <th>subjectivity</th>\n",
       "    </tr>\n",
       "  </thead>\n",
       "  <tbody>\n",
       "    <tr>\n",
       "      <th>0</th>\n",
       "      <td>University of Chicago - Wikipedia                                             University of Chicago  From Wikipedia, the free encyclopedia    Jump to navigation Jump to search Private university in Chicago, Illinois   The University of ChicagoLatin: Universitas ChicaginiensisMottoCrescat scientia; vita excolatur (Latin)Motto in English\"Let knowledge grow from more to more; and so be human life enriched.</td>\n",
       "      <td>0.2333333333333333</td>\n",
       "      <td>0.37916666666666665</td>\n",
       "    </tr>\n",
       "    <tr>\n",
       "      <th>1</th>\n",
       "      <td>\"[1]TypePrivate research universityEstablished1890, 1856; 132 years ago (1890, 1856)[1][2]FounderJohn D. RockefellerAccreditationHLCAcademic affiliationsAAUNAICUURASpace-grantEndowment$11.6 billion (2021)[3]PresidentA.</td>\n",
       "      <td>0.0</td>\n",
       "      <td>0.0</td>\n",
       "    </tr>\n",
       "    <tr>\n",
       "      <th>2</th>\n",
       "      <td>Paul AlivisatosProvostKa Yee Christina LeeAcademic staff2,859[4]Administrative staff15,949 (including employees of The University of Chicago Medical Center)[4]Students18,452Undergraduates7,559[1]Postgraduates10,893[1]LocationChicago, Illinois, United States41°47′23″N 87°35′59″W﻿ / ﻿41.78972°N 87.59972°W﻿ / 41.78972; -87.59972Coordinates: 41°47′23″N 87°35′59″W﻿ / ﻿41.78972°N 87.59972°W﻿ / 41.78972; -87.59972CampusLarge City,[5] 217 acres (87.8 ha) (main campus)[1]Warren Woods Ecological Field...</td>\n",
       "      <td>0.14166666666666666</td>\n",
       "      <td>0.32708333333333334</td>\n",
       "    </tr>\n",
       "    <tr>\n",
       "      <th>3</th>\n",
       "      <td>Its main campus is located in Chicago's Hyde Park neighborhood.</td>\n",
       "      <td>0.16666666666666666</td>\n",
       "      <td>0.3333333333333333</td>\n",
       "    </tr>\n",
       "    <tr>\n",
       "      <th>4</th>\n",
       "      <td>[9][10] The University of Chicago is consistently ranked among the best universities in the world[11][12][13][14] and it is among the most selective in the United States.</td>\n",
       "      <td>0.5833333333333334</td>\n",
       "      <td>0.35000000000000003</td>\n",
       "    </tr>\n",
       "  </tbody>\n",
       "</table>\n",
       "</div>"
      ],
      "text/plain": [
       "                                                                                                                                                                                                                                                                                                                                                                                                                                                                                                              sentence  \\\n",
       "0                                                                                               University of Chicago - Wikipedia                                             University of Chicago  From Wikipedia, the free encyclopedia    Jump to navigation Jump to search Private university in Chicago, Illinois   The University of ChicagoLatin: Universitas ChicaginiensisMottoCrescat scientia; vita excolatur (Latin)Motto in English\"Let knowledge grow from more to more; and so be human life enriched.   \n",
       "1                                                                                                                                                                                                                                                                                           \"[1]TypePrivate research universityEstablished1890, 1856; 132 years ago (1890, 1856)[1][2]FounderJohn D. RockefellerAccreditationHLCAcademic affiliationsAAUNAICUURASpace-grantEndowment$11.6 billion (2021)[3]PresidentA.   \n",
       "2  Paul AlivisatosProvostKa Yee Christina LeeAcademic staff2,859[4]Administrative staff15,949 (including employees of The University of Chicago Medical Center)[4]Students18,452Undergraduates7,559[1]Postgraduates10,893[1]LocationChicago, Illinois, United States41°47′23″N 87°35′59″W﻿ / ﻿41.78972°N 87.59972°W﻿ / 41.78972; -87.59972Coordinates: 41°47′23″N 87°35′59″W﻿ / ﻿41.78972°N 87.59972°W﻿ / 41.78972; -87.59972CampusLarge City,[5] 217 acres (87.8 ha) (main campus)[1]Warren Woods Ecological Field...   \n",
       "3                                                                                                                                                                                                                                                                                                                                                                                                                                                      Its main campus is located in Chicago's Hyde Park neighborhood.   \n",
       "4                                                                                                                                                                                                                                                                                                                                           [9][10] The University of Chicago is consistently ranked among the best universities in the world[11][12][13][14] and it is among the most selective in the United States.   \n",
       "\n",
       "             sentiment         subjectivity  \n",
       "0   0.2333333333333333  0.37916666666666665  \n",
       "1                  0.0                  0.0  \n",
       "2  0.14166666666666666  0.32708333333333334  \n",
       "3  0.16666666666666666   0.3333333333333333  \n",
       "4   0.5833333333333334  0.35000000000000003  "
      ]
     },
     "execution_count": 37,
     "metadata": {},
     "output_type": "execute_result"
    }
   ],
   "source": [
    "sentences = []\n",
    "b_sentiment = []\n",
    "b_subjectivity = []\n",
    "PatternAnalyzerDF = None\n",
    "PatternAnalyzerDF = pd.DataFrame(columns=['sentence' ,'sentiment', 'subjectivity'])\n",
    "\n",
    "for sentence in blob.sentences:\n",
    "    b_sentiment.append(str(sentence.sentiment.polarity))\n",
    "    b_subjectivity.append(str(sentence.sentiment.subjectivity))\n",
    "    sentences.append(str(sentence))    \n",
    "\n",
    "PatternAnalyzerDF['sentence'] = sentences\n",
    "PatternAnalyzerDF['sentiment'] = b_sentiment\n",
    "PatternAnalyzerDF['subjectivity'] = b_subjectivity\n",
    "PatternAnalyzerDF['sentence'] = PatternAnalyzerDF['sentence'].str.replace('\\n', ' ') \n",
    "PatternAnalyzerDF.head(5)"
   ]
  },
  {
   "cell_type": "markdown",
   "metadata": {},
   "source": [
    "### Analyzing sentiment for entire book"
   ]
  },
  {
   "cell_type": "code",
   "execution_count": 38,
   "metadata": {},
   "outputs": [],
   "source": [
    "directory = '/home/jupyter/data/books/'\n",
    "\n",
    "book = 'Book_2.txt'"
   ]
  },
  {
   "cell_type": "code",
   "execution_count": 39,
   "metadata": {},
   "outputs": [
    {
     "data": {
      "text/plain": [
       "Sentiment(classification='pos', p_pos=1.0, p_neg=0.0)"
      ]
     },
     "execution_count": 39,
     "metadata": {},
     "output_type": "execute_result"
    }
   ],
   "source": [
    "blob = TextBlob(open(directory+book, encoding=\"utf8\").read(), analyzer=NaiveBayesAnalyzer())\n",
    "blob.sentiment"
   ]
  },
  {
   "cell_type": "code",
   "execution_count": 40,
   "metadata": {},
   "outputs": [
    {
     "data": {
      "text/plain": [
       "Sentiment(polarity=0.0647677321705668, subjectivity=0.48703200714189915)"
      ]
     },
     "execution_count": 40,
     "metadata": {},
     "output_type": "execute_result"
    }
   ],
   "source": [
    "blob = TextBlob(open(directory+book, encoding=\"utf8\").read())\n",
    "blob.sentiment"
   ]
  },
  {
   "cell_type": "markdown",
   "metadata": {},
   "source": [
    "### Processing the sentiment of each sentence in the book and passing to PandasDF"
   ]
  },
  {
   "cell_type": "code",
   "execution_count": 41,
   "metadata": {},
   "outputs": [],
   "source": [
    "pd.set_option('max_colwidth', 200)"
   ]
  },
  {
   "cell_type": "markdown",
   "metadata": {},
   "source": [
    "#### PatternAnalyzer"
   ]
  },
  {
   "cell_type": "code",
   "execution_count": 42,
   "metadata": {},
   "outputs": [],
   "source": [
    "blob = TextBlob(open(directory+book, encoding=\"utf8\").read())\n",
    "\n",
    "polarity = []\n",
    "subjectivity = []\n",
    "sentences = []\n",
    "PatternAnalyzerDF = pd.DataFrame(columns=['sentence', 'polarity', 'subjectivity'])\n",
    "\n",
    "for sentence in blob.sentences:\n",
    "    polarity.append(sentence.sentiment.polarity)\n",
    "    subjectivity.append(sentence.sentiment.subjectivity)\n",
    "    sentences.append(str(sentence.raw))\n",
    "\n",
    "PatternAnalyzerDF['sentence'] = sentences\n",
    "PatternAnalyzerDF['polarity'] = polarity\n",
    "PatternAnalyzerDF['subjectivity'] = subjectivity\n",
    "\n",
    "PatternAnalyzerDF['sentence'] = PatternAnalyzerDF['sentence'].str.replace('\\n', ' ')"
   ]
  },
  {
   "cell_type": "code",
   "execution_count": 43,
   "metadata": {},
   "outputs": [
    {
     "data": {
      "text/html": [
       "<div>\n",
       "<style scoped>\n",
       "    .dataframe tbody tr th:only-of-type {\n",
       "        vertical-align: middle;\n",
       "    }\n",
       "\n",
       "    .dataframe tbody tr th {\n",
       "        vertical-align: top;\n",
       "    }\n",
       "\n",
       "    .dataframe thead th {\n",
       "        text-align: right;\n",
       "    }\n",
       "</style>\n",
       "<table border=\"1\" class=\"dataframe\">\n",
       "  <thead>\n",
       "    <tr style=\"text-align: right;\">\n",
       "      <th></th>\n",
       "      <th>sentence</th>\n",
       "      <th>polarity</th>\n",
       "      <th>subjectivity</th>\n",
       "    </tr>\n",
       "  </thead>\n",
       "  <tbody>\n",
       "    <tr>\n",
       "      <th>0</th>\n",
       "      <td>﻿Produced by David Widger      THE ADVENTURES OF TOM SAWYER  By Mark Twain  (Samuel Langhorne Clemens)     CONTENTS  CHAPTER I. Y-o-u-u Tom-Aunt Polly Decides Upon her Duty--Tom Practices Music--T...</td>\n",
       "      <td>0.000000</td>\n",
       "      <td>0.375000</td>\n",
       "    </tr>\n",
       "    <tr>\n",
       "      <th>1</th>\n",
       "      <td>Strong Temptations--Strategic Movements--The Innocents Beguiled  CHAPTER III.</td>\n",
       "      <td>0.433333</td>\n",
       "      <td>0.733333</td>\n",
       "    </tr>\n",
       "    <tr>\n",
       "      <th>2</th>\n",
       "      <td>Tom as a General--Triumph and Reward--Dismal Felicity--Commission and Omission  CHAPTER IV.</td>\n",
       "      <td>0.000000</td>\n",
       "      <td>0.000000</td>\n",
       "    </tr>\n",
       "    <tr>\n",
       "      <th>3</th>\n",
       "      <td>Mental Acrobatics--Attending Sunday--School--The Superintendent--“Showing off”--Tom Lionized  CHAPTER V. A Useful Minister--In Church--The Climax  CHAPTER VI.</td>\n",
       "      <td>0.100000</td>\n",
       "      <td>0.100000</td>\n",
       "    </tr>\n",
       "    <tr>\n",
       "      <th>4</th>\n",
       "      <td>Self-Examination--Dentistry--The Midnight Charm--Witches and Devils--Cautious Approaches--Happy Hours  CHAPTER VII.</td>\n",
       "      <td>0.000000</td>\n",
       "      <td>0.000000</td>\n",
       "    </tr>\n",
       "    <tr>\n",
       "      <th>5</th>\n",
       "      <td>A Treaty Entered Into--Early Lessons--A Mistake Made  CHAPTER VIII.</td>\n",
       "      <td>0.000000</td>\n",
       "      <td>0.000000</td>\n",
       "    </tr>\n",
       "    <tr>\n",
       "      <th>6</th>\n",
       "      <td>Tom Decides on his Course--Old Scenes Re-enacted  CHAPTER IX.</td>\n",
       "      <td>0.000000</td>\n",
       "      <td>0.000000</td>\n",
       "    </tr>\n",
       "    <tr>\n",
       "      <th>7</th>\n",
       "      <td>A Solemn Situation--Grave Subjects Introduced--Injun Joe Explains  CHAPTER X.</td>\n",
       "      <td>0.000000</td>\n",
       "      <td>0.000000</td>\n",
       "    </tr>\n",
       "    <tr>\n",
       "      <th>8</th>\n",
       "      <td>The Solemn Oath--Terror Brings Repentance--Mental Punishment  CHAPTER XI.</td>\n",
       "      <td>0.000000</td>\n",
       "      <td>0.000000</td>\n",
       "    </tr>\n",
       "    <tr>\n",
       "      <th>9</th>\n",
       "      <td>Muff Potter Comes Himself--Tom’s Conscience at Work  CHAPTER XII.</td>\n",
       "      <td>0.000000</td>\n",
       "      <td>0.000000</td>\n",
       "    </tr>\n",
       "  </tbody>\n",
       "</table>\n",
       "</div>"
      ],
      "text/plain": [
       "                                                                                                                                                                                                  sentence  \\\n",
       "0  ﻿Produced by David Widger      THE ADVENTURES OF TOM SAWYER  By Mark Twain  (Samuel Langhorne Clemens)     CONTENTS  CHAPTER I. Y-o-u-u Tom-Aunt Polly Decides Upon her Duty--Tom Practices Music--T...   \n",
       "1                                                                                                                            Strong Temptations--Strategic Movements--The Innocents Beguiled  CHAPTER III.   \n",
       "2                                                                                                              Tom as a General--Triumph and Reward--Dismal Felicity--Commission and Omission  CHAPTER IV.   \n",
       "3                                           Mental Acrobatics--Attending Sunday--School--The Superintendent--“Showing off”--Tom Lionized  CHAPTER V. A Useful Minister--In Church--The Climax  CHAPTER VI.   \n",
       "4                                                                                      Self-Examination--Dentistry--The Midnight Charm--Witches and Devils--Cautious Approaches--Happy Hours  CHAPTER VII.   \n",
       "5                                                                                                                                      A Treaty Entered Into--Early Lessons--A Mistake Made  CHAPTER VIII.   \n",
       "6                                                                                                                                            Tom Decides on his Course--Old Scenes Re-enacted  CHAPTER IX.   \n",
       "7                                                                                                                            A Solemn Situation--Grave Subjects Introduced--Injun Joe Explains  CHAPTER X.   \n",
       "8                                                                                                                                The Solemn Oath--Terror Brings Repentance--Mental Punishment  CHAPTER XI.   \n",
       "9                                                                                                                                        Muff Potter Comes Himself--Tom’s Conscience at Work  CHAPTER XII.   \n",
       "\n",
       "   polarity  subjectivity  \n",
       "0  0.000000      0.375000  \n",
       "1  0.433333      0.733333  \n",
       "2  0.000000      0.000000  \n",
       "3  0.100000      0.100000  \n",
       "4  0.000000      0.000000  \n",
       "5  0.000000      0.000000  \n",
       "6  0.000000      0.000000  \n",
       "7  0.000000      0.000000  \n",
       "8  0.000000      0.000000  \n",
       "9  0.000000      0.000000  "
      ]
     },
     "execution_count": 43,
     "metadata": {},
     "output_type": "execute_result"
    }
   ],
   "source": [
    "PatternAnalyzerDF.head(10)"
   ]
  },
  {
   "cell_type": "markdown",
   "metadata": {},
   "source": [
    "#### NaiveBayesAnalyzer"
   ]
  },
  {
   "cell_type": "code",
   "execution_count": 44,
   "metadata": {},
   "outputs": [],
   "source": [
    "blob = TextBlob(open(directory+book, encoding=\"utf8\").read(), analyzer=NaiveBayesAnalyzer())\n",
    "\n",
    "sentences = []\n",
    "bSentimentClass = []\n",
    "bSentimentPos = []\n",
    "bSentimentNeg = []\n",
    "NaiveBayesAnalyzerDF = None\n",
    "NaiveBayesAnalyzerDF = pd.DataFrame(columns=['sentence' ,'classification', 'prob_positive', 'prob_negative'])\n",
    "\n",
    "\n",
    "for sentence in blob.sentences:\n",
    "    bSentimentClass.append(str(sentence.sentiment.classification))\n",
    "    bSentimentPos.append(str(sentence.sentiment.p_pos))\n",
    "    bSentimentNeg.append(str(sentence.sentiment.p_neg))    \n",
    "    sentences.append(str(sentence.raw))\n",
    "\n",
    "NaiveBayesAnalyzerDF['sentence'] = sentences\n",
    "NaiveBayesAnalyzerDF['classification'] = bSentimentClass\n",
    "NaiveBayesAnalyzerDF['prob_positive'] = bSentimentPos\n",
    "NaiveBayesAnalyzerDF['prob_negative'] = bSentimentNeg\n",
    "\n",
    "NaiveBayesAnalyzerDF['sentence'] = NaiveBayesAnalyzerDF['sentence'].str.replace('\\n', ' ') "
   ]
  },
  {
   "cell_type": "code",
   "execution_count": 45,
   "metadata": {},
   "outputs": [
    {
     "data": {
      "text/html": [
       "<div>\n",
       "<style scoped>\n",
       "    .dataframe tbody tr th:only-of-type {\n",
       "        vertical-align: middle;\n",
       "    }\n",
       "\n",
       "    .dataframe tbody tr th {\n",
       "        vertical-align: top;\n",
       "    }\n",
       "\n",
       "    .dataframe thead th {\n",
       "        text-align: right;\n",
       "    }\n",
       "</style>\n",
       "<table border=\"1\" class=\"dataframe\">\n",
       "  <thead>\n",
       "    <tr style=\"text-align: right;\">\n",
       "      <th></th>\n",
       "      <th>sentence</th>\n",
       "      <th>classification</th>\n",
       "      <th>prob_positive</th>\n",
       "      <th>prob_negative</th>\n",
       "    </tr>\n",
       "  </thead>\n",
       "  <tbody>\n",
       "    <tr>\n",
       "      <th>0</th>\n",
       "      <td>﻿Produced by David Widger      THE ADVENTURES OF TOM SAWYER  By Mark Twain  (Samuel Langhorne Clemens)     CONTENTS  CHAPTER I. Y-o-u-u Tom-Aunt Polly Decides Upon her Duty--Tom Practices Music--T...</td>\n",
       "      <td>pos</td>\n",
       "      <td>0.9985208231917111</td>\n",
       "      <td>0.0014791768082850721</td>\n",
       "    </tr>\n",
       "    <tr>\n",
       "      <th>1</th>\n",
       "      <td>Strong Temptations--Strategic Movements--The Innocents Beguiled  CHAPTER III.</td>\n",
       "      <td>neg</td>\n",
       "      <td>0.08856009968245544</td>\n",
       "      <td>0.9114399003175435</td>\n",
       "    </tr>\n",
       "    <tr>\n",
       "      <th>2</th>\n",
       "      <td>Tom as a General--Triumph and Reward--Dismal Felicity--Commission and Omission  CHAPTER IV.</td>\n",
       "      <td>pos</td>\n",
       "      <td>0.9870178445530222</td>\n",
       "      <td>0.012982155446978472</td>\n",
       "    </tr>\n",
       "    <tr>\n",
       "      <th>3</th>\n",
       "      <td>Mental Acrobatics--Attending Sunday--School--The Superintendent--“Showing off”--Tom Lionized  CHAPTER V. A Useful Minister--In Church--The Climax  CHAPTER VI.</td>\n",
       "      <td>neg</td>\n",
       "      <td>0.47153533909631573</td>\n",
       "      <td>0.5284646609036879</td>\n",
       "    </tr>\n",
       "    <tr>\n",
       "      <th>4</th>\n",
       "      <td>Self-Examination--Dentistry--The Midnight Charm--Witches and Devils--Cautious Approaches--Happy Hours  CHAPTER VII.</td>\n",
       "      <td>pos</td>\n",
       "      <td>0.920823878974303</td>\n",
       "      <td>0.07917612102570033</td>\n",
       "    </tr>\n",
       "    <tr>\n",
       "      <th>5</th>\n",
       "      <td>A Treaty Entered Into--Early Lessons--A Mistake Made  CHAPTER VIII.</td>\n",
       "      <td>pos</td>\n",
       "      <td>0.8798857949559324</td>\n",
       "      <td>0.12011420504406795</td>\n",
       "    </tr>\n",
       "    <tr>\n",
       "      <th>6</th>\n",
       "      <td>Tom Decides on his Course--Old Scenes Re-enacted  CHAPTER IX.</td>\n",
       "      <td>pos</td>\n",
       "      <td>0.6884738251434638</td>\n",
       "      <td>0.31152617485653616</td>\n",
       "    </tr>\n",
       "    <tr>\n",
       "      <th>7</th>\n",
       "      <td>A Solemn Situation--Grave Subjects Introduced--Injun Joe Explains  CHAPTER X.</td>\n",
       "      <td>pos</td>\n",
       "      <td>0.8785080922486406</td>\n",
       "      <td>0.1214919077513597</td>\n",
       "    </tr>\n",
       "    <tr>\n",
       "      <th>8</th>\n",
       "      <td>The Solemn Oath--Terror Brings Repentance--Mental Punishment  CHAPTER XI.</td>\n",
       "      <td>pos</td>\n",
       "      <td>0.9732887240510633</td>\n",
       "      <td>0.02671127594893424</td>\n",
       "    </tr>\n",
       "    <tr>\n",
       "      <th>9</th>\n",
       "      <td>Muff Potter Comes Himself--Tom’s Conscience at Work  CHAPTER XII.</td>\n",
       "      <td>pos</td>\n",
       "      <td>0.9101754203229224</td>\n",
       "      <td>0.08982457967707706</td>\n",
       "    </tr>\n",
       "  </tbody>\n",
       "</table>\n",
       "</div>"
      ],
      "text/plain": [
       "                                                                                                                                                                                                  sentence  \\\n",
       "0  ﻿Produced by David Widger      THE ADVENTURES OF TOM SAWYER  By Mark Twain  (Samuel Langhorne Clemens)     CONTENTS  CHAPTER I. Y-o-u-u Tom-Aunt Polly Decides Upon her Duty--Tom Practices Music--T...   \n",
       "1                                                                                                                            Strong Temptations--Strategic Movements--The Innocents Beguiled  CHAPTER III.   \n",
       "2                                                                                                              Tom as a General--Triumph and Reward--Dismal Felicity--Commission and Omission  CHAPTER IV.   \n",
       "3                                           Mental Acrobatics--Attending Sunday--School--The Superintendent--“Showing off”--Tom Lionized  CHAPTER V. A Useful Minister--In Church--The Climax  CHAPTER VI.   \n",
       "4                                                                                      Self-Examination--Dentistry--The Midnight Charm--Witches and Devils--Cautious Approaches--Happy Hours  CHAPTER VII.   \n",
       "5                                                                                                                                      A Treaty Entered Into--Early Lessons--A Mistake Made  CHAPTER VIII.   \n",
       "6                                                                                                                                            Tom Decides on his Course--Old Scenes Re-enacted  CHAPTER IX.   \n",
       "7                                                                                                                            A Solemn Situation--Grave Subjects Introduced--Injun Joe Explains  CHAPTER X.   \n",
       "8                                                                                                                                The Solemn Oath--Terror Brings Repentance--Mental Punishment  CHAPTER XI.   \n",
       "9                                                                                                                                        Muff Potter Comes Himself--Tom’s Conscience at Work  CHAPTER XII.   \n",
       "\n",
       "  classification        prob_positive          prob_negative  \n",
       "0            pos   0.9985208231917111  0.0014791768082850721  \n",
       "1            neg  0.08856009968245544     0.9114399003175435  \n",
       "2            pos   0.9870178445530222   0.012982155446978472  \n",
       "3            neg  0.47153533909631573     0.5284646609036879  \n",
       "4            pos    0.920823878974303    0.07917612102570033  \n",
       "5            pos   0.8798857949559324    0.12011420504406795  \n",
       "6            pos   0.6884738251434638    0.31152617485653616  \n",
       "7            pos   0.8785080922486406     0.1214919077513597  \n",
       "8            pos   0.9732887240510633    0.02671127594893424  \n",
       "9            pos   0.9101754203229224    0.08982457967707706  "
      ]
     },
     "execution_count": 45,
     "metadata": {},
     "output_type": "execute_result"
    }
   ],
   "source": [
    "NaiveBayesAnalyzerDF.head(10)"
   ]
  },
  {
   "cell_type": "markdown",
   "metadata": {},
   "source": [
    "### PatternAnalyzer"
   ]
  },
  {
   "cell_type": "markdown",
   "metadata": {},
   "source": [
    "#### Most positive sentences in the book"
   ]
  },
  {
   "cell_type": "code",
   "execution_count": 46,
   "metadata": {},
   "outputs": [
    {
     "data": {
      "text/html": [
       "<div>\n",
       "<style scoped>\n",
       "    .dataframe tbody tr th:only-of-type {\n",
       "        vertical-align: middle;\n",
       "    }\n",
       "\n",
       "    .dataframe tbody tr th {\n",
       "        vertical-align: top;\n",
       "    }\n",
       "\n",
       "    .dataframe thead th {\n",
       "        text-align: right;\n",
       "    }\n",
       "</style>\n",
       "<table border=\"1\" class=\"dataframe\">\n",
       "  <thead>\n",
       "    <tr style=\"text-align: right;\">\n",
       "      <th></th>\n",
       "      <th>sentence</th>\n",
       "      <th>polarity</th>\n",
       "      <th>subjectivity</th>\n",
       "    </tr>\n",
       "  </thead>\n",
       "  <tbody>\n",
       "    <tr>\n",
       "      <th>2565</th>\n",
       "      <td>He always divided up with ‘em perfectly square.”  “Well, he must ‘a’ been a brick.”  “I bet you he was, Huck.</td>\n",
       "      <td>1.0</td>\n",
       "      <td>1.00</td>\n",
       "    </tr>\n",
       "    <tr>\n",
       "      <th>1368</th>\n",
       "      <td>“I know you was meaning for the best, aunty, and so was I with Peter.</td>\n",
       "      <td>1.0</td>\n",
       "      <td>0.30</td>\n",
       "    </tr>\n",
       "    <tr>\n",
       "      <th>2978</th>\n",
       "      <td>There was no sound--the stillness was perfect.</td>\n",
       "      <td>1.0</td>\n",
       "      <td>1.00</td>\n",
       "    </tr>\n",
       "    <tr>\n",
       "      <th>2560</th>\n",
       "      <td>Who’s Robin Hood?”  “Why, he was one of the greatest men that was ever in England--and the best.</td>\n",
       "      <td>1.0</td>\n",
       "      <td>0.65</td>\n",
       "    </tr>\n",
       "    <tr>\n",
       "      <th>2672</th>\n",
       "      <td>by the great Sachem, no!</td>\n",
       "      <td>1.0</td>\n",
       "      <td>0.75</td>\n",
       "    </tr>\n",
       "    <tr>\n",
       "      <th>412</th>\n",
       "      <td>When they came to recite their lessons, not one of them knew his verses perfectly, but had to be prompted all along.</td>\n",
       "      <td>1.0</td>\n",
       "      <td>1.00</td>\n",
       "    </tr>\n",
       "    <tr>\n",
       "      <th>1522</th>\n",
       "      <td>They fried the fish with the bacon, and were astonished; for no fish had ever seemed so delicious before.</td>\n",
       "      <td>1.0</td>\n",
       "      <td>1.00</td>\n",
       "    </tr>\n",
       "    <tr>\n",
       "      <th>908</th>\n",
       "      <td>He put his hand there and uttered this incantation impressively:  “What hasn’t come here, come!</td>\n",
       "      <td>1.0</td>\n",
       "      <td>1.00</td>\n",
       "    </tr>\n",
       "    <tr>\n",
       "      <th>508</th>\n",
       "      <td>He was regarded as a wonderful reader.</td>\n",
       "      <td>1.0</td>\n",
       "      <td>1.00</td>\n",
       "    </tr>\n",
       "    <tr>\n",
       "      <th>2758</th>\n",
       "      <td>He found that in the best tavern, No.</td>\n",
       "      <td>1.0</td>\n",
       "      <td>0.30</td>\n",
       "    </tr>\n",
       "  </tbody>\n",
       "</table>\n",
       "</div>"
      ],
      "text/plain": [
       "                                                                                                                  sentence  \\\n",
       "2565         He always divided up with ‘em perfectly square.”  “Well, he must ‘a’ been a brick.”  “I bet you he was, Huck.   \n",
       "1368                                                 “I know you was meaning for the best, aunty, and so was I with Peter.   \n",
       "2978                                                                        There was no sound--the stillness was perfect.   \n",
       "2560                      Who’s Robin Hood?”  “Why, he was one of the greatest men that was ever in England--and the best.   \n",
       "2672                                                                                              by the great Sachem, no!   \n",
       "412   When they came to recite their lessons, not one of them knew his verses perfectly, but had to be prompted all along.   \n",
       "1522             They fried the fish with the bacon, and were astonished; for no fish had ever seemed so delicious before.   \n",
       "908                        He put his hand there and uttered this incantation impressively:  “What hasn’t come here, come!   \n",
       "508                                                                                 He was regarded as a wonderful reader.   \n",
       "2758                                                                                 He found that in the best tavern, No.   \n",
       "\n",
       "      polarity  subjectivity  \n",
       "2565       1.0          1.00  \n",
       "1368       1.0          0.30  \n",
       "2978       1.0          1.00  \n",
       "2560       1.0          0.65  \n",
       "2672       1.0          0.75  \n",
       "412        1.0          1.00  \n",
       "1522       1.0          1.00  \n",
       "908        1.0          1.00  \n",
       "508        1.0          1.00  \n",
       "2758       1.0          0.30  "
      ]
     },
     "execution_count": 46,
     "metadata": {},
     "output_type": "execute_result"
    }
   ],
   "source": [
    "PatternAnalyzerDF.sort_values(by='polarity', ascending=False, inplace=True)\n",
    "PatternAnalyzerDF.head(10)"
   ]
  },
  {
   "cell_type": "markdown",
   "metadata": {},
   "source": [
    "#### Most negative sentences in the book"
   ]
  },
  {
   "cell_type": "code",
   "execution_count": 47,
   "metadata": {},
   "outputs": [
    {
     "data": {
      "text/html": [
       "<div>\n",
       "<style scoped>\n",
       "    .dataframe tbody tr th:only-of-type {\n",
       "        vertical-align: middle;\n",
       "    }\n",
       "\n",
       "    .dataframe tbody tr th {\n",
       "        vertical-align: top;\n",
       "    }\n",
       "\n",
       "    .dataframe thead th {\n",
       "        text-align: right;\n",
       "    }\n",
       "</style>\n",
       "<table border=\"1\" class=\"dataframe\">\n",
       "  <thead>\n",
       "    <tr style=\"text-align: right;\">\n",
       "      <th></th>\n",
       "      <th>sentence</th>\n",
       "      <th>polarity</th>\n",
       "      <th>subjectivity</th>\n",
       "    </tr>\n",
       "  </thead>\n",
       "  <tbody>\n",
       "    <tr>\n",
       "      <th>2531</th>\n",
       "      <td>It’s awful.”  “Well, it just is.</td>\n",
       "      <td>-1.0</td>\n",
       "      <td>1.0</td>\n",
       "    </tr>\n",
       "    <tr>\n",
       "      <th>3494</th>\n",
       "      <td>It’s an awful snug place for orgies.”  “What orgies?”  “I dono.</td>\n",
       "      <td>-1.0</td>\n",
       "      <td>1.0</td>\n",
       "    </tr>\n",
       "    <tr>\n",
       "      <th>1303</th>\n",
       "      <td>He began to find himself hanging around her father’s house, nights, and feeling very miserable.</td>\n",
       "      <td>-1.0</td>\n",
       "      <td>1.0</td>\n",
       "    </tr>\n",
       "    <tr>\n",
       "      <th>1241</th>\n",
       "      <td>Tom’s heartbreak vanished and he joined the procession, not because he would not a thousand times rather go anywhere else, but because an awful, unaccountable fascination drew him on.</td>\n",
       "      <td>-1.0</td>\n",
       "      <td>1.0</td>\n",
       "    </tr>\n",
       "    <tr>\n",
       "      <th>2633</th>\n",
       "      <td>Injun Joe sat up, stared around--smiled grimly upon his comrade, whose head was drooping upon his knees--stirred him up with his foot and said:  “Here!</td>\n",
       "      <td>-1.0</td>\n",
       "      <td>1.0</td>\n",
       "    </tr>\n",
       "    <tr>\n",
       "      <th>189</th>\n",
       "      <td>She talks awful, but talk don’t hurt--anyways it don’t if she don’t cry.</td>\n",
       "      <td>-1.0</td>\n",
       "      <td>1.0</td>\n",
       "    </tr>\n",
       "    <tr>\n",
       "      <th>1283</th>\n",
       "      <td>It’s that dreadful murder.</td>\n",
       "      <td>-1.0</td>\n",
       "      <td>1.0</td>\n",
       "    </tr>\n",
       "    <tr>\n",
       "      <th>1260</th>\n",
       "      <td>Potter lifted his face and looked around him with a pathetic hopelessness in his eyes.</td>\n",
       "      <td>-1.0</td>\n",
       "      <td>1.0</td>\n",
       "    </tr>\n",
       "    <tr>\n",
       "      <th>2734</th>\n",
       "      <td>Oh, ain’t it awful!”  “‘Tain’t a dream, then, ‘tain’t a dream!</td>\n",
       "      <td>-1.0</td>\n",
       "      <td>1.0</td>\n",
       "    </tr>\n",
       "    <tr>\n",
       "      <th>552</th>\n",
       "      <td>CHAPTER VI  MONDAY morning found Tom Sawyer miserable.</td>\n",
       "      <td>-1.0</td>\n",
       "      <td>1.0</td>\n",
       "    </tr>\n",
       "  </tbody>\n",
       "</table>\n",
       "</div>"
      ],
      "text/plain": [
       "                                                                                                                                                                                     sentence  \\\n",
       "2531                                                                                                                                                         It’s awful.”  “Well, it just is.   \n",
       "3494                                                                                                                          It’s an awful snug place for orgies.”  “What orgies?”  “I dono.   \n",
       "1303                                                                                          He began to find himself hanging around her father’s house, nights, and feeling very miserable.   \n",
       "1241  Tom’s heartbreak vanished and he joined the procession, not because he would not a thousand times rather go anywhere else, but because an awful, unaccountable fascination drew him on.   \n",
       "2633                                  Injun Joe sat up, stared around--smiled grimly upon his comrade, whose head was drooping upon his knees--stirred him up with his foot and said:  “Here!   \n",
       "189                                                                                                                  She talks awful, but talk don’t hurt--anyways it don’t if she don’t cry.   \n",
       "1283                                                                                                                                                               It’s that dreadful murder.   \n",
       "1260                                                                                                   Potter lifted his face and looked around him with a pathetic hopelessness in his eyes.   \n",
       "2734                                                                                                                           Oh, ain’t it awful!”  “‘Tain’t a dream, then, ‘tain’t a dream!   \n",
       "552                                                                                                                                    CHAPTER VI  MONDAY morning found Tom Sawyer miserable.   \n",
       "\n",
       "      polarity  subjectivity  \n",
       "2531      -1.0           1.0  \n",
       "3494      -1.0           1.0  \n",
       "1303      -1.0           1.0  \n",
       "1241      -1.0           1.0  \n",
       "2633      -1.0           1.0  \n",
       "189       -1.0           1.0  \n",
       "1283      -1.0           1.0  \n",
       "1260      -1.0           1.0  \n",
       "2734      -1.0           1.0  \n",
       "552       -1.0           1.0  "
      ]
     },
     "execution_count": 47,
     "metadata": {},
     "output_type": "execute_result"
    }
   ],
   "source": [
    "PatternAnalyzerDF.sort_values(by='polarity', ascending=True, inplace=True)\n",
    "PatternAnalyzerDF.head(10)"
   ]
  },
  {
   "cell_type": "markdown",
   "metadata": {},
   "source": [
    "### NaiveBayesAnalyzer"
   ]
  },
  {
   "cell_type": "markdown",
   "metadata": {},
   "source": [
    "#### Most positive sentences in the book"
   ]
  },
  {
   "cell_type": "code",
   "execution_count": 48,
   "metadata": {},
   "outputs": [],
   "source": [
    "pd.set_option('display.max_colwidth', 500)"
   ]
  },
  {
   "cell_type": "code",
   "execution_count": 49,
   "metadata": {},
   "outputs": [
    {
     "data": {
      "text/html": [
       "<div>\n",
       "<style scoped>\n",
       "    .dataframe tbody tr th:only-of-type {\n",
       "        vertical-align: middle;\n",
       "    }\n",
       "\n",
       "    .dataframe tbody tr th {\n",
       "        vertical-align: top;\n",
       "    }\n",
       "\n",
       "    .dataframe thead th {\n",
       "        text-align: right;\n",
       "    }\n",
       "</style>\n",
       "<table border=\"1\" class=\"dataframe\">\n",
       "  <thead>\n",
       "    <tr style=\"text-align: right;\">\n",
       "      <th></th>\n",
       "      <th>sentence</th>\n",
       "      <th>classification</th>\n",
       "      <th>prob_positive</th>\n",
       "      <th>prob_negative</th>\n",
       "    </tr>\n",
       "  </thead>\n",
       "  <tbody>\n",
       "    <tr>\n",
       "      <th>35</th>\n",
       "      <td>Cat and Toys  Amusement  Becky Thatcher  Paying Off  After the Battle  “Showing Off”  Not Amiss  Mary  Tom Contemplating  Dampened Ardor  Youth  Boyhood  Using the “Barlow”  The Church  Necessities  Tom as a Sunday-School Hero      The Prize  At Church  The Model Boy  The Church Choir  A Side Show  Result of Playing in Church  The Pinch-Bug  Sid  Dentistry  Huckleberry Finn  Mother Hopkins  Result of Tom’s Truthfulness  Tom as an Artist  Interrupted Courtship  The Master  Vain Pleading  Tail...</td>\n",
       "      <td>pos</td>\n",
       "      <td>0.9999999192209209</td>\n",
       "      <td>8.077908616684807e-08</td>\n",
       "    </tr>\n",
       "    <tr>\n",
       "      <th>2201</th>\n",
       "      <td>“Friendship” was one; “Memories of Other Days”; “Religion in History”; “Dream Land”; “The Advantages of Culture”; “Forms of Political Government Compared and Contrasted”; “Melancholy”; “Filial Love”; “Heart Longings,” etc., etc.</td>\n",
       "      <td>pos</td>\n",
       "      <td>0.9999998876351395</td>\n",
       "      <td>1.1236485693742434e-07</td>\n",
       "    </tr>\n",
       "    <tr>\n",
       "      <th>37</th>\n",
       "      <td>2  The Next Day’s Conference  Treasures  Uncle Jake  Buck at Home  The Haunted Room  “Run for Your Life”  McDougal’s Cave  Inside the Cave  Huck on Duty  A Rousing Act  Tail Piece  The Welchman  Result of a Sneeze  Cornered  Alarming Discoveries  Tom and Becky stir up the Town  Tom’s Marks  Huck Questions the Widow  Vampires  Wonders of the Cave  Attacked by Natives  Despair  The Wedding Cake  A New Terror  Daylight  “Turn Out” to Receive Tom and Becky  The Escape from the Cave  Fate of the ...</td>\n",
       "      <td>pos</td>\n",
       "      <td>0.999995946660294</td>\n",
       "      <td>4.053339705113446e-06</td>\n",
       "    </tr>\n",
       "    <tr>\n",
       "      <th>464</th>\n",
       "      <td>The boys were all eaten up with envy--but those that suffered the bitterest pangs were those who perceived too late that they themselves had contributed to this hated splendor by trading tickets to Tom for the wealth he had amassed in selling whitewashing privileges.</td>\n",
       "      <td>pos</td>\n",
       "      <td>0.999982418834017</td>\n",
       "      <td>1.758116598274971e-05</td>\n",
       "    </tr>\n",
       "    <tr>\n",
       "      <th>2230</th>\n",
       "      <td>A strange sadness rested upon her features, like icy tears upon the robe of December, as she pointed to the contending elements without, and bade me contemplate the two beings presented.”  This nightmare occupied some ten pages of manuscript and wound up with a sermon so destructive of all hope to non-Presbyterians that it took the first prize.</td>\n",
       "      <td>pos</td>\n",
       "      <td>0.9999774810088469</td>\n",
       "      <td>2.2518991145543196e-05</td>\n",
       "    </tr>\n",
       "    <tr>\n",
       "      <th>1562</th>\n",
       "      <td>Here was a gorgeous triumph; they were missed; they were mourned; hearts were breaking on their account; tears were being shed; accusing memories of unkindness to these poor lost lads were rising up, and unavailing regrets and remorse were being indulged; and best of all, the departed were the talk of the whole town, and the envy of all the boys, as far as this dazzling notoriety was concerned.</td>\n",
       "      <td>pos</td>\n",
       "      <td>0.9999525636860059</td>\n",
       "      <td>4.7436313984835424e-05</td>\n",
       "    </tr>\n",
       "    <tr>\n",
       "      <th>760</th>\n",
       "      <td>Now let me.”  “Oh, _you_ don’t want to see!”  “Now that you treat me so, I _will_ see.” And she put her small hand upon his and a little scuffle ensued, Tom pretending to resist in earnest but letting his hand slip by degrees till these words were revealed: “_I love you_.”  “Oh, you bad thing!” And she hit his hand a smart rap, but reddened and looked pleased, nevertheless.</td>\n",
       "      <td>pos</td>\n",
       "      <td>0.9999419772881165</td>\n",
       "      <td>5.802271188678085e-05</td>\n",
       "    </tr>\n",
       "    <tr>\n",
       "      <th>482</th>\n",
       "      <td>And you never can be sorry for the trouble you took to learn them; for knowledge is worth more than anything there is in the world; it’s what makes great men and good men; you’ll be a great man and a good man yourself, some day, Thomas, and then you’ll look back and say, It’s all owing to the precious Sunday-school privileges of my boyhood--it’s all owing to my dear teachers that taught me to learn--it’s all owing to the good superintendent, who encouraged me, and watched over me, and gave m...</td>\n",
       "      <td>pos</td>\n",
       "      <td>0.9999061213332933</td>\n",
       "      <td>9.38786667096185e-05</td>\n",
       "    </tr>\n",
       "    <tr>\n",
       "      <th>507</th>\n",
       "      <td>His voice began on a medium key and climbed steadily up till it reached a certain point, where it bore with strong emphasis upon the topmost word and then plunged down as if from a spring-board:  Shall I be car-ri-ed toe the skies, on flow’ry _beds_ of ease,  Whilst others fight to win the prize, and sail thro’ _blood_-y seas?</td>\n",
       "      <td>pos</td>\n",
       "      <td>0.9998804877356615</td>\n",
       "      <td>0.00011951226433044352</td>\n",
       "    </tr>\n",
       "    <tr>\n",
       "      <th>513</th>\n",
       "      <td>A good, generous prayer it was, and went into details: it pleaded for the church, and the little children of the church; for the other churches of the village; for the village itself; for the county; for the State; for the State officers; for the United States; for the churches of the United States; for Congress; for the President; for the officers of the Government; for poor sailors, tossed by stormy seas; for the oppressed millions groaning under the heel of European monarchies and Orienta...</td>\n",
       "      <td>pos</td>\n",
       "      <td>0.9998547551781533</td>\n",
       "      <td>0.00014524482185403797</td>\n",
       "    </tr>\n",
       "  </tbody>\n",
       "</table>\n",
       "</div>"
      ],
      "text/plain": [
       "                                                                                                                                                                                                                                                                                                                                                                                                                                                                                                                 sentence  \\\n",
       "35    Cat and Toys  Amusement  Becky Thatcher  Paying Off  After the Battle  “Showing Off”  Not Amiss  Mary  Tom Contemplating  Dampened Ardor  Youth  Boyhood  Using the “Barlow”  The Church  Necessities  Tom as a Sunday-School Hero      The Prize  At Church  The Model Boy  The Church Choir  A Side Show  Result of Playing in Church  The Pinch-Bug  Sid  Dentistry  Huckleberry Finn  Mother Hopkins  Result of Tom’s Truthfulness  Tom as an Artist  Interrupted Courtship  The Master  Vain Pleading  Tail...   \n",
       "2201                                                                                                                                                                                                                                                                                 “Friendship” was one; “Memories of Other Days”; “Religion in History”; “Dream Land”; “The Advantages of Culture”; “Forms of Political Government Compared and Contrasted”; “Melancholy”; “Filial Love”; “Heart Longings,” etc., etc.   \n",
       "37    2  The Next Day’s Conference  Treasures  Uncle Jake  Buck at Home  The Haunted Room  “Run for Your Life”  McDougal’s Cave  Inside the Cave  Huck on Duty  A Rousing Act  Tail Piece  The Welchman  Result of a Sneeze  Cornered  Alarming Discoveries  Tom and Becky stir up the Town  Tom’s Marks  Huck Questions the Widow  Vampires  Wonders of the Cave  Attacked by Natives  Despair  The Wedding Cake  A New Terror  Daylight  “Turn Out” to Receive Tom and Becky  The Escape from the Cave  Fate of the ...   \n",
       "464                                                                                                                                                                                                                                           The boys were all eaten up with envy--but those that suffered the bitterest pangs were those who perceived too late that they themselves had contributed to this hated splendor by trading tickets to Tom for the wealth he had amassed in selling whitewashing privileges.   \n",
       "2230                                                                                                                                                           A strange sadness rested upon her features, like icy tears upon the robe of December, as she pointed to the contending elements without, and bade me contemplate the two beings presented.”  This nightmare occupied some ten pages of manuscript and wound up with a sermon so destructive of all hope to non-Presbyterians that it took the first prize.   \n",
       "1562                                                                                                        Here was a gorgeous triumph; they were missed; they were mourned; hearts were breaking on their account; tears were being shed; accusing memories of unkindness to these poor lost lads were rising up, and unavailing regrets and remorse were being indulged; and best of all, the departed were the talk of the whole town, and the envy of all the boys, as far as this dazzling notoriety was concerned.   \n",
       "760                                                                                                                              Now let me.”  “Oh, _you_ don’t want to see!”  “Now that you treat me so, I _will_ see.” And she put her small hand upon his and a little scuffle ensued, Tom pretending to resist in earnest but letting his hand slip by degrees till these words were revealed: “_I love you_.”  “Oh, you bad thing!” And she hit his hand a smart rap, but reddened and looked pleased, nevertheless.   \n",
       "482   And you never can be sorry for the trouble you took to learn them; for knowledge is worth more than anything there is in the world; it’s what makes great men and good men; you’ll be a great man and a good man yourself, some day, Thomas, and then you’ll look back and say, It’s all owing to the precious Sunday-school privileges of my boyhood--it’s all owing to my dear teachers that taught me to learn--it’s all owing to the good superintendent, who encouraged me, and watched over me, and gave m...   \n",
       "507                                                                                                                                                                              His voice began on a medium key and climbed steadily up till it reached a certain point, where it bore with strong emphasis upon the topmost word and then plunged down as if from a spring-board:  Shall I be car-ri-ed toe the skies, on flow’ry _beds_ of ease,  Whilst others fight to win the prize, and sail thro’ _blood_-y seas?   \n",
       "513   A good, generous prayer it was, and went into details: it pleaded for the church, and the little children of the church; for the other churches of the village; for the village itself; for the county; for the State; for the State officers; for the United States; for the churches of the United States; for Congress; for the President; for the officers of the Government; for poor sailors, tossed by stormy seas; for the oppressed millions groaning under the heel of European monarchies and Orienta...   \n",
       "\n",
       "     classification       prob_positive           prob_negative  \n",
       "35              pos  0.9999999192209209   8.077908616684807e-08  \n",
       "2201            pos  0.9999998876351395  1.1236485693742434e-07  \n",
       "37              pos   0.999995946660294   4.053339705113446e-06  \n",
       "464             pos   0.999982418834017   1.758116598274971e-05  \n",
       "2230            pos  0.9999774810088469  2.2518991145543196e-05  \n",
       "1562            pos  0.9999525636860059  4.7436313984835424e-05  \n",
       "760             pos  0.9999419772881165   5.802271188678085e-05  \n",
       "482             pos  0.9999061213332933    9.38786667096185e-05  \n",
       "507             pos  0.9998804877356615  0.00011951226433044352  \n",
       "513             pos  0.9998547551781533  0.00014524482185403797  "
      ]
     },
     "execution_count": 49,
     "metadata": {},
     "output_type": "execute_result"
    }
   ],
   "source": [
    "NaiveBayesAnalyzerDF.sort_values(by='prob_positive', ascending=False, inplace=True)\n",
    "NaiveBayesAnalyzerDF.head(10)"
   ]
  },
  {
   "cell_type": "markdown",
   "metadata": {},
   "source": [
    "#### Most negative sentences in the book"
   ]
  },
  {
   "cell_type": "code",
   "execution_count": 50,
   "metadata": {},
   "outputs": [
    {
     "data": {
      "text/html": [
       "<div>\n",
       "<style scoped>\n",
       "    .dataframe tbody tr th:only-of-type {\n",
       "        vertical-align: middle;\n",
       "    }\n",
       "\n",
       "    .dataframe tbody tr th {\n",
       "        vertical-align: top;\n",
       "    }\n",
       "\n",
       "    .dataframe thead th {\n",
       "        text-align: right;\n",
       "    }\n",
       "</style>\n",
       "<table border=\"1\" class=\"dataframe\">\n",
       "  <thead>\n",
       "    <tr style=\"text-align: right;\">\n",
       "      <th></th>\n",
       "      <th>sentence</th>\n",
       "      <th>classification</th>\n",
       "      <th>prob_positive</th>\n",
       "      <th>prob_negative</th>\n",
       "    </tr>\n",
       "  </thead>\n",
       "  <tbody>\n",
       "    <tr>\n",
       "      <th>3479</th>\n",
       "      <td>Tom turned a short curve, by-and-by, and exclaimed:  “My goodness, Huck, lookyhere!”  It was the treasure-box, sure enough, occupying a snug little cavern, along with an empty powder-keg, a couple of guns in leather cases, two or three pairs of old moccasins, a leather belt, and some other rubbish well soaked with the water-drip.</td>\n",
       "      <td>neg</td>\n",
       "      <td>0.0013701478849224079</td>\n",
       "      <td>0.9986298521150815</td>\n",
       "    </tr>\n",
       "    <tr>\n",
       "      <th>1421</th>\n",
       "      <td>Give the countersign.”  Two hoarse whispers delivered the same awful word simultaneously to the brooding night:  “_Blood_!”  Then Tom tumbled his ham over the bluff and let himself down after it, tearing both skin and clothes to some extent in the effort.</td>\n",
       "      <td>neg</td>\n",
       "      <td>0.004073544991534524</td>\n",
       "      <td>0.9959264550084664</td>\n",
       "    </tr>\n",
       "    <tr>\n",
       "      <th>3625</th>\n",
       "      <td>The widder wouldn’t let me smoke; she wouldn’t let me yell, she wouldn’t let me gape, nor stretch, nor scratch, before folks--” [Then with a spasm of special irritation and injury]--“And dad fetch it, she prayed all the time!</td>\n",
       "      <td>neg</td>\n",
       "      <td>0.004157579594040952</td>\n",
       "      <td>0.9958424204059585</td>\n",
       "    </tr>\n",
       "    <tr>\n",
       "      <th>2656</th>\n",
       "      <td>There’s an old rusty pick over amongst the weeds in the corner the other side of the fireplace--I saw it a minute ago.”  He ran and brought the boys’ pick and shovel.</td>\n",
       "      <td>neg</td>\n",
       "      <td>0.0044252400993337795</td>\n",
       "      <td>0.9955747599006637</td>\n",
       "    </tr>\n",
       "    <tr>\n",
       "      <th>548</th>\n",
       "      <td>The discourse was resumed presently, but it went lame and halting, all possibility of impressiveness being at an end; for even the gravest sentiments were constantly being received with a smothered burst of unholy mirth, under cover of some remote pew-back, as if the poor parson had said a rarely facetious thing.</td>\n",
       "      <td>neg</td>\n",
       "      <td>0.005500961258823734</td>\n",
       "      <td>0.9944990387411757</td>\n",
       "    </tr>\n",
       "    <tr>\n",
       "      <th>2633</th>\n",
       "      <td>Injun Joe sat up, stared around--smiled grimly upon his comrade, whose head was drooping upon his knees--stirred him up with his foot and said:  “Here!</td>\n",
       "      <td>neg</td>\n",
       "      <td>0.005840661194277894</td>\n",
       "      <td>0.994159338805723</td>\n",
       "    </tr>\n",
       "    <tr>\n",
       "      <th>2289</th>\n",
       "      <td>It might have seemed to him a waste of pomp and ammunition to kill a bug with a battery of artillery, but there seemed nothing incongruous about the getting up such an expensive thunderstorm as this to knock the turf from under an insect like himself.</td>\n",
       "      <td>neg</td>\n",
       "      <td>0.0064311509381891315</td>\n",
       "      <td>0.9935688490618073</td>\n",
       "    </tr>\n",
       "    <tr>\n",
       "      <th>955</th>\n",
       "      <td>And at last Joe, representing a whole tribe of weeping outlaws, dragged him sadly forth, gave his bow into his feeble hands, and Tom said, “Where this arrow falls, there bury poor Robin Hood under the greenwood tree.” Then he shot the arrow and fell back and would have died, but he lit on a nettle and sprang up too gaily for a corpse.</td>\n",
       "      <td>neg</td>\n",
       "      <td>0.006866645064935573</td>\n",
       "      <td>0.9931333549350698</td>\n",
       "    </tr>\n",
       "    <tr>\n",
       "      <th>1087</th>\n",
       "      <td>Oh, it’s awful--and him so young and promising.”  “Why, you two was scuffling, and he fetched you one with the headboard and you fell flat; and then up you come, all reeling and staggering like, and snatched the knife and jammed it into him, just as he fetched you another awful clip--and here you’ve laid, as dead as a wedge til now.”  “Oh, I didn’t know what I was a-doing.</td>\n",
       "      <td>neg</td>\n",
       "      <td>0.009215581883401104</td>\n",
       "      <td>0.9907844181165951</td>\n",
       "    </tr>\n",
       "    <tr>\n",
       "      <th>1063</th>\n",
       "      <td>Potter dropped his knife, and exclaimed:  “Here, now, don’t you hit my pard!” and the next moment he had grappled with the doctor and the two were struggling with might and main, trampling the grass and tearing the ground with their heels.</td>\n",
       "      <td>neg</td>\n",
       "      <td>0.011120188700934458</td>\n",
       "      <td>0.9888798112990681</td>\n",
       "    </tr>\n",
       "  </tbody>\n",
       "</table>\n",
       "</div>"
      ],
      "text/plain": [
       "                                                                                                                                                                                                                                                                                                                                                                                     sentence  \\\n",
       "3479                                              Tom turned a short curve, by-and-by, and exclaimed:  “My goodness, Huck, lookyhere!”  It was the treasure-box, sure enough, occupying a snug little cavern, along with an empty powder-keg, a couple of guns in leather cases, two or three pairs of old moccasins, a leather belt, and some other rubbish well soaked with the water-drip.   \n",
       "1421                                                                                                                          Give the countersign.”  Two hoarse whispers delivered the same awful word simultaneously to the brooding night:  “_Blood_!”  Then Tom tumbled his ham over the bluff and let himself down after it, tearing both skin and clothes to some extent in the effort.   \n",
       "3625                                                                                                                                                        The widder wouldn’t let me smoke; she wouldn’t let me yell, she wouldn’t let me gape, nor stretch, nor scratch, before folks--” [Then with a spasm of special irritation and injury]--“And dad fetch it, she prayed all the time!   \n",
       "2656                                                                                                                                                                                                                   There’s an old rusty pick over amongst the weeds in the corner the other side of the fireplace--I saw it a minute ago.”  He ran and brought the boys’ pick and shovel.   \n",
       "548                                                                The discourse was resumed presently, but it went lame and halting, all possibility of impressiveness being at an end; for even the gravest sentiments were constantly being received with a smothered burst of unholy mirth, under cover of some remote pew-back, as if the poor parson had said a rarely facetious thing.   \n",
       "2633                                                                                                                                                                                                                                  Injun Joe sat up, stared around--smiled grimly upon his comrade, whose head was drooping upon his knees--stirred him up with his foot and said:  “Here!   \n",
       "2289                                                                                                                              It might have seemed to him a waste of pomp and ammunition to kill a bug with a battery of artillery, but there seemed nothing incongruous about the getting up such an expensive thunderstorm as this to knock the turf from under an insect like himself.   \n",
       "955                                          And at last Joe, representing a whole tribe of weeping outlaws, dragged him sadly forth, gave his bow into his feeble hands, and Tom said, “Where this arrow falls, there bury poor Robin Hood under the greenwood tree.” Then he shot the arrow and fell back and would have died, but he lit on a nettle and sprang up too gaily for a corpse.   \n",
       "1087  Oh, it’s awful--and him so young and promising.”  “Why, you two was scuffling, and he fetched you one with the headboard and you fell flat; and then up you come, all reeling and staggering like, and snatched the knife and jammed it into him, just as he fetched you another awful clip--and here you’ve laid, as dead as a wedge til now.”  “Oh, I didn’t know what I was a-doing.   \n",
       "1063                                                                                                                                          Potter dropped his knife, and exclaimed:  “Here, now, don’t you hit my pard!” and the next moment he had grappled with the doctor and the two were struggling with might and main, trampling the grass and tearing the ground with their heels.   \n",
       "\n",
       "     classification          prob_positive       prob_negative  \n",
       "3479            neg  0.0013701478849224079  0.9986298521150815  \n",
       "1421            neg   0.004073544991534524  0.9959264550084664  \n",
       "3625            neg   0.004157579594040952  0.9958424204059585  \n",
       "2656            neg  0.0044252400993337795  0.9955747599006637  \n",
       "548             neg   0.005500961258823734  0.9944990387411757  \n",
       "2633            neg   0.005840661194277894   0.994159338805723  \n",
       "2289            neg  0.0064311509381891315  0.9935688490618073  \n",
       "955             neg   0.006866645064935573  0.9931333549350698  \n",
       "1087            neg   0.009215581883401104  0.9907844181165951  \n",
       "1063            neg   0.011120188700934458  0.9888798112990681  "
      ]
     },
     "execution_count": 50,
     "metadata": {},
     "output_type": "execute_result"
    }
   ],
   "source": [
    "NaiveBayesAnalyzerDF.sort_values(by='prob_positive', ascending=True, inplace=True)\n",
    "NaiveBayesAnalyzerDF.head(10)"
   ]
  },
  {
   "cell_type": "markdown",
   "metadata": {},
   "source": [
    "### Plotting sentiment changes in the book as the story unveils"
   ]
  },
  {
   "cell_type": "code",
   "execution_count": 51,
   "metadata": {},
   "outputs": [],
   "source": [
    "PatternAnalyzerDF.sort_index(inplace=True)\n",
    "sentiment_top_df = PatternAnalyzerDF.head(n=200)\n",
    "pd.set_option('display.max_colwidth', 200)\n",
    "#sentiment_df.head(10)"
   ]
  },
  {
   "cell_type": "code",
   "execution_count": 52,
   "metadata": {},
   "outputs": [
    {
     "data": {
      "image/png": "[encoded data removed]",
      "text/plain": [
       "<Figure size 1440x720 with 1 Axes>"
      ]
     },
     "metadata": {
      "needs_background": "light"
     },
     "output_type": "display_data"
    }
   ],
   "source": [
    "plt.figure().set_size_inches(20, 10)\n",
    "plt.plot(sentiment_top_df['polarity'])\n",
    "plt.xlabel('Sentence')\n",
    "plt.ylabel('Polarity')\n",
    "plt.show()"
   ]
  },
  {
   "cell_type": "markdown",
   "metadata": {},
   "source": [
    "## Analyzing Tweets with Python"
   ]
  },
  {
   "cell_type": "code",
   "execution_count": 53,
   "metadata": {},
   "outputs": [],
   "source": [
    "directory = 'https://storage.googleapis.com/msca-bdp-data-open/tweets/'\n",
    "fileName = 'jeep_new.txt'\n",
    "\n",
    "path = directory + fileName\n",
    "\n",
    "tweets = pd.read_csv(path,sep='\\t', names = ['id', 'lang', 'created_at', 'screen_name', \\\n",
    "                                                       'name', 'location', 'retweet_count', 'text'])\n",
    "\n",
    "tweets = tweets.sample(n=1000)"
   ]
  },
  {
   "cell_type": "code",
   "execution_count": 54,
   "metadata": {},
   "outputs": [],
   "source": [
    "pd.set_option('display.max_rows', 10)"
   ]
  },
  {
   "cell_type": "code",
   "execution_count": 55,
   "metadata": {},
   "outputs": [],
   "source": [
    "pd.set_option('display.max_colwidth', 200)"
   ]
  },
  {
   "cell_type": "code",
   "execution_count": 56,
   "metadata": {},
   "outputs": [
    {
     "data": {
      "text/html": [
       "<div>\n",
       "<style scoped>\n",
       "    .dataframe tbody tr th:only-of-type {\n",
       "        vertical-align: middle;\n",
       "    }\n",
       "\n",
       "    .dataframe tbody tr th {\n",
       "        vertical-align: top;\n",
       "    }\n",
       "\n",
       "    .dataframe thead th {\n",
       "        text-align: right;\n",
       "    }\n",
       "</style>\n",
       "<table border=\"1\" class=\"dataframe\">\n",
       "  <thead>\n",
       "    <tr style=\"text-align: right;\">\n",
       "      <th></th>\n",
       "      <th>id</th>\n",
       "      <th>lang</th>\n",
       "      <th>created_at</th>\n",
       "      <th>screen_name</th>\n",
       "      <th>name</th>\n",
       "      <th>location</th>\n",
       "      <th>retweet_count</th>\n",
       "      <th>text</th>\n",
       "    </tr>\n",
       "  </thead>\n",
       "  <tbody>\n",
       "    <tr>\n",
       "      <th>62441</th>\n",
       "      <td>9.238896e+17</td>\n",
       "      <td>tl</td>\n",
       "      <td>Fri Oct 27 12:30:29 +0000 2017</td>\n",
       "      <td>itsmeroseeeeeee</td>\n",
       "      <td>l o s t</td>\n",
       "      <td>NaN</td>\n",
       "      <td>0.0</td>\n",
       "      <td>Nalaglag sa jeep yung liptint ko hayp 😭</td>\n",
       "    </tr>\n",
       "    <tr>\n",
       "      <th>9812</th>\n",
       "      <td>9.221154e+17</td>\n",
       "      <td>es</td>\n",
       "      <td>Sun Oct 22 15:00:22 +0000 2017</td>\n",
       "      <td>emirg_</td>\n",
       "      <td>E 🌻</td>\n",
       "      <td>Ciudad de México</td>\n",
       "      <td>0.0</td>\n",
       "      <td>Me desperté con muchas ganas de saltarme al día en el que me compre mi Jeep.</td>\n",
       "    </tr>\n",
       "    <tr>\n",
       "      <th>61686</th>\n",
       "      <td>9.217568e+17</td>\n",
       "      <td>en</td>\n",
       "      <td>Sat Oct 21 15:15:24 +0000 2017</td>\n",
       "      <td>el_marak</td>\n",
       "      <td>The Silang Marak</td>\n",
       "      <td>India</td>\n",
       "      <td>0.0</td>\n",
       "      <td>RT @Jeep: Get your morning miles in. 📷: @debtenator https://t.co/Y6P4dS0f2c</td>\n",
       "    </tr>\n",
       "    <tr>\n",
       "      <th>26762</th>\n",
       "      <td>9.238521e+17</td>\n",
       "      <td>tl</td>\n",
       "      <td>Fri Oct 27 10:01:18 +0000 2017</td>\n",
       "      <td>mjayd_</td>\n",
       "      <td>jay</td>\n",
       "      <td>LGN-ALBNG</td>\n",
       "      <td>0.0</td>\n",
       "      <td>@maicaloyz i was walking papuntang terminal ng jeep then pagsakay ko ng jeep bukas na bag ko :((((</td>\n",
       "    </tr>\n",
       "    <tr>\n",
       "      <th>36445</th>\n",
       "      <td>9.233378e+17</td>\n",
       "      <td>en</td>\n",
       "      <td>Wed Oct 25 23:57:37 +0000 2017</td>\n",
       "      <td>FourOneFool</td>\n",
       "      <td>April Jester</td>\n",
       "      <td>NaN</td>\n",
       "      <td>0.0</td>\n",
       "      <td>RT @lelandjohansen4: Did my first allignment today... on a Jeep.... holy fucking complicated....</td>\n",
       "    </tr>\n",
       "  </tbody>\n",
       "</table>\n",
       "</div>"
      ],
      "text/plain": [
       "                 id lang                      created_at      screen_name  \\\n",
       "62441  9.238896e+17   tl  Fri Oct 27 12:30:29 +0000 2017  itsmeroseeeeeee   \n",
       "9812   9.221154e+17   es  Sun Oct 22 15:00:22 +0000 2017           emirg_   \n",
       "61686  9.217568e+17   en  Sat Oct 21 15:15:24 +0000 2017         el_marak   \n",
       "26762  9.238521e+17   tl  Fri Oct 27 10:01:18 +0000 2017           mjayd_   \n",
       "36445  9.233378e+17   en  Wed Oct 25 23:57:37 +0000 2017      FourOneFool   \n",
       "\n",
       "                   name          location  retweet_count  \\\n",
       "62441           l o s t               NaN            0.0   \n",
       "9812                E 🌻  Ciudad de México            0.0   \n",
       "61686  The Silang Marak             India            0.0   \n",
       "26762               jay         LGN-ALBNG            0.0   \n",
       "36445      April Jester               NaN            0.0   \n",
       "\n",
       "                                                                                                     text  \n",
       "62441                                                             Nalaglag sa jeep yung liptint ko hayp 😭  \n",
       "9812                         Me desperté con muchas ganas de saltarme al día en el que me compre mi Jeep.  \n",
       "61686                         RT @Jeep: Get your morning miles in. 📷: @debtenator https://t.co/Y6P4dS0f2c  \n",
       "26762  @maicaloyz i was walking papuntang terminal ng jeep then pagsakay ko ng jeep bukas na bag ko :((((  \n",
       "36445    RT @lelandjohansen4: Did my first allignment today... on a Jeep.... holy fucking complicated....  "
      ]
     },
     "execution_count": 56,
     "metadata": {},
     "output_type": "execute_result"
    }
   ],
   "source": [
    "tweets.head(5)"
   ]
  },
  {
   "cell_type": "code",
   "execution_count": 57,
   "metadata": {},
   "outputs": [
    {
     "data": {
      "text/plain": [
       "en     591\n",
       "tl     248\n",
       "es      51\n",
       "und     28\n",
       "ja      24\n",
       "      ... \n",
       "cy       1\n",
       "ht       1\n",
       "et       1\n",
       "eu       1\n",
       "nl       1\n",
       "Name: lang, Length: 21, dtype: int64"
      ]
     },
     "execution_count": 57,
     "metadata": {},
     "output_type": "execute_result"
    }
   ],
   "source": [
    "tweets['lang'].value_counts()"
   ]
  },
  {
   "cell_type": "code",
   "execution_count": 58,
   "metadata": {},
   "outputs": [],
   "source": [
    "# Filter non-English tweets\n",
    "tweets_eng = tweets[tweets['lang']=='en'].reset_index(drop=True)"
   ]
  },
  {
   "cell_type": "code",
   "execution_count": 59,
   "metadata": {},
   "outputs": [],
   "source": [
    "pd.set_option('display.max_colwidth', 50)"
   ]
  },
  {
   "cell_type": "code",
   "execution_count": 60,
   "metadata": {},
   "outputs": [
    {
     "data": {
      "text/html": [
       "<div>\n",
       "<style scoped>\n",
       "    .dataframe tbody tr th:only-of-type {\n",
       "        vertical-align: middle;\n",
       "    }\n",
       "\n",
       "    .dataframe tbody tr th {\n",
       "        vertical-align: top;\n",
       "    }\n",
       "\n",
       "    .dataframe thead th {\n",
       "        text-align: right;\n",
       "    }\n",
       "</style>\n",
       "<table border=\"1\" class=\"dataframe\">\n",
       "  <thead>\n",
       "    <tr style=\"text-align: right;\">\n",
       "      <th></th>\n",
       "      <th>id</th>\n",
       "      <th>lang</th>\n",
       "      <th>created_at</th>\n",
       "      <th>screen_name</th>\n",
       "      <th>name</th>\n",
       "      <th>location</th>\n",
       "      <th>retweet_count</th>\n",
       "      <th>text</th>\n",
       "    </tr>\n",
       "  </thead>\n",
       "  <tbody>\n",
       "    <tr>\n",
       "      <th>0</th>\n",
       "      <td>9.217568e+17</td>\n",
       "      <td>en</td>\n",
       "      <td>Sat Oct 21 15:15:24 +0000 2017</td>\n",
       "      <td>el_marak</td>\n",
       "      <td>The Silang Marak</td>\n",
       "      <td>India</td>\n",
       "      <td>0.0</td>\n",
       "      <td>RT @Jeep: Get your morning miles in. 📷: @debte...</td>\n",
       "    </tr>\n",
       "    <tr>\n",
       "      <th>1</th>\n",
       "      <td>9.233378e+17</td>\n",
       "      <td>en</td>\n",
       "      <td>Wed Oct 25 23:57:37 +0000 2017</td>\n",
       "      <td>FourOneFool</td>\n",
       "      <td>April Jester</td>\n",
       "      <td>NaN</td>\n",
       "      <td>0.0</td>\n",
       "      <td>RT @lelandjohansen4: Did my first allignment t...</td>\n",
       "    </tr>\n",
       "    <tr>\n",
       "      <th>2</th>\n",
       "      <td>9.217544e+17</td>\n",
       "      <td>en</td>\n",
       "      <td>Sat Oct 21 15:05:38 +0000 2017</td>\n",
       "      <td>ZulhilmiHafiz</td>\n",
       "      <td>zh</td>\n",
       "      <td>NaN</td>\n",
       "      <td>0.0</td>\n",
       "      <td>RT @Jeep_Porn: This combo makes a Mean looking...</td>\n",
       "    </tr>\n",
       "    <tr>\n",
       "      <th>3</th>\n",
       "      <td>9.228842e+17</td>\n",
       "      <td>en</td>\n",
       "      <td>Tue Oct 24 17:55:05 +0000 2017</td>\n",
       "      <td>BrewbakerPrattv</td>\n",
       "      <td>Brewbaker Prattville</td>\n",
       "      <td>NaN</td>\n",
       "      <td>0.0</td>\n",
       "      <td>Rise and shine. #jeep #itsajeepthing #jeeplove...</td>\n",
       "    </tr>\n",
       "    <tr>\n",
       "      <th>4</th>\n",
       "      <td>9.232034e+17</td>\n",
       "      <td>en</td>\n",
       "      <td>Wed Oct 25 15:03:33 +0000 2017</td>\n",
       "      <td>rbramlett75443</td>\n",
       "      <td>Bramlett Motors</td>\n",
       "      <td>Hope AR</td>\n",
       "      <td>0.0</td>\n",
       "      <td>Take a glance at this 2017 Jeep Renegade! Now ...</td>\n",
       "    </tr>\n",
       "  </tbody>\n",
       "</table>\n",
       "</div>"
      ],
      "text/plain": [
       "             id lang                      created_at      screen_name  \\\n",
       "0  9.217568e+17   en  Sat Oct 21 15:15:24 +0000 2017         el_marak   \n",
       "1  9.233378e+17   en  Wed Oct 25 23:57:37 +0000 2017      FourOneFool   \n",
       "2  9.217544e+17   en  Sat Oct 21 15:05:38 +0000 2017    ZulhilmiHafiz   \n",
       "3  9.228842e+17   en  Tue Oct 24 17:55:05 +0000 2017  BrewbakerPrattv   \n",
       "4  9.232034e+17   en  Wed Oct 25 15:03:33 +0000 2017   rbramlett75443   \n",
       "\n",
       "                   name location  retweet_count  \\\n",
       "0      The Silang Marak    India            0.0   \n",
       "1          April Jester      NaN            0.0   \n",
       "2                    zh      NaN            0.0   \n",
       "3  Brewbaker Prattville      NaN            0.0   \n",
       "4       Bramlett Motors  Hope AR            0.0   \n",
       "\n",
       "                                                text  \n",
       "0  RT @Jeep: Get your morning miles in. 📷: @debte...  \n",
       "1  RT @lelandjohansen4: Did my first allignment t...  \n",
       "2  RT @Jeep_Porn: This combo makes a Mean looking...  \n",
       "3  Rise and shine. #jeep #itsajeepthing #jeeplove...  \n",
       "4  Take a glance at this 2017 Jeep Renegade! Now ...  "
      ]
     },
     "execution_count": 60,
     "metadata": {},
     "output_type": "execute_result"
    }
   ],
   "source": [
    "tweets_eng.head(5)"
   ]
  },
  {
   "cell_type": "code",
   "execution_count": 61,
   "metadata": {},
   "outputs": [
    {
     "data": {
      "text/plain": [
       "591"
      ]
     },
     "execution_count": 61,
     "metadata": {},
     "output_type": "execute_result"
    }
   ],
   "source": [
    "# Count records \n",
    "len(tweets_eng)"
   ]
  },
  {
   "cell_type": "code",
   "execution_count": 62,
   "metadata": {},
   "outputs": [],
   "source": [
    "# Remove special characters to avoid problems with analysis\n",
    "tweets_eng['text_clean'] = tweets_eng['text'].map(lambda x: re.sub('[^a-zA-Z0-9 @ . , : - _]', '', str(x)))"
   ]
  },
  {
   "cell_type": "code",
   "execution_count": 63,
   "metadata": {},
   "outputs": [
    {
     "data": {
      "text/html": [
       "<div>\n",
       "<style scoped>\n",
       "    .dataframe tbody tr th:only-of-type {\n",
       "        vertical-align: middle;\n",
       "    }\n",
       "\n",
       "    .dataframe tbody tr th {\n",
       "        vertical-align: top;\n",
       "    }\n",
       "\n",
       "    .dataframe thead th {\n",
       "        text-align: right;\n",
       "    }\n",
       "</style>\n",
       "<table border=\"1\" class=\"dataframe\">\n",
       "  <thead>\n",
       "    <tr style=\"text-align: right;\">\n",
       "      <th></th>\n",
       "      <th>text</th>\n",
       "      <th>text_clean</th>\n",
       "    </tr>\n",
       "  </thead>\n",
       "  <tbody>\n",
       "    <tr>\n",
       "      <th>0</th>\n",
       "      <td>RT @Jeep: Get your morning miles in. 📷: @debtenator https://t.co/Y6P4dS0f2c</td>\n",
       "      <td>RT @Jeep: Get your morning miles in. : @debtenator https:t.coY6P4dS0f2c</td>\n",
       "    </tr>\n",
       "    <tr>\n",
       "      <th>1</th>\n",
       "      <td>RT @lelandjohansen4: Did my first allignment today... on a Jeep.... holy fucking complicated....</td>\n",
       "      <td>RT @lelandjohansen4: Did my first allignment today... on a Jeep.... holy fucking complicated....</td>\n",
       "    </tr>\n",
       "    <tr>\n",
       "      <th>2</th>\n",
       "      <td>RT @Jeep_Porn: This combo makes a Mean looking Jeep😈 https://t.co/QRr99J7vYF</td>\n",
       "      <td>RT @Jeep_Porn: This combo makes a Mean looking Jeep https:t.coQRr99J7vYF</td>\n",
       "    </tr>\n",
       "    <tr>\n",
       "      <th>3</th>\n",
       "      <td>Rise and shine. #jeep #itsajeepthing #jeeplove #jeeplife #wrangler #jeepwrangler #jeepfamily #OI...</td>\n",
       "      <td>Rise and shine. jeep itsajeepthing jeeplove jeeplife wrangler jeepwrangler jeepfamily OIIIIIIIO ...</td>\n",
       "    </tr>\n",
       "    <tr>\n",
       "      <th>4</th>\n",
       "      <td>Take a glance at this 2017 Jeep Renegade! Now available, make it yours!: https://t.co/7cKpmGMKYw</td>\n",
       "      <td>Take a glance at this 2017 Jeep Renegade Now available, make it yours: https:t.co7cKpmGMKYw</td>\n",
       "    </tr>\n",
       "  </tbody>\n",
       "</table>\n",
       "</div>"
      ],
      "text/plain": [
       "                                                                                                  text  \\\n",
       "0                          RT @Jeep: Get your morning miles in. 📷: @debtenator https://t.co/Y6P4dS0f2c   \n",
       "1     RT @lelandjohansen4: Did my first allignment today... on a Jeep.... holy fucking complicated....   \n",
       "2                         RT @Jeep_Porn: This combo makes a Mean looking Jeep😈 https://t.co/QRr99J7vYF   \n",
       "3  Rise and shine. #jeep #itsajeepthing #jeeplove #jeeplife #wrangler #jeepwrangler #jeepfamily #OI...   \n",
       "4     Take a glance at this 2017 Jeep Renegade! Now available, make it yours!: https://t.co/7cKpmGMKYw   \n",
       "\n",
       "                                                                                            text_clean  \n",
       "0                              RT @Jeep: Get your morning miles in. : @debtenator https:t.coY6P4dS0f2c  \n",
       "1     RT @lelandjohansen4: Did my first allignment today... on a Jeep.... holy fucking complicated....  \n",
       "2                             RT @Jeep_Porn: This combo makes a Mean looking Jeep https:t.coQRr99J7vYF  \n",
       "3  Rise and shine. jeep itsajeepthing jeeplove jeeplife wrangler jeepwrangler jeepfamily OIIIIIIIO ...  \n",
       "4          Take a glance at this 2017 Jeep Renegade Now available, make it yours: https:t.co7cKpmGMKYw  "
      ]
     },
     "execution_count": 63,
     "metadata": {},
     "output_type": "execute_result"
    }
   ],
   "source": [
    "pd.set_option('display.max_colwidth', 100)\n",
    "tweets_eng[['text', 'text_clean']].head(5)"
   ]
  },
  {
   "cell_type": "code",
   "execution_count": 64,
   "metadata": {},
   "outputs": [],
   "source": [
    "blob = TextBlob(tweets_eng['text_clean'].to_string())"
   ]
  },
  {
   "cell_type": "code",
   "execution_count": 65,
   "metadata": {},
   "outputs": [
    {
     "data": {
      "text/plain": [
       "TextBlob(\"0                                  RT @Jeep: Get your morning miles in. : @debtenator https:t.coY6P4dS0f2c\n",
       "1         RT @lelandjohansen4: Did my first allignment today... on a Jeep.... holy fucking complicated....\n",
       "2                                 RT @Jeep_Porn: This combo makes a Mean looking Jeep https:t.coQRr99J7vYF\n",
       "3      Rise and shine. jeep itsajeepthing jeeplove jeeplife wrangler jeepwrangler jeepfamily OIIIIIIIO ...\n",
       "4              Take a glance at this 2017 Jeep Renegade Now available, make it yours: https:t.co7cKpmGMKYw\n",
       "5                                                        jeep dealership orangecounty https:t.coa8w939ejjn\n",
       "6                                          Indian national dies in jeepbike collision https:t.coV5WNUijEAj\n",
       "7      RT @floureedah: Only in d Philippinesa Korean star aka @alexander_0729  making sabit in the jeep...\n",
       "8      Your car or part 3D Fits 20072015 Jeep Wrangler G3AC13639 Tan Waterproof Car Parts For Sale http...\n",
       "9      Tu carro o parte 3D Fits 20072\")"
      ]
     },
     "execution_count": 65,
     "metadata": {},
     "output_type": "execute_result"
    }
   ],
   "source": [
    "blob[:1000]"
   ]
  },
  {
   "cell_type": "code",
   "execution_count": 66,
   "metadata": {},
   "outputs": [],
   "source": [
    "tags = TextBlob(tweets_eng['text_clean'].to_string()).tags"
   ]
  },
  {
   "cell_type": "code",
   "execution_count": 67,
   "metadata": {},
   "outputs": [
    {
     "data": {
      "text/plain": [
       "8868"
      ]
     },
     "execution_count": 67,
     "metadata": {},
     "output_type": "execute_result"
    }
   ],
   "source": [
    "len(tags)"
   ]
  },
  {
   "cell_type": "code",
   "execution_count": 68,
   "metadata": {},
   "outputs": [],
   "source": [
    "#list all possible tags and values\n",
    "#nltk.help.upenn_tagset('.*')"
   ]
  },
  {
   "cell_type": "code",
   "execution_count": 69,
   "metadata": {},
   "outputs": [
    {
     "data": {
      "text/plain": [
       "[('0', 'CD'),\n",
       " ('RT', 'NNP'),\n",
       " ('@', 'JJ'),\n",
       " ('Jeep', 'NNP'),\n",
       " ('Get', 'VB'),\n",
       " ('your', 'PRP$'),\n",
       " ('morning', 'NN'),\n",
       " ('miles', 'NNS'),\n",
       " ('in', 'IN'),\n",
       " ('@', 'NN')]"
      ]
     },
     "execution_count": 69,
     "metadata": {},
     "output_type": "execute_result"
    }
   ],
   "source": [
    "tags[:10]"
   ]
  },
  {
   "cell_type": "code",
   "execution_count": 70,
   "metadata": {},
   "outputs": [
    {
     "data": {
      "text/html": [
       "<div>\n",
       "<style scoped>\n",
       "    .dataframe tbody tr th:only-of-type {\n",
       "        vertical-align: middle;\n",
       "    }\n",
       "\n",
       "    .dataframe tbody tr th {\n",
       "        vertical-align: top;\n",
       "    }\n",
       "\n",
       "    .dataframe thead th {\n",
       "        text-align: right;\n",
       "    }\n",
       "</style>\n",
       "<table border=\"1\" class=\"dataframe\">\n",
       "  <thead>\n",
       "    <tr style=\"text-align: right;\">\n",
       "      <th></th>\n",
       "      <th>Word</th>\n",
       "      <th>POS Tag</th>\n",
       "    </tr>\n",
       "  </thead>\n",
       "  <tbody>\n",
       "    <tr>\n",
       "      <th>0</th>\n",
       "      <td>0</td>\n",
       "      <td>CD</td>\n",
       "    </tr>\n",
       "    <tr>\n",
       "      <th>1</th>\n",
       "      <td>RT</td>\n",
       "      <td>NNP</td>\n",
       "    </tr>\n",
       "    <tr>\n",
       "      <th>2</th>\n",
       "      <td>@</td>\n",
       "      <td>JJ</td>\n",
       "    </tr>\n",
       "    <tr>\n",
       "      <th>3</th>\n",
       "      <td>Jeep</td>\n",
       "      <td>NNP</td>\n",
       "    </tr>\n",
       "    <tr>\n",
       "      <th>4</th>\n",
       "      <td>Get</td>\n",
       "      <td>VB</td>\n",
       "    </tr>\n",
       "    <tr>\n",
       "      <th>...</th>\n",
       "      <td>...</td>\n",
       "      <td>...</td>\n",
       "    </tr>\n",
       "    <tr>\n",
       "      <th>8863</th>\n",
       "      <td>Matte</td>\n",
       "      <td>NNP</td>\n",
       "    </tr>\n",
       "    <tr>\n",
       "      <th>8864</th>\n",
       "      <td>Grey</td>\n",
       "      <td>NNP</td>\n",
       "    </tr>\n",
       "    <tr>\n",
       "      <th>8865</th>\n",
       "      <td>Jeep</td>\n",
       "      <td>NNP</td>\n",
       "    </tr>\n",
       "    <tr>\n",
       "      <th>8866</th>\n",
       "      <td>https</td>\n",
       "      <td>NN</td>\n",
       "    </tr>\n",
       "    <tr>\n",
       "      <th>8867</th>\n",
       "      <td>t.coTjG6H3AlBC</td>\n",
       "      <td>NN</td>\n",
       "    </tr>\n",
       "  </tbody>\n",
       "</table>\n",
       "<p>8868 rows × 2 columns</p>\n",
       "</div>"
      ],
      "text/plain": [
       "                Word POS Tag\n",
       "0                  0      CD\n",
       "1                 RT     NNP\n",
       "2                  @      JJ\n",
       "3               Jeep     NNP\n",
       "4                Get      VB\n",
       "...              ...     ...\n",
       "8863           Matte     NNP\n",
       "8864            Grey     NNP\n",
       "8865            Jeep     NNP\n",
       "8866           https      NN\n",
       "8867  t.coTjG6H3AlBC      NN\n",
       "\n",
       "[8868 rows x 2 columns]"
      ]
     },
     "execution_count": 70,
     "metadata": {},
     "output_type": "execute_result"
    }
   ],
   "source": [
    "pd.set_option('display.max_colwidth', 50)\n",
    "tags_pd = pd.DataFrame(tags, columns={\"Word\",\"POS Tag\"})\n",
    "tags_pd"
   ]
  },
  {
   "cell_type": "code",
   "execution_count": 71,
   "metadata": {},
   "outputs": [],
   "source": [
    "nouns = TextBlob(tweets_eng['text_clean'].to_string()).noun_phrases"
   ]
  },
  {
   "cell_type": "code",
   "execution_count": 72,
   "metadata": {},
   "outputs": [
    {
     "data": {
      "text/plain": [
       "WordList(['rt', 'jeep', 'morning miles', '@ debten ...', 'rt', '@ lelandjohansen4', 'allignment t ...', 'rt', 'jeep_porn', 'mean', 'rise', 'jeeplove je ...', 'jeep renegade', 'jeep dealership orangecounty https', 'jeepbike collision htt ...', 'rt', '@ floureedah', 'philippinesa korean', 'your', 'part 3d', 'fits', 'jeep wrangle', 'tu', 'carro o parte 3d', 'fits', 'jeep wrangle', 'rt', '@ allparcom', 'jeep scrambler', 'riboflavinsheep', 'truestdragon', 'atco', 'rt', '@ offroadelements', 'england jeep', 'th', 'rt', '@ gulmeenay', 'jeep', 'amooca black powder coated', 'steel gas', 'fuel t', 'judaretro', '@ syfoexclusive', 'lol', 'e ne', 'hoseng r ...', 'happybirthday', 'amanda', 'brooks watson', 'apprentice automotive techniciansentry level t', 'rt', 'mailonline', 'jee ...', 'jeep wrangler', 'rt', 'jeepahoiics', 'matte', 'jeep', 't.co68 ...', 'jeep compass', 'driver side', 'small overlap', 'ii', 'tomsjku1', 'thejeepmafia', '@ rpx53 @', 'scooby_barkley', 'rt', 'jeep', 'ready', 'photo', 'jeep compass', 'sales cross', 'augsep', 'rt', 'dlsulpsb', 'alam', 'mo ba kung bakit nagstrike ...', 'offroad jeep funny videos compilation', 'ro', 'wooden', 'jeep', 'toy car https', 't ....', 'jeep socks', 'turtleneck crop ...', 'jeep lib', 'recent adve ...', 'pair', 'vinyl sticker decal fo ...', 'jeep cherokee', 'crd limited auto', '@ andrewjbullock @', 'jeep bunch', 'rt', '@ __robs_', 'was', 'jeep', 'jeep cherokee sport'])"
      ]
     },
     "execution_count": 72,
     "metadata": {},
     "output_type": "execute_result"
    }
   ],
   "source": [
    "nouns[:100]"
   ]
  },
  {
   "cell_type": "code",
   "execution_count": 73,
   "metadata": {},
   "outputs": [
    {
     "data": {
      "text/plain": [
       "textblob.blob.WordList"
      ]
     },
     "execution_count": 73,
     "metadata": {},
     "output_type": "execute_result"
    }
   ],
   "source": [
    "type(nouns)"
   ]
  },
  {
   "cell_type": "code",
   "execution_count": 74,
   "metadata": {},
   "outputs": [
    {
     "data": {
      "text/html": [
       "<div>\n",
       "<style scoped>\n",
       "    .dataframe tbody tr th:only-of-type {\n",
       "        vertical-align: middle;\n",
       "    }\n",
       "\n",
       "    .dataframe tbody tr th {\n",
       "        vertical-align: top;\n",
       "    }\n",
       "\n",
       "    .dataframe thead th {\n",
       "        text-align: right;\n",
       "    }\n",
       "</style>\n",
       "<table border=\"1\" class=\"dataframe\">\n",
       "  <thead>\n",
       "    <tr style=\"text-align: right;\">\n",
       "      <th></th>\n",
       "      <th>nouns</th>\n",
       "    </tr>\n",
       "  </thead>\n",
       "  <tbody>\n",
       "    <tr>\n",
       "      <th>0</th>\n",
       "      <td>[rt, jeep, morning miles, @ debtenator https]</td>\n",
       "    </tr>\n",
       "    <tr>\n",
       "      <th>1</th>\n",
       "      <td>[rt, @ lelandjohansen4, jeep]</td>\n",
       "    </tr>\n",
       "    <tr>\n",
       "      <th>2</th>\n",
       "      <td>[rt, jeep_porn, mean, jeep]</td>\n",
       "    </tr>\n",
       "    <tr>\n",
       "      <th>3</th>\n",
       "      <td>[rise, jeeplove jeeplife wrangler jeepwrangler, oiiiiiiio]</td>\n",
       "    </tr>\n",
       "    <tr>\n",
       "      <th>4</th>\n",
       "      <td>[jeep renegade]</td>\n",
       "    </tr>\n",
       "  </tbody>\n",
       "</table>\n",
       "</div>"
      ],
      "text/plain": [
       "                                                        nouns\n",
       "0               [rt, jeep, morning miles, @ debtenator https]\n",
       "1                               [rt, @ lelandjohansen4, jeep]\n",
       "2                                 [rt, jeep_porn, mean, jeep]\n",
       "3  [rise, jeeplove jeeplife wrangler jeepwrangler, oiiiiiiio]\n",
       "4                                             [jeep renegade]"
      ]
     },
     "execution_count": 74,
     "metadata": {},
     "output_type": "execute_result"
    }
   ],
   "source": [
    "pd.set_option('display.max_colwidth', 200)\n",
    "# The x in the lambda function is a row (because axis=1 is set)\n",
    "# Apply iterates the function accross the dataframe's rows\n",
    "tweets_eng['nouns'] = tweets_eng.apply(lambda x: TextBlob(x['text_clean']).noun_phrases, axis=1)\n",
    "tweets_eng[['nouns']].head(5)"
   ]
  },
  {
   "cell_type": "code",
   "execution_count": 75,
   "metadata": {},
   "outputs": [
    {
     "data": {
      "text/html": [
       "<div>\n",
       "<style scoped>\n",
       "    .dataframe tbody tr th:only-of-type {\n",
       "        vertical-align: middle;\n",
       "    }\n",
       "\n",
       "    .dataframe tbody tr th {\n",
       "        vertical-align: top;\n",
       "    }\n",
       "\n",
       "    .dataframe thead th {\n",
       "        text-align: right;\n",
       "    }\n",
       "</style>\n",
       "<table border=\"1\" class=\"dataframe\">\n",
       "  <thead>\n",
       "    <tr style=\"text-align: right;\">\n",
       "      <th></th>\n",
       "      <th>text_clean</th>\n",
       "      <th>polarity</th>\n",
       "      <th>subjectivity</th>\n",
       "    </tr>\n",
       "  </thead>\n",
       "  <tbody>\n",
       "    <tr>\n",
       "      <th>0</th>\n",
       "      <td>RT @Jeep: Get your morning miles in. : @debtenator https:t.coY6P4dS0f2c</td>\n",
       "      <td>0.0000</td>\n",
       "      <td>0.000000</td>\n",
       "    </tr>\n",
       "    <tr>\n",
       "      <th>1</th>\n",
       "      <td>RT @lelandjohansen4: Did my first allignment today... on a Jeep.... holy fucking complicated....</td>\n",
       "      <td>-0.1250</td>\n",
       "      <td>0.666667</td>\n",
       "    </tr>\n",
       "    <tr>\n",
       "      <th>2</th>\n",
       "      <td>RT @Jeep_Porn: This combo makes a Mean looking Jeep https:t.coQRr99J7vYF</td>\n",
       "      <td>-0.3125</td>\n",
       "      <td>0.687500</td>\n",
       "    </tr>\n",
       "    <tr>\n",
       "      <th>3</th>\n",
       "      <td>Rise and shine. jeep itsajeepthing jeeplove jeeplife wrangler jeepwrangler jeepfamily OIIIIIIIO https:t.coNi9rGauvjd</td>\n",
       "      <td>0.0000</td>\n",
       "      <td>0.000000</td>\n",
       "    </tr>\n",
       "    <tr>\n",
       "      <th>4</th>\n",
       "      <td>Take a glance at this 2017 Jeep Renegade Now available, make it yours: https:t.co7cKpmGMKYw</td>\n",
       "      <td>0.4000</td>\n",
       "      <td>0.400000</td>\n",
       "    </tr>\n",
       "  </tbody>\n",
       "</table>\n",
       "</div>"
      ],
      "text/plain": [
       "                                                                                                             text_clean  \\\n",
       "0                                               RT @Jeep: Get your morning miles in. : @debtenator https:t.coY6P4dS0f2c   \n",
       "1                      RT @lelandjohansen4: Did my first allignment today... on a Jeep.... holy fucking complicated....   \n",
       "2                                              RT @Jeep_Porn: This combo makes a Mean looking Jeep https:t.coQRr99J7vYF   \n",
       "3  Rise and shine. jeep itsajeepthing jeeplove jeeplife wrangler jeepwrangler jeepfamily OIIIIIIIO https:t.coNi9rGauvjd   \n",
       "4                           Take a glance at this 2017 Jeep Renegade Now available, make it yours: https:t.co7cKpmGMKYw   \n",
       "\n",
       "   polarity  subjectivity  \n",
       "0    0.0000      0.000000  \n",
       "1   -0.1250      0.666667  \n",
       "2   -0.3125      0.687500  \n",
       "3    0.0000      0.000000  \n",
       "4    0.4000      0.400000  "
      ]
     },
     "execution_count": 75,
     "metadata": {},
     "output_type": "execute_result"
    }
   ],
   "source": [
    "tweets_eng['polarity'] = tweets_eng.apply(lambda x: TextBlob(x['text_clean']).sentiment.polarity, axis=1)\n",
    "tweets_eng['subjectivity'] = tweets_eng.apply(lambda x: TextBlob(x['text_clean']).sentiment.subjectivity, axis=1)\n",
    "tweets_eng[['text_clean', 'polarity', 'subjectivity']].head(5)"
   ]
  },
  {
   "cell_type": "code",
   "execution_count": 76,
   "metadata": {},
   "outputs": [
    {
     "data": {
      "text/html": [
       "<div>\n",
       "<style scoped>\n",
       "    .dataframe tbody tr th:only-of-type {\n",
       "        vertical-align: middle;\n",
       "    }\n",
       "\n",
       "    .dataframe tbody tr th {\n",
       "        vertical-align: top;\n",
       "    }\n",
       "\n",
       "    .dataframe thead th {\n",
       "        text-align: right;\n",
       "    }\n",
       "</style>\n",
       "<table border=\"1\" class=\"dataframe\">\n",
       "  <thead>\n",
       "    <tr style=\"text-align: right;\">\n",
       "      <th></th>\n",
       "      <th>text_clean</th>\n",
       "      <th>polarity</th>\n",
       "      <th>subjectivity</th>\n",
       "    </tr>\n",
       "  </thead>\n",
       "  <tbody>\n",
       "    <tr>\n",
       "      <th>12</th>\n",
       "      <td>He lost at Atco today, so I let him drive my Jeep Thats LOVE LOL  JeepMafia https:t.coc4LbaPdKHE</td>\n",
       "      <td>0.65</td>\n",
       "      <td>0.65</td>\n",
       "    </tr>\n",
       "    <tr>\n",
       "      <th>16</th>\n",
       "      <td>@JudaRetro @syfoexclusive Lol e ne le hoseng re buoa ka the people in the jeep tops, ba ne ba shebile Lebohang</td>\n",
       "      <td>0.80</td>\n",
       "      <td>0.70</td>\n",
       "    </tr>\n",
       "    <tr>\n",
       "      <th>89</th>\n",
       "      <td>RT @wsl: .@Jeep Leader @johnjohnflorenc has the opportunity to win the World Title in Portugal  MEORipCurlPro https:t.coohN8JWavuk</td>\n",
       "      <td>0.80</td>\n",
       "      <td>0.40</td>\n",
       "    </tr>\n",
       "    <tr>\n",
       "      <th>117</th>\n",
       "      <td>RT @wsl: .@Jeep Leader @johnjohnflorenc has the opportunity to win the World Title in Portugal  MEORipCurlPro https:t.coohN8JWavuk</td>\n",
       "      <td>0.80</td>\n",
       "      <td>0.40</td>\n",
       "    </tr>\n",
       "    <tr>\n",
       "      <th>139</th>\n",
       "      <td>eBay: 2012 Jeep Wrangler Sahara Jeep Wrangler Bright Silver Metallic with 51,217 Miles, Lots of https:t.co7C5CApMrdI</td>\n",
       "      <td>0.70</td>\n",
       "      <td>0.80</td>\n",
       "    </tr>\n",
       "  </tbody>\n",
       "</table>\n",
       "</div>"
      ],
      "text/plain": [
       "                                                                                                                             text_clean  \\\n",
       "12                                     He lost at Atco today, so I let him drive my Jeep Thats LOVE LOL  JeepMafia https:t.coc4LbaPdKHE   \n",
       "16                       @JudaRetro @syfoexclusive Lol e ne le hoseng re buoa ka the people in the jeep tops, ba ne ba shebile Lebohang   \n",
       "89   RT @wsl: .@Jeep Leader @johnjohnflorenc has the opportunity to win the World Title in Portugal  MEORipCurlPro https:t.coohN8JWavuk   \n",
       "117  RT @wsl: .@Jeep Leader @johnjohnflorenc has the opportunity to win the World Title in Portugal  MEORipCurlPro https:t.coohN8JWavuk   \n",
       "139                eBay: 2012 Jeep Wrangler Sahara Jeep Wrangler Bright Silver Metallic with 51,217 Miles, Lots of https:t.co7C5CApMrdI   \n",
       "\n",
       "     polarity  subjectivity  \n",
       "12       0.65          0.65  \n",
       "16       0.80          0.70  \n",
       "89       0.80          0.40  \n",
       "117      0.80          0.40  \n",
       "139      0.70          0.80  "
      ]
     },
     "execution_count": 76,
     "metadata": {},
     "output_type": "execute_result"
    }
   ],
   "source": [
    "tweets_eng[['text_clean', 'polarity', 'subjectivity']][tweets_eng['polarity'] > 0.6].head(5)"
   ]
  },
  {
   "cell_type": "code",
   "execution_count": 77,
   "metadata": {},
   "outputs": [
    {
     "data": {
      "text/html": [
       "<div>\n",
       "<style scoped>\n",
       "    .dataframe tbody tr th:only-of-type {\n",
       "        vertical-align: middle;\n",
       "    }\n",
       "\n",
       "    .dataframe tbody tr th {\n",
       "        vertical-align: top;\n",
       "    }\n",
       "\n",
       "    .dataframe thead th {\n",
       "        text-align: right;\n",
       "    }\n",
       "</style>\n",
       "<table border=\"1\" class=\"dataframe\">\n",
       "  <thead>\n",
       "    <tr style=\"text-align: right;\">\n",
       "      <th></th>\n",
       "      <th>text_clean</th>\n",
       "      <th>polarity</th>\n",
       "      <th>subjectivity</th>\n",
       "    </tr>\n",
       "  </thead>\n",
       "  <tbody>\n",
       "    <tr>\n",
       "      <th>262</th>\n",
       "      <td>Jeep is bad. I wont lie. https:t.cotjr5SgPSe6</td>\n",
       "      <td>-0.7</td>\n",
       "      <td>0.666667</td>\n",
       "    </tr>\n",
       "  </tbody>\n",
       "</table>\n",
       "</div>"
      ],
      "text/plain": [
       "                                        text_clean  polarity  subjectivity\n",
       "262  Jeep is bad. I wont lie. https:t.cotjr5SgPSe6      -0.7      0.666667"
      ]
     },
     "execution_count": 77,
     "metadata": {},
     "output_type": "execute_result"
    }
   ],
   "source": [
    "tweets_eng[['text_clean', 'polarity', 'subjectivity']][tweets_eng['polarity'] < -0.6].head(5)"
   ]
  },
  {
   "cell_type": "markdown",
   "metadata": {},
   "source": [
    "## Word dictionary-based sentiment analysis"
   ]
  },
  {
   "cell_type": "code",
   "execution_count": 78,
   "metadata": {},
   "outputs": [],
   "source": [
    "# Read in the corpus of positive/negative words compiled by University of Pittsburgh, available at UNC Chapel Hill websie\n",
    "# These came from researchers Theresa Wilson, Janyce Wiebe, and Paul Hoffmann at the University of Pittsburgh, \n",
    "# and were readily available at http://mpqa.cs.pitt.edu/\n",
    "\n",
    "#Code adopted from: http://nealcaren.web.unc.edu/an-introduction-to-text-analysis-with-python-part-3/\n",
    "\n",
    "from urllib.request import urlretrieve\n",
    "import urllib\n",
    "\n",
    "directory = '/home/jupyter/data/tweets/'\n",
    "file_pos = 'positive.txt'\n",
    "file_neg = 'negative.txt'"
   ]
  },
  {
   "cell_type": "code",
   "execution_count": 79,
   "metadata": {},
   "outputs": [],
   "source": [
    "tweet_list = tweets_eng['text_clean'].tolist()"
   ]
  },
  {
   "cell_type": "code",
   "execution_count": 80,
   "metadata": {},
   "outputs": [],
   "source": [
    "pos_sent = open(directory +file_pos).read()\n",
    "pos_words = pos_sent.split('\\n')\n",
    "neg_sent = open(directory +file_neg).read()\n",
    "neg_words = neg_sent.split('\\n')"
   ]
  },
  {
   "cell_type": "code",
   "execution_count": 81,
   "metadata": {},
   "outputs": [],
   "source": [
    "# customize the dictionaries by adding and removing your own positive and negative words and get some counts\n",
    "\n",
    "pos_add = ['your_pos_term_1, your_pos_term_2']\n",
    "\n",
    "for term in pos_add:\n",
    "    pos_words.append(term)\n",
    "\n",
    "neg_add = ['your_neg_term_1, your_neg_term_2']\n",
    "\n",
    "for term in neg_add:\n",
    "    neg_words.append(term)\n",
    "\n",
    "import re\n",
    "from string import punctuation\n",
    "# from __future__ import division  \n",
    "\n",
    "sentiment_scores=[]\n",
    "for tweet in tweet_list:\n",
    "    sentiment_score=0\n",
    "    for p in list(punctuation):\n",
    "        tweet=tweet.replace(p,'')\n",
    "        words=tweet.split(' ')\n",
    "    for word in words:\n",
    "        word = word.lower()\n",
    "        if word in pos_words:\n",
    "            sentiment_score=sentiment_score+1\n",
    "        if word in neg_words:\n",
    "            sentiment_score=sentiment_score-1\n",
    "    sentiment_scores.append(sentiment_score/len(words))\n",
    "\n",
    "tweet_sentiment=zip(tweet_list,sentiment_scores)"
   ]
  },
  {
   "cell_type": "code",
   "execution_count": 82,
   "metadata": {},
   "outputs": [],
   "source": [
    "# Create a dataframe from the results\n",
    "column_names = [\"Text\", \"Sentiment_Score\"]\n",
    "sentiment_results = [tweet_list, sentiment_scores]\n",
    "results_dict = dict(zip(column_names,sentiment_results))\n",
    "all_tweets_df = pd.DataFrame.from_dict(results_dict, orient='columns')\n",
    "all_tweets_df = all_tweets_df[column_names]   # set specific column order"
   ]
  },
  {
   "cell_type": "code",
   "execution_count": 83,
   "metadata": {},
   "outputs": [],
   "source": [
    "# Create a list to store the sentiments\n",
    "sent_list = []\n",
    "\n",
    "# For each row in the column,\n",
    "for row in all_tweets_df['Sentiment_Score']:\n",
    "    if row > 0:\n",
    "        sent_list.append('Positive')\n",
    "    elif row < 0:\n",
    "        sent_list.append('Negative')\n",
    "    else:\n",
    "        sent_list.append('Neutral')\n",
    "\n",
    "# Create a column from the list\n",
    "all_tweets_df['Sentiment_Label'] = sent_list"
   ]
  },
  {
   "cell_type": "code",
   "execution_count": 84,
   "metadata": {},
   "outputs": [
    {
     "data": {
      "text/plain": [
       "0"
      ]
     },
     "execution_count": 84,
     "metadata": {},
     "output_type": "execute_result"
    }
   ],
   "source": [
    "#Make sure I didn't loose any records\n",
    "len(tweet_list) - len(all_tweets_df)"
   ]
  },
  {
   "cell_type": "code",
   "execution_count": 85,
   "metadata": {},
   "outputs": [
    {
     "data": {
      "text/html": [
       "<div>\n",
       "<style scoped>\n",
       "    .dataframe tbody tr th:only-of-type {\n",
       "        vertical-align: middle;\n",
       "    }\n",
       "\n",
       "    .dataframe tbody tr th {\n",
       "        vertical-align: top;\n",
       "    }\n",
       "\n",
       "    .dataframe thead th {\n",
       "        text-align: right;\n",
       "    }\n",
       "</style>\n",
       "<table border=\"1\" class=\"dataframe\">\n",
       "  <thead>\n",
       "    <tr style=\"text-align: right;\">\n",
       "      <th></th>\n",
       "      <th>Text</th>\n",
       "      <th>Sentiment_Score</th>\n",
       "      <th>Sentiment_Label</th>\n",
       "    </tr>\n",
       "  </thead>\n",
       "  <tbody>\n",
       "    <tr>\n",
       "      <th>528</th>\n",
       "      <td>Thanks to @kanturkprinters for the great job on the Waterpower Jeep superefficientservice .  Good  to support one https:t.co4HNzxwo5QR</td>\n",
       "      <td>0.150000</td>\n",
       "      <td>Positive</td>\n",
       "    </tr>\n",
       "    <tr>\n",
       "      <th>54</th>\n",
       "      <td>Jeep Compass Night Eagle revealed  Autocar India https:t.cozn0655v2jz</td>\n",
       "      <td>0.000000</td>\n",
       "      <td>Neutral</td>\n",
       "    </tr>\n",
       "    <tr>\n",
       "      <th>512</th>\n",
       "      <td>I dont ask for much. but I am asking that we get this jeep.</td>\n",
       "      <td>0.000000</td>\n",
       "      <td>Neutral</td>\n",
       "    </tr>\n",
       "    <tr>\n",
       "      <th>192</th>\n",
       "      <td>20122017 Jeep Wrangler 3.6L 409S Stainless Steel Exhaust System https:t.cowNSdE0jgKj https:t.coHnP1Mey8aL</td>\n",
       "      <td>0.090909</td>\n",
       "      <td>Positive</td>\n",
       "    </tr>\n",
       "    <tr>\n",
       "      <th>415</th>\n",
       "      <td>RT @Jeep: Livin the dream. Photo credit: @braceythedog https:t.co6PAvBSHjzp</td>\n",
       "      <td>0.111111</td>\n",
       "      <td>Positive</td>\n",
       "    </tr>\n",
       "    <tr>\n",
       "      <th>490</th>\n",
       "      <td>@Jeep This steering wheel is laughing at you. Your argument is invalid</td>\n",
       "      <td>-0.166667</td>\n",
       "      <td>Negative</td>\n",
       "    </tr>\n",
       "    <tr>\n",
       "      <th>35</th>\n",
       "      <td>@andrewjbullock @Jeep Bunch of turds</td>\n",
       "      <td>0.000000</td>\n",
       "      <td>Neutral</td>\n",
       "    </tr>\n",
       "    <tr>\n",
       "      <th>362</th>\n",
       "      <td>RT @CTVSarah: .@LangleyRCMP are investigating after this burned Jeep was found on 204th overnight. No known link to the Surrey s</td>\n",
       "      <td>0.000000</td>\n",
       "      <td>Neutral</td>\n",
       "    </tr>\n",
       "    <tr>\n",
       "      <th>347</th>\n",
       "      <td>@JoshuaRHVargas honestly yeah they have to  its a weird country. environment will benefit  although the economic ef https:t.covbkH5M40Jn</td>\n",
       "      <td>0.100000</td>\n",
       "      <td>Positive</td>\n",
       "    </tr>\n",
       "    <tr>\n",
       "      <th>582</th>\n",
       "      <td>Man Dies In Jeep Plunge  https:t.coxufVR2UBIm</td>\n",
       "      <td>0.000000</td>\n",
       "      <td>Neutral</td>\n",
       "    </tr>\n",
       "  </tbody>\n",
       "</table>\n",
       "</div>"
      ],
      "text/plain": [
       "                                                                                                                                         Text  \\\n",
       "528    Thanks to @kanturkprinters for the great job on the Waterpower Jeep superefficientservice .  Good  to support one https:t.co4HNzxwo5QR   \n",
       "54                                                                      Jeep Compass Night Eagle revealed  Autocar India https:t.cozn0655v2jz   \n",
       "512                                                                               I dont ask for much. but I am asking that we get this jeep.   \n",
       "192                                 20122017 Jeep Wrangler 3.6L 409S Stainless Steel Exhaust System https:t.cowNSdE0jgKj https:t.coHnP1Mey8aL   \n",
       "415                                                               RT @Jeep: Livin the dream. Photo credit: @braceythedog https:t.co6PAvBSHjzp   \n",
       "490                                                                    @Jeep This steering wheel is laughing at you. Your argument is invalid   \n",
       "35                                                                                                       @andrewjbullock @Jeep Bunch of turds   \n",
       "362          RT @CTVSarah: .@LangleyRCMP are investigating after this burned Jeep was found on 204th overnight. No known link to the Surrey s   \n",
       "347  @JoshuaRHVargas honestly yeah they have to  its a weird country. environment will benefit  although the economic ef https:t.covbkH5M40Jn   \n",
       "582                                                                                             Man Dies In Jeep Plunge  https:t.coxufVR2UBIm   \n",
       "\n",
       "     Sentiment_Score Sentiment_Label  \n",
       "528         0.150000        Positive  \n",
       "54          0.000000         Neutral  \n",
       "512         0.000000         Neutral  \n",
       "192         0.090909        Positive  \n",
       "415         0.111111        Positive  \n",
       "490        -0.166667        Negative  \n",
       "35          0.000000         Neutral  \n",
       "362         0.000000         Neutral  \n",
       "347         0.100000        Positive  \n",
       "582         0.000000         Neutral  "
      ]
     },
     "execution_count": 85,
     "metadata": {},
     "output_type": "execute_result"
    }
   ],
   "source": [
    "all_tweets_df.sample(frac=0.1, replace=False, random_state=123).head(10)"
   ]
  },
  {
   "cell_type": "code",
   "execution_count": 86,
   "metadata": {},
   "outputs": [],
   "source": [
    "#all_tweets_df['Sentiment_Label'].value_counts()"
   ]
  },
  {
   "cell_type": "code",
   "execution_count": 87,
   "metadata": {},
   "outputs": [
    {
     "name": "stdout",
     "output_type": "stream",
     "text": [
      "Neutral     300\n",
      "Positive    176\n",
      "Negative    115\n",
      "dtype: int64\n"
     ]
    },
    {
     "data": {
      "image/png": "[encoded data removed]",
      "text/plain": [
       "<Figure size 720x360 with 1 Axes>"
      ]
     },
     "metadata": {
      "needs_background": "light"
     },
     "output_type": "display_data"
    }
   ],
   "source": [
    "plt.figure().set_size_inches(10, 5)\n",
    "\n",
    "CountSentiment = pd.value_counts(all_tweets_df['Sentiment_Label'].values, sort=True)\n",
    "print (CountSentiment)\n",
    "\n",
    "#CountStatus.plot.barh()\n",
    "CountSentiment.plot.bar()\n",
    "plt.show()"
   ]
  },
  {
   "cell_type": "markdown",
   "metadata": {},
   "source": [
    "#### Export the results of dictionary-based sentiment analysis"
   ]
  },
  {
   "cell_type": "code",
   "execution_count": 88,
   "metadata": {},
   "outputs": [],
   "source": [
    "# !pip install openpyxl"
   ]
  },
  {
   "cell_type": "code",
   "execution_count": 89,
   "metadata": {},
   "outputs": [],
   "source": [
    "# writer = pd.ExcelWriter(directory+'jeep_adv_sentiment.xlsx', engine='xlsxwriter')\n",
    "\n",
    "writer = pd.ExcelWriter(directory+'jeep_adv_sentiment.xlsx')\n",
    "\n",
    "all_tweets_df.to_excel(writer, sheet_name='Tweets_Sentiment')\n",
    "writer.save()"
   ]
  },
  {
   "cell_type": "code",
   "execution_count": 90,
   "metadata": {},
   "outputs": [
    {
     "name": "stdout",
     "output_type": "stream",
     "text": [
      "-rw-r--r-- 1 root root 44513 Oct 22 20:38 /home/jupyter/data/tweets/jeep_adv_sentiment.xlsx\n"
     ]
    }
   ],
   "source": [
    "!ls -l /home/jupyter/data/tweets/*.xlsx"
   ]
  },
  {
   "cell_type": "code",
   "execution_count": null,
   "metadata": {},
   "outputs": [],
   "source": []
  },
  {
   "cell_type": "code",
   "execution_count": null,
   "metadata": {},
   "outputs": [],
   "source": []
  },
  {
   "cell_type": "code",
   "execution_count": 91,
   "metadata": {},
   "outputs": [
    {
     "data": {
      "text/plain": [
       "'Sat, 22 October 2022 15:38:43'"
      ]
     },
     "execution_count": 91,
     "metadata": {},
     "output_type": "execute_result"
    }
   ],
   "source": [
    "import datetime\n",
    "import pytz\n",
    "\n",
    "datetime.datetime.now(pytz.timezone('US/Central')).strftime(\"%a, %d %B %Y %H:%M:%S\")"
   ]
  }
 ],
 "metadata": {
  "anaconda-cloud": {},
  "kernelspec": {
   "display_name": "Python 3 (ipykernel)",
   "language": "python",
   "name": "python3"
  },
  "language_info": {
   "codemirror_mode": {
    "name": "ipython",
    "version": 3
   },
   "file_extension": ".py",
   "mimetype": "text/x-python",
   "name": "python",
   "nbconvert_exporter": "python",
   "pygments_lexer": "ipython3",
   "version": "3.7.12"
  }
 },
 "nbformat": 4,
 "nbformat_minor": 4
}
