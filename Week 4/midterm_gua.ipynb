{
 "cells": [
  {
   "cell_type": "markdown",
   "source": [
    "### 2"
   ],
   "metadata": {
    "collapsed": false
   },
   "id": "ddd96eb1e9ca805e"
  },
  {
   "cell_type": "code",
   "execution_count": 3,
   "outputs": [
    {
     "data": {
      "text/plain": "(0.040999999999999995, 0.076, 0.015)"
     },
     "execution_count": 3,
     "metadata": {},
     "output_type": "execute_result"
    }
   ],
   "source": [
    "# Given values\n",
    "treasury_yield = 0.035 # Risk-free rate from Treasury bonds\n",
    "capitalization_rate = 0.06 # Expected capitalization rate for real estate\n",
    "inflation_rate = 0.02 # Implied economy-wide inflation rate\n",
    "cash_flow_growth = 0.80 * inflation_rate # Cash flow is estimated to grow at 80% of the inflation rate\n",
    "\n",
    "# The expected return on real estate is the capitalization rate plus growth rate in cash flows\n",
    "expected_return_real_estate = capitalization_rate + cash_flow_growth\n",
    "\n",
    "# Real Estate Risk Premium = Expected Return on Real Estate - Risk-Free Rate\n",
    "real_estate_risk_premium = expected_return_real_estate - treasury_yield\n",
    "\n",
    "# The bond market’s real return is given as 1.5%,\n",
    "# and the long-term average real return reported by NCREIF needs to be compared.\n",
    "bond_market_real_return = 0.015\n",
    "\n",
    "# Calculations\n",
    "real_estate_risk_premium, expected_return_real_estate, bond_market_real_return\n"
   ],
   "metadata": {
    "collapsed": false,
    "ExecuteTime": {
     "end_time": "2024-02-03T05:53:49.612230Z",
     "start_time": "2024-02-03T05:53:49.586631Z"
    }
   },
   "id": "ef5ab4b7f0af692d"
  },
  {
   "cell_type": "code",
   "execution_count": 4,
   "outputs": [
    {
     "data": {
      "text/plain": "0.065"
     },
     "execution_count": 4,
     "metadata": {},
     "output_type": "execute_result"
    }
   ],
   "source": [
    "# The real return on real estate is assumed to be 4.5%.\n",
    "real_return_real_estate = 0.045\n",
    "\n",
    "# To find the nominal equilibrium capitalization rate, we add the inflation rate to the real return.\n",
    "nominal_equilibrium_cap_rate = real_return_real_estate + inflation_rate\n",
    "\n",
    "nominal_equilibrium_cap_rate\n"
   ],
   "metadata": {
    "collapsed": false,
    "ExecuteTime": {
     "end_time": "2024-02-03T05:54:27.993322Z",
     "start_time": "2024-02-03T05:54:27.972939Z"
    }
   },
   "id": "9798ab2f35793558"
  },
  {
   "cell_type": "markdown",
   "source": [
    "### 6"
   ],
   "metadata": {
    "collapsed": false
   },
   "id": "aed76180e738bf2d"
  },
  {
   "cell_type": "code",
   "execution_count": 1,
   "outputs": [
    {
     "data": {
      "text/plain": "{'Tenant A Income': 1400000,\n 'Tenant B Income': 975000,\n 'Potential Gross Income': 2375000,\n 'Effective Gross Income': 2196875.0,\n 'Net Operating Income': 1521875.0}"
     },
     "execution_count": 1,
     "metadata": {},
     "output_type": "execute_result"
    }
   ],
   "source": [
    "# Given values for the problem\n",
    "gross_leasable_area = 150000 # in square feet\n",
    "tenant_A_area = 70000 # in square feet\n",
    "tenant_B_area = 65000 # in square feet\n",
    "tenant_A_rate = 20 # $ per square foot per annum\n",
    "tenant_B_rate = 15 # $ per square foot per annum\n",
    "operating_expenses = 675000 # total operating expenses for the year\n",
    "vacancy_collection_allowance_rate = 0.075 # vacancy and collection allowance\n",
    "\n",
    "# Calculate the potential gross income for both tenants\n",
    "tenant_A_income = tenant_A_area * tenant_A_rate\n",
    "tenant_B_income = tenant_B_area * tenant_B_rate\n",
    "potential_gross_income = tenant_A_income + tenant_B_income\n",
    "\n",
    "# Apply the vacancy and collection allowance to get the effective gross income\n",
    "effective_gross_income = potential_gross_income * (1 - vacancy_collection_allowance_rate)\n",
    "\n",
    "# Deduct operating expenses from the effective gross income to get the net operating income\n",
    "net_operating_income = effective_gross_income - operating_expenses\n",
    "\n",
    "{\n",
    "    \"Tenant A Income\": tenant_A_income,\n",
    "    \"Tenant B Income\": tenant_B_income,\n",
    "    \"Potential Gross Income\": potential_gross_income,\n",
    "    \"Effective Gross Income\": effective_gross_income,\n",
    "    \"Net Operating Income\": net_operating_income\n",
    "}\n"
   ],
   "metadata": {
    "collapsed": false,
    "ExecuteTime": {
     "end_time": "2024-02-03T05:48:40.923193Z",
     "start_time": "2024-02-03T05:48:40.892411Z"
    }
   },
   "id": "e9cf4b1a3fdf3f4d"
  },
  {
   "cell_type": "code",
   "execution_count": 2,
   "outputs": [
    {
     "data": {
      "text/plain": "{\"Tenant A's Share of Operating Expenses\": 350000.0,\n \"Tenant B's Share of Operating Expenses\": 325000.0,\n \"Tenant A's Total Cost\": 1750000.0,\n \"Tenant B's Total Cost\": 1300000.0,\n \"Tenant A's Occupancy Cost per SqFt\": 25.0,\n \"Tenant B's Occupancy Cost per SqFt\": 20.0,\n 'Are the Occupancy Costs the Same?': False}"
     },
     "execution_count": 2,
     "metadata": {},
     "output_type": "execute_result"
    }
   ],
   "source": [
    "# Pro rata operating expenses are based on net leasable area\n",
    "total_net_leasable_area = tenant_A_area + tenant_B_area\n",
    "\n",
    "# Tenant A's share of operating expenses\n",
    "tenant_A_operating_expenses = (tenant_A_area / total_net_leasable_area) * operating_expenses\n",
    "\n",
    "# Tenant B's share of operating expenses\n",
    "tenant_B_operating_expenses = (tenant_B_area / total_net_leasable_area) * operating_expenses\n",
    "\n",
    "# Tenant A's total cost including operating expenses\n",
    "tenant_A_total_cost = tenant_A_income + tenant_A_operating_expenses\n",
    "\n",
    "# Tenant B's total cost including operating expenses\n",
    "tenant_B_total_cost = tenant_B_income + tenant_B_operating_expenses\n",
    "\n",
    "# Tenant A's cost of occupancy per square foot\n",
    "tenant_A_occupancy_cost_per_sqft = tenant_A_total_cost / tenant_A_area\n",
    "\n",
    "# Tenant B's cost of occupancy per square foot\n",
    "tenant_B_occupancy_cost_per_sqft = tenant_B_total_cost / tenant_B_area\n",
    "\n",
    "{\n",
    "    \"Tenant A's Share of Operating Expenses\": tenant_A_operating_expenses,\n",
    "    \"Tenant B's Share of Operating Expenses\": tenant_B_operating_expenses,\n",
    "    \"Tenant A's Total Cost\": tenant_A_total_cost,\n",
    "    \"Tenant B's Total Cost\": tenant_B_total_cost,\n",
    "    \"Tenant A's Occupancy Cost per SqFt\": tenant_A_occupancy_cost_per_sqft,\n",
    "    \"Tenant B's Occupancy Cost per SqFt\": tenant_B_occupancy_cost_per_sqft,\n",
    "    \"Are the Occupancy Costs the Same?\": tenant_A_occupancy_cost_per_sqft == tenant_B_occupancy_cost_per_sqft\n",
    "}\n"
   ],
   "metadata": {
    "collapsed": false,
    "ExecuteTime": {
     "end_time": "2024-02-03T05:50:51.981418Z",
     "start_time": "2024-02-03T05:50:51.964023Z"
    }
   },
   "id": "9df7c81a48bc16dc"
  },
  {
   "cell_type": "markdown",
   "source": [
    "### 7"
   ],
   "metadata": {
    "collapsed": false
   },
   "id": "ecc9d5437e5840a"
  },
  {
   "cell_type": "code",
   "execution_count": 5,
   "outputs": [
    {
     "name": "stdout",
     "output_type": "stream",
     "text": [
      "nominal_annualized_return: 0.07787062147739832\n",
      "real_rate_of_return: 0.03641405911288298\n"
     ]
    }
   ],
   "source": [
    "# Given values\n",
    "initial_cap_rate = 0.085 # initial capitalization rate\n",
    "final_cap_rate_shift = 1.10 # shift in capitalization rate at the end\n",
    "inflation_pass_through = 0.50 # inflation pass-through rate\n",
    "rate_of_inflation = 0.04 # rate of inflation\n",
    "holding_period = 5 # in years\n",
    "\n",
    "# For simplicity, we will assume an initial price (P0) and initial cash flow (CF0) of 1000\n",
    "P0 = 1000000\n",
    "CF0 = 85000\n",
    "\n",
    "# Calculate the cash flows over the holding period\n",
    "# CFt = CF0 * (1 + inflation_pass_through * rate_of_inflation)^t\n",
    "cash_flows = [CF0 * ((1 + inflation_pass_through * rate_of_inflation) ** t) for t in range(1, holding_period + 1)]\n",
    "\n",
    "# Calculate the final sale price using the final capitalization rate\n",
    "# Sale Price = CF at the end of holding period / final capitalization rate\n",
    "final_cap_rate = initial_cap_rate * final_cap_rate_shift\n",
    "sale_price = cash_flows[-1] / final_cap_rate\n",
    "\n",
    "# Calculate the total return over the holding period\n",
    "# Total Return = Sum of cash flows + Sale Price - Initial Price\n",
    "total_return = sum(cash_flows) + sale_price - P0\n",
    "\n",
    "# Calculate the nominal expected annualized rate of return\n",
    "# Using the formula for Compound Annual Growth Rate (CAGR)\n",
    "# CAGR = (Ending Value / Beginning Value)^(1/n) - 1\n",
    "nominal_annualized_return = ((total_return + P0) / P0) ** (1 / holding_period) - 1\n",
    "\n",
    "\n",
    "print(\"nominal_annualized_return: \" + str(nominal_annualized_return))\n",
    "# Fisher Equation to find the real rate of return\n",
    "# (1 + nominal rate) = (1 + real rate) * (1 + inflation rate)\n",
    "# Rearranging to solve for real rate gives us:\n",
    "# real rate = ((1 + nominal rate) / (1 + inflation rate)) - 1\n",
    "\n",
    "real_rate_of_return = ((1 + nominal_annualized_return) / (1 + rate_of_inflation)) - 1\n",
    "print(\"real_rate_of_return: \"+ str(real_rate_of_return))"
   ],
   "metadata": {
    "collapsed": false,
    "ExecuteTime": {
     "end_time": "2024-02-03T06:02:50.787320Z",
     "start_time": "2024-02-03T06:02:50.756327Z"
    }
   },
   "id": "ebb2bfcc24bb3f"
  },
  {
   "cell_type": "code",
   "execution_count": null,
   "outputs": [],
   "source": [],
   "metadata": {
    "collapsed": false
   },
   "id": "13683aef25b26d45"
  }
 ],
 "metadata": {
  "kernelspec": {
   "display_name": "Python 3",
   "language": "python",
   "name": "python3"
  },
  "language_info": {
   "codemirror_mode": {
    "name": "ipython",
    "version": 2
   },
   "file_extension": ".py",
   "mimetype": "text/x-python",
   "name": "python",
   "nbconvert_exporter": "python",
   "pygments_lexer": "ipython2",
   "version": "2.7.6"
  }
 },
 "nbformat": 4,
 "nbformat_minor": 5
}
