{
 "cells": [
  {
   "cell_type": "code",
   "execution_count": 89,
   "id": "initial_id",
   "metadata": {
    "ExecuteTime": {
     "end_time": "2024-01-31T08:26:10.333144Z",
     "start_time": "2024-01-31T08:26:10.303450Z"
    },
    "collapsed": true
   },
   "outputs": [],
   "source": [
    "import pandas as pd\n",
    "import numpy as np\n",
    "import requests\n",
    "import re \n",
    "import matplotlib.pyplot as plt\n",
    "import itertools\n",
    "from sklearn.feature_extraction.text import CountVectorizer\n",
    "from sklearn.model_selection import train_test_split\n",
    "from sklearn.naive_bayes import MultinomialNB\n",
    "from sklearn.metrics import classification_report, accuracy_score,confusion_matrix, auc\n",
    "from sklearn.linear_model import LogisticRegression, SGDClassifier\n",
    "from sklearn import metrics\n",
    "pd.options.mode.chained_assignment = None  # default='warn'"
   ]
  },
  {
   "cell_type": "markdown",
   "id": "11dcdebabbcf299",
   "metadata": {},
   "source": [
    "### Fetch Data"
   ]
  },
  {
   "cell_type": "code",
   "execution_count": 2,
   "id": "39c39dff6d08706e",
   "metadata": {
    "ExecuteTime": {
     "end_time": "2024-01-31T05:23:49.155720Z",
     "start_time": "2024-01-31T05:23:48.766322Z"
    }
   },
   "outputs": [
    {
     "name": "stdout",
     "output_type": "stream",
     "text": [
      "Total number of records available: 266,925\n"
     ]
    }
   ],
   "source": [
    "# Define the API endpoint and parameters\n",
    "url = \"https://data.cityofchicago.org/resource/cwig-ma7x.json\"\n",
    "\n",
    "# Fetch the total count of records\n",
    "def get_total_count(url):\n",
    "    params = {\n",
    "        \"$select\": \"count(*)\"\n",
    "    }\n",
    "    response = requests.get(url, params=params)\n",
    "    data = response.json()\n",
    "    return int(data[0]['count'])\n",
    "\n",
    "total_count = get_total_count(url)\n",
    "print(f\"Total number of records available: {total_count:,.0f}\")"
   ]
  },
  {
   "cell_type": "code",
   "execution_count": 3,
   "id": "d7497725d589dd37",
   "metadata": {
    "ExecuteTime": {
     "end_time": "2024-01-31T05:24:24.397440Z",
     "start_time": "2024-01-31T05:23:50.809065Z"
    }
   },
   "outputs": [
    {
     "name": "stdout",
     "output_type": "stream",
     "text": [
      "Number of records retrieved: 266,925\n"
     ]
    }
   ],
   "source": [
    "# Fetch data and load it into a pandas DataFrame\n",
    "def fetch_data(url, params):\n",
    "    response = requests.get(url, params=params)\n",
    "    data = response.json()\n",
    "    return pd.DataFrame(data)\n",
    "\n",
    "# Set the limit parameter equal to the number of available records\n",
    "params = {\n",
    "    \"$limit\": total_count\n",
    "}\n",
    "\n",
    "# Fetch the data and load it into a DataFrame\n",
    "df = fetch_data(url, params)\n",
    "\n",
    "print(f'Number of records retrieved: {df.shape[0]:,.0f}')"
   ]
  },
  {
   "cell_type": "code",
   "execution_count": 4,
   "id": "8c1e0bd344e07545",
   "metadata": {
    "ExecuteTime": {
     "end_time": "2024-01-31T05:24:28.150438Z",
     "start_time": "2024-01-31T05:24:28.086037Z"
    }
   },
   "outputs": [
    {
     "data": {
      "text/html": [
       "<div>\n",
       "<style scoped>\n",
       "    .dataframe tbody tr th:only-of-type {\n",
       "        vertical-align: middle;\n",
       "    }\n",
       "\n",
       "    .dataframe tbody tr th {\n",
       "        vertical-align: top;\n",
       "    }\n",
       "\n",
       "    .dataframe thead th {\n",
       "        text-align: right;\n",
       "    }\n",
       "</style>\n",
       "<table border=\"1\" class=\"dataframe\">\n",
       "  <thead>\n",
       "    <tr style=\"text-align: right;\">\n",
       "      <th></th>\n",
       "      <th>inspection_id</th>\n",
       "      <th>dba_name</th>\n",
       "      <th>aka_name</th>\n",
       "      <th>license_</th>\n",
       "      <th>facility_type</th>\n",
       "      <th>risk</th>\n",
       "      <th>address</th>\n",
       "      <th>city</th>\n",
       "      <th>state</th>\n",
       "      <th>zip</th>\n",
       "      <th>...</th>\n",
       "      <th>results</th>\n",
       "      <th>latitude</th>\n",
       "      <th>longitude</th>\n",
       "      <th>location</th>\n",
       "      <th>:@computed_region_awaf_s7ux</th>\n",
       "      <th>:@computed_region_6mkv_f3dw</th>\n",
       "      <th>:@computed_region_vrxf_vc4k</th>\n",
       "      <th>:@computed_region_bdys_3d7i</th>\n",
       "      <th>:@computed_region_43wa_7qmu</th>\n",
       "      <th>violations</th>\n",
       "    </tr>\n",
       "  </thead>\n",
       "  <tbody>\n",
       "    <tr>\n",
       "      <th>0</th>\n",
       "      <td>2588651</td>\n",
       "      <td>HUDSON NONSTOP</td>\n",
       "      <td>HUDSON (T3/K1)</td>\n",
       "      <td>2951445</td>\n",
       "      <td>Grocery Store</td>\n",
       "      <td>Risk 3 (Low)</td>\n",
       "      <td>10000 W OHARE ST</td>\n",
       "      <td>CHICAGO</td>\n",
       "      <td>IL</td>\n",
       "      <td>60666</td>\n",
       "      <td>...</td>\n",
       "      <td>Pass</td>\n",
       "      <td>41.97620113902387</td>\n",
       "      <td>-87.90530912510346</td>\n",
       "      <td>{'type': 'Point', 'coordinates': [-87.90530912...</td>\n",
       "      <td>34</td>\n",
       "      <td>16197</td>\n",
       "      <td>75</td>\n",
       "      <td>668</td>\n",
       "      <td>29</td>\n",
       "      <td>NaN</td>\n",
       "    </tr>\n",
       "    <tr>\n",
       "      <th>1</th>\n",
       "      <td>2588660</td>\n",
       "      <td>24 HRS GYROS &amp; SUB INC.,</td>\n",
       "      <td>24 HRS GYROS &amp; SUB</td>\n",
       "      <td>2192751</td>\n",
       "      <td>Restaurant</td>\n",
       "      <td>Risk 1 (High)</td>\n",
       "      <td>2058 E 71ST ST</td>\n",
       "      <td>CHICAGO</td>\n",
       "      <td>IL</td>\n",
       "      <td>60649</td>\n",
       "      <td>...</td>\n",
       "      <td>Pass</td>\n",
       "      <td>41.7663726804721</td>\n",
       "      <td>-87.57391936361535</td>\n",
       "      <td>{'type': 'Point', 'coordinates': [-87.57391936...</td>\n",
       "      <td>32</td>\n",
       "      <td>22538</td>\n",
       "      <td>39</td>\n",
       "      <td>152</td>\n",
       "      <td>33</td>\n",
       "      <td>55. PHYSICAL FACILITIES INSTALLED, MAINTAINED ...</td>\n",
       "    </tr>\n",
       "    <tr>\n",
       "      <th>2</th>\n",
       "      <td>2588682</td>\n",
       "      <td>JOJIGYROS786 INC</td>\n",
       "      <td>JOJI GYROS</td>\n",
       "      <td>2749497</td>\n",
       "      <td>Restaurant</td>\n",
       "      <td>Risk 1 (High)</td>\n",
       "      <td>2518 E 79TH ST</td>\n",
       "      <td>CHICAGO</td>\n",
       "      <td>IL</td>\n",
       "      <td>60649</td>\n",
       "      <td>...</td>\n",
       "      <td>No Entry</td>\n",
       "      <td>41.751883323857825</td>\n",
       "      <td>-87.56299535958054</td>\n",
       "      <td>{'type': 'Point', 'coordinates': [-87.56299535...</td>\n",
       "      <td>43</td>\n",
       "      <td>22538</td>\n",
       "      <td>39</td>\n",
       "      <td>246</td>\n",
       "      <td>37</td>\n",
       "      <td>NaN</td>\n",
       "    </tr>\n",
       "    <tr>\n",
       "      <th>3</th>\n",
       "      <td>2588672</td>\n",
       "      <td>THE BATON SHOW LOUNGE</td>\n",
       "      <td>THE BATON SHOW LOUNGE</td>\n",
       "      <td>2732892</td>\n",
       "      <td>Restaurant</td>\n",
       "      <td>Risk 1 (High)</td>\n",
       "      <td>4703-4713 N BROADWAY</td>\n",
       "      <td>CHICAGO</td>\n",
       "      <td>IL</td>\n",
       "      <td>60640</td>\n",
       "      <td>...</td>\n",
       "      <td>No Entry</td>\n",
       "      <td>41.9673635873824</td>\n",
       "      <td>-87.65856734441053</td>\n",
       "      <td>{'type': 'Point', 'coordinates': [-87.65856734...</td>\n",
       "      <td>40</td>\n",
       "      <td>22616</td>\n",
       "      <td>31</td>\n",
       "      <td>241</td>\n",
       "      <td>39</td>\n",
       "      <td>NaN</td>\n",
       "    </tr>\n",
       "    <tr>\n",
       "      <th>4</th>\n",
       "      <td>2588681</td>\n",
       "      <td>CHICAGO SHARK FISH, INC</td>\n",
       "      <td>CHICAGO SHARK FISH, INC</td>\n",
       "      <td>2483042</td>\n",
       "      <td>Restaurant</td>\n",
       "      <td>Risk 2 (Medium)</td>\n",
       "      <td>9800 S HALSTED ST</td>\n",
       "      <td>CHICAGO</td>\n",
       "      <td>IL</td>\n",
       "      <td>60628</td>\n",
       "      <td>...</td>\n",
       "      <td>Out of Business</td>\n",
       "      <td>41.71587020321599</td>\n",
       "      <td>-87.64321013954779</td>\n",
       "      <td>{'type': 'Point', 'coordinates': [-87.64321013...</td>\n",
       "      <td>18</td>\n",
       "      <td>21861</td>\n",
       "      <td>72</td>\n",
       "      <td>592</td>\n",
       "      <td>22</td>\n",
       "      <td>NaN</td>\n",
       "    </tr>\n",
       "  </tbody>\n",
       "</table>\n",
       "<p>5 rows × 22 columns</p>\n",
       "</div>"
      ],
      "text/plain": [
       "  inspection_id                  dba_name                 aka_name license_  \\\n",
       "0       2588651            HUDSON NONSTOP           HUDSON (T3/K1)  2951445   \n",
       "1       2588660  24 HRS GYROS & SUB INC.,       24 HRS GYROS & SUB  2192751   \n",
       "2       2588682          JOJIGYROS786 INC               JOJI GYROS  2749497   \n",
       "3       2588672     THE BATON SHOW LOUNGE    THE BATON SHOW LOUNGE  2732892   \n",
       "4       2588681   CHICAGO SHARK FISH, INC  CHICAGO SHARK FISH, INC  2483042   \n",
       "\n",
       "   facility_type             risk                address     city state  \\\n",
       "0  Grocery Store     Risk 3 (Low)      10000 W OHARE ST   CHICAGO    IL   \n",
       "1     Restaurant    Risk 1 (High)        2058 E 71ST ST   CHICAGO    IL   \n",
       "2     Restaurant    Risk 1 (High)        2518 E 79TH ST   CHICAGO    IL   \n",
       "3     Restaurant    Risk 1 (High)  4703-4713 N BROADWAY   CHICAGO    IL   \n",
       "4     Restaurant  Risk 2 (Medium)     9800 S HALSTED ST   CHICAGO    IL   \n",
       "\n",
       "     zip  ...          results            latitude           longitude  \\\n",
       "0  60666  ...             Pass   41.97620113902387  -87.90530912510346   \n",
       "1  60649  ...             Pass    41.7663726804721  -87.57391936361535   \n",
       "2  60649  ...         No Entry  41.751883323857825  -87.56299535958054   \n",
       "3  60640  ...         No Entry    41.9673635873824  -87.65856734441053   \n",
       "4  60628  ...  Out of Business   41.71587020321599  -87.64321013954779   \n",
       "\n",
       "                                            location  \\\n",
       "0  {'type': 'Point', 'coordinates': [-87.90530912...   \n",
       "1  {'type': 'Point', 'coordinates': [-87.57391936...   \n",
       "2  {'type': 'Point', 'coordinates': [-87.56299535...   \n",
       "3  {'type': 'Point', 'coordinates': [-87.65856734...   \n",
       "4  {'type': 'Point', 'coordinates': [-87.64321013...   \n",
       "\n",
       "  :@computed_region_awaf_s7ux :@computed_region_6mkv_f3dw  \\\n",
       "0                          34                       16197   \n",
       "1                          32                       22538   \n",
       "2                          43                       22538   \n",
       "3                          40                       22616   \n",
       "4                          18                       21861   \n",
       "\n",
       "  :@computed_region_vrxf_vc4k :@computed_region_bdys_3d7i  \\\n",
       "0                          75                         668   \n",
       "1                          39                         152   \n",
       "2                          39                         246   \n",
       "3                          31                         241   \n",
       "4                          72                         592   \n",
       "\n",
       "  :@computed_region_43wa_7qmu  \\\n",
       "0                          29   \n",
       "1                          33   \n",
       "2                          37   \n",
       "3                          39   \n",
       "4                          22   \n",
       "\n",
       "                                          violations  \n",
       "0                                                NaN  \n",
       "1  55. PHYSICAL FACILITIES INSTALLED, MAINTAINED ...  \n",
       "2                                                NaN  \n",
       "3                                                NaN  \n",
       "4                                                NaN  \n",
       "\n",
       "[5 rows x 22 columns]"
      ]
     },
     "execution_count": 4,
     "metadata": {},
     "output_type": "execute_result"
    }
   ],
   "source": [
    "# Check data\n",
    "df.head(5)"
   ]
  },
  {
   "cell_type": "markdown",
   "id": "dfeecc081dbd5",
   "metadata": {},
   "source": [
    "### Data Cleaning"
   ]
  },
  {
   "cell_type": "code",
   "execution_count": 77,
   "id": "39ee465225ccd472",
   "metadata": {
    "ExecuteTime": {
     "end_time": "2024-01-31T06:38:31.614109Z",
     "start_time": "2024-01-31T06:38:31.585891Z"
    }
   },
   "outputs": [
    {
     "data": {
      "text/plain": [
       "array(['Pass', 'No Entry', 'Out of Business', 'Fail',\n",
       "       'Pass w/ Conditions', 'Not Ready', 'Business Not Located'],\n",
       "      dtype=object)"
      ]
     },
     "execution_count": 77,
     "metadata": {},
     "output_type": "execute_result"
    }
   ],
   "source": [
    "# Print unique values in results and find out Fail represents failed inspection\n",
    "distinct_strings = df['results'].unique()\n",
    "distinct_strings"
   ]
  },
  {
   "cell_type": "code",
   "execution_count": 78,
   "id": "fc4f0b2881abf1cd",
   "metadata": {
    "ExecuteTime": {
     "end_time": "2024-01-31T06:38:32.715979Z",
     "start_time": "2024-01-31T06:38:32.499507Z"
    }
   },
   "outputs": [],
   "source": [
    "df_cleaned = df[df['results'].isin(['Fail', 'Pass'])]"
   ]
  },
  {
   "cell_type": "code",
   "execution_count": 79,
   "id": "1a92aeca87bba7c3",
   "metadata": {
    "ExecuteTime": {
     "end_time": "2024-01-31T06:38:34.558017Z",
     "start_time": "2024-01-31T06:38:34.538023Z"
    }
   },
   "outputs": [
    {
     "data": {
      "text/plain": [
       "36473"
      ]
     },
     "execution_count": 79,
     "metadata": {},
     "output_type": "execute_result"
    }
   ],
   "source": [
    "# Check how many rows having Nan value\n",
    "df_cleaned['violations'].isna().sum()"
   ]
  },
  {
   "cell_type": "code",
   "execution_count": 80,
   "id": "633c3375c4c12708",
   "metadata": {
    "ExecuteTime": {
     "end_time": "2024-01-31T06:38:35.466298Z",
     "start_time": "2024-01-31T06:38:35.233114Z"
    }
   },
   "outputs": [],
   "source": [
    "# Drop the Nan values\n",
    "df_cleaned = df_cleaned.dropna(subset=['violations'])"
   ]
  },
  {
   "cell_type": "code",
   "execution_count": 81,
   "id": "6c9e850d64e61b42",
   "metadata": {
    "ExecuteTime": {
     "end_time": "2024-01-31T06:38:50.728837Z",
     "start_time": "2024-01-31T06:38:37.431391Z"
    }
   },
   "outputs": [],
   "source": [
    "# Function to separate descriptions and comments\n",
    "def separate_violations(violations):\n",
    "    pattern = r'(?:\\| \\d+\\.\\s|\\A\\d+\\.\\s)(.*?)(?:\\s-\\sComments: ([^|]*)|(?=\\s*\\|\\s*\\d+\\.|$))'\n",
    "    descriptions = []\n",
    "    comments = []\n",
    "\n",
    "    for match in re.finditer(pattern, violations):\n",
    "        descriptions.append(match.group(1))\n",
    "        if match.group(2):\n",
    "            comments.append(match.group(2))\n",
    "\n",
    "    return descriptions, comments\n",
    "\n",
    "df_cleaned[['violation_description', 'comments']] = df_cleaned.apply(\n",
    "    lambda x: separate_violations(x['violations']), axis=1, result_type='expand'\n",
    ")"
   ]
  },
  {
   "cell_type": "code",
   "execution_count": 75,
   "id": "4b80f9490f0bf4e6",
   "metadata": {
    "ExecuteTime": {
     "end_time": "2024-01-31T06:38:19.796201Z",
     "start_time": "2024-01-31T06:38:19.722090Z"
    }
   },
   "outputs": [],
   "source": [
    "# Drop any rows don't have a comment\n",
    "df_cleaned = df_cleaned.dropna(subset=['comments'])"
   ]
  },
  {
   "cell_type": "code",
   "execution_count": 82,
   "id": "9f42a19254416d8e",
   "metadata": {
    "ExecuteTime": {
     "end_time": "2024-01-31T08:19:38.419487Z",
     "start_time": "2024-01-31T08:19:36.363339Z"
    }
   },
   "outputs": [
    {
     "data": {
      "text/html": [
       "<div>\n",
       "<style scoped>\n",
       "    .dataframe tbody tr th:only-of-type {\n",
       "        vertical-align: middle;\n",
       "    }\n",
       "\n",
       "    .dataframe tbody tr th {\n",
       "        vertical-align: top;\n",
       "    }\n",
       "\n",
       "    .dataframe thead th {\n",
       "        text-align: right;\n",
       "    }\n",
       "</style>\n",
       "<table border=\"1\" class=\"dataframe\">\n",
       "  <thead>\n",
       "    <tr style=\"text-align: right;\">\n",
       "      <th></th>\n",
       "      <th>inspection_id</th>\n",
       "      <th>dba_name</th>\n",
       "      <th>aka_name</th>\n",
       "      <th>license_</th>\n",
       "      <th>facility_type</th>\n",
       "      <th>risk</th>\n",
       "      <th>address</th>\n",
       "      <th>city</th>\n",
       "      <th>state</th>\n",
       "      <th>zip</th>\n",
       "      <th>...</th>\n",
       "      <th>longitude</th>\n",
       "      <th>location</th>\n",
       "      <th>:@computed_region_awaf_s7ux</th>\n",
       "      <th>:@computed_region_6mkv_f3dw</th>\n",
       "      <th>:@computed_region_vrxf_vc4k</th>\n",
       "      <th>:@computed_region_bdys_3d7i</th>\n",
       "      <th>:@computed_region_43wa_7qmu</th>\n",
       "      <th>violations</th>\n",
       "      <th>violation_description</th>\n",
       "      <th>comments</th>\n",
       "    </tr>\n",
       "    <tr>\n",
       "      <th>results</th>\n",
       "      <th></th>\n",
       "      <th></th>\n",
       "      <th></th>\n",
       "      <th></th>\n",
       "      <th></th>\n",
       "      <th></th>\n",
       "      <th></th>\n",
       "      <th></th>\n",
       "      <th></th>\n",
       "      <th></th>\n",
       "      <th></th>\n",
       "      <th></th>\n",
       "      <th></th>\n",
       "      <th></th>\n",
       "      <th></th>\n",
       "      <th></th>\n",
       "      <th></th>\n",
       "      <th></th>\n",
       "      <th></th>\n",
       "      <th></th>\n",
       "      <th></th>\n",
       "    </tr>\n",
       "  </thead>\n",
       "  <tbody>\n",
       "    <tr>\n",
       "      <th>Fail</th>\n",
       "      <td>48679</td>\n",
       "      <td>48679</td>\n",
       "      <td>48215</td>\n",
       "      <td>48676</td>\n",
       "      <td>48635</td>\n",
       "      <td>48678</td>\n",
       "      <td>48679</td>\n",
       "      <td>48652</td>\n",
       "      <td>48668</td>\n",
       "      <td>48673</td>\n",
       "      <td>...</td>\n",
       "      <td>48512</td>\n",
       "      <td>48512</td>\n",
       "      <td>48109</td>\n",
       "      <td>48512</td>\n",
       "      <td>48109</td>\n",
       "      <td>48504</td>\n",
       "      <td>48109</td>\n",
       "      <td>48679</td>\n",
       "      <td>48679</td>\n",
       "      <td>48679</td>\n",
       "    </tr>\n",
       "    <tr>\n",
       "      <th>Pass</th>\n",
       "      <td>104403</td>\n",
       "      <td>104403</td>\n",
       "      <td>103915</td>\n",
       "      <td>104397</td>\n",
       "      <td>104340</td>\n",
       "      <td>104402</td>\n",
       "      <td>104403</td>\n",
       "      <td>104370</td>\n",
       "      <td>104396</td>\n",
       "      <td>104395</td>\n",
       "      <td>...</td>\n",
       "      <td>104016</td>\n",
       "      <td>104016</td>\n",
       "      <td>102106</td>\n",
       "      <td>104016</td>\n",
       "      <td>102106</td>\n",
       "      <td>103997</td>\n",
       "      <td>102106</td>\n",
       "      <td>104403</td>\n",
       "      <td>104403</td>\n",
       "      <td>104403</td>\n",
       "    </tr>\n",
       "  </tbody>\n",
       "</table>\n",
       "<p>2 rows × 23 columns</p>\n",
       "</div>"
      ],
      "text/plain": [
       "         inspection_id  dba_name  aka_name  license_  facility_type    risk  \\\n",
       "results                                                                       \n",
       "Fail             48679     48679     48215     48676          48635   48678   \n",
       "Pass            104403    104403    103915    104397         104340  104402   \n",
       "\n",
       "         address    city   state     zip  ...  longitude  location  \\\n",
       "results                                   ...                        \n",
       "Fail       48679   48652   48668   48673  ...      48512     48512   \n",
       "Pass      104403  104370  104396  104395  ...     104016    104016   \n",
       "\n",
       "         :@computed_region_awaf_s7ux  :@computed_region_6mkv_f3dw  \\\n",
       "results                                                             \n",
       "Fail                           48109                        48512   \n",
       "Pass                          102106                       104016   \n",
       "\n",
       "         :@computed_region_vrxf_vc4k  :@computed_region_bdys_3d7i  \\\n",
       "results                                                             \n",
       "Fail                           48109                        48504   \n",
       "Pass                          102106                       103997   \n",
       "\n",
       "         :@computed_region_43wa_7qmu  violations  violation_description  \\\n",
       "results                                                                   \n",
       "Fail                           48109       48679                  48679   \n",
       "Pass                          102106      104403                 104403   \n",
       "\n",
       "         comments  \n",
       "results            \n",
       "Fail        48679  \n",
       "Pass       104403  \n",
       "\n",
       "[2 rows x 23 columns]"
      ]
     },
     "execution_count": 82,
     "metadata": {},
     "output_type": "execute_result"
    }
   ],
   "source": [
    "df_cleaned.groupby(\"results\").count()"
   ]
  },
  {
   "cell_type": "code",
   "execution_count": 93,
   "id": "6b3aa3240d59cf94",
   "metadata": {
    "ExecuteTime": {
     "end_time": "2024-01-31T08:28:41.009285Z",
     "start_time": "2024-01-31T08:28:39.331919Z"
    }
   },
   "outputs": [],
   "source": [
    "# balance the data\n",
    "df_cleaned = df_cleaned.groupby(\"results\").sample(n=20000, random_state=1)\n",
    "df_cleaned.reset_index(inplace=True, drop=True)"
   ]
  },
  {
   "cell_type": "code",
   "execution_count": 94,
   "id": "fba7e28288d21e3c",
   "metadata": {
    "ExecuteTime": {
     "end_time": "2024-01-31T08:28:41.690105Z",
     "start_time": "2024-01-31T08:28:41.663862Z"
    }
   },
   "outputs": [],
   "source": [
    "# convert label to a binary numerical variable\n",
    "df_cleaned['results_flag'] = df_cleaned.results.map({'Pass':0, 'Fail':1})"
   ]
  },
  {
   "cell_type": "code",
   "execution_count": 95,
   "id": "14570418a3f86725",
   "metadata": {
    "ExecuteTime": {
     "end_time": "2024-01-31T08:28:42.237393Z",
     "start_time": "2024-01-31T08:28:42.232768Z"
    }
   },
   "outputs": [
    {
     "name": "stdout",
     "output_type": "stream",
     "text": [
      "X Shape: (40000,)\n",
      "y Shape: (40000,)\n"
     ]
    }
   ],
   "source": [
    "# define X and y\n",
    "X = df_cleaned.comments\n",
    "y = df_cleaned.results_flag\n",
    "\n",
    "print(f\"X Shape: {X.shape}\")\n",
    "print(f\"y Shape: {y.shape}\")"
   ]
  },
  {
   "cell_type": "code",
   "execution_count": 96,
   "id": "e8e7b9a0402fff34",
   "metadata": {
    "ExecuteTime": {
     "end_time": "2024-01-31T08:28:42.732508Z",
     "start_time": "2024-01-31T08:28:42.662644Z"
    }
   },
   "outputs": [
    {
     "name": "stdout",
     "output_type": "stream",
     "text": [
      "Training records, X_train: (30000,) y_train: (30000,)\n",
      "Testing records, X_test: (10000,) y_test: (10000,)\n"
     ]
    }
   ],
   "source": [
    "X_train, X_test, y_train, y_test = train_test_split(X, y, random_state=1)\n",
    "print(f\"Training records, X_train: {X_train.shape} y_train: {y_train.shape}\")\n",
    "print(f\"Testing records, X_test: {X_test.shape} y_test: {y_test.shape}\")"
   ]
  },
  {
   "cell_type": "code",
   "execution_count": 97,
   "id": "f5c8dfac5d7514ad",
   "metadata": {
    "ExecuteTime": {
     "end_time": "2024-01-31T08:28:44.519537Z",
     "start_time": "2024-01-31T08:28:44.425479Z"
    }
   },
   "outputs": [],
   "source": [
    "# Convert list of comments into a single string per row\n",
    "X_train = X_train.apply(lambda x: ' '.join(x))\n",
    "X_test = X_test.apply(lambda x: ' '.join(x))"
   ]
  },
  {
   "cell_type": "markdown",
   "id": "c07426d33e515f3d",
   "metadata": {},
   "source": [
    "The data cleaning aims to filter out the data that belongs to either Fail or Pass to train binary models. Firstly, it uses Regex to extract the comments from \"violations\" preparing for predictors. Then it drops any data that doesn't have a comment, in other words, the X would be Nah. Then it ensures the data of two classes are evenly separately, resulted in 20000 for each of class. Finally, split the data into 75% training data and 25% testing data.\n"
   ]
  },
  {
   "cell_type": "markdown",
   "id": "b30db5a7486bb988",
   "metadata": {},
   "source": [
    "### Vectorize Data"
   ]
  },
  {
   "cell_type": "code",
   "execution_count": 62,
   "id": "d1e868a3fa9965b5",
   "metadata": {
    "ExecuteTime": {
     "end_time": "2024-01-31T06:17:14.765515Z",
     "start_time": "2024-01-31T06:17:14.763750Z"
    }
   },
   "outputs": [],
   "source": [
    "vect = CountVectorizer(lowercase=True, stop_words='english',\n",
    "                                  max_df=0.8, min_df=0.2, max_features=100, ngram_range=(1,4))"
   ]
  },
  {
   "cell_type": "code",
   "execution_count": 63,
   "id": "215d30c2abdc795d",
   "metadata": {
    "ExecuteTime": {
     "end_time": "2024-01-31T06:17:48.496963Z",
     "start_time": "2024-01-31T06:17:17.695259Z"
    }
   },
   "outputs": [],
   "source": [
    "# Fit and transform X_train\n",
    "X_train_dtm = vect.fit_transform(X_train)\n",
    "# Fit and transform X_test\n",
    "X_test_dtm = vect.transform(X_test)"
   ]
  },
  {
   "cell_type": "markdown",
   "id": "c63ee58fe4698be1",
   "metadata": {},
   "source": [
    "* Firstly, lowercase=True ensures that all text is converted to lowercase, which helps in maintaining consistency and reducing feature space as words with different cases (like \"Hello\" and \"hello\") are treated the same. \n",
    "* The inclusion of stop_words='english' removes common English words (like 'the', 'is', 'at') that usually don't contribute to the predictive power of the model due to their high frequency and low informational content. \n",
    "* Setting max_df=0.8 and min_df=0.2 is a way to filter out words that appear too frequently or infrequently; this helps in excluding words that are either too common across all comments (more than 80% of the documents, for example, a specific code appearing in the start of comment) or too rare (less than 20% of the documents), thereby focusing on words that are more likely to be relevant in distinguishing between different comments. \n",
    "* The max_features=100 limits the number of features to the top 100, which can be useful for reducing dimensionality and computational load, making the model more efficient. Lastly, ngram_range=(1,4) enables the model to consider not only individual words (unigrams) but also combinations of up to 4 contiguous words (bigrams, trigrams, and four-grams), capturing more context and potentially improving the model's ability to understand and predict based on the comments."
   ]
  },
  {
   "cell_type": "markdown",
   "id": "8a4adba773c9d75f",
   "metadata": {},
   "source": [
    "### Train a Binary Model"
   ]
  },
  {
   "cell_type": "code",
   "execution_count": 45,
   "id": "cb1e1408459b360f",
   "metadata": {
    "ExecuteTime": {
     "end_time": "2024-01-31T06:04:24.141045Z",
     "start_time": "2024-01-31T06:04:24.108075Z"
    }
   },
   "outputs": [],
   "source": [
    "# instantiate a Multinomial Naive Bayes model\n",
    "nb = MultinomialNB()"
   ]
  },
  {
   "cell_type": "code",
   "execution_count": 115,
   "id": "bb880aa755d6ac24",
   "metadata": {
    "ExecuteTime": {
     "end_time": "2024-01-31T21:08:18.154094Z",
     "start_time": "2024-01-31T21:08:18.128968Z"
    }
   },
   "outputs": [
    {
     "data": {
      "text/plain": [
       "{'alpha': 1.0, 'class_prior': None, 'fit_prior': True, 'force_alpha': 'warn'}"
      ]
     },
     "execution_count": 115,
     "metadata": {},
     "output_type": "execute_result"
    }
   ],
   "source": [
    "nb.get_params()"
   ]
  },
  {
   "cell_type": "code",
   "execution_count": 105,
   "id": "9d93272ca5da48e3",
   "metadata": {
    "ExecuteTime": {
     "end_time": "2024-01-31T20:53:24.040058Z",
     "start_time": "2024-01-31T20:53:23.987090Z"
    }
   },
   "outputs": [
    {
     "data": {
      "text/html": [
       "<style>#sk-container-id-10 {color: black;}#sk-container-id-10 pre{padding: 0;}#sk-container-id-10 div.sk-toggleable {background-color: white;}#sk-container-id-10 label.sk-toggleable__label {cursor: pointer;display: block;width: 100%;margin-bottom: 0;padding: 0.3em;box-sizing: border-box;text-align: center;}#sk-container-id-10 label.sk-toggleable__label-arrow:before {content: \"▸\";float: left;margin-right: 0.25em;color: #696969;}#sk-container-id-10 label.sk-toggleable__label-arrow:hover:before {color: black;}#sk-container-id-10 div.sk-estimator:hover label.sk-toggleable__label-arrow:before {color: black;}#sk-container-id-10 div.sk-toggleable__content {max-height: 0;max-width: 0;overflow: hidden;text-align: left;background-color: #f0f8ff;}#sk-container-id-10 div.sk-toggleable__content pre {margin: 0.2em;color: black;border-radius: 0.25em;background-color: #f0f8ff;}#sk-container-id-10 input.sk-toggleable__control:checked~div.sk-toggleable__content {max-height: 200px;max-width: 100%;overflow: auto;}#sk-container-id-10 input.sk-toggleable__control:checked~label.sk-toggleable__label-arrow:before {content: \"▾\";}#sk-container-id-10 div.sk-estimator input.sk-toggleable__control:checked~label.sk-toggleable__label {background-color: #d4ebff;}#sk-container-id-10 div.sk-label input.sk-toggleable__control:checked~label.sk-toggleable__label {background-color: #d4ebff;}#sk-container-id-10 input.sk-hidden--visually {border: 0;clip: rect(1px 1px 1px 1px);clip: rect(1px, 1px, 1px, 1px);height: 1px;margin: -1px;overflow: hidden;padding: 0;position: absolute;width: 1px;}#sk-container-id-10 div.sk-estimator {font-family: monospace;background-color: #f0f8ff;border: 1px dotted black;border-radius: 0.25em;box-sizing: border-box;margin-bottom: 0.5em;}#sk-container-id-10 div.sk-estimator:hover {background-color: #d4ebff;}#sk-container-id-10 div.sk-parallel-item::after {content: \"\";width: 100%;border-bottom: 1px solid gray;flex-grow: 1;}#sk-container-id-10 div.sk-label:hover label.sk-toggleable__label {background-color: #d4ebff;}#sk-container-id-10 div.sk-serial::before {content: \"\";position: absolute;border-left: 1px solid gray;box-sizing: border-box;top: 0;bottom: 0;left: 50%;z-index: 0;}#sk-container-id-10 div.sk-serial {display: flex;flex-direction: column;align-items: center;background-color: white;padding-right: 0.2em;padding-left: 0.2em;position: relative;}#sk-container-id-10 div.sk-item {position: relative;z-index: 1;}#sk-container-id-10 div.sk-parallel {display: flex;align-items: stretch;justify-content: center;background-color: white;position: relative;}#sk-container-id-10 div.sk-item::before, #sk-container-id-10 div.sk-parallel-item::before {content: \"\";position: absolute;border-left: 1px solid gray;box-sizing: border-box;top: 0;bottom: 0;left: 50%;z-index: -1;}#sk-container-id-10 div.sk-parallel-item {display: flex;flex-direction: column;z-index: 1;position: relative;background-color: white;}#sk-container-id-10 div.sk-parallel-item:first-child::after {align-self: flex-end;width: 50%;}#sk-container-id-10 div.sk-parallel-item:last-child::after {align-self: flex-start;width: 50%;}#sk-container-id-10 div.sk-parallel-item:only-child::after {width: 0;}#sk-container-id-10 div.sk-dashed-wrapped {border: 1px dashed gray;margin: 0 0.4em 0.5em 0.4em;box-sizing: border-box;padding-bottom: 0.4em;background-color: white;}#sk-container-id-10 div.sk-label label {font-family: monospace;font-weight: bold;display: inline-block;line-height: 1.2em;}#sk-container-id-10 div.sk-label-container {text-align: center;}#sk-container-id-10 div.sk-container {/* jupyter's `normalize.less` sets `[hidden] { display: none; }` but bootstrap.min.css set `[hidden] { display: none !important; }` so we also need the `!important` here to be able to override the default hidden behavior on the sphinx rendered scikit-learn.org. See: https://github.com/scikit-learn/scikit-learn/issues/21755 */display: inline-block !important;position: relative;}#sk-container-id-10 div.sk-text-repr-fallback {display: none;}</style><div id=\"sk-container-id-10\" class=\"sk-top-container\"><div class=\"sk-text-repr-fallback\"><pre>MultinomialNB()</pre><b>In a Jupyter environment, please rerun this cell to show the HTML representation or trust the notebook. <br />On GitHub, the HTML representation is unable to render, please try loading this page with nbviewer.org.</b></div><div class=\"sk-container\" hidden><div class=\"sk-item\"><div class=\"sk-estimator sk-toggleable\"><input class=\"sk-toggleable__control sk-hidden--visually\" id=\"sk-estimator-id-10\" type=\"checkbox\" checked><label for=\"sk-estimator-id-10\" class=\"sk-toggleable__label sk-toggleable__label-arrow\">MultinomialNB</label><div class=\"sk-toggleable__content\"><pre>MultinomialNB()</pre></div></div></div></div></div>"
      ],
      "text/plain": [
       "MultinomialNB()"
      ]
     },
     "execution_count": 105,
     "metadata": {},
     "output_type": "execute_result"
    }
   ],
   "source": [
    "nb.fit(X_train_dtm, y_train)"
   ]
  },
  {
   "cell_type": "code",
   "execution_count": 106,
   "id": "12335cc87fe81b11",
   "metadata": {
    "ExecuteTime": {
     "end_time": "2024-01-31T20:53:26.319177Z",
     "start_time": "2024-01-31T20:53:26.300663Z"
    }
   },
   "outputs": [],
   "source": [
    "y_pred_class = nb.predict(X_test_dtm)"
   ]
  },
  {
   "cell_type": "code",
   "execution_count": 107,
   "id": "afff6d7f6fad621b",
   "metadata": {
    "ExecuteTime": {
     "end_time": "2024-01-31T20:53:27.057678Z",
     "start_time": "2024-01-31T20:53:27.035987Z"
    }
   },
   "outputs": [
    {
     "name": "stdout",
     "output_type": "stream",
     "text": [
      "Test Accuracy: 88.0%\n"
     ]
    }
   ],
   "source": [
    "print(f\"Test Accuracy: {metrics.accuracy_score(y_test, y_pred_class) * 100:.1f}%\")"
   ]
  },
  {
   "cell_type": "code",
   "execution_count": 108,
   "id": "120718627f002409",
   "metadata": {
    "ExecuteTime": {
     "end_time": "2024-01-31T20:53:27.690064Z",
     "start_time": "2024-01-31T20:53:27.640669Z"
    }
   },
   "outputs": [
    {
     "name": "stdout",
     "output_type": "stream",
     "text": [
      "              precision    recall  f1-score   support\n",
      "\n",
      "           0       0.87      0.89      0.88      5002\n",
      "           1       0.89      0.87      0.88      4998\n",
      "\n",
      "    accuracy                           0.88     10000\n",
      "   macro avg       0.88      0.88      0.88     10000\n",
      "weighted avg       0.88      0.88      0.88     10000\n"
     ]
    }
   ],
   "source": [
    "# calculate precision and recall\n",
    "print(classification_report(y_test, y_pred_class))"
   ]
  },
  {
   "cell_type": "code",
   "execution_count": 90,
   "id": "42cdd7076ddb72a9",
   "metadata": {
    "ExecuteTime": {
     "end_time": "2024-01-31T08:26:14.169509Z",
     "start_time": "2024-01-31T08:26:13.921917Z"
    }
   },
   "outputs": [
    {
     "data": {
      "image/png": "[encoded data removed]",
      "text/plain": [
       "<Figure size 800x600 with 2 Axes>"
      ]
     },
     "metadata": {},
     "output_type": "display_data"
    }
   ],
   "source": [
    "# Calculate confusion matrix\n",
    "conf_matrix = confusion_matrix(y_test, y_pred_class)\n",
    "\n",
    "# Plot confusion matrix\n",
    "plt.figure(figsize=(8, 6))\n",
    "plt.imshow(conf_matrix, interpolation='nearest', cmap=plt.cm.Blues)\n",
    "plt.title('Confusion Matrix')\n",
    "plt.colorbar()\n",
    "tick_marks = np.arange(len(np.unique(y_test)))\n",
    "plt.xticks(tick_marks, np.unique(y_test), rotation=45)\n",
    "plt.yticks(tick_marks, np.unique(y_test))\n",
    "\n",
    "# Labeling the plot\n",
    "thresh = conf_matrix.max() / 2.\n",
    "for i, j in itertools.product(range(conf_matrix.shape[0]), range(conf_matrix.shape[1])):\n",
    "    plt.text(j, i, format(conf_matrix[i, j], 'd'),\n",
    "             horizontalalignment=\"center\",\n",
    "             color=\"white\" if conf_matrix[i, j] > thresh else \"black\")\n",
    "\n",
    "plt.ylabel('True label')\n",
    "plt.xlabel('Predicted label')\n",
    "plt.tight_layout()\n",
    "plt.show()"
   ]
  },
  {
   "cell_type": "code",
   "execution_count": 116,
   "id": "1eea1914a1aaae41",
   "metadata": {
    "ExecuteTime": {
     "end_time": "2024-01-31T21:10:39.056584Z",
     "start_time": "2024-01-31T21:10:39.031287Z"
    }
   },
   "outputs": [],
   "source": [
    "# instantiate a SVM model\n",
    "svm = SGDClassifier(max_iter=200, tol=None)"
   ]
  },
  {
   "cell_type": "code",
   "execution_count": 117,
   "id": "86f2ae9a4228afde",
   "metadata": {
    "ExecuteTime": {
     "end_time": "2024-01-31T21:10:40.833328Z",
     "start_time": "2024-01-31T21:10:39.702114Z"
    }
   },
   "outputs": [
    {
     "data": {
      "text/html": [
       "<style>#sk-container-id-12 {color: black;}#sk-container-id-12 pre{padding: 0;}#sk-container-id-12 div.sk-toggleable {background-color: white;}#sk-container-id-12 label.sk-toggleable__label {cursor: pointer;display: block;width: 100%;margin-bottom: 0;padding: 0.3em;box-sizing: border-box;text-align: center;}#sk-container-id-12 label.sk-toggleable__label-arrow:before {content: \"▸\";float: left;margin-right: 0.25em;color: #696969;}#sk-container-id-12 label.sk-toggleable__label-arrow:hover:before {color: black;}#sk-container-id-12 div.sk-estimator:hover label.sk-toggleable__label-arrow:before {color: black;}#sk-container-id-12 div.sk-toggleable__content {max-height: 0;max-width: 0;overflow: hidden;text-align: left;background-color: #f0f8ff;}#sk-container-id-12 div.sk-toggleable__content pre {margin: 0.2em;color: black;border-radius: 0.25em;background-color: #f0f8ff;}#sk-container-id-12 input.sk-toggleable__control:checked~div.sk-toggleable__content {max-height: 200px;max-width: 100%;overflow: auto;}#sk-container-id-12 input.sk-toggleable__control:checked~label.sk-toggleable__label-arrow:before {content: \"▾\";}#sk-container-id-12 div.sk-estimator input.sk-toggleable__control:checked~label.sk-toggleable__label {background-color: #d4ebff;}#sk-container-id-12 div.sk-label input.sk-toggleable__control:checked~label.sk-toggleable__label {background-color: #d4ebff;}#sk-container-id-12 input.sk-hidden--visually {border: 0;clip: rect(1px 1px 1px 1px);clip: rect(1px, 1px, 1px, 1px);height: 1px;margin: -1px;overflow: hidden;padding: 0;position: absolute;width: 1px;}#sk-container-id-12 div.sk-estimator {font-family: monospace;background-color: #f0f8ff;border: 1px dotted black;border-radius: 0.25em;box-sizing: border-box;margin-bottom: 0.5em;}#sk-container-id-12 div.sk-estimator:hover {background-color: #d4ebff;}#sk-container-id-12 div.sk-parallel-item::after {content: \"\";width: 100%;border-bottom: 1px solid gray;flex-grow: 1;}#sk-container-id-12 div.sk-label:hover label.sk-toggleable__label {background-color: #d4ebff;}#sk-container-id-12 div.sk-serial::before {content: \"\";position: absolute;border-left: 1px solid gray;box-sizing: border-box;top: 0;bottom: 0;left: 50%;z-index: 0;}#sk-container-id-12 div.sk-serial {display: flex;flex-direction: column;align-items: center;background-color: white;padding-right: 0.2em;padding-left: 0.2em;position: relative;}#sk-container-id-12 div.sk-item {position: relative;z-index: 1;}#sk-container-id-12 div.sk-parallel {display: flex;align-items: stretch;justify-content: center;background-color: white;position: relative;}#sk-container-id-12 div.sk-item::before, #sk-container-id-12 div.sk-parallel-item::before {content: \"\";position: absolute;border-left: 1px solid gray;box-sizing: border-box;top: 0;bottom: 0;left: 50%;z-index: -1;}#sk-container-id-12 div.sk-parallel-item {display: flex;flex-direction: column;z-index: 1;position: relative;background-color: white;}#sk-container-id-12 div.sk-parallel-item:first-child::after {align-self: flex-end;width: 50%;}#sk-container-id-12 div.sk-parallel-item:last-child::after {align-self: flex-start;width: 50%;}#sk-container-id-12 div.sk-parallel-item:only-child::after {width: 0;}#sk-container-id-12 div.sk-dashed-wrapped {border: 1px dashed gray;margin: 0 0.4em 0.5em 0.4em;box-sizing: border-box;padding-bottom: 0.4em;background-color: white;}#sk-container-id-12 div.sk-label label {font-family: monospace;font-weight: bold;display: inline-block;line-height: 1.2em;}#sk-container-id-12 div.sk-label-container {text-align: center;}#sk-container-id-12 div.sk-container {/* jupyter's `normalize.less` sets `[hidden] { display: none; }` but bootstrap.min.css set `[hidden] { display: none !important; }` so we also need the `!important` here to be able to override the default hidden behavior on the sphinx rendered scikit-learn.org. See: https://github.com/scikit-learn/scikit-learn/issues/21755 */display: inline-block !important;position: relative;}#sk-container-id-12 div.sk-text-repr-fallback {display: none;}</style><div id=\"sk-container-id-12\" class=\"sk-top-container\"><div class=\"sk-text-repr-fallback\"><pre>SGDClassifier(max_iter=200, tol=None)</pre><b>In a Jupyter environment, please rerun this cell to show the HTML representation or trust the notebook. <br />On GitHub, the HTML representation is unable to render, please try loading this page with nbviewer.org.</b></div><div class=\"sk-container\" hidden><div class=\"sk-item\"><div class=\"sk-estimator sk-toggleable\"><input class=\"sk-toggleable__control sk-hidden--visually\" id=\"sk-estimator-id-12\" type=\"checkbox\" checked><label for=\"sk-estimator-id-12\" class=\"sk-toggleable__label sk-toggleable__label-arrow\">SGDClassifier</label><div class=\"sk-toggleable__content\"><pre>SGDClassifier(max_iter=200, tol=None)</pre></div></div></div></div></div>"
      ],
      "text/plain": [
       "SGDClassifier(max_iter=200, tol=None)"
      ]
     },
     "execution_count": 117,
     "metadata": {},
     "output_type": "execute_result"
    }
   ],
   "source": [
    "# train the model using X_train_dtm\n",
    "svm.fit(X_train_dtm, y_train)"
   ]
  },
  {
   "cell_type": "code",
   "execution_count": 118,
   "id": "c2df1833dce68611",
   "metadata": {
    "ExecuteTime": {
     "end_time": "2024-01-31T21:10:41.686006Z",
     "start_time": "2024-01-31T21:10:41.666161Z"
    }
   },
   "outputs": [],
   "source": [
    "# make class predictions for X_test_dtm\n",
    "y_pred_class = svm.predict(X_test_dtm)"
   ]
  },
  {
   "cell_type": "code",
   "execution_count": 119,
   "id": "b71872436c41bcd4",
   "metadata": {
    "ExecuteTime": {
     "end_time": "2024-01-31T21:10:42.344377Z",
     "start_time": "2024-01-31T21:10:42.324239Z"
    }
   },
   "outputs": [
    {
     "name": "stdout",
     "output_type": "stream",
     "text": [
      "0.9345\n"
     ]
    }
   ],
   "source": [
    "# calculate accuracy of class predictions\n",
    "print(metrics.accuracy_score(y_test, y_pred_class))"
   ]
  },
  {
   "cell_type": "code",
   "execution_count": 120,
   "id": "3babcc4622ce3794",
   "metadata": {
    "ExecuteTime": {
     "end_time": "2024-01-31T21:10:47.787381Z",
     "start_time": "2024-01-31T21:10:47.723908Z"
    }
   },
   "outputs": [
    {
     "name": "stdout",
     "output_type": "stream",
     "text": [
      "              precision    recall  f1-score   support\n",
      "\n",
      "           0       0.91      0.97      0.94      5002\n",
      "           1       0.96      0.90      0.93      4998\n",
      "\n",
      "    accuracy                           0.93     10000\n",
      "   macro avg       0.94      0.93      0.93     10000\n",
      "weighted avg       0.94      0.93      0.93     10000\n"
     ]
    }
   ],
   "source": [
    "# calculate precision and recall\n",
    "print(classification_report(y_test, y_pred_class))"
   ]
  },
  {
   "cell_type": "code",
   "execution_count": 121,
   "id": "aa65697dd0e35417",
   "metadata": {
    "ExecuteTime": {
     "end_time": "2024-01-31T21:10:50.624161Z",
     "start_time": "2024-01-31T21:10:50.368733Z"
    }
   },
   "outputs": [
    {
     "data": {
      "image/png": "[encoded data removed]",
      "text/plain": [
       "<Figure size 800x600 with 2 Axes>"
      ]
     },
     "metadata": {},
     "output_type": "display_data"
    }
   ],
   "source": [
    "# Calculate confusion matrix\n",
    "conf_matrix = confusion_matrix(y_test, y_pred_class)\n",
    "\n",
    "# Plot confusion matrix\n",
    "plt.figure(figsize=(8, 6))\n",
    "plt.imshow(conf_matrix, interpolation='nearest', cmap=plt.cm.Blues)\n",
    "plt.title('Confusion Matrix')\n",
    "plt.colorbar()\n",
    "tick_marks = np.arange(len(np.unique(y_test)))\n",
    "plt.xticks(tick_marks, np.unique(y_test), rotation=45)\n",
    "plt.yticks(tick_marks, np.unique(y_test))\n",
    "\n",
    "# Labeling the plot\n",
    "thresh = conf_matrix.max() / 2.\n",
    "for i, j in itertools.product(range(conf_matrix.shape[0]), range(conf_matrix.shape[1])):\n",
    "    plt.text(j, i, format(conf_matrix[i, j], 'd'),\n",
    "             horizontalalignment=\"center\",\n",
    "             color=\"white\" if conf_matrix[i, j] > thresh else \"black\")\n",
    "\n",
    "plt.ylabel('True label')\n",
    "plt.xlabel('Predicted label')\n",
    "plt.tight_layout()\n",
    "plt.show()"
   ]
  },
  {
   "cell_type": "markdown",
   "id": "ad5abac5174b00f4",
   "metadata": {},
   "source": [
    "Based on the graphs and metrics, the SVM model is more robust than the NaiveBayes model. It has higher scores in all key metrics: \n",
    "* SVM shows a significantly higher accuracy compared to NaiveBayes, indicating that it correctly classified a larger proportion of the total instances.\n",
    "* A higher precision, as seen in SVM, indicates that a higher proportion of instances classified as positive were actually positive. This is crucial in scenarios where false positives are a greater concern.\n",
    "* SVM's higher recall rate implies that it is better at detecting the positive cases and misses fewer actual positives compared to NaiveBayes. This metric is important in situations where missing out on actual positives (false negatives) is costly.\n",
    "* The F1-Score provides a balance between precision and recall. It is particularly useful when the cost of false positives and false negatives is unclear or when there is an uneven class distribution. SVM's higher F1-Score suggests it maintains a better balance between recall and precision."
   ]
  },
  {
   "cell_type": "code",
   "execution_count": null,
   "id": "72c8f50115798b68",
   "metadata": {},
   "outputs": [],
   "source": []
  }
 ],
 "metadata": {
  "kernelspec": {
   "display_name": "Python 3 (ipykernel)",
   "language": "python",
   "name": "python3"
  },
  "language_info": {
   "codemirror_mode": {
    "name": "ipython",
    "version": 3
   },
   "file_extension": ".py",
   "mimetype": "text/x-python",
   "name": "python",
   "nbconvert_exporter": "python",
   "pygments_lexer": "ipython3",
   "version": "3.11.4"
  }
 },
 "nbformat": 4,
 "nbformat_minor": 5
}
