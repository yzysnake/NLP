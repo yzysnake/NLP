{
 "cells": [
  {
   "cell_type": "markdown",
   "metadata": {},
   "source": [
    "## NLP Class Assignment 5"
   ]
  },
  {
   "cell_type": "code",
   "execution_count": 52,
   "metadata": {
    "ExecuteTime": {
     "end_time": "2024-02-06T05:58:12.904152Z",
     "start_time": "2024-02-06T05:58:12.880850Z"
    }
   },
   "outputs": [],
   "source": [
    "import pandas as pd\n",
    "import re\n",
    "import os\n",
    "import requests\n",
    "import nltk as nltk\n",
    "import nltk.corpus  \n",
    "from nltk.text import Text\n",
    "import pandas as pd\n",
    "import re\n",
    "import nltk\n",
    "from nltk import word_tokenize, pos_tag, ne_chunk, TweetTokenizer\n",
    "from collections import Counter\n",
    "import spacy \n",
    "from spacy import displacy\n",
    "\n",
    "import sys\n",
    "\n",
    "pd.set_option('display.max_rows', 100)\n",
    "pd.set_option('display.max_columns', None)\n",
    "pd.set_option('display.max_colwidth', 500)"
   ]
  },
  {
   "cell_type": "markdown",
   "metadata": {},
   "source": [
    "#### Read news data"
   ]
  },
  {
   "cell_type": "code",
   "execution_count": null,
   "metadata": {},
   "outputs": [],
   "source": [
    "news_path = 'https://storage.googleapis.com/msca-bdp-data-open/news/nlp_a_5_news.json'\n",
    "news_df = pd.read_json(news_path, orient='records', lines=True)\n",
    "\n",
    "print(f'Sample contains {news_df.shape[0]:,.0f} news articles')\n",
    "news_df.head(2)"
   ]
  },
  {
   "cell_type": "markdown",
   "metadata": {},
   "source": [
    "#### Read Tweets data"
   ]
  },
  {
   "cell_type": "code",
   "execution_count": 39,
   "metadata": {
    "ExecuteTime": {
     "end_time": "2024-02-06T05:47:39.520461Z",
     "start_time": "2024-02-06T05:47:39.089150Z"
    }
   },
   "outputs": [
    {
     "name": "stdout",
     "output_type": "stream",
     "text": [
      "Sample contains 10,105 tweets\n"
     ]
    },
    {
     "data": {
      "text/html": [
       "<div>\n",
       "<style scoped>\n",
       "    .dataframe tbody tr th:only-of-type {\n",
       "        vertical-align: middle;\n",
       "    }\n",
       "\n",
       "    .dataframe tbody tr th {\n",
       "        vertical-align: top;\n",
       "    }\n",
       "\n",
       "    .dataframe thead th {\n",
       "        text-align: right;\n",
       "    }\n",
       "</style>\n",
       "<table border=\"1\" class=\"dataframe\">\n",
       "  <thead>\n",
       "    <tr style=\"text-align: right;\">\n",
       "      <th></th>\n",
       "      <th>id</th>\n",
       "      <th>lang</th>\n",
       "      <th>date</th>\n",
       "      <th>name</th>\n",
       "      <th>retweeted</th>\n",
       "      <th>text</th>\n",
       "    </tr>\n",
       "  </thead>\n",
       "  <tbody>\n",
       "    <tr>\n",
       "      <th>0</th>\n",
       "      <td>1534565117614084096</td>\n",
       "      <td>en</td>\n",
       "      <td>2022-06-08</td>\n",
       "      <td>Low Orbit Tourist 🌍📷</td>\n",
       "      <td></td>\n",
       "      <td>Body &amp;amp; Assembly - Halewood - United Kingdom\\n🌍53.3504,-2.8352296,402m\\n\\nHalewood Body &amp;amp; Assembly is a Jaguar Land Rover factory in Halewood, England, and forms the major part of the Halewood complex which is shared with Ford who manufacture transmissions at the site. [Wikipedia] https://t.co/LPmCnZIaVt</td>\n",
       "    </tr>\n",
       "    <tr>\n",
       "      <th>1</th>\n",
       "      <td>1534565743429394439</td>\n",
       "      <td>en</td>\n",
       "      <td>2022-06-08</td>\n",
       "      <td>CompleteCar.ie</td>\n",
       "      <td>RT</td>\n",
       "      <td>Land Rover Ireland has announced that the new Range Rover Sport starts at €114,150, now on @completecar:\\n\\nhttps://t.co/TjGUkL3FYr https://t.co/QdVaEiJkjO</td>\n",
       "    </tr>\n",
       "  </tbody>\n",
       "</table>\n",
       "</div>"
      ],
      "text/plain": [
       "                    id lang       date                  name retweeted  \\\n",
       "0  1534565117614084096   en 2022-06-08  Low Orbit Tourist 🌍📷             \n",
       "1  1534565743429394439   en 2022-06-08        CompleteCar.ie        RT   \n",
       "\n",
       "                                                                                                                                                                                                                                                                                                                       text  \n",
       "0  Body &amp; Assembly - Halewood - United Kingdom\\n🌍53.3504,-2.8352296,402m\\n\\nHalewood Body &amp; Assembly is a Jaguar Land Rover factory in Halewood, England, and forms the major part of the Halewood complex which is shared with Ford who manufacture transmissions at the site. [Wikipedia] https://t.co/LPmCnZIaVt  \n",
       "1                                                                                                                                                               Land Rover Ireland has announced that the new Range Rover Sport starts at €114,150, now on @completecar:\\n\\nhttps://t.co/TjGUkL3FYr https://t.co/QdVaEiJkjO  "
      ]
     },
     "execution_count": 39,
     "metadata": {},
     "output_type": "execute_result"
    }
   ],
   "source": [
    "tweets_path = 'https://storage.googleapis.com/msca-bdp-data-open/tweets/nlp_a_5_tweets.json'\n",
    "tweets_df = pd.read_json(tweets_path, orient='records', lines=True)\n",
    "print(f'Sample contains {tweets_df.shape[0]:,.0f} tweets')\n",
    "tweets_df.head(2)"
   ]
  },
  {
   "cell_type": "markdown",
   "metadata": {},
   "source": [
    "## Twitter Data"
   ]
  },
  {
   "cell_type": "markdown",
   "metadata": {},
   "source": [
    "### Clean the data"
   ]
  },
  {
   "cell_type": "code",
   "execution_count": 42,
   "metadata": {
    "ExecuteTime": {
     "end_time": "2024-02-06T05:48:16.644356Z",
     "start_time": "2024-02-06T05:48:16.567411Z"
    }
   },
   "outputs": [],
   "source": [
    "# Filter out retweets\n",
    "tweets_df = tweets_df[tweets_df['retweeted'] != 'RT']\n",
    "tweets_df = tweets_df[tweets_df['lang'] == 'en']\n",
    "\n",
    "def clean_tweet(text):\n",
    "    text = re.sub(r'http\\S+', '', text)  # Remove URLs\n",
    "    text = re.sub(r'@\\w+', '', text)  # Remove mentions\n",
    "    text = re.sub(r'#\\w+', '', text)  # Remove hashtags\n",
    "    text = re.sub(r'[^\\w\\s]', '', text)  # Remove special characters\n",
    "    text = re.sub(r'(?:\\n)','|', text) ## Remove new lines\n",
    "    return text.strip()\n",
    "\n",
    "tweets_df[\"text_cleaned\"] = tweets_df[\"text\"].apply(clean_tweet)"
   ]
  },
  {
   "cell_type": "code",
   "execution_count": 43,
   "metadata": {
    "ExecuteTime": {
     "end_time": "2024-02-06T05:48:17.577358Z",
     "start_time": "2024-02-06T05:48:17.560324Z"
    }
   },
   "outputs": [
    {
     "data": {
      "text/html": [
       "<div>\n",
       "<style scoped>\n",
       "    .dataframe tbody tr th:only-of-type {\n",
       "        vertical-align: middle;\n",
       "    }\n",
       "\n",
       "    .dataframe tbody tr th {\n",
       "        vertical-align: top;\n",
       "    }\n",
       "\n",
       "    .dataframe thead th {\n",
       "        text-align: right;\n",
       "    }\n",
       "</style>\n",
       "<table border=\"1\" class=\"dataframe\">\n",
       "  <thead>\n",
       "    <tr style=\"text-align: right;\">\n",
       "      <th></th>\n",
       "      <th>id</th>\n",
       "      <th>lang</th>\n",
       "      <th>date</th>\n",
       "      <th>name</th>\n",
       "      <th>retweeted</th>\n",
       "      <th>text</th>\n",
       "      <th>text_cleaned</th>\n",
       "    </tr>\n",
       "  </thead>\n",
       "  <tbody>\n",
       "    <tr>\n",
       "      <th>0</th>\n",
       "      <td>1534565117614084096</td>\n",
       "      <td>en</td>\n",
       "      <td>2022-06-08</td>\n",
       "      <td>Low Orbit Tourist 🌍📷</td>\n",
       "      <td></td>\n",
       "      <td>Body &amp;amp; Assembly - Halewood - United Kingdom\\n🌍53.3504,-2.8352296,402m\\n\\nHalewood Body &amp;amp; Assembly is a Jaguar Land Rover factory in Halewood, England, and forms the major part of the Halewood complex which is shared with Ford who manufacture transmissions at the site. [Wikipedia] https://t.co/LPmCnZIaVt</td>\n",
       "      <td>Body amp Assembly  Halewood  United Kingdom|53350428352296402m||Halewood Body amp Assembly is a Jaguar Land Rover factory in Halewood England and forms the major part of the Halewood complex which is shared with Ford who manufacture transmissions at the site Wikipedia</td>\n",
       "    </tr>\n",
       "    <tr>\n",
       "      <th>2</th>\n",
       "      <td>1529341557580652545</td>\n",
       "      <td>en</td>\n",
       "      <td>2022-05-25</td>\n",
       "      <td>Exmoor Trim</td>\n",
       "      <td></td>\n",
       "      <td>New Land Rover Range Rover Hits Top Speed With Ease On Autobahn\\n\\nhttps://t.co/19QOgAIu3v</td>\n",
       "      <td>New Land Rover Range Rover Hits Top Speed With Ease On Autobahn||</td>\n",
       "    </tr>\n",
       "    <tr>\n",
       "      <th>3</th>\n",
       "      <td>1542790343535755264</td>\n",
       "      <td>en</td>\n",
       "      <td>2022-07-01</td>\n",
       "      <td>Land Rover UK</td>\n",
       "      <td></td>\n",
       "      <td>@BeckyWatts1 Hi, thank you for your post. I am sorry to learn of your retailer experience, however when order slots are available they will be presented to the retailer, and it is at their discretion which vehicles they submit. Please continue to liaise with them. Thanks, Dan - Land Rover UK</td>\n",
       "      <td>Hi thank you for your post I am sorry to learn of your retailer experience however when order slots are available they will be presented to the retailer and it is at their discretion which vehicles they submit Please continue to liaise with them Thanks Dan  Land Rover UK</td>\n",
       "    </tr>\n",
       "    <tr>\n",
       "      <th>4</th>\n",
       "      <td>1516732103370493954</td>\n",
       "      <td>en</td>\n",
       "      <td>2022-04-20</td>\n",
       "      <td>Sussexes❤️👑🐼🌸</td>\n",
       "      <td></td>\n",
       "      <td>@cofvefe917 @Mackingday No this was during the Land Rover driving challenge.</td>\n",
       "      <td>No this was during the Land Rover driving challenge</td>\n",
       "    </tr>\n",
       "    <tr>\n",
       "      <th>8</th>\n",
       "      <td>1545395541416321026</td>\n",
       "      <td>en</td>\n",
       "      <td>2022-07-08</td>\n",
       "      <td>Olu Femi</td>\n",
       "      <td></td>\n",
       "      <td>Genuinely not a car person but that Land Rover defender is haunting me</td>\n",
       "      <td>Genuinely not a car person but that Land Rover defender is haunting me</td>\n",
       "    </tr>\n",
       "  </tbody>\n",
       "</table>\n",
       "</div>"
      ],
      "text/plain": [
       "                    id lang       date                  name retweeted  \\\n",
       "0  1534565117614084096   en 2022-06-08  Low Orbit Tourist 🌍📷             \n",
       "2  1529341557580652545   en 2022-05-25           Exmoor Trim             \n",
       "3  1542790343535755264   en 2022-07-01         Land Rover UK             \n",
       "4  1516732103370493954   en 2022-04-20         Sussexes❤️👑🐼🌸             \n",
       "8  1545395541416321026   en 2022-07-08              Olu Femi             \n",
       "\n",
       "                                                                                                                                                                                                                                                                                                                       text  \\\n",
       "0  Body &amp; Assembly - Halewood - United Kingdom\\n🌍53.3504,-2.8352296,402m\\n\\nHalewood Body &amp; Assembly is a Jaguar Land Rover factory in Halewood, England, and forms the major part of the Halewood complex which is shared with Ford who manufacture transmissions at the site. [Wikipedia] https://t.co/LPmCnZIaVt   \n",
       "2                                                                                                                                                                                                                                New Land Rover Range Rover Hits Top Speed With Ease On Autobahn\\n\\nhttps://t.co/19QOgAIu3v   \n",
       "3                      @BeckyWatts1 Hi, thank you for your post. I am sorry to learn of your retailer experience, however when order slots are available they will be presented to the retailer, and it is at their discretion which vehicles they submit. Please continue to liaise with them. Thanks, Dan - Land Rover UK   \n",
       "4                                                                                                                                                                                                                                              @cofvefe917 @Mackingday No this was during the Land Rover driving challenge.   \n",
       "8                                                                                                                                                                                                                                                    Genuinely not a car person but that Land Rover defender is haunting me   \n",
       "\n",
       "                                                                                                                                                                                                                                                                      text_cleaned  \n",
       "0     Body amp Assembly  Halewood  United Kingdom|53350428352296402m||Halewood Body amp Assembly is a Jaguar Land Rover factory in Halewood England and forms the major part of the Halewood complex which is shared with Ford who manufacture transmissions at the site Wikipedia  \n",
       "2                                                                                                                                                                                                                New Land Rover Range Rover Hits Top Speed With Ease On Autobahn||  \n",
       "3  Hi thank you for your post I am sorry to learn of your retailer experience however when order slots are available they will be presented to the retailer and it is at their discretion which vehicles they submit Please continue to liaise with them Thanks Dan  Land Rover UK  \n",
       "4                                                                                                                                                                                                                              No this was during the Land Rover driving challenge  \n",
       "8                                                                                                                                                                                                           Genuinely not a car person but that Land Rover defender is haunting me  "
      ]
     },
     "execution_count": 43,
     "metadata": {},
     "output_type": "execute_result"
    }
   ],
   "source": [
    "tweets_df.head(5)"
   ]
  },
  {
   "cell_type": "markdown",
   "metadata": {},
   "source": [
    "### NLTK without Sentence Segmentation"
   ]
  },
  {
   "cell_type": "code",
   "execution_count": 47,
   "metadata": {
    "ExecuteTime": {
     "end_time": "2024-02-06T05:52:35.290335Z",
     "start_time": "2024-02-06T05:52:03.013250Z"
    }
   },
   "outputs": [],
   "source": [
    "def extract_entities(text):\n",
    "    entities = []\n",
    "    labels = []\n",
    "    for chunk in ne_chunk(pos_tag(word_tokenize(text)), binary=False):\n",
    "        if hasattr(chunk, 'label'):\n",
    "            entities.append(' '.join(c[0] for c in chunk))  # Combine multi-token entities\n",
    "            labels.append(chunk.label())\n",
    "    entities_labels = list(set(zip(entities, labels)))  # Unique entities and labels\n",
    "    return entities_labels\n",
    "\n",
    "tweets_df['nltk_ner_whole'] = tweets_df['text_cleaned'].apply(extract_entities)"
   ]
  },
  {
   "cell_type": "code",
   "execution_count": 48,
   "metadata": {
    "ExecuteTime": {
     "end_time": "2024-02-06T05:52:35.306511Z",
     "start_time": "2024-02-06T05:52:35.299438Z"
    }
   },
   "outputs": [],
   "source": [
    "company_mentions = Counter()\n",
    "\n",
    "for entities_labels in tweets_df['nltk_ner_whole']:\n",
    "    for entity, label in entities_labels:\n",
    "        if label == 'ORGANIZATION':  \n",
    "            company_mentions[entity] += 1\n",
    "\n",
    "# Get the most common 20 companies\n",
    "top_20_companies = company_mentions.most_common(20)\n"
   ]
  },
  {
   "cell_type": "code",
   "execution_count": 49,
   "metadata": {
    "ExecuteTime": {
     "end_time": "2024-02-06T05:54:04.934494Z",
     "start_time": "2024-02-06T05:54:04.892996Z"
    }
   },
   "outputs": [
    {
     "name": "stdout",
     "output_type": "stream",
     "text": [
      "                        Company  Mentions\n",
      "0                    Land Rover       580\n",
      "1                          Land       370\n",
      "2                          LAND       132\n",
      "3                          eBay       107\n",
      "4                         ROVER        73\n",
      "5                   Jaguar Land        48\n",
      "6                         Rover        45\n",
      "7                           SUV        43\n",
      "8                           BaT        34\n",
      "9                         TEKNO        27\n",
      "10                          BMW        26\n",
      "11                           UK        23\n",
      "12                         LIVE        15\n",
      "13            Jaguar Land Rover        14\n",
      "14         Land Rover Discovery        13\n",
      "15                     Mercedes        13\n",
      "16                         Ford        13\n",
      "17                     RDynamic        13\n",
      "18                          JLR        12\n",
      "19  MHK100800 New Mass Air Flow        11\n"
     ]
    }
   ],
   "source": [
    "# Convert the list to a DataFrame\n",
    "top_20_nltk_ner_whole = pd.DataFrame(top_20_companies, columns=['Company', 'Mentions'])\n",
    "\n",
    "# Display the DataFrame\n",
    "print(top_20_nltk_ner_whole)"
   ]
  },
  {
   "cell_type": "markdown",
   "metadata": {},
   "source": [
    "### NLTK with Sentence Segmentation"
   ]
  },
  {
   "cell_type": "code",
   "execution_count": 50,
   "metadata": {
    "ExecuteTime": {
     "end_time": "2024-02-06T05:54:43.636293Z",
     "start_time": "2024-02-06T05:54:10.809982Z"
    }
   },
   "outputs": [],
   "source": [
    "def extract_entities(text):\n",
    "    entities = []\n",
    "    labels = []\n",
    "    for sent in nltk.sent_tokenize(text):\n",
    "        for chunk in nltk.ne_chunk(nltk.pos_tag(nltk.word_tokenize(sent)), binary = False):\n",
    "            if hasattr(chunk, 'label'):\n",
    "                entities.append(' '.join(c[0] for c in chunk)) #Add space as between multi-token entities\n",
    "                labels.append(chunk.label())\n",
    "    entities_labels = list(set(zip(entities, labels)))  # Unique entities and labels\n",
    "    return entities_labels\n",
    "\n",
    "tweets_df['nltk_ner_sentence'] = tweets_df['text_cleaned'].apply(extract_entities)"
   ]
  },
  {
   "cell_type": "code",
   "execution_count": 23,
   "metadata": {
    "ExecuteTime": {
     "end_time": "2024-02-06T05:30:25.330649Z",
     "start_time": "2024-02-06T05:30:25.316184Z"
    }
   },
   "outputs": [],
   "source": [
    "company_mentions = Counter()\n",
    "\n",
    "for entities_labels in tweets_df['nltk_ner_sentence']:\n",
    "    for entity, label in entities_labels:\n",
    "        if label == 'ORGANIZATION':  \n",
    "            company_mentions[entity] += 1\n",
    "\n",
    "# Get the most common 20 companies\n",
    "top_20_companies = company_mentions.most_common(20)"
   ]
  },
  {
   "cell_type": "code",
   "execution_count": 24,
   "metadata": {
    "ExecuteTime": {
     "end_time": "2024-02-06T05:30:25.932505Z",
     "start_time": "2024-02-06T05:30:25.892661Z"
    }
   },
   "outputs": [
    {
     "name": "stdout",
     "output_type": "stream",
     "text": [
      "                        Company  Mentions\n",
      "0                    Land Rover       570\n",
      "1                          Land       371\n",
      "2                          LAND       134\n",
      "3                          eBay       112\n",
      "4                         ROVER        73\n",
      "5                   Jaguar Land        49\n",
      "6                         Rover        44\n",
      "7                           SUV        42\n",
      "8                           BaT        34\n",
      "9                         TEKNO        27\n",
      "10                          BMW        25\n",
      "11                           UK        24\n",
      "12         Land Rover Discovery        15\n",
      "13                         LIVE        15\n",
      "14                     RDynamic        14\n",
      "15                     Mercedes        13\n",
      "16                          JLR        13\n",
      "17                         Ford        13\n",
      "18            Jaguar Land Rover        13\n",
      "19  MHK100800 New Mass Air Flow        11\n"
     ]
    }
   ],
   "source": [
    "# Convert the list to a DataFrame\n",
    "top_20_nltk_ner_sentence = pd.DataFrame(top_20_companies, columns=['Company', 'Mentions'])\n",
    "\n",
    "# Display the DataFrame\n",
    "print(top_20_nltk_ner_sentence)"
   ]
  },
  {
   "cell_type": "markdown",
   "metadata": {},
   "source": [
    "### SpaCy without Sentence Segmentation"
   ]
  },
  {
   "cell_type": "code",
   "execution_count": 54,
   "metadata": {
    "ExecuteTime": {
     "end_time": "2024-02-06T06:01:06.105784Z",
     "start_time": "2024-02-06T06:01:03.651163Z"
    }
   },
   "outputs": [],
   "source": [
    "nlp = spacy.load(\"en_core_web_lg\")"
   ]
  },
  {
   "cell_type": "code",
   "execution_count": 55,
   "metadata": {
    "ExecuteTime": {
     "end_time": "2024-02-06T06:08:30.620149Z",
     "start_time": "2024-02-06T06:07:40.979737Z"
    }
   },
   "outputs": [],
   "source": [
    "def extract_entities_with_spacy(text):\n",
    "    # Process the text with spaCy\n",
    "    doc = nlp(text)\n",
    "    \n",
    "    entities = []\n",
    "    labels = []\n",
    "    \n",
    "    # Extract entities and their labels\n",
    "    for ent in doc.ents:\n",
    "        entities.append(ent.text)\n",
    "        labels.append(ent.label_)\n",
    "    \n",
    "    # Create a list of unique entity-label pairs\n",
    "    entities_labels = list(set(zip(entities, labels)))\n",
    "    \n",
    "    return entities_labels\n",
    "\n",
    "tweets_df['spacy_ner_whole'] = tweets_df['text_cleaned'].apply(extract_entities_with_spacy)"
   ]
  },
  {
   "cell_type": "code",
   "execution_count": 56,
   "metadata": {
    "ExecuteTime": {
     "end_time": "2024-02-06T06:09:44.433660Z",
     "start_time": "2024-02-06T06:09:44.386983Z"
    }
   },
   "outputs": [],
   "source": [
    "company_mentions = Counter()\n",
    "\n",
    "for entities_labels in tweets_df['spacy_ner_whole']:\n",
    "    for entity, label in entities_labels:\n",
    "        if label == 'ORG':  \n",
    "            company_mentions[entity] += 1\n",
    "\n",
    "# Get the most common 20 companies\n",
    "top_20_companies = company_mentions.most_common(20)"
   ]
  },
  {
   "cell_type": "code",
   "execution_count": 57,
   "metadata": {
    "ExecuteTime": {
     "end_time": "2024-02-06T06:10:14.268797Z",
     "start_time": "2024-02-06T06:10:14.219110Z"
    }
   },
   "outputs": [
    {
     "name": "stdout",
     "output_type": "stream",
     "text": [
      "                   Company  Mentions\n",
      "0               Land Rover       413\n",
      "1                     eBay       335\n",
      "2        Jaguar Land Rover       273\n",
      "3      Land Rover Defender       100\n",
      "4                   Jaguar        72\n",
      "5                    Rover        42\n",
      "6            TEKNOOFFICIAL        41\n",
      "7                     Ford        39\n",
      "8                      BMW        38\n",
      "9           the Land Rover        33\n",
      "10                   Volvo        29\n",
      "11             Range Rover        25\n",
      "12                  Toyota        25\n",
      "13                    Audi        24\n",
      "14                 Porsche        24\n",
      "15  Land Rover Range Rover        24\n",
      "16                   Tesla        18\n",
      "17             Tata Motors        17\n",
      "18    Land Rover Defenders        17\n",
      "19                Mercedes        16\n"
     ]
    }
   ],
   "source": [
    "# Convert the list to a DataFrame\n",
    "top_20_spacy_ner_whole = pd.DataFrame(top_20_companies, columns=['Company', 'Mentions'])\n",
    "\n",
    "# Display the DataFrame\n",
    "print(top_20_spacy_ner_whole)"
   ]
  },
  {
   "cell_type": "markdown",
   "metadata": {},
   "source": [
    "### SpaCy with Sentence Segmentation"
   ]
  },
  {
   "cell_type": "code",
   "execution_count": 58,
   "metadata": {
    "ExecuteTime": {
     "end_time": "2024-02-06T06:14:28.385658Z",
     "start_time": "2024-02-06T06:13:37.646323Z"
    }
   },
   "outputs": [],
   "source": [
    "def extract_entities_with_spacy_sentence_segmentation(text):\n",
    "    doc = nlp(text)\n",
    "    \n",
    "    entities = []\n",
    "    labels = []\n",
    "    \n",
    "    # Iterate over sentences\n",
    "    for sent in doc.sents:\n",
    "        # Process each sentence for NER\n",
    "        for ent in sent.ents:\n",
    "            entities.append(ent.text)\n",
    "            labels.append(ent.label_)\n",
    "\n",
    "    # Create a list of unique entity-label pairs\n",
    "    entities_labels = list(set(zip(entities, labels)))\n",
    "    \n",
    "    return entities_labels\n",
    "\n",
    "tweets_df['spacy_ner_sentence'] = tweets_df['text_cleaned'].apply(extract_entities_with_spacy)"
   ]
  },
  {
   "cell_type": "code",
   "execution_count": 59,
   "metadata": {
    "ExecuteTime": {
     "end_time": "2024-02-06T06:14:52.870540Z",
     "start_time": "2024-02-06T06:14:52.840078Z"
    }
   },
   "outputs": [],
   "source": [
    "company_mentions = Counter()\n",
    "\n",
    "for entities_labels in tweets_df['spacy_ner_sentence']:\n",
    "    for entity, label in entities_labels:\n",
    "        if label == 'ORG':  \n",
    "            company_mentions[entity] += 1\n",
    "\n",
    "# Get the most common 20 companies\n",
    "top_20_companies = company_mentions.most_common(20)"
   ]
  },
  {
   "cell_type": "code",
   "execution_count": 61,
   "metadata": {
    "ExecuteTime": {
     "end_time": "2024-02-06T06:15:07.324446Z",
     "start_time": "2024-02-06T06:15:07.289623Z"
    }
   },
   "outputs": [
    {
     "name": "stdout",
     "output_type": "stream",
     "text": [
      "                   Company  Mentions\n",
      "0               Land Rover       413\n",
      "1                     eBay       335\n",
      "2        Jaguar Land Rover       273\n",
      "3      Land Rover Defender       100\n",
      "4                   Jaguar        72\n",
      "5                    Rover        42\n",
      "6            TEKNOOFFICIAL        41\n",
      "7                     Ford        39\n",
      "8                      BMW        38\n",
      "9           the Land Rover        33\n",
      "10                   Volvo        29\n",
      "11             Range Rover        25\n",
      "12                  Toyota        25\n",
      "13                    Audi        24\n",
      "14                 Porsche        24\n",
      "15  Land Rover Range Rover        24\n",
      "16                   Tesla        18\n",
      "17             Tata Motors        17\n",
      "18    Land Rover Defenders        17\n",
      "19                Mercedes        16\n"
     ]
    }
   ],
   "source": [
    "# Convert the list to a DataFrame\n",
    "top_20_spacy_ner_sentence = pd.DataFrame(top_20_companies, columns=['Company', 'Mentions'])\n",
    "\n",
    "# Display the DataFrame\n",
    "print(top_20_spacy_ner_sentence)"
   ]
  },
  {
   "cell_type": "code",
   "execution_count": null,
   "metadata": {},
   "outputs": [],
   "source": []
  }
 ],
 "metadata": {
  "kernelspec": {
   "display_name": "Python 3 (ipykernel)",
   "language": "python",
   "name": "python3"
  },
  "language_info": {
   "codemirror_mode": {
    "name": "ipython",
    "version": 3
   },
   "file_extension": ".py",
   "mimetype": "text/x-python",
   "name": "python",
   "nbconvert_exporter": "python",
   "pygments_lexer": "ipython3",
   "version": "3.11.4"
  }
 },
 "nbformat": 4,
 "nbformat_minor": 4
}
