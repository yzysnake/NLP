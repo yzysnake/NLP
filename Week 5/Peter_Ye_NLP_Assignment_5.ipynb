{
 "cells": [
  {
   "cell_type": "markdown",
   "metadata": {},
   "source": [
    "## NLP Class Assignment 5"
   ]
  },
  {
   "cell_type": "code",
   "execution_count": 51,
   "metadata": {
    "ExecuteTime": {
     "end_time": "2024-02-06T20:41:59.791849Z",
     "start_time": "2024-02-06T20:41:59.759614Z"
    }
   },
   "outputs": [],
   "source": [
    "import pandas as pd\n",
    "import re\n",
    "import os\n",
    "import requests\n",
    "import nltk as nltk\n",
    "import nltk.corpus  \n",
    "import matplotlib.pyplot as plt\n",
    "\n",
    "from pandarallel import pandarallel\n",
    "import re\n",
    "import nltk\n",
    "from nltk import word_tokenize, pos_tag, ne_chunk, TweetTokenizer\n",
    "from collections import Counter\n",
    "import spacy \n",
    "\n",
    "\n",
    "pd.set_option('display.max_rows', 100)\n",
    "pd.set_option('display.max_columns', None)\n",
    "pd.set_option('display.max_colwidth', 500)"
   ]
  },
  {
   "cell_type": "code",
   "execution_count": 6,
   "metadata": {
    "ExecuteTime": {
     "end_time": "2024-02-06T08:12:07.493258Z",
     "start_time": "2024-02-06T08:12:07.449431Z"
    }
   },
   "outputs": [
    {
     "name": "stdout",
     "output_type": "stream",
     "text": [
      "INFO: Pandarallel will run on 6 workers.\n",
      "INFO: Pandarallel will use standard multiprocessing data transfer (pipe) to transfer data between the main process and workers.\n"
     ]
    }
   ],
   "source": [
    "# Initialize pandarallel\n",
    "pandarallel.initialize(progress_bar=True)"
   ]
  },
  {
   "cell_type": "markdown",
   "metadata": {},
   "source": [
    "#### Read news data"
   ]
  },
  {
   "cell_type": "code",
   "execution_count": 7,
   "metadata": {
    "ExecuteTime": {
     "end_time": "2024-02-06T08:12:26.897924Z",
     "start_time": "2024-02-06T08:12:12.232657Z"
    }
   },
   "outputs": [
    {
     "name": "stdout",
     "output_type": "stream",
     "text": [
      "Sample contains 10,012 news articles\n"
     ]
    },
    {
     "data": {
      "text/html": [
       "<div>\n",
       "<style scoped>\n",
       "    .dataframe tbody tr th:only-of-type {\n",
       "        vertical-align: middle;\n",
       "    }\n",
       "\n",
       "    .dataframe tbody tr th {\n",
       "        vertical-align: top;\n",
       "    }\n",
       "\n",
       "    .dataframe thead th {\n",
       "        text-align: right;\n",
       "    }\n",
       "</style>\n",
       "<table border=\"1\" class=\"dataframe\">\n",
       "  <thead>\n",
       "    <tr style=\"text-align: right;\">\n",
       "      <th></th>\n",
       "      <th>url</th>\n",
       "      <th>date</th>\n",
       "      <th>language</th>\n",
       "      <th>title</th>\n",
       "      <th>text</th>\n",
       "    </tr>\n",
       "  </thead>\n",
       "  <tbody>\n",
       "    <tr>\n",
       "      <th>0</th>\n",
       "      <td>http://kokomoperspective.com/obituaries/jon-w-horton/article_b6ba8e1e-cb9c-11eb-9868-fb11b88b9778.html</td>\n",
       "      <td>2021-06-13</td>\n",
       "      <td>en</td>\n",
       "      <td>Jon W. Horton | Obituaries | kokomoperspective.com</td>\n",
       "      <td>Jon W. Horton | Obituaries | kokomoperspective.comYou have permission to edit this article. EditCloseSign Up                        Log In                    Dashboard  LogoutMy Account Dashboard Profile Saved items LogoutCOVID-19Click here for the latest local news on COVID-19HomeAbout UsContact UsNewsLocalOpinionPoliticsNationalStateAgricultureLifestylesEngagements/Anniversaries/WeddingsAutosEntertainmentHealthHomesOutdoorsSportsNFLNCAAVitalsObituariesAutomotivee-EditionCouponsGalleries74°...</td>\n",
       "    </tr>\n",
       "    <tr>\n",
       "      <th>1</th>\n",
       "      <td>https://auto.economictimes.indiatimes.com/news/auto-components/birla-precision-to-ramp-up-capacity-to-tap-emerging-opportunities-in-india/81254902</td>\n",
       "      <td>2021-02-28</td>\n",
       "      <td>en</td>\n",
       "      <td>Birla Precision to ramp up capacity to tap emerging opportunities in India, Auto News, ET Auto</td>\n",
       "      <td>Birla Precision to ramp up capacity to tap emerging opportunities in India, Auto News, ET Auto     We have updated our terms and conditions and privacy policy Click \"Continue\" to accept and continue with ET AutoAccept the updated privacy &amp; cookie policyDear user, ET Auto privacy and cookie policy has been updated to align with the new data regulations in European Union. Please review and accept these changes below to continue using the website.You can see our privacy policy &amp; our cookie ...</td>\n",
       "    </tr>\n",
       "  </tbody>\n",
       "</table>\n",
       "</div>"
      ],
      "text/plain": [
       "                                                                                                                                                  url  \\\n",
       "0                                              http://kokomoperspective.com/obituaries/jon-w-horton/article_b6ba8e1e-cb9c-11eb-9868-fb11b88b9778.html   \n",
       "1  https://auto.economictimes.indiatimes.com/news/auto-components/birla-precision-to-ramp-up-capacity-to-tap-emerging-opportunities-in-india/81254902   \n",
       "\n",
       "        date language  \\\n",
       "0 2021-06-13       en   \n",
       "1 2021-02-28       en   \n",
       "\n",
       "                                                                                                 title  \\\n",
       "0                                                   Jon W. Horton | Obituaries | kokomoperspective.com   \n",
       "1       Birla Precision to ramp up capacity to tap emerging opportunities in India, Auto News, ET Auto   \n",
       "\n",
       "                                                                                                                                                                                                                                                                                                                                                                                                                                                                                                                  text  \n",
       "0  Jon W. Horton | Obituaries | kokomoperspective.comYou have permission to edit this article. EditCloseSign Up                        Log In                    Dashboard  LogoutMy Account Dashboard Profile Saved items LogoutCOVID-19Click here for the latest local news on COVID-19HomeAbout UsContact UsNewsLocalOpinionPoliticsNationalStateAgricultureLifestylesEngagements/Anniversaries/WeddingsAutosEntertainmentHealthHomesOutdoorsSportsNFLNCAAVitalsObituariesAutomotivee-EditionCouponsGalleries74°...  \n",
       "1      Birla Precision to ramp up capacity to tap emerging opportunities in India, Auto News, ET Auto     We have updated our terms and conditions and privacy policy Click \"Continue\" to accept and continue with ET AutoAccept the updated privacy & cookie policyDear user, ET Auto privacy and cookie policy has been updated to align with the new data regulations in European Union. Please review and accept these changes below to continue using the website.You can see our privacy policy & our cookie ...  "
      ]
     },
     "execution_count": 7,
     "metadata": {},
     "output_type": "execute_result"
    }
   ],
   "source": [
    "news_path = 'https://storage.googleapis.com/msca-bdp-data-open/news/nlp_a_5_news.json'\n",
    "news_df = pd.read_json(news_path, orient='records', lines=True)\n",
    "\n",
    "print(f'Sample contains {news_df.shape[0]:,.0f} news articles')\n",
    "news_df.head(2)"
   ]
  },
  {
   "cell_type": "markdown",
   "metadata": {},
   "source": [
    "#### Read Tweets data"
   ]
  },
  {
   "cell_type": "code",
   "execution_count": 8,
   "metadata": {
    "ExecuteTime": {
     "end_time": "2024-02-06T08:12:27.154225Z",
     "start_time": "2024-02-06T08:12:26.900868Z"
    }
   },
   "outputs": [
    {
     "name": "stdout",
     "output_type": "stream",
     "text": [
      "Sample contains 10,105 tweets\n"
     ]
    },
    {
     "data": {
      "text/html": [
       "<div>\n",
       "<style scoped>\n",
       "    .dataframe tbody tr th:only-of-type {\n",
       "        vertical-align: middle;\n",
       "    }\n",
       "\n",
       "    .dataframe tbody tr th {\n",
       "        vertical-align: top;\n",
       "    }\n",
       "\n",
       "    .dataframe thead th {\n",
       "        text-align: right;\n",
       "    }\n",
       "</style>\n",
       "<table border=\"1\" class=\"dataframe\">\n",
       "  <thead>\n",
       "    <tr style=\"text-align: right;\">\n",
       "      <th></th>\n",
       "      <th>id</th>\n",
       "      <th>lang</th>\n",
       "      <th>date</th>\n",
       "      <th>name</th>\n",
       "      <th>retweeted</th>\n",
       "      <th>text</th>\n",
       "    </tr>\n",
       "  </thead>\n",
       "  <tbody>\n",
       "    <tr>\n",
       "      <th>0</th>\n",
       "      <td>1534565117614084096</td>\n",
       "      <td>en</td>\n",
       "      <td>2022-06-08</td>\n",
       "      <td>Low Orbit Tourist 🌍📷</td>\n",
       "      <td></td>\n",
       "      <td>Body &amp;amp; Assembly - Halewood - United Kingdom\\n🌍53.3504,-2.8352296,402m\\n\\nHalewood Body &amp;amp; Assembly is a Jaguar Land Rover factory in Halewood, England, and forms the major part of the Halewood complex which is shared with Ford who manufacture transmissions at the site. [Wikipedia] https://t.co/LPmCnZIaVt</td>\n",
       "    </tr>\n",
       "    <tr>\n",
       "      <th>1</th>\n",
       "      <td>1534565743429394439</td>\n",
       "      <td>en</td>\n",
       "      <td>2022-06-08</td>\n",
       "      <td>CompleteCar.ie</td>\n",
       "      <td>RT</td>\n",
       "      <td>Land Rover Ireland has announced that the new Range Rover Sport starts at €114,150, now on @completecar:\\n\\nhttps://t.co/TjGUkL3FYr https://t.co/QdVaEiJkjO</td>\n",
       "    </tr>\n",
       "  </tbody>\n",
       "</table>\n",
       "</div>"
      ],
      "text/plain": [
       "                    id lang       date                  name retweeted  \\\n",
       "0  1534565117614084096   en 2022-06-08  Low Orbit Tourist 🌍📷             \n",
       "1  1534565743429394439   en 2022-06-08        CompleteCar.ie        RT   \n",
       "\n",
       "                                                                                                                                                                                                                                                                                                                       text  \n",
       "0  Body &amp; Assembly - Halewood - United Kingdom\\n🌍53.3504,-2.8352296,402m\\n\\nHalewood Body &amp; Assembly is a Jaguar Land Rover factory in Halewood, England, and forms the major part of the Halewood complex which is shared with Ford who manufacture transmissions at the site. [Wikipedia] https://t.co/LPmCnZIaVt  \n",
       "1                                                                                                                                                               Land Rover Ireland has announced that the new Range Rover Sport starts at €114,150, now on @completecar:\\n\\nhttps://t.co/TjGUkL3FYr https://t.co/QdVaEiJkjO  "
      ]
     },
     "execution_count": 8,
     "metadata": {},
     "output_type": "execute_result"
    }
   ],
   "source": [
    "tweets_path = 'https://storage.googleapis.com/msca-bdp-data-open/tweets/nlp_a_5_tweets.json'\n",
    "tweets_df = pd.read_json(tweets_path, orient='records', lines=True)\n",
    "print(f'Sample contains {tweets_df.shape[0]:,.0f} tweets')\n",
    "tweets_df.head(2)"
   ]
  },
  {
   "cell_type": "markdown",
   "metadata": {},
   "source": [
    "## Twitter Data"
   ]
  },
  {
   "cell_type": "markdown",
   "metadata": {},
   "source": [
    "### Clean the data"
   ]
  },
  {
   "cell_type": "code",
   "execution_count": 9,
   "metadata": {
    "ExecuteTime": {
     "end_time": "2024-02-06T08:12:32.993364Z",
     "start_time": "2024-02-06T08:12:32.936590Z"
    }
   },
   "outputs": [],
   "source": [
    "# Filter out retweets\n",
    "tweets_df = tweets_df[tweets_df['retweeted'] != 'RT']\n",
    "tweets_df = tweets_df[tweets_df['lang'] == 'en']\n",
    "\n",
    "def clean(text):\n",
    "    text = re.sub(r'http\\S+', '', text)  # Remove URLs\n",
    "    text = re.sub(r'@\\w+', '', text)  # Remove mentions\n",
    "    text = re.sub(r'#\\w+', '', text)  # Remove hashtags\n",
    "    text = re.sub(r'[^\\w\\s]', '', text)  # Remove special characters\n",
    "    text = re.sub(r'(?:\\n)','|', text) ## Remove new lines\n",
    "    return text.strip()\n",
    "\n",
    "tweets_df[\"text_cleaned\"] = tweets_df[\"text\"].apply(clean)"
   ]
  },
  {
   "cell_type": "code",
   "execution_count": 10,
   "metadata": {
    "ExecuteTime": {
     "end_time": "2024-02-06T08:12:35.311343Z",
     "start_time": "2024-02-06T08:12:35.290342Z"
    }
   },
   "outputs": [
    {
     "data": {
      "text/html": [
       "<div>\n",
       "<style scoped>\n",
       "    .dataframe tbody tr th:only-of-type {\n",
       "        vertical-align: middle;\n",
       "    }\n",
       "\n",
       "    .dataframe tbody tr th {\n",
       "        vertical-align: top;\n",
       "    }\n",
       "\n",
       "    .dataframe thead th {\n",
       "        text-align: right;\n",
       "    }\n",
       "</style>\n",
       "<table border=\"1\" class=\"dataframe\">\n",
       "  <thead>\n",
       "    <tr style=\"text-align: right;\">\n",
       "      <th></th>\n",
       "      <th>id</th>\n",
       "      <th>lang</th>\n",
       "      <th>date</th>\n",
       "      <th>name</th>\n",
       "      <th>retweeted</th>\n",
       "      <th>text</th>\n",
       "      <th>text_cleaned</th>\n",
       "    </tr>\n",
       "  </thead>\n",
       "  <tbody>\n",
       "    <tr>\n",
       "      <th>0</th>\n",
       "      <td>1534565117614084096</td>\n",
       "      <td>en</td>\n",
       "      <td>2022-06-08</td>\n",
       "      <td>Low Orbit Tourist 🌍📷</td>\n",
       "      <td></td>\n",
       "      <td>Body &amp;amp; Assembly - Halewood - United Kingdom\\n🌍53.3504,-2.8352296,402m\\n\\nHalewood Body &amp;amp; Assembly is a Jaguar Land Rover factory in Halewood, England, and forms the major part of the Halewood complex which is shared with Ford who manufacture transmissions at the site. [Wikipedia] https://t.co/LPmCnZIaVt</td>\n",
       "      <td>Body amp Assembly  Halewood  United Kingdom|53350428352296402m||Halewood Body amp Assembly is a Jaguar Land Rover factory in Halewood England and forms the major part of the Halewood complex which is shared with Ford who manufacture transmissions at the site Wikipedia</td>\n",
       "    </tr>\n",
       "    <tr>\n",
       "      <th>2</th>\n",
       "      <td>1529341557580652545</td>\n",
       "      <td>en</td>\n",
       "      <td>2022-05-25</td>\n",
       "      <td>Exmoor Trim</td>\n",
       "      <td></td>\n",
       "      <td>New Land Rover Range Rover Hits Top Speed With Ease On Autobahn\\n\\nhttps://t.co/19QOgAIu3v</td>\n",
       "      <td>New Land Rover Range Rover Hits Top Speed With Ease On Autobahn||</td>\n",
       "    </tr>\n",
       "    <tr>\n",
       "      <th>3</th>\n",
       "      <td>1542790343535755264</td>\n",
       "      <td>en</td>\n",
       "      <td>2022-07-01</td>\n",
       "      <td>Land Rover UK</td>\n",
       "      <td></td>\n",
       "      <td>@BeckyWatts1 Hi, thank you for your post. I am sorry to learn of your retailer experience, however when order slots are available they will be presented to the retailer, and it is at their discretion which vehicles they submit. Please continue to liaise with them. Thanks, Dan - Land Rover UK</td>\n",
       "      <td>Hi thank you for your post I am sorry to learn of your retailer experience however when order slots are available they will be presented to the retailer and it is at their discretion which vehicles they submit Please continue to liaise with them Thanks Dan  Land Rover UK</td>\n",
       "    </tr>\n",
       "    <tr>\n",
       "      <th>4</th>\n",
       "      <td>1516732103370493954</td>\n",
       "      <td>en</td>\n",
       "      <td>2022-04-20</td>\n",
       "      <td>Sussexes❤️👑🐼🌸</td>\n",
       "      <td></td>\n",
       "      <td>@cofvefe917 @Mackingday No this was during the Land Rover driving challenge.</td>\n",
       "      <td>No this was during the Land Rover driving challenge</td>\n",
       "    </tr>\n",
       "    <tr>\n",
       "      <th>8</th>\n",
       "      <td>1545395541416321026</td>\n",
       "      <td>en</td>\n",
       "      <td>2022-07-08</td>\n",
       "      <td>Olu Femi</td>\n",
       "      <td></td>\n",
       "      <td>Genuinely not a car person but that Land Rover defender is haunting me</td>\n",
       "      <td>Genuinely not a car person but that Land Rover defender is haunting me</td>\n",
       "    </tr>\n",
       "  </tbody>\n",
       "</table>\n",
       "</div>"
      ],
      "text/plain": [
       "                    id lang       date                  name retweeted  \\\n",
       "0  1534565117614084096   en 2022-06-08  Low Orbit Tourist 🌍📷             \n",
       "2  1529341557580652545   en 2022-05-25           Exmoor Trim             \n",
       "3  1542790343535755264   en 2022-07-01         Land Rover UK             \n",
       "4  1516732103370493954   en 2022-04-20         Sussexes❤️👑🐼🌸             \n",
       "8  1545395541416321026   en 2022-07-08              Olu Femi             \n",
       "\n",
       "                                                                                                                                                                                                                                                                                                                       text  \\\n",
       "0  Body &amp; Assembly - Halewood - United Kingdom\\n🌍53.3504,-2.8352296,402m\\n\\nHalewood Body &amp; Assembly is a Jaguar Land Rover factory in Halewood, England, and forms the major part of the Halewood complex which is shared with Ford who manufacture transmissions at the site. [Wikipedia] https://t.co/LPmCnZIaVt   \n",
       "2                                                                                                                                                                                                                                New Land Rover Range Rover Hits Top Speed With Ease On Autobahn\\n\\nhttps://t.co/19QOgAIu3v   \n",
       "3                      @BeckyWatts1 Hi, thank you for your post. I am sorry to learn of your retailer experience, however when order slots are available they will be presented to the retailer, and it is at their discretion which vehicles they submit. Please continue to liaise with them. Thanks, Dan - Land Rover UK   \n",
       "4                                                                                                                                                                                                                                              @cofvefe917 @Mackingday No this was during the Land Rover driving challenge.   \n",
       "8                                                                                                                                                                                                                                                    Genuinely not a car person but that Land Rover defender is haunting me   \n",
       "\n",
       "                                                                                                                                                                                                                                                                      text_cleaned  \n",
       "0     Body amp Assembly  Halewood  United Kingdom|53350428352296402m||Halewood Body amp Assembly is a Jaguar Land Rover factory in Halewood England and forms the major part of the Halewood complex which is shared with Ford who manufacture transmissions at the site Wikipedia  \n",
       "2                                                                                                                                                                                                                New Land Rover Range Rover Hits Top Speed With Ease On Autobahn||  \n",
       "3  Hi thank you for your post I am sorry to learn of your retailer experience however when order slots are available they will be presented to the retailer and it is at their discretion which vehicles they submit Please continue to liaise with them Thanks Dan  Land Rover UK  \n",
       "4                                                                                                                                                                                                                              No this was during the Land Rover driving challenge  \n",
       "8                                                                                                                                                                                                           Genuinely not a car person but that Land Rover defender is haunting me  "
      ]
     },
     "execution_count": 10,
     "metadata": {},
     "output_type": "execute_result"
    }
   ],
   "source": [
    "tweets_df.head(5)"
   ]
  },
  {
   "cell_type": "markdown",
   "metadata": {},
   "source": [
    "### NLTK without Sentence Segmentation"
   ]
  },
  {
   "cell_type": "code",
   "execution_count": 11,
   "metadata": {
    "ExecuteTime": {
     "end_time": "2024-02-06T08:12:51.404307Z",
     "start_time": "2024-02-06T08:12:42.769676Z"
    }
   },
   "outputs": [
    {
     "data": {
      "application/vnd.jupyter.widget-view+json": {
       "model_id": "219dab3135314f0b80c81beb831b9a9e",
       "version_major": 2,
       "version_minor": 0
      },
      "text/plain": [
       "VBox(children=(HBox(children=(IntProgress(value=0, description='0.00%', max=849), Label(value='0 / 849'))), HB…"
      ]
     },
     "metadata": {},
     "output_type": "display_data"
    }
   ],
   "source": [
    "def extract_entities(text):\n",
    "    entities = []\n",
    "    labels = []\n",
    "    for chunk in ne_chunk(pos_tag(word_tokenize(text)), binary=False):\n",
    "        if hasattr(chunk, 'label'):\n",
    "            entities.append(' '.join(c[0] for c in chunk))  # Combine multi-token entities\n",
    "            labels.append(chunk.label())\n",
    "    entities_labels = list(set(zip(entities, labels)))  # Unique entities and labels\n",
    "    return entities_labels\n",
    "\n",
    "tweets_df['nltk_ner_whole'] = tweets_df['text_cleaned'].parallel_apply(extract_entities)"
   ]
  },
  {
   "cell_type": "code",
   "execution_count": 12,
   "metadata": {
    "ExecuteTime": {
     "end_time": "2024-02-06T08:12:52.129045Z",
     "start_time": "2024-02-06T08:12:52.111673Z"
    }
   },
   "outputs": [],
   "source": [
    "company_mentions = Counter()\n",
    "\n",
    "for entities_labels in tweets_df['nltk_ner_whole']:\n",
    "    for entity, label in entities_labels:\n",
    "        if label == 'ORGANIZATION':  \n",
    "            company_mentions[entity] += 1\n",
    "\n",
    "# Get the most common 20 companies\n",
    "top_20_companies = company_mentions.most_common(20)\n"
   ]
  },
  {
   "cell_type": "code",
   "execution_count": 13,
   "metadata": {
    "ExecuteTime": {
     "end_time": "2024-02-06T08:12:54.556164Z",
     "start_time": "2024-02-06T08:12:54.533895Z"
    }
   },
   "outputs": [
    {
     "name": "stdout",
     "output_type": "stream",
     "text": [
      "                        Company  Mentions\n",
      "0                    Land Rover       580\n",
      "1                          Land       370\n",
      "2                          LAND       132\n",
      "3                          eBay       107\n",
      "4                         ROVER        73\n",
      "5                   Jaguar Land        48\n",
      "6                         Rover        45\n",
      "7                           SUV        43\n",
      "8                           BaT        34\n",
      "9                         TEKNO        27\n",
      "10                          BMW        26\n",
      "11                           UK        23\n",
      "12                         LIVE        15\n",
      "13            Jaguar Land Rover        14\n",
      "14                     Mercedes        13\n",
      "15         Land Rover Discovery        13\n",
      "16                         Ford        13\n",
      "17                     RDynamic        13\n",
      "18                          JLR        12\n",
      "19  MHK100800 New Mass Air Flow        11\n"
     ]
    }
   ],
   "source": [
    "# Convert the list to a DataFrame\n",
    "top_20_nltk_ner_whole = pd.DataFrame(top_20_companies, columns=['Company', 'Mentions'])\n",
    "\n",
    "# Display the DataFrame\n",
    "print(top_20_nltk_ner_whole)"
   ]
  },
  {
   "cell_type": "markdown",
   "metadata": {},
   "source": [
    "### NLTK with Sentence Segmentation"
   ]
  },
  {
   "cell_type": "code",
   "execution_count": 14,
   "metadata": {
    "ExecuteTime": {
     "end_time": "2024-02-06T08:13:14.040325Z",
     "start_time": "2024-02-06T08:13:05.064552Z"
    }
   },
   "outputs": [
    {
     "data": {
      "application/vnd.jupyter.widget-view+json": {
       "model_id": "3ebf5b03f933482d998e2e780df30a13",
       "version_major": 2,
       "version_minor": 0
      },
      "text/plain": [
       "VBox(children=(HBox(children=(IntProgress(value=0, description='0.00%', max=849), Label(value='0 / 849'))), HB…"
      ]
     },
     "metadata": {},
     "output_type": "display_data"
    }
   ],
   "source": [
    "def extract_entities(text):\n",
    "    entities = []\n",
    "    labels = []\n",
    "    for sent in nltk.sent_tokenize(text):\n",
    "        for chunk in nltk.ne_chunk(nltk.pos_tag(nltk.word_tokenize(sent)), binary = False):\n",
    "            if hasattr(chunk, 'label'):\n",
    "                entities.append(' '.join(c[0] for c in chunk)) #Add space as between multi-token entities\n",
    "                labels.append(chunk.label())\n",
    "    entities_labels = list(set(zip(entities, labels)))  # Unique entities and labels\n",
    "    return entities_labels\n",
    "\n",
    "tweets_df['nltk_ner_sentence'] = tweets_df['text_cleaned'].parallel_apply(extract_entities)"
   ]
  },
  {
   "cell_type": "code",
   "execution_count": 15,
   "metadata": {
    "ExecuteTime": {
     "end_time": "2024-02-06T08:13:14.583533Z",
     "start_time": "2024-02-06T08:13:14.567467Z"
    }
   },
   "outputs": [],
   "source": [
    "company_mentions = Counter()\n",
    "\n",
    "for entities_labels in tweets_df['nltk_ner_sentence']:\n",
    "    for entity, label in entities_labels:\n",
    "        if label == 'ORGANIZATION':  \n",
    "            company_mentions[entity] += 1\n",
    "\n",
    "# Get the most common 20 companies\n",
    "top_20_companies = company_mentions.most_common(20)"
   ]
  },
  {
   "cell_type": "code",
   "execution_count": 16,
   "metadata": {
    "ExecuteTime": {
     "end_time": "2024-02-06T08:13:15.269567Z",
     "start_time": "2024-02-06T08:13:15.252179Z"
    }
   },
   "outputs": [
    {
     "name": "stdout",
     "output_type": "stream",
     "text": [
      "                        Company  Mentions\n",
      "0                    Land Rover       580\n",
      "1                          Land       370\n",
      "2                          LAND       132\n",
      "3                          eBay       107\n",
      "4                         ROVER        73\n",
      "5                   Jaguar Land        48\n",
      "6                         Rover        45\n",
      "7                           SUV        43\n",
      "8                           BaT        34\n",
      "9                         TEKNO        27\n",
      "10                          BMW        26\n",
      "11                           UK        23\n",
      "12                         LIVE        15\n",
      "13            Jaguar Land Rover        14\n",
      "14                     Mercedes        13\n",
      "15         Land Rover Discovery        13\n",
      "16                         Ford        13\n",
      "17                     RDynamic        13\n",
      "18                          JLR        12\n",
      "19  MHK100800 New Mass Air Flow        11\n"
     ]
    }
   ],
   "source": [
    "# Convert the list to a DataFrame\n",
    "top_20_nltk_ner_sentence = pd.DataFrame(top_20_companies, columns=['Company', 'Mentions'])\n",
    "\n",
    "# Display the DataFrame\n",
    "print(top_20_nltk_ner_sentence)"
   ]
  },
  {
   "cell_type": "markdown",
   "metadata": {},
   "source": [
    "### SpaCy without Sentence Segmentation"
   ]
  },
  {
   "cell_type": "code",
   "execution_count": 17,
   "metadata": {
    "ExecuteTime": {
     "end_time": "2024-02-06T08:13:21.149954Z",
     "start_time": "2024-02-06T08:13:18.641381Z"
    }
   },
   "outputs": [],
   "source": [
    "nlp = spacy.load(\"en_core_web_lg\")"
   ]
  },
  {
   "cell_type": "code",
   "execution_count": 19,
   "metadata": {
    "ExecuteTime": {
     "end_time": "2024-02-06T08:14:12.245573Z",
     "start_time": "2024-02-06T08:13:55.654458Z"
    }
   },
   "outputs": [
    {
     "data": {
      "application/vnd.jupyter.widget-view+json": {
       "model_id": "a3c45fe08f074b3bab78c03fd943c9ff",
       "version_major": 2,
       "version_minor": 0
      },
      "text/plain": [
       "VBox(children=(HBox(children=(IntProgress(value=0, description='0.00%', max=849), Label(value='0 / 849'))), HB…"
      ]
     },
     "metadata": {},
     "output_type": "display_data"
    }
   ],
   "source": [
    "def extract_entities_with_spacy(text):\n",
    "    # Process the text with spaCy\n",
    "    doc = nlp(text)\n",
    "    \n",
    "    entities = []\n",
    "    labels = []\n",
    "    \n",
    "    # Extract entities and their labels\n",
    "    for ent in doc.ents:\n",
    "        entities.append(ent.text)\n",
    "        labels.append(ent.label_)\n",
    "    \n",
    "    # Create a list of unique entity-label pairs\n",
    "    entities_labels = list(set(zip(entities, labels)))\n",
    "    \n",
    "    return entities_labels\n",
    "\n",
    "tweets_df['spacy_ner_whole'] = tweets_df['text_cleaned'].parallel_apply(extract_entities_with_spacy)"
   ]
  },
  {
   "cell_type": "code",
   "execution_count": 20,
   "metadata": {
    "ExecuteTime": {
     "end_time": "2024-02-06T08:14:13.992758Z",
     "start_time": "2024-02-06T08:14:13.973512Z"
    }
   },
   "outputs": [],
   "source": [
    "company_mentions = Counter()\n",
    "\n",
    "for entities_labels in tweets_df['spacy_ner_whole']:\n",
    "    for entity, label in entities_labels:\n",
    "        if label == 'ORG':  \n",
    "            company_mentions[entity] += 1\n",
    "\n",
    "# Get the most common 20 companies\n",
    "top_20_companies = company_mentions.most_common(20)"
   ]
  },
  {
   "cell_type": "code",
   "execution_count": 21,
   "metadata": {
    "ExecuteTime": {
     "end_time": "2024-02-06T08:14:14.438843Z",
     "start_time": "2024-02-06T08:14:14.380541Z"
    }
   },
   "outputs": [
    {
     "name": "stdout",
     "output_type": "stream",
     "text": [
      "                   Company  Mentions\n",
      "0               Land Rover       413\n",
      "1                     eBay       335\n",
      "2        Jaguar Land Rover       273\n",
      "3      Land Rover Defender       100\n",
      "4                   Jaguar        72\n",
      "5                    Rover        42\n",
      "6            TEKNOOFFICIAL        41\n",
      "7                     Ford        39\n",
      "8                      BMW        38\n",
      "9           the Land Rover        33\n",
      "10                   Volvo        29\n",
      "11             Range Rover        25\n",
      "12                  Toyota        25\n",
      "13                    Audi        24\n",
      "14                 Porsche        24\n",
      "15  Land Rover Range Rover        24\n",
      "16                   Tesla        18\n",
      "17             Tata Motors        17\n",
      "18    Land Rover Defenders        17\n",
      "19                Mercedes        16\n"
     ]
    }
   ],
   "source": [
    "# Convert the list to a DataFrame\n",
    "top_20_spacy_ner_whole = pd.DataFrame(top_20_companies, columns=['Company', 'Mentions'])\n",
    "\n",
    "# Display the DataFrame\n",
    "print(top_20_spacy_ner_whole)"
   ]
  },
  {
   "cell_type": "markdown",
   "metadata": {},
   "source": [
    "### SpaCy with Sentence Segmentation"
   ]
  },
  {
   "cell_type": "code",
   "execution_count": 44,
   "metadata": {
    "ExecuteTime": {
     "end_time": "2024-02-06T20:36:19.693427Z",
     "start_time": "2024-02-06T20:36:06.667222Z"
    }
   },
   "outputs": [
    {
     "data": {
      "application/vnd.jupyter.widget-view+json": {
       "model_id": "e14b1d2e425b42d4af8fa360206a4539",
       "version_major": 2,
       "version_minor": 0
      },
      "text/plain": [
       "VBox(children=(HBox(children=(IntProgress(value=0, description='0.00%', max=849), Label(value='0 / 849'))), HB…"
      ]
     },
     "metadata": {},
     "output_type": "display_data"
    }
   ],
   "source": [
    "def extract_entities_with_spacy_sentence_segmentation(text):\n",
    "    doc = nlp(text)\n",
    "    \n",
    "    entities = []\n",
    "    labels = []\n",
    "    \n",
    "    # Iterate over sentences\n",
    "    for sent in doc.sents:\n",
    "        # Process each sentence for NER\n",
    "        for ent in sent.ents:\n",
    "            entities.append(ent.text)\n",
    "            labels.append(ent.label_)\n",
    "\n",
    "    # Create a list of unique entity-label pairs\n",
    "    entities_labels = list(set(zip(entities, labels)))\n",
    "    \n",
    "    return entities_labels\n",
    "\n",
    "tweets_df['spacy_ner_sentence'] = tweets_df['text_cleaned'].parallel_apply(extract_entities_with_spacy)"
   ]
  },
  {
   "cell_type": "code",
   "execution_count": 45,
   "metadata": {
    "ExecuteTime": {
     "end_time": "2024-02-06T20:36:20.472680Z",
     "start_time": "2024-02-06T20:36:20.453459Z"
    }
   },
   "outputs": [],
   "source": [
    "company_mentions = Counter()\n",
    "\n",
    "for entities_labels in tweets_df['spacy_ner_sentence']:\n",
    "    for entity, label in entities_labels:\n",
    "        if label == 'ORG':  \n",
    "            company_mentions[entity] += 1\n",
    "\n",
    "# Get the most common 20 companies\n",
    "top_20_companies = company_mentions.most_common(20)"
   ]
  },
  {
   "cell_type": "code",
   "execution_count": 46,
   "metadata": {
    "ExecuteTime": {
     "end_time": "2024-02-06T20:36:21.128952Z",
     "start_time": "2024-02-06T20:36:21.093316Z"
    }
   },
   "outputs": [
    {
     "name": "stdout",
     "output_type": "stream",
     "text": [
      "                   Company  Mentions\n",
      "0               Land Rover       413\n",
      "1                     eBay       335\n",
      "2        Jaguar Land Rover       273\n",
      "3      Land Rover Defender       100\n",
      "4                   Jaguar        72\n",
      "5                    Rover        42\n",
      "6            TEKNOOFFICIAL        41\n",
      "7                     Ford        39\n",
      "8                      BMW        38\n",
      "9           the Land Rover        33\n",
      "10                   Volvo        29\n",
      "11             Range Rover        25\n",
      "12                  Toyota        25\n",
      "13                    Audi        24\n",
      "14                 Porsche        24\n",
      "15  Land Rover Range Rover        24\n",
      "16                   Tesla        18\n",
      "17             Tata Motors        17\n",
      "18    Land Rover Defenders        17\n",
      "19                Mercedes        16\n"
     ]
    }
   ],
   "source": [
    "# Convert the list to a DataFrame\n",
    "top_20_spacy_ner_sentence_twiiter = pd.DataFrame(top_20_companies, columns=['Company', 'Mentions'])\n",
    "\n",
    "# Display the DataFrame\n",
    "print(top_20_spacy_ner_sentence_twiiter)"
   ]
  },
  {
   "cell_type": "markdown",
   "metadata": {},
   "source": [
    "The four approaches demonstrate different models between NLTK and SpaCy. The sentence segmentation doesn't make a big change within the two models. However, NLTK model doesn't provide a clear perspective of companies, for example, it identifies some non-sense capital words as companies instead. On the other hand, the Spacy model does provide a robust identification, resulted in most of the companies are reasonable. Thus, Spacy model is much better."
   ]
  },
  {
   "cell_type": "code",
   "execution_count": 47,
   "metadata": {
    "ExecuteTime": {
     "end_time": "2024-02-06T20:36:35.968879Z",
     "start_time": "2024-02-06T20:36:33.786457Z"
    }
   },
   "outputs": [
    {
     "data": {
      "image/png": "[encoded data removed]",
      "text/plain": [
       "<Figure size 1000x800 with 1 Axes>"
      ]
     },
     "metadata": {},
     "output_type": "display_data"
    }
   ],
   "source": [
    "# Plotting\n",
    "plt.figure(figsize=(10, 8))\n",
    "plt.barh(top_20_spacy_ner_sentence_twiiter['Company'], top_20_spacy_ner_sentence_twiiter['Mentions'])\n",
    "plt.xlabel('Mentions')\n",
    "plt.ylabel('Company')\n",
    "plt.title('Top 20 Companies by Mentions')\n",
    "plt.gca().invert_yaxis()  # Invert y-axis to have the company with the highest mentions on top\n",
    "plt.show()"
   ]
  },
  {
   "cell_type": "markdown",
   "metadata": {},
   "source": [
    "## News Data"
   ]
  },
  {
   "cell_type": "markdown",
   "metadata": {},
   "source": [
    "### Clean Data"
   ]
  },
  {
   "cell_type": "code",
   "execution_count": 48,
   "metadata": {
    "ExecuteTime": {
     "end_time": "2024-02-06T20:37:44.634871Z",
     "start_time": "2024-02-06T20:37:37.342449Z"
    }
   },
   "outputs": [],
   "source": [
    "news_df[\"text_cleaned\"] = news_df[\"text\"].apply(clean)\n",
    "news_df[\"title_cleaned\"]=news_df[\"title\"].apply(clean)"
   ]
  },
  {
   "cell_type": "code",
   "execution_count": 24,
   "metadata": {
    "ExecuteTime": {
     "end_time": "2024-02-06T08:15:20.886235Z",
     "start_time": "2024-02-06T08:15:20.871714Z"
    }
   },
   "outputs": [
    {
     "data": {
      "text/html": [
       "<div>\n",
       "<style scoped>\n",
       "    .dataframe tbody tr th:only-of-type {\n",
       "        vertical-align: middle;\n",
       "    }\n",
       "\n",
       "    .dataframe tbody tr th {\n",
       "        vertical-align: top;\n",
       "    }\n",
       "\n",
       "    .dataframe thead th {\n",
       "        text-align: right;\n",
       "    }\n",
       "</style>\n",
       "<table border=\"1\" class=\"dataframe\">\n",
       "  <thead>\n",
       "    <tr style=\"text-align: right;\">\n",
       "      <th></th>\n",
       "      <th>url</th>\n",
       "      <th>date</th>\n",
       "      <th>language</th>\n",
       "      <th>title</th>\n",
       "      <th>text</th>\n",
       "      <th>text_cleaned</th>\n",
       "    </tr>\n",
       "  </thead>\n",
       "  <tbody>\n",
       "    <tr>\n",
       "      <th>0</th>\n",
       "      <td>http://kokomoperspective.com/obituaries/jon-w-horton/article_b6ba8e1e-cb9c-11eb-9868-fb11b88b9778.html</td>\n",
       "      <td>2021-06-13</td>\n",
       "      <td>en</td>\n",
       "      <td>Jon W. Horton | Obituaries | kokomoperspective.com</td>\n",
       "      <td>Jon W. Horton | Obituaries | kokomoperspective.comYou have permission to edit this article. EditCloseSign Up                        Log In                    Dashboard  LogoutMy Account Dashboard Profile Saved items LogoutCOVID-19Click here for the latest local news on COVID-19HomeAbout UsContact UsNewsLocalOpinionPoliticsNationalStateAgricultureLifestylesEngagements/Anniversaries/WeddingsAutosEntertainmentHealthHomesOutdoorsSportsNFLNCAAVitalsObituariesAutomotivee-EditionCouponsGalleries74°...</td>\n",
       "      <td>Jon W Horton  Obituaries  kokomoperspectivecomYou have permission to edit this article EditCloseSign Up                        Log In                    Dashboard  LogoutMy Account Dashboard Profile Saved items LogoutCOVID19Click here for the latest local news on COVID19HomeAbout UsContact UsNewsLocalOpinionPoliticsNationalStateAgricultureLifestylesEngagementsAnniversariesWeddingsAutosEntertainmentHealthHomesOutdoorsSportsNFLNCAAVitalsObituariesAutomotiveeEditionCouponsGalleries74Fair       ...</td>\n",
       "    </tr>\n",
       "    <tr>\n",
       "      <th>1</th>\n",
       "      <td>https://auto.economictimes.indiatimes.com/news/auto-components/birla-precision-to-ramp-up-capacity-to-tap-emerging-opportunities-in-india/81254902</td>\n",
       "      <td>2021-02-28</td>\n",
       "      <td>en</td>\n",
       "      <td>Birla Precision to ramp up capacity to tap emerging opportunities in India, Auto News, ET Auto</td>\n",
       "      <td>Birla Precision to ramp up capacity to tap emerging opportunities in India, Auto News, ET Auto     We have updated our terms and conditions and privacy policy Click \"Continue\" to accept and continue with ET AutoAccept the updated privacy &amp; cookie policyDear user, ET Auto privacy and cookie policy has been updated to align with the new data regulations in European Union. Please review and accept these changes below to continue using the website.You can see our privacy policy &amp; our cookie ...</td>\n",
       "      <td>Birla Precision to ramp up capacity to tap emerging opportunities in India Auto News ET Auto     We have updated our terms and conditions and privacy policy Click Continue to accept and continue with ET AutoAccept the updated privacy  cookie policyDear user ET Auto privacy and cookie policy has been updated to align with the new data regulations in European Union Please review and accept these changes below to continue using the websiteYou can see our privacy policy  our cookie policy We use...</td>\n",
       "    </tr>\n",
       "    <tr>\n",
       "      <th>2</th>\n",
       "      <td>https://ca.sports.yahoo.com/news/global-hydrogen-fueling-station-markets-104800330.html?src=rss</td>\n",
       "      <td>2021-12-07</td>\n",
       "      <td>en</td>\n",
       "      <td>Global Hydrogen Fueling Station Markets to 2035: Current State and Future Prognosis of Passenger Hydrogen Fuel Cell Vehicles (FCVs)</td>\n",
       "      <td>Global Hydrogen Fueling Station Markets to 2035: Current State and Future Prognosis of Passenger Hydrogen Fuel Cell Vehicles (FCVs)        HOME    MAIL    NEWS    SPORTS    FINANCE    CELEBRITY    STYLE    MOVIES    WEATHER    MOBILE           Yahoo Sports Sign in   Mail Sign in to view your mail    Sports Home   Sports Home  Fantasy   Fantasy   Fantasy FootballFantasy Football Fantasy HockeyFantasy Hockey Fantasy BasketballFantasy Basketball Fantasy Auto RacingFantasy Auto Racing Fantasy Go...</td>\n",
       "      <td>Global Hydrogen Fueling Station Markets to 2035 Current State and Future Prognosis of Passenger Hydrogen Fuel Cell Vehicles FCVs        HOME    MAIL    NEWS    SPORTS    FINANCE    CELEBRITY    STYLE    MOVIES    WEATHER    MOBILE           Yahoo Sports Sign in   Mail Sign in to view your mail    Sports Home   Sports Home  Fantasy   Fantasy   Fantasy FootballFantasy Football Fantasy HockeyFantasy Hockey Fantasy BasketballFantasy Basketball Fantasy Auto RacingFantasy Auto Racing Fantasy GolfF...</td>\n",
       "    </tr>\n",
       "    <tr>\n",
       "      <th>3</th>\n",
       "      <td>https://cardealermagazine.co.uk/publish/july-20-backlash-over-covid-passports-cummings-leaks-more-pm-texts-extreme-heat-warning-anniversary-mini-cooper-jcw-revealed/228570</td>\n",
       "      <td>2021-07-20</td>\n",
       "      <td>en</td>\n",
       "      <td>July 20: Backlash over Covid passports; Cummings leaks more PM texts; Extreme heat warning; Anniversary Mini Cooper JCW revealed – Car Dealer Magazine</td>\n",
       "      <td>July 20: Backlash over Covid passports; Cummings leaks more PM texts; Extreme heat warning; Anniversary Mini Cooper JCW revealed – Car Dealer Magazine Log inCar Dealer Magazine LogoThe logo for Car Dealer Magazine Log inLatestUsed CarsLiveForumJobsPowerUCA 2020UCA 2021KnowledgeSuppliers GuideLatest IssueTop 100Home &gt; News Round-Up &gt; July 20: Backlash over Covid passports; Cummings leaks more PM texts; Extreme heat warning; Anniversary Mini Cooper JCW revealedNews Round-UpJuly 20: Backlash ov...</td>\n",
       "      <td>July 20 Backlash over Covid passports Cummings leaks more PM texts Extreme heat warning Anniversary Mini Cooper JCW revealed  Car Dealer Magazine Log inCar Dealer Magazine LogoThe logo for Car Dealer Magazine Log inLatestUsed CarsLiveForumJobsPowerUCA 2020UCA 2021KnowledgeSuppliers GuideLatest IssueTop 100Home  News RoundUp  July 20 Backlash over Covid passports Cummings leaks more PM texts Extreme heat warning Anniversary Mini Cooper JCW revealedNews RoundUpJuly 20 Backlash over Covid passp...</td>\n",
       "    </tr>\n",
       "    <tr>\n",
       "      <th>4</th>\n",
       "      <td>https://fox5sandiego.com/news/local-news/nonprofit-threatens-lawsuit-over-whales-found-dead-at-naval-base-san-diego/</td>\n",
       "      <td>2021-05-17</td>\n",
       "      <td>en</td>\n",
       "      <td>Nonprofit threatens lawsuit over whales found dead at Naval Base San Diego | FOX 5 San Diego</td>\n",
       "      <td>Nonprofit threatens lawsuit over whales found dead at Naval Base San Diego | FOX 5 San DiegoSkip to contentFOX 5 San DiegoSan Diego65°Sponsored By Toggle MenuOpen NavigationClose NavigationSearchPrimary MenuVideoFOX 5 News LiveLive EventsFOX 5 News NowVideo CenterFOX 5 Program ScheduleNewsNews AppsEmail NewslettersNews tips and story ideasLocalCaliforniaNationalWorldCOVID-19HealthEarthquakesEntertainmentBusinessTechnologyMorning NewsAuto UpdateVideo Game &amp; Pop Culture NewsPoliticsTrafficExp...</td>\n",
       "      <td>Nonprofit threatens lawsuit over whales found dead at Naval Base San Diego  FOX 5 San DiegoSkip to contentFOX 5 San DiegoSan Diego65Sponsored By Toggle MenuOpen NavigationClose NavigationSearchPrimary MenuVideoFOX 5 News LiveLive EventsFOX 5 News NowVideo CenterFOX 5 Program ScheduleNewsNews AppsEmail NewslettersNews tips and story ideasLocalCaliforniaNationalWorldCOVID19HealthEarthquakesEntertainmentBusinessTechnologyMorning NewsAuto UpdateVideo Game  Pop Culture NewsPoliticsTrafficExplore ...</td>\n",
       "    </tr>\n",
       "    <tr>\n",
       "      <th>5</th>\n",
       "      <td>https://indianautosblog.com/2021-tata-safari-officially-teased-p322272</td>\n",
       "      <td>2021-01-10</td>\n",
       "      <td>en</td>\n",
       "      <td>2021 Tata Safari Officially Teased Ahead Of Debut On January 26, 2021</td>\n",
       "      <td>2021 Tata Safari Officially Teased Ahead Of Debut On January 26, 2021                      HOME  CAR NEWS   Alfa Romeo Audi Bentley BMW Bugatti Chevrolet Citroen Dacia Daihatsu Datsun   DC Design Ferrari Fiat Ford Honda Hyundai Infiniti Isuzu Jaguar Jeep   Kia Lada Lamborghini Land Rover Lexus Mahindra Maruti Suzuki Maserati Mazda McLaren   Mercedes-Benz Mini Mitsubishi Nissan Opel Perodua Peugeot Porsche Proton Renault   Rolls Royce Skoda Ssangyong Suzuki Tata Tesla Toyota Volkswag...</td>\n",
       "      <td>2021 Tata Safari Officially Teased Ahead Of Debut On January 26 2021                      HOME  CAR NEWS   Alfa Romeo Audi Bentley BMW Bugatti Chevrolet Citroen Dacia Daihatsu Datsun   DC Design Ferrari Fiat Ford Honda Hyundai Infiniti Isuzu Jaguar Jeep   Kia Lada Lamborghini Land Rover Lexus Mahindra Maruti Suzuki Maserati Mazda McLaren   MercedesBenz Mini Mitsubishi Nissan Opel Perodua Peugeot Porsche Proton Renault   Rolls Royce Skoda Ssangyong Suzuki Tata Tesla Toyota Volkswagen Volvo MG...</td>\n",
       "    </tr>\n",
       "    <tr>\n",
       "      <th>6</th>\n",
       "      <td>https://kdvr.com/news/local/2021-sounds-exciting-summer-concert-series/</td>\n",
       "      <td>2021-04-27</td>\n",
       "      <td>en</td>\n",
       "      <td>Lakewood announces lineup for 2021 Sounds Exciting! Summer Concert Series</td>\n",
       "      <td>Lakewood announces lineup for 2021 Sounds Exciting! Summer Concert SeriesSkip to contentFOX31 DenverDenver69°Sponsored By Toggle MenuOpen NavigationClose NavigationSearchPrimary Menu🔴  Watch LiveAll Live StreamsWatch Latest VideosFOX31 &amp; Channel 2 Live Stream Schedule🔴  FOX31 NOW🔴  FOX31 Live Stream🔴  Channel 2 Live Stream🔴  Live Cam: DIAVaccine FinderNewsLocal NewsGrocery Store TragedyNational/WorldCoronavirusTrafficProblem SolversData DeskPoliticsHealthMoneyTechServing Those Who ServeSupp...</td>\n",
       "      <td>Lakewood announces lineup for 2021 Sounds Exciting Summer Concert SeriesSkip to contentFOX31 DenverDenver69Sponsored By Toggle MenuOpen NavigationClose NavigationSearchPrimary Menu  Watch LiveAll Live StreamsWatch Latest VideosFOX31  Channel 2 Live Stream Schedule  FOX31 NOW  FOX31 Live Stream  Channel 2 Live Stream  Live Cam DIAVaccine FinderNewsLocal NewsGrocery Store TragedyNationalWorldCoronavirusTrafficProblem SolversData DeskPoliticsHealthMoneyTechServing Those Who ServeSupport the Shi...</td>\n",
       "    </tr>\n",
       "    <tr>\n",
       "      <th>7</th>\n",
       "      <td>https://pledgetimes.com/princesses-hostages-and-mystery-where-is-shamsa-the-other-daughter-of-the-emir-of-dubai-who-disappeared-20-years-ago/</td>\n",
       "      <td>2021-02-26</td>\n",
       "      <td>en</td>\n",
       "      <td>Princesses, hostages and mystery: Where is Shamsa, the other daughter of the Emir of Dubai who disappeared 20 years ago? – Pledge Times</td>\n",
       "      <td>Princesses, hostages and mystery: Where is Shamsa, the other daughter of the Emir of Dubai who disappeared 20 years ago? – Pledge Times About UsT &amp; CDisclaimer for Pledge TimesWrite To Us PledgeTimes   HomeWorldLifestyleBusinessEntertainmentSportsNo Result  View All Result    HomeWorldLifestyleBusinessEntertainmentSportsNo Result  View All Result     PledgeTimes  No Result  View All Result     HomeWorld Princesses, hostages and mystery: Where is Shamsa, the other daughter of the Emir of Du...</td>\n",
       "      <td>Princesses hostages and mystery Where is Shamsa the other daughter of the Emir of Dubai who disappeared 20 years ago  Pledge Times About UsT  CDisclaimer for Pledge TimesWrite To Us PledgeTimes   HomeWorldLifestyleBusinessEntertainmentSportsNo Result  View All Result    HomeWorldLifestyleBusinessEntertainmentSportsNo Result  View All Result     PledgeTimes  No Result  View All Result     HomeWorld Princesses hostages and mystery Where is Shamsa the other daughter of the Emir of Dubai who dis...</td>\n",
       "    </tr>\n",
       "    <tr>\n",
       "      <th>8</th>\n",
       "      <td>https://www.atlanticfinancialmanagement.co.uk/pressroom/news/378191/consumer-autonomous-vehicles-apple-audi-baidu-bmw/</td>\n",
       "      <td>2021-02-23</td>\n",
       "      <td>en</td>\n",
       "      <td>Consumer Autonomous Vehicles Apple, Audi, Baidu, BMW – Atlantic Financial Management</td>\n",
       "      <td>Consumer Autonomous Vehicles Apple, Audi, Baidu, BMW – Atlantic Financial ManagementSkip to contentTue. Feb 23rd, 2021                          Atlantic Financial Management    EnergyPressroomSpaceAll NewsContact                                        News                                                 Consumer Autonomous Vehicles Apple, Audi, Baidu, BMW  Bycontrivedatuminsights                       Feb 23, 2021Apple, Audi, Baidu, BMW, Bosch, Consumer Autonomous Vehicles Market, Consumer A...</td>\n",
       "      <td>Consumer Autonomous Vehicles Apple Audi Baidu BMW  Atlantic Financial ManagementSkip to contentTue Feb 23rd 2021                          Atlantic Financial Management    EnergyPressroomSpaceAll NewsContact                                        News                                                 Consumer Autonomous Vehicles Apple Audi Baidu BMW  Bycontrivedatuminsights                       Feb 23 2021Apple Audi Baidu BMW Bosch Consumer Autonomous Vehicles Market Consumer Autonomous Vehicl...</td>\n",
       "    </tr>\n",
       "    <tr>\n",
       "      <th>9</th>\n",
       "      <td>https://www.autocar.co.uk/car-review/porsche/911/first-drives/porsche-911-gts-2021-uk-review</td>\n",
       "      <td>2021-10-22</td>\n",
       "      <td>en</td>\n",
       "      <td>Porsche 911 GTS 2021 UK review | Autocar</td>\n",
       "      <td>Porsche 911 GTS 2021 UK review | Autocar Car ReviewsLatest car reviewsIn-depth road test reviewsFirst drive reviewsLong-term reviewsTop 10s: Best Cars on saleVideo reviewsCar NewsLatest newsAdviceOpinionsFeaturesUsed carsUsed car homeUsed car dealsNearly new buying guidesUsed car buying guidesElectricMotorsportBusinessOffersGap InsuranceWarrantyLeasingSell your carSubscribeSubscribe to magazineAutocar Newsletter…Car ReviewsLatest car reviewsIn-depth road test reviewsFirst drive reviewsLong-t...</td>\n",
       "      <td>Porsche 911 GTS 2021 UK review  Autocar Car ReviewsLatest car reviewsIndepth road test reviewsFirst drive reviewsLongterm reviewsTop 10s Best Cars on saleVideo reviewsCar NewsLatest newsAdviceOpinionsFeaturesUsed carsUsed car homeUsed car dealsNearly new buying guidesUsed car buying guidesElectricMotorsportBusinessOffersGap InsuranceWarrantyLeasingSell your carSubscribeSubscribe to magazineAutocar NewsletterCar ReviewsLatest car reviewsIndepth road test reviewsFirst drive reviewsLongterm rev...</td>\n",
       "    </tr>\n",
       "  </tbody>\n",
       "</table>\n",
       "</div>"
      ],
      "text/plain": [
       "                                                                                                                                                                           url  \\\n",
       "0                                                                       http://kokomoperspective.com/obituaries/jon-w-horton/article_b6ba8e1e-cb9c-11eb-9868-fb11b88b9778.html   \n",
       "1                           https://auto.economictimes.indiatimes.com/news/auto-components/birla-precision-to-ramp-up-capacity-to-tap-emerging-opportunities-in-india/81254902   \n",
       "2                                                                              https://ca.sports.yahoo.com/news/global-hydrogen-fueling-station-markets-104800330.html?src=rss   \n",
       "3  https://cardealermagazine.co.uk/publish/july-20-backlash-over-covid-passports-cummings-leaks-more-pm-texts-extreme-heat-warning-anniversary-mini-cooper-jcw-revealed/228570   \n",
       "4                                                         https://fox5sandiego.com/news/local-news/nonprofit-threatens-lawsuit-over-whales-found-dead-at-naval-base-san-diego/   \n",
       "5                                                                                                       https://indianautosblog.com/2021-tata-safari-officially-teased-p322272   \n",
       "6                                                                                                      https://kdvr.com/news/local/2021-sounds-exciting-summer-concert-series/   \n",
       "7                                https://pledgetimes.com/princesses-hostages-and-mystery-where-is-shamsa-the-other-daughter-of-the-emir-of-dubai-who-disappeared-20-years-ago/   \n",
       "8                                                       https://www.atlanticfinancialmanagement.co.uk/pressroom/news/378191/consumer-autonomous-vehicles-apple-audi-baidu-bmw/   \n",
       "9                                                                                 https://www.autocar.co.uk/car-review/porsche/911/first-drives/porsche-911-gts-2021-uk-review   \n",
       "\n",
       "        date language  \\\n",
       "0 2021-06-13       en   \n",
       "1 2021-02-28       en   \n",
       "2 2021-12-07       en   \n",
       "3 2021-07-20       en   \n",
       "4 2021-05-17       en   \n",
       "5 2021-01-10       en   \n",
       "6 2021-04-27       en   \n",
       "7 2021-02-26       en   \n",
       "8 2021-02-23       en   \n",
       "9 2021-10-22       en   \n",
       "\n",
       "                                                                                                                                                    title  \\\n",
       "0                                                                                                      Jon W. Horton | Obituaries | kokomoperspective.com   \n",
       "1                                                          Birla Precision to ramp up capacity to tap emerging opportunities in India, Auto News, ET Auto   \n",
       "2                     Global Hydrogen Fueling Station Markets to 2035: Current State and Future Prognosis of Passenger Hydrogen Fuel Cell Vehicles (FCVs)   \n",
       "3  July 20: Backlash over Covid passports; Cummings leaks more PM texts; Extreme heat warning; Anniversary Mini Cooper JCW revealed – Car Dealer Magazine   \n",
       "4                                                            Nonprofit threatens lawsuit over whales found dead at Naval Base San Diego | FOX 5 San Diego   \n",
       "5                                                                                   2021 Tata Safari Officially Teased Ahead Of Debut On January 26, 2021   \n",
       "6                                                                               Lakewood announces lineup for 2021 Sounds Exciting! Summer Concert Series   \n",
       "7                 Princesses, hostages and mystery: Where is Shamsa, the other daughter of the Emir of Dubai who disappeared 20 years ago? – Pledge Times   \n",
       "8                                                                    Consumer Autonomous Vehicles Apple, Audi, Baidu, BMW – Atlantic Financial Management   \n",
       "9                                                                                                                Porsche 911 GTS 2021 UK review | Autocar   \n",
       "\n",
       "                                                                                                                                                                                                                                                                                                                                                                                                                                                                                                                  text  \\\n",
       "0  Jon W. Horton | Obituaries | kokomoperspective.comYou have permission to edit this article. EditCloseSign Up                        Log In                    Dashboard  LogoutMy Account Dashboard Profile Saved items LogoutCOVID-19Click here for the latest local news on COVID-19HomeAbout UsContact UsNewsLocalOpinionPoliticsNationalStateAgricultureLifestylesEngagements/Anniversaries/WeddingsAutosEntertainmentHealthHomesOutdoorsSportsNFLNCAAVitalsObituariesAutomotivee-EditionCouponsGalleries74°...   \n",
       "1      Birla Precision to ramp up capacity to tap emerging opportunities in India, Auto News, ET Auto     We have updated our terms and conditions and privacy policy Click \"Continue\" to accept and continue with ET AutoAccept the updated privacy & cookie policyDear user, ET Auto privacy and cookie policy has been updated to align with the new data regulations in European Union. Please review and accept these changes below to continue using the website.You can see our privacy policy & our cookie ...   \n",
       "2  Global Hydrogen Fueling Station Markets to 2035: Current State and Future Prognosis of Passenger Hydrogen Fuel Cell Vehicles (FCVs)        HOME    MAIL    NEWS    SPORTS    FINANCE    CELEBRITY    STYLE    MOVIES    WEATHER    MOBILE           Yahoo Sports Sign in   Mail Sign in to view your mail    Sports Home   Sports Home  Fantasy   Fantasy   Fantasy FootballFantasy Football Fantasy HockeyFantasy Hockey Fantasy BasketballFantasy Basketball Fantasy Auto RacingFantasy Auto Racing Fantasy Go...   \n",
       "3  July 20: Backlash over Covid passports; Cummings leaks more PM texts; Extreme heat warning; Anniversary Mini Cooper JCW revealed – Car Dealer Magazine Log inCar Dealer Magazine LogoThe logo for Car Dealer Magazine Log inLatestUsed CarsLiveForumJobsPowerUCA 2020UCA 2021KnowledgeSuppliers GuideLatest IssueTop 100Home > News Round-Up > July 20: Backlash over Covid passports; Cummings leaks more PM texts; Extreme heat warning; Anniversary Mini Cooper JCW revealedNews Round-UpJuly 20: Backlash ov...   \n",
       "4   Nonprofit threatens lawsuit over whales found dead at Naval Base San Diego | FOX 5 San DiegoSkip to contentFOX 5 San DiegoSan Diego65°Sponsored By Toggle MenuOpen NavigationClose NavigationSearchPrimary MenuVideoFOX 5 News LiveLive EventsFOX 5 News NowVideo CenterFOX 5 Program ScheduleNewsNews AppsEmail NewslettersNews tips and story ideasLocalCaliforniaNationalWorldCOVID-19HealthEarthquakesEntertainmentBusinessTechnologyMorning NewsAuto UpdateVideo Game & Pop Culture NewsPoliticsTrafficExp...   \n",
       "5           2021 Tata Safari Officially Teased Ahead Of Debut On January 26, 2021                      HOME  CAR NEWS   Alfa Romeo Audi Bentley BMW Bugatti Chevrolet Citroen Dacia Daihatsu Datsun   DC Design Ferrari Fiat Ford Honda Hyundai Infiniti Isuzu Jaguar Jeep   Kia Lada Lamborghini Land Rover Lexus Mahindra Maruti Suzuki Maserati Mazda McLaren   Mercedes-Benz Mini Mitsubishi Nissan Opel Perodua Peugeot Porsche Proton Renault   Rolls Royce Skoda Ssangyong Suzuki Tata Tesla Toyota Volkswag...   \n",
       "6   Lakewood announces lineup for 2021 Sounds Exciting! Summer Concert SeriesSkip to contentFOX31 DenverDenver69°Sponsored By Toggle MenuOpen NavigationClose NavigationSearchPrimary Menu🔴  Watch LiveAll Live StreamsWatch Latest VideosFOX31 & Channel 2 Live Stream Schedule🔴  FOX31 NOW🔴  FOX31 Live Stream🔴  Channel 2 Live Stream🔴  Live Cam: DIAVaccine FinderNewsLocal NewsGrocery Store TragedyNational/WorldCoronavirusTrafficProblem SolversData DeskPoliticsHealthMoneyTechServing Those Who ServeSupp...   \n",
       "7    Princesses, hostages and mystery: Where is Shamsa, the other daughter of the Emir of Dubai who disappeared 20 years ago? – Pledge Times About UsT & CDisclaimer for Pledge TimesWrite To Us PledgeTimes   HomeWorldLifestyleBusinessEntertainmentSportsNo Result  View All Result    HomeWorldLifestyleBusinessEntertainmentSportsNo Result  View All Result     PledgeTimes  No Result  View All Result     HomeWorld Princesses, hostages and mystery: Where is Shamsa, the other daughter of the Emir of Du...   \n",
       "8  Consumer Autonomous Vehicles Apple, Audi, Baidu, BMW – Atlantic Financial ManagementSkip to contentTue. Feb 23rd, 2021                          Atlantic Financial Management    EnergyPressroomSpaceAll NewsContact                                        News                                                 Consumer Autonomous Vehicles Apple, Audi, Baidu, BMW  Bycontrivedatuminsights                       Feb 23, 2021Apple, Audi, Baidu, BMW, Bosch, Consumer Autonomous Vehicles Market, Consumer A...   \n",
       "9  Porsche 911 GTS 2021 UK review | Autocar Car ReviewsLatest car reviewsIn-depth road test reviewsFirst drive reviewsLong-term reviewsTop 10s: Best Cars on saleVideo reviewsCar NewsLatest newsAdviceOpinionsFeaturesUsed carsUsed car homeUsed car dealsNearly new buying guidesUsed car buying guidesElectricMotorsportBusinessOffersGap InsuranceWarrantyLeasingSell your carSubscribeSubscribe to magazineAutocar Newsletter…Car ReviewsLatest car reviewsIn-depth road test reviewsFirst drive reviewsLong-t...   \n",
       "\n",
       "                                                                                                                                                                                                                                                                                                                                                                                                                                                                                                          text_cleaned  \n",
       "0  Jon W Horton  Obituaries  kokomoperspectivecomYou have permission to edit this article EditCloseSign Up                        Log In                    Dashboard  LogoutMy Account Dashboard Profile Saved items LogoutCOVID19Click here for the latest local news on COVID19HomeAbout UsContact UsNewsLocalOpinionPoliticsNationalStateAgricultureLifestylesEngagementsAnniversariesWeddingsAutosEntertainmentHealthHomesOutdoorsSportsNFLNCAAVitalsObituariesAutomotiveeEditionCouponsGalleries74Fair       ...  \n",
       "1  Birla Precision to ramp up capacity to tap emerging opportunities in India Auto News ET Auto     We have updated our terms and conditions and privacy policy Click Continue to accept and continue with ET AutoAccept the updated privacy  cookie policyDear user ET Auto privacy and cookie policy has been updated to align with the new data regulations in European Union Please review and accept these changes below to continue using the websiteYou can see our privacy policy  our cookie policy We use...  \n",
       "2  Global Hydrogen Fueling Station Markets to 2035 Current State and Future Prognosis of Passenger Hydrogen Fuel Cell Vehicles FCVs        HOME    MAIL    NEWS    SPORTS    FINANCE    CELEBRITY    STYLE    MOVIES    WEATHER    MOBILE           Yahoo Sports Sign in   Mail Sign in to view your mail    Sports Home   Sports Home  Fantasy   Fantasy   Fantasy FootballFantasy Football Fantasy HockeyFantasy Hockey Fantasy BasketballFantasy Basketball Fantasy Auto RacingFantasy Auto Racing Fantasy GolfF...  \n",
       "3  July 20 Backlash over Covid passports Cummings leaks more PM texts Extreme heat warning Anniversary Mini Cooper JCW revealed  Car Dealer Magazine Log inCar Dealer Magazine LogoThe logo for Car Dealer Magazine Log inLatestUsed CarsLiveForumJobsPowerUCA 2020UCA 2021KnowledgeSuppliers GuideLatest IssueTop 100Home  News RoundUp  July 20 Backlash over Covid passports Cummings leaks more PM texts Extreme heat warning Anniversary Mini Cooper JCW revealedNews RoundUpJuly 20 Backlash over Covid passp...  \n",
       "4  Nonprofit threatens lawsuit over whales found dead at Naval Base San Diego  FOX 5 San DiegoSkip to contentFOX 5 San DiegoSan Diego65Sponsored By Toggle MenuOpen NavigationClose NavigationSearchPrimary MenuVideoFOX 5 News LiveLive EventsFOX 5 News NowVideo CenterFOX 5 Program ScheduleNewsNews AppsEmail NewslettersNews tips and story ideasLocalCaliforniaNationalWorldCOVID19HealthEarthquakesEntertainmentBusinessTechnologyMorning NewsAuto UpdateVideo Game  Pop Culture NewsPoliticsTrafficExplore ...  \n",
       "5  2021 Tata Safari Officially Teased Ahead Of Debut On January 26 2021                      HOME  CAR NEWS   Alfa Romeo Audi Bentley BMW Bugatti Chevrolet Citroen Dacia Daihatsu Datsun   DC Design Ferrari Fiat Ford Honda Hyundai Infiniti Isuzu Jaguar Jeep   Kia Lada Lamborghini Land Rover Lexus Mahindra Maruti Suzuki Maserati Mazda McLaren   MercedesBenz Mini Mitsubishi Nissan Opel Perodua Peugeot Porsche Proton Renault   Rolls Royce Skoda Ssangyong Suzuki Tata Tesla Toyota Volkswagen Volvo MG...  \n",
       "6  Lakewood announces lineup for 2021 Sounds Exciting Summer Concert SeriesSkip to contentFOX31 DenverDenver69Sponsored By Toggle MenuOpen NavigationClose NavigationSearchPrimary Menu  Watch LiveAll Live StreamsWatch Latest VideosFOX31  Channel 2 Live Stream Schedule  FOX31 NOW  FOX31 Live Stream  Channel 2 Live Stream  Live Cam DIAVaccine FinderNewsLocal NewsGrocery Store TragedyNationalWorldCoronavirusTrafficProblem SolversData DeskPoliticsHealthMoneyTechServing Those Who ServeSupport the Shi...  \n",
       "7  Princesses hostages and mystery Where is Shamsa the other daughter of the Emir of Dubai who disappeared 20 years ago  Pledge Times About UsT  CDisclaimer for Pledge TimesWrite To Us PledgeTimes   HomeWorldLifestyleBusinessEntertainmentSportsNo Result  View All Result    HomeWorldLifestyleBusinessEntertainmentSportsNo Result  View All Result     PledgeTimes  No Result  View All Result     HomeWorld Princesses hostages and mystery Where is Shamsa the other daughter of the Emir of Dubai who dis...  \n",
       "8  Consumer Autonomous Vehicles Apple Audi Baidu BMW  Atlantic Financial ManagementSkip to contentTue Feb 23rd 2021                          Atlantic Financial Management    EnergyPressroomSpaceAll NewsContact                                        News                                                 Consumer Autonomous Vehicles Apple Audi Baidu BMW  Bycontrivedatuminsights                       Feb 23 2021Apple Audi Baidu BMW Bosch Consumer Autonomous Vehicles Market Consumer Autonomous Vehicl...  \n",
       "9  Porsche 911 GTS 2021 UK review  Autocar Car ReviewsLatest car reviewsIndepth road test reviewsFirst drive reviewsLongterm reviewsTop 10s Best Cars on saleVideo reviewsCar NewsLatest newsAdviceOpinionsFeaturesUsed carsUsed car homeUsed car dealsNearly new buying guidesUsed car buying guidesElectricMotorsportBusinessOffersGap InsuranceWarrantyLeasingSell your carSubscribeSubscribe to magazineAutocar NewsletterCar ReviewsLatest car reviewsIndepth road test reviewsFirst drive reviewsLongterm rev...  "
      ]
     },
     "execution_count": 24,
     "metadata": {},
     "output_type": "execute_result"
    }
   ],
   "source": [
    "news_df.head(10)"
   ]
  },
  {
   "cell_type": "markdown",
   "metadata": {},
   "source": [
    "### NLTK without Sentence Segmentation"
   ]
  },
  {
   "cell_type": "code",
   "execution_count": 16,
   "metadata": {
    "ExecuteTime": {
     "end_time": "2024-02-06T08:04:25.789168Z",
     "start_time": "2024-02-06T08:04:12.032779Z"
    }
   },
   "outputs": [
    {
     "data": {
      "application/vnd.jupyter.widget-view+json": {
       "model_id": "de3585ca1d1942f8a8a9615ae31435c4",
       "version_major": 2,
       "version_minor": 0
      },
      "text/plain": [
       "VBox(children=(HBox(children=(IntProgress(value=0, description='0.00%', max=1669), Label(value='0 / 1669'))), …"
      ]
     },
     "metadata": {},
     "output_type": "display_data"
    },
    {
     "name": "stderr",
     "output_type": "stream",
     "text": [
      "Process ForkPoolWorker-18:\n",
      "Process ForkPoolWorker-19:\n",
      "Process ForkPoolWorker-15:\n"
     ]
    },
    {
     "ename": "KeyboardInterrupt",
     "evalue": "",
     "output_type": "error",
     "traceback": [
      "\u001b[0;31m---------------------------------------------------------------------------\u001b[0m",
      "\u001b[0;31mKeyboardInterrupt\u001b[0m                         Traceback (most recent call last)",
      "Cell \u001b[0;32mIn[16], line 11\u001b[0m\n\u001b[1;32m      8\u001b[0m     entities_labels \u001b[38;5;241m=\u001b[39m \u001b[38;5;28mlist\u001b[39m(\u001b[38;5;28mset\u001b[39m(\u001b[38;5;28mzip\u001b[39m(entities, labels)))  \u001b[38;5;66;03m# Unique entities and labels\u001b[39;00m\n\u001b[1;32m      9\u001b[0m     \u001b[38;5;28;01mreturn\u001b[39;00m entities_labels\n\u001b[0;32m---> 11\u001b[0m news_df[\u001b[38;5;124m'\u001b[39m\u001b[38;5;124mnltk_ner_whole\u001b[39m\u001b[38;5;124m'\u001b[39m] \u001b[38;5;241m=\u001b[39m news_df[\u001b[38;5;124m'\u001b[39m\u001b[38;5;124mtext_cleaned\u001b[39m\u001b[38;5;124m'\u001b[39m]\u001b[38;5;241m.\u001b[39mparallel_apply(extract_entities)\n",
      "File \u001b[0;32m~/anaconda3/lib/python3.11/site-packages/pandarallel/core.py:428\u001b[0m, in \u001b[0;36mparallelize_with_pipe.<locals>.closure\u001b[0;34m(data, user_defined_function, *user_defined_function_args, **user_defined_function_kwargs)\u001b[0m\n\u001b[1;32m    423\u001b[0m generation \u001b[38;5;241m=\u001b[39m count()\n\u001b[1;32m    425\u001b[0m \u001b[38;5;28;01mwhile\u001b[39;00m \u001b[38;5;28many\u001b[39m(\n\u001b[1;32m    426\u001b[0m     (worker_status \u001b[38;5;241m==\u001b[39m WorkerStatus\u001b[38;5;241m.\u001b[39mRunning \u001b[38;5;28;01mfor\u001b[39;00m worker_status \u001b[38;5;129;01min\u001b[39;00m workers_status)\n\u001b[1;32m    427\u001b[0m ):\n\u001b[0;32m--> 428\u001b[0m     message: Tuple[\u001b[38;5;28mint\u001b[39m, WorkerStatus, Any] \u001b[38;5;241m=\u001b[39m master_workers_queue\u001b[38;5;241m.\u001b[39mget()\n\u001b[1;32m    429\u001b[0m     worker_index, worker_status, payload \u001b[38;5;241m=\u001b[39m message\n\u001b[1;32m    430\u001b[0m     workers_status[worker_index] \u001b[38;5;241m=\u001b[39m worker_status\n",
      "File \u001b[0;32m<string>:2\u001b[0m, in \u001b[0;36mget\u001b[0;34m(self, *args, **kwds)\u001b[0m\n",
      "File \u001b[0;32m~/anaconda3/lib/python3.11/multiprocessing/managers.py:822\u001b[0m, in \u001b[0;36mBaseProxy._callmethod\u001b[0;34m(self, methodname, args, kwds)\u001b[0m\n\u001b[1;32m    819\u001b[0m     conn \u001b[38;5;241m=\u001b[39m \u001b[38;5;28mself\u001b[39m\u001b[38;5;241m.\u001b[39m_tls\u001b[38;5;241m.\u001b[39mconnection\n\u001b[1;32m    821\u001b[0m conn\u001b[38;5;241m.\u001b[39msend((\u001b[38;5;28mself\u001b[39m\u001b[38;5;241m.\u001b[39m_id, methodname, args, kwds))\n\u001b[0;32m--> 822\u001b[0m kind, result \u001b[38;5;241m=\u001b[39m conn\u001b[38;5;241m.\u001b[39mrecv()\n\u001b[1;32m    824\u001b[0m \u001b[38;5;28;01mif\u001b[39;00m kind \u001b[38;5;241m==\u001b[39m \u001b[38;5;124m'\u001b[39m\u001b[38;5;124m#RETURN\u001b[39m\u001b[38;5;124m'\u001b[39m:\n\u001b[1;32m    825\u001b[0m     \u001b[38;5;28;01mreturn\u001b[39;00m result\n",
      "File \u001b[0;32m~/anaconda3/lib/python3.11/multiprocessing/connection.py:249\u001b[0m, in \u001b[0;36m_ConnectionBase.recv\u001b[0;34m(self)\u001b[0m\n\u001b[1;32m    247\u001b[0m \u001b[38;5;28mself\u001b[39m\u001b[38;5;241m.\u001b[39m_check_closed()\n\u001b[1;32m    248\u001b[0m \u001b[38;5;28mself\u001b[39m\u001b[38;5;241m.\u001b[39m_check_readable()\n\u001b[0;32m--> 249\u001b[0m buf \u001b[38;5;241m=\u001b[39m \u001b[38;5;28mself\u001b[39m\u001b[38;5;241m.\u001b[39m_recv_bytes()\n\u001b[1;32m    250\u001b[0m \u001b[38;5;28;01mreturn\u001b[39;00m _ForkingPickler\u001b[38;5;241m.\u001b[39mloads(buf\u001b[38;5;241m.\u001b[39mgetbuffer())\n",
      "File \u001b[0;32m~/anaconda3/lib/python3.11/multiprocessing/connection.py:413\u001b[0m, in \u001b[0;36mConnection._recv_bytes\u001b[0;34m(self, maxsize)\u001b[0m\n\u001b[1;32m    412\u001b[0m \u001b[38;5;28;01mdef\u001b[39;00m \u001b[38;5;21m_recv_bytes\u001b[39m(\u001b[38;5;28mself\u001b[39m, maxsize\u001b[38;5;241m=\u001b[39m\u001b[38;5;28;01mNone\u001b[39;00m):\n\u001b[0;32m--> 413\u001b[0m     buf \u001b[38;5;241m=\u001b[39m \u001b[38;5;28mself\u001b[39m\u001b[38;5;241m.\u001b[39m_recv(\u001b[38;5;241m4\u001b[39m)\n\u001b[1;32m    414\u001b[0m     size, \u001b[38;5;241m=\u001b[39m struct\u001b[38;5;241m.\u001b[39munpack(\u001b[38;5;124m\"\u001b[39m\u001b[38;5;124m!i\u001b[39m\u001b[38;5;124m\"\u001b[39m, buf\u001b[38;5;241m.\u001b[39mgetvalue())\n\u001b[1;32m    415\u001b[0m     \u001b[38;5;28;01mif\u001b[39;00m size \u001b[38;5;241m==\u001b[39m \u001b[38;5;241m-\u001b[39m\u001b[38;5;241m1\u001b[39m:\n",
      "File \u001b[0;32m~/anaconda3/lib/python3.11/multiprocessing/connection.py:378\u001b[0m, in \u001b[0;36mConnection._recv\u001b[0;34m(self, size, read)\u001b[0m\n\u001b[1;32m    376\u001b[0m remaining \u001b[38;5;241m=\u001b[39m size\n\u001b[1;32m    377\u001b[0m \u001b[38;5;28;01mwhile\u001b[39;00m remaining \u001b[38;5;241m>\u001b[39m \u001b[38;5;241m0\u001b[39m:\n\u001b[0;32m--> 378\u001b[0m     chunk \u001b[38;5;241m=\u001b[39m read(handle, remaining)\n\u001b[1;32m    379\u001b[0m     n \u001b[38;5;241m=\u001b[39m \u001b[38;5;28mlen\u001b[39m(chunk)\n\u001b[1;32m    380\u001b[0m     \u001b[38;5;28;01mif\u001b[39;00m n \u001b[38;5;241m==\u001b[39m \u001b[38;5;241m0\u001b[39m:\n",
      "\u001b[0;31mKeyboardInterrupt\u001b[0m: "
     ]
    },
    {
     "name": "stderr",
     "output_type": "stream",
     "text": [
      "Process ForkPoolWorker-17:\n",
      "Process ForkPoolWorker-16:\n",
      "Process ForkPoolWorker-20:\n",
      "Traceback (most recent call last):\n"
     ]
    }
   ],
   "source": [
    "def extract_entities(text):\n",
    "    entities = []\n",
    "    labels = []\n",
    "    for chunk in ne_chunk(pos_tag(word_tokenize(text)), binary=False):\n",
    "        if hasattr(chunk, 'label'):\n",
    "            entities.append(' '.join(c[0] for c in chunk))  # Combine multi-token entities\n",
    "            labels.append(chunk.label())\n",
    "    entities_labels = list(set(zip(entities, labels)))  # Unique entities and labels\n",
    "    return entities_labels\n",
    "\n",
    "news_df['nltk_ner_whole'] = news_df['text_cleaned'].apply(extract_entities)"
   ]
  },
  {
   "cell_type": "code",
   "execution_count": 12,
   "metadata": {
    "ExecuteTime": {
     "end_time": "2024-02-06T07:30:22.597625Z",
     "start_time": "2024-02-06T07:30:21.563865Z"
    }
   },
   "outputs": [],
   "source": [
    "company_mentions = Counter()\n",
    "\n",
    "for entities_labels in tweets_df['nltk_ner_whole']:\n",
    "    for entity, label in entities_labels:\n",
    "        if label == 'ORGANIZATION':  \n",
    "            company_mentions[entity] += 1\n",
    "\n",
    "# Get the most common 20 companies\n",
    "top_20_companies = company_mentions.most_common(20)\n"
   ]
  },
  {
   "cell_type": "code",
   "execution_count": 13,
   "metadata": {
    "ExecuteTime": {
     "end_time": "2024-02-06T07:30:23.884938Z",
     "start_time": "2024-02-06T07:30:23.826227Z"
    }
   },
   "outputs": [
    {
     "name": "stdout",
     "output_type": "stream",
     "text": [
      "                        Company  Mentions\n",
      "0                       COVID19      3327\n",
      "1                    RomeoAston      2224\n",
      "2                 MakeAcuraAlfa      2030\n",
      "3                         Daily      2023\n",
      "4                            US      2019\n",
      "5                            UK      1999\n",
      "6                  insuranceCar      1984\n",
      "7                    vehicleGet      1963\n",
      "8     Autopath Technologies Inc      1962\n",
      "9            DealerSite Account      1962\n",
      "10                      TopMore      1961\n",
      "11  Carpagesca Terms Conditions      1961\n",
      "12                     MailMail      1948\n",
      "13                    pageDaily      1948\n",
      "14                   siteReader      1948\n",
      "15                    PrintsOur      1948\n",
      "16        MoneyMetroJobsiteMail      1940\n",
      "17                        usHow      1919\n",
      "18        Associated Newspapers      1919\n",
      "19           complainLeadership      1905\n"
     ]
    }
   ],
   "source": [
    "# Convert the list to a DataFrame\n",
    "top_20_nltk_ner_whole = pd.DataFrame(top_20_companies, columns=['Company', 'Mentions'])\n",
    "\n",
    "# Display the DataFrame\n",
    "print(top_20_nltk_ner_whole)"
   ]
  },
  {
   "cell_type": "markdown",
   "metadata": {},
   "source": [
    "### NLTK with Sentence Segmentation"
   ]
  },
  {
   "cell_type": "code",
   "execution_count": 34,
   "metadata": {
    "ExecuteTime": {
     "end_time": "2024-02-06T20:17:53.125719Z",
     "start_time": "2024-02-06T19:55:41.840162Z"
    }
   },
   "outputs": [
    {
     "data": {
      "application/vnd.jupyter.widget-view+json": {
       "model_id": "53c9ec69ac49461ab62f1cd12f188370",
       "version_major": 2,
       "version_minor": 0
      },
      "text/plain": [
       "VBox(children=(HBox(children=(IntProgress(value=0, description='0.00%', max=1669), Label(value='0 / 1669'))), …"
      ]
     },
     "metadata": {},
     "output_type": "display_data"
    }
   ],
   "source": [
    "def extract_entities(text):\n",
    "    entities = []\n",
    "    labels = []\n",
    "    for sent in nltk.sent_tokenize(text):\n",
    "        for chunk in nltk.ne_chunk(nltk.pos_tag(nltk.word_tokenize(sent)), binary = False):\n",
    "            if hasattr(chunk, 'label'):\n",
    "                entities.append(' '.join(c[0] for c in chunk)) #Add space as between multi-token entities\n",
    "                labels.append(chunk.label())\n",
    "    entities_labels = list(set(zip(entities, labels)))  # Unique entities and labels\n",
    "    return entities_labels\n",
    "\n",
    "news_df['nltk_ner_sentence'] = news_df['text_cleaned'].parallel_apply(extract_entities)"
   ]
  },
  {
   "cell_type": "code",
   "execution_count": 35,
   "metadata": {
    "ExecuteTime": {
     "end_time": "2024-02-06T20:17:57.247566Z",
     "start_time": "2024-02-06T20:17:56.362946Z"
    }
   },
   "outputs": [],
   "source": [
    "company_mentions = Counter()\n",
    "\n",
    "for entities_labels in news_df['nltk_ner_sentence']:\n",
    "    for entity, label in entities_labels:\n",
    "        if label == 'ORGANIZATION':  \n",
    "            company_mentions[entity] += 1\n",
    "\n",
    "# Get the most common 20 companies\n",
    "top_20_companies = company_mentions.most_common(20)"
   ]
  },
  {
   "cell_type": "code",
   "execution_count": 36,
   "metadata": {
    "ExecuteTime": {
     "end_time": "2024-02-06T20:17:58.690041Z",
     "start_time": "2024-02-06T20:17:58.669788Z"
    }
   },
   "outputs": [
    {
     "name": "stdout",
     "output_type": "stream",
     "text": [
      "                        Company  Mentions\n",
      "0                       COVID19      3327\n",
      "1                    RomeoAston      2224\n",
      "2                 MakeAcuraAlfa      2030\n",
      "3                         Daily      2023\n",
      "4                            US      2019\n",
      "5                            UK      1999\n",
      "6                  insuranceCar      1984\n",
      "7                    vehicleGet      1963\n",
      "8     Autopath Technologies Inc      1962\n",
      "9            DealerSite Account      1962\n",
      "10  Carpagesca Terms Conditions      1961\n",
      "11                      TopMore      1961\n",
      "12                    PrintsOur      1948\n",
      "13                     MailMail      1948\n",
      "14                    pageDaily      1948\n",
      "15                   siteReader      1948\n",
      "16        MoneyMetroJobsiteMail      1940\n",
      "17        Associated Newspapers      1919\n",
      "18                        usHow      1919\n",
      "19                    UsTermsDo      1905\n"
     ]
    }
   ],
   "source": [
    "# Convert the list to a DataFrame\n",
    "top_20_nltk_ner_sentence = pd.DataFrame(top_20_companies, columns=['Company', 'Mentions'])\n",
    "\n",
    "# Display the DataFrame\n",
    "print(top_20_nltk_ner_sentence)"
   ]
  },
  {
   "cell_type": "markdown",
   "metadata": {},
   "source": [
    "### SpaCy without Sentence Segmentation"
   ]
  },
  {
   "cell_type": "code",
   "execution_count": 25,
   "metadata": {
    "ExecuteTime": {
     "end_time": "2024-02-06T08:32:14.747228Z",
     "start_time": "2024-02-06T08:15:25.709817Z"
    }
   },
   "outputs": [
    {
     "data": {
      "application/vnd.jupyter.widget-view+json": {
       "model_id": "1aa11e20b5c348be8bd81eb317b2b2ef",
       "version_major": 2,
       "version_minor": 0
      },
      "text/plain": [
       "VBox(children=(HBox(children=(IntProgress(value=0, description='0.00%', max=1669), Label(value='0 / 1669'))), …"
      ]
     },
     "metadata": {},
     "output_type": "display_data"
    }
   ],
   "source": [
    "def extract_entities_with_spacy(text):\n",
    "    # Process the text with spaCy\n",
    "    doc = nlp(text)\n",
    "    \n",
    "    entities = []\n",
    "    labels = []\n",
    "    \n",
    "    # Extract entities and their labels\n",
    "    for ent in doc.ents:\n",
    "        entities.append(ent.text)\n",
    "        labels.append(ent.label_)\n",
    "    \n",
    "    # Create a list of unique entity-label pairs\n",
    "    entities_labels = list(set(zip(entities, labels)))\n",
    "    \n",
    "    return entities_labels\n",
    "\n",
    "news_df['spacy_ner_whole'] = news_df['text_cleaned'].parallel_apply(extract_entities_with_spacy)"
   ]
  },
  {
   "cell_type": "code",
   "execution_count": 49,
   "metadata": {
    "ExecuteTime": {
     "end_time": "2024-02-06T20:40:38.064244Z",
     "start_time": "2024-02-06T20:40:37.369380Z"
    }
   },
   "outputs": [],
   "source": [
    "company_mentions = Counter()\n",
    "\n",
    "for entities_labels in news_df['spacy_ner_whole']:\n",
    "    for entity, label in entities_labels:\n",
    "        if label == 'ORG':  \n",
    "            company_mentions[entity] += 1\n",
    "\n",
    "# Get the most common 20 companies\n",
    "top_20_companies = company_mentions.most_common(20)"
   ]
  },
  {
   "cell_type": "code",
   "execution_count": 50,
   "metadata": {
    "ExecuteTime": {
     "end_time": "2024-02-06T20:40:38.077303Z",
     "start_time": "2024-02-06T20:40:38.074008Z"
    }
   },
   "outputs": [
    {
     "name": "stdout",
     "output_type": "stream",
     "text": [
      "                                 Company  Mentions\n",
      "0                              Instagram      1996\n",
      "1                             siteReader      1948\n",
      "2                               MailMail      1948\n",
      "3                              PrintsOur      1948\n",
      "4      Metro Media Groupdmg mediaContact      1905\n",
      "5          Associated Newspapers LtdPart      1905\n",
      "6                the Daily Mail The Mail      1905\n",
      "7                                   Ford      1902\n",
      "8                                 Amazon      1816\n",
      "9                                 Toyota      1803\n",
      "10                              Facebook      1757\n",
      "11                               Netflix      1718\n",
      "12                                   BMW      1603\n",
      "13                               Hyundai      1429\n",
      "14                                 Honda      1420\n",
      "15                            MailOnline      1358\n",
      "16                           FacebookYou      1345\n",
      "17                       CrossoverPickup      1307\n",
      "18  AccessibleMotorcycleCommercialBrowse      1307\n",
      "19             Autopath Technologies Inc      1298\n"
     ]
    }
   ],
   "source": [
    "# Convert the list to a DataFrame\n",
    "top_20_spacy_ner_whole_news = pd.DataFrame(top_20_companies, columns=['Company', 'Mentions'])\n",
    "\n",
    "# Display the DataFrame\n",
    "print(top_20_spacy_ner_whole_news)"
   ]
  },
  {
   "cell_type": "markdown",
   "metadata": {},
   "source": [
    "### SpaCy without Sentence Segmentation - News title"
   ]
  },
  {
   "cell_type": "code",
   "execution_count": 54,
   "metadata": {
    "ExecuteTime": {
     "end_time": "2024-02-06T20:52:14.269606Z",
     "start_time": "2024-02-06T20:51:49.086132Z"
    }
   },
   "outputs": [
    {
     "data": {
      "application/vnd.jupyter.widget-view+json": {
       "model_id": "550579e7a4924b6cac60bd54c6169627",
       "version_major": 2,
       "version_minor": 0
      },
      "text/plain": [
       "VBox(children=(HBox(children=(IntProgress(value=0, description='0.00%', max=1669), Label(value='0 / 1669'))), …"
      ]
     },
     "metadata": {},
     "output_type": "display_data"
    }
   ],
   "source": [
    "news_df['spacy_ner_whole_title'] = news_df['title_cleaned'].parallel_apply(extract_entities_with_spacy)\n",
    "company_mentions = Counter()\n",
    "for entities_labels in news_df['spacy_ner_whole_title']:\n",
    "    for entity, label in entities_labels:\n",
    "        if label == 'ORG':  \n",
    "            company_mentions[entity] += 1\n",
    "top_20_companies = company_mentions.most_common(20)"
   ]
  },
  {
   "cell_type": "code",
   "execution_count": 55,
   "metadata": {
    "ExecuteTime": {
     "end_time": "2024-02-06T20:52:15.520186Z",
     "start_time": "2024-02-06T20:52:15.493294Z"
    }
   },
   "outputs": [
    {
     "name": "stdout",
     "output_type": "stream",
     "text": [
      "                          Company  Mentions\n",
      "0                      Daily Mail      1359\n",
      "1                            Ford       314\n",
      "2                          Toyota       204\n",
      "3                         Hyundai       197\n",
      "4                       Chevrolet       192\n",
      "5                       Star News       182\n",
      "6                           Honda       157\n",
      "7                         Autocar       130\n",
      "8             AutoSpies Auto News       124\n",
      "9                          Nissan       123\n",
      "10                            BMW       109\n",
      "11                Automotive News       105\n",
      "12                  Express  Star        98\n",
      "13                Shropshire Star        88\n",
      "14                       Roadshow        88\n",
      "15            Car Dealer Magazine        85\n",
      "16                            Kia        83\n",
      "17                     Volkswagen        80\n",
      "18                           Audi        77\n",
      "19  Otago Daily Times Online News        76\n"
     ]
    }
   ],
   "source": [
    "# Convert the list to a DataFrame\n",
    "top_20_spacy_ner_whole_news_title = pd.DataFrame(top_20_companies, columns=['Company', 'Mentions'])\n",
    "\n",
    "# Display the DataFrame\n",
    "print(top_20_spacy_ner_whole_news_title)"
   ]
  },
  {
   "cell_type": "markdown",
   "metadata": {},
   "source": [
    "Similar to twitter data, the Spacy does a better job in identifying companies. Especially, precisely identifying car's make as company instead of car's model. The news title is much more running efficiently comparing to news text. However, the title is too concise to indentify potential companies that mentioned in text. For example, \"Instagram\" is not mentioned in title ner. Thus, news text with Spacy ner is more comprehensive."
   ]
  },
  {
   "cell_type": "code",
   "execution_count": 57,
   "metadata": {
    "ExecuteTime": {
     "end_time": "2024-02-06T21:03:37.981305Z",
     "start_time": "2024-02-06T21:03:37.590559Z"
    }
   },
   "outputs": [
    {
     "data": {
      "image/png": "[encoded data removed]",
      "text/plain": [
       "<Figure size 1000x800 with 1 Axes>"
      ]
     },
     "metadata": {},
     "output_type": "display_data"
    }
   ],
   "source": [
    "# Plotting\n",
    "plt.figure(figsize=(10, 8))\n",
    "plt.barh(top_20_spacy_ner_whole_news['Company'], top_20_spacy_ner_whole_news['Mentions'])\n",
    "plt.xlabel('Mentions')\n",
    "plt.ylabel('Company')\n",
    "plt.title('Top 20 Companies by Mentions')\n",
    "plt.gca().invert_yaxis()  # Invert y-axis to have the company with the highest mentions on top\n",
    "plt.show()"
   ]
  },
  {
   "cell_type": "markdown",
   "metadata": {},
   "source": [
    "### Primary Company between Twitter and News"
   ]
  },
  {
   "cell_type": "code",
   "execution_count": 59,
   "metadata": {
    "ExecuteTime": {
     "end_time": "2024-02-06T21:06:28.501456Z",
     "start_time": "2024-02-06T21:06:28.431646Z"
    }
   },
   "outputs": [
    {
     "data": {
      "text/html": [
       "<div>\n",
       "<style scoped>\n",
       "    .dataframe tbody tr th:only-of-type {\n",
       "        vertical-align: middle;\n",
       "    }\n",
       "\n",
       "    .dataframe tbody tr th {\n",
       "        vertical-align: top;\n",
       "    }\n",
       "\n",
       "    .dataframe thead th {\n",
       "        text-align: right;\n",
       "    }\n",
       "</style>\n",
       "<table border=\"1\" class=\"dataframe\">\n",
       "  <thead>\n",
       "    <tr style=\"text-align: right;\">\n",
       "      <th></th>\n",
       "      <th>Company</th>\n",
       "      <th>Mentions_news</th>\n",
       "      <th>Mentions_twitter</th>\n",
       "    </tr>\n",
       "  </thead>\n",
       "  <tbody>\n",
       "    <tr>\n",
       "      <th>0</th>\n",
       "      <td>Ford</td>\n",
       "      <td>314</td>\n",
       "      <td>39</td>\n",
       "    </tr>\n",
       "    <tr>\n",
       "      <th>1</th>\n",
       "      <td>Toyota</td>\n",
       "      <td>204</td>\n",
       "      <td>25</td>\n",
       "    </tr>\n",
       "    <tr>\n",
       "      <th>2</th>\n",
       "      <td>BMW</td>\n",
       "      <td>109</td>\n",
       "      <td>38</td>\n",
       "    </tr>\n",
       "    <tr>\n",
       "      <th>3</th>\n",
       "      <td>Audi</td>\n",
       "      <td>77</td>\n",
       "      <td>24</td>\n",
       "    </tr>\n",
       "  </tbody>\n",
       "</table>\n",
       "</div>"
      ],
      "text/plain": [
       "  Company  Mentions_news  Mentions_twitter\n",
       "0    Ford            314                39\n",
       "1  Toyota            204                25\n",
       "2     BMW            109                38\n",
       "3    Audi             77                24"
      ]
     },
     "execution_count": 59,
     "metadata": {},
     "output_type": "execute_result"
    }
   ],
   "source": [
    "overlapped_companies = pd.merge(top_20_spacy_ner_whole_news_title, top_20_spacy_ner_sentence_twiiter, on='Company', suffixes=('_news', '_twitter'))\n",
    "\n",
    "overlapped_companies"
   ]
  },
  {
   "cell_type": "markdown",
   "metadata": {},
   "source": [
    "There are four primary companies that mentioned in both news and twitter"
   ]
  },
  {
   "cell_type": "markdown",
   "metadata": {},
   "source": [
    "### Locations"
   ]
  },
  {
   "cell_type": "code",
   "execution_count": 64,
   "metadata": {
    "ExecuteTime": {
     "end_time": "2024-02-06T21:17:27.710005Z",
     "start_time": "2024-02-06T21:17:27.688803Z"
    }
   },
   "outputs": [
    {
     "name": "stdout",
     "output_type": "stream",
     "text": [
      "                    Locations  Mentions\n",
      "0                   Caribbean         6\n",
      "1                      Africa         4\n",
      "2                      Europe         3\n",
      "3                    Midlands         2\n",
      "4                        Mars         2\n",
      "5                       Earth         2\n",
      "6                   Carscoops         1\n",
      "7                        Gulf         1\n",
      "8    the North East||Envision         1\n",
      "9                   Sand Hole         1\n",
      "10   South China Morning Post         1\n",
      "11                   Pecan AI         1\n",
      "12              North America         1\n",
      "13                  Cape Town         1\n",
      "14                 Antarctica         1\n",
      "15  West Knoxville Land Rover         1\n",
      "16                 Bridgwater         1\n",
      "17                         BC         1\n",
      "18                 North West         1\n",
      "19                 22|||| amp         1\n"
     ]
    }
   ],
   "source": [
    "# locations in twitter\n",
    "locations_mentions = Counter()\n",
    "\n",
    "for entities_labels in tweets_df['spacy_ner_sentence']:\n",
    "    for entity, label in entities_labels:\n",
    "        if label == 'LOC':  \n",
    "            locations_mentions[entity] += 1\n",
    "\n",
    "# Get the most common 20 companies\n",
    "top_20_locations = locations_mentions.most_common(20)\n",
    "\n",
    "\n",
    "# Convert the list to a DataFrame\n",
    "top_20_spacy_ner_sentence_twiiter_location = pd.DataFrame(top_20_locations, columns=['Locations', 'Mentions'])\n",
    "\n",
    "# Display the DataFrame\n",
    "print(top_20_spacy_ner_sentence_twiiter_location)\n",
    "\n"
   ]
  },
  {
   "cell_type": "code",
   "execution_count": 65,
   "metadata": {
    "ExecuteTime": {
     "end_time": "2024-02-06T21:17:39.798894Z",
     "start_time": "2024-02-06T21:17:39.557267Z"
    }
   },
   "outputs": [
    {
     "data": {
      "image/png": "[encoded data removed]",
      "text/plain": [
       "<Figure size 1000x800 with 1 Axes>"
      ]
     },
     "metadata": {},
     "output_type": "display_data"
    }
   ],
   "source": [
    "# Plotting\n",
    "plt.figure(figsize=(10, 8))\n",
    "plt.barh(top_20_spacy_ner_sentence_twiiter_location['Locations'], top_20_spacy_ner_sentence_twiiter_location['Mentions'])\n",
    "plt.xlabel('Mentions')\n",
    "plt.ylabel('Locations')\n",
    "plt.title('Top 20 Locations by Mentions')\n",
    "plt.gca().invert_yaxis()  # Invert y-axis to have the company with the highest mentions on top\n",
    "plt.show()"
   ]
  },
  {
   "cell_type": "code",
   "execution_count": 67,
   "metadata": {
    "ExecuteTime": {
     "end_time": "2024-02-06T21:19:19.947992Z",
     "start_time": "2024-02-06T21:19:18.927359Z"
    }
   },
   "outputs": [
    {
     "name": "stdout",
     "output_type": "stream",
     "text": [
      "                       Locations  Mentions\n",
      "0                         Europe      1093\n",
      "1                          Earth       657\n",
      "2                       Americas       432\n",
      "3                    Love Island       406\n",
      "4                      Caribbean       374\n",
      "5                   Central Park       322\n",
      "6                         Africa       316\n",
      "7                 West Hollywood       288\n",
      "8                            NYC       282\n",
      "9                       Catch LA       262\n",
      "10                       Jupiter       244\n",
      "11                          Asia       232\n",
      "12                 Mediterranean       222\n",
      "13            the Blue Mountains       218\n",
      "14                          Cabo       217\n",
      "15               StarBay Harbour       211\n",
      "16                          Gulf       189\n",
      "17                    Kanye West       167\n",
      "18  Winter Wonderlands VIP night       167\n",
      "19             the American West       162\n"
     ]
    }
   ],
   "source": [
    "# Location in News\n",
    "# locations in twitter\n",
    "locations_mentions = Counter()\n",
    "\n",
    "for entities_labels in news_df['spacy_ner_whole']:\n",
    "    for entity, label in entities_labels:\n",
    "        if label == 'LOC':  \n",
    "            locations_mentions[entity] += 1\n",
    "\n",
    "# Get the most common 20 companies\n",
    "top_20_locations = locations_mentions.most_common(20)\n",
    "\n",
    "\n",
    "# Convert the list to a DataFrame\n",
    "top_20_spacy_ner_sentence_news_location = pd.DataFrame(top_20_locations, columns=['Locations', 'Mentions'])\n",
    "\n",
    "# Display the DataFrame\n",
    "print(top_20_spacy_ner_sentence_news_location)"
   ]
  },
  {
   "cell_type": "code",
   "execution_count": 68,
   "metadata": {
    "ExecuteTime": {
     "end_time": "2024-02-06T21:19:21.383939Z",
     "start_time": "2024-02-06T21:19:21.053351Z"
    }
   },
   "outputs": [
    {
     "data": {
      "image/png": "[encoded data removed]",
      "text/plain": [
       "<Figure size 1000x800 with 1 Axes>"
      ]
     },
     "metadata": {},
     "output_type": "display_data"
    }
   ],
   "source": [
    "# Plotting\n",
    "plt.figure(figsize=(10, 8))\n",
    "plt.barh(top_20_spacy_ner_sentence_news_location['Locations'], top_20_spacy_ner_sentence_news_location['Mentions'])\n",
    "plt.xlabel('Mentions')\n",
    "plt.ylabel('Locations')\n",
    "plt.title('Top 20 Locations by Mentions')\n",
    "plt.gca().invert_yaxis()  # Invert y-axis to have the company with the highest mentions on top\n",
    "plt.show()"
   ]
  },
  {
   "cell_type": "markdown",
   "metadata": {},
   "source": [
    "### Primary Locations between News and Twitters"
   ]
  },
  {
   "cell_type": "code",
   "execution_count": 70,
   "metadata": {
    "ExecuteTime": {
     "end_time": "2024-02-06T21:20:42.060421Z",
     "start_time": "2024-02-06T21:20:42.029830Z"
    }
   },
   "outputs": [
    {
     "data": {
      "text/html": [
       "<div>\n",
       "<style scoped>\n",
       "    .dataframe tbody tr th:only-of-type {\n",
       "        vertical-align: middle;\n",
       "    }\n",
       "\n",
       "    .dataframe tbody tr th {\n",
       "        vertical-align: top;\n",
       "    }\n",
       "\n",
       "    .dataframe thead th {\n",
       "        text-align: right;\n",
       "    }\n",
       "</style>\n",
       "<table border=\"1\" class=\"dataframe\">\n",
       "  <thead>\n",
       "    <tr style=\"text-align: right;\">\n",
       "      <th></th>\n",
       "      <th>Locations</th>\n",
       "      <th>Mentions_news</th>\n",
       "      <th>Mentions_twitter</th>\n",
       "    </tr>\n",
       "  </thead>\n",
       "  <tbody>\n",
       "    <tr>\n",
       "      <th>0</th>\n",
       "      <td>Europe</td>\n",
       "      <td>1093</td>\n",
       "      <td>3</td>\n",
       "    </tr>\n",
       "    <tr>\n",
       "      <th>1</th>\n",
       "      <td>Earth</td>\n",
       "      <td>657</td>\n",
       "      <td>2</td>\n",
       "    </tr>\n",
       "    <tr>\n",
       "      <th>2</th>\n",
       "      <td>Caribbean</td>\n",
       "      <td>374</td>\n",
       "      <td>6</td>\n",
       "    </tr>\n",
       "    <tr>\n",
       "      <th>3</th>\n",
       "      <td>Africa</td>\n",
       "      <td>316</td>\n",
       "      <td>4</td>\n",
       "    </tr>\n",
       "    <tr>\n",
       "      <th>4</th>\n",
       "      <td>Gulf</td>\n",
       "      <td>189</td>\n",
       "      <td>1</td>\n",
       "    </tr>\n",
       "  </tbody>\n",
       "</table>\n",
       "</div>"
      ],
      "text/plain": [
       "   Locations  Mentions_news  Mentions_twitter\n",
       "0     Europe           1093                 3\n",
       "1      Earth            657                 2\n",
       "2  Caribbean            374                 6\n",
       "3     Africa            316                 4\n",
       "4       Gulf            189                 1"
      ]
     },
     "execution_count": 70,
     "metadata": {},
     "output_type": "execute_result"
    }
   ],
   "source": [
    "overlapped_locations = pd.merge(top_20_spacy_ner_sentence_news_location, top_20_spacy_ner_sentence_twiiter_location, on='Locations', suffixes=('_news', '_twitter'))\n",
    "\n",
    "overlapped_locations"
   ]
  },
  {
   "cell_type": "code",
   "execution_count": null,
   "metadata": {},
   "outputs": [],
   "source": []
  }
 ],
 "metadata": {
  "kernelspec": {
   "display_name": "Python 3 (ipykernel)",
   "language": "python",
   "name": "python3"
  },
  "language_info": {
   "codemirror_mode": {
    "name": "ipython",
    "version": 3
   },
   "file_extension": ".py",
   "mimetype": "text/x-python",
   "name": "python",
   "nbconvert_exporter": "python",
   "pygments_lexer": "ipython3",
   "version": "3.11.4"
  }
 },
 "nbformat": 4,
 "nbformat_minor": 4
}
