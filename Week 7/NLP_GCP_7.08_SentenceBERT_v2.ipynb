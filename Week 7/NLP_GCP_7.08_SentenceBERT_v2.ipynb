{
 "cells": [
  {
   "cell_type": "markdown",
   "metadata": {},
   "source": [
    "#### Sentence Embeddings using Siamese BERT-Networks  \n",
    "https://www.sbert.net/"
   ]
  },
  {
   "cell_type": "markdown",
   "metadata": {
    "id": "oedDvAy3M4jd"
   },
   "source": [
    "**Sentence-BERT: Sentence Embeddings using Siamese BERT-Networks** \\\\\n",
    "[GitHub](https://github.com/UKPLab/sentence-transformers) \\\\\n",
    "[Paper](https://arxiv.org/pdf/1908.10084.pdf) \\\\\n",
    "Sentence-BERT (SBERT), a modification of the pretrained\n",
    "BERT network that use siamese and triplet network structures to derive semantically meaningful sentence embeddings that can be compared using cosine-similarity. This reduces the\n",
    "effort for finding the most similar pair from 65\n",
    "hours with BERT / RoBERTa to about 5 seconds with SBERT, while maintaining the accuracy from BERT"
   ]
  },
  {
   "cell_type": "markdown",
   "metadata": {
    "id": "DE331XNHMnha"
   },
   "source": [
    "**Sentences Embedding with a Pretrained Model**"
   ]
  },
  {
   "cell_type": "code",
   "execution_count": 1,
   "metadata": {
    "colab": {
     "base_uri": "https://localhost:8080/",
     "height": 487
    },
    "id": "Oj9GjZZIMwPB",
    "outputId": "78506d46-f7aa-418c-8c71-333283a01c14"
   },
   "outputs": [],
   "source": [
    "# !pip install --upgrade sentence-transformers"
   ]
  },
  {
   "cell_type": "code",
   "execution_count": 2,
   "metadata": {
    "id": "ulMBhMRxMjNC"
   },
   "outputs": [],
   "source": [
    "import scipy\n",
    "import pandas as pd\n",
    "import torch\n",
    "from sentence_transformers import SentenceTransformer, util\n",
    "\n",
    "pd.set_option('max_colwidth', 500)"
   ]
  },
  {
   "cell_type": "markdown",
   "metadata": {
    "id": "twn5-N6YNtFc"
   },
   "source": [
    "**Pretrained Models**: https://huggingface.co/sentence-transformers?sort_models=downloads#models"
   ]
  },
  {
   "cell_type": "markdown",
   "metadata": {},
   "source": [
    "The `all-mpnet-base-v2` model provides the best quality, while `all-MiniLM-L6-v2` is 5 times faster and still offers good quality."
   ]
  },
  {
   "cell_type": "code",
   "execution_count": 3,
   "metadata": {
    "id": "yx6BoYDXNfSW"
   },
   "outputs": [],
   "source": [
    "model = SentenceTransformer('sentence-transformers/all-MiniLM-L6-v2')\n",
    "# model = SentenceTransformer('microsoft/all-mpnet-base-v2')"
   ]
  },
  {
   "cell_type": "markdown",
   "metadata": {},
   "source": [
    "### Sentence Similarity"
   ]
  },
  {
   "cell_type": "code",
   "execution_count": 4,
   "metadata": {
    "id": "QdwTSHbNOH2w"
   },
   "outputs": [
    {
     "data": {
      "application/vnd.jupyter.widget-view+json": {
       "model_id": "4171e7063057443d8db556b977227611",
       "version_major": 2,
       "version_minor": 0
      },
      "text/plain": [
       "Batches:   0%|          | 0/1 [00:00<?, ?it/s]"
      ]
     },
     "metadata": {},
     "output_type": "display_data"
    }
   ],
   "source": [
    "sentences = ['Absence of sanity', \n",
    "             'Lack of saneness',\n",
    "             'A man is eating food',\n",
    "             'A man is eating a piece of bread',\n",
    "             'The girl is carrying a baby',\n",
    "             'A man is riding a horse',\n",
    "             'A woman is playing violin',\n",
    "             'Two men pushed carts through the woods',\n",
    "             'A man is riding a white horse on an enclosed ground',\n",
    "             'A monkey is playing drums',\n",
    "             'A cheetah is running behind its prey']\n",
    "\n",
    "#Encode all sentences\n",
    "sentence_embeddings = model.encode(sentences, convert_to_tensor=True)\n",
    "\n",
    "#Compute cosine similarity between all pairs\n",
    "cos_sim = util.cos_sim(sentence_embeddings, sentence_embeddings)\n",
    "\n",
    "#Add all pairs to a list with their cosine similarity score\n",
    "all_sentence_combinations = []\n",
    "for i in range(len(cos_sim)-1):\n",
    "    for j in range(i+1, len(cos_sim)):\n",
    "        all_sentence_combinations.append([cos_sim[i][j], i, j])"
   ]
  },
  {
   "cell_type": "code",
   "execution_count": 5,
   "metadata": {},
   "outputs": [
    {
     "data": {
      "text/html": [
       "<div>\n",
       "<style scoped>\n",
       "    .dataframe tbody tr th:only-of-type {\n",
       "        vertical-align: middle;\n",
       "    }\n",
       "\n",
       "    .dataframe tbody tr th {\n",
       "        vertical-align: top;\n",
       "    }\n",
       "\n",
       "    .dataframe thead th {\n",
       "        text-align: right;\n",
       "    }\n",
       "</style>\n",
       "<table border=\"1\" class=\"dataframe\">\n",
       "  <thead>\n",
       "    <tr style=\"text-align: right;\">\n",
       "      <th></th>\n",
       "      <th>Sentense_1</th>\n",
       "      <th>Sentense_2</th>\n",
       "      <th>Similarity_Score</th>\n",
       "    </tr>\n",
       "  </thead>\n",
       "  <tbody>\n",
       "    <tr>\n",
       "      <th>0</th>\n",
       "      <td>Absence of sanity</td>\n",
       "      <td>Lack of saneness</td>\n",
       "      <td>0.743339</td>\n",
       "    </tr>\n",
       "    <tr>\n",
       "      <th>19</th>\n",
       "      <td>A man is eating food</td>\n",
       "      <td>A man is eating a piece of bread</td>\n",
       "      <td>0.737853</td>\n",
       "    </tr>\n",
       "    <tr>\n",
       "      <th>42</th>\n",
       "      <td>A man is riding a horse</td>\n",
       "      <td>A man is riding a white horse on an enclosed ground</td>\n",
       "      <td>0.726030</td>\n",
       "    </tr>\n",
       "    <tr>\n",
       "      <th>21</th>\n",
       "      <td>A man is eating food</td>\n",
       "      <td>A man is riding a horse</td>\n",
       "      <td>0.244987</td>\n",
       "    </tr>\n",
       "    <tr>\n",
       "      <th>47</th>\n",
       "      <td>A woman is playing violin</td>\n",
       "      <td>A monkey is playing drums</td>\n",
       "      <td>0.195667</td>\n",
       "    </tr>\n",
       "    <tr>\n",
       "      <th>24</th>\n",
       "      <td>A man is eating food</td>\n",
       "      <td>A man is riding a white horse on an enclosed ground</td>\n",
       "      <td>0.166425</td>\n",
       "    </tr>\n",
       "    <tr>\n",
       "      <th>28</th>\n",
       "      <td>A man is eating a piece of bread</td>\n",
       "      <td>A man is riding a horse</td>\n",
       "      <td>0.138340</td>\n",
       "    </tr>\n",
       "    <tr>\n",
       "      <th>26</th>\n",
       "      <td>A man is eating food</td>\n",
       "      <td>A cheetah is running behind its prey</td>\n",
       "      <td>0.136164</td>\n",
       "    </tr>\n",
       "    <tr>\n",
       "      <th>31</th>\n",
       "      <td>A man is eating a piece of bread</td>\n",
       "      <td>A man is riding a white horse on an enclosed ground</td>\n",
       "      <td>0.112944</td>\n",
       "    </tr>\n",
       "    <tr>\n",
       "      <th>54</th>\n",
       "      <td>A monkey is playing drums</td>\n",
       "      <td>A cheetah is running behind its prey</td>\n",
       "      <td>0.111993</td>\n",
       "    </tr>\n",
       "  </tbody>\n",
       "</table>\n",
       "</div>"
      ],
      "text/plain": [
       "                          Sentense_1  \\\n",
       "0                  Absence of sanity   \n",
       "19              A man is eating food   \n",
       "42           A man is riding a horse   \n",
       "21              A man is eating food   \n",
       "47         A woman is playing violin   \n",
       "24              A man is eating food   \n",
       "28  A man is eating a piece of bread   \n",
       "26              A man is eating food   \n",
       "31  A man is eating a piece of bread   \n",
       "54         A monkey is playing drums   \n",
       "\n",
       "                                             Sentense_2  Similarity_Score  \n",
       "0                                      Lack of saneness          0.743339  \n",
       "19                     A man is eating a piece of bread          0.737853  \n",
       "42  A man is riding a white horse on an enclosed ground          0.726030  \n",
       "21                              A man is riding a horse          0.244987  \n",
       "47                            A monkey is playing drums          0.195667  \n",
       "24  A man is riding a white horse on an enclosed ground          0.166425  \n",
       "28                              A man is riding a horse          0.138340  \n",
       "26                 A cheetah is running behind its prey          0.136164  \n",
       "31  A man is riding a white horse on an enclosed ground          0.112944  \n",
       "54                 A cheetah is running behind its prey          0.111993  "
      ]
     },
     "execution_count": 5,
     "metadata": {},
     "output_type": "execute_result"
    }
   ],
   "source": [
    "sentence_1 = []\n",
    "sentence_2 = []\n",
    "cosine_similarity = []\n",
    "\n",
    "for score, i, j in all_sentence_combinations:\n",
    "    sentence_1.append(sentences[i])\n",
    "    sentence_2.append(sentences[j])\n",
    "    cosine_similarity.append(cos_sim[i][j].item())\n",
    "    \n",
    "df = pd.DataFrame(zip(sentence_1, sentence_2, cosine_similarity), columns=['Sentense_1', 'Sentense_2', 'Similarity_Score'])\n",
    "df.sort_values(by=['Similarity_Score'], ascending=False).head(10)"
   ]
  },
  {
   "cell_type": "markdown",
   "metadata": {},
   "source": [
    "### Query Search"
   ]
  },
  {
   "cell_type": "code",
   "execution_count": 6,
   "metadata": {},
   "outputs": [
    {
     "data": {
      "application/vnd.jupyter.widget-view+json": {
       "model_id": "f086fc02265048b49f4180a713e763f4",
       "version_major": 2,
       "version_minor": 0
      },
      "text/plain": [
       "Batches:   0%|          | 0/1 [00:00<?, ?it/s]"
      ]
     },
     "metadata": {},
     "output_type": "display_data"
    },
    {
     "data": {
      "application/vnd.jupyter.widget-view+json": {
       "model_id": "12de1f893b5c4cc6afa1956c3c256d8a",
       "version_major": 2,
       "version_minor": 0
      },
      "text/plain": [
       "Batches:   0%|          | 0/1 [00:00<?, ?it/s]"
      ]
     },
     "metadata": {},
     "output_type": "display_data"
    },
    {
     "data": {
      "application/vnd.jupyter.widget-view+json": {
       "model_id": "ea035a2ce1e04156b14118f756d8944a",
       "version_major": 2,
       "version_minor": 0
      },
      "text/plain": [
       "Batches:   0%|          | 0/1 [00:00<?, ?it/s]"
      ]
     },
     "metadata": {},
     "output_type": "display_data"
    },
    {
     "data": {
      "text/html": [
       "<div>\n",
       "<style scoped>\n",
       "    .dataframe tbody tr th:only-of-type {\n",
       "        vertical-align: middle;\n",
       "    }\n",
       "\n",
       "    .dataframe tbody tr th {\n",
       "        vertical-align: top;\n",
       "    }\n",
       "\n",
       "    .dataframe thead th {\n",
       "        text-align: right;\n",
       "    }\n",
       "</style>\n",
       "<table border=\"1\" class=\"dataframe\">\n",
       "  <thead>\n",
       "    <tr style=\"text-align: right;\">\n",
       "      <th></th>\n",
       "      <th>Query</th>\n",
       "      <th>Sentense</th>\n",
       "      <th>Similarity_Score</th>\n",
       "    </tr>\n",
       "  </thead>\n",
       "  <tbody>\n",
       "    <tr>\n",
       "      <th>6</th>\n",
       "      <td>A cheetah chases prey on across a field.</td>\n",
       "      <td>A cheetah is running behind its prey</td>\n",
       "      <td>0.819250</td>\n",
       "    </tr>\n",
       "    <tr>\n",
       "      <th>7</th>\n",
       "      <td>A cheetah chases prey on across a field.</td>\n",
       "      <td>A man is eating food</td>\n",
       "      <td>0.131582</td>\n",
       "    </tr>\n",
       "    <tr>\n",
       "      <th>8</th>\n",
       "      <td>A cheetah chases prey on across a field.</td>\n",
       "      <td>A monkey is playing drums</td>\n",
       "      <td>0.119997</td>\n",
       "    </tr>\n",
       "    <tr>\n",
       "      <th>0</th>\n",
       "      <td>A man is eating pasta.</td>\n",
       "      <td>A man is eating food</td>\n",
       "      <td>0.703525</td>\n",
       "    </tr>\n",
       "    <tr>\n",
       "      <th>1</th>\n",
       "      <td>A man is eating pasta.</td>\n",
       "      <td>A man is eating a piece of bread</td>\n",
       "      <td>0.516403</td>\n",
       "    </tr>\n",
       "    <tr>\n",
       "      <th>2</th>\n",
       "      <td>A man is eating pasta.</td>\n",
       "      <td>A man is riding a horse</td>\n",
       "      <td>0.188286</td>\n",
       "    </tr>\n",
       "    <tr>\n",
       "      <th>3</th>\n",
       "      <td>Someone in a gorilla costume is playing a set of drums.</td>\n",
       "      <td>A monkey is playing drums</td>\n",
       "      <td>0.642459</td>\n",
       "    </tr>\n",
       "    <tr>\n",
       "      <th>4</th>\n",
       "      <td>Someone in a gorilla costume is playing a set of drums.</td>\n",
       "      <td>A woman is playing violin</td>\n",
       "      <td>0.252789</td>\n",
       "    </tr>\n",
       "    <tr>\n",
       "      <th>5</th>\n",
       "      <td>Someone in a gorilla costume is playing a set of drums.</td>\n",
       "      <td>A man is riding a horse</td>\n",
       "      <td>0.132145</td>\n",
       "    </tr>\n",
       "  </tbody>\n",
       "</table>\n",
       "</div>"
      ],
      "text/plain": [
       "                                                     Query  \\\n",
       "6                 A cheetah chases prey on across a field.   \n",
       "7                 A cheetah chases prey on across a field.   \n",
       "8                 A cheetah chases prey on across a field.   \n",
       "0                                   A man is eating pasta.   \n",
       "1                                   A man is eating pasta.   \n",
       "2                                   A man is eating pasta.   \n",
       "3  Someone in a gorilla costume is playing a set of drums.   \n",
       "4  Someone in a gorilla costume is playing a set of drums.   \n",
       "5  Someone in a gorilla costume is playing a set of drums.   \n",
       "\n",
       "                               Sentense  Similarity_Score  \n",
       "6  A cheetah is running behind its prey          0.819250  \n",
       "7                  A man is eating food          0.131582  \n",
       "8             A monkey is playing drums          0.119997  \n",
       "0                  A man is eating food          0.703525  \n",
       "1      A man is eating a piece of bread          0.516403  \n",
       "2               A man is riding a horse          0.188286  \n",
       "3             A monkey is playing drums          0.642459  \n",
       "4             A woman is playing violin          0.252789  \n",
       "5               A man is riding a horse          0.132145  "
      ]
     },
     "execution_count": 6,
     "metadata": {},
     "output_type": "execute_result"
    }
   ],
   "source": [
    "# Query sentences:\n",
    "queries = ['A man is eating pasta.', 'Someone in a gorilla costume is playing a set of drums.', 'A cheetah chases prey on across a field.']\n",
    "\n",
    "\n",
    "query_list = []\n",
    "sentence_list = []\n",
    "cosine_similarity = []\n",
    "\n",
    "# Find the closest 5 sentences of the corpus for each query sentence based on cosine similarity\n",
    "top_k = min(3, len(sentences))\n",
    "for query in queries:\n",
    "    query_embeddings = model.encode(query, convert_to_tensor=True)\n",
    "\n",
    "    # We use cosine-similarity and torch.topk to find the highest N scores\n",
    "    cos_scores = util.cos_sim(query_embeddings, sentence_embeddings)[0]\n",
    "    top_results = torch.topk(cos_scores, k=top_k)\n",
    "\n",
    "    for score, idx in zip(top_results[0], top_results[1]):\n",
    "        # print(sentences[idx], \"(Score: {:.4f})\".format(score))\n",
    "    \n",
    "        query_list.append(query)\n",
    "        sentence_list.append(sentences[idx])\n",
    "        cosine_similarity.append(score.item())\n",
    "    \n",
    "df = pd.DataFrame(zip(query_list, sentence_list, cosine_similarity), columns=['Query', 'Sentense', 'Similarity_Score'])\n",
    "df.sort_values(by=['Query', 'Similarity_Score'], ascending = [True, False]).head(10)"
   ]
  },
  {
   "cell_type": "code",
   "execution_count": 7,
   "metadata": {
    "id": "yx6BoYDXNfSW"
   },
   "outputs": [],
   "source": [
    "# model = SentenceTransformer('sentence-transformers/all-MiniLM-L6-v2')\n",
    "model = SentenceTransformer('all-mpnet-base-v2')"
   ]
  },
  {
   "cell_type": "markdown",
   "metadata": {},
   "source": [
    "### Sentence Similarity"
   ]
  },
  {
   "cell_type": "code",
   "execution_count": 8,
   "metadata": {
    "id": "QdwTSHbNOH2w"
   },
   "outputs": [
    {
     "data": {
      "application/vnd.jupyter.widget-view+json": {
       "model_id": "c94b40f4d3bd423ba18dcfdf5d49f20a",
       "version_major": 2,
       "version_minor": 0
      },
      "text/plain": [
       "Batches:   0%|          | 0/1 [00:00<?, ?it/s]"
      ]
     },
     "metadata": {},
     "output_type": "display_data"
    }
   ],
   "source": [
    "sentences = ['Absence of sanity', \n",
    "             'Lack of saneness',\n",
    "             'A man is eating food',\n",
    "             'A man is eating a piece of bread',\n",
    "             'The girl is carrying a baby',\n",
    "             'A man is riding a horse',\n",
    "             'A woman is playing violin',\n",
    "             'Two men pushed carts through the woods',\n",
    "             'A man is riding a white horse on an enclosed ground',\n",
    "             'A monkey is playing drums',\n",
    "             'A cheetah is running behind its prey']\n",
    "\n",
    "#Encode all sentences\n",
    "sentence_embeddings = model.encode(sentences, convert_to_tensor=True)\n",
    "\n",
    "#Compute cosine similarity between all pairs\n",
    "cos_sim = util.cos_sim(sentence_embeddings, sentence_embeddings)\n",
    "\n",
    "#Add all pairs to a list with their cosine similarity score\n",
    "all_sentence_combinations = []\n",
    "for i in range(len(cos_sim)-1):\n",
    "    for j in range(i+1, len(cos_sim)):\n",
    "        all_sentence_combinations.append([cos_sim[i][j], i, j])"
   ]
  },
  {
   "cell_type": "code",
   "execution_count": 9,
   "metadata": {},
   "outputs": [
    {
     "data": {
      "text/html": [
       "<div>\n",
       "<style scoped>\n",
       "    .dataframe tbody tr th:only-of-type {\n",
       "        vertical-align: middle;\n",
       "    }\n",
       "\n",
       "    .dataframe tbody tr th {\n",
       "        vertical-align: top;\n",
       "    }\n",
       "\n",
       "    .dataframe thead th {\n",
       "        text-align: right;\n",
       "    }\n",
       "</style>\n",
       "<table border=\"1\" class=\"dataframe\">\n",
       "  <thead>\n",
       "    <tr style=\"text-align: right;\">\n",
       "      <th></th>\n",
       "      <th>Sentense_1</th>\n",
       "      <th>Sentense_2</th>\n",
       "      <th>Similarity_Score</th>\n",
       "    </tr>\n",
       "  </thead>\n",
       "  <tbody>\n",
       "    <tr>\n",
       "      <th>0</th>\n",
       "      <td>Absence of sanity</td>\n",
       "      <td>Lack of saneness</td>\n",
       "      <td>0.826907</td>\n",
       "    </tr>\n",
       "    <tr>\n",
       "      <th>42</th>\n",
       "      <td>A man is riding a horse</td>\n",
       "      <td>A man is riding a white horse on an enclosed ground</td>\n",
       "      <td>0.696171</td>\n",
       "    </tr>\n",
       "    <tr>\n",
       "      <th>19</th>\n",
       "      <td>A man is eating food</td>\n",
       "      <td>A man is eating a piece of bread</td>\n",
       "      <td>0.673686</td>\n",
       "    </tr>\n",
       "    <tr>\n",
       "      <th>21</th>\n",
       "      <td>A man is eating food</td>\n",
       "      <td>A man is riding a horse</td>\n",
       "      <td>0.243545</td>\n",
       "    </tr>\n",
       "    <tr>\n",
       "      <th>28</th>\n",
       "      <td>A man is eating a piece of bread</td>\n",
       "      <td>A man is riding a horse</td>\n",
       "      <td>0.218326</td>\n",
       "    </tr>\n",
       "    <tr>\n",
       "      <th>54</th>\n",
       "      <td>A monkey is playing drums</td>\n",
       "      <td>A cheetah is running behind its prey</td>\n",
       "      <td>0.162626</td>\n",
       "    </tr>\n",
       "    <tr>\n",
       "      <th>24</th>\n",
       "      <td>A man is eating food</td>\n",
       "      <td>A man is riding a white horse on an enclosed ground</td>\n",
       "      <td>0.157566</td>\n",
       "    </tr>\n",
       "    <tr>\n",
       "      <th>47</th>\n",
       "      <td>A woman is playing violin</td>\n",
       "      <td>A monkey is playing drums</td>\n",
       "      <td>0.156521</td>\n",
       "    </tr>\n",
       "    <tr>\n",
       "      <th>31</th>\n",
       "      <td>A man is eating a piece of bread</td>\n",
       "      <td>A man is riding a white horse on an enclosed ground</td>\n",
       "      <td>0.145040</td>\n",
       "    </tr>\n",
       "    <tr>\n",
       "      <th>44</th>\n",
       "      <td>A man is riding a horse</td>\n",
       "      <td>A cheetah is running behind its prey</td>\n",
       "      <td>0.077782</td>\n",
       "    </tr>\n",
       "  </tbody>\n",
       "</table>\n",
       "</div>"
      ],
      "text/plain": [
       "                          Sentense_1  \\\n",
       "0                  Absence of sanity   \n",
       "42           A man is riding a horse   \n",
       "19              A man is eating food   \n",
       "21              A man is eating food   \n",
       "28  A man is eating a piece of bread   \n",
       "54         A monkey is playing drums   \n",
       "24              A man is eating food   \n",
       "47         A woman is playing violin   \n",
       "31  A man is eating a piece of bread   \n",
       "44           A man is riding a horse   \n",
       "\n",
       "                                             Sentense_2  Similarity_Score  \n",
       "0                                      Lack of saneness          0.826907  \n",
       "42  A man is riding a white horse on an enclosed ground          0.696171  \n",
       "19                     A man is eating a piece of bread          0.673686  \n",
       "21                              A man is riding a horse          0.243545  \n",
       "28                              A man is riding a horse          0.218326  \n",
       "54                 A cheetah is running behind its prey          0.162626  \n",
       "24  A man is riding a white horse on an enclosed ground          0.157566  \n",
       "47                            A monkey is playing drums          0.156521  \n",
       "31  A man is riding a white horse on an enclosed ground          0.145040  \n",
       "44                 A cheetah is running behind its prey          0.077782  "
      ]
     },
     "execution_count": 9,
     "metadata": {},
     "output_type": "execute_result"
    }
   ],
   "source": [
    "sentence_1 = []\n",
    "sentence_2 = []\n",
    "cosine_similarity = []\n",
    "\n",
    "for score, i, j in all_sentence_combinations:\n",
    "    sentence_1.append(sentences[i])\n",
    "    sentence_2.append(sentences[j])\n",
    "    cosine_similarity.append(cos_sim[i][j].item())\n",
    "    \n",
    "df = pd.DataFrame(zip(sentence_1, sentence_2, cosine_similarity), columns=['Sentense_1', 'Sentense_2', 'Similarity_Score'])\n",
    "df.sort_values(by=['Similarity_Score'], ascending=False).head(10)"
   ]
  },
  {
   "cell_type": "markdown",
   "metadata": {},
   "source": [
    "### Query Search"
   ]
  },
  {
   "cell_type": "code",
   "execution_count": 10,
   "metadata": {},
   "outputs": [
    {
     "data": {
      "application/vnd.jupyter.widget-view+json": {
       "model_id": "96fab0d214304a45a7ed209477d67f29",
       "version_major": 2,
       "version_minor": 0
      },
      "text/plain": [
       "Batches:   0%|          | 0/1 [00:00<?, ?it/s]"
      ]
     },
     "metadata": {},
     "output_type": "display_data"
    },
    {
     "data": {
      "application/vnd.jupyter.widget-view+json": {
       "model_id": "8e61917ff3b74349a3a12a0943ac2087",
       "version_major": 2,
       "version_minor": 0
      },
      "text/plain": [
       "Batches:   0%|          | 0/1 [00:00<?, ?it/s]"
      ]
     },
     "metadata": {},
     "output_type": "display_data"
    },
    {
     "data": {
      "application/vnd.jupyter.widget-view+json": {
       "model_id": "2a2bacb6bdd44e46a3c7078edaa42600",
       "version_major": 2,
       "version_minor": 0
      },
      "text/plain": [
       "Batches:   0%|          | 0/1 [00:00<?, ?it/s]"
      ]
     },
     "metadata": {},
     "output_type": "display_data"
    },
    {
     "data": {
      "text/html": [
       "<div>\n",
       "<style scoped>\n",
       "    .dataframe tbody tr th:only-of-type {\n",
       "        vertical-align: middle;\n",
       "    }\n",
       "\n",
       "    .dataframe tbody tr th {\n",
       "        vertical-align: top;\n",
       "    }\n",
       "\n",
       "    .dataframe thead th {\n",
       "        text-align: right;\n",
       "    }\n",
       "</style>\n",
       "<table border=\"1\" class=\"dataframe\">\n",
       "  <thead>\n",
       "    <tr style=\"text-align: right;\">\n",
       "      <th></th>\n",
       "      <th>Query</th>\n",
       "      <th>Sentense</th>\n",
       "      <th>Similarity_Score</th>\n",
       "    </tr>\n",
       "  </thead>\n",
       "  <tbody>\n",
       "    <tr>\n",
       "      <th>6</th>\n",
       "      <td>A cheetah chases prey on across a field.</td>\n",
       "      <td>A cheetah is running behind its prey</td>\n",
       "      <td>0.803264</td>\n",
       "    </tr>\n",
       "    <tr>\n",
       "      <th>7</th>\n",
       "      <td>A cheetah chases prey on across a field.</td>\n",
       "      <td>A man is riding a white horse on an enclosed ground</td>\n",
       "      <td>0.150820</td>\n",
       "    </tr>\n",
       "    <tr>\n",
       "      <th>8</th>\n",
       "      <td>A cheetah chases prey on across a field.</td>\n",
       "      <td>A monkey is playing drums</td>\n",
       "      <td>0.144822</td>\n",
       "    </tr>\n",
       "    <tr>\n",
       "      <th>0</th>\n",
       "      <td>A man is eating pasta.</td>\n",
       "      <td>A man is eating food</td>\n",
       "      <td>0.595814</td>\n",
       "    </tr>\n",
       "    <tr>\n",
       "      <th>1</th>\n",
       "      <td>A man is eating pasta.</td>\n",
       "      <td>A man is eating a piece of bread</td>\n",
       "      <td>0.419617</td>\n",
       "    </tr>\n",
       "    <tr>\n",
       "      <th>2</th>\n",
       "      <td>A man is eating pasta.</td>\n",
       "      <td>A man is riding a horse</td>\n",
       "      <td>0.192166</td>\n",
       "    </tr>\n",
       "    <tr>\n",
       "      <th>3</th>\n",
       "      <td>Someone in a gorilla costume is playing a set of drums.</td>\n",
       "      <td>A monkey is playing drums</td>\n",
       "      <td>0.653894</td>\n",
       "    </tr>\n",
       "    <tr>\n",
       "      <th>4</th>\n",
       "      <td>Someone in a gorilla costume is playing a set of drums.</td>\n",
       "      <td>A cheetah is running behind its prey</td>\n",
       "      <td>0.177457</td>\n",
       "    </tr>\n",
       "    <tr>\n",
       "      <th>5</th>\n",
       "      <td>Someone in a gorilla costume is playing a set of drums.</td>\n",
       "      <td>A woman is playing violin</td>\n",
       "      <td>0.117351</td>\n",
       "    </tr>\n",
       "  </tbody>\n",
       "</table>\n",
       "</div>"
      ],
      "text/plain": [
       "                                                     Query  \\\n",
       "6                 A cheetah chases prey on across a field.   \n",
       "7                 A cheetah chases prey on across a field.   \n",
       "8                 A cheetah chases prey on across a field.   \n",
       "0                                   A man is eating pasta.   \n",
       "1                                   A man is eating pasta.   \n",
       "2                                   A man is eating pasta.   \n",
       "3  Someone in a gorilla costume is playing a set of drums.   \n",
       "4  Someone in a gorilla costume is playing a set of drums.   \n",
       "5  Someone in a gorilla costume is playing a set of drums.   \n",
       "\n",
       "                                              Sentense  Similarity_Score  \n",
       "6                 A cheetah is running behind its prey          0.803264  \n",
       "7  A man is riding a white horse on an enclosed ground          0.150820  \n",
       "8                            A monkey is playing drums          0.144822  \n",
       "0                                 A man is eating food          0.595814  \n",
       "1                     A man is eating a piece of bread          0.419617  \n",
       "2                              A man is riding a horse          0.192166  \n",
       "3                            A monkey is playing drums          0.653894  \n",
       "4                 A cheetah is running behind its prey          0.177457  \n",
       "5                            A woman is playing violin          0.117351  "
      ]
     },
     "execution_count": 10,
     "metadata": {},
     "output_type": "execute_result"
    }
   ],
   "source": [
    "# Query sentences:\n",
    "queries = ['A man is eating pasta.', 'Someone in a gorilla costume is playing a set of drums.', 'A cheetah chases prey on across a field.']\n",
    "\n",
    "\n",
    "query_list = []\n",
    "sentence_list = []\n",
    "cosine_similarity = []\n",
    "\n",
    "# Find the closest 5 sentences of the corpus for each query sentence based on cosine similarity\n",
    "top_k = min(3, len(sentences))\n",
    "for query in queries:\n",
    "    query_embeddings = model.encode(query, convert_to_tensor=True)\n",
    "\n",
    "    # We use cosine-similarity and torch.topk to find the highest N scores\n",
    "    cos_scores = util.cos_sim(query_embeddings, sentence_embeddings)[0]\n",
    "    top_results = torch.topk(cos_scores, k=top_k)\n",
    "\n",
    "    for score, idx in zip(top_results[0], top_results[1]):\n",
    "        # print(sentences[idx], \"(Score: {:.4f})\".format(score))\n",
    "    \n",
    "        query_list.append(query)\n",
    "        sentence_list.append(sentences[idx])\n",
    "        cosine_similarity.append(score.item())\n",
    "    \n",
    "df = pd.DataFrame(zip(query_list, sentence_list, cosine_similarity), columns=['Query', 'Sentense', 'Similarity_Score'])\n",
    "df.sort_values(by=['Query', 'Similarity_Score'], ascending = [True, False]).head(10)"
   ]
  },
  {
   "cell_type": "markdown",
   "metadata": {},
   "source": [
    "#### Fine-tuning Sentence BERT\n",
    "https://huggingface.co/blog/how-to-train-sentence-transformers"
   ]
  },
  {
   "cell_type": "code",
   "execution_count": null,
   "metadata": {},
   "outputs": [],
   "source": []
  },
  {
   "cell_type": "code",
   "execution_count": null,
   "metadata": {},
   "outputs": [],
   "source": []
  },
  {
   "cell_type": "code",
   "execution_count": null,
   "metadata": {},
   "outputs": [],
   "source": []
  },
  {
   "cell_type": "code",
   "execution_count": 11,
   "metadata": {},
   "outputs": [
    {
     "data": {
      "text/plain": [
       "'Wed, 09 November 2022 23:33:57'"
      ]
     },
     "execution_count": 11,
     "metadata": {},
     "output_type": "execute_result"
    }
   ],
   "source": [
    "import datetime\n",
    "import pytz\n",
    "\n",
    "datetime.datetime.now(pytz.timezone('US/Central')).strftime(\"%a, %d %B %Y %H:%M:%S\")"
   ]
  }
 ],
 "metadata": {
  "colab": {
   "collapsed_sections": [],
   "provenance": []
  },
  "kernelspec": {
   "display_name": "Python 3 (ipykernel)",
   "language": "python",
   "name": "python3"
  },
  "language_info": {
   "codemirror_mode": {
    "name": "ipython",
    "version": 3
   },
   "file_extension": ".py",
   "mimetype": "text/x-python",
   "name": "python",
   "nbconvert_exporter": "python",
   "pygments_lexer": "ipython3",
   "version": "3.10.12"
  }
 },
 "nbformat": 4,
 "nbformat_minor": 4
}
