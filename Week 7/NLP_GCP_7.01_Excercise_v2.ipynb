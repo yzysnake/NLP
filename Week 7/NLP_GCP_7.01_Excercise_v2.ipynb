{
 "cells": [
  {
   "cell_type": "markdown",
   "metadata": {},
   "source": [
    "# Excercise 1:  \n",
    "\n",
    "Identify how many articles in \"news_apple_fruit.json\" (out of 6475) are talking about fruits vs. technology company\n"
   ]
  },
  {
   "cell_type": "code",
   "execution_count": 1,
   "metadata": {
    "ExecuteTime": {
     "end_time": "2024-02-16T00:21:54.256703Z",
     "start_time": "2024-02-16T00:21:53.362909Z"
    }
   },
   "outputs": [],
   "source": [
    "import pandas as pd\n",
    "import json, os, glob\n",
    "# from pandas.io.json import json_normalize\n",
    "\n",
    "#pd.set_option('display.height', 1000)\n",
    "#pd.set_option('display.max_rows', 500)\n",
    "#pd.set_option('display.max_columns', 500)\n",
    "pd.set_option('display.width', 250)\n",
    "pd.set_option('max_colwidth', 300)"
   ]
  },
  {
   "cell_type": "markdown",
   "metadata": {},
   "source": [
    "### Load Data"
   ]
  },
  {
   "cell_type": "code",
   "execution_count": 2,
   "metadata": {
    "ExecuteTime": {
     "end_time": "2024-02-16T00:22:00.820207Z",
     "start_time": "2024-02-16T00:22:00.789053Z"
    }
   },
   "outputs": [],
   "source": [
    "news_path = 'https://storage.googleapis.com/msca-bdp-data-open/news/news_apple_fruit.json'"
   ]
  },
  {
   "cell_type": "code",
   "execution_count": 3,
   "metadata": {
    "ExecuteTime": {
     "end_time": "2024-02-16T00:22:05.543608Z",
     "start_time": "2024-02-16T00:22:02.981569Z"
    }
   },
   "outputs": [
    {
     "data": {
      "text/plain": "(6475, 4)"
     },
     "execution_count": 3,
     "metadata": {},
     "output_type": "execute_result"
    }
   ],
   "source": [
    "news_apple_fruit = pd.read_json(news_path, orient='records', lines=True)\n",
    "news_apple_fruit.shape"
   ]
  },
  {
   "cell_type": "code",
   "execution_count": 4,
   "metadata": {
    "ExecuteTime": {
     "end_time": "2024-02-16T00:22:06.837786Z",
     "start_time": "2024-02-16T00:22:06.799537Z"
    }
   },
   "outputs": [
    {
     "data": {
      "text/plain": "                          crawled language  \\\n5   2018-11-05T04:57:51.015+02:00  english   \n7   2018-11-05T04:58:36.012+02:00  english   \n11  2018-11-05T05:02:21.004+02:00  english   \n16  2018-11-05T05:07:11.004+02:00  english   \n18  2018-11-05T05:10:46.008+02:00  english   \n\n                                                                                                                                                                                                                                                                                                           text  \\\n5   November 4, 2018 Spread the love\\nStarting to think about Thanksgiving recipes..my favorite time of year. This is a great, simple salad to start off the big meal… 4 cups mixed greens 1 large honey crisp apple, sliced thin ½ cup dried cranberries 1 large navel orange, juiced 2 tablespoons apple c...   \n7   Home Nation First snowfall in November in nine years pushes Kashmir to darkness, damages apple orchards\\nThe entire Valley was pushed to darkness, as trees with thick foliage fell down on electrical lines damaging most of the 33KV lines. Share Via Email Published: 04th November 2018 07:05 PM | L...   \n11  more ads by this user Lovely apple green nephrite jade ring from local Hawaii estate. Setting is 10K gold for this very pretty marquis cut apple green cabochon. Stone has even saturation, overall luster, and good translucency. The jade measures approx 18mm x 7mm x 3.6mm, approx 2.15 carats. Ring...   \n16  Type: For Sale 390 Good Day! I am selling here my Chord Mojo in great condition. The sale is together with a cable from Zee Audio enabling you directly to connect the Mojo to an iphone without any further adapters. This sale includesL\\n- Chord Mojo plus original box (but no inside isolation of t...   \n18  I was trying to buy an X Factor live performance on the Apple Music app. I tried to buy it and then it showed a message saying I needed to go to the UK Apple Music because it wasn’t available in the US. So I clicked the button. Then after that it was asking for my Apple ID so I left the app to o...   \n\n                                                                                                                  title  \n5                                                                                                 Apple Cranberry Salad  \n7   First snowfall in November in nine years pushes Kashmir to darkness, damages apple orchards- The New Indian Express  \n11                                              Estate Vintage Apple Green Nephrite Jade Marquis Ring (Hawaii Kai) $225  \n16                                                                                     Chord Mojo & Apple Lightning kit  \n18                                                                                    Apple Music deleted all my songs.  ",
      "text/html": "<div>\n<style scoped>\n    .dataframe tbody tr th:only-of-type {\n        vertical-align: middle;\n    }\n\n    .dataframe tbody tr th {\n        vertical-align: top;\n    }\n\n    .dataframe thead th {\n        text-align: right;\n    }\n</style>\n<table border=\"1\" class=\"dataframe\">\n  <thead>\n    <tr style=\"text-align: right;\">\n      <th></th>\n      <th>crawled</th>\n      <th>language</th>\n      <th>text</th>\n      <th>title</th>\n    </tr>\n  </thead>\n  <tbody>\n    <tr>\n      <th>5</th>\n      <td>2018-11-05T04:57:51.015+02:00</td>\n      <td>english</td>\n      <td>November 4, 2018 Spread the love\\nStarting to think about Thanksgiving recipes..my favorite time of year. This is a great, simple salad to start off the big meal… 4 cups mixed greens 1 large honey crisp apple, sliced thin ½ cup dried cranberries 1 large navel orange, juiced 2 tablespoons apple c...</td>\n      <td>Apple Cranberry Salad</td>\n    </tr>\n    <tr>\n      <th>7</th>\n      <td>2018-11-05T04:58:36.012+02:00</td>\n      <td>english</td>\n      <td>Home Nation First snowfall in November in nine years pushes Kashmir to darkness, damages apple orchards\\nThe entire Valley was pushed to darkness, as trees with thick foliage fell down on electrical lines damaging most of the 33KV lines. Share Via Email Published: 04th November 2018 07:05 PM | L...</td>\n      <td>First snowfall in November in nine years pushes Kashmir to darkness, damages apple orchards- The New Indian Express</td>\n    </tr>\n    <tr>\n      <th>11</th>\n      <td>2018-11-05T05:02:21.004+02:00</td>\n      <td>english</td>\n      <td>more ads by this user Lovely apple green nephrite jade ring from local Hawaii estate. Setting is 10K gold for this very pretty marquis cut apple green cabochon. Stone has even saturation, overall luster, and good translucency. The jade measures approx 18mm x 7mm x 3.6mm, approx 2.15 carats. Ring...</td>\n      <td>Estate Vintage Apple Green Nephrite Jade Marquis Ring (Hawaii Kai) $225</td>\n    </tr>\n    <tr>\n      <th>16</th>\n      <td>2018-11-05T05:07:11.004+02:00</td>\n      <td>english</td>\n      <td>Type: For Sale 390 Good Day! I am selling here my Chord Mojo in great condition. The sale is together with a cable from Zee Audio enabling you directly to connect the Mojo to an iphone without any further adapters. This sale includesL\\n- Chord Mojo plus original box (but no inside isolation of t...</td>\n      <td>Chord Mojo &amp; Apple Lightning kit</td>\n    </tr>\n    <tr>\n      <th>18</th>\n      <td>2018-11-05T05:10:46.008+02:00</td>\n      <td>english</td>\n      <td>I was trying to buy an X Factor live performance on the Apple Music app. I tried to buy it and then it showed a message saying I needed to go to the UK Apple Music because it wasn’t available in the US. So I clicked the button. Then after that it was asking for my Apple ID so I left the app to o...</td>\n      <td>Apple Music deleted all my songs.</td>\n    </tr>\n  </tbody>\n</table>\n</div>"
     },
     "execution_count": 4,
     "metadata": {},
     "output_type": "execute_result"
    }
   ],
   "source": [
    "news_apple_fruit[(news_apple_fruit['text'].str.contains('apple'))].head(5)"
   ]
  },
  {
   "cell_type": "code",
   "execution_count": 5,
   "metadata": {
    "ExecuteTime": {
     "end_time": "2024-02-16T00:22:14.805232Z",
     "start_time": "2024-02-16T00:22:14.774310Z"
    }
   },
   "outputs": [
    {
     "data": {
      "text/plain": "                           crawled language  \\\n16   2018-11-05T05:07:11.004+02:00  english   \n152  2018-11-05T07:04:25.003+02:00  english   \n267  2018-11-05T08:43:43.002+02:00  english   \n312  2018-11-05T09:21:05.019+02:00  english   \n343  2018-11-05T09:53:34.002+02:00  english   \n\n                                                                                                                                                                                                                                                                                                            text  \\\n16   Type: For Sale 390 Good Day! I am selling here my Chord Mojo in great condition. The sale is together with a cable from Zee Audio enabling you directly to connect the Mojo to an iphone without any further adapters. This sale includesL\\n- Chord Mojo plus original box (but no inside isolation of t...   \n152  maspul\\nWhat does the ‘R’ in iPhone XR stand for? I have no idea. It may not stand for anything, given the ‘X’ – as Apple reminded us as its keynote in September’ is actually a Roman numeral, so it’s pronounced “Ten-R”. Making it sound a bit like the British slang for a £10 note is a bit of a cr...   \n267  Published New Discard Success! contact 9885347478 - apple showroom in hyderabad, apple service center in kukatpally, apple showroom telangana, apple exclusive store hyderabad, apple stores india, apple service centre in ameerpet,kondapur, kukatpally. Apple iphone price in hyderabad, apple macboo...   \n312                                                                                                                                                                                                                                                                   http://www.tabstores.in/apple-iphones.html   \n343  apple , Business , infographic , ipad , iphone , iphoneX , news , profit , revenue , revenues , sales , Technology To the astonishment of analysts and data enthusiasts like us – the recent announcement regarding unit sales by Apple came as a major blow. For the past many years, analysts have foc...   \n\n                                                                                  title  \n16                                                     Chord Mojo & Apple Lightning kit  \n152        Apple iPhone XR review: The ‘cheapest’ iPhone is nearly as special as the Xs  \n267                               Apple Showroom in Hyderabad|Apple Stores in hyderabad  \n312                                          http://www.tabstores.in/apple-iphones.html  \n343  Apple Will Not Be Reporting Unit Sales Anymore! Find Out the Potential Reason Here  ",
      "text/html": "<div>\n<style scoped>\n    .dataframe tbody tr th:only-of-type {\n        vertical-align: middle;\n    }\n\n    .dataframe tbody tr th {\n        vertical-align: top;\n    }\n\n    .dataframe thead th {\n        text-align: right;\n    }\n</style>\n<table border=\"1\" class=\"dataframe\">\n  <thead>\n    <tr style=\"text-align: right;\">\n      <th></th>\n      <th>crawled</th>\n      <th>language</th>\n      <th>text</th>\n      <th>title</th>\n    </tr>\n  </thead>\n  <tbody>\n    <tr>\n      <th>16</th>\n      <td>2018-11-05T05:07:11.004+02:00</td>\n      <td>english</td>\n      <td>Type: For Sale 390 Good Day! I am selling here my Chord Mojo in great condition. The sale is together with a cable from Zee Audio enabling you directly to connect the Mojo to an iphone without any further adapters. This sale includesL\\n- Chord Mojo plus original box (but no inside isolation of t...</td>\n      <td>Chord Mojo &amp; Apple Lightning kit</td>\n    </tr>\n    <tr>\n      <th>152</th>\n      <td>2018-11-05T07:04:25.003+02:00</td>\n      <td>english</td>\n      <td>maspul\\nWhat does the ‘R’ in iPhone XR stand for? I have no idea. It may not stand for anything, given the ‘X’ – as Apple reminded us as its keynote in September’ is actually a Roman numeral, so it’s pronounced “Ten-R”. Making it sound a bit like the British slang for a £10 note is a bit of a cr...</td>\n      <td>Apple iPhone XR review: The ‘cheapest’ iPhone is nearly as special as the Xs</td>\n    </tr>\n    <tr>\n      <th>267</th>\n      <td>2018-11-05T08:43:43.002+02:00</td>\n      <td>english</td>\n      <td>Published New Discard Success! contact 9885347478 - apple showroom in hyderabad, apple service center in kukatpally, apple showroom telangana, apple exclusive store hyderabad, apple stores india, apple service centre in ameerpet,kondapur, kukatpally. Apple iphone price in hyderabad, apple macboo...</td>\n      <td>Apple Showroom in Hyderabad|Apple Stores in hyderabad</td>\n    </tr>\n    <tr>\n      <th>312</th>\n      <td>2018-11-05T09:21:05.019+02:00</td>\n      <td>english</td>\n      <td>http://www.tabstores.in/apple-iphones.html</td>\n      <td>http://www.tabstores.in/apple-iphones.html</td>\n    </tr>\n    <tr>\n      <th>343</th>\n      <td>2018-11-05T09:53:34.002+02:00</td>\n      <td>english</td>\n      <td>apple , Business , infographic , ipad , iphone , iphoneX , news , profit , revenue , revenues , sales , Technology To the astonishment of analysts and data enthusiasts like us – the recent announcement regarding unit sales by Apple came as a major blow. For the past many years, analysts have foc...</td>\n      <td>Apple Will Not Be Reporting Unit Sales Anymore! Find Out the Potential Reason Here</td>\n    </tr>\n  </tbody>\n</table>\n</div>"
     },
     "execution_count": 5,
     "metadata": {},
     "output_type": "execute_result"
    }
   ],
   "source": [
    "news_apple_fruit[(news_apple_fruit['text'].str.contains('apple')) & (news_apple_fruit['text'].str.contains('iphone'))].\\\n",
    "head(5)"
   ]
  },
  {
   "cell_type": "code",
   "execution_count": 6,
   "metadata": {
    "ExecuteTime": {
     "end_time": "2024-02-16T00:22:15.370960Z",
     "start_time": "2024-02-16T00:22:15.312978Z"
    }
   },
   "outputs": [
    {
     "data": {
      "text/plain": "                           crawled language  \\\n7    2018-11-05T04:58:36.012+02:00  english   \n76   2018-11-05T05:55:51.018+02:00  english   \n207  2018-11-05T08:06:42.027+02:00  english   \n265  2018-11-05T08:43:10.000+02:00  english   \n377  2018-11-05T10:26:42.011+02:00  english   \n\n                                                                                                                                                                                                                                                                                                            text  \\\n7    Home Nation First snowfall in November in nine years pushes Kashmir to darkness, damages apple orchards\\nThe entire Valley was pushed to darkness, as trees with thick foliage fell down on electrical lines damaging most of the 33KV lines. Share Via Email Published: 04th November 2018 07:05 PM | L...   \n76   400 tonnes of Vietnamese star apples set off for US Published: 2018-11-05 Views: 5 Core Tip: This year, farmers in the Mekong Delta province of Tien Giang are preparing the shipment of 400 tonnes of Lo Ren star apples to the US. This year, farmers in the Mekong Delta province of Tien Giang are p...   \n207  Untimely snowfall damages apple crop in Kashmir Published 04-Nov-2018 19:11 IST File Photo Srinagar: Apple crop worth crores of rupees have been damaged in Kashmir due to early snowfall, officials said on Sunday. Political leaders have extended support to the farmers and asked the state governme...   \n265  SRINAGAR: Apple crop worth crores of rupees have been damaged in Kashmir due to early snowfall, officials said Sunday. Political leaders have extended support to the farmers and asked the state government to take up assessment of losses and compensation for the riots.\\nA large number of fruit-la...   \n377  November 5, 2018 apple crumble pie recipe Rustle up the right way recipe for apple crisp using pie filling\\nAlways buy leafy greens and vegetables that look fresh and perky. Avoid them if the leaves are perforated or even slightly yellowing and if the produce has dark patches and soft spots.\\nI ...   \n\n                                                                                                                   title  \n7    First snowfall in November in nine years pushes Kashmir to darkness, damages apple orchards- The New Indian Express  \n76                                                                  400 tonnes of Vietnamese star apples set off for US-  \n207                                                                      Untimely snowfall damages apple crop in Kashmir  \n265                                                                      Untimely snowfall damages apple crop | Srinagar  \n377                                                     Rustle up the right way recipe for apple crisp using pie filling  ",
      "text/html": "<div>\n<style scoped>\n    .dataframe tbody tr th:only-of-type {\n        vertical-align: middle;\n    }\n\n    .dataframe tbody tr th {\n        vertical-align: top;\n    }\n\n    .dataframe thead th {\n        text-align: right;\n    }\n</style>\n<table border=\"1\" class=\"dataframe\">\n  <thead>\n    <tr style=\"text-align: right;\">\n      <th></th>\n      <th>crawled</th>\n      <th>language</th>\n      <th>text</th>\n      <th>title</th>\n    </tr>\n  </thead>\n  <tbody>\n    <tr>\n      <th>7</th>\n      <td>2018-11-05T04:58:36.012+02:00</td>\n      <td>english</td>\n      <td>Home Nation First snowfall in November in nine years pushes Kashmir to darkness, damages apple orchards\\nThe entire Valley was pushed to darkness, as trees with thick foliage fell down on electrical lines damaging most of the 33KV lines. Share Via Email Published: 04th November 2018 07:05 PM | L...</td>\n      <td>First snowfall in November in nine years pushes Kashmir to darkness, damages apple orchards- The New Indian Express</td>\n    </tr>\n    <tr>\n      <th>76</th>\n      <td>2018-11-05T05:55:51.018+02:00</td>\n      <td>english</td>\n      <td>400 tonnes of Vietnamese star apples set off for US Published: 2018-11-05 Views: 5 Core Tip: This year, farmers in the Mekong Delta province of Tien Giang are preparing the shipment of 400 tonnes of Lo Ren star apples to the US. This year, farmers in the Mekong Delta province of Tien Giang are p...</td>\n      <td>400 tonnes of Vietnamese star apples set off for US-</td>\n    </tr>\n    <tr>\n      <th>207</th>\n      <td>2018-11-05T08:06:42.027+02:00</td>\n      <td>english</td>\n      <td>Untimely snowfall damages apple crop in Kashmir Published 04-Nov-2018 19:11 IST File Photo Srinagar: Apple crop worth crores of rupees have been damaged in Kashmir due to early snowfall, officials said on Sunday. Political leaders have extended support to the farmers and asked the state governme...</td>\n      <td>Untimely snowfall damages apple crop in Kashmir</td>\n    </tr>\n    <tr>\n      <th>265</th>\n      <td>2018-11-05T08:43:10.000+02:00</td>\n      <td>english</td>\n      <td>SRINAGAR: Apple crop worth crores of rupees have been damaged in Kashmir due to early snowfall, officials said Sunday. Political leaders have extended support to the farmers and asked the state government to take up assessment of losses and compensation for the riots.\\nA large number of fruit-la...</td>\n      <td>Untimely snowfall damages apple crop | Srinagar</td>\n    </tr>\n    <tr>\n      <th>377</th>\n      <td>2018-11-05T10:26:42.011+02:00</td>\n      <td>english</td>\n      <td>November 5, 2018 apple crumble pie recipe Rustle up the right way recipe for apple crisp using pie filling\\nAlways buy leafy greens and vegetables that look fresh and perky. Avoid them if the leaves are perforated or even slightly yellowing and if the produce has dark patches and soft spots.\\nI ...</td>\n      <td>Rustle up the right way recipe for apple crisp using pie filling</td>\n    </tr>\n  </tbody>\n</table>\n</div>"
     },
     "execution_count": 6,
     "metadata": {},
     "output_type": "execute_result"
    }
   ],
   "source": [
    "news_apple_fruit[(news_apple_fruit['text'].str.contains('fruit')) & (news_apple_fruit['title'].str.contains('apple'))].\\\n",
    "head(5)"
   ]
  },
  {
   "cell_type": "code",
   "execution_count": null,
   "metadata": {},
   "outputs": [],
   "source": []
  },
  {
   "cell_type": "code",
   "execution_count": null,
   "metadata": {},
   "outputs": [],
   "source": []
  },
  {
   "cell_type": "code",
   "execution_count": null,
   "metadata": {},
   "outputs": [],
   "source": []
  },
  {
   "cell_type": "code",
   "execution_count": 7,
   "metadata": {},
   "outputs": [
    {
     "data": {
      "text/plain": [
       "'Wed, 03 May 2023 18:47:27'"
      ]
     },
     "execution_count": 7,
     "metadata": {},
     "output_type": "execute_result"
    }
   ],
   "source": [
    "import datetime\n",
    "import pytz\n",
    "\n",
    "datetime.datetime.now(pytz.timezone('US/Central')).strftime(\"%a, %d %B %Y %H:%M:%S\")"
   ]
  }
 ],
 "metadata": {
  "kernelspec": {
   "display_name": "Python 3 (ipykernel)",
   "language": "python",
   "name": "python3"
  },
  "language_info": {
   "codemirror_mode": {
    "name": "ipython",
    "version": 3
   },
   "file_extension": ".py",
   "mimetype": "text/x-python",
   "name": "python",
   "nbconvert_exporter": "python",
   "pygments_lexer": "ipython3",
   "version": "3.10.12"
  }
 },
 "nbformat": 4,
 "nbformat_minor": 4
}
