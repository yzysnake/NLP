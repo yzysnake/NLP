{
 "cells": [
  {
   "cell_type": "markdown",
   "metadata": {},
   "source": [
    "## Zero Shot Learning Using Natural Language Inference\n",
    "\n",
    "In this notebook, we will demonstrate **zero-shot** topic classification.  **Zero-Shot Learning (ZSL)** is being able to solve a task despite not having received any training examples of that task.  The `ZeroShotClassifier` class in *ktrain* can be used to perform topic classification with no training examples.  The technique is based on **Natural Language Inference (or NLI)** as described in [this interesting blog post](https://joeddav.github.io/blog/2020/05/29/ZSL.html) by Joe Davison.\n",
    "\n",
    "Source: https://nbviewer.jupyter.org/github/amaiya/ktrain/blob/master/examples/text/zero_shot_learning_with_nli.ipynb"
   ]
  },
  {
   "cell_type": "code",
   "execution_count": 1,
   "metadata": {},
   "outputs": [],
   "source": [
    "import os\n",
    "import numpy as np\n",
    "import pandas as pd\n",
    "import tensorflow as tf\n",
    "import re\n",
    "import string"
   ]
  },
  {
   "cell_type": "code",
   "execution_count": 2,
   "metadata": {},
   "outputs": [],
   "source": [
    "pd.set_option('display.max_colwidth', None)"
   ]
  },
  {
   "cell_type": "markdown",
   "metadata": {},
   "source": [
    "#### Check for GPU presence"
   ]
  },
  {
   "cell_type": "code",
   "execution_count": 3,
   "metadata": {},
   "outputs": [
    {
     "name": "stderr",
     "output_type": "stream",
     "text": [
      "2022-10-30 17:46:01.405026: I tensorflow/stream_executor/cuda/cuda_gpu_executor.cc:937] successful NUMA node read from SysFS had negative value (-1), but there must be at least one NUMA node, so returning NUMA node zero\n",
      "2022-10-30 17:46:01.416940: I tensorflow/stream_executor/cuda/cuda_gpu_executor.cc:937] successful NUMA node read from SysFS had negative value (-1), but there must be at least one NUMA node, so returning NUMA node zero\n",
      "2022-10-30 17:46:01.419000: I tensorflow/stream_executor/cuda/cuda_gpu_executor.cc:937] successful NUMA node read from SysFS had negative value (-1), but there must be at least one NUMA node, so returning NUMA node zero\n"
     ]
    },
    {
     "data": {
      "text/plain": [
       "[PhysicalDevice(name='/physical_device:CPU:0', device_type='CPU'),\n",
       " PhysicalDevice(name='/physical_device:GPU:0', device_type='GPU')]"
      ]
     },
     "execution_count": 3,
     "metadata": {},
     "output_type": "execute_result"
    }
   ],
   "source": [
    "#Verify we got CPU + GPU or only CPU\n",
    "tf.config.list_physical_devices()"
   ]
  },
  {
   "cell_type": "code",
   "execution_count": 4,
   "metadata": {},
   "outputs": [
    {
     "name": "stdout",
     "output_type": "stream",
     "text": [
      "Sun Oct 30 17:46:02 2022       \n",
      "+-----------------------------------------------------------------------------+\n",
      "| NVIDIA-SMI 510.47.03    Driver Version: 510.47.03    CUDA Version: 11.6     |\n",
      "|-------------------------------+----------------------+----------------------+\n",
      "| GPU  Name        Persistence-M| Bus-Id        Disp.A | Volatile Uncorr. ECC |\n",
      "| Fan  Temp  Perf  Pwr:Usage/Cap|         Memory-Usage | GPU-Util  Compute M. |\n",
      "|                               |                      |               MIG M. |\n",
      "|===============================+======================+======================|\n",
      "|   0  Tesla T4            Off  | 00000000:00:04.0 Off |                    0 |\n",
      "| N/A   71C    P0    31W /  70W |      2MiB / 15360MiB |      0%      Default |\n",
      "|                               |                      |                  N/A |\n",
      "+-------------------------------+----------------------+----------------------+\n",
      "                                                                               \n",
      "+-----------------------------------------------------------------------------+\n",
      "| Processes:                                                                  |\n",
      "|  GPU   GI   CI        PID   Type   Process name                  GPU Memory |\n",
      "|        ID   ID                                                   Usage      |\n",
      "|=============================================================================|\n",
      "|  No running processes found                                                 |\n",
      "+-----------------------------------------------------------------------------+\n"
     ]
    }
   ],
   "source": [
    "!nvidia-smi"
   ]
  },
  {
   "cell_type": "code",
   "execution_count": 5,
   "metadata": {},
   "outputs": [
    {
     "data": {
      "text/plain": [
       "'2.6.4'"
      ]
     },
     "execution_count": 5,
     "metadata": {},
     "output_type": "execute_result"
    }
   ],
   "source": [
    "tf.__version__"
   ]
  },
  {
   "cell_type": "code",
   "execution_count": 6,
   "metadata": {},
   "outputs": [],
   "source": [
    "# !pip install ktrain --upgrade"
   ]
  },
  {
   "cell_type": "code",
   "execution_count": 7,
   "metadata": {},
   "outputs": [],
   "source": [
    "import ktrain"
   ]
  },
  {
   "cell_type": "markdown",
   "metadata": {},
   "source": [
    "#### Copy files to local FS from GCP bucket"
   ]
  },
  {
   "cell_type": "code",
   "execution_count": 8,
   "metadata": {},
   "outputs": [],
   "source": [
    "path_zsl = '/home/jupyter/data/zsl'\n",
    "\n",
    "if not os.path.isdir(path_zsl): os.mkdir(path_zsl)"
   ]
  },
  {
   "cell_type": "markdown",
   "metadata": {},
   "source": [
    "#### Instantiate the zero-shot-classifier and then describe the topic labels for our classifier with strings."
   ]
  },
  {
   "cell_type": "code",
   "execution_count": 9,
   "metadata": {},
   "outputs": [],
   "source": [
    "zsl = ktrain.text.ZeroShotClassifier()\n",
    "labels=['automotive', 'business', 'crime', 'education', 'finance', 'politics', 'sports', 'technology']"
   ]
  },
  {
   "cell_type": "markdown",
   "metadata": {},
   "source": [
    "#### Predict labels\n",
    "\n",
    "There is no training involved here, as we are using **zero-shot-learning**.  We will simply supply the document that is being classified and the `topic_strings` defined earlier. The `predict` method uses Natural Language Inference (NLI) to infer the topic probabilities."
   ]
  },
  {
   "cell_type": "code",
   "execution_count": 10,
   "metadata": {},
   "outputs": [],
   "source": [
    "text = '''What a federal government shutdown would mean in Chicago'''"
   ]
  },
  {
   "cell_type": "code",
   "execution_count": 11,
   "metadata": {},
   "outputs": [
    {
     "data": {
      "text/html": [
       "<div>\n",
       "<style scoped>\n",
       "    .dataframe tbody tr th:only-of-type {\n",
       "        vertical-align: middle;\n",
       "    }\n",
       "\n",
       "    .dataframe tbody tr th {\n",
       "        vertical-align: top;\n",
       "    }\n",
       "\n",
       "    .dataframe thead th {\n",
       "        text-align: right;\n",
       "    }\n",
       "</style>\n",
       "<table border=\"1\" class=\"dataframe\">\n",
       "  <thead>\n",
       "    <tr style=\"text-align: right;\">\n",
       "      <th></th>\n",
       "      <th>Label</th>\n",
       "      <th>Relevance</th>\n",
       "    </tr>\n",
       "  </thead>\n",
       "  <tbody>\n",
       "    <tr>\n",
       "      <th>5</th>\n",
       "      <td>politics</td>\n",
       "      <td>0.549638</td>\n",
       "    </tr>\n",
       "    <tr>\n",
       "      <th>4</th>\n",
       "      <td>finance</td>\n",
       "      <td>0.055144</td>\n",
       "    </tr>\n",
       "    <tr>\n",
       "      <th>1</th>\n",
       "      <td>business</td>\n",
       "      <td>0.031941</td>\n",
       "    </tr>\n",
       "    <tr>\n",
       "      <th>7</th>\n",
       "      <td>technology</td>\n",
       "      <td>0.014482</td>\n",
       "    </tr>\n",
       "    <tr>\n",
       "      <th>2</th>\n",
       "      <td>crime</td>\n",
       "      <td>0.008615</td>\n",
       "    </tr>\n",
       "    <tr>\n",
       "      <th>3</th>\n",
       "      <td>education</td>\n",
       "      <td>0.001518</td>\n",
       "    </tr>\n",
       "    <tr>\n",
       "      <th>0</th>\n",
       "      <td>automotive</td>\n",
       "      <td>0.001497</td>\n",
       "    </tr>\n",
       "    <tr>\n",
       "      <th>6</th>\n",
       "      <td>sports</td>\n",
       "      <td>0.000360</td>\n",
       "    </tr>\n",
       "  </tbody>\n",
       "</table>\n",
       "</div>"
      ],
      "text/plain": [
       "        Label  Relevance\n",
       "5    politics   0.549638\n",
       "4     finance   0.055144\n",
       "1    business   0.031941\n",
       "7  technology   0.014482\n",
       "2       crime   0.008615\n",
       "3   education   0.001518\n",
       "0  automotive   0.001497\n",
       "6      sports   0.000360"
      ]
     },
     "execution_count": 11,
     "metadata": {},
     "output_type": "execute_result"
    }
   ],
   "source": [
    "nli_labels = zsl.predict(text, labels=labels, include_labels=True)\n",
    "pd.DataFrame(nli_labels, columns=['Label', 'Relevance']).sort_values(by=['Relevance'], ascending=False)"
   ]
  },
  {
   "cell_type": "code",
   "execution_count": 12,
   "metadata": {},
   "outputs": [],
   "source": [
    "text = '''Wolf experts urge UK police not to shoot escaped animal'''"
   ]
  },
  {
   "cell_type": "code",
   "execution_count": 13,
   "metadata": {},
   "outputs": [
    {
     "data": {
      "text/html": [
       "<div>\n",
       "<style scoped>\n",
       "    .dataframe tbody tr th:only-of-type {\n",
       "        vertical-align: middle;\n",
       "    }\n",
       "\n",
       "    .dataframe tbody tr th {\n",
       "        vertical-align: top;\n",
       "    }\n",
       "\n",
       "    .dataframe thead th {\n",
       "        text-align: right;\n",
       "    }\n",
       "</style>\n",
       "<table border=\"1\" class=\"dataframe\">\n",
       "  <thead>\n",
       "    <tr style=\"text-align: right;\">\n",
       "      <th></th>\n",
       "      <th>Label</th>\n",
       "      <th>Relevance</th>\n",
       "    </tr>\n",
       "  </thead>\n",
       "  <tbody>\n",
       "    <tr>\n",
       "      <th>2</th>\n",
       "      <td>crime</td>\n",
       "      <td>0.766685</td>\n",
       "    </tr>\n",
       "    <tr>\n",
       "      <th>3</th>\n",
       "      <td>education</td>\n",
       "      <td>0.239452</td>\n",
       "    </tr>\n",
       "    <tr>\n",
       "      <th>1</th>\n",
       "      <td>business</td>\n",
       "      <td>0.013391</td>\n",
       "    </tr>\n",
       "    <tr>\n",
       "      <th>7</th>\n",
       "      <td>technology</td>\n",
       "      <td>0.009085</td>\n",
       "    </tr>\n",
       "    <tr>\n",
       "      <th>6</th>\n",
       "      <td>sports</td>\n",
       "      <td>0.005439</td>\n",
       "    </tr>\n",
       "    <tr>\n",
       "      <th>5</th>\n",
       "      <td>politics</td>\n",
       "      <td>0.003027</td>\n",
       "    </tr>\n",
       "    <tr>\n",
       "      <th>4</th>\n",
       "      <td>finance</td>\n",
       "      <td>0.002569</td>\n",
       "    </tr>\n",
       "    <tr>\n",
       "      <th>0</th>\n",
       "      <td>automotive</td>\n",
       "      <td>0.000522</td>\n",
       "    </tr>\n",
       "  </tbody>\n",
       "</table>\n",
       "</div>"
      ],
      "text/plain": [
       "        Label  Relevance\n",
       "2       crime   0.766685\n",
       "3   education   0.239452\n",
       "1    business   0.013391\n",
       "7  technology   0.009085\n",
       "6      sports   0.005439\n",
       "5    politics   0.003027\n",
       "4     finance   0.002569\n",
       "0  automotive   0.000522"
      ]
     },
     "execution_count": 13,
     "metadata": {},
     "output_type": "execute_result"
    }
   ],
   "source": [
    "nli_labels = zsl.predict(text, labels=labels, include_labels=True)\n",
    "pd.DataFrame(nli_labels, columns=['Label', 'Relevance']).sort_values(by=['Relevance'], ascending=False)"
   ]
  },
  {
   "cell_type": "code",
   "execution_count": 14,
   "metadata": {},
   "outputs": [],
   "source": [
    "text = '''A 29-year-old man was shot Friday evening on the South Side.'''"
   ]
  },
  {
   "cell_type": "code",
   "execution_count": 15,
   "metadata": {},
   "outputs": [
    {
     "data": {
      "text/html": [
       "<div>\n",
       "<style scoped>\n",
       "    .dataframe tbody tr th:only-of-type {\n",
       "        vertical-align: middle;\n",
       "    }\n",
       "\n",
       "    .dataframe tbody tr th {\n",
       "        vertical-align: top;\n",
       "    }\n",
       "\n",
       "    .dataframe thead th {\n",
       "        text-align: right;\n",
       "    }\n",
       "</style>\n",
       "<table border=\"1\" class=\"dataframe\">\n",
       "  <thead>\n",
       "    <tr style=\"text-align: right;\">\n",
       "      <th></th>\n",
       "      <th>Label</th>\n",
       "      <th>Relevance</th>\n",
       "    </tr>\n",
       "  </thead>\n",
       "  <tbody>\n",
       "    <tr>\n",
       "      <th>2</th>\n",
       "      <td>crime</td>\n",
       "      <td>0.987510</td>\n",
       "    </tr>\n",
       "    <tr>\n",
       "      <th>7</th>\n",
       "      <td>technology</td>\n",
       "      <td>0.040317</td>\n",
       "    </tr>\n",
       "    <tr>\n",
       "      <th>4</th>\n",
       "      <td>finance</td>\n",
       "      <td>0.019993</td>\n",
       "    </tr>\n",
       "    <tr>\n",
       "      <th>5</th>\n",
       "      <td>politics</td>\n",
       "      <td>0.009519</td>\n",
       "    </tr>\n",
       "    <tr>\n",
       "      <th>0</th>\n",
       "      <td>automotive</td>\n",
       "      <td>0.009268</td>\n",
       "    </tr>\n",
       "    <tr>\n",
       "      <th>3</th>\n",
       "      <td>education</td>\n",
       "      <td>0.006389</td>\n",
       "    </tr>\n",
       "    <tr>\n",
       "      <th>1</th>\n",
       "      <td>business</td>\n",
       "      <td>0.003557</td>\n",
       "    </tr>\n",
       "    <tr>\n",
       "      <th>6</th>\n",
       "      <td>sports</td>\n",
       "      <td>0.002449</td>\n",
       "    </tr>\n",
       "  </tbody>\n",
       "</table>\n",
       "</div>"
      ],
      "text/plain": [
       "        Label  Relevance\n",
       "2       crime   0.987510\n",
       "7  technology   0.040317\n",
       "4     finance   0.019993\n",
       "5    politics   0.009519\n",
       "0  automotive   0.009268\n",
       "3   education   0.006389\n",
       "1    business   0.003557\n",
       "6      sports   0.002449"
      ]
     },
     "execution_count": 15,
     "metadata": {},
     "output_type": "execute_result"
    }
   ],
   "source": [
    "nli_labels = zsl.predict(text, labels=labels, include_labels=True)\n",
    "pd.DataFrame(nli_labels, columns=['Label', 'Relevance']).sort_values(by=['Relevance'], ascending=False)"
   ]
  },
  {
   "cell_type": "code",
   "execution_count": 16,
   "metadata": {},
   "outputs": [],
   "source": [
    "text = '''Three teenagers have been charged with felony robbery after they were \n",
    "taken into custody in connection with a string of robberies from the Near North Side to Kenwood.'''"
   ]
  },
  {
   "cell_type": "code",
   "execution_count": 17,
   "metadata": {},
   "outputs": [
    {
     "data": {
      "text/html": [
       "<div>\n",
       "<style scoped>\n",
       "    .dataframe tbody tr th:only-of-type {\n",
       "        vertical-align: middle;\n",
       "    }\n",
       "\n",
       "    .dataframe tbody tr th {\n",
       "        vertical-align: top;\n",
       "    }\n",
       "\n",
       "    .dataframe thead th {\n",
       "        text-align: right;\n",
       "    }\n",
       "</style>\n",
       "<table border=\"1\" class=\"dataframe\">\n",
       "  <thead>\n",
       "    <tr style=\"text-align: right;\">\n",
       "      <th></th>\n",
       "      <th>Label</th>\n",
       "      <th>Relevance</th>\n",
       "    </tr>\n",
       "  </thead>\n",
       "  <tbody>\n",
       "    <tr>\n",
       "      <th>2</th>\n",
       "      <td>crime</td>\n",
       "      <td>0.988657</td>\n",
       "    </tr>\n",
       "    <tr>\n",
       "      <th>7</th>\n",
       "      <td>technology</td>\n",
       "      <td>0.068227</td>\n",
       "    </tr>\n",
       "    <tr>\n",
       "      <th>1</th>\n",
       "      <td>business</td>\n",
       "      <td>0.045834</td>\n",
       "    </tr>\n",
       "    <tr>\n",
       "      <th>4</th>\n",
       "      <td>finance</td>\n",
       "      <td>0.034175</td>\n",
       "    </tr>\n",
       "    <tr>\n",
       "      <th>5</th>\n",
       "      <td>politics</td>\n",
       "      <td>0.017070</td>\n",
       "    </tr>\n",
       "    <tr>\n",
       "      <th>3</th>\n",
       "      <td>education</td>\n",
       "      <td>0.016280</td>\n",
       "    </tr>\n",
       "    <tr>\n",
       "      <th>0</th>\n",
       "      <td>automotive</td>\n",
       "      <td>0.005773</td>\n",
       "    </tr>\n",
       "    <tr>\n",
       "      <th>6</th>\n",
       "      <td>sports</td>\n",
       "      <td>0.003517</td>\n",
       "    </tr>\n",
       "  </tbody>\n",
       "</table>\n",
       "</div>"
      ],
      "text/plain": [
       "        Label  Relevance\n",
       "2       crime   0.988657\n",
       "7  technology   0.068227\n",
       "1    business   0.045834\n",
       "4     finance   0.034175\n",
       "5    politics   0.017070\n",
       "3   education   0.016280\n",
       "0  automotive   0.005773\n",
       "6      sports   0.003517"
      ]
     },
     "execution_count": 17,
     "metadata": {},
     "output_type": "execute_result"
    }
   ],
   "source": [
    "nli_labels = zsl.predict(text, labels=labels, include_labels=True)\n",
    "pd.DataFrame(nli_labels, columns=['Label', 'Relevance']).sort_values(by=['Relevance'], ascending=False)"
   ]
  },
  {
   "cell_type": "code",
   "execution_count": 18,
   "metadata": {},
   "outputs": [],
   "source": [
    "text = '''American and Southwest joined United Airlines in reporting expectation-beating earnings \n",
    "and unveiling expansion plans.  But investors, fearing that more flights might lead to a fare war, \n",
    "pounded airline stocks for a second day even as American Airlines signaled that higher fuel costs \n",
    "will probably force it to raise fares..'''"
   ]
  },
  {
   "cell_type": "code",
   "execution_count": 19,
   "metadata": {},
   "outputs": [
    {
     "data": {
      "text/html": [
       "<div>\n",
       "<style scoped>\n",
       "    .dataframe tbody tr th:only-of-type {\n",
       "        vertical-align: middle;\n",
       "    }\n",
       "\n",
       "    .dataframe tbody tr th {\n",
       "        vertical-align: top;\n",
       "    }\n",
       "\n",
       "    .dataframe thead th {\n",
       "        text-align: right;\n",
       "    }\n",
       "</style>\n",
       "<table border=\"1\" class=\"dataframe\">\n",
       "  <thead>\n",
       "    <tr style=\"text-align: right;\">\n",
       "      <th></th>\n",
       "      <th>Label</th>\n",
       "      <th>Relevance</th>\n",
       "    </tr>\n",
       "  </thead>\n",
       "  <tbody>\n",
       "    <tr>\n",
       "      <th>1</th>\n",
       "      <td>business</td>\n",
       "      <td>0.834711</td>\n",
       "    </tr>\n",
       "    <tr>\n",
       "      <th>4</th>\n",
       "      <td>finance</td>\n",
       "      <td>0.734396</td>\n",
       "    </tr>\n",
       "    <tr>\n",
       "      <th>7</th>\n",
       "      <td>technology</td>\n",
       "      <td>0.127065</td>\n",
       "    </tr>\n",
       "    <tr>\n",
       "      <th>2</th>\n",
       "      <td>crime</td>\n",
       "      <td>0.046787</td>\n",
       "    </tr>\n",
       "    <tr>\n",
       "      <th>5</th>\n",
       "      <td>politics</td>\n",
       "      <td>0.037455</td>\n",
       "    </tr>\n",
       "    <tr>\n",
       "      <th>3</th>\n",
       "      <td>education</td>\n",
       "      <td>0.014266</td>\n",
       "    </tr>\n",
       "    <tr>\n",
       "      <th>6</th>\n",
       "      <td>sports</td>\n",
       "      <td>0.008155</td>\n",
       "    </tr>\n",
       "    <tr>\n",
       "      <th>0</th>\n",
       "      <td>automotive</td>\n",
       "      <td>0.006896</td>\n",
       "    </tr>\n",
       "  </tbody>\n",
       "</table>\n",
       "</div>"
      ],
      "text/plain": [
       "        Label  Relevance\n",
       "1    business   0.834711\n",
       "4     finance   0.734396\n",
       "7  technology   0.127065\n",
       "2       crime   0.046787\n",
       "5    politics   0.037455\n",
       "3   education   0.014266\n",
       "6      sports   0.008155\n",
       "0  automotive   0.006896"
      ]
     },
     "execution_count": 19,
     "metadata": {},
     "output_type": "execute_result"
    }
   ],
   "source": [
    "nli_labels = zsl.predict(text, labels=labels, include_labels=True)\n",
    "pd.DataFrame(nli_labels, columns=['Label', 'Relevance']).sort_values(by=['Relevance'], ascending=False)"
   ]
  },
  {
   "cell_type": "code",
   "execution_count": 20,
   "metadata": {},
   "outputs": [],
   "source": [
    "text = '''The gorgeous Giulia Quadrifoglio seduces the soul and sears the \n",
    "senses with a beautiful balance of aggression and finesse. \n",
    "Alfa flaunts its racing pedigree with the four-leaf-clover \n",
    "badge displayed on the Giulia’s shapely flanks. \n",
    "Its Ferrari-derived twin-turbo V-6 sings a sinister tune, \n",
    "belting out 505 horsepower. Its clever, communicative chassis can \n",
    "conquer a race course with unfiltered ferocity or coolly traverse \n",
    "the tarmac without commotion. An excellent eight-speed automatic \n",
    "transmission and rear-wheel drive are standard; sadly, \n",
    "a manual gearbox is missing. Alfa Romeo’s past and present \n",
    "reliability issues also remain an unknown quantity. \n",
    "Still, the Giulia Quadrifoglio, or QF, is an exotic sports sedan \n",
    "that sets a new benchmark for the genre—which is why it made our list of 10Best Cars for 2018.'''"
   ]
  },
  {
   "cell_type": "code",
   "execution_count": 21,
   "metadata": {},
   "outputs": [
    {
     "data": {
      "text/html": [
       "<div>\n",
       "<style scoped>\n",
       "    .dataframe tbody tr th:only-of-type {\n",
       "        vertical-align: middle;\n",
       "    }\n",
       "\n",
       "    .dataframe tbody tr th {\n",
       "        vertical-align: top;\n",
       "    }\n",
       "\n",
       "    .dataframe thead th {\n",
       "        text-align: right;\n",
       "    }\n",
       "</style>\n",
       "<table border=\"1\" class=\"dataframe\">\n",
       "  <thead>\n",
       "    <tr style=\"text-align: right;\">\n",
       "      <th></th>\n",
       "      <th>Label</th>\n",
       "      <th>Relevance</th>\n",
       "    </tr>\n",
       "  </thead>\n",
       "  <tbody>\n",
       "    <tr>\n",
       "      <th>6</th>\n",
       "      <td>sports</td>\n",
       "      <td>0.988785</td>\n",
       "    </tr>\n",
       "    <tr>\n",
       "      <th>0</th>\n",
       "      <td>automotive</td>\n",
       "      <td>0.972940</td>\n",
       "    </tr>\n",
       "    <tr>\n",
       "      <th>7</th>\n",
       "      <td>technology</td>\n",
       "      <td>0.203415</td>\n",
       "    </tr>\n",
       "    <tr>\n",
       "      <th>2</th>\n",
       "      <td>crime</td>\n",
       "      <td>0.039129</td>\n",
       "    </tr>\n",
       "    <tr>\n",
       "      <th>5</th>\n",
       "      <td>politics</td>\n",
       "      <td>0.010752</td>\n",
       "    </tr>\n",
       "    <tr>\n",
       "      <th>4</th>\n",
       "      <td>finance</td>\n",
       "      <td>0.007339</td>\n",
       "    </tr>\n",
       "    <tr>\n",
       "      <th>3</th>\n",
       "      <td>education</td>\n",
       "      <td>0.005153</td>\n",
       "    </tr>\n",
       "    <tr>\n",
       "      <th>1</th>\n",
       "      <td>business</td>\n",
       "      <td>0.000506</td>\n",
       "    </tr>\n",
       "  </tbody>\n",
       "</table>\n",
       "</div>"
      ],
      "text/plain": [
       "        Label  Relevance\n",
       "6      sports   0.988785\n",
       "0  automotive   0.972940\n",
       "7  technology   0.203415\n",
       "2       crime   0.039129\n",
       "5    politics   0.010752\n",
       "4     finance   0.007339\n",
       "3   education   0.005153\n",
       "1    business   0.000506"
      ]
     },
     "execution_count": 21,
     "metadata": {},
     "output_type": "execute_result"
    }
   ],
   "source": [
    "nli_labels = zsl.predict(text, labels=labels, include_labels=True)\n",
    "pd.DataFrame(nli_labels, columns=['Label', 'Relevance']).sort_values(by=['Relevance'], ascending=False)"
   ]
  },
  {
   "cell_type": "code",
   "execution_count": 22,
   "metadata": {},
   "outputs": [],
   "source": [
    "text = '''My husband ordered a fruit arrangement for me for Valentine's Day. \n",
    "He had planned on taking me to the movies with two free tickets he was promised with a \n",
    "promotion you had been advertising. My husband was unaware that these tickets came via email. \n",
    "However, your sales representative who took his order failed to record his email address. \n",
    "Therefore we never received the tickets. \n",
    "I have called corporate and the store manager about this. \n",
    "They seem to not be able to resolve things in a timely manner. \n",
    "Also the fruit was not the best tasting. \n",
    "Needless to say we will never be supporting your business again. \n",
    "Overall poor customer service and a very overpriced product.'''"
   ]
  },
  {
   "cell_type": "code",
   "execution_count": 23,
   "metadata": {},
   "outputs": [
    {
     "data": {
      "text/html": [
       "<div>\n",
       "<style scoped>\n",
       "    .dataframe tbody tr th:only-of-type {\n",
       "        vertical-align: middle;\n",
       "    }\n",
       "\n",
       "    .dataframe tbody tr th {\n",
       "        vertical-align: top;\n",
       "    }\n",
       "\n",
       "    .dataframe thead th {\n",
       "        text-align: right;\n",
       "    }\n",
       "</style>\n",
       "<table border=\"1\" class=\"dataframe\">\n",
       "  <thead>\n",
       "    <tr style=\"text-align: right;\">\n",
       "      <th></th>\n",
       "      <th>Label</th>\n",
       "      <th>Relevance</th>\n",
       "    </tr>\n",
       "  </thead>\n",
       "  <tbody>\n",
       "    <tr>\n",
       "      <th>1</th>\n",
       "      <td>business</td>\n",
       "      <td>0.989676</td>\n",
       "    </tr>\n",
       "    <tr>\n",
       "      <th>7</th>\n",
       "      <td>technology</td>\n",
       "      <td>0.364626</td>\n",
       "    </tr>\n",
       "    <tr>\n",
       "      <th>4</th>\n",
       "      <td>finance</td>\n",
       "      <td>0.202784</td>\n",
       "    </tr>\n",
       "    <tr>\n",
       "      <th>2</th>\n",
       "      <td>crime</td>\n",
       "      <td>0.100025</td>\n",
       "    </tr>\n",
       "    <tr>\n",
       "      <th>3</th>\n",
       "      <td>education</td>\n",
       "      <td>0.066658</td>\n",
       "    </tr>\n",
       "    <tr>\n",
       "      <th>6</th>\n",
       "      <td>sports</td>\n",
       "      <td>0.028541</td>\n",
       "    </tr>\n",
       "    <tr>\n",
       "      <th>5</th>\n",
       "      <td>politics</td>\n",
       "      <td>0.017946</td>\n",
       "    </tr>\n",
       "    <tr>\n",
       "      <th>0</th>\n",
       "      <td>automotive</td>\n",
       "      <td>0.016109</td>\n",
       "    </tr>\n",
       "  </tbody>\n",
       "</table>\n",
       "</div>"
      ],
      "text/plain": [
       "        Label  Relevance\n",
       "1    business   0.989676\n",
       "7  technology   0.364626\n",
       "4     finance   0.202784\n",
       "2       crime   0.100025\n",
       "3   education   0.066658\n",
       "6      sports   0.028541\n",
       "5    politics   0.017946\n",
       "0  automotive   0.016109"
      ]
     },
     "execution_count": 23,
     "metadata": {},
     "output_type": "execute_result"
    }
   ],
   "source": [
    "nli_labels = zsl.predict(text, labels=labels, include_labels=True)\n",
    "pd.DataFrame(nli_labels, columns=['Label', 'Relevance']).sort_values(by=['Relevance'], ascending=False)"
   ]
  },
  {
   "cell_type": "code",
   "execution_count": 24,
   "metadata": {},
   "outputs": [],
   "source": [
    "text = '''\n",
    "\n",
    "The University of Chicago is an urban research university that has driven new ways of thinking since 1890. Our commitment to free and open inquiry draws inspired scholars to our global campuses, where ideas are born that challenge and change the world.\n",
    "\n",
    "We empower individuals to challenge conventional thinking in pursuit of original ideas. Students in the College develop critical, analytic, and writing skills in our rigorous, interdisciplinary core curriculum. Through graduate programs, students test their ideas with UChicago scholars, and become the next generation of leaders in academia, industry, nonprofits, and government.\n",
    "\n",
    "UChicago research has led to such breakthroughs as discovering the link between cancer and genetics, establishing revolutionary theories of economics, and developing tools to produce reliably excellent urban schooling. We generate new insights for the benefit of present and future generations with our national and affiliated laboratories: Argonne National Laboratory, Fermi National Accelerator Laboratory, and the Marine Biological Laboratory in Woods Hole, Massachusetts.\n",
    "\n",
    "The University of Chicago is enriched by the city we call home. In partnership with our neighbors, we invest in Chicago's mid-South Side across such areas as health, education, economic growth, and the arts. Together with our medical center, we are the largest private employer on the South Side.\n",
    "\n",
    "In all we do, we are driven to dig deeper, push further, and ask bigger questions—and to leverage our knowledge to enrich all human life. Our diverse and creative students and alumni drive innovation, lead international conversations, and make masterpieces. Alumni and faculty, lecturers and postdocs go on to become Nobel laureates, CEOs, university presidents, attorneys general, literary giants, and astronauts. \n",
    "'''"
   ]
  },
  {
   "cell_type": "code",
   "execution_count": 25,
   "metadata": {},
   "outputs": [
    {
     "data": {
      "text/html": [
       "<div>\n",
       "<style scoped>\n",
       "    .dataframe tbody tr th:only-of-type {\n",
       "        vertical-align: middle;\n",
       "    }\n",
       "\n",
       "    .dataframe tbody tr th {\n",
       "        vertical-align: top;\n",
       "    }\n",
       "\n",
       "    .dataframe thead th {\n",
       "        text-align: right;\n",
       "    }\n",
       "</style>\n",
       "<table border=\"1\" class=\"dataframe\">\n",
       "  <thead>\n",
       "    <tr style=\"text-align: right;\">\n",
       "      <th></th>\n",
       "      <th>Label</th>\n",
       "      <th>Relevance</th>\n",
       "    </tr>\n",
       "  </thead>\n",
       "  <tbody>\n",
       "    <tr>\n",
       "      <th>3</th>\n",
       "      <td>education</td>\n",
       "      <td>0.604124</td>\n",
       "    </tr>\n",
       "    <tr>\n",
       "      <th>7</th>\n",
       "      <td>technology</td>\n",
       "      <td>0.531229</td>\n",
       "    </tr>\n",
       "    <tr>\n",
       "      <th>5</th>\n",
       "      <td>politics</td>\n",
       "      <td>0.200898</td>\n",
       "    </tr>\n",
       "    <tr>\n",
       "      <th>1</th>\n",
       "      <td>business</td>\n",
       "      <td>0.119388</td>\n",
       "    </tr>\n",
       "    <tr>\n",
       "      <th>4</th>\n",
       "      <td>finance</td>\n",
       "      <td>0.114148</td>\n",
       "    </tr>\n",
       "    <tr>\n",
       "      <th>0</th>\n",
       "      <td>automotive</td>\n",
       "      <td>0.074157</td>\n",
       "    </tr>\n",
       "    <tr>\n",
       "      <th>6</th>\n",
       "      <td>sports</td>\n",
       "      <td>0.054469</td>\n",
       "    </tr>\n",
       "    <tr>\n",
       "      <th>2</th>\n",
       "      <td>crime</td>\n",
       "      <td>0.046676</td>\n",
       "    </tr>\n",
       "  </tbody>\n",
       "</table>\n",
       "</div>"
      ],
      "text/plain": [
       "        Label  Relevance\n",
       "3   education   0.604124\n",
       "7  technology   0.531229\n",
       "5    politics   0.200898\n",
       "1    business   0.119388\n",
       "4     finance   0.114148\n",
       "0  automotive   0.074157\n",
       "6      sports   0.054469\n",
       "2       crime   0.046676"
      ]
     },
     "execution_count": 25,
     "metadata": {},
     "output_type": "execute_result"
    }
   ],
   "source": [
    "nli_labels = zsl.predict(text, labels=labels, include_labels=True)\n",
    "pd.DataFrame(nli_labels, columns=['Label', 'Relevance']).sort_values(by=['Relevance'], ascending=False)"
   ]
  },
  {
   "cell_type": "markdown",
   "metadata": {},
   "source": [
    "### Customizing the Classifier for Zero-Shot Sentiment Analysis\n",
    "\n",
    "As stated above, the `ZeroShotClassifier` is implemented using Natural Language Inference (NLI).  That is, the document is treated as a **premise**, and each label is treated as a **hypothesis**.  To predict labels, an NLI model is used to predict whether or not each label is entailed by the premise.  By default, the template used for the hypothesis is of the form `\"This text is about <label>.\"`, where `<label>` is replaced with a candidate label (e.g., `politics`, `sports`, etc.).  Although this works well for many text classification problems such as the topic classification examples above, we can customize the template with the `nli_template` parameter if necessary.  For instance, if predicting sentiment of Yelp reviews, we might change the template as follows:"
   ]
  },
  {
   "cell_type": "code",
   "execution_count": 26,
   "metadata": {},
   "outputs": [],
   "source": [
    "text = '''My husband ordered a fruit arrangement for me for Valentine's Day. \n",
    "He had planned on taking me to the movies with two free tickets he was promised with a \n",
    "promotion you had been advertising. My husband was unaware that these tickets came via email. \n",
    "However, your sales representative who took his order failed to record his email address. \n",
    "Therefore we never received the tickets. \n",
    "I have called corporate and the store manager about this. \n",
    "They seem to not be able to resolve things in a timely manner. \n",
    "Also the fruit was not the best tasting. \n",
    "Needless to say we will never be supporting your business again. \n",
    "Overall poor customer service and a very overpriced product.'''"
   ]
  },
  {
   "cell_type": "code",
   "execution_count": 27,
   "metadata": {},
   "outputs": [
    {
     "data": {
      "text/plain": [
       "[('negative', 0.9980232119560242), ('positive', 0.005484164692461491)]"
      ]
     },
     "execution_count": 27,
     "metadata": {},
     "output_type": "execute_result"
    }
   ],
   "source": [
    "zsl.predict(text, labels=['negative', 'positive'], include_labels=True,\n",
    "            nli_template=\"The sentiment of this restaurant review is {}.\")"
   ]
  },
  {
   "cell_type": "markdown",
   "metadata": {},
   "source": [
    "If you compare with the default template, you'll see the negative score is higher with the custom template.\n",
    "\n",
    "Let's now consider a more ambiguous review:\n",
    "> The food is delicious and the cocktails are excellent, however the service was poor"
   ]
  },
  {
   "cell_type": "code",
   "execution_count": 28,
   "metadata": {},
   "outputs": [
    {
     "data": {
      "text/plain": [
       "[('negative', 0.10656122118234634), ('positive', 0.6364313364028931)]"
      ]
     },
     "execution_count": 28,
     "metadata": {},
     "output_type": "execute_result"
    }
   ],
   "source": [
    "doc = \"The food is delicious and the cocktails are excellent, however the service was poor\"\n",
    "zsl.predict(doc, labels=['negative', 'positive'], include_labels=True,\n",
    "            nli_template=\"The sentiment of this restaurant review is {}.\")"
   ]
  },
  {
   "cell_type": "markdown",
   "metadata": {},
   "source": [
    "From the output above, we see that the results do **NOT** sum to one and both labels are above a standard threshold of `0.5`.  By default, `ZeroShotClassifier` treats the task as a multilabel problem, which allows multiple labels to be true.  Since the review is both negative and positive, both scores are above the `0.5` threshold (although the `positive` class is only above slightly when using the custom template).\n",
    "\n",
    "If the labels are to be treated as mutually-exclusive, we can set `multilabel=False` in which case the scores will sum to 1 we will classify the review as negative overall:"
   ]
  },
  {
   "cell_type": "code",
   "execution_count": 29,
   "metadata": {},
   "outputs": [
    {
     "data": {
      "text/plain": [
       "[('negative', 0.19782660901546478), ('positive', 0.802173376083374)]"
      ]
     },
     "execution_count": 29,
     "metadata": {},
     "output_type": "execute_result"
    }
   ],
   "source": [
    "doc = \"The food is delicious and the cocktails are excellent, however the service was poor\"\n",
    "zsl.predict(doc, labels=['negative', 'positive'], include_labels=True,\n",
    "            nli_template=\"The sentiment of this restaurant review is {}.\",\n",
    "             multilabel=False)"
   ]
  },
  {
   "cell_type": "markdown",
   "metadata": {},
   "source": [
    "### Prediction Time and Batch Size\n",
    "\n",
    "The `predict` method can accept a large list of documents.  Documents are automatically split into batches based on the `batch_size` parameter, which can be increased to speed up predictions.\n",
    "\n",
    "Note also that the `predict` method of `ZeroShotClassifier` generates a separate NLI prediction for each label included in the `labels` parameter.  As `len(labels)` and the number of documents fed to `predict` increases, the prediction time will also increase.  **You can speed up predictions by increasing the `batch_size`.**  The default `batch_size` is currently set conservatively at 8:"
   ]
  },
  {
   "cell_type": "code",
   "execution_count": 30,
   "metadata": {},
   "outputs": [
    {
     "data": {
      "text/plain": [
       "(285, 4)"
      ]
     },
     "execution_count": 30,
     "metadata": {},
     "output_type": "execute_result"
    }
   ],
   "source": [
    "path = 'https://storage.googleapis.com/msca-bdp-data-open/news/news_samsung.json'\n",
    "\n",
    "news_df = pd.read_json(path, orient='records', lines=True)\n",
    "\n",
    "news_df = news_df.sample(frac=0.01, replace=False, random_state=1).reset_index(drop=True)\n",
    "news_df.shape"
   ]
  },
  {
   "cell_type": "code",
   "execution_count": 31,
   "metadata": {},
   "outputs": [],
   "source": [
    "# Filter non-English articles\n",
    "news_eng = news_df[news_df['language']=='english'].reset_index(drop=True)"
   ]
  },
  {
   "cell_type": "code",
   "execution_count": 32,
   "metadata": {},
   "outputs": [],
   "source": [
    "# Remove special characters to avoid problems with analysis\n",
    "news_eng['text_clean'] = news_eng['text'].map(lambda x: re.sub('[^a-zA-Z0-9 @ . , : - _]', '', str(x)))\n",
    "news_eng = news_eng[['text_clean']]"
   ]
  },
  {
   "cell_type": "code",
   "execution_count": 33,
   "metadata": {},
   "outputs": [],
   "source": [
    "texts = news_eng['text_clean'].tolist()"
   ]
  },
  {
   "cell_type": "markdown",
   "metadata": {},
   "source": [
    "#### Predicting 8 topics for news articles on GPU using `batch_size=1`"
   ]
  },
  {
   "cell_type": "code",
   "execution_count": 34,
   "metadata": {},
   "outputs": [
    {
     "name": "stdout",
     "output_type": "stream",
     "text": [
      "CPU times: user 2min 1s, sys: 1min 7s, total: 3min 9s\n",
      "Wall time: 2min 26s\n"
     ]
    }
   ],
   "source": [
    "%time predictions = zsl.predict(texts, labels=labels, include_labels=False, batch_size=1)"
   ]
  },
  {
   "cell_type": "code",
   "execution_count": 35,
   "metadata": {},
   "outputs": [
    {
     "data": {
      "text/html": [
       "<div>\n",
       "<style scoped>\n",
       "    .dataframe tbody tr th:only-of-type {\n",
       "        vertical-align: middle;\n",
       "    }\n",
       "\n",
       "    .dataframe tbody tr th {\n",
       "        vertical-align: top;\n",
       "    }\n",
       "\n",
       "    .dataframe thead th {\n",
       "        text-align: right;\n",
       "    }\n",
       "</style>\n",
       "<table border=\"1\" class=\"dataframe\">\n",
       "  <thead>\n",
       "    <tr style=\"text-align: right;\">\n",
       "      <th></th>\n",
       "      <th>text</th>\n",
       "      <th>automotive</th>\n",
       "      <th>business</th>\n",
       "      <th>crime</th>\n",
       "      <th>education</th>\n",
       "      <th>finance</th>\n",
       "      <th>politics</th>\n",
       "      <th>sports</th>\n",
       "      <th>technology</th>\n",
       "    </tr>\n",
       "  </thead>\n",
       "  <tbody>\n",
       "    <tr>\n",
       "      <th>1</th>\n",
       "      <td>Samsung microwave 50 OnoCame in the caravan we Just bought but dont need it. Looks brand new. Needs a wipe.Pickup only, no holds.</td>\n",
       "      <td>0.037435</td>\n",
       "      <td>0.058699</td>\n",
       "      <td>0.004895</td>\n",
       "      <td>0.008507</td>\n",
       "      <td>0.052492</td>\n",
       "      <td>0.003977</td>\n",
       "      <td>0.003872</td>\n",
       "      <td>0.941041</td>\n",
       "    </tr>\n",
       "    <tr>\n",
       "      <th>4</th>\n",
       "      <td>Samsung Galaxy tab A9.7 inch touch screenOtterbox defender series case with screen protector16gb of storageRecharge dock and cableOnly has a few marks on the screen protectorNo marks or scratches on the screen it self</td>\n",
       "      <td>0.008269</td>\n",
       "      <td>0.054831</td>\n",
       "      <td>0.008057</td>\n",
       "      <td>0.011446</td>\n",
       "      <td>0.023182</td>\n",
       "      <td>0.003798</td>\n",
       "      <td>0.008489</td>\n",
       "      <td>0.873278</td>\n",
       "    </tr>\n",
       "    <tr>\n",
       "      <th>6</th>\n",
       "      <td>Samsung is expected to announce a new smartwatch at its Unpacked event next month, the Samsung Galaxy Watch Active2. The device, designed to compete with the Apple Watch, is rumoured to include one of the Apple Watchs most desired features, an ECG reader. Now, according to Wareable.com, the</td>\n",
       "      <td>0.001126</td>\n",
       "      <td>0.460356</td>\n",
       "      <td>0.006225</td>\n",
       "      <td>0.006362</td>\n",
       "      <td>0.034927</td>\n",
       "      <td>0.003169</td>\n",
       "      <td>0.066312</td>\n",
       "      <td>0.981514</td>\n",
       "    </tr>\n",
       "    <tr>\n",
       "      <th>8</th>\n",
       "      <td>I want to buy are Samsung Galaxy s10 plus similar to this if anyone is selling one please contact me on</td>\n",
       "      <td>0.020150</td>\n",
       "      <td>0.473502</td>\n",
       "      <td>0.003388</td>\n",
       "      <td>0.008048</td>\n",
       "      <td>0.175045</td>\n",
       "      <td>0.001469</td>\n",
       "      <td>0.005744</td>\n",
       "      <td>0.987131</td>\n",
       "    </tr>\n",
       "    <tr>\n",
       "      <th>10</th>\n",
       "      <td>Samsung Galaxy M10 32GB Memory, 3GB RAM, 3400mAh Battery Brand New 7446677 MVR 2,550.00Samsung Galaxy M10 32GB Memory, 3GB RAM, 3400mAh Battery Brand New  SealedFree Delivery Call 7446677We Sell Original Products Only, We are Resposible for any returns within 48hrs after sale.  Premium Seller Since 2010 Listing ID : 2662137  Last Updated : 23Jun2019</td>\n",
       "      <td>0.196043</td>\n",
       "      <td>0.846702</td>\n",
       "      <td>0.039778</td>\n",
       "      <td>0.060728</td>\n",
       "      <td>0.607072</td>\n",
       "      <td>0.021529</td>\n",
       "      <td>0.035601</td>\n",
       "      <td>0.952042</td>\n",
       "    </tr>\n",
       "    <tr>\n",
       "      <th>17</th>\n",
       "      <td>super cheap with good specs... 23mp cam somemore... what do u thinkSent from Samsung Nokia 3310 using GAGT</td>\n",
       "      <td>0.060886</td>\n",
       "      <td>0.115194</td>\n",
       "      <td>0.019241</td>\n",
       "      <td>0.047752</td>\n",
       "      <td>0.162421</td>\n",
       "      <td>0.015310</td>\n",
       "      <td>0.039002</td>\n",
       "      <td>0.956864</td>\n",
       "    </tr>\n",
       "    <tr>\n",
       "      <th>20</th>\n",
       "      <td>samsung 2 x 4 GB ram DescriptionI have a pair of 4 GB Samsung laptop ram Specifications can seen on pics I need 10600 instead of 12800 Shipping: Collection From sellers around the web: Comments  Offers</td>\n",
       "      <td>0.032684</td>\n",
       "      <td>0.298925</td>\n",
       "      <td>0.027303</td>\n",
       "      <td>0.015298</td>\n",
       "      <td>0.407947</td>\n",
       "      <td>0.004757</td>\n",
       "      <td>0.004622</td>\n",
       "      <td>0.952372</td>\n",
       "    </tr>\n",
       "    <tr>\n",
       "      <th>21</th>\n",
       "      <td>When we turn on our TV it displays the sources window, covering the bottom 13 of the screen, for 1015 seconds. Sometimes it comes on when we accidentally hit the sources button on the remote VZ remote, and it wont go away until we turn the TV off and on again. Is there a way to disable the automatic display of input source Im pretty sure we know what were watching, and if we want to change the source, we would do so.</td>\n",
       "      <td>0.053012</td>\n",
       "      <td>0.069108</td>\n",
       "      <td>0.050715</td>\n",
       "      <td>0.054511</td>\n",
       "      <td>0.062063</td>\n",
       "      <td>0.040218</td>\n",
       "      <td>0.069196</td>\n",
       "      <td>0.951890</td>\n",
       "    </tr>\n",
       "    <tr>\n",
       "      <th>23</th>\n",
       "      <td>iATKOS Inside: Current state of Samsung 970 Evo Plus Current state of Samsung 970 Evo Plus http:4.bp.blogspot.compHUMWpQbhq4WFAFtmrfj4I K_IDKYWOVUmf0YOWWxjtwyE6d9aLKUomwaGgCK4Bs1600iatkos_new.png</td>\n",
       "      <td>0.526383</td>\n",
       "      <td>0.417470</td>\n",
       "      <td>0.009580</td>\n",
       "      <td>0.015382</td>\n",
       "      <td>0.105067</td>\n",
       "      <td>0.005989</td>\n",
       "      <td>0.026775</td>\n",
       "      <td>0.949342</td>\n",
       "    </tr>\n",
       "    <tr>\n",
       "      <th>26</th>\n",
       "      <td>https:www.channelnewsasia.comnewsbus...t11693122SEOUL:Samsung Electronics said Friday Jul 5 it expects operating profit to tumble 56 per cent for the second quarter of this year in the face of a weakening chip market.brbrThe worlds largest maker of smartphones and memory chips has enjoyed record profits in recent years despite a series of ...</td>\n",
       "      <td>0.001489</td>\n",
       "      <td>0.505598</td>\n",
       "      <td>0.004281</td>\n",
       "      <td>0.002343</td>\n",
       "      <td>0.071728</td>\n",
       "      <td>0.003583</td>\n",
       "      <td>0.001364</td>\n",
       "      <td>0.617251</td>\n",
       "    </tr>\n",
       "  </tbody>\n",
       "</table>\n",
       "</div>"
      ],
      "text/plain": [
       "                                                                                                                                                                                                                                                                                                                                                                                                                                    text  \\\n",
       "1                                                                                                                                                                                                                                                                                                      Samsung microwave 50 OnoCame in the caravan we Just bought but dont need it. Looks brand new. Needs a wipe.Pickup only, no holds.   \n",
       "4                                                                                                                                                                                                              Samsung Galaxy tab A9.7 inch touch screenOtterbox defender series case with screen protector16gb of storageRecharge dock and cableOnly has a few marks on the screen protectorNo marks or scratches on the screen it self   \n",
       "6                                                                                                                                    Samsung is expected to announce a new smartwatch at its Unpacked event next month, the Samsung Galaxy Watch Active2. The device, designed to compete with the Apple Watch, is rumoured to include one of the Apple Watchs most desired features, an ECG reader. Now, according to Wareable.com, the   \n",
       "8                                                                                                                                                                                                                                                                                                                               I want to buy are Samsung Galaxy s10 plus similar to this if anyone is selling one please contact me on    \n",
       "10                                                                       Samsung Galaxy M10 32GB Memory, 3GB RAM, 3400mAh Battery Brand New 7446677 MVR 2,550.00Samsung Galaxy M10 32GB Memory, 3GB RAM, 3400mAh Battery Brand New  SealedFree Delivery Call 7446677We Sell Original Products Only, We are Resposible for any returns within 48hrs after sale.  Premium Seller Since 2010 Listing ID : 2662137  Last Updated : 23Jun2019   \n",
       "17                                                                                                                                                                                                                                                                                                                            super cheap with good specs... 23mp cam somemore... what do u thinkSent from Samsung Nokia 3310 using GAGT   \n",
       "20                                                                                                                                                                                                                             samsung 2 x 4 GB ram DescriptionI have a pair of 4 GB Samsung laptop ram Specifications can seen on pics I need 10600 instead of 12800 Shipping: Collection From sellers around the web: Comments  Offers   \n",
       "21  When we turn on our TV it displays the sources window, covering the bottom 13 of the screen, for 1015 seconds. Sometimes it comes on when we accidentally hit the sources button on the remote VZ remote, and it wont go away until we turn the TV off and on again. Is there a way to disable the automatic display of input source Im pretty sure we know what were watching, and if we want to change the source, we would do so.   \n",
       "23                                                                                                                                                                                                                                  iATKOS Inside: Current state of Samsung 970 Evo Plus Current state of Samsung 970 Evo Plus http:4.bp.blogspot.compHUMWpQbhq4WFAFtmrfj4I K_IDKYWOVUmf0YOWWxjtwyE6d9aLKUomwaGgCK4Bs1600iatkos_new.png    \n",
       "26                                                                              https:www.channelnewsasia.comnewsbus...t11693122SEOUL:Samsung Electronics said Friday Jul 5 it expects operating profit to tumble 56 per cent for the second quarter of this year in the face of a weakening chip market.brbrThe worlds largest maker of smartphones and memory chips has enjoyed record profits in recent years despite a series of ...   \n",
       "\n",
       "    automotive  business     crime  education   finance  politics    sports  \\\n",
       "1     0.037435  0.058699  0.004895   0.008507  0.052492  0.003977  0.003872   \n",
       "4     0.008269  0.054831  0.008057   0.011446  0.023182  0.003798  0.008489   \n",
       "6     0.001126  0.460356  0.006225   0.006362  0.034927  0.003169  0.066312   \n",
       "8     0.020150  0.473502  0.003388   0.008048  0.175045  0.001469  0.005744   \n",
       "10    0.196043  0.846702  0.039778   0.060728  0.607072  0.021529  0.035601   \n",
       "17    0.060886  0.115194  0.019241   0.047752  0.162421  0.015310  0.039002   \n",
       "20    0.032684  0.298925  0.027303   0.015298  0.407947  0.004757  0.004622   \n",
       "21    0.053012  0.069108  0.050715   0.054511  0.062063  0.040218  0.069196   \n",
       "23    0.526383  0.417470  0.009580   0.015382  0.105067  0.005989  0.026775   \n",
       "26    0.001489  0.505598  0.004281   0.002343  0.071728  0.003583  0.001364   \n",
       "\n",
       "    technology  \n",
       "1     0.941041  \n",
       "4     0.873278  \n",
       "6     0.981514  \n",
       "8     0.987131  \n",
       "10    0.952042  \n",
       "17    0.956864  \n",
       "20    0.952372  \n",
       "21    0.951890  \n",
       "23    0.949342  \n",
       "26    0.617251  "
      ]
     },
     "execution_count": 35,
     "metadata": {},
     "output_type": "execute_result"
    }
   ],
   "source": [
    "predictions_df = pd.DataFrame(predictions, columns=[labels]) \n",
    "news_topics = news_eng.join(predictions_df, how='inner')\n",
    "news_topics.columns = [['text'] + labels]\n",
    "\n",
    "predictions_df.to_json('/home/jupyter/data/zsl/predictions_zsl_b1.json', orient='records', lines=True)\n",
    "news_topics.to_json('/home/jupyter/data/zsl/news_topics_zsl_b1.json', orient='records', lines=True)\n",
    "\n",
    "\n",
    "# Reset multi-level index\n",
    "news_topics.columns = news_topics.columns.get_level_values(0)\n",
    "\n",
    "# Select the small-ish articles only\n",
    "news_topics.loc[(news_topics[\"text\"].str.len() > 100) & (news_topics[\"text\"].str.len() < 500)].head(10)"
   ]
  },
  {
   "cell_type": "markdown",
   "metadata": {},
   "source": [
    "#### Predicting 8 topics for news articles on GPU using `batch_size=8`"
   ]
  },
  {
   "cell_type": "code",
   "execution_count": 36,
   "metadata": {},
   "outputs": [
    {
     "name": "stderr",
     "output_type": "stream",
     "text": [
      "/opt/conda/lib/python3.7/site-packages/ktrain/text/zsl/core.py:102: UserWarning: TIP: Try increasing batch_size to speedup ZeroShotClassifier predictions\n",
      "  \"TIP: Try increasing batch_size to speedup ZeroShotClassifier predictions\"\n"
     ]
    },
    {
     "name": "stdout",
     "output_type": "stream",
     "text": [
      "CPU times: user 37.2 s, sys: 1min 25s, total: 2min 2s\n",
      "Wall time: 1min 49s\n"
     ]
    }
   ],
   "source": [
    "%time predictions = zsl.predict(texts, labels=labels, include_labels=False, batch_size=8)"
   ]
  },
  {
   "cell_type": "code",
   "execution_count": 37,
   "metadata": {},
   "outputs": [
    {
     "data": {
      "text/html": [
       "<div>\n",
       "<style scoped>\n",
       "    .dataframe tbody tr th:only-of-type {\n",
       "        vertical-align: middle;\n",
       "    }\n",
       "\n",
       "    .dataframe tbody tr th {\n",
       "        vertical-align: top;\n",
       "    }\n",
       "\n",
       "    .dataframe thead th {\n",
       "        text-align: right;\n",
       "    }\n",
       "</style>\n",
       "<table border=\"1\" class=\"dataframe\">\n",
       "  <thead>\n",
       "    <tr style=\"text-align: right;\">\n",
       "      <th></th>\n",
       "      <th>text</th>\n",
       "      <th>automotive</th>\n",
       "      <th>business</th>\n",
       "      <th>crime</th>\n",
       "      <th>education</th>\n",
       "      <th>finance</th>\n",
       "      <th>politics</th>\n",
       "      <th>sports</th>\n",
       "      <th>technology</th>\n",
       "    </tr>\n",
       "  </thead>\n",
       "  <tbody>\n",
       "    <tr>\n",
       "      <th>1</th>\n",
       "      <td>Samsung microwave 50 OnoCame in the caravan we Just bought but dont need it. Looks brand new. Needs a wipe.Pickup only, no holds.</td>\n",
       "      <td>0.037435</td>\n",
       "      <td>0.058699</td>\n",
       "      <td>0.004895</td>\n",
       "      <td>0.008507</td>\n",
       "      <td>0.052492</td>\n",
       "      <td>0.003977</td>\n",
       "      <td>0.003872</td>\n",
       "      <td>0.941041</td>\n",
       "    </tr>\n",
       "    <tr>\n",
       "      <th>4</th>\n",
       "      <td>Samsung Galaxy tab A9.7 inch touch screenOtterbox defender series case with screen protector16gb of storageRecharge dock and cableOnly has a few marks on the screen protectorNo marks or scratches on the screen it self</td>\n",
       "      <td>0.008269</td>\n",
       "      <td>0.054830</td>\n",
       "      <td>0.008057</td>\n",
       "      <td>0.011446</td>\n",
       "      <td>0.023181</td>\n",
       "      <td>0.003798</td>\n",
       "      <td>0.008489</td>\n",
       "      <td>0.873278</td>\n",
       "    </tr>\n",
       "    <tr>\n",
       "      <th>6</th>\n",
       "      <td>Samsung is expected to announce a new smartwatch at its Unpacked event next month, the Samsung Galaxy Watch Active2. The device, designed to compete with the Apple Watch, is rumoured to include one of the Apple Watchs most desired features, an ECG reader. Now, according to Wareable.com, the</td>\n",
       "      <td>0.001126</td>\n",
       "      <td>0.460354</td>\n",
       "      <td>0.006225</td>\n",
       "      <td>0.006362</td>\n",
       "      <td>0.034927</td>\n",
       "      <td>0.003169</td>\n",
       "      <td>0.066313</td>\n",
       "      <td>0.981514</td>\n",
       "    </tr>\n",
       "    <tr>\n",
       "      <th>8</th>\n",
       "      <td>I want to buy are Samsung Galaxy s10 plus similar to this if anyone is selling one please contact me on</td>\n",
       "      <td>0.020150</td>\n",
       "      <td>0.473504</td>\n",
       "      <td>0.003388</td>\n",
       "      <td>0.008048</td>\n",
       "      <td>0.175046</td>\n",
       "      <td>0.001469</td>\n",
       "      <td>0.005744</td>\n",
       "      <td>0.987131</td>\n",
       "    </tr>\n",
       "    <tr>\n",
       "      <th>10</th>\n",
       "      <td>Samsung Galaxy M10 32GB Memory, 3GB RAM, 3400mAh Battery Brand New 7446677 MVR 2,550.00Samsung Galaxy M10 32GB Memory, 3GB RAM, 3400mAh Battery Brand New  SealedFree Delivery Call 7446677We Sell Original Products Only, We are Resposible for any returns within 48hrs after sale.  Premium Seller Since 2010 Listing ID : 2662137  Last Updated : 23Jun2019</td>\n",
       "      <td>0.196043</td>\n",
       "      <td>0.846702</td>\n",
       "      <td>0.039778</td>\n",
       "      <td>0.060729</td>\n",
       "      <td>0.607072</td>\n",
       "      <td>0.021529</td>\n",
       "      <td>0.035601</td>\n",
       "      <td>0.952042</td>\n",
       "    </tr>\n",
       "    <tr>\n",
       "      <th>17</th>\n",
       "      <td>super cheap with good specs... 23mp cam somemore... what do u thinkSent from Samsung Nokia 3310 using GAGT</td>\n",
       "      <td>0.060886</td>\n",
       "      <td>0.115194</td>\n",
       "      <td>0.019241</td>\n",
       "      <td>0.047752</td>\n",
       "      <td>0.162421</td>\n",
       "      <td>0.015311</td>\n",
       "      <td>0.039002</td>\n",
       "      <td>0.956864</td>\n",
       "    </tr>\n",
       "    <tr>\n",
       "      <th>20</th>\n",
       "      <td>samsung 2 x 4 GB ram DescriptionI have a pair of 4 GB Samsung laptop ram Specifications can seen on pics I need 10600 instead of 12800 Shipping: Collection From sellers around the web: Comments  Offers</td>\n",
       "      <td>0.032683</td>\n",
       "      <td>0.298926</td>\n",
       "      <td>0.027303</td>\n",
       "      <td>0.015298</td>\n",
       "      <td>0.407945</td>\n",
       "      <td>0.004757</td>\n",
       "      <td>0.004622</td>\n",
       "      <td>0.952372</td>\n",
       "    </tr>\n",
       "    <tr>\n",
       "      <th>21</th>\n",
       "      <td>When we turn on our TV it displays the sources window, covering the bottom 13 of the screen, for 1015 seconds. Sometimes it comes on when we accidentally hit the sources button on the remote VZ remote, and it wont go away until we turn the TV off and on again. Is there a way to disable the automatic display of input source Im pretty sure we know what were watching, and if we want to change the source, we would do so.</td>\n",
       "      <td>0.053011</td>\n",
       "      <td>0.069108</td>\n",
       "      <td>0.050715</td>\n",
       "      <td>0.054510</td>\n",
       "      <td>0.062063</td>\n",
       "      <td>0.040218</td>\n",
       "      <td>0.069196</td>\n",
       "      <td>0.951890</td>\n",
       "    </tr>\n",
       "    <tr>\n",
       "      <th>23</th>\n",
       "      <td>iATKOS Inside: Current state of Samsung 970 Evo Plus Current state of Samsung 970 Evo Plus http:4.bp.blogspot.compHUMWpQbhq4WFAFtmrfj4I K_IDKYWOVUmf0YOWWxjtwyE6d9aLKUomwaGgCK4Bs1600iatkos_new.png</td>\n",
       "      <td>0.526383</td>\n",
       "      <td>0.417469</td>\n",
       "      <td>0.009580</td>\n",
       "      <td>0.015383</td>\n",
       "      <td>0.105067</td>\n",
       "      <td>0.005989</td>\n",
       "      <td>0.026775</td>\n",
       "      <td>0.949343</td>\n",
       "    </tr>\n",
       "    <tr>\n",
       "      <th>26</th>\n",
       "      <td>https:www.channelnewsasia.comnewsbus...t11693122SEOUL:Samsung Electronics said Friday Jul 5 it expects operating profit to tumble 56 per cent for the second quarter of this year in the face of a weakening chip market.brbrThe worlds largest maker of smartphones and memory chips has enjoyed record profits in recent years despite a series of ...</td>\n",
       "      <td>0.001489</td>\n",
       "      <td>0.505598</td>\n",
       "      <td>0.004281</td>\n",
       "      <td>0.002343</td>\n",
       "      <td>0.071728</td>\n",
       "      <td>0.003583</td>\n",
       "      <td>0.001364</td>\n",
       "      <td>0.617253</td>\n",
       "    </tr>\n",
       "  </tbody>\n",
       "</table>\n",
       "</div>"
      ],
      "text/plain": [
       "                                                                                                                                                                                                                                                                                                                                                                                                                                    text  \\\n",
       "1                                                                                                                                                                                                                                                                                                      Samsung microwave 50 OnoCame in the caravan we Just bought but dont need it. Looks brand new. Needs a wipe.Pickup only, no holds.   \n",
       "4                                                                                                                                                                                                              Samsung Galaxy tab A9.7 inch touch screenOtterbox defender series case with screen protector16gb of storageRecharge dock and cableOnly has a few marks on the screen protectorNo marks or scratches on the screen it self   \n",
       "6                                                                                                                                    Samsung is expected to announce a new smartwatch at its Unpacked event next month, the Samsung Galaxy Watch Active2. The device, designed to compete with the Apple Watch, is rumoured to include one of the Apple Watchs most desired features, an ECG reader. Now, according to Wareable.com, the   \n",
       "8                                                                                                                                                                                                                                                                                                                               I want to buy are Samsung Galaxy s10 plus similar to this if anyone is selling one please contact me on    \n",
       "10                                                                       Samsung Galaxy M10 32GB Memory, 3GB RAM, 3400mAh Battery Brand New 7446677 MVR 2,550.00Samsung Galaxy M10 32GB Memory, 3GB RAM, 3400mAh Battery Brand New  SealedFree Delivery Call 7446677We Sell Original Products Only, We are Resposible for any returns within 48hrs after sale.  Premium Seller Since 2010 Listing ID : 2662137  Last Updated : 23Jun2019   \n",
       "17                                                                                                                                                                                                                                                                                                                            super cheap with good specs... 23mp cam somemore... what do u thinkSent from Samsung Nokia 3310 using GAGT   \n",
       "20                                                                                                                                                                                                                             samsung 2 x 4 GB ram DescriptionI have a pair of 4 GB Samsung laptop ram Specifications can seen on pics I need 10600 instead of 12800 Shipping: Collection From sellers around the web: Comments  Offers   \n",
       "21  When we turn on our TV it displays the sources window, covering the bottom 13 of the screen, for 1015 seconds. Sometimes it comes on when we accidentally hit the sources button on the remote VZ remote, and it wont go away until we turn the TV off and on again. Is there a way to disable the automatic display of input source Im pretty sure we know what were watching, and if we want to change the source, we would do so.   \n",
       "23                                                                                                                                                                                                                                  iATKOS Inside: Current state of Samsung 970 Evo Plus Current state of Samsung 970 Evo Plus http:4.bp.blogspot.compHUMWpQbhq4WFAFtmrfj4I K_IDKYWOVUmf0YOWWxjtwyE6d9aLKUomwaGgCK4Bs1600iatkos_new.png    \n",
       "26                                                                              https:www.channelnewsasia.comnewsbus...t11693122SEOUL:Samsung Electronics said Friday Jul 5 it expects operating profit to tumble 56 per cent for the second quarter of this year in the face of a weakening chip market.brbrThe worlds largest maker of smartphones and memory chips has enjoyed record profits in recent years despite a series of ...   \n",
       "\n",
       "    automotive  business     crime  education   finance  politics    sports  \\\n",
       "1     0.037435  0.058699  0.004895   0.008507  0.052492  0.003977  0.003872   \n",
       "4     0.008269  0.054830  0.008057   0.011446  0.023181  0.003798  0.008489   \n",
       "6     0.001126  0.460354  0.006225   0.006362  0.034927  0.003169  0.066313   \n",
       "8     0.020150  0.473504  0.003388   0.008048  0.175046  0.001469  0.005744   \n",
       "10    0.196043  0.846702  0.039778   0.060729  0.607072  0.021529  0.035601   \n",
       "17    0.060886  0.115194  0.019241   0.047752  0.162421  0.015311  0.039002   \n",
       "20    0.032683  0.298926  0.027303   0.015298  0.407945  0.004757  0.004622   \n",
       "21    0.053011  0.069108  0.050715   0.054510  0.062063  0.040218  0.069196   \n",
       "23    0.526383  0.417469  0.009580   0.015383  0.105067  0.005989  0.026775   \n",
       "26    0.001489  0.505598  0.004281   0.002343  0.071728  0.003583  0.001364   \n",
       "\n",
       "    technology  \n",
       "1     0.941041  \n",
       "4     0.873278  \n",
       "6     0.981514  \n",
       "8     0.987131  \n",
       "10    0.952042  \n",
       "17    0.956864  \n",
       "20    0.952372  \n",
       "21    0.951890  \n",
       "23    0.949343  \n",
       "26    0.617253  "
      ]
     },
     "execution_count": 37,
     "metadata": {},
     "output_type": "execute_result"
    }
   ],
   "source": [
    "predictions_df = pd.DataFrame(predictions, columns=[labels]) \n",
    "news_topics = news_eng.join(predictions_df, how='inner')\n",
    "news_topics.columns = [['text'] + labels]\n",
    "\n",
    "predictions_df.to_json('/home/jupyter/data/zsl/predictions_zsl_b8.json', orient='records', lines=True)\n",
    "news_topics.to_json('/home/jupyter/data/zsl/news_topics_zsl_b8.json', orient='records', lines=True)\n",
    "\n",
    "# Reset multi-level index\n",
    "news_topics.columns = news_topics.columns.get_level_values(0)\n",
    "\n",
    "# Select the small-ish articles only\n",
    "news_topics.loc[(news_topics[\"text\"].str.len() > 100) & (news_topics[\"text\"].str.len() < 500)].head(10)"
   ]
  },
  {
   "cell_type": "markdown",
   "metadata": {},
   "source": [
    "#### Predicting 8 topics for news articles on GPU using `batch_size=64`"
   ]
  },
  {
   "cell_type": "code",
   "execution_count": 38,
   "metadata": {},
   "outputs": [
    {
     "name": "stdout",
     "output_type": "stream",
     "text": [
      "CPU times: user 45.7 s, sys: 3min 37s, total: 4min 23s\n",
      "Wall time: 4min 18s\n"
     ]
    }
   ],
   "source": [
    "%time predictions = zsl.predict(texts, labels=labels, include_labels=False, batch_size=64)"
   ]
  },
  {
   "cell_type": "code",
   "execution_count": 39,
   "metadata": {},
   "outputs": [
    {
     "data": {
      "text/html": [
       "<div>\n",
       "<style scoped>\n",
       "    .dataframe tbody tr th:only-of-type {\n",
       "        vertical-align: middle;\n",
       "    }\n",
       "\n",
       "    .dataframe tbody tr th {\n",
       "        vertical-align: top;\n",
       "    }\n",
       "\n",
       "    .dataframe thead th {\n",
       "        text-align: right;\n",
       "    }\n",
       "</style>\n",
       "<table border=\"1\" class=\"dataframe\">\n",
       "  <thead>\n",
       "    <tr style=\"text-align: right;\">\n",
       "      <th></th>\n",
       "      <th>text</th>\n",
       "      <th>automotive</th>\n",
       "      <th>business</th>\n",
       "      <th>crime</th>\n",
       "      <th>education</th>\n",
       "      <th>finance</th>\n",
       "      <th>politics</th>\n",
       "      <th>sports</th>\n",
       "      <th>technology</th>\n",
       "    </tr>\n",
       "  </thead>\n",
       "  <tbody>\n",
       "    <tr>\n",
       "      <th>1</th>\n",
       "      <td>Samsung microwave 50 OnoCame in the caravan we Just bought but dont need it. Looks brand new. Needs a wipe.Pickup only, no holds.</td>\n",
       "      <td>0.037435</td>\n",
       "      <td>0.058700</td>\n",
       "      <td>0.004895</td>\n",
       "      <td>0.008507</td>\n",
       "      <td>0.052492</td>\n",
       "      <td>0.003977</td>\n",
       "      <td>0.003872</td>\n",
       "      <td>0.941041</td>\n",
       "    </tr>\n",
       "    <tr>\n",
       "      <th>4</th>\n",
       "      <td>Samsung Galaxy tab A9.7 inch touch screenOtterbox defender series case with screen protector16gb of storageRecharge dock and cableOnly has a few marks on the screen protectorNo marks or scratches on the screen it self</td>\n",
       "      <td>0.008269</td>\n",
       "      <td>0.054830</td>\n",
       "      <td>0.008057</td>\n",
       "      <td>0.011446</td>\n",
       "      <td>0.023181</td>\n",
       "      <td>0.003798</td>\n",
       "      <td>0.008489</td>\n",
       "      <td>0.873278</td>\n",
       "    </tr>\n",
       "    <tr>\n",
       "      <th>6</th>\n",
       "      <td>Samsung is expected to announce a new smartwatch at its Unpacked event next month, the Samsung Galaxy Watch Active2. The device, designed to compete with the Apple Watch, is rumoured to include one of the Apple Watchs most desired features, an ECG reader. Now, according to Wareable.com, the</td>\n",
       "      <td>0.001126</td>\n",
       "      <td>0.460354</td>\n",
       "      <td>0.006225</td>\n",
       "      <td>0.006362</td>\n",
       "      <td>0.034927</td>\n",
       "      <td>0.003169</td>\n",
       "      <td>0.066313</td>\n",
       "      <td>0.981514</td>\n",
       "    </tr>\n",
       "    <tr>\n",
       "      <th>8</th>\n",
       "      <td>I want to buy are Samsung Galaxy s10 plus similar to this if anyone is selling one please contact me on</td>\n",
       "      <td>0.020149</td>\n",
       "      <td>0.473499</td>\n",
       "      <td>0.003388</td>\n",
       "      <td>0.008048</td>\n",
       "      <td>0.175045</td>\n",
       "      <td>0.001469</td>\n",
       "      <td>0.005744</td>\n",
       "      <td>0.987131</td>\n",
       "    </tr>\n",
       "    <tr>\n",
       "      <th>10</th>\n",
       "      <td>Samsung Galaxy M10 32GB Memory, 3GB RAM, 3400mAh Battery Brand New 7446677 MVR 2,550.00Samsung Galaxy M10 32GB Memory, 3GB RAM, 3400mAh Battery Brand New  SealedFree Delivery Call 7446677We Sell Original Products Only, We are Resposible for any returns within 48hrs after sale.  Premium Seller Since 2010 Listing ID : 2662137  Last Updated : 23Jun2019</td>\n",
       "      <td>0.196042</td>\n",
       "      <td>0.846702</td>\n",
       "      <td>0.039778</td>\n",
       "      <td>0.060729</td>\n",
       "      <td>0.607073</td>\n",
       "      <td>0.021529</td>\n",
       "      <td>0.035601</td>\n",
       "      <td>0.952042</td>\n",
       "    </tr>\n",
       "    <tr>\n",
       "      <th>17</th>\n",
       "      <td>super cheap with good specs... 23mp cam somemore... what do u thinkSent from Samsung Nokia 3310 using GAGT</td>\n",
       "      <td>0.060886</td>\n",
       "      <td>0.115194</td>\n",
       "      <td>0.019240</td>\n",
       "      <td>0.047752</td>\n",
       "      <td>0.162421</td>\n",
       "      <td>0.015310</td>\n",
       "      <td>0.039002</td>\n",
       "      <td>0.956864</td>\n",
       "    </tr>\n",
       "    <tr>\n",
       "      <th>20</th>\n",
       "      <td>samsung 2 x 4 GB ram DescriptionI have a pair of 4 GB Samsung laptop ram Specifications can seen on pics I need 10600 instead of 12800 Shipping: Collection From sellers around the web: Comments  Offers</td>\n",
       "      <td>0.032683</td>\n",
       "      <td>0.298921</td>\n",
       "      <td>0.027303</td>\n",
       "      <td>0.015298</td>\n",
       "      <td>0.407948</td>\n",
       "      <td>0.004757</td>\n",
       "      <td>0.004622</td>\n",
       "      <td>0.952372</td>\n",
       "    </tr>\n",
       "    <tr>\n",
       "      <th>21</th>\n",
       "      <td>When we turn on our TV it displays the sources window, covering the bottom 13 of the screen, for 1015 seconds. Sometimes it comes on when we accidentally hit the sources button on the remote VZ remote, and it wont go away until we turn the TV off and on again. Is there a way to disable the automatic display of input source Im pretty sure we know what were watching, and if we want to change the source, we would do so.</td>\n",
       "      <td>0.053011</td>\n",
       "      <td>0.069108</td>\n",
       "      <td>0.050714</td>\n",
       "      <td>0.054510</td>\n",
       "      <td>0.062064</td>\n",
       "      <td>0.040218</td>\n",
       "      <td>0.069195</td>\n",
       "      <td>0.951890</td>\n",
       "    </tr>\n",
       "    <tr>\n",
       "      <th>23</th>\n",
       "      <td>iATKOS Inside: Current state of Samsung 970 Evo Plus Current state of Samsung 970 Evo Plus http:4.bp.blogspot.compHUMWpQbhq4WFAFtmrfj4I K_IDKYWOVUmf0YOWWxjtwyE6d9aLKUomwaGgCK4Bs1600iatkos_new.png</td>\n",
       "      <td>0.526383</td>\n",
       "      <td>0.417469</td>\n",
       "      <td>0.009580</td>\n",
       "      <td>0.015382</td>\n",
       "      <td>0.105068</td>\n",
       "      <td>0.005989</td>\n",
       "      <td>0.026775</td>\n",
       "      <td>0.949343</td>\n",
       "    </tr>\n",
       "    <tr>\n",
       "      <th>26</th>\n",
       "      <td>https:www.channelnewsasia.comnewsbus...t11693122SEOUL:Samsung Electronics said Friday Jul 5 it expects operating profit to tumble 56 per cent for the second quarter of this year in the face of a weakening chip market.brbrThe worlds largest maker of smartphones and memory chips has enjoyed record profits in recent years despite a series of ...</td>\n",
       "      <td>0.001489</td>\n",
       "      <td>0.505596</td>\n",
       "      <td>0.004281</td>\n",
       "      <td>0.002343</td>\n",
       "      <td>0.071727</td>\n",
       "      <td>0.003583</td>\n",
       "      <td>0.001364</td>\n",
       "      <td>0.617251</td>\n",
       "    </tr>\n",
       "  </tbody>\n",
       "</table>\n",
       "</div>"
      ],
      "text/plain": [
       "                                                                                                                                                                                                                                                                                                                                                                                                                                    text  \\\n",
       "1                                                                                                                                                                                                                                                                                                      Samsung microwave 50 OnoCame in the caravan we Just bought but dont need it. Looks brand new. Needs a wipe.Pickup only, no holds.   \n",
       "4                                                                                                                                                                                                              Samsung Galaxy tab A9.7 inch touch screenOtterbox defender series case with screen protector16gb of storageRecharge dock and cableOnly has a few marks on the screen protectorNo marks or scratches on the screen it self   \n",
       "6                                                                                                                                    Samsung is expected to announce a new smartwatch at its Unpacked event next month, the Samsung Galaxy Watch Active2. The device, designed to compete with the Apple Watch, is rumoured to include one of the Apple Watchs most desired features, an ECG reader. Now, according to Wareable.com, the   \n",
       "8                                                                                                                                                                                                                                                                                                                               I want to buy are Samsung Galaxy s10 plus similar to this if anyone is selling one please contact me on    \n",
       "10                                                                       Samsung Galaxy M10 32GB Memory, 3GB RAM, 3400mAh Battery Brand New 7446677 MVR 2,550.00Samsung Galaxy M10 32GB Memory, 3GB RAM, 3400mAh Battery Brand New  SealedFree Delivery Call 7446677We Sell Original Products Only, We are Resposible for any returns within 48hrs after sale.  Premium Seller Since 2010 Listing ID : 2662137  Last Updated : 23Jun2019   \n",
       "17                                                                                                                                                                                                                                                                                                                            super cheap with good specs... 23mp cam somemore... what do u thinkSent from Samsung Nokia 3310 using GAGT   \n",
       "20                                                                                                                                                                                                                             samsung 2 x 4 GB ram DescriptionI have a pair of 4 GB Samsung laptop ram Specifications can seen on pics I need 10600 instead of 12800 Shipping: Collection From sellers around the web: Comments  Offers   \n",
       "21  When we turn on our TV it displays the sources window, covering the bottom 13 of the screen, for 1015 seconds. Sometimes it comes on when we accidentally hit the sources button on the remote VZ remote, and it wont go away until we turn the TV off and on again. Is there a way to disable the automatic display of input source Im pretty sure we know what were watching, and if we want to change the source, we would do so.   \n",
       "23                                                                                                                                                                                                                                  iATKOS Inside: Current state of Samsung 970 Evo Plus Current state of Samsung 970 Evo Plus http:4.bp.blogspot.compHUMWpQbhq4WFAFtmrfj4I K_IDKYWOVUmf0YOWWxjtwyE6d9aLKUomwaGgCK4Bs1600iatkos_new.png    \n",
       "26                                                                              https:www.channelnewsasia.comnewsbus...t11693122SEOUL:Samsung Electronics said Friday Jul 5 it expects operating profit to tumble 56 per cent for the second quarter of this year in the face of a weakening chip market.brbrThe worlds largest maker of smartphones and memory chips has enjoyed record profits in recent years despite a series of ...   \n",
       "\n",
       "    automotive  business     crime  education   finance  politics    sports  \\\n",
       "1     0.037435  0.058700  0.004895   0.008507  0.052492  0.003977  0.003872   \n",
       "4     0.008269  0.054830  0.008057   0.011446  0.023181  0.003798  0.008489   \n",
       "6     0.001126  0.460354  0.006225   0.006362  0.034927  0.003169  0.066313   \n",
       "8     0.020149  0.473499  0.003388   0.008048  0.175045  0.001469  0.005744   \n",
       "10    0.196042  0.846702  0.039778   0.060729  0.607073  0.021529  0.035601   \n",
       "17    0.060886  0.115194  0.019240   0.047752  0.162421  0.015310  0.039002   \n",
       "20    0.032683  0.298921  0.027303   0.015298  0.407948  0.004757  0.004622   \n",
       "21    0.053011  0.069108  0.050714   0.054510  0.062064  0.040218  0.069195   \n",
       "23    0.526383  0.417469  0.009580   0.015382  0.105068  0.005989  0.026775   \n",
       "26    0.001489  0.505596  0.004281   0.002343  0.071727  0.003583  0.001364   \n",
       "\n",
       "    technology  \n",
       "1     0.941041  \n",
       "4     0.873278  \n",
       "6     0.981514  \n",
       "8     0.987131  \n",
       "10    0.952042  \n",
       "17    0.956864  \n",
       "20    0.952372  \n",
       "21    0.951890  \n",
       "23    0.949343  \n",
       "26    0.617251  "
      ]
     },
     "execution_count": 39,
     "metadata": {},
     "output_type": "execute_result"
    }
   ],
   "source": [
    "predictions_df = pd.DataFrame(predictions, columns=[labels]) \n",
    "news_topics = news_eng.join(predictions_df, how='inner')\n",
    "news_topics.columns = [['text'] + labels]\n",
    "\n",
    "predictions_df.to_json('/home/jupyter/data/zsl/predictions_zsl_b64.json', orient='records', lines=True)\n",
    "news_topics.to_json('/home/jupyter/data/zsl/news_topics_zsl_b64.json', orient='records', lines=True)\n",
    "\n",
    "# Reset multi-level index\n",
    "news_topics.columns = news_topics.columns.get_level_values(0)\n",
    "\n",
    "# Select the small-ish articles only\n",
    "news_topics.loc[(news_topics[\"text\"].str.len() > 100) & (news_topics[\"text\"].str.len() < 500)].head(10)"
   ]
  },
  {
   "cell_type": "code",
   "execution_count": 40,
   "metadata": {},
   "outputs": [
    {
     "name": "stdout",
     "output_type": "stream",
     "text": [
      "huggingface/tokenizers: The current process just got forked, after parallelism has already been used. Disabling parallelism to avoid deadlocks...\n",
      "To disable this warning, you can either:\n",
      "\t- Avoid using `tokenizers` before the fork if possible\n",
      "\t- Explicitly set the environment variable TOKENIZERS_PARALLELISM=(true | false)\n",
      "Skipping existing item: gs://msca-bdp-data-open/zsl/news_topics_zsl_b1.json\n",
      "Skipping existing item: gs://msca-bdp-data-open/zsl/predictions_zsl_b8.json\n",
      "Skipping existing item: gs://msca-bdp-data-open/zsl/news_topics_zsl_b64.json\n",
      "Skipping existing item: gs://msca-bdp-data-open/zsl/predictions_zsl_b1.json\n",
      "Skipping existing item: gs://msca-bdp-data-open/zsl/predictions_zsl_b64.json\n",
      "Skipping existing item: gs://msca-bdp-data-open/zsl/news_topics_zsl_b8.json\n"
     ]
    }
   ],
   "source": [
    "!gsutil -m cp -n '/home/jupyter/data/zsl/*' 'gs://msca-bdp-data-open/zsl/' "
   ]
  },
  {
   "cell_type": "code",
   "execution_count": 41,
   "metadata": {},
   "outputs": [
    {
     "name": "stdout",
     "output_type": "stream",
     "text": [
      "huggingface/tokenizers: The current process just got forked, after parallelism has already been used. Disabling parallelism to avoid deadlocks...\n",
      "To disable this warning, you can either:\n",
      "\t- Avoid using `tokenizers` before the fork if possible\n",
      "\t- Explicitly set the environment variable TOKENIZERS_PARALLELISM=(true | false)\n",
      "Sun Oct 30 17:54:55 2022       \n",
      "+-----------------------------------------------------------------------------+\n",
      "| NVIDIA-SMI 510.47.03    Driver Version: 510.47.03    CUDA Version: 11.6     |\n",
      "|-------------------------------+----------------------+----------------------+\n",
      "| GPU  Name        Persistence-M| Bus-Id        Disp.A | Volatile Uncorr. ECC |\n",
      "| Fan  Temp  Perf  Pwr:Usage/Cap|         Memory-Usage | GPU-Util  Compute M. |\n",
      "|                               |                      |               MIG M. |\n",
      "|===============================+======================+======================|\n",
      "|   0  Tesla T4            Off  | 00000000:00:04.0 Off |                    0 |\n",
      "| N/A   73C    P0    32W /  70W |  13525MiB / 15360MiB |      0%      Default |\n",
      "|                               |                      |                  N/A |\n",
      "+-------------------------------+----------------------+----------------------+\n",
      "                                                                               \n",
      "+-----------------------------------------------------------------------------+\n",
      "| Processes:                                                                  |\n",
      "|  GPU   GI   CI        PID   Type   Process name                  GPU Memory |\n",
      "|        ID   ID                                                   Usage      |\n",
      "|=============================================================================|\n",
      "|    0   N/A  N/A     13550      C                                   13523MiB |\n",
      "+-----------------------------------------------------------------------------+\n"
     ]
    }
   ],
   "source": [
    "!nvidia-smi"
   ]
  },
  {
   "cell_type": "markdown",
   "metadata": {},
   "source": [
    "#### Reading predicted results"
   ]
  },
  {
   "cell_type": "code",
   "execution_count": 42,
   "metadata": {},
   "outputs": [
    {
     "name": "stdout",
     "output_type": "stream",
     "text": [
      "huggingface/tokenizers: The current process just got forked, after parallelism has already been used. Disabling parallelism to avoid deadlocks...\n",
      "To disable this warning, you can either:\n",
      "\t- Avoid using `tokenizers` before the fork if possible\n",
      "\t- Explicitly set the environment variable TOKENIZERS_PARALLELISM=(true | false)\n",
      "Skipping existing item: file:///home/jupyter/data/zsl/news_topics_zsl_b1.json\n",
      "Skipping existing item: file:///home/jupyter/data/zsl/news_topics_zsl_b64.json\n",
      "Skipping existing item: file:///home/jupyter/data/zsl/news_topics_zsl_b8.json\n",
      "Skipping existing item: file:///home/jupyter/data/zsl/predictions_zsl_b1.json\n",
      "Skipping existing item: file:///home/jupyter/data/zsl/predictions_zsl_b64.json\n",
      "Skipping existing item: file:///home/jupyter/data/zsl/predictions_zsl_b8.json\n"
     ]
    }
   ],
   "source": [
    "!gsutil -m cp -n 'gs://msca-bdp-data-open/zsl/*.json' '/home/jupyter/data/zsl/'"
   ]
  },
  {
   "cell_type": "code",
   "execution_count": 43,
   "metadata": {},
   "outputs": [],
   "source": [
    "news_topics_b1 = pd.read_json('/home/jupyter/data/zsl/news_topics_zsl_b1.json', orient='records', lines=True)\n",
    "news_topics_b8 = pd.read_json('/home/jupyter/data/zsl/news_topics_zsl_b8.json', orient='records', lines=True)\n",
    "news_topics_b64 = pd.read_json('/home/jupyter/data/zsl/news_topics_zsl_b64.json', orient='records', lines=True)"
   ]
  },
  {
   "cell_type": "code",
   "execution_count": null,
   "metadata": {},
   "outputs": [],
   "source": []
  },
  {
   "cell_type": "code",
   "execution_count": null,
   "metadata": {},
   "outputs": [],
   "source": []
  },
  {
   "cell_type": "code",
   "execution_count": null,
   "metadata": {},
   "outputs": [],
   "source": []
  },
  {
   "cell_type": "code",
   "execution_count": 44,
   "metadata": {},
   "outputs": [
    {
     "data": {
      "text/plain": [
       "'Sun, 30 October 2022 12:54:59'"
      ]
     },
     "execution_count": 44,
     "metadata": {},
     "output_type": "execute_result"
    }
   ],
   "source": [
    "import datetime\n",
    "import pytz\n",
    "\n",
    "datetime.datetime.now(pytz.timezone('US/Central')).strftime(\"%a, %d %B %Y %H:%M:%S\")"
   ]
  }
 ],
 "metadata": {
  "kernelspec": {
   "display_name": "Python 3 (ipykernel)",
   "language": "python",
   "name": "python3"
  },
  "language_info": {
   "codemirror_mode": {
    "name": "ipython",
    "version": 3
   },
   "file_extension": ".py",
   "mimetype": "text/x-python",
   "name": "python",
   "nbconvert_exporter": "python",
   "pygments_lexer": "ipython3",
   "version": "3.10.11"
  }
 },
 "nbformat": 4,
 "nbformat_minor": 4
}
