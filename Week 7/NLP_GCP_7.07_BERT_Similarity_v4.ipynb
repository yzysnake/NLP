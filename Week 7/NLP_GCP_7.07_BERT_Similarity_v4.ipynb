{
 "cells": [
  {
   "cell_type": "markdown",
   "id": "6fef6d27",
   "metadata": {
    "nteract": {
     "transient": {
      "deleting": false
     }
    }
   },
   "source": [
    "## Semantic similarity using Sentence Transformers\n",
    "**Multilingual Sentence, Paragraph, and Image Embeddings using BERT & Co.**  \n",
    "Reference: https://towardsdatascience.com/the-auto-sommelier-how-to-implement-huggingface-transformers-and-build-a-search-engine-9e0f401b1bda"
   ]
  },
  {
   "cell_type": "code",
   "execution_count": 1,
   "id": "3d62398f",
   "metadata": {},
   "outputs": [],
   "source": [
    "import os\n",
    "import numpy as np\n",
    "import pandas as pd\n",
    "import datetime\n",
    "import pytz\n",
    "from sklearn.metrics.pairwise import cosine_similarity\n",
    "from sklearn.feature_extraction.text import CountVectorizer\n",
    "import seaborn as sns"
   ]
  },
  {
   "cell_type": "code",
   "execution_count": 2,
   "id": "df6a5241-26f0-48e1-a68c-158779fc7155",
   "metadata": {},
   "outputs": [
    {
     "name": "stdout",
     "output_type": "stream",
     "text": [
      "True\n",
      "0\n",
      "1\n",
      "Tesla T4\n"
     ]
    }
   ],
   "source": [
    "import torch\n",
    "\n",
    "print(torch.cuda.is_available())\n",
    "print(torch.cuda.current_device())\n",
    "print(torch.cuda.device_count())\n",
    "print(torch.cuda.get_device_name(0))"
   ]
  },
  {
   "cell_type": "code",
   "execution_count": 3,
   "id": "a40cb2f7-4c7e-4155-ae11-9074c9a556d0",
   "metadata": {},
   "outputs": [],
   "source": [
    "import transformers\n",
    "transformers.logging.set_verbosity(transformers.logging.CRITICAL)"
   ]
  },
  {
   "cell_type": "code",
   "execution_count": 4,
   "id": "a9141258",
   "metadata": {},
   "outputs": [],
   "source": [
    "pd.options.mode.chained_assignment = None\n",
    "\n",
    "#pd.set_option('display.max_columns', None)\n",
    "pd.set_option('display.max_rows', 50)\n",
    "pd.set_option('display.max_colwidth', 500)\n",
    "pd.set_option('display.max_columns', 50)"
   ]
  },
  {
   "cell_type": "code",
   "execution_count": 5,
   "id": "dd7d270f-009f-4d98-beb5-d91b8d2217ed",
   "metadata": {},
   "outputs": [],
   "source": [
    "# !pip install texthero"
   ]
  },
  {
   "cell_type": "code",
   "execution_count": 6,
   "id": "0b67c8ed-f2fd-4090-bee6-bdd16640122e",
   "metadata": {},
   "outputs": [],
   "source": [
    "# !pip install sentence_transformers"
   ]
  },
  {
   "cell_type": "code",
   "execution_count": 7,
   "id": "44b12f12-d4fa-4058-9d83-b6921776e5eb",
   "metadata": {},
   "outputs": [],
   "source": [
    "# !pip install nmslib"
   ]
  },
  {
   "cell_type": "code",
   "execution_count": 8,
   "id": "ba46f0a0-9591-495c-a138-88547113f006",
   "metadata": {},
   "outputs": [],
   "source": [
    "# !pip install spacy --upgrade"
   ]
  },
  {
   "cell_type": "code",
   "execution_count": 9,
   "id": "6e48f901",
   "metadata": {},
   "outputs": [
    {
     "name": "stderr",
     "output_type": "stream",
     "text": [
      "Your CPU supports instructions that this binary was not compiled to use: SSE3 SSE4.1 SSE4.2 AVX AVX2\n",
      "For maximum performance, you can install NMSLIB from sources \n",
      "pip install --no-binary :all: nmslib\n"
     ]
    }
   ],
   "source": [
    "import texthero as hero\n",
    "from sentence_transformers import SentenceTransformer, util\n",
    "import nmslib"
   ]
  },
  {
   "cell_type": "markdown",
   "id": "e1f5559c-802a-4aa3-8019-c4e003418588",
   "metadata": {},
   "source": [
    "#### Copy files to local FS from GCP bucket"
   ]
  },
  {
   "cell_type": "code",
   "execution_count": 10,
   "id": "60f9c2d4-cef4-4391-b9ab-66df8714ee88",
   "metadata": {},
   "outputs": [],
   "source": [
    "path_news = '/home/jupyter/data/news'\n",
    "news_articles = 'news_samsung.json'"
   ]
  },
  {
   "cell_type": "code",
   "execution_count": 11,
   "id": "c1c3062e-773a-4b6b-91f4-ec4e5a1cfdd5",
   "metadata": {},
   "outputs": [],
   "source": [
    "if not os.path.isdir(path_news): os.makedirs(path_news)"
   ]
  },
  {
   "cell_type": "code",
   "execution_count": 12,
   "id": "ef23c321-7207-456f-b373-893216aa438c",
   "metadata": {},
   "outputs": [],
   "source": [
    "# !gsutil -m cp -n 'gs://msca-bdp-data-open/news/news_samsung.json' '/home/jupyter/data/news/'"
   ]
  },
  {
   "cell_type": "code",
   "execution_count": 13,
   "id": "c8a0e791-b926-4158-a1dc-16b2ff23d9b1",
   "metadata": {},
   "outputs": [],
   "source": [
    "news_df = pd.read_json(os.path.join(path_news, news_articles), orient='records', lines=True)"
   ]
  },
  {
   "cell_type": "code",
   "execution_count": 14,
   "id": "9186af99-6c49-435f-aeeb-3ae4c713d58f",
   "metadata": {},
   "outputs": [
    {
     "data": {
      "text/plain": [
       "(28479, 4)"
      ]
     },
     "execution_count": 14,
     "metadata": {},
     "output_type": "execute_result"
    }
   ],
   "source": [
    "# Filter non-English articles\n",
    "news_eng = news_df[news_df['language']=='english'].reset_index(drop=True)\n",
    "news_eng.shape"
   ]
  },
  {
   "cell_type": "code",
   "execution_count": 15,
   "id": "8f7ec719-c950-4cbb-aa0a-62bd9c37dcb5",
   "metadata": {},
   "outputs": [
    {
     "name": "stdout",
     "output_type": "stream",
     "text": [
      "CPU times: user 24.6 s, sys: 216 ms, total: 24.8 s\n",
      "Wall time: 24.8 s\n"
     ]
    },
    {
     "data": {
      "text/plain": [
       "(27914, 6)"
      ]
     },
     "execution_count": 15,
     "metadata": {},
     "output_type": "execute_result"
    }
   ],
   "source": [
    "%%time \n",
    "\n",
    "# Clean text with texthero\n",
    "news_eng['text_clean'] = hero.clean(news_df['text'])\n",
    "news_eng['text_clean'] = hero.remove_digits(news_eng['text_clean'], only_blocks=False)\n",
    "\n",
    "# Clean text with texthero\n",
    "news_eng['title_clean'] = hero.clean(news_df['title'])\n",
    "news_eng['title_clean'] = hero.remove_digits(news_eng['title_clean'], only_blocks=False)\n",
    "\n",
    "news_eng = news_eng.query('text_clean.str.len() > 1 and title_clean.str.len() > 1', engine='python')\n",
    "\n",
    "news_eng.shape"
   ]
  },
  {
   "cell_type": "code",
   "execution_count": 16,
   "id": "7653af95-4f9f-44f2-94c4-1164a0fd0a1c",
   "metadata": {},
   "outputs": [
    {
     "data": {
      "text/html": [
       "<div>\n",
       "<style scoped>\n",
       "    .dataframe tbody tr th:only-of-type {\n",
       "        vertical-align: middle;\n",
       "    }\n",
       "\n",
       "    .dataframe tbody tr th {\n",
       "        vertical-align: top;\n",
       "    }\n",
       "\n",
       "    .dataframe thead th {\n",
       "        text-align: right;\n",
       "    }\n",
       "</style>\n",
       "<table border=\"1\" class=\"dataframe\">\n",
       "  <thead>\n",
       "    <tr style=\"text-align: right;\">\n",
       "      <th></th>\n",
       "      <th>title</th>\n",
       "      <th>title_clean</th>\n",
       "    </tr>\n",
       "  </thead>\n",
       "  <tbody>\n",
       "    <tr>\n",
       "      <th>0</th>\n",
       "      <td>Tech Talks #845 - Facebook Wallet, Xiaomi CC9, Truecaller VOIP, Samsung Dual Display, Revolt Bike</td>\n",
       "      <td>tech talks facebook wallet xiaomi cc  truecaller voip samsung dual display revolt bike</td>\n",
       "    </tr>\n",
       "    <tr>\n",
       "      <th>1</th>\n",
       "      <td>SAMSUNG SOUNDBAR RRP $399 | Home Theatre Systems Campbelltown Area - Campbelltown | 1221285503</td>\n",
       "      <td>samsung soundbar rrp home theatre systems campbelltown area campbelltown</td>\n",
       "    </tr>\n",
       "    <tr>\n",
       "      <th>2</th>\n",
       "      <td>It just dawned on me that my Samsung SSD is insanely slow</td>\n",
       "      <td>dawned samsung ssd insanely slow</td>\n",
       "    </tr>\n",
       "    <tr>\n",
       "      <th>3</th>\n",
       "      <td>Samsung announces neural processing plans</td>\n",
       "      <td>samsung announces neural processing plans</td>\n",
       "    </tr>\n",
       "    <tr>\n",
       "      <th>4</th>\n",
       "      <td>Fs: Samsung S7 Edge</td>\n",
       "      <td>fs samsung s  edge</td>\n",
       "    </tr>\n",
       "  </tbody>\n",
       "</table>\n",
       "</div>"
      ],
      "text/plain": [
       "                                                                                               title  \\\n",
       "0  Tech Talks #845 - Facebook Wallet, Xiaomi CC9, Truecaller VOIP, Samsung Dual Display, Revolt Bike   \n",
       "1     SAMSUNG SOUNDBAR RRP $399 | Home Theatre Systems Campbelltown Area - Campbelltown | 1221285503   \n",
       "2                                          It just dawned on me that my Samsung SSD is insanely slow   \n",
       "3                                                          Samsung announces neural processing plans   \n",
       "4                                                                                Fs: Samsung S7 Edge   \n",
       "\n",
       "                                                                              title_clean  \n",
       "0  tech talks facebook wallet xiaomi cc  truecaller voip samsung dual display revolt bike  \n",
       "1                samsung soundbar rrp home theatre systems campbelltown area campbelltown  \n",
       "2                                                        dawned samsung ssd insanely slow  \n",
       "3                                               samsung announces neural processing plans  \n",
       "4                                                                      fs samsung s  edge  "
      ]
     },
     "execution_count": 16,
     "metadata": {},
     "output_type": "execute_result"
    }
   ],
   "source": [
    "news_eng[['title', 'title_clean']].head(5)"
   ]
  },
  {
   "cell_type": "code",
   "execution_count": 17,
   "id": "ebb86ee4-40f8-4287-8bf1-5a769c6cd6ae",
   "metadata": {},
   "outputs": [
    {
     "data": {
      "text/html": [
       "<div>\n",
       "<style scoped>\n",
       "    .dataframe tbody tr th:only-of-type {\n",
       "        vertical-align: middle;\n",
       "    }\n",
       "\n",
       "    .dataframe tbody tr th {\n",
       "        vertical-align: top;\n",
       "    }\n",
       "\n",
       "    .dataframe thead th {\n",
       "        text-align: right;\n",
       "    }\n",
       "</style>\n",
       "<table border=\"1\" class=\"dataframe\">\n",
       "  <thead>\n",
       "    <tr style=\"text-align: right;\">\n",
       "      <th></th>\n",
       "      <th>text</th>\n",
       "      <th>text_clean</th>\n",
       "    </tr>\n",
       "  </thead>\n",
       "  <tbody>\n",
       "    <tr>\n",
       "      <th>0</th>\n",
       "      <td>Tech Talks #845 - Facebook Wallet, Xiaomi CC9, Truecaller VOIP, Samsung Dual Display, Revolt Bike Trending story found Should your friends see this too? Share on Facebook The biggest internet trends, by email Share on Facebook Share on Twitter TG Deals@ https://tg.deals/ New Channel: https://goo.gl/Jz6p5K Namaskaar Dosto, Tech Talks ke is Episode mein maine aapse kuch interesting Tech News Share ki hai jaise Facebook Wallet, Xiaomi CC9, Truecaller VOIP, Samsung Dual Display, Revolt Bike aur ...</td>\n",
       "      <td>tech talks facebook wallet xiaomi cc  truecaller voip samsung dual display revolt bike trending story found friends see share facebook biggest internet trends email share facebook share twitter tg deals https tg deals new channel https goo gl jz p k namaskaar dosto tech talks ke episode mein maine aapse kuch interesting tech news share ki hai jaise facebook wallet xiaomi cc  truecaller voip samsung dual display revolt bike aur bahut kuch mujhe umeed hai ki yeh video aapko pasand aayega share...</td>\n",
       "    </tr>\n",
       "    <tr>\n",
       "      <th>1</th>\n",
       "      <td>We are a Pawnbroker located in Campbelltown, NSW and we have a large range of goods for sale\\nHere we are selling this\\nSAMSUNG SOUNDBAR\\nMODEL HW-M360\\n2 BUILT IN SPEAKERS\\nWIRELESS MUSIC\\nWIRELESS SUBWOOFER\\nMODEL PS-WM20\\nCOMES WITH REMOTE\\nEXCELLENT CONDITION\\nWe are located at 79 Dumaresq Street Campbelltown\\nWe do NOT Deliver - Pick Up Only\\nCome in to Campbelltown Cash Convenience and take a look.\\nOpening Hours:\\n9am-5.30pm Monday to Friday\\n9am-2pm Saturday\\nCLOSED Sunday</td>\n",
       "      <td>pawnbroker located campbelltown nsw large range goods sale selling samsung soundbar model hw m  built speakers wireless music wireless subwoofer model ps wm  comes remote excellent condition located dumaresq street campbelltown deliver pick come campbelltown cash convenience take look opening hours  am  pm monday friday  am  pm saturday closed sunday</td>\n",
       "    </tr>\n",
       "    <tr>\n",
       "      <th>2</th>\n",
       "      <td>I’ve got 2TB of 860 evos in raid 0 and my boot time to desktop is about 50 seconds from power button press. Anyone have a clue why that could be? CrystalDiskMark shows my read and writes at about 1GB/s\\nEdit: okay I just changed some bios settings and I’m down to like 20 seconds now lol, false alarm I guess. Don’t know why it was like that in the first place</td>\n",
       "      <td>' got  tb evos raid boot time desktop seconds power button press anyone clue could crystaldiskmark shows read writes  gb edit okay changed bios settings ' like seconds lol false alarm guess ' know like first place</td>\n",
       "    </tr>\n",
       "    <tr>\n",
       "      <th>3</th>\n",
       "      <td>04:38 Samsung has announced that it plans to develop its neural processing unit (NPU) capabilities in order to deliver enhanced AI applications in the future. With this announcement, the Korean firm said that it will create 2,000 new jobs related to the field, worldwide, by 2030. In order to hire more skilled people for these vacancies, Samsung will be collaborating with more universities and research institutes to help them develop the talent they need. With the new generation of NPU techno...</td>\n",
       "      <td>samsung announced plans develop neural processing unit npu capabilities order deliver enhanced ai applications future announcement korean firm said create new jobs related field worldwide order hire skilled people vacancies samsung collaborating universities research institutes help develop talent need new generation npu technologies samsung develop hardware optimised power vehicle infotainment ivi advanced driver assistance systems adas next generation data centres processing big data samsu...</td>\n",
       "    </tr>\n",
       "    <tr>\n",
       "      <th>4</th>\n",
       "      <td>for sale s7 edge\\nMinimal scratches\\nNo charger\\nWith box\\n-SOLD-</td>\n",
       "      <td>sale s  edge minimal scratches charger box sold</td>\n",
       "    </tr>\n",
       "  </tbody>\n",
       "</table>\n",
       "</div>"
      ],
      "text/plain": [
       "                                                                                                                                                                                                                                                                                                                                                                                                                                                                                                                  text  \\\n",
       "0  Tech Talks #845 - Facebook Wallet, Xiaomi CC9, Truecaller VOIP, Samsung Dual Display, Revolt Bike Trending story found Should your friends see this too? Share on Facebook The biggest internet trends, by email Share on Facebook Share on Twitter TG Deals@ https://tg.deals/ New Channel: https://goo.gl/Jz6p5K Namaskaar Dosto, Tech Talks ke is Episode mein maine aapse kuch interesting Tech News Share ki hai jaise Facebook Wallet, Xiaomi CC9, Truecaller VOIP, Samsung Dual Display, Revolt Bike aur ...   \n",
       "1                We are a Pawnbroker located in Campbelltown, NSW and we have a large range of goods for sale\\nHere we are selling this\\nSAMSUNG SOUNDBAR\\nMODEL HW-M360\\n2 BUILT IN SPEAKERS\\nWIRELESS MUSIC\\nWIRELESS SUBWOOFER\\nMODEL PS-WM20\\nCOMES WITH REMOTE\\nEXCELLENT CONDITION\\nWe are located at 79 Dumaresq Street Campbelltown\\nWe do NOT Deliver - Pick Up Only\\nCome in to Campbelltown Cash Convenience and take a look.\\nOpening Hours:\\n9am-5.30pm Monday to Friday\\n9am-2pm Saturday\\nCLOSED Sunday   \n",
       "2                                                                                                                                             I’ve got 2TB of 860 evos in raid 0 and my boot time to desktop is about 50 seconds from power button press. Anyone have a clue why that could be? CrystalDiskMark shows my read and writes at about 1GB/s\\nEdit: okay I just changed some bios settings and I’m down to like 20 seconds now lol, false alarm I guess. Don’t know why it was like that in the first place   \n",
       "3  04:38 Samsung has announced that it plans to develop its neural processing unit (NPU) capabilities in order to deliver enhanced AI applications in the future. With this announcement, the Korean firm said that it will create 2,000 new jobs related to the field, worldwide, by 2030. In order to hire more skilled people for these vacancies, Samsung will be collaborating with more universities and research institutes to help them develop the talent they need. With the new generation of NPU techno...   \n",
       "4                                                                                                                                                                                                                                                                                                                                                                                                                                                    for sale s7 edge\\nMinimal scratches\\nNo charger\\nWith box\\n-SOLD-   \n",
       "\n",
       "                                                                                                                                                                                                                                                                                                                                                                                                                                                                                                            text_clean  \n",
       "0  tech talks facebook wallet xiaomi cc  truecaller voip samsung dual display revolt bike trending story found friends see share facebook biggest internet trends email share facebook share twitter tg deals https tg deals new channel https goo gl jz p k namaskaar dosto tech talks ke episode mein maine aapse kuch interesting tech news share ki hai jaise facebook wallet xiaomi cc  truecaller voip samsung dual display revolt bike aur bahut kuch mujhe umeed hai ki yeh video aapko pasand aayega share...  \n",
       "1                                                                                                                                                     pawnbroker located campbelltown nsw large range goods sale selling samsung soundbar model hw m  built speakers wireless music wireless subwoofer model ps wm  comes remote excellent condition located dumaresq street campbelltown deliver pick come campbelltown cash convenience take look opening hours  am  pm monday friday  am  pm saturday closed sunday  \n",
       "2                                                                                                                                                                                                                                                                                                ' got  tb evos raid boot time desktop seconds power button press anyone clue could crystaldiskmark shows read writes  gb edit okay changed bios settings ' like seconds lol false alarm guess ' know like first place  \n",
       "3  samsung announced plans develop neural processing unit npu capabilities order deliver enhanced ai applications future announcement korean firm said create new jobs related field worldwide order hire skilled people vacancies samsung collaborating universities research institutes help develop talent need new generation npu technologies samsung develop hardware optimised power vehicle infotainment ivi advanced driver assistance systems adas next generation data centres processing big data samsu...  \n",
       "4                                                                                                                                                                                                                                                                                                                                                                                                                                                                      sale s  edge minimal scratches charger box sold  "
      ]
     },
     "execution_count": 17,
     "metadata": {},
     "output_type": "execute_result"
    }
   ],
   "source": [
    "news_eng[['text', 'text_clean']].head(5)"
   ]
  },
  {
   "cell_type": "markdown",
   "id": "b85fb7f5-ca7e-4cf0-88bf-f95aeb10fd69",
   "metadata": {},
   "source": [
    "#### Transformer Embeddings"
   ]
  },
  {
   "cell_type": "code",
   "execution_count": 18,
   "id": "a530c456-10f6-4ea2-bd74-7d143d882965",
   "metadata": {},
   "outputs": [
    {
     "data": {
      "application/vnd.jupyter.widget-view+json": {
       "model_id": "777e4d5457054b28abcdfaf58372d4ef",
       "version_major": 2,
       "version_minor": 0
      },
      "text/plain": [
       "Batches:   0%|          | 0/873 [00:00<?, ?it/s]"
      ]
     },
     "metadata": {},
     "output_type": "display_data"
    },
    {
     "name": "stdout",
     "output_type": "stream",
     "text": [
      "CPU times: user 1min 11s, sys: 2min 43s, total: 3min 54s\n",
      "Wall time: 3min 30s\n"
     ]
    }
   ],
   "source": [
    "%%time\n",
    "\n",
    "distilbert = SentenceTransformer('distilbert-base-uncased')\n",
    "# embeddings = distilbert.encode(news_eng['text_clean'].values, convert_to_tensor=True) # If running on CPU\n",
    "embeddings = distilbert.encode(news_eng['text_clean'].values, convert_to_tensor=False) # If running on GPU"
   ]
  },
  {
   "cell_type": "markdown",
   "id": "85179dde-23f3-4ac8-9693-6001be679a11",
   "metadata": {},
   "source": [
    "#### Hierarchical Navigable Small Word Index"
   ]
  },
  {
   "cell_type": "code",
   "execution_count": 19,
   "id": "c350ce03-3d73-4d49-aaa9-61465ec9d958",
   "metadata": {},
   "outputs": [
    {
     "name": "stderr",
     "output_type": "stream",
     "text": [
      "\n",
      "0%   10   20   30   40   50   60   70   80   90   100%\n",
      "|----|----|----|----|----|----|----|----|----|----|\n",
      "***************************************************\n",
      "\n",
      "0%   10   20   30   40   50   60   70   80   90   100%\n",
      "|----|----|----|----|----|----|----|----|----|----|\n",
      "******************************************************"
     ]
    },
    {
     "name": "stdout",
     "output_type": "stream",
     "text": [
      "CPU times: user 1min 13s, sys: 1.14 s, total: 1min 15s\n",
      "Wall time: 11.6 s\n"
     ]
    }
   ],
   "source": [
    "%%time\n",
    "\n",
    "news_eng['distilbert'] = np.array(embeddings).tolist()\n",
    "# df['pdisroberta']= vect_to_df\n",
    "\n",
    "# initialize a new index, using a HNSW index on Cosine Similarity\n",
    "distilbert_index = nmslib.init(method='hnsw', space='cosinesimil')\n",
    "\n",
    "distilbert_index.addDataPointBatch(embeddings)\n",
    "\n",
    "distilbert_index.createIndex({'post': 2}, print_progress=True)"
   ]
  },
  {
   "cell_type": "markdown",
   "id": "d3918dbd-b0e7-4e2f-b24d-d949f892a7dd",
   "metadata": {
    "tags": []
   },
   "source": [
    "#### Function to connect back to dataframe values"
   ]
  },
  {
   "cell_type": "code",
   "execution_count": 20,
   "id": "0a8cf07b-2323-4801-b0c6-a22e459f0fb7",
   "metadata": {},
   "outputs": [],
   "source": [
    "def search_distance(num_matches, dataframe, userQuery):\n",
    "    \n",
    "    if dataframe is not None and userQuery is not None:\n",
    "        df = dataframe.copy()\n",
    "        \n",
    "        # query = distilbert.encode([userQuery], convert_to_tensor=True) # If running on CPU\n",
    "        query = distilbert.encode([userQuery], convert_to_tensor=False) # If running on GPU\n",
    "        \n",
    "        ids, distances = distilbert_index.knnQuery(query, k=num_matches)\n",
    "\n",
    "        matches = []\n",
    "\n",
    "        for i,j in zip(ids,distances):\n",
    "\n",
    "            matches.append({'text_clean': df.text_clean.values[i],\n",
    "                            'text': df.text.values[i],\n",
    "                            'distance': j\n",
    "                       })\n",
    "\n",
    "        return pd.DataFrame(matches)"
   ]
  },
  {
   "cell_type": "code",
   "execution_count": 21,
   "id": "ecf1a3a1-71be-4cce-aef9-6ef47f52ea03",
   "metadata": {},
   "outputs": [
    {
     "data": {
      "application/vnd.jupyter.widget-view+json": {
       "model_id": "2fc2ed01dc1446539500ff3186ca9515",
       "version_major": 2,
       "version_minor": 0
      },
      "text/plain": [
       "Batches:   0%|          | 0/1 [00:00<?, ?it/s]"
      ]
     },
     "metadata": {},
     "output_type": "display_data"
    },
    {
     "data": {
      "text/html": [
       "<div>\n",
       "<style scoped>\n",
       "    .dataframe tbody tr th:only-of-type {\n",
       "        vertical-align: middle;\n",
       "    }\n",
       "\n",
       "    .dataframe tbody tr th {\n",
       "        vertical-align: top;\n",
       "    }\n",
       "\n",
       "    .dataframe thead th {\n",
       "        text-align: right;\n",
       "    }\n",
       "</style>\n",
       "<table border=\"1\" class=\"dataframe\">\n",
       "  <thead>\n",
       "    <tr style=\"text-align: right;\">\n",
       "      <th></th>\n",
       "      <th>text_clean</th>\n",
       "      <th>text</th>\n",
       "      <th>distance</th>\n",
       "    </tr>\n",
       "  </thead>\n",
       "  <tbody>\n",
       "    <tr>\n",
       "      <th>0</th>\n",
       "      <td>samsung freestanding dishwasher installed jan https www samsung com au cooking appliances dish washer dw h fs</td>\n",
       "      <td>Samsung freestanding dishwasher.\\nInstalled Jan 2017\\nhttps://www.samsung.com/au/cooking-appliances/dish-washer-dw60h6050fs/</td>\n",
       "      <td>0.196040</td>\n",
       "    </tr>\n",
       "    <tr>\n",
       "      <th>1</th>\n",
       "      <td>samsung microwave oven grill bought germany good condition</td>\n",
       "      <td>Samsung microwave- oven with grill. bought in Germany and in very good condition.</td>\n",
       "      <td>0.197602</td>\n",
       "    </tr>\n",
       "    <tr>\n",
       "      <th>2</th>\n",
       "      <td>samsung french door fridge rf  remove freezer divider</td>\n",
       "      <td>Samsung french door fridge Rf4287. How do I remove the freezer divider?</td>\n",
       "      <td>0.205998</td>\n",
       "    </tr>\n",
       "    <tr>\n",
       "      <th>3</th>\n",
       "      <td>samsung french door freezer cold drawers fridge also cold checking first thanks millie</td>\n",
       "      <td>My Samsung French Door freezer is too cold and the drawers in the fridge is also too cold. What should I be checking first?\\nThanks,\\nMillie</td>\n",
       "      <td>0.208722</td>\n",
       "    </tr>\n",
       "    <tr>\n",
       "      <th>4</th>\n",
       "      <td>samsung french door freezer cold drawers fridge also cold checking first thanks millie</td>\n",
       "      <td>My Samsung French Door freezer is too cold and the drawers in the fridge is also too cold. What should I be checking first?\\nThanks,\\nMillie</td>\n",
       "      <td>0.208722</td>\n",
       "    </tr>\n",
       "    <tr>\n",
       "      <th>5</th>\n",
       "      <td>stainless steel fridge samsung featured variety conveniences home kitchen attractive stainless steel design double door system ton space inside pull bottom freezer</td>\n",
       "      <td>Stainless steel fridge by Samsung featured a variety of conveniences for you home kitchen Attractive stainless steel design with a double door system with a ton of space inside. Pull out bottom freezer.</td>\n",
       "      <td>0.211114</td>\n",
       "    </tr>\n",
       "    <tr>\n",
       "      <th>6</th>\n",
       "      <td>fridge samsung  l top mount refrigerator excellent condition crack fresh room sliding door complete refrigerator user manual</td>\n",
       "      <td>Fridge Samsung 320L Top Mount Refrigerator. Excellent condition. Does have crack on fresh room sliding door. Complete with Refrigerator User Manual.</td>\n",
       "      <td>0.215966</td>\n",
       "    </tr>\n",
       "    <tr>\n",
       "      <th>7</th>\n",
       "      <td>samsung dishwasher good condition upgrading kitchen unfortunately colour suit manual included pick mortdale</td>\n",
       "      <td>Samsung Dishwasher in good condition. We are upgrading our kitchen and unfortunately the colour does not suit. Manual included. Pick up from Mortdale.</td>\n",
       "      <td>0.216648</td>\n",
       "    </tr>\n",
       "    <tr>\n",
       "      <th>8</th>\n",
       "      <td>samsung dishwasher description samsung dishwasher model dwfn t couple years old working perfectly upgrading kitchen integrated appliances hence sale shipping collection</td>\n",
       "      <td>Samsung Dishwasher Description\\nSamsung Dishwasher. Model no DWFN320T. A couple of years old. Working perfectly. Upgrading kitchen to all integrated appliances hence sale. Shipping: Collection</td>\n",
       "      <td>0.219252</td>\n",
       "    </tr>\n",
       "    <tr>\n",
       "      <th>9</th>\n",
       "      <td>samsung me m  l microwave oven</td>\n",
       "      <td>SAMSUNG - ME83M - 23L MICROWAVE OVEN</td>\n",
       "      <td>0.220262</td>\n",
       "    </tr>\n",
       "    <tr>\n",
       "      <th>10</th>\n",
       "      <td>samsung french door fridge freezer ice water dispenser used good condition fridge works perfectly freezer need new thermostat pick ellenbrook would like gone weekend bargain</td>\n",
       "      <td>Samsung French door fridge freezer with ice and water dispenser, used good condition.\\nFridge works perfectly, freezer will need a new thermostat\\nPick up Ellenbrook would like gone by the weekend.\\n$200! Bargain!</td>\n",
       "      <td>0.223175</td>\n",
       "    </tr>\n",
       "    <tr>\n",
       "      <th>11</th>\n",
       "      <td>freestanding samsung dishwasher sale dishwasher hardly used good dishwasher dishwasher fully working longer required due move house existing dishwasher cutlery basket included pick concord</td>\n",
       "      <td>Freestanding Samsung dishwasher for sale. Dishwasher has been hardly used and is a very good dishwasher. Dishwasher is fully working and no longer required due to a move to a house with an existing dishwasher.\\nCutlery basket included.\\nPick up only from Concord.</td>\n",
       "      <td>0.225292</td>\n",
       "    </tr>\n",
       "    <tr>\n",
       "      <th>12</th>\n",
       "      <td>samsung fridge freezer great condition works well</td>\n",
       "      <td>Samsung fridge/freezer in great condition works well.</td>\n",
       "      <td>0.225401</td>\n",
       "    </tr>\n",
       "    <tr>\n",
       "      <th>13</th>\n",
       "      <td>samsung waterwall freestanding dishwasher model number dw h fs</td>\n",
       "      <td>Samsung Waterwall Freestanding Dishwasher\\nModel number: DW60H9970FS</td>\n",
       "      <td>0.225891</td>\n",
       "    </tr>\n",
       "    <tr>\n",
       "      <th>14</th>\n",
       "      <td>microwave oven samsung great working condition size  cm x cm x  cm selling due kitchen renovation</td>\n",
       "      <td>Microwave Oven Samsung great working condition $25. Size 51cm x 29.5 cm x 36cm. Selling due to kitchen renovation.</td>\n",
       "      <td>0.226243</td>\n",
       "    </tr>\n",
       "    <tr>\n",
       "      <th>15</th>\n",
       "      <td>hvac dynamics heating air conditioning sales service installation phone sms o  o  email sal</td>\n",
       "      <td>HVAC DYNAMICS - Heating and Air Conditioning\\nSales, Service and Installation\\nPhone/SMS: O474 O36 916\\nEmail: sal*</td>\n",
       "      <td>0.227075</td>\n",
       "    </tr>\n",
       "    <tr>\n",
       "      <th>16</th>\n",
       "      <td>leaking crisper tray onto floor defrosted sides removing ice days ago problem</td>\n",
       "      <td>Leaking under the crisper tray and onto the floor. Just defrosted the sides removing all ice 3 days ago and now having this problem</td>\n",
       "      <td>0.228323</td>\n",
       "    </tr>\n",
       "    <tr>\n",
       "      <th>17</th>\n",
       "      <td>leaking crisper tray onto floor defrosted sides removing ice days ago problem</td>\n",
       "      <td>Leaking under the crisper tray and onto the floor. Just defrosted the sides removing all ice 3 days ago and now having this problem</td>\n",
       "      <td>0.228323</td>\n",
       "    </tr>\n",
       "    <tr>\n",
       "      <th>18</th>\n",
       "      <td>vacuum cleaner excellent working order comes remote</td>\n",
       "      <td>Vacuum cleaner is in excellent working order comes with remote</td>\n",
       "      <td>0.229447</td>\n",
       "    </tr>\n",
       "    <tr>\n",
       "      <th>19</th>\n",
       "      <td>home depot samsung built dishwasher stormwash free shipping</td>\n",
       "      <td>\\nHome Depot has the Samsung 24\" Built-In Dishwasher with StormWash $397.80 + Free Shipping</td>\n",
       "      <td>0.229671</td>\n",
       "    </tr>\n",
       "  </tbody>\n",
       "</table>\n",
       "</div>"
      ],
      "text/plain": [
       "                                                                                                                                                                                      text_clean  \\\n",
       "0                                                                                  samsung freestanding dishwasher installed jan https www samsung com au cooking appliances dish washer dw h fs   \n",
       "1                                                                                                                                     samsung microwave oven grill bought germany good condition   \n",
       "2                                                                                                                                          samsung french door fridge rf  remove freezer divider   \n",
       "3                                                                                                         samsung french door freezer cold drawers fridge also cold checking first thanks millie   \n",
       "4                                                                                                         samsung french door freezer cold drawers fridge also cold checking first thanks millie   \n",
       "5                            stainless steel fridge samsung featured variety conveniences home kitchen attractive stainless steel design double door system ton space inside pull bottom freezer   \n",
       "6                                                                   fridge samsung  l top mount refrigerator excellent condition crack fresh room sliding door complete refrigerator user manual   \n",
       "7                                                                                    samsung dishwasher good condition upgrading kitchen unfortunately colour suit manual included pick mortdale   \n",
       "8                       samsung dishwasher description samsung dishwasher model dwfn t couple years old working perfectly upgrading kitchen integrated appliances hence sale shipping collection   \n",
       "9                                                                                                                                                                 samsung me m  l microwave oven   \n",
       "10                 samsung french door fridge freezer ice water dispenser used good condition fridge works perfectly freezer need new thermostat pick ellenbrook would like gone weekend bargain   \n",
       "11  freestanding samsung dishwasher sale dishwasher hardly used good dishwasher dishwasher fully working longer required due move house existing dishwasher cutlery basket included pick concord   \n",
       "12                                                                                                                                             samsung fridge freezer great condition works well   \n",
       "13                                                                                                                                samsung waterwall freestanding dishwasher model number dw h fs   \n",
       "14                                                                                             microwave oven samsung great working condition size  cm x cm x  cm selling due kitchen renovation   \n",
       "15                                                                                                   hvac dynamics heating air conditioning sales service installation phone sms o  o  email sal   \n",
       "16                                                                                                                 leaking crisper tray onto floor defrosted sides removing ice days ago problem   \n",
       "17                                                                                                                 leaking crisper tray onto floor defrosted sides removing ice days ago problem   \n",
       "18                                                                                                                                           vacuum cleaner excellent working order comes remote   \n",
       "19                                                                                                                                   home depot samsung built dishwasher stormwash free shipping   \n",
       "\n",
       "                                                                                                                                                                                                                                                                       text  \\\n",
       "0                                                                                                                                              Samsung freestanding dishwasher.\\nInstalled Jan 2017\\nhttps://www.samsung.com/au/cooking-appliances/dish-washer-dw60h6050fs/   \n",
       "1                                                                                                                                                                                         Samsung microwave- oven with grill. bought in Germany and in very good condition.   \n",
       "2                                                                                                                                                                                                   Samsung french door fridge Rf4287. How do I remove the freezer divider?   \n",
       "3                                                                                                                              My Samsung French Door freezer is too cold and the drawers in the fridge is also too cold. What should I be checking first?\\nThanks,\\nMillie   \n",
       "4                                                                                                                              My Samsung French Door freezer is too cold and the drawers in the fridge is also too cold. What should I be checking first?\\nThanks,\\nMillie   \n",
       "5                                                                Stainless steel fridge by Samsung featured a variety of conveniences for you home kitchen Attractive stainless steel design with a double door system with a ton of space inside. Pull out bottom freezer.   \n",
       "6                                                                                                                      Fridge Samsung 320L Top Mount Refrigerator. Excellent condition. Does have crack on fresh room sliding door. Complete with Refrigerator User Manual.   \n",
       "7                                                                                                                    Samsung Dishwasher in good condition. We are upgrading our kitchen and unfortunately the colour does not suit. Manual included. Pick up from Mortdale.   \n",
       "8                                                                          Samsung Dishwasher Description\\nSamsung Dishwasher. Model no DWFN320T. A couple of years old. Working perfectly. Upgrading kitchen to all integrated appliances hence sale. Shipping: Collection   \n",
       "9                                                                                                                                                                                                                                      SAMSUNG - ME83M - 23L MICROWAVE OVEN   \n",
       "10                                                    Samsung French door fridge freezer with ice and water dispenser, used good condition.\\nFridge works perfectly, freezer will need a new thermostat\\nPick up Ellenbrook would like gone by the weekend.\\n$200! Bargain!   \n",
       "11  Freestanding Samsung dishwasher for sale. Dishwasher has been hardly used and is a very good dishwasher. Dishwasher is fully working and no longer required due to a move to a house with an existing dishwasher.\\nCutlery basket included.\\nPick up only from Concord.   \n",
       "12                                                                                                                                                                                                                    Samsung fridge/freezer in great condition works well.   \n",
       "13                                                                                                                                                                                                     Samsung Waterwall Freestanding Dishwasher\\nModel number: DW60H9970FS   \n",
       "14                                                                                                                                                       Microwave Oven Samsung great working condition $25. Size 51cm x 29.5 cm x 36cm. Selling due to kitchen renovation.   \n",
       "15                                                                                                                                                      HVAC DYNAMICS - Heating and Air Conditioning\\nSales, Service and Installation\\nPhone/SMS: O474 O36 916\\nEmail: sal*   \n",
       "16                                                                                                                                      Leaking under the crisper tray and onto the floor. Just defrosted the sides removing all ice 3 days ago and now having this problem   \n",
       "17                                                                                                                                      Leaking under the crisper tray and onto the floor. Just defrosted the sides removing all ice 3 days ago and now having this problem   \n",
       "18                                                                                                                                                                                                           Vacuum cleaner is in excellent working order comes with remote   \n",
       "19                                                                                                                                                                              \\nHome Depot has the Samsung 24\" Built-In Dishwasher with StormWash $397.80 + Free Shipping   \n",
       "\n",
       "    distance  \n",
       "0   0.196040  \n",
       "1   0.197602  \n",
       "2   0.205998  \n",
       "3   0.208722  \n",
       "4   0.208722  \n",
       "5   0.211114  \n",
       "6   0.215966  \n",
       "7   0.216648  \n",
       "8   0.219252  \n",
       "9   0.220262  \n",
       "10  0.223175  \n",
       "11  0.225292  \n",
       "12  0.225401  \n",
       "13  0.225891  \n",
       "14  0.226243  \n",
       "15  0.227075  \n",
       "16  0.228323  \n",
       "17  0.228323  \n",
       "18  0.229447  \n",
       "19  0.229671  "
      ]
     },
     "execution_count": 21,
     "metadata": {},
     "output_type": "execute_result"
    }
   ],
   "source": [
    "closest_matches = search_distance(num_matches=20,\n",
    "                                  dataframe=news_eng, \n",
    "                                  userQuery = 'microwave oven stove kitchen applicance')\n",
    "closest_matches"
   ]
  },
  {
   "cell_type": "code",
   "execution_count": null,
   "id": "8fccce70-90d1-4b83-9523-036bc375cdd8",
   "metadata": {},
   "outputs": [],
   "source": []
  },
  {
   "cell_type": "code",
   "execution_count": null,
   "id": "f7184192-6d16-4342-a9a6-df37eb1efe6d",
   "metadata": {},
   "outputs": [],
   "source": []
  },
  {
   "cell_type": "code",
   "execution_count": null,
   "id": "c5408e8d-f68e-4b70-bad8-022b19d3b7ba",
   "metadata": {},
   "outputs": [],
   "source": []
  },
  {
   "cell_type": "code",
   "execution_count": 22,
   "id": "8e669176-51fc-4e78-af74-ad66fe1b8722",
   "metadata": {},
   "outputs": [
    {
     "data": {
      "text/plain": [
       "'Wed, 27 October 2021 17:24:56'"
      ]
     },
     "execution_count": 22,
     "metadata": {},
     "output_type": "execute_result"
    }
   ],
   "source": [
    "datetime.datetime.now(pytz.timezone('US/Central')).strftime(\"%a, %d %B %Y %H:%M:%S\")"
   ]
  }
 ],
 "metadata": {
  "kernel_info": {
   "name": "python3-azureml"
  },
  "kernelspec": {
   "display_name": "Python 3 (ipykernel)",
   "language": "python",
   "name": "python3"
  },
  "language_info": {
   "codemirror_mode": {
    "name": "ipython",
    "version": 3
   },
   "file_extension": ".py",
   "mimetype": "text/x-python",
   "name": "python",
   "nbconvert_exporter": "python",
   "pygments_lexer": "ipython3",
   "version": "3.10.12"
  },
  "microsoft": {
   "host": {
    "AzureML": {
     "notebookHasBeenCompleted": true
    }
   }
  },
  "nteract": {
   "version": "nteract-front-end@1.0.0"
  }
 },
 "nbformat": 4,
 "nbformat_minor": 5
}
