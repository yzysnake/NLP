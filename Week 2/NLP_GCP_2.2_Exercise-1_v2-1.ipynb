{
 "cells": [
  {
   "cell_type": "markdown",
   "metadata": {},
   "source": [
    "## NLP Class 2 Exercise 1:\n",
    "- Read tweets into Pandas Dataframe\n",
    "- Identify the top frequently mentioned AI / ML / NLP technologies in `extended_text` variable\n",
    "- Assess the popularity of Python vs. R vs. SAS\n",
    "\n",
    "**Suggestions:** \n",
    "- Eliminate URLs, Mentions and newline characters\n",
    "- Separeate RTs \n",
    "- Process text of the tweets separately from hashtags"
   ]
  },
  {
   "cell_type": "code",
   "execution_count": 1,
   "metadata": {},
   "outputs": [],
   "source": [
    "#import nltk\n",
    "#nltk.download('popular', halt_on_error=False)\n",
    "#nltk.download('all', halt_on_error=False)"
   ]
  },
  {
   "cell_type": "code",
   "execution_count": 1,
   "metadata": {
    "ExecuteTime": {
     "end_time": "2024-01-12T02:31:48.562553Z",
     "start_time": "2024-01-12T02:31:43.959243Z"
    }
   },
   "outputs": [],
   "source": [
    "import nltk as nltk\n",
    "import nltk.corpus  \n",
    "from nltk.text import Text\n",
    "import pandas as pd\n",
    "import re\n",
    "import sys"
   ]
  },
  {
   "cell_type": "code",
   "execution_count": 2,
   "metadata": {
    "ExecuteTime": {
     "end_time": "2024-01-12T02:31:49.559495Z",
     "start_time": "2024-01-12T02:31:49.540199Z"
    }
   },
   "outputs": [
    {
     "name": "stdout",
     "output_type": "stream",
     "text": [
      "3.11.4 (main, Jul  5 2023, 09:00:44) [Clang 14.0.6 ]\n"
     ]
    }
   ],
   "source": [
    "print(sys.version)"
   ]
  },
  {
   "cell_type": "markdown",
   "metadata": {},
   "source": [
    "### Load Data"
   ]
  },
  {
   "cell_type": "code",
   "execution_count": 3,
   "metadata": {
    "ExecuteTime": {
     "end_time": "2024-01-12T02:32:00.240383Z",
     "start_time": "2024-01-12T02:31:55.058098Z"
    }
   },
   "outputs": [
    {
     "name": "stdout",
     "output_type": "stream",
     "text": [
      "Dataset records: 100043, Dataset columns: 7\n"
     ]
    }
   ],
   "source": [
    "url = 'https://storage.googleapis.com/msca-bdp-data-open/tweets/tweets_ai_ml_nlp.json'\n",
    "tweets = pd.read_json(url, orient='records', lines=True)\n",
    "\n",
    "print(f'Dataset records: {tweets.shape[0]}, Dataset columns: {tweets.shape[1]}')"
   ]
  },
  {
   "cell_type": "code",
   "execution_count": 4,
   "metadata": {
    "ExecuteTime": {
     "end_time": "2024-01-12T02:32:09.515248Z",
     "start_time": "2024-01-12T02:32:09.476585Z"
    }
   },
   "outputs": [
    {
     "data": {
      "text/plain": "                    id lang       date                 name  \\\n0  1529094548005064705   en 2022-05-24               odol☘️   \n1  1529094585942568960   en 2022-05-24         Paijo s'Bejo   \n2  1529094709771051013   en 2022-05-24        🍀Ging🍀6️⃣5️⃣🎹   \n3  1529094719120510976   en 2022-05-24         Ultra mild🗯💫   \n4  1529094845393907712   en 2022-05-24              Ohayou🌼   \n5  1529094949592977408   en 2022-05-24           big Winner   \n6  1529095178426122240   en 2022-05-24  ️☘𝙂𝙝𝙚𝙖୧⍤⃝💸☞ Ⓕⓡⓔⓔⓣⓐⓖ   \n7  1529095330427330560   en 2022-05-24                 keju   \n8  1529095454059032576   en 2022-05-24            mrczza 💞🌹   \n9  1529098022445281280   en 2022-05-24       pabasbas riego   \n\n                                                text  \\\n0  RT @Frank4NC: CodyFight is a must watch and mu...   \n1  RT @Bakercrypt0: Wonderful day to everybody! ✨...   \n2  RT @Frank4NC: CodyFight is a must watch and mu...   \n3  RT @codyfight: Codyfight is a place where Huma...   \n4  RT @ninasimonic: Wonderful day to everybody! ✨...   \n5  RT @ninasimonic: Wonderful day to everybody! ✨...   \n6  RT @Frank4NC: CodyFight is a must watch and mu...   \n7  RT @Bakercrypt0: Wonderful day to everybody! ✨...   \n8  RT @codyfight: Codyfight is a place where Huma...   \n9  RT @cryptoreeder: Wonderful day to everybody! ...   \n\n                                       extended_text  \\\n0  CodyFight is a must watch and must EARN! Get r...   \n1  Wonderful day to everybody! ✨🫶\\n\\nThe trailer ...   \n2  CodyFight is a must watch and must EARN! Get r...   \n3  Codyfight is a place where Humans and #AI comp...   \n4  Wonderful day to everybody! ✨🫶\\n\\nTheir traile...   \n5  Wonderful day to everybody! ✨🫶\\n\\nTheir traile...   \n6  CodyFight is a must watch and must EARN! Get r...   \n7  Wonderful day to everybody! ✨🫶\\n\\nThe trailer ...   \n8  Codyfight is a place where Humans and #AI comp...   \n9  Wonderful day to everybody! ✨🫶\\n\\nOur trailer ...   \n\n                                         quoted_text  \n0  Codyfight is a place where Humans and #AI comp...  \n1  Codyfight is a place where Humans and #AI comp...  \n2  Codyfight is a place where Humans and #AI comp...  \n3                                               None  \n4  Codyfight is a place where Humans and #AI comp...  \n5  Codyfight is a place where Humans and #AI comp...  \n6  Codyfight is a place where Humans and #AI comp...  \n7  Codyfight is a place where Humans and #AI comp...  \n8                                               None  \n9  Codyfight is a place where Humans and #AI comp...  ",
      "text/html": "<div>\n<style scoped>\n    .dataframe tbody tr th:only-of-type {\n        vertical-align: middle;\n    }\n\n    .dataframe tbody tr th {\n        vertical-align: top;\n    }\n\n    .dataframe thead th {\n        text-align: right;\n    }\n</style>\n<table border=\"1\" class=\"dataframe\">\n  <thead>\n    <tr style=\"text-align: right;\">\n      <th></th>\n      <th>id</th>\n      <th>lang</th>\n      <th>date</th>\n      <th>name</th>\n      <th>text</th>\n      <th>extended_text</th>\n      <th>quoted_text</th>\n    </tr>\n  </thead>\n  <tbody>\n    <tr>\n      <th>0</th>\n      <td>1529094548005064705</td>\n      <td>en</td>\n      <td>2022-05-24</td>\n      <td>odol☘️</td>\n      <td>RT @Frank4NC: CodyFight is a must watch and mu...</td>\n      <td>CodyFight is a must watch and must EARN! Get r...</td>\n      <td>Codyfight is a place where Humans and #AI comp...</td>\n    </tr>\n    <tr>\n      <th>1</th>\n      <td>1529094585942568960</td>\n      <td>en</td>\n      <td>2022-05-24</td>\n      <td>Paijo s'Bejo</td>\n      <td>RT @Bakercrypt0: Wonderful day to everybody! ✨...</td>\n      <td>Wonderful day to everybody! ✨🫶\\n\\nThe trailer ...</td>\n      <td>Codyfight is a place where Humans and #AI comp...</td>\n    </tr>\n    <tr>\n      <th>2</th>\n      <td>1529094709771051013</td>\n      <td>en</td>\n      <td>2022-05-24</td>\n      <td>🍀Ging🍀6️⃣5️⃣🎹</td>\n      <td>RT @Frank4NC: CodyFight is a must watch and mu...</td>\n      <td>CodyFight is a must watch and must EARN! Get r...</td>\n      <td>Codyfight is a place where Humans and #AI comp...</td>\n    </tr>\n    <tr>\n      <th>3</th>\n      <td>1529094719120510976</td>\n      <td>en</td>\n      <td>2022-05-24</td>\n      <td>Ultra mild🗯💫</td>\n      <td>RT @codyfight: Codyfight is a place where Huma...</td>\n      <td>Codyfight is a place where Humans and #AI comp...</td>\n      <td>None</td>\n    </tr>\n    <tr>\n      <th>4</th>\n      <td>1529094845393907712</td>\n      <td>en</td>\n      <td>2022-05-24</td>\n      <td>Ohayou🌼</td>\n      <td>RT @ninasimonic: Wonderful day to everybody! ✨...</td>\n      <td>Wonderful day to everybody! ✨🫶\\n\\nTheir traile...</td>\n      <td>Codyfight is a place where Humans and #AI comp...</td>\n    </tr>\n    <tr>\n      <th>5</th>\n      <td>1529094949592977408</td>\n      <td>en</td>\n      <td>2022-05-24</td>\n      <td>big Winner</td>\n      <td>RT @ninasimonic: Wonderful day to everybody! ✨...</td>\n      <td>Wonderful day to everybody! ✨🫶\\n\\nTheir traile...</td>\n      <td>Codyfight is a place where Humans and #AI comp...</td>\n    </tr>\n    <tr>\n      <th>6</th>\n      <td>1529095178426122240</td>\n      <td>en</td>\n      <td>2022-05-24</td>\n      <td>️☘𝙂𝙝𝙚𝙖୧⍤⃝💸☞ Ⓕⓡⓔⓔⓣⓐⓖ</td>\n      <td>RT @Frank4NC: CodyFight is a must watch and mu...</td>\n      <td>CodyFight is a must watch and must EARN! Get r...</td>\n      <td>Codyfight is a place where Humans and #AI comp...</td>\n    </tr>\n    <tr>\n      <th>7</th>\n      <td>1529095330427330560</td>\n      <td>en</td>\n      <td>2022-05-24</td>\n      <td>keju</td>\n      <td>RT @Bakercrypt0: Wonderful day to everybody! ✨...</td>\n      <td>Wonderful day to everybody! ✨🫶\\n\\nThe trailer ...</td>\n      <td>Codyfight is a place where Humans and #AI comp...</td>\n    </tr>\n    <tr>\n      <th>8</th>\n      <td>1529095454059032576</td>\n      <td>en</td>\n      <td>2022-05-24</td>\n      <td>mrczza 💞🌹</td>\n      <td>RT @codyfight: Codyfight is a place where Huma...</td>\n      <td>Codyfight is a place where Humans and #AI comp...</td>\n      <td>None</td>\n    </tr>\n    <tr>\n      <th>9</th>\n      <td>1529098022445281280</td>\n      <td>en</td>\n      <td>2022-05-24</td>\n      <td>pabasbas riego</td>\n      <td>RT @cryptoreeder: Wonderful day to everybody! ...</td>\n      <td>Wonderful day to everybody! ✨🫶\\n\\nOur trailer ...</td>\n      <td>Codyfight is a place where Humans and #AI comp...</td>\n    </tr>\n  </tbody>\n</table>\n</div>"
     },
     "execution_count": 4,
     "metadata": {},
     "output_type": "execute_result"
    }
   ],
   "source": [
    "tweets.head(10)"
   ]
  },
  {
   "cell_type": "markdown",
   "metadata": {},
   "source": [
    "#### Use TweetTokenizer to tokenize Tweets"
   ]
  },
  {
   "cell_type": "code",
   "execution_count": 6,
   "metadata": {},
   "outputs": [
    {
     "name": "stdout",
     "output_type": "stream",
     "text": [
      "CPU times: user 16 s, sys: 144 ms, total: 16.2 s\n",
      "Wall time: 16.2 s\n"
     ]
    },
    {
     "data": {
      "text/html": [
       "<div>\n",
       "<style scoped>\n",
       "    .dataframe tbody tr th:only-of-type {\n",
       "        vertical-align: middle;\n",
       "    }\n",
       "\n",
       "    .dataframe tbody tr th {\n",
       "        vertical-align: top;\n",
       "    }\n",
       "\n",
       "    .dataframe thead th {\n",
       "        text-align: right;\n",
       "    }\n",
       "</style>\n",
       "<table border=\"1\" class=\"dataframe\">\n",
       "  <thead>\n",
       "    <tr style=\"text-align: right;\">\n",
       "      <th></th>\n",
       "      <th>Frequency</th>\n",
       "    </tr>\n",
       "    <tr>\n",
       "      <th>Word</th>\n",
       "      <th></th>\n",
       "    </tr>\n",
       "  </thead>\n",
       "  <tbody>\n",
       "    <tr>\n",
       "      <th>rt</th>\n",
       "      <td>76117</td>\n",
       "    </tr>\n",
       "    <tr>\n",
       "      <th>#ai</th>\n",
       "      <td>27036</td>\n",
       "    </tr>\n",
       "    <tr>\n",
       "      <th>#python</th>\n",
       "      <td>19949</td>\n",
       "    </tr>\n",
       "    <tr>\n",
       "      <th>#machinelearning</th>\n",
       "      <td>16159</td>\n",
       "    </tr>\n",
       "    <tr>\n",
       "      <th>#datascience</th>\n",
       "      <td>12820</td>\n",
       "    </tr>\n",
       "    <tr>\n",
       "      <th>#bigdata</th>\n",
       "      <td>10172</td>\n",
       "    </tr>\n",
       "    <tr>\n",
       "      <th>#100daysofcode</th>\n",
       "      <td>9604</td>\n",
       "    </tr>\n",
       "    <tr>\n",
       "      <th>#iot</th>\n",
       "      <td>8272</td>\n",
       "    </tr>\n",
       "    <tr>\n",
       "      <th>#javascript</th>\n",
       "      <td>7569</td>\n",
       "    </tr>\n",
       "    <tr>\n",
       "      <th>#analytics</th>\n",
       "      <td>7168</td>\n",
       "    </tr>\n",
       "  </tbody>\n",
       "</table>\n",
       "</div>"
      ],
      "text/plain": [
       "                  Frequency\n",
       "Word                       \n",
       "rt                    76117\n",
       "#ai                   27036\n",
       "#python               19949\n",
       "#machinelearning      16159\n",
       "#datascience          12820\n",
       "#bigdata              10172\n",
       "#100daysofcode         9604\n",
       "#iot                   8272\n",
       "#javascript            7569\n",
       "#analytics             7168"
      ]
     },
     "execution_count": 6,
     "metadata": {},
     "output_type": "execute_result"
    }
   ],
   "source": [
    "%%time\n",
    "\n",
    "top_N = 100\n",
    "\n",
    "tweet_text = tweets['text'].str.lower().str.replace(r'\\|', ' ', regex=True).str.cat(sep=' ')\n",
    "\n",
    "\n",
    "# Use TweetTokenizer\n",
    "tweet_tokenizer = nltk.tokenize.TweetTokenizer()\n",
    "words = tweet_tokenizer.tokenize(tweet_text)\n",
    "\n",
    "#stopwords = stopwords.words('english')\n",
    "stopwords = set(nltk.corpus.stopwords.words('english'))\n",
    "\n",
    "# Remove single-character tokens (mostly punctuation)\n",
    "words = [word for word in words if len(word) > 1]\n",
    "\n",
    "# Remove numbers\n",
    "words = [word for word in words if not word.isnumeric()]\n",
    "\n",
    "# Remove punctuation\n",
    "# words = [word for word in words if word.isalpha()]\n",
    "\n",
    "# Lowercase all words (default_stopwords are lowercase too)\n",
    "words = [word.lower() for word in words]\n",
    "\n",
    "# Remove stopwords\n",
    "words = [word for word in words if word not in stopwords]\n",
    "\n",
    "word_dist = nltk.FreqDist(words)\n",
    "\n",
    "df_word_dist = pd.DataFrame(word_dist.most_common(top_N),\n",
    "                    columns=['Word', 'Frequency']).set_index('Word')\n",
    "\n",
    "df_word_dist.head(10)"
   ]
  },
  {
   "cell_type": "code",
   "execution_count": null,
   "metadata": {},
   "outputs": [],
   "source": []
  },
  {
   "cell_type": "code",
   "execution_count": null,
   "metadata": {},
   "outputs": [],
   "source": []
  },
  {
   "cell_type": "code",
   "execution_count": null,
   "metadata": {},
   "outputs": [],
   "source": []
  },
  {
   "cell_type": "code",
   "execution_count": 7,
   "metadata": {},
   "outputs": [
    {
     "data": {
      "text/plain": [
       "'Thu, 04 August 2022 09:28:18'"
      ]
     },
     "execution_count": 7,
     "metadata": {},
     "output_type": "execute_result"
    }
   ],
   "source": [
    "import datetime\n",
    "import pytz\n",
    "\n",
    "datetime.datetime.now(pytz.timezone('US/Central')).strftime(\"%a, %d %B %Y %H:%M:%S\")"
   ]
  }
 ],
 "metadata": {
  "kernelspec": {
   "display_name": "Python 3 (ipykernel)",
   "language": "python",
   "name": "python3"
  },
  "language_info": {
   "codemirror_mode": {
    "name": "ipython",
    "version": 3
   },
   "file_extension": ".py",
   "mimetype": "text/x-python",
   "name": "python",
   "nbconvert_exporter": "python",
   "pygments_lexer": "ipython3",
   "version": "3.7.12"
  }
 },
 "nbformat": 4,
 "nbformat_minor": 4
}
