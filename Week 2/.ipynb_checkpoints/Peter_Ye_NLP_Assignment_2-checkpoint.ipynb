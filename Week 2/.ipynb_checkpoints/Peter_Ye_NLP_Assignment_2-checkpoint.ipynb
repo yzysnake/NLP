{
 "cells": [
  {
   "cell_type": "markdown",
   "id": "a828c52d5257a8d",
   "metadata": {},
   "source": [
    "### Assignment 2\n",
    "### Peter Ye\n",
    "**Note:** your records counts will be different, depending on when you query the API"
   ]
  },
  {
   "cell_type": "code",
   "execution_count": 7,
   "id": "c1ce34c43ca4b129",
   "metadata": {
    "ExecuteTime": {
     "end_time": "2024-01-18T00:22:45.493788Z",
     "start_time": "2024-01-18T00:22:45.477593Z"
    }
   },
   "outputs": [],
   "source": [
    "import pandas as pd\n",
    "import requests\n",
    "import re \n",
    "import nltk.corpus  \n",
    "from nltk.text import Text\n",
    "import matplotlib.pyplot as plt\n",
    "import string\n",
    "from collections import Counter\n",
    "from nltk.tokenize import word_tokenize\n",
    "from nltk.corpus import stopwords\n",
    "from nltk import FreqDist\n",
    "from nltk.stem import PorterStemmer\n",
    "from nltk.stem import LancasterStemmer\n",
    "pd.options.mode.chained_assignment = None  # default='warn'\n",
    "pd.set_option('max_colwidth',None)"
   ]
  },
  {
   "cell_type": "markdown",
   "id": "47fa56678e1489ae",
   "metadata": {},
   "source": [
    "## Fetch the data"
   ]
  },
  {
   "cell_type": "code",
   "execution_count": 8,
   "id": "2afbe227519d7469",
   "metadata": {
    "ExecuteTime": {
     "end_time": "2024-01-18T00:22:47.037904Z",
     "start_time": "2024-01-18T00:22:46.611303Z"
    }
   },
   "outputs": [
    {
     "name": "stdout",
     "output_type": "stream",
     "text": [
      "Total number of records available: 266,257\n",
      "CPU times: user 25.7 ms, sys: 6.35 ms, total: 32.1 ms\n",
      "Wall time: 398 ms\n"
     ]
    }
   ],
   "source": [
    "%%time\n",
    "\n",
    "# Define the API endpoint and parameters\n",
    "url = \"https://data.cityofchicago.org/resource/cwig-ma7x.json\"\n",
    "\n",
    "# Fetch the total count of records\n",
    "def get_total_count(url):\n",
    "    params = {\n",
    "        \"$select\": \"count(*)\"\n",
    "    }\n",
    "    response = requests.get(url, params=params)\n",
    "    data = response.json()\n",
    "    return int(data[0]['count'])\n",
    "\n",
    "total_count = get_total_count(url)\n",
    "print(f\"Total number of records available: {total_count:,.0f}\")"
   ]
  },
  {
   "cell_type": "code",
   "execution_count": 9,
   "id": "9d2228aec2b8c3fc",
   "metadata": {
    "ExecuteTime": {
     "end_time": "2024-01-18T00:23:21.150798Z",
     "start_time": "2024-01-18T00:22:47.867411Z"
    }
   },
   "outputs": [
    {
     "name": "stdout",
     "output_type": "stream",
     "text": [
      "Number of records retrieved: 266,257\n",
      "CPU times: user 10.9 s, sys: 2.47 s, total: 13.4 s\n",
      "Wall time: 33.3 s\n"
     ]
    }
   ],
   "source": [
    "%%time\n",
    "\n",
    "# Fetch data and load it into a pandas DataFrame\n",
    "def fetch_data(url, params):\n",
    "    response = requests.get(url, params=params)\n",
    "    data = response.json()\n",
    "    return pd.DataFrame(data)\n",
    "\n",
    "# Set the limit parameter equal to the number of available records\n",
    "params = {\n",
    "    \"$limit\": total_count\n",
    "}\n",
    "\n",
    "# Fetch the data and load it into a DataFrame\n",
    "df = fetch_data(url, params)\n",
    "\n",
    "print(f'Number of records retrieved: {df.shape[0]:,.0f}')"
   ]
  },
  {
   "cell_type": "markdown",
   "id": "940320fcbc71a6b8",
   "metadata": {},
   "source": [
    "## Check the data"
   ]
  },
  {
   "cell_type": "code",
   "execution_count": 10,
   "id": "f3e71d340f2f1ba1",
   "metadata": {
    "ExecuteTime": {
     "end_time": "2024-01-18T00:23:51.675842Z",
     "start_time": "2024-01-18T00:23:51.611108Z"
    }
   },
   "outputs": [
    {
     "data": {
      "text/html": [
       "<div>\n",
       "<style scoped>\n",
       "    .dataframe tbody tr th:only-of-type {\n",
       "        vertical-align: middle;\n",
       "    }\n",
       "\n",
       "    .dataframe tbody tr th {\n",
       "        vertical-align: top;\n",
       "    }\n",
       "\n",
       "    .dataframe thead th {\n",
       "        text-align: right;\n",
       "    }\n",
       "</style>\n",
       "<table border=\"1\" class=\"dataframe\">\n",
       "  <thead>\n",
       "    <tr style=\"text-align: right;\">\n",
       "      <th></th>\n",
       "      <th>inspection_id</th>\n",
       "      <th>dba_name</th>\n",
       "      <th>aka_name</th>\n",
       "      <th>license_</th>\n",
       "      <th>facility_type</th>\n",
       "      <th>risk</th>\n",
       "      <th>address</th>\n",
       "      <th>city</th>\n",
       "      <th>state</th>\n",
       "      <th>zip</th>\n",
       "      <th>...</th>\n",
       "      <th>results</th>\n",
       "      <th>violations</th>\n",
       "      <th>latitude</th>\n",
       "      <th>longitude</th>\n",
       "      <th>location</th>\n",
       "      <th>:@computed_region_awaf_s7ux</th>\n",
       "      <th>:@computed_region_6mkv_f3dw</th>\n",
       "      <th>:@computed_region_vrxf_vc4k</th>\n",
       "      <th>:@computed_region_bdys_3d7i</th>\n",
       "      <th>:@computed_region_43wa_7qmu</th>\n",
       "    </tr>\n",
       "  </thead>\n",
       "  <tbody>\n",
       "    <tr>\n",
       "      <th>0</th>\n",
       "      <td>2588033</td>\n",
       "      <td>MR. TACO MEX, INC.</td>\n",
       "      <td>MR. TACO MEX, INC.</td>\n",
       "      <td>2813393</td>\n",
       "      <td>Restaurant</td>\n",
       "      <td>Risk 1 (High)</td>\n",
       "      <td>10656 S TORRENCE AVE</td>\n",
       "      <td>CHICAGO</td>\n",
       "      <td>IL</td>\n",
       "      <td>60617</td>\n",
       "      <td>...</td>\n",
       "      <td>Pass w/ Conditions</td>\n",
       "      <td>10. ADEQUATE HANDWASHING SINKS PROPERLY SUPPLIED AND ACCESSIBLE - Comments: OBSERVED NO HAND WASHING SIGN AT REAR HAND WASHING SINK. INSTRUCTED MANAGER TO PROVIDE HAND WASHING SIGNS AT ALL HAND WASHING SINKS USED BY EMPLOYEES. | 16. FOOD-CONTACT SURFACES: CLEANED &amp; SANITIZED - Comments: OBSERVED LOW TEMPERATURE DISH MACHINE NOT SANITIZING FOOD EQUIPMENT AND UTENSILS, CHEMICAL PPM 0 INSTRUCTED MANAGER TO REPAIR AND MAINTAIN FINAL RINSE AT 100 PPM. DISH MACHINE IS TAGGED HELD FOR INSPECTION AND MUST NOT BE USED UNTIL REINSPECTED BY CHICAGO DEPARTMENT OF HEALTHL PRIORITY 7-38-025 CITATION ISSUED | 35. APPROVED THAWING METHODS USED - Comments: OBSERVED BEEF IMPOPERLY THAWING IN PREP SINK. INSTRUCTED MANAGER TO THAW FOOD UNDER REFRIGERATION, COLD RUNNING WATER OR PART OF COOKING PROCESS. | 37. FOOD PROPERLY LABELED; ORIGINAL CONTAINER - Comments: OBSERVED BULK FOOD CONTAINERS NOT LABELED IN PREP AREA. INSTRUCTED MANAGER TO LABEL ALL BULK CONTAINERS WITH COMMON NAME OF FOOD. | 39. CONTAMINATION PREVENTED DURING FOOD PREPARATION, STORAGE &amp; DISPLAY - Comments: OBSERVED BULK SUGAR CONTAINER NOT COVERED IN PREP AREA. INSTRUCTED MANAGER TO COVER ALL FOOD CONTAINERS TO PROTECT FROM CONTAMINATION. | 41. WIPING CLOTHS: PROPERLY USED &amp; STORED - Comments: OBSERVED SOILED WIPING CLOTHS STORED ON PREP TABLES. INSTRUCTED MANAGER TO STORE WIPING CLOTHS IN SANITIZING SOLUTION BETWEEN USES. | 45. SINGLE-USE/SINGLE-SERVICE ARTICLES: PROPERLY STORED &amp; USED - Comments: OBSERVED SINGLE SERVICE ARTICLES NOT INVERTED IN PREP ARA. INSTRUCTED MANAGER TO INVERT ALL SINGLE SERVICE ARTICLES TO PROTECT FROM CONTAMINATION. | 49. NON-FOOD/FOOD CONTACT SURFACES CLEAN - Comments: OBSERVED GREASE BUILDUP AND FOOD DEBRIS ON INTERIOR AND EXTERIOR SURFACES OF COOKING EQUIPMENT, PREP TABLES, SHELVING UNITS, COOLERS, AND FREEZERS. INSTRUCTED MANAGER TO CLEAN AND MAINTAIN. | 55. PHYSICAL FACILITIES INSTALLED, MAINTAINED &amp; CLEAN - Comments: OBSERVED DAMAGED AND MISSING BASEBOARDS ALONG WALLS IN PREP AND STORAGE AREAS. INSTRUCTED MANAGER TO REPLACE AND MAINTAIN. | 58. ALLERGEN TRAINING AS REQUIRED - Comments: OBSERVED NO ALLERGEN TRAINING FOR CERTIFIED MANAGER ON DUTY. ALL CERTIFIED MANAGERS MUST PROVIDE ALLERGEN TRAINING.</td>\n",
       "      <td>41.70112036721256</td>\n",
       "      <td>-87.55972431384708</td>\n",
       "      <td>{'type': 'Point', 'coordinates': [-87.55972431384708, 41.70112036721256]}</td>\n",
       "      <td>47</td>\n",
       "      <td>21202</td>\n",
       "      <td>48</td>\n",
       "      <td>174</td>\n",
       "      <td>47</td>\n",
       "    </tr>\n",
       "    <tr>\n",
       "      <th>1</th>\n",
       "      <td>2588029</td>\n",
       "      <td>SHAN GROCERY</td>\n",
       "      <td>SHAN GROCERY</td>\n",
       "      <td>2948565</td>\n",
       "      <td>Grocery Store</td>\n",
       "      <td>Risk 2 (Medium)</td>\n",
       "      <td>5060 N SHERIDAN RD</td>\n",
       "      <td>CHICAGO</td>\n",
       "      <td>IL</td>\n",
       "      <td>60640</td>\n",
       "      <td>...</td>\n",
       "      <td>Pass</td>\n",
       "      <td>49. NON-FOOD/FOOD CONTACT SURFACES CLEAN - Comments: INSTRUCTED TO CLEAN AND MAINTAIN CONDENSER FAN COVER WITH DUST ACCUMULATION INSIDE REAR WALK-IN COOLER. | 55. PHYSICAL FACILITIES INSTALLED, MAINTAINED &amp; CLEAN - Comments: OBSERVED WALL NEXT TO MOPSINK IN POOR REPAIR IN REAR PREP (DISHWASHING AREA). INSTRUCTED TO FIX.</td>\n",
       "      <td>41.975119077312534</td>\n",
       "      <td>-87.65512202484139</td>\n",
       "      <td>{'type': 'Point', 'coordinates': [-87.65512202484139, 41.975119077312534]}</td>\n",
       "      <td>37</td>\n",
       "      <td>22616</td>\n",
       "      <td>31</td>\n",
       "      <td>634</td>\n",
       "      <td>16</td>\n",
       "    </tr>\n",
       "    <tr>\n",
       "      <th>2</th>\n",
       "      <td>2588048</td>\n",
       "      <td>HIENIE'S</td>\n",
       "      <td>HIENIE'S</td>\n",
       "      <td>2578472</td>\n",
       "      <td>Restaurant</td>\n",
       "      <td>Risk 1 (High)</td>\n",
       "      <td>10359 S TORRENCE AVE</td>\n",
       "      <td>CHICAGO</td>\n",
       "      <td>IL</td>\n",
       "      <td>60617</td>\n",
       "      <td>...</td>\n",
       "      <td>Pass</td>\n",
       "      <td>49. NON-FOOD/FOOD CONTACT SURFACES CLEAN - Comments: OBSERVED GREASE BUILDUP, FOOD DEBRIS AND SPILLS ON INTERIOR AND EXTERIOR SURFACES OF FRYERS, PREP TABLES, HOLDING UNITS, SHELVING UNITS, COOKING EQUIPMENT, COOLERS, FREEZERS. INSTRUCTED MANAGER TO CLEAN AND MAINTAIN. | 55. PHYSICAL FACILITIES INSTALLED, MAINTAINED &amp; CLEAN - Comments: OBSERVED OPENINGS ALONG BASEBOARDS AND MISSING BASEBOARDS ALONG WALLS IN PREP AND STORAGE AREAS. INSTRUCTED MANAGER TO REPLACE AND MAINTAIN. | 55. PHYSICAL FACILITIES INSTALLED, MAINTAINED &amp; CLEAN - Comments: OBSERVED DEBRIS ON FLOORS UNDER ALL EQUIPMENT, ALONG WALLS AND IN ALL CORNERS IN PREP AND STORAGE AREAS. INSTRUCTED MANAGER TO CLEAN AND MAINTAIN.</td>\n",
       "      <td>41.70648742697794</td>\n",
       "      <td>-87.55949850858342</td>\n",
       "      <td>{'type': 'Point', 'coordinates': [-87.55949850858342, 41.70648742697794]}</td>\n",
       "      <td>47</td>\n",
       "      <td>21202</td>\n",
       "      <td>48</td>\n",
       "      <td>527</td>\n",
       "      <td>47</td>\n",
       "    </tr>\n",
       "    <tr>\n",
       "      <th>3</th>\n",
       "      <td>2588031</td>\n",
       "      <td>SHAN FOOD</td>\n",
       "      <td>SHAN FOOD</td>\n",
       "      <td>2523608</td>\n",
       "      <td>Restaurant</td>\n",
       "      <td>Risk 1 (High)</td>\n",
       "      <td>5060 N SHERIDAN RD</td>\n",
       "      <td>CHICAGO</td>\n",
       "      <td>IL</td>\n",
       "      <td>60640</td>\n",
       "      <td>...</td>\n",
       "      <td>Out of Business</td>\n",
       "      <td>NaN</td>\n",
       "      <td>41.975119077312534</td>\n",
       "      <td>-87.65512202484139</td>\n",
       "      <td>{'type': 'Point', 'coordinates': [-87.65512202484139, 41.975119077312534]}</td>\n",
       "      <td>37</td>\n",
       "      <td>22616</td>\n",
       "      <td>31</td>\n",
       "      <td>634</td>\n",
       "      <td>16</td>\n",
       "    </tr>\n",
       "    <tr>\n",
       "      <th>4</th>\n",
       "      <td>2588059</td>\n",
       "      <td>BRIGHT SCHOLARS ACADEMY, LLC</td>\n",
       "      <td>BRIGHT SCHOLARS ACADEMY</td>\n",
       "      <td>2506770</td>\n",
       "      <td>Children's Services Facility</td>\n",
       "      <td>Risk 1 (High)</td>\n",
       "      <td>8501-8503 S ASHLAND AVE</td>\n",
       "      <td>CHICAGO</td>\n",
       "      <td>IL</td>\n",
       "      <td>60620</td>\n",
       "      <td>...</td>\n",
       "      <td>Fail</td>\n",
       "      <td>10. ADEQUATE HANDWASHING SINKS PROPERLY SUPPLIED AND ACCESSIBLE - Comments: OBSERVED HOT RUNNING WATER TEMPERATURE AT HAND SINKS IN KITCHEN - 87.8F.GIRL'S TOILET ROOM - 87.1F-87.4F.BOY'S TOILET ROOM-85.8F.FRONT STAFF TOILET ROOM-86.0F.BOTH TEACHERS SINKS IN GREEN CLASSROOM- 88.2F.MUST HAVE HOT RUNNING WATER AT 100.0F. MUST REPAIR AND MAINTAIN.(PRIORITY 7-38-030(C)(CITATION ISSUED) | 38. INSECTS, RODENTS, &amp; ANIMALS NOT PRESENT - Comments: OBSERVED A GAP ALONG LEFT SIDE OF REAR DOOR MUST MAKE TIGHT FITTING. | 47. FOOD &amp; NON-FOOD CONTACT SURFACES CLEANABLE, PROPERLY DESIGNED, CONSTRUCTED &amp; USED - Comments: MUST ELIMINATE CRATES USED FOR FOOD STORAGE IN REAR STORAGE AREA AND PROVIDE ADEQUATE SHELVING UNITS. | 48. WAREWASHING FACILITIES: INSTALLED, MAINTAINED &amp; USED; TEST STRIPS - Comments: OBSERVED NO CHEMICAL TEST KIT TO CHECK SANITIZING SOLUTION PPM'S AT 3- COMPARTMENT SINK. MUST PROVIDE AND MAINTAIN.(PRIORITY FOUNDATION 7-38-005)(CITATION ISSUED) | 51. PLUMBING INSTALLED; PROPER BACKFLOW DEVICES - Comments: MUST REPAIR OR REPLACE LOW WATER PRESSURE AT ALL SINKS THROUGHOUT PREMISES. | 55. PHYSICAL FACILITIES INSTALLED, MAINTAINED &amp; CLEAN - Comments: MUST REPAIR OR REPLACE DAMAGED WALL AT COTS FOR GREEN ROOM AND STAINED CEILING TILES IN BLUE ROOM. | 55. PHYSICAL FACILITIES INSTALLED, MAINTAINED &amp; CLEAN - Comments: MUST SCRAPE AND PAINT CHIPPING PAINT ON WALLS AND WINDOW SILLS IN BLUE ROOM,RED ROOM-NEAR DOLL BED AND AT ENTRY KNEE WALL. | 55. PHYSICAL FACILITIES INSTALLED, MAINTAINED &amp; CLEAN - Comments: MUST PROVIDE A HOOKING SYSTEM FOR WET MOPS IN MOP SINK.</td>\n",
       "      <td>41.739343208088016</td>\n",
       "      <td>-87.66300791918849</td>\n",
       "      <td>{'type': 'Point', 'coordinates': [-87.66300791918849, 41.739343208088016]}</td>\n",
       "      <td>18</td>\n",
       "      <td>21554</td>\n",
       "      <td>70</td>\n",
       "      <td>531</td>\n",
       "      <td>13</td>\n",
       "    </tr>\n",
       "    <tr>\n",
       "      <th>5</th>\n",
       "      <td>2588041</td>\n",
       "      <td>CERES FOOD GROUP,INC.</td>\n",
       "      <td>(SCHOOL) PERSPECTIVES IIT MATH &amp; SCIENCE</td>\n",
       "      <td>3709480</td>\n",
       "      <td>School</td>\n",
       "      <td>Risk 1 (High)</td>\n",
       "      <td>3663 S WABASH AVE</td>\n",
       "      <td>CHICAGO</td>\n",
       "      <td>IL</td>\n",
       "      <td>60653</td>\n",
       "      <td>...</td>\n",
       "      <td>No Entry</td>\n",
       "      <td>NaN</td>\n",
       "      <td>41.82779592823685</td>\n",
       "      <td>-87.62475128513913</td>\n",
       "      <td>{'type': 'Point', 'coordinates': [-87.62475128513913, 41.82779592823685]}</td>\n",
       "      <td>12</td>\n",
       "      <td>4301</td>\n",
       "      <td>1</td>\n",
       "      <td>446</td>\n",
       "      <td>9</td>\n",
       "    </tr>\n",
       "    <tr>\n",
       "      <th>6</th>\n",
       "      <td>2588065</td>\n",
       "      <td>TEMPORIS</td>\n",
       "      <td>TEMPORIS</td>\n",
       "      <td>2446729</td>\n",
       "      <td>Restaurant</td>\n",
       "      <td>Risk 1 (High)</td>\n",
       "      <td>933 N ASHLAND AVE</td>\n",
       "      <td>CHICAGO</td>\n",
       "      <td>IL</td>\n",
       "      <td>60622</td>\n",
       "      <td>...</td>\n",
       "      <td>No Entry</td>\n",
       "      <td>NaN</td>\n",
       "      <td>41.89890432084078</td>\n",
       "      <td>-87.66722318342336</td>\n",
       "      <td>{'type': 'Point', 'coordinates': [-87.66722318342336, 41.89890432084078]}</td>\n",
       "      <td>41</td>\n",
       "      <td>21560</td>\n",
       "      <td>25</td>\n",
       "      <td>484</td>\n",
       "      <td>41</td>\n",
       "    </tr>\n",
       "    <tr>\n",
       "      <th>7</th>\n",
       "      <td>2588024</td>\n",
       "      <td>U OF C (CS) DONOGHUE</td>\n",
       "      <td>UNIVERSITY OF CHICAGO CHARTER SCHOOL DONOGHUE</td>\n",
       "      <td>66321</td>\n",
       "      <td>School</td>\n",
       "      <td>Risk 1 (High)</td>\n",
       "      <td>707 E 37TH ST</td>\n",
       "      <td>CHICAGO</td>\n",
       "      <td>IL</td>\n",
       "      <td>60653</td>\n",
       "      <td>...</td>\n",
       "      <td>Pass</td>\n",
       "      <td>10. ADEQUATE HANDWASHING SINKS PROPERLY SUPPLIED AND ACCESSIBLE - Comments: OBSERVED ONE THE HAND SINK IN THE GIRLS 1st FLOOR WASHROOM NEAR THE KITCHEN WITH LOW PRESSURE AND THE TIMER ON SINK MUST STAY ON FOR AT LEASE 20 SECONDS. ALSO IN THE SAME AREA BOYS WASHROOM SINKS DONT STAY ON FOR 20 SECONDS. MUST MAKE AJUSTMENTS FOR PROPER HAND WASHING. | 55. PHYSICAL FACILITIES INSTALLED, MAINTAINED &amp; CLEAN - Comments: FLOORS NEED CLEANING ALONG THE WALL BASE AND IN CORNERS IN THE TEACHERS LOUNGE TO REMOVE DEBRIS.</td>\n",
       "      <td>41.8277051679405</td>\n",
       "      <td>-87.60847172435795</td>\n",
       "      <td>{'type': 'Point', 'coordinates': [-87.60847172435795, 41.8277051679405]}</td>\n",
       "      <td>1</td>\n",
       "      <td>4301</td>\n",
       "      <td>2</td>\n",
       "      <td>221</td>\n",
       "      <td>10</td>\n",
       "    </tr>\n",
       "    <tr>\n",
       "      <th>8</th>\n",
       "      <td>2588013</td>\n",
       "      <td>SOLOWAY COFFEE</td>\n",
       "      <td>SOLOWAY COFFEE</td>\n",
       "      <td>2938639</td>\n",
       "      <td>Restaurant</td>\n",
       "      <td>Risk 1 (High)</td>\n",
       "      <td>2275 N LINCOLN AVE</td>\n",
       "      <td>CHICAGO</td>\n",
       "      <td>IL</td>\n",
       "      <td>60614</td>\n",
       "      <td>...</td>\n",
       "      <td>Pass w/ Conditions</td>\n",
       "      <td>3. MANAGEMENT, FOOD EMPLOYEE AND CONDITIONAL EMPLOYEE; KNOWLEDGE, RESPONSIBILITIES AND REPORTING - Comments:  OBSERVED NO EMPLOYEE HEALTH POLICY ON SITE. INSTRUCTED TO PROVIDE AN EMPLOYEE HEALTH POLICY THAT INCLUDES A SIGNED ACKOWLEDGEMENT FROM EACH EMPLOYEE. PRIORITY FOUNDATION VIOLATION 7-38-010, NO CITATION ISSUED. | 5. PROCEDURES FOR RESPONDING TO VOMITING AND DIARRHEAL EVENTS - Comments: OBSERVED NO PROCEDURE ON PLACE FOR RESPONDING TO VOMITING AND DIARRHEAL EVENTS.INSTRUCTED TO PROVIDE PROCEDURE AND NECESSARY SUPPLIES EFFECTIVE AGAINST NOROVIRUS. PRIORITY FOUNDATION VIOLATION. 7-38-005, NO CITATION ISSUED. | 39. CONTAMINATION PREVENTED DURING FOOD PREPARATION, STORAGE &amp; DISPLAY - Comments: MISSING SPLASHGUARD IN BETWEEN HAND WASHING SINK AND FRONT PREP TABLE. INSTRUCTED TO PROVIDE AND MAINTAIN. | 48. WAREWASHING FACILITIES: INSTALLED, MAINTAINED &amp; USED; TEST STRIPS - Comments: MUST PROVIDE DRAIN BOARD ABOVE 3-COMPARTMENT SINK TO DRAIN AND AIR DRY UTENSILS. | 51. PLUMBING INSTALLED; PROPER BACKFLOW DEVICES - Comments: OBSERVED NO BACKFLOW PREVENTION DEVICE FOR COFFEE EXPRESSO MACHINE LOCATED AT FRONT COFFEE STATION. INSTRUCTED TO PROVIDE A BACKFLOW PREVENTOR DEVICE. MUST B E LOCATED SO THAT CAN BE SERVICE AND MAINTAINED. | 55. PHYSICAL FACILITIES INSTALLED, MAINTAINED &amp; CLEAN - Comments: OBSERVED UNUSED UPRIGHT 2-DOOR REFRIGERATOR IN REAR FOOD STORAGE AREA. MUST REPAIR COOLER OR REMOVED FROM PREMISES.</td>\n",
       "      <td>41.92361620972698</td>\n",
       "      <td>-87.64599112233753</td>\n",
       "      <td>{'type': 'Point', 'coordinates': [-87.64599112233753, 41.92361620972698]}</td>\n",
       "      <td>51</td>\n",
       "      <td>21190</td>\n",
       "      <td>68</td>\n",
       "      <td>798</td>\n",
       "      <td>34</td>\n",
       "    </tr>\n",
       "    <tr>\n",
       "      <th>9</th>\n",
       "      <td>2588023</td>\n",
       "      <td>BARTON ELEMENTARY SCHOOL</td>\n",
       "      <td>BARTON ELEMENTARY SCHOOL</td>\n",
       "      <td>22151</td>\n",
       "      <td>School</td>\n",
       "      <td>Risk 1 (High)</td>\n",
       "      <td>7650 S Wolcott (1900W)</td>\n",
       "      <td>CHICAGO</td>\n",
       "      <td>IL</td>\n",
       "      <td>60620</td>\n",
       "      <td>...</td>\n",
       "      <td>Fail</td>\n",
       "      <td>3. MANAGEMENT, FOOD EMPLOYEE AND CONDITIONAL EMPLOYEE; KNOWLEDGE, RESPONSIBILITIES AND REPORTING - Comments: OBSERVED NO SIGNED EMPLOYEES HEALTH POLICIES MUST PROVIDE AND MAINTAIN.(PRIORITY FOUNDATION 7-38-010) | 10. ADEQUATE HANDWASHING SINKS PROPERLY SUPPLIED AND ACCESSIBLE - Comments: OBSERVED HOT RUNNING WATER TEMPERATURE AT HAND SINKS IN TOILET ROOMS OF PRE-K 113 AT 74.1F AND PRE-K 115- AT 71.4F MUST HAVE HOT RUNNING WATER AT 100.0F. MUST REPAIR AND MAINTAIN.(PRIORITY 7-38-030(C) | 10. ADEQUATE HANDWASHING SINKS PROPERLY SUPPLIED AND ACCESSIBLE - Comments: OBSERVED NO HAND DRYING DEVICE AT HAND SINK IN 1ST FL. BOY'S MAIN BUILDING MUST PROVIDE AND MAINTAIN.(PRIORITY FOUNDATION 7-38-030(C) | 10. ADEQUATE HANDWASHING SINKS PROPERLY SUPPLIED AND ACCESSIBLE - Comments: OBSERVED NO HAND WASHING SIGNS IN SERVING LINE,PRIMARY BUILDING -1ST FL. BOY'S &amp; 2ND FL. GIRL'S.MAIN BUILDING- 2ND FL. STAFF MUST PROVIDE AND MAINTAIN. | 10. ADEQUATE HANDWASHING SINKS PROPERLY SUPPLIED AND ACCESSIBLE - Comments: MUST ADJUST PRE-K 113-LOW HOT WATER PRESSURE AT TALL HAND SINK IN CLASSROOM,PRIMARY BUILDING-1ST FL. BOY'S LOW HOT WATER PRESSURE .MUST ADJUST FAUCET HANDLES TO STAY ON LONGER FOR HAND WASHING MAIN BUILDING-1ST FL. BOY'S,2ND FL. (HOT) GIRL'S,3RD FL. GIRL'S MIDDLE SINK(HOT) AND (COLD) LAST SINK.PRIMARY 2ND FL. STAFF (COLD)MUST REPAIR AND MAINTAIN. | 36. THERMOMETERS PROVIDED &amp; ACCURATE - Comments: MUST PROVIDE A THERMOMETER FOR PRE-K ROOM 113 &amp; 115 REFRIGERATORS. | 38. INSECTS, RODENTS, &amp; ANIMALS NOT PRESENT - Comments: OBSERVED EVIDENCE OF APPX. 100 OR MORE MICE DROPPINGS IN KITCHEN-ON FLOOR NEXT TO WALK IN COOLER,ON FLOOR BEHIND ICE MACHINE,ON FLOOR NEXT TO FILE CABINET,ON LOWER SHELF OF 1- COMPARTMENT SINK.DRY FOOD STORAGE AREA-ON FLOOR NEXT TO SAFE AND SCATTERED ON FLOOR UNDERNEATH SHELVING UNITS.CHEMICAL/PAPER GOODS-ON FLOOR UNDERNEATH SHELVING UNITS.SERVING LINE-AT HOT HOLDING UNIT AND STORAGE SHELF.LUNCHROOM-ON WOOD CRATE PACKAGING OF SCOREBOARD.PRE-K ROOM 113 CLOSET BEHIND DOOR.PRE-K 115-ON FLOOR BEHIND MUSIC CABINET,ON TOP OF RADIATOR COVER,ON FLOOR IN LIBRARY AREA,UNDERNEATH WATER FOUNTAIN.MUST REMOVE DROPPINGS CLEAN AND SANITIZE AREAS. RECOMMENDED TO HAVE A PEST CONTROL OPERATOR TO SERVICE PREMISES ON OR AFTER 1/12/24.(PRIORITY FOUNDATION 7-38-020(A) | 39. CONTAMINATION PREVENTED DURING FOOD PREPARATION, STORAGE &amp; DISPLAY - Comments: MUST PROVIDE A SPLASH GUARD BETWEEN HAND SINK AND 3- COMPARTMENT SINK DRAINBOARD. | 47. FOOD &amp; NON-FOOD CONTACT SURFACES CLEANABLE, PROPERLY DESIGNED, CONSTRUCTED &amp; USED - Comments: MUST ELIMINATE CRATES USED FOR FOOD STORAGE IN WALK IN FREEZER AND DRY FOOD STORAGE AREA AND PROVIDE ADEQUATE SHELVING UNITS. | 49. NON-FOOD/FOOD CONTACT SURFACES CLEAN - Comments: MUST CLEAN BUILD UP ON INTERIOR PANEL OF ICE MACHINE. | 53. TOILET FACILITIES: PROPERLY CONSTRUCTED, SUPPLIED, &amp; CLEANED - Comments: OBSERVED NO COVERED RECEPTACLE IN KITCHEN STAFF TOILET ROOM,PRIMARY BUILDING- 2ND FL. STAFF.MAIN BUILDING - 2ND FL. GIRL'S MUST PROVIDE AND MAINTAIN. | 55. PHYSICAL FACILITIES INSTALLED, MAINTAINED &amp; CLEAN - Comments: MUST REPAIR OR REPLACE DAMAGED AND MISSING FLOOR TILES IN DRY FOOD STORAGE AREA,KITCHEN STAFF BREAKROOM,KITCHEN-UNDERNEATH STEAMER,IN BETWEEN OVENS AND WHERE NEEDED,LUNCHROOM.PRE-K 113.STAINED CEILING TILES IN -DRY FOOD STORAGE AREA,KITCHEN,CHEMICAL/PAPER STORAGE AREA.LOOSE AND DAMAGED WALL BASES IN LUNCH ROOM. | 55. PHYSICAL FACILITIES INSTALLED, MAINTAINED &amp; CLEAN - Comments: MUST SCRAPE AND PAINT CHIPPING PAINT ON WALLS IN LUNCHROOM. | 55. PHYSICAL FACILITIES INSTALLED, MAINTAINED &amp; CLEAN - Comments: MUST ELEVATE,REMOVE AND ORGANIZE ARTICLES OFF OF FLOOR AND AWAY FROM WALLS IN LUNCH ROOM,PRE-K 113 CLOSET AND CLASSROOM AND PRE-K 115 CLASSROOM.</td>\n",
       "      <td>41.75421962168018</td>\n",
       "      <td>-87.67096452829065</td>\n",
       "      <td>{'type': 'Point', 'coordinates': [-87.67096452829065, 41.75421962168018]}</td>\n",
       "      <td>6</td>\n",
       "      <td>21554</td>\n",
       "      <td>70</td>\n",
       "      <td>573</td>\n",
       "      <td>31</td>\n",
       "    </tr>\n",
       "  </tbody>\n",
       "</table>\n",
       "<p>10 rows × 22 columns</p>\n",
       "</div>"
      ],
      "text/plain": [
       "  inspection_id                      dba_name  \\\n",
       "0       2588033            MR. TACO MEX, INC.   \n",
       "1       2588029                  SHAN GROCERY   \n",
       "2       2588048                      HIENIE'S   \n",
       "3       2588031                     SHAN FOOD   \n",
       "4       2588059  BRIGHT SCHOLARS ACADEMY, LLC   \n",
       "5       2588041         CERES FOOD GROUP,INC.   \n",
       "6       2588065                      TEMPORIS   \n",
       "7       2588024          U OF C (CS) DONOGHUE   \n",
       "8       2588013                SOLOWAY COFFEE   \n",
       "9       2588023      BARTON ELEMENTARY SCHOOL   \n",
       "\n",
       "                                        aka_name license_  \\\n",
       "0                             MR. TACO MEX, INC.  2813393   \n",
       "1                                   SHAN GROCERY  2948565   \n",
       "2                                       HIENIE'S  2578472   \n",
       "3                                      SHAN FOOD  2523608   \n",
       "4                        BRIGHT SCHOLARS ACADEMY  2506770   \n",
       "5       (SCHOOL) PERSPECTIVES IIT MATH & SCIENCE  3709480   \n",
       "6                                       TEMPORIS  2446729   \n",
       "7  UNIVERSITY OF CHICAGO CHARTER SCHOOL DONOGHUE    66321   \n",
       "8                                 SOLOWAY COFFEE  2938639   \n",
       "9                       BARTON ELEMENTARY SCHOOL    22151   \n",
       "\n",
       "                  facility_type             risk                   address  \\\n",
       "0                    Restaurant    Risk 1 (High)     10656 S TORRENCE AVE    \n",
       "1                 Grocery Store  Risk 2 (Medium)       5060 N SHERIDAN RD    \n",
       "2                    Restaurant    Risk 1 (High)     10359 S TORRENCE AVE    \n",
       "3                    Restaurant    Risk 1 (High)       5060 N SHERIDAN RD    \n",
       "4  Children's Services Facility    Risk 1 (High)  8501-8503 S ASHLAND AVE    \n",
       "5                        School    Risk 1 (High)        3663 S WABASH AVE    \n",
       "6                    Restaurant    Risk 1 (High)        933 N ASHLAND AVE    \n",
       "7                        School    Risk 1 (High)            707 E 37TH ST    \n",
       "8                    Restaurant    Risk 1 (High)       2275 N LINCOLN AVE    \n",
       "9                        School    Risk 1 (High)   7650 S Wolcott (1900W)    \n",
       "\n",
       "      city state    zip  ...             results  \\\n",
       "0  CHICAGO    IL  60617  ...  Pass w/ Conditions   \n",
       "1  CHICAGO    IL  60640  ...                Pass   \n",
       "2  CHICAGO    IL  60617  ...                Pass   \n",
       "3  CHICAGO    IL  60640  ...     Out of Business   \n",
       "4  CHICAGO    IL  60620  ...                Fail   \n",
       "5  CHICAGO    IL  60653  ...            No Entry   \n",
       "6  CHICAGO    IL  60622  ...            No Entry   \n",
       "7  CHICAGO    IL  60653  ...                Pass   \n",
       "8  CHICAGO    IL  60614  ...  Pass w/ Conditions   \n",
       "9  CHICAGO    IL  60620  ...                Fail   \n",
       "\n",
       "                                                                                                                                                                                                                                                                                                                                                                                                                                                                                                                                                                                                                                                                                                                                                                                                                                                                                                                                                                                                                                                                                                                                                                                                                                                                                                                                                                                                                                                                                                                                                                                                                                                                                                                                                                                                                                                                                                                                                                                                                                                                                                                                                                                                                                                                                                                                                                                                                                                                                                                                                                                                                                                                                                                                                                                                                                                                                                                                                                                                                                                                                                                                                                                                                                                                                                                                                                                                                                                                                                                                                                                                                                                                                                                                                                                                                                                                                        violations  \\\n",
       "0                                                                                                                                                                                                                                                                                                                                                                                                                                                                                                                                                                                                                                                                                                                                                                                                                                                                                                                                                                                                                                                                                                                                                                                                                                                                                                                                                                                                                                                                                                                                                                                          10. ADEQUATE HANDWASHING SINKS PROPERLY SUPPLIED AND ACCESSIBLE - Comments: OBSERVED NO HAND WASHING SIGN AT REAR HAND WASHING SINK. INSTRUCTED MANAGER TO PROVIDE HAND WASHING SIGNS AT ALL HAND WASHING SINKS USED BY EMPLOYEES. | 16. FOOD-CONTACT SURFACES: CLEANED & SANITIZED - Comments: OBSERVED LOW TEMPERATURE DISH MACHINE NOT SANITIZING FOOD EQUIPMENT AND UTENSILS, CHEMICAL PPM 0 INSTRUCTED MANAGER TO REPAIR AND MAINTAIN FINAL RINSE AT 100 PPM. DISH MACHINE IS TAGGED HELD FOR INSPECTION AND MUST NOT BE USED UNTIL REINSPECTED BY CHICAGO DEPARTMENT OF HEALTHL PRIORITY 7-38-025 CITATION ISSUED | 35. APPROVED THAWING METHODS USED - Comments: OBSERVED BEEF IMPOPERLY THAWING IN PREP SINK. INSTRUCTED MANAGER TO THAW FOOD UNDER REFRIGERATION, COLD RUNNING WATER OR PART OF COOKING PROCESS. | 37. FOOD PROPERLY LABELED; ORIGINAL CONTAINER - Comments: OBSERVED BULK FOOD CONTAINERS NOT LABELED IN PREP AREA. INSTRUCTED MANAGER TO LABEL ALL BULK CONTAINERS WITH COMMON NAME OF FOOD. | 39. CONTAMINATION PREVENTED DURING FOOD PREPARATION, STORAGE & DISPLAY - Comments: OBSERVED BULK SUGAR CONTAINER NOT COVERED IN PREP AREA. INSTRUCTED MANAGER TO COVER ALL FOOD CONTAINERS TO PROTECT FROM CONTAMINATION. | 41. WIPING CLOTHS: PROPERLY USED & STORED - Comments: OBSERVED SOILED WIPING CLOTHS STORED ON PREP TABLES. INSTRUCTED MANAGER TO STORE WIPING CLOTHS IN SANITIZING SOLUTION BETWEEN USES. | 45. SINGLE-USE/SINGLE-SERVICE ARTICLES: PROPERLY STORED & USED - Comments: OBSERVED SINGLE SERVICE ARTICLES NOT INVERTED IN PREP ARA. INSTRUCTED MANAGER TO INVERT ALL SINGLE SERVICE ARTICLES TO PROTECT FROM CONTAMINATION. | 49. NON-FOOD/FOOD CONTACT SURFACES CLEAN - Comments: OBSERVED GREASE BUILDUP AND FOOD DEBRIS ON INTERIOR AND EXTERIOR SURFACES OF COOKING EQUIPMENT, PREP TABLES, SHELVING UNITS, COOLERS, AND FREEZERS. INSTRUCTED MANAGER TO CLEAN AND MAINTAIN. | 55. PHYSICAL FACILITIES INSTALLED, MAINTAINED & CLEAN - Comments: OBSERVED DAMAGED AND MISSING BASEBOARDS ALONG WALLS IN PREP AND STORAGE AREAS. INSTRUCTED MANAGER TO REPLACE AND MAINTAIN. | 58. ALLERGEN TRAINING AS REQUIRED - Comments: OBSERVED NO ALLERGEN TRAINING FOR CERTIFIED MANAGER ON DUTY. ALL CERTIFIED MANAGERS MUST PROVIDE ALLERGEN TRAINING.   \n",
       "1                                                                                                                                                                                                                                                                                                                                                                                                                                                                                                                                                                                                                                                                                                                                                                                                                                                                                                                                                                                                                                                                                                                                                                                                                                                                                                                                                                                                                                                                                                                                                                                                                                                                                                                                                                                                                                                                                                                                                                                                                                                                                                                                                                                                                                                                                                                                                                                                                                                                                                                                                                                                                                                                                                                                                                                                                                                                                                                                                                                                                                                                                                                                                                                                                                                                                                                                                                                                                                                                                                                                                                49. NON-FOOD/FOOD CONTACT SURFACES CLEAN - Comments: INSTRUCTED TO CLEAN AND MAINTAIN CONDENSER FAN COVER WITH DUST ACCUMULATION INSIDE REAR WALK-IN COOLER. | 55. PHYSICAL FACILITIES INSTALLED, MAINTAINED & CLEAN - Comments: OBSERVED WALL NEXT TO MOPSINK IN POOR REPAIR IN REAR PREP (DISHWASHING AREA). INSTRUCTED TO FIX.   \n",
       "2                                                                                                                                                                                                                                                                                                                                                                                                                                                                                                                                                                                                                                                                                                                                                                                                                                                                                                                                                                                                                                                                                                                                                                                                                                                                                                                                                                                                                                                                                                                                                                                                                                                                                                                                                                                                                                                                                                                                                                                                                                                                                                                                                                                                                                                                                                                                                                                                                                                                                                                                                                                                                                                                                                                                                                                                                                                                                                                                                                                                                                                                                                                                                                            49. NON-FOOD/FOOD CONTACT SURFACES CLEAN - Comments: OBSERVED GREASE BUILDUP, FOOD DEBRIS AND SPILLS ON INTERIOR AND EXTERIOR SURFACES OF FRYERS, PREP TABLES, HOLDING UNITS, SHELVING UNITS, COOKING EQUIPMENT, COOLERS, FREEZERS. INSTRUCTED MANAGER TO CLEAN AND MAINTAIN. | 55. PHYSICAL FACILITIES INSTALLED, MAINTAINED & CLEAN - Comments: OBSERVED OPENINGS ALONG BASEBOARDS AND MISSING BASEBOARDS ALONG WALLS IN PREP AND STORAGE AREAS. INSTRUCTED MANAGER TO REPLACE AND MAINTAIN. | 55. PHYSICAL FACILITIES INSTALLED, MAINTAINED & CLEAN - Comments: OBSERVED DEBRIS ON FLOORS UNDER ALL EQUIPMENT, ALONG WALLS AND IN ALL CORNERS IN PREP AND STORAGE AREAS. INSTRUCTED MANAGER TO CLEAN AND MAINTAIN.   \n",
       "3                                                                                                                                                                                                                                                                                                                                                                                                                                                                                                                                                                                                                                                                                                                                                                                                                                                                                                                                                                                                                                                                                                                                                                                                                                                                                                                                                                                                                                                                                                                                                                                                                                                                                                                                                                                                                                                                                                                                                                                                                                                                                                                                                                                                                                                                                                                                                                                                                                                                                                                                                                                                                                                                                                                                                                                                                                                                                                                                                                                                                                                                                                                                                                                                                                                                                                                                                                                                                                                                                                                                                                                                                                                                                                                                                                                                                                                                                              NaN   \n",
       "4                                                                                                                                                                                                                                                                                                                                                                                                                                                                                                                                                                                                                                                                                                                                                                                                                                                                                                                                                                                                                                                                                                                                                                                                                                                                                                                                                                                                                                                                                                                                                                                                                                                                                                                                                                                                                                                                                                                                                                                                                                                                                                                                                                                                                                                      10. ADEQUATE HANDWASHING SINKS PROPERLY SUPPLIED AND ACCESSIBLE - Comments: OBSERVED HOT RUNNING WATER TEMPERATURE AT HAND SINKS IN KITCHEN - 87.8F.GIRL'S TOILET ROOM - 87.1F-87.4F.BOY'S TOILET ROOM-85.8F.FRONT STAFF TOILET ROOM-86.0F.BOTH TEACHERS SINKS IN GREEN CLASSROOM- 88.2F.MUST HAVE HOT RUNNING WATER AT 100.0F. MUST REPAIR AND MAINTAIN.(PRIORITY 7-38-030(C)(CITATION ISSUED) | 38. INSECTS, RODENTS, & ANIMALS NOT PRESENT - Comments: OBSERVED A GAP ALONG LEFT SIDE OF REAR DOOR MUST MAKE TIGHT FITTING. | 47. FOOD & NON-FOOD CONTACT SURFACES CLEANABLE, PROPERLY DESIGNED, CONSTRUCTED & USED - Comments: MUST ELIMINATE CRATES USED FOR FOOD STORAGE IN REAR STORAGE AREA AND PROVIDE ADEQUATE SHELVING UNITS. | 48. WAREWASHING FACILITIES: INSTALLED, MAINTAINED & USED; TEST STRIPS - Comments: OBSERVED NO CHEMICAL TEST KIT TO CHECK SANITIZING SOLUTION PPM'S AT 3- COMPARTMENT SINK. MUST PROVIDE AND MAINTAIN.(PRIORITY FOUNDATION 7-38-005)(CITATION ISSUED) | 51. PLUMBING INSTALLED; PROPER BACKFLOW DEVICES - Comments: MUST REPAIR OR REPLACE LOW WATER PRESSURE AT ALL SINKS THROUGHOUT PREMISES. | 55. PHYSICAL FACILITIES INSTALLED, MAINTAINED & CLEAN - Comments: MUST REPAIR OR REPLACE DAMAGED WALL AT COTS FOR GREEN ROOM AND STAINED CEILING TILES IN BLUE ROOM. | 55. PHYSICAL FACILITIES INSTALLED, MAINTAINED & CLEAN - Comments: MUST SCRAPE AND PAINT CHIPPING PAINT ON WALLS AND WINDOW SILLS IN BLUE ROOM,RED ROOM-NEAR DOLL BED AND AT ENTRY KNEE WALL. | 55. PHYSICAL FACILITIES INSTALLED, MAINTAINED & CLEAN - Comments: MUST PROVIDE A HOOKING SYSTEM FOR WET MOPS IN MOP SINK.   \n",
       "5                                                                                                                                                                                                                                                                                                                                                                                                                                                                                                                                                                                                                                                                                                                                                                                                                                                                                                                                                                                                                                                                                                                                                                                                                                                                                                                                                                                                                                                                                                                                                                                                                                                                                                                                                                                                                                                                                                                                                                                                                                                                                                                                                                                                                                                                                                                                                                                                                                                                                                                                                                                                                                                                                                                                                                                                                                                                                                                                                                                                                                                                                                                                                                                                                                                                                                                                                                                                                                                                                                                                                                                                                                                                                                                                                                                                                                                                                              NaN   \n",
       "6                                                                                                                                                                                                                                                                                                                                                                                                                                                                                                                                                                                                                                                                                                                                                                                                                                                                                                                                                                                                                                                                                                                                                                                                                                                                                                                                                                                                                                                                                                                                                                                                                                                                                                                                                                                                                                                                                                                                                                                                                                                                                                                                                                                                                                                                                                                                                                                                                                                                                                                                                                                                                                                                                                                                                                                                                                                                                                                                                                                                                                                                                                                                                                                                                                                                                                                                                                                                                                                                                                                                                                                                                                                                                                                                                                                                                                                                                              NaN   \n",
       "7                                                                                                                                                                                                                                                                                                                                                                                                                                                                                                                                                                                                                                                                                                                                                                                                                                                                                                                                                                                                                                                                                                                                                                                                                                                                                                                                                                                                                                                                                                                                                                                                                                                                                                                                                                                                                                                                                                                                                                                                                                                                                                                                                                                                                                                                                                                                                                                                                                                                                                                                                                                                                                                                                                                                                                                                                                                                                                                                                                                                                                                                                                                                                                                                                                                                                                                                                                  10. ADEQUATE HANDWASHING SINKS PROPERLY SUPPLIED AND ACCESSIBLE - Comments: OBSERVED ONE THE HAND SINK IN THE GIRLS 1st FLOOR WASHROOM NEAR THE KITCHEN WITH LOW PRESSURE AND THE TIMER ON SINK MUST STAY ON FOR AT LEASE 20 SECONDS. ALSO IN THE SAME AREA BOYS WASHROOM SINKS DONT STAY ON FOR 20 SECONDS. MUST MAKE AJUSTMENTS FOR PROPER HAND WASHING. | 55. PHYSICAL FACILITIES INSTALLED, MAINTAINED & CLEAN - Comments: FLOORS NEED CLEANING ALONG THE WALL BASE AND IN CORNERS IN THE TEACHERS LOUNGE TO REMOVE DEBRIS.   \n",
       "8                                                                                                                                                                                                                                                                                                                                                                                                                                                                                                                                                                                                                                                                                                                                                                                                                                                                                                                                                                                                                                                                                                                                                                                                                                                                                                                                                                                                                                                                                                                                                                                                                                                                                                                                                                                                                                                                                                                                                                                                                                                                                                                                                                                                                                                                                                                                                                                                            3. MANAGEMENT, FOOD EMPLOYEE AND CONDITIONAL EMPLOYEE; KNOWLEDGE, RESPONSIBILITIES AND REPORTING - Comments:  OBSERVED NO EMPLOYEE HEALTH POLICY ON SITE. INSTRUCTED TO PROVIDE AN EMPLOYEE HEALTH POLICY THAT INCLUDES A SIGNED ACKOWLEDGEMENT FROM EACH EMPLOYEE. PRIORITY FOUNDATION VIOLATION 7-38-010, NO CITATION ISSUED. | 5. PROCEDURES FOR RESPONDING TO VOMITING AND DIARRHEAL EVENTS - Comments: OBSERVED NO PROCEDURE ON PLACE FOR RESPONDING TO VOMITING AND DIARRHEAL EVENTS.INSTRUCTED TO PROVIDE PROCEDURE AND NECESSARY SUPPLIES EFFECTIVE AGAINST NOROVIRUS. PRIORITY FOUNDATION VIOLATION. 7-38-005, NO CITATION ISSUED. | 39. CONTAMINATION PREVENTED DURING FOOD PREPARATION, STORAGE & DISPLAY - Comments: MISSING SPLASHGUARD IN BETWEEN HAND WASHING SINK AND FRONT PREP TABLE. INSTRUCTED TO PROVIDE AND MAINTAIN. | 48. WAREWASHING FACILITIES: INSTALLED, MAINTAINED & USED; TEST STRIPS - Comments: MUST PROVIDE DRAIN BOARD ABOVE 3-COMPARTMENT SINK TO DRAIN AND AIR DRY UTENSILS. | 51. PLUMBING INSTALLED; PROPER BACKFLOW DEVICES - Comments: OBSERVED NO BACKFLOW PREVENTION DEVICE FOR COFFEE EXPRESSO MACHINE LOCATED AT FRONT COFFEE STATION. INSTRUCTED TO PROVIDE A BACKFLOW PREVENTOR DEVICE. MUST B E LOCATED SO THAT CAN BE SERVICE AND MAINTAINED. | 55. PHYSICAL FACILITIES INSTALLED, MAINTAINED & CLEAN - Comments: OBSERVED UNUSED UPRIGHT 2-DOOR REFRIGERATOR IN REAR FOOD STORAGE AREA. MUST REPAIR COOLER OR REMOVED FROM PREMISES.   \n",
       "9  3. MANAGEMENT, FOOD EMPLOYEE AND CONDITIONAL EMPLOYEE; KNOWLEDGE, RESPONSIBILITIES AND REPORTING - Comments: OBSERVED NO SIGNED EMPLOYEES HEALTH POLICIES MUST PROVIDE AND MAINTAIN.(PRIORITY FOUNDATION 7-38-010) | 10. ADEQUATE HANDWASHING SINKS PROPERLY SUPPLIED AND ACCESSIBLE - Comments: OBSERVED HOT RUNNING WATER TEMPERATURE AT HAND SINKS IN TOILET ROOMS OF PRE-K 113 AT 74.1F AND PRE-K 115- AT 71.4F MUST HAVE HOT RUNNING WATER AT 100.0F. MUST REPAIR AND MAINTAIN.(PRIORITY 7-38-030(C) | 10. ADEQUATE HANDWASHING SINKS PROPERLY SUPPLIED AND ACCESSIBLE - Comments: OBSERVED NO HAND DRYING DEVICE AT HAND SINK IN 1ST FL. BOY'S MAIN BUILDING MUST PROVIDE AND MAINTAIN.(PRIORITY FOUNDATION 7-38-030(C) | 10. ADEQUATE HANDWASHING SINKS PROPERLY SUPPLIED AND ACCESSIBLE - Comments: OBSERVED NO HAND WASHING SIGNS IN SERVING LINE,PRIMARY BUILDING -1ST FL. BOY'S & 2ND FL. GIRL'S.MAIN BUILDING- 2ND FL. STAFF MUST PROVIDE AND MAINTAIN. | 10. ADEQUATE HANDWASHING SINKS PROPERLY SUPPLIED AND ACCESSIBLE - Comments: MUST ADJUST PRE-K 113-LOW HOT WATER PRESSURE AT TALL HAND SINK IN CLASSROOM,PRIMARY BUILDING-1ST FL. BOY'S LOW HOT WATER PRESSURE .MUST ADJUST FAUCET HANDLES TO STAY ON LONGER FOR HAND WASHING MAIN BUILDING-1ST FL. BOY'S,2ND FL. (HOT) GIRL'S,3RD FL. GIRL'S MIDDLE SINK(HOT) AND (COLD) LAST SINK.PRIMARY 2ND FL. STAFF (COLD)MUST REPAIR AND MAINTAIN. | 36. THERMOMETERS PROVIDED & ACCURATE - Comments: MUST PROVIDE A THERMOMETER FOR PRE-K ROOM 113 & 115 REFRIGERATORS. | 38. INSECTS, RODENTS, & ANIMALS NOT PRESENT - Comments: OBSERVED EVIDENCE OF APPX. 100 OR MORE MICE DROPPINGS IN KITCHEN-ON FLOOR NEXT TO WALK IN COOLER,ON FLOOR BEHIND ICE MACHINE,ON FLOOR NEXT TO FILE CABINET,ON LOWER SHELF OF 1- COMPARTMENT SINK.DRY FOOD STORAGE AREA-ON FLOOR NEXT TO SAFE AND SCATTERED ON FLOOR UNDERNEATH SHELVING UNITS.CHEMICAL/PAPER GOODS-ON FLOOR UNDERNEATH SHELVING UNITS.SERVING LINE-AT HOT HOLDING UNIT AND STORAGE SHELF.LUNCHROOM-ON WOOD CRATE PACKAGING OF SCOREBOARD.PRE-K ROOM 113 CLOSET BEHIND DOOR.PRE-K 115-ON FLOOR BEHIND MUSIC CABINET,ON TOP OF RADIATOR COVER,ON FLOOR IN LIBRARY AREA,UNDERNEATH WATER FOUNTAIN.MUST REMOVE DROPPINGS CLEAN AND SANITIZE AREAS. RECOMMENDED TO HAVE A PEST CONTROL OPERATOR TO SERVICE PREMISES ON OR AFTER 1/12/24.(PRIORITY FOUNDATION 7-38-020(A) | 39. CONTAMINATION PREVENTED DURING FOOD PREPARATION, STORAGE & DISPLAY - Comments: MUST PROVIDE A SPLASH GUARD BETWEEN HAND SINK AND 3- COMPARTMENT SINK DRAINBOARD. | 47. FOOD & NON-FOOD CONTACT SURFACES CLEANABLE, PROPERLY DESIGNED, CONSTRUCTED & USED - Comments: MUST ELIMINATE CRATES USED FOR FOOD STORAGE IN WALK IN FREEZER AND DRY FOOD STORAGE AREA AND PROVIDE ADEQUATE SHELVING UNITS. | 49. NON-FOOD/FOOD CONTACT SURFACES CLEAN - Comments: MUST CLEAN BUILD UP ON INTERIOR PANEL OF ICE MACHINE. | 53. TOILET FACILITIES: PROPERLY CONSTRUCTED, SUPPLIED, & CLEANED - Comments: OBSERVED NO COVERED RECEPTACLE IN KITCHEN STAFF TOILET ROOM,PRIMARY BUILDING- 2ND FL. STAFF.MAIN BUILDING - 2ND FL. GIRL'S MUST PROVIDE AND MAINTAIN. | 55. PHYSICAL FACILITIES INSTALLED, MAINTAINED & CLEAN - Comments: MUST REPAIR OR REPLACE DAMAGED AND MISSING FLOOR TILES IN DRY FOOD STORAGE AREA,KITCHEN STAFF BREAKROOM,KITCHEN-UNDERNEATH STEAMER,IN BETWEEN OVENS AND WHERE NEEDED,LUNCHROOM.PRE-K 113.STAINED CEILING TILES IN -DRY FOOD STORAGE AREA,KITCHEN,CHEMICAL/PAPER STORAGE AREA.LOOSE AND DAMAGED WALL BASES IN LUNCH ROOM. | 55. PHYSICAL FACILITIES INSTALLED, MAINTAINED & CLEAN - Comments: MUST SCRAPE AND PAINT CHIPPING PAINT ON WALLS IN LUNCHROOM. | 55. PHYSICAL FACILITIES INSTALLED, MAINTAINED & CLEAN - Comments: MUST ELEVATE,REMOVE AND ORGANIZE ARTICLES OFF OF FLOOR AND AWAY FROM WALLS IN LUNCH ROOM,PRE-K 113 CLOSET AND CLASSROOM AND PRE-K 115 CLASSROOM.   \n",
       "\n",
       "             latitude           longitude  \\\n",
       "0   41.70112036721256  -87.55972431384708   \n",
       "1  41.975119077312534  -87.65512202484139   \n",
       "2   41.70648742697794  -87.55949850858342   \n",
       "3  41.975119077312534  -87.65512202484139   \n",
       "4  41.739343208088016  -87.66300791918849   \n",
       "5   41.82779592823685  -87.62475128513913   \n",
       "6   41.89890432084078  -87.66722318342336   \n",
       "7    41.8277051679405  -87.60847172435795   \n",
       "8   41.92361620972698  -87.64599112233753   \n",
       "9   41.75421962168018  -87.67096452829065   \n",
       "\n",
       "                                                                     location  \\\n",
       "0   {'type': 'Point', 'coordinates': [-87.55972431384708, 41.70112036721256]}   \n",
       "1  {'type': 'Point', 'coordinates': [-87.65512202484139, 41.975119077312534]}   \n",
       "2   {'type': 'Point', 'coordinates': [-87.55949850858342, 41.70648742697794]}   \n",
       "3  {'type': 'Point', 'coordinates': [-87.65512202484139, 41.975119077312534]}   \n",
       "4  {'type': 'Point', 'coordinates': [-87.66300791918849, 41.739343208088016]}   \n",
       "5   {'type': 'Point', 'coordinates': [-87.62475128513913, 41.82779592823685]}   \n",
       "6   {'type': 'Point', 'coordinates': [-87.66722318342336, 41.89890432084078]}   \n",
       "7    {'type': 'Point', 'coordinates': [-87.60847172435795, 41.8277051679405]}   \n",
       "8   {'type': 'Point', 'coordinates': [-87.64599112233753, 41.92361620972698]}   \n",
       "9   {'type': 'Point', 'coordinates': [-87.67096452829065, 41.75421962168018]}   \n",
       "\n",
       "  :@computed_region_awaf_s7ux :@computed_region_6mkv_f3dw  \\\n",
       "0                          47                       21202   \n",
       "1                          37                       22616   \n",
       "2                          47                       21202   \n",
       "3                          37                       22616   \n",
       "4                          18                       21554   \n",
       "5                          12                        4301   \n",
       "6                          41                       21560   \n",
       "7                           1                        4301   \n",
       "8                          51                       21190   \n",
       "9                           6                       21554   \n",
       "\n",
       "  :@computed_region_vrxf_vc4k :@computed_region_bdys_3d7i  \\\n",
       "0                          48                         174   \n",
       "1                          31                         634   \n",
       "2                          48                         527   \n",
       "3                          31                         634   \n",
       "4                          70                         531   \n",
       "5                           1                         446   \n",
       "6                          25                         484   \n",
       "7                           2                         221   \n",
       "8                          68                         798   \n",
       "9                          70                         573   \n",
       "\n",
       "  :@computed_region_43wa_7qmu  \n",
       "0                          47  \n",
       "1                          16  \n",
       "2                          47  \n",
       "3                          16  \n",
       "4                          13  \n",
       "5                           9  \n",
       "6                          41  \n",
       "7                          10  \n",
       "8                          34  \n",
       "9                          31  \n",
       "\n",
       "[10 rows x 22 columns]"
      ]
     },
     "execution_count": 10,
     "metadata": {},
     "output_type": "execute_result"
    }
   ],
   "source": [
    "# Check the data\n",
    "df.head(10)"
   ]
  },
  {
   "cell_type": "markdown",
   "id": "6cd61d2940b62b97",
   "metadata": {},
   "source": [
    "## Clean the data"
   ]
  },
  {
   "cell_type": "code",
   "execution_count": 11,
   "id": "fa0be21a815e1ee8",
   "metadata": {
    "ExecuteTime": {
     "end_time": "2024-01-18T00:23:54.404348Z",
     "start_time": "2024-01-18T00:23:53.824220Z"
    }
   },
   "outputs": [],
   "source": [
    "# Select only the records corresponding to failed inspection (see \"results\" column)\n",
    "failed_records = df[df['results'] == 'Fail']\n",
    "\n",
    "# Clean the data, making sure that there are no NaNs in \"violations\" column\n",
    "df_cleaned = failed_records.dropna(subset=['violations'])"
   ]
  },
  {
   "cell_type": "code",
   "execution_count": 12,
   "id": "e3228853b5446a98",
   "metadata": {
    "ExecuteTime": {
     "end_time": "2024-01-18T00:23:59.806142Z",
     "start_time": "2024-01-18T00:23:55.237980Z"
    }
   },
   "outputs": [],
   "source": [
    "# Regular expression to match the description and optionally comments\n",
    "pattern = r'\\d+\\.\\s(.*?)(?:\\s+-\\sComments:\\s([^|]*)|(?=\\s*\\||$))'\n",
    "\n",
    "# Function to extract descriptions and optionally comments\n",
    "def extract_descriptions_comments(violation_text):\n",
    "    # Split the text by \"|\" and then apply the regex to each part\n",
    "    parts = violation_text.split('|')\n",
    "    descriptions = []\n",
    "    comments = []\n",
    "\n",
    "    for part in parts:\n",
    "        match = re.search(pattern, part)\n",
    "        if match:\n",
    "            # Append description\n",
    "            descriptions.append(match.group(1).strip())\n",
    "            # Append comment if available, else an empty string\n",
    "            comments.append(match.group(2).strip() if match.group(2) else '')\n",
    "        else:\n",
    "            # Append empty strings if no match is found\n",
    "            descriptions.append('')\n",
    "            comments.append('')\n",
    "\n",
    "    return descriptions, comments\n",
    "\n",
    "# Apply the function to the 'violations' column\n",
    "df_cleaned['description_only'], df_cleaned['comment_only'] = zip(*df_cleaned['violations'].apply(extract_descriptions_comments))"
   ]
  },
  {
   "cell_type": "markdown",
   "id": "25a435c7067209a5",
   "metadata": {},
   "source": [
    "## Tokenize"
   ]
  },
  {
   "cell_type": "code",
   "execution_count": 13,
   "id": "2aa37c15a7f6c5a3",
   "metadata": {
    "ExecuteTime": {
     "end_time": "2024-01-18T00:31:34.350506Z",
     "start_time": "2024-01-18T00:29:01.369140Z"
    }
   },
   "outputs": [],
   "source": [
    "# Function to tokenize and clean text\n",
    "def tokenize(text):\n",
    "    # Tokenize\n",
    "    tokens = word_tokenize(str(text))\n",
    "    return tokens\n",
    "\n",
    "# Tokenize the text in each column\n",
    "df_cleaned['description_tokens'] = df_cleaned['description_only'].apply(tokenize)\n",
    "df_cleaned['comment_tokens'] = df_cleaned['comment_only'].apply(tokenize)\n",
    "\n",
    "# Use FreqDist to count the frequencies of tokens in each column\n",
    "description_freqdist = FreqDist(token for sublist in df_cleaned['description_tokens'] for token in sublist)\n",
    "comment_freqdist = FreqDist(token for sublist in df_cleaned['comment_tokens'] for token in sublist)\n",
    "\n",
    "# Get the top-10 tokens for each column\n",
    "top_10_description_tokens = description_freqdist.most_common(10)\n",
    "top_10_comment_tokens = comment_freqdist.most_common(10)"
   ]
  },
  {
   "cell_type": "code",
   "execution_count": 25,
   "id": "d0670f08d6a69ad0",
   "metadata": {
    "ExecuteTime": {
     "end_time": "2024-01-18T01:07:17.222239Z",
     "start_time": "2024-01-18T01:07:17.174538Z"
    }
   },
   "outputs": [
    {
     "name": "stdout",
     "output_type": "stream",
     "text": [
      "Top 10 Description Tokens without Cleaned:\n",
      "[(',', 645379), (\"'\", 325939), ('AND', 172958), (':', 128991), ('MAINTAINED', 89337), ('&', 80654), ('PROPERLY', 74635), ('INSTALLED', 69338), ('CLEAN', 68773), ('CONSTRUCTED', 68327)]\n",
      "Top 10 Comment Tokens without Cleaned:\n",
      "[('.', 739319), (',', 629361), ('AND', 376141), (\"'\", 331200), ('THE', 275244), ('IN', 251371), ('TO', 240637), ('OF', 162783), ('ON', 143698), ('AT', 131119)]\n"
     ]
    }
   ],
   "source": [
    "print(\"Top 10 Description Tokens without Cleaned:\")\n",
    "print(top_10_description_tokens)\n",
    "print(\"Top 10 Comment Tokens without Cleaned:\")\n",
    "print(top_10_comment_tokens)"
   ]
  },
  {
   "cell_type": "code",
   "execution_count": 15,
   "id": "889e02f37556430b",
   "metadata": {
    "ExecuteTime": {
     "end_time": "2024-01-18T00:36:47.200691Z",
     "start_time": "2024-01-18T00:33:43.270992Z"
    }
   },
   "outputs": [],
   "source": [
    "# Function to tokenize and clean text\n",
    "def tokenize_and_clean(text):\n",
    "    # Convert to lowercase\n",
    "    text = str(text).lower()\n",
    "    # Tokenize\n",
    "    tokens = word_tokenize(text)\n",
    "    # Remove punctuation and stopwords\n",
    "    stop_words = set(stopwords.words('english'))\n",
    "    tokens = [token for token in tokens if token.isalpha() and token not in stop_words]\n",
    "    return tokens\n",
    "\n",
    "# Tokenize the text in each column\n",
    "df_cleaned['description_tokens'] = df_cleaned['description_only'].apply(tokenize_and_clean)\n",
    "df_cleaned['comment_tokens'] = df_cleaned['comment_only'].apply(tokenize_and_clean)\n",
    "\n",
    "# Use FreqDist to count the frequencies of tokens in each column\n",
    "description_freqdist = FreqDist(token for sublist in df_cleaned['description_tokens'] for token in sublist)\n",
    "comment_freqdist = FreqDist(token for sublist in df_cleaned['comment_tokens'] for token in sublist)\n",
    "\n",
    "# Get the top-10 tokens for each column\n",
    "top_10_description_tokens_cleaned = description_freqdist.most_common(10)\n",
    "top_10_comment_tokens_cleaned = comment_freqdist.most_common(10)"
   ]
  },
  {
   "cell_type": "code",
   "execution_count": 26,
   "id": "453a6e36ff9cd395",
   "metadata": {
    "ExecuteTime": {
     "end_time": "2024-01-18T01:07:42.806435Z",
     "start_time": "2024-01-18T01:07:42.730591Z"
    }
   },
   "outputs": [
    {
     "name": "stdout",
     "output_type": "stream",
     "text": [
      "Top 10 Description Cleaned Tokens:\n",
      "[('maintained', 89337), ('properly', 74635), ('installed', 69338), ('clean', 68773), ('constructed', 68327), ('equipment', 64932), ('surfaces', 51531), ('cleaning', 48295), ('contact', 47996), ('used', 42744)]\n",
      "Top 10 Comment Cleaned Tokens:\n",
      "[('food', 134449), ('instructed', 129593), ('must', 127309), ('clean', 108960), ('area', 106147), ('maintain', 90528), ('prep', 85377), ('sink', 85083), ('provide', 74724), ('violation', 70062)]\n"
     ]
    }
   ],
   "source": [
    "print(\"Top 10 Description Cleaned Tokens:\")\n",
    "print(top_10_description_tokens_cleaned)\n",
    "print(\"Top 10 Comment Cleaned Tokens:\")\n",
    "print(top_10_comment_tokens_cleaned)"
   ]
  },
  {
   "cell_type": "markdown",
   "id": "c027d2ba97c288ce",
   "metadata": {},
   "source": [
    "## Porter Stemmer"
   ]
  },
  {
   "cell_type": "code",
   "execution_count": 18,
   "id": "d415f78fb677b980",
   "metadata": {
    "ExecuteTime": {
     "end_time": "2024-01-18T00:46:02.557205Z",
     "start_time": "2024-01-18T00:39:20.582132Z"
    }
   },
   "outputs": [],
   "source": [
    "# Initialize the Porter stemmer\n",
    "stemmer = PorterStemmer()\n",
    "\n",
    "# Function to tokenize, clean, and stem text\n",
    "def tokenize_clean_stem(text):\n",
    "    # Convert to lowercase\n",
    "    text = str(text).lower()\n",
    "    # Tokenize\n",
    "    tokens = word_tokenize(text)\n",
    "    # Remove punctuation, stopwords, and non-alphabetic tokens, then apply stemming\n",
    "    stop_words = set(stopwords.words('english'))\n",
    "    stemmed_tokens = [stemmer.stem(token) for token in tokens if token.isalpha() and token not in stop_words]\n",
    "    return stemmed_tokens\n",
    "\n",
    "# Tokenize, clean, and stem the text in each column\n",
    "df_cleaned['description_tokens_stemmed'] = df_cleaned['description_only'].apply(tokenize_clean_stem)\n",
    "df_cleaned['comment_tokens_stemmed'] = df_cleaned['comment_only'].apply(tokenize_clean_stem)\n",
    "\n",
    "# Use FreqDist to count the frequencies of stemmed tokens in each column\n",
    "description_freqdist = FreqDist(token for sublist in df_cleaned['description_tokens_stemmed'] for token in sublist)\n",
    "comment_freqdist = FreqDist(token for sublist in df_cleaned['comment_tokens_stemmed'] for token in sublist)\n",
    "\n",
    "# Get the top-10 tokens for each stemmed column\n",
    "top_10_description_tokens_porter = description_freqdist.most_common(10)\n",
    "top_10_comment_tokens_porter = comment_freqdist.most_common(10)"
   ]
  },
  {
   "cell_type": "code",
   "execution_count": 27,
   "id": "d62cb7f2c0376fa5",
   "metadata": {
    "ExecuteTime": {
     "end_time": "2024-01-18T01:08:05.664028Z",
     "start_time": "2024-01-18T01:08:05.642953Z"
    }
   },
   "outputs": [
    {
     "name": "stdout",
     "output_type": "stream",
     "text": [
      "Top 10 Description Tokens with Porter Stemmer:\n",
      "[('clean', 144332), ('maintain', 92886), ('properli', 74635), ('instal', 69338), ('construct', 68327), ('equip', 64932), ('surfac', 51531), ('contact', 47996), ('use', 42870), ('method', 41369)]\n",
      "Top 10 Comment Tokens with Porter Stemmer:\n",
      "[('food', 160180), ('area', 145349), ('clean', 135984), ('instruct', 129789), ('must', 127314), ('sink', 101887), ('maintain', 101456), ('floor', 90488), ('provid', 87198), ('prep', 85980)]\n"
     ]
    }
   ],
   "source": [
    "print(\"Top 10 Description Tokens with Porter Stemmer:\")\n",
    "print(top_10_description_tokens_porter)\n",
    "print(\"Top 10 Comment Tokens with Porter Stemmer:\")\n",
    "print(top_10_comment_tokens_porter)"
   ]
  },
  {
   "cell_type": "markdown",
   "id": "db462cef594c1724",
   "metadata": {},
   "source": [
    "## Lancaster Stemmer"
   ]
  },
  {
   "cell_type": "code",
   "execution_count": 20,
   "id": "d52f635d00c1f31a",
   "metadata": {
    "ExecuteTime": {
     "end_time": "2024-01-18T00:55:45.529649Z",
     "start_time": "2024-01-18T00:48:56.591706Z"
    }
   },
   "outputs": [],
   "source": [
    "# Create an instance of the LancasterStemmer\n",
    "lancaster = LancasterStemmer()\n",
    "\n",
    "# Function to tokenize, clean, and stem text\n",
    "def tokenize_clean_stem(text):\n",
    "    # Convert to lowercase\n",
    "    text = str(text).lower()\n",
    "    # Tokenize\n",
    "    tokens = word_tokenize(text)\n",
    "    # Remove punctuation, stopwords, and non-alphabetic tokens, then apply stemming\n",
    "    stop_words = set(stopwords.words('english'))\n",
    "    stemmed_tokens = [lancaster.stem(token) for token in tokens if token.isalpha() and token not in stop_words]\n",
    "    return stemmed_tokens\n",
    "\n",
    "# Tokenize, clean, and stem the text in each column\n",
    "df_cleaned['description_tokens_stemmed'] = df_cleaned['description_only'].apply(tokenize_clean_stem)\n",
    "df_cleaned['comment_tokens_stemmed'] = df_cleaned['comment_only'].apply(tokenize_clean_stem)\n",
    "\n",
    "# Use FreqDist to count the frequencies of stemmed tokens in each column\n",
    "description_stem_freqdist = FreqDist(token for sublist in df_cleaned['description_tokens_stemmed'] for token in sublist)\n",
    "comment_stem_freqdist = FreqDist(token for sublist in df_cleaned['comment_tokens_stemmed'] for token in sublist)\n",
    "\n",
    "# Get the top-10 tokens for each stemmed column\n",
    "top_10_description_tokens_lancaster = description_stem_freqdist.most_common(10)\n",
    "top_10_comment_tokens_lancaster = comment_stem_freqdist.most_common(10)"
   ]
  },
  {
   "cell_type": "code",
   "execution_count": 22,
   "id": "63726a6efcdb6c2",
   "metadata": {
    "ExecuteTime": {
     "end_time": "2024-01-18T00:56:14.537859Z",
     "start_time": "2024-01-18T00:56:14.517070Z"
    }
   },
   "outputs": [
    {
     "name": "stdout",
     "output_type": "stream",
     "text": [
      "Top 10 Description Tokens with Lancaster Stemmer:\n",
      "[('cle', 153847), ('maintain', 92886), ('prop', 86631), ('instal', 69338), ('construct', 68327), ('equip', 64932), ('surfac', 51531), ('contact', 47996), ('us', 42870), ('method', 41369)]\n",
      "Top 10 Comment Tokens with Lancaster Stemmer:\n",
      "[('food', 160181), ('cle', 148703), ('instruct', 129823), ('must', 127315), ('are', 106147), ('prep', 103772), ('sink', 101889), ('maintain', 101470), ('stor', 99479), ('flo', 91607)]\n"
     ]
    }
   ],
   "source": [
    "print(\"Top 10 Description Tokens with Lancaster Stemmer:\")\n",
    "print(top_10_description_tokens_lancaster)\n",
    "print(\"Top 10 Comment Tokens with Lancaster Stemmer:\")\n",
    "print(top_10_comment_tokens_lancaster)"
   ]
  },
  {
   "cell_type": "markdown",
   "id": "a1cdb7abb96aa600",
   "metadata": {},
   "source": [
    "## lemmatization"
   ]
  },
  {
   "cell_type": "code",
   "execution_count": 23,
   "id": "e53ba681ab3ba685",
   "metadata": {
    "ExecuteTime": {
     "end_time": "2024-01-18T01:00:12.360843Z",
     "start_time": "2024-01-18T00:56:16.234246Z"
    }
   },
   "outputs": [],
   "source": [
    "# Create an instance of the lemmatization\n",
    "wnl = nltk.WordNetLemmatizer()\n",
    "\n",
    "# Function to tokenize, clean, and lemma text\n",
    "def tokenize_clean_stem(text):\n",
    "    # Convert to lowercase\n",
    "    text = str(text).lower()\n",
    "    # Tokenize\n",
    "    tokens = word_tokenize(text)\n",
    "    # Remove punctuation, stopwords, and non-alphabetic tokens, then apply stemming\n",
    "    stop_words = set(stopwords.words('english'))\n",
    "    stemmed_tokens = [wnl.lemmatize(token) for token in tokens if token.isalpha() and token not in stop_words]\n",
    "    return stemmed_tokens\n",
    "\n",
    "# Tokenize, clean, and stem the text in each column\n",
    "df_cleaned['description_tokens_lem'] = df_cleaned['description_only'].apply(tokenize_clean_stem)\n",
    "df_cleaned['comment_tokens_lem'] = df_cleaned['comment_only'].apply(tokenize_clean_stem)\n",
    "\n",
    "# Use FreqDist to count the frequencies of stemmed tokens in each column\n",
    "description_lem_freqdist = FreqDist(token for sublist in df_cleaned['description_tokens_lem'] for token in sublist)\n",
    "comment_lem_freqdist = FreqDist(token for sublist in df_cleaned['comment_tokens_lem'] for token in sublist)\n",
    "\n",
    "# Get the top-10 tokens for each lemmed column\n",
    "top_10_description_tokens_lemma = description_lem_freqdist.most_common(10)\n",
    "top_10_comment_stemmed_lemma = comment_lem_freqdist.most_common(10)"
   ]
  },
  {
   "cell_type": "code",
   "execution_count": 24,
   "id": "b261277277316983",
   "metadata": {
    "ExecuteTime": {
     "end_time": "2024-01-18T01:00:54.890713Z",
     "start_time": "2024-01-18T01:00:54.841555Z"
    }
   },
   "outputs": [
    {
     "name": "stdout",
     "output_type": "stream",
     "text": [
      "Top 10 Description Tokens with lemmatization:\n",
      "[('maintained', 89337), ('properly', 74635), ('installed', 69338), ('clean', 68773), ('constructed', 68327), ('equipment', 64932), ('surface', 51531), ('cleaning', 48295), ('contact', 47996), ('used', 42744)]\n",
      "Top 10 Comment Tokens with lemmatization:\n",
      "[('food', 160179), ('area', 145350), ('instructed', 129593), ('must', 127313), ('clean', 108967), ('sink', 101886), ('maintain', 90528), ('floor', 90116), ('prep', 85390), ('violation', 78397)]\n"
     ]
    }
   ],
   "source": [
    "print(\"Top 10 Description Tokens with lemmatization:\")\n",
    "print(top_10_description_tokens_lemma)\n",
    "print(\"Top 10 Comment Tokens with lemmatization:\")\n",
    "print(top_10_comment_stemmed_lemma)"
   ]
  },
  {
   "cell_type": "markdown",
   "id": "6e6c1e3159edfa4e",
   "metadata": {
    "ExecuteTime": {
     "end_time": "2024-01-18T00:00:17.619142Z",
     "start_time": "2024-01-18T00:00:17.600970Z"
    }
   },
   "source": [
    "## Compare top-10 tokens & Describe the Mmost comprehensive view of violations / comments and why"
   ]
  },
  {
   "cell_type": "markdown",
   "id": "fd061b65b57db6a0",
   "metadata": {},
   "source": [
    "### Top 10 Description Tokens without Cleaned:\n",
    "* Contains common English words and punctuation marks.\n",
    "* Words like 'MAINTAINED', 'PROPERLY', 'INSTALLED', 'CLEAN', and 'CONSTRUCTED' indicate a focus on maintenance, proper installation, cleanliness, and construction of facilities or equipment."
   ]
  },
  {
   "cell_type": "markdown",
   "id": "2d01df52fa3f82f7",
   "metadata": {},
   "source": [
    "### Top 10 Comment Tokens without Cleaned:\n",
    "* Similar to descriptions, but with more focus on actions and locations, as indicated by words like 'THE', 'IN', 'TO', 'OF', 'ON', 'AT'.\n",
    "* These tokens suggest comments are more detailed about specific actions or locations related to the violations."
   ]
  },
  {
   "cell_type": "markdown",
   "id": "840a469071ee6950",
   "metadata": {},
   "source": [
    "### Top 10 Description Cleaned Tokens:\n",
    "\n",
    "* More meaningful as stopwords and punctuation are removed.\n",
    "* 'maintained', 'properly', 'installed', 'clean', 'constructed', 'equipment', 'surfaces' suggest a strong emphasis on the physical state and maintenance of equipment and facilities."
   ]
  },
  {
   "cell_type": "markdown",
   "id": "b8cc2b1f6ad83a",
   "metadata": {},
   "source": [
    "### Top 10 Comment Cleaned Tokens:\n",
    "\n",
    "* Tokens like 'food', 'instructed', 'must', 'clean', 'area', 'maintain', 'prep', 'sink', 'provide' suggest comments are often directives or observations related to food handling, cleanliness, and equipment maintenance."
   ]
  },
  {
   "cell_type": "markdown",
   "id": "af955f0c42b1e543",
   "metadata": {},
   "source": [
    "### Top 10 Tokens with Porter Stemming:\n",
    "\n",
    "* Stemming reduces words to their base forms, like 'properli' for 'properly', 'instal' for 'install'.\n",
    "* Focus remains similar to the cleaned tokens but provides a condensed version of words. For example, 'clean', 'maintain' are common in both descriptions and comments, emphasizing maintenance and cleanliness."
   ]
  },
  {
   "cell_type": "markdown",
   "id": "bf5c87389bb794f6",
   "metadata": {},
   "source": [
    "### Top 10 Tokens with Lancaster Stemming:\n",
    "\n",
    "* More aggressive stemming than Porter, resulting in even more condensed forms like 'cle' for 'clean', 'prop' for 'properly'.\n",
    "* Despite the aggressive stemming, the focus on maintenance and cleanliness remains evident."
   ]
  },
  {
   "cell_type": "markdown",
   "id": "583057e3e1a683c9",
   "metadata": {},
   "source": [
    "### Top 10 Tokens with Lemmatization:\n",
    "* Lemmatization provides a more readable form than stemming, showing 'maintained', 'properly', 'installed', 'clean', 'constructed'.\n",
    "* Indicates a focus similar to the cleaned tokens, emphasizing the proper maintenance and condition of facilities and equipment."
   ]
  },
  {
   "cell_type": "markdown",
   "id": "1dfb98804977ca7f",
   "metadata": {},
   "source": [
    "### Comprehensive View:\n",
    "* The top tokens across different methods consistently highlight themes of maintenance, cleanliness, and proper installation or construction, both in descriptions and comments. However, the cleaned and lemmatized tokens provide a more precise and readable insight. The cleaned tokens remove unnecessary elements (like punctuation and stopwords), and the lemmatized tokens preserve the original form of words, which makes them more interpretable.\n",
    "\n",
    "* The comments, specifically in the cleaned and lemmatized tokens, suggest a focus on directives and observations related to food handling, cleanliness, and the condition of equipment and facilities. This indicates that comments often include specific instructions or details about the nature of the violation, emphasizing corrective actions or areas of concern.\n",
    "\n",
    "* In conclusion, the most comprehensive view is provided by the cleaned and lemmatized tokens, as they maintain the balance between readability and meaningful representation of the data, highlighting the central themes of maintenance, cleanliness, and proper handling in the context of the violations and comments."
   ]
  },
  {
   "cell_type": "markdown",
   "id": "38d51169ac52ed4b",
   "metadata": {},
   "source": [
    "## Lemmatization Tokens over Time"
   ]
  },
  {
   "cell_type": "code",
   "execution_count": 30,
   "id": "4fd64dbf75dc80e6",
   "metadata": {
    "ExecuteTime": {
     "end_time": "2024-01-18T01:27:24.353152Z",
     "start_time": "2024-01-18T01:27:22.258409Z"
    }
   },
   "outputs": [
    {
     "data": {
      "text/html": [
       "<div>\n",
       "<style scoped>\n",
       "    .dataframe tbody tr th:only-of-type {\n",
       "        vertical-align: middle;\n",
       "    }\n",
       "\n",
       "    .dataframe tbody tr th {\n",
       "        vertical-align: top;\n",
       "    }\n",
       "\n",
       "    .dataframe thead th {\n",
       "        text-align: right;\n",
       "    }\n",
       "</style>\n",
       "<table border=\"1\" class=\"dataframe\">\n",
       "  <thead>\n",
       "    <tr style=\"text-align: right;\">\n",
       "      <th></th>\n",
       "      <th>maintained</th>\n",
       "      <th>properly</th>\n",
       "      <th>installed</th>\n",
       "      <th>clean</th>\n",
       "      <th>constructed</th>\n",
       "      <th>equipment</th>\n",
       "      <th>surface</th>\n",
       "      <th>cleaning</th>\n",
       "      <th>contact</th>\n",
       "      <th>used</th>\n",
       "    </tr>\n",
       "  </thead>\n",
       "  <tbody>\n",
       "    <tr>\n",
       "      <th>2010</th>\n",
       "      <td>7510</td>\n",
       "      <td>4597</td>\n",
       "      <td>4791</td>\n",
       "      <td>5068</td>\n",
       "      <td>6776</td>\n",
       "      <td>7727</td>\n",
       "      <td>4109</td>\n",
       "      <td>6016</td>\n",
       "      <td>3781</td>\n",
       "      <td>2364</td>\n",
       "    </tr>\n",
       "    <tr>\n",
       "      <th>2011</th>\n",
       "      <td>8316</td>\n",
       "      <td>5154</td>\n",
       "      <td>5335</td>\n",
       "      <td>5304</td>\n",
       "      <td>7333</td>\n",
       "      <td>8228</td>\n",
       "      <td>4378</td>\n",
       "      <td>6387</td>\n",
       "      <td>4135</td>\n",
       "      <td>2555</td>\n",
       "    </tr>\n",
       "    <tr>\n",
       "      <th>2012</th>\n",
       "      <td>7199</td>\n",
       "      <td>4525</td>\n",
       "      <td>4511</td>\n",
       "      <td>4656</td>\n",
       "      <td>6206</td>\n",
       "      <td>6967</td>\n",
       "      <td>3588</td>\n",
       "      <td>5493</td>\n",
       "      <td>3472</td>\n",
       "      <td>2211</td>\n",
       "    </tr>\n",
       "    <tr>\n",
       "      <th>2013</th>\n",
       "      <td>6575</td>\n",
       "      <td>4087</td>\n",
       "      <td>4142</td>\n",
       "      <td>4107</td>\n",
       "      <td>5550</td>\n",
       "      <td>6163</td>\n",
       "      <td>3152</td>\n",
       "      <td>4805</td>\n",
       "      <td>3149</td>\n",
       "      <td>2020</td>\n",
       "    </tr>\n",
       "    <tr>\n",
       "      <th>2014</th>\n",
       "      <td>7245</td>\n",
       "      <td>4614</td>\n",
       "      <td>4417</td>\n",
       "      <td>4726</td>\n",
       "      <td>6186</td>\n",
       "      <td>7029</td>\n",
       "      <td>3647</td>\n",
       "      <td>5404</td>\n",
       "      <td>3607</td>\n",
       "      <td>2207</td>\n",
       "    </tr>\n",
       "    <tr>\n",
       "      <th>2015</th>\n",
       "      <td>7182</td>\n",
       "      <td>4503</td>\n",
       "      <td>4297</td>\n",
       "      <td>4887</td>\n",
       "      <td>6270</td>\n",
       "      <td>6982</td>\n",
       "      <td>3831</td>\n",
       "      <td>5313</td>\n",
       "      <td>3754</td>\n",
       "      <td>2139</td>\n",
       "    </tr>\n",
       "    <tr>\n",
       "      <th>2016</th>\n",
       "      <td>7970</td>\n",
       "      <td>5056</td>\n",
       "      <td>4841</td>\n",
       "      <td>5726</td>\n",
       "      <td>7178</td>\n",
       "      <td>7991</td>\n",
       "      <td>4390</td>\n",
       "      <td>6160</td>\n",
       "      <td>4389</td>\n",
       "      <td>2494</td>\n",
       "    </tr>\n",
       "    <tr>\n",
       "      <th>2017</th>\n",
       "      <td>7736</td>\n",
       "      <td>4943</td>\n",
       "      <td>4614</td>\n",
       "      <td>5183</td>\n",
       "      <td>6846</td>\n",
       "      <td>7453</td>\n",
       "      <td>4145</td>\n",
       "      <td>5863</td>\n",
       "      <td>4105</td>\n",
       "      <td>2408</td>\n",
       "    </tr>\n",
       "    <tr>\n",
       "      <th>2018</th>\n",
       "      <td>5884</td>\n",
       "      <td>4974</td>\n",
       "      <td>4775</td>\n",
       "      <td>4724</td>\n",
       "      <td>4058</td>\n",
       "      <td>3960</td>\n",
       "      <td>3436</td>\n",
       "      <td>2854</td>\n",
       "      <td>3109</td>\n",
       "      <td>2950</td>\n",
       "    </tr>\n",
       "    <tr>\n",
       "      <th>2019</th>\n",
       "      <td>5562</td>\n",
       "      <td>7026</td>\n",
       "      <td>6601</td>\n",
       "      <td>5551</td>\n",
       "      <td>2490</td>\n",
       "      <td>556</td>\n",
       "      <td>3636</td>\n",
       "      <td>0</td>\n",
       "      <td>3105</td>\n",
       "      <td>4818</td>\n",
       "    </tr>\n",
       "    <tr>\n",
       "      <th>2020</th>\n",
       "      <td>4313</td>\n",
       "      <td>5668</td>\n",
       "      <td>5079</td>\n",
       "      <td>4241</td>\n",
       "      <td>2252</td>\n",
       "      <td>331</td>\n",
       "      <td>2740</td>\n",
       "      <td>0</td>\n",
       "      <td>2395</td>\n",
       "      <td>3677</td>\n",
       "    </tr>\n",
       "    <tr>\n",
       "      <th>2021</th>\n",
       "      <td>4033</td>\n",
       "      <td>5716</td>\n",
       "      <td>4818</td>\n",
       "      <td>4244</td>\n",
       "      <td>2225</td>\n",
       "      <td>446</td>\n",
       "      <td>2958</td>\n",
       "      <td>0</td>\n",
       "      <td>2622</td>\n",
       "      <td>3864</td>\n",
       "    </tr>\n",
       "    <tr>\n",
       "      <th>2022</th>\n",
       "      <td>4420</td>\n",
       "      <td>6250</td>\n",
       "      <td>5068</td>\n",
       "      <td>4751</td>\n",
       "      <td>2357</td>\n",
       "      <td>492</td>\n",
       "      <td>3478</td>\n",
       "      <td>0</td>\n",
       "      <td>2994</td>\n",
       "      <td>4144</td>\n",
       "    </tr>\n",
       "    <tr>\n",
       "      <th>2023</th>\n",
       "      <td>5288</td>\n",
       "      <td>7373</td>\n",
       "      <td>5930</td>\n",
       "      <td>5500</td>\n",
       "      <td>2543</td>\n",
       "      <td>599</td>\n",
       "      <td>3965</td>\n",
       "      <td>0</td>\n",
       "      <td>3315</td>\n",
       "      <td>4802</td>\n",
       "    </tr>\n",
       "    <tr>\n",
       "      <th>2024</th>\n",
       "      <td>104</td>\n",
       "      <td>149</td>\n",
       "      <td>119</td>\n",
       "      <td>105</td>\n",
       "      <td>57</td>\n",
       "      <td>8</td>\n",
       "      <td>78</td>\n",
       "      <td>0</td>\n",
       "      <td>64</td>\n",
       "      <td>91</td>\n",
       "    </tr>\n",
       "  </tbody>\n",
       "</table>\n",
       "</div>"
      ],
      "text/plain": [
       "      maintained  properly  installed  clean  constructed  equipment  surface  \\\n",
       "2010        7510      4597       4791   5068         6776       7727     4109   \n",
       "2011        8316      5154       5335   5304         7333       8228     4378   \n",
       "2012        7199      4525       4511   4656         6206       6967     3588   \n",
       "2013        6575      4087       4142   4107         5550       6163     3152   \n",
       "2014        7245      4614       4417   4726         6186       7029     3647   \n",
       "2015        7182      4503       4297   4887         6270       6982     3831   \n",
       "2016        7970      5056       4841   5726         7178       7991     4390   \n",
       "2017        7736      4943       4614   5183         6846       7453     4145   \n",
       "2018        5884      4974       4775   4724         4058       3960     3436   \n",
       "2019        5562      7026       6601   5551         2490        556     3636   \n",
       "2020        4313      5668       5079   4241         2252        331     2740   \n",
       "2021        4033      5716       4818   4244         2225        446     2958   \n",
       "2022        4420      6250       5068   4751         2357        492     3478   \n",
       "2023        5288      7373       5930   5500         2543        599     3965   \n",
       "2024         104       149        119    105           57          8       78   \n",
       "\n",
       "      cleaning  contact  used  \n",
       "2010      6016     3781  2364  \n",
       "2011      6387     4135  2555  \n",
       "2012      5493     3472  2211  \n",
       "2013      4805     3149  2020  \n",
       "2014      5404     3607  2207  \n",
       "2015      5313     3754  2139  \n",
       "2016      6160     4389  2494  \n",
       "2017      5863     4105  2408  \n",
       "2018      2854     3109  2950  \n",
       "2019         0     3105  4818  \n",
       "2020         0     2395  3677  \n",
       "2021         0     2622  3864  \n",
       "2022         0     2994  4144  \n",
       "2023         0     3315  4802  \n",
       "2024         0       64    91  "
      ]
     },
     "execution_count": 30,
     "metadata": {},
     "output_type": "execute_result"
    }
   ],
   "source": [
    "# Extract Year from 'inspection_time'\n",
    "df_cleaned['Year'] = pd.to_datetime(df_cleaned['inspection_date']).dt.year\n",
    "\n",
    "# top_10_tokens contains the top 10 tokens as a list of strings\n",
    "top_10_tokens = [token[0] for token in top_10_description_tokens_lemma]\n",
    "\n",
    "# Function to filter top 10 tokens\n",
    "def filter_top_10_tokens(tokens):\n",
    "    return [token for token in tokens if token in top_10_tokens]\n",
    "\n",
    "# Apply the filter function\n",
    "df_cleaned['filtered_description_tokens'] = df_cleaned['description_tokens_lem'].apply(filter_top_10_tokens)\n",
    "\n",
    "# Initialize a dictionary to store token frequencies by year\n",
    "token_freq_by_year = {token: [] for token in top_10_tokens}\n",
    "years = sorted(df_cleaned['Year'].unique())\n",
    "\n",
    "# Count occurrences of each token per year\n",
    "for year in years:\n",
    "    year_data = df_cleaned[df_cleaned['Year'] == year]\n",
    "    all_tokens = [token for sublist in year_data['filtered_description_tokens'] for token in sublist]\n",
    "    year_freq_dist = FreqDist(all_tokens)\n",
    "    \n",
    "    for token in top_10_tokens:\n",
    "        token_freq_by_year[token].append(year_freq_dist[token])\n",
    "\n",
    "# Convert the dictionary to a DataFrame\n",
    "top_tokens_over_time_df = pd.DataFrame(token_freq_by_year, index=years)\n",
    "\n",
    "top_tokens_over_time_df\n"
   ]
  },
  {
   "cell_type": "code",
   "execution_count": 31,
   "id": "e52ea19e6a8f6a9a",
   "metadata": {
    "ExecuteTime": {
     "end_time": "2024-01-18T01:28:37.655751Z",
     "start_time": "2024-01-18T01:28:36.068605Z"
    }
   },
   "outputs": [
    {
     "data": {
      "image/png": "[encoded data removed]",
      "text/plain": [
       "<Figure size 1000x600 with 1 Axes>"
      ]
     },
     "metadata": {},
     "output_type": "display_data"
    }
   ],
   "source": [
    "# Plotting\n",
    "plt.figure(figsize=(10, 6))\n",
    "for column in top_tokens_over_time_df.columns:\n",
    "    plt.plot(top_tokens_over_time_df.index, top_tokens_over_time_df[column], label=column)\n",
    "\n",
    "plt.title('Top 10 Description Tokens Frequency Over Time')\n",
    "plt.xlabel('Year')\n",
    "plt.ylabel('Frequency')\n",
    "plt.legend()\n",
    "plt.grid(True)\n",
    "plt.show()"
   ]
  },
  {
   "cell_type": "code",
   "execution_count": null,
   "id": "eeb928792c368f24",
   "metadata": {},
   "outputs": [],
   "source": []
  }
 ],
 "metadata": {
  "kernelspec": {
   "display_name": "Python 3 (ipykernel)",
   "language": "python",
   "name": "python3"
  },
  "language_info": {
   "codemirror_mode": {
    "name": "ipython",
    "version": 3
   },
   "file_extension": ".py",
   "mimetype": "text/x-python",
   "name": "python",
   "nbconvert_exporter": "python",
   "pygments_lexer": "ipython3",
   "version": "3.11.4"
  }
 },
 "nbformat": 4,
 "nbformat_minor": 5
}
