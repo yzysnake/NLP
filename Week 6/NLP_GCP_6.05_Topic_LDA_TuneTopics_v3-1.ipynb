{
 "cells": [
  {
   "cell_type": "markdown",
   "metadata": {},
   "source": [
    "## LDA with Hyperparameter Tuning\n",
    "\n",
    "**Tuning LDA:** https://towardsdatascience.com/evaluate-topic-model-in-python-latent-dirichlet-allocation-lda-7d57484bb5d0"
   ]
  },
  {
   "cell_type": "code",
   "execution_count": 1,
   "metadata": {},
   "outputs": [
    {
     "name": "stdout",
     "output_type": "stream",
     "text": [
      "3.7.12 | packaged by conda-forge | (default, Oct 26 2021, 06:08:53) \n",
      "[GCC 9.4.0]\n"
     ]
    }
   ],
   "source": [
    "import sys\n",
    "print(sys.version)"
   ]
  },
  {
   "cell_type": "code",
   "execution_count": 2,
   "metadata": {},
   "outputs": [],
   "source": [
    "#!pip install gensim --upgrade"
   ]
  },
  {
   "cell_type": "code",
   "execution_count": 3,
   "metadata": {},
   "outputs": [],
   "source": [
    "import os\n",
    "import time\n",
    "import math\n",
    "import re\n",
    "from pprint import pprint\n",
    "from textblob import TextBlob\n",
    "import pandas as pd\n",
    "import numpy as np\n",
    "\n",
    "import matplotlib.pyplot as plt\n",
    "\n",
    "\n",
    "import nltk as nltk\n",
    "from nltk.corpus import stopwords\n",
    "# from nltk.stem.wordnet import WordNetLemmatizer\n",
    "import spacy\n",
    "import multiprocessing\n",
    "import string\n",
    "\n",
    "\n",
    "import gensim\n",
    "from gensim import corpora, models\n",
    "from gensim.models.ldamulticore import LdaMulticore\n",
    "from gensim.utils import simple_preprocess\n",
    "from gensim.models import CoherenceModel\n",
    "\n",
    "# import pyLDAvis.gensim\n",
    "import pyLDAvis\n",
    "import pyLDAvis.gensim_models as gensimvis\n",
    "pyLDAvis.enable_notebook()"
   ]
  },
  {
   "cell_type": "code",
   "execution_count": 4,
   "metadata": {},
   "outputs": [],
   "source": [
    "import warnings\n",
    "\n",
    "# warnings.simplefilter('once')\n",
    "warnings.simplefilter('ignore')\n",
    "# warnings.filterwarnings(\"ignore\", category=FutureWarning)\n",
    "# warnings.filterwarnings(\"ignore\", category=DeprecationWarning)\n",
    "# warnings.filterwarnings(action='ignore', category=UserWarning, module='gensim')"
   ]
  },
  {
   "cell_type": "code",
   "execution_count": 5,
   "metadata": {},
   "outputs": [
    {
     "name": "stdout",
     "output_type": "stream",
     "text": [
      "Using 7 workers\n"
     ]
    }
   ],
   "source": [
    "num_processors = multiprocessing.cpu_count()\n",
    "num_processors\n",
    "\n",
    "workers = num_processors-1\n",
    "\n",
    "print(f'Using {workers} workers')"
   ]
  },
  {
   "cell_type": "markdown",
   "metadata": {},
   "source": [
    "#### Copy files to local FS from GCP bucket"
   ]
  },
  {
   "cell_type": "code",
   "execution_count": 6,
   "metadata": {},
   "outputs": [],
   "source": [
    "path_news = '/home/jupyter/data/news'\n",
    "path_tweets = '/home/jupyter/data/tweets'\n",
    "path_lda = '/home/jupyter/data/lda'\n",
    "\n",
    "if not os.path.isdir(path_news): os.mkdir(path_news)\n",
    "if not os.path.isdir(path_tweets): os.mkdir(path_tweets)\n",
    "if not os.path.isdir(path_lda): os.mkdir(path_lda)"
   ]
  },
  {
   "cell_type": "code",
   "execution_count": 7,
   "metadata": {},
   "outputs": [],
   "source": [
    "start_time = time.time()\n",
    "\n",
    "def tic():\n",
    "    global start_time \n",
    "    start_time = time.time()\n",
    "\n",
    "def tac():\n",
    "    t_sec = round(time.time() - start_time)\n",
    "    (t_min, t_sec) = divmod(t_sec,60)\n",
    "    (t_hour,t_min) = divmod(t_min,60) \n",
    "    print(f'Execution time to calculate for topic {k}: {t_hour}hour:{t_min}min:{t_sec}sec'.format(t_hour,t_min,t_sec))"
   ]
  },
  {
   "cell_type": "markdown",
   "metadata": {},
   "source": [
    "## Applying LDA to news articles"
   ]
  },
  {
   "cell_type": "code",
   "execution_count": 8,
   "metadata": {},
   "outputs": [
    {
     "data": {
      "text/plain": [
       "(100, 4)"
      ]
     },
     "execution_count": 8,
     "metadata": {},
     "output_type": "execute_result"
    }
   ],
   "source": [
    "news_path = 'https://storage.googleapis.com/msca-bdp-data-open/news/news_toyota.json'\n",
    "\n",
    "news_df = pd.read_json(news_path, orient='records', lines=True)\n",
    "news_df.shape"
   ]
  },
  {
   "cell_type": "code",
   "execution_count": 9,
   "metadata": {
    "scrolled": true
   },
   "outputs": [
    {
     "data": {
      "text/html": [
       "<div>\n",
       "<style scoped>\n",
       "    .dataframe tbody tr th:only-of-type {\n",
       "        vertical-align: middle;\n",
       "    }\n",
       "\n",
       "    .dataframe tbody tr th {\n",
       "        vertical-align: top;\n",
       "    }\n",
       "\n",
       "    .dataframe thead th {\n",
       "        text-align: right;\n",
       "    }\n",
       "</style>\n",
       "<table border=\"1\" class=\"dataframe\">\n",
       "  <thead>\n",
       "    <tr style=\"text-align: right;\">\n",
       "      <th></th>\n",
       "      <th>crawled</th>\n",
       "      <th>language</th>\n",
       "      <th>text</th>\n",
       "      <th>title</th>\n",
       "    </tr>\n",
       "  </thead>\n",
       "  <tbody>\n",
       "    <tr>\n",
       "      <th>0</th>\n",
       "      <td>2018-02-02T04:24:51.072+02:00</td>\n",
       "      <td>english</td>\n",
       "      <td>QR Code Link to This Post All maintenance rece...</td>\n",
       "      <td>Dependable truck 03 Toyota Tacoma Double Cab $...</td>\n",
       "    </tr>\n",
       "    <tr>\n",
       "      <th>1</th>\n",
       "      <td>2018-02-02T04:27:15.000+02:00</td>\n",
       "      <td>english</td>\n",
       "      <td>0 \\nNEW YORK: Automakers reported mixed US car...</td>\n",
       "      <td>US car sales mixed in January; trucks stay strong</td>\n",
       "    </tr>\n",
       "    <tr>\n",
       "      <th>2</th>\n",
       "      <td>2018-02-02T04:34:00.008+02:00</td>\n",
       "      <td>english</td>\n",
       "      <td>transmission: automatic   2005 Toyota Camry LE...</td>\n",
       "      <td>2005 TOYOTA CAMRY LE 167300 MILEAGE $2450 (TAL...</td>\n",
       "    </tr>\n",
       "    <tr>\n",
       "      <th>3</th>\n",
       "      <td>2018-02-02T04:36:42.006+02:00</td>\n",
       "      <td>english</td>\n",
       "      <td>favorite this post Brand New Toyota Avalon Flo...</td>\n",
       "      <td>Brand New Toyota Avalon Floor Mats (New Britai...</td>\n",
       "    </tr>\n",
       "    <tr>\n",
       "      <th>4</th>\n",
       "      <td>2018-02-02T04:38:24.018+02:00</td>\n",
       "      <td>english</td>\n",
       "      <td>more ads by this user QR Code Link to This Pos...</td>\n",
       "      <td>2016 Lexus ES 350 (Coliseum Lexus of Oakland) ...</td>\n",
       "    </tr>\n",
       "  </tbody>\n",
       "</table>\n",
       "</div>"
      ],
      "text/plain": [
       "                         crawled language  \\\n",
       "0  2018-02-02T04:24:51.072+02:00  english   \n",
       "1  2018-02-02T04:27:15.000+02:00  english   \n",
       "2  2018-02-02T04:34:00.008+02:00  english   \n",
       "3  2018-02-02T04:36:42.006+02:00  english   \n",
       "4  2018-02-02T04:38:24.018+02:00  english   \n",
       "\n",
       "                                                text  \\\n",
       "0  QR Code Link to This Post All maintenance rece...   \n",
       "1  0 \\nNEW YORK: Automakers reported mixed US car...   \n",
       "2  transmission: automatic   2005 Toyota Camry LE...   \n",
       "3  favorite this post Brand New Toyota Avalon Flo...   \n",
       "4  more ads by this user QR Code Link to This Pos...   \n",
       "\n",
       "                                               title  \n",
       "0  Dependable truck 03 Toyota Tacoma Double Cab $...  \n",
       "1  US car sales mixed in January; trucks stay strong  \n",
       "2  2005 TOYOTA CAMRY LE 167300 MILEAGE $2450 (TAL...  \n",
       "3  Brand New Toyota Avalon Floor Mats (New Britai...  \n",
       "4  2016 Lexus ES 350 (Coliseum Lexus of Oakland) ...  "
      ]
     },
     "execution_count": 9,
     "metadata": {},
     "output_type": "execute_result"
    }
   ],
   "source": [
    "news_df.head(5)"
   ]
  },
  {
   "cell_type": "markdown",
   "metadata": {},
   "source": [
    "## Clean text"
   ]
  },
  {
   "cell_type": "code",
   "execution_count": 10,
   "metadata": {},
   "outputs": [
    {
     "name": "stdout",
     "output_type": "stream",
     "text": [
      "CPU times: user 1.18 ms, sys: 0 ns, total: 1.18 ms\n",
      "Wall time: 1.04 ms\n"
     ]
    }
   ],
   "source": [
    "# Filter non-English articles\n",
    "%time news_eng = news_df[news_df['language']=='english'].reset_index(drop=True)"
   ]
  },
  {
   "cell_type": "markdown",
   "metadata": {},
   "source": [
    "#### Tokenize text into words and remove punctuation"
   ]
  },
  {
   "cell_type": "code",
   "execution_count": 11,
   "metadata": {},
   "outputs": [
    {
     "name": "stdout",
     "output_type": "stream",
     "text": [
      "CPU times: user 186 ms, sys: 863 µs, total: 187 ms\n",
      "Wall time: 203 ms\n"
     ]
    }
   ],
   "source": [
    "%%time\n",
    "\n",
    "def sent_to_words(sentences):\n",
    "    for sentence in sentences:\n",
    "        yield(gensim.utils.simple_preprocess(str(sentence), deacc=True))  # deacc=True removes punctuations\n",
    "        \n",
    "        \n",
    "data_list = news_eng['text'].tolist()        \n",
    "data_tokens = list(sent_to_words(data_list))"
   ]
  },
  {
   "cell_type": "markdown",
   "metadata": {},
   "source": [
    "#### Remove Stopwords, Make n-grams and Lemmatize"
   ]
  },
  {
   "cell_type": "code",
   "execution_count": 12,
   "metadata": {},
   "outputs": [
    {
     "name": "stdout",
     "output_type": "stream",
     "text": [
      "CPU times: user 343 ms, sys: 5.12 ms, total: 348 ms\n",
      "Wall time: 346 ms\n"
     ]
    }
   ],
   "source": [
    "%%time\n",
    "\n",
    "# bigram = gensim.models.Phrases(data_tokens, min_count=5, threshold=100)\n",
    "# trigram = gensim.models.Phrases(bigram[data_tokens], threshold=100)\n",
    "\n",
    "bigram = gensim.models.Phrases(data_tokens, min_count=1, threshold=1)\n",
    "trigram = gensim.models.Phrases(bigram[data_tokens], threshold=1)\n",
    "\n",
    "bigram_mod = gensim.models.phrases.Phraser(bigram)\n",
    "trigram_mod = gensim.models.phrases.Phraser(trigram)"
   ]
  },
  {
   "cell_type": "code",
   "execution_count": 13,
   "metadata": {},
   "outputs": [
    {
     "name": "stdout",
     "output_type": "stream",
     "text": [
      "CPU times: user 755 µs, sys: 3.83 ms, total: 4.59 ms\n",
      "Wall time: 3.07 ms\n"
     ]
    }
   ],
   "source": [
    "%%time\n",
    "\n",
    "stop_words = stopwords.words('english')\n",
    "\n",
    "# Define functions for stopwords, bigrams, trigrams and lemmatization\n",
    "def remove_stopwords(texts):\n",
    "    return [[word for word in simple_preprocess(str(doc)) if word not in stop_words] for doc in texts]\n",
    "\n",
    "def make_bigrams(texts):\n",
    "    return [bigram_mod[doc] for doc in texts]\n",
    "\n",
    "def make_trigrams(texts):\n",
    "    return [trigram_mod[bigram_mod[doc]] for doc in texts]\n",
    "\n",
    "def lemmatization(texts, allowed_postags=['NOUN', 'ADJ', 'VERB', 'ADV']):\n",
    "    \"\"\"https://spacy.io/api/annotation\"\"\"\n",
    "    texts_out = []\n",
    "    for sent in texts:\n",
    "        doc = nlp(\" \".join(sent)) \n",
    "        texts_out.append([token.lemma_ for token in doc if token.pos_ in allowed_postags])\n",
    "    return texts_out"
   ]
  },
  {
   "cell_type": "code",
   "execution_count": 14,
   "metadata": {},
   "outputs": [
    {
     "name": "stdout",
     "output_type": "stream",
     "text": [
      "['maintenance', 'receipt', 'available', 'one_owner', 'truck', 'cash', 'sale', 'trade']\n",
      "CPU times: user 3.81 s, sys: 72 ms, total: 3.88 s\n",
      "Wall time: 3.88 s\n"
     ]
    }
   ],
   "source": [
    "%%time\n",
    "\n",
    "# Remove Stop Words\n",
    "data_tokens_nostops = remove_stopwords(data_tokens)\n",
    "\n",
    "# Create n-grams\n",
    "data_words_bigrams = make_bigrams(data_tokens_nostops)\n",
    "data_words_trigrams = make_trigrams(data_tokens_nostops)\n",
    "\n",
    "# Combine tokens and n-grams\n",
    "# data_tokens_cobnined = data_tokens_nostops + data_words_bigrams + data_words_trigrams\n",
    "data_tokens_cobnined = data_words_trigrams\n",
    "\n",
    "# Initialize spacy 'en' model, keeping only tagger component (for efficiency)\n",
    "nlp = spacy.load(\"en_core_web_sm\", disable=['parser', 'ner'])\n",
    "\n",
    "# Lemmatize text keeping only noun, adj, vb, adv\n",
    "data_lemmatized = lemmatization(data_tokens_cobnined, allowed_postags=['NOUN', 'ADJ', 'VERB', 'ADV'])\n",
    "\n",
    "print(*data_lemmatized[:1])"
   ]
  },
  {
   "cell_type": "code",
   "execution_count": 15,
   "metadata": {},
   "outputs": [
    {
     "name": "stdout",
     "output_type": "stream",
     "text": [
      "CPU times: user 42.9 ms, sys: 741 µs, total: 43.6 ms\n",
      "Wall time: 41.4 ms\n"
     ]
    }
   ],
   "source": [
    "%%time\n",
    "\n",
    "# Creating the term dictionary of our courpus, where every unique term is assigned an index. \n",
    "dictionary = corpora.Dictionary(data_lemmatized)\n",
    "\n",
    "# Converting list of documents (corpus) into Document Term Matrix using dictionary prepared above.\n",
    "doc_term_matrix = [dictionary.doc2bow(doc) for doc in data_lemmatized]"
   ]
  },
  {
   "cell_type": "markdown",
   "metadata": {},
   "source": [
    "#### Build initial 3 topic model"
   ]
  },
  {
   "cell_type": "code",
   "execution_count": 16,
   "metadata": {},
   "outputs": [
    {
     "name": "stdout",
     "output_type": "stream",
     "text": [
      "CPU times: user 1.63 s, sys: 246 ms, total: 1.88 s\n",
      "Wall time: 1.93 s\n"
     ]
    }
   ],
   "source": [
    "%%time\n",
    "\n",
    "lda_model = LdaMulticore(corpus=doc_term_matrix,\n",
    "                   id2word=dictionary,\n",
    "                   num_topics=3,\n",
    "                   random_state=100,\n",
    "                   passes=10,\n",
    "                   alpha='symmetric',\n",
    "                   eta='auto',\n",
    "                   workers=workers)"
   ]
  },
  {
   "cell_type": "code",
   "execution_count": 17,
   "metadata": {},
   "outputs": [
    {
     "name": "stdout",
     "output_type": "stream",
     "text": [
      "[(0,\n",
      "  '0.007*\"company\" + 0.007*\"say\" + 0.006*\"percent\" + 0.005*\"year\" + '\n",
      "  '0.005*\"job\" + 0.005*\"see\" + 0.005*\"make\" + 0.004*\"per_cent\" + 0.004*\"state\" '\n",
      "  '+ 0.004*\"sale\"'),\n",
      " (1,\n",
      "  '0.009*\"car\" + 0.008*\"vehicle\" + 0.005*\"also\" + 0.005*\"say\" + 0.005*\"make\" + '\n",
      "  '0.005*\"include\" + 0.004*\"new\" + 0.004*\"year\" + 0.004*\"model\" + '\n",
      "  '0.004*\"contact\"'),\n",
      " (2,\n",
      "  '0.028*\"percent\" + 0.008*\"cent\" + 0.007*\"year\" + 0.007*\"rise\" + '\n",
      "  '0.007*\"per_barrel\" + 0.007*\"yen\" + 0.007*\"gain\" + 0.006*\"unit\" + '\n",
      "  '0.006*\"report\" + 0.006*\"growth\"')]\n"
     ]
    }
   ],
   "source": [
    "# Print the Keyword in the 3 topics\n",
    "pprint(lda_model.print_topics())\n",
    "doc_lda = lda_model[doc_term_matrix]"
   ]
  },
  {
   "cell_type": "markdown",
   "metadata": {},
   "source": [
    "#### Compute Coherence Score"
   ]
  },
  {
   "cell_type": "code",
   "execution_count": 18,
   "metadata": {},
   "outputs": [
    {
     "name": "stdout",
     "output_type": "stream",
     "text": [
      "\n",
      "Coherence Score:  0.466116080951055\n",
      "CPU times: user 222 ms, sys: 147 ms, total: 369 ms\n",
      "Wall time: 535 ms\n"
     ]
    }
   ],
   "source": [
    "%%time\n",
    "\n",
    "coherence_model_lda = CoherenceModel(model=lda_model, texts=data_lemmatized, dictionary=dictionary, coherence='c_v')\n",
    "coherence_lda = coherence_model_lda.get_coherence()\n",
    "print('\\nCoherence Score: ', coherence_lda)"
   ]
  },
  {
   "cell_type": "markdown",
   "metadata": {},
   "source": [
    "#### Tune LDA model"
   ]
  },
  {
   "cell_type": "code",
   "execution_count": 19,
   "metadata": {},
   "outputs": [],
   "source": [
    "# supporting function\n",
    "def compute_coherence_values(corpus, dictionary, k, a, b):\n",
    "    \n",
    "    lda_model = LdaMulticore(corpus=doc_term_matrix,\n",
    "                       id2word=dictionary,\n",
    "                       num_topics=k,\n",
    "                       random_state=100,                  \n",
    "                       passes=10,\n",
    "                       alpha=a,\n",
    "                       eta=b,\n",
    "                       workers=workers)\n",
    "    \n",
    "    coherence_model_lda = CoherenceModel(model=lda_model, texts=data_lemmatized, dictionary=dictionary, coherence='c_v')\n",
    "    \n",
    "    return coherence_model_lda.get_coherence()"
   ]
  },
  {
   "cell_type": "markdown",
   "metadata": {},
   "source": [
    "#### Hyperparameter Tuning:\n",
    "- Number of Topics (K)\n",
    "- Dirichlet hyperparameter alpha: Document-Topic Density\n",
    "- Dirichlet hyperparameter beta: Word-Topic Density"
   ]
  },
  {
   "cell_type": "code",
   "execution_count": 20,
   "metadata": {},
   "outputs": [
    {
     "name": "stdout",
     "output_type": "stream",
     "text": [
      "LDA will execute 19 iterations\n",
      "Completed model based on 2 LDA topics. Finished 5.3% of LDA runs\n",
      "Execution time to calculate for topic 2: 0hour:0min:2sec\n",
      "Completed model based on 3 LDA topics. Finished 10.5% of LDA runs\n",
      "Execution time to calculate for topic 3: 0hour:0min:2sec\n",
      "Completed model based on 4 LDA topics. Finished 15.8% of LDA runs\n",
      "Execution time to calculate for topic 4: 0hour:0min:2sec\n",
      "Completed model based on 5 LDA topics. Finished 21.1% of LDA runs\n",
      "Execution time to calculate for topic 5: 0hour:0min:2sec\n",
      "Completed model based on 6 LDA topics. Finished 26.3% of LDA runs\n",
      "Execution time to calculate for topic 6: 0hour:0min:2sec\n",
      "Completed model based on 7 LDA topics. Finished 31.6% of LDA runs\n",
      "Execution time to calculate for topic 7: 0hour:0min:3sec\n",
      "Completed model based on 8 LDA topics. Finished 36.8% of LDA runs\n",
      "Execution time to calculate for topic 8: 0hour:0min:3sec\n",
      "Completed model based on 9 LDA topics. Finished 42.1% of LDA runs\n",
      "Execution time to calculate for topic 9: 0hour:0min:3sec\n",
      "Completed model based on 10 LDA topics. Finished 47.4% of LDA runs\n",
      "Execution time to calculate for topic 10: 0hour:0min:3sec\n",
      "Completed model based on 11 LDA topics. Finished 52.6% of LDA runs\n",
      "Execution time to calculate for topic 11: 0hour:0min:3sec\n",
      "Completed model based on 12 LDA topics. Finished 57.9% of LDA runs\n",
      "Execution time to calculate for topic 12: 0hour:0min:3sec\n",
      "Completed model based on 13 LDA topics. Finished 63.2% of LDA runs\n",
      "Execution time to calculate for topic 13: 0hour:0min:3sec\n",
      "Completed model based on 14 LDA topics. Finished 68.4% of LDA runs\n",
      "Execution time to calculate for topic 14: 0hour:0min:3sec\n",
      "Completed model based on 15 LDA topics. Finished 73.7% of LDA runs\n",
      "Execution time to calculate for topic 15: 0hour:0min:3sec\n",
      "Completed model based on 16 LDA topics. Finished 78.9% of LDA runs\n",
      "Execution time to calculate for topic 16: 0hour:0min:3sec\n",
      "Completed model based on 17 LDA topics. Finished 84.2% of LDA runs\n",
      "Execution time to calculate for topic 17: 0hour:0min:3sec\n",
      "Completed model based on 18 LDA topics. Finished 89.5% of LDA runs\n",
      "Execution time to calculate for topic 18: 0hour:0min:3sec\n",
      "Completed model based on 19 LDA topics. Finished 94.7% of LDA runs\n",
      "Execution time to calculate for topic 19: 0hour:0min:4sec\n",
      "Completed model based on 20 LDA topics. Finished 100.0% of LDA runs\n",
      "Execution time to calculate for topic 20: 0hour:0min:4sec\n",
      "CPU times: user 42.8 s, sys: 6.93 s, total: 49.8 s\n",
      "Wall time: 55.3 s\n"
     ]
    }
   ],
   "source": [
    "%%time\n",
    "\n",
    "grid = {}\n",
    "grid['Validation_Set'] = {}\n",
    "# Topics range\n",
    "min_topics = 2\n",
    "max_topics = 20\n",
    "step_size = 1\n",
    "topics_range = range(min_topics, max_topics+1, step_size)\n",
    "\n",
    "# Alpha parameter\n",
    "# alpha = list(np.arange(0.01, 1, 0.3))\n",
    "# alpha.append('symmetric')\n",
    "# alpha.append('asymmetric')\n",
    "alpha = ['asymmetric'] # Run for number of topics only\n",
    "\n",
    "# Beta parameter\n",
    "# beta = list(np.arange(0.01, 1, 0.3))\n",
    "# beta.append('symmetric')\n",
    "beta = ['auto'] # Run for number of topics only\n",
    "\n",
    "\n",
    "# Validation sets\n",
    "num_of_docs = len(doc_term_matrix)\n",
    "corpus_sets = [# gensim.utils.ClippedCorpus(doc_term_matrix, num_of_docs*0.25), \n",
    "               # gensim.utils.ClippedCorpus(doc_term_matrix, num_of_docs*0.5), \n",
    "#                gensim.utils.ClippedCorpus(doc_term_matrix, num_of_docs*0.75), \n",
    "               doc_term_matrix]\n",
    "# corpus_title = ['75% Corpus', '100% Corpus']\n",
    "corpus_title = ['100% Corpus']\n",
    "model_results = {\n",
    "                 'Topics': [],\n",
    "                 'Alpha': [],\n",
    "                 'Beta': [],\n",
    "                 'Coherence': []\n",
    "                }\n",
    "\n",
    "itr = 0\n",
    "itr_total = len(beta)*len(alpha)*len(topics_range)*len(corpus_title)\n",
    "print(f'LDA will execute {itr_total} iterations')\n",
    "\n",
    "    \n",
    "# iterate through hyperparameters\n",
    "for i in range(len(corpus_sets)):\n",
    "    # iterate through number of topics\n",
    "    for k in topics_range:\n",
    "        # iterate through alpha values\n",
    "        tic()\n",
    "        for a in alpha:\n",
    "            # iterare through beta values\n",
    "            for b in beta:\n",
    "                # get the coherence score for the given parameters\n",
    "                itr += 1\n",
    "                cv = compute_coherence_values(corpus=corpus_sets[i], dictionary=dictionary, \n",
    "                                              k=k, a=a, b=b)\n",
    "                # Save the model results\n",
    "                model_results['Topics'].append(k)\n",
    "                model_results['Alpha'].append(a)\n",
    "                model_results['Beta'].append(b)\n",
    "                model_results['Coherence'].append(cv)\n",
    "                pct_completed = round((itr / itr_total * 100),1)\n",
    "#                 print(f'Completed Percent: {pct_completed}%, Corpus: {corpus_title[i]}, Topics: {k}, Alpha: {a}, Beta: {b}, Coherence: {cv}')\n",
    "        print(f'Completed model based on {k} LDA topics. Finished {pct_completed}% of LDA runs')\n",
    "        tac()\n",
    "                    \n",
    "lda_tuning = pd.DataFrame(model_results)\n",
    "lda_tuning.to_csv(os.path.join(path_lda, 'lda_tuning_results.csv'), index=False)"
   ]
  },
  {
   "cell_type": "code",
   "execution_count": 21,
   "metadata": {},
   "outputs": [],
   "source": [
    "lda_tuning = pd.read_csv(os.path.join(path_lda, 'lda_tuning_results.csv'))"
   ]
  },
  {
   "cell_type": "markdown",
   "metadata": {},
   "source": [
    "#### Coherence scores are extremely close for all models"
   ]
  },
  {
   "cell_type": "code",
   "execution_count": 22,
   "metadata": {},
   "outputs": [
    {
     "data": {
      "text/html": [
       "<div>\n",
       "<style scoped>\n",
       "    .dataframe tbody tr th:only-of-type {\n",
       "        vertical-align: middle;\n",
       "    }\n",
       "\n",
       "    .dataframe tbody tr th {\n",
       "        vertical-align: top;\n",
       "    }\n",
       "\n",
       "    .dataframe thead th {\n",
       "        text-align: right;\n",
       "    }\n",
       "</style>\n",
       "<table border=\"1\" class=\"dataframe\">\n",
       "  <thead>\n",
       "    <tr style=\"text-align: right;\">\n",
       "      <th></th>\n",
       "      <th>Topics</th>\n",
       "      <th>Alpha</th>\n",
       "      <th>Beta</th>\n",
       "      <th>Coherence</th>\n",
       "    </tr>\n",
       "  </thead>\n",
       "  <tbody>\n",
       "    <tr>\n",
       "      <th>0</th>\n",
       "      <td>2</td>\n",
       "      <td>asymmetric</td>\n",
       "      <td>auto</td>\n",
       "      <td>0.566302</td>\n",
       "    </tr>\n",
       "    <tr>\n",
       "      <th>1</th>\n",
       "      <td>3</td>\n",
       "      <td>asymmetric</td>\n",
       "      <td>auto</td>\n",
       "      <td>0.535703</td>\n",
       "    </tr>\n",
       "    <tr>\n",
       "      <th>2</th>\n",
       "      <td>4</td>\n",
       "      <td>asymmetric</td>\n",
       "      <td>auto</td>\n",
       "      <td>0.511686</td>\n",
       "    </tr>\n",
       "    <tr>\n",
       "      <th>12</th>\n",
       "      <td>14</td>\n",
       "      <td>asymmetric</td>\n",
       "      <td>auto</td>\n",
       "      <td>0.488498</td>\n",
       "    </tr>\n",
       "    <tr>\n",
       "      <th>10</th>\n",
       "      <td>12</td>\n",
       "      <td>asymmetric</td>\n",
       "      <td>auto</td>\n",
       "      <td>0.484938</td>\n",
       "    </tr>\n",
       "    <tr>\n",
       "      <th>17</th>\n",
       "      <td>19</td>\n",
       "      <td>asymmetric</td>\n",
       "      <td>auto</td>\n",
       "      <td>0.479144</td>\n",
       "    </tr>\n",
       "    <tr>\n",
       "      <th>6</th>\n",
       "      <td>8</td>\n",
       "      <td>asymmetric</td>\n",
       "      <td>auto</td>\n",
       "      <td>0.476321</td>\n",
       "    </tr>\n",
       "    <tr>\n",
       "      <th>14</th>\n",
       "      <td>16</td>\n",
       "      <td>asymmetric</td>\n",
       "      <td>auto</td>\n",
       "      <td>0.474955</td>\n",
       "    </tr>\n",
       "    <tr>\n",
       "      <th>3</th>\n",
       "      <td>5</td>\n",
       "      <td>asymmetric</td>\n",
       "      <td>auto</td>\n",
       "      <td>0.471551</td>\n",
       "    </tr>\n",
       "    <tr>\n",
       "      <th>16</th>\n",
       "      <td>18</td>\n",
       "      <td>asymmetric</td>\n",
       "      <td>auto</td>\n",
       "      <td>0.463996</td>\n",
       "    </tr>\n",
       "  </tbody>\n",
       "</table>\n",
       "</div>"
      ],
      "text/plain": [
       "    Topics       Alpha  Beta  Coherence\n",
       "0        2  asymmetric  auto   0.566302\n",
       "1        3  asymmetric  auto   0.535703\n",
       "2        4  asymmetric  auto   0.511686\n",
       "12      14  asymmetric  auto   0.488498\n",
       "10      12  asymmetric  auto   0.484938\n",
       "17      19  asymmetric  auto   0.479144\n",
       "6        8  asymmetric  auto   0.476321\n",
       "14      16  asymmetric  auto   0.474955\n",
       "3        5  asymmetric  auto   0.471551\n",
       "16      18  asymmetric  auto   0.463996"
      ]
     },
     "execution_count": 22,
     "metadata": {},
     "output_type": "execute_result"
    }
   ],
   "source": [
    "# Best LDA parameters\n",
    "lda_tuning.sort_values(by=['Coherence'], ascending=False).head(10)"
   ]
  },
  {
   "cell_type": "code",
   "execution_count": 23,
   "metadata": {},
   "outputs": [
    {
     "data": {
      "text/html": [
       "<div>\n",
       "<style scoped>\n",
       "    .dataframe tbody tr th:only-of-type {\n",
       "        vertical-align: middle;\n",
       "    }\n",
       "\n",
       "    .dataframe tbody tr th {\n",
       "        vertical-align: top;\n",
       "    }\n",
       "\n",
       "    .dataframe thead th {\n",
       "        text-align: right;\n",
       "    }\n",
       "</style>\n",
       "<table border=\"1\" class=\"dataframe\">\n",
       "  <thead>\n",
       "    <tr style=\"text-align: right;\">\n",
       "      <th></th>\n",
       "      <th>Topics</th>\n",
       "      <th>Alpha</th>\n",
       "      <th>Beta</th>\n",
       "      <th>Coherence</th>\n",
       "    </tr>\n",
       "  </thead>\n",
       "  <tbody>\n",
       "    <tr>\n",
       "      <th>5</th>\n",
       "      <td>7</td>\n",
       "      <td>asymmetric</td>\n",
       "      <td>auto</td>\n",
       "      <td>0.395257</td>\n",
       "    </tr>\n",
       "    <tr>\n",
       "      <th>9</th>\n",
       "      <td>11</td>\n",
       "      <td>asymmetric</td>\n",
       "      <td>auto</td>\n",
       "      <td>0.402453</td>\n",
       "    </tr>\n",
       "    <tr>\n",
       "      <th>11</th>\n",
       "      <td>13</td>\n",
       "      <td>asymmetric</td>\n",
       "      <td>auto</td>\n",
       "      <td>0.416051</td>\n",
       "    </tr>\n",
       "    <tr>\n",
       "      <th>18</th>\n",
       "      <td>20</td>\n",
       "      <td>asymmetric</td>\n",
       "      <td>auto</td>\n",
       "      <td>0.442641</td>\n",
       "    </tr>\n",
       "    <tr>\n",
       "      <th>8</th>\n",
       "      <td>10</td>\n",
       "      <td>asymmetric</td>\n",
       "      <td>auto</td>\n",
       "      <td>0.443701</td>\n",
       "    </tr>\n",
       "    <tr>\n",
       "      <th>7</th>\n",
       "      <td>9</td>\n",
       "      <td>asymmetric</td>\n",
       "      <td>auto</td>\n",
       "      <td>0.445376</td>\n",
       "    </tr>\n",
       "    <tr>\n",
       "      <th>4</th>\n",
       "      <td>6</td>\n",
       "      <td>asymmetric</td>\n",
       "      <td>auto</td>\n",
       "      <td>0.445981</td>\n",
       "    </tr>\n",
       "    <tr>\n",
       "      <th>13</th>\n",
       "      <td>15</td>\n",
       "      <td>asymmetric</td>\n",
       "      <td>auto</td>\n",
       "      <td>0.446784</td>\n",
       "    </tr>\n",
       "    <tr>\n",
       "      <th>15</th>\n",
       "      <td>17</td>\n",
       "      <td>asymmetric</td>\n",
       "      <td>auto</td>\n",
       "      <td>0.455121</td>\n",
       "    </tr>\n",
       "    <tr>\n",
       "      <th>16</th>\n",
       "      <td>18</td>\n",
       "      <td>asymmetric</td>\n",
       "      <td>auto</td>\n",
       "      <td>0.463996</td>\n",
       "    </tr>\n",
       "  </tbody>\n",
       "</table>\n",
       "</div>"
      ],
      "text/plain": [
       "    Topics       Alpha  Beta  Coherence\n",
       "5        7  asymmetric  auto   0.395257\n",
       "9       11  asymmetric  auto   0.402453\n",
       "11      13  asymmetric  auto   0.416051\n",
       "18      20  asymmetric  auto   0.442641\n",
       "8       10  asymmetric  auto   0.443701\n",
       "7        9  asymmetric  auto   0.445376\n",
       "4        6  asymmetric  auto   0.445981\n",
       "13      15  asymmetric  auto   0.446784\n",
       "15      17  asymmetric  auto   0.455121\n",
       "16      18  asymmetric  auto   0.463996"
      ]
     },
     "execution_count": 23,
     "metadata": {},
     "output_type": "execute_result"
    }
   ],
   "source": [
    "# Worst LDA parameters\n",
    "lda_tuning.sort_values(by=['Coherence']).head(10)"
   ]
  },
  {
   "cell_type": "code",
   "execution_count": 24,
   "metadata": {},
   "outputs": [
    {
     "data": {
      "text/plain": [
       "<AxesSubplot:xlabel='Topics', ylabel='Coherence'>"
      ]
     },
     "execution_count": 24,
     "metadata": {},
     "output_type": "execute_result"
    },
    {
     "data": {
      "image/png": "[encoded data removed]",
      "text/plain": [
       "<Figure size 432x288 with 1 Axes>"
      ]
     },
     "metadata": {
      "needs_background": "light"
     },
     "output_type": "display_data"
    }
   ],
   "source": [
    "lda_tuning.plot(x ='Topics', y='Coherence', kind = 'scatter', xticks=range(1,20))"
   ]
  },
  {
   "cell_type": "code",
   "execution_count": 25,
   "metadata": {},
   "outputs": [
    {
     "data": {
      "text/plain": [
       "<AxesSubplot:xlabel='Topics'>"
      ]
     },
     "execution_count": 25,
     "metadata": {},
     "output_type": "execute_result"
    },
    {
     "data": {
      "image/png": "[encoded data removed]",
      "text/plain": [
       "<Figure size 432x288 with 1 Axes>"
      ]
     },
     "metadata": {
      "needs_background": "light"
     },
     "output_type": "display_data"
    }
   ],
   "source": [
    "lda_tuning.plot(x ='Topics', y='Coherence', kind = 'line', xticks=range(1,20))"
   ]
  },
  {
   "cell_type": "markdown",
   "metadata": {},
   "source": [
    "#### Running best model"
   ]
  },
  {
   "cell_type": "code",
   "execution_count": 26,
   "metadata": {},
   "outputs": [
    {
     "name": "stdout",
     "output_type": "stream",
     "text": [
      "Best Parameters: Topics: 2, Alpha: asymmetric, Beta: auto\n"
     ]
    }
   ],
   "source": [
    "lda_tuning_best = lda_tuning.sort_values(by=['Coherence'], ascending=False).head(1)\n",
    "\n",
    "\n",
    "tuned_topics = int(lda_tuning_best['Topics'].to_string(index=False))\n",
    "\n",
    "\n",
    "# Since the values for Alpha and Beta can be float, symmetric and asymmetric, we will either strip or convert to float\n",
    "try:\n",
    "    tuned_alpha = float(lda_tuning_best['Alpha'].to_string(index=False))\n",
    "except:\n",
    "    tuned_alpha = lda_tuning_best['Alpha'].to_string(index=False).strip()\n",
    "    \n",
    "\n",
    "try:\n",
    "    tuned_beta = float(lda_tuning_best['Beta'].to_string(index=False))\n",
    "except:\n",
    "    tuned_beta = lda_tuning_best['Beta'].to_string(index=False).strip()    \n",
    "    \n",
    "print(f'Best Parameters: Topics: {tuned_topics}, Alpha: {tuned_alpha}, Beta: {tuned_beta}')"
   ]
  },
  {
   "cell_type": "code",
   "execution_count": 27,
   "metadata": {},
   "outputs": [
    {
     "name": "stdout",
     "output_type": "stream",
     "text": [
      "\n",
      "Coherence Score:  0.466116080951055\n",
      "CPU times: user 1.75 s, sys: 225 ms, total: 1.97 s\n",
      "Wall time: 2.01 s\n"
     ]
    }
   ],
   "source": [
    "%%time\n",
    "\n",
    "tuned_lda_model = LdaMulticore(corpus=doc_term_matrix,\n",
    "                       id2word=dictionary,\n",
    "                       num_topics=tuned_topics,\n",
    "                       random_state=100,\n",
    "                       passes=10,\n",
    "                       alpha=tuned_alpha,\n",
    "                       eta=tuned_beta,\n",
    "                       workers = workers)\n",
    "\n",
    "coherence_model_lda = CoherenceModel(model=tuned_lda_model, texts=data_lemmatized, dictionary=dictionary, coherence='c_v')\n",
    "print('\\nCoherence Score: ', coherence_lda)"
   ]
  },
  {
   "cell_type": "code",
   "execution_count": 28,
   "metadata": {},
   "outputs": [
    {
     "name": "stderr",
     "output_type": "stream",
     "text": [
      "/opt/conda/lib/python3.7/site-packages/past/builtins/misc.py:45: DeprecationWarning: the imp module is deprecated in favour of importlib; see the module's documentation for alternative uses\n",
      "  from imp import reload\n",
      "/opt/conda/lib/python3.7/site-packages/past/builtins/misc.py:45: DeprecationWarning: the imp module is deprecated in favour of importlib; see the module's documentation for alternative uses\n",
      "  from imp import reload\n",
      "/opt/conda/lib/python3.7/site-packages/past/builtins/misc.py:45: DeprecationWarning: the imp module is deprecated in favour of importlib; see the module's documentation for alternative uses\n",
      "  from imp import reload\n",
      "/opt/conda/lib/python3.7/site-packages/past/builtins/misc.py:45: DeprecationWarning: the imp module is deprecated in favour of importlib; see the module's documentation for alternative uses\n",
      "  from imp import reload\n",
      "/opt/conda/lib/python3.7/site-packages/past/builtins/misc.py:45: DeprecationWarning: the imp module is deprecated in favour of importlib; see the module's documentation for alternative uses\n",
      "  from imp import reload\n",
      "/opt/conda/lib/python3.7/site-packages/past/builtins/misc.py:45: DeprecationWarning: the imp module is deprecated in favour of importlib; see the module's documentation for alternative uses\n",
      "  from imp import reload\n",
      "/opt/conda/lib/python3.7/site-packages/past/builtins/misc.py:45: DeprecationWarning: the imp module is deprecated in favour of importlib; see the module's documentation for alternative uses\n",
      "  from imp import reload\n",
      "/opt/conda/lib/python3.7/site-packages/past/builtins/misc.py:45: DeprecationWarning: the imp module is deprecated in favour of importlib; see the module's documentation for alternative uses\n",
      "  from imp import reload\n"
     ]
    },
    {
     "name": "stdout",
     "output_type": "stream",
     "text": [
      "CPU times: user 276 ms, sys: 215 ms, total: 492 ms\n",
      "Wall time: 1.93 s\n"
     ]
    },
    {
     "data": {
      "text/html": [
       "\n",
       "<link rel=\"stylesheet\" type=\"text/css\" href=\"https://cdn.jsdelivr.net/gh/bmabey/pyLDAvis@3.3.1/pyLDAvis/js/ldavis.v1.0.0.css\">\n",
       "\n",
       "\n",
       "<div id=\"ldavis_el210771403096813558568959205077\"></div>\n",
       "<script type=\"text/javascript\">\n",
       "\n",
       "var ldavis_el210771403096813558568959205077_data = {\"mdsDat\": {\"x\": [-0.03309806888547811, 0.03309806888547811], \"y\": [0.10448228262538092, -0.10448228262538092], \"topics\": [1, 2], \"cluster\": [1, 1], \"Freq\": [48.84990817170938, 51.15009182829062]}, \"tinfo\": {\"Term\": [\"cent\", \"yen\", \"per_barrel\", \"rise\", \"unit\", \"vehicle\", \"latest_earning\", \"investors_evaluate\", \"asian_share\", \"worry\", \"yield\", \"year_treasury\", \"fuel\", \"company_earning\", \"interest_rate\", \"hover\", \"higher_rates_could_weigh\", \"risen_swiftly\", \"prospect\", \"stoking_investor\", \"stronger_economic\", \"note\", \"rising_bond\", \"plenty\", \"benchmark_crude\", \"price_international\", \"electronic_trade\", \"london_currencie\", \"sentiment_keepe\", \"plate\", \"yen\", \"per_barrel\", \"cent\", \"asian_share\", \"yield\", \"year_treasury\", \"investors_evaluate\", \"latest_earning\", \"company_earning\", \"interest_rate\", \"hover\", \"higher_rates_could_weigh\", \"risen_swiftly\", \"prospect\", \"stoking_investor\", \"stronger_economic\", \"plenty\", \"benchmark_crude\", \"price_international\", \"electronic_trade\", \"london_currencie\", \"sentiment_keepe\", \"latest_update\", \"energy_oil_futures_extende\", \"economy_yield\", \"plate\", \"digesting_full\", \"reported_quarterly\", \"past_billion\", \"profit_soare\", \"rise\", \"worry\", \"fuel\", \"note\", \"rising_bond\", \"concern\", \"percent\", \"gain\", \"per_cent\", \"report\", \"benchmark\", \"year\", \"new_york\", \"end\", \"car\", \"growth\", \"low\", \"go\", \"expect\", \"state\", \"build\", \"alabama\", \"hma\", \"unit\", \"workforce\", \"play\", \"think\", \"ball\", \"new_vehicle\", \"soul\", \"air_bag\", \"training\", \"canadian\", \"tour\", \"museum\", \"average\", \"education\", \"crash\", \"forecast\", \"mixed\", \"leader\", \"corolla\", \"trend\", \"promote\", \"industry\", \"industrial\", \"sedan\", \"pay\", \"government\", \"need\", \"sell\", \"vehicle\", \"challenge\", \"month\", \"prius\", \"target\", \"time\", \"back\", \"say\", \"job\", \"make\", \"continue\", \"number\", \"decline\", \"work\", \"sale\", \"also\", \"company\", \"see\", \"percent\", \"car\", \"year\", \"start\", \"model\", \"new\", \"market\", \"good\", \"high\", \"include\", \"low\"], \"Freq\": [43.0, 34.0, 34.0, 36.0, 39.0, 54.0, 25.0, 23.0, 23.0, 27.0, 22.0, 22.0, 24.0, 20.0, 20.0, 20.0, 20.0, 20.0, 20.0, 20.0, 20.0, 22.0, 28.0, 18.0, 18.0, 18.0, 18.0, 18.0, 18.0, 18.0, 33.552273117924095, 33.53789556851494, 42.607545007635494, 22.753253897284054, 21.982448939185723, 21.97558719123176, 23.48534906227543, 24.98830587000191, 19.674273785030895, 19.669571867083196, 19.66900792761992, 19.668959963696494, 19.667593718605048, 19.66516354648494, 19.664750766053054, 19.663557481776376, 18.1472637964338, 18.124698950641534, 18.12339520399576, 18.11888950209843, 18.117559593312606, 18.111386781713264, 17.353678881613913, 16.59909008998929, 17.353399818786723, 18.106828755535837, 18.102868098222864, 15.829501671403237, 15.829240050002747, 15.829006044194532, 35.13310008205422, 25.805282644930063, 23.544476952238412, 21.30403121831379, 25.908233572927355, 25.083210486481907, 101.65004174549725, 31.48644077394767, 31.860443100470484, 29.128720340348924, 20.460494057426992, 35.951117528775434, 20.513071238212145, 20.424432454273884, 26.79192671188493, 22.041476540945183, 22.080010466332922, 21.150128069118825, 20.389391174582688, 17.342028313493323, 14.911436662771104, 13.315766355920207, 10.895684881500149, 38.08767966925535, 10.085069651981826, 11.63094598209623, 11.595097088686801, 11.58290826708182, 9.234227049873459, 7.670660263730049, 9.19866427189189, 7.665404414633683, 7.660566324499804, 8.395966678083383, 8.385774576911132, 6.859268109073839, 6.858583258315662, 8.380485246222143, 6.852296328355595, 6.850529413399498, 6.8469225327397645, 6.846685878755549, 6.840958243581327, 6.837118513663814, 21.23608972448905, 6.815186548605832, 6.033503980784635, 7.532596633717381, 9.758735982874516, 15.699322456570812, 17.120967620097154, 49.07542523345083, 15.584520163032275, 25.45791462078611, 8.972318052533168, 8.913261849764972, 24.95229995925788, 13.304705255230358, 42.612969545953604, 18.7391801701261, 32.19940894497621, 15.510082973180706, 14.332526229321596, 12.484952594707377, 20.061865920986406, 33.71023233045125, 27.494490323860934, 29.850672178761908, 24.75933336585271, 69.98742531648352, 33.438060464027025, 36.7987966299281, 16.23672180273134, 16.84955365517865, 21.087772356735897, 18.837294933523715, 16.817396107355794, 15.59270489053778, 13.802841346479294, 14.107093144307111], \"Total\": [43.0, 34.0, 34.0, 36.0, 39.0, 54.0, 25.0, 23.0, 23.0, 27.0, 22.0, 22.0, 24.0, 20.0, 20.0, 20.0, 20.0, 20.0, 20.0, 20.0, 20.0, 22.0, 28.0, 18.0, 18.0, 18.0, 18.0, 18.0, 18.0, 18.0, 34.04775593563498, 34.04841476021241, 43.33804877341627, 23.21973504507211, 22.446287942260547, 22.446601623007226, 23.99494712970315, 25.54361197088923, 20.12572707190776, 20.125944617680556, 20.12596741459253, 20.125968198726547, 20.126031579592794, 20.12614182331288, 20.126164065789677, 20.126210599180702, 18.57816242922191, 18.579182939918738, 18.57923619651484, 18.579443599488023, 18.579499704983142, 18.579779804534564, 17.80573983086142, 17.031545997306964, 17.805748738266228, 18.579989100579336, 18.580170696494488, 16.258040993329423, 16.258059066880936, 16.258062380884063, 36.40095839334175, 27.1230668618432, 24.80027561238341, 22.476643910407823, 28.73543523377988, 27.964389611021783, 171.63746706198077, 38.1841236732466, 43.82719804238605, 38.29158898500146, 22.515017416037782, 72.74991415870353, 24.129758580330012, 25.750915916421164, 60.22998717591196, 32.95450412647824, 36.18710361064004, 34.612295732559865, 28.178262766736424, 17.768720327087575, 15.34273652870187, 13.726508003116386, 11.300989163922809, 39.552906038152194, 10.492310659494226, 12.106347222162386, 12.104708233771484, 12.104229195437153, 9.681848911768064, 8.067045845357775, 9.6802645765382, 8.066814444341896, 8.066595470799275, 8.871948299791113, 8.871497235430441, 7.258331948948317, 7.258300515806017, 8.871234396739132, 7.258020204267445, 7.257940156879542, 7.257778957241333, 7.257771085721401, 7.257513608836523, 7.257345390079984, 22.57802128543681, 7.256372841991055, 6.448974434794674, 8.060851982637926, 10.477746080847767, 16.923167928139872, 18.531988305831554, 54.7251724430721, 16.918214010972868, 28.948760580111063, 9.670236469384898, 9.667535151416017, 30.473264761214022, 15.272046407680202, 56.76331966366142, 22.468972948505876, 42.38920639826949, 18.461432175293954, 16.863637881228897, 14.462957362768584, 25.61999149934077, 48.64180139144913, 39.090756432201616, 46.153516729358486, 37.42483087674796, 171.63746706198077, 60.22998717591196, 72.74991415870353, 21.586561136716092, 23.933251031153524, 35.718075654356106, 29.43327559905231, 23.93186234020664, 23.87844577302601, 23.800413202488606, 36.18710361064004], \"Category\": [\"Default\", \"Default\", \"Default\", \"Default\", \"Default\", \"Default\", \"Default\", \"Default\", \"Default\", \"Default\", \"Default\", \"Default\", \"Default\", \"Default\", \"Default\", \"Default\", \"Default\", \"Default\", \"Default\", \"Default\", \"Default\", \"Default\", \"Default\", \"Default\", \"Default\", \"Default\", \"Default\", \"Default\", \"Default\", \"Default\", \"Topic1\", \"Topic1\", \"Topic1\", \"Topic1\", \"Topic1\", \"Topic1\", \"Topic1\", \"Topic1\", \"Topic1\", \"Topic1\", \"Topic1\", \"Topic1\", \"Topic1\", \"Topic1\", \"Topic1\", \"Topic1\", \"Topic1\", \"Topic1\", \"Topic1\", \"Topic1\", \"Topic1\", \"Topic1\", \"Topic1\", \"Topic1\", \"Topic1\", \"Topic1\", \"Topic1\", \"Topic1\", \"Topic1\", \"Topic1\", \"Topic1\", \"Topic1\", \"Topic1\", \"Topic1\", \"Topic1\", \"Topic1\", \"Topic1\", \"Topic1\", \"Topic1\", \"Topic1\", \"Topic1\", \"Topic1\", \"Topic1\", \"Topic1\", \"Topic1\", \"Topic1\", \"Topic1\", \"Topic1\", \"Topic1\", \"Topic2\", \"Topic2\", \"Topic2\", \"Topic2\", \"Topic2\", \"Topic2\", \"Topic2\", \"Topic2\", \"Topic2\", \"Topic2\", \"Topic2\", \"Topic2\", \"Topic2\", \"Topic2\", \"Topic2\", \"Topic2\", \"Topic2\", \"Topic2\", \"Topic2\", \"Topic2\", \"Topic2\", \"Topic2\", \"Topic2\", \"Topic2\", \"Topic2\", \"Topic2\", \"Topic2\", \"Topic2\", \"Topic2\", \"Topic2\", \"Topic2\", \"Topic2\", \"Topic2\", \"Topic2\", \"Topic2\", \"Topic2\", \"Topic2\", \"Topic2\", \"Topic2\", \"Topic2\", \"Topic2\", \"Topic2\", \"Topic2\", \"Topic2\", \"Topic2\", \"Topic2\", \"Topic2\", \"Topic2\", \"Topic2\", \"Topic2\", \"Topic2\", \"Topic2\", \"Topic2\", \"Topic2\", \"Topic2\", \"Topic2\", \"Topic2\", \"Topic2\", \"Topic2\", \"Topic2\", \"Topic2\"], \"logprob\": [30.0, 29.0, 28.0, 27.0, 26.0, 25.0, 24.0, 23.0, 22.0, 21.0, 20.0, 19.0, 18.0, 17.0, 16.0, 15.0, 14.0, 13.0, 12.0, 11.0, 10.0, 9.0, 8.0, 7.0, 6.0, 5.0, 4.0, 3.0, 2.0, 1.0, -5.226, -5.2265, -4.9871, -5.6144, -5.6489, -5.6492, -5.5828, -5.5207, -5.7598, -5.7601, -5.7601, -5.7601, -5.7602, -5.7603, -5.7603, -5.7604, -5.8406, -5.8419, -5.8419, -5.8422, -5.8423, -5.8426, -5.8853, -5.9298, -5.8854, -5.8429, -5.8431, -5.9773, -5.9773, -5.9773, -5.18, -5.4886, -5.5802, -5.6802, -5.4846, -5.5169, -4.1176, -5.2896, -5.2778, -5.3674, -5.7206, -5.157, -5.7181, -5.7224, -5.451, -5.6462, -5.6445, -5.6875, -5.7241, -5.932, -6.083, -6.1962, -6.3968, -5.1453, -6.4741, -6.3315, -6.3346, -6.3356, -6.5622, -6.7477, -6.5661, -6.7484, -6.7491, -6.6574, -6.6586, -6.8596, -6.8597, -6.6592, -6.8606, -6.8608, -6.8614, -6.8614, -6.8622, -6.8628, -5.7295, -6.866, -6.9878, -6.7659, -6.507, -6.0315, -5.9448, -4.8918, -6.0389, -5.5481, -6.591, -6.5976, -5.5682, -6.197, -5.033, -5.8545, -5.3132, -6.0437, -6.1226, -6.2606, -5.7863, -5.2674, -5.4712, -5.3889, -5.576, -4.5368, -5.2755, -5.1797, -5.9979, -5.9608, -5.7365, -5.8493, -5.9627, -6.0383, -6.1603, -6.1385], \"loglift\": [30.0, 29.0, 28.0, 27.0, 26.0, 25.0, 24.0, 23.0, 22.0, 21.0, 20.0, 19.0, 18.0, 17.0, 16.0, 15.0, 14.0, 13.0, 12.0, 11.0, 10.0, 9.0, 8.0, 7.0, 6.0, 5.0, 4.0, 3.0, 2.0, 1.0, 0.7018, 0.7013, 0.6994, 0.6961, 0.6955, 0.6952, 0.695, 0.6944, 0.6937, 0.6935, 0.6935, 0.6934, 0.6934, 0.6932, 0.6932, 0.6932, 0.693, 0.6917, 0.6916, 0.6913, 0.6912, 0.6909, 0.6907, 0.6907, 0.6907, 0.6906, 0.6904, 0.6897, 0.6897, 0.6897, 0.681, 0.6666, 0.6645, 0.6628, 0.6128, 0.6077, 0.1926, 0.5236, 0.3975, 0.4429, 0.6207, 0.0116, 0.554, 0.4847, -0.0937, 0.3142, 0.2224, 0.2239, 0.3929, 0.6461, 0.6419, 0.64, 0.6339, 0.6327, 0.6308, 0.6303, 0.6274, 0.6264, 0.6231, 0.62, 0.6194, 0.6194, 0.6188, 0.6153, 0.6141, 0.6139, 0.6138, 0.6135, 0.6129, 0.6126, 0.6121, 0.6121, 0.6113, 0.6108, 0.6091, 0.6077, 0.6038, 0.6026, 0.5993, 0.5953, 0.5912, 0.5614, 0.5883, 0.5419, 0.5955, 0.5892, 0.4705, 0.5325, 0.3837, 0.4889, 0.3955, 0.4962, 0.5078, 0.5233, 0.4259, 0.3037, 0.3185, 0.2346, 0.2573, -0.2267, 0.0819, -0.0112, 0.3856, 0.3195, 0.1434, 0.2241, 0.3176, 0.2442, 0.1256, -0.2716]}, \"token.table\": {\"Topic\": [2, 2, 1, 2, 1, 2, 1, 2, 1, 2, 1, 2, 1, 2, 2, 1, 2, 1, 2, 1, 2, 1, 2, 1, 1, 2, 1, 2, 2, 2, 1, 2, 1, 1, 2, 1, 1, 2, 1, 1, 2, 2, 1, 2, 1, 2, 1, 2, 1, 2, 1, 2, 1, 2, 1, 2, 1, 2, 1, 1, 2, 2, 1, 2, 1, 1, 2, 1, 2, 1, 2, 1, 2, 1, 1, 2, 1, 2, 1, 2, 2, 1, 2, 1, 2, 2, 1, 2, 1, 2, 2, 1, 2, 1, 2, 1, 2, 1, 1, 2, 1, 2, 1, 2, 1, 2, 1, 2, 1, 1, 1, 2, 1, 2, 1, 1, 2, 1, 1, 2, 1, 1, 2, 1, 2, 1, 2, 2, 1, 2, 1, 2, 1, 2, 1, 2, 2, 1, 1, 1, 2, 1, 2, 1, 2, 2, 2, 2, 1, 2, 1, 2, 1, 2, 2, 1, 2, 1, 2, 1, 1, 1], \"Freq\": [0.9297266545599447, 0.9470726274336164, 0.30697794300329306, 0.6907003717574094, 0.9905367117822155, 0.9644089095448786, 0.13095821912865682, 0.8512284243362693, 0.08261575221799031, 0.9913890266158837, 0.8882960039708298, 0.08882960039708299, 0.9688262426936806, 0.9776613169325623, 0.9917442902597078, 0.4482816826963933, 0.5478998344067029, 0.9921997232689528, 0.023074412169045412, 0.05910789397458957, 0.9457263035934331, 0.3466691410282571, 0.650004639427982, 0.9937529177724339, 0.8939941242324342, 0.1072792949078921, 0.16250093554576744, 0.866671656244093, 0.9644834367635916, 0.9017910746378905, 0.13828430450528192, 0.8297058270316915, 0.9687747380811766, 0.954747831719393, 0.9644130860600867, 0.9688126505842193, 0.7766714032585595, 0.1941678508146399, 0.9981477901470629, 0.7097669634768751, 0.28390678539075004, 0.9644503325967957, 0.9677311806976931, 0.04032213252907055, 0.8118557404977164, 0.1833222639833553, 0.6067208070294295, 0.37558907101821826, 0.2924970861226991, 0.7103500662979835, 0.09544037355781089, 0.954403735578109, 0.6675870441128401, 0.33379352205642004, 0.335030180609037, 0.670060361218074, 0.9937410117375364, 0.9733661222432028, 0.9937410504549861, 0.4201607726270225, 0.5882250816778315, 0.9646692848378075, 0.0442908608933333, 0.9301080787599992, 0.9937421760780404, 0.9585351397390031, 0.041675440858217526, 0.1780232683161421, 0.845610524501675, 0.9787182810516869, 0.039148731242067476, 0.9547483093364709, 0.9644823907203541, 0.9688097250095643, 0.6079513916535552, 0.3868781583249896, 0.23590911106107054, 0.7549091553954257, 0.37372666738982246, 0.6455278800369662, 0.9644609694618315, 0.2924801144185641, 0.710308849302227, 0.10363137971651601, 0.8635948309709668, 0.9017643569847591, 0.059090591327005525, 0.9454494612320884, 0.4199554350339316, 0.5879376090475043, 0.9295745143327642, 0.8702946583609289, 0.1657704111163674, 0.9343031852845227, 0.04449062787069156, 0.17789755811463037, 0.8301886045349418, 0.9841273139789101, 0.12405636552486955, 0.9924509241989564, 0.9985780612532662, 0.02936994297803724, 0.7301402195288013, 0.27380258232330046, 0.5942758405026236, 0.4078363611292515, 0.9687842066300646, 0.9912155813631628, 0.9688794609572092, 0.9688234655941617, 0.103410087557415, 0.930690788016735, 0.9841271133768383, 0.9645400106722566, 0.9937324389135146, 0.757346476568499, 0.23503856169367207, 0.9841284080022128, 0.9615131453902047, 0.02747180415400585, 0.9937378822499421, 0.9048062014190672, 0.10440071554835391, 0.3083767371049069, 0.6989872707711222, 0.24663814736266174, 0.7575314526138897, 0.9303804908308698, 0.3473629591757727, 0.6680056907226398, 0.053960750648937385, 0.9173327610319355, 0.9687951197143325, 0.991688922234605, 0.23162559188251683, 0.7412018940240538, 0.9567374401230404, 0.99373134068781, 0.9937290431023394, 0.10343898256770534, 0.9309508431093481, 0.08261248273709347, 0.9913497928451217, 0.1968939018190372, 0.8203912575793217, 0.9017185098101121, 0.9917173693776036, 0.9645176540181775, 0.02528259235959587, 0.960738509664643, 0.1096387591330389, 0.8953831995864844, 0.23419211517515087, 0.7806403839171696, 0.9530789093583741, 0.9585936624510876, 0.036868987017349523, 0.4948459447177656, 0.5085916654043702, 0.9801038201457868, 0.998597383753418, 0.9801175168291278], \"Term\": [\"air_bag\", \"alabama\", \"also\", \"also\", \"asian_share\", \"average\", \"back\", \"back\", \"ball\", \"ball\", \"benchmark\", \"benchmark\", \"benchmark_crude\", \"build\", \"canadian\", \"car\", \"car\", \"cent\", \"cent\", \"challenge\", \"challenge\", \"company\", \"company\", \"company_earning\", \"concern\", \"concern\", \"continue\", \"continue\", \"corolla\", \"crash\", \"decline\", \"decline\", \"digesting_full\", \"economy_yield\", \"education\", \"electronic_trade\", \"end\", \"end\", \"energy_oil_futures_extende\", \"expect\", \"expect\", \"forecast\", \"fuel\", \"fuel\", \"gain\", \"gain\", \"go\", \"go\", \"good\", \"good\", \"government\", \"government\", \"growth\", \"growth\", \"high\", \"high\", \"higher_rates_could_weigh\", \"hma\", \"hover\", \"include\", \"include\", \"industrial\", \"industry\", \"industry\", \"interest_rate\", \"investors_evaluate\", \"investors_evaluate\", \"job\", \"job\", \"latest_earning\", \"latest_earning\", \"latest_update\", \"leader\", \"london_currencie\", \"low\", \"low\", \"make\", \"make\", \"market\", \"market\", \"mixed\", \"model\", \"model\", \"month\", \"month\", \"museum\", \"need\", \"need\", \"new\", \"new\", \"new_vehicle\", \"new_york\", \"new_york\", \"note\", \"note\", \"number\", \"number\", \"past_billion\", \"pay\", \"pay\", \"per_barrel\", \"per_barrel\", \"per_cent\", \"per_cent\", \"percent\", \"percent\", \"plate\", \"play\", \"plenty\", \"price_international\", \"prius\", \"prius\", \"profit_soare\", \"promote\", \"prospect\", \"report\", \"report\", \"reported_quarterly\", \"rise\", \"rise\", \"risen_swiftly\", \"rising_bond\", \"rising_bond\", \"sale\", \"sale\", \"say\", \"say\", \"sedan\", \"see\", \"see\", \"sell\", \"sell\", \"sentiment_keepe\", \"soul\", \"start\", \"start\", \"state\", \"stoking_investor\", \"stronger_economic\", \"target\", \"target\", \"think\", \"think\", \"time\", \"time\", \"tour\", \"training\", \"trend\", \"unit\", \"unit\", \"vehicle\", \"vehicle\", \"work\", \"work\", \"workforce\", \"worry\", \"worry\", \"year\", \"year\", \"year_treasury\", \"yen\", \"yield\"]}, \"R\": 30, \"lambda.step\": 0.01, \"plot.opts\": {\"xlab\": \"PC1\", \"ylab\": \"PC2\"}, \"topic.order\": [1, 2]};\n",
       "\n",
       "function LDAvis_load_lib(url, callback){\n",
       "  var s = document.createElement('script');\n",
       "  s.src = url;\n",
       "  s.async = true;\n",
       "  s.onreadystatechange = s.onload = callback;\n",
       "  s.onerror = function(){console.warn(\"failed to load library \" + url);};\n",
       "  document.getElementsByTagName(\"head\")[0].appendChild(s);\n",
       "}\n",
       "\n",
       "if(typeof(LDAvis) !== \"undefined\"){\n",
       "   // already loaded: just create the visualization\n",
       "   !function(LDAvis){\n",
       "       new LDAvis(\"#\" + \"ldavis_el210771403096813558568959205077\", ldavis_el210771403096813558568959205077_data);\n",
       "   }(LDAvis);\n",
       "}else if(typeof define === \"function\" && define.amd){\n",
       "   // require.js is available: use it to load d3/LDAvis\n",
       "   require.config({paths: {d3: \"https://d3js.org/d3.v5\"}});\n",
       "   require([\"d3\"], function(d3){\n",
       "      window.d3 = d3;\n",
       "      LDAvis_load_lib(\"https://cdn.jsdelivr.net/gh/bmabey/pyLDAvis@3.3.1/pyLDAvis/js/ldavis.v3.0.0.js\", function(){\n",
       "        new LDAvis(\"#\" + \"ldavis_el210771403096813558568959205077\", ldavis_el210771403096813558568959205077_data);\n",
       "      });\n",
       "    });\n",
       "}else{\n",
       "    // require.js not available: dynamically load d3 & LDAvis\n",
       "    LDAvis_load_lib(\"https://d3js.org/d3.v5.js\", function(){\n",
       "         LDAvis_load_lib(\"https://cdn.jsdelivr.net/gh/bmabey/pyLDAvis@3.3.1/pyLDAvis/js/ldavis.v3.0.0.js\", function(){\n",
       "                 new LDAvis(\"#\" + \"ldavis_el210771403096813558568959205077\", ldavis_el210771403096813558568959205077_data);\n",
       "            })\n",
       "         });\n",
       "}\n",
       "</script>"
      ],
      "text/plain": [
       "<IPython.core.display.HTML object>"
      ]
     },
     "execution_count": 28,
     "metadata": {},
     "output_type": "execute_result"
    }
   ],
   "source": [
    "%%time\n",
    "\n",
    "lda_display = gensimvis.prepare(tuned_lda_model, doc_term_matrix, dictionary, sort_topics=False, mds='mmds')\n",
    "pyLDAvis.display(lda_display)"
   ]
  },
  {
   "cell_type": "code",
   "execution_count": null,
   "metadata": {},
   "outputs": [],
   "source": []
  },
  {
   "cell_type": "code",
   "execution_count": null,
   "metadata": {},
   "outputs": [],
   "source": []
  },
  {
   "cell_type": "code",
   "execution_count": null,
   "metadata": {},
   "outputs": [],
   "source": []
  },
  {
   "cell_type": "code",
   "execution_count": 29,
   "metadata": {},
   "outputs": [
    {
     "data": {
      "text/plain": [
       "'Sat, 29 October 2022 15:43:39'"
      ]
     },
     "execution_count": 29,
     "metadata": {},
     "output_type": "execute_result"
    }
   ],
   "source": [
    "import datetime\n",
    "import pytz\n",
    "\n",
    "datetime.datetime.now(pytz.timezone('US/Central')).strftime(\"%a, %d %B %Y %H:%M:%S\")"
   ]
  }
 ],
 "metadata": {
  "anaconda-cloud": {},
  "kernelspec": {
   "display_name": "Python 3 (ipykernel)",
   "language": "python",
   "name": "python3"
  },
  "language_info": {
   "codemirror_mode": {
    "name": "ipython",
    "version": 3
   },
   "file_extension": ".py",
   "mimetype": "text/x-python",
   "name": "python",
   "nbconvert_exporter": "python",
   "pygments_lexer": "ipython3",
   "version": "3.7.12"
  }
 },
 "nbformat": 4,
 "nbformat_minor": 4
}
