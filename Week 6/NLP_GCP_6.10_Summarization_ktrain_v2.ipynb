{
 "cells": [
  {
   "cell_type": "code",
   "execution_count": 1,
   "metadata": {},
   "outputs": [
    {
     "name": "stdout",
     "output_type": "stream",
     "text": [
      "Python Version: 3.7.12 | packaged by conda-forge | (default, Oct 26 2021, 06:08:53) \n",
      "[GCC 9.4.0]\n",
      "TensorFlow Version: 2.6.4\n"
     ]
    }
   ],
   "source": [
    "import os\n",
    "import sys\n",
    "import requests\n",
    "import pandas as pd\n",
    "import re\n",
    "import tensorflow as tf\n",
    "print('Python Version: ' + sys.version)\n",
    "print('TensorFlow Version: ' + tf.__version__)"
   ]
  },
  {
   "cell_type": "markdown",
   "metadata": {},
   "source": [
    "## Summarizing Documents With *ktrain*\n",
    "\n",
    "Original Notebook: https://nbviewer.jupyter.org/github/amaiya/ktrain/blob/master/examples/text/text_summarization_with_bart.ipynb  \n",
    "\n",
    "*ktrain* includes the ability to summarize text based on a pretrained [BART](https://arxiv.org/abs/1910.13461) model from the `transformers` library.\n",
    "\n",
    "To perform summarization, first create a `TransformerSummarizer` instance as follows. (Note that this feature requires PyTorch to be installed on your system.)"
   ]
  },
  {
   "cell_type": "code",
   "execution_count": 2,
   "metadata": {},
   "outputs": [],
   "source": [
    "# !pip install ktrain --upgrade"
   ]
  },
  {
   "cell_type": "code",
   "execution_count": 3,
   "metadata": {},
   "outputs": [
    {
     "name": "stdout",
     "output_type": "stream",
     "text": [
      "Ktrain Version: 0.31.10\n"
     ]
    }
   ],
   "source": [
    "import ktrain\n",
    "from ktrain import text\n",
    "ts = text.TransformerSummarizer()\n",
    "\n",
    "print('Ktrain Version: ' + ktrain.__version__)"
   ]
  },
  {
   "cell_type": "markdown",
   "metadata": {},
   "source": [
    "#### Copy files to local FS from GCP bucket"
   ]
  },
  {
   "cell_type": "code",
   "execution_count": 4,
   "metadata": {
    "tags": []
   },
   "outputs": [],
   "source": [
    "def get_gcs_data (bucket_name, folder_name, file_name, path_local):\n",
    "    url = 'https://storage.googleapis.com/' + bucket_name + '/' + folder_name + '/' + file_name\n",
    "    r = requests.get(url)\n",
    "    open(path_local + '/' + file_name , 'wb').write(r.content)"
   ]
  },
  {
   "cell_type": "code",
   "execution_count": 5,
   "metadata": {
    "tags": []
   },
   "outputs": [
    {
     "name": "stdout",
     "output_type": "stream",
     "text": [
      "Downloaded: 3boat10.txt\n"
     ]
    }
   ],
   "source": [
    "bucket_name = 'msca-bdp-data-open'\n",
    "folder_name = 'books'\n",
    "file_name = ['3boat10.txt']\n",
    "path_local = '/home/jupyter/data/books'\n",
    "\n",
    "os.makedirs(path_local, exist_ok=True)\n",
    "\n",
    "for file in file_name:\n",
    "    get_gcs_data (bucket_name = bucket_name,\n",
    "                 folder_name = folder_name,\n",
    "                 file_name = file,\n",
    "                 path_local = path_local)\n",
    "    print('Downloaded: ' + file)"
   ]
  },
  {
   "cell_type": "code",
   "execution_count": 6,
   "metadata": {
    "tags": []
   },
   "outputs": [
    {
     "name": "stdout",
     "output_type": "stream",
     "text": [
      "Downloaded: news_toyota.json\n"
     ]
    }
   ],
   "source": [
    "bucket_name = 'msca-bdp-data-open'\n",
    "folder_name = 'news'\n",
    "file_name = ['news_toyota.json']\n",
    "path_local = '/home/jupyter/data/news'\n",
    "\n",
    "os.makedirs(path_local, exist_ok=True)\n",
    "\n",
    "for file in file_name:\n",
    "    get_gcs_data (bucket_name = bucket_name,\n",
    "                 folder_name = folder_name,\n",
    "                 file_name = file,\n",
    "                 path_local = path_local)\n",
    "    print('Downloaded: ' + file)"
   ]
  },
  {
   "cell_type": "code",
   "execution_count": 7,
   "metadata": {},
   "outputs": [
    {
     "name": "stdout",
     "output_type": "stream",
     "text": [
      "\n",
      "\n",
      "The University of Chicago is an urban research university that has driven new ways of thinking since 1890. Our commitment to free and open inquiry draws inspired scholars to our global campuses, where ideas are born that challenge and change the world.\n",
      "\n",
      "We empower individuals to challenge conventional thinking in pursuit of original ideas. Students in the College develop critical, analytic, and writing skills in our rigorous, interdisciplinary core curriculum. Through graduate programs, students test their ideas with UChicago scholars, and become the next generation of leaders in academia, industry, nonprofits, and government.\n",
      "\n",
      "UChicago research has led to such breakthroughs as discovering the link between cancer and genetics, establishing revolutionary theories of economics, and developing tools to produce reliably excellent urban schooling. We generate new insights for the benefit of present and future generations with our national and affiliated laboratories: Argonne National Laboratory, Fermi National Accelerator Laboratory, and the Marine Biological Laboratory in Woods Hole, Massachusetts.\n",
      "\n",
      "The University of Chicago is enriched by the city we call home. In partnership with our neighbors, we invest in Chicago's mid-South Side across such areas as health, education, economic growth, and the arts. Together with our medical center, we are the largest private employer on the South Side.\n",
      "\n",
      "In all we do, we are driven to dig deeper, push further, and ask bigger questions—and to leverage our knowledge to enrich all human life. Our diverse and creative students and alumni drive innovation, lead international conversations, and make masterpieces. Alumni and faculty, lecturers and postdocs go on to become Nobel laureates, CEOs, university presidents, attorneys general, literary giants, and astronauts. \n",
      "\n"
     ]
    }
   ],
   "source": [
    "text = '''\n",
    "\n",
    "The University of Chicago is an urban research university that has driven new ways of thinking since 1890. Our commitment to free and open inquiry draws inspired scholars to our global campuses, where ideas are born that challenge and change the world.\n",
    "\n",
    "We empower individuals to challenge conventional thinking in pursuit of original ideas. Students in the College develop critical, analytic, and writing skills in our rigorous, interdisciplinary core curriculum. Through graduate programs, students test their ideas with UChicago scholars, and become the next generation of leaders in academia, industry, nonprofits, and government.\n",
    "\n",
    "UChicago research has led to such breakthroughs as discovering the link between cancer and genetics, establishing revolutionary theories of economics, and developing tools to produce reliably excellent urban schooling. We generate new insights for the benefit of present and future generations with our national and affiliated laboratories: Argonne National Laboratory, Fermi National Accelerator Laboratory, and the Marine Biological Laboratory in Woods Hole, Massachusetts.\n",
    "\n",
    "The University of Chicago is enriched by the city we call home. In partnership with our neighbors, we invest in Chicago's mid-South Side across such areas as health, education, economic growth, and the arts. Together with our medical center, we are the largest private employer on the South Side.\n",
    "\n",
    "In all we do, we are driven to dig deeper, push further, and ask bigger questions—and to leverage our knowledge to enrich all human life. Our diverse and creative students and alumni drive innovation, lead international conversations, and make masterpieces. Alumni and faculty, lecturers and postdocs go on to become Nobel laureates, CEOs, university presidents, attorneys general, literary giants, and astronauts. \n",
    "'''\n",
    "\n",
    "print(text)"
   ]
  },
  {
   "cell_type": "markdown",
   "metadata": {},
   "source": [
    "Now, let's use our `TransformerSummarizer` instance to summarize the long document."
   ]
  },
  {
   "cell_type": "code",
   "execution_count": 8,
   "metadata": {},
   "outputs": [
    {
     "data": {
      "text/plain": [
       "'The University of Chicago is an urban research university that has driven new ways of thinking since 1890. UChicago research has led to such breakthroughs as discovering the link between cancer and genetics. Alumni and faculty, lecturers and postdocs go on to become Nobel laureates, CEOs, university presidents, attorneys general, literary giants, and astronauts.'"
      ]
     },
     "execution_count": 8,
     "metadata": {},
     "output_type": "execute_result"
    }
   ],
   "source": [
    "ts.summarize(text)"
   ]
  },
  {
   "cell_type": "markdown",
   "metadata": {},
   "source": [
    "### Summarizing book with ktrain"
   ]
  },
  {
   "cell_type": "code",
   "execution_count": 9,
   "metadata": {},
   "outputs": [],
   "source": [
    "directory = '/home/jupyter/data/books/'\n",
    "book = '3boat10.txt'\n",
    "f = open(directory+book)\n",
    "textRaw = f.read()\n",
    "text = re.sub(r'\\n', ' ', textRaw)"
   ]
  },
  {
   "cell_type": "code",
   "execution_count": 10,
   "metadata": {},
   "outputs": [
    {
     "name": "stdout",
     "output_type": "stream",
     "text": [
      "CPU times: user 2.56 s, sys: 154 ms, total: 2.72 s\n",
      "Wall time: 2.71 s\n"
     ]
    },
    {
     "data": {
      "text/plain": [
       "\"Jerome K. Harris was a victim to one hundred and seven deadly diseases. He was diagnosed with typhoid fever, diphtheria, Bright's disease, Cholera, and housemaid's knee. He also suffered from zymosis, which he thought he had been born with. He wrote a book about his experiences.\""
      ]
     },
     "execution_count": 10,
     "metadata": {},
     "output_type": "execute_result"
    }
   ],
   "source": [
    "%time ts.summarize(text)"
   ]
  },
  {
   "cell_type": "markdown",
   "metadata": {},
   "source": [
    "### Summarizing news articles with ktrain"
   ]
  },
  {
   "cell_type": "code",
   "execution_count": 11,
   "metadata": {},
   "outputs": [],
   "source": [
    "directory = '/home/jupyter/data/news/'\n",
    "news_articles = 'news_toyota.json'\n",
    "\n",
    "path = directory+news_articles"
   ]
  },
  {
   "cell_type": "code",
   "execution_count": 12,
   "metadata": {},
   "outputs": [
    {
     "data": {
      "text/plain": [
       "(100, 4)"
      ]
     },
     "execution_count": 12,
     "metadata": {},
     "output_type": "execute_result"
    }
   ],
   "source": [
    "news_df = pd.read_json(directory+news_articles, orient='records', lines=True)\n",
    "\n",
    "news_df.shape"
   ]
  },
  {
   "cell_type": "code",
   "execution_count": 13,
   "metadata": {},
   "outputs": [],
   "source": [
    "# Filter non-English news\n",
    "news_eng = news_df[news_df['language']=='english'].reset_index(drop=True)"
   ]
  },
  {
   "cell_type": "code",
   "execution_count": 14,
   "metadata": {},
   "outputs": [],
   "source": [
    "# Remove /n characters to avoid problems with analysis\n",
    "news_eng['text_clean'] = news_eng['text'].map(lambda x: re.sub(r'\\n', '.  ', str(x)))"
   ]
  },
  {
   "cell_type": "code",
   "execution_count": 15,
   "metadata": {},
   "outputs": [
    {
     "data": {
      "text/html": [
       "<div>\n",
       "<style scoped>\n",
       "    .dataframe tbody tr th:only-of-type {\n",
       "        vertical-align: middle;\n",
       "    }\n",
       "\n",
       "    .dataframe tbody tr th {\n",
       "        vertical-align: top;\n",
       "    }\n",
       "\n",
       "    .dataframe thead th {\n",
       "        text-align: right;\n",
       "    }\n",
       "</style>\n",
       "<table border=\"1\" class=\"dataframe\">\n",
       "  <thead>\n",
       "    <tr style=\"text-align: right;\">\n",
       "      <th></th>\n",
       "      <th>text</th>\n",
       "      <th>text_clean</th>\n",
       "    </tr>\n",
       "  </thead>\n",
       "  <tbody>\n",
       "    <tr>\n",
       "      <th>0</th>\n",
       "      <td>QR Code Link to This Post All maintenance receipts available, one owner truck. Cash sale. No trades.   6477478013</td>\n",
       "      <td>QR Code Link to This Post All maintenance receipts available, one owner truck. Cash sale. No trades.   6477478013</td>\n",
       "    </tr>\n",
       "    <tr>\n",
       "      <th>1</th>\n",
       "      <td>0 \\nNEW YORK: Automakers reported mixed US car sales in January, with strong demand for SUVs and pickup trucks continuing to provide a cushion in a declining overall auto market. \\nFord and Fiat Chrysler reported declines in year-over-year sales, while General Motors scored a modest increase and Toyota saw a more substantial jump. \\nUS car sales fell last year for the first time since the financial crisis and are projected to decline again in 2018. Still, analysts and industry executives expect US sales this year to come in above a solid 16 million vehicles amid low unemployment and strong consumer confidence. \\n“US economic factors are very healthy and we’re seeing the effect in the auto industry — not just in strong demand for SUVs and pickups, but in demand for high trim versions of vehicles,” said Mark LaNeve, Ford’s vice president for US marketing. \\nFord’s January sales dropped 6.6 percent from the same month of 2017 to 161,143. Within the total, car sales slumped 23.3 percent, including big drops for the Fusion and Focus, but that was partially countered by increased sales of the market-leading F-Series pickups. \\nFiat Chrysler (FCA) saw sales fall 13 percent to 132,803, with gains for the Jeep brand offset by hefty declines in other models. \\nAnd in contrast with the trend for strong sales of pickup trucks, the Ram truck brand fell 16 percent. However, FCA introduced a revamped fleet of the popular pickup at the Detroit Auto Show last month. \\nMeanwhile, GM posted a 1.3 percent increase in overall sales compared to January 2017 to 198,548. The biggest US automaker pointed to strong sales of larger vehicles, including the Silverado pickup truck and Chevrolet Equinox SUV. \\nToyota lead the pack with a 16.8 percent jump last month to 167,056, on gains in light trucks and in its sedan business. \\nThe Toyota Camry, which was revamped with the 2018 model, saw a 21.3 percent increase in January. The company also will introduce an upgraded Avalon sedan to dealerships this spring. \\nEdmunds.com had projected a 1.4 percent drop in overall sales compared with the same month of last year, largely due to seasonal factors. \\n“In January, automakers are expected to pull the reins in on the more generous incentive programs that we saw at the end of 2017,” Jessica Caldwell, executive director of industry analysis at Edmunds, said in a forecast note. \\n“However, it’s typical to see a slowdown at dealerships in January following the high-selling holiday months. This isn’t necessarily a solid indicator of the direction that the year is headed in terms of overall sales.” \\nCopyright AFP (Agence France-Press), 2018</td>\n",
       "      <td>0 .  NEW YORK: Automakers reported mixed US car sales in January, with strong demand for SUVs and pickup trucks continuing to provide a cushion in a declining overall auto market. .  Ford and Fiat Chrysler reported declines in year-over-year sales, while General Motors scored a modest increase and Toyota saw a more substantial jump. .  US car sales fell last year for the first time since the financial crisis and are projected to decline again in 2018. Still, analysts and industry executives expect US sales this year to come in above a solid 16 million vehicles amid low unemployment and strong consumer confidence. .  “US economic factors are very healthy and we’re seeing the effect in the auto industry — not just in strong demand for SUVs and pickups, but in demand for high trim versions of vehicles,” said Mark LaNeve, Ford’s vice president for US marketing. .  Ford’s January sales dropped 6.6 percent from the same month of 2017 to 161,143. Within the total, car sales slumped 23.3 percent, including big drops for the Fusion and Focus, but that was partially countered by increased sales of the market-leading F-Series pickups. .  Fiat Chrysler (FCA) saw sales fall 13 percent to 132,803, with gains for the Jeep brand offset by hefty declines in other models. .  And in contrast with the trend for strong sales of pickup trucks, the Ram truck brand fell 16 percent. However, FCA introduced a revamped fleet of the popular pickup at the Detroit Auto Show last month. .  Meanwhile, GM posted a 1.3 percent increase in overall sales compared to January 2017 to 198,548. The biggest US automaker pointed to strong sales of larger vehicles, including the Silverado pickup truck and Chevrolet Equinox SUV. .  Toyota lead the pack with a 16.8 percent jump last month to 167,056, on gains in light trucks and in its sedan business. .  The Toyota Camry, which was revamped with the 2018 model, saw a 21.3 percent increase in January. The company also will introduce an upgraded Avalon sedan to dealerships this spring. .  Edmunds.com had projected a 1.4 percent drop in overall sales compared with the same month of last year, largely due to seasonal factors. .  “In January, automakers are expected to pull the reins in on the more generous incentive programs that we saw at the end of 2017,” Jessica Caldwell, executive director of industry analysis at Edmunds, said in a forecast note. .  “However, it’s typical to see a slowdown at dealerships in January following the high-selling holiday months. This isn’t necessarily a solid indicator of the direction that the year is headed in terms of overall sales.” .  Copyright AFP (Agence France-Press), 2018</td>\n",
       "    </tr>\n",
       "    <tr>\n",
       "      <th>2</th>\n",
       "      <td>transmission: automatic   2005 Toyota Camry LE 4 door 4 cyl AUTOMATIC VERY CLEAN INSIDE CLOTH INTERIOR NICE. Just has a Little Hale damage car runs. GREAT 167300 MILEAGE. CALL show contact info . $2450   6473894894</td>\n",
       "      <td>transmission: automatic   2005 Toyota Camry LE 4 door 4 cyl AUTOMATIC VERY CLEAN INSIDE CLOTH INTERIOR NICE. Just has a Little Hale damage car runs. GREAT 167300 MILEAGE. CALL show contact info . $2450   6473894894</td>\n",
       "    </tr>\n",
       "    <tr>\n",
       "      <th>3</th>\n",
       "      <td>favorite this post Brand New Toyota Avalon Floor Mats - $115 (New Britain) hide this posting unhide QR Code Link to This Post I have a set of front and rear original Toyota Avalon floor mats in black. These have never been installed and are still in the original wrapping. These mats based on Toyota's website will fit all Avalons from 2013-2018 and retail for 154.47 . If interested I can be reached at show contact info . Thanks do NOT contact me with unsolicited services or offers post id: 6468888955</td>\n",
       "      <td>favorite this post Brand New Toyota Avalon Floor Mats - $115 (New Britain) hide this posting unhide QR Code Link to This Post I have a set of front and rear original Toyota Avalon floor mats in black. These have never been installed and are still in the original wrapping. These mats based on Toyota's website will fit all Avalons from 2013-2018 and retail for 154.47 . If interested I can be reached at show contact info . Thanks do NOT contact me with unsolicited services or offers post id: 6468888955</td>\n",
       "    </tr>\n",
       "    <tr>\n",
       "      <th>4</th>\n",
       "      <td>more ads by this user QR Code Link to This Post Black w/Piano Black w/Perforated NuLuxe Seat Trim. CARFAX One-Owner. 31/21 Highway/City MPG Obsidian Priced below KBB Fair Purchase Price!Locally owned and operated, Coliseum Lexus of Oakland takes pride in treating customers to the very best in customer service. Our Red Carpet Elite programs define Lexus luxury. Also included with all Lexus and Toyota Vehicles unless certified, 3 synthetic oil changes, filter and inspection are included. Follow the links below to learn more.3.5L V6 DOHC Dual VVT-i 24V Engine:</td>\n",
       "      <td>more ads by this user QR Code Link to This Post Black w/Piano Black w/Perforated NuLuxe Seat Trim. CARFAX One-Owner. 31/21 Highway/City MPG Obsidian Priced below KBB Fair Purchase Price!Locally owned and operated, Coliseum Lexus of Oakland takes pride in treating customers to the very best in customer service. Our Red Carpet Elite programs define Lexus luxury. Also included with all Lexus and Toyota Vehicles unless certified, 3 synthetic oil changes, filter and inspection are included. Follow the links below to learn more.3.5L V6 DOHC Dual VVT-i 24V Engine:</td>\n",
       "    </tr>\n",
       "  </tbody>\n",
       "</table>\n",
       "</div>"
      ],
      "text/plain": [
       "                                                                                                                                                                                                                                                                                                                                                                                                                                                                                                                                                                                                                                                                                                                                                                                                                                                                                                                                                                                                                                                                                                                                                                                                                                                                                                                                                                                                                                                                                                                                                                                                                                                                                                                                                                                                                                                                                                                                                                                                                                                                                                                                                                                                                                                                                                                                                                                                                                                                                                                                                                                                                                                                                                                                                       text  \\\n",
       "0                                                                                                                                                                                                                                                                                                                                                                                                                                                                                                                                                                                                                                                                                                                                                                                                                                                                                                                                                                                                                                                                                                                                                                                                                                                                                                                                                                                                                                                                                                                                                                                                                                                                                                                                                                                                                                                                                                                                                                                                                                                                                                                                                                                                                                                                                                                                                                                                                                                                                                                                                                                                                                         QR Code Link to This Post All maintenance receipts available, one owner truck. Cash sale. No trades.   6477478013   \n",
       "1  0 \\nNEW YORK: Automakers reported mixed US car sales in January, with strong demand for SUVs and pickup trucks continuing to provide a cushion in a declining overall auto market. \\nFord and Fiat Chrysler reported declines in year-over-year sales, while General Motors scored a modest increase and Toyota saw a more substantial jump. \\nUS car sales fell last year for the first time since the financial crisis and are projected to decline again in 2018. Still, analysts and industry executives expect US sales this year to come in above a solid 16 million vehicles amid low unemployment and strong consumer confidence. \\n“US economic factors are very healthy and we’re seeing the effect in the auto industry — not just in strong demand for SUVs and pickups, but in demand for high trim versions of vehicles,” said Mark LaNeve, Ford’s vice president for US marketing. \\nFord’s January sales dropped 6.6 percent from the same month of 2017 to 161,143. Within the total, car sales slumped 23.3 percent, including big drops for the Fusion and Focus, but that was partially countered by increased sales of the market-leading F-Series pickups. \\nFiat Chrysler (FCA) saw sales fall 13 percent to 132,803, with gains for the Jeep brand offset by hefty declines in other models. \\nAnd in contrast with the trend for strong sales of pickup trucks, the Ram truck brand fell 16 percent. However, FCA introduced a revamped fleet of the popular pickup at the Detroit Auto Show last month. \\nMeanwhile, GM posted a 1.3 percent increase in overall sales compared to January 2017 to 198,548. The biggest US automaker pointed to strong sales of larger vehicles, including the Silverado pickup truck and Chevrolet Equinox SUV. \\nToyota lead the pack with a 16.8 percent jump last month to 167,056, on gains in light trucks and in its sedan business. \\nThe Toyota Camry, which was revamped with the 2018 model, saw a 21.3 percent increase in January. The company also will introduce an upgraded Avalon sedan to dealerships this spring. \\nEdmunds.com had projected a 1.4 percent drop in overall sales compared with the same month of last year, largely due to seasonal factors. \\n“In January, automakers are expected to pull the reins in on the more generous incentive programs that we saw at the end of 2017,” Jessica Caldwell, executive director of industry analysis at Edmunds, said in a forecast note. \\n“However, it’s typical to see a slowdown at dealerships in January following the high-selling holiday months. This isn’t necessarily a solid indicator of the direction that the year is headed in terms of overall sales.” \\nCopyright AFP (Agence France-Press), 2018   \n",
       "2                                                                                                                                                                                                                                                                                                                                                                                                                                                                                                                                                                                                                                                                                                                                                                                                                                                                                                                                                                                                                                                                                                                                                                                                                                                                                                                                                                                                                                                                                                                                                                                                                                                                                                                                                                                                                                                                                                                                                                                                                                                                                                                                                                                                                                                                                                                                                                                                                                                                                                                                    transmission: automatic   2005 Toyota Camry LE 4 door 4 cyl AUTOMATIC VERY CLEAN INSIDE CLOTH INTERIOR NICE. Just has a Little Hale damage car runs. GREAT 167300 MILEAGE. CALL show contact info . $2450   6473894894   \n",
       "3                                                                                                                                                                                                                                                                                                                                                                                                                                                                                                                                                                                                                                                                                                                                                                                                                                                                                                                                                                                                                                                                                                                                                                                                                                                                                                                                                                                                                                                                                                                                                                                                                                                                                                                                                                                                                                                                                                                                                                                                                                                                                                                                                                                                                                  favorite this post Brand New Toyota Avalon Floor Mats - $115 (New Britain) hide this posting unhide QR Code Link to This Post I have a set of front and rear original Toyota Avalon floor mats in black. These have never been installed and are still in the original wrapping. These mats based on Toyota's website will fit all Avalons from 2013-2018 and retail for 154.47 . If interested I can be reached at show contact info . Thanks do NOT contact me with unsolicited services or offers post id: 6468888955   \n",
       "4                                                                                                                                                                                                                                                                                                                                                                                                                                                                                                                                                                                                                                                                                                                                                                                                                                                                                                                                                                                                                                                                                                                                                                                                                                                                                                                                                                                                                                                                                                                                                                                                                                                                                                                                                                                                                                                                                                                                                                                                                                                                                                                                                                       more ads by this user QR Code Link to This Post Black w/Piano Black w/Perforated NuLuxe Seat Trim. CARFAX One-Owner. 31/21 Highway/City MPG Obsidian Priced below KBB Fair Purchase Price!Locally owned and operated, Coliseum Lexus of Oakland takes pride in treating customers to the very best in customer service. Our Red Carpet Elite programs define Lexus luxury. Also included with all Lexus and Toyota Vehicles unless certified, 3 synthetic oil changes, filter and inspection are included. Follow the links below to learn more.3.5L V6 DOHC Dual VVT-i 24V Engine:   \n",
       "\n",
       "                                                                                                                                                                                                                                                                                                                                                                                                                                                                                                                                                                                                                                                                                                                                                                                                                                                                                                                                                                                                                                                                                                                                                                                                                                                                                                                                                                                                                                                                                                                                                                                                                                                                                                                                                                                                                                                                                                                                                                                                                                                                                                                                                                                                                                                                                                                                                                                                                                                                                                                                                                                                                                                                                                                                                               text_clean  \n",
       "0                                                                                                                                                                                                                                                                                                                                                                                                                                                                                                                                                                                                                                                                                                                                                                                                                                                                                                                                                                                                                                                                                                                                                                                                                                                                                                                                                                                                                                                                                                                                                                                                                                                                                                                                                                                                                                                                                                                                                                                                                                                                                                                                                                                                                                                                                                                                                                                                                                                                                                                                                                                                                                                       QR Code Link to This Post All maintenance receipts available, one owner truck. Cash sale. No trades.   6477478013  \n",
       "1  0 .  NEW YORK: Automakers reported mixed US car sales in January, with strong demand for SUVs and pickup trucks continuing to provide a cushion in a declining overall auto market. .  Ford and Fiat Chrysler reported declines in year-over-year sales, while General Motors scored a modest increase and Toyota saw a more substantial jump. .  US car sales fell last year for the first time since the financial crisis and are projected to decline again in 2018. Still, analysts and industry executives expect US sales this year to come in above a solid 16 million vehicles amid low unemployment and strong consumer confidence. .  “US economic factors are very healthy and we’re seeing the effect in the auto industry — not just in strong demand for SUVs and pickups, but in demand for high trim versions of vehicles,” said Mark LaNeve, Ford’s vice president for US marketing. .  Ford’s January sales dropped 6.6 percent from the same month of 2017 to 161,143. Within the total, car sales slumped 23.3 percent, including big drops for the Fusion and Focus, but that was partially countered by increased sales of the market-leading F-Series pickups. .  Fiat Chrysler (FCA) saw sales fall 13 percent to 132,803, with gains for the Jeep brand offset by hefty declines in other models. .  And in contrast with the trend for strong sales of pickup trucks, the Ram truck brand fell 16 percent. However, FCA introduced a revamped fleet of the popular pickup at the Detroit Auto Show last month. .  Meanwhile, GM posted a 1.3 percent increase in overall sales compared to January 2017 to 198,548. The biggest US automaker pointed to strong sales of larger vehicles, including the Silverado pickup truck and Chevrolet Equinox SUV. .  Toyota lead the pack with a 16.8 percent jump last month to 167,056, on gains in light trucks and in its sedan business. .  The Toyota Camry, which was revamped with the 2018 model, saw a 21.3 percent increase in January. The company also will introduce an upgraded Avalon sedan to dealerships this spring. .  Edmunds.com had projected a 1.4 percent drop in overall sales compared with the same month of last year, largely due to seasonal factors. .  “In January, automakers are expected to pull the reins in on the more generous incentive programs that we saw at the end of 2017,” Jessica Caldwell, executive director of industry analysis at Edmunds, said in a forecast note. .  “However, it’s typical to see a slowdown at dealerships in January following the high-selling holiday months. This isn’t necessarily a solid indicator of the direction that the year is headed in terms of overall sales.” .  Copyright AFP (Agence France-Press), 2018  \n",
       "2                                                                                                                                                                                                                                                                                                                                                                                                                                                                                                                                                                                                                                                                                                                                                                                                                                                                                                                                                                                                                                                                                                                                                                                                                                                                                                                                                                                                                                                                                                                                                                                                                                                                                                                                                                                                                                                                                                                                                                                                                                                                                                                                                                                                                                                                                                                                                                                                                                                                                                                                                  transmission: automatic   2005 Toyota Camry LE 4 door 4 cyl AUTOMATIC VERY CLEAN INSIDE CLOTH INTERIOR NICE. Just has a Little Hale damage car runs. GREAT 167300 MILEAGE. CALL show contact info . $2450   6473894894  \n",
       "3                                                                                                                                                                                                                                                                                                                                                                                                                                                                                                                                                                                                                                                                                                                                                                                                                                                                                                                                                                                                                                                                                                                                                                                                                                                                                                                                                                                                                                                                                                                                                                                                                                                                                                                                                                                                                                                                                                                                                                                                                                                                                                                                                                                                                                                favorite this post Brand New Toyota Avalon Floor Mats - $115 (New Britain) hide this posting unhide QR Code Link to This Post I have a set of front and rear original Toyota Avalon floor mats in black. These have never been installed and are still in the original wrapping. These mats based on Toyota's website will fit all Avalons from 2013-2018 and retail for 154.47 . If interested I can be reached at show contact info . Thanks do NOT contact me with unsolicited services or offers post id: 6468888955  \n",
       "4                                                                                                                                                                                                                                                                                                                                                                                                                                                                                                                                                                                                                                                                                                                                                                                                                                                                                                                                                                                                                                                                                                                                                                                                                                                                                                                                                                                                                                                                                                                                                                                                                                                                                                                                                                                                                                                                                                                                                                                                                                                                                                                                                                                     more ads by this user QR Code Link to This Post Black w/Piano Black w/Perforated NuLuxe Seat Trim. CARFAX One-Owner. 31/21 Highway/City MPG Obsidian Priced below KBB Fair Purchase Price!Locally owned and operated, Coliseum Lexus of Oakland takes pride in treating customers to the very best in customer service. Our Red Carpet Elite programs define Lexus luxury. Also included with all Lexus and Toyota Vehicles unless certified, 3 synthetic oil changes, filter and inspection are included. Follow the links below to learn more.3.5L V6 DOHC Dual VVT-i 24V Engine:  "
      ]
     },
     "execution_count": 15,
     "metadata": {},
     "output_type": "execute_result"
    }
   ],
   "source": [
    "pd.set_option('display.max_colwidth', None)\n",
    "news_eng[['text', 'text_clean']].head(5)"
   ]
  },
  {
   "cell_type": "markdown",
   "metadata": {},
   "source": [
    "#### Summarizing a single article"
   ]
  },
  {
   "cell_type": "code",
   "execution_count": 16,
   "metadata": {},
   "outputs": [
    {
     "data": {
      "text/plain": [
       "'0 .  NEW YORK: Automakers reported mixed US car sales in January, with strong demand for SUVs and pickup trucks continuing to provide a cushion in a declining overall auto market. .  Ford and Fiat Chrysler reported declines in year-over-year sales, while General Motors scored a modest increase and Toyota saw a more substantial jump. .  US car sales fell last year for the first time since the financial crisis and are projected to decline again in 2018. Still, analysts and industry executives expect US sales this year to come in above a solid 16 million vehicles amid low unemployment and strong consumer confidence. .  “US economic factors are very healthy and we’re seeing the effect in the auto industry — not just in strong demand for SUVs and pickups, but in demand for high trim versions of vehicles,” said Mark LaNeve, Ford’s vice president for US marketing. .  Ford’s January sales dropped 6.6 percent from the same month of 2017 to 161,143. Within the total, car sales slumped 23.3 percent, including big drops for the Fusion and Focus, but that was partially countered by increased sales of the market-leading F-Series pickups. .  Fiat Chrysler (FCA) saw sales fall 13 percent to 132,803, with gains for the Jeep brand offset by hefty declines in other models. .  And in contrast with the trend for strong sales of pickup trucks, the Ram truck brand fell 16 percent. However, FCA introduced a revamped fleet of the popular pickup at the Detroit Auto Show last month. .  Meanwhile, GM posted a 1.3 percent increase in overall sales compared to January 2017 to 198,548. The biggest US automaker pointed to strong sales of larger vehicles, including the Silverado pickup truck and Chevrolet Equinox SUV. .  Toyota lead the pack with a 16.8 percent jump last month to 167,056, on gains in light trucks and in its sedan business. .  The Toyota Camry, which was revamped with the 2018 model, saw a 21.3 percent increase in January. The company also will introduce an upgraded Avalon sedan to dealerships this spring. .  Edmunds.com had projected a 1.4 percent drop in overall sales compared with the same month of last year, largely due to seasonal factors. .  “In January, automakers are expected to pull the reins in on the more generous incentive programs that we saw at the end of 2017,” Jessica Caldwell, executive director of industry analysis at Edmunds, said in a forecast note. .  “However, it’s typical to see a slowdown at dealerships in January following the high-selling holiday months. This isn’t necessarily a solid indicator of the direction that the year is headed in terms of overall sales.” .  Copyright AFP (Agence France-Press), 2018'"
      ]
     },
     "execution_count": 16,
     "metadata": {},
     "output_type": "execute_result"
    }
   ],
   "source": [
    "text = str(news_eng['text_clean'][1])\n",
    "text"
   ]
  },
  {
   "cell_type": "code",
   "execution_count": 17,
   "metadata": {},
   "outputs": [
    {
     "name": "stdout",
     "output_type": "stream",
     "text": [
      "CPU times: user 1.17 s, sys: 89.4 ms, total: 1.26 s\n",
      "Wall time: 1.26 s\n"
     ]
    },
    {
     "data": {
      "text/plain": [
       "'Ford and Fiat Chrysler reported declines in year-over-year sales. General Motors scored a modest increase and Toyota saw a more substantial jump. US car sales fell last year for the first time since the financial crisis. Still, analysts expect US sales this year to come in above a solid 16 million vehicles.'"
      ]
     },
     "execution_count": 17,
     "metadata": {},
     "output_type": "execute_result"
    }
   ],
   "source": [
    "%time ts.summarize(text)"
   ]
  },
  {
   "cell_type": "code",
   "execution_count": 18,
   "metadata": {},
   "outputs": [
    {
     "data": {
      "text/plain": [
       "\"February 01, 2018, 09:13:  .  (RTTNews.com) - The Japanese stock market is declining on Friday following the mixed cues overnight from Wall Street and on a stronger yen. Rising U.S. bond yields also dented investor sentiment. .  In late-morning trades, the benchmark Nikkei 225 Index is losing 328.25 points or 1.40 percent to 23,157.86, off a low of 23,122.45 earlier. The Japanese market snapped a six-day losing streak and closed higher on Thursday. .  The major exporters are mixed on a stronger yen. Canon is advancing almost 1 percent and Sony is adding 0.4 percent, while Mitsubishi Electric is losing more than 1 percent and Panasonic is declining 0.5 percent. SoftBank Group's shares are lower by 1 percent. .  Among automakers, Toyota is declining 0.6 percent, while Honda is adding 0.1 percent. In the banking sector, Sumitomo Mitsui Financial is losing almost 1 percent and Mitsubishi UFJ Financial is lower by 1 percent. .  In the oil space, Inpex and Japan Petroleum Exploration are losing more than 1 percent each despite higher crude oil prices overnight. .  Among the market's best performers, Ricoh is gaining more than 12 percent on upbeat nine-month earnings results and raising its full-year forecast, while Kobe Steel is advancing more than 6 percent on a turnaround to profit in the nine-month period. Kao Corp. is higher by more than 3 percent. .  On the flip side, Casio Computer and Konica Minolta are losing more than 7 percent each, while Kyocera is declining almost 6 percent and Okuma Corp. is lower by more than 4 percent. .  On the economic front, the Bank of Japan said that the monetary base in Japan was up 9.7 percent on year in January, coming in at 477.259 trillion yen. That follows the 11.2 percent increase in December. .  In the currency market, the U.S. dollar is trading in the lower 109 yen-range on Friday. .  On Wall Street, stocks closed mixed on Thursday as traders seemed reluctant to make significant moves ahead of the release of the closely watched monthly jobs report on Friday. Earnings reports due after the close of trading from Google parent Alphabet, Amazon and Apple may also have kept traders on the sidelines. .  While the Dow inched up 37.32 points or 0.1 percent to 26,186.71, the Nasdaq fell 25.62 points or 0.4 percent to 7,385.86 and the S&P 500 edged down 1.83 points or 0.1 percent to 2,821.98. .  The major European markets all moved to the downside on Thursday. While the German DAX Index slumped by 1.4 percent, the U.K.'s FTSE 100 Index and the French CAC 40 Index fell by 0.6 percent and 0.5 percent, respectively. .  Crude oil prices rebounded Thursday amid signs that OPEC is complying with supply quotas. WTI crude rose $1.07 or 1.7 percent to close at $65.80 a barrel on the New York Mercantile Exchange, near its recent 4-year highs.  //www.rttnews.com/2858401/japanese-market-declines.aspx   This article appears in: Stocks , World Markets , Politics More from RTT News\""
      ]
     },
     "execution_count": 18,
     "metadata": {},
     "output_type": "execute_result"
    }
   ],
   "source": [
    "text = str(news_eng['text_clean'][5])\n",
    "text"
   ]
  },
  {
   "cell_type": "code",
   "execution_count": 19,
   "metadata": {},
   "outputs": [
    {
     "name": "stdout",
     "output_type": "stream",
     "text": [
      "CPU times: user 1.42 s, sys: 108 ms, total: 1.52 s\n",
      "Wall time: 1.52 s\n"
     ]
    },
    {
     "data": {
      "text/plain": [
       "'The benchmark Nikkei 225 Index is losing 328.25 points or 1.40 percent to 23,157.86. The Japanese market snapped a six-day losing streak and closed higher on Thursday. On Wall Street, stocks closed mixed on Thursday as traders seemed reluctant to make significant moves ahead of the release of the closely watched monthly jobs report on Friday.'"
      ]
     },
     "execution_count": 19,
     "metadata": {},
     "output_type": "execute_result"
    }
   ],
   "source": [
    "%time ts.summarize(text)"
   ]
  },
  {
   "cell_type": "markdown",
   "metadata": {},
   "source": [
    "#### Summarizing across articles (10 articles)"
   ]
  },
  {
   "cell_type": "code",
   "execution_count": 20,
   "metadata": {},
   "outputs": [],
   "source": [
    "text = str(news_eng['text_clean'][:10].tolist())"
   ]
  },
  {
   "cell_type": "code",
   "execution_count": 21,
   "metadata": {},
   "outputs": [
    {
     "name": "stdout",
     "output_type": "stream",
     "text": [
      "CPU times: user 1.35 s, sys: 188 ms, total: 1.54 s\n",
      "Wall time: 1.54 s\n"
     ]
    },
    {
     "data": {
      "text/plain": [
       "'Ford and Fiat Chrysler reported declines in year-over-year sales, while General Motors scored a modest increase and Toyota saw a more substantial jump. US car sales fell last year for the first time since the financial crisis and are projected to decline again in 2018. Still, analysts and industry executives expect US sales this year to come in above a solid 16 million vehicles.'"
      ]
     },
     "execution_count": 21,
     "metadata": {},
     "output_type": "execute_result"
    }
   ],
   "source": [
    "%time ts.summarize(text)"
   ]
  },
  {
   "cell_type": "markdown",
   "metadata": {},
   "source": [
    "#### Summarizing across articles (100 articles)"
   ]
  },
  {
   "cell_type": "code",
   "execution_count": 22,
   "metadata": {},
   "outputs": [],
   "source": [
    "text = str(news_eng['text_clean'][:100].tolist())"
   ]
  },
  {
   "cell_type": "code",
   "execution_count": 23,
   "metadata": {},
   "outputs": [
    {
     "name": "stdout",
     "output_type": "stream",
     "text": [
      "CPU times: user 2.12 s, sys: 156 ms, total: 2.28 s\n",
      "Wall time: 2.27 s\n"
     ]
    },
    {
     "data": {
      "text/plain": [
       "'Ford and Fiat Chrysler reported declines in year-over-year sales, while General Motors scored a modest increase and Toyota saw a more substantial jump. US car sales fell last year for the first time since the financial crisis and are projected to decline again in 2018. Still, analysts and industry executives expect US sales this year to come in above a solid 16 million vehicles.'"
      ]
     },
     "execution_count": 23,
     "metadata": {},
     "output_type": "execute_result"
    }
   ],
   "source": [
    "%time ts.summarize(text)"
   ]
  },
  {
   "cell_type": "markdown",
   "metadata": {},
   "source": [
    "#### Summarizing across articles (all articles)"
   ]
  },
  {
   "cell_type": "code",
   "execution_count": 24,
   "metadata": {},
   "outputs": [],
   "source": [
    "text = str(news_eng['text_clean'].tolist())"
   ]
  },
  {
   "cell_type": "code",
   "execution_count": 25,
   "metadata": {},
   "outputs": [
    {
     "name": "stdout",
     "output_type": "stream",
     "text": [
      "CPU times: user 1.89 s, sys: 176 ms, total: 2.07 s\n",
      "Wall time: 2.07 s\n"
     ]
    },
    {
     "data": {
      "text/plain": [
       "'Ford and Fiat Chrysler reported declines in year-over-year sales, while General Motors scored a modest increase and Toyota saw a more substantial jump. US car sales fell last year for the first time since the financial crisis and are projected to decline again in 2018. Still, analysts and industry executives expect US sales this year to come in above a solid 16 million vehicles.'"
      ]
     },
     "execution_count": 25,
     "metadata": {},
     "output_type": "execute_result"
    }
   ],
   "source": [
    "%time ts.summarize(text)"
   ]
  },
  {
   "cell_type": "code",
   "execution_count": null,
   "metadata": {},
   "outputs": [],
   "source": []
  },
  {
   "cell_type": "code",
   "execution_count": null,
   "metadata": {},
   "outputs": [],
   "source": []
  },
  {
   "cell_type": "code",
   "execution_count": null,
   "metadata": {},
   "outputs": [],
   "source": []
  },
  {
   "cell_type": "code",
   "execution_count": 26,
   "metadata": {},
   "outputs": [
    {
     "data": {
      "text/plain": [
       "'Sun, 30 October 2022 12:34:57'"
      ]
     },
     "execution_count": 26,
     "metadata": {},
     "output_type": "execute_result"
    }
   ],
   "source": [
    "import datetime\n",
    "import pytz\n",
    "\n",
    "datetime.datetime.now(pytz.timezone('US/Central')).strftime(\"%a, %d %B %Y %H:%M:%S\")"
   ]
  }
 ],
 "metadata": {
  "kernelspec": {
   "display_name": "Python 3 (ipykernel)",
   "language": "python",
   "name": "python3"
  },
  "language_info": {
   "codemirror_mode": {
    "name": "ipython",
    "version": 3
   },
   "file_extension": ".py",
   "mimetype": "text/x-python",
   "name": "python",
   "nbconvert_exporter": "python",
   "pygments_lexer": "ipython3",
   "version": "3.7.12"
  }
 },
 "nbformat": 4,
 "nbformat_minor": 4
}
