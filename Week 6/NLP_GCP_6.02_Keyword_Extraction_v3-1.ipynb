{
 "cells": [
  {
   "cell_type": "markdown",
   "metadata": {},
   "source": [
    "## Keyword Extraction"
   ]
  },
  {
   "cell_type": "markdown",
   "metadata": {},
   "source": [
    "RAKE short for Rapid Automatic Keyword Extraction algorithm, is a domain independent keyword extraction algorithm which tries to determine key phrases in a body of text by analyzing the frequency of word appearance and its co-occurance with other words in the text."
   ]
  },
  {
   "cell_type": "code",
   "execution_count": 1,
   "metadata": {},
   "outputs": [
    {
     "name": "stdout",
     "output_type": "stream",
     "text": [
      "3.7.12 | packaged by conda-forge | (default, Oct 26 2021, 06:08:53) \n",
      "[GCC 9.4.0]\n"
     ]
    }
   ],
   "source": [
    "import os\n",
    "import sys\n",
    "import requests\n",
    "print(sys.version)\n",
    "\n",
    "import re\n",
    "import pandas as pd"
   ]
  },
  {
   "cell_type": "code",
   "execution_count": 2,
   "metadata": {},
   "outputs": [],
   "source": [
    "# !pip install --upgrade rake_nltk"
   ]
  },
  {
   "cell_type": "code",
   "execution_count": 3,
   "metadata": {},
   "outputs": [],
   "source": [
    "from rake_nltk import Rake"
   ]
  },
  {
   "cell_type": "code",
   "execution_count": 4,
   "metadata": {},
   "outputs": [],
   "source": [
    "pd.set_option('max_colwidth', 500)"
   ]
  },
  {
   "cell_type": "markdown",
   "metadata": {},
   "source": [
    "#### Copy files to local FS from GCP bucket"
   ]
  },
  {
   "cell_type": "code",
   "execution_count": 5,
   "metadata": {
    "tags": []
   },
   "outputs": [],
   "source": [
    "def get_gcs_data (bucket_name, folder_name, file_name, path_local):\n",
    "    url = 'https://storage.googleapis.com/' + bucket_name + '/' + folder_name + '/' + file_name\n",
    "    r = requests.get(url)\n",
    "    open(path_local + '/' + file_name , 'wb').write(r.content)"
   ]
  },
  {
   "cell_type": "code",
   "execution_count": 6,
   "metadata": {},
   "outputs": [],
   "source": [
    "path_books = '/home/jupyter/data/books'"
   ]
  },
  {
   "cell_type": "code",
   "execution_count": 7,
   "metadata": {
    "tags": []
   },
   "outputs": [
    {
     "name": "stdout",
     "output_type": "stream",
     "text": [
      "Downloaded: 3boat10.txt\n"
     ]
    }
   ],
   "source": [
    "bucket_name = 'msca-bdp-data-open'\n",
    "folder_name = 'books'\n",
    "file_name = ['3boat10.txt']\n",
    "path_local = path_books\n",
    "\n",
    "os.makedirs(path_local, exist_ok=True)\n",
    "\n",
    "for file in file_name:\n",
    "    get_gcs_data (bucket_name = bucket_name,\n",
    "                 folder_name = folder_name,\n",
    "                 file_name = file,\n",
    "                 path_local = path_local)\n",
    "    print('Downloaded: ' + file)"
   ]
  },
  {
   "cell_type": "markdown",
   "metadata": {},
   "source": [
    "#### Extract keywords"
   ]
  },
  {
   "cell_type": "code",
   "execution_count": 8,
   "metadata": {},
   "outputs": [],
   "source": [
    "text = '''\n",
    "\n",
    "The University of Chicago is an urban research university that has driven new ways of thinking since 1890. Our commitment to free and open inquiry draws inspired scholars to our global campuses, where ideas are born that challenge and change the world.\n",
    "\n",
    "We empower individuals to challenge conventional thinking in pursuit of original ideas. Students in the College develop critical, analytic, and writing skills in our rigorous, interdisciplinary core curriculum. Through graduate programs, students test their ideas with UChicago scholars, and become the next generation of leaders in academia, industry, nonprofits, and government.\n",
    "\n",
    "UChicago research has led to such breakthroughs as discovering the link between cancer and genetics, establishing revolutionary theories of economics, and developing tools to produce reliably excellent urban schooling. We generate new insights for the benefit of present and future generations with our national and affiliated laboratories: Argonne National Laboratory, Fermi National Accelerator Laboratory, and the Marine Biological Laboratory in Woods Hole, Massachusetts.\n",
    "\n",
    "The University of Chicago is enriched by the city we call home. In partnership with our neighbors, we invest in Chicago's mid-South Side across such areas as health, education, economic growth, and the arts. Together with our medical center, we are the largest private employer on the South Side.\n",
    "\n",
    "In all we do, we are driven to dig deeper, push further, and ask bigger questions—and to leverage our knowledge to enrich all human life. Our diverse and creative students and alumni drive innovation, lead international conversations, and make masterpieces. Alumni and faculty, lecturers and postdocs go on to become Nobel laureates, CEOs, university presidents, attorneys general, literary giants, and astronauts. \n",
    "'''"
   ]
  },
  {
   "cell_type": "code",
   "execution_count": 9,
   "metadata": {},
   "outputs": [
    {
     "name": "stdout",
     "output_type": "stream",
     "text": [
      "\n",
      "\n",
      "The University of Chicago is an urban research university that has driven new ways of thinking since 1890. Our commitment to free and open inquiry draws inspired scholars to our global campuses, where ideas are born that challenge and change the world.\n",
      "\n",
      "We empower individuals to challenge conventional thinking in pursuit of original ideas. Students in the College develop critical, analytic, and writing skills in our rigorous, interdisciplinary core curriculum. Through graduate programs, students test their ideas with UChicago scholars, and become the next generation of leaders in academia, industry, nonprofits, and government.\n",
      "\n",
      "UChicago research has led to such breakthroughs as discovering the link between cancer and genetics, establishing revolutionary theories of economics, and developing tools to produce reliably excellent urban schooling. We generate new insights for the benefit of present and future generations with our national and affiliated laboratories: Argonne National Laboratory, Fermi National Accelerator Laboratory, and the Marine Biological Laboratory in Woods Hole, Massachusetts.\n",
      "\n",
      "The University of Chicago is enriched by the city we call home. In partnership with our neighbors, we invest in Chicago's mid-South Side across such areas as health, education, economic growth, and the arts. Together with our medical center, we are the largest private employer on the South Side.\n",
      "\n",
      "In all we do, we are driven to dig deeper, push further, and ask bigger questions—and to leverage our knowledge to enrich all human life. Our diverse and creative students and alumni drive innovation, lead international conversations, and make masterpieces. Alumni and faculty, lecturers and postdocs go on to become Nobel laureates, CEOs, university presidents, attorneys general, literary giants, and astronauts. \n",
      "\n"
     ]
    }
   ],
   "source": [
    "print(text)"
   ]
  },
  {
   "cell_type": "code",
   "execution_count": 10,
   "metadata": {},
   "outputs": [
    {
     "data": {
      "text/plain": [
       "['produce reliably excellent urban schooling',\n",
       " 'open inquiry draws inspired scholars',\n",
       " 'ask bigger questions —',\n",
       " 'fermi national accelerator laboratory',\n",
       " 'marine biological laboratory',\n",
       " 'thinking since 1890',\n",
       " 'lead international conversations',\n",
       " 'largest private employer',\n",
       " 'interdisciplinary core curriculum',\n",
       " 'generate new insights',\n",
       " 'establishing revolutionary theories',\n",
       " 'college develop critical',\n",
       " 'argonne national laboratory',\n",
       " 'urban research university',\n",
       " 'south side across',\n",
       " 'driven new ways',\n",
       " 'challenge conventional thinking',\n",
       " 'become nobel laureates',\n",
       " 'alumni drive innovation',\n",
       " 'uchicago scholars']"
      ]
     },
     "execution_count": 10,
     "metadata": {},
     "output_type": "execute_result"
    }
   ],
   "source": [
    "r = Rake() # Uses stopwords for english from NLTK, and all punctuation characters.\n",
    "\n",
    "r.extract_keywords_from_text(text)\n",
    "\n",
    "keywords = r.get_ranked_phrases() # To get keyword phrases ranked highest to lowest.\n",
    "\n",
    "keywords[:20]"
   ]
  },
  {
   "cell_type": "markdown",
   "metadata": {},
   "source": [
    "### Extracting keywords from the book with RAKE"
   ]
  },
  {
   "cell_type": "code",
   "execution_count": 11,
   "metadata": {},
   "outputs": [],
   "source": [
    "directory = '/home/jupyter/data/books/'\n",
    "book = '3boat10.txt'\n",
    "f = open(directory+book)\n",
    "textRaw = f.read()\n",
    "text = re.sub(r'\\n', ' ', textRaw)"
   ]
  },
  {
   "cell_type": "code",
   "execution_count": 12,
   "metadata": {},
   "outputs": [
    {
     "name": "stdout",
     "output_type": "stream",
     "text": [
      "CPU times: user 4 µs, sys: 1e+03 ns, total: 5 µs\n",
      "Wall time: 11.2 µs\n"
     ]
    },
    {
     "data": {
      "text/plain": [
       "['french mercenaries hover like crouching wolves without',\n",
       " 'old j ., anyhow ,\" rejoined harris',\n",
       " 'chilly churches behind wheezy old men',\n",
       " 'project gutenberg etext three men',\n",
       " 'caught fifteen dozen perch yesterday evening ;\"',\n",
       " 'bellow forth roystering drinking songs',\n",
       " 'eighteen pounds six ounces ,\" said',\n",
       " 'bally old coffin ,\" observed george',\n",
       " 'aunt maria would mildly observe',\n",
       " 'scowled fiercely round upon us',\n",
       " 'marlow manor owned saxon algar',\n",
       " 'launch would give one final shriek',\n",
       " 'boards rouses every evil instinct',\n",
       " 'stout old ladies simply nowhere',\n",
       " 'ever heard herr slossenn boschen',\n",
       " 'herr slossenn boschen accompanied',\n",
       " 'would get herr slossenn boschen',\n",
       " 'everything ,\" uncle podger would reply',\n",
       " 'known disease going within ten miles',\n",
       " 'completely ruined one late autumn']"
      ]
     },
     "execution_count": 12,
     "metadata": {},
     "output_type": "execute_result"
    }
   ],
   "source": [
    "%time\n",
    "r.extract_keywords_from_text(text)\n",
    "keywords = r.get_ranked_phrases()\n",
    "\n",
    "keywords[:20]"
   ]
  },
  {
   "cell_type": "markdown",
   "metadata": {},
   "source": [
    "### Extracting keywords from news articles with RAKE"
   ]
  },
  {
   "cell_type": "code",
   "execution_count": 13,
   "metadata": {},
   "outputs": [
    {
     "data": {
      "text/plain": [
       "(100, 4)"
      ]
     },
     "execution_count": 13,
     "metadata": {},
     "output_type": "execute_result"
    }
   ],
   "source": [
    "news_path = 'https://storage.googleapis.com/msca-bdp-data-open/news/news_toyota.json'\n",
    "\n",
    "news_df = pd.read_json(news_path, orient='records', lines=True)\n",
    "news_df.shape"
   ]
  },
  {
   "cell_type": "code",
   "execution_count": 14,
   "metadata": {},
   "outputs": [],
   "source": [
    "# Filter non-English news\n",
    "news_df = news_df[news_df['language']=='english'].reset_index(drop=True)"
   ]
  },
  {
   "cell_type": "code",
   "execution_count": 15,
   "metadata": {},
   "outputs": [],
   "source": [
    "# Remove /n characters to avoid problems with analysis\n",
    "news_df['text'] = news_df['text'].map(lambda x: re.sub(r'\\n', '.  ', str(x)))"
   ]
  },
  {
   "cell_type": "code",
   "execution_count": 16,
   "metadata": {},
   "outputs": [
    {
     "data": {
      "text/html": [
       "<div>\n",
       "<style scoped>\n",
       "    .dataframe tbody tr th:only-of-type {\n",
       "        vertical-align: middle;\n",
       "    }\n",
       "\n",
       "    .dataframe tbody tr th {\n",
       "        vertical-align: top;\n",
       "    }\n",
       "\n",
       "    .dataframe thead th {\n",
       "        text-align: right;\n",
       "    }\n",
       "</style>\n",
       "<table border=\"1\" class=\"dataframe\">\n",
       "  <thead>\n",
       "    <tr style=\"text-align: right;\">\n",
       "      <th></th>\n",
       "      <th>text</th>\n",
       "    </tr>\n",
       "  </thead>\n",
       "  <tbody>\n",
       "    <tr>\n",
       "      <th>0</th>\n",
       "      <td>QR Code Link to This Post All maintenance receipts available, one owner truck. Cash sale. No trades.   6477478013</td>\n",
       "    </tr>\n",
       "    <tr>\n",
       "      <th>1</th>\n",
       "      <td>0 .  NEW YORK: Automakers reported mixed US car sales in January, with strong demand for SUVs and pickup trucks continuing to provide a cushion in a declining overall auto market. .  Ford and Fiat...</td>\n",
       "    </tr>\n",
       "    <tr>\n",
       "      <th>2</th>\n",
       "      <td>transmission: automatic   2005 Toyota Camry LE 4 door 4 cyl AUTOMATIC VERY CLEAN INSIDE CLOTH INTERIOR NICE. Just has a Little Hale damage car runs. GREAT 167300 MILEAGE. CALL show contact info . ...</td>\n",
       "    </tr>\n",
       "    <tr>\n",
       "      <th>3</th>\n",
       "      <td>favorite this post Brand New Toyota Avalon Floor Mats - $115 (New Britain) hide this posting unhide QR Code Link to This Post I have a set of front and rear original Toyota Avalon floor mats in bl...</td>\n",
       "    </tr>\n",
       "    <tr>\n",
       "      <th>4</th>\n",
       "      <td>more ads by this user QR Code Link to This Post Black w/Piano Black w/Perforated NuLuxe Seat Trim. CARFAX One-Owner. 31/21 Highway/City MPG Obsidian Priced below KBB Fair Purchase Price!Locally ow...</td>\n",
       "    </tr>\n",
       "  </tbody>\n",
       "</table>\n",
       "</div>"
      ],
      "text/plain": [
       "                                                                                                                                                                                                      text\n",
       "0                                                                                        QR Code Link to This Post All maintenance receipts available, one owner truck. Cash sale. No trades.   6477478013\n",
       "1  0 .  NEW YORK: Automakers reported mixed US car sales in January, with strong demand for SUVs and pickup trucks continuing to provide a cushion in a declining overall auto market. .  Ford and Fiat...\n",
       "2  transmission: automatic   2005 Toyota Camry LE 4 door 4 cyl AUTOMATIC VERY CLEAN INSIDE CLOTH INTERIOR NICE. Just has a Little Hale damage car runs. GREAT 167300 MILEAGE. CALL show contact info . ...\n",
       "3  favorite this post Brand New Toyota Avalon Floor Mats - $115 (New Britain) hide this posting unhide QR Code Link to This Post I have a set of front and rear original Toyota Avalon floor mats in bl...\n",
       "4  more ads by this user QR Code Link to This Post Black w/Piano Black w/Perforated NuLuxe Seat Trim. CARFAX One-Owner. 31/21 Highway/City MPG Obsidian Priced below KBB Fair Purchase Price!Locally ow..."
      ]
     },
     "execution_count": 16,
     "metadata": {},
     "output_type": "execute_result"
    }
   ],
   "source": [
    "pd.set_option('display.max_colwidth', 200)\n",
    "news_df[['text']].head(5)"
   ]
  },
  {
   "cell_type": "code",
   "execution_count": 17,
   "metadata": {},
   "outputs": [],
   "source": [
    "r = Rake() # Uses stopwords for english from NLTK, and all puntuation characters.\n",
    "\n",
    "def rake_implement(x,r):\n",
    "    r.extract_keywords_from_text(x) # r.extract_keywords_from_text(<text to process>)\n",
    "    return r.get_ranked_phrases() # r.get_ranked_phrases() # To get keyword phrases ranked highest to lowest."
   ]
  },
  {
   "cell_type": "code",
   "execution_count": 18,
   "metadata": {},
   "outputs": [],
   "source": [
    "news_df['rake_phrases']=news_df['text'].apply(lambda x: rake_implement(x,r))"
   ]
  },
  {
   "cell_type": "markdown",
   "metadata": {},
   "source": [
    "#### Appending RAKE keywords to Pandas DF"
   ]
  },
  {
   "cell_type": "code",
   "execution_count": 19,
   "metadata": {},
   "outputs": [
    {
     "data": {
      "text/html": [
       "<div>\n",
       "<style scoped>\n",
       "    .dataframe tbody tr th:only-of-type {\n",
       "        vertical-align: middle;\n",
       "    }\n",
       "\n",
       "    .dataframe tbody tr th {\n",
       "        vertical-align: top;\n",
       "    }\n",
       "\n",
       "    .dataframe thead th {\n",
       "        text-align: right;\n",
       "    }\n",
       "</style>\n",
       "<table border=\"1\" class=\"dataframe\">\n",
       "  <thead>\n",
       "    <tr style=\"text-align: right;\">\n",
       "      <th></th>\n",
       "      <th>text</th>\n",
       "      <th>rake_phrases</th>\n",
       "    </tr>\n",
       "  </thead>\n",
       "  <tbody>\n",
       "    <tr>\n",
       "      <th>0</th>\n",
       "      <td>QR Code Link to This Post All maintenance receipts available, one owner truck. Cash sale. No trades.   6477478013</td>\n",
       "      <td>[qr code link, one owner truck, maintenance receipts available, cash sale, trades, post, 6477478013]</td>\n",
       "    </tr>\n",
       "    <tr>\n",
       "      <th>1</th>\n",
       "      <td>0 .  NEW YORK: Automakers reported mixed US car sales in January, with strong demand for SUVs and pickup trucks continuing to provide a cushion in a declining overall auto market. .  Ford and Fiat...</td>\n",
       "      <td>[solid 16 million vehicles amid low unemployment, ram truck brand fell 16 percent, automakers reported mixed us car sales, us car sales fell last year, vehicles ,” said mark laneve, detroit auto s...</td>\n",
       "    </tr>\n",
       "    <tr>\n",
       "      <th>2</th>\n",
       "      <td>transmission: automatic   2005 Toyota Camry LE 4 door 4 cyl AUTOMATIC VERY CLEAN INSIDE CLOTH INTERIOR NICE. Just has a Little Hale damage car runs. GREAT 167300 MILEAGE. CALL show contact info . ...</td>\n",
       "      <td>[automatic 2005 toyota camry le 4 door 4 cyl automatic, little hale damage car runs, clean inside cloth interior nice, call show contact info, great 167300 mileage, 2450 6473894894, transmission]</td>\n",
       "    </tr>\n",
       "    <tr>\n",
       "      <th>3</th>\n",
       "      <td>favorite this post Brand New Toyota Avalon Floor Mats - $115 (New Britain) hide this posting unhide QR Code Link to This Post I have a set of front and rear original Toyota Avalon floor mats in bl...</td>\n",
       "      <td>[post brand new toyota avalon floor mats, rear original toyota avalon floor mats, posting unhide qr code link, offers post id, show contact info, mats based, new britain, original wrapping, toyota...</td>\n",
       "    </tr>\n",
       "    <tr>\n",
       "      <th>4</th>\n",
       "      <td>more ads by this user QR Code Link to This Post Black w/Piano Black w/Perforated NuLuxe Seat Trim. CARFAX One-Owner. 31/21 Highway/City MPG Obsidian Priced below KBB Fair Purchase Price!Locally ow...</td>\n",
       "      <td>[red carpet elite programs define lexus luxury, 5l v6 dohc dual vvt, user qr code link, toyota vehicles unless certified, perforated nuluxe seat trim, kbb fair purchase price, city mpg obsidian pr...</td>\n",
       "    </tr>\n",
       "  </tbody>\n",
       "</table>\n",
       "</div>"
      ],
      "text/plain": [
       "                                                                                                                                                                                                      text  \\\n",
       "0                                                                                        QR Code Link to This Post All maintenance receipts available, one owner truck. Cash sale. No trades.   6477478013   \n",
       "1  0 .  NEW YORK: Automakers reported mixed US car sales in January, with strong demand for SUVs and pickup trucks continuing to provide a cushion in a declining overall auto market. .  Ford and Fiat...   \n",
       "2  transmission: automatic   2005 Toyota Camry LE 4 door 4 cyl AUTOMATIC VERY CLEAN INSIDE CLOTH INTERIOR NICE. Just has a Little Hale damage car runs. GREAT 167300 MILEAGE. CALL show contact info . ...   \n",
       "3  favorite this post Brand New Toyota Avalon Floor Mats - $115 (New Britain) hide this posting unhide QR Code Link to This Post I have a set of front and rear original Toyota Avalon floor mats in bl...   \n",
       "4  more ads by this user QR Code Link to This Post Black w/Piano Black w/Perforated NuLuxe Seat Trim. CARFAX One-Owner. 31/21 Highway/City MPG Obsidian Priced below KBB Fair Purchase Price!Locally ow...   \n",
       "\n",
       "                                                                                                                                                                                              rake_phrases  \n",
       "0                                                                                                     [qr code link, one owner truck, maintenance receipts available, cash sale, trades, post, 6477478013]  \n",
       "1  [solid 16 million vehicles amid low unemployment, ram truck brand fell 16 percent, automakers reported mixed us car sales, us car sales fell last year, vehicles ,” said mark laneve, detroit auto s...  \n",
       "2      [automatic 2005 toyota camry le 4 door 4 cyl automatic, little hale damage car runs, clean inside cloth interior nice, call show contact info, great 167300 mileage, 2450 6473894894, transmission]  \n",
       "3  [post brand new toyota avalon floor mats, rear original toyota avalon floor mats, posting unhide qr code link, offers post id, show contact info, mats based, new britain, original wrapping, toyota...  \n",
       "4  [red carpet elite programs define lexus luxury, 5l v6 dohc dual vvt, user qr code link, toyota vehicles unless certified, perforated nuluxe seat trim, kbb fair purchase price, city mpg obsidian pr...  "
      ]
     },
     "execution_count": 19,
     "metadata": {},
     "output_type": "execute_result"
    }
   ],
   "source": [
    "news_df[['text', 'rake_phrases']].head(5)"
   ]
  },
  {
   "cell_type": "markdown",
   "metadata": {},
   "source": [
    "#### Selecting on RAKE keywords"
   ]
  },
  {
   "cell_type": "code",
   "execution_count": 20,
   "metadata": {},
   "outputs": [
    {
     "data": {
      "text/html": [
       "<div>\n",
       "<style scoped>\n",
       "    .dataframe tbody tr th:only-of-type {\n",
       "        vertical-align: middle;\n",
       "    }\n",
       "\n",
       "    .dataframe tbody tr th {\n",
       "        vertical-align: top;\n",
       "    }\n",
       "\n",
       "    .dataframe thead th {\n",
       "        text-align: right;\n",
       "    }\n",
       "</style>\n",
       "<table border=\"1\" class=\"dataframe\">\n",
       "  <thead>\n",
       "    <tr style=\"text-align: right;\">\n",
       "      <th></th>\n",
       "      <th>text</th>\n",
       "      <th>rake_phrases</th>\n",
       "    </tr>\n",
       "  </thead>\n",
       "  <tbody>\n",
       "    <tr>\n",
       "      <th>1</th>\n",
       "      <td>0 .  NEW YORK: Automakers reported mixed US car sales in January, with strong demand for SUVs and pickup trucks continuing to provide a cushion in a declining overall auto market. .  Ford and Fiat...</td>\n",
       "      <td>solid 16 million vehicles amid low unemployment, ram truck brand fell 16 percent, automakers reported mixed us car sales, us car sales fell last year, vehicles ,” said mark laneve, detroit auto sh...</td>\n",
       "    </tr>\n",
       "    <tr>\n",
       "      <th>2</th>\n",
       "      <td>transmission: automatic   2005 Toyota Camry LE 4 door 4 cyl AUTOMATIC VERY CLEAN INSIDE CLOTH INTERIOR NICE. Just has a Little Hale damage car runs. GREAT 167300 MILEAGE. CALL show contact info . ...</td>\n",
       "      <td>automatic 2005 toyota camry le 4 door 4 cyl automatic, little hale damage car runs, clean inside cloth interior nice, call show contact info, great 167300 mileage, 2450 6473894894, transmission</td>\n",
       "    </tr>\n",
       "    <tr>\n",
       "      <th>7</th>\n",
       "      <td>transmission: automatic QR Code Link to This Post I'm selling this really nice Camry. Automatic transmission. Leather. Moon roof. Toyota certified parts on car. New tires. Alloy wheels. Smog cert ...</td>\n",
       "      <td>tagged til next september, automatic qr code link, text show contact info, toyota certified parts, really nice camry, offers post id, automatic transmission, unsolicited services, smog cert, new t...</td>\n",
       "    </tr>\n",
       "    <tr>\n",
       "      <th>9</th>\n",
       "      <td>Filed under: Earnings/Financials , Chrysler , Fiat , Ford , Honda , Nissan , RAM , Toyota .  Continue reading Trucks, SUVs — and Camry — shine in mixed U.S. January vehicle sales .  Trucks, SUVs —...</td>\n",
       "      <td>january vehicle sales originally appeared, 01 feb 2018 17, autoblog http :// ift, january vehicle sales, feeds .. permalink, camry — shine, camry — shine, continue reading trucks, suvs —, suvs —, ...</td>\n",
       "    </tr>\n",
       "    <tr>\n",
       "      <th>20</th>\n",
       "      <td>cars As-it-happens update ⋅ February 2, 2018 NEWS 5 hot vehicles in January: Toyota, Nissan among leaders USA TODAY Here are five of the best-selling vehicles in the industry in January, several o...</td>\n",
       "      <td>nissan among leaders usa today, happens update ⋅ february 2, 2018 news 5 hot vehicles, rss feed send feedback, stalwart camry sedan, selling vehicles, remarkable feat, recently overhauled, plungin...</td>\n",
       "    </tr>\n",
       "  </tbody>\n",
       "</table>\n",
       "</div>"
      ],
      "text/plain": [
       "                                                                                                                                                                                                       text  \\\n",
       "1   0 .  NEW YORK: Automakers reported mixed US car sales in January, with strong demand for SUVs and pickup trucks continuing to provide a cushion in a declining overall auto market. .  Ford and Fiat...   \n",
       "2   transmission: automatic   2005 Toyota Camry LE 4 door 4 cyl AUTOMATIC VERY CLEAN INSIDE CLOTH INTERIOR NICE. Just has a Little Hale damage car runs. GREAT 167300 MILEAGE. CALL show contact info . ...   \n",
       "7   transmission: automatic QR Code Link to This Post I'm selling this really nice Camry. Automatic transmission. Leather. Moon roof. Toyota certified parts on car. New tires. Alloy wheels. Smog cert ...   \n",
       "9   Filed under: Earnings/Financials , Chrysler , Fiat , Ford , Honda , Nissan , RAM , Toyota .  Continue reading Trucks, SUVs — and Camry — shine in mixed U.S. January vehicle sales .  Trucks, SUVs —...   \n",
       "20  cars As-it-happens update ⋅ February 2, 2018 NEWS 5 hot vehicles in January: Toyota, Nissan among leaders USA TODAY Here are five of the best-selling vehicles in the industry in January, several o...   \n",
       "\n",
       "                                                                                                                                                                                               rake_phrases  \n",
       "1   solid 16 million vehicles amid low unemployment, ram truck brand fell 16 percent, automakers reported mixed us car sales, us car sales fell last year, vehicles ,” said mark laneve, detroit auto sh...  \n",
       "2         automatic 2005 toyota camry le 4 door 4 cyl automatic, little hale damage car runs, clean inside cloth interior nice, call show contact info, great 167300 mileage, 2450 6473894894, transmission  \n",
       "7   tagged til next september, automatic qr code link, text show contact info, toyota certified parts, really nice camry, offers post id, automatic transmission, unsolicited services, smog cert, new t...  \n",
       "9   january vehicle sales originally appeared, 01 feb 2018 17, autoblog http :// ift, january vehicle sales, feeds .. permalink, camry — shine, camry — shine, continue reading trucks, suvs —, suvs —, ...  \n",
       "20  nissan among leaders usa today, happens update ⋅ february 2, 2018 news 5 hot vehicles, rss feed send feedback, stalwart camry sedan, selling vehicles, remarkable feat, recently overhauled, plungin...  "
      ]
     },
     "execution_count": 20,
     "metadata": {},
     "output_type": "execute_result"
    }
   ],
   "source": [
    "news_df['rake_phrases']=news_df['text'].apply(lambda x: rake_implement(x,r)).apply(', '.join)\n",
    "\n",
    "news_df[['text', 'rake_phrases']][news_df['rake_phrases'].str.contains(\"camry\", na=False)].head(5)"
   ]
  },
  {
   "cell_type": "code",
   "execution_count": null,
   "metadata": {},
   "outputs": [],
   "source": []
  },
  {
   "cell_type": "code",
   "execution_count": null,
   "metadata": {},
   "outputs": [],
   "source": []
  },
  {
   "cell_type": "code",
   "execution_count": null,
   "metadata": {},
   "outputs": [],
   "source": []
  },
  {
   "cell_type": "code",
   "execution_count": 21,
   "metadata": {},
   "outputs": [
    {
     "data": {
      "text/plain": [
       "'Sat, 29 October 2022 10:37:37'"
      ]
     },
     "execution_count": 21,
     "metadata": {},
     "output_type": "execute_result"
    }
   ],
   "source": [
    "import datetime\n",
    "import pytz\n",
    "\n",
    "datetime.datetime.now(pytz.timezone('US/Central')).strftime(\"%a, %d %B %Y %H:%M:%S\")"
   ]
  }
 ],
 "metadata": {
  "kernelspec": {
   "display_name": "Python 3 (ipykernel)",
   "language": "python",
   "name": "python3"
  },
  "language_info": {
   "codemirror_mode": {
    "name": "ipython",
    "version": 3
   },
   "file_extension": ".py",
   "mimetype": "text/x-python",
   "name": "python",
   "nbconvert_exporter": "python",
   "pygments_lexer": "ipython3",
   "version": "3.7.12"
  }
 },
 "nbformat": 4,
 "nbformat_minor": 4
}
