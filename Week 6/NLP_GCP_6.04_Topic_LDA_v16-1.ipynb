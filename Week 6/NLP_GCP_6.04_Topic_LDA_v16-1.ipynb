{
 "cells": [
  {
   "cell_type": "markdown",
   "metadata": {},
   "source": [
    "## Topic Modeling\n",
    "**Note: LDA runs glitchy on GCP.**  Might need to shutdown all kernels after each LDA model run  \n",
    "\n",
    "* Be aware of the limitations of python’s multiprocessing library which Gensim relies on and be aware of your memory usage to avoid OOM errors.  \n",
    "* Use the following rule to estimate your memory usage:  `8 bytes * num_terms * num_topics` and limit the number of topics or terms to keep the memory under control"
   ]
  },
  {
   "cell_type": "code",
   "execution_count": 1,
   "metadata": {},
   "outputs": [
    {
     "name": "stdout",
     "output_type": "stream",
     "text": [
      "3.7.12 | packaged by conda-forge | (default, Oct 26 2021, 06:08:53) \n",
      "[GCC 9.4.0]\n"
     ]
    }
   ],
   "source": [
    "import sys\n",
    "print(sys.version)"
   ]
  },
  {
   "cell_type": "code",
   "execution_count": 2,
   "metadata": {},
   "outputs": [
    {
     "data": {
      "text/plain": [
       "8"
      ]
     },
     "execution_count": 2,
     "metadata": {},
     "output_type": "execute_result"
    }
   ],
   "source": [
    "import multiprocessing\n",
    "\n",
    "num_processors = multiprocessing.cpu_count()\n",
    "num_processors"
   ]
  },
  {
   "cell_type": "code",
   "execution_count": 3,
   "metadata": {},
   "outputs": [],
   "source": [
    "# !pip install gensim --upgrade\n",
    "# !pip install pyLDAvis --upgrade"
   ]
  },
  {
   "cell_type": "code",
   "execution_count": 4,
   "metadata": {},
   "outputs": [
    {
     "name": "stderr",
     "output_type": "stream",
     "text": [
      "/opt/conda/lib/python3.7/site-packages/past/builtins/misc.py:45: DeprecationWarning: the imp module is deprecated in favour of importlib; see the module's documentation for alternative uses\n",
      "  from imp import reload\n"
     ]
    }
   ],
   "source": [
    "import time\n",
    "import math\n",
    "import re\n",
    "from textblob import TextBlob\n",
    "import pandas as pd\n",
    "\n",
    "import nltk as nltk\n",
    "from nltk.corpus import stopwords\n",
    "from nltk.stem.wordnet import WordNetLemmatizer\n",
    "\n",
    "import string\n",
    "\n",
    "\n",
    "import gensim\n",
    "from gensim import corpora, models\n",
    "from gensim.models.ldamulticore import LdaMulticore\n",
    "\n",
    "# import pyLDAvis.gensim\n",
    "import pyLDAvis\n",
    "import pyLDAvis.gensim_models as gensimvis\n",
    "pyLDAvis.enable_notebook()"
   ]
  },
  {
   "cell_type": "code",
   "execution_count": 5,
   "metadata": {},
   "outputs": [],
   "source": [
    "# nltk.download('omw-1.4')"
   ]
  },
  {
   "cell_type": "code",
   "execution_count": 6,
   "metadata": {},
   "outputs": [],
   "source": [
    "import warnings\n",
    "\n",
    "# warnings.simplefilter('once')\n",
    "warnings.simplefilter('ignore')\n",
    "# warnings.filterwarnings(\"ignore\", category=FutureWarning)\n",
    "# warnings.filterwarnings(\"ignore\", category=DeprecationWarning)\n",
    "# warnings.filterwarnings(action='ignore', category=UserWarning, module='gensim')"
   ]
  },
  {
   "cell_type": "markdown",
   "metadata": {},
   "source": [
    "#### Read tweets"
   ]
  },
  {
   "cell_type": "code",
   "execution_count": 7,
   "metadata": {},
   "outputs": [],
   "source": [
    "pd.set_option('max_colwidth', 500)"
   ]
  },
  {
   "cell_type": "code",
   "execution_count": 8,
   "metadata": {},
   "outputs": [],
   "source": [
    "tweet_path = 'https://storage.googleapis.com/msca-bdp-data-open/tweets/jeep_new.txt'\n",
    "\n",
    "tweets = pd.read_csv(tweet_path, sep='\\t', names = ['id', 'lang', 'created_at', 'screen_name', \\\n",
    "                                                       'name', 'location', 'retweet_count', 'text'])"
   ]
  },
  {
   "cell_type": "code",
   "execution_count": 9,
   "metadata": {
    "tags": []
   },
   "outputs": [
    {
     "data": {
      "text/plain": [
       "(68971, 8)"
      ]
     },
     "execution_count": 9,
     "metadata": {},
     "output_type": "execute_result"
    }
   ],
   "source": [
    "tweets.shape"
   ]
  },
  {
   "cell_type": "code",
   "execution_count": 10,
   "metadata": {},
   "outputs": [
    {
     "data": {
      "text/html": [
       "<div>\n",
       "<style scoped>\n",
       "    .dataframe tbody tr th:only-of-type {\n",
       "        vertical-align: middle;\n",
       "    }\n",
       "\n",
       "    .dataframe tbody tr th {\n",
       "        vertical-align: top;\n",
       "    }\n",
       "\n",
       "    .dataframe thead th {\n",
       "        text-align: right;\n",
       "    }\n",
       "</style>\n",
       "<table border=\"1\" class=\"dataframe\">\n",
       "  <thead>\n",
       "    <tr style=\"text-align: right;\">\n",
       "      <th></th>\n",
       "      <th>id</th>\n",
       "      <th>lang</th>\n",
       "      <th>created_at</th>\n",
       "      <th>screen_name</th>\n",
       "      <th>name</th>\n",
       "      <th>location</th>\n",
       "      <th>retweet_count</th>\n",
       "      <th>text</th>\n",
       "    </tr>\n",
       "  </thead>\n",
       "  <tbody>\n",
       "    <tr>\n",
       "      <th>0</th>\n",
       "      <td>9.222399e+17</td>\n",
       "      <td>en</td>\n",
       "      <td>Sun Oct 22 23:15:03 +0000 2017</td>\n",
       "      <td>alyssa_rose4</td>\n",
       "      <td>Princess Alyssa♛</td>\n",
       "      <td>Chicago, IL</td>\n",
       "      <td>0.0</td>\n",
       "      <td>@Rachel_31297 where’s the Jeep Wrangler option</td>\n",
       "    </tr>\n",
       "    <tr>\n",
       "      <th>1</th>\n",
       "      <td>9.222399e+17</td>\n",
       "      <td>en</td>\n",
       "      <td>Sun Oct 22 23:15:09 +0000 2017</td>\n",
       "      <td>negocialoya_us</td>\n",
       "      <td>NegocialoYa USA</td>\n",
       "      <td>Estados Unidos</td>\n",
       "      <td>0.0</td>\n",
       "      <td>Check this out: 2016 JEEP PATRIOT LATITUDE 4X4 - $8500 (MIAMI-DADE) 8500.00 USD https://t.co/akPkANPpEn #ads… https://t.co/L2WaZBsUTf</td>\n",
       "    </tr>\n",
       "    <tr>\n",
       "      <th>2</th>\n",
       "      <td>9.222400e+17</td>\n",
       "      <td>tl</td>\n",
       "      <td>Sun Oct 22 23:15:14 +0000 2017</td>\n",
       "      <td>Jasmne_abr</td>\n",
       "      <td>Jas</td>\n",
       "      <td>blueberry</td>\n",
       "      <td>0.0</td>\n",
       "      <td>Kadugay sa jeep</td>\n",
       "    </tr>\n",
       "    <tr>\n",
       "      <th>3</th>\n",
       "      <td>9.222400e+17</td>\n",
       "      <td>en</td>\n",
       "      <td>Sun Oct 22 23:15:15 +0000 2017</td>\n",
       "      <td>JFCO38</td>\n",
       "      <td>JUAN FCO</td>\n",
       "      <td>NaN</td>\n",
       "      <td>0.0</td>\n",
       "      <td>RT @Jeep: The Grand Cherokee Trackhawk is officially in production. Keep your eyes peeled for one in the wild. https://t.co/bbiPfPXXax</td>\n",
       "    </tr>\n",
       "    <tr>\n",
       "      <th>4</th>\n",
       "      <td>9.222400e+17</td>\n",
       "      <td>tl</td>\n",
       "      <td>Sun Oct 22 23:15:15 +0000 2017</td>\n",
       "      <td>MaestreRaymond</td>\n",
       "      <td>Jin Rae Min</td>\n",
       "      <td>Northern Mindanao</td>\n",
       "      <td>0.0</td>\n",
       "      <td>Kadugay mularga sa jeep nga kadali ko😬😭</td>\n",
       "    </tr>\n",
       "    <tr>\n",
       "      <th>5</th>\n",
       "      <td>9.222400e+17</td>\n",
       "      <td>tl</td>\n",
       "      <td>Sun Oct 22 23:15:21 +0000 2017</td>\n",
       "      <td>troyxaquino</td>\n",
       "      <td>Troy</td>\n",
       "      <td>NaN</td>\n",
       "      <td>0.0</td>\n",
       "      <td>Bang luluwag ng mga jeep hahaha</td>\n",
       "    </tr>\n",
       "    <tr>\n",
       "      <th>6</th>\n",
       "      <td>9.222400e+17</td>\n",
       "      <td>en</td>\n",
       "      <td>Sun Oct 22 23:15:27 +0000 2017</td>\n",
       "      <td>LifeForTrucker</td>\n",
       "      <td>TruckerForLife™</td>\n",
       "      <td>United States</td>\n",
       "      <td>0.0</td>\n",
       "      <td>RT @Jeep: Power stance. https://t.co/kl0oC8Xvof</td>\n",
       "    </tr>\n",
       "    <tr>\n",
       "      <th>7</th>\n",
       "      <td>9.222400e+17</td>\n",
       "      <td>en</td>\n",
       "      <td>Sun Oct 22 23:15:30 +0000 2017</td>\n",
       "      <td>rpx53</td>\n",
       "      <td>Rod O|||||||O</td>\n",
       "      <td>Where the blacktop ends</td>\n",
       "      <td>0.0</td>\n",
       "      <td>@THEJeepMafia @Jeep Thanks, 28° but Chaos and Bear were awesome feet warmers! 🐾🐾 https://t.co/nNIoaRVXlW</td>\n",
       "    </tr>\n",
       "    <tr>\n",
       "      <th>8</th>\n",
       "      <td>9.222400e+17</td>\n",
       "      <td>tl</td>\n",
       "      <td>Sun Oct 22 23:15:34 +0000 2017</td>\n",
       "      <td>ronneldash</td>\n",
       "      <td>🏳️‍🌈ROX🏳️‍🌈</td>\n",
       "      <td>St. Paul</td>\n",
       "      <td>0.0</td>\n",
       "      <td>tangina mula 6:00 nasa sakayan ako tas 7:30 na wala pa rin sa baliuag tong putanginang jeep na to</td>\n",
       "    </tr>\n",
       "    <tr>\n",
       "      <th>9</th>\n",
       "      <td>9.222401e+17</td>\n",
       "      <td>tl</td>\n",
       "      <td>Sun Oct 22 23:15:49 +0000 2017</td>\n",
       "      <td>FayeUsi</td>\n",
       "      <td>aria</td>\n",
       "      <td>Las Pinas City, National Capit</td>\n",
       "      <td>0.0</td>\n",
       "      <td>@Dncyngs ikaw yung nakakasabay ko lagi sa jeep hahaha ang ganda mo :)</td>\n",
       "    </tr>\n",
       "  </tbody>\n",
       "</table>\n",
       "</div>"
      ],
      "text/plain": [
       "             id lang                      created_at     screen_name  \\\n",
       "0  9.222399e+17   en  Sun Oct 22 23:15:03 +0000 2017    alyssa_rose4   \n",
       "1  9.222399e+17   en  Sun Oct 22 23:15:09 +0000 2017  negocialoya_us   \n",
       "2  9.222400e+17   tl  Sun Oct 22 23:15:14 +0000 2017      Jasmne_abr   \n",
       "3  9.222400e+17   en  Sun Oct 22 23:15:15 +0000 2017          JFCO38   \n",
       "4  9.222400e+17   tl  Sun Oct 22 23:15:15 +0000 2017  MaestreRaymond   \n",
       "5  9.222400e+17   tl  Sun Oct 22 23:15:21 +0000 2017     troyxaquino   \n",
       "6  9.222400e+17   en  Sun Oct 22 23:15:27 +0000 2017  LifeForTrucker   \n",
       "7  9.222400e+17   en  Sun Oct 22 23:15:30 +0000 2017           rpx53   \n",
       "8  9.222400e+17   tl  Sun Oct 22 23:15:34 +0000 2017      ronneldash   \n",
       "9  9.222401e+17   tl  Sun Oct 22 23:15:49 +0000 2017         FayeUsi   \n",
       "\n",
       "               name                        location  retweet_count  \\\n",
       "0  Princess Alyssa♛                     Chicago, IL            0.0   \n",
       "1   NegocialoYa USA                  Estados Unidos            0.0   \n",
       "2               Jas                       blueberry            0.0   \n",
       "3          JUAN FCO                             NaN            0.0   \n",
       "4       Jin Rae Min               Northern Mindanao            0.0   \n",
       "5              Troy                             NaN            0.0   \n",
       "6   TruckerForLife™                   United States            0.0   \n",
       "7     Rod O|||||||O         Where the blacktop ends            0.0   \n",
       "8       🏳️‍🌈ROX🏳️‍🌈                        St. Paul            0.0   \n",
       "9              aria  Las Pinas City, National Capit            0.0   \n",
       "\n",
       "                                                                                                                                     text  \n",
       "0                                                                                          @Rachel_31297 where’s the Jeep Wrangler option  \n",
       "1   Check this out: 2016 JEEP PATRIOT LATITUDE 4X4 - $8500 (MIAMI-DADE) 8500.00 USD https://t.co/akPkANPpEn #ads… https://t.co/L2WaZBsUTf  \n",
       "2                                                                                                                         Kadugay sa jeep  \n",
       "3  RT @Jeep: The Grand Cherokee Trackhawk is officially in production. Keep your eyes peeled for one in the wild. https://t.co/bbiPfPXXax  \n",
       "4                                                                                                 Kadugay mularga sa jeep nga kadali ko😬😭  \n",
       "5                                                                                                         Bang luluwag ng mga jeep hahaha  \n",
       "6                                                                                         RT @Jeep: Power stance. https://t.co/kl0oC8Xvof  \n",
       "7                                @THEJeepMafia @Jeep Thanks, 28° but Chaos and Bear were awesome feet warmers! 🐾🐾 https://t.co/nNIoaRVXlW  \n",
       "8                                       tangina mula 6:00 nasa sakayan ako tas 7:30 na wala pa rin sa baliuag tong putanginang jeep na to  \n",
       "9                                                                   @Dncyngs ikaw yung nakakasabay ko lagi sa jeep hahaha ang ganda mo :)  "
      ]
     },
     "execution_count": 10,
     "metadata": {},
     "output_type": "execute_result"
    }
   ],
   "source": [
    "tweets.head(10)"
   ]
  },
  {
   "cell_type": "code",
   "execution_count": 11,
   "metadata": {},
   "outputs": [],
   "source": [
    "# Filter non-English tweets\n",
    "tweets_eng = tweets[tweets['lang']=='en'].reset_index(drop=True)"
   ]
  },
  {
   "cell_type": "code",
   "execution_count": 12,
   "metadata": {},
   "outputs": [],
   "source": [
    "# Remove special characters to avoid problems with analysis\n",
    "tweets_eng['text_clean'] = tweets_eng['text'].map(lambda x: re.sub('[^a-zA-Z0-9 @ . , : - _]', '', str(x)))"
   ]
  },
  {
   "cell_type": "code",
   "execution_count": 13,
   "metadata": {},
   "outputs": [
    {
     "data": {
      "text/html": [
       "<div>\n",
       "<style scoped>\n",
       "    .dataframe tbody tr th:only-of-type {\n",
       "        vertical-align: middle;\n",
       "    }\n",
       "\n",
       "    .dataframe tbody tr th {\n",
       "        vertical-align: top;\n",
       "    }\n",
       "\n",
       "    .dataframe thead th {\n",
       "        text-align: right;\n",
       "    }\n",
       "</style>\n",
       "<table border=\"1\" class=\"dataframe\">\n",
       "  <thead>\n",
       "    <tr style=\"text-align: right;\">\n",
       "      <th></th>\n",
       "      <th>text</th>\n",
       "      <th>text_clean</th>\n",
       "    </tr>\n",
       "  </thead>\n",
       "  <tbody>\n",
       "    <tr>\n",
       "      <th>0</th>\n",
       "      <td>@Rachel_31297 where’s the Jeep Wrangler option</td>\n",
       "      <td>@Rachel_31297 wheres the Jeep Wrangler option</td>\n",
       "    </tr>\n",
       "    <tr>\n",
       "      <th>1</th>\n",
       "      <td>Check this out: 2016 JEEP PATRIOT LATITUDE 4X4 - $8500 (MIAMI-DADE) 8500.00 USD https://t.co/akP...</td>\n",
       "      <td>Check this out: 2016 JEEP PATRIOT LATITUDE 4X4  8500 MIAMIDADE 8500.00 USD https:t.coakPkANPpEn ...</td>\n",
       "    </tr>\n",
       "    <tr>\n",
       "      <th>2</th>\n",
       "      <td>RT @Jeep: The Grand Cherokee Trackhawk is officially in production. Keep your eyes peeled for on...</td>\n",
       "      <td>RT @Jeep: The Grand Cherokee Trackhawk is officially in production. Keep your eyes peeled for on...</td>\n",
       "    </tr>\n",
       "    <tr>\n",
       "      <th>3</th>\n",
       "      <td>RT @Jeep: Power stance. https://t.co/kl0oC8Xvof</td>\n",
       "      <td>RT @Jeep: Power stance. https:t.cokl0oC8Xvof</td>\n",
       "    </tr>\n",
       "    <tr>\n",
       "      <th>4</th>\n",
       "      <td>@THEJeepMafia @Jeep Thanks, 28° but Chaos and Bear were awesome feet warmers! 🐾🐾 https://t.co/nN...</td>\n",
       "      <td>@THEJeepMafia @Jeep Thanks, 28 but Chaos and Bear were awesome feet warmers  https:t.conNIoaRVXlW</td>\n",
       "    </tr>\n",
       "  </tbody>\n",
       "</table>\n",
       "</div>"
      ],
      "text/plain": [
       "                                                                                                  text  \\\n",
       "0                                                       @Rachel_31297 where’s the Jeep Wrangler option   \n",
       "1  Check this out: 2016 JEEP PATRIOT LATITUDE 4X4 - $8500 (MIAMI-DADE) 8500.00 USD https://t.co/akP...   \n",
       "2  RT @Jeep: The Grand Cherokee Trackhawk is officially in production. Keep your eyes peeled for on...   \n",
       "3                                                      RT @Jeep: Power stance. https://t.co/kl0oC8Xvof   \n",
       "4  @THEJeepMafia @Jeep Thanks, 28° but Chaos and Bear were awesome feet warmers! 🐾🐾 https://t.co/nN...   \n",
       "\n",
       "                                                                                            text_clean  \n",
       "0                                                        @Rachel_31297 wheres the Jeep Wrangler option  \n",
       "1  Check this out: 2016 JEEP PATRIOT LATITUDE 4X4  8500 MIAMIDADE 8500.00 USD https:t.coakPkANPpEn ...  \n",
       "2  RT @Jeep: The Grand Cherokee Trackhawk is officially in production. Keep your eyes peeled for on...  \n",
       "3                                                         RT @Jeep: Power stance. https:t.cokl0oC8Xvof  \n",
       "4    @THEJeepMafia @Jeep Thanks, 28 but Chaos and Bear were awesome feet warmers  https:t.conNIoaRVXlW  "
      ]
     },
     "execution_count": 13,
     "metadata": {},
     "output_type": "execute_result"
    }
   ],
   "source": [
    "pd.set_option('display.max_colwidth', 100)\n",
    "tweets_eng[['text', 'text_clean']].head(5)"
   ]
  },
  {
   "cell_type": "markdown",
   "metadata": {},
   "source": [
    "## Topic Modeling\n",
    "#### Topics can be defined as “a repeating pattern of co-occurring terms in a corpus”"
   ]
  },
  {
   "cell_type": "markdown",
   "metadata": {},
   "source": [
    "### TF-IDF (term frequency–inverse document frequency)"
   ]
  },
  {
   "cell_type": "markdown",
   "metadata": {},
   "source": [
    "#### Using TextBlob functionality to create TF-IDF function for our select Tweets"
   ]
  },
  {
   "cell_type": "code",
   "execution_count": 14,
   "metadata": {},
   "outputs": [],
   "source": [
    "# http://stevenloria.com/finding-important-words-in-a-document-using-tf-idf/\n",
    "\n",
    "def tf(word, blob):\n",
    "    return blob.words.count(word) / len(blob.words)\n",
    "# tf(word, blob) computes \"term frequency\" which is the number of times a word appears in a document blob, \n",
    "# normalized by dividing by the total number of words in blob. We use TextBlob for breaking up the text into words \n",
    "# and getting the word counts.\n",
    "\n",
    "\n",
    "def n_containing(word, bloblist):\n",
    "    return sum(1 for blob in bloblist if word in blob.words)\n",
    "# n_containing(word, bloblist) returns the number of documents containing word. \n",
    "# A generator expression is passed to the sum() function.\n",
    "\n",
    "\n",
    "def idf(word, bloblist):\n",
    "    return math.log(len(bloblist) / (1 + n_containing(word, bloblist)))\n",
    "# idf(word, bloblist) computes \"inverse document frequency\" which measures how common a word is \n",
    "# among all documents in bloblist. The more common a word is, the lower its idf. \n",
    "# We take the ratio of the total number of documents to the number of documents containing word, \n",
    "# then take the log of that. Add 1 to the divisor to prevent division by zero\n",
    "\n",
    "\n",
    "def tfidf(word, blob, bloblist):\n",
    "    return tf(word, blob) * idf(word, bloblist)\n",
    "# tfidf(word, blob, bloblist) computes the TF-IDF score. It is simply the product of tf and idf."
   ]
  },
  {
   "cell_type": "code",
   "execution_count": 15,
   "metadata": {},
   "outputs": [
    {
     "data": {
      "text/plain": [
       "40704"
      ]
     },
     "execution_count": 15,
     "metadata": {},
     "output_type": "execute_result"
    }
   ],
   "source": [
    "bloblist = []\n",
    "del bloblist[:]\n",
    "\n",
    "for i  in range(0,len(tweets_eng)):\n",
    "    bloblist.append(TextBlob(tweets_eng['text_clean'].iloc[i]))\n",
    "    \n",
    "len(bloblist)  "
   ]
  },
  {
   "cell_type": "code",
   "execution_count": 16,
   "metadata": {},
   "outputs": [
    {
     "name": "stdout",
     "output_type": "stream",
     "text": [
      "Top words in tweet 1\n",
      "\tWord: Rachel_31297, TF-IDF: 1.65349\n",
      "\tWord: wheres, TF-IDF: 1.50077\n",
      "\tWord: option, TF-IDF: 1.226\n",
      "\tWord: Wrangler, TF-IDF: 0.38572\n",
      "\tWord: the, TF-IDF: 0.28657\n",
      "Top words in tweet 2\n",
      "\tWord: t.coakPkANPpEn, TF-IDF: 0.58358\n",
      "\tWord: t.coL2WaZBsUTf, TF-IDF: 0.58358\n",
      "\tWord: MIAMIDADE, TF-IDF: 0.55973\n",
      "\tWord: 8500.00, TF-IDF: 0.55973\n",
      "\tWord: 8500, TF-IDF: 0.51896\n",
      "Top words in tweet 3\n",
      "\tWord: t.cobbiPfPXXax, TF-IDF: 0.34509\n",
      "\tWord: peeled, TF-IDF: 0.34191\n",
      "\tWord: Keep, TF-IDF: 0.31915\n",
      "\tWord: wild, TF-IDF: 0.31915\n",
      "\tWord: officially, TF-IDF: 0.31637\n",
      "Top words in tweet 4\n",
      "\tWord: t.cokl0oC8Xvof, TF-IDF: 0.89363\n",
      "\tWord: stance, TF-IDF: 0.89104\n",
      "\tWord: Power, TF-IDF: 0.85214\n",
      "\tWord: RT, TF-IDF: 0.18822\n",
      "\tWord: Jeep, TF-IDF: 0.06068\n",
      "Top words in tweet 5\n",
      "\tWord: t.conNIoaRVXlW, TF-IDF: 0.70864\n",
      "\tWord: warmers, TF-IDF: 0.65913\n",
      "\tWord: Chaos, TF-IDF: 0.63017\n",
      "\tWord: Bear, TF-IDF: 0.60962\n",
      "\tWord: feet, TF-IDF: 0.56011\n"
     ]
    }
   ],
   "source": [
    "for i, blob in enumerate(bloblist):\n",
    "# Print top 5 values\n",
    "    if i == 5:\n",
    "        break\n",
    "    print(\"Top words in tweet {}\".format(i + 1))\n",
    "    scores = {word: tfidf(word, blob, bloblist) for word in blob.words}\n",
    "    sorted_words = sorted(scores.items(), key=lambda x: x[1], reverse=True)\n",
    "    for word, score in sorted_words[:5]:\n",
    "        print(\"\\tWord: {}, TF-IDF: {}\".format(word, round(score, 5)))"
   ]
  },
  {
   "cell_type": "markdown",
   "metadata": {},
   "source": [
    "## LDA (latent dirichlet allocation)\n",
    "#### LDA is a matrix factorization technique, which assumes documents are produced from a mixture of topics. Those topics then generate words based on their probability distribution."
   ]
  },
  {
   "cell_type": "code",
   "execution_count": 17,
   "metadata": {},
   "outputs": [],
   "source": [
    "#https://www.analyticsvidhya.com/blog/2016/08/beginners-guide-to-topic-modeling-in-python/"
   ]
  },
  {
   "cell_type": "code",
   "execution_count": 18,
   "metadata": {},
   "outputs": [],
   "source": [
    "doc1 = \"BMW upbeat sustained sales growth\"\n",
    "doc2 = \"Ad wars When BMW Audi Mercedes Benz Jaguar prove prowess through advertisements\"\n",
    "doc3 = \"BMW Protonic Frozen Yellow Edition Looks So Cool\"\n",
    "doc4 = \"Judge Shuts Door On SoftClose Defect Suit Against BMW Law\"\n",
    "doc5 = \"Just Listed BMW Alpina B Turbo Automobile Magazine\"\n",
    "doc6 = \"How take part BMW Ultimate Driving Experience\"\n",
    "doc7 = \"Long Beach BMW Motorcycles Becomes First BMW Dealer Offer Virtual Reality Experience Virtual Reality Reporter\"\n",
    "doc8 = \"NYC Auto Show BMW M Performance Video Overview\"\n",
    "doc9 = \"BMW F X Spy video shows SUV stress test\"\n",
    "doc10 = \"Driver taken hospital BMW smashes tree Stourbridge Express Star\"\n",
    "\n",
    "# compile documents\n",
    "doc_complete = [doc1, doc2, doc3, doc4, doc5, doc6, doc7, doc8, doc9, doc10]"
   ]
  },
  {
   "cell_type": "code",
   "execution_count": 19,
   "metadata": {},
   "outputs": [],
   "source": [
    "stop = set(stopwords.words('english'))\n",
    "exclude = set(string.punctuation)\n",
    "lemma = WordNetLemmatizer()\n",
    "def clean(doc):\n",
    "    stop_free = \" \".join([i for i in doc.lower().split() if i not in stop])\n",
    "    punc_free = ''.join(ch for ch in stop_free if ch not in exclude)\n",
    "    normalized = \" \".join(lemma.lemmatize(word) for word in punc_free.split())\n",
    "    return normalized\n",
    "\n",
    "doc_clean = [clean(doc).split() for doc in doc_complete]     "
   ]
  },
  {
   "cell_type": "code",
   "execution_count": 20,
   "metadata": {},
   "outputs": [
    {
     "data": {
      "text/plain": [
       "list"
      ]
     },
     "execution_count": 20,
     "metadata": {},
     "output_type": "execute_result"
    }
   ],
   "source": [
    "type(doc_complete)"
   ]
  },
  {
   "cell_type": "code",
   "execution_count": 21,
   "metadata": {},
   "outputs": [
    {
     "data": {
      "text/plain": [
       "['BMW upbeat sustained sales growth',\n",
       " 'Ad wars When BMW Audi Mercedes Benz Jaguar prove prowess through advertisements']"
      ]
     },
     "execution_count": 21,
     "metadata": {},
     "output_type": "execute_result"
    }
   ],
   "source": [
    "doc_complete[:2]"
   ]
  },
  {
   "cell_type": "code",
   "execution_count": 22,
   "metadata": {},
   "outputs": [
    {
     "data": {
      "text/plain": [
       "[['bmw', 'upbeat', 'sustained', 'sale', 'growth'],\n",
       " ['ad',\n",
       "  'war',\n",
       "  'bmw',\n",
       "  'audi',\n",
       "  'mercedes',\n",
       "  'benz',\n",
       "  'jaguar',\n",
       "  'prove',\n",
       "  'prowess',\n",
       "  'advertisement'],\n",
       " ['bmw', 'protonic', 'frozen', 'yellow', 'edition', 'look', 'cool']]"
      ]
     },
     "execution_count": 22,
     "metadata": {},
     "output_type": "execute_result"
    }
   ],
   "source": [
    "doc_clean[:3]"
   ]
  },
  {
   "cell_type": "code",
   "execution_count": 23,
   "metadata": {},
   "outputs": [],
   "source": [
    "# Creating the term dictionary of our courpus, where every unique term is assigned an index. \n",
    "dictionary = corpora.Dictionary(doc_clean)\n",
    "\n",
    "# Converting list of documents (corpus) into Document Term Matrix using dictionary prepared above.\n",
    "doc_term_matrix = [dictionary.doc2bow(doc) for doc in doc_clean]"
   ]
  },
  {
   "cell_type": "markdown",
   "metadata": {},
   "source": [
    "https://towardsdatascience.com/topic-modelling-in-python-with-nltk-and-gensim-4ef03213cd21"
   ]
  },
  {
   "cell_type": "code",
   "execution_count": 24,
   "metadata": {},
   "outputs": [],
   "source": [
    "# Creating the object for LDA model using gensim library\n",
    "Lda = gensim.models.ldamodel.LdaModel"
   ]
  },
  {
   "cell_type": "markdown",
   "metadata": {},
   "source": [
    "### Three-topic Model"
   ]
  },
  {
   "cell_type": "code",
   "execution_count": 25,
   "metadata": {},
   "outputs": [
    {
     "name": "stdout",
     "output_type": "stream",
     "text": [
      "CPU times: user 246 ms, sys: 19.8 ms, total: 266 ms\n",
      "Wall time: 252 ms\n",
      "(0, '0.062*\"bmw\" + 0.035*\"experience\" + 0.035*\"express\"')\n",
      "(1, '0.097*\"bmw\" + 0.036*\"virtual\" + 0.036*\"reality\"')\n",
      "(2, '0.070*\"bmw\" + 0.028*\"audi\" + 0.028*\"jaguar\"')\n"
     ]
    }
   ],
   "source": [
    "warnings.simplefilter('ignore')\n",
    "\n",
    "# Running and Trainign LDA model on the document term matrix.\n",
    "%time ldamodel = Lda(doc_term_matrix, num_topics=3, id2word = dictionary, passes=50) #3 topics\n",
    "print(*ldamodel.print_topics(num_topics=3, num_words=3), sep='\\n')"
   ]
  },
  {
   "cell_type": "markdown",
   "metadata": {},
   "source": [
    "#### For larger datasets LdaMulticore should provide significant speed improvements"
   ]
  },
  {
   "cell_type": "code",
   "execution_count": 26,
   "metadata": {},
   "outputs": [
    {
     "name": "stdout",
     "output_type": "stream",
     "text": [
      "CPU times: user 356 ms, sys: 192 ms, total: 548 ms\n",
      "Wall time: 533 ms\n",
      "(0, '0.065*\"bmw\" + 0.037*\"experience\" + 0.037*\"automobile\"')\n",
      "(1, '0.079*\"bmw\" + 0.024*\"jaguar\" + 0.024*\"advertisement\"')\n",
      "(2, '0.088*\"bmw\" + 0.038*\"virtual\" + 0.038*\"reality\"')\n"
     ]
    }
   ],
   "source": [
    "%time ldamodel = LdaMulticore(doc_term_matrix, num_topics=3, id2word = dictionary, passes=50, workers = num_processors-1) #3 topics\n",
    "print(*ldamodel.print_topics(num_topics=3, num_words=3), sep='\\n')"
   ]
  },
  {
   "cell_type": "code",
   "execution_count": 27,
   "metadata": {},
   "outputs": [],
   "source": [
    "#topics = ldamodel.print_topics(num_words=3)\n",
    "#for topic in topics:\n",
    "#    print(topic)"
   ]
  },
  {
   "cell_type": "code",
   "execution_count": 28,
   "metadata": {},
   "outputs": [
    {
     "name": "stderr",
     "output_type": "stream",
     "text": [
      "/opt/conda/lib/python3.7/site-packages/past/builtins/misc.py:45: DeprecationWarning: the imp module is deprecated in favour of importlib; see the module's documentation for alternative uses\n",
      "  from imp import reload\n",
      "/opt/conda/lib/python3.7/site-packages/past/builtins/misc.py:45: DeprecationWarning: the imp module is deprecated in favour of importlib; see the module's documentation for alternative uses\n",
      "  from imp import reload\n",
      "/opt/conda/lib/python3.7/site-packages/past/builtins/misc.py:45: DeprecationWarning: the imp module is deprecated in favour of importlib; see the module's documentation for alternative uses\n",
      "  from imp import reload\n",
      "/opt/conda/lib/python3.7/site-packages/past/builtins/misc.py:45: DeprecationWarning: the imp module is deprecated in favour of importlib; see the module's documentation for alternative uses\n",
      "  from imp import reload\n",
      "/opt/conda/lib/python3.7/site-packages/past/builtins/misc.py:45: DeprecationWarning: the imp module is deprecated in favour of importlib; see the module's documentation for alternative uses\n",
      "  from imp import reload\n",
      "/opt/conda/lib/python3.7/site-packages/past/builtins/misc.py:45: DeprecationWarning: the imp module is deprecated in favour of importlib; see the module's documentation for alternative uses\n",
      "  from imp import reload\n",
      "/opt/conda/lib/python3.7/site-packages/past/builtins/misc.py:45: DeprecationWarning: the imp module is deprecated in favour of importlib; see the module's documentation for alternative uses\n",
      "  from imp import reload\n",
      "/opt/conda/lib/python3.7/site-packages/past/builtins/misc.py:45: DeprecationWarning: the imp module is deprecated in favour of importlib; see the module's documentation for alternative uses\n",
      "  from imp import reload\n"
     ]
    },
    {
     "name": "stdout",
     "output_type": "stream",
     "text": [
      "CPU times: user 111 ms, sys: 113 ms, total: 225 ms\n",
      "Wall time: 1.52 s\n"
     ]
    },
    {
     "data": {
      "text/html": [
       "\n",
       "<link rel=\"stylesheet\" type=\"text/css\" href=\"https://cdn.jsdelivr.net/gh/bmabey/pyLDAvis@3.3.1/pyLDAvis/js/ldavis.v1.0.0.css\">\n",
       "\n",
       "\n",
       "<div id=\"ldavis_el530139807512355408469010278\"></div>\n",
       "<script type=\"text/javascript\">\n",
       "\n",
       "var ldavis_el530139807512355408469010278_data = {\"mdsDat\": {\"x\": [-0.0009615517569081363, 0.08717164113213025, -0.08621008937522212], \"y\": [0.06077868177316004, -0.02743271984821037, -0.033345961924949666], \"topics\": [1, 2, 3], \"cluster\": [1, 1, 1], \"Freq\": [17.144379020404386, 37.83792860888631, 45.017692370709305]}, \"tinfo\": {\"Term\": [\"automobile\", \"listed\", \"alpina\", \"magazine\", \"b\", \"turbo\", \"driving\", \"part\", \"ultimate\", \"take\", \"experience\", \"reality\", \"virtual\", \"video\", \"show\", \"ad\", \"advertisement\", \"benz\", \"jaguar\", \"prowess\", \"prove\", \"mercedes\", \"war\", \"audi\", \"driver\", \"express\", \"smash\", \"star\", \"stourbridge\", \"taken\", \"automobile\", \"alpina\", \"listed\", \"b\", \"magazine\", \"turbo\", \"driving\", \"part\", \"ultimate\", \"take\", \"experience\", \"bmw\", \"growth\", \"sale\", \"sustained\", \"upbeat\", \"judge\", \"shuts\", \"door\", \"law\", \"suit\", \"defect\", \"softclose\", \"driver\", \"express\", \"hospital\", \"smash\", \"star\", \"stourbridge\", \"taken\", \"look\", \"protonic\", \"yellow\", \"cool\", \"edition\", \"frozen\", \"nyc\", \"overview\", \"auto\", \"performance\", \"show\", \"video\", \"ad\", \"advertisement\", \"benz\", \"jaguar\", \"mercedes\", \"prove\", \"prowess\", \"war\", \"audi\", \"driver\", \"express\", \"hospital\", \"smash\", \"star\", \"stourbridge\", \"taken\", \"tree\", \"defect\", \"softclose\", \"door\", \"law\", \"suit\", \"judge\", \"shuts\", \"growth\", \"sale\", \"sustained\", \"upbeat\", \"bmw\", \"take\", \"experience\", \"reality\", \"virtual\", \"show\", \"video\", \"beach\", \"becomes\", \"dealer\", \"first\", \"long\", \"motorcycle\", \"offer\", \"reporter\", \"f\", \"spy\", \"stress\", \"suv\", \"test\", \"x\", \"auto\", \"performance\", \"nyc\", \"overview\", \"look\", \"protonic\", \"yellow\", \"cool\", \"edition\", \"frozen\", \"experience\", \"bmw\"], \"Freq\": [0.0, 0.0, 0.0, 0.0, 0.0, 0.0, 0.0, 0.0, 0.0, 0.0, 1.0, 1.0, 1.0, 1.0, 1.0, 1.0, 1.0, 1.0, 1.0, 1.0, 1.0, 1.0, 1.0, 1.0, 1.0, 1.0, 1.0, 1.0, 1.0, 1.0, 0.531613006750183, 0.5316129537399192, 0.5316129537399192, 0.5316129537399192, 0.5316129537399192, 0.5316129537399192, 0.5315729309907266, 0.5315729309907266, 0.5315729309907266, 0.5315728779804627, 0.531835490827483, 0.9268564736711548, 0.13325671087420699, 0.13325671087420699, 0.13325671087420699, 0.13325671087420699, 0.1331326403517098, 0.1331326403517098, 0.13313262709914384, 0.13313262709914384, 0.13313262709914384, 0.13313261384657787, 0.13313261384657787, 0.13311073386018152, 0.13311073386018152, 0.13311073386018152, 0.13311073386018152, 0.13311073386018152, 0.13311073386018152, 0.13311073386018152, 0.13318428560124745, 0.13318428560124745, 0.13318428560124745, 0.13318428560124745, 0.13318428560124745, 0.13318428560124745, 0.1331827615561623, 0.1331827615561623, 0.13318274830359633, 0.13318274830359633, 0.13314371949685053, 0.13314371949685053, 0.7658728145051478, 0.7658728145051478, 0.7658728145051478, 0.7658728145051478, 0.7658728145051478, 0.7658728145051478, 0.7658728145051478, 0.7658728145051478, 0.765872697510617, 0.7658329778674295, 0.7658329778674295, 0.7658329778674295, 0.7658329778674295, 0.7658329778674295, 0.7658329778674295, 0.7658329778674295, 0.7658329778674295, 0.7657825532246789, 0.7657825532246789, 0.7657825532246789, 0.7657825532246789, 0.7657825532246789, 0.7657825532246789, 0.7657825532246789, 0.7654936352310069, 0.7654936352310069, 0.7654936352310069, 0.7654936352310069, 2.486678972820603, 0.19171106964779489, 0.1918111292202136, 1.4367291312104984, 1.4367291312104984, 1.4364975119037455, 1.4364975119037455, 0.820854995289031, 0.820854995289031, 0.820854995289031, 0.820854995289031, 0.820854995289031, 0.820854995289031, 0.820854995289031, 0.820854995289031, 0.8206800976574595, 0.8206800976574595, 0.8206800976574595, 0.8206800976574595, 0.8206800976574595, 0.8206800976574595, 0.8205390242395545, 0.8205390242395545, 0.8205390242395545, 0.8205390242395545, 0.8205357531736237, 0.8205357531736237, 0.8205357531736237, 0.8205357531736237, 0.8205357531736237, 0.8205357531736237, 0.8207897827618593, 3.2941535316262724], \"Total\": [0.0, 0.0, 0.0, 0.0, 0.0, 0.0, 0.0, 0.0, 0.0, 0.0, 1.0, 1.0, 1.0, 1.0, 1.0, 1.0, 1.0, 1.0, 1.0, 1.0, 1.0, 1.0, 1.0, 1.0, 1.0, 1.0, 1.0, 1.0, 1.0, 1.0, 0.9287137928316689, 0.9287137398214051, 0.9287137398214051, 0.928713757220692, 0.928713757220692, 0.928713757220692, 0.9287336719413288, 0.9287336719413288, 0.9287336719413288, 0.9287336481796977, 1.544436402809556, 6.70768897811803, 1.1043225028376131, 1.1043225028376131, 1.1043225028376131, 1.1043225028376131, 1.1043695571367087, 1.1043695745359956, 1.1043695438841428, 1.1043695438841428, 1.1043695438841428, 1.1043695306315768, 1.1043695306315768, 1.104377787719446, 1.104377787719446, 1.104377787719446, 1.104377787719446, 1.104377787719446, 1.104377787719446, 1.104377787719446, 1.1454943732151657, 1.1454943732151657, 1.1454943732151657, 1.145494387839482, 1.145494387839482, 1.145494387839482, 1.1454952135283982, 1.1454952135283982, 1.1454951710271994, 1.1454951710271994, 1.761377674237246, 1.761377674237246, 1.1043845112849142, 1.1043845112849142, 1.1043845112849142, 1.1043845112849142, 1.1043845112849142, 1.1043845112849142, 1.1043845112849142, 1.1043845112849142, 1.1043843942903835, 1.104377787719446, 1.104377787719446, 1.104377787719446, 1.104377787719446, 1.104377787719446, 1.104377787719446, 1.104377787719446, 1.104377787719446, 1.1043695306315768, 1.1043695306315768, 1.1043695438841428, 1.1043695438841428, 1.1043695438841428, 1.1043695571367087, 1.1043695745359956, 1.1043225028376131, 1.1043225028376131, 1.1043225028376131, 1.1043225028376131, 6.70768897811803, 0.9287336481796977, 1.544436402809556, 1.7614323359059754, 1.7614323359059754, 1.761377674237246, 1.761377674237246, 1.1455701093190633, 1.1455701093190633, 1.1455701093190633, 1.1455701093190633, 1.1455701093190633, 1.1455701093190633, 1.1455701093190633, 1.1455701093190633, 1.1455289881270845, 1.1455289881270845, 1.1455289881270845, 1.1455289881270845, 1.1455289881270845, 1.1455289881270845, 1.1454951710271994, 1.1454951710271994, 1.1454952135283982, 1.1454952135283982, 1.1454943732151657, 1.1454943732151657, 1.1454943732151657, 1.145494387839482, 1.145494387839482, 1.145494387839482, 1.544436402809556, 6.70768897811803], \"Category\": [\"Default\", \"Default\", \"Default\", \"Default\", \"Default\", \"Default\", \"Default\", \"Default\", \"Default\", \"Default\", \"Default\", \"Default\", \"Default\", \"Default\", \"Default\", \"Default\", \"Default\", \"Default\", \"Default\", \"Default\", \"Default\", \"Default\", \"Default\", \"Default\", \"Default\", \"Default\", \"Default\", \"Default\", \"Default\", \"Default\", \"Topic1\", \"Topic1\", \"Topic1\", \"Topic1\", \"Topic1\", \"Topic1\", \"Topic1\", \"Topic1\", \"Topic1\", \"Topic1\", \"Topic1\", \"Topic1\", \"Topic1\", \"Topic1\", \"Topic1\", \"Topic1\", \"Topic1\", \"Topic1\", \"Topic1\", \"Topic1\", \"Topic1\", \"Topic1\", \"Topic1\", \"Topic1\", \"Topic1\", \"Topic1\", \"Topic1\", \"Topic1\", \"Topic1\", \"Topic1\", \"Topic1\", \"Topic1\", \"Topic1\", \"Topic1\", \"Topic1\", \"Topic1\", \"Topic1\", \"Topic1\", \"Topic1\", \"Topic1\", \"Topic1\", \"Topic1\", \"Topic2\", \"Topic2\", \"Topic2\", \"Topic2\", \"Topic2\", \"Topic2\", \"Topic2\", \"Topic2\", \"Topic2\", \"Topic2\", \"Topic2\", \"Topic2\", \"Topic2\", \"Topic2\", \"Topic2\", \"Topic2\", \"Topic2\", \"Topic2\", \"Topic2\", \"Topic2\", \"Topic2\", \"Topic2\", \"Topic2\", \"Topic2\", \"Topic2\", \"Topic2\", \"Topic2\", \"Topic2\", \"Topic2\", \"Topic2\", \"Topic2\", \"Topic3\", \"Topic3\", \"Topic3\", \"Topic3\", \"Topic3\", \"Topic3\", \"Topic3\", \"Topic3\", \"Topic3\", \"Topic3\", \"Topic3\", \"Topic3\", \"Topic3\", \"Topic3\", \"Topic3\", \"Topic3\", \"Topic3\", \"Topic3\", \"Topic3\", \"Topic3\", \"Topic3\", \"Topic3\", \"Topic3\", \"Topic3\", \"Topic3\", \"Topic3\", \"Topic3\", \"Topic3\", \"Topic3\", \"Topic3\"], \"logprob\": [30.0, 29.0, 28.0, 27.0, 26.0, 25.0, 24.0, 23.0, 22.0, 21.0, 20.0, 19.0, 18.0, 17.0, 16.0, 15.0, 14.0, 13.0, 12.0, 11.0, 10.0, 9.0, 8.0, 7.0, 6.0, 5.0, 4.0, 3.0, 2.0, 1.0, -3.2872, -3.2872, -3.2872, -3.2872, -3.2872, -3.2872, -3.2873, -3.2873, -3.2873, -3.2873, -3.2868, -2.7313, -4.6708, -4.6708, -4.6708, -4.6708, -4.6718, -4.6718, -4.6718, -4.6718, -4.6718, -4.6718, -4.6718, -4.6719, -4.6719, -4.6719, -4.6719, -4.6719, -4.6719, -4.6719, -4.6714, -4.6714, -4.6714, -4.6714, -4.6714, -4.6714, -4.6714, -4.6714, -4.6714, -4.6714, -4.6717, -4.6717, -3.7137, -3.7137, -3.7137, -3.7137, -3.7137, -3.7137, -3.7137, -3.7137, -3.7137, -3.7138, -3.7138, -3.7138, -3.7138, -3.7138, -3.7138, -3.7138, -3.7138, -3.7138, -3.7138, -3.7138, -3.7138, -3.7138, -3.7138, -3.7138, -3.7142, -3.7142, -3.7142, -3.7142, -2.536, -5.0987, -5.0982, -3.2584, -3.2584, -3.2585, -3.2585, -3.8181, -3.8181, -3.8181, -3.8181, -3.8181, -3.8181, -3.8181, -3.8181, -3.8183, -3.8183, -3.8183, -3.8183, -3.8183, -3.8183, -3.8185, -3.8185, -3.8185, -3.8185, -3.8185, -3.8185, -3.8185, -3.8185, -3.8185, -3.8185, -3.8182, -2.4286], \"loglift\": [30.0, 29.0, 28.0, 27.0, 26.0, 25.0, 24.0, 23.0, 22.0, 21.0, 20.0, 19.0, 18.0, 17.0, 16.0, 15.0, 14.0, 13.0, 12.0, 11.0, 10.0, 9.0, 8.0, 7.0, 6.0, 5.0, 4.0, 3.0, 2.0, 1.0, 1.2056, 1.2056, 1.2056, 1.2056, 1.2056, 1.2056, 1.2055, 1.2055, 1.2055, 1.2055, 0.6974, -0.2157, -0.3512, -0.3512, -0.3512, -0.3512, -0.3522, -0.3522, -0.3522, -0.3522, -0.3522, -0.3522, -0.3522, -0.3524, -0.3524, -0.3524, -0.3524, -0.3524, -0.3524, -0.3524, -0.3884, -0.3884, -0.3884, -0.3884, -0.3884, -0.3884, -0.3884, -0.3884, -0.3884, -0.3884, -0.8189, -0.8189, 0.6058, 0.6058, 0.6058, 0.6058, 0.6058, 0.6058, 0.6058, 0.6058, 0.6058, 0.6058, 0.6058, 0.6058, 0.6058, 0.6058, 0.6058, 0.6058, 0.6058, 0.6057, 0.6057, 0.6057, 0.6057, 0.6057, 0.6057, 0.6057, 0.6054, 0.6054, 0.6054, 0.6054, -0.0204, -0.606, -1.114, 0.5944, 0.5944, 0.5942, 0.5942, 0.4648, 0.4648, 0.4648, 0.4648, 0.4648, 0.4648, 0.4648, 0.4648, 0.4646, 0.4646, 0.4646, 0.4646, 0.4646, 0.4646, 0.4645, 0.4645, 0.4645, 0.4645, 0.4645, 0.4645, 0.4645, 0.4645, 0.4645, 0.4645, 0.166, 0.087]}, \"token.table\": {\"Topic\": [2, 2, 1, 2, 3, 1, 1, 3, 3, 2, 1, 2, 3, 3, 3, 2, 2, 2, 1, 3, 1, 3, 2, 3, 3, 3, 2, 2, 2, 2, 2, 1, 3, 3, 1, 2, 3, 3, 3, 3, 1, 3, 3, 2, 2, 3, 3, 2, 3, 2, 2, 2, 3, 2, 2, 3, 2, 2, 3, 1, 2, 3, 2, 1, 1, 2, 3, 3, 2, 3, 3], \"Freq\": [0.9054817319345901, 0.9054817319345901, 1.076758054847238, 0.9054818278580845, 0.8729849110610134, 1.0767579933867224, 1.0767580346743675, 0.8729278041257628, 0.8729278041257628, 0.9054817319345901, 0.14908264280920328, 0.29816528561840655, 0.4472479284276098, 0.8729855079308602, 0.8729278041257628, 0.9054940146964313, 0.9054940038303954, 0.9054872446004302, 1.0767349458857278, 0.8729855079308602, 0.6474853857244323, 0.6474853857244323, 0.9054872446004302, 0.8729591397202254, 0.8729278041257628, 0.8729855079308602, 0.905532575339585, 0.9054872446004302, 0.9054817319345901, 0.9054939929643597, 0.9054940038303954, 1.076758054847238, 0.8729278041257628, 0.8729855190761059, 1.0767580346743675, 0.9054817319345901, 0.8729278041257628, 0.8729848786707382, 0.8729278041257628, 0.8729848786707382, 1.0767349458857278, 0.8729849110610134, 0.8729855190761059, 0.9054817319345901, 0.9054817319345901, 0.5677197923618564, 0.8729278041257628, 0.905532575339585, 0.567737410679424, 0.9054939786983476, 0.9054872446004302, 0.9054940146964313, 0.8729591397202254, 0.9054872446004302, 0.9054872446004302, 0.8729591397202254, 0.9054940038303954, 0.905532575339585, 0.8729591397202254, 1.076734973433969, 0.9054872446004302, 0.8729591397202254, 0.9054872446004302, 1.0767580346743675, 1.0767349458857278, 0.905532575339585, 0.567737410679424, 0.5677197923618564, 0.9054817319345901, 0.8729591397202254, 0.8729855190761059], \"Term\": [\"ad\", \"advertisement\", \"alpina\", \"audi\", \"auto\", \"automobile\", \"b\", \"beach\", \"becomes\", \"benz\", \"bmw\", \"bmw\", \"bmw\", \"cool\", \"dealer\", \"defect\", \"door\", \"driver\", \"driving\", \"edition\", \"experience\", \"experience\", \"express\", \"f\", \"first\", \"frozen\", \"growth\", \"hospital\", \"jaguar\", \"judge\", \"law\", \"listed\", \"long\", \"look\", \"magazine\", \"mercedes\", \"motorcycle\", \"nyc\", \"offer\", \"overview\", \"part\", \"performance\", \"protonic\", \"prove\", \"prowess\", \"reality\", \"reporter\", \"sale\", \"show\", \"shuts\", \"smash\", \"softclose\", \"spy\", \"star\", \"stourbridge\", \"stress\", \"suit\", \"sustained\", \"suv\", \"take\", \"taken\", \"test\", \"tree\", \"turbo\", \"ultimate\", \"upbeat\", \"video\", \"virtual\", \"war\", \"x\", \"yellow\"]}, \"R\": 30, \"lambda.step\": 0.01, \"plot.opts\": {\"xlab\": \"PC1\", \"ylab\": \"PC2\"}, \"topic.order\": [1, 2, 3]};\n",
       "\n",
       "function LDAvis_load_lib(url, callback){\n",
       "  var s = document.createElement('script');\n",
       "  s.src = url;\n",
       "  s.async = true;\n",
       "  s.onreadystatechange = s.onload = callback;\n",
       "  s.onerror = function(){console.warn(\"failed to load library \" + url);};\n",
       "  document.getElementsByTagName(\"head\")[0].appendChild(s);\n",
       "}\n",
       "\n",
       "if(typeof(LDAvis) !== \"undefined\"){\n",
       "   // already loaded: just create the visualization\n",
       "   !function(LDAvis){\n",
       "       new LDAvis(\"#\" + \"ldavis_el530139807512355408469010278\", ldavis_el530139807512355408469010278_data);\n",
       "   }(LDAvis);\n",
       "}else if(typeof define === \"function\" && define.amd){\n",
       "   // require.js is available: use it to load d3/LDAvis\n",
       "   require.config({paths: {d3: \"https://d3js.org/d3.v5\"}});\n",
       "   require([\"d3\"], function(d3){\n",
       "      window.d3 = d3;\n",
       "      LDAvis_load_lib(\"https://cdn.jsdelivr.net/gh/bmabey/pyLDAvis@3.3.1/pyLDAvis/js/ldavis.v3.0.0.js\", function(){\n",
       "        new LDAvis(\"#\" + \"ldavis_el530139807512355408469010278\", ldavis_el530139807512355408469010278_data);\n",
       "      });\n",
       "    });\n",
       "}else{\n",
       "    // require.js not available: dynamically load d3 & LDAvis\n",
       "    LDAvis_load_lib(\"https://d3js.org/d3.v5.js\", function(){\n",
       "         LDAvis_load_lib(\"https://cdn.jsdelivr.net/gh/bmabey/pyLDAvis@3.3.1/pyLDAvis/js/ldavis.v3.0.0.js\", function(){\n",
       "                 new LDAvis(\"#\" + \"ldavis_el530139807512355408469010278\", ldavis_el530139807512355408469010278_data);\n",
       "            })\n",
       "         });\n",
       "}\n",
       "</script>"
      ],
      "text/plain": [
       "<IPython.core.display.HTML object>"
      ]
     },
     "execution_count": 28,
     "metadata": {},
     "output_type": "execute_result"
    }
   ],
   "source": [
    "%%time\n",
    "\n",
    "lda_display = gensimvis.prepare(ldamodel, doc_term_matrix, dictionary, sort_topics=False, mds='mmds')\n",
    "pyLDAvis.display(lda_display)"
   ]
  },
  {
   "cell_type": "markdown",
   "metadata": {},
   "source": [
    "### Five-topic Model"
   ]
  },
  {
   "cell_type": "code",
   "execution_count": 29,
   "metadata": {},
   "outputs": [
    {
     "name": "stdout",
     "output_type": "stream",
     "text": [
      "CPU times: user 224 ms, sys: 20 ms, total: 244 ms\n",
      "Wall time: 241 ms\n",
      "(0, '0.051*\"ad\" + 0.051*\"advertisement\" + 0.051*\"audi\" + 0.051*\"prove\" + 0.051*\"war\"')\n",
      "(1, '0.015*\"bmw\" + 0.015*\"upbeat\" + 0.015*\"sale\" + 0.015*\"growth\" + 0.015*\"sustained\"')\n",
      "(2, '0.083*\"bmw\" + 0.045*\"video\" + 0.045*\"show\" + 0.045*\"experience\" + 0.045*\"auto\"')\n",
      "(3, '0.108*\"bmw\" + 0.038*\"reality\" + 0.038*\"virtual\" + 0.021*\"first\" + 0.021*\"offer\"')\n",
      "(4, '0.074*\"bmw\" + 0.041*\"smash\" + 0.041*\"stourbridge\" + 0.041*\"hospital\" + 0.041*\"driver\"')\n"
     ]
    }
   ],
   "source": [
    "%time ldamodel = Lda(doc_term_matrix, num_topics=5, id2word = dictionary, passes=50) #5 topics\n",
    "print(*ldamodel.print_topics(num_topics=5, num_words=5), sep='\\n')"
   ]
  },
  {
   "cell_type": "code",
   "execution_count": 30,
   "metadata": {},
   "outputs": [
    {
     "name": "stdout",
     "output_type": "stream",
     "text": [
      "CPU times: user 85.2 ms, sys: 11.8 ms, total: 97 ms\n",
      "Wall time: 144 ms\n"
     ]
    },
    {
     "data": {
      "text/html": [
       "\n",
       "<link rel=\"stylesheet\" type=\"text/css\" href=\"https://cdn.jsdelivr.net/gh/bmabey/pyLDAvis@3.3.1/pyLDAvis/js/ldavis.v1.0.0.css\">\n",
       "\n",
       "\n",
       "<div id=\"ldavis_el5301398075123570723288154440\"></div>\n",
       "<script type=\"text/javascript\">\n",
       "\n",
       "var ldavis_el5301398075123570723288154440_data = {\"mdsDat\": {\"x\": [0.09085593408709652, 0.007981794340854829, -0.08061335110097265, -0.06082357009312589, 0.0425991927661472], \"y\": [0.03174875943651905, 0.008266170297397034, -0.03331411174490985, 0.09846011887063777, -0.105160936859644], \"topics\": [1, 2, 3, 4, 5], \"cluster\": [1, 1, 1, 1, 1], \"Freq\": [13.084901227250823, 2.1338307444782654, 15.711867194731392, 49.79795666775876, 19.27144416578076]}, \"tinfo\": {\"Term\": [\"ad\", \"advertisement\", \"audi\", \"war\", \"prove\", \"jaguar\", \"prowess\", \"mercedes\", \"benz\", \"performance\", \"auto\", \"nyc\", \"overview\", \"take\", \"ultimate\", \"part\", \"driving\", \"video\", \"show\", \"experience\", \"express\", \"driver\", \"hospital\", \"smash\", \"star\", \"stourbridge\", \"taken\", \"tree\", \"cool\", \"edition\", \"ad\", \"advertisement\", \"audi\", \"prove\", \"war\", \"jaguar\", \"prowess\", \"mercedes\", \"benz\", \"driving\", \"part\", \"take\", \"ultimate\", \"auto\", \"nyc\", \"overview\", \"performance\", \"cool\", \"edition\", \"frozen\", \"look\", \"protonic\", \"yellow\", \"driver\", \"express\", \"hospital\", \"smash\", \"star\", \"stourbridge\", \"taken\", \"bmw\", \"sale\", \"growth\", \"sustained\", \"upbeat\", \"show\", \"video\", \"alpina\", \"automobile\", \"b\", \"listed\", \"magazine\", \"turbo\", \"experience\", \"defect\", \"door\", \"judge\", \"law\", \"shuts\", \"softclose\", \"suit\", \"jaguar\", \"mercedes\", \"prowess\", \"benz\", \"prove\", \"war\", \"ad\", \"advertisement\", \"audi\", \"driving\", \"part\", \"take\", \"ultimate\", \"auto\", \"nyc\", \"overview\", \"performance\", \"cool\", \"edition\", \"frozen\", \"look\", \"protonic\", \"yellow\", \"driver\", \"express\", \"hospital\", \"smash\", \"star\", \"stourbridge\", \"taken\", \"bmw\", \"growth\", \"sale\", \"sustained\", \"upbeat\", \"show\", \"video\", \"experience\", \"alpina\", \"automobile\", \"b\", \"listed\", \"magazine\", \"turbo\", \"defect\", \"door\", \"judge\", \"law\", \"shuts\", \"softclose\", \"suit\", \"f\", \"spy\", \"stress\", \"suv\", \"test\", \"x\", \"auto\", \"nyc\", \"overview\", \"performance\", \"driving\", \"part\", \"take\", \"ultimate\", \"show\", \"video\", \"experience\", \"bmw\", \"benz\", \"mercedes\", \"prowess\", \"jaguar\", \"prove\", \"war\", \"advertisement\", \"audi\", \"ad\", \"cool\", \"edition\", \"frozen\", \"look\", \"protonic\", \"yellow\", \"driver\", \"express\", \"hospital\", \"growth\", \"sale\", \"sustained\", \"upbeat\", \"alpina\", \"automobile\", \"b\", \"listed\", \"magazine\", \"turbo\", \"defect\", \"door\", \"judge\", \"law\", \"shuts\", \"softclose\", \"suit\", \"f\", \"reality\", \"virtual\", \"becomes\", \"reporter\", \"beach\", \"first\", \"offer\", \"motorcycle\", \"long\", \"dealer\", \"f\", \"spy\", \"stress\", \"suv\", \"test\", \"x\", \"defect\", \"door\", \"judge\", \"law\", \"shuts\", \"softclose\", \"suit\", \"alpina\", \"automobile\", \"b\", \"listed\", \"magazine\", \"turbo\", \"growth\", \"bmw\", \"driver\", \"express\", \"hospital\", \"smash\", \"star\", \"stourbridge\", \"taken\", \"tree\", \"cool\", \"edition\", \"frozen\", \"look\", \"protonic\", \"yellow\", \"bmw\", \"jaguar\", \"mercedes\", \"prowess\", \"benz\", \"prove\", \"war\", \"ad\", \"advertisement\", \"audi\", \"driving\", \"part\", \"take\", \"ultimate\", \"auto\", \"nyc\", \"growth\", \"sale\", \"sustained\", \"upbeat\", \"show\", \"video\", \"alpina\", \"automobile\", \"b\", \"listed\", \"magazine\", \"turbo\", \"experience\", \"defect\", \"door\"], \"Freq\": [0.0, 0.0, 0.0, 0.0, 0.0, 0.0, 0.0, 0.0, 0.0, 0.0, 0.0, 0.0, 0.0, 0.0, 0.0, 0.0, 0.0, 1.0, 1.0, 1.0, 1.0, 1.0, 1.0, 1.0, 1.0, 1.0, 1.0, 1.0, 1.0, 1.0, 0.5522335524773874, 0.5522335524773874, 0.5522335524773874, 0.5522334715605963, 0.5522334715605963, 0.5522333906438053, 0.5522333906438053, 0.5522333501854096, 0.5522333501854096, 0.09204346686779843, 0.09204346686779843, 0.09204346686779843, 0.09204346686779843, 0.09204299148165072, 0.09204299148165072, 0.09204299148165072, 0.09204299148165072, 0.09204330503421623, 0.09204330503421623, 0.09204330503421623, 0.09204330503421623, 0.09204330503421623, 0.09204330503421623, 0.09204261724149188, 0.09204261724149188, 0.09204261724149188, 0.09204261724149188, 0.09204261724149188, 0.09204261724149188, 0.09204261724149188, 0.5517924750490965, 0.09204864554242889, 0.09204863542783001, 0.09204863542783001, 0.09204863542783001, 0.09204747224895793, 0.09204747224895793, 0.09204614723650366, 0.09204614723650366, 0.09204614723650366, 0.09204614723650366, 0.09204614723650366, 0.09204614723650366, 0.092046116892707, 0.0920453886415871, 0.0920453886415871, 0.0920453886415871, 0.0920453886415871, 0.0920453886415871, 0.0920453886415871, 0.0920453886415871, 0.026044186560805323, 0.026044186560805323, 0.026044186560805323, 0.026044186560805323, 0.026044186560805323, 0.026044186560805323, 0.026044186560805323, 0.026044186560805323, 0.026044186560805323, 0.026044930461092113, 0.026044930461092113, 0.026044930461092113, 0.026044930461092113, 0.02604469953860841, 0.02604469953860841, 0.02604469953860841, 0.02604469953860841, 0.02604485128766913, 0.02604485128766913, 0.02604485128766913, 0.02604485128766913, 0.02604485128766913, 0.02604485128766913, 0.026044513151175133, 0.026044513151175133, 0.026044513151175133, 0.026044513151175133, 0.026044513151175133, 0.026044513151175133, 0.026044513151175133, 0.026048506460696907, 0.026047496999553856, 0.026047496999553856, 0.026047496999553856, 0.026047496999553856, 0.026046924641683532, 0.026046924641683532, 0.026046276409282847, 0.026046268162051286, 0.026046268162051286, 0.026046268162051286, 0.026046268162051286, 0.026046268162051286, 0.026046268162051286, 0.026045893737738423, 0.026045893737738423, 0.026045893737738423, 0.026045893737738423, 0.026045893737738423, 0.026045893737738423, 0.026045893737738423, 0.026045606734080105, 0.026045606734080105, 0.026045606734080105, 0.026045606734080105, 0.026045606734080105, 0.026045606734080105, 0.5882349567209123, 0.5882349567209123, 0.5882349567209123, 0.5882349567209123, 0.588232964901945, 0.588232964901945, 0.588232964901945, 0.588232964901945, 0.5887381582053856, 0.5887381582053856, 0.588407516256812, 1.078570748093806, 0.0980434629160103, 0.09804345077077269, 0.09804342040767867, 0.09804340826244107, 0.09804335968149064, 0.09804335968149064, 0.09804328681006501, 0.09804328681006501, 0.09804328073744621, 0.09804427057431106, 0.09804427057431106, 0.09804427057431106, 0.09804427057431106, 0.09804427057431106, 0.09804427057431106, 0.09804360258624276, 0.09804360258624276, 0.09804360258624276, 0.09804934728363018, 0.09804934728363018, 0.09804934728363018, 0.09804934728363018, 0.09804694859920308, 0.09804694859920308, 0.09804694859920308, 0.09804694859920308, 0.09804694859920308, 0.09804694859920308, 0.09804622595756556, 0.09804622595756556, 0.09804622595756556, 0.09804622595756556, 0.09804622595756556, 0.09804622595756556, 0.09804622595756556, 0.09804600127066986, 1.578744878665666, 1.578744724690837, 0.8611203213471257, 0.8611203213471257, 0.8611203213471257, 0.8611203213471257, 0.8611203213471257, 0.8611203213471257, 0.8611202443597111, 0.8611202443597111, 0.8611071564992493, 0.8611071564992493, 0.8611071564992493, 0.8611071564992493, 0.8611071564992493, 0.8611071564992493, 0.8611034611033541, 0.8611034611033541, 0.8611034611033541, 0.8611034611033541, 0.8611034611033541, 0.8611034611033541, 0.8611034611033541, 0.8610980719843404, 0.8610980719843404, 0.8610980719843404, 0.8610980719843404, 0.8610980719843404, 0.8610980719843404, 0.8610805958412531, 4.449644058394448, 0.6484418670321993, 0.6484418670321993, 0.6484418670321993, 0.6484418670321993, 0.6484418670321993, 0.6484418670321993, 0.6484418670321993, 0.6484418670321993, 0.6484385301529174, 0.6484385301529174, 0.6484385301529174, 0.6484385301529174, 0.6484385301529174, 0.6484385301529174, 1.1889099476577778, 0.1080774605644857, 0.1080774605644857, 0.1080774605644857, 0.1080774605644857, 0.1080774605644857, 0.1080774605644857, 0.1080774605644857, 0.1080774605644857, 0.1080774605644857, 0.1080788683104327, 0.1080788683104327, 0.1080788683104327, 0.1080788683104327, 0.10807842140695746, 0.10807842140695746, 0.10808372466153034, 0.10808372466153034, 0.10808372466153034, 0.10808372466153034, 0.10808260740284223, 0.10808260740284223, 0.10808137096989406, 0.10808137096989406, 0.10808137096989406, 0.10808137096989406, 0.10808137096989406, 0.10808137096989406, 0.1080813486247203, 0.10808064847594241, 0.10808064847594241], \"Total\": [0.0, 0.0, 0.0, 0.0, 0.0, 0.0, 0.0, 0.0, 0.0, 0.0, 0.0, 0.0, 0.0, 0.0, 0.0, 0.0, 0.0, 1.0, 1.0, 1.0, 1.0, 1.0, 1.0, 1.0, 1.0, 1.0, 1.0, 1.0, 1.0, 1.0, 0.927923855653005, 0.9279238617256238, 0.9279238617256238, 0.9279238536802583, 0.9279238536802583, 0.9279238213444176, 0.9279238334896553, 0.9279238233943536, 0.9279238355395913, 0.9579265874436832, 0.9579265874436832, 0.9579265874436832, 0.9579265874436832, 0.9579271277243128, 0.9579271277243128, 0.9579271277243128, 0.9579271277243128, 1.0080971792235536, 1.0080971792235536, 1.0080971792235536, 1.0080971792235536, 1.0080971792235536, 1.0080971792235536, 1.0080983698844888, 1.0080983698844888, 1.0080983698844888, 1.0080983698844888, 1.0080983698844888, 1.0080983698844888, 1.0080983698844888, 7.294965735655825, 1.1853098103283963, 1.1853098002137974, 1.1853098002137974, 1.1853098002137974, 1.6752942490193654, 1.6752942490193654, 1.1853188069519924, 1.1853188069519924, 1.1853188069519924, 1.1853188069519924, 1.1853188069519924, 1.1853188069519924, 1.675451986332898, 1.1853216179161876, 1.1853216179161876, 1.1853216179161876, 1.1853216179161876, 1.1853216179161876, 1.1853216179161876, 1.1853216179161876, 0.9279238213444176, 0.9279238233943536, 0.9279238334896553, 0.9279238355395913, 0.9279238536802583, 0.9279238536802583, 0.927923855653005, 0.9279238617256238, 0.9279238617256238, 0.9579265874436832, 0.9579265874436832, 0.9579265874436832, 0.9579265874436832, 0.9579271277243128, 0.9579271277243128, 0.9579271277243128, 0.9579271277243128, 1.0080971792235536, 1.0080971792235536, 1.0080971792235536, 1.0080971792235536, 1.0080971792235536, 1.0080971792235536, 1.0080983698844888, 1.0080983698844888, 1.0080983698844888, 1.0080983698844888, 1.0080983698844888, 1.0080983698844888, 1.0080983698844888, 7.294965735655825, 1.1853098002137974, 1.1853098103283963, 1.1853098002137974, 1.1853098002137974, 1.6752942490193654, 1.6752942490193654, 1.675451986332898, 1.1853188069519924, 1.1853188069519924, 1.1853188069519924, 1.1853188069519924, 1.1853188069519924, 1.1853188069519924, 1.1853216179161876, 1.1853216179161876, 1.1853216179161876, 1.1853216179161876, 1.1853216179161876, 1.1853216179161876, 1.1853216179161876, 1.1853236712422317, 1.1853236712422317, 1.1853236712422317, 1.1853236712422317, 1.1853236712422317, 1.1853236712422317, 0.9579271277243128, 0.9579271277243128, 0.9579271277243128, 0.9579271277243128, 0.9579265874436832, 0.9579265874436832, 0.9579265874436832, 0.9579265874436832, 1.6752942490193654, 1.6752942490193654, 1.675451986332898, 7.294965735655825, 0.9279238355395913, 0.9279238233943536, 0.9279238334896553, 0.9279238213444176, 0.9279238536802583, 0.9279238536802583, 0.9279238617256238, 0.9279238617256238, 0.927923855653005, 1.0080971792235536, 1.0080971792235536, 1.0080971792235536, 1.0080971792235536, 1.0080971792235536, 1.0080971792235536, 1.0080983698844888, 1.0080983698844888, 1.0080983698844888, 1.1853098002137974, 1.1853098103283963, 1.1853098002137974, 1.1853098002137974, 1.1853188069519924, 1.1853188069519924, 1.1853188069519924, 1.1853188069519924, 1.1853188069519924, 1.1853188069519924, 1.1853216179161876, 1.1853216179161876, 1.1853216179161876, 1.1853216179161876, 1.1853216179161876, 1.1853216179161876, 1.1853216179161876, 1.1853236712422317, 1.902953823094676, 1.9029537021087735, 1.1853304200638366, 1.1853304233627293, 1.1853304250121757, 1.1853304266616218, 1.1853304266616218, 1.1853304299605145, 1.1853303562719926, 1.185330357921439, 1.1853236712422317, 1.1853236712422317, 1.1853236712422317, 1.1853236712422317, 1.1853236712422317, 1.1853236712422317, 1.1853216179161876, 1.1853216179161876, 1.1853216179161876, 1.1853216179161876, 1.1853216179161876, 1.1853216179161876, 1.1853216179161876, 1.1853188069519924, 1.1853188069519924, 1.1853188069519924, 1.1853188069519924, 1.1853188069519924, 1.1853188069519924, 1.1853098002137974, 7.294965735655825, 1.0080983698844888, 1.0080983698844888, 1.0080983698844888, 1.0080983698844888, 1.0080983698844888, 1.0080983698844888, 1.0080983698844888, 1.0080983698844888, 1.0080971792235536, 1.0080971792235536, 1.0080971792235536, 1.0080971792235536, 1.0080971792235536, 1.0080971792235536, 7.294965735655825, 0.9279238213444176, 0.9279238233943536, 0.9279238334896553, 0.9279238355395913, 0.9279238536802583, 0.9279238536802583, 0.927923855653005, 0.9279238617256238, 0.9279238617256238, 0.9579265874436832, 0.9579265874436832, 0.9579265874436832, 0.9579265874436832, 0.9579271277243128, 0.9579271277243128, 1.1853098002137974, 1.1853098103283963, 1.1853098002137974, 1.1853098002137974, 1.6752942490193654, 1.6752942490193654, 1.1853188069519924, 1.1853188069519924, 1.1853188069519924, 1.1853188069519924, 1.1853188069519924, 1.1853188069519924, 1.675451986332898, 1.1853216179161876, 1.1853216179161876], \"Category\": [\"Default\", \"Default\", \"Default\", \"Default\", \"Default\", \"Default\", \"Default\", \"Default\", \"Default\", \"Default\", \"Default\", \"Default\", \"Default\", \"Default\", \"Default\", \"Default\", \"Default\", \"Default\", \"Default\", \"Default\", \"Default\", \"Default\", \"Default\", \"Default\", \"Default\", \"Default\", \"Default\", \"Default\", \"Default\", \"Default\", \"Topic1\", \"Topic1\", \"Topic1\", \"Topic1\", \"Topic1\", \"Topic1\", \"Topic1\", \"Topic1\", \"Topic1\", \"Topic1\", \"Topic1\", \"Topic1\", \"Topic1\", \"Topic1\", \"Topic1\", \"Topic1\", \"Topic1\", \"Topic1\", \"Topic1\", \"Topic1\", \"Topic1\", \"Topic1\", \"Topic1\", \"Topic1\", \"Topic1\", \"Topic1\", \"Topic1\", \"Topic1\", \"Topic1\", \"Topic1\", \"Topic1\", \"Topic1\", \"Topic1\", \"Topic1\", \"Topic1\", \"Topic1\", \"Topic1\", \"Topic1\", \"Topic1\", \"Topic1\", \"Topic1\", \"Topic1\", \"Topic1\", \"Topic1\", \"Topic1\", \"Topic1\", \"Topic1\", \"Topic1\", \"Topic1\", \"Topic1\", \"Topic1\", \"Topic2\", \"Topic2\", \"Topic2\", \"Topic2\", \"Topic2\", \"Topic2\", \"Topic2\", \"Topic2\", \"Topic2\", \"Topic2\", \"Topic2\", \"Topic2\", \"Topic2\", \"Topic2\", \"Topic2\", \"Topic2\", \"Topic2\", \"Topic2\", \"Topic2\", \"Topic2\", \"Topic2\", \"Topic2\", \"Topic2\", \"Topic2\", \"Topic2\", \"Topic2\", \"Topic2\", \"Topic2\", \"Topic2\", \"Topic2\", \"Topic2\", \"Topic2\", \"Topic2\", \"Topic2\", \"Topic2\", \"Topic2\", \"Topic2\", \"Topic2\", \"Topic2\", \"Topic2\", \"Topic2\", \"Topic2\", \"Topic2\", \"Topic2\", \"Topic2\", \"Topic2\", \"Topic2\", \"Topic2\", \"Topic2\", \"Topic2\", \"Topic2\", \"Topic2\", \"Topic2\", \"Topic2\", \"Topic2\", \"Topic2\", \"Topic2\", \"Topic3\", \"Topic3\", \"Topic3\", \"Topic3\", \"Topic3\", \"Topic3\", \"Topic3\", \"Topic3\", \"Topic3\", \"Topic3\", \"Topic3\", \"Topic3\", \"Topic3\", \"Topic3\", \"Topic3\", \"Topic3\", \"Topic3\", \"Topic3\", \"Topic3\", \"Topic3\", \"Topic3\", \"Topic3\", \"Topic3\", \"Topic3\", \"Topic3\", \"Topic3\", \"Topic3\", \"Topic3\", \"Topic3\", \"Topic3\", \"Topic3\", \"Topic3\", \"Topic3\", \"Topic3\", \"Topic3\", \"Topic3\", \"Topic3\", \"Topic3\", \"Topic3\", \"Topic3\", \"Topic3\", \"Topic3\", \"Topic3\", \"Topic3\", \"Topic3\", \"Topic3\", \"Topic3\", \"Topic3\", \"Topic4\", \"Topic4\", \"Topic4\", \"Topic4\", \"Topic4\", \"Topic4\", \"Topic4\", \"Topic4\", \"Topic4\", \"Topic4\", \"Topic4\", \"Topic4\", \"Topic4\", \"Topic4\", \"Topic4\", \"Topic4\", \"Topic4\", \"Topic4\", \"Topic4\", \"Topic4\", \"Topic4\", \"Topic4\", \"Topic4\", \"Topic4\", \"Topic4\", \"Topic4\", \"Topic4\", \"Topic4\", \"Topic4\", \"Topic4\", \"Topic4\", \"Topic5\", \"Topic5\", \"Topic5\", \"Topic5\", \"Topic5\", \"Topic5\", \"Topic5\", \"Topic5\", \"Topic5\", \"Topic5\", \"Topic5\", \"Topic5\", \"Topic5\", \"Topic5\", \"Topic5\", \"Topic5\", \"Topic5\", \"Topic5\", \"Topic5\", \"Topic5\", \"Topic5\", \"Topic5\", \"Topic5\", \"Topic5\", \"Topic5\", \"Topic5\", \"Topic5\", \"Topic5\", \"Topic5\", \"Topic5\", \"Topic5\", \"Topic5\", \"Topic5\", \"Topic5\", \"Topic5\", \"Topic5\", \"Topic5\", \"Topic5\", \"Topic5\", \"Topic5\", \"Topic5\", \"Topic5\", \"Topic5\", \"Topic5\", \"Topic5\"], \"logprob\": [30.0, 29.0, 28.0, 27.0, 26.0, 25.0, 24.0, 23.0, 22.0, 21.0, 20.0, 19.0, 18.0, 17.0, 16.0, 15.0, 14.0, 13.0, 12.0, 11.0, 10.0, 9.0, 8.0, 7.0, 6.0, 5.0, 4.0, 3.0, 2.0, 1.0, -2.9789, -2.9789, -2.9789, -2.9789, -2.9789, -2.9789, -2.9789, -2.9789, -2.9789, -4.7706, -4.7706, -4.7706, -4.7706, -4.7706, -4.7706, -4.7706, -4.7706, -4.7706, -4.7706, -4.7706, -4.7706, -4.7706, -4.7706, -4.7706, -4.7706, -4.7706, -4.7706, -4.7706, -4.7706, -4.7706, -2.9797, -4.7706, -4.7706, -4.7706, -4.7706, -4.7706, -4.7706, -4.7706, -4.7706, -4.7706, -4.7706, -4.7706, -4.7706, -4.7706, -4.7706, -4.7706, -4.7706, -4.7706, -4.7706, -4.7706, -4.7706, -4.2195, -4.2195, -4.2195, -4.2195, -4.2195, -4.2195, -4.2195, -4.2195, -4.2195, -4.2195, -4.2195, -4.2195, -4.2195, -4.2195, -4.2195, -4.2195, -4.2195, -4.2195, -4.2195, -4.2195, -4.2195, -4.2195, -4.2195, -4.2195, -4.2195, -4.2195, -4.2195, -4.2195, -4.2195, -4.2195, -4.2194, -4.2194, -4.2194, -4.2194, -4.2194, -4.2194, -4.2194, -4.2195, -4.2195, -4.2195, -4.2195, -4.2195, -4.2195, -4.2195, -4.2195, -4.2195, -4.2195, -4.2195, -4.2195, -4.2195, -4.2195, -4.2195, -4.2195, -4.2195, -4.2195, -4.2195, -4.2195, -3.0987, -3.0987, -3.0987, -3.0987, -3.0987, -3.0987, -3.0987, -3.0987, -3.0979, -3.0979, -3.0984, -2.4924, -4.8904, -4.8904, -4.8904, -4.8904, -4.8904, -4.8904, -4.8904, -4.8904, -4.8904, -4.8904, -4.8904, -4.8904, -4.8904, -4.8904, -4.8904, -4.8904, -4.8904, -4.8904, -4.8904, -4.8904, -4.8904, -4.8904, -4.8904, -4.8904, -4.8904, -4.8904, -4.8904, -4.8904, -4.8904, -4.8904, -4.8904, -4.8904, -4.8904, -4.8904, -4.8904, -4.8904, -3.265, -3.265, -3.8712, -3.8712, -3.8712, -3.8712, -3.8712, -3.8712, -3.8712, -3.8712, -3.8712, -3.8712, -3.8712, -3.8712, -3.8712, -3.8712, -3.8712, -3.8712, -3.8712, -3.8712, -3.8712, -3.8712, -3.8712, -3.8712, -3.8712, -3.8712, -3.8712, -3.8712, -3.8712, -3.8712, -2.2288, -3.2055, -3.2055, -3.2055, -3.2055, -3.2055, -3.2055, -3.2055, -3.2055, -3.2055, -3.2055, -3.2055, -3.2055, -3.2055, -3.2055, -2.5993, -4.9972, -4.9972, -4.9972, -4.9972, -4.9972, -4.9972, -4.9972, -4.9972, -4.9972, -4.9972, -4.9972, -4.9972, -4.9972, -4.9972, -4.9972, -4.9971, -4.9971, -4.9971, -4.9971, -4.9972, -4.9972, -4.9972, -4.9972, -4.9972, -4.9972, -4.9972, -4.9972, -4.9972, -4.9972, -4.9972], \"loglift\": [30.0, 29.0, 28.0, 27.0, 26.0, 25.0, 24.0, 23.0, 22.0, 21.0, 20.0, 19.0, 18.0, 17.0, 16.0, 15.0, 14.0, 13.0, 12.0, 11.0, 10.0, 9.0, 8.0, 7.0, 6.0, 5.0, 4.0, 3.0, 2.0, 1.0, 1.5147, 1.5147, 1.5147, 1.5147, 1.5147, 1.5147, 1.5147, 1.5147, 1.5147, -0.3088, -0.3088, -0.3088, -0.3088, -0.3088, -0.3088, -0.3088, -0.3088, -0.3598, -0.3598, -0.3598, -0.3598, -0.3598, -0.3598, -0.3599, -0.3599, -0.3599, -0.3599, -0.3599, -0.3599, -0.3599, -0.5481, -0.5217, -0.5217, -0.5217, -0.5217, -0.8677, -0.8677, -0.5218, -0.5218, -0.5218, -0.5218, -0.5218, -0.5218, -0.8678, -0.5218, -0.5218, -0.5218, -0.5218, -0.5218, -0.5218, -0.5218, 0.2741, 0.2741, 0.2741, 0.2741, 0.2741, 0.2741, 0.2741, 0.2741, 0.2741, 0.2423, 0.2423, 0.2423, 0.2423, 0.2423, 0.2423, 0.2423, 0.2423, 0.1913, 0.1913, 0.1913, 0.1913, 0.1913, 0.1913, 0.1912, 0.1912, 0.1912, 0.1912, 0.1912, 0.1912, 0.1912, -1.7877, 0.0294, 0.0294, 0.0294, 0.0294, -0.3166, -0.3166, -0.3167, 0.0294, 0.0294, 0.0294, 0.0294, 0.0294, 0.0294, 0.0293, 0.0293, 0.0293, 0.0293, 0.0293, 0.0293, 0.0293, 0.0293, 0.0293, 0.0293, 0.0293, 0.0293, 0.0293, 1.3631, 1.3631, 1.3631, 1.3631, 1.3631, 1.3631, 1.3631, 1.3631, 0.805, 0.805, 0.8043, -0.0608, -0.3968, -0.3968, -0.3968, -0.3968, -0.3968, -0.3968, -0.3968, -0.3968, -0.3968, -0.4796, -0.4796, -0.4796, -0.4796, -0.4796, -0.4796, -0.4797, -0.4797, -0.4797, -0.6415, -0.6415, -0.6415, -0.6415, -0.6416, -0.6416, -0.6416, -0.6416, -0.6416, -0.6416, -0.6416, -0.6416, -0.6416, -0.6416, -0.6416, -0.6416, -0.6416, -0.6416, 0.5104, 0.5104, 0.3777, 0.3777, 0.3777, 0.3777, 0.3777, 0.3777, 0.3777, 0.3777, 0.3776, 0.3776, 0.3776, 0.3776, 0.3776, 0.3776, 0.3776, 0.3776, 0.3776, 0.3776, 0.3776, 0.3776, 0.3776, 0.3776, 0.3776, 0.3776, 0.3776, 0.3776, 0.3776, 0.3776, 0.2028, 1.2053, 1.2053, 1.2053, 1.2053, 1.2053, 1.2053, 1.2053, 1.2053, 1.2053, 1.2053, 1.2053, 1.2053, 1.2053, 1.2053, -0.1676, -0.5036, -0.5036, -0.5036, -0.5036, -0.5036, -0.5036, -0.5036, -0.5036, -0.5036, -0.5354, -0.5354, -0.5354, -0.5354, -0.5354, -0.5354, -0.7483, -0.7483, -0.7483, -0.7483, -1.0943, -1.0943, -0.7483, -0.7483, -0.7483, -0.7483, -0.7483, -0.7483, -1.0944, -0.7483, -0.7483]}, \"token.table\": {\"Topic\": [1, 1, 4, 1, 3, 4, 4, 4, 4, 1, 1, 3, 4, 5, 5, 4, 4, 4, 5, 3, 5, 3, 4, 5, 4, 4, 5, 4, 5, 1, 4, 4, 4, 4, 5, 4, 1, 4, 3, 4, 3, 3, 3, 5, 1, 1, 4, 4, 4, 3, 4, 4, 5, 4, 4, 5, 5, 4, 4, 4, 4, 3, 5, 4, 5, 4, 3, 4, 3, 4, 4, 1, 4, 5], \"Freq\": [1.0776746323611577, 1.0776746253085236, 0.8436548835089072, 1.0776746253085236, 1.0439207441338854, 0.8436548835089072, 0.8436548835089072, 0.8436466143942336, 0.8436466179161626, 1.077674655720527, 0.13708083577586525, 0.13708083577586525, 0.548323343103461, 0.13708083577586525, 0.9919678584659962, 0.8436466621453711, 0.8436528827998719, 0.8436528827998719, 0.9919666868567433, 1.04392133291612, 0.9919678584659962, 0.5968538687812379, 0.5968538687812379, 0.9919666868567433, 0.8436514213472085, 0.8436466132202575, 0.9919678584659962, 0.8436612941356154, 0.9919666868567433, 1.0776746722065558, 0.8436528827998719, 0.8436528827998719, 0.8436548835089072, 0.8436466633193476, 0.9919678584659962, 0.8436548835089072, 1.0776746698257957, 0.8436466108723049, 1.0439207441338854, 0.8436466132202575, 1.0439207441338854, 1.04392133291612, 1.0439207441338854, 0.9919678584659962, 1.0776746346522712, 1.077674658101287, 1.0509976520331443, 0.84364661556821, 0.8436612869364042, 0.5969100655513804, 0.5969100655513804, 0.8436528827998719, 0.9919666868567433, 0.8436528827998719, 0.8436514213472085, 0.9919666868567433, 0.9919666868567433, 0.8436514213472085, 0.8436528827998719, 0.8436612941356154, 0.8436514213472085, 1.04392133291612, 0.9919666868567433, 0.8436514213472085, 0.9919666868567433, 0.8436548835089072, 1.04392133291612, 0.8436612941356154, 0.5969100655513804, 0.5969100655513804, 1.0509977188534245, 1.0776746346522712, 0.8436514213472085, 0.9919678584659962], \"Term\": [\"ad\", \"advertisement\", \"alpina\", \"audi\", \"auto\", \"automobile\", \"b\", \"beach\", \"becomes\", \"benz\", \"bmw\", \"bmw\", \"bmw\", \"bmw\", \"cool\", \"dealer\", \"defect\", \"door\", \"driver\", \"driving\", \"edition\", \"experience\", \"experience\", \"express\", \"f\", \"first\", \"frozen\", \"growth\", \"hospital\", \"jaguar\", \"judge\", \"law\", \"listed\", \"long\", \"look\", \"magazine\", \"mercedes\", \"motorcycle\", \"nyc\", \"offer\", \"overview\", \"part\", \"performance\", \"protonic\", \"prove\", \"prowess\", \"reality\", \"reporter\", \"sale\", \"show\", \"show\", \"shuts\", \"smash\", \"softclose\", \"spy\", \"star\", \"stourbridge\", \"stress\", \"suit\", \"sustained\", \"suv\", \"take\", \"taken\", \"test\", \"tree\", \"turbo\", \"ultimate\", \"upbeat\", \"video\", \"video\", \"virtual\", \"war\", \"x\", \"yellow\"]}, \"R\": 30, \"lambda.step\": 0.01, \"plot.opts\": {\"xlab\": \"PC1\", \"ylab\": \"PC2\"}, \"topic.order\": [1, 2, 3, 4, 5]};\n",
       "\n",
       "function LDAvis_load_lib(url, callback){\n",
       "  var s = document.createElement('script');\n",
       "  s.src = url;\n",
       "  s.async = true;\n",
       "  s.onreadystatechange = s.onload = callback;\n",
       "  s.onerror = function(){console.warn(\"failed to load library \" + url);};\n",
       "  document.getElementsByTagName(\"head\")[0].appendChild(s);\n",
       "}\n",
       "\n",
       "if(typeof(LDAvis) !== \"undefined\"){\n",
       "   // already loaded: just create the visualization\n",
       "   !function(LDAvis){\n",
       "       new LDAvis(\"#\" + \"ldavis_el5301398075123570723288154440\", ldavis_el5301398075123570723288154440_data);\n",
       "   }(LDAvis);\n",
       "}else if(typeof define === \"function\" && define.amd){\n",
       "   // require.js is available: use it to load d3/LDAvis\n",
       "   require.config({paths: {d3: \"https://d3js.org/d3.v5\"}});\n",
       "   require([\"d3\"], function(d3){\n",
       "      window.d3 = d3;\n",
       "      LDAvis_load_lib(\"https://cdn.jsdelivr.net/gh/bmabey/pyLDAvis@3.3.1/pyLDAvis/js/ldavis.v3.0.0.js\", function(){\n",
       "        new LDAvis(\"#\" + \"ldavis_el5301398075123570723288154440\", ldavis_el5301398075123570723288154440_data);\n",
       "      });\n",
       "    });\n",
       "}else{\n",
       "    // require.js not available: dynamically load d3 & LDAvis\n",
       "    LDAvis_load_lib(\"https://d3js.org/d3.v5.js\", function(){\n",
       "         LDAvis_load_lib(\"https://cdn.jsdelivr.net/gh/bmabey/pyLDAvis@3.3.1/pyLDAvis/js/ldavis.v3.0.0.js\", function(){\n",
       "                 new LDAvis(\"#\" + \"ldavis_el5301398075123570723288154440\", ldavis_el5301398075123570723288154440_data);\n",
       "            })\n",
       "         });\n",
       "}\n",
       "</script>"
      ],
      "text/plain": [
       "<IPython.core.display.HTML object>"
      ]
     },
     "execution_count": 30,
     "metadata": {},
     "output_type": "execute_result"
    }
   ],
   "source": [
    "%%time\n",
    "\n",
    "lda_display = gensimvis.prepare(ldamodel, doc_term_matrix, dictionary, sort_topics=False, mds='mmds')\n",
    "pyLDAvis.display(lda_display)"
   ]
  },
  {
   "cell_type": "markdown",
   "metadata": {},
   "source": [
    "### Ten-topic Model"
   ]
  },
  {
   "cell_type": "code",
   "execution_count": 31,
   "metadata": {},
   "outputs": [
    {
     "name": "stdout",
     "output_type": "stream",
     "text": [
      "CPU times: user 225 ms, sys: 15.7 ms, total: 241 ms\n",
      "Wall time: 237 ms\n",
      "(0, '0.074*\"law\" + 0.074*\"judge\" + 0.074*\"shuts\" + 0.074*\"suit\" + 0.074*\"door\"')\n",
      "(1, '0.080*\"turbo\" + 0.080*\"alpina\" + 0.080*\"listed\" + 0.080*\"b\" + 0.080*\"automobile\"')\n",
      "(2, '0.015*\"virtual\" + 0.015*\"auto\" + 0.015*\"reporter\" + 0.015*\"offer\" + 0.015*\"nyc\"')\n",
      "(3, '0.015*\"virtual\" + 0.015*\"auto\" + 0.015*\"reporter\" + 0.015*\"offer\" + 0.015*\"nyc\"')\n",
      "(4, '0.015*\"virtual\" + 0.015*\"auto\" + 0.015*\"reporter\" + 0.015*\"offer\" + 0.015*\"nyc\"')\n",
      "(5, '0.065*\"advertisement\" + 0.065*\"jaguar\" + 0.065*\"benz\" + 0.065*\"prove\" + 0.065*\"mercedes\"')\n",
      "(6, '0.096*\"bmw\" + 0.050*\"experience\" + 0.050*\"f\" + 0.050*\"spy\" + 0.050*\"stress\"')\n",
      "(7, '0.080*\"show\" + 0.080*\"video\" + 0.080*\"performance\" + 0.080*\"nyc\" + 0.080*\"auto\"')\n",
      "(8, '0.015*\"virtual\" + 0.015*\"auto\" + 0.015*\"reporter\" + 0.015*\"offer\" + 0.015*\"nyc\"')\n",
      "(9, '0.119*\"bmw\" + 0.049*\"reality\" + 0.049*\"virtual\" + 0.026*\"dealer\" + 0.026*\"motorcycle\"')\n"
     ]
    }
   ],
   "source": [
    "%time ldamodel = Lda(doc_term_matrix, num_topics=10, id2word = dictionary, passes=50)\n",
    "print(*ldamodel.print_topics(num_topics=10, num_words=5), sep='\\n')"
   ]
  },
  {
   "cell_type": "code",
   "execution_count": 32,
   "metadata": {},
   "outputs": [
    {
     "name": "stdout",
     "output_type": "stream",
     "text": [
      "CPU times: user 118 ms, sys: 4.53 ms, total: 123 ms\n",
      "Wall time: 201 ms\n"
     ]
    },
    {
     "data": {
      "text/html": [
       "\n",
       "<link rel=\"stylesheet\" type=\"text/css\" href=\"https://cdn.jsdelivr.net/gh/bmabey/pyLDAvis@3.3.1/pyLDAvis/js/ldavis.v1.0.0.css\">\n",
       "\n",
       "\n",
       "<div id=\"ldavis_el5301398075123554087407153077\"></div>\n",
       "<script type=\"text/javascript\">\n",
       "\n",
       "var ldavis_el5301398075123554087407153077_data = {\"mdsDat\": {\"x\": [0.11339342856679045, 0.0065249603266355665, 0.0015994273038239055, 0.0015842105045373986, 0.001638495731368139, -0.12757572002010517, -0.04190871936299406, -0.1102575393137981, 0.001629168736328737, 0.1533722875274132], \"y\": [0.07906146989912245, 0.12542932636548554, -0.0026993785030628766, -0.0026750155911206036, -0.002732530814154087, 0.09875608667557595, -0.1630033915177376, -0.05482698398754317, -0.0027201464676987145, -0.07458943605886685], \"topics\": [1, 2, 3, 4, 5, 6, 7, 8, 9, 10], \"cluster\": [1, 1, 1, 1, 1, 1, 1, 1, 1, 1], \"Freq\": [9.633982863679215, 8.445897603726001, 1.066384868053531, 1.066384868053531, 1.066384868053531, 12.019279750003092, 17.021624959718746, 8.445906307664702, 1.066384868053531, 40.16776904299412]}, \"tinfo\": {\"Term\": [\"video\", \"show\", \"virtual\", \"reality\", \"performance\", \"overview\", \"nyc\", \"auto\", \"automobile\", \"alpina\", \"turbo\", \"magazine\", \"listed\", \"b\", \"experience\", \"suit\", \"defect\", \"door\", \"judge\", \"law\", \"shuts\", \"softclose\", \"war\", \"audi\", \"advertisement\", \"mercedes\", \"prove\", \"prowess\", \"benz\", \"ad\", \"defect\", \"door\", \"judge\", \"law\", \"shuts\", \"softclose\", \"suit\", \"bmw\", \"alpina\", \"automobile\", \"b\", \"listed\", \"magazine\", \"turbo\", \"auto\", \"nyc\", \"overview\", \"performance\", \"ad\", \"advertisement\", \"audi\", \"benz\", \"jaguar\", \"mercedes\", \"prove\", \"prowess\", \"war\", \"driving\", \"part\", \"take\", \"growth\", \"sale\", \"sustained\", \"upbeat\", \"cool\", \"edition\", \"frozen\", \"look\", \"protonic\", \"yellow\", \"alpina\", \"automobile\", \"b\", \"listed\", \"magazine\", \"turbo\", \"bmw\", \"auto\", \"nyc\", \"overview\", \"performance\", \"defect\", \"door\", \"judge\", \"law\", \"shuts\", \"softclose\", \"suit\", \"ad\", \"advertisement\", \"audi\", \"benz\", \"jaguar\", \"mercedes\", \"prove\", \"prowess\", \"war\", \"driving\", \"part\", \"take\", \"growth\", \"sale\", \"sustained\", \"upbeat\", \"cool\", \"edition\", \"frozen\", \"look\", \"protonic\", \"yellow\", \"alpina\", \"automobile\", \"b\", \"listed\", \"magazine\", \"turbo\", \"auto\", \"nyc\", \"overview\", \"performance\", \"defect\", \"door\", \"judge\", \"law\", \"shuts\", \"softclose\", \"suit\", \"ad\", \"advertisement\", \"audi\", \"benz\", \"jaguar\", \"mercedes\", \"prove\", \"prowess\", \"war\", \"driving\", \"part\", \"take\", \"ultimate\", \"bmw\", \"growth\", \"sale\", \"sustained\", \"upbeat\", \"cool\", \"edition\", \"frozen\", \"look\", \"protonic\", \"yellow\", \"alpina\", \"automobile\", \"b\", \"listed\", \"magazine\", \"turbo\", \"auto\", \"nyc\", \"overview\", \"performance\", \"defect\", \"door\", \"judge\", \"law\", \"shuts\", \"softclose\", \"suit\", \"ad\", \"advertisement\", \"audi\", \"benz\", \"jaguar\", \"mercedes\", \"prove\", \"prowess\", \"war\", \"driving\", \"part\", \"take\", \"ultimate\", \"bmw\", \"growth\", \"sale\", \"sustained\", \"upbeat\", \"cool\", \"edition\", \"frozen\", \"look\", \"protonic\", \"yellow\", \"alpina\", \"automobile\", \"b\", \"listed\", \"magazine\", \"turbo\", \"auto\", \"nyc\", \"overview\", \"performance\", \"defect\", \"door\", \"judge\", \"law\", \"shuts\", \"softclose\", \"suit\", \"ad\", \"advertisement\", \"audi\", \"benz\", \"jaguar\", \"mercedes\", \"prove\", \"prowess\", \"war\", \"driving\", \"part\", \"take\", \"ultimate\", \"bmw\", \"growth\", \"sale\", \"sustained\", \"upbeat\", \"cool\", \"edition\", \"frozen\", \"look\", \"protonic\", \"yellow\", \"ad\", \"advertisement\", \"audi\", \"benz\", \"jaguar\", \"mercedes\", \"prove\", \"prowess\", \"war\", \"bmw\", \"alpina\", \"automobile\", \"b\", \"listed\", \"magazine\", \"turbo\", \"auto\", \"nyc\", \"overview\", \"performance\", \"defect\", \"door\", \"judge\", \"law\", \"shuts\", \"softclose\", \"suit\", \"driving\", \"part\", \"take\", \"growth\", \"sale\", \"sustained\", \"upbeat\", \"cool\", \"edition\", \"frozen\", \"look\", \"protonic\", \"yellow\", \"f\", \"spy\", \"stress\", \"suv\", \"test\", \"x\", \"driving\", \"part\", \"take\", \"ultimate\", \"show\", \"video\", \"experience\", \"bmw\", \"alpina\", \"automobile\", \"b\", \"listed\", \"magazine\", \"turbo\", \"auto\", \"nyc\", \"overview\", \"performance\", \"defect\", \"door\", \"judge\", \"law\", \"shuts\", \"softclose\", \"growth\", \"sale\", \"sustained\", \"upbeat\", \"ad\", \"advertisement\", \"audi\", \"benz\", \"jaguar\", \"mercedes\", \"prove\", \"prowess\", \"war\", \"cool\", \"edition\", \"frozen\", \"auto\", \"nyc\", \"overview\", \"performance\", \"show\", \"video\", \"bmw\", \"alpina\", \"automobile\", \"b\", \"listed\", \"magazine\", \"turbo\", \"defect\", \"door\", \"judge\", \"law\", \"shuts\", \"softclose\", \"suit\", \"ad\", \"advertisement\", \"audi\", \"benz\", \"jaguar\", \"mercedes\", \"prove\", \"prowess\", \"war\", \"driving\", \"growth\", \"sale\", \"sustained\", \"upbeat\", \"cool\", \"edition\", \"frozen\", \"look\", \"protonic\", \"yellow\", \"alpina\", \"automobile\", \"b\", \"listed\", \"magazine\", \"turbo\", \"auto\", \"nyc\", \"overview\", \"performance\", \"defect\", \"door\", \"judge\", \"law\", \"shuts\", \"softclose\", \"suit\", \"ad\", \"advertisement\", \"audi\", \"benz\", \"jaguar\", \"mercedes\", \"prove\", \"prowess\", \"war\", \"driving\", \"part\", \"take\", \"ultimate\", \"bmw\", \"growth\", \"sale\", \"sustained\", \"upbeat\", \"cool\", \"edition\", \"frozen\", \"look\", \"protonic\", \"yellow\", \"reality\", \"virtual\", \"beach\", \"becomes\", \"dealer\", \"first\", \"long\", \"motorcycle\", \"offer\", \"reporter\", \"driver\", \"express\", \"hospital\", \"smash\", \"star\", \"stourbridge\", \"taken\", \"tree\", \"cool\", \"edition\", \"frozen\", \"look\", \"protonic\", \"yellow\", \"growth\", \"sale\", \"sustained\", \"upbeat\", \"bmw\", \"experience\"], \"Freq\": [1.0, 1.0, 1.0, 1.0, 0.0, 0.0, 0.0, 0.0, 0.0, 0.0, 0.0, 0.0, 0.0, 0.0, 1.0, 0.0, 0.0, 0.0, 0.0, 0.0, 0.0, 0.0, 1.0, 1.0, 1.0, 1.0, 1.0, 1.0, 1.0, 1.0, 0.5943119468153066, 0.5943119468153066, 0.5943119468153066, 0.5943119468153066, 0.5943119468153066, 0.5943119468153066, 0.5943119468153066, 0.5943106361350269, 0.05402851248136233, 0.05402851248136233, 0.05402851248136233, 0.05402851248136233, 0.05402851248136233, 0.05402851248136233, 0.05402851248136233, 0.05402851248136233, 0.05402851248136233, 0.05402851248136233, 0.05402851248136233, 0.05402851248136233, 0.05402851248136233, 0.05402851248136233, 0.05402851248136233, 0.05402851248136233, 0.05402851248136233, 0.05402851248136233, 0.05402851248136233, 0.05402851248136233, 0.05402851248136233, 0.05402851248136233, 0.05402851248136233, 0.05402851248136233, 0.05402851248136233, 0.05402851248136233, 0.05402851248136233, 0.05402851248136233, 0.05402851248136233, 0.05402851248136233, 0.05402851248136233, 0.05402851248136233, 0.5587750929729507, 0.5587750929729507, 0.5587750929729507, 0.5587750929729507, 0.5587750929729507, 0.5587750929729507, 0.5587736827824306, 0.050797863330437364, 0.050797863330437364, 0.050797863330437364, 0.050797863330437364, 0.050797863330437364, 0.050797863330437364, 0.050797863330437364, 0.050797863330437364, 0.050797863330437364, 0.050797863330437364, 0.050797863330437364, 0.050797863330437364, 0.050797863330437364, 0.050797863330437364, 0.050797863330437364, 0.050797863330437364, 0.050797863330437364, 0.050797863330437364, 0.050797863330437364, 0.050797863330437364, 0.050797863330437364, 0.050797863330437364, 0.050797863330437364, 0.050797863330437364, 0.050797863330437364, 0.050797863330437364, 0.050797863330437364, 0.050797863330437364, 0.050797863330437364, 0.050797863330437364, 0.050797863330437364, 0.050797863330437364, 0.050797863330437364, 0.013016168453243038, 0.013016168453243038, 0.013016168453243038, 0.013016168453243038, 0.013016168453243038, 0.013016168453243038, 0.013016168453243038, 0.013016168453243038, 0.013016168453243038, 0.013016168453243038, 0.013016168453243038, 0.013016168453243038, 0.013016168453243038, 0.013016168453243038, 0.013016168453243038, 0.013016168453243038, 0.013016168453243038, 0.013016168453243038, 0.013016168453243038, 0.013016168453243038, 0.013016168453243038, 0.013016168453243038, 0.013016168453243038, 0.013016168453243038, 0.013016168453243038, 0.013016168453243038, 0.013016168453243038, 0.013016168453243038, 0.013016168453243038, 0.013016168453243038, 0.013016168453243038, 0.013016168453243038, 0.013016168453243038, 0.013016168453243038, 0.013016168453243038, 0.013016168453243038, 0.013016168453243038, 0.013016168453243038, 0.013016168453243038, 0.013016168453243038, 0.013016168453243038, 0.013016168453243038, 0.013016168453243038, 0.013016168453243038, 0.013016168453243038, 0.013016168453243038, 0.013016168453243038, 0.013016168453243038, 0.013016168453243038, 0.013016168453243038, 0.013016168453243038, 0.013016168453243038, 0.013016168453243038, 0.013016168453243038, 0.013016168453243038, 0.013016168453243038, 0.013016168453243038, 0.013016168453243038, 0.013016168453243038, 0.013016168453243038, 0.013016168453243038, 0.013016168453243038, 0.013016168453243038, 0.013016168453243038, 0.013016168453243038, 0.013016168453243038, 0.013016168453243038, 0.013016168453243038, 0.013016168453243038, 0.013016168453243038, 0.013016168453243038, 0.013016168453243038, 0.013016168453243038, 0.013016168453243038, 0.013016168453243038, 0.013016168453243038, 0.013016168453243038, 0.013016168453243038, 0.013016168453243038, 0.013016168453243038, 0.013016168453243038, 0.013016168453243038, 0.013016168453243038, 0.013016168453243038, 0.013016168453243038, 0.013016168453243038, 0.013016168453243038, 0.013016168453243038, 0.013016168453243038, 0.013016168453243038, 0.013016168453243038, 0.013016168453243038, 0.013016168453243038, 0.013016168453243038, 0.013016168453243038, 0.013016168453243038, 0.013016168453243038, 0.013016168453243038, 0.013016168453243038, 0.013016168453243038, 0.013016168453243038, 0.013016168453243038, 0.013016168453243038, 0.013016168453243038, 0.013016168453243038, 0.013016168453243038, 0.013016168453243038, 0.013016168453243038, 0.013016168453243038, 0.013016168453243038, 0.013016168453243038, 0.013016168453243038, 0.013016168453243038, 0.013016168453243038, 0.013016168453243038, 0.013016168453243038, 0.013016168453243038, 0.013016168453243038, 0.013016168453243038, 0.013016168453243038, 0.013016168453243038, 0.013016168453243038, 0.013016168453243038, 0.65318992001742, 0.65318992001742, 0.65318992001742, 0.65318992001742, 0.65318992001742, 0.65318992001742, 0.65318992001742, 0.65318992001742, 0.65318992001742, 0.6531882848232156, 0.059381092705039336, 0.059381092705039336, 0.059381092705039336, 0.059381092705039336, 0.059381092705039336, 0.059381092705039336, 0.059381092705039336, 0.059381092705039336, 0.059381092705039336, 0.059381092705039336, 0.059381092705039336, 0.059381092705039336, 0.059381092705039336, 0.059381092705039336, 0.059381092705039336, 0.059381092705039336, 0.059381092705039336, 0.059381092705039336, 0.059381092705039336, 0.059381092705039336, 0.059381092705039336, 0.059381092705039336, 0.059381092705039336, 0.059381092705039336, 0.059381092705039336, 0.059381092705039336, 0.059381092705039336, 0.059381092705039336, 0.059381092705039336, 0.059381092705039336, 0.7128772956656982, 0.7128772956656982, 0.7128772956656982, 0.7128772956656982, 0.7128772956656982, 0.7128772956656982, 0.7128771377735654, 0.7128771377735654, 0.7128771377735654, 0.7128771377735654, 0.7128755062215261, 0.7128755062215261, 0.7128780324956515, 1.360953975830212, 0.06480727986495814, 0.06480727986495814, 0.06480727986495814, 0.06480727986495814, 0.06480727986495814, 0.06480727986495814, 0.06480727986495814, 0.06480727986495814, 0.06480727986495814, 0.06480727986495814, 0.06480727986495814, 0.06480727986495814, 0.06480727986495814, 0.06480727986495814, 0.06480727986495814, 0.06480727986495814, 0.06480727986495814, 0.06480727986495814, 0.06480727986495814, 0.06480727986495814, 0.06480727986495814, 0.06480727986495814, 0.06480727986495814, 0.06480727986495814, 0.06480727986495814, 0.06480727986495814, 0.06480727986495814, 0.06480727986495814, 0.06480727986495814, 0.06480727986495814, 0.06480727986495814, 0.06480727986495814, 0.5587755121318778, 0.5587755121318778, 0.5587755121318778, 0.5587755121318778, 0.5587767656358541, 0.5587767656358541, 0.558774049710572, 0.05079789935862289, 0.05079789935862289, 0.05079789935862289, 0.05079789935862289, 0.05079789935862289, 0.05079789935862289, 0.05079789935862289, 0.05079789935862289, 0.05079789935862289, 0.05079789935862289, 0.05079789935862289, 0.05079789935862289, 0.05079789935862289, 0.05079789935862289, 0.05079789935862289, 0.05079789935862289, 0.05079789935862289, 0.05079789935862289, 0.05079789935862289, 0.05079789935862289, 0.05079789935862289, 0.05079789935862289, 0.05079789935862289, 0.05079789935862289, 0.05079789935862289, 0.05079789935862289, 0.05079789935862289, 0.05079789935862289, 0.05079789935862289, 0.05079789935862289, 0.05079789935862289, 0.05079789935862289, 0.05079789935862289, 0.013016168453243038, 0.013016168453243038, 0.013016168453243038, 0.013016168453243038, 0.013016168453243038, 0.013016168453243038, 0.013016168453243038, 0.013016168453243038, 0.013016168453243038, 0.013016168453243038, 0.013016168453243038, 0.013016168453243038, 0.013016168453243038, 0.013016168453243038, 0.013016168453243038, 0.013016168453243038, 0.013016168453243038, 0.013016168453243038, 0.013016168453243038, 0.013016168453243038, 0.013016168453243038, 0.013016168453243038, 0.013016168453243038, 0.013016168453243038, 0.013016168453243038, 0.013016168453243038, 0.013016168453243038, 0.013016168453243038, 0.013016168453243038, 0.013016168453243038, 0.013016168453243038, 0.013016168453243038, 0.013016168453243038, 0.013016168453243038, 0.013016168453243038, 0.013016168453243038, 0.013016168453243038, 0.013016168453243038, 0.013016168453243038, 0.013016168453243038, 0.013016168453243038, 1.6358085393199762, 1.6358085393199762, 0.8568483483307291, 0.8568483483307291, 0.8568483483307291, 0.8568483483307291, 0.8568483483307291, 0.8568483483307291, 0.8568483483307291, 0.8568483483307291, 0.8568482862315392, 0.8568482862315392, 0.8568482862315392, 0.8568482862315392, 0.8568482862315392, 0.8568482862315392, 0.8568482862315392, 0.8568482862315392, 0.8568479757355897, 0.8568479757355897, 0.8568479757355897, 0.8568479757355897, 0.8568479757355897, 0.8568479757355897, 0.8568477273388301, 0.8568477273388301, 0.8568477273388301, 0.8568477273388301, 3.972690105874756, 0.8568474168428805], \"Total\": [1.0, 1.0, 1.0, 1.0, 0.0, 0.0, 0.0, 0.0, 0.0, 0.0, 0.0, 0.0, 0.0, 0.0, 1.0, 0.0, 0.0, 0.0, 0.0, 0.0, 0.0, 0.0, 1.0, 1.0, 1.0, 1.0, 1.0, 1.0, 1.0, 1.0, 0.9500566523403612, 0.9500566523403612, 0.9500566523403612, 0.9500566523403612, 0.9500566523403612, 0.9500566523403612, 0.9500566523403612, 7.7507554089691855, 0.9177504476489302, 0.9177504476489302, 0.9177504476489302, 0.9177504476489302, 0.9177504476489302, 0.9177504476489302, 0.9177508307796718, 0.9177508307796718, 0.9177508307796718, 0.9177508307796718, 1.0035820453187976, 1.0035820453187976, 1.0035820453187976, 1.0035820453187976, 1.0035820453187976, 1.0035820453187976, 1.0035820453187976, 1.0035820453187976, 1.0035820453187976, 1.0578430759150241, 1.0578430759150241, 1.0578430759150241, 1.1887250488922223, 1.1887250488922223, 1.1887250488922223, 1.1887250488922223, 1.188725297288982, 1.188725297288982, 1.188725297288982, 1.188725297288982, 1.188725297288982, 1.188725297288982, 0.9177504476489302, 0.9177504476489302, 0.9177504476489302, 0.9177504476489302, 0.9177504476489302, 0.9177504476489302, 7.7507554089691855, 0.9177508307796718, 0.9177508307796718, 0.9177508307796718, 0.9177508307796718, 0.9500566523403612, 0.9500566523403612, 0.9500566523403612, 0.9500566523403612, 0.9500566523403612, 0.9500566523403612, 0.9500566523403612, 1.0035820453187976, 1.0035820453187976, 1.0035820453187976, 1.0035820453187976, 1.0035820453187976, 1.0035820453187976, 1.0035820453187976, 1.0035820453187976, 1.0035820453187976, 1.0578430759150241, 1.0578430759150241, 1.0578430759150241, 1.1887250488922223, 1.1887250488922223, 1.1887250488922223, 1.1887250488922223, 1.188725297288982, 1.188725297288982, 1.188725297288982, 1.188725297288982, 1.188725297288982, 1.188725297288982, 0.9177504476489302, 0.9177504476489302, 0.9177504476489302, 0.9177504476489302, 0.9177504476489302, 0.9177504476489302, 0.9177508307796718, 0.9177508307796718, 0.9177508307796718, 0.9177508307796718, 0.9500566523403612, 0.9500566523403612, 0.9500566523403612, 0.9500566523403612, 0.9500566523403612, 0.9500566523403612, 0.9500566523403612, 1.0035820453187976, 1.0035820453187976, 1.0035820453187976, 1.0035820453187976, 1.0035820453187976, 1.0035820453187976, 1.0035820453187976, 1.0035820453187976, 1.0035820453187976, 1.0578430759150241, 1.0578430759150241, 1.0578430759150241, 1.0578430759150241, 7.7507554089691855, 1.1887250488922223, 1.1887250488922223, 1.1887250488922223, 1.1887250488922223, 1.188725297288982, 1.188725297288982, 1.188725297288982, 1.188725297288982, 1.188725297288982, 1.188725297288982, 0.9177504476489302, 0.9177504476489302, 0.9177504476489302, 0.9177504476489302, 0.9177504476489302, 0.9177504476489302, 0.9177508307796718, 0.9177508307796718, 0.9177508307796718, 0.9177508307796718, 0.9500566523403612, 0.9500566523403612, 0.9500566523403612, 0.9500566523403612, 0.9500566523403612, 0.9500566523403612, 0.9500566523403612, 1.0035820453187976, 1.0035820453187976, 1.0035820453187976, 1.0035820453187976, 1.0035820453187976, 1.0035820453187976, 1.0035820453187976, 1.0035820453187976, 1.0035820453187976, 1.0578430759150241, 1.0578430759150241, 1.0578430759150241, 1.0578430759150241, 7.7507554089691855, 1.1887250488922223, 1.1887250488922223, 1.1887250488922223, 1.1887250488922223, 1.188725297288982, 1.188725297288982, 1.188725297288982, 1.188725297288982, 1.188725297288982, 1.188725297288982, 0.9177504476489302, 0.9177504476489302, 0.9177504476489302, 0.9177504476489302, 0.9177504476489302, 0.9177504476489302, 0.9177508307796718, 0.9177508307796718, 0.9177508307796718, 0.9177508307796718, 0.9500566523403612, 0.9500566523403612, 0.9500566523403612, 0.9500566523403612, 0.9500566523403612, 0.9500566523403612, 0.9500566523403612, 1.0035820453187976, 1.0035820453187976, 1.0035820453187976, 1.0035820453187976, 1.0035820453187976, 1.0035820453187976, 1.0035820453187976, 1.0035820453187976, 1.0035820453187976, 1.0578430759150241, 1.0578430759150241, 1.0578430759150241, 1.0578430759150241, 7.7507554089691855, 1.1887250488922223, 1.1887250488922223, 1.1887250488922223, 1.1887250488922223, 1.188725297288982, 1.188725297288982, 1.188725297288982, 1.188725297288982, 1.188725297288982, 1.188725297288982, 1.0035820453187976, 1.0035820453187976, 1.0035820453187976, 1.0035820453187976, 1.0035820453187976, 1.0035820453187976, 1.0035820453187976, 1.0035820453187976, 1.0035820453187976, 7.7507554089691855, 0.9177504476489302, 0.9177504476489302, 0.9177504476489302, 0.9177504476489302, 0.9177504476489302, 0.9177504476489302, 0.9177508307796718, 0.9177508307796718, 0.9177508307796718, 0.9177508307796718, 0.9500566523403612, 0.9500566523403612, 0.9500566523403612, 0.9500566523403612, 0.9500566523403612, 0.9500566523403612, 0.9500566523403612, 1.0578430759150241, 1.0578430759150241, 1.0578430759150241, 1.1887250488922223, 1.1887250488922223, 1.1887250488922223, 1.1887250488922223, 1.188725297288982, 1.188725297288982, 1.188725297288982, 1.188725297288982, 1.188725297288982, 1.188725297288982, 1.0578432338071568, 1.0578432338071568, 1.0578432338071568, 1.0578432338071568, 1.0578432338071568, 1.0578432338071568, 1.0578430759150241, 1.0578430759150241, 1.0578430759150241, 1.0578430759150241, 1.5658203106402162, 1.5658203106402162, 1.8367954910269662, 7.7507554089691855, 0.9177504476489302, 0.9177504476489302, 0.9177504476489302, 0.9177504476489302, 0.9177504476489302, 0.9177504476489302, 0.9177508307796718, 0.9177508307796718, 0.9177508307796718, 0.9177508307796718, 0.9500566523403612, 0.9500566523403612, 0.9500566523403612, 0.9500566523403612, 0.9500566523403612, 0.9500566523403612, 1.1887250488922223, 1.1887250488922223, 1.1887250488922223, 1.1887250488922223, 1.0035820453187976, 1.0035820453187976, 1.0035820453187976, 1.0035820453187976, 1.0035820453187976, 1.0035820453187976, 1.0035820453187976, 1.0035820453187976, 1.0035820453187976, 1.188725297288982, 1.188725297288982, 1.188725297288982, 0.9177508307796718, 0.9177508307796718, 0.9177508307796718, 0.9177508307796718, 1.5658203106402162, 1.5658203106402162, 7.7507554089691855, 0.9177504476489302, 0.9177504476489302, 0.9177504476489302, 0.9177504476489302, 0.9177504476489302, 0.9177504476489302, 0.9500566523403612, 0.9500566523403612, 0.9500566523403612, 0.9500566523403612, 0.9500566523403612, 0.9500566523403612, 0.9500566523403612, 1.0035820453187976, 1.0035820453187976, 1.0035820453187976, 1.0035820453187976, 1.0035820453187976, 1.0035820453187976, 1.0035820453187976, 1.0035820453187976, 1.0035820453187976, 1.0578430759150241, 1.1887250488922223, 1.1887250488922223, 1.1887250488922223, 1.1887250488922223, 1.188725297288982, 1.188725297288982, 1.188725297288982, 1.188725297288982, 1.188725297288982, 1.188725297288982, 0.9177504476489302, 0.9177504476489302, 0.9177504476489302, 0.9177504476489302, 0.9177504476489302, 0.9177504476489302, 0.9177508307796718, 0.9177508307796718, 0.9177508307796718, 0.9177508307796718, 0.9500566523403612, 0.9500566523403612, 0.9500566523403612, 0.9500566523403612, 0.9500566523403612, 0.9500566523403612, 0.9500566523403612, 1.0035820453187976, 1.0035820453187976, 1.0035820453187976, 1.0035820453187976, 1.0035820453187976, 1.0035820453187976, 1.0035820453187976, 1.0035820453187976, 1.0035820453187976, 1.0578430759150241, 1.0578430759150241, 1.0578430759150241, 1.0578430759150241, 7.7507554089691855, 1.1887250488922223, 1.1887250488922223, 1.1887250488922223, 1.1887250488922223, 1.188725297288982, 1.188725297288982, 1.188725297288982, 1.188725297288982, 1.188725297288982, 1.188725297288982, 1.9676858608733685, 1.9676858608733685, 1.1887256698841213, 1.1887256698841213, 1.1887256698841213, 1.1887256698841213, 1.1887256698841213, 1.1887256698841213, 1.1887256698841213, 1.1887256698841213, 1.1887256077849315, 1.1887256077849315, 1.1887256077849315, 1.1887256077849315, 1.1887256077849315, 1.1887256077849315, 1.1887256077849315, 1.1887256077849315, 1.188725297288982, 1.188725297288982, 1.188725297288982, 1.188725297288982, 1.188725297288982, 1.188725297288982, 1.1887250488922223, 1.1887250488922223, 1.1887250488922223, 1.1887250488922223, 7.7507554089691855, 1.8367954910269662], \"Category\": [\"Default\", \"Default\", \"Default\", \"Default\", \"Default\", \"Default\", \"Default\", \"Default\", \"Default\", \"Default\", \"Default\", \"Default\", \"Default\", \"Default\", \"Default\", \"Default\", \"Default\", \"Default\", \"Default\", \"Default\", \"Default\", \"Default\", \"Default\", \"Default\", \"Default\", \"Default\", \"Default\", \"Default\", \"Default\", \"Default\", \"Topic1\", \"Topic1\", \"Topic1\", \"Topic1\", \"Topic1\", \"Topic1\", \"Topic1\", \"Topic1\", \"Topic1\", \"Topic1\", \"Topic1\", \"Topic1\", \"Topic1\", \"Topic1\", \"Topic1\", \"Topic1\", \"Topic1\", \"Topic1\", \"Topic1\", \"Topic1\", \"Topic1\", \"Topic1\", \"Topic1\", \"Topic1\", \"Topic1\", \"Topic1\", \"Topic1\", \"Topic1\", \"Topic1\", \"Topic1\", \"Topic1\", \"Topic1\", \"Topic1\", \"Topic1\", \"Topic1\", \"Topic1\", \"Topic1\", \"Topic1\", \"Topic1\", \"Topic1\", \"Topic2\", \"Topic2\", \"Topic2\", \"Topic2\", \"Topic2\", \"Topic2\", \"Topic2\", \"Topic2\", \"Topic2\", \"Topic2\", \"Topic2\", \"Topic2\", \"Topic2\", \"Topic2\", \"Topic2\", \"Topic2\", \"Topic2\", \"Topic2\", \"Topic2\", \"Topic2\", \"Topic2\", \"Topic2\", \"Topic2\", \"Topic2\", \"Topic2\", \"Topic2\", \"Topic2\", \"Topic2\", \"Topic2\", \"Topic2\", \"Topic2\", \"Topic2\", \"Topic2\", \"Topic2\", \"Topic2\", \"Topic2\", \"Topic2\", \"Topic2\", \"Topic2\", \"Topic2\", \"Topic3\", \"Topic3\", \"Topic3\", \"Topic3\", \"Topic3\", \"Topic3\", \"Topic3\", \"Topic3\", \"Topic3\", \"Topic3\", \"Topic3\", \"Topic3\", \"Topic3\", \"Topic3\", \"Topic3\", \"Topic3\", \"Topic3\", \"Topic3\", \"Topic3\", \"Topic3\", \"Topic3\", \"Topic3\", \"Topic3\", \"Topic3\", \"Topic3\", \"Topic3\", \"Topic3\", \"Topic3\", \"Topic3\", \"Topic3\", \"Topic3\", \"Topic3\", \"Topic3\", \"Topic3\", \"Topic3\", \"Topic3\", \"Topic3\", \"Topic3\", \"Topic3\", \"Topic3\", \"Topic3\", \"Topic4\", \"Topic4\", \"Topic4\", \"Topic4\", \"Topic4\", \"Topic4\", \"Topic4\", \"Topic4\", \"Topic4\", \"Topic4\", \"Topic4\", \"Topic4\", \"Topic4\", \"Topic4\", \"Topic4\", \"Topic4\", \"Topic4\", \"Topic4\", \"Topic4\", \"Topic4\", \"Topic4\", \"Topic4\", \"Topic4\", \"Topic4\", \"Topic4\", \"Topic4\", \"Topic4\", \"Topic4\", \"Topic4\", \"Topic4\", \"Topic4\", \"Topic4\", \"Topic4\", \"Topic4\", \"Topic4\", \"Topic4\", \"Topic4\", \"Topic4\", \"Topic4\", \"Topic4\", \"Topic4\", \"Topic5\", \"Topic5\", \"Topic5\", \"Topic5\", \"Topic5\", \"Topic5\", \"Topic5\", \"Topic5\", \"Topic5\", \"Topic5\", \"Topic5\", \"Topic5\", \"Topic5\", \"Topic5\", \"Topic5\", \"Topic5\", \"Topic5\", \"Topic5\", \"Topic5\", \"Topic5\", \"Topic5\", \"Topic5\", \"Topic5\", \"Topic5\", \"Topic5\", \"Topic5\", \"Topic5\", \"Topic5\", \"Topic5\", \"Topic5\", \"Topic5\", \"Topic5\", \"Topic5\", \"Topic5\", \"Topic5\", \"Topic5\", \"Topic5\", \"Topic5\", \"Topic5\", \"Topic5\", \"Topic5\", \"Topic6\", \"Topic6\", \"Topic6\", \"Topic6\", \"Topic6\", \"Topic6\", \"Topic6\", \"Topic6\", \"Topic6\", \"Topic6\", \"Topic6\", \"Topic6\", \"Topic6\", \"Topic6\", \"Topic6\", \"Topic6\", \"Topic6\", \"Topic6\", \"Topic6\", \"Topic6\", \"Topic6\", \"Topic6\", \"Topic6\", \"Topic6\", \"Topic6\", \"Topic6\", \"Topic6\", \"Topic6\", \"Topic6\", \"Topic6\", \"Topic6\", \"Topic6\", \"Topic6\", \"Topic6\", \"Topic6\", \"Topic6\", \"Topic6\", \"Topic6\", \"Topic6\", \"Topic6\", \"Topic7\", \"Topic7\", \"Topic7\", \"Topic7\", \"Topic7\", \"Topic7\", \"Topic7\", \"Topic7\", \"Topic7\", \"Topic7\", \"Topic7\", \"Topic7\", \"Topic7\", \"Topic7\", \"Topic7\", \"Topic7\", \"Topic7\", \"Topic7\", \"Topic7\", \"Topic7\", \"Topic7\", \"Topic7\", \"Topic7\", \"Topic7\", \"Topic7\", \"Topic7\", \"Topic7\", \"Topic7\", \"Topic7\", \"Topic7\", \"Topic7\", \"Topic7\", \"Topic7\", \"Topic7\", \"Topic7\", \"Topic7\", \"Topic7\", \"Topic7\", \"Topic7\", \"Topic7\", \"Topic7\", \"Topic7\", \"Topic7\", \"Topic7\", \"Topic7\", \"Topic7\", \"Topic8\", \"Topic8\", \"Topic8\", \"Topic8\", \"Topic8\", \"Topic8\", \"Topic8\", \"Topic8\", \"Topic8\", \"Topic8\", \"Topic8\", \"Topic8\", \"Topic8\", \"Topic8\", \"Topic8\", \"Topic8\", \"Topic8\", \"Topic8\", \"Topic8\", \"Topic8\", \"Topic8\", \"Topic8\", \"Topic8\", \"Topic8\", \"Topic8\", \"Topic8\", \"Topic8\", \"Topic8\", \"Topic8\", \"Topic8\", \"Topic8\", \"Topic8\", \"Topic8\", \"Topic8\", \"Topic8\", \"Topic8\", \"Topic8\", \"Topic8\", \"Topic8\", \"Topic8\", \"Topic9\", \"Topic9\", \"Topic9\", \"Topic9\", \"Topic9\", \"Topic9\", \"Topic9\", \"Topic9\", \"Topic9\", \"Topic9\", \"Topic9\", \"Topic9\", \"Topic9\", \"Topic9\", \"Topic9\", \"Topic9\", \"Topic9\", \"Topic9\", \"Topic9\", \"Topic9\", \"Topic9\", \"Topic9\", \"Topic9\", \"Topic9\", \"Topic9\", \"Topic9\", \"Topic9\", \"Topic9\", \"Topic9\", \"Topic9\", \"Topic9\", \"Topic9\", \"Topic9\", \"Topic9\", \"Topic9\", \"Topic9\", \"Topic9\", \"Topic9\", \"Topic9\", \"Topic9\", \"Topic9\", \"Topic10\", \"Topic10\", \"Topic10\", \"Topic10\", \"Topic10\", \"Topic10\", \"Topic10\", \"Topic10\", \"Topic10\", \"Topic10\", \"Topic10\", \"Topic10\", \"Topic10\", \"Topic10\", \"Topic10\", \"Topic10\", \"Topic10\", \"Topic10\", \"Topic10\", \"Topic10\", \"Topic10\", \"Topic10\", \"Topic10\", \"Topic10\", \"Topic10\", \"Topic10\", \"Topic10\", \"Topic10\", \"Topic10\", \"Topic10\"], \"logprob\": [30.0, 29.0, 28.0, 27.0, 26.0, 25.0, 24.0, 23.0, 22.0, 21.0, 20.0, 19.0, 18.0, 17.0, 16.0, 15.0, 14.0, 13.0, 12.0, 11.0, 10.0, 9.0, 8.0, 7.0, 6.0, 5.0, 4.0, 3.0, 2.0, 1.0, -2.5993, -2.5993, -2.5993, -2.5993, -2.5993, -2.5993, -2.5993, -2.5993, -4.9972, -4.9972, -4.9972, -4.9972, -4.9972, -4.9972, -4.9972, -4.9972, -4.9972, -4.9972, -4.9972, -4.9972, -4.9972, -4.9972, -4.9972, -4.9972, -4.9972, -4.9972, -4.9972, -4.9972, -4.9972, -4.9972, -4.9972, -4.9972, -4.9972, -4.9972, -4.9972, -4.9972, -4.9972, -4.9972, -4.9972, -4.9972, -2.5294, -2.5294, -2.5294, -2.5294, -2.5294, -2.5294, -2.5294, -4.9273, -4.9273, -4.9273, -4.9273, -4.9273, -4.9273, -4.9273, -4.9273, -4.9273, -4.9273, -4.9273, -4.9273, -4.9273, -4.9273, -4.9273, -4.9273, -4.9273, -4.9273, -4.9273, -4.9273, -4.9273, -4.9273, -4.9273, -4.9273, -4.9273, -4.9273, -4.9273, -4.9273, -4.9273, -4.9273, -4.9273, -4.9273, -4.9273, -4.2195, -4.2195, -4.2195, -4.2195, -4.2195, -4.2195, -4.2195, -4.2195, -4.2195, -4.2195, -4.2195, -4.2195, -4.2195, -4.2195, -4.2195, -4.2195, -4.2195, -4.2195, -4.2195, -4.2195, -4.2195, -4.2195, -4.2195, -4.2195, -4.2195, -4.2195, -4.2195, -4.2195, -4.2195, -4.2195, -4.2195, -4.2195, -4.2195, -4.2195, -4.2195, -4.2195, -4.2195, -4.2195, -4.2195, -4.2195, -4.2195, -4.2195, -4.2195, -4.2195, -4.2195, -4.2195, -4.2195, -4.2195, -4.2195, -4.2195, -4.2195, -4.2195, -4.2195, -4.2195, -4.2195, -4.2195, -4.2195, -4.2195, -4.2195, -4.2195, -4.2195, -4.2195, -4.2195, -4.2195, -4.2195, -4.2195, -4.2195, -4.2195, -4.2195, -4.2195, -4.2195, -4.2195, -4.2195, -4.2195, -4.2195, -4.2195, -4.2195, -4.2195, -4.2195, -4.2195, -4.2195, -4.2195, -4.2195, -4.2195, -4.2195, -4.2195, -4.2195, -4.2195, -4.2195, -4.2195, -4.2195, -4.2195, -4.2195, -4.2195, -4.2195, -4.2195, -4.2195, -4.2195, -4.2195, -4.2195, -4.2195, -4.2195, -4.2195, -4.2195, -4.2195, -4.2195, -4.2195, -4.2195, -4.2195, -4.2195, -4.2195, -4.2195, -4.2195, -4.2195, -4.2195, -4.2195, -4.2195, -4.2195, -4.2195, -4.2195, -4.2195, -4.2195, -4.2195, -2.7261, -2.7261, -2.7261, -2.7261, -2.7261, -2.7261, -2.7261, -2.7261, -2.7261, -2.7261, -5.124, -5.124, -5.124, -5.124, -5.124, -5.124, -5.124, -5.124, -5.124, -5.124, -5.124, -5.124, -5.124, -5.124, -5.124, -5.124, -5.124, -5.124, -5.124, -5.124, -5.124, -5.124, -5.124, -5.124, -5.124, -5.124, -5.124, -5.124, -5.124, -5.124, -2.9866, -2.9866, -2.9866, -2.9866, -2.9866, -2.9866, -2.9866, -2.9866, -2.9866, -2.9866, -2.9866, -2.9866, -2.9866, -2.34, -5.3845, -5.3845, -5.3845, -5.3845, -5.3845, -5.3845, -5.3845, -5.3845, -5.3845, -5.3845, -5.3845, -5.3845, -5.3845, -5.3845, -5.3845, -5.3845, -5.3845, -5.3845, -5.3845, -5.3845, -5.3845, -5.3845, -5.3845, -5.3845, -5.3845, -5.3845, -5.3845, -5.3845, -5.3845, -5.3845, -5.3845, -5.3845, -2.5294, -2.5294, -2.5294, -2.5294, -2.5294, -2.5294, -2.5294, -4.9273, -4.9273, -4.9273, -4.9273, -4.9273, -4.9273, -4.9273, -4.9273, -4.9273, -4.9273, -4.9273, -4.9273, -4.9273, -4.9273, -4.9273, -4.9273, -4.9273, -4.9273, -4.9273, -4.9273, -4.9273, -4.9273, -4.9273, -4.9273, -4.9273, -4.9273, -4.9273, -4.9273, -4.9273, -4.9273, -4.9273, -4.9273, -4.9273, -4.2195, -4.2195, -4.2195, -4.2195, -4.2195, -4.2195, -4.2195, -4.2195, -4.2195, -4.2195, -4.2195, -4.2195, -4.2195, -4.2195, -4.2195, -4.2195, -4.2195, -4.2195, -4.2195, -4.2195, -4.2195, -4.2195, -4.2195, -4.2195, -4.2195, -4.2195, -4.2195, -4.2195, -4.2195, -4.2195, -4.2195, -4.2195, -4.2195, -4.2195, -4.2195, -4.2195, -4.2195, -4.2195, -4.2195, -4.2195, -4.2195, -3.0146, -3.0146, -3.6612, -3.6612, -3.6612, -3.6612, -3.6612, -3.6612, -3.6612, -3.6612, -3.6612, -3.6612, -3.6612, -3.6612, -3.6612, -3.6612, -3.6612, -3.6612, -3.6612, -3.6612, -3.6612, -3.6612, -3.6612, -3.6612, -3.6612, -3.6612, -3.6612, -3.6612, -2.1273, -3.6612], \"loglift\": [30.0, 29.0, 28.0, 27.0, 26.0, 25.0, 24.0, 23.0, 22.0, 21.0, 20.0, 19.0, 18.0, 17.0, 16.0, 15.0, 14.0, 13.0, 12.0, 11.0, 10.0, 9.0, 8.0, 7.0, 6.0, 5.0, 4.0, 3.0, 2.0, 1.0, 1.8708, 1.8708, 1.8708, 1.8708, 1.8708, 1.8708, 1.8708, -0.2283, -0.4925, -0.4925, -0.4925, -0.4925, -0.4925, -0.4925, -0.4925, -0.4925, -0.4925, -0.4925, -0.5819, -0.5819, -0.5819, -0.5819, -0.5819, -0.5819, -0.5819, -0.5819, -0.5819, -0.6346, -0.6346, -0.6346, -0.7513, -0.7513, -0.7513, -0.7513, -0.7513, -0.7513, -0.7513, -0.7513, -0.7513, -0.7513, 1.9753, 1.9753, 1.9753, 1.9753, 1.9753, 1.9753, -0.1583, -0.4226, -0.4226, -0.4226, -0.4226, -0.4572, -0.4572, -0.4572, -0.4572, -0.4572, -0.4572, -0.4572, -0.512, -0.512, -0.512, -0.512, -0.512, -0.512, -0.512, -0.512, -0.512, -0.5646, -0.5646, -0.5646, -0.6813, -0.6813, -0.6813, -0.6813, -0.6813, -0.6813, -0.6813, -0.6813, -0.6813, -0.6813, 0.2852, 0.2852, 0.2852, 0.2852, 0.2852, 0.2852, 0.2852, 0.2852, 0.2852, 0.2852, 0.2506, 0.2506, 0.2506, 0.2506, 0.2506, 0.2506, 0.2506, 0.1958, 0.1958, 0.1958, 0.1958, 0.1958, 0.1958, 0.1958, 0.1958, 0.1958, 0.1431, 0.1431, 0.1431, 0.1431, -1.8485, 0.0265, 0.0265, 0.0265, 0.0265, 0.0265, 0.0265, 0.0265, 0.0265, 0.0265, 0.0265, 0.2852, 0.2852, 0.2852, 0.2852, 0.2852, 0.2852, 0.2852, 0.2852, 0.2852, 0.2852, 0.2506, 0.2506, 0.2506, 0.2506, 0.2506, 0.2506, 0.2506, 0.1958, 0.1958, 0.1958, 0.1958, 0.1958, 0.1958, 0.1958, 0.1958, 0.1958, 0.1431, 0.1431, 0.1431, 0.1431, -1.8485, 0.0265, 0.0265, 0.0265, 0.0265, 0.0265, 0.0265, 0.0265, 0.0265, 0.0265, 0.0265, 0.2852, 0.2852, 0.2852, 0.2852, 0.2852, 0.2852, 0.2852, 0.2852, 0.2852, 0.2852, 0.2506, 0.2506, 0.2506, 0.2506, 0.2506, 0.2506, 0.2506, 0.1958, 0.1958, 0.1958, 0.1958, 0.1958, 0.1958, 0.1958, 0.1958, 0.1958, 0.1431, 0.1431, 0.1431, 0.1431, -1.8485, 0.0265, 0.0265, 0.0265, 0.0265, 0.0265, 0.0265, 0.0265, 0.0265, 0.0265, 0.0265, 1.6892, 1.6892, 1.6892, 1.6892, 1.6892, 1.6892, 1.6892, 1.6892, 1.6892, -0.355, -0.6193, -0.6193, -0.6193, -0.6193, -0.6193, -0.6193, -0.6193, -0.6193, -0.6193, -0.6193, -0.6539, -0.6539, -0.6539, -0.6539, -0.6539, -0.6539, -0.6539, -0.7614, -0.7614, -0.7614, -0.878, -0.878, -0.878, -0.878, -0.878, -0.878, -0.878, -0.878, -0.878, -0.878, 1.376, 1.376, 1.376, 1.376, 1.376, 1.376, 1.376, 1.376, 1.376, 1.376, 0.9838, 0.9838, 0.8242, 0.0311, -0.8798, -0.8798, -0.8798, -0.8798, -0.8798, -0.8798, -0.8798, -0.8798, -0.8798, -0.8798, -0.9144, -0.9144, -0.9144, -0.9144, -0.9144, -0.9144, -1.1385, -1.1385, -1.1385, -1.1385, -0.9692, -0.9692, -0.9692, -0.9692, -0.9692, -0.9692, -0.9692, -0.9692, -0.9692, -1.1385, -1.1385, -1.1385, 1.9753, 1.9753, 1.9753, 1.9753, 1.4411, 1.4411, -0.1583, -0.4226, -0.4226, -0.4226, -0.4226, -0.4226, -0.4226, -0.4572, -0.4572, -0.4572, -0.4572, -0.4572, -0.4572, -0.4572, -0.512, -0.512, -0.512, -0.512, -0.512, -0.512, -0.512, -0.512, -0.512, -0.5646, -0.6813, -0.6813, -0.6813, -0.6813, -0.6813, -0.6813, -0.6813, -0.6813, -0.6813, -0.6813, 0.2852, 0.2852, 0.2852, 0.2852, 0.2852, 0.2852, 0.2852, 0.2852, 0.2852, 0.2852, 0.2506, 0.2506, 0.2506, 0.2506, 0.2506, 0.2506, 0.2506, 0.1958, 0.1958, 0.1958, 0.1958, 0.1958, 0.1958, 0.1958, 0.1958, 0.1958, 0.1431, 0.1431, 0.1431, 0.1431, -1.8485, 0.0265, 0.0265, 0.0265, 0.0265, 0.0265, 0.0265, 0.0265, 0.0265, 0.0265, 0.0265, 0.7274, 0.7274, 0.5847, 0.5847, 0.5847, 0.5847, 0.5847, 0.5847, 0.5847, 0.5847, 0.5847, 0.5847, 0.5847, 0.5847, 0.5847, 0.5847, 0.5847, 0.5847, 0.5847, 0.5847, 0.5847, 0.5847, 0.5847, 0.5847, 0.5847, 0.5847, 0.5847, 0.5847, 0.2438, 0.1496]}, \"token.table\": {\"Topic\": [6, 6, 2, 6, 8, 2, 2, 10, 10, 6, 1, 2, 6, 7, 8, 10, 10, 10, 1, 1, 10, 7, 10, 7, 10, 10, 7, 10, 10, 10, 10, 6, 1, 1, 2, 10, 10, 2, 6, 10, 8, 10, 8, 7, 8, 10, 6, 6, 10, 10, 10, 7, 8, 1, 10, 1, 7, 10, 10, 7, 1, 10, 7, 7, 10, 7, 10, 2, 7, 10, 7, 8, 10, 6, 7, 10], \"Freq\": [0.9964307399325187, 0.9964307399325187, 1.0896208250965986, 0.9964307399325187, 1.0896203702157956, 1.0896208250965986, 1.0896208250965986, 0.8412369862404683, 0.8412369862404683, 0.9964307399325187, 0.12901968224191393, 0.12901968224191393, 0.12901968224191393, 0.12901968224191393, 0.12901968224191393, 0.5160787289676557, 0.8412372499185551, 0.8412369862404683, 1.0525688100142332, 1.0525688100142332, 0.8412370301868045, 0.9453197953155855, 0.8412372499185551, 0.5444264235649297, 0.5444264235649297, 0.8412370301868045, 0.9453196542185366, 0.8412369862404683, 0.8412372499185551, 0.8412374257040381, 0.8412370301868045, 0.9964307399325187, 1.0525688100142332, 1.0525688100142332, 1.0896208250965986, 0.8412369862404683, 0.8412372499185551, 1.0896208250965986, 0.9964307399325187, 0.8412369862404683, 1.0896203702157956, 0.8412369862404683, 1.0896203702157956, 0.9453197953155855, 1.0896203702157956, 0.8412372499185551, 0.9964307399325187, 0.9964307399325187, 1.016422407544408, 0.8412369862404683, 0.8412374257040381, 0.6386428846303127, 0.6386428846303127, 1.0525688100142332, 0.8412370301868045, 1.0525688100142332, 0.9453196542185366, 0.8412370301868045, 0.8412370301868045, 0.9453196542185366, 1.0525688100142332, 0.8412374257040381, 0.9453196542185366, 0.9453197953155855, 0.8412370301868045, 0.9453196542185366, 0.8412370301868045, 1.0896208250965986, 0.9453197953155855, 0.8412374257040381, 0.6386428846303127, 0.6386428846303127, 1.016422407544408, 0.9964307399325187, 0.9453196542185366, 0.8412372499185551], \"Term\": [\"ad\", \"advertisement\", \"alpina\", \"audi\", \"auto\", \"automobile\", \"b\", \"beach\", \"becomes\", \"benz\", \"bmw\", \"bmw\", \"bmw\", \"bmw\", \"bmw\", \"bmw\", \"cool\", \"dealer\", \"defect\", \"door\", \"driver\", \"driving\", \"edition\", \"experience\", \"experience\", \"express\", \"f\", \"first\", \"frozen\", \"growth\", \"hospital\", \"jaguar\", \"judge\", \"law\", \"listed\", \"long\", \"look\", \"magazine\", \"mercedes\", \"motorcycle\", \"nyc\", \"offer\", \"overview\", \"part\", \"performance\", \"protonic\", \"prove\", \"prowess\", \"reality\", \"reporter\", \"sale\", \"show\", \"show\", \"shuts\", \"smash\", \"softclose\", \"spy\", \"star\", \"stourbridge\", \"stress\", \"suit\", \"sustained\", \"suv\", \"take\", \"taken\", \"test\", \"tree\", \"turbo\", \"ultimate\", \"upbeat\", \"video\", \"video\", \"virtual\", \"war\", \"x\", \"yellow\"]}, \"R\": 30, \"lambda.step\": 0.01, \"plot.opts\": {\"xlab\": \"PC1\", \"ylab\": \"PC2\"}, \"topic.order\": [1, 2, 3, 4, 5, 6, 7, 8, 9, 10]};\n",
       "\n",
       "function LDAvis_load_lib(url, callback){\n",
       "  var s = document.createElement('script');\n",
       "  s.src = url;\n",
       "  s.async = true;\n",
       "  s.onreadystatechange = s.onload = callback;\n",
       "  s.onerror = function(){console.warn(\"failed to load library \" + url);};\n",
       "  document.getElementsByTagName(\"head\")[0].appendChild(s);\n",
       "}\n",
       "\n",
       "if(typeof(LDAvis) !== \"undefined\"){\n",
       "   // already loaded: just create the visualization\n",
       "   !function(LDAvis){\n",
       "       new LDAvis(\"#\" + \"ldavis_el5301398075123554087407153077\", ldavis_el5301398075123554087407153077_data);\n",
       "   }(LDAvis);\n",
       "}else if(typeof define === \"function\" && define.amd){\n",
       "   // require.js is available: use it to load d3/LDAvis\n",
       "   require.config({paths: {d3: \"https://d3js.org/d3.v5\"}});\n",
       "   require([\"d3\"], function(d3){\n",
       "      window.d3 = d3;\n",
       "      LDAvis_load_lib(\"https://cdn.jsdelivr.net/gh/bmabey/pyLDAvis@3.3.1/pyLDAvis/js/ldavis.v3.0.0.js\", function(){\n",
       "        new LDAvis(\"#\" + \"ldavis_el5301398075123554087407153077\", ldavis_el5301398075123554087407153077_data);\n",
       "      });\n",
       "    });\n",
       "}else{\n",
       "    // require.js not available: dynamically load d3 & LDAvis\n",
       "    LDAvis_load_lib(\"https://d3js.org/d3.v5.js\", function(){\n",
       "         LDAvis_load_lib(\"https://cdn.jsdelivr.net/gh/bmabey/pyLDAvis@3.3.1/pyLDAvis/js/ldavis.v3.0.0.js\", function(){\n",
       "                 new LDAvis(\"#\" + \"ldavis_el5301398075123554087407153077\", ldavis_el5301398075123554087407153077_data);\n",
       "            })\n",
       "         });\n",
       "}\n",
       "</script>"
      ],
      "text/plain": [
       "<IPython.core.display.HTML object>"
      ]
     },
     "execution_count": 32,
     "metadata": {},
     "output_type": "execute_result"
    }
   ],
   "source": [
    "%%time\n",
    "\n",
    "lda_display = gensimvis.prepare(ldamodel, doc_term_matrix, dictionary, sort_topics=False, mds='mmds')\n",
    "pyLDAvis.display(lda_display)"
   ]
  },
  {
   "cell_type": "markdown",
   "metadata": {},
   "source": [
    "### Applying LDA to tweets"
   ]
  },
  {
   "cell_type": "code",
   "execution_count": 33,
   "metadata": {},
   "outputs": [
    {
     "data": {
      "text/plain": [
       "['@Rachel_31297 wheres the Jeep Wrangler option',\n",
       " 'Check this out: 2016 JEEP PATRIOT LATITUDE 4X4  8500 MIAMIDADE 8500.00 USD https:t.coakPkANPpEn ads https:t.coL2WaZBsUTf',\n",
       " 'RT @Jeep: The Grand Cherokee Trackhawk is officially in production. Keep your eyes peeled for one in the wild. https:t.cobbiPfPXXax',\n",
       " 'RT @Jeep: Power stance. https:t.cokl0oC8Xvof',\n",
       " '@THEJeepMafia @Jeep Thanks, 28 but Chaos and Bear were awesome feet warmers  https:t.conNIoaRVXlW']"
      ]
     },
     "execution_count": 33,
     "metadata": {},
     "output_type": "execute_result"
    }
   ],
   "source": [
    "tweets_list = tweets_eng['text_clean'].tolist()\n",
    "tweets_list[:5]"
   ]
  },
  {
   "cell_type": "code",
   "execution_count": 34,
   "metadata": {},
   "outputs": [],
   "source": [
    "stop = set(stopwords.words('english'))\n",
    "exclude = set(string.punctuation)\n",
    "lemma = WordNetLemmatizer()\n",
    "def clean(doc):\n",
    "    stop_free = \" \".join([i for i in doc.lower().split() if i not in stop])\n",
    "    punc_free = ''.join(ch for ch in stop_free if ch not in exclude)\n",
    "    normalized = \" \".join(lemma.lemmatize(word) for word in punc_free.split())\n",
    "    return normalized\n",
    "\n",
    "tweet_clean = [clean(doc).split() for doc in tweets_list]"
   ]
  },
  {
   "cell_type": "code",
   "execution_count": 35,
   "metadata": {},
   "outputs": [
    {
     "name": "stdout",
     "output_type": "stream",
     "text": [
      "['rachel31297', 'wheres', 'jeep', 'wrangler', 'option']\n",
      "\n",
      "['check', 'out', '2016', 'jeep', 'patriot', 'latitude', '4x4', '8500', 'miamidade', '850000', 'usd', 'httpstcoakpkanppen', 'ad', 'httpstcol2wazbsutf']\n",
      "\n",
      "['rt', 'jeep', 'grand', 'cherokee', 'trackhawk', 'officially', 'production', 'keep', 'eye', 'peeled', 'one', 'wild', 'httpstcobbipfpxxax']\n"
     ]
    }
   ],
   "source": [
    "print(*tweet_clean[:3], sep='\\n\\n')"
   ]
  },
  {
   "cell_type": "code",
   "execution_count": 36,
   "metadata": {},
   "outputs": [
    {
     "name": "stdout",
     "output_type": "stream",
     "text": [
      "CPU times: user 455 ms, sys: 15.8 ms, total: 471 ms\n",
      "Wall time: 471 ms\n"
     ]
    }
   ],
   "source": [
    "# Creating the term dictionary of our corpus, where every unique term is assigned an index. \n",
    "\n",
    "dictionary = corpora.Dictionary(tweet_clean)\n",
    "\n",
    "# Converting list of documents (corpus) into Document Term Matrix using dictionary prepared above.\n",
    "\n",
    "%time doc_term_matrix = [dictionary.doc2bow(doc) for doc in tweet_clean]"
   ]
  },
  {
   "cell_type": "code",
   "execution_count": 37,
   "metadata": {},
   "outputs": [
    {
     "name": "stdout",
     "output_type": "stream",
     "text": [
      "CPU times: user 7min 6s, sys: 211 ms, total: 7min 6s\n",
      "Wall time: 7min 6s\n"
     ]
    }
   ],
   "source": [
    "#Using traditional LDA\n",
    "%time ldamodel = Lda(doc_term_matrix, num_topics=10, id2word = dictionary, passes=50)"
   ]
  },
  {
   "cell_type": "code",
   "execution_count": 38,
   "metadata": {},
   "outputs": [
    {
     "name": "stdout",
     "output_type": "stream",
     "text": [
      "CPU times: user 46.9 s, sys: 4.14 s, total: 51 s\n",
      "Wall time: 50.4 s\n"
     ]
    }
   ],
   "source": [
    "%%time\n",
    "\n",
    "#Using multicore LDA\n",
    "num_topics = 10\n",
    "iterations = 100\n",
    "passes = 20\n",
    "workers = num_processors-1\n",
    "eval_every = None\n",
    "\n",
    "ldamodel = LdaMulticore(corpus=doc_term_matrix,\n",
    "                       id2word=dictionary,\n",
    "                       eta='auto',\n",
    "                       num_topics=num_topics,\n",
    "                       iterations=iterations,\n",
    "                       passes=passes,\n",
    "                       eval_every=eval_every,\n",
    "                       workers = workers)"
   ]
  },
  {
   "cell_type": "code",
   "execution_count": 39,
   "metadata": {},
   "outputs": [
    {
     "name": "stdout",
     "output_type": "stream",
     "text": [
      "(0, '0.091*\"jeep\" + 0.028*\"rt\" + 0.011*\"renegade\"')\n",
      "(1, '0.070*\"jeep\" + 0.036*\"rt\" + 0.024*\"compass\"')\n",
      "(2, '0.101*\"giveaway\" + 0.068*\"jeep\" + 0.055*\"girl\"')\n",
      "(3, '0.098*\"jeep\" + 0.028*\"rt\" + 0.014*\"im\"')\n",
      "(4, '0.117*\"jeep\" + 0.052*\"wrangler\" + 0.032*\"cherokee\"')\n",
      "(5, '0.092*\"jeep\" + 0.040*\"rt\" + 0.033*\"used\"')\n",
      "(6, '0.086*\"jeep\" + 0.075*\"rt\" + 0.014*\"kylie\"')\n",
      "(7, '0.065*\"jeep\" + 0.030*\"wrangler\" + 0.027*\"rt\"')\n",
      "(8, '0.080*\"jeep\" + 0.035*\"rt\" + 0.032*\"dodge\"')\n",
      "(9, '0.108*\"jeep\" + 0.056*\"rt\" + 0.014*\"jeeplife\"')\n"
     ]
    }
   ],
   "source": [
    "print(*ldamodel.print_topics(num_topics=10, num_words=3), sep='\\n')"
   ]
  },
  {
   "cell_type": "code",
   "execution_count": 40,
   "metadata": {},
   "outputs": [
    {
     "name": "stdout",
     "output_type": "stream",
     "text": [
      "(0, '0.091*\"jeep\" + 0.028*\"rt\" + 0.011*\"renegade\"')\n",
      "(1, '0.070*\"jeep\" + 0.036*\"rt\" + 0.024*\"compass\"')\n",
      "(2, '0.101*\"giveaway\" + 0.068*\"jeep\" + 0.055*\"girl\"')\n",
      "(3, '0.098*\"jeep\" + 0.028*\"rt\" + 0.014*\"im\"')\n",
      "(4, '0.117*\"jeep\" + 0.052*\"wrangler\" + 0.032*\"cherokee\"')\n",
      "(5, '0.092*\"jeep\" + 0.040*\"rt\" + 0.033*\"used\"')\n",
      "(6, '0.086*\"jeep\" + 0.075*\"rt\" + 0.014*\"kylie\"')\n",
      "(7, '0.065*\"jeep\" + 0.030*\"wrangler\" + 0.027*\"rt\"')\n",
      "(8, '0.080*\"jeep\" + 0.035*\"rt\" + 0.032*\"dodge\"')\n",
      "(9, '0.108*\"jeep\" + 0.056*\"rt\" + 0.014*\"jeeplife\"')\n"
     ]
    }
   ],
   "source": [
    "print(*ldamodel.print_topics(num_topics=10, num_words=3), sep='\\n')"
   ]
  },
  {
   "cell_type": "code",
   "execution_count": 41,
   "metadata": {},
   "outputs": [
    {
     "name": "stdout",
     "output_type": "stream",
     "text": [
      "(0, '0.091*\"jeep\" + 0.028*\"rt\" + 0.011*\"renegade\" + 0.011*\"drive\" + 0.009*\"cherokee\"')\n",
      "\n",
      "(1, '0.070*\"jeep\" + 0.036*\"rt\" + 0.024*\"compass\" + 0.013*\"around\" + 0.011*\"new\"')\n",
      "\n",
      "(2, '0.101*\"giveaway\" + 0.068*\"jeep\" + 0.055*\"girl\" + 0.053*\"win\" + 0.052*\"small\"')\n",
      "\n",
      "(3, '0.098*\"jeep\" + 0.028*\"rt\" + 0.014*\"im\" + 0.013*\"want\" + 0.012*\"one\"')\n",
      "\n",
      "(4, '0.117*\"jeep\" + 0.052*\"wrangler\" + 0.032*\"cherokee\" + 0.022*\"ebay\" + 0.021*\"grand\"')\n",
      "\n",
      "(5, '0.092*\"jeep\" + 0.040*\"rt\" + 0.033*\"used\" + 0.029*\"photo\" + 0.029*\"spotted\"')\n",
      "\n",
      "(6, '0.086*\"jeep\" + 0.075*\"rt\" + 0.014*\"kylie\" + 0.014*\"luxbucketlist\" + 0.014*\"httpstcobvgln4ayie\"')\n",
      "\n",
      "(7, '0.065*\"jeep\" + 0.030*\"wrangler\" + 0.027*\"rt\" + 0.015*\"cherokee\" + 0.013*\"buy\"')\n",
      "\n",
      "(8, '0.080*\"jeep\" + 0.035*\"rt\" + 0.032*\"dodge\" + 0.020*\"blue\" + 0.020*\"chrysler\"')\n",
      "\n",
      "(9, '0.108*\"jeep\" + 0.056*\"rt\" + 0.014*\"jeeplife\" + 0.013*\"get\" + 0.009*\"make\"')\n"
     ]
    }
   ],
   "source": [
    "print(*ldamodel.print_topics(num_topics=10, num_words=5), sep='\\n\\n')"
   ]
  },
  {
   "cell_type": "code",
   "execution_count": 42,
   "metadata": {},
   "outputs": [
    {
     "name": "stdout",
     "output_type": "stream",
     "text": [
      "(0, '0.091*\"jeep\" + 0.028*\"rt\" + 0.011*\"renegade\" + 0.011*\"drive\" + 0.009*\"cherokee\" + 0.007*\"amp\" + 0.007*\"ready\"')\n",
      "\n",
      "(1, '0.070*\"jeep\" + 0.036*\"rt\" + 0.024*\"compass\" + 0.013*\"around\" + 0.011*\"new\" + 0.009*\"makeinindia\" + 0.009*\"car\"')\n",
      "\n",
      "(2, '0.101*\"giveaway\" + 0.068*\"jeep\" + 0.055*\"girl\" + 0.053*\"win\" + 0.052*\"small\" + 0.052*\"body\" + 0.051*\"chance\"')\n",
      "\n",
      "(3, '0.098*\"jeep\" + 0.028*\"rt\" + 0.014*\"im\" + 0.013*\"want\" + 0.012*\"one\" + 0.008*\"even\" + 0.007*\"like\"')\n",
      "\n",
      "(4, '0.117*\"jeep\" + 0.052*\"wrangler\" + 0.032*\"cherokee\" + 0.022*\"ebay\" + 0.021*\"grand\" + 0.017*\"sport\" + 0.013*\"4x4\"')\n",
      "\n",
      "(5, '0.092*\"jeep\" + 0.040*\"rt\" + 0.033*\"used\" + 0.029*\"photo\" + 0.029*\"spotted\" + 0.029*\"stick\" + 0.028*\"bamboo\"')\n",
      "\n",
      "(6, '0.086*\"jeep\" + 0.075*\"rt\" + 0.014*\"kylie\" + 0.014*\"luxbucketlist\" + 0.014*\"httpstcobvgln4ayie\" + 0.011*\"jeepporn\" + 0.009*\"sexy\"')\n",
      "\n",
      "(7, '0.065*\"jeep\" + 0.030*\"wrangler\" + 0.027*\"rt\" + 0.015*\"cherokee\" + 0.013*\"buy\" + 0.013*\"black\" + 0.011*\"2017\"')\n",
      "\n",
      "(8, '0.080*\"jeep\" + 0.035*\"rt\" + 0.032*\"dodge\" + 0.020*\"blue\" + 0.020*\"chrysler\" + 0.017*\"trackhawk\" + 0.016*\"matte\"')\n",
      "\n",
      "(9, '0.108*\"jeep\" + 0.056*\"rt\" + 0.014*\"jeeplife\" + 0.013*\"get\" + 0.009*\"make\" + 0.009*\"mile\" + 0.009*\"life\"')\n"
     ]
    }
   ],
   "source": [
    "print(*ldamodel.print_topics(num_topics=10, num_words=7), sep='\\n\\n')"
   ]
  },
  {
   "cell_type": "code",
   "execution_count": 43,
   "metadata": {},
   "outputs": [
    {
     "name": "stdout",
     "output_type": "stream",
     "text": [
      "(0, '0.091*\"jeep\" + 0.028*\"rt\" + 0.011*\"renegade\" + 0.011*\"drive\" + 0.009*\"cherokee\" + 0.007*\"amp\" + 0.007*\"ready\" + 0.007*\"sprint\" + 0.007*\"like\" + 0.006*\"music\"')\n",
      "\n",
      "(1, '0.070*\"jeep\" + 0.036*\"rt\" + 0.024*\"compass\" + 0.013*\"around\" + 0.011*\"new\" + 0.009*\"makeinindia\" + 0.009*\"car\" + 0.008*\"making\" + 0.007*\"2018\" + 0.007*\"game\"')\n",
      "\n",
      "(2, '0.101*\"giveaway\" + 0.068*\"jeep\" + 0.055*\"girl\" + 0.053*\"win\" + 0.052*\"small\" + 0.052*\"body\" + 0.051*\"chance\" + 0.051*\"cross\" + 0.051*\"sun\" + 0.050*\"entered\"')\n",
      "\n",
      "(3, '0.098*\"jeep\" + 0.028*\"rt\" + 0.014*\"im\" + 0.013*\"want\" + 0.012*\"one\" + 0.008*\"even\" + 0.007*\"like\" + 0.006*\"credit\" + 0.006*\"think\" + 0.005*\"dont\"')\n",
      "\n",
      "(4, '0.117*\"jeep\" + 0.052*\"wrangler\" + 0.032*\"cherokee\" + 0.022*\"ebay\" + 0.021*\"grand\" + 0.017*\"sport\" + 0.013*\"4x4\" + 0.013*\"unlimited\" + 0.011*\"rubicon\" + 0.011*\"check\"')\n",
      "\n",
      "(5, '0.092*\"jeep\" + 0.040*\"rt\" + 0.033*\"used\" + 0.029*\"photo\" + 0.029*\"spotted\" + 0.029*\"stick\" + 0.028*\"bamboo\" + 0.028*\"nigeria\" + 0.028*\"convey\" + 0.027*\"hummer\"')\n",
      "\n",
      "(6, '0.086*\"jeep\" + 0.075*\"rt\" + 0.014*\"kylie\" + 0.014*\"luxbucketlist\" + 0.014*\"httpstcobvgln4ayie\" + 0.011*\"jeepporn\" + 0.009*\"sexy\" + 0.009*\"please\" + 0.009*\"power\" + 0.008*\"car\"')\n",
      "\n",
      "(7, '0.065*\"jeep\" + 0.030*\"wrangler\" + 0.027*\"rt\" + 0.015*\"cherokee\" + 0.013*\"buy\" + 0.013*\"black\" + 0.011*\"2017\" + 0.011*\"2018\" + 0.011*\"november\" + 0.010*\"grand\"')\n",
      "\n",
      "(8, '0.080*\"jeep\" + 0.035*\"rt\" + 0.032*\"dodge\" + 0.020*\"blue\" + 0.020*\"chrysler\" + 0.017*\"trackhawk\" + 0.016*\"matte\" + 0.013*\"ram\" + 0.013*\"jeepahoiics\" + 0.012*\"httpstco685ffiofnl\"')\n",
      "\n",
      "(9, '0.108*\"jeep\" + 0.056*\"rt\" + 0.014*\"jeeplife\" + 0.013*\"get\" + 0.009*\"make\" + 0.009*\"mile\" + 0.009*\"life\" + 0.007*\"good\" + 0.007*\"better\" + 0.007*\"jeepporn\"')\n"
     ]
    }
   ],
   "source": [
    "print(*ldamodel.print_topics(num_topics=10, num_words=10), sep='\\n\\n')"
   ]
  },
  {
   "cell_type": "code",
   "execution_count": 44,
   "metadata": {},
   "outputs": [
    {
     "name": "stderr",
     "output_type": "stream",
     "text": [
      "/opt/conda/lib/python3.7/site-packages/past/builtins/misc.py:45: DeprecationWarning: the imp module is deprecated in favour of importlib; see the module's documentation for alternative uses\n",
      "  from imp import reload\n",
      "/opt/conda/lib/python3.7/site-packages/past/builtins/misc.py:45: DeprecationWarning: the imp module is deprecated in favour of importlib; see the module's documentation for alternative uses\n",
      "  from imp import reload\n",
      "/opt/conda/lib/python3.7/site-packages/past/builtins/misc.py:45: DeprecationWarning: the imp module is deprecated in favour of importlib; see the module's documentation for alternative uses\n",
      "  from imp import reload\n",
      "/opt/conda/lib/python3.7/site-packages/past/builtins/misc.py:45: DeprecationWarning: the imp module is deprecated in favour of importlib; see the module's documentation for alternative uses\n",
      "  from imp import reload\n",
      "/opt/conda/lib/python3.7/site-packages/past/builtins/misc.py:45: DeprecationWarning: the imp module is deprecated in favour of importlib; see the module's documentation for alternative uses\n",
      "  from imp import reload\n",
      "/opt/conda/lib/python3.7/site-packages/past/builtins/misc.py:45: DeprecationWarning: the imp module is deprecated in favour of importlib; see the module's documentation for alternative uses\n",
      "  from imp import reload\n",
      "/opt/conda/lib/python3.7/site-packages/past/builtins/misc.py:45: DeprecationWarning: the imp module is deprecated in favour of importlib; see the module's documentation for alternative uses\n",
      "  from imp import reload\n",
      "/opt/conda/lib/python3.7/site-packages/past/builtins/misc.py:45: DeprecationWarning: the imp module is deprecated in favour of importlib; see the module's documentation for alternative uses\n",
      "  from imp import reload\n"
     ]
    },
    {
     "name": "stdout",
     "output_type": "stream",
     "text": [
      "CPU times: user 7.79 s, sys: 128 ms, total: 7.92 s\n",
      "Wall time: 9.73 s\n"
     ]
    },
    {
     "data": {
      "text/html": [
       "\n",
       "<link rel=\"stylesheet\" type=\"text/css\" href=\"https://cdn.jsdelivr.net/gh/bmabey/pyLDAvis@3.3.1/pyLDAvis/js/ldavis.v1.0.0.css\">\n",
       "\n",
       "\n",
       "<div id=\"ldavis_el53013980588346888031324219\"></div>\n",
       "<script type=\"text/javascript\">\n",
       "\n",
       "var ldavis_el53013980588346888031324219_data = {\"mdsDat\": {\"x\": [0.01745158121963257, 0.040317334210152586, -0.39919674757610446, -0.10677629118334481, 0.2444878411380791, 0.2918998758745949, 0.06953675535985629, -0.11947433415043336, -0.2310466709402141, 0.19280065604778132], \"y\": [0.047467476713386816, -0.21986519241711552, -0.14500325642917664, 0.24934090987656812, -0.25845663991153905, -0.004401005012345332, 0.2966219231585138, -0.22622895103728938, 0.08710708546128237, 0.17341764959771475], \"topics\": [1, 2, 3, 4, 5, 6, 7, 8, 9, 10], \"cluster\": [1, 1, 1, 1, 1, 1, 1, 1, 1, 1], \"Freq\": [10.654219436040606, 7.235305014099633, 12.38454236547958, 11.074488113723941, 20.167181793191194, 6.701919810320186, 6.560381545259937, 6.4438176457472265, 5.734231134202855, 13.04391314193484]}, \"tinfo\": {\"Term\": [\"giveaway\", \"girl\", \"wrangler\", \"small\", \"body\", \"win\", \"chance\", \"cross\", \"sun\", \"entered\", \"glittering\", \"nowa\", \"messenger\", \"rt\", \"cherokee\", \"ebay\", \"used\", \"grand\", \"sport\", \"spotted\", \"dodge\", \"stick\", \"photo\", \"bamboo\", \"nigeria\", \"compass\", \"convey\", \"hummer\", \"jeep\", \"unlimited\", \"sprint\", \"music\", \"justforyousweepstakes\", \"hell\", \"raw\", \"bitemekiki\", \"euro\", \"active\", \"mjt\", \"ready\", \"140cv\", \"holyjeeps\", \"19800\", \"httpstco6fkyq5sbjs\", \"wouldnt\", \"mind\", \"plant\", \"giving\", \"httpstcom4mjle3tbc\", \"httpstcomtfwd7wjoi\", \"waiting\", \"purchase\", \"lucky\", \"httpstcoteb\", \"domestic\", \"olawoyin4u\", \"shopdealstoday\", \"fleet\", \"599999\", \"pune\", \"away\", \"whats\", \"0000\", \"g\", \"customer\", \"renegade\", \"overland\", \"next\", \"drive\", \"would\", \"20\", \"jeep\", \"getting\", \"thing\", \"rt\", \"amp\", \"like\", \"take\", \"cherokee\", \"new\", \"love\", \"today\", \"4wd\", \"get\", \"one\", \"around\", \"makeinindia\", \"making\", \"internationally\", \"sabit\", \"madeinindia\", \"sold\", \"begin\", \"cimgoi\", \"crazy\", \"600\", \"named\", \"korean\", \"season\", \"junho\", \"guide\", \"aka\", \"member\", \"philippinesa\", \"filipina\", \"jaime\", \"httpstcosjarj6enuc\", \"roughin\", \"licensed\", \"tobias31\", \"jinyoung\", \"jl\", \"httpstcox58ir0tezx\", \"stare\", \"madprincejy\", \"export\", \"order\", \"dealer\", \"compass\", \"game\", \"seen\", \"india\", \"presented\", \"player\", \"detroitpistons\", \"finally\", \"floureedah\", \"first\", \"jeep\", \"rt\", \"world\", \"brand\", \"part\", \"n\", \"new\", \"car\", \"2018\", \"seat\", \"wrangler\", \"photo\", \"giveaway\", \"body\", \"chance\", \"cross\", \"small\", \"sun\", \"entered\", \"glittering\", \"nowa\", \"messenger\", \"kameronbennett\", \"gold\", \"foil\", \"sabi\", \"willie\", \"revillame\", \"httpstco2ob8sjpagd\", \"lyricsartph\", \"squad\", \"hayleykiyoko\", \"audition\", \"93yoongi93\", \"dsharpruns\", \"httpstcofeejue6mxy\", \"girl\", \"httpstcoaikoosbmyl\", \"win\", \"httpstco1vt8otvf8t\", \"jeepwaver\", \"sued\", \"ang\", \"ng\", \"beep\", \"black\", \"jeep\", \"join\", \"rt\", \"ur\", \"even\", \"bad\", \"f\", \"kristen\", \"httpstcospvgwleeup\", \"nature\", \"pink\", \"httpstcot5q2hxkdng\", \"livin\", \"httpstco6pavbshjzp\", \"braceythedog\", \"receive\", \"httpstcovtmjzcxnfe\", \"band\", \"parade\", \"dear\", \"horseback\", \"try\", \"simple\", \"shashitharoor\", \"death\", \"prado\", \"rural\", \"aishambuhari\", \"kovalam\", \"marching\", \"realdonaldtrump\", \"idris\", \"knew\", \"igp\", \"wait\", \"ok\", \"cant\", \"really\", \"didnt\", \"broke\", \"driver\", \"thought\", \"as\", \"im\", \"think\", \"want\", \"wave\", \"dream\", \"cause\", \"one\", \"dad\", \"lift\", \"going\", \"credit\", \"know\", \"jeep\", \"like\", \"dont\", \"rt\", \"back\", \"lol\", \"adventure\", \"got\", \"love\", \"go\", \"see\", \"car\", \"photo\", \"get\", \"u\", \"would\", \"time\", \"sport\", \"ebay\", \"unlimited\", \"rubicon\", \"2016\", \"decal\", \"sahara\", \"oracal\", \"graphic\", \"2015\", \"vinyl\", \"2012\", \"2pcs\", \"utility\", \"price\", \"laredo\", \"2005\", \"2006\", \"2008\", \"4door\", \"recently\", \"2000\", \"inventory\", \"36l\", \"changed\", \"2009\", \"v6\", \"tj\", \"v8\", \"2002\", \"2014\", \"2011\", \"crd\", \"jk\", \"4x4\", \"check\", \"4dr\", \"liberty\", \"sticker\", \"wrangler\", \"via\", \"cherokee\", \"grand\", \"suv\", \"side\", \"limited\", \"jeep\", \"2017\", \"4wd\", \"mile\", \"new\", \"jeeplife\", \"offroad\", \"car\", \"stick\", \"bamboo\", \"nigeria\", \"convey\", \"hummer\", \"spotted\", \"httpstcoyipkreck1n\", \"dylan\", \"reflection\", \"y\", \"httpstcoizkymbnrsh\", \"gthummer\", \"httpstcobboyj9xhct\", \"tonka\", \"httpstcooqi429o1ax\", \"httpstco5v3txzhez7\", \"httpstcou0fh0q0zsn\", \"httpstcop8uq4uo522\", \"httpstcoigun39a4hy\", \"httpstcosakwouxyjj\", \"httpstcoe3hhhodx2p\", \"httpstcohndpki5v39\", \"httpstcoeqexjcyazg\", \"httpstcoamyegz7y7t\", \"httpstcomhjllamcmd\", \"httpstcoqhfbj42ak2\", \"httpstco9ukycaovk5\", \"httpstco8rarphstux\", \"preferably\", \"httpstcoawqvvwhbjt\", \"used\", \"need\", \"weekend\", \"photo\", \"luxbucketlist\", \"reason\", \"jeep\", \"rt\", \"jeepmafia\", \"lifted\", \"keep\", \"brother\", \"door\", \"big\", \"buy\", \"jeepsiesblog\", \"road\", \"kylie\", \"httpstcobvgln4ayie\", \"sexy\", \"power\", \"teal\", \"httpstcojg5ecber6c\", \"stance\", \"httpstcokl0oc8xvof\", \"pop\", \"httpstcos99npxakbl\", \"supercars\", \"luxurycars\", \"httpstcox0awvuv6z6\", \"aylssa\", \"an0nrav\", \"rally\", \"raygunvoss\", \"topjeeper\", \"govt\", \"border\", \"london\", \"pakistan\", \"gilgit\", \"baltistan\", \"m1960a07\", \"motorbike\", \"locksmith\", \"gb\", \"pakchina\", \"khnjirab\", \"far\", \"rpx53\", \"wide\", \"color\", \"please\", \"find\", \"luxbucketlist\", \"army\", \"rt\", \"jeepporn\", \"jeep\", \"thejeepmafia\", \"amp\", \"car\", \"look\", \"wrangler\", \"november\", \"money\", \"cry\", \"bordo\", \"prueba\", \"might\", \"debut\", \"rather\", \"happiness\", \"summit\", \"siiiybae\", \"january\", \"roadshow\", \"confirmed\", \"nextgen\", \"reveal\", \"confident\", \"pro\", \"known\", \"wed\", \"54\", \"155\", \"document\", \"trzasko\", \"shelbytwp911\", \"10pm\", \"alyssa\", \"dtu4\", \"riverbends\", \"dm\", \"missing\", \"1500\", \"buy\", \"22\", \"id\", \"show\", \"black\", \"2018\", \"video\", \"wrangler\", \"2017\", \"matte\", \"jeep\", \"set\", \"rt\", \"cherokee\", \"ram\", \"beep\", \"grand\", \"new\", \"got\", \"jeepahoiics\", \"httpstco685ffiofnl\", \"demon\", \"actually\", \"latest\", \"sand\", \"1945\", \"iwo\", \"jima\", \"liked\", \"sumabit\", \"lee\", \"alexander\", \"gmanetwork\", \"dodge\", \"thefacesofjeep\", \"okay\", \"technically\", \"httpstcodhhqeepg0q\", \"httpstco3tqcratygf\", \"httpstco7dgtb5929d\", \"historyinpix\", \"nepal\", \"scammer\", \"jeeppicsdaiiy\", \"happybirthday\", \"707\", \"waxahachie\", \"httpstcoprki3k6he1\", \"profit\", \"trackhawk\", \"blue\", \"chrysler\", \"watch\", \"faster\", \"technician\", \"matte\", \"ram\", \"sa\", \"youtube\", \"video\", \"jeep\", \"rt\", \"grand\", \"thejeepmafia\", \"cherokee\", \"mopar\", \"via\", \"stuck\", \"better\", \"cat\", \"fact\", \"mean\", \"httpstcon65v0hjtbd\", \"in\", \"wsl\", \"portugal\", \"srtporn\", \"httpstcopdfmvgpius\", \"httpstco4mwvr8xzvm\", \"debtenator\", \"httpstcoy6p4ds0f2c\", \"johnjohnflorenc\", \"leader\", \"meoripcurlpro\", \"jeepfamily\", \"opportunity\", \"httpstco0tqb1utgh3\", \"httpstcoqrr99j7vyf\", \"natalie\", \"outlast\", \"httpstcod2dyqnr1t3\", \"httpstcoohn8jwavuk\", \"walked\", \"confused\", \"jus\", \"heat\", \"jackj\", \"reallllyyyyy\", \"50\", \"combo\", \"make\", \"morning\", \"miss\", \"rugged\", \"life\", \"mailonline\", \"stuck\", \"looking\", \"good\", \"get\", \"jeeplife\", \"rt\", \"jeep\", \"jeepporn\", \"mile\", \"day\", \"put\", \"dont\", \"look\", \"today\", \"srt8\", \"new\", \"want\", \"u\", \"car\"], \"Freq\": [5329.0, 3018.0, 5686.0, 2751.0, 2747.0, 2960.0, 2711.0, 2706.0, 2698.0, 2677.0, 2673.0, 2659.0, 2506.0, 12271.0, 3860.0, 1897.0, 1173.0, 2530.0, 1498.0, 836.0, 806.0, 825.0, 1475.0, 808.0, 803.0, 1188.0, 795.0, 787.0, 39523.0, 1087.0, 305.4018210026804, 292.0290161016933, 262.71325155286286, 238.5309810259706, 213.9237095691577, 197.68776956302023, 172.60285243403075, 160.3178265530078, 154.61703474186302, 316.68822102878573, 152.1094931609326, 152.1723080308517, 149.46069508868172, 139.95817579548017, 138.0683898500848, 126.77705338414303, 118.40357750153866, 99.5672483815466, 95.00412017271343, 93.87216797821263, 85.62594077539278, 88.14864731182082, 79.82850090344976, 58.59477650687837, 40.159344689605426, 37.477541474447925, 36.95836070364729, 35.66440570051329, 34.64006258644763, 34.51168861070039, 152.59542992883453, 178.60461845120486, 46.66392160612248, 224.56246992071797, 106.0405240231006, 504.734688335202, 238.12489780742328, 231.31235604910844, 482.9183844179302, 267.7521570179345, 204.44943945102034, 4129.0922139318645, 204.02259133716092, 191.24082160059405, 1268.1411171571535, 322.4644501334314, 299.91608811241116, 272.46627658976564, 399.03151954892553, 244.02851890784873, 191.71009124904813, 182.64330566141166, 182.77245991313305, 190.43954717913857, 184.82818454903122, 392.0845586458625, 287.1663997807044, 252.52034060773846, 218.82835237760722, 198.9771191420058, 194.40027779698988, 190.53073134882618, 163.95427050753742, 131.95019294330714, 128.9567266911058, 127.51025715228502, 104.19475107135091, 101.47934944355931, 96.03422120978834, 93.5244590776323, 92.49076807485514, 87.908094365796, 87.53977589038848, 85.927606654201, 85.927606654201, 83.72206466777587, 83.00281666884248, 83.00281666884248, 79.98379327135902, 79.56467050743152, 79.44725903548087, 79.11528289275806, 77.73476448652995, 77.01129901792379, 76.61006265101885, 168.44955968684621, 98.01875336665931, 130.3273971254142, 751.4687751359406, 218.94401918688982, 113.25577919687886, 201.73638245439446, 156.39874207754966, 109.11744655758557, 140.41869902188185, 154.6801916747096, 96.65369901589813, 181.99047782036487, 2181.208296652992, 1108.319078171805, 184.58010513035893, 137.35587882395012, 170.80104775199968, 128.95919228876068, 337.98781771596265, 281.55931350214826, 222.27769465936322, 142.49468899117858, 194.45537164868134, 141.34413442704073, 5328.744568827268, 2746.869213689996, 2711.099859012789, 2705.789857993332, 2750.195516477784, 2697.480517883872, 2676.204974273678, 2672.841947302443, 2658.8139015512957, 2505.829048427531, 292.14236013333755, 181.92041231089576, 161.1173346992332, 84.47030500149273, 70.34435894477555, 70.34435894477555, 68.63765928361525, 67.70980600627428, 66.8758239868231, 57.68319075675119, 55.68796685729444, 54.90899707232106, 24.849054387386445, 24.84904975984317, 2922.140117794281, 20.023450715543824, 2833.016645266079, 14.908283150681845, 14.908280065652992, 14.839772372464829, 92.75088030194273, 96.9633514572323, 331.581911934454, 315.7196314294302, 3616.870450475123, 56.44394700726735, 517.1796662960791, 60.973886141537015, 378.6329189957132, 250.66209293469922, 192.32800017949944, 163.19807473689391, 161.51831932411773, 141.82524398871146, 142.89031909146237, 126.43109072675841, 104.71844452282362, 102.60706444527224, 102.60706444527224, 75.94915712941105, 63.88881473534039, 51.912242727122745, 51.188787263498575, 46.98895182374978, 45.38442037466457, 46.28085950571, 44.936999449947514, 42.701439692860205, 46.1379538372664, 42.09992936973024, 41.50327434130821, 41.430786998270804, 40.59098101782726, 40.59098101782726, 38.79027635171004, 37.82802314916045, 38.003136525396776, 43.695445419323654, 152.95562089004034, 48.24270478232734, 254.68598463246903, 245.41415937153624, 99.56424021704528, 50.39339619487199, 143.07245885157434, 79.41854106725197, 170.43168038371542, 651.7477926387693, 289.17056080896594, 608.3315708041949, 156.26267246322553, 192.49614786304397, 63.63284139138563, 574.9959559812894, 120.37202500883048, 211.95034269881958, 169.75181774223606, 294.93796676683576, 180.3737680443187, 4636.379886373471, 341.06017675927365, 259.3107411198679, 1321.2453951146558, 219.5172312230591, 156.46390235934825, 156.1688438929946, 224.66029042053057, 205.7819776761595, 199.0213108381735, 199.58565056988596, 251.92109292198955, 248.49841912619118, 205.106275139464, 182.51708271933546, 172.14807120201516, 165.07540754000115, 1497.771995023149, 1896.58343903083, 1087.0148139060082, 946.9859570565902, 669.7146737300304, 500.59444207774106, 442.77207326511234, 432.6623611531581, 407.1414368532722, 623.5904736443943, 350.644121542258, 364.211994212293, 306.64038886109364, 290.9996534536375, 326.0674736920895, 250.11182607972742, 208.8699879757909, 218.18328144307597, 224.76303414706672, 193.12228775503343, 143.24271443592025, 142.56935656838004, 137.74441558123402, 125.65381479732562, 134.4166604629277, 122.294701687068, 326.483396612569, 152.86790990389244, 127.37408349067512, 117.03307981360736, 552.5775328069582, 259.614834895947, 163.3330393844099, 414.08239423866297, 1110.489842738706, 939.6584152116292, 315.6563792262193, 359.11799341532185, 286.98416261246183, 4474.918439078331, 880.9881648787226, 2760.1209266020296, 1852.4715760358624, 656.3047062831632, 368.22416940548925, 547.0941342733433, 10120.999301090496, 815.7593618940576, 540.6698553173355, 628.0661161406119, 761.6068326444537, 627.1199708711243, 391.3472974659658, 444.67204003153114, 824.2152312675532, 807.9122337030162, 802.9882335276264, 794.4736184472987, 787.1259759158612, 835.4795828459551, 422.53993031588243, 169.68518899949026, 166.71430789117392, 165.13699309049707, 160.7186284869855, 62.713809427057114, 51.84792683322928, 46.85184564192704, 38.83573749863538, 37.52616220245022, 37.2582257005554, 36.721768382434426, 35.09812580263101, 35.00650865441811, 34.5547835922175, 33.6972238459291, 33.69718043972163, 33.11482272667072, 32.83959732085998, 32.709101566510164, 32.709044804546544, 32.70905148242462, 32.1700131644287, 31.851424957355498, 960.4990765038027, 653.7373380736127, 285.89385026147914, 844.1582600347631, 423.39755684095155, 47.60929731803362, 2648.347504031973, 1144.6676882064462, 100.0070405644675, 71.13021295457558, 58.39200694047098, 47.02406143953354, 69.30858130674562, 51.513338430294844, 65.25518945139744, 41.60838913531459, 49.96144965037827, 394.12003061446086, 393.2648540710752, 260.8265970570665, 249.06589316277456, 203.45675206313697, 197.44013299204263, 168.06223274985638, 163.7941811762885, 131.9900123040698, 117.937084375528, 100.28242535434637, 97.85515658663937, 96.0176683519418, 96.0176683519418, 95.16257678757425, 96.48348410808487, 74.62589358859073, 59.84375416887879, 59.62588104016354, 59.49718358567372, 58.70869596095453, 65.23540485662242, 58.06150229594671, 57.207338963930724, 57.40168597832716, 56.93217036647293, 56.597091561254096, 55.4972931089941, 54.77939363250268, 53.92432167867778, 143.82205935248115, 125.89114661714903, 104.00268910354168, 178.60216729119816, 255.5127152445802, 139.57331762656477, 393.26511554497705, 99.7902268815068, 2107.945490802303, 315.0227110514445, 2419.319908796036, 148.25291765103498, 194.8128170788789, 212.01574725037955, 107.19660588831599, 104.64139140358697, 294.81227588236885, 255.0098317968418, 223.7992112945535, 220.97618281198055, 220.97618281198055, 209.03184115191345, 205.80739039309515, 189.51875053267892, 183.64338462361388, 264.3960759718158, 152.13661567171678, 123.7178960896975, 108.45903406602692, 91.32126923457905, 83.36282220064456, 76.83727676567685, 73.6083315156018, 72.99336953904664, 68.41078625366843, 60.00145185685718, 55.74222795529646, 54.75688137497465, 53.59070214928856, 51.07899423466684, 51.07899423466684, 51.07899423466684, 51.07899423466684, 51.07899423466684, 51.07899423466684, 50.194812231832586, 64.92528260125474, 139.06063816162256, 367.8546417968158, 82.83032771794889, 178.20779826331966, 161.17659139886743, 352.60015869176965, 308.71422531282064, 257.07375354755396, 834.4174033055159, 315.85707628049886, 206.16403469501975, 1792.5668667688897, 155.7992793280678, 734.3068995902983, 415.23633910964753, 164.51133697312628, 157.66138557994844, 268.93623125973033, 195.21596764973015, 131.5479162463214, 313.4077778722684, 286.9942554475645, 192.13023128946395, 134.9825732968983, 103.28190344463326, 87.8288107840399, 81.1739272396177, 70.56684168529465, 70.56684168529465, 184.63253707110934, 69.12622211155886, 66.61898205758452, 65.76613819532724, 63.791737004458064, 795.5758859960582, 57.858208846825995, 57.59161514861972, 48.56460820028387, 48.54271916584618, 48.54271916584618, 47.95641186518741, 47.10295378439659, 37.80186252857548, 36.993939467349044, 36.23101148474355, 53.3150714710368, 31.24623955600626, 30.5424793875797, 30.3182581976976, 29.365376705721633, 421.0388399093028, 486.80622939634026, 481.8418352387651, 146.64550336723397, 221.18600185864807, 63.34206047396597, 392.2717920465153, 316.7169245026707, 158.64665930094046, 228.7415868879979, 231.3808867835171, 1959.4316738884766, 864.9168731889129, 273.1681791162436, 119.18399271008622, 280.53313356742086, 70.85317608148637, 83.65601575885051, 70.59016484858743, 413.6636016218127, 312.28288787385486, 306.34970221633665, 283.228344149965, 268.91045590454274, 188.7366503193835, 173.84375645145468, 157.76863147598254, 157.44775855700595, 155.0119291514584, 150.40430684996343, 143.5853154196029, 142.45973876174443, 142.07862418773476, 141.1346822934334, 135.68046653263116, 127.9753444014077, 122.41568299933616, 107.52538855557272, 105.79852609689547, 94.43263491354367, 94.43263491354367, 92.58593900084163, 84.59845441965193, 78.04383092547269, 76.24957189674711, 72.09263775704866, 72.6143876769667, 68.85136377673206, 67.99338483958036, 303.7340836383894, 234.46387464588693, 530.2365199332239, 288.1493920202027, 211.54959970565164, 192.98104208512675, 483.16339175660295, 275.6168402800583, 318.87250611586074, 336.9919742204509, 415.21800528423665, 702.6932366471436, 791.4891502292326, 3100.73871223859, 6019.133018122924, 405.3564918452458, 494.49844077223236, 307.7495441178861, 176.0513564152804, 269.3537876959512, 297.8424367790342, 242.13053829658335, 183.3092216246057, 235.80660719852267, 205.17438196880767, 197.4015448380756, 194.92122628793726], \"Total\": [5329.0, 3018.0, 5686.0, 2751.0, 2747.0, 2960.0, 2711.0, 2706.0, 2698.0, 2677.0, 2673.0, 2659.0, 2506.0, 12271.0, 3860.0, 1897.0, 1173.0, 2530.0, 1498.0, 836.0, 806.0, 825.0, 1475.0, 808.0, 803.0, 1188.0, 795.0, 787.0, 39523.0, 1087.0, 306.2288064586238, 292.8871387555166, 263.53860724747955, 239.4084292779148, 214.7508455747192, 198.51104310809365, 173.42564505931938, 161.14070055484632, 155.43978252568996, 318.37573657738403, 152.93219941413727, 152.99535946479335, 150.2833792068214, 140.78079994966222, 138.89162944221326, 127.6004858339212, 119.22649657431631, 100.39099725365851, 95.82655094618303, 94.6945288127062, 86.45388404097072, 89.01156346905704, 80.66362350907849, 59.41715157270291, 40.981632140832026, 38.29991684277709, 37.78063565974721, 36.486663427795655, 35.46233761485292, 35.33395742312025, 172.91956769789022, 207.58638684413006, 49.652892290382354, 303.9231519033248, 129.04097422785617, 839.1488224512865, 345.34909694641277, 337.2472295451827, 871.0097236982488, 449.15268800433927, 318.9935669125531, 39523.34912013223, 344.2304204158661, 339.88892799596846, 12271.659056919387, 952.4762727325391, 863.2234758836953, 820.1132765631215, 3860.7271906404553, 1889.5018427781272, 542.2245163984113, 486.67780022741215, 724.1764865595042, 1186.2231231715639, 915.3333169450766, 393.051805222348, 287.99394412198353, 253.34705978370317, 219.65458890342893, 199.80248833315184, 195.22606538171198, 191.35696173650393, 164.7891735753184, 132.77629019307267, 129.78252439728908, 128.34010605203466, 105.02030151664789, 102.30468998198502, 96.86304363810798, 94.34958966085264, 93.31745071985662, 88.73325481645193, 88.36510624148742, 86.75273998864024, 86.75274101366522, 84.54766274157159, 83.82841419987672, 83.82841421697252, 80.8089269787099, 80.39062512814608, 80.27242842533576, 79.94120365426247, 78.55989660492854, 77.83629426005677, 77.4351949312493, 177.55965756302044, 102.60947173750822, 143.99086170679476, 1188.5354894767427, 287.75048191733947, 125.80885451451185, 274.9045958253012, 200.23993303320984, 124.16122608220454, 181.75807014118377, 222.84825358717052, 104.90208238027797, 324.55573309541734, 39523.34912013223, 12271.659056919387, 373.8896699506024, 207.93122659154758, 357.775364661537, 189.9592865479742, 1889.5018427781272, 1553.8890985698677, 975.816199955992, 264.6604436159819, 5686.914681541431, 1475.2243296322893, 5329.568318441878, 2747.692681956861, 2711.9212362788667, 2706.6110296912243, 2751.0335237862973, 2698.3063783635157, 2677.02573792113, 2673.6625672393925, 2659.6344391555763, 2506.649555371739, 292.96235278485767, 182.73971961488883, 161.935018548648, 85.28826250232905, 71.16219193846106, 71.16219203380777, 69.45525689262199, 68.52740362155123, 67.69845079860306, 58.500972609195806, 56.50567463516478, 55.726704918289784, 25.666653094707456, 25.666648396944137, 3018.84672670473, 20.841127921862576, 2960.104569914683, 15.725973296359754, 15.725970185796342, 15.660734231293212, 108.0426490594754, 122.88548318474916, 499.1299533349004, 1056.5204510794697, 39523.34912013223, 92.47556169495431, 12271.659056919387, 142.67778024805784, 379.48956564210357, 251.6166244568008, 193.148727236393, 164.01787609465242, 162.3381036269675, 142.64495218454854, 143.71699714205315, 127.25049360374629, 105.53842045076249, 103.42692693799978, 103.4269273437088, 76.76987273311354, 64.70829282191946, 52.731857426293665, 52.0084586025594, 47.80822269634036, 46.20390939992359, 47.12422231975251, 45.75616404977806, 43.520809520053874, 47.03566888397319, 42.919172204619386, 42.32262249206008, 42.249932589315215, 41.41031583091528, 41.41031641719955, 39.61638858128145, 38.64717541911701, 38.83697501886164, 44.72148884005177, 160.96428198854596, 49.65267852389754, 277.37936604225257, 267.3126843336288, 106.20125996944718, 51.94406287687916, 156.3799361617805, 84.0495756259809, 204.2246224723723, 923.9578245915429, 374.1690493075028, 884.6140924061442, 190.70387194309535, 245.60630974942472, 68.09135902324633, 915.3333169450766, 145.63938958076568, 293.60817672619055, 255.00466869066625, 582.4150400308089, 298.5496787269994, 39523.34912013223, 863.2234758836953, 575.2515421784225, 12271.659056919387, 507.3659930042454, 249.57606094039565, 251.99298787647567, 622.3281842695955, 542.2245163984113, 517.2418823071795, 540.3517235476837, 1553.8890985698677, 1475.2243296322893, 1186.2231231715639, 673.3808541827689, 449.15268800433927, 445.7648389313117, 1498.663029149364, 1897.8244360975627, 1087.9796037511433, 947.8999962702542, 670.6665580356678, 501.42919312181715, 443.605289077905, 433.4904995034059, 407.9714540775892, 624.9302038531093, 351.4722937102416, 365.1199477353638, 307.46642481769726, 291.8220622449123, 327.1361765925021, 250.94569465663545, 209.69062043481622, 219.04189345542164, 225.68540908355533, 193.94408487157207, 144.06866073613165, 143.40399980642587, 138.56535145539368, 126.47538721277401, 135.30055124434605, 123.12117460734716, 328.778615113824, 153.94880989914117, 128.28373966992436, 117.87894190845462, 559.7190382521582, 261.62043696577865, 164.56114508481332, 421.18619729582247, 1149.2095016667824, 979.2054396202171, 325.2641566331112, 373.5700474850274, 299.6946282932838, 5686.914681541431, 1014.1853995262783, 3860.7271906404553, 2530.6613581091633, 777.6288514912551, 401.93282612623267, 701.7192642361912, 39523.34912013223, 1284.626878812649, 724.1764865595042, 1123.3854165053476, 1889.5018427781272, 1495.870510548601, 546.0869604471574, 1553.8890985698677, 825.0464685880391, 808.7423298336633, 803.8187277090677, 795.30348949396, 787.9581756292096, 836.4745230792598, 423.3674763602929, 170.5116227804721, 167.54072531767926, 165.96332237242981, 161.54486896203971, 63.53897991251646, 52.67312750457866, 47.80928138219255, 39.660783696046316, 38.35131074813736, 38.083199180430995, 37.546877831839026, 35.92322236755261, 35.83164817758263, 35.37987021707671, 34.52225075924645, 34.52225417064539, 33.93987394580285, 33.664669475212584, 33.53410808525025, 33.53410222972454, 33.53411414279316, 32.99520405614441, 32.67652260532611, 1173.4623909944098, 820.1878233811115, 361.29437926512173, 1475.2243296322893, 817.4033014212667, 59.20827558036175, 39523.34912013223, 12271.659056919387, 410.1636447367323, 199.39988810771663, 174.7776957736404, 94.58505680277851, 405.555597836729, 175.18074971048804, 561.1787247414692, 65.64336084131358, 379.16032478185247, 394.94752148342195, 394.09232993680496, 261.6560631994258, 249.9274388695799, 204.28348411483088, 198.2663916224129, 168.88880728231598, 164.62064011969446, 132.81855015102582, 118.76358438095824, 101.11100476696231, 98.68338771093238, 96.84327139697824, 96.84327216076873, 95.9881759591415, 97.46691055959076, 75.45166609829194, 60.669329321954294, 60.451748857527896, 60.32290716535393, 59.53446586408651, 66.1543406205477, 58.887101015717185, 58.03285556773044, 58.23351061490747, 57.75780706331393, 57.42246790380155, 56.322790227314414, 55.60489172898387, 54.74980762747054, 147.6478560957537, 137.9820377764566, 113.43439188251999, 211.73859809158435, 344.93097359359456, 194.8253102810129, 817.4033014212667, 127.61830135077858, 12271.659056919387, 786.3297073909744, 39523.34912013223, 387.47347609820844, 952.4762727325391, 1553.8890985698677, 820.0502073680105, 5686.914681541431, 295.64108979608466, 255.8959132881487, 224.6336486212117, 221.80390713726996, 221.80390737608266, 209.8607577221376, 206.63990575931686, 190.3449192005261, 184.46939058727952, 265.80972468016597, 152.96240150314938, 124.54421450524501, 109.2848886065812, 92.15365995960184, 84.20848882198494, 77.66413752645911, 74.43364984088488, 73.83705682230989, 69.24200873534974, 60.82885082197406, 56.569721578543046, 55.58262983977318, 54.41600694937852, 51.90459034502793, 51.90459044158029, 51.90459084879952, 51.90459099762025, 51.904591130464475, 51.9045912241722, 51.02456415308612, 67.09835365271947, 155.58383377256104, 561.1787247414692, 98.71201921596682, 294.5424292823942, 285.024544280179, 1056.5204510794697, 975.816199955992, 761.300437501015, 5686.914681541431, 1284.626878812649, 599.1773525616828, 39523.34912013223, 378.80858318013264, 12271.659056919387, 3860.7271906404553, 491.2788956799604, 499.1299533349004, 2530.6613581091633, 1889.5018427781272, 622.3281842695955, 314.23483672840985, 287.82083160209055, 192.95702674088656, 135.8135250043312, 104.11916367355724, 88.6985181994401, 82.00695169744222, 71.39351052045565, 71.39351127313509, 186.83176622545872, 69.95193323724318, 67.44451806966224, 66.59164487355108, 64.61733380495338, 806.428696334814, 58.686113711508376, 58.436314611441496, 49.390071132519125, 49.36818478755805, 49.368184897832904, 48.78225163494918, 47.92878525430544, 38.62763916488638, 37.81951740528054, 37.056716838211365, 54.61747556669537, 32.07175767516441, 31.3683303163811, 31.14384620802535, 30.190800548925615, 447.2787773732738, 553.9636812270738, 596.984954359741, 168.44395190592027, 268.9051287877594, 70.26171131790537, 599.1773525616828, 491.2788956799604, 277.1523335828174, 656.6201259370479, 761.300437501015, 39523.34912013223, 12271.659056919387, 2530.6613581091633, 387.47347609820844, 3860.7271906404553, 115.24342381692749, 1014.1853995262783, 390.2198158240944, 414.50120706367, 313.109805306771, 307.1755971205664, 284.07402820454223, 269.73622279190437, 189.60881205904175, 174.6698520638214, 158.5947379620649, 158.27405625949748, 155.83819946128725, 151.22958038297762, 144.41064856727058, 143.285039379601, 142.9044479359754, 141.9606165328462, 136.5062116631681, 128.83692317838026, 123.24485746919422, 108.35043871729351, 106.62369735494235, 95.25782596777833, 95.25782606574418, 93.41109965979359, 85.42395667000059, 78.86930580988022, 77.07506605184975, 72.9177682170363, 73.45043483019805, 69.67644761749443, 68.81845863704372, 310.2002921967017, 246.97960815562197, 594.1378376132566, 316.07338243493456, 229.9104499220475, 212.01089774904895, 586.6373799268222, 323.8475636926612, 390.2198158240944, 418.4186135497938, 542.0447149651037, 1186.2231231715639, 1495.870510548601, 12271.659056919387, 39523.34912013223, 786.3297073909744, 1123.3854165053476, 510.075913010928, 215.4400351386261, 575.2515421784225, 820.0502073680105, 486.67780022741215, 292.0998704855783, 1889.5018427781272, 884.6140924061442, 673.3808541827689, 1553.8890985698677], \"Category\": [\"Default\", \"Default\", \"Default\", \"Default\", \"Default\", \"Default\", \"Default\", \"Default\", \"Default\", \"Default\", \"Default\", \"Default\", \"Default\", \"Default\", \"Default\", \"Default\", \"Default\", \"Default\", \"Default\", \"Default\", \"Default\", \"Default\", \"Default\", \"Default\", \"Default\", \"Default\", \"Default\", \"Default\", \"Default\", \"Default\", \"Topic1\", \"Topic1\", \"Topic1\", \"Topic1\", \"Topic1\", \"Topic1\", \"Topic1\", \"Topic1\", \"Topic1\", \"Topic1\", \"Topic1\", \"Topic1\", \"Topic1\", \"Topic1\", \"Topic1\", \"Topic1\", \"Topic1\", \"Topic1\", \"Topic1\", \"Topic1\", \"Topic1\", \"Topic1\", \"Topic1\", \"Topic1\", \"Topic1\", \"Topic1\", \"Topic1\", \"Topic1\", \"Topic1\", \"Topic1\", \"Topic1\", \"Topic1\", \"Topic1\", \"Topic1\", \"Topic1\", \"Topic1\", \"Topic1\", \"Topic1\", \"Topic1\", \"Topic1\", \"Topic1\", \"Topic1\", \"Topic1\", \"Topic1\", \"Topic1\", \"Topic1\", \"Topic1\", \"Topic1\", \"Topic1\", \"Topic1\", \"Topic1\", \"Topic1\", \"Topic1\", \"Topic1\", \"Topic1\", \"Topic2\", \"Topic2\", \"Topic2\", \"Topic2\", \"Topic2\", \"Topic2\", \"Topic2\", \"Topic2\", \"Topic2\", \"Topic2\", \"Topic2\", \"Topic2\", \"Topic2\", \"Topic2\", \"Topic2\", \"Topic2\", \"Topic2\", \"Topic2\", \"Topic2\", \"Topic2\", \"Topic2\", \"Topic2\", \"Topic2\", \"Topic2\", \"Topic2\", \"Topic2\", \"Topic2\", \"Topic2\", \"Topic2\", \"Topic2\", \"Topic2\", \"Topic2\", \"Topic2\", \"Topic2\", \"Topic2\", \"Topic2\", \"Topic2\", \"Topic2\", \"Topic2\", \"Topic2\", \"Topic2\", \"Topic2\", \"Topic2\", \"Topic2\", \"Topic2\", \"Topic2\", \"Topic2\", \"Topic2\", \"Topic2\", \"Topic2\", \"Topic2\", \"Topic2\", \"Topic2\", \"Topic2\", \"Topic2\", \"Topic3\", \"Topic3\", \"Topic3\", \"Topic3\", \"Topic3\", \"Topic3\", \"Topic3\", \"Topic3\", \"Topic3\", \"Topic3\", \"Topic3\", \"Topic3\", \"Topic3\", \"Topic3\", \"Topic3\", \"Topic3\", \"Topic3\", \"Topic3\", \"Topic3\", \"Topic3\", \"Topic3\", \"Topic3\", \"Topic3\", \"Topic3\", \"Topic3\", \"Topic3\", \"Topic3\", \"Topic3\", \"Topic3\", \"Topic3\", \"Topic3\", \"Topic3\", \"Topic3\", \"Topic3\", \"Topic3\", \"Topic3\", \"Topic3\", \"Topic3\", \"Topic4\", \"Topic4\", \"Topic4\", \"Topic4\", \"Topic4\", \"Topic4\", \"Topic4\", \"Topic4\", \"Topic4\", \"Topic4\", \"Topic4\", \"Topic4\", \"Topic4\", \"Topic4\", \"Topic4\", \"Topic4\", \"Topic4\", \"Topic4\", \"Topic4\", \"Topic4\", \"Topic4\", \"Topic4\", \"Topic4\", \"Topic4\", \"Topic4\", \"Topic4\", \"Topic4\", \"Topic4\", \"Topic4\", \"Topic4\", \"Topic4\", \"Topic4\", \"Topic4\", \"Topic4\", \"Topic4\", \"Topic4\", \"Topic4\", \"Topic4\", \"Topic4\", \"Topic4\", \"Topic4\", \"Topic4\", \"Topic4\", \"Topic4\", \"Topic4\", \"Topic4\", \"Topic4\", \"Topic4\", \"Topic4\", \"Topic4\", \"Topic4\", \"Topic4\", \"Topic4\", \"Topic4\", \"Topic4\", \"Topic4\", \"Topic4\", \"Topic4\", \"Topic4\", \"Topic4\", \"Topic4\", \"Topic4\", \"Topic4\", \"Topic4\", \"Topic4\", \"Topic4\", \"Topic4\", \"Topic4\", \"Topic5\", \"Topic5\", \"Topic5\", \"Topic5\", \"Topic5\", \"Topic5\", \"Topic5\", \"Topic5\", \"Topic5\", \"Topic5\", \"Topic5\", \"Topic5\", \"Topic5\", \"Topic5\", \"Topic5\", \"Topic5\", \"Topic5\", \"Topic5\", \"Topic5\", \"Topic5\", \"Topic5\", \"Topic5\", \"Topic5\", \"Topic5\", \"Topic5\", \"Topic5\", \"Topic5\", \"Topic5\", \"Topic5\", \"Topic5\", \"Topic5\", \"Topic5\", \"Topic5\", \"Topic5\", \"Topic5\", \"Topic5\", \"Topic5\", \"Topic5\", \"Topic5\", \"Topic5\", \"Topic5\", \"Topic5\", \"Topic5\", \"Topic5\", \"Topic5\", \"Topic5\", \"Topic5\", \"Topic5\", \"Topic5\", \"Topic5\", \"Topic5\", \"Topic5\", \"Topic5\", \"Topic5\", \"Topic6\", \"Topic6\", \"Topic6\", \"Topic6\", \"Topic6\", \"Topic6\", \"Topic6\", \"Topic6\", \"Topic6\", \"Topic6\", \"Topic6\", \"Topic6\", \"Topic6\", \"Topic6\", \"Topic6\", \"Topic6\", \"Topic6\", \"Topic6\", \"Topic6\", \"Topic6\", \"Topic6\", \"Topic6\", \"Topic6\", \"Topic6\", \"Topic6\", \"Topic6\", \"Topic6\", \"Topic6\", \"Topic6\", \"Topic6\", \"Topic6\", \"Topic6\", \"Topic6\", \"Topic6\", \"Topic6\", \"Topic6\", \"Topic6\", \"Topic6\", \"Topic6\", \"Topic6\", \"Topic6\", \"Topic6\", \"Topic6\", \"Topic6\", \"Topic6\", \"Topic6\", \"Topic6\", \"Topic7\", \"Topic7\", \"Topic7\", \"Topic7\", \"Topic7\", \"Topic7\", \"Topic7\", \"Topic7\", \"Topic7\", \"Topic7\", \"Topic7\", \"Topic7\", \"Topic7\", \"Topic7\", \"Topic7\", \"Topic7\", \"Topic7\", \"Topic7\", \"Topic7\", \"Topic7\", \"Topic7\", \"Topic7\", \"Topic7\", \"Topic7\", \"Topic7\", \"Topic7\", \"Topic7\", \"Topic7\", \"Topic7\", \"Topic7\", \"Topic7\", \"Topic7\", \"Topic7\", \"Topic7\", \"Topic7\", \"Topic7\", \"Topic7\", \"Topic7\", \"Topic7\", \"Topic7\", \"Topic7\", \"Topic7\", \"Topic7\", \"Topic7\", \"Topic7\", \"Topic7\", \"Topic8\", \"Topic8\", \"Topic8\", \"Topic8\", \"Topic8\", \"Topic8\", \"Topic8\", \"Topic8\", \"Topic8\", \"Topic8\", \"Topic8\", \"Topic8\", \"Topic8\", \"Topic8\", \"Topic8\", \"Topic8\", \"Topic8\", \"Topic8\", \"Topic8\", \"Topic8\", \"Topic8\", \"Topic8\", \"Topic8\", \"Topic8\", \"Topic8\", \"Topic8\", \"Topic8\", \"Topic8\", \"Topic8\", \"Topic8\", \"Topic8\", \"Topic8\", \"Topic8\", \"Topic8\", \"Topic8\", \"Topic8\", \"Topic8\", \"Topic8\", \"Topic8\", \"Topic8\", \"Topic8\", \"Topic8\", \"Topic8\", \"Topic8\", \"Topic8\", \"Topic8\", \"Topic8\", \"Topic8\", \"Topic8\", \"Topic8\", \"Topic8\", \"Topic9\", \"Topic9\", \"Topic9\", \"Topic9\", \"Topic9\", \"Topic9\", \"Topic9\", \"Topic9\", \"Topic9\", \"Topic9\", \"Topic9\", \"Topic9\", \"Topic9\", \"Topic9\", \"Topic9\", \"Topic9\", \"Topic9\", \"Topic9\", \"Topic9\", \"Topic9\", \"Topic9\", \"Topic9\", \"Topic9\", \"Topic9\", \"Topic9\", \"Topic9\", \"Topic9\", \"Topic9\", \"Topic9\", \"Topic9\", \"Topic9\", \"Topic9\", \"Topic9\", \"Topic9\", \"Topic9\", \"Topic9\", \"Topic9\", \"Topic9\", \"Topic9\", \"Topic9\", \"Topic9\", \"Topic9\", \"Topic9\", \"Topic9\", \"Topic9\", \"Topic9\", \"Topic9\", \"Topic9\", \"Topic9\", \"Topic10\", \"Topic10\", \"Topic10\", \"Topic10\", \"Topic10\", \"Topic10\", \"Topic10\", \"Topic10\", \"Topic10\", \"Topic10\", \"Topic10\", \"Topic10\", \"Topic10\", \"Topic10\", \"Topic10\", \"Topic10\", \"Topic10\", \"Topic10\", \"Topic10\", \"Topic10\", \"Topic10\", \"Topic10\", \"Topic10\", \"Topic10\", \"Topic10\", \"Topic10\", \"Topic10\", \"Topic10\", \"Topic10\", \"Topic10\", \"Topic10\", \"Topic10\", \"Topic10\", \"Topic10\", \"Topic10\", \"Topic10\", \"Topic10\", \"Topic10\", \"Topic10\", \"Topic10\", \"Topic10\", \"Topic10\", \"Topic10\", \"Topic10\", \"Topic10\", \"Topic10\", \"Topic10\", \"Topic10\", \"Topic10\", \"Topic10\", \"Topic10\", \"Topic10\", \"Topic10\", \"Topic10\", \"Topic10\", \"Topic10\", \"Topic10\"], \"logprob\": [30.0, 29.0, 28.0, 27.0, 26.0, 25.0, 24.0, 23.0, 22.0, 21.0, 20.0, 19.0, 18.0, 17.0, 16.0, 15.0, 14.0, 13.0, 12.0, 11.0, 10.0, 9.0, 8.0, 7.0, 6.0, 5.0, 4.0, 3.0, 2.0, 1.0, -5.0059, -5.0507, -5.1565, -5.2531, -5.3619, -5.4409, -5.5766, -5.6504, -5.6866, -4.9696, -5.703, -5.7025, -5.7205, -5.7862, -5.7998, -5.8851, -5.9535, -6.1267, -6.1736, -6.1856, -6.2776, -6.2485, -6.3477, -6.6569, -7.0347, -7.1038, -7.1178, -7.1534, -7.1826, -7.1863, -5.6998, -5.5424, -6.8846, -5.3134, -6.0637, -4.5035, -5.2548, -5.2838, -4.5477, -5.1375, -5.4072, -2.4017, -5.4093, -5.474, -3.5823, -4.9516, -5.0241, -5.12, -4.7385, -5.2303, -5.4716, -5.52, -5.5193, -5.4782, -5.5081, -4.3691, -4.6805, -4.8091, -4.9523, -5.0474, -5.0707, -5.0908, -5.241, -5.4582, -5.4811, -5.4924, -5.6943, -5.7207, -5.7759, -5.8024, -5.8135, -5.8643, -5.8685, -5.8871, -5.8871, -5.9131, -5.9217, -5.9217, -5.9588, -5.964, -5.9655, -5.9697, -5.9873, -5.9966, -6.0018, -5.2139, -5.7554, -5.4705, -3.7185, -4.9518, -5.6109, -5.0336, -5.2882, -5.6482, -5.3959, -5.2992, -5.7694, -5.1366, -2.6529, -3.33, -5.1225, -5.418, -5.2001, -5.4811, -4.5176, -4.7002, -4.9367, -5.3813, -5.0704, -5.3894, -2.2972, -2.9598, -2.9729, -2.9749, -2.9586, -2.978, -2.9859, -2.9872, -2.9924, -3.0517, -5.2008, -5.6745, -5.7959, -6.4417, -6.6247, -6.6247, -6.6492, -6.6628, -6.6752, -6.8231, -6.8583, -6.8724, -7.6652, -7.6652, -2.898, -7.8812, -2.929, -8.1761, -8.1761, -8.1807, -6.3481, -6.3037, -5.0742, -5.1232, -2.6847, -6.8448, -4.6297, -6.7676, -4.8297, -5.2421, -5.507, -5.6713, -5.6816, -5.8117, -5.8042, -5.9266, -6.115, -6.1353, -6.1353, -6.4362, -6.6091, -6.8167, -6.8307, -6.9163, -6.9511, -6.9315, -6.961, -7.012, -6.9346, -7.0262, -7.0405, -7.0422, -7.0627, -7.0627, -7.1081, -7.1332, -7.1286, -6.989, -5.7361, -6.89, -5.2262, -5.2633, -6.1654, -6.8464, -5.8029, -6.3915, -5.6279, -4.2866, -5.0992, -4.3555, -5.7147, -5.5062, -6.6131, -4.4119, -5.9757, -5.4099, -5.6319, -5.0795, -5.5712, -2.3246, -4.9342, -5.2082, -3.5799, -5.3748, -5.7134, -5.7153, -5.3517, -5.4394, -5.4728, -5.47, -5.2371, -5.2508, -5.4427, -5.5594, -5.6179, -5.6598, -4.0539, -3.8179, -4.3745, -4.5124, -4.8588, -5.1499, -5.2726, -5.2957, -5.3565, -4.9302, -5.5059, -5.4679, -5.64, -5.6923, -5.5786, -5.8438, -6.024, -5.9803, -5.9506, -6.1023, -6.4011, -6.4058, -6.4403, -6.5321, -6.4647, -6.5592, -5.5773, -6.3361, -6.5185, -6.6032, -5.0511, -5.8065, -6.2699, -5.3396, -4.3531, -4.5201, -5.611, -5.482, -5.7062, -2.9594, -4.5846, -3.4426, -3.8414, -4.879, -5.457, -5.061, -2.1433, -4.6615, -5.0729, -4.923, -4.7302, -4.9245, -5.3961, -5.2683, -3.5496, -3.5695, -3.5757, -3.5863, -3.5956, -3.536, -4.2177, -5.1301, -5.1477, -5.1572, -5.1843, -6.1254, -6.3157, -6.417, -6.6047, -6.639, -6.6461, -6.6606, -6.7059, -6.7085, -6.7215, -6.7466, -6.7466, -6.764, -6.7724, -6.7763, -6.7763, -6.7763, -6.793, -6.8029, -3.3965, -3.7813, -4.6084, -3.5257, -4.2157, -6.401, -2.3823, -3.2211, -5.6588, -5.9995, -6.1968, -6.4133, -6.0254, -6.3222, -6.0857, -6.5357, -6.3527, -4.266, -4.2682, -4.6788, -4.7249, -4.9272, -4.9572, -5.1183, -5.144, -5.3599, -5.4725, -5.6347, -5.6592, -5.6781, -5.6781, -5.6871, -5.6733, -5.9302, -6.1509, -6.1546, -6.1567, -6.1701, -6.0647, -6.1812, -6.196, -6.1926, -6.2008, -6.2067, -6.2263, -6.2393, -6.2551, -5.2741, -5.4072, -5.5982, -5.0575, -4.6994, -5.3041, -4.2682, -5.6396, -2.5892, -4.49, -2.4514, -5.2437, -4.9706, -4.886, -5.568, -5.5921, -4.5384, -4.6834, -4.814, -4.8267, -4.8267, -4.8822, -4.8978, -4.9802, -5.0117, -4.6473, -5.1999, -5.4067, -5.5384, -5.7103, -5.8015, -5.883, -5.926, -5.9344, -5.9992, -6.1304, -6.204, -6.2218, -6.2434, -6.2914, -6.2914, -6.2914, -6.2914, -6.2914, -6.2914, -6.3088, -6.0515, -5.2898, -4.317, -5.8079, -5.0418, -5.1422, -4.3594, -4.4923, -4.6754, -3.498, -4.4694, -4.8961, -2.7333, -5.1762, -3.6258, -4.1959, -5.1217, -5.1643, -4.6303, -4.9506, -5.3454, -4.3606, -4.4486, -4.8499, -5.2029, -5.4706, -5.6327, -5.7115, -5.8515, -5.8515, -4.8897, -5.8721, -5.9091, -5.922, -5.9524, -3.429, -6.0501, -6.0547, -6.2252, -6.2256, -6.2256, -6.2378, -6.2557, -6.4757, -6.4973, -6.5181, -6.1318, -6.6662, -6.6889, -6.6963, -6.7282, -4.0653, -3.9202, -3.9304, -5.12, -4.7091, -5.9595, -4.1361, -4.3501, -5.0414, -4.6755, -4.664, -2.5276, -3.3454, -4.498, -5.3274, -4.4714, -5.8474, -5.6813, -5.8512, -4.9049, -5.186, -5.2052, -5.2837, -5.3355, -5.6896, -5.7718, -5.8688, -5.8708, -5.8864, -5.9166, -5.963, -5.9709, -5.9735, -5.9802, -6.0196, -6.0781, -6.1225, -6.2522, -6.2684, -6.382, -6.382, -6.4018, -6.492, -6.5727, -6.5959, -6.652, -6.6448, -6.698, -6.7105, -5.2138, -5.4726, -4.6566, -5.2664, -5.5755, -5.6673, -4.7496, -5.3109, -5.1651, -5.1099, -4.9011, -4.375, -4.256, -2.8905, -2.2272, -4.9252, -4.7264, -5.2006, -5.7592, -5.3339, -5.2334, -5.4405, -5.7188, -5.4669, -5.6061, -5.6447, -5.6573], \"loglift\": [30.0, 29.0, 28.0, 27.0, 26.0, 25.0, 24.0, 23.0, 22.0, 21.0, 20.0, 19.0, 18.0, 17.0, 16.0, 15.0, 14.0, 13.0, 12.0, 11.0, 10.0, 9.0, 8.0, 7.0, 6.0, 5.0, 4.0, 3.0, 2.0, 1.0, 2.2365, 2.2363, 2.2361, 2.2355, 2.2354, 2.2351, 2.2345, 2.2341, 2.2339, 2.2339, 2.2338, 2.2338, 2.2337, 2.2334, 2.2333, 2.2327, 2.2323, 2.231, 2.2306, 2.2305, 2.2296, 2.2295, 2.2288, 2.2253, 2.2189, 2.2175, 2.2172, 2.2164, 2.2158, 2.2157, 2.1142, 2.0888, 2.1771, 1.9366, 2.0429, 1.7309, 1.8675, 1.8622, 1.6494, 1.7219, 1.7944, -0.0196, 1.7161, 1.6641, -0.0305, 1.1561, 1.182, 1.1373, -0.0304, 0.1924, 1.1995, 1.2591, 0.8624, 0.41, 0.6394, 2.6237, 2.6233, 2.6229, 2.6224, 2.6221, 2.622, 2.6219, 2.6211, 2.62, 2.6198, 2.6197, 2.6183, 2.6181, 2.6176, 2.6174, 2.6173, 2.6169, 2.6168, 2.6166, 2.6166, 2.6164, 2.6163, 2.6163, 2.6159, 2.6159, 2.6159, 2.6158, 2.6156, 2.6155, 2.6155, 2.5735, 2.5804, 2.5265, 2.1678, 2.3529, 2.5211, 2.3167, 2.3791, 2.497, 2.3681, 2.2611, 2.5443, 2.0477, -0.2708, 0.2217, 1.9203, 2.2116, 1.8868, 2.2389, 0.9051, 0.918, 1.1469, 2.0071, -0.7495, 0.2808, 2.0886, 2.0884, 2.0884, 2.0884, 2.0884, 2.0884, 2.0884, 2.0884, 2.0884, 2.0884, 2.0859, 2.0842, 2.0837, 2.0791, 2.0772, 2.0772, 2.0769, 2.0767, 2.0765, 2.0746, 2.0741, 2.0739, 2.0563, 2.0563, 2.0562, 2.0487, 2.0448, 2.0353, 2.0353, 2.0349, 1.9361, 1.8518, 1.6797, 0.8808, -0.3026, 1.595, -1.0779, 1.2386, 2.1983, 2.1967, 2.1963, 2.1955, 2.1955, 2.1948, 2.1948, 2.1941, 2.1927, 2.1926, 2.1926, 2.1898, 2.1878, 2.1849, 2.1846, 2.1832, 2.1826, 2.1825, 2.1825, 2.1815, 2.1813, 2.1813, 2.181, 2.1809, 2.1805, 2.1805, 2.1795, 2.1791, 2.1788, 2.1773, 2.1495, 2.1717, 2.1152, 2.1151, 2.136, 2.1702, 2.1116, 2.1439, 2.0196, 1.8515, 1.9428, 1.8261, 2.0013, 1.9569, 2.1328, 1.7356, 2.01, 1.8746, 1.7936, 1.5201, 1.6966, 0.0576, 1.2719, 1.4037, -0.0282, 1.3627, 1.7336, 1.7221, 1.1816, 1.2317, 1.2454, 1.2045, 0.3811, 0.4194, 0.4455, 0.8951, 1.2415, 1.2071, 1.6005, 1.6005, 1.6002, 1.6001, 1.5997, 1.5994, 1.5992, 1.5992, 1.5991, 1.599, 1.5988, 1.5986, 1.5984, 1.5983, 1.5978, 1.5978, 1.5972, 1.5972, 1.597, 1.5969, 1.5954, 1.5953, 1.5952, 1.5946, 1.5946, 1.5944, 1.5941, 1.5941, 1.594, 1.5939, 1.5883, 1.5934, 1.5936, 1.5841, 1.5668, 1.5599, 1.5711, 1.5617, 1.5578, 1.3614, 1.4603, 1.2655, 1.2892, 1.4315, 1.5135, 1.3522, 0.2388, 1.147, 1.3089, 1.0197, 0.6925, 0.7318, 1.2679, 0.3499, 2.7018, 2.7017, 2.7017, 2.7017, 2.7017, 2.7016, 2.7008, 2.6979, 2.6978, 2.6978, 2.6976, 2.6897, 2.687, 2.6825, 2.6818, 2.681, 2.6809, 2.6806, 2.6795, 2.6795, 2.6792, 2.6786, 2.6786, 2.6782, 2.678, 2.6779, 2.6779, 2.6779, 2.6774, 2.6772, 2.5025, 2.4759, 2.4687, 2.1446, 2.045, 2.4847, -0.0002, 0.3306, 1.2915, 1.672, 1.6064, 2.0039, 0.9361, 1.4788, 0.551, 2.2468, 0.6761, 2.722, 2.722, 2.7209, 2.7207, 2.7201, 2.7199, 2.7192, 2.7191, 2.7179, 2.7171, 2.7159, 2.7157, 2.7156, 2.7156, 2.7155, 2.714, 2.7131, 2.7104, 2.7104, 2.7103, 2.7102, 2.7101, 2.71, 2.7098, 2.7097, 2.7097, 2.7096, 2.7094, 2.7092, 2.7089, 2.6979, 2.6324, 2.6373, 2.5539, 2.424, 2.3906, 1.9925, 2.4781, 0.9625, 1.8094, -0.0693, 1.7634, 1.1371, 0.7323, 0.6894, -1.2713, 2.7392, 2.7386, 2.7383, 2.7383, 2.7383, 2.7381, 2.738, 2.7377, 2.7376, 2.7367, 2.7366, 2.7354, 2.7345, 2.733, 2.732, 2.7313, 2.7309, 2.7306, 2.73, 2.7284, 2.7273, 2.7271, 2.7268, 2.726, 2.726, 2.726, 2.726, 2.726, 2.726, 2.7257, 2.7091, 2.6298, 2.3197, 2.5666, 2.2396, 2.172, 1.6446, 1.5912, 1.6564, 0.8229, 1.3391, 1.6752, -0.3512, 1.8536, -0.0741, 0.5123, 1.648, 1.5896, 0.5003, 0.4721, 1.188, 2.8561, 2.8558, 2.8544, 2.8526, 2.8506, 2.8489, 2.8485, 2.8471, 2.8471, 2.8469, 2.8468, 2.8464, 2.8462, 2.8459, 2.8452, 2.8445, 2.8442, 2.8419, 2.8419, 2.8419, 2.8416, 2.8413, 2.8371, 2.8366, 2.8362, 2.8346, 2.8326, 2.832, 2.8318, 2.831, 2.7983, 2.7295, 2.6444, 2.7201, 2.6634, 2.755, 2.4351, 2.4197, 2.3008, 1.8042, 1.6678, -0.1455, 0.2063, 0.6326, 1.6797, 0.2368, 2.3723, 0.3636, 1.1489, 2.0348, 2.0342, 2.0342, 2.0339, 2.0338, 2.0322, 2.0321, 2.0316, 2.0316, 2.0315, 2.0314, 2.0311, 2.0311, 2.0311, 2.031, 2.0308, 2.0301, 2.0301, 2.0292, 2.0291, 2.0281, 2.0281, 2.028, 2.0271, 2.0263, 2.0261, 2.0255, 2.0254, 2.0249, 2.0248, 2.0158, 1.9848, 1.9231, 1.9444, 1.9536, 1.9428, 1.8428, 1.8756, 1.8349, 1.8204, 1.7703, 1.5132, 1.4003, 0.6612, 0.1549, 1.3742, 1.2163, 1.5316, 1.8349, 1.2781, 1.024, 1.3387, 1.5709, -0.0442, 0.5756, 0.8098, -0.0391]}, \"token.table\": {\"Topic\": [1, 4, 8, 1, 7, 8, 9, 8, 9, 1, 1, 5, 6, 7, 8, 5, 5, 5, 5, 5, 5, 1, 5, 5, 1, 5, 1, 5, 5, 1, 2, 4, 5, 6, 8, 10, 1, 2, 5, 8, 9, 4, 5, 8, 5, 5, 5, 5, 8, 1, 5, 1, 5, 8, 9, 10, 8, 1, 2, 9, 3, 1, 9, 1, 4, 5, 6, 10, 4, 2, 9, 8, 1, 2, 4, 5, 6, 7, 8, 9, 10, 7, 3, 4, 6, 4, 7, 2, 4, 6, 3, 1, 4, 10, 7, 1, 2, 4, 5, 7, 8, 9, 10, 4, 7, 6, 4, 3, 8, 10, 2, 10, 1, 5, 6, 8, 9, 10, 1, 1, 3, 4, 5, 6, 8, 5, 8, 9, 3, 7, 8, 4, 2, 5, 8, 10, 2, 4, 2, 4, 5, 6, 7, 4, 6, 8, 10, 4, 9, 10, 1, 2, 4, 5, 7, 8, 9, 10, 10, 1, 4, 6, 10, 3, 5, 1, 5, 7, 9, 10, 1, 5, 7, 8, 9, 10, 1, 2, 7, 9, 10, 2, 5, 7, 10, 5, 10, 1, 2, 5, 8, 8, 8, 10, 6, 2, 5, 1, 2, 4, 10, 3, 8, 1, 2, 7, 9, 1, 2, 4, 10, 1, 2, 4, 7, 9, 10, 2, 10, 4, 4, 10, 8, 5, 9, 2, 4, 7, 8, 1, 4, 9, 10, 8, 8, 7, 9, 1, 1, 4, 6, 10, 1, 2, 5, 6, 10, 4, 8, 10, 1, 2, 4, 5, 9, 10, 1, 4, 10, 3, 8, 6, 5, 3, 1, 4, 1, 2, 4, 10, 7, 8, 4, 9, 2, 1, 2, 10, 1, 2, 6, 7, 10, 1, 2, 4, 6, 10, 1, 2, 4, 3, 1, 4, 10, 2, 4, 7, 8, 7, 1, 2, 4, 8, 10, 1, 4, 10, 7, 2, 3, 3, 1, 3, 9, 1, 2, 3, 4, 6, 7, 9, 10, 1, 4, 8, 9, 10, 3, 1, 10, 1, 2, 3, 4, 5, 6, 7, 8, 9, 10, 7, 1, 5, 8, 9, 10, 5, 6, 2, 8, 4, 9, 3, 10, 1, 9, 1, 4, 10, 3, 3, 9, 10, 6, 9, 1, 4, 9, 6, 6, 3, 6, 6, 6, 7, 10, 9, 6, 6, 3, 6, 6, 6, 7, 7, 1, 6, 1, 10, 10, 6, 6, 10, 9, 6, 10, 7, 6, 2, 4, 4, 1, 6, 4, 7, 2, 10, 6, 6, 1, 4, 7, 8, 4, 4, 1, 2, 4, 6, 8, 9, 10, 10, 2, 7, 8, 9, 2, 5, 9, 10, 2, 8, 1, 2, 3, 4, 5, 6, 7, 8, 9, 10, 9, 10, 4, 5, 6, 7, 10, 1, 5, 6, 7, 9, 10, 9, 4, 7, 9, 10, 1, 6, 3, 9, 2, 5, 6, 8, 2, 10, 1, 2, 3, 10, 2, 10, 1, 3, 1, 2, 4, 6, 8, 10, 7, 4, 1, 2, 4, 6, 8, 10, 8, 2, 4, 4, 7, 5, 9, 10, 9, 1, 5, 7, 8, 10, 2, 1, 2, 5, 7, 9, 10, 4, 5, 8, 5, 6, 8, 1, 2, 4, 5, 6, 7, 10, 5, 9, 1, 5, 4, 7, 2, 4, 6, 8, 10, 7, 1, 5, 7, 9, 10, 4, 6, 7, 10, 1, 2, 4, 6, 7, 10, 1, 6, 7, 7, 3, 7, 2, 2, 4, 7, 10, 6, 8, 10, 2, 2, 4, 8, 9, 10, 2, 10, 3, 8, 5, 10, 1, 1, 4, 10, 1, 8, 1, 8, 5, 7, 8, 9, 4, 9, 10, 7, 1, 1, 2, 10, 2, 10, 4, 1, 4, 6, 8, 10, 9, 1, 2, 5, 6, 7, 8, 9, 10, 1, 4, 6, 7, 10, 8, 3, 4, 8, 6, 8, 3, 1, 5, 7, 10, 4, 9, 1, 1, 2, 4, 5, 6, 7, 10, 10, 5, 2, 10, 10, 1, 5, 8, 7, 7, 4, 1, 2, 4, 5, 6, 8, 9, 10, 2, 1, 2, 4, 6, 10, 4, 1, 2, 4, 5, 7, 8, 10, 7, 10, 7, 4, 6, 1, 2, 4, 8, 5, 8, 9, 8, 1, 1, 1, 4, 9, 10, 7, 7, 8, 9, 10, 8, 1, 7, 1, 10, 4, 10, 1, 4, 6, 10, 5, 6, 4, 5, 6, 1, 5, 7, 8, 3, 8, 1, 2, 4, 5, 6, 7, 10, 8, 2, 7, 9, 1, 2, 3, 4, 5, 6, 7, 8, 9, 10, 5, 7, 8, 10, 4, 4, 7, 9, 3, 2, 5, 9, 9, 2, 2, 5, 10, 1, 2, 4, 8, 9, 10, 1, 2, 2, 4, 5, 8, 7, 4, 8, 1, 1, 2, 4, 5, 6, 8, 9, 10, 4, 5, 8, 4, 3, 2, 5, 6, 1, 3, 5, 8, 9, 10, 10, 7, 2, 6, 1, 5, 10, 9, 10, 3, 9, 5, 8, 3, 7, 1, 2, 5, 7, 1, 2, 4, 5, 8, 10, 7, 9, 9, 10, 9, 2, 4, 6, 7, 9, 10, 1, 4, 9, 10, 1, 2, 4, 5, 6, 7, 9, 10, 4, 10, 1, 2, 4, 5, 6, 8, 9, 10, 5, 2, 1, 7, 8, 9, 10, 6, 7, 1, 9, 4, 8, 1, 4, 5, 6, 8, 9, 10, 5, 2, 3, 4, 6, 10, 1, 5, 6, 5, 1, 5, 5, 1, 2, 5, 8, 9, 10, 2, 5, 6, 8, 9, 10, 5, 4, 7, 10, 1, 10, 4, 5, 6, 7, 10, 5, 9, 10, 1, 4, 10, 9, 8, 5, 6, 7, 10, 1, 2, 5, 10, 5, 7, 3, 3, 10, 2, 7, 9, 10, 1, 4, 7, 1, 1, 2, 4, 5, 6, 7, 8, 10, 10, 6, 2, 5, 9], \"Freq\": [0.9465712435266089, 0.04027962738411102, 0.9825720454779301, 0.9939044922017182, 0.032137015001887724, 0.8934090170524788, 0.07070143300415299, 0.9895177712632037, 0.9877211422129518, 0.9914602718304917, 0.6395113292548726, 0.2507887565705383, 0.003134859457131729, 0.025078875657053832, 0.08150634588542495, 0.997182785647742, 0.9925436902111218, 0.996706479129185, 0.9952434055468312, 0.9969629889396103, 0.990893730417024, 0.003822331357587348, 0.9938061529727106, 0.9969326580420758, 0.010719663956288279, 0.987995694637903, 0.0016001786980919413, 0.9985115076093714, 0.9990061260283798, 0.028802137500188573, 0.05059834966249344, 0.02958057364884232, 0.6352038973014561, 0.007784361486537452, 0.2459858229745835, 0.0023353084459612357, 0.14142007481144872, 0.22750185947928708, 0.2592701371543227, 0.3166579935995482, 0.05431350699280277, 0.04052191447171809, 0.11143526479722475, 0.8408297252881504, 0.9984830056876167, 0.9962412669907525, 0.9951321801219293, 0.9715180524992155, 0.027669817950927024, 0.2527008310769881, 0.7470554623642107, 0.032196044277684965, 0.965881328330549, 0.0008701633588563504, 0.019342341548135387, 0.9800119717721929, 0.9899288601279038, 0.9869625736499875, 0.9973499628253637, 0.9665825089469806, 0.9869594852350354, 0.9929210897624337, 0.9940099853508311, 0.027778550740591747, 0.6190648450760446, 0.07936728783026213, 0.03571527952361796, 0.23810186349078638, 0.9704157495003598, 0.991736414741365, 0.9911153287371932, 0.9825720426607019, 0.33806616418508884, 0.01364863395778309, 0.15328465829510238, 0.07034295962857438, 0.022047793316418835, 0.20472950936674633, 0.003149684759488405, 0.022047793316418835, 0.17113287193220336, 0.9897052324490244, 0.86077119368672, 0.11106725079828644, 0.02776681269957161, 0.21156840135167085, 0.783586671672855, 0.9973240035833114, 0.8324167670967185, 0.1615867842011277, 0.9910509052687234, 0.8848044327019605, 0.011566071015711901, 0.10409463914140711, 0.9912924032619548, 0.09263529808472348, 0.04139023956977007, 0.4336120335880673, 0.00197096378903667, 0.07292566019435678, 0.009854818945183348, 0.017738674101330027, 0.33112191655816053, 0.9975493493002222, 0.9822022273826422, 0.9990821182392963, 0.9861211521457096, 0.6651574360179472, 0.3165508279844448, 0.018031376277594956, 0.9952110107830737, 0.9987908188079341, 0.3596285556724513, 0.017125169317735774, 0.29683626817408676, 0.051375507953207326, 0.005708389772578592, 0.2740027090837724, 0.9974256187459789, 0.0009465032115358283, 0.29909501484532175, 0.025555586711467362, 0.33979465294136235, 0.0009465032115358283, 0.33411563367214736, 0.0018051724939528889, 0.11914138460089066, 0.8791190045550569, 0.9997479041373841, 0.9780695721158191, 0.9963755952379485, 0.9958721838241406, 0.6588716964052626, 0.15870632103192456, 0.12985062629884736, 0.04809282455512866, 0.019251478313705616, 0.9625739156852807, 0.13744242948552224, 0.2748848589710445, 0.010572494575809402, 0.4969072450630419, 0.08457995660647522, 0.2227454365052534, 0.11582762698273177, 0.655762565071466, 0.0035639269840840545, 0.9193185622940548, 0.06489307498546269, 0.01442068333010282, 0.05212727219371633, 0.18148013282256797, 0.16217373571378416, 0.28637822378029343, 0.13643187290207237, 0.03732570107698206, 0.01930639710878383, 0.1254915812070949, 0.996455539596776, 0.014686151287692774, 0.9399136824123375, 0.029372302575385548, 0.014686151287692774, 0.9996603012408536, 0.9903876870242951, 0.001021236156927241, 0.9599619875116064, 0.013276070040054133, 0.0224671954523993, 0.0030637084707817227, 0.10334840570120936, 0.7148912274068617, 0.00025901856065466003, 0.10749270267168391, 0.07278421554395947, 0.0012950928032733002, 0.07202861594077689, 0.10218012959040441, 0.01675084091645974, 0.8073905321733595, 0.001675084091645974, 0.9941533974782406, 0.07084206722438001, 0.8453820022109348, 0.08028767618763068, 0.048587007201172636, 0.9474466404228663, 0.08918538902583961, 0.6318700675321278, 0.27681125461793615, 0.0008413715945833925, 0.9941740081023585, 0.9874811270642145, 0.986051701193139, 0.9983610162520608, 0.9939704948649818, 0.9905132825612709, 0.1768498285939722, 0.1425100560514533, 0.5065116450021534, 0.1734158513397203, 0.9997742454735751, 0.9971791909845164, 0.8214445112048581, 0.08524424172880603, 0.015498953041601095, 0.07749476520800548, 0.027465097261903607, 0.006866274315475902, 0.8239529178571081, 0.13045921199404212, 0.19604924962974596, 0.0019604924962974596, 0.17056284717787898, 0.025486402451866973, 0.0019604924962974596, 0.6038316888596175, 0.9028350720250288, 0.09028350720250287, 0.9830944835269472, 0.9779812021696139, 0.9971563830552337, 0.9969032808209747, 0.9991440603624511, 0.9950402078791787, 0.7702546571453611, 0.02200727591843889, 0.06052000877570694, 0.1430472934698528, 0.03766433657332081, 0.9416084143330201, 0.009416084143330202, 0.009416084143330202, 0.9799201782495941, 0.992355062918058, 0.012400352375169184, 0.987068049063467, 0.9760470218106815, 0.03650576914661543, 0.45023781947492364, 0.04345924898406599, 0.46762151906855004, 0.10109587987121318, 0.004931506335181131, 0.6386300704059564, 0.17013696856374902, 0.08383560769807923, 0.7817388738745533, 0.2076493883729282, 0.004071556634763298, 0.5545288265545584, 0.1262902089461727, 0.09414361030532875, 0.016073299320421983, 0.03214659864084397, 0.17565819971604024, 0.051157457896156965, 0.9144395598938058, 0.031973411185098104, 0.974026489069394, 0.9825720401459141, 0.9969994844214767, 0.9995655888490623, 0.9996168367354114, 0.9975456625277432, 0.9987099364872517, 0.04505527950323173, 0.9461608695678664, 0.9940526284960342, 0.9961728824438323, 0.9752935383403877, 0.02031861538209141, 0.17478283219021834, 0.8218511896603884, 0.9913231443194787, 0.23782999932403884, 0.6955405640608683, 0.0673103771671808, 0.13345288639601302, 0.035929623260465046, 0.005132803322923578, 0.7185924652093009, 0.10778886978139512, 0.15405674557996582, 0.5607665539110755, 0.12016426155237334, 0.015405674557996582, 0.14481334084516786, 0.986661881847357, 0.9246718253729956, 0.07626159384519551, 0.9942259644823698, 0.7403187239633868, 0.026322443518698196, 0.2336116862284465, 0.761076049432685, 0.1424845571997264, 0.020851398614594112, 0.07297989515107939, 0.9765141211581363, 0.16017222754181654, 0.04130757447131058, 0.17281740340038101, 0.03287745723226761, 0.5926372419047212, 0.5926262988423475, 0.29050308766781746, 0.1132962041904488, 0.984935563129854, 0.03180022329414197, 0.9679192965154463, 0.9998933650142149, 0.9961052558062494, 0.9997521874123119, 0.9904463126439603, 0.21653312276341433, 0.07346659522330129, 0.0019333314532447709, 0.3847329591957094, 0.028999971798671562, 0.0038666629064895417, 0.017399983079202937, 0.27646639781400223, 0.16862436370591005, 0.6666544611629002, 0.003921496830370001, 0.003921496830370001, 0.15685987321480005, 0.9959520589368982, 0.2324531473535569, 0.7656194932676675, 0.16550752899113425, 0.01446182292155542, 0.003213738427012315, 0.36154557303888546, 0.008034346067530788, 0.020889299775580048, 0.03374425348362931, 0.2121067361828128, 0.03856486112414778, 0.14140449078854186, 0.9925271168152211, 0.05334573887865743, 0.7318245066909153, 0.10629632413599147, 0.10787693862128502, 0.00039515362132338833, 0.9976188185034033, 0.9915173345046057, 0.9858820541099899, 0.9974554554238773, 0.01830915818836892, 0.9703853839835528, 0.9914365080296621, 0.9938674994744502, 0.9982940062756075, 0.9806215565577681, 0.9934941852597666, 0.9739435598511156, 0.9967656917549925, 0.9538360340133731, 0.9934453213048248, 0.9925420612770176, 0.9918694452509635, 0.9908396677640432, 0.9971481160779031, 0.9944537895086446, 0.9958721877306119, 0.9839644213062778, 0.984072513723821, 0.984072863317894, 0.9596409596920029, 0.9723076771792466, 0.97929637086855, 0.9872206657081423, 0.9972282385273011, 0.9955990277248546, 0.9925420634940817, 0.9892630974973629, 0.9848719562730794, 0.9740266673453357, 0.9848720535955621, 0.97430012379996, 0.9966271354482465, 0.9936126762985394, 0.9962298766470402, 0.9913745101120541, 0.9802561710667623, 0.9926655866879079, 0.9972705824071973, 0.9950370284106791, 0.9833391165159404, 0.9854347987524202, 0.9946213478839925, 0.9632721597587841, 0.9840726914849667, 0.9941504808929472, 0.9935705512347212, 0.9767901221439506, 0.9901177398166988, 0.9979172873194059, 0.9901729764000736, 0.9929792734646243, 0.9715570329241774, 0.9890540641542079, 0.9912924110801512, 0.9928729971763556, 0.9910315872113028, 0.9991320156109956, 0.9987839765372769, 0.19352050615889682, 0.1969156027581757, 0.0033950965992788915, 0.6043271946716428, 0.9832542634203253, 0.9838670657268991, 0.04220971884429991, 0.0043292019327487085, 0.7056599150380395, 0.0010823004831871771, 0.07034953140716652, 0.007576103382310241, 0.16883887537719963, 0.9967891151659546, 0.734800374630218, 0.06911488672264426, 0.1746060296151013, 0.018188128084906385, 0.9970199170129028, 0.995919965204464, 0.9944881472057198, 0.9902915886124397, 0.9935224378319532, 0.9956303509769048, 0.10446989164429864, 0.055182570519790586, 0.0915155238744074, 0.11729775191643702, 0.256076476951307, 0.06699837080990621, 0.061204327412825964, 0.04536558869416989, 0.049565637619564305, 0.15228972579487368, 0.996070337899941, 0.9935040114453719, 0.006685070619068868, 0.419153927815618, 0.01871819773339283, 0.026071775414368586, 0.5287890859683475, 0.10971230770314543, 0.13896892309065087, 0.24380512822921208, 0.05119907692813453, 0.021942461540629087, 0.43153507696570537, 0.9714837975845253, 0.08139079497880179, 0.4005953190362901, 0.001271731171543778, 0.51505112447523, 0.3503781601859213, 0.6398209881655953, 0.9538362226801094, 0.9944881367211426, 0.9841486242499903, 0.982938193744333, 0.01424548106875845, 0.002374246844793075, 0.9882263011908968, 0.9936709602182527, 0.0973230098313754, 0.04325467103616684, 0.6055653945063358, 0.24871435845795933, 0.99629474105707, 0.9874136545936979, 0.9979562491693152, 0.9967150974324527, 0.022886215442389828, 0.10870952335135167, 0.1945328312603135, 0.33185012391465246, 0.005721553860597457, 0.32612857005405504, 0.9863048353964567, 0.9784490162157287, 0.17417536746890952, 0.006699052594958059, 0.6029147335462253, 0.016747631487395147, 0.04354384186722738, 0.15407820968403535, 0.9820627859007264, 0.9872470169039683, 0.9900914585488635, 0.9937941148922997, 0.9976008926961661, 0.9962314768622373, 0.9892511269388782, 0.9932332180832426, 0.9934091297204748, 0.002676874141094194, 0.9609978166528157, 0.002676874141094194, 0.013384370705470971, 0.01873811898765936, 0.9899896334606321, 0.05284354707139013, 0.032387980463110075, 0.02045556660828005, 0.05284354707139013, 0.01704630550690004, 0.8233365559832719, 0.7220507356568081, 0.2145716808791458, 0.0613061945368988, 0.6068208018985212, 0.3560684044197934, 0.03009028769744733, 0.3475345705732636, 0.005792242842887726, 0.39503096188494297, 0.0011584485685775454, 0.0023168971371550907, 0.05213018558598954, 0.19577780808960515, 0.005352408855318815, 0.9901956382339808, 0.21946098368501574, 0.7795140134785948, 0.9948983465124562, 0.9926428117908603, 0.016027178187395505, 0.6250599493084247, 0.03606115092163988, 0.2003397273424438, 0.1161970418586174, 0.991022580679456, 0.1207243155486115, 0.3707090093613929, 0.13047981579496395, 0.014633250369528667, 0.36339238417662856, 0.13144730711998961, 0.04062916765526952, 0.021509559346907393, 0.8054134999897546, 0.3540968624497307, 0.02766381737888521, 0.37991642533669023, 0.0018442544919256808, 0.08114719764472995, 0.15491737732175717, 0.9917729519179881, 0.5174924046238928, 0.48079081564347487, 0.9930749467890767, 0.9923037559621569, 0.9788178558722904, 0.9937197659579179, 0.9943798820208861, 0.04323021560009734, 0.10189979391451516, 0.8522528218304904, 0.0016831111178125843, 0.10435288930438023, 0.8920488924406696, 0.9965487325609786, 0.9986301013952975, 0.99009144453122, 0.3438047167825709, 0.6542303348483873, 0.9962191960619191, 0.9958682079723907, 0.9962916584014712, 0.9997408670987346, 0.9958984341261301, 0.5590245260202829, 0.43974222269748364, 0.9952940160846819, 0.0652427934662641, 0.008699039128835214, 0.9220981476565326, 0.014903495325320407, 0.9687271961458265, 0.9971707209149159, 0.9964989152165948, 0.19090026373173874, 0.0520637082904742, 0.13015927072618552, 0.6160872147706115, 0.012655289000247979, 0.07276791175142588, 0.9111808080178545, 0.9868795734837504, 0.9969710559525212, 0.13687143425564352, 0.6790928853453083, 0.18425000765182784, 0.9902847211261705, 0.9867955629366998, 0.9954786189439488, 0.09266170239726366, 0.00243846585255957, 0.7973783337869794, 0.02926159023071484, 0.07803090728190624, 0.9837515525552252, 0.1291345657759443, 0.17888312800110315, 0.40328089803798994, 0.008997080402422348, 0.04180996187008032, 0.10320180461602105, 0.00952632042609425, 0.12490064558656906, 0.6849574429759749, 0.11860734943306926, 0.011860734943306925, 0.06226885845236136, 0.11860734943306926, 0.9856488480093775, 0.7893527981182914, 0.17902846967631353, 0.024412973137679116, 0.9989814523090285, 0.9978315267457347, 0.9997614562564554, 0.05493630533758731, 0.7160031795665546, 0.031130573024632808, 0.19777069921531432, 0.9667152191376319, 0.992533502252107, 0.9660595387683659, 0.2021121667650394, 0.04151493155173783, 0.6281864642697171, 0.004369992794919771, 0.029497451365708454, 0.0021849963974598856, 0.0917698486933152, 0.9898993151133679, 0.9988684884582989, 0.9550775219923167, 0.0389827559996864, 0.9867955619218512, 0.689157730842221, 0.28956207178244575, 0.017373724306946746, 0.9891216094452249, 0.9825507954622533, 0.9806097194637917, 0.18447329391289247, 0.4779535342288577, 0.10621189649530172, 0.11459704621861501, 0.04192574861656647, 0.002795049907771098, 0.005590099815542196, 0.06708119778650636, 0.9913231560324341, 0.08405501286093074, 0.09557868397896156, 0.16811002572186148, 0.5721163778598835, 0.07863210880538682, 0.9950110484054684, 0.9897128858973742, 0.8778908153486934, 0.04027022088755475, 0.07248639759759853, 0.7421774778092992, 0.07827653086269953, 0.17684697713424707, 0.9938370796090226, 0.9962499514819517, 0.9962891674728686, 0.9785836455503572, 0.9698379178243306, 0.0799041417844781, 0.7790653823986615, 0.009988017723059763, 0.12485022153824704, 0.9965269001908114, 0.9886634589956059, 0.9605575033694166, 0.9963755941651669, 0.9905485417576879, 0.9886355948639338, 0.004641662815161279, 0.1531748729003222, 0.018566651260645117, 0.8169326554683851, 0.9849496557224526, 0.018319533118847785, 0.33585810717887604, 0.6452546665194164, 0.002035503679871976, 0.9981879253621541, 0.9965036432210091, 0.994013835324676, 0.9956788900053329, 0.0031409428706792837, 0.9844410708962833, 0.9881069897051842, 0.003740937331473263, 0.9165296462109495, 0.05985499730357221, 0.014963749325893052, 0.18578483990924555, 0.8106974832403442, 0.9899716815242098, 0.9925822817351725, 0.9967725738523934, 0.6018002843939113, 0.3741886916825508, 0.023833674629461832, 0.9914485945816002, 0.9836684059246568, 0.9825720383719941, 0.15560699826371677, 0.2531910480223188, 0.03164888100278985, 0.2901147425255736, 0.13187033751162439, 0.013187033751162437, 0.12395811726092691, 0.9882427605228503, 0.9901177396147762, 0.9131623364204218, 0.07972052143352888, 0.1033275121251871, 0.09028934024819188, 0.0421295928775408, 0.10764640655944176, 0.00847481172004689, 0.09330441749474702, 0.17177791447941199, 0.05981261348571556, 0.07048761671000539, 0.2526960686910136, 0.9990505366876301, 0.08490129607066742, 0.004716738670592634, 0.9103305634243783, 0.9923770675571769, 0.37163677703338555, 0.054121860733017314, 0.5736917237699836, 0.984895195839007, 0.9959835918969449, 0.9986355233068497, 0.9921248041836565, 0.9783308338787496, 0.991090062776342, 0.536536544939975, 0.3778426372816726, 0.07934695382915125, 0.2091230490727365, 0.06847391872293142, 0.3701292903942239, 0.1647075342254296, 0.10363620131038268, 0.08327909033870037, 0.09538279357448422, 0.898187972826393, 0.02639855706554769, 0.002639855706554769, 0.5570095540830562, 0.41181749022254394, 0.997492650499271, 0.988033092081757, 0.9825720531867326, 0.9793376779899199, 0.0035084697794201206, 0.007016939558840241, 0.04911857691188169, 0.09122021426492313, 0.014033879117680483, 0.5648636344866395, 0.07367786536782253, 0.19647430764752677, 0.08210327162886637, 0.9155758775582674, 0.9937082479505295, 0.98347405064473, 0.9996243143613623, 0.9981345766923523, 0.9995575862375544, 0.9982372169879942, 0.9959872930543854, 0.9896829131189295, 0.23964406380473238, 0.02054091975469135, 0.10955157202502053, 0.6264980525180861, 0.9919503152341745, 0.9947373227591676, 0.9892557287316036, 0.9987316246685717, 0.00333672980958935, 0.9576414553521435, 0.036704027905482856, 0.1819487302305678, 0.8174879569514243, 0.9578094984861607, 0.9863916093067123, 0.003762089596997417, 0.9931916536073181, 0.9995158524717612, 0.9890120292096501, 0.024433249825496817, 0.05658226275378211, 0.8435900992382059, 0.07329974947649046, 0.3316615006403509, 0.12315371898777736, 0.05974784386535733, 0.3816545944868744, 0.034141625065918474, 0.06950259388419118, 0.9937171420372416, 0.992102235862902, 0.8966476736518827, 0.08539501653827454, 0.9883087553747177, 0.0025808218153919303, 0.025808218153919302, 0.023227396338527374, 0.3819616286780057, 0.3071177960316397, 0.25808218153919305, 0.5619482844768203, 0.12651191744766113, 0.07061130276148528, 0.2412552844350747, 0.04276142035160889, 0.0026725887719755556, 0.7723781551009355, 0.06414213052741333, 0.0026725887719755556, 0.005345177543951111, 0.0026725887719755556, 0.10690355087902222, 0.9399214619660732, 0.047590960099548, 0.2041435125708115, 0.08076007090713422, 0.37015032499103184, 0.029163358938687357, 0.008973341211903803, 0.058326717877374715, 0.013460011817855704, 0.23555020681247482, 0.9938368481070898, 0.9951409119219634, 0.3760187950107623, 0.016437980109760098, 0.07191616298020044, 0.036985455246960224, 0.497248898320243, 0.9830727139418167, 0.9889675833005774, 0.05589355289069842, 0.9412474306793613, 0.9761434297605102, 0.9825720550145026, 0.0980128846699973, 0.27176299840317436, 0.0014850437071211714, 0.0623718356990892, 0.19008559451150994, 0.08316244759878559, 0.29255361030287075, 0.999099612026029, 0.04906159871445915, 0.42753678879742973, 0.22428159412324183, 0.2032551946741879, 0.091114397612567, 0.000852178994124034, 0.17980976776017116, 0.8180918343590726, 0.997183001728559, 0.00608312070207971, 0.9915486744389929, 0.9899929665815212, 0.000986013011493851, 0.025636338298840124, 0.8686774631260826, 0.02169228625286472, 0.08282509296548347, 0.000986013011493851, 0.1405489800468653, 0.16419273369960902, 0.03546563047911555, 0.3375802604863961, 0.3034281718768775, 0.01838958617435621, 0.9986562419892164, 0.9505214331393551, 0.006212558386531733, 0.04348790870572213, 0.9947499867009373, 0.9889778944932552, 0.6873053518130648, 0.07460880463760243, 0.0011304364339030672, 0.0033913093017092014, 0.23173946895012879, 0.0059366928208768365, 0.872693844668895, 0.12467054923841357, 0.005243732021856341, 0.8180221954095891, 0.1677994246994029, 0.9882578921904316, 0.9863740509515817, 0.16053391175908377, 0.7915982545361717, 0.04151739097217684, 0.005535652129623579, 0.8622916113203769, 0.009634543143244434, 0.10597997457568878, 0.01926908628648887, 0.07934101687009512, 0.9168295282766548, 0.9836684072426255, 0.9570607838633395, 0.042566063807547044, 0.4947983720022055, 0.18989559141706264, 0.016047514767639097, 0.2995536089959298, 0.5966790518181444, 0.3829432720623912, 0.017811314979646102, 0.9935803946876134, 0.001055053633822709, 0.03411340082693426, 0.00035168454460756966, 0.7868941685594371, 0.0012308959061264938, 0.018463438591897408, 0.14665245510135655, 0.011253905427442229, 0.9961650390384676, 0.9941955706920107, 0.12488194735575556, 0.5254179492406789, 0.34875568224961007], \"Term\": [\"0000\", \"0000\", \"10pm\", \"140cv\", \"1500\", \"1500\", \"1500\", \"155\", \"1945\", \"19800\", \"20\", \"20\", \"20\", \"20\", \"20\", \"2000\", \"2002\", \"2005\", \"2006\", \"2008\", \"2009\", \"2011\", \"2011\", \"2012\", \"2014\", \"2014\", \"2015\", \"2015\", \"2016\", \"2017\", \"2017\", \"2017\", \"2017\", \"2017\", \"2017\", \"2017\", \"2018\", \"2018\", \"2018\", \"2018\", \"2018\", \"22\", \"22\", \"22\", \"2pcs\", \"36l\", \"4door\", \"4dr\", \"4dr\", \"4wd\", \"4wd\", \"4x4\", \"4x4\", \"4x4\", \"50\", \"50\", \"54\", \"599999\", \"600\", \"707\", \"93yoongi93\", \"active\", \"actually\", \"adventure\", \"adventure\", \"adventure\", \"adventure\", \"adventure\", \"aishambuhari\", \"aka\", \"alexander\", \"alyssa\", \"amp\", \"amp\", \"amp\", \"amp\", \"amp\", \"amp\", \"amp\", \"amp\", \"amp\", \"an0nrav\", \"ang\", \"ang\", \"ang\", \"army\", \"army\", \"around\", \"as\", \"as\", \"audition\", \"away\", \"away\", \"away\", \"aylssa\", \"back\", \"back\", \"back\", \"back\", \"back\", \"back\", \"back\", \"back\", \"bad\", \"baltistan\", \"bamboo\", \"band\", \"beep\", \"beep\", \"beep\", \"begin\", \"better\", \"big\", \"big\", \"big\", \"big\", \"big\", \"big\", \"bitemekiki\", \"black\", \"black\", \"black\", \"black\", \"black\", \"black\", \"blue\", \"blue\", \"blue\", \"body\", \"border\", \"bordo\", \"braceythedog\", \"brand\", \"brand\", \"brand\", \"brand\", \"broke\", \"broke\", \"brother\", \"brother\", \"brother\", \"brother\", \"brother\", \"buy\", \"buy\", \"buy\", \"buy\", \"cant\", \"cant\", \"cant\", \"car\", \"car\", \"car\", \"car\", \"car\", \"car\", \"car\", \"car\", \"cat\", \"cause\", \"cause\", \"cause\", \"cause\", \"chance\", \"changed\", \"check\", \"check\", \"check\", \"check\", \"check\", \"cherokee\", \"cherokee\", \"cherokee\", \"cherokee\", \"cherokee\", \"cherokee\", \"chrysler\", \"chrysler\", \"chrysler\", \"chrysler\", \"chrysler\", \"cimgoi\", \"color\", \"color\", \"color\", \"combo\", \"combo\", \"compass\", \"compass\", \"compass\", \"compass\", \"confident\", \"confirmed\", \"confused\", \"convey\", \"crazy\", \"crd\", \"credit\", \"credit\", \"credit\", \"credit\", \"cross\", \"cry\", \"customer\", \"customer\", \"customer\", \"customer\", \"dad\", \"dad\", \"dad\", \"dad\", \"day\", \"day\", \"day\", \"day\", \"day\", \"day\", \"dealer\", \"dealer\", \"dear\", \"death\", \"debtenator\", \"debut\", \"decal\", \"demon\", \"detroitpistons\", \"detroitpistons\", \"detroitpistons\", \"detroitpistons\", \"didnt\", \"didnt\", \"didnt\", \"didnt\", \"dm\", \"document\", \"dodge\", \"dodge\", \"domestic\", \"dont\", \"dont\", \"dont\", \"dont\", \"door\", \"door\", \"door\", \"door\", \"door\", \"dream\", \"dream\", \"dream\", \"drive\", \"drive\", \"drive\", \"drive\", \"drive\", \"drive\", \"driver\", \"driver\", \"driver\", \"dsharpruns\", \"dtu4\", \"dylan\", \"ebay\", \"entered\", \"euro\", \"even\", \"export\", \"export\", \"f\", \"fact\", \"far\", \"far\", \"faster\", \"faster\", \"filipina\", \"finally\", \"finally\", \"finally\", \"find\", \"find\", \"find\", \"find\", \"find\", \"first\", \"first\", \"first\", \"first\", \"first\", \"fleet\", \"floureedah\", \"floureedah\", \"foil\", \"g\", \"g\", \"g\", \"game\", \"game\", \"game\", \"game\", \"gb\", \"get\", \"get\", \"get\", \"get\", \"get\", \"getting\", \"getting\", \"getting\", \"gilgit\", \"girl\", \"girl\", \"giveaway\", \"giving\", \"glittering\", \"gmanetwork\", \"go\", \"go\", \"go\", \"go\", \"go\", \"go\", \"go\", \"go\", \"going\", \"going\", \"going\", \"going\", \"going\", \"gold\", \"good\", \"good\", \"got\", \"got\", \"got\", \"got\", \"got\", \"got\", \"got\", \"got\", \"got\", \"got\", \"govt\", \"grand\", \"grand\", \"grand\", \"grand\", \"grand\", \"graphic\", \"gthummer\", \"guide\", \"happiness\", \"happybirthday\", \"happybirthday\", \"hayleykiyoko\", \"heat\", \"hell\", \"historyinpix\", \"holyjeeps\", \"horseback\", \"httpstco0tqb1utgh3\", \"httpstco1vt8otvf8t\", \"httpstco2ob8sjpagd\", \"httpstco3tqcratygf\", \"httpstco4mwvr8xzvm\", \"httpstco5v3txzhez7\", \"httpstco685ffiofnl\", \"httpstco6fkyq5sbjs\", \"httpstco6pavbshjzp\", \"httpstco7dgtb5929d\", \"httpstco8rarphstux\", \"httpstco9ukycaovk5\", \"httpstcoaikoosbmyl\", \"httpstcoamyegz7y7t\", \"httpstcoawqvvwhbjt\", \"httpstcobboyj9xhct\", \"httpstcobvgln4ayie\", \"httpstcod2dyqnr1t3\", \"httpstcodhhqeepg0q\", \"httpstcoe3hhhodx2p\", \"httpstcoeqexjcyazg\", \"httpstcofeejue6mxy\", \"httpstcohndpki5v39\", \"httpstcoigun39a4hy\", \"httpstcoizkymbnrsh\", \"httpstcojg5ecber6c\", \"httpstcokl0oc8xvof\", \"httpstcom4mjle3tbc\", \"httpstcomhjllamcmd\", \"httpstcomtfwd7wjoi\", \"httpstcon65v0hjtbd\", \"httpstcoohn8jwavuk\", \"httpstcooqi429o1ax\", \"httpstcop8uq4uo522\", \"httpstcopdfmvgpius\", \"httpstcoprki3k6he1\", \"httpstcoqhfbj42ak2\", \"httpstcoqrr99j7vyf\", \"httpstcos99npxakbl\", \"httpstcosakwouxyjj\", \"httpstcosjarj6enuc\", \"httpstcospvgwleeup\", \"httpstcot5q2hxkdng\", \"httpstcoteb\", \"httpstcou0fh0q0zsn\", \"httpstcovtmjzcxnfe\", \"httpstcox0awvuv6z6\", \"httpstcox58ir0tezx\", \"httpstcoy6p4ds0f2c\", \"httpstcoyipkreck1n\", \"hummer\", \"id\", \"id\", \"id\", \"id\", \"idris\", \"igp\", \"im\", \"im\", \"im\", \"im\", \"im\", \"im\", \"im\", \"in\", \"india\", \"india\", \"india\", \"india\", \"internationally\", \"inventory\", \"iwo\", \"jackj\", \"jaime\", \"january\", \"jeep\", \"jeep\", \"jeep\", \"jeep\", \"jeep\", \"jeep\", \"jeep\", \"jeep\", \"jeep\", \"jeep\", \"jeepahoiics\", \"jeepfamily\", \"jeeplife\", \"jeeplife\", \"jeeplife\", \"jeeplife\", \"jeeplife\", \"jeepmafia\", \"jeepmafia\", \"jeepmafia\", \"jeepmafia\", \"jeepmafia\", \"jeepmafia\", \"jeeppicsdaiiy\", \"jeepporn\", \"jeepporn\", \"jeepporn\", \"jeepporn\", \"jeepsiesblog\", \"jeepsiesblog\", \"jeepwaver\", \"jima\", \"jinyoung\", \"jk\", \"jk\", \"jk\", \"jl\", \"johnjohnflorenc\", \"join\", \"join\", \"join\", \"join\", \"junho\", \"jus\", \"justforyousweepstakes\", \"kameronbennett\", \"keep\", \"keep\", \"keep\", \"keep\", \"keep\", \"keep\", \"khnjirab\", \"knew\", \"know\", \"know\", \"know\", \"know\", \"know\", \"know\", \"known\", \"korean\", \"kovalam\", \"kristen\", \"kylie\", \"laredo\", \"latest\", \"leader\", \"lee\", \"liberty\", \"liberty\", \"liberty\", \"liberty\", \"liberty\", \"licensed\", \"life\", \"life\", \"life\", \"life\", \"life\", \"life\", \"lift\", \"lift\", \"lift\", \"lifted\", \"lifted\", \"lifted\", \"like\", \"like\", \"like\", \"like\", \"like\", \"like\", \"like\", \"liked\", \"liked\", \"limited\", \"limited\", \"livin\", \"locksmith\", \"lol\", \"lol\", \"lol\", \"lol\", \"lol\", \"london\", \"look\", \"look\", \"look\", \"look\", \"look\", \"looking\", \"looking\", \"looking\", \"looking\", \"love\", \"love\", \"love\", \"love\", \"love\", \"love\", \"lucky\", \"luxbucketlist\", \"luxbucketlist\", \"luxurycars\", \"lyricsartph\", \"m1960a07\", \"madeinindia\", \"madprincejy\", \"mailonline\", \"mailonline\", \"mailonline\", \"make\", \"make\", \"make\", \"makeinindia\", \"making\", \"marching\", \"matte\", \"matte\", \"mean\", \"member\", \"meoripcurlpro\", \"messenger\", \"might\", \"mile\", \"mile\", \"mind\", \"miss\", \"miss\", \"miss\", \"missing\", \"missing\", \"mjt\", \"money\", \"mopar\", \"mopar\", \"mopar\", \"mopar\", \"morning\", \"morning\", \"morning\", \"motorbike\", \"music\", \"n\", \"n\", \"n\", \"named\", \"natalie\", \"nature\", \"need\", \"need\", \"need\", \"need\", \"need\", \"nepal\", \"new\", \"new\", \"new\", \"new\", \"new\", \"new\", \"new\", \"new\", \"next\", \"next\", \"next\", \"next\", \"next\", \"nextgen\", \"ng\", \"ng\", \"ng\", \"nigeria\", \"november\", \"nowa\", \"offroad\", \"offroad\", \"offroad\", \"offroad\", \"ok\", \"okay\", \"olawoyin4u\", \"one\", \"one\", \"one\", \"one\", \"one\", \"one\", \"one\", \"opportunity\", \"oracal\", \"order\", \"order\", \"outlast\", \"overland\", \"overland\", \"overland\", \"pakchina\", \"pakistan\", \"parade\", \"part\", \"part\", \"part\", \"part\", \"part\", \"part\", \"part\", \"part\", \"philippinesa\", \"photo\", \"photo\", \"photo\", \"photo\", \"photo\", \"pink\", \"plant\", \"player\", \"player\", \"player\", \"please\", \"please\", \"please\", \"pop\", \"portugal\", \"power\", \"prado\", \"preferably\", \"presented\", \"presented\", \"presented\", \"presented\", \"price\", \"pro\", \"profit\", \"prueba\", \"pune\", \"purchase\", \"put\", \"put\", \"put\", \"put\", \"rally\", \"ram\", \"ram\", \"ram\", \"ram\", \"rather\", \"raw\", \"raygunvoss\", \"ready\", \"ready\", \"realdonaldtrump\", \"reallllyyyyy\", \"really\", \"really\", \"really\", \"really\", \"reason\", \"reason\", \"receive\", \"recently\", \"reflection\", \"renegade\", \"renegade\", \"renegade\", \"reveal\", \"revillame\", \"riverbends\", \"road\", \"road\", \"road\", \"road\", \"road\", \"road\", \"road\", \"roadshow\", \"roughin\", \"rpx53\", \"rpx53\", \"rt\", \"rt\", \"rt\", \"rt\", \"rt\", \"rt\", \"rt\", \"rt\", \"rt\", \"rt\", \"rubicon\", \"rugged\", \"rugged\", \"rugged\", \"rural\", \"sa\", \"sa\", \"sa\", \"sabi\", \"sabit\", \"sahara\", \"sand\", \"scammer\", \"season\", \"seat\", \"seat\", \"seat\", \"see\", \"see\", \"see\", \"see\", \"see\", \"see\", \"seen\", \"seen\", \"set\", \"set\", \"set\", \"set\", \"sexy\", \"shashitharoor\", \"shelbytwp911\", \"shopdealstoday\", \"show\", \"show\", \"show\", \"show\", \"show\", \"show\", \"show\", \"show\", \"side\", \"side\", \"siiiybae\", \"simple\", \"small\", \"sold\", \"sport\", \"spotted\", \"sprint\", \"squad\", \"srt8\", \"srt8\", \"srt8\", \"srt8\", \"srtporn\", \"stance\", \"stare\", \"stick\", \"sticker\", \"sticker\", \"sticker\", \"stuck\", \"stuck\", \"sued\", \"sumabit\", \"summit\", \"summit\", \"sun\", \"supercars\", \"suv\", \"suv\", \"suv\", \"suv\", \"take\", \"take\", \"take\", \"take\", \"take\", \"take\", \"teal\", \"technically\", \"technician\", \"technician\", \"thefacesofjeep\", \"thejeepmafia\", \"thejeepmafia\", \"thejeepmafia\", \"thejeepmafia\", \"thejeepmafia\", \"thejeepmafia\", \"thing\", \"thing\", \"thing\", \"thing\", \"think\", \"think\", \"think\", \"think\", \"think\", \"think\", \"think\", \"think\", \"thought\", \"thought\", \"time\", \"time\", \"time\", \"time\", \"time\", \"time\", \"time\", \"time\", \"tj\", \"tobias31\", \"today\", \"today\", \"today\", \"today\", \"today\", \"tonka\", \"topjeeper\", \"trackhawk\", \"trackhawk\", \"try\", \"trzasko\", \"u\", \"u\", \"u\", \"u\", \"u\", \"u\", \"u\", \"unlimited\", \"ur\", \"ur\", \"ur\", \"ur\", \"ur\", \"used\", \"used\", \"used\", \"utility\", \"v6\", \"v6\", \"v8\", \"via\", \"via\", \"via\", \"via\", \"via\", \"via\", \"video\", \"video\", \"video\", \"video\", \"video\", \"video\", \"vinyl\", \"wait\", \"wait\", \"wait\", \"waiting\", \"walked\", \"want\", \"want\", \"want\", \"want\", \"want\", \"watch\", \"watch\", \"watch\", \"wave\", \"wave\", \"wave\", \"waxahachie\", \"wed\", \"weekend\", \"weekend\", \"weekend\", \"weekend\", \"whats\", \"whats\", \"whats\", \"whats\", \"wide\", \"wide\", \"willie\", \"win\", \"win\", \"world\", \"world\", \"world\", \"world\", \"would\", \"would\", \"would\", \"wouldnt\", \"wrangler\", \"wrangler\", \"wrangler\", \"wrangler\", \"wrangler\", \"wrangler\", \"wrangler\", \"wrangler\", \"wsl\", \"y\", \"youtube\", \"youtube\", \"youtube\"]}, \"R\": 30, \"lambda.step\": 0.01, \"plot.opts\": {\"xlab\": \"PC1\", \"ylab\": \"PC2\"}, \"topic.order\": [1, 2, 3, 4, 5, 6, 7, 8, 9, 10]};\n",
       "\n",
       "function LDAvis_load_lib(url, callback){\n",
       "  var s = document.createElement('script');\n",
       "  s.src = url;\n",
       "  s.async = true;\n",
       "  s.onreadystatechange = s.onload = callback;\n",
       "  s.onerror = function(){console.warn(\"failed to load library \" + url);};\n",
       "  document.getElementsByTagName(\"head\")[0].appendChild(s);\n",
       "}\n",
       "\n",
       "if(typeof(LDAvis) !== \"undefined\"){\n",
       "   // already loaded: just create the visualization\n",
       "   !function(LDAvis){\n",
       "       new LDAvis(\"#\" + \"ldavis_el53013980588346888031324219\", ldavis_el53013980588346888031324219_data);\n",
       "   }(LDAvis);\n",
       "}else if(typeof define === \"function\" && define.amd){\n",
       "   // require.js is available: use it to load d3/LDAvis\n",
       "   require.config({paths: {d3: \"https://d3js.org/d3.v5\"}});\n",
       "   require([\"d3\"], function(d3){\n",
       "      window.d3 = d3;\n",
       "      LDAvis_load_lib(\"https://cdn.jsdelivr.net/gh/bmabey/pyLDAvis@3.3.1/pyLDAvis/js/ldavis.v3.0.0.js\", function(){\n",
       "        new LDAvis(\"#\" + \"ldavis_el53013980588346888031324219\", ldavis_el53013980588346888031324219_data);\n",
       "      });\n",
       "    });\n",
       "}else{\n",
       "    // require.js not available: dynamically load d3 & LDAvis\n",
       "    LDAvis_load_lib(\"https://d3js.org/d3.v5.js\", function(){\n",
       "         LDAvis_load_lib(\"https://cdn.jsdelivr.net/gh/bmabey/pyLDAvis@3.3.1/pyLDAvis/js/ldavis.v3.0.0.js\", function(){\n",
       "                 new LDAvis(\"#\" + \"ldavis_el53013980588346888031324219\", ldavis_el53013980588346888031324219_data);\n",
       "            })\n",
       "         });\n",
       "}\n",
       "</script>"
      ],
      "text/plain": [
       "<IPython.core.display.HTML object>"
      ]
     },
     "execution_count": 44,
     "metadata": {},
     "output_type": "execute_result"
    }
   ],
   "source": [
    "%%time\n",
    "\n",
    "lda_display = gensimvis.prepare(ldamodel, doc_term_matrix, dictionary, sort_topics=False, mds='mmds')\n",
    "pyLDAvis.display(lda_display)"
   ]
  },
  {
   "cell_type": "markdown",
   "metadata": {},
   "source": [
    "## TF-IDF on news articles"
   ]
  },
  {
   "cell_type": "code",
   "execution_count": 45,
   "metadata": {},
   "outputs": [],
   "source": [
    "news_path = 'https://storage.googleapis.com/msca-bdp-data-open/news/news_toyota.json'\n",
    "\n",
    "news_df = pd.read_json(news_path, orient='records', lines=True)"
   ]
  },
  {
   "cell_type": "code",
   "execution_count": 46,
   "metadata": {
    "scrolled": true
   },
   "outputs": [
    {
     "data": {
      "text/html": [
       "<div>\n",
       "<style scoped>\n",
       "    .dataframe tbody tr th:only-of-type {\n",
       "        vertical-align: middle;\n",
       "    }\n",
       "\n",
       "    .dataframe tbody tr th {\n",
       "        vertical-align: top;\n",
       "    }\n",
       "\n",
       "    .dataframe thead th {\n",
       "        text-align: right;\n",
       "    }\n",
       "</style>\n",
       "<table border=\"1\" class=\"dataframe\">\n",
       "  <thead>\n",
       "    <tr style=\"text-align: right;\">\n",
       "      <th></th>\n",
       "      <th>crawled</th>\n",
       "      <th>language</th>\n",
       "      <th>text</th>\n",
       "      <th>title</th>\n",
       "    </tr>\n",
       "  </thead>\n",
       "  <tbody>\n",
       "    <tr>\n",
       "      <th>0</th>\n",
       "      <td>2018-02-02T04:24:51.072+02:00</td>\n",
       "      <td>english</td>\n",
       "      <td>QR Code Link to This Post All maintenance receipts available, one owner truck. Cash sale. No tra...</td>\n",
       "      <td>Dependable truck 03 Toyota Tacoma Double Cab $1500</td>\n",
       "    </tr>\n",
       "    <tr>\n",
       "      <th>1</th>\n",
       "      <td>2018-02-02T04:27:15.000+02:00</td>\n",
       "      <td>english</td>\n",
       "      <td>0 \\nNEW YORK: Automakers reported mixed US car sales in January, with strong demand for SUVs and...</td>\n",
       "      <td>US car sales mixed in January; trucks stay strong</td>\n",
       "    </tr>\n",
       "    <tr>\n",
       "      <th>2</th>\n",
       "      <td>2018-02-02T04:34:00.008+02:00</td>\n",
       "      <td>english</td>\n",
       "      <td>transmission: automatic   2005 Toyota Camry LE 4 door 4 cyl AUTOMATIC VERY CLEAN INSIDE CLOTH IN...</td>\n",
       "      <td>2005 TOYOTA CAMRY LE 167300 MILEAGE $2450 (TALLASSEE) $2450</td>\n",
       "    </tr>\n",
       "    <tr>\n",
       "      <th>3</th>\n",
       "      <td>2018-02-02T04:36:42.006+02:00</td>\n",
       "      <td>english</td>\n",
       "      <td>favorite this post Brand New Toyota Avalon Floor Mats - $115 (New Britain) hide this posting unh...</td>\n",
       "      <td>Brand New Toyota Avalon Floor Mats (New Britain) $115</td>\n",
       "    </tr>\n",
       "    <tr>\n",
       "      <th>4</th>\n",
       "      <td>2018-02-02T04:38:24.018+02:00</td>\n",
       "      <td>english</td>\n",
       "      <td>more ads by this user QR Code Link to This Post Black w/Piano Black w/Perforated NuLuxe Seat Tri...</td>\n",
       "      <td>2016 Lexus ES 350 (Coliseum Lexus of Oakland) $27772</td>\n",
       "    </tr>\n",
       "  </tbody>\n",
       "</table>\n",
       "</div>"
      ],
      "text/plain": [
       "                         crawled language  \\\n",
       "0  2018-02-02T04:24:51.072+02:00  english   \n",
       "1  2018-02-02T04:27:15.000+02:00  english   \n",
       "2  2018-02-02T04:34:00.008+02:00  english   \n",
       "3  2018-02-02T04:36:42.006+02:00  english   \n",
       "4  2018-02-02T04:38:24.018+02:00  english   \n",
       "\n",
       "                                                                                                  text  \\\n",
       "0  QR Code Link to This Post All maintenance receipts available, one owner truck. Cash sale. No tra...   \n",
       "1  0 \\nNEW YORK: Automakers reported mixed US car sales in January, with strong demand for SUVs and...   \n",
       "2  transmission: automatic   2005 Toyota Camry LE 4 door 4 cyl AUTOMATIC VERY CLEAN INSIDE CLOTH IN...   \n",
       "3  favorite this post Brand New Toyota Avalon Floor Mats - $115 (New Britain) hide this posting unh...   \n",
       "4  more ads by this user QR Code Link to This Post Black w/Piano Black w/Perforated NuLuxe Seat Tri...   \n",
       "\n",
       "                                                         title  \n",
       "0           Dependable truck 03 Toyota Tacoma Double Cab $1500  \n",
       "1            US car sales mixed in January; trucks stay strong  \n",
       "2  2005 TOYOTA CAMRY LE 167300 MILEAGE $2450 (TALLASSEE) $2450  \n",
       "3        Brand New Toyota Avalon Floor Mats (New Britain) $115  \n",
       "4         2016 Lexus ES 350 (Coliseum Lexus of Oakland) $27772  "
      ]
     },
     "execution_count": 46,
     "metadata": {},
     "output_type": "execute_result"
    }
   ],
   "source": [
    "news_df.head(5)"
   ]
  },
  {
   "cell_type": "code",
   "execution_count": 47,
   "metadata": {},
   "outputs": [
    {
     "data": {
      "text/plain": [
       "(100, 4)"
      ]
     },
     "execution_count": 47,
     "metadata": {},
     "output_type": "execute_result"
    }
   ],
   "source": [
    "news_df.shape"
   ]
  },
  {
   "cell_type": "code",
   "execution_count": 48,
   "metadata": {},
   "outputs": [],
   "source": [
    "# Filter non-English articles\n",
    "news_eng = news_df[news_df['language']=='english'].reset_index(drop=True)"
   ]
  },
  {
   "cell_type": "code",
   "execution_count": 49,
   "metadata": {},
   "outputs": [],
   "source": [
    "# Remove special characters to avoid problems with analysis\n",
    "news_eng['text_clean'] = news_eng['text'].map(lambda x: re.sub('[^a-zA-Z0-9 @ . , : - _]', '', str(x)))"
   ]
  },
  {
   "cell_type": "code",
   "execution_count": 50,
   "metadata": {},
   "outputs": [
    {
     "data": {
      "text/html": [
       "<div>\n",
       "<style scoped>\n",
       "    .dataframe tbody tr th:only-of-type {\n",
       "        vertical-align: middle;\n",
       "    }\n",
       "\n",
       "    .dataframe tbody tr th {\n",
       "        vertical-align: top;\n",
       "    }\n",
       "\n",
       "    .dataframe thead th {\n",
       "        text-align: right;\n",
       "    }\n",
       "</style>\n",
       "<table border=\"1\" class=\"dataframe\">\n",
       "  <thead>\n",
       "    <tr style=\"text-align: right;\">\n",
       "      <th></th>\n",
       "      <th>text</th>\n",
       "      <th>text_clean</th>\n",
       "    </tr>\n",
       "  </thead>\n",
       "  <tbody>\n",
       "    <tr>\n",
       "      <th>0</th>\n",
       "      <td>QR Code Link to This Post All maintenance receipts available, one owner truck. Cash sale. No tra...</td>\n",
       "      <td>QR Code Link to This Post All maintenance receipts available, one owner truck. Cash sale. No tra...</td>\n",
       "    </tr>\n",
       "    <tr>\n",
       "      <th>1</th>\n",
       "      <td>0 \\nNEW YORK: Automakers reported mixed US car sales in January, with strong demand for SUVs and...</td>\n",
       "      <td>0 NEW YORK: Automakers reported mixed US car sales in January, with strong demand for SUVs and p...</td>\n",
       "    </tr>\n",
       "    <tr>\n",
       "      <th>2</th>\n",
       "      <td>transmission: automatic   2005 Toyota Camry LE 4 door 4 cyl AUTOMATIC VERY CLEAN INSIDE CLOTH IN...</td>\n",
       "      <td>transmission: automatic   2005 Toyota Camry LE 4 door 4 cyl AUTOMATIC VERY CLEAN INSIDE CLOTH IN...</td>\n",
       "    </tr>\n",
       "    <tr>\n",
       "      <th>3</th>\n",
       "      <td>favorite this post Brand New Toyota Avalon Floor Mats - $115 (New Britain) hide this posting unh...</td>\n",
       "      <td>favorite this post Brand New Toyota Avalon Floor Mats  115 New Britain hide this posting unhide ...</td>\n",
       "    </tr>\n",
       "    <tr>\n",
       "      <th>4</th>\n",
       "      <td>more ads by this user QR Code Link to This Post Black w/Piano Black w/Perforated NuLuxe Seat Tri...</td>\n",
       "      <td>more ads by this user QR Code Link to This Post Black wPiano Black wPerforated NuLuxe Seat Trim....</td>\n",
       "    </tr>\n",
       "  </tbody>\n",
       "</table>\n",
       "</div>"
      ],
      "text/plain": [
       "                                                                                                  text  \\\n",
       "0  QR Code Link to This Post All maintenance receipts available, one owner truck. Cash sale. No tra...   \n",
       "1  0 \\nNEW YORK: Automakers reported mixed US car sales in January, with strong demand for SUVs and...   \n",
       "2  transmission: automatic   2005 Toyota Camry LE 4 door 4 cyl AUTOMATIC VERY CLEAN INSIDE CLOTH IN...   \n",
       "3  favorite this post Brand New Toyota Avalon Floor Mats - $115 (New Britain) hide this posting unh...   \n",
       "4  more ads by this user QR Code Link to This Post Black w/Piano Black w/Perforated NuLuxe Seat Tri...   \n",
       "\n",
       "                                                                                            text_clean  \n",
       "0  QR Code Link to This Post All maintenance receipts available, one owner truck. Cash sale. No tra...  \n",
       "1  0 NEW YORK: Automakers reported mixed US car sales in January, with strong demand for SUVs and p...  \n",
       "2  transmission: automatic   2005 Toyota Camry LE 4 door 4 cyl AUTOMATIC VERY CLEAN INSIDE CLOTH IN...  \n",
       "3  favorite this post Brand New Toyota Avalon Floor Mats  115 New Britain hide this posting unhide ...  \n",
       "4  more ads by this user QR Code Link to This Post Black wPiano Black wPerforated NuLuxe Seat Trim....  "
      ]
     },
     "execution_count": 50,
     "metadata": {},
     "output_type": "execute_result"
    }
   ],
   "source": [
    "pd.set_option('display.max_colwidth', 100)\n",
    "news_eng[['text', 'text_clean']].head(5)"
   ]
  },
  {
   "cell_type": "code",
   "execution_count": 51,
   "metadata": {},
   "outputs": [
    {
     "data": {
      "text/plain": [
       "100"
      ]
     },
     "execution_count": 51,
     "metadata": {},
     "output_type": "execute_result"
    }
   ],
   "source": [
    "bloblist = []\n",
    "del bloblist[:]\n",
    "\n",
    "for i  in range(0,len(news_eng)):\n",
    "    bloblist.append(TextBlob(news_eng['text_clean'].iloc[i]))\n",
    "    \n",
    "len(bloblist) "
   ]
  },
  {
   "cell_type": "code",
   "execution_count": 52,
   "metadata": {},
   "outputs": [
    {
     "name": "stdout",
     "output_type": "stream",
     "text": [
      "Top words in news article 1\n",
      "\tWord: receipts, TF-IDF: 0.21733\n",
      "\tWord: Cash, TF-IDF: 0.21733\n",
      "\tWord: 6477478013, TF-IDF: 0.21733\n",
      "\tWord: sale, TF-IDF: 0.19481\n",
      "\tWord: maintenance, TF-IDF: 0.17883\n",
      "\tWord: owner, TF-IDF: 0.17883\n",
      "\tWord: available, TF-IDF: 0.16643\n",
      "\tWord: trades, TF-IDF: 0.1563\n",
      "\tWord: truck, TF-IDF: 0.11779\n",
      "\tWord: QR, TF-IDF: 0.09844\n",
      "Top words in news article 2\n",
      "\tWord: And, TF-IDF: 0.06643\n",
      "\tWord: In, TF-IDF: 0.05853\n",
      "\tWord: sales, TF-IDF: 0.04664\n",
      "\tWord: US, TF-IDF: 0.02365\n",
      "\tWord: The, TF-IDF: 0.02218\n",
      "\tWord: pickup, TF-IDF: 0.02214\n",
      "\tWord: saw, TF-IDF: 0.02117\n",
      "\tWord: strong, TF-IDF: 0.02106\n",
      "\tWord: percent, TF-IDF: 0.01984\n",
      "\tWord: overall, TF-IDF: 0.0195\n",
      "Top words in news article 3\n",
      "\tWord: AUTOMATIC, TF-IDF: 0.18935\n",
      "\tWord: automatic, TF-IDF: 0.15643\n",
      "\tWord: LE, TF-IDF: 0.11506\n",
      "\tWord: cyl, TF-IDF: 0.11506\n",
      "\tWord: VERY, TF-IDF: 0.11506\n",
      "\tWord: INSIDE, TF-IDF: 0.11506\n",
      "\tWord: CLOTH, TF-IDF: 0.11506\n",
      "\tWord: INTERIOR, TF-IDF: 0.11506\n",
      "\tWord: NICE, TF-IDF: 0.11506\n",
      "\tWord: Just, TF-IDF: 0.11506\n",
      "Top words in news article 4\n",
      "\tWord: Mats, TF-IDF: 0.13336\n",
      "\tWord: mats, TF-IDF: 0.13336\n",
      "\tWord: Floor, TF-IDF: 0.08891\n",
      "\tWord: floor, TF-IDF: 0.07969\n",
      "\tWord: Avalon, TF-IDF: 0.06394\n",
      "\tWord: Post, TF-IDF: 0.05846\n",
      "\tWord: original, TF-IDF: 0.0574\n",
      "\tWord: These, TF-IDF: 0.05233\n",
      "\tWord: post, TF-IDF: 0.04592\n",
      "\tWord: Brand, TF-IDF: 0.04445\n",
      "Top words in news article 5\n",
      "\tWord: included, TF-IDF: 0.0788\n",
      "\tWord: Black, TF-IDF: 0.06732\n",
      "\tWord: Lexus, TF-IDF: 0.06177\n",
      "\tWord: below, TF-IDF: 0.05174\n",
      "\tWord: user, TF-IDF: 0.04396\n",
      "\tWord: wPiano, TF-IDF: 0.04396\n",
      "\tWord: wPerforated, TF-IDF: 0.04396\n",
      "\tWord: NuLuxe, TF-IDF: 0.04396\n",
      "\tWord: Trim, TF-IDF: 0.04396\n",
      "\tWord: CARFAX, TF-IDF: 0.04396\n"
     ]
    }
   ],
   "source": [
    "for i, blob in enumerate(bloblist):\n",
    "# Print top 5 values\n",
    "    if i == 5:\n",
    "        break\n",
    "    print(\"Top words in news article {}\".format(i + 1))\n",
    "    scores = {word: tfidf(word, blob, bloblist) for word in blob.words}\n",
    "    sorted_words = sorted(scores.items(), key=lambda x: x[1], reverse=True)\n",
    "    for word, score in sorted_words[:10]:\n",
    "        print(\"\\tWord: {}, TF-IDF: {}\".format(word, round(score, 5)))"
   ]
  },
  {
   "cell_type": "markdown",
   "metadata": {},
   "source": [
    "### Applying LDA to news articles"
   ]
  },
  {
   "cell_type": "code",
   "execution_count": 53,
   "metadata": {},
   "outputs": [
    {
     "data": {
      "text/plain": [
       "['QR Code Link to This Post All maintenance receipts available, one owner truck. Cash sale. No trades.   6477478013']"
      ]
     },
     "execution_count": 53,
     "metadata": {},
     "output_type": "execute_result"
    }
   ],
   "source": [
    "news_list = news_eng['text_clean'].tolist()\n",
    "news_list[:1]"
   ]
  },
  {
   "cell_type": "code",
   "execution_count": 54,
   "metadata": {},
   "outputs": [],
   "source": [
    "news_clean = [clean(doc).split() for doc in news_list]"
   ]
  },
  {
   "cell_type": "code",
   "execution_count": 55,
   "metadata": {},
   "outputs": [
    {
     "data": {
      "text/plain": [
       "100"
      ]
     },
     "execution_count": 55,
     "metadata": {},
     "output_type": "execute_result"
    }
   ],
   "source": [
    "len(news_clean)"
   ]
  },
  {
   "cell_type": "code",
   "execution_count": 56,
   "metadata": {},
   "outputs": [
    {
     "name": "stdout",
     "output_type": "stream",
     "text": [
      "['qr', 'code', 'link', 'post', 'maintenance', 'receipt', 'available', 'one', 'owner', 'truck', 'cash', 'sale', 'trade', '6477478013']\n"
     ]
    }
   ],
   "source": [
    "print(*news_clean[:1], sep='\\n\\n')"
   ]
  },
  {
   "cell_type": "code",
   "execution_count": 57,
   "metadata": {},
   "outputs": [
    {
     "name": "stdout",
     "output_type": "stream",
     "text": [
      "CPU times: user 44.7 ms, sys: 8.02 ms, total: 52.7 ms\n",
      "Wall time: 52.3 ms\n"
     ]
    }
   ],
   "source": [
    "# Creating the term dictionary of our courpus, where every unique term is assigned an index. \n",
    "\n",
    "dictionary = corpora.Dictionary(news_clean)\n",
    "\n",
    "# Converting list of documents (corpus) into Document Term Matrix using dictionary prepared above.\n",
    "\n",
    "%time doc_term_matrix = [dictionary.doc2bow(doc) for doc in news_clean]"
   ]
  },
  {
   "cell_type": "markdown",
   "metadata": {},
   "source": [
    "#### 3 topic model"
   ]
  },
  {
   "cell_type": "code",
   "execution_count": 58,
   "metadata": {},
   "outputs": [
    {
     "name": "stdout",
     "output_type": "stream",
     "text": [
      "CPU times: user 1.55 s, sys: 272 ms, total: 1.83 s\n",
      "Wall time: 1.82 s\n"
     ]
    }
   ],
   "source": [
    "%%time\n",
    "\n",
    "num_topics = 3\n",
    "iterations = 100\n",
    "passes = 20\n",
    "workers = num_processors-1\n",
    "eval_every = None\n",
    "\n",
    "ldamodel = LdaMulticore(corpus=doc_term_matrix,\n",
    "                       id2word=dictionary,\n",
    "                       eta='auto',\n",
    "                       num_topics=num_topics,\n",
    "                       iterations=iterations,\n",
    "                       passes=passes,\n",
    "                       eval_every=eval_every,\n",
    "                       workers = workers)"
   ]
  },
  {
   "cell_type": "code",
   "execution_count": 59,
   "metadata": {},
   "outputs": [
    {
     "name": "stdout",
     "output_type": "stream",
     "text": [
      "(0, '0.011*\"car\" + 0.008*\"toyota\" + 0.006*\"percent\"')\n",
      "(1, '0.018*\"toyota\" + 0.012*\"sale\" + 0.012*\"vehicle\"')\n",
      "(2, '0.022*\"percent\" + 0.020*\"u\" + 0.012*\"cent\"')\n"
     ]
    }
   ],
   "source": [
    "print(*ldamodel.print_topics(num_topics=num_topics, num_words=3), sep='\\n')"
   ]
  },
  {
   "cell_type": "code",
   "execution_count": 60,
   "metadata": {},
   "outputs": [
    {
     "name": "stdout",
     "output_type": "stream",
     "text": [
      "(0, '0.011*\"car\" + 0.008*\"toyota\" + 0.006*\"percent\" + 0.004*\"said\" + 0.004*\"new\"')\n",
      "\n",
      "(1, '0.018*\"toyota\" + 0.012*\"sale\" + 0.012*\"vehicle\" + 0.009*\"ford\" + 0.008*\"year\"')\n",
      "\n",
      "(2, '0.022*\"percent\" + 0.020*\"u\" + 0.012*\"cent\" + 0.012*\"earnings\" + 0.012*\"per\"')\n"
     ]
    }
   ],
   "source": [
    "print(*ldamodel.print_topics(num_topics=num_topics, num_words=5), sep='\\n\\n')"
   ]
  },
  {
   "cell_type": "code",
   "execution_count": 61,
   "metadata": {},
   "outputs": [
    {
     "name": "stdout",
     "output_type": "stream",
     "text": [
      "(0, '0.011*\"car\" + 0.008*\"toyota\" + 0.006*\"percent\" + 0.004*\"said\" + 0.004*\"new\" + 0.004*\"job\" + 0.003*\"state\"')\n",
      "\n",
      "(1, '0.018*\"toyota\" + 0.012*\"sale\" + 0.012*\"vehicle\" + 0.009*\"ford\" + 0.008*\"year\" + 0.005*\"motor\" + 0.005*\"2018\"')\n",
      "\n",
      "(2, '0.022*\"percent\" + 0.020*\"u\" + 0.012*\"cent\" + 0.012*\"earnings\" + 0.012*\"per\" + 0.011*\"yield\" + 0.011*\"share\"')\n"
     ]
    }
   ],
   "source": [
    "print(*ldamodel.print_topics(num_topics=num_topics, num_words=7), sep='\\n\\n')"
   ]
  },
  {
   "cell_type": "code",
   "execution_count": 62,
   "metadata": {},
   "outputs": [
    {
     "name": "stdout",
     "output_type": "stream",
     "text": [
      "(0, '0.011*\"car\" + 0.008*\"toyota\" + 0.006*\"percent\" + 0.004*\"said\" + 0.004*\"new\" + 0.004*\"job\" + 0.003*\"state\" + 0.003*\"time\" + 0.003*\"d\" + 0.003*\"also\"')\n",
      "\n",
      "(1, '0.018*\"toyota\" + 0.012*\"sale\" + 0.012*\"vehicle\" + 0.009*\"ford\" + 0.008*\"year\" + 0.005*\"motor\" + 0.005*\"2018\" + 0.005*\"january\" + 0.005*\"unit\" + 0.005*\"new\"')\n",
      "\n",
      "(2, '0.022*\"percent\" + 0.020*\"u\" + 0.012*\"cent\" + 0.012*\"earnings\" + 0.012*\"per\" + 0.011*\"yield\" + 0.011*\"share\" + 0.010*\"index\" + 0.009*\"lower\" + 0.008*\"investor\"')\n"
     ]
    }
   ],
   "source": [
    "print(*ldamodel.print_topics(num_topics=num_topics, num_words=10), sep='\\n\\n')"
   ]
  },
  {
   "cell_type": "code",
   "execution_count": 63,
   "metadata": {},
   "outputs": [
    {
     "name": "stdout",
     "output_type": "stream",
     "text": [
      "CPU times: user 183 ms, sys: 16.1 ms, total: 199 ms\n",
      "Wall time: 250 ms\n"
     ]
    },
    {
     "data": {
      "text/html": [
       "\n",
       "<link rel=\"stylesheet\" type=\"text/css\" href=\"https://cdn.jsdelivr.net/gh/bmabey/pyLDAvis@3.3.1/pyLDAvis/js/ldavis.v1.0.0.css\">\n",
       "\n",
       "\n",
       "<div id=\"ldavis_el5301398075120337442056528442\"></div>\n",
       "<script type=\"text/javascript\">\n",
       "\n",
       "var ldavis_el5301398075120337442056528442_data = {\"mdsDat\": {\"x\": [0.15825796512650797, 0.032297162814346296, -0.1905551279408543], \"y\": [0.011458516954509024, -0.15002770717702854, 0.1385691902225195], \"topics\": [1, 2, 3], \"cluster\": [1, 1, 1], \"Freq\": [24.74266267226336, 35.288402044695715, 39.96893528304092]}, \"tinfo\": {\"Term\": [\"u\", \"cent\", \"yield\", \"earnings\", \"index\", \"sale\", \"per\", \"ford\", \"vehicle\", \"car\", \"share\", \"toyota\", \"friday\", \"benchmark\", \"investor\", \"percent\", \"lower\", \"01\", \"rose\", \"barrel\", \"report\", \"latest\", \"trading\", \"bond\", \"crude\", \"hong\", \"yen\", \"asian\", \"motor\", \"oil\", \"d\", \"workforce\", \"law\", \"alabama\", \"review\", \"ball\", \"losing\", \"f1\", \"soul\", \"dont\", \"le\", \"training\", \"scrum\", \"amendment\", \"magazine\", \"spec\", \"suspect\", \"rugby\", \"alonso\", \"ruck\", \"space\", \"mclaren\", \"chevy\", \"warranty\", \"crossback\", \"state\", \"stop\", \"electrical\", \"fee\", \"pay\", \"declining\", \"think\", \"car\", \"7\", \"need\", \"player\", \"release\", \"2019\", \"team\", \"would\", \"4\", \"toyota\", \"job\", \"point\", \"say\", \"said\", \"time\", \"percent\", \"also\", \"new\", \"make\", \"model\", \"get\", \"company\", \"see\", \"front\", \"2018\", \"could\", \"1\", \"price\", \"one\", \"ford\", \"hydrogen\", \"margin\", \"canada\", \"commodity\", \"fuel\", \"customer\", \"overall\", \"museum\", \"hma\", \"sale\", \"factory\", \"commercial\", \"tour\", \"matcha\", \"co\", \"mobility\", \"target\", \"america\", \"canadian\", \"aluminum\", \"cell\", \"aim\", \"crossover\", \"member\", \"2020\", \"culture\", \"fleet\", \"product\", \"source\", \"million\", \"vehicle\", \"motor\", \"operating\", \"lexus\", \"last\", \"industry\", \"part\", \"electrified\", \"toyota\", \"post\", \"2017\", \"one\", \"year\", \"suv\", \"unit\", \"service\", \"2018\", \"strong\", \"january\", \"month\", \"also\", \"new\", \"japan\", \"company\", \"model\", \"said\", \"car\", \"australia\", \"percent\", \"yield\", \"index\", \"barrel\", \"bond\", \"hong\", \"trading\", \"asian\", \"cent\", \"crude\", \"yen\", \"composite\", \"03\", \"weigh\", \"monthly\", \"earnings\", \"worry\", \"seng\", \"kong\", \"rose\", \"highest\", \"sank\", \"10year\", \"dipped\", \"treasury\", \"fueled\", \"nikkei\", \"stronger\", \"interest\", \"dow\", \"score\", \"friday\", \"benchmark\", \"01\", \"mostly\", \"per\", \"u\", \"investor\", \"lower\", \"latest\", \"oil\", \"share\", \"report\", \"pace\", \"week\", \"percent\", \"economy\", \"fell\", \"market\", \"rate\", \"thursday\", \"price\", \"said\"], \"Freq\": [217.0, 123.0, 114.0, 121.0, 104.0, 109.0, 125.0, 80.0, 116.0, 100.0, 118.0, 233.0, 79.0, 83.0, 88.0, 289.0, 92.0, 80.0, 68.0, 59.0, 74.0, 67.0, 47.0, 46.0, 46.0, 45.0, 45.0, 43.0, 54.0, 50.0, 18.394592890522972, 16.818009505361093, 16.029292737083857, 16.02924799227372, 13.664763349083868, 13.664434258222219, 14.419306629464545, 9.722963526579258, 9.72271670843302, 9.722710934909133, 9.718772669926627, 8.934188301372648, 8.93405767539467, 8.934012208894048, 8.91920239842933, 8.145870627934212, 8.14564473881207, 8.145579786668323, 7.357767296570137, 7.357262113229885, 7.349683641435626, 6.567560959129644, 6.56739641369882, 5.780714090901824, 5.7806408393174875, 21.5540109438371, 4.992566375572856, 4.992554106834593, 4.992425285082829, 4.992388118022796, 9.692468495090216, 8.93507237221809, 67.74567482716867, 12.095316039448285, 12.092610421815994, 12.092489177814334, 14.447912996951532, 9.724351337383977, 9.723972449878788, 12.878416612362896, 14.360136669892341, 51.46508224592911, 22.150675770103337, 12.322758239515363, 13.669239273478496, 26.858944086580507, 19.18945557497961, 38.179228052748485, 18.342922738482045, 22.833566732264682, 13.27040857339768, 16.065052500668806, 16.03353050361808, 18.078086867569546, 12.091081159676005, 10.981773600294167, 14.900065076905413, 13.660999011508508, 13.621310364917374, 13.724838308525609, 12.351537812719007, 79.27564464302388, 25.849848183785895, 20.72953794517668, 16.474844794479996, 16.474367205255916, 15.622268774388791, 17.258698401372595, 18.02637058543812, 13.914362361870955, 12.214163251314135, 104.56782300615241, 11.33150219796725, 21.058362243104284, 10.507074092770264, 10.506658260773435, 10.506212579450102, 9.657454185290176, 11.232805914522016, 9.620063272050615, 8.804939922426222, 8.804701127814182, 8.804439688885484, 8.802195842962004, 8.800152708027092, 7.952843035489779, 7.951704129290545, 7.950663520011354, 10.289960384644077, 7.918626958374518, 7.100596387277251, 24.05863950600244, 102.97854605146242, 48.03224342722773, 14.770867170902491, 30.772879077087936, 36.62819089725939, 34.08468449713473, 19.882263783045037, 13.063938581149474, 157.5226938461308, 31.911437377275096, 34.16580055655564, 35.74909323592493, 73.96519831172628, 29.95499312083115, 44.469987747784266, 20.769451641149477, 47.52195992704061, 18.73275798504039, 47.220284106212866, 36.02084150442648, 31.981468014404317, 44.29283919998692, 33.2448561980354, 38.30975373520588, 24.347292786177032, 33.06881310460586, 31.78929187464238, 22.822834158636223, 32.98476563546473, 113.77625432711378, 104.3325546292047, 59.156062558581375, 46.35403301738118, 44.657903254045166, 47.18343564054308, 42.95095945335893, 122.14317621714548, 46.29563535039671, 44.54798618876602, 36.97785693345716, 38.65182934514606, 31.857783306762563, 38.52125648924904, 118.90776919599845, 28.443965653885233, 27.590573028503282, 25.884184152545235, 66.72641098584171, 27.520036965993743, 24.177482839975514, 24.177443202494928, 24.177384912082303, 24.177259004791033, 24.177058485771603, 24.15777834889168, 26.646510832091035, 24.974783767096454, 23.30323157333975, 22.470704584061128, 76.68990261444551, 80.41797553986801, 77.38959741143377, 41.2473265481098, 118.4883207132133, 200.8406892438312, 83.96900882406514, 86.8716288846852, 63.465654630052214, 47.998736647082694, 109.41054490960038, 69.0117588929256, 39.06984621539714, 46.37765229257692, 218.37304639159817, 49.743294085227745, 55.94462455510584, 72.9750779340045, 48.23610453375866, 44.49428439742264, 48.870346192218285, 45.34359902553733], \"Total\": [217.0, 123.0, 114.0, 121.0, 104.0, 109.0, 125.0, 80.0, 116.0, 100.0, 118.0, 233.0, 79.0, 83.0, 88.0, 289.0, 92.0, 80.0, 68.0, 59.0, 74.0, 67.0, 47.0, 46.0, 46.0, 45.0, 45.0, 43.0, 54.0, 50.0, 18.96511991359525, 17.38819654258892, 16.599767415054295, 16.59977118971806, 14.234351995099587, 14.234378204669575, 15.024884759142386, 10.292062778482766, 10.292083978601474, 10.292085730927974, 10.292300741715982, 9.503642427603895, 9.503650778773995, 9.503655045031381, 9.504478588042211, 8.715179553261466, 8.715194684787543, 8.71520250635463, 7.926699309442626, 7.926741163078392, 7.927128509447354, 7.138343347254913, 7.138358110315754, 6.349808619934477, 6.3498165659765675, 23.821774877226336, 5.5613295071212825, 5.561329377134603, 5.561343028419653, 5.561346945397906, 11.144892499287755, 10.354648429470728, 100.19624017481054, 15.212407869238481, 15.212762989423409, 15.212770194298574, 20.135479624356574, 11.99536047560985, 11.995390193213744, 19.410449009174137, 23.55472248619173, 233.64758411711117, 51.936460314832445, 18.6074689014051, 24.46027520986681, 105.27135621672369, 57.276169963246545, 289.5370400798114, 54.768003558161006, 97.0531141385509, 25.347551481922945, 41.311892916711585, 42.189915987098345, 90.6258802664583, 23.73535605907658, 17.862190619660886, 82.34057713587154, 59.45486288896423, 58.596900710791445, 78.21459700337229, 48.430044524403236, 80.08788719698975, 26.398238302902552, 21.28453989348943, 17.02333813538279, 17.02329876664414, 16.171053488309376, 17.87018948587195, 18.72775935591087, 14.46653144492162, 12.762018847421086, 109.87600345718386, 11.909534514208984, 22.137050629937637, 11.057468253574841, 11.057464666618745, 11.057440964452388, 10.205226131201313, 11.909602700739141, 10.20490316588749, 9.352958357834712, 9.352943373167271, 9.352954068125028, 9.352937646314977, 9.352898295461857, 8.50068742541412, 8.500684686952177, 8.500681702510326, 11.040643090396848, 8.50037729568446, 7.648421711387824, 26.270352200629286, 116.63767902556741, 54.089169804874544, 16.106458783370893, 35.43977301612047, 43.89762910508412, 41.21362001297177, 22.797067129422853, 14.401928988084979, 233.64758411711117, 41.043460371916055, 44.549082104227445, 48.430044524403236, 116.88108417461376, 39.401143269457904, 64.77570496817303, 26.01706505970671, 82.34057713587154, 23.74316954268396, 86.91383115175178, 64.6391955531308, 54.768003558161006, 97.0531141385509, 65.42064027968945, 90.6258802664583, 41.311892916711585, 105.27135621672369, 100.19624017481054, 44.19329212234075, 289.5370400798114, 114.3383953998782, 104.94617249949422, 59.71740225717823, 46.91551945232397, 45.20950760222319, 47.767033466128794, 43.5026118494674, 123.72432246412981, 46.91089965935983, 45.200861628363604, 37.52845684386751, 39.235008808804444, 32.40777050442666, 39.23350853822019, 121.16179748530035, 28.993979604771823, 28.140510543955465, 26.433638203936844, 68.18692828911358, 28.13986276682219, 24.726740951047844, 24.726723929669472, 24.72673305827116, 24.726732025986134, 24.72671212469409, 24.725096495428314, 27.279858273362944, 25.57966053627022, 23.871563008004504, 23.01983359937435, 79.3408136988096, 83.47479694409652, 80.88986247601743, 42.64680673062346, 125.42374110009669, 217.78795386123093, 88.66706628021447, 92.82950711189451, 67.20186750561113, 50.31909132022758, 118.98264935012116, 74.21745151145673, 40.875132842482216, 50.19657780695971, 289.5370400798114, 55.9113369399636, 66.52027783240483, 103.11722947906073, 56.69751151974225, 50.715406383344344, 78.21459700337229, 105.27135621672369], \"Category\": [\"Default\", \"Default\", \"Default\", \"Default\", \"Default\", \"Default\", \"Default\", \"Default\", \"Default\", \"Default\", \"Default\", \"Default\", \"Default\", \"Default\", \"Default\", \"Default\", \"Default\", \"Default\", \"Default\", \"Default\", \"Default\", \"Default\", \"Default\", \"Default\", \"Default\", \"Default\", \"Default\", \"Default\", \"Default\", \"Default\", \"Topic1\", \"Topic1\", \"Topic1\", \"Topic1\", \"Topic1\", \"Topic1\", \"Topic1\", \"Topic1\", \"Topic1\", \"Topic1\", \"Topic1\", \"Topic1\", \"Topic1\", \"Topic1\", \"Topic1\", \"Topic1\", \"Topic1\", \"Topic1\", \"Topic1\", \"Topic1\", \"Topic1\", \"Topic1\", \"Topic1\", \"Topic1\", \"Topic1\", \"Topic1\", \"Topic1\", \"Topic1\", \"Topic1\", \"Topic1\", \"Topic1\", \"Topic1\", \"Topic1\", \"Topic1\", \"Topic1\", \"Topic1\", \"Topic1\", \"Topic1\", \"Topic1\", \"Topic1\", \"Topic1\", \"Topic1\", \"Topic1\", \"Topic1\", \"Topic1\", \"Topic1\", \"Topic1\", \"Topic1\", \"Topic1\", \"Topic1\", \"Topic1\", \"Topic1\", \"Topic1\", \"Topic1\", \"Topic1\", \"Topic1\", \"Topic1\", \"Topic1\", \"Topic1\", \"Topic1\", \"Topic1\", \"Topic2\", \"Topic2\", \"Topic2\", \"Topic2\", \"Topic2\", \"Topic2\", \"Topic2\", \"Topic2\", \"Topic2\", \"Topic2\", \"Topic2\", \"Topic2\", \"Topic2\", \"Topic2\", \"Topic2\", \"Topic2\", \"Topic2\", \"Topic2\", \"Topic2\", \"Topic2\", \"Topic2\", \"Topic2\", \"Topic2\", \"Topic2\", \"Topic2\", \"Topic2\", \"Topic2\", \"Topic2\", \"Topic2\", \"Topic2\", \"Topic2\", \"Topic2\", \"Topic2\", \"Topic2\", \"Topic2\", \"Topic2\", \"Topic2\", \"Topic2\", \"Topic2\", \"Topic2\", \"Topic2\", \"Topic2\", \"Topic2\", \"Topic2\", \"Topic2\", \"Topic2\", \"Topic2\", \"Topic2\", \"Topic2\", \"Topic2\", \"Topic2\", \"Topic2\", \"Topic2\", \"Topic2\", \"Topic2\", \"Topic2\", \"Topic2\", \"Topic2\", \"Topic2\", \"Topic2\", \"Topic3\", \"Topic3\", \"Topic3\", \"Topic3\", \"Topic3\", \"Topic3\", \"Topic3\", \"Topic3\", \"Topic3\", \"Topic3\", \"Topic3\", \"Topic3\", \"Topic3\", \"Topic3\", \"Topic3\", \"Topic3\", \"Topic3\", \"Topic3\", \"Topic3\", \"Topic3\", \"Topic3\", \"Topic3\", \"Topic3\", \"Topic3\", \"Topic3\", \"Topic3\", \"Topic3\", \"Topic3\", \"Topic3\", \"Topic3\", \"Topic3\", \"Topic3\", \"Topic3\", \"Topic3\", \"Topic3\", \"Topic3\", \"Topic3\", \"Topic3\", \"Topic3\", \"Topic3\", \"Topic3\", \"Topic3\", \"Topic3\", \"Topic3\", \"Topic3\", \"Topic3\", \"Topic3\", \"Topic3\", \"Topic3\", \"Topic3\", \"Topic3\", \"Topic3\"], \"logprob\": [30.0, 29.0, 28.0, 27.0, 26.0, 25.0, 24.0, 23.0, 22.0, 21.0, 20.0, 19.0, 18.0, 17.0, 16.0, 15.0, 14.0, 13.0, 12.0, 11.0, 10.0, 9.0, 8.0, 7.0, 6.0, 5.0, 4.0, 3.0, 2.0, 1.0, -5.8201, -5.9097, -5.9578, -5.9578, -6.1174, -6.1174, -6.0636, -6.4577, -6.4577, -6.4577, -6.4581, -6.5423, -6.5423, -6.5423, -6.544, -6.6347, -6.6347, -6.6347, -6.7364, -6.7365, -6.7375, -6.85, -6.8501, -6.9777, -6.9777, -5.6616, -7.1242, -7.1242, -7.1243, -7.1243, -6.4608, -6.5422, -4.5164, -6.2394, -6.2396, -6.2396, -6.0616, -6.4576, -6.4576, -6.1766, -6.0677, -4.7913, -5.6343, -6.2207, -6.117, -5.4416, -5.7778, -5.0899, -5.8229, -5.604, -6.1467, -5.9555, -5.9575, -5.8375, -6.2397, -6.336, -6.0308, -6.1176, -6.1206, -6.113, -6.2184, -4.7143, -5.8349, -6.0557, -6.2854, -6.2854, -6.3385, -6.2389, -6.1954, -6.4543, -6.5846, -4.4374, -6.6596, -6.0399, -6.7352, -6.7352, -6.7352, -6.8195, -6.6684, -6.8234, -6.9119, -6.9119, -6.912, -6.9122, -6.9124, -7.0137, -7.0138, -7.014, -6.756, -7.018, -7.127, -5.9067, -4.4527, -5.2153, -6.3946, -5.6606, -5.4864, -5.5584, -6.0974, -6.5174, -4.0276, -5.6242, -5.556, -5.5107, -4.7836, -5.6875, -5.2924, -6.0537, -5.226, -6.1569, -5.2324, -5.5031, -5.6221, -5.2964, -5.5833, -5.4415, -5.8948, -5.5886, -5.6281, -5.9595, -5.5912, -4.4775, -4.5642, -5.1316, -5.3755, -5.4127, -5.3577, -5.4517, -4.4066, -5.3767, -5.4152, -5.6014, -5.5572, -5.7505, -5.5606, -4.4334, -5.8638, -5.8943, -5.9581, -5.0112, -5.8968, -6.0263, -6.0263, -6.0263, -6.0263, -6.0264, -6.0272, -5.9291, -5.9939, -6.0632, -6.0995, -4.872, -4.8245, -4.8629, -5.4922, -4.4369, -3.9092, -4.7813, -4.7473, -5.0613, -5.3406, -4.5167, -4.9775, -5.5464, -5.3749, -3.8256, -5.3049, -5.1874, -4.9216, -5.3357, -5.4164, -5.3226, -5.3975], \"loglift\": [30.0, 29.0, 28.0, 27.0, 26.0, 25.0, 24.0, 23.0, 22.0, 21.0, 20.0, 19.0, 18.0, 17.0, 16.0, 15.0, 14.0, 13.0, 12.0, 11.0, 10.0, 9.0, 8.0, 7.0, 6.0, 5.0, 4.0, 3.0, 2.0, 1.0, 1.3661, 1.3633, 1.3617, 1.3617, 1.3558, 1.3558, 1.3555, 1.3398, 1.3397, 1.3397, 1.3393, 1.3349, 1.3348, 1.3348, 1.3331, 1.3291, 1.3291, 1.329, 1.3222, 1.3221, 1.321, 1.3133, 1.3133, 1.3027, 1.3027, 1.2966, 1.2888, 1.2888, 1.2887, 1.2887, 1.257, 1.2492, 1.0053, 1.1673, 1.1671, 1.1671, 1.0647, 1.1868, 1.1867, 0.9864, 0.9018, -0.1163, 0.5445, 0.9845, 0.8147, 0.0307, 0.3031, -0.6294, 0.3028, -0.0504, 0.7495, 0.4521, 0.4291, -0.2154, 0.7221, 0.9102, -0.3129, -0.074, -0.0624, -0.3436, 0.0303, 1.0314, 1.0206, 1.0152, 1.0089, 1.0088, 1.0071, 1.0068, 1.0034, 1.0027, 0.9977, 0.9921, 0.9919, 0.9917, 0.9906, 0.9905, 0.9905, 0.9864, 0.9831, 0.9826, 0.9812, 0.9812, 0.9812, 0.9809, 0.9807, 0.975, 0.9749, 0.9747, 0.9712, 0.9707, 0.9673, 0.9537, 0.9171, 0.9229, 0.9551, 0.9004, 0.8606, 0.8517, 0.9048, 0.9441, 0.6474, 0.7899, 0.7762, 0.738, 0.5841, 0.7675, 0.6655, 0.8163, 0.4919, 0.8046, 0.4315, 0.4569, 0.5037, 0.2572, 0.3647, 0.1806, 0.5129, -0.1163, -0.1064, 0.3808, -1.1306, 0.9121, 0.9112, 0.9076, 0.905, 0.9048, 0.9048, 0.9043, 0.9042, 0.9039, 0.9025, 0.9023, 0.9021, 0.9, 0.8987, 0.8983, 0.8979, 0.8973, 0.8961, 0.8954, 0.8948, 0.8946, 0.8946, 0.8946, 0.8946, 0.8946, 0.8939, 0.8936, 0.8931, 0.893, 0.8929, 0.8831, 0.8798, 0.8728, 0.8837, 0.8602, 0.8361, 0.8626, 0.8507, 0.8599, 0.8699, 0.8332, 0.8443, 0.8719, 0.8379, 0.635, 0.8002, 0.7439, 0.5713, 0.7554, 0.7862, 0.4468, 0.0748]}, \"token.table\": {\"Topic\": [1, 2, 3, 3, 1, 2, 3, 3, 1, 2, 3, 1, 2, 3, 1, 2, 2, 1, 2, 3, 1, 2, 2, 1, 1, 1, 2, 3, 2, 1, 2, 3, 1, 2, 3, 1, 3, 1, 2, 3, 3, 2, 2, 1, 2, 3, 2, 2, 3, 1, 2, 2, 3, 2, 1, 2, 3, 3, 1, 2, 3, 1, 2, 3, 2, 2, 1, 1, 2, 3, 1, 3, 2, 3, 1, 2, 3, 1, 1, 2, 1, 2, 1, 2, 3, 2, 2, 3, 2, 3, 1, 2, 3, 2, 3, 1, 2, 3, 3, 2, 3, 2, 3, 1, 2, 3, 1, 2, 3, 1, 2, 3, 1, 2, 3, 1, 2, 3, 3, 1, 2, 3, 1, 2, 3, 1, 1, 1, 2, 1, 1, 2, 3, 1, 1, 2, 3, 2, 1, 2, 3, 2, 1, 2, 1, 2, 2, 1, 2, 3, 1, 2, 3, 3, 2, 3, 1, 2, 2, 1, 2, 1, 2, 3, 3, 2, 3, 1, 2, 1, 2, 2, 1, 2, 3, 1, 2, 1, 2, 3, 1, 2, 3, 1, 2, 1, 2, 3, 1, 2, 1, 2, 3, 2, 1, 2, 3, 1, 2, 2, 3, 1, 1, 3, 1, 1, 1, 2, 3, 1, 2, 3, 3, 1, 2, 3, 3, 1, 1, 2, 3, 1, 2, 1, 2, 3, 1, 2, 1, 1, 1, 2, 1, 1, 2, 3, 3, 1, 1, 2, 3, 2, 1, 2, 1, 2, 1, 3, 1, 2, 3, 2, 1, 2, 3, 3, 1, 3, 1, 2, 3, 2, 3, 1, 2, 3, 1, 1, 2, 3, 3, 1, 3, 1, 2, 1, 2, 3, 3, 3], \"Freq\": [0.024724977132863448, 0.012362488566431724, 0.9519116196152427, 0.9940102266842946, 0.23892048606969588, 0.2218547370647176, 0.5461039681593048, 0.97060977702762, 0.17957721286564615, 0.7632031546789962, 0.06734145482461731, 0.18217020722660535, 0.582944663125137, 0.2428936096354738, 0.8336556471423252, 0.16673112942846505, 0.9411006636064639, 0.5943606428904902, 0.25472598981021005, 0.12736299490510503, 0.7888297568109255, 0.19720743920273137, 0.9622645141386104, 0.9638687074138974, 0.8830914011915777, 0.32865904963807674, 0.5842827549121363, 0.07303534436401704, 0.9622639249394118, 0.9470040692086464, 0.9799211062999175, 0.9884463983172644, 0.045255736876614196, 0.5204409740810633, 0.452557368766142, 0.9835343559585421, 0.9879867135866247, 0.02395932752420362, 0.01197966376210181, 0.9583731009681448, 0.9804857867287534, 0.9398861652606315, 0.9622623832662477, 0.6786681803764457, 0.31937326135362154, 0.009980414417300673, 0.9622628246055543, 0.008082485158000524, 0.9860631892760638, 0.9806176563044924, 0.9948052207886934, 0.9486358571904825, 0.04517313605668964, 0.9398883388777024, 0.19861876041453483, 0.4193062719862402, 0.3751687696718991, 0.9859185032290007, 0.2354727489010596, 0.1345558565148912, 0.6391403184457332, 0.9449091855895576, 0.9622685627156784, 0.980582345127161, 0.941100994010578, 0.9513049659288775, 0.9491107929719232, 0.897272001559376, 0.0897272001559376, 0.9706094186984371, 0.9716203558186219, 0.9634894871478564, 0.016506853162546097, 0.9821577631714928, 0.08942730175400551, 0.017885460350801102, 0.8942730175400552, 0.8990656120023194, 0.06943514308585476, 0.9026568601161119, 0.9716225226401289, 0.9236297175910746, 0.8990634050891898, 0.15033009972078887, 0.8418485584364177, 0.9057443409884339, 0.9864163329179366, 0.012486282695163754, 0.025207707190807487, 0.9704967268460883, 0.6158259215917401, 0.22393669876063277, 0.16795252407047456, 0.9894222421295535, 0.9706102404141174, 0.379237541143547, 0.1896187705717735, 0.42664223378649035, 0.9950297281837815, 0.9402901017047884, 0.9953658508279597, 0.9849142091099782, 0.9909842114585095, 0.16984676419583591, 0.8249699975226317, 0.9773390059086866, 0.011278144659029325, 0.0451125786361173, 0.9473641513584633, 0.011505648603316052, 0.5407654843558545, 0.448720295529326, 0.04585708710850668, 0.5044279581935734, 0.4432851753822312, 0.4235945204320568, 0.01925429638327531, 0.558374595114984, 0.983595213016411, 0.1139013678399527, 0.8428701220156499, 0.04556054713598108, 0.044641616540634234, 0.014880538846878077, 0.9374739473533188, 0.9638689265904794, 0.9716000582327282, 0.11286754004266682, 0.8747234353306679, 0.9317875128114536, 0.021544873631497867, 0.043089747262995734, 0.9372020029701573, 0.946922013304664, 0.5128700501613018, 0.35506388088090124, 0.11835462696030041, 0.9866316164261335, 0.11637240508325288, 0.17455860762487932, 0.7079321309231217, 0.9948030883795428, 0.980619684354618, 0.9411003604347059, 0.0761314498079737, 0.9135773976956845, 0.9798900946865001, 0.387297673148442, 0.580946509722663, 0.024206104571777624, 0.030940979120881555, 0.556937624175868, 0.417703218131901, 0.9940482371595006, 0.0234484144690235, 0.9613849932299635, 0.1109279366210438, 0.8874234929683504, 0.967750981173487, 0.7888113427089435, 0.19720283567723587, 0.23698363730158833, 0.4533600017943429, 0.30910909213250654, 0.9706736636776165, 0.0397463457213908, 0.953912297313379, 0.24778007366797616, 0.7433402210039285, 0.06208689404976155, 0.9313034107464233, 0.9611400732954648, 0.02446475229459519, 0.02446475229459519, 0.9541253394892124, 0.13159587516097954, 0.8773058344065303, 0.8990627718591755, 0.05581080534357146, 0.9408107186487761, 0.13124400245828732, 0.1139750547664074, 0.7529261193659641, 0.788810969122333, 0.19720274228058324, 0.6449023273172768, 0.10748372121954614, 0.21496744243909227, 0.21927975659085122, 0.779661356767471, 0.17899472139959216, 0.2045653958852482, 0.6264815248985726, 0.9411346957577406, 0.10582475031396715, 0.052912375156983577, 0.8465980025117372, 0.6952901178010736, 0.24831789921466915, 0.06736959971238253, 0.929700476030879, 0.9835361669305166, 0.01466556750818845, 0.9825930230486262, 0.8830867384196903, 0.9179362148116299, 0.2564800242946876, 0.31347558524906255, 0.4274667071578126, 0.009101168303684043, 0.9556226718868245, 0.03640467321473617, 0.9706091088798725, 0.572356601873092, 0.4088261441950657, 0.04088261441950657, 0.9556976120191386, 0.9470044943256041, 0.5055748887917403, 0.4634436480590952, 0.9950068232153789, 0.19218155424239713, 0.807162527818068, 0.05042752059036993, 0.03361834706024662, 0.9160999573917203, 0.9716205212463528, 0.9152215011337069, 0.8830435878083185, 0.9179386323723158, 0.9235248050736994, 0.0839568004612454, 0.8990655909881801, 0.08423475207909908, 0.8002301447514414, 0.16846950415819817, 0.9897412123421401, 0.9179370386256636, 0.20303979367525765, 0.7613992262822162, 0.025379974209407206, 0.9236244294964862, 0.8336535818282416, 0.16673071636564832, 0.8691748504357506, 0.09657498338175007, 0.1183072448369552, 0.8675864621376714, 0.33172609153496263, 0.33172609153496263, 0.33172609153496263, 0.9948027656732126, 0.2182774548802408, 0.6762321151191774, 0.10699875239227491, 0.9839422000808844, 0.9470053264902901, 0.9706094592191807, 0.036732977458879115, 0.041324599641239, 0.9229160586543377, 0.679267018732085, 0.30875773578731136, 0.10288270565954553, 0.8830765569110992, 0.017147117609924257, 0.9449103680327791, 0.0398433536184752, 0.0398433536184752, 0.9163971332249295, 0.9874175082679335, 0.9776747092984538, 0.9657177242199538, 0.6697423637060478, 0.3091118601720221, 0.08555704347386582, 0.6331221217066071, 0.2823382434637572, 0.9955562433739634, 0.9970404045054619], \"Term\": [\"01\", \"01\", \"01\", \"03\", \"1\", \"1\", \"1\", \"10year\", \"2017\", \"2017\", \"2017\", \"2018\", \"2018\", \"2018\", \"2019\", \"2019\", \"2020\", \"4\", \"4\", \"4\", \"7\", \"7\", \"aim\", \"alabama\", \"alonso\", \"also\", \"also\", \"also\", \"aluminum\", \"amendment\", \"america\", \"asian\", \"australia\", \"australia\", \"australia\", \"ball\", \"barrel\", \"benchmark\", \"benchmark\", \"benchmark\", \"bond\", \"canada\", \"canadian\", \"car\", \"car\", \"car\", \"cell\", \"cent\", \"cent\", \"chevy\", \"co\", \"commercial\", \"commercial\", \"commodity\", \"company\", \"company\", \"company\", \"composite\", \"could\", \"could\", \"could\", \"crossback\", \"crossover\", \"crude\", \"culture\", \"customer\", \"d\", \"declining\", \"declining\", \"dipped\", \"dont\", \"dow\", \"earnings\", \"earnings\", \"economy\", \"economy\", \"economy\", \"electrical\", \"electrified\", \"electrified\", \"f1\", \"factory\", \"fee\", \"fell\", \"fell\", \"fleet\", \"ford\", \"ford\", \"friday\", \"friday\", \"front\", \"front\", \"front\", \"fuel\", \"fueled\", \"get\", \"get\", \"get\", \"highest\", \"hma\", \"hong\", \"hydrogen\", \"index\", \"industry\", \"industry\", \"interest\", \"investor\", \"investor\", \"investor\", \"january\", \"january\", \"january\", \"japan\", \"japan\", \"japan\", \"job\", \"job\", \"job\", \"kong\", \"last\", \"last\", \"last\", \"latest\", \"latest\", \"latest\", \"law\", \"le\", \"lexus\", \"lexus\", \"losing\", \"lower\", \"lower\", \"lower\", \"magazine\", \"make\", \"make\", \"make\", \"margin\", \"market\", \"market\", \"market\", \"matcha\", \"mclaren\", \"member\", \"million\", \"million\", \"mobility\", \"model\", \"model\", \"model\", \"month\", \"month\", \"month\", \"monthly\", \"mostly\", \"mostly\", \"motor\", \"motor\", \"museum\", \"need\", \"need\", \"new\", \"new\", \"new\", \"nikkei\", \"oil\", \"oil\", \"one\", \"one\", \"operating\", \"operating\", \"overall\", \"pace\", \"pace\", \"pace\", \"part\", \"part\", \"pay\", \"per\", \"per\", \"percent\", \"percent\", \"percent\", \"player\", \"player\", \"point\", \"point\", \"point\", \"post\", \"post\", \"price\", \"price\", \"price\", \"product\", \"rate\", \"rate\", \"rate\", \"release\", \"release\", \"report\", \"report\", \"review\", \"rose\", \"rose\", \"ruck\", \"rugby\", \"said\", \"said\", \"said\", \"sale\", \"sale\", \"sale\", \"sank\", \"say\", \"say\", \"say\", \"score\", \"scrum\", \"see\", \"see\", \"seng\", \"service\", \"service\", \"share\", \"share\", \"share\", \"soul\", \"source\", \"space\", \"spec\", \"state\", \"state\", \"stop\", \"strong\", \"strong\", \"strong\", \"stronger\", \"suspect\", \"suv\", \"suv\", \"suv\", \"target\", \"team\", \"team\", \"think\", \"think\", \"thursday\", \"thursday\", \"time\", \"time\", \"time\", \"tour\", \"toyota\", \"toyota\", \"toyota\", \"trading\", \"training\", \"treasury\", \"u\", \"u\", \"u\", \"unit\", \"unit\", \"vehicle\", \"vehicle\", \"vehicle\", \"warranty\", \"week\", \"week\", \"week\", \"weigh\", \"workforce\", \"worry\", \"would\", \"would\", \"year\", \"year\", \"year\", \"yen\", \"yield\"]}, \"R\": 30, \"lambda.step\": 0.01, \"plot.opts\": {\"xlab\": \"PC1\", \"ylab\": \"PC2\"}, \"topic.order\": [1, 2, 3]};\n",
       "\n",
       "function LDAvis_load_lib(url, callback){\n",
       "  var s = document.createElement('script');\n",
       "  s.src = url;\n",
       "  s.async = true;\n",
       "  s.onreadystatechange = s.onload = callback;\n",
       "  s.onerror = function(){console.warn(\"failed to load library \" + url);};\n",
       "  document.getElementsByTagName(\"head\")[0].appendChild(s);\n",
       "}\n",
       "\n",
       "if(typeof(LDAvis) !== \"undefined\"){\n",
       "   // already loaded: just create the visualization\n",
       "   !function(LDAvis){\n",
       "       new LDAvis(\"#\" + \"ldavis_el5301398075120337442056528442\", ldavis_el5301398075120337442056528442_data);\n",
       "   }(LDAvis);\n",
       "}else if(typeof define === \"function\" && define.amd){\n",
       "   // require.js is available: use it to load d3/LDAvis\n",
       "   require.config({paths: {d3: \"https://d3js.org/d3.v5\"}});\n",
       "   require([\"d3\"], function(d3){\n",
       "      window.d3 = d3;\n",
       "      LDAvis_load_lib(\"https://cdn.jsdelivr.net/gh/bmabey/pyLDAvis@3.3.1/pyLDAvis/js/ldavis.v3.0.0.js\", function(){\n",
       "        new LDAvis(\"#\" + \"ldavis_el5301398075120337442056528442\", ldavis_el5301398075120337442056528442_data);\n",
       "      });\n",
       "    });\n",
       "}else{\n",
       "    // require.js not available: dynamically load d3 & LDAvis\n",
       "    LDAvis_load_lib(\"https://d3js.org/d3.v5.js\", function(){\n",
       "         LDAvis_load_lib(\"https://cdn.jsdelivr.net/gh/bmabey/pyLDAvis@3.3.1/pyLDAvis/js/ldavis.v3.0.0.js\", function(){\n",
       "                 new LDAvis(\"#\" + \"ldavis_el5301398075120337442056528442\", ldavis_el5301398075120337442056528442_data);\n",
       "            })\n",
       "         });\n",
       "}\n",
       "</script>"
      ],
      "text/plain": [
       "<IPython.core.display.HTML object>"
      ]
     },
     "execution_count": 63,
     "metadata": {},
     "output_type": "execute_result"
    }
   ],
   "source": [
    "%%time\n",
    "\n",
    "lda_display = gensimvis.prepare(ldamodel, doc_term_matrix, dictionary, sort_topics=False, mds='mmds')\n",
    "pyLDAvis.display(lda_display)"
   ]
  },
  {
   "cell_type": "markdown",
   "metadata": {},
   "source": [
    "#### 5 topic model"
   ]
  },
  {
   "cell_type": "code",
   "execution_count": 64,
   "metadata": {},
   "outputs": [
    {
     "name": "stdout",
     "output_type": "stream",
     "text": [
      "CPU times: user 1.45 s, sys: 253 ms, total: 1.7 s\n",
      "Wall time: 1.69 s\n"
     ]
    }
   ],
   "source": [
    "%%time\n",
    "\n",
    "num_topics = 5\n",
    "iterations = 100\n",
    "passes = 20\n",
    "workers = num_processors-1\n",
    "eval_every = None\n",
    "\n",
    "ldamodel = LdaMulticore(corpus=doc_term_matrix,\n",
    "                       id2word=dictionary,\n",
    "                       eta='auto',\n",
    "                       num_topics=num_topics,\n",
    "                       iterations=iterations,\n",
    "                       passes=passes,\n",
    "                       eval_every=eval_every,\n",
    "                       workers = workers)"
   ]
  },
  {
   "cell_type": "code",
   "execution_count": 65,
   "metadata": {},
   "outputs": [
    {
     "name": "stdout",
     "output_type": "stream",
     "text": [
      "(0, '0.016*\"toyota\" + 0.013*\"sale\" + 0.012*\"percent\"')\n",
      "\n",
      "(1, '0.011*\"toyota\" + 0.010*\"car\" + 0.007*\"company\"')\n",
      "\n",
      "(2, '0.013*\"toyota\" + 0.009*\"car\" + 0.008*\"japan\"')\n",
      "\n",
      "(3, '0.025*\"percent\" + 0.022*\"u\" + 0.014*\"earnings\"')\n",
      "\n",
      "(4, '0.017*\"ford\" + 0.010*\"cent\" + 0.010*\"per\"')\n"
     ]
    }
   ],
   "source": [
    "print(*ldamodel.print_topics(num_topics=num_topics, num_words=3), sep='\\n\\n')"
   ]
  },
  {
   "cell_type": "code",
   "execution_count": 66,
   "metadata": {},
   "outputs": [
    {
     "name": "stdout",
     "output_type": "stream",
     "text": [
      "(0, '0.016*\"toyota\" + 0.013*\"sale\" + 0.012*\"percent\" + 0.012*\"vehicle\" + 0.011*\"year\"')\n",
      "\n",
      "(1, '0.011*\"toyota\" + 0.010*\"car\" + 0.007*\"company\" + 0.007*\"vehicle\" + 0.006*\"hydrogen\"')\n",
      "\n",
      "(2, '0.013*\"toyota\" + 0.009*\"car\" + 0.008*\"japan\" + 0.006*\"d\" + 0.005*\"also\"')\n",
      "\n",
      "(3, '0.025*\"percent\" + 0.022*\"u\" + 0.014*\"earnings\" + 0.013*\"yield\" + 0.012*\"index\"')\n",
      "\n",
      "(4, '0.017*\"ford\" + 0.010*\"cent\" + 0.010*\"per\" + 0.007*\"toyota\" + 0.007*\"margin\"')\n"
     ]
    }
   ],
   "source": [
    "print(*ldamodel.print_topics(num_topics=num_topics, num_words=5), sep='\\n\\n')"
   ]
  },
  {
   "cell_type": "code",
   "execution_count": 67,
   "metadata": {},
   "outputs": [
    {
     "name": "stdout",
     "output_type": "stream",
     "text": [
      "(0, '0.016*\"toyota\" + 0.013*\"sale\" + 0.012*\"percent\" + 0.012*\"vehicle\" + 0.011*\"year\" + 0.010*\"january\" + 0.008*\"unit\"')\n",
      "\n",
      "(1, '0.011*\"toyota\" + 0.010*\"car\" + 0.007*\"company\" + 0.007*\"vehicle\" + 0.006*\"hydrogen\" + 0.006*\"australia\" + 0.006*\"state\"')\n",
      "\n",
      "(2, '0.013*\"toyota\" + 0.009*\"car\" + 0.008*\"japan\" + 0.006*\"d\" + 0.005*\"also\" + 0.005*\"new\" + 0.005*\"air\"')\n",
      "\n",
      "(3, '0.025*\"percent\" + 0.022*\"u\" + 0.014*\"earnings\" + 0.013*\"yield\" + 0.012*\"index\" + 0.010*\"lower\" + 0.010*\"share\"')\n",
      "\n",
      "(4, '0.017*\"ford\" + 0.010*\"cent\" + 0.010*\"per\" + 0.007*\"toyota\" + 0.007*\"margin\" + 0.006*\"post\" + 0.006*\"company\"')\n"
     ]
    }
   ],
   "source": [
    "print(*ldamodel.print_topics(num_topics=num_topics, num_words=7), sep='\\n\\n')"
   ]
  },
  {
   "cell_type": "code",
   "execution_count": 68,
   "metadata": {},
   "outputs": [
    {
     "name": "stdout",
     "output_type": "stream",
     "text": [
      "(0, '0.016*\"toyota\" + 0.013*\"sale\" + 0.012*\"percent\" + 0.012*\"vehicle\" + 0.011*\"year\" + 0.010*\"january\" + 0.008*\"unit\" + 0.007*\"market\" + 0.007*\"said\" + 0.007*\"2018\"')\n",
      "\n",
      "(1, '0.011*\"toyota\" + 0.010*\"car\" + 0.007*\"company\" + 0.007*\"vehicle\" + 0.006*\"hydrogen\" + 0.006*\"australia\" + 0.006*\"state\" + 0.005*\"new\" + 0.005*\"job\" + 0.004*\"workforce\"')\n",
      "\n",
      "(2, '0.013*\"toyota\" + 0.009*\"car\" + 0.008*\"japan\" + 0.006*\"d\" + 0.005*\"also\" + 0.005*\"new\" + 0.005*\"air\" + 0.004*\"lexus\" + 0.004*\"model\" + 0.004*\"museum\"')\n",
      "\n",
      "(3, '0.025*\"percent\" + 0.022*\"u\" + 0.014*\"earnings\" + 0.013*\"yield\" + 0.012*\"index\" + 0.010*\"lower\" + 0.010*\"share\" + 0.010*\"investor\" + 0.009*\"benchmark\" + 0.009*\"cent\"')\n",
      "\n",
      "(4, '0.017*\"ford\" + 0.010*\"cent\" + 0.010*\"per\" + 0.007*\"toyota\" + 0.007*\"margin\" + 0.006*\"post\" + 0.006*\"company\" + 0.006*\"sale\" + 0.006*\"price\" + 0.005*\"commodity\"')\n"
     ]
    }
   ],
   "source": [
    "print(*ldamodel.print_topics(num_topics=num_topics, num_words=10), sep='\\n\\n')"
   ]
  },
  {
   "cell_type": "code",
   "execution_count": 69,
   "metadata": {},
   "outputs": [
    {
     "name": "stdout",
     "output_type": "stream",
     "text": [
      "(0, '0.016*\"toyota\" + 0.013*\"sale\" + 0.012*\"percent\" + 0.012*\"vehicle\" + 0.011*\"year\" + 0.010*\"january\" + 0.008*\"unit\" + 0.007*\"market\" + 0.007*\"said\" + 0.007*\"2018\"')\n",
      "\n",
      "(1, '0.011*\"toyota\" + 0.010*\"car\" + 0.007*\"company\" + 0.007*\"vehicle\" + 0.006*\"hydrogen\" + 0.006*\"australia\" + 0.006*\"state\" + 0.005*\"new\" + 0.005*\"job\" + 0.004*\"workforce\"')\n",
      "\n",
      "(2, '0.013*\"toyota\" + 0.009*\"car\" + 0.008*\"japan\" + 0.006*\"d\" + 0.005*\"also\" + 0.005*\"new\" + 0.005*\"air\" + 0.004*\"lexus\" + 0.004*\"model\" + 0.004*\"museum\"')\n",
      "\n",
      "(3, '0.025*\"percent\" + 0.022*\"u\" + 0.014*\"earnings\" + 0.013*\"yield\" + 0.012*\"index\" + 0.010*\"lower\" + 0.010*\"share\" + 0.010*\"investor\" + 0.009*\"benchmark\" + 0.009*\"cent\"')\n",
      "\n",
      "(4, '0.017*\"ford\" + 0.010*\"cent\" + 0.010*\"per\" + 0.007*\"toyota\" + 0.007*\"margin\" + 0.006*\"post\" + 0.006*\"company\" + 0.006*\"sale\" + 0.006*\"price\" + 0.005*\"commodity\"')\n"
     ]
    }
   ],
   "source": [
    "print(*ldamodel.print_topics(num_topics=num_topics, num_words=10), sep='\\n\\n')"
   ]
  },
  {
   "cell_type": "code",
   "execution_count": 70,
   "metadata": {},
   "outputs": [
    {
     "name": "stdout",
     "output_type": "stream",
     "text": [
      "CPU times: user 186 ms, sys: 23.9 ms, total: 210 ms\n",
      "Wall time: 280 ms\n"
     ]
    },
    {
     "data": {
      "text/html": [
       "\n",
       "<link rel=\"stylesheet\" type=\"text/css\" href=\"https://cdn.jsdelivr.net/gh/bmabey/pyLDAvis@3.3.1/pyLDAvis/js/ldavis.v1.0.0.css\">\n",
       "\n",
       "\n",
       "<div id=\"ldavis_el530139807512033104613768003\"></div>\n",
       "<script type=\"text/javascript\">\n",
       "\n",
       "var ldavis_el530139807512033104613768003_data = {\"mdsDat\": {\"x\": [-0.0730716068509327, -0.07365903467277272, -0.21560217082435684, 0.268179508532224, 0.0941533038158382], \"y\": [0.1659600192713715, -0.10488567234284268, -0.013823505490397165, -0.1705799183350062, 0.12332907689687458], \"topics\": [1, 2, 3, 4, 5], \"cluster\": [1, 1, 1, 1, 1], \"Freq\": [24.463626185071544, 15.672934764063493, 12.682012678596543, 36.62939519126207, 10.552031181006347]}, \"tinfo\": {\"Term\": [\"percent\", \"yield\", \"ford\", \"earnings\", \"u\", \"index\", \"sale\", \"cent\", \"per\", \"toyota\", \"investor\", \"benchmark\", \"car\", \"01\", \"lower\", \"friday\", \"vehicle\", \"january\", \"barrel\", \"unit\", \"latest\", \"rose\", \"report\", \"japan\", \"last\", \"trading\", \"hydrogen\", \"bond\", \"crude\", \"yen\", \"law\", \"registration\", \"canada\", \"player\", \"ball\", \"win\", \"f1\", \"amendment\", \"scrum\", \"magazine\", \"suspect\", \"rugby\", \"canadian\", \"export\", \"ruck\", \"alonso\", \"ram\", \"followed\", \"comment\", \"last\", \"24\", \"mclaren\", \"version\", \"fiat\", \"compared\", \"esso\", \"11\", \"jeep\", \"allnew\", \"tackle\", \"le\", \"game\", \"chrysler\", \"co\", \"unit\", \"sale\", \"16\", \"january\", \"vehicle\", \"customer\", \"automobile\", \"year\", \"suv\", \"million\", \"increase\", \"toyota\", \"2018\", \"month\", \"market\", \"motor\", \"said\", \"two\", \"percent\", \"2017\", \"industry\", \"ford\", \"one\", \"new\", \"car\", \"model\", \"share\", \"time\", \"u\", \"per\", \"hydrogen\", \"workforce\", \"alabama\", \"review\", \"hma\", \"training\", \"mobility\", \"cell\", \"education\", \"state\", \"development\", \"aidt\", \"tundra\", \"pay\", \"research\", \"fee\", \"emission\", \"environmental\", \"birmingham\", \"redesign\", \"resident\", \"hmca\", \"critical\", \"position\", \"fuelcell\", \"renewable\", \"2050\", \"spec\", \"taylor\", \"nation\", \"electrified\", \"program\", \"body\", \"date\", \"continue\", \"2019\", \"hyundai\", \"need\", \"picture\", \"great\", \"challenge\", \"concept\", \"car\", \"australia\", \"technology\", \"news\", \"release\", \"fuel\", \"company\", \"toyota\", \"job\", \"vehicle\", \"industry\", \"new\", \"also\", \"said\", \"2018\", \"time\", \"4\", \"unit\", \"sale\", \"d\", \"museum\", \"tour\", \"matcha\", \"soul\", \"culture\", \"march\", \"sensor\", \"crossback\", \"transmission\", \"bag\", \"doll\", \"weaving\", \"electrical\", \"stop\", \"interior\", \"factory\", \"touchscreen\", \"karakuri\", \"quite\", \"prefecture\", \"recalling\", \"replace\", \"serial\", \"inspect\", \"circuit\", \"rear\", \"refurbished\", \"navigation\", \"2000\", \"air\", \"cx3\", \"automatic\", \"engine\", \"work\", \"owner\", \"japan\", \"car\", \"like\", \"lexus\", \"toyota\", \"learn\", \"also\", \"take\", \"even\", \"make\", \"7\", \"model\", \"light\", \"front\", \"new\", \"suv\", \"could\", \"part\", \"one\", \"vehicle\", \"yield\", \"index\", \"barrel\", \"trading\", \"yen\", \"bond\", \"crude\", \"hong\", \"asian\", \"composite\", \"weigh\", \"earnings\", \"stronger\", \"kong\", \"nikkei\", \"seng\", \"worry\", \"dow\", \"dollar\", \"mercantile\", \"sank\", \"amazon\", \"alphabet\", \"quarterly\", \"6580\", \"107\", \"plate\", \"digesting\", \"overhaul\", \"dipped\", \"benchmark\", \"mostly\", \"score\", \"korea\", \"stoking\", \"risen\", \"prospect\", \"hovered\", \"investor\", \"01\", \"latest\", \"friday\", \"03\", \"lower\", \"rose\", \"providing\", \"u\", \"report\", \"oil\", \"thursday\", \"week\", \"monthly\", \"percent\", \"due\", \"share\", \"economy\", \"cent\", \"per\", \"fell\", \"rate\", \"price\", \"margin\", \"commodity\", \"aluminum\", \"deutsche\", \"shank\", \"france\", \"estate\", \"hackett\", \"wythe\", \"ashmore\", \"dallas\", \"broader\", \"poised\", \"ntcar\", \"kdc\", \"hall\", \"fame\", \"raise\", \"2327453\", \"stepping\", \"hirai\", \"3260178\", \"scorecard\", \"recouped\", \"09\", \"electronics\", \"346208\", \"252539\", \"orchestrating\", \"kazuo\", \"operating\", \"alliance\", \"germany\", \"ford\", \"wage\", \"real\", \"post\", \"improvement\", \"2015\", \"steel\", \"solid\", \"cent\", \"per\", \"2016\", \"profit\", \"ceo\", \"id\", \"contact\", \"2017\", \"price\", \"company\", \"still\", \"automotive\", \"sale\", \"toyota\", \"motor\", \"year\", \"service\", \"chief\", \"market\", \"said\", \"offer\", \"2018\"], \"Freq\": [306.0, 121.0, 72.0, 128.0, 229.0, 111.0, 106.0, 123.0, 125.0, 228.0, 93.0, 88.0, 99.0, 85.0, 97.0, 84.0, 114.0, 88.0, 63.0, 64.0, 71.0, 72.0, 78.0, 64.0, 44.0, 50.0, 24.0, 49.0, 49.0, 47.0, 17.315599677749695, 16.458244597594607, 16.45565868659891, 15.600527033227094, 14.743791315860156, 11.314771297686976, 10.457481150727418, 9.600417199624822, 9.600396506628444, 9.600203134145046, 8.74336894665741, 8.743213392408775, 8.74155224428571, 19.040924631650384, 7.885931808068406, 7.885879718801661, 7.8856235537775285, 18.909873744931357, 7.852160837978904, 40.40073212531866, 7.028653077934436, 7.0286052699772865, 7.014704571272215, 14.743321798907846, 8.51591081691475, 6.171960887215053, 6.171397895003241, 6.171220934206626, 6.167801594943, 6.159261809403126, 9.896667411948382, 11.308955852153055, 15.600231622865003, 9.838704901989363, 51.44260061900968, 80.58343142396922, 10.457763003609124, 61.891559109435605, 73.85232222740778, 14.627840608084549, 12.172142789528849, 67.36549313954144, 26.91389334781514, 19.485380224690637, 23.237250231704376, 99.71512552745753, 40.8909392197999, 34.83506390161271, 45.93554066946007, 26.98075027845886, 41.08821625754891, 15.46975300452858, 74.61934452930369, 22.570255020095118, 21.844922683937238, 26.743385911863754, 21.67037083752128, 27.032180223526705, 25.493654515691574, 18.64552285685246, 20.821228736273607, 18.33891972437532, 18.024360491566497, 17.28280912755757, 24.16361955236689, 16.967213357506868, 16.166865997468545, 13.76522688474111, 11.362122162093643, 8.963554155867396, 8.961654257293574, 8.15754732895133, 6.562226816678784, 21.764837601835406, 10.563930702361898, 4.961801812713437, 4.961695754852724, 4.961509239304572, 4.961423753011669, 4.961374381248923, 4.958697791703755, 4.949618415963944, 4.1614005094528554, 4.161212165320898, 4.161122107568482, 4.1611243932982385, 4.160985878074979, 4.160883934527828, 4.160770562331892, 4.158634319301222, 4.134554156313734, 7.362570062403544, 3.361030749262917, 3.3609886918353924, 11.2204754890671, 9.764791121927049, 7.179004934221791, 8.163076052086986, 6.518081146448585, 8.963365811735438, 11.364273490940707, 10.564434477200288, 7.363479782846736, 9.238349158684839, 11.893561644876037, 8.162527476945362, 38.83477896894638, 21.764947316863733, 10.046888574171398, 13.646784025913314, 11.36536972693205, 9.409415916556618, 27.11097115876984, 44.6755718740012, 19.370219336628843, 25.706567595868695, 15.136401422730351, 21.355563974508623, 14.426504960626616, 16.64459631671845, 12.907189534225921, 10.948483705223348, 9.87651850672948, 10.719563298624116, 10.645828399546682, 17.855727743417262, 12.467341964549146, 9.388893958606872, 9.388902836378655, 9.380281040347537, 7.080079223811732, 6.306675119099245, 6.303693667408375, 5.54109492067877, 5.5330501798136265, 12.350265609330291, 4.771182739534747, 4.77113280206846, 4.770818750891594, 4.770745879181531, 4.7645713889055985, 9.389161031574714, 4.001802114976305, 4.001617901211782, 4.001595336875163, 4.001554647087819, 3.9966925874073223, 3.9966722425136503, 3.9966422800338783, 3.996618605975787, 3.9964913579135466, 8.496002443821796, 3.2323589761082157, 3.2323582362939, 3.232183640115477, 14.537366092963632, 6.300718134232027, 7.726990616699558, 7.720928578199559, 10.1001514413868, 7.028102829272324, 25.55398545173716, 27.78310812829684, 10.976328331345114, 13.509759570053067, 42.138790621696195, 4.771548947620846, 17.215209825842713, 9.789504150184584, 8.2273137215148, 9.999313270575618, 7.852171637743099, 12.544297449632117, 7.971626495985811, 8.146565948251334, 14.687166654793474, 9.980605585983298, 10.633212069470707, 7.894599988728567, 8.8271196573155, 9.412169996596493, 120.35208583677513, 110.43982002344656, 62.60353126675676, 49.96150081083556, 47.287023784965, 49.05497962766313, 48.98164885427409, 47.19769691129068, 45.401082279248946, 39.1330511953805, 33.68697307921686, 125.63426055026945, 28.235437570570113, 27.34726938036459, 25.50715586861307, 29.002446946685893, 29.877993047072398, 24.571151090498567, 23.687886861040404, 23.685350476985015, 25.40511502263078, 21.03559625104776, 21.03480136067825, 21.032976531711697, 21.032735073077948, 21.032544897693846, 21.02955978520406, 21.029408072257194, 21.02775418745612, 25.394176732841796, 85.19524721383125, 43.68388830649167, 23.6430973528812, 22.768014938543573, 22.76795724488772, 22.767444412391264, 22.766816192583107, 22.766685847656923, 88.56190708098056, 81.71196068977963, 68.14698131638286, 79.81809592199333, 40.03387566423814, 92.50402483961115, 68.01763641356845, 34.63522814359045, 203.88989261089446, 72.65957821767498, 49.88693069224676, 49.96198800170719, 48.96881094744615, 39.15112426727643, 228.91548594452317, 42.67115523969911, 92.16853836763806, 50.01604054683363, 83.76010256691636, 82.3971476410859, 53.48848921079349, 47.665934348575476, 48.540040244367766, 17.436451364511168, 13.833843991923608, 7.348996708075094, 6.624396654020113, 5.907949696341989, 5.904344975135278, 5.187440040582531, 4.466974705165779, 4.466952852774583, 4.466896529005729, 4.466866058770119, 4.4619994389169335, 4.461778144983564, 3.7464096489779393, 3.7464065711763626, 3.746369021997126, 3.7463625586138147, 3.745088348761033, 3.742104727912514, 3.742051481945236, 3.7420167027874185, 3.742012086085053, 3.741985924771651, 3.741976075806605, 3.7419416044289453, 3.741892667383875, 3.7417923310524723, 3.7417760187041154, 3.741760321916074, 3.7417187715947873, 11.672580946701467, 6.628722811916417, 8.783942901522732, 44.10190743419169, 6.626264264016895, 7.349905275100556, 16.354794933975036, 5.90837874188179, 8.0729762773322, 5.908371970718321, 6.628078935826558, 25.970957530606643, 25.576132219856344, 9.51436307835938, 12.332659815182035, 6.626222405915451, 7.2206480734016685, 8.548723762699195, 11.678166541002986, 15.020292179424901, 15.838599595846473, 8.070013585534403, 8.791143110531422, 15.348169150277348, 18.87209929671831, 10.956679375462747, 12.902322722302209, 7.878877183134598, 7.346437208283854, 9.887038682282315, 8.592184167644104, 7.102694405773618, 7.373993996921287], \"Total\": [306.0, 121.0, 72.0, 128.0, 229.0, 111.0, 106.0, 123.0, 125.0, 228.0, 93.0, 88.0, 99.0, 85.0, 97.0, 84.0, 114.0, 88.0, 63.0, 64.0, 71.0, 72.0, 78.0, 64.0, 44.0, 50.0, 24.0, 49.0, 49.0, 47.0, 17.956582962229533, 17.0993417779758, 17.09966987949595, 16.24188121386033, 15.384621774921541, 11.955431288634857, 11.09817709473448, 10.240723566032612, 10.240720798039346, 10.240790036865391, 9.383463756700978, 9.383415234753738, 9.383632160237536, 20.471939652512695, 8.526086407442037, 8.52618653630021, 8.526086962644928, 20.46316793057072, 8.527299105026074, 44.06081356804399, 7.668830779612831, 7.6688539074126805, 7.6681176417604, 16.184428109551632, 9.357569536495589, 6.811520515516865, 6.8114683877203115, 6.811452310145092, 6.811548897457619, 6.81118122027407, 11.039829234536368, 12.723727567031345, 17.842229344978207, 11.055950926145577, 64.18266815709386, 106.91672248542143, 11.867304719153475, 88.44695683831594, 114.4254697129249, 17.69141385546207, 14.413063974114387, 116.24513733225456, 39.01559279380406, 26.12679057620272, 32.75002245041471, 228.9228378083986, 82.10392966937214, 65.52111060412867, 103.76334355137034, 51.68660983081908, 107.42766561007515, 22.31743828000362, 306.2100672130401, 42.742305007950904, 40.545316219501274, 72.1423440298964, 46.7965182889383, 96.89892663902293, 99.1020317290774, 40.76242451374996, 123.35932577565829, 57.871731018838645, 229.88938335258825, 125.64008376727745, 24.822780680732933, 17.619230367073342, 16.81881199068396, 14.417619889325278, 12.016285058678603, 9.615072917979976, 9.615072102168938, 8.814444737181542, 7.213819517134241, 23.998671224526497, 11.936078279511065, 5.612985536966808, 5.612977994165074, 5.612988113106641, 5.613006281273722, 5.612973439680381, 5.6128695149339825, 5.613341806603388, 4.8125672268765545, 4.8125845482441125, 4.812560329176481, 4.812568248394893, 4.812547863463138, 4.812552101224038, 4.812571648350054, 4.812411419274123, 4.813840465871611, 8.783469509816678, 4.012143269889192, 4.012143315254509, 13.572328742206125, 12.041034106286586, 8.776431853348521, 10.353675179903197, 8.073321501411318, 11.82513318642745, 16.301959330094586, 15.064087799543133, 9.727833166875964, 12.882612681240612, 17.803510901168767, 11.140513396774868, 99.1020317290774, 43.84743960352478, 16.584049177439802, 27.073153304915685, 20.76125548994924, 15.40788404664809, 88.52662949661722, 228.9228378083986, 53.612091236720715, 114.4254697129249, 40.545316219501274, 96.89892663902293, 53.62111211512599, 107.42766561007515, 82.10392966937214, 57.871731018838645, 24.295261581019986, 64.18266815709386, 106.91672248542143, 18.513997955788632, 13.126049081171363, 10.047185229974602, 10.047200716257418, 10.048166148490749, 7.738034289253574, 6.968508186493847, 6.968694632078506, 6.198594397299532, 6.199547032276022, 13.930673460640058, 5.428886586091419, 5.428886559645517, 5.428904053154936, 5.428910887419021, 5.429859280003628, 10.90350356357456, 4.659158685861016, 4.659167907170663, 4.659177485652184, 4.65916719643701, 4.659427842539076, 4.659415255929561, 4.659420978862262, 4.659424916964612, 4.659437270545779, 10.011615189720617, 3.8894167817985603, 3.889416514803725, 3.8894440059304713, 17.90599478094226, 7.769304983653296, 10.113813656617538, 10.179159215156997, 15.545278595534066, 9.98092422085211, 64.18064476803222, 99.1020317290774, 23.425242630558152, 33.84489266869832, 228.9228378083986, 6.22866341457115, 53.62111211512599, 20.74066270156057, 16.31895848550967, 25.09413080926364, 15.192521881264499, 40.76242451374996, 15.935505703264301, 17.929791676150572, 96.89892663902293, 39.01559279380406, 61.020600090304754, 21.465376928799063, 46.7965182889383, 114.4254697129249, 121.33761591484392, 111.37510460053271, 63.35543749489016, 50.67004791729683, 47.959128435531404, 49.76306844973486, 49.74812201826397, 47.94017123257632, 46.12984103096148, 39.79799202220889, 34.35556847217666, 128.18742126686104, 28.91233980034729, 28.00894739821723, 26.189812269240814, 29.790140294912643, 30.690603653026407, 25.2769125317041, 24.374840701788273, 24.3743656170942, 26.168681980257418, 21.668252551619638, 21.668129510317932, 21.667620824846622, 21.667671127344324, 21.667614311689942, 21.666899062656864, 21.666875955003807, 21.666524645226467, 26.16643588458915, 88.40822718400045, 45.10515479800655, 24.36553328419054, 23.465157300996733, 23.465132294200696, 23.465046080374393, 23.464896266302382, 23.46487061313, 93.18842733112528, 85.84564492962404, 71.33262678711692, 84.01696297493089, 41.55994847052482, 97.84095004818363, 72.22234781126045, 36.070855239235506, 229.88938335258825, 78.32338755161047, 53.05231034163102, 54.11105721117945, 53.00185426387674, 41.51782009674395, 306.2100672130401, 46.705642677061164, 123.35932577565829, 58.82769740078213, 123.93196557382865, 125.64008376727745, 68.31700676801745, 59.45453194881486, 78.4401335895951, 18.104993491054984, 14.502012165292125, 8.016633847631699, 7.296362652961286, 6.575441053861949, 6.5757256171742835, 5.854852383401304, 5.134232453601368, 5.134236975971279, 5.134251953682401, 5.134252924932069, 5.134622929588676, 5.134679723734653, 4.413644336764328, 4.413645796879944, 4.413649654692805, 4.413651237587223, 4.413678609675045, 4.413915729426288, 4.413929553476709, 4.41394193149513, 4.41394345857931, 4.413957634522219, 4.413955927972383, 4.413961671812956, 4.413978221891566, 4.413999228105939, 4.414004728364915, 4.4140078597007, 4.414022424046468, 13.909200514769077, 8.09579848678001, 11.11475146990156, 72.1423440298964, 8.896438545855936, 10.38618113409801, 37.74540144329899, 9.032011035774275, 15.179122834223135, 9.293047743817006, 11.3991587564701, 123.93196557382865, 125.64008376727745, 22.188116632807123, 36.654678855317, 12.268129851526826, 15.141825443623638, 21.383376061367287, 42.742305007950904, 78.4401335895951, 88.52662949661722, 20.139679555823434, 25.027103837785514, 106.91672248542143, 228.9228378083986, 51.68660983081908, 116.24513733225456, 24.199562921130678, 18.132751830239123, 103.76334355137034, 107.42766561007515, 19.123592699769656, 82.10392966937214], \"Category\": [\"Default\", \"Default\", \"Default\", \"Default\", \"Default\", \"Default\", \"Default\", \"Default\", \"Default\", \"Default\", \"Default\", \"Default\", \"Default\", \"Default\", \"Default\", \"Default\", \"Default\", \"Default\", \"Default\", \"Default\", \"Default\", \"Default\", \"Default\", \"Default\", \"Default\", \"Default\", \"Default\", \"Default\", \"Default\", \"Default\", \"Topic1\", \"Topic1\", \"Topic1\", \"Topic1\", \"Topic1\", \"Topic1\", \"Topic1\", \"Topic1\", \"Topic1\", \"Topic1\", \"Topic1\", \"Topic1\", \"Topic1\", \"Topic1\", \"Topic1\", \"Topic1\", \"Topic1\", \"Topic1\", \"Topic1\", \"Topic1\", \"Topic1\", \"Topic1\", \"Topic1\", \"Topic1\", \"Topic1\", \"Topic1\", \"Topic1\", \"Topic1\", \"Topic1\", \"Topic1\", \"Topic1\", \"Topic1\", \"Topic1\", \"Topic1\", \"Topic1\", \"Topic1\", \"Topic1\", \"Topic1\", \"Topic1\", \"Topic1\", \"Topic1\", \"Topic1\", \"Topic1\", \"Topic1\", \"Topic1\", \"Topic1\", \"Topic1\", \"Topic1\", \"Topic1\", \"Topic1\", \"Topic1\", \"Topic1\", \"Topic1\", \"Topic1\", \"Topic1\", \"Topic1\", \"Topic1\", \"Topic1\", \"Topic1\", \"Topic1\", \"Topic1\", \"Topic1\", \"Topic1\", \"Topic1\", \"Topic2\", \"Topic2\", \"Topic2\", \"Topic2\", \"Topic2\", \"Topic2\", \"Topic2\", \"Topic2\", \"Topic2\", \"Topic2\", \"Topic2\", \"Topic2\", \"Topic2\", \"Topic2\", \"Topic2\", \"Topic2\", \"Topic2\", \"Topic2\", \"Topic2\", \"Topic2\", \"Topic2\", \"Topic2\", \"Topic2\", \"Topic2\", \"Topic2\", \"Topic2\", \"Topic2\", \"Topic2\", \"Topic2\", \"Topic2\", \"Topic2\", \"Topic2\", \"Topic2\", \"Topic2\", \"Topic2\", \"Topic2\", \"Topic2\", \"Topic2\", \"Topic2\", \"Topic2\", \"Topic2\", \"Topic2\", \"Topic2\", \"Topic2\", \"Topic2\", \"Topic2\", \"Topic2\", \"Topic2\", \"Topic2\", \"Topic2\", \"Topic2\", \"Topic2\", \"Topic2\", \"Topic2\", \"Topic2\", \"Topic2\", \"Topic2\", \"Topic2\", \"Topic2\", \"Topic2\", \"Topic2\", \"Topic3\", \"Topic3\", \"Topic3\", \"Topic3\", \"Topic3\", \"Topic3\", \"Topic3\", \"Topic3\", \"Topic3\", \"Topic3\", \"Topic3\", \"Topic3\", \"Topic3\", \"Topic3\", \"Topic3\", \"Topic3\", \"Topic3\", \"Topic3\", \"Topic3\", \"Topic3\", \"Topic3\", \"Topic3\", \"Topic3\", \"Topic3\", \"Topic3\", \"Topic3\", \"Topic3\", \"Topic3\", \"Topic3\", \"Topic3\", \"Topic3\", \"Topic3\", \"Topic3\", \"Topic3\", \"Topic3\", \"Topic3\", \"Topic3\", \"Topic3\", \"Topic3\", \"Topic3\", \"Topic3\", \"Topic3\", \"Topic3\", \"Topic3\", \"Topic3\", \"Topic3\", \"Topic3\", \"Topic3\", \"Topic3\", \"Topic3\", \"Topic3\", \"Topic3\", \"Topic3\", \"Topic3\", \"Topic3\", \"Topic3\", \"Topic4\", \"Topic4\", \"Topic4\", \"Topic4\", \"Topic4\", \"Topic4\", \"Topic4\", \"Topic4\", \"Topic4\", \"Topic4\", \"Topic4\", \"Topic4\", \"Topic4\", \"Topic4\", \"Topic4\", \"Topic4\", \"Topic4\", \"Topic4\", \"Topic4\", \"Topic4\", \"Topic4\", \"Topic4\", \"Topic4\", \"Topic4\", \"Topic4\", \"Topic4\", \"Topic4\", \"Topic4\", \"Topic4\", \"Topic4\", \"Topic4\", \"Topic4\", \"Topic4\", \"Topic4\", \"Topic4\", \"Topic4\", \"Topic4\", \"Topic4\", \"Topic4\", \"Topic4\", \"Topic4\", \"Topic4\", \"Topic4\", \"Topic4\", \"Topic4\", \"Topic4\", \"Topic4\", \"Topic4\", \"Topic4\", \"Topic4\", \"Topic4\", \"Topic4\", \"Topic4\", \"Topic4\", \"Topic4\", \"Topic4\", \"Topic4\", \"Topic4\", \"Topic4\", \"Topic4\", \"Topic4\", \"Topic5\", \"Topic5\", \"Topic5\", \"Topic5\", \"Topic5\", \"Topic5\", \"Topic5\", \"Topic5\", \"Topic5\", \"Topic5\", \"Topic5\", \"Topic5\", \"Topic5\", \"Topic5\", \"Topic5\", \"Topic5\", \"Topic5\", \"Topic5\", \"Topic5\", \"Topic5\", \"Topic5\", \"Topic5\", \"Topic5\", \"Topic5\", \"Topic5\", \"Topic5\", \"Topic5\", \"Topic5\", \"Topic5\", \"Topic5\", \"Topic5\", \"Topic5\", \"Topic5\", \"Topic5\", \"Topic5\", \"Topic5\", \"Topic5\", \"Topic5\", \"Topic5\", \"Topic5\", \"Topic5\", \"Topic5\", \"Topic5\", \"Topic5\", \"Topic5\", \"Topic5\", \"Topic5\", \"Topic5\", \"Topic5\", \"Topic5\", \"Topic5\", \"Topic5\", \"Topic5\", \"Topic5\", \"Topic5\", \"Topic5\", \"Topic5\", \"Topic5\", \"Topic5\", \"Topic5\", \"Topic5\", \"Topic5\", \"Topic5\"], \"logprob\": [30.0, 29.0, 28.0, 27.0, 26.0, 25.0, 24.0, 23.0, 22.0, 21.0, 20.0, 19.0, 18.0, 17.0, 16.0, 15.0, 14.0, 13.0, 12.0, 11.0, 10.0, 9.0, 8.0, 7.0, 6.0, 5.0, 4.0, 3.0, 2.0, 1.0, -5.8692, -5.92, -5.9202, -5.9735, -6.03, -6.2947, -6.3735, -6.459, -6.459, -6.4591, -6.5526, -6.5526, -6.5528, -5.7743, -6.6558, -6.6558, -6.6558, -5.7812, -6.6601, -5.022, -6.7709, -6.7709, -6.7728, -6.0301, -6.5789, -6.9008, -6.9009, -6.9009, -6.9015, -6.9029, -6.4286, -6.2953, -5.9736, -6.4345, -4.7804, -4.3316, -6.3735, -4.5955, -4.4188, -6.0379, -6.2217, -4.5107, -5.4282, -5.7512, -5.5751, -4.1185, -5.0099, -5.1702, -4.8936, -5.4257, -5.0051, -5.982, -4.4084, -5.6042, -5.6369, -5.4346, -5.6449, -5.4238, -5.4824, -5.7952, -5.6849, -5.8118, -5.8291, -5.8711, -5.0907, -5.4443, -5.4926, -5.6534, -5.8453, -6.0824, -6.0826, -6.1767, -6.3943, -5.1953, -5.9181, -6.6738, -6.6738, -6.6739, -6.6739, -6.6739, -6.6745, -6.6763, -6.8497, -6.8498, -6.8498, -6.8498, -6.8498, -6.8499, -6.8499, -6.8504, -6.8562, -6.2792, -7.0633, -7.0634, -5.8579, -5.9968, -6.3044, -6.176, -6.401, -6.0824, -5.8451, -5.9181, -6.2791, -6.0522, -5.7996, -6.176, -4.6163, -5.1953, -5.9683, -5.6621, -5.845, -6.0339, -4.9757, -4.4762, -5.3119, -5.0288, -5.5585, -5.2143, -5.6065, -5.4635, -5.7178, -5.8824, -5.9854, -5.9035, -5.9104, -5.1815, -5.5407, -5.8243, -5.8243, -5.8252, -6.1066, -6.2222, -6.2227, -6.3517, -6.3531, -5.5502, -6.5012, -6.5013, -6.5013, -6.5013, -6.5026, -5.8243, -6.6771, -6.6771, -6.6772, -6.6772, -6.6784, -6.6784, -6.6784, -6.6784, -6.6784, -5.9242, -6.8906, -6.8906, -6.8907, -5.3871, -6.2232, -6.0191, -6.0199, -5.7513, -6.1139, -4.823, -4.7394, -5.6681, -5.4604, -4.3229, -6.5012, -5.218, -5.7825, -5.9564, -5.7613, -6.0031, -5.5346, -5.988, -5.9662, -5.3769, -5.7632, -5.6999, -5.9977, -5.886, -5.8218, -4.3341, -4.42, -4.9877, -5.2133, -5.2683, -5.2316, -5.2331, -5.2702, -5.309, -5.4575, -5.6074, -4.2911, -5.7839, -5.8159, -5.8856, -5.7571, -5.7274, -5.9229, -5.9595, -5.9597, -5.8896, -6.0783, -6.0783, -6.0784, -6.0784, -6.0784, -6.0786, -6.0786, -6.0787, -5.89, -4.6796, -5.3475, -5.9614, -5.9992, -5.9992, -5.9992, -5.9992, -5.9992, -4.6408, -4.7213, -4.9028, -4.7448, -5.4348, -4.5973, -4.9047, -5.5796, -3.8069, -4.8387, -5.2148, -5.2132, -5.2333, -5.4571, -3.6912, -5.371, -4.6009, -5.2122, -4.6966, -4.713, -5.145, -5.2603, -5.2421, -5.0214, -5.2529, -5.8854, -5.9892, -6.1037, -6.1043, -6.2337, -6.3833, -6.3833, -6.3833, -6.3833, -6.3844, -6.3844, -6.5592, -6.5592, -6.5592, -6.5592, -6.5595, -6.5603, -6.5603, -6.5604, -6.5604, -6.5604, -6.5604, -6.5604, -6.5604, -6.5604, -6.5604, -6.5604, -6.5604, -5.4227, -5.9886, -5.7071, -4.0935, -5.9889, -5.8853, -5.0855, -6.1036, -5.7915, -6.1036, -5.9887, -4.623, -4.6383, -5.6272, -5.3677, -5.9889, -5.903, -5.7342, -5.4223, -5.1706, -5.1175, -5.7918, -5.7062, -5.149, -4.9423, -5.486, -5.3226, -5.8158, -5.8858, -5.5888, -5.7291, -5.9195, -5.882], \"loglift\": [30.0, 29.0, 28.0, 27.0, 26.0, 25.0, 24.0, 23.0, 22.0, 21.0, 20.0, 19.0, 18.0, 17.0, 16.0, 15.0, 14.0, 13.0, 12.0, 11.0, 10.0, 9.0, 8.0, 7.0, 6.0, 5.0, 4.0, 3.0, 2.0, 1.0, 1.3716, 1.3698, 1.3696, 1.3677, 1.3654, 1.3529, 1.3485, 1.3434, 1.3434, 1.3434, 1.3373, 1.3373, 1.3371, 1.3355, 1.3299, 1.3299, 1.3299, 1.329, 1.3255, 1.3213, 1.3208, 1.3208, 1.3189, 1.3147, 1.3137, 1.3094, 1.3093, 1.3093, 1.3087, 1.3074, 1.2987, 1.2901, 1.2737, 1.2913, 1.1867, 1.1252, 1.2815, 1.051, 0.9701, 1.2178, 1.239, 0.8624, 1.0367, 1.1147, 1.0648, 0.5769, 0.7109, 0.7762, 0.5931, 0.7579, 0.4469, 1.0415, -0.0039, 0.7694, 0.7895, 0.4156, 0.6381, 0.1313, 0.0503, 0.6258, -0.3711, 0.2588, -1.1379, -0.5757, 1.8263, 1.8155, 1.8137, 1.8069, 1.7973, 1.7831, 1.7829, 1.7758, 1.7586, 1.7555, 1.7311, 1.7299, 1.7299, 1.7299, 1.7298, 1.7298, 1.7293, 1.7274, 1.7079, 1.7078, 1.7078, 1.7078, 1.7078, 1.7077, 1.7077, 1.7072, 1.7011, 1.6768, 1.6762, 1.6761, 1.6629, 1.6437, 1.6523, 1.6155, 1.6392, 1.5762, 1.4924, 1.4984, 1.5748, 1.5207, 1.4498, 1.5422, 0.9164, 1.1528, 1.3521, 1.1682, 1.2507, 1.3601, 0.6699, 0.2193, 0.8352, 0.3601, 0.8679, 0.3409, 0.5404, -0.0115, 0.003, 0.1882, 0.9531, 0.0636, -0.4536, 2.0288, 2.0135, 1.9972, 1.9972, 1.9962, 1.9761, 1.9652, 1.9647, 1.9529, 1.9512, 1.9446, 1.9358, 1.9358, 1.9358, 1.9357, 1.9343, 1.9155, 1.9129, 1.9128, 1.9128, 1.9128, 1.9116, 1.9116, 1.9115, 1.9115, 1.9115, 1.9008, 1.8799, 1.8799, 1.8799, 1.8566, 1.8555, 1.7958, 1.7886, 1.6338, 1.7142, 1.1441, 0.7933, 1.3069, 1.1466, 0.3726, 1.7985, 0.9288, 1.3142, 1.3801, 1.1449, 1.405, 0.8865, 1.3723, 1.2761, 0.1783, 0.7017, 0.3178, 1.0647, 0.397, -0.4329, 0.9962, 0.9959, 0.9924, 0.9902, 0.9902, 0.99, 0.9888, 0.9887, 0.9884, 0.9875, 0.9847, 0.9842, 0.9806, 0.9804, 0.9779, 0.9775, 0.9775, 0.976, 0.9757, 0.9756, 0.9747, 0.9747, 0.9747, 0.9746, 0.9746, 0.9746, 0.9745, 0.9745, 0.9744, 0.9744, 0.9673, 0.9723, 0.9742, 0.9742, 0.9742, 0.9741, 0.9741, 0.9741, 0.9534, 0.955, 0.9586, 0.9531, 0.9669, 0.9482, 0.9443, 0.9637, 0.8843, 0.9293, 0.9428, 0.9245, 0.9252, 0.9456, 0.7134, 0.914, 0.7128, 0.8421, 0.6125, 0.5824, 0.7596, 0.7833, 0.5244, 2.2112, 2.2017, 2.1619, 2.1522, 2.1418, 2.1412, 2.1278, 2.1096, 2.1096, 2.1096, 2.1096, 2.1084, 2.1084, 2.0849, 2.0849, 2.0849, 2.0849, 2.0846, 2.0837, 2.0837, 2.0837, 2.0837, 2.0837, 2.0837, 2.0837, 2.0837, 2.0836, 2.0836, 2.0836, 2.0836, 2.0735, 2.0489, 2.0135, 1.7567, 1.9542, 1.9031, 1.4125, 1.8244, 1.6175, 1.796, 1.7066, 0.6861, 0.6571, 1.4021, 1.1596, 1.6329, 1.5083, 1.332, 0.9514, 0.5959, 0.528, 1.3343, 1.2026, 0.3078, -0.2468, 0.6976, 0.0506, 1.1267, 1.3453, -0.102, -0.2771, 1.2584, -0.1612]}, \"token.table\": {\"Topic\": [1, 4, 1, 4, 5, 4, 1, 1, 3, 3, 1, 3, 5, 1, 2, 3, 5, 1, 2, 4, 5, 1, 2, 3, 4, 5, 2, 3, 5, 2, 5, 1, 5, 5, 5, 1, 2, 3, 4, 4, 1, 2, 3, 4, 5, 2, 1, 2, 3, 2, 2, 5, 1, 1, 4, 1, 2, 3, 4, 5, 5, 4, 1, 5, 4, 2, 3, 4, 5, 2, 3, 1, 2, 1, 2, 3, 5, 2, 3, 1, 4, 1, 3, 4, 2, 2, 3, 4, 5, 1, 1, 1, 2, 3, 5, 2, 1, 4, 5, 1, 2, 5, 1, 2, 3, 1, 2, 5, 1, 2, 3, 1, 2, 1, 5, 1, 2, 3, 4, 5, 1, 4, 2, 3, 1, 2, 3, 5, 1, 2, 1, 2, 3, 4, 5, 2, 3, 4, 3, 1, 3, 2, 3, 3, 5, 2, 3, 5, 2, 5, 4, 4, 3, 4, 4, 1, 4, 5, 4, 5, 1, 2, 3, 4, 2, 3, 2, 3, 5, 2, 1, 2, 3, 2, 1, 5, 1, 2, 3, 5, 1, 2, 1, 1, 3, 5, 2, 1, 2, 4, 5, 1, 2, 1, 2, 1, 2, 5, 5, 1, 4, 1, 2, 3, 4, 5, 1, 2, 3, 2, 1, 3, 1, 2, 5, 1, 2, 3, 5, 5, 5, 2, 2, 4, 4, 2, 1, 2, 2, 3, 5, 1, 2, 5, 1, 3, 5, 4, 1, 2, 3, 3, 3, 4, 5, 1, 2, 4, 1, 2, 3, 4, 5, 1, 1, 2, 3, 4, 5, 3, 5, 5, 4, 4, 1, 2, 5, 1, 2, 4, 1, 1, 3, 2, 3, 1, 2, 3, 5, 1, 3, 5, 1, 2, 3, 5, 2, 4, 5, 1, 1, 2, 3, 4, 5, 3, 5, 1, 2, 3, 4, 5, 3, 1, 4, 1, 2, 4, 5, 2, 1, 2, 3, 1, 2, 3, 4, 1, 4, 3, 4, 1, 2, 3, 4, 5, 3, 2, 3, 2, 3, 1, 2, 3, 4, 5, 1, 2, 4, 5, 4, 5, 2, 3, 5, 1, 3, 4, 1, 2, 3, 5, 2, 3, 5, 5, 4, 2, 3, 5, 1, 2, 3, 5, 2, 1, 4, 5, 1, 2, 4, 5, 1, 2, 4, 1, 5, 2, 1, 2, 3, 5, 3, 1, 2, 3, 4, 5, 4, 5, 1, 2, 3, 4, 2, 4, 4, 3, 5, 1, 1, 2, 4, 5, 2, 3, 5, 3, 5, 3, 5, 2, 3, 1, 1, 2, 4, 2, 3, 1, 2, 4, 2, 2, 2, 4, 1, 4, 1, 1, 1, 2, 4, 5, 1, 2, 5, 4, 4, 5, 1, 4, 3, 3, 1, 2, 3, 5, 5, 1, 3, 4, 5, 1, 2, 3, 5, 3, 2, 3, 1, 2, 5, 4, 5, 5, 1, 2, 3, 5, 4, 3, 4, 1, 1, 2, 3, 1, 1, 2, 3, 5, 2, 2, 3, 1, 4, 1, 2, 3, 4, 5, 3, 3, 1, 2, 3, 4, 5, 4, 2, 3, 2, 1, 2, 3, 5, 1, 2, 3, 4, 5, 1, 2, 3, 1, 2, 3, 5, 1, 2, 5, 3, 1, 2, 4, 4, 1, 2, 3, 5, 2, 4, 5, 1, 2, 3, 4, 5, 4, 4], \"Freq\": [0.04659525830668738, 0.9552027952870913, 0.02406162752365347, 0.9624651009461388, 0.9062153904832326, 0.969188379390261, 0.88086733410035, 0.842651321142896, 0.0842651321142896, 0.7713184700501454, 0.19763987898142202, 0.26351983864189604, 0.5270396772837921, 0.13520750993188085, 0.2704150198637617, 0.18027667990917448, 0.4506916997729362, 0.5381085553463144, 0.16377216901844352, 0.02339602414549193, 0.28075228974590316, 0.49936708468284857, 0.1583359048994398, 0.0487187399690584, 0.2070546448684982, 0.0852577949458522, 0.7610907934914376, 0.08456564372127084, 0.1691312874425417, 0.830937383230407, 0.9062248228558528, 0.9127858210940211, 0.9062065507758811, 0.9062191297954361, 0.9062076799946367, 0.12348086848110615, 0.4116028949370205, 0.12348086848110615, 0.3704426054433185, 0.9691858380432159, 0.0658218568197822, 0.1974655704593466, 0.5265748545582576, 0.1974655704593466, 0.0658218568197822, 0.8907915345710906, 0.05584721833295303, 0.11169443666590606, 0.8377082749942955, 0.9513157058217009, 0.12352086105316783, 0.8646460273721748, 0.880856922606762, 0.9382858287160417, 0.9691653351988789, 0.22379244903081594, 0.2610911905359519, 0.31703930279365594, 0.14919496602054397, 0.03729874150513599, 0.8731844478674754, 0.9691598318771816, 0.9764935002414218, 0.7790813610405523, 0.9755073721107526, 0.5017396728047828, 0.022806348763853762, 0.4561269752770753, 0.022806348763853762, 0.19774934242449546, 0.7909973696979818, 0.8325780015652322, 0.13876300026087204, 0.2796967657692583, 0.2796967657692583, 0.07991336164835951, 0.3596101274176178, 0.07178403849788136, 0.8614084619745762, 0.9749995950145155, 0.9943897870657301, 0.011311164490593625, 0.02262232898118725, 0.9614489817004582, 0.8311572205498466, 0.7975906515276194, 0.11394152164680278, 0.9846659686890967, 0.7790250725033147, 0.9356905784003144, 0.9591168799366253, 0.25226526201142235, 0.39353380873781885, 0.28253709345279304, 0.07063427336319826, 0.9076011295701918, 0.11296520583029027, 0.6777912349817415, 0.2097925251133962, 0.2445360487952967, 0.2445360487952967, 0.5705841138556923, 0.22467478590065107, 0.6740243577019531, 0.11233739295032553, 0.4411906187707694, 0.16544648203903853, 0.38604179142442324, 0.8967489258568065, 0.11209361573210082, 0.8584727656461106, 0.9044902665361493, 0.09044902665361493, 0.9381634092422911, 0.9653832751227723, 0.1129603607057255, 0.3049929739054589, 0.0677762164234353, 0.327585046046604, 0.1807365771291608, 0.9617882041804736, 0.9799489375804795, 0.7180997603140953, 0.17952494007852382, 0.04676530016261887, 0.3273571011383321, 0.23382650081309433, 0.4208877014635698, 0.12386475626236208, 0.8670532938365346, 0.049163724964360916, 0.06555163328581456, 0.18026699153599005, 0.6555163328581456, 0.049163724964360916, 0.8311605647328724, 0.9679613821181701, 0.9849618038246888, 0.9046225098435476, 0.8478689223229539, 0.11304918964306052, 0.12871164178829525, 0.7722698507297714, 0.9722373332320735, 0.7790812136612697, 0.7726724917474953, 0.19316812293687383, 0.9593821377777865, 0.9215757254945375, 0.08377961140859431, 0.9692214070736951, 0.9554224392754946, 0.920999162666207, 0.9846218194254385, 0.9890448435362992, 0.06423206764850725, 0.9206596362952706, 0.021410689216169083, 0.9829357573056466, 0.015602154877867406, 0.050996386609551615, 0.08499397768258603, 0.016998795536517206, 0.8499397768258602, 0.9703597356953029, 0.9209961994252442, 0.8104725584632425, 0.14735864699331683, 0.9062119926558768, 0.8908099478700975, 0.09823994092861595, 0.09823994092861595, 0.7859195274289276, 0.8907349974872599, 0.8808605929222124, 0.8539924958953982, 0.12255684097584348, 0.18383526146376522, 0.4902273639033739, 0.18383526146376522, 0.928099648714428, 0.04884734993233831, 0.901048876282979, 0.09171363994787049, 0.8254227595308344, 0.9062791291562604, 0.8907934544377096, 0.07318821822768655, 0.04391293093661193, 0.7757951132134774, 0.10246350551876117, 0.9268168080123502, 0.06178778720082335, 0.9284974870198452, 0.04886828879051817, 0.37426008765131014, 0.013861484727826301, 0.6099053280243573, 0.9124468308606702, 0.04760943336161206, 0.9521886672322412, 0.055773096423097676, 0.11154619284619535, 0.4461847713847814, 0.3346385785385861, 0.055773096423097676, 0.259607353475001, 0.5841165453187523, 0.1298036767375005, 0.8311564569373971, 0.864526526684073, 0.078593320607643, 0.08997052275149584, 0.08997052275149584, 0.8097347047634625, 0.1552480113690259, 0.6986160511606166, 0.07762400568451296, 0.7790843200319516, 0.9062794541807384, 0.9062194433185676, 0.9154243550551754, 0.8311570441279655, 0.9803886551006423, 0.9801886564475716, 0.9668538069398662, 0.24536927856369467, 0.6747655160501603, 0.330211176889874, 0.1320844707559496, 0.4622956476458236, 0.11071731378971619, 0.22143462757943239, 0.6643038827382972, 0.702289594910148, 0.061068660426969394, 0.21374031149439288, 0.9876533934090138, 0.5426027480189821, 0.36995641910385146, 0.07399128382077029, 0.8584750417237766, 0.9208341767554351, 0.9550542116539579, 0.04292378479343631, 0.7009851126177028, 0.03391863448150175, 0.2600428643581801, 0.06232408562514726, 0.046743064218860444, 0.40510655656345723, 0.4674306421886045, 0.03116204281257363, 0.8808694132767396, 0.03730501746647281, 0.3543976659314917, 0.018652508733236404, 0.5409227532638557, 0.05595752619970921, 0.8585223970666146, 0.9062029178214004, 0.9062802463277967, 0.963977675280955, 0.9801766808962762, 0.9078361646279456, 0.022695904115698638, 0.045391808231397275, 0.028037660886493686, 0.014018830443246843, 0.9532804701407853, 0.9467280069798558, 0.9058111124324798, 0.09058111124324798, 0.16054808767810919, 0.802740438390546, 0.4431983326652075, 0.08863966653304149, 0.41365177715419366, 0.05909311102202766, 0.3765177027780758, 0.502023603704101, 0.12550590092602526, 0.25613395321562304, 0.04268899220260384, 0.46957891422864223, 0.21344496101301919, 0.030662008070471446, 0.9505222501846148, 0.02044133871364763, 0.9764871620257245, 0.2789496895989683, 0.11954986697098642, 0.3984995565699547, 0.11954986697098642, 0.07969991131399096, 0.861016424093326, 0.9389674737192852, 0.44331647791617934, 0.07709851789846597, 0.02891194421192474, 0.3565806452804051, 0.09637314737308246, 0.8957718925070405, 0.912783068306182, 0.9846410108482311, 0.7272228842874382, 0.19137444323353636, 0.03827488864670727, 0.03827488864670727, 0.9360304222752327, 0.46611555192432014, 0.22079157722730952, 0.3189211671061138, 0.5341789795271656, 0.13736030902127117, 0.015262256557919017, 0.3205073877162994, 0.0481720859943909, 0.9393556768906225, 0.02217041498866989, 0.9754982595014751, 0.5223790085744947, 0.17412633619149823, 0.07738948275177698, 0.019347370687944246, 0.21282107756738672, 0.9142126412747746, 0.7477300196614977, 0.7713239218740221, 0.7302134816509507, 0.26553217514580024, 0.27864085740168165, 0.21672066686797462, 0.15480047633426758, 0.2992809209129173, 0.0516001587780892, 0.3324326464167684, 0.5171174499816397, 0.11081088213892279, 0.07387392142594852, 0.9927524387235206, 0.9062805461421539, 0.4183314362314546, 0.15687428858679547, 0.36604000670252274, 0.018849320483132353, 0.037698640966264706, 0.9424660241566177, 0.4701204449477245, 0.19232200020588727, 0.19232200020588727, 0.14958377793791233, 0.07189485829456403, 0.07189485829456403, 0.8627382995347684, 0.9062059079050275, 0.9692371224208626, 0.10019112237229531, 0.7013378566060672, 0.20038224474459063, 0.3261065493151642, 0.13975994970649894, 0.3726931992173305, 0.13975994970649894, 0.8907911257329622, 0.13530713678517617, 0.6526579539049674, 0.20694032684791647, 0.2449298962722219, 0.0032657319502962918, 0.7478526166178509, 0.0032657319502962918, 0.20559563118435842, 0.7195847091452544, 0.9692203734033048, 0.9851075616995698, 0.7790164557898938, 0.8311598328426676, 0.21194634827285047, 0.21194634827285047, 0.13246646767053155, 0.42389269654570094, 0.8585225280300968, 0.025497151884826662, 0.11473718348171998, 0.050994303769653325, 0.6246802211782532, 0.19122863913619997, 0.6547595218261922, 0.3273797609130961, 0.08304934536128447, 0.8304934536128447, 0.08304934536128447, 0.980187584849032, 0.027723212919894002, 0.97031245219629, 0.9691880880580552, 0.8585206320896545, 0.9062735087307362, 0.9382967866795335, 0.08409787843094219, 0.10091745411713061, 0.8073396329370449, 0.016819575686188436, 0.1925635586533308, 0.0962817793266654, 0.6739724552866578, 0.7990718628712343, 0.09988398285890429, 0.8584745027020889, 0.9062165697330512, 0.8311542290637602, 0.7713238689253373, 0.9357085323955705, 0.28899986337072286, 0.5298330828463252, 0.14449993168536143, 0.8311841302636044, 0.8584768217234146, 0.03830273554017538, 0.03830273554017538, 0.9320332314776009, 0.8907882424220953, 0.8311584118228549, 0.9710340616182785, 0.9801813267793518, 0.05538451907508254, 0.9415368242764032, 0.9382968477796754, 0.9591390527690102, 0.38165215419290277, 0.1582460151531548, 0.38165215419290277, 0.08377730213990549, 0.7575989809362582, 0.10288381222591161, 0.14029610758078856, 0.9553404339913216, 0.9849979362270838, 0.9062162193663585, 0.9764937641806001, 0.9734764493523524, 0.8609933878262678, 0.858475767299464, 0.2066153019496926, 0.33058448311950817, 0.12396918116981556, 0.33058448311950817, 0.912486318537678, 0.17023439345145802, 0.024319199064494004, 0.7457887713111494, 0.05674479781715267, 0.17545154363823653, 0.17545154363823653, 0.08772577181911827, 0.6140804027338279, 0.895685826348703, 0.7969515909603355, 0.11385022728004793, 0.04166897369626057, 0.9167174213177325, 0.04166897369626057, 0.32282197215612135, 0.6456439443122427, 0.9062219846370972, 0.2979193379601259, 0.04965322299335432, 0.2482661149667716, 0.39722578394683455, 0.9801777254707551, 0.9209950400156722, 0.9684446223775935, 0.9591340930552285, 0.6920310077740964, 0.05126155613141455, 0.25630778065707277, 0.8809044725077174, 0.09642893425240052, 0.1446434013786008, 0.4821446712620026, 0.2892868027572016, 0.7477300281160834, 0.6029890464630044, 0.3617934278778027, 0.07392204488611603, 0.9240255610764504, 0.3110326869977427, 0.190075530943065, 0.0863979686104841, 0.3283122807198396, 0.0863979686104841, 0.8585240962362279, 0.8957732732098491, 0.4368284132651585, 0.19657278596932132, 0.18346793357136656, 0.10483881918363804, 0.08299739852038011, 0.986776252542913, 0.9360303428557673, 0.9678126432081018, 0.8907927316297534, 0.6721201515964298, 0.04480801010642865, 0.1792320404257146, 0.0896160202128573, 0.0782985266109173, 0.026099508870305765, 0.004349918145050961, 0.887383301590396, 0.004349918145050961, 0.7946070405669661, 0.17138583227914955, 0.031161060414390825, 0.6467091652378977, 0.22722213913763972, 0.07865381739379837, 0.04369656521877687, 0.912870710521987, 0.2248090614790593, 0.7868317151767075, 0.9209991671526986, 0.01886726443609629, 0.056601793308288864, 0.9244959573687181, 0.9896503394358146, 0.9200839128620049, 0.2573128538943742, 0.6432821347359355, 0.06432821347359355, 0.9648548572115525, 0.9774978797799467, 0.7790836337941515, 0.5763681951572653, 0.06882008300385258, 0.025807531126444714, 0.21506275938703928, 0.11183263488126043, 0.9800011287356754, 0.9889760821097501], \"Term\": [\"01\", \"01\", \"03\", \"03\", \"09\", \"107\", \"11\", \"16\", \"16\", \"2000\", \"2015\", \"2015\", \"2015\", \"2016\", \"2016\", \"2016\", \"2016\", \"2017\", \"2017\", \"2017\", \"2017\", \"2018\", \"2018\", \"2018\", \"2018\", \"2018\", \"2019\", \"2019\", \"2019\", \"2050\", \"2327453\", \"24\", \"252539\", \"3260178\", \"346208\", \"4\", \"4\", \"4\", \"4\", \"6580\", \"7\", \"7\", \"7\", \"7\", \"7\", \"aidt\", \"air\", \"air\", \"air\", \"alabama\", \"alliance\", \"alliance\", \"allnew\", \"alonso\", \"alphabet\", \"also\", \"also\", \"also\", \"also\", \"also\", \"aluminum\", \"amazon\", \"amendment\", \"ashmore\", \"asian\", \"australia\", \"australia\", \"australia\", \"australia\", \"automatic\", \"automatic\", \"automobile\", \"automobile\", \"automotive\", \"automotive\", \"automotive\", \"automotive\", \"bag\", \"bag\", \"ball\", \"barrel\", \"benchmark\", \"benchmark\", \"benchmark\", \"birmingham\", \"body\", \"body\", \"bond\", \"broader\", \"canada\", \"canadian\", \"car\", \"car\", \"car\", \"car\", \"cell\", \"cent\", \"cent\", \"cent\", \"ceo\", \"ceo\", \"ceo\", \"challenge\", \"challenge\", \"challenge\", \"chief\", \"chief\", \"chief\", \"chrysler\", \"chrysler\", \"circuit\", \"co\", \"co\", \"comment\", \"commodity\", \"company\", \"company\", \"company\", \"company\", \"company\", \"compared\", \"composite\", \"concept\", \"concept\", \"contact\", \"contact\", \"contact\", \"contact\", \"continue\", \"continue\", \"could\", \"could\", \"could\", \"could\", \"could\", \"critical\", \"crossback\", \"crude\", \"culture\", \"customer\", \"customer\", \"cx3\", \"cx3\", \"d\", \"dallas\", \"date\", \"date\", \"deutsche\", \"development\", \"development\", \"digesting\", \"dipped\", \"doll\", \"dollar\", \"dow\", \"due\", \"due\", \"due\", \"earnings\", \"earnings\", \"economy\", \"economy\", \"economy\", \"economy\", \"education\", \"electrical\", \"electrified\", \"electrified\", \"electronics\", \"emission\", \"engine\", \"engine\", \"engine\", \"environmental\", \"esso\", \"estate\", \"even\", \"even\", \"even\", \"even\", \"export\", \"export\", \"f1\", \"factory\", \"factory\", \"fame\", \"fee\", \"fell\", \"fell\", \"fell\", \"fell\", \"fiat\", \"fiat\", \"followed\", \"followed\", \"ford\", \"ford\", \"ford\", \"france\", \"friday\", \"friday\", \"front\", \"front\", \"front\", \"front\", \"front\", \"fuel\", \"fuel\", \"fuel\", \"fuelcell\", \"game\", \"game\", \"germany\", \"germany\", \"germany\", \"great\", \"great\", \"great\", \"hackett\", \"hall\", \"hirai\", \"hma\", \"hmca\", \"hong\", \"hovered\", \"hydrogen\", \"hyundai\", \"hyundai\", \"id\", \"id\", \"id\", \"improvement\", \"improvement\", \"improvement\", \"increase\", \"increase\", \"increase\", \"index\", \"industry\", \"industry\", \"industry\", \"inspect\", \"interior\", \"investor\", \"investor\", \"january\", \"january\", \"january\", \"japan\", \"japan\", \"japan\", \"japan\", \"japan\", \"jeep\", \"job\", \"job\", \"job\", \"job\", \"job\", \"karakuri\", \"kazuo\", \"kdc\", \"kong\", \"korea\", \"last\", \"last\", \"last\", \"latest\", \"latest\", \"latest\", \"law\", \"le\", \"le\", \"learn\", \"learn\", \"lexus\", \"lexus\", \"lexus\", \"lexus\", \"light\", \"light\", \"light\", \"like\", \"like\", \"like\", \"like\", \"lower\", \"lower\", \"lower\", \"magazine\", \"make\", \"make\", \"make\", \"make\", \"make\", \"march\", \"margin\", \"market\", \"market\", \"market\", \"market\", \"market\", \"matcha\", \"mclaren\", \"mercantile\", \"million\", \"million\", \"million\", \"million\", \"mobility\", \"model\", \"model\", \"model\", \"month\", \"month\", \"month\", \"month\", \"monthly\", \"monthly\", \"mostly\", \"mostly\", \"motor\", \"motor\", \"motor\", \"motor\", \"motor\", \"museum\", \"nation\", \"navigation\", \"need\", \"need\", \"new\", \"new\", \"new\", \"new\", \"new\", \"news\", \"news\", \"news\", \"news\", \"nikkei\", \"ntcar\", \"offer\", \"offer\", \"offer\", \"oil\", \"oil\", \"oil\", \"one\", \"one\", \"one\", \"one\", \"operating\", \"operating\", \"operating\", \"orchestrating\", \"overhaul\", \"owner\", \"owner\", \"owner\", \"part\", \"part\", \"part\", \"part\", \"pay\", \"per\", \"per\", \"per\", \"percent\", \"percent\", \"percent\", \"percent\", \"picture\", \"picture\", \"plate\", \"player\", \"poised\", \"position\", \"post\", \"post\", \"post\", \"post\", \"prefecture\", \"price\", \"price\", \"price\", \"price\", \"price\", \"profit\", \"profit\", \"program\", \"program\", \"program\", \"prospect\", \"providing\", \"providing\", \"quarterly\", \"quite\", \"raise\", \"ram\", \"rate\", \"rate\", \"rate\", \"rate\", \"real\", \"real\", \"real\", \"rear\", \"rear\", \"recalling\", \"recouped\", \"redesign\", \"refurbished\", \"registration\", \"release\", \"release\", \"release\", \"renewable\", \"replace\", \"report\", \"report\", \"report\", \"research\", \"resident\", \"review\", \"risen\", \"rose\", \"rose\", \"ruck\", \"rugby\", \"said\", \"said\", \"said\", \"said\", \"sale\", \"sale\", \"sale\", \"sank\", \"score\", \"scorecard\", \"scrum\", \"seng\", \"sensor\", \"serial\", \"service\", \"service\", \"service\", \"service\", \"shank\", \"share\", \"share\", \"share\", \"share\", \"solid\", \"solid\", \"solid\", \"solid\", \"soul\", \"spec\", \"spec\", \"state\", \"state\", \"state\", \"steel\", \"steel\", \"stepping\", \"still\", \"still\", \"still\", \"still\", \"stoking\", \"stop\", \"stronger\", \"suspect\", \"suv\", \"suv\", \"suv\", \"tackle\", \"take\", \"take\", \"take\", \"take\", \"taylor\", \"technology\", \"technology\", \"thursday\", \"thursday\", \"time\", \"time\", \"time\", \"time\", \"time\", \"touchscreen\", \"tour\", \"toyota\", \"toyota\", \"toyota\", \"toyota\", \"toyota\", \"trading\", \"training\", \"transmission\", \"tundra\", \"two\", \"two\", \"two\", \"two\", \"u\", \"u\", \"u\", \"u\", \"u\", \"unit\", \"unit\", \"unit\", \"vehicle\", \"vehicle\", \"vehicle\", \"vehicle\", \"version\", \"wage\", \"wage\", \"weaving\", \"week\", \"week\", \"week\", \"weigh\", \"win\", \"work\", \"work\", \"work\", \"workforce\", \"worry\", \"wythe\", \"year\", \"year\", \"year\", \"year\", \"year\", \"yen\", \"yield\"]}, \"R\": 30, \"lambda.step\": 0.01, \"plot.opts\": {\"xlab\": \"PC1\", \"ylab\": \"PC2\"}, \"topic.order\": [1, 2, 3, 4, 5]};\n",
       "\n",
       "function LDAvis_load_lib(url, callback){\n",
       "  var s = document.createElement('script');\n",
       "  s.src = url;\n",
       "  s.async = true;\n",
       "  s.onreadystatechange = s.onload = callback;\n",
       "  s.onerror = function(){console.warn(\"failed to load library \" + url);};\n",
       "  document.getElementsByTagName(\"head\")[0].appendChild(s);\n",
       "}\n",
       "\n",
       "if(typeof(LDAvis) !== \"undefined\"){\n",
       "   // already loaded: just create the visualization\n",
       "   !function(LDAvis){\n",
       "       new LDAvis(\"#\" + \"ldavis_el530139807512033104613768003\", ldavis_el530139807512033104613768003_data);\n",
       "   }(LDAvis);\n",
       "}else if(typeof define === \"function\" && define.amd){\n",
       "   // require.js is available: use it to load d3/LDAvis\n",
       "   require.config({paths: {d3: \"https://d3js.org/d3.v5\"}});\n",
       "   require([\"d3\"], function(d3){\n",
       "      window.d3 = d3;\n",
       "      LDAvis_load_lib(\"https://cdn.jsdelivr.net/gh/bmabey/pyLDAvis@3.3.1/pyLDAvis/js/ldavis.v3.0.0.js\", function(){\n",
       "        new LDAvis(\"#\" + \"ldavis_el530139807512033104613768003\", ldavis_el530139807512033104613768003_data);\n",
       "      });\n",
       "    });\n",
       "}else{\n",
       "    // require.js not available: dynamically load d3 & LDAvis\n",
       "    LDAvis_load_lib(\"https://d3js.org/d3.v5.js\", function(){\n",
       "         LDAvis_load_lib(\"https://cdn.jsdelivr.net/gh/bmabey/pyLDAvis@3.3.1/pyLDAvis/js/ldavis.v3.0.0.js\", function(){\n",
       "                 new LDAvis(\"#\" + \"ldavis_el530139807512033104613768003\", ldavis_el530139807512033104613768003_data);\n",
       "            })\n",
       "         });\n",
       "}\n",
       "</script>"
      ],
      "text/plain": [
       "<IPython.core.display.HTML object>"
      ]
     },
     "execution_count": 70,
     "metadata": {},
     "output_type": "execute_result"
    }
   ],
   "source": [
    "%%time\n",
    "\n",
    "lda_display = gensimvis.prepare(ldamodel, doc_term_matrix, dictionary, sort_topics=False, mds='mmds')\n",
    "pyLDAvis.display(lda_display)"
   ]
  },
  {
   "cell_type": "markdown",
   "metadata": {},
   "source": [
    "#### 10 topic model"
   ]
  },
  {
   "cell_type": "code",
   "execution_count": 71,
   "metadata": {},
   "outputs": [
    {
     "name": "stdout",
     "output_type": "stream",
     "text": [
      "CPU times: user 1.4 s, sys: 297 ms, total: 1.69 s\n",
      "Wall time: 1.66 s\n"
     ]
    }
   ],
   "source": [
    "%%time\n",
    "\n",
    "num_topics = 10\n",
    "iterations = 100\n",
    "passes = 20\n",
    "workers = num_processors-1\n",
    "eval_every = None\n",
    "\n",
    "ldamodel = LdaMulticore(corpus=doc_term_matrix,\n",
    "                       id2word=dictionary,\n",
    "                       eta='auto',\n",
    "                       num_topics=num_topics,\n",
    "                       iterations=iterations,\n",
    "                       passes=passes,\n",
    "                       eval_every=eval_every,\n",
    "                       workers = workers)"
   ]
  },
  {
   "cell_type": "code",
   "execution_count": 72,
   "metadata": {},
   "outputs": [
    {
     "name": "stdout",
     "output_type": "stream",
     "text": [
      "(0, '0.025*\"ford\" + 0.012*\"company\" + 0.009*\"margin\"')\n",
      "\n",
      "(1, '0.019*\"toyota\" + 0.015*\"hydrogen\" + 0.014*\"australia\"')\n",
      "\n",
      "(2, '0.025*\"percent\" + 0.014*\"sale\" + 0.014*\"vehicle\"')\n",
      "\n",
      "(3, '0.015*\"unit\" + 0.012*\"market\" + 0.011*\"car\"')\n",
      "\n",
      "(4, '0.022*\"toyota\" + 0.020*\"canada\" + 0.018*\"vehicle\"')\n",
      "\n",
      "(5, '0.021*\"toyota\" + 0.017*\"sale\" + 0.013*\"car\"')\n",
      "\n",
      "(6, '0.029*\"percent\" + 0.009*\"1\" + 0.008*\"law\"')\n",
      "\n",
      "(7, '0.016*\"toyota\" + 0.010*\"unit\" + 0.006*\"truck\"')\n",
      "\n",
      "(8, '0.026*\"u\" + 0.021*\"percent\" + 0.015*\"earnings\"')\n",
      "\n",
      "(9, '0.018*\"japan\" + 0.008*\"museum\" + 0.008*\"toyota\"')\n"
     ]
    }
   ],
   "source": [
    "print(*ldamodel.print_topics(num_topics=num_topics, num_words=3), sep='\\n\\n')"
   ]
  },
  {
   "cell_type": "code",
   "execution_count": 73,
   "metadata": {},
   "outputs": [
    {
     "name": "stdout",
     "output_type": "stream",
     "text": [
      "(0, '0.025*\"ford\" + 0.012*\"company\" + 0.009*\"margin\" + 0.009*\"said\" + 0.008*\"workforce\"')\n",
      "\n",
      "(1, '0.019*\"toyota\" + 0.015*\"hydrogen\" + 0.014*\"australia\" + 0.007*\"hma\" + 0.006*\"fuel\"')\n",
      "\n",
      "(2, '0.025*\"percent\" + 0.014*\"sale\" + 0.014*\"vehicle\" + 0.012*\"toyota\" + 0.011*\"export\"')\n",
      "\n",
      "(3, '0.015*\"unit\" + 0.012*\"market\" + 0.011*\"car\" + 0.009*\"new\" + 0.009*\"year\"')\n",
      "\n",
      "(4, '0.022*\"toyota\" + 0.020*\"canada\" + 0.018*\"vehicle\" + 0.011*\"suspect\" + 0.011*\"canadian\"')\n",
      "\n",
      "(5, '0.021*\"toyota\" + 0.017*\"sale\" + 0.013*\"car\" + 0.011*\"vehicle\" + 0.008*\"2018\"')\n",
      "\n",
      "(6, '0.029*\"percent\" + 0.009*\"1\" + 0.008*\"law\" + 0.007*\"losing\" + 0.007*\"market\"')\n",
      "\n",
      "(7, '0.016*\"toyota\" + 0.010*\"unit\" + 0.006*\"truck\" + 0.005*\"lexus\" + 0.005*\"1\"')\n",
      "\n",
      "(8, '0.026*\"u\" + 0.021*\"percent\" + 0.015*\"earnings\" + 0.015*\"yield\" + 0.012*\"index\"')\n",
      "\n",
      "(9, '0.018*\"japan\" + 0.008*\"museum\" + 0.008*\"toyota\" + 0.007*\"car\" + 0.006*\"factory\"')\n"
     ]
    }
   ],
   "source": [
    "print(*ldamodel.print_topics(num_topics=num_topics, num_words=5), sep='\\n\\n')"
   ]
  },
  {
   "cell_type": "code",
   "execution_count": 74,
   "metadata": {},
   "outputs": [
    {
     "name": "stdout",
     "output_type": "stream",
     "text": [
      "(0, '0.025*\"ford\" + 0.012*\"company\" + 0.009*\"margin\" + 0.009*\"said\" + 0.008*\"workforce\" + 0.008*\"state\" + 0.008*\"alabama\"')\n",
      "\n",
      "(1, '0.019*\"toyota\" + 0.015*\"hydrogen\" + 0.014*\"australia\" + 0.007*\"hma\" + 0.006*\"fuel\" + 0.006*\"soul\" + 0.006*\"vehicle\"')\n",
      "\n",
      "(2, '0.025*\"percent\" + 0.014*\"sale\" + 0.014*\"vehicle\" + 0.012*\"toyota\" + 0.011*\"export\" + 0.010*\"year\" + 0.008*\"january\"')\n",
      "\n",
      "(3, '0.015*\"unit\" + 0.012*\"market\" + 0.011*\"car\" + 0.009*\"new\" + 0.009*\"year\" + 0.008*\"january\" + 0.008*\"toyota\"')\n",
      "\n",
      "(4, '0.022*\"toyota\" + 0.020*\"canada\" + 0.018*\"vehicle\" + 0.011*\"suspect\" + 0.011*\"canadian\" + 0.006*\"tmmc\" + 0.006*\"trujillo\"')\n",
      "\n",
      "(5, '0.021*\"toyota\" + 0.017*\"sale\" + 0.013*\"car\" + 0.011*\"vehicle\" + 0.008*\"2018\" + 0.007*\"year\" + 0.007*\"cent\"')\n",
      "\n",
      "(6, '0.029*\"percent\" + 0.009*\"1\" + 0.008*\"law\" + 0.007*\"losing\" + 0.007*\"market\" + 0.007*\"ball\" + 0.007*\"toyota\"')\n",
      "\n",
      "(7, '0.016*\"toyota\" + 0.010*\"unit\" + 0.006*\"truck\" + 0.005*\"lexus\" + 0.005*\"1\" + 0.005*\"top\" + 0.005*\"month\"')\n",
      "\n",
      "(8, '0.026*\"u\" + 0.021*\"percent\" + 0.015*\"earnings\" + 0.015*\"yield\" + 0.012*\"index\" + 0.011*\"share\" + 0.011*\"cent\"')\n",
      "\n",
      "(9, '0.018*\"japan\" + 0.008*\"museum\" + 0.008*\"toyota\" + 0.007*\"car\" + 0.006*\"factory\" + 0.006*\"matcha\" + 0.006*\"tour\"')\n"
     ]
    }
   ],
   "source": [
    "print(*ldamodel.print_topics(num_topics=num_topics, num_words=7), sep='\\n\\n')"
   ]
  },
  {
   "cell_type": "code",
   "execution_count": 75,
   "metadata": {},
   "outputs": [
    {
     "name": "stdout",
     "output_type": "stream",
     "text": [
      "(0, '0.025*\"ford\" + 0.012*\"company\" + 0.009*\"margin\" + 0.009*\"said\" + 0.008*\"workforce\" + 0.008*\"state\" + 0.008*\"alabama\" + 0.008*\"job\" + 0.007*\"commodity\" + 0.007*\"automotive\"')\n",
      "\n",
      "(1, '0.019*\"toyota\" + 0.015*\"hydrogen\" + 0.014*\"australia\" + 0.007*\"hma\" + 0.006*\"fuel\" + 0.006*\"soul\" + 0.006*\"vehicle\" + 0.006*\"mobility\" + 0.006*\"technology\" + 0.005*\"new\"')\n",
      "\n",
      "(2, '0.025*\"percent\" + 0.014*\"sale\" + 0.014*\"vehicle\" + 0.012*\"toyota\" + 0.011*\"export\" + 0.010*\"year\" + 0.008*\"january\" + 0.008*\"increase\" + 0.007*\"electrified\" + 0.006*\"automobile\"')\n",
      "\n",
      "(3, '0.015*\"unit\" + 0.012*\"market\" + 0.011*\"car\" + 0.009*\"new\" + 0.009*\"year\" + 0.008*\"january\" + 0.008*\"toyota\" + 0.007*\"vehicle\" + 0.007*\"last\" + 0.006*\"d\"')\n",
      "\n",
      "(4, '0.022*\"toyota\" + 0.020*\"canada\" + 0.018*\"vehicle\" + 0.011*\"suspect\" + 0.011*\"canadian\" + 0.006*\"tmmc\" + 0.006*\"trujillo\" + 0.005*\"jose\" + 0.005*\"lexus\" + 0.005*\"weapon\"')\n",
      "\n",
      "(5, '0.021*\"toyota\" + 0.017*\"sale\" + 0.013*\"car\" + 0.011*\"vehicle\" + 0.008*\"2018\" + 0.007*\"year\" + 0.007*\"cent\" + 0.007*\"per\" + 0.006*\"january\" + 0.006*\"motor\"')\n",
      "\n",
      "(6, '0.029*\"percent\" + 0.009*\"1\" + 0.008*\"law\" + 0.007*\"losing\" + 0.007*\"market\" + 0.007*\"ball\" + 0.007*\"toyota\" + 0.006*\"player\" + 0.005*\"point\" + 0.005*\"thursday\"')\n",
      "\n",
      "(7, '0.016*\"toyota\" + 0.010*\"unit\" + 0.006*\"truck\" + 0.005*\"lexus\" + 0.005*\"1\" + 0.005*\"top\" + 0.005*\"month\" + 0.005*\"work\" + 0.004*\"sale\" + 0.004*\"2018\"')\n",
      "\n",
      "(8, '0.026*\"u\" + 0.021*\"percent\" + 0.015*\"earnings\" + 0.015*\"yield\" + 0.012*\"index\" + 0.011*\"share\" + 0.011*\"cent\" + 0.011*\"per\" + 0.011*\"investor\" + 0.010*\"benchmark\"')\n",
      "\n",
      "(9, '0.018*\"japan\" + 0.008*\"museum\" + 0.008*\"toyota\" + 0.007*\"car\" + 0.006*\"factory\" + 0.006*\"matcha\" + 0.006*\"tour\" + 0.005*\"japanese\" + 0.005*\"chief\" + 0.005*\"company\"')\n"
     ]
    }
   ],
   "source": [
    "print(*ldamodel.print_topics(num_topics=num_topics, num_words=10), sep='\\n\\n')"
   ]
  },
  {
   "cell_type": "code",
   "execution_count": 76,
   "metadata": {},
   "outputs": [
    {
     "name": "stdout",
     "output_type": "stream",
     "text": [
      "(0, '0.025*\"ford\" + 0.012*\"company\" + 0.009*\"margin\" + 0.009*\"said\" + 0.008*\"workforce\" + 0.008*\"state\" + 0.008*\"alabama\" + 0.008*\"job\" + 0.007*\"commodity\" + 0.007*\"automotive\"')\n",
      "\n",
      "(1, '0.019*\"toyota\" + 0.015*\"hydrogen\" + 0.014*\"australia\" + 0.007*\"hma\" + 0.006*\"fuel\" + 0.006*\"soul\" + 0.006*\"vehicle\" + 0.006*\"mobility\" + 0.006*\"technology\" + 0.005*\"new\"')\n",
      "\n",
      "(2, '0.025*\"percent\" + 0.014*\"sale\" + 0.014*\"vehicle\" + 0.012*\"toyota\" + 0.011*\"export\" + 0.010*\"year\" + 0.008*\"january\" + 0.008*\"increase\" + 0.007*\"electrified\" + 0.006*\"automobile\"')\n",
      "\n",
      "(3, '0.015*\"unit\" + 0.012*\"market\" + 0.011*\"car\" + 0.009*\"new\" + 0.009*\"year\" + 0.008*\"january\" + 0.008*\"toyota\" + 0.007*\"vehicle\" + 0.007*\"last\" + 0.006*\"d\"')\n",
      "\n",
      "(4, '0.022*\"toyota\" + 0.020*\"canada\" + 0.018*\"vehicle\" + 0.011*\"suspect\" + 0.011*\"canadian\" + 0.006*\"tmmc\" + 0.006*\"trujillo\" + 0.005*\"jose\" + 0.005*\"lexus\" + 0.005*\"weapon\"')\n",
      "\n",
      "(5, '0.021*\"toyota\" + 0.017*\"sale\" + 0.013*\"car\" + 0.011*\"vehicle\" + 0.008*\"2018\" + 0.007*\"year\" + 0.007*\"cent\" + 0.007*\"per\" + 0.006*\"january\" + 0.006*\"motor\"')\n",
      "\n",
      "(6, '0.029*\"percent\" + 0.009*\"1\" + 0.008*\"law\" + 0.007*\"losing\" + 0.007*\"market\" + 0.007*\"ball\" + 0.007*\"toyota\" + 0.006*\"player\" + 0.005*\"point\" + 0.005*\"thursday\"')\n",
      "\n",
      "(7, '0.016*\"toyota\" + 0.010*\"unit\" + 0.006*\"truck\" + 0.005*\"lexus\" + 0.005*\"1\" + 0.005*\"top\" + 0.005*\"month\" + 0.005*\"work\" + 0.004*\"sale\" + 0.004*\"2018\"')\n",
      "\n",
      "(8, '0.026*\"u\" + 0.021*\"percent\" + 0.015*\"earnings\" + 0.015*\"yield\" + 0.012*\"index\" + 0.011*\"share\" + 0.011*\"cent\" + 0.011*\"per\" + 0.011*\"investor\" + 0.010*\"benchmark\"')\n",
      "\n",
      "(9, '0.018*\"japan\" + 0.008*\"museum\" + 0.008*\"toyota\" + 0.007*\"car\" + 0.006*\"factory\" + 0.006*\"matcha\" + 0.006*\"tour\" + 0.005*\"japanese\" + 0.005*\"chief\" + 0.005*\"company\"')\n"
     ]
    }
   ],
   "source": [
    "print(*ldamodel.print_topics(num_topics=num_topics, num_words=10), sep='\\n\\n')"
   ]
  },
  {
   "cell_type": "code",
   "execution_count": 77,
   "metadata": {},
   "outputs": [
    {
     "name": "stdout",
     "output_type": "stream",
     "text": [
      "CPU times: user 238 ms, sys: 8.1 ms, total: 246 ms\n",
      "Wall time: 366 ms\n"
     ]
    },
    {
     "data": {
      "text/html": [
       "\n",
       "<link rel=\"stylesheet\" type=\"text/css\" href=\"https://cdn.jsdelivr.net/gh/bmabey/pyLDAvis@3.3.1/pyLDAvis/js/ldavis.v1.0.0.css\">\n",
       "\n",
       "\n",
       "<div id=\"ldavis_el530139805489747152960402443\"></div>\n",
       "<script type=\"text/javascript\">\n",
       "\n",
       "var ldavis_el530139805489747152960402443_data = {\"mdsDat\": {\"x\": [0.16136093632383874, 0.07770008917622138, -0.1406591584546477, -0.0797780732757611, 0.15546509752352708, 0.05348262723777036, -0.05488963297260644, -0.06563264661843592, -0.36330678779293546, 0.25625754885302915], \"y\": [0.21085114450150988, -0.23823445317962977, -0.0911507934788594, 0.03239938341431899, -0.12276761486117974, -0.008614322100178396, 0.2232199876017162, -0.20206427691975903, 0.17341887208078158, 0.02294207294127961], \"topics\": [1, 2, 3, 4, 5, 6, 7, 8, 9, 10], \"cluster\": [1, 1, 1, 1, 1, 1, 1, 1, 1, 1], \"Freq\": [8.284656631152503, 5.962686896902518, 5.756601368003826, 12.403772503207366, 1.885902367754048, 14.499682830896706, 8.221512962316643, 3.4773331453840908, 33.44739385096352, 6.060457443418772]}, \"tinfo\": {\"Term\": [\"percent\", \"toyota\", \"vehicle\", \"ford\", \"sale\", \"yield\", \"earnings\", \"u\", \"index\", \"japan\", \"unit\", \"australia\", \"car\", \"01\", \"hydrogen\", \"lower\", \"1\", \"cent\", \"benchmark\", \"investor\", \"january\", \"company\", \"lexus\", \"month\", \"market\", \"barrel\", \"latest\", \"billion\", \"export\", \"friday\", \"workforce\", \"alabama\", \"commodity\", \"training\", \"margin\", \"aluminum\", \"shank\", \"estate\", \"dallas\", \"ashmore\", \"hackett\", \"aidt\", \"kdc\", \"ntcar\", \"hall\", \"fame\", \"birmingham\", \"operating\", \"mickey\", \"jerry\", \"cowboy\", \"presentation\", \"exposure\", \"given\", \"normal\", \"fitness\", \"argue\", \"f150\", \"address\", \"taylor\", \"ford\", \"state\", \"real\", \"development\", \"program\", \"key\", \"school\", \"concerned\", \"supplier\", \"steel\", \"grove\", \"automotive\", \"improvement\", \"need\", \"business\", \"2015\", \"company\", \"plant\", \"job\", \"challenge\", \"low\", \"said\", \"profit\", \"2016\", \"2017\", \"price\", \"one\", \"time\", \"year\", \"motor\", \"hydrogen\", \"hma\", \"soul\", \"mobility\", \"esso\", \"hmca\", \"fuelcell\", \"renewable\", \"2wd\", \"refuelling\", \"benefit\", \"founding\", \"driveaway\", \"mediacamera\", \"public\", \"artist\", \"2013\", \"cab\", \"ix35\", \"johnson\", \"tmca\", \"coupon\", \"prize\", \"smile\", \"transport\", \"choice\", \"class\", \"victory\", \"filling\", \"boyd\", \"station\", \"body\", \"member\", \"cx3\", \"fuel\", \"tacoma\", \"australia\", \"technology\", \"hyundai\", \"emerging\", \"society\", \"example\", \"park\", \"kia\", \"toyota\", \"role\", \"government\", \"also\", \"industry\", \"good\", \"vehicle\", \"one\", \"energy\", \"new\", \"drive\", \"2018\", \"future\", \"car\", \"even\", \"magazine\", \"export\", \"snowmobile\", \"staff\", \"2050\", \"sled\", \"158\", \"bykeki\", \"turkey\", \"electrified\", \"stroke\", \"113\", \"52\", \"cadillac\", \"sakarya\", \"environmental\", \"2020\", \"gasket\", \"reducing\", \"powertrains\", \"152\", \"2030\", \"milestone\", \"achieving\", \"mass\", \"bus\", \"90\", \"cc\", \"yamaha\", \"apex\", \"tm\", \"automobile\", \"1000\", \"increase\", \"genesis\", \"meeting\", \"million\", \"cell\", \"sale\", \"vehicle\", \"country\", \"compared\", \"percent\", \"announced\", \"year\", \"toyota\", \"january\", \"co\", \"billion\", \"motor\", \"target\", \"month\", \"said\", \"brand\", \"new\", \"15\", \"model\", \"2017\", \"last\", \"2\", \"global\", \"market\", \"d\", \"registration\", \"nice\", \"crossback\", \"steering\", \"bowl\", \"fee\", \"crawford\", \"delivery\", \"touchscreen\", \"resident\", \"david\", \"99\", \"realize\", \"tyler\", \"30second\", \"includes\", \"waste\", \"entry\", \"keyless\", \"wheel\", \"ad\", \"taxi\", \"647\", \"1654\", \"1025\", \"64\", \"2490\", \"existed\", \"780\", \"unit\", \"warranty\", \"premium\", \"7\", \"followed\", \"suspension\", \"game\", \"segment\", \"great\", \"last\", \"commercial\", \"market\", \"passenger\", \"suzuki\", \"super\", \"automatic\", \"car\", \"suv\", \"leader\", \"new\", \"model\", \"january\", \"month\", \"year\", \"including\", \"vehicle\", \"ford\", \"toyota\", \"get\", \"sale\", \"share\", \"motor\", \"cent\", \"per\", \"industry\", \"2018\", \"2017\", \"canada\", \"canadian\", \"suspect\", \"tmmc\", \"trujillo\", \"jose\", \"weapon\", \"residence\", \"luis\", \"count\", \"ana\", \"victim\", \"facility\", \"crime\", \"murder\", \"license\", \"7aiy437\", \"sapd\", \"deadly\", \"detective\", \"woodstock\", \"homicide\", \"orange\", \"dangerous\", \"dependability\", \"assault\", \"rifle\", \"warrant\", \"hutchinson\", \"tci\", \"armed\", \"multiple\", \"santa\", \"vehicle\", \"toyota\", \"inc\", \"build\", \"rx\", \"built\", \"lexus\", \"made\", \"sold\", \"number\", \"million\", \"manufacturing\", \"2017\", \"one\", \"1\", \"review\", \"f1\", \"alliance\", \"alonso\", \"division\", \"driven\", \"le\", \"redesign\", \"race\", \"nx\", \"capacity\", \"wec\", \"subscription\", \"crown\", \"fernando\", \"brings\", \"book\", \"autoblog\", \"skoda\", \"yearoveryear\", \"secret\", \"spec\", \"chevy\", \"mclaren\", \"date\", \"subcompact\", \"el\", \"increasing\", \"avalanche\", \"mat\", \"release\", \"renault\", \"camry\", \"2019\", \"concept\", \"prius\", \"sale\", \"chevrolet\", \"lexus\", \"news\", \"rx\", \"success\", \"car\", \"picture\", \"toyota\", \"america\", \"vehicle\", \"motor\", \"suv\", \"man\", \"2018\", \"2016\", \"post\", \"january\", \"year\", \"increase\", \"customer\", \"cent\", \"per\", \"company\", \"model\", \"market\", \"truck\", \"time\", \"percent\", \"said\", \"new\", \"2017\", \"industry\", \"last\", \"month\", \"law\", \"losing\", \"ball\", \"amendment\", \"scrum\", \"rugby\", \"ruck\", \"foot\", \"closed\", \"trader\", \"ninemonth\", \"stop\", \"electrical\", \"declining\", \"hemisphere\", \"rationale\", \"overnight\", \"damn\", \"southern\", \"guy\", \"645000\", \"player\", \"4year\", \"possession\", \"raising\", \"2315786\", \"kyocera\", \"simpler\", \"140\", \"32825\", \"advancing\", \"tackle\", \"team\", \"almost\", \"referee\", \"point\", \"6\", \"near\", \"owner\", \"percent\", \"1\", \"mixed\", \"side\", \"market\", \"4\", \"thursday\", \"may\", \"see\", \"toyota\", \"01\", \"lower\", \"index\", \"post\", \"oil\", \"higher\", \"also\", \"japan\", \"yen\", \"wythe\", \"livestock\", \"polo\", \"navigation\", \"2000\", \"refurbished\", \"pig\", \"tractortrailer\", \"geller\", \"ecu\", \"dvd\", \"county\", \"i81\", \"overturned\", \"swerved\", \"stopped\", \"unpeacekeeping\", \"chromey\", \"lavish\", \"exists\", \"upsell\", \"doe\", \"plaster\", \"570\", \"thered\", \"goodwill\", \"heritage\", \"worldpatrolling\", \"hadnt\", \"283\", \"cruiser\", \"lx\", \"behind\", \"work\", \"volkswagen\", \"top\", \"unit\", \"truck\", \"six\", \"toyota\", \"place\", \"lexus\", \"december\", \"avoid\", \"figure\", \"1\", \"month\", \"hyundai\", \"2018\", \"model\", \"sale\", \"vehicle\", \"2\", \"also\", \"said\", \"new\", \"kia\", \"hong\", \"asian\", \"03\", \"composite\", \"weigh\", \"worry\", \"seng\", \"kong\", \"yield\", \"sank\", \"dipped\", \"10year\", \"fueled\", \"treasury\", \"score\", \"euro\", \"hovered\", \"kongs\", \"kospi\", \"risen\", \"prospect\", \"stoking\", \"korea\", \"shanghai\", \"swiftly\", \"inflation\", \"overhaul\", \"plate\", \"digesting\", \"quarterly\", \"mostly\", \"earnings\", \"barrel\", \"providing\", \"benchmark\", \"latest\", \"u\", \"investor\", \"expected\", \"pace\", \"index\", \"rose\", \"bond\", \"week\", \"hang\", \"friday\", \"report\", \"01\", \"lower\", \"monthly\", \"gain\", \"trading\", \"share\", \"economy\", \"cent\", \"percent\", \"fell\", \"per\", \"rate\", \"crude\", \"price\", \"since\", \"oil\", \"world\", \"museum\", \"matcha\", \"tour\", \"culture\", \"doll\", \"weaving\", \"factory\", \"kostrna\", \"prefecture\", \"karakuri\", \"selden\", \"fire\", \"master\", \"festival\", \"spice\", \"robot\", \"toyoda\", \"7eleven\", \"soy\", \"spinning\", \"importantly\", \"nagoya\", \"life\", \"guest\", \"food\", \"sauce\", \"tourist\", \"mizkan\", \"century\", \"vinegar\", \"wage\", \"aichi\", \"machinery\", \"solid\", \"japan\", \"employer\", \"machine\", \"leading\", \"modern\", \"learn\", \"robotics\", \"chief\", \"japanese\", \"even\", \"photo\", \"take\", \"industrial\", \"car\", \"production\", \"toyota\", \"make\", \"company\", \"first\", \"one\", \"said\", \"also\", \"world\", \"like\", \"new\"], \"Freq\": [301.0, 221.0, 107.0, 77.0, 107.0, 125.0, 132.0, 238.0, 114.0, 63.0, 61.0, 43.0, 104.0, 87.0, 23.0, 100.0, 58.0, 133.0, 91.0, 97.0, 87.0, 92.0, 32.0, 64.0, 105.0, 65.0, 74.0, 49.0, 17.0, 86.0, 17.102105097939152, 16.29245281903679, 15.491125717749481, 8.9981966497774, 18.73579627406763, 8.191589106679917, 6.569342754138001, 5.759370536330427, 4.948145143928876, 4.948138861140707, 4.947454037230308, 4.943691613699993, 4.136937633309037, 4.136933283686458, 4.1369270008982895, 4.136919268235928, 4.134490728962988, 13.057985510704768, 3.3257110326789925, 3.3257083745763056, 3.325699192039751, 3.325200435317428, 3.3251743375819576, 3.325167329856692, 3.325165396691102, 3.3251385740185353, 3.325128908190583, 3.3250689800572806, 3.3248140438450466, 3.323568601913432, 51.77835566768124, 17.035716325233647, 8.192707442973964, 8.82758318743109, 8.738693333836128, 9.76422801371519, 4.882064227843642, 4.942476619126427, 4.94483604772951, 6.5695670013464875, 4.136936183434844, 13.831329073488245, 6.556495418915603, 8.896094575954853, 12.056366988927335, 9.002714457762165, 24.41142546006173, 5.752806472568225, 15.995925515708182, 8.110765386510899, 7.972192210659871, 18.117013166567787, 11.436549637836627, 9.002308492988181, 10.025604567113561, 12.248456954400192, 7.963531145523483, 8.239139180706978, 8.889317863977707, 7.565430489161302, 22.636817642445127, 10.603802856980646, 9.099415565376109, 8.347750980600976, 5.339537807318131, 3.8354635695758037, 3.835388436648873, 3.8352336489058914, 3.083482800399838, 3.083293228894388, 3.08325914080717, 3.0831958343594783, 3.083189573282234, 3.083161398434635, 3.082476158314019, 3.0826163368767645, 4.580934209768292, 2.3314063758770853, 2.331236283278618, 2.3312338484152453, 2.331212282482515, 2.3312056735676463, 2.3311863685794765, 2.3311806292586694, 2.3311684549418055, 2.3311305406407157, 2.331107583357487, 2.3307202661624076, 2.330142507867817, 2.3305811311125364, 4.587406076613055, 6.085019926152234, 5.339548590284497, 5.3391600556577306, 9.099745315444304, 4.587831829865661, 20.38090142273908, 8.244209459187763, 7.536984609341518, 3.082964870176692, 3.083275141337905, 3.0698948714294083, 3.0697992160826217, 5.339183708616209, 28.73294889368008, 3.8248099988071593, 5.2400416374799255, 7.510939223680863, 6.830595961145, 4.751335340209029, 8.703656351145977, 6.566072404329711, 5.339404237670255, 8.193985184560475, 4.592057709167877, 7.4081065953467435, 5.898617221463425, 5.568766628194946, 3.9794238229766257, 8.291936958963678, 16.508140811494528, 4.556831327975217, 8.291930242654134, 3.809955542716085, 3.809801067596543, 3.0625468182945332, 3.062463871871649, 3.0624423796811038, 10.533773250459229, 2.315672040481833, 2.315592116398244, 2.315589765689903, 2.3155533297106197, 2.315347139007579, 3.8099142374123813, 5.304610792683669, 1.5687109580914755, 1.5686604178621473, 1.5686600820466698, 1.5686600820466698, 1.568656891799636, 1.5686523582906928, 1.5686521903829542, 1.5686478247817497, 1.568638589856125, 1.5686333847162273, 1.568622638620955, 1.5686008106149327, 1.5685986278143305, 5.303659763252055, 9.038973264020944, 2.3157435691784904, 11.27977860200129, 2.315648701306163, 2.3154460366656338, 8.292406429000895, 3.8099995345436066, 20.245713342978977, 19.499937017592412, 3.8095260347206628, 3.8097772246976573, 36.67816403242176, 3.809818530001361, 15.01699382581793, 17.968016659928196, 11.280716198813813, 3.8100233774424925, 6.79720615051371, 6.79993700197483, 3.8104263560152107, 6.798504413148817, 7.5455104948131275, 4.556822260957331, 6.01932183571487, 4.556966997428032, 4.557383072804363, 4.558421414260067, 4.55724841079798, 4.557198710107345, 4.557249754059889, 4.557986197401532, 19.953245003844682, 16.499571854254224, 6.95571565076714, 6.132571268555064, 6.128383893839228, 5.269104862889158, 5.269066874782612, 4.40527377140041, 4.405062123378226, 4.4049760170033885, 4.394324513719397, 3.5413753866943534, 3.5413677890730444, 3.5413851550646083, 3.541360191451735, 3.541335589630353, 3.5412867477790795, 3.541301943021698, 3.5330559913607917, 3.5330187268372275, 9.528348373020556, 6.1329301657140505, 2.67763890368048, 2.6776132164846254, 2.6775906045164435, 2.677588433767498, 2.6775842731653525, 2.677585720331316, 2.677579750771716, 2.677579750771716, 46.73502654282156, 5.2693190434517785, 7.583627937903389, 11.31564175311344, 13.728097081428642, 4.405233612544919, 8.724473005614547, 7.860676284317437, 8.718292883366757, 20.809547576199005, 12.180054967111065, 36.81969658454088, 10.452297994762953, 5.26909798885083, 6.128666814785123, 6.787768422770064, 33.10124705590817, 16.85670491793098, 8.218332498490051, 28.39326596197512, 15.635801905527442, 25.010917834069367, 19.659562931844384, 27.30763678802424, 9.444571935384566, 21.203587713446854, 16.49960948056928, 24.96189363988459, 11.392539810924177, 15.558345241654733, 16.321518342749965, 11.316455060385012, 13.044658483432913, 13.04473228889706, 9.684577174626936, 10.47756985398626, 9.584021571225348, 9.427619018767713, 4.98531096639188, 4.985315367010671, 3.010887974134399, 3.01088731404158, 2.51734031423806, 2.5137896749671333, 2.0237033217802787, 2.02368461915042, 1.5301135259590228, 1.5301027444429867, 1.5300951533755733, 1.5300842618440675, 1.5300914128496017, 1.0365055775852572, 1.0365040373686805, 1.0365034872913317, 1.0365002968427088, 1.0364996367498902, 1.0364989766570718, 1.0364918256515374, 1.036494796069221, 1.0364942459918722, 1.0364930358217048, 1.0364883051565053, 1.0364922657134166, 1.0364912755741886, 1.036491165558719, 1.0364857748007008, 1.0364843445995942, 1.036489845373082, 2.0237033217802787, 1.5301243074750588, 8.4404950949529, 10.597202278988306, 1.5301115456805672, 1.530083491735779, 2.0236852792432383, 2.0237341261118105, 2.5173114901849836, 1.5301832757668485, 1.5301009841954705, 1.5301478507855868, 1.5300913028341319, 1.5302972517935163, 1.5300798612252773, 1.5301453204297824, 1.5303698620035557, 14.990911396336863, 10.607487109732677, 8.850051396944298, 7.977410545685328, 5.347073882942303, 5.342046154008664, 9.729783849713977, 4.470669847627854, 4.4705666539990006, 9.475551965593796, 3.594004444843604, 3.593933816417299, 3.5939253579231303, 3.593877990355788, 3.5938792591299134, 3.593817935047193, 3.5938217413695686, 3.593825970616653, 3.5936094331659443, 3.593440263282578, 3.58955443106166, 7.977512047615347, 6.224196890261059, 6.224087352761579, 8.854357616325382, 2.717351095413544, 2.7173109175662447, 2.717292520341428, 2.717288925481407, 2.7172569946659215, 16.744511182019913, 7.099691214527708, 9.292163353530823, 9.73092743812553, 8.854082715264912, 10.374631532074632, 61.30744317046806, 7.100740067804577, 20.165019646655082, 17.5043546301469, 8.198010611142918, 6.21767454540788, 45.7849120322557, 6.976594748896395, 75.42690974662135, 7.100389886146009, 41.26774457341055, 21.691009812763273, 17.971809926960493, 10.60739575799566, 27.583031063917364, 12.2080008387107, 15.4992736626472, 23.592667080368297, 27.10301321156501, 13.23415743817845, 9.445542919983492, 23.75651995430016, 23.755479559517457, 19.199920687341226, 13.860883642632935, 18.085004879318387, 11.476454436974354, 14.024626556140609, 20.74094667268299, 16.10728714045315, 14.656086979781094, 12.128748131751369, 11.824197511673372, 11.94566994642437, 12.152517346213717, 16.19397303483788, 14.58279275700594, 13.77709470632005, 8.942868033575403, 8.942774030433608, 8.137204514655886, 7.331524209461049, 4.914435333089908, 4.914442527207902, 4.914438210737106, 4.914310155436802, 4.912888118113205, 4.912378774559188, 9.748713803484115, 4.108792916916508, 4.108744956129878, 4.1087238533837604, 4.108476375724747, 3.303024124070338, 3.302706863466777, 3.2983021448226237, 12.165859753191347, 2.4973807486812065, 2.4973584469154235, 2.497374993386811, 2.497370916719947, 2.4973699575042145, 2.4973447780912337, 2.497367799268816, 2.4973673196609503, 4.914384974263945, 4.914419026422453, 8.084752679965211, 8.06267537066342, 4.108803947897433, 11.079254415994377, 5.720127628481403, 3.3004968304188393, 6.007272694901656, 60.34543198179807, 19.04414829409109, 7.331640274564696, 6.692926815082653, 14.390471921048752, 7.677455771270146, 10.556307264457647, 7.661290588136306, 7.288627602290786, 13.675290262970769, 9.752536278178573, 9.933365709659073, 9.75413625002057, 7.670221845822654, 8.139713823012398, 7.517959297682932, 7.800205649356737, 7.9316834313943625, 7.333524174263545, 3.9075983442604776, 2.626375647591496, 2.6261299929382416, 2.6260869881599676, 2.626043577676238, 2.626043983381693, 1.9857655163733712, 1.9857651106679157, 1.9857651106679157, 1.985540552698343, 1.9855383213183382, 2.6263827474369656, 1.345148792441596, 1.3451484881625042, 1.345147981030685, 1.3451467639143189, 1.3450877337705558, 1.3450821553205439, 1.3450730269477968, 1.345072925521433, 1.3450705927150644, 1.3450681584823319, 1.345068767040515, 1.3450579144195827, 1.345054263070484, 1.3450519302641153, 1.3450494960313828, 1.3450440190077346, 1.3450394548213613, 1.3450446275659178, 2.626175026243793, 1.9856427904731078, 3.2668910465857808, 4.5187307284989915, 3.9072798654779763, 4.547932190063464, 8.391527253088436, 5.188902587725998, 1.9857535480624364, 13.638989771954625, 2.626273409816731, 4.548161413645774, 1.985564895025668, 1.9857866130570527, 3.907339909885378, 4.5479549095689675, 4.5479269158925435, 2.6263555651714525, 3.9076875994606692, 3.26702655220789, 3.9077991684609086, 3.836011210946881, 3.2668391162874877, 3.267238533308345, 2.626774861759625, 2.494253608980743, 1.9859111646318655, 49.194798869515466, 47.30648416015162, 42.57790633396927, 40.696670497497834, 35.030875655905426, 31.25320821061246, 30.309431335592613, 28.42170393073279, 122.84643237719473, 26.532515093735032, 26.532452656046896, 26.5305034294704, 26.530380505271882, 26.530247825184595, 24.643923317130078, 24.641443370204424, 23.70003717615599, 23.699849863091586, 23.6998108395365, 23.699615721761074, 23.699588405272515, 23.699580600561497, 23.699551332895183, 23.699459627540733, 23.699321093920183, 22.752242826140144, 21.811944901056126, 21.811931242811845, 21.81183368392413, 21.811648322037477, 45.38998273694986, 125.68196193678142, 62.41359889545523, 35.97551104913714, 86.01876395566632, 69.95121318967706, 214.56872304986513, 89.79889768964065, 41.113812789579, 42.75312599865645, 103.96016339914941, 69.01980678161917, 48.25092443560791, 51.08444428210772, 30.309091830663373, 75.63475984647764, 70.90763369654445, 75.63459594754629, 85.07503390891257, 39.62496660419832, 41.46692523247669, 46.36192291167456, 95.97883177183351, 52.028467005524604, 95.45779706904953, 179.90764240665624, 57.80904963439956, 92.62869078662985, 51.95081013090544, 43.529062563255685, 49.73545071344068, 43.64114601817084, 43.529195243342976, 44.47431452865775, 12.157267254633183, 9.13690943813583, 9.136827416591405, 6.871464481963503, 4.606082456114055, 4.606067253845045, 9.137127219477923, 3.8510872207034637, 3.8509443900829994, 3.8509447436241393, 3.095932538238839, 3.0958911739254873, 3.0958416781659204, 3.095831425472867, 3.095832839637426, 3.095830011308308, 3.0958070311342234, 2.340750809877023, 2.340712273892789, 2.340703258593725, 2.3406864653895862, 2.3406915917361126, 2.3406831067487586, 2.340688233095285, 2.340688586636425, 2.34068098550192, 2.340684167372178, 2.3406864653895862, 2.3406753288436835, 2.340674975302544, 6.868638274092236, 4.606114981898913, 3.85112292835858, 6.862626660551702, 26.76574836440956, 4.598748598710807, 3.09579713198231, 3.095313841244254, 3.8509641883868264, 3.850955349858332, 3.0958045563462453, 7.182407449796662, 7.4421463472756315, 6.116145756410029, 6.612460242972961, 6.355185527238142, 6.116465357600375, 9.893556771292534, 4.6061556391299865, 11.403651183208808, 5.360801222353351, 7.045012170815037, 5.3616942672723935, 5.361563457050681, 6.0025331899002765, 5.361904624250553, 5.361649721088783, 4.606117810228032, 4.6328879453309035], \"Total\": [301.0, 221.0, 107.0, 77.0, 107.0, 125.0, 132.0, 238.0, 114.0, 63.0, 61.0, 43.0, 104.0, 87.0, 23.0, 100.0, 58.0, 133.0, 91.0, 97.0, 87.0, 92.0, 32.0, 64.0, 105.0, 65.0, 74.0, 49.0, 17.0, 86.0, 17.803855436180967, 16.9927014480637, 16.181874398104952, 9.691978316033913, 20.302769603684904, 8.880947748986898, 7.258510335055222, 6.447366666528073, 5.636141301198082, 5.636141200028278, 5.636094930978242, 5.6359748196009045, 4.824916955657535, 4.824916296594278, 4.8249164484085565, 4.824915222437765, 4.824776135477841, 15.363433378723055, 4.0136889871471055, 4.013688649218004, 4.013687687643201, 4.013656790832905, 4.013655050238654, 4.013654327630127, 4.013659732364617, 4.013649251377477, 4.013650412258216, 4.013645055700509, 4.013625777560446, 4.013583371783654, 77.12948761657951, 24.404490381329744, 10.913980879375961, 11.93040461912884, 12.066192723071559, 13.844697709556419, 6.383250961220813, 6.512496562686248, 6.623179337065936, 9.675488549347605, 5.318470904758485, 25.80266441926652, 9.889241163024419, 15.067271127295099, 24.57514753745016, 16.348126949369608, 92.8296863125052, 8.559349502419533, 55.37704548906084, 17.63906219816452, 17.25205422626633, 107.46509810379706, 39.09542960649246, 24.192643157324678, 42.9788261106973, 82.97461069354193, 45.47920209429655, 59.36153634341722, 116.75096061570369, 52.66542001887095, 23.33290975416151, 11.298752098327668, 9.794588971173752, 9.042367777781532, 6.033853614585179, 4.529545445868864, 4.529547084152052, 4.529556274817639, 3.7774211663551434, 3.777413493339985, 3.7774198666387964, 3.7774071853768296, 3.777429650345831, 3.777441174790425, 3.7768526175522914, 3.777457310377003, 5.921153253406939, 3.025274520996882, 3.025268700174184, 3.0252701575758745, 3.025266466388437, 3.02528460865948, 3.0252870011200286, 3.0252872127075707, 3.0252730036438664, 3.025288445331001, 3.0252897147984408, 3.025230908769197, 3.024496194179172, 3.0252537874008376, 6.145055573623477, 8.396777747966945, 7.390731760094154, 7.550372871001885, 14.284833947313865, 6.892875307117002, 43.604659280133006, 16.306188040835767, 14.945898900356557, 4.5242250359064835, 4.64076875368956, 4.64209715127108, 4.642098654081286, 12.040966531725912, 221.43105239728706, 6.904150412627933, 12.894153544718217, 52.73975139890101, 39.861332295501576, 15.224460520901259, 107.5058622639666, 45.47920209429655, 23.031419650100297, 98.03833124809513, 14.256145180147708, 82.29294735766574, 47.26018577503724, 104.30168114217065, 16.34007579558159, 8.987167057710028, 17.957339580740353, 5.2515636498375855, 9.74212354475462, 4.504433984067238, 4.504447808542378, 3.7573486523248767, 3.7573483366819858, 3.7573511543112104, 12.967826585929979, 3.0102129386153247, 3.010227192495253, 3.0102255495978465, 3.0102311523403102, 3.010230870134113, 5.3805113428475515, 7.620743734519862, 2.263075197195548, 2.263082455569242, 2.2630822900184357, 2.263082383307462, 2.263082711260316, 2.2630822656809593, 2.263082769827399, 2.2630835975811894, 2.263083768820392, 2.2630855354538557, 2.2630852722323422, 2.2630860652713287, 2.2630871479205577, 7.685598385093538, 13.227341648020584, 3.7651670653735168, 32.399324304616606, 3.8210624740043375, 3.8209881979794167, 24.2523299698168, 8.264914864741757, 107.3900695411094, 107.5058622639666, 8.745445064064011, 8.747771377483168, 301.74817557675243, 9.338451351097804, 116.75096061570369, 221.43105239728706, 87.52792490730172, 10.576584284774802, 49.32281195440901, 52.66542001887095, 11.264692363767228, 64.69292370753827, 107.46509810379706, 24.567971142230224, 98.03833124809513, 25.626822276386886, 40.75108550058054, 42.9788261106973, 43.33923605725949, 48.61974503919247, 58.73226867839702, 105.62184760788823, 20.63876159830777, 17.183252472812423, 7.680532884145489, 6.816088058311684, 6.816122498599053, 5.9522223634286275, 5.952257738611607, 5.088282950955917, 5.088256565233832, 5.088247728694417, 5.0822173089027824, 4.224348787013381, 4.2243476362155, 4.224379338219213, 4.224360091863762, 4.224358568151601, 4.224358241722671, 4.2243811401919, 4.224303566741148, 4.224303669674519, 11.77943655447291, 7.692215273147409, 3.3604309381187956, 3.3604243364130344, 3.360421849926309, 3.3604212071552, 3.360420048668478, 3.3604233502162986, 3.360419912771722, 3.3604210097574083, 61.864781832122766, 6.70414121048449, 10.176119913563236, 15.862781805496232, 20.080964407763425, 5.840153277372892, 12.520920457762774, 11.173667625968395, 13.046452767166935, 43.33923605725949, 21.983936313778816, 105.62184760788823, 18.937578115950785, 7.339570296004649, 9.23306426670478, 10.688053791988176, 104.30168114217065, 39.97578005047204, 14.16283492269256, 98.03833124809513, 40.75108550058054, 87.52792490730172, 64.69292370753827, 116.75096061570369, 18.959888416165846, 107.5058622639666, 77.12948761657951, 221.43105239728706, 44.067660088005915, 107.3900695411094, 127.4598256973881, 52.66542001887095, 133.2707139160687, 134.18353482746562, 39.861332295501576, 82.29294735766574, 42.9788261106973, 10.14818681616808, 5.70538686431489, 5.705433660377667, 3.7308441913892127, 3.730876079890688, 3.2371970826944296, 3.2400351306654076, 2.743578145688129, 2.743591492685185, 2.249924706142956, 2.2499332849712426, 2.249937835114032, 2.249927258506697, 2.24994064965924, 1.7562813693299504, 1.756282136250192, 1.7562823988561476, 1.7562850012496387, 1.7562847156282477, 1.7562848348070406, 1.7562812689309932, 1.7562875439319445, 1.7562884118378537, 1.7562894733206593, 1.7562831815840196, 1.7562908736265797, 1.7562905642468227, 1.756290919240368, 1.756283573976077, 1.756282772771222, 1.7562925023701026, 3.6069280561190706, 3.0551046832627566, 107.5058622639666, 221.43105239728706, 4.505224744539203, 4.508943635107421, 11.456842083115053, 11.892032661388466, 32.594172238980015, 12.272466834202135, 12.977334248791061, 16.22024654209566, 24.2523299698168, 27.691461340473165, 42.9788261106973, 45.47920209429655, 58.02126450471097, 15.673101467595531, 11.289431118365954, 9.53422075047699, 8.659227367923062, 6.028972563413726, 6.026437133920982, 11.164018453791225, 5.152270866209546, 5.15225949144421, 11.138391199159997, 4.275525700505741, 4.275528534216745, 4.275525518283623, 4.275514680282557, 4.275528896825596, 4.2755110492385295, 4.2755171488699, 4.275522616805203, 4.275434172552163, 4.275430797316259, 4.275530698368039, 9.522578733811502, 7.652612556768518, 7.6526088810932364, 11.046224439887904, 3.398784407791498, 3.398781638873943, 3.3987628988809457, 3.3987808682698497, 3.3987597455596332, 21.461825629476394, 9.063430127191827, 12.016247638537195, 12.898176709201914, 11.789588150860139, 14.255128425546054, 107.3900695411094, 9.392607525908687, 32.594172238980015, 27.721537195776058, 11.456842083115053, 8.411774916243154, 104.30168114217065, 9.857577644226897, 221.43105239728706, 10.320618374993014, 107.5058622639666, 52.66542001887095, 39.97578005047204, 18.400223761118916, 82.29294735766574, 24.192643157324678, 40.328939045865766, 87.52792490730172, 116.75096061570369, 32.399324304616606, 16.74847029195732, 133.2707139160687, 134.18353482746562, 92.8296863125052, 40.75108550058054, 105.62184760788823, 27.55618596719088, 59.36153634341722, 301.74817557675243, 107.46509810379706, 98.03833124809513, 42.9788261106973, 39.861332295501576, 43.33923605725949, 64.69292370753827, 16.88365081072091, 15.272355514586055, 14.466451212796137, 9.631975126170717, 9.63199058905777, 8.826242271601627, 8.020497417689635, 5.60326568470414, 5.603321776304772, 5.603323762793781, 5.60333326058482, 5.603343022800668, 5.6033858544935535, 11.31350535453038, 4.797528634980858, 4.797512367879566, 4.797569064437951, 4.79750807922601, 3.9917637042315484, 3.9917533082447965, 3.992071564968996, 15.334226967663684, 3.1860454408519403, 3.186019152124823, 3.186046659251181, 3.186045483577213, 3.1860468624409726, 3.1860165550289725, 3.1860460081082183, 3.1860471100948913, 6.355185179870164, 6.479307976786165, 11.817761413965968, 12.189928153653831, 5.660878587375974, 18.395327503006648, 8.802477998224951, 4.6301105034208785, 10.701064398946455, 301.74817557675243, 58.02126450471097, 14.239116177230779, 12.800180613939565, 105.62184760788823, 23.54198873892908, 54.22436136561253, 23.942707894884645, 23.262916433131625, 221.43105239728706, 87.73976926817086, 100.4276104203253, 114.31760823189803, 40.328939045865766, 53.88931648299261, 42.092592032432165, 52.73975139890101, 63.55548087283191, 48.62766026791095, 4.612617156331208, 3.3313946212474472, 3.3314578904339887, 3.3314755217337386, 3.331475903682143, 3.3314877240664207, 2.6907821075068052, 2.69078194246019, 2.690782069665577, 2.6908449931760012, 2.6908452412077817, 3.8249503878901967, 2.0501644656334546, 2.0501643057496666, 2.0501641114743396, 2.0501637744817316, 2.0501711566973504, 2.0501715028587024, 2.050172269349596, 2.050173254814712, 2.0501724086740887, 2.0501734243108096, 2.0501745585999576, 2.050177093482409, 2.0501754723039722, 2.0501762728279966, 2.050177601029647, 2.0501778887686366, 2.0501784294851504, 2.050191786099804, 4.2075046051952185, 3.43765043694049, 8.027049095653819, 14.927125141323502, 13.120024697087349, 18.53418154055808, 61.864781832122766, 27.55618596719088, 4.35950738160239, 221.43105239728706, 8.204053572332716, 32.594172238980015, 5.04888242008299, 5.294227130074219, 35.17441633342194, 58.02126450471097, 64.69292370753827, 14.945898900356557, 82.29294735766574, 40.75108550058054, 107.3900695411094, 107.5058622639666, 48.61974503919247, 52.73975139890101, 107.46509810379706, 98.03833124809513, 12.040966531725912, 49.87539475158425, 47.98675960640593, 43.26401216132479, 41.37616458411179, 35.70984312427374, 31.932156667134848, 30.987864814746583, 29.099312906612614, 125.95361961917136, 27.210431899557, 27.210376953544017, 27.21001275065314, 27.210009547552012, 27.209976238157218, 25.321690516959016, 25.32116645001141, 24.377364188069244, 24.377328985501634, 24.37733572866242, 24.377289611936973, 24.377270952250488, 24.37727233919251, 24.37726399324219, 24.377270392418, 24.377224067927152, 23.432289146817517, 22.48873673443107, 22.48872482616003, 22.4887305040549, 22.488672881803485, 46.84721552462886, 132.8263974951631, 65.51353296089523, 37.46509163779353, 91.49007261504522, 74.03276844524774, 238.09191896683222, 97.00852442096463, 43.063759236861465, 44.95431627458746, 114.31760823189803, 74.62365859811638, 51.3480784856513, 55.107572782802535, 31.628257392191628, 86.13192935075988, 80.57665157158475, 87.73976926817086, 100.4276104203253, 42.83758524139599, 45.55245324238812, 51.87654033127071, 127.4598256973881, 60.91280148431325, 133.2707139160687, 301.74817557675243, 70.77824839026012, 134.18353482746562, 61.628794296319974, 50.65493432005859, 82.97461069354193, 52.73331030589434, 53.88931648299261, 69.2149820603502, 12.852697434401149, 9.83176599372421, 9.831757458542995, 7.566037105330157, 5.300316835330788, 5.300313968648021, 10.578611571570928, 4.54502630351552, 4.545073750318291, 4.545079865616463, 3.789806207036004, 3.7898094299528706, 3.7898269605959216, 3.7898196108191744, 3.789825464424438, 3.789827354309859, 3.789836793454634, 3.0345666093090773, 3.0345833293448856, 3.034580518769306, 3.0345785058611283, 3.0345862232673726, 3.0345780835628453, 3.0345850271003396, 3.0345886691847292, 3.0345802312384755, 3.034584616182851, 3.0345913353818217, 3.0345840095439085, 3.0345861205556743, 9.188471203138926, 6.176370945300005, 5.291925124218859, 11.497961804408282, 63.55548087283191, 7.801218079133533, 4.538526655628972, 4.541492070548832, 6.298007839901587, 6.298006189843025, 4.599919765145621, 18.577140079393406, 22.747503224874464, 16.34007579558159, 19.651165619219466, 21.956647140434686, 26.17557015761686, 104.30168114217065, 11.908233627425401, 221.43105239728706, 24.559477658979834, 92.8296863125052, 40.10854683663583, 45.47920209429655, 107.46509810379706, 52.73975139890101, 69.2149820603502, 24.06485715114096, 98.03833124809513], \"Category\": [\"Default\", \"Default\", \"Default\", \"Default\", \"Default\", \"Default\", \"Default\", \"Default\", \"Default\", \"Default\", \"Default\", \"Default\", \"Default\", \"Default\", \"Default\", \"Default\", \"Default\", \"Default\", \"Default\", \"Default\", \"Default\", \"Default\", \"Default\", \"Default\", \"Default\", \"Default\", \"Default\", \"Default\", \"Default\", \"Default\", \"Topic1\", \"Topic1\", \"Topic1\", \"Topic1\", \"Topic1\", \"Topic1\", \"Topic1\", \"Topic1\", \"Topic1\", \"Topic1\", \"Topic1\", \"Topic1\", \"Topic1\", \"Topic1\", \"Topic1\", \"Topic1\", \"Topic1\", \"Topic1\", \"Topic1\", \"Topic1\", \"Topic1\", \"Topic1\", \"Topic1\", \"Topic1\", \"Topic1\", \"Topic1\", \"Topic1\", \"Topic1\", \"Topic1\", \"Topic1\", \"Topic1\", \"Topic1\", \"Topic1\", \"Topic1\", \"Topic1\", \"Topic1\", \"Topic1\", \"Topic1\", \"Topic1\", \"Topic1\", \"Topic1\", \"Topic1\", \"Topic1\", \"Topic1\", \"Topic1\", \"Topic1\", \"Topic1\", \"Topic1\", \"Topic1\", \"Topic1\", \"Topic1\", \"Topic1\", \"Topic1\", \"Topic1\", \"Topic1\", \"Topic1\", \"Topic1\", \"Topic1\", \"Topic1\", \"Topic1\", \"Topic2\", \"Topic2\", \"Topic2\", \"Topic2\", \"Topic2\", \"Topic2\", \"Topic2\", \"Topic2\", \"Topic2\", \"Topic2\", \"Topic2\", \"Topic2\", \"Topic2\", \"Topic2\", \"Topic2\", \"Topic2\", \"Topic2\", \"Topic2\", \"Topic2\", \"Topic2\", \"Topic2\", \"Topic2\", \"Topic2\", \"Topic2\", \"Topic2\", \"Topic2\", \"Topic2\", \"Topic2\", \"Topic2\", \"Topic2\", \"Topic2\", \"Topic2\", \"Topic2\", \"Topic2\", \"Topic2\", \"Topic2\", \"Topic2\", \"Topic2\", \"Topic2\", \"Topic2\", \"Topic2\", \"Topic2\", \"Topic2\", \"Topic2\", \"Topic2\", \"Topic2\", \"Topic2\", \"Topic2\", \"Topic2\", \"Topic2\", \"Topic2\", \"Topic2\", \"Topic2\", \"Topic2\", \"Topic2\", \"Topic2\", \"Topic2\", \"Topic2\", \"Topic2\", \"Topic3\", \"Topic3\", \"Topic3\", \"Topic3\", \"Topic3\", \"Topic3\", \"Topic3\", \"Topic3\", \"Topic3\", \"Topic3\", \"Topic3\", \"Topic3\", \"Topic3\", \"Topic3\", \"Topic3\", \"Topic3\", \"Topic3\", \"Topic3\", \"Topic3\", \"Topic3\", \"Topic3\", \"Topic3\", \"Topic3\", \"Topic3\", \"Topic3\", \"Topic3\", \"Topic3\", \"Topic3\", \"Topic3\", \"Topic3\", \"Topic3\", \"Topic3\", \"Topic3\", \"Topic3\", \"Topic3\", \"Topic3\", \"Topic3\", \"Topic3\", \"Topic3\", \"Topic3\", \"Topic3\", \"Topic3\", \"Topic3\", \"Topic3\", \"Topic3\", \"Topic3\", \"Topic3\", \"Topic3\", \"Topic3\", \"Topic3\", \"Topic3\", \"Topic3\", \"Topic3\", \"Topic3\", \"Topic3\", \"Topic3\", \"Topic3\", \"Topic3\", \"Topic3\", \"Topic3\", \"Topic3\", \"Topic3\", \"Topic4\", \"Topic4\", \"Topic4\", \"Topic4\", \"Topic4\", \"Topic4\", \"Topic4\", \"Topic4\", \"Topic4\", \"Topic4\", \"Topic4\", \"Topic4\", \"Topic4\", \"Topic4\", \"Topic4\", \"Topic4\", \"Topic4\", \"Topic4\", \"Topic4\", \"Topic4\", \"Topic4\", \"Topic4\", \"Topic4\", \"Topic4\", \"Topic4\", \"Topic4\", \"Topic4\", \"Topic4\", \"Topic4\", \"Topic4\", \"Topic4\", \"Topic4\", \"Topic4\", \"Topic4\", \"Topic4\", \"Topic4\", \"Topic4\", \"Topic4\", \"Topic4\", \"Topic4\", \"Topic4\", \"Topic4\", \"Topic4\", \"Topic4\", \"Topic4\", \"Topic4\", \"Topic4\", \"Topic4\", \"Topic4\", \"Topic4\", \"Topic4\", \"Topic4\", \"Topic4\", \"Topic4\", \"Topic4\", \"Topic4\", \"Topic4\", \"Topic4\", \"Topic4\", \"Topic4\", \"Topic4\", \"Topic4\", \"Topic4\", \"Topic4\", \"Topic4\", \"Topic4\", \"Topic4\", \"Topic5\", \"Topic5\", \"Topic5\", \"Topic5\", \"Topic5\", \"Topic5\", \"Topic5\", \"Topic5\", \"Topic5\", \"Topic5\", \"Topic5\", \"Topic5\", \"Topic5\", \"Topic5\", \"Topic5\", \"Topic5\", \"Topic5\", \"Topic5\", \"Topic5\", \"Topic5\", \"Topic5\", \"Topic5\", \"Topic5\", \"Topic5\", \"Topic5\", \"Topic5\", \"Topic5\", \"Topic5\", \"Topic5\", \"Topic5\", \"Topic5\", \"Topic5\", \"Topic5\", \"Topic5\", \"Topic5\", \"Topic5\", \"Topic5\", \"Topic5\", \"Topic5\", \"Topic5\", \"Topic5\", \"Topic5\", \"Topic5\", \"Topic5\", \"Topic5\", \"Topic5\", \"Topic5\", \"Topic5\", \"Topic6\", \"Topic6\", \"Topic6\", \"Topic6\", \"Topic6\", \"Topic6\", \"Topic6\", \"Topic6\", \"Topic6\", \"Topic6\", \"Topic6\", \"Topic6\", \"Topic6\", \"Topic6\", \"Topic6\", \"Topic6\", \"Topic6\", \"Topic6\", \"Topic6\", \"Topic6\", \"Topic6\", \"Topic6\", \"Topic6\", \"Topic6\", \"Topic6\", \"Topic6\", \"Topic6\", \"Topic6\", \"Topic6\", \"Topic6\", \"Topic6\", \"Topic6\", \"Topic6\", \"Topic6\", \"Topic6\", \"Topic6\", \"Topic6\", \"Topic6\", \"Topic6\", \"Topic6\", \"Topic6\", \"Topic6\", \"Topic6\", \"Topic6\", \"Topic6\", \"Topic6\", \"Topic6\", \"Topic6\", \"Topic6\", \"Topic6\", \"Topic6\", \"Topic6\", \"Topic6\", \"Topic6\", \"Topic6\", \"Topic6\", \"Topic6\", \"Topic6\", \"Topic6\", \"Topic6\", \"Topic6\", \"Topic6\", \"Topic6\", \"Topic6\", \"Topic6\", \"Topic6\", \"Topic6\", \"Topic6\", \"Topic6\", \"Topic6\", \"Topic6\", \"Topic7\", \"Topic7\", \"Topic7\", \"Topic7\", \"Topic7\", \"Topic7\", \"Topic7\", \"Topic7\", \"Topic7\", \"Topic7\", \"Topic7\", \"Topic7\", \"Topic7\", \"Topic7\", \"Topic7\", \"Topic7\", \"Topic7\", \"Topic7\", \"Topic7\", \"Topic7\", \"Topic7\", \"Topic7\", \"Topic7\", \"Topic7\", \"Topic7\", \"Topic7\", \"Topic7\", \"Topic7\", \"Topic7\", \"Topic7\", \"Topic7\", \"Topic7\", \"Topic7\", \"Topic7\", \"Topic7\", \"Topic7\", \"Topic7\", \"Topic7\", \"Topic7\", \"Topic7\", \"Topic7\", \"Topic7\", \"Topic7\", \"Topic7\", \"Topic7\", \"Topic7\", \"Topic7\", \"Topic7\", \"Topic7\", \"Topic7\", \"Topic7\", \"Topic7\", \"Topic7\", \"Topic7\", \"Topic7\", \"Topic7\", \"Topic7\", \"Topic7\", \"Topic8\", \"Topic8\", \"Topic8\", \"Topic8\", \"Topic8\", \"Topic8\", \"Topic8\", \"Topic8\", \"Topic8\", \"Topic8\", \"Topic8\", \"Topic8\", \"Topic8\", \"Topic8\", \"Topic8\", \"Topic8\", \"Topic8\", \"Topic8\", \"Topic8\", \"Topic8\", \"Topic8\", \"Topic8\", \"Topic8\", \"Topic8\", \"Topic8\", \"Topic8\", \"Topic8\", \"Topic8\", \"Topic8\", \"Topic8\", \"Topic8\", \"Topic8\", \"Topic8\", \"Topic8\", \"Topic8\", \"Topic8\", \"Topic8\", \"Topic8\", \"Topic8\", \"Topic8\", \"Topic8\", \"Topic8\", \"Topic8\", \"Topic8\", \"Topic8\", \"Topic8\", \"Topic8\", \"Topic8\", \"Topic8\", \"Topic8\", \"Topic8\", \"Topic8\", \"Topic8\", \"Topic8\", \"Topic8\", \"Topic8\", \"Topic8\", \"Topic9\", \"Topic9\", \"Topic9\", \"Topic9\", \"Topic9\", \"Topic9\", \"Topic9\", \"Topic9\", \"Topic9\", \"Topic9\", \"Topic9\", \"Topic9\", \"Topic9\", \"Topic9\", \"Topic9\", \"Topic9\", \"Topic9\", \"Topic9\", \"Topic9\", \"Topic9\", \"Topic9\", \"Topic9\", \"Topic9\", \"Topic9\", \"Topic9\", \"Topic9\", \"Topic9\", \"Topic9\", \"Topic9\", \"Topic9\", \"Topic9\", \"Topic9\", \"Topic9\", \"Topic9\", \"Topic9\", \"Topic9\", \"Topic9\", \"Topic9\", \"Topic9\", \"Topic9\", \"Topic9\", \"Topic9\", \"Topic9\", \"Topic9\", \"Topic9\", \"Topic9\", \"Topic9\", \"Topic9\", \"Topic9\", \"Topic9\", \"Topic9\", \"Topic9\", \"Topic9\", \"Topic9\", \"Topic9\", \"Topic9\", \"Topic9\", \"Topic9\", \"Topic9\", \"Topic9\", \"Topic9\", \"Topic9\", \"Topic9\", \"Topic9\", \"Topic10\", \"Topic10\", \"Topic10\", \"Topic10\", \"Topic10\", \"Topic10\", \"Topic10\", \"Topic10\", \"Topic10\", \"Topic10\", \"Topic10\", \"Topic10\", \"Topic10\", \"Topic10\", \"Topic10\", \"Topic10\", \"Topic10\", \"Topic10\", \"Topic10\", \"Topic10\", \"Topic10\", \"Topic10\", \"Topic10\", \"Topic10\", \"Topic10\", \"Topic10\", \"Topic10\", \"Topic10\", \"Topic10\", \"Topic10\", \"Topic10\", \"Topic10\", \"Topic10\", \"Topic10\", \"Topic10\", \"Topic10\", \"Topic10\", \"Topic10\", \"Topic10\", \"Topic10\", \"Topic10\", \"Topic10\", \"Topic10\", \"Topic10\", \"Topic10\", \"Topic10\", \"Topic10\", \"Topic10\", \"Topic10\", \"Topic10\", \"Topic10\", \"Topic10\", \"Topic10\", \"Topic10\", \"Topic10\", \"Topic10\", \"Topic10\", \"Topic10\", \"Topic10\"], \"logprob\": [30.0, 29.0, 28.0, 27.0, 26.0, 25.0, 24.0, 23.0, 22.0, 21.0, 20.0, 19.0, 18.0, 17.0, 16.0, 15.0, 14.0, 13.0, 12.0, 11.0, 10.0, 9.0, 8.0, 7.0, 6.0, 5.0, 4.0, 3.0, 2.0, 1.0, -4.7989, -4.8474, -4.8978, -5.441, -4.7076, -5.535, -5.7556, -5.8872, -6.0391, -6.0391, -6.0392, -6.04, -6.2181, -6.2181, -6.2181, -6.2181, -6.2187, -5.0687, -6.4364, -6.4364, -6.4364, -6.4365, -6.4365, -6.4365, -6.4365, -6.4366, -6.4366, -6.4366, -6.4366, -6.437, -3.6911, -4.8028, -5.5348, -5.4602, -5.4703, -5.3593, -6.0525, -6.0402, -6.0397, -5.7556, -6.2181, -5.0111, -5.7576, -5.4525, -5.1485, -5.4405, -4.443, -5.8884, -4.8657, -5.5449, -5.5621, -4.7412, -5.2012, -5.4406, -5.3329, -5.1327, -5.5632, -5.5292, -5.4532, -5.6145, -4.1896, -4.948, -5.101, -5.1872, -5.634, -5.9649, -5.9649, -5.9649, -6.1831, -6.1832, -6.1832, -6.1832, -6.1832, -6.1832, -6.1834, -6.1834, -5.7873, -6.4627, -6.4628, -6.4628, -6.4628, -6.4628, -6.4628, -6.4628, -6.4628, -6.4628, -6.4628, -6.463, -6.4633, -6.4631, -5.7859, -5.5033, -5.634, -5.6341, -5.1009, -5.7858, -4.2946, -5.1997, -5.2894, -6.1833, -6.1832, -6.1875, -6.1876, -5.6341, -3.9511, -5.9677, -5.6529, -5.2928, -5.3878, -5.7508, -5.1454, -5.4273, -5.6341, -5.2058, -5.7849, -5.3066, -5.5345, -5.592, -5.928, -5.1587, -4.4702, -5.7574, -5.1587, -5.9364, -5.9364, -6.1548, -6.1548, -6.1548, -4.9194, -6.4343, -6.4343, -6.4343, -6.4344, -6.4344, -5.9364, -5.6054, -6.8238, -6.8238, -6.8238, -6.8238, -6.8238, -6.8238, -6.8238, -6.8238, -6.8238, -6.8238, -6.8238, -6.8238, -6.8238, -5.6056, -5.0725, -6.4343, -4.851, -6.4343, -6.4344, -5.1587, -5.9364, -4.2661, -4.3036, -5.9365, -5.9364, -3.6718, -5.9364, -4.5648, -4.3854, -4.8509, -5.9364, -5.3575, -5.3571, -5.9363, -5.3573, -5.2531, -5.7574, -5.479, -5.7573, -5.7573, -5.757, -5.7573, -5.7573, -5.7573, -5.7571, -5.0483, -5.2383, -6.1021, -6.228, -6.2287, -6.3798, -6.3798, -6.5589, -6.5589, -6.5589, -6.5613, -6.7771, -6.7771, -6.7771, -6.7771, -6.7772, -6.7772, -6.7772, -6.7795, -6.7795, -5.7874, -6.228, -7.0567, -7.0567, -7.0567, -7.0567, -7.0567, -7.0567, -7.0567, -7.0567, -4.1972, -6.3798, -6.0157, -5.6155, -5.4222, -6.5589, -5.8755, -5.9798, -5.8762, -5.0062, -5.5419, -4.4356, -5.6948, -6.3798, -6.2287, -6.1265, -4.5421, -5.2169, -5.9353, -4.6955, -5.2921, -4.8223, -5.0631, -4.7345, -5.7962, -4.9875, -5.2383, -4.8243, -5.6087, -5.2971, -5.2492, -5.6154, -5.4733, -5.4733, -5.7711, -5.6924, -5.7816, -3.9144, -4.5516, -4.5516, -5.0558, -5.0558, -5.2349, -5.2363, -5.4531, -5.4531, -5.7327, -5.7327, -5.7327, -5.7327, -5.7327, -6.1222, -6.1222, -6.1222, -6.1222, -6.1222, -6.1222, -6.1222, -6.1222, -6.1222, -6.1222, -6.1222, -6.1222, -6.1222, -6.1222, -6.1222, -6.1222, -6.1222, -5.4531, -5.7327, -4.025, -3.7975, -5.7327, -5.7327, -5.4531, -5.4531, -5.2349, -5.7327, -5.7327, -5.7327, -5.7327, -5.7326, -5.7327, -5.7327, -5.7326, -5.4903, -5.8362, -6.0174, -6.1212, -6.5212, -6.5222, -5.9226, -6.7002, -6.7003, -5.9491, -6.9185, -6.9185, -6.9185, -6.9186, -6.9186, -6.9186, -6.9186, -6.9186, -6.9186, -6.9187, -6.9198, -6.1212, -6.3693, -6.3694, -6.0169, -7.1981, -7.1981, -7.1981, -7.1982, -7.1982, -5.3797, -6.2377, -5.9686, -5.9225, -6.0169, -5.8584, -4.0819, -6.2376, -5.1938, -5.3353, -6.0939, -6.3704, -4.3738, -6.2552, -3.8746, -6.2376, -4.4777, -5.1209, -5.309, -5.8362, -4.8806, -5.6957, -5.457, -5.0368, -4.8981, -5.615, -5.9522, -5.0299, -5.03, -5.2429, -5.5687, -5.3027, -5.7575, -5.557, -5.1657, -5.4185, -5.5129, -5.7022, -5.7276, -5.7174, -5.7002, -4.8458, -4.9506, -5.0074, -5.4396, -5.4396, -5.534, -5.6382, -6.0382, -6.0382, -6.0382, -6.0383, -6.0386, -6.0387, -5.3533, -6.2173, -6.2173, -6.2173, -6.2174, -6.4356, -6.4357, -6.437, -5.1318, -6.7152, -6.7152, -6.7152, -6.7152, -6.7152, -6.7152, -6.7152, -6.7152, -6.0382, -6.0382, -5.5404, -5.5432, -6.2173, -5.2253, -5.8864, -6.4363, -5.8374, -3.5303, -4.6837, -5.6382, -5.7294, -4.9638, -5.5921, -5.2737, -5.5942, -5.6441, -5.0148, -5.3529, -5.3345, -5.3527, -5.5931, -5.5337, -5.6131, -5.5763, -5.5595, -5.638, -5.407, -5.8043, -5.8044, -5.8044, -5.8044, -5.8044, -6.0839, -6.0839, -6.0839, -6.084, -6.084, -5.8043, -6.4734, -6.4734, -6.4734, -6.4734, -6.4735, -6.4735, -6.4735, -6.4735, -6.4735, -6.4735, -6.4735, -6.4735, -6.4735, -6.4735, -6.4735, -6.4735, -6.4735, -6.4735, -5.8044, -6.084, -5.5861, -5.2617, -5.4071, -5.2553, -4.6427, -5.1234, -6.0839, -4.157, -5.8044, -5.2552, -6.084, -6.0839, -5.4071, -5.2552, -5.2553, -5.8043, -5.407, -5.586, -5.4069, -5.4255, -5.5861, -5.586, -5.8042, -5.8559, -6.0838, -5.1378, -5.177, -5.2823, -5.3275, -5.4774, -5.5915, -5.6222, -5.6865, -4.2227, -5.7553, -5.7553, -5.7553, -5.7553, -5.7553, -5.8291, -5.8292, -5.8682, -5.8682, -5.8682, -5.8682, -5.8682, -5.8682, -5.8682, -5.8682, -5.8682, -5.909, -5.9512, -5.9512, -5.9512, -5.9512, -5.2183, -4.1999, -4.8998, -5.4508, -4.5791, -4.7858, -3.665, -4.5361, -5.3173, -5.2782, -4.3896, -4.7992, -5.1572, -5.1002, -5.6222, -4.7077, -4.7723, -4.7077, -4.5901, -5.3542, -5.3087, -5.1972, -4.4695, -5.0818, -4.4749, -3.8412, -4.9765, -4.505, -5.0833, -5.2602, -5.1269, -5.2576, -5.2602, -5.2387, -4.8275, -5.1131, -5.1131, -5.3981, -5.7981, -5.7981, -5.1131, -5.9771, -5.9771, -5.9771, -6.1954, -6.1954, -6.1954, -6.1954, -6.1954, -6.1954, -6.1954, -6.475, -6.475, -6.475, -6.475, -6.475, -6.475, -6.475, -6.475, -6.475, -6.475, -6.475, -6.475, -6.475, -5.3985, -5.7981, -5.9771, -5.3994, -4.0383, -5.7997, -6.1954, -6.1956, -5.9771, -5.9771, -6.1954, -5.3538, -5.3183, -5.5145, -5.4365, -5.4762, -5.5145, -5.0336, -5.7981, -4.8915, -5.6463, -5.3731, -5.6462, -5.6462, -5.5333, -5.6461, -5.6462, -5.7981, -5.7923], \"loglift\": [30.0, 29.0, 28.0, 27.0, 26.0, 25.0, 24.0, 23.0, 22.0, 21.0, 20.0, 19.0, 18.0, 17.0, 16.0, 15.0, 14.0, 13.0, 12.0, 11.0, 10.0, 9.0, 8.0, 7.0, 6.0, 5.0, 4.0, 3.0, 2.0, 1.0, 2.4506, 2.4487, 2.4471, 2.4165, 2.4104, 2.41, 2.391, 2.3779, 2.3606, 2.3606, 2.3604, 2.3597, 2.3369, 2.3369, 2.3369, 2.3369, 2.3364, 2.3282, 2.3027, 2.3027, 2.3027, 2.3026, 2.3026, 2.3026, 2.3026, 2.3026, 2.3026, 2.3026, 2.3025, 2.3021, 2.0923, 2.1313, 2.204, 2.1896, 2.1681, 2.1416, 2.2227, 2.2149, 2.1985, 2.1036, 2.2395, 1.8672, 2.0798, 1.9639, 1.7786, 1.8942, 1.155, 2.0934, 1.2489, 1.7138, 1.7188, 0.7105, 1.2616, 1.5022, 1.0352, 0.5776, 0.7484, 0.516, -0.0844, 0.5504, 2.7894, 2.7562, 2.746, 2.7397, 2.6974, 2.6533, 2.6533, 2.6533, 2.6167, 2.6166, 2.6166, 2.6166, 2.6166, 2.6166, 2.6165, 2.6164, 2.563, 2.5591, 2.559, 2.559, 2.559, 2.559, 2.559, 2.559, 2.559, 2.559, 2.559, 2.5588, 2.5588, 2.5588, 2.5273, 2.4976, 2.4946, 2.4731, 2.3687, 2.4126, 2.0591, 2.1376, 2.135, 2.4361, 2.4108, 2.4061, 2.4061, 2.0064, 0.7776, 2.229, 1.9192, 0.8706, 1.0557, 1.6552, 0.3058, 0.8843, 1.3579, 0.3377, 1.6868, 0.4119, 0.7387, -0.1105, 1.4072, 2.7743, 2.7707, 2.7129, 2.6936, 2.6874, 2.6873, 2.6504, 2.6503, 2.6503, 2.6469, 2.5925, 2.5925, 2.5925, 2.5925, 2.5924, 2.5096, 2.4925, 2.4884, 2.4883, 2.4883, 2.4883, 2.4883, 2.4883, 2.4883, 2.4883, 2.4883, 2.4883, 2.4883, 2.4883, 2.4883, 2.4839, 2.4741, 2.3688, 1.7997, 2.354, 2.3539, 1.7817, 2.0804, 1.1863, 1.1477, 2.0238, 2.0236, 0.7474, 1.9583, 0.804, 0.3433, 0.806, 1.8338, 0.8729, 0.8078, 1.7709, 0.6019, 0.1986, 1.17, 0.0644, 1.1278, 0.6641, 0.6111, 0.6025, 0.4875, 0.2986, -0.2882, 2.0534, 2.0466, 1.988, 1.9815, 1.9808, 1.9653, 1.9653, 1.943, 1.943, 1.943, 1.9417, 1.9108, 1.9108, 1.9108, 1.9108, 1.9108, 1.9108, 1.9108, 1.9085, 1.9085, 1.8751, 1.8606, 1.86, 1.86, 1.86, 1.86, 1.86, 1.86, 1.86, 1.86, 1.8067, 1.8463, 1.7931, 1.7494, 1.7068, 1.8052, 1.7259, 1.7355, 1.6841, 1.3535, 1.4967, 1.0333, 1.4928, 1.7557, 1.6774, 1.6332, 0.9395, 1.2236, 1.5429, 0.848, 1.1293, 0.8345, 0.8961, 0.6343, 1.3903, 0.4638, 0.545, -0.0956, 0.7344, 0.1553, 0.0319, 0.5495, -0.2368, -0.2437, 0.6723, 0.0261, 0.5866, 3.8971, 3.8358, 3.8358, 3.7564, 3.7564, 3.7193, 3.717, 3.6664, 3.6664, 3.5852, 3.5852, 3.5852, 3.5852, 3.5852, 3.4434, 3.4434, 3.4434, 3.4434, 3.4434, 3.4434, 3.4434, 3.4434, 3.4434, 3.4434, 3.4434, 3.4434, 3.4434, 3.4434, 3.4434, 3.4434, 3.4434, 3.3928, 3.2793, 1.4263, 0.9312, 2.8909, 2.89, 2.2371, 2.1998, 1.4098, 1.8888, 1.8329, 1.6099, 1.2076, 1.0751, 0.6354, 0.5789, 0.3355, 1.8865, 1.8687, 1.8566, 1.849, 1.811, 1.8105, 1.7935, 1.7891, 1.7891, 1.7694, 1.7574, 1.7574, 1.7574, 1.7574, 1.7574, 1.7574, 1.7574, 1.7574, 1.7573, 1.7573, 1.7562, 1.754, 1.7244, 1.7244, 1.7099, 1.7073, 1.7073, 1.7073, 1.7073, 1.7073, 1.6828, 1.6868, 1.674, 1.6493, 1.6447, 1.6133, 1.3705, 1.6513, 1.4509, 1.4713, 1.5963, 1.6288, 1.1077, 1.5854, 0.8541, 1.557, 0.9736, 1.044, 1.1316, 1.3802, 0.838, 1.2471, 0.9748, 0.62, 0.4706, 1.0357, 1.3583, 0.2065, 0.1996, 0.3552, 0.8526, 0.1663, 1.0551, 0.4882, -0.7464, 0.0331, 0.0305, 0.6659, 0.7158, 0.6424, 0.2589, 2.4567, 2.4522, 2.4496, 2.4242, 2.4242, 2.4171, 2.4086, 2.3672, 2.3672, 2.3672, 2.3672, 2.3669, 2.3668, 2.3496, 2.3434, 2.3434, 2.3434, 2.3434, 2.309, 2.3089, 2.3075, 2.267, 2.2549, 2.2549, 2.2549, 2.2549, 2.2549, 2.2549, 2.2549, 2.2549, 2.2413, 2.222, 2.1188, 2.0851, 2.178, 1.9914, 2.0674, 2.1599, 1.921, 0.8889, 1.3844, 1.8346, 1.85, 0.5051, 1.3779, 0.862, 1.3589, 1.3379, -0.2861, 0.3016, 0.1849, 0.0371, 0.8387, 0.6082, 0.7758, 0.5872, 0.4174, 0.6067, 3.193, 3.1211, 3.121, 3.121, 3.121, 3.121, 3.0551, 3.0551, 3.0551, 3.0549, 3.0549, 2.983, 2.9375, 2.9375, 2.9375, 2.9375, 2.9374, 2.9374, 2.9374, 2.9374, 2.9374, 2.9374, 2.9374, 2.9374, 2.9374, 2.9374, 2.9374, 2.9374, 2.9374, 2.9374, 2.8876, 2.8101, 2.4599, 2.164, 2.1476, 1.954, 1.3612, 1.6892, 2.5725, 0.5717, 2.2198, 1.3895, 2.4256, 2.3783, 1.1614, 0.8128, 0.7039, 1.6201, 0.3116, 0.8353, 0.0454, 0.0258, 0.6587, 0.5775, -0.3525, -0.3125, 1.5567, 1.0815, 1.0809, 1.0792, 1.0786, 1.076, 1.0737, 1.0731, 1.0716, 1.0702, 1.07, 1.07, 1.0699, 1.0699, 1.0699, 1.0681, 1.068, 1.067, 1.067, 1.067, 1.067, 1.067, 1.067, 1.067, 1.067, 1.067, 1.0657, 1.0646, 1.0646, 1.0646, 1.0646, 1.0636, 1.0399, 1.0467, 1.0546, 1.0335, 1.0385, 0.9912, 1.018, 1.0489, 1.045, 1.0002, 1.0171, 1.033, 1.0194, 1.0526, 0.9652, 0.9674, 0.9467, 0.9293, 1.0172, 1.0012, 0.9828, 0.8115, 0.9375, 0.7615, 0.578, 0.8928, 0.7246, 0.9244, 0.9436, 0.5834, 0.9059, 0.8817, 0.6529, 2.7478, 2.7301, 2.7301, 2.7071, 2.663, 2.663, 2.6569, 2.6377, 2.6377, 2.6377, 2.6012, 2.6011, 2.6011, 2.6011, 2.6011, 2.6011, 2.6011, 2.5438, 2.5438, 2.5438, 2.5438, 2.5438, 2.5438, 2.5438, 2.5438, 2.5438, 2.5438, 2.5438, 2.5438, 2.5437, 2.5124, 2.51, 2.4856, 2.2873, 1.9386, 2.2749, 2.4208, 2.42, 2.3115, 2.3115, 2.4074, 1.8531, 1.6861, 1.8207, 1.7142, 1.5636, 1.3495, 0.448, 1.8535, -0.1628, 1.2814, 0.2249, 0.7911, 0.6654, -0.0816, 0.5173, 0.2454, 1.15, -0.2488]}, \"token.table\": {\"Topic\": [6, 7, 9, 9, 1, 2, 5, 6, 7, 8, 9, 10, 3, 10, 4, 9, 3, 7, 2, 3, 6, 7, 9, 3, 3, 4, 2, 3, 4, 6, 7, 8, 9, 10, 8, 2, 8, 1, 3, 6, 7, 1, 2, 3, 6, 1, 2, 3, 4, 5, 6, 7, 8, 9, 1, 2, 3, 4, 5, 6, 7, 8, 9, 10, 1, 4, 6, 1, 3, 3, 3, 7, 4, 8, 2, 4, 7, 2, 3, 4, 6, 7, 8, 9, 10, 7, 3, 8, 6, 7, 8, 4, 7, 4, 4, 7, 8, 4, 5, 10, 3, 4, 3, 4, 6, 1, 2, 7, 6, 10, 1, 1, 6, 4, 6, 7, 10, 6, 1, 2, 3, 4, 5, 6, 7, 8, 9, 10, 1, 7, 1, 4, 6, 5, 2, 3, 4, 6, 7, 3, 1, 5, 2, 1, 9, 5, 2, 6, 9, 6, 2, 3, 4, 10, 3, 4, 6, 1, 3, 4, 5, 6, 10, 6, 4, 6, 8, 7, 7, 9, 4, 6, 7, 8, 10, 2, 4, 7, 9, 2, 1, 3, 9, 1, 2, 3, 4, 7, 9, 6, 4, 2, 2, 3, 4, 6, 8, 10, 6, 2, 5, 10, 2, 4, 5, 8, 10, 3, 1, 5, 6, 9, 3, 2, 3, 3, 4, 6, 5, 5, 6, 2, 3, 4, 6, 7, 8, 10, 3, 2, 3, 4, 5, 6, 9, 10, 1, 3, 6, 10, 3, 4, 6, 3, 6, 1, 2, 4, 9, 10, 2, 8, 2, 7, 3, 4, 6, 1, 3, 4, 6, 1, 1, 2, 3, 4, 6, 7, 9, 10, 2, 3, 4, 6, 9, 2, 3, 6, 10, 1, 6, 5, 1, 3, 5, 6, 10, 5, 8, 2, 1, 4, 5, 4, 6, 7, 9, 6, 8, 10, 2, 3, 4, 5, 6, 2, 6, 8, 4, 1, 7, 5, 6, 10, 4, 5, 3, 7, 8, 6, 7, 4, 5, 5, 1, 2, 3, 9, 9, 6, 8, 10, 1, 2, 4, 5, 6, 7, 2, 6, 8, 1, 7, 9, 1, 2, 4, 6, 9, 8, 6, 7, 3, 4, 6, 2, 3, 1, 6, 10, 2, 9, 4, 3, 6, 2, 1, 9, 1, 2, 4, 6, 7, 10, 2, 4, 4, 8, 1, 9, 2, 3, 1, 6, 1, 5, 3, 10, 1, 4, 1, 3, 7, 8, 9, 6, 10, 3, 6, 8, 9, 2, 10, 2, 3, 4, 6, 7, 8, 9, 10, 1, 3, 4, 6, 10, 7, 1, 3, 4, 6, 8, 2, 2, 4, 6, 7, 9, 2, 3, 10, 2, 9, 1, 2, 6, 9, 10, 3, 6, 9, 3, 4, 7, 10, 3, 8, 1, 3, 1, 3, 4, 6, 7, 8, 9, 10, 1, 1, 2, 3, 6, 7, 8, 9, 10, 1, 2, 3, 4, 6, 7, 8, 2, 3, 4, 6, 2, 3, 4, 8, 1, 5, 10, 7, 1, 8, 1, 8, 9, 7, 8, 1, 6, 7, 9, 2, 2, 5, 9, 9, 5, 2, 2, 3, 4, 8, 8, 10, 1, 6, 2, 5, 4, 1, 2, 3, 4, 6, 3, 4, 6, 7, 10, 6, 7, 9, 1, 2, 9, 10, 1, 2, 3, 4, 5, 6, 8, 10, 9, 1, 4, 7, 9, 2, 2, 3, 4, 6, 7, 8, 9, 3, 6, 7, 9, 10, 2, 4, 6, 7, 9, 10, 1, 1, 2, 6, 7, 9, 10, 2, 5, 10, 1, 1, 2, 4, 4, 2, 3, 4, 8, 9, 9, 9, 9, 10, 7, 1, 2, 3, 4, 5, 6, 7, 9, 6, 9, 10, 8, 7, 2, 6, 1, 2, 4, 6, 2, 10, 6, 10, 3, 4, 5, 6, 8, 5, 10, 1, 2, 4, 7, 8, 10, 8, 7, 1, 4, 6, 7, 1, 6, 7, 9, 5, 3, 8, 2, 10, 3, 10, 1, 2, 3, 4, 5, 6, 8, 10, 3, 2, 3, 4, 6, 7, 8, 10, 6, 7, 8, 9, 1, 5, 6, 9, 1, 6, 2, 3, 4, 6, 7, 8, 9, 10, 3, 10, 6, 10, 1, 4, 6, 7, 9, 10, 3, 6, 2, 1, 3, 2, 4, 5, 1, 3, 2, 3, 4, 5, 6, 6, 7, 9, 10, 10, 2, 2, 3, 4, 5, 6, 8, 10, 6, 10, 3, 4, 6, 8, 9, 10, 7, 9, 9, 10, 1, 2, 3, 4, 5, 6, 10, 4, 5, 5, 10, 10, 8, 7, 8, 1, 2, 4, 8, 10, 1, 2, 3, 4, 6, 7, 8, 9, 10, 2, 4, 6, 7, 8, 9, 10, 4, 7, 1, 1, 3, 5, 6, 7, 10, 3, 6, 3, 6, 7, 9, 1, 2, 3, 4, 5, 6, 7, 8, 10, 1, 2, 4, 5, 9, 7, 8, 1, 6, 7, 1, 4, 9, 2, 4, 2, 4, 6, 8, 10, 2, 3, 4, 5, 6, 9, 3, 4, 6, 7, 9, 3, 4, 6, 7, 8, 9, 10, 6, 7, 8, 8, 1, 4, 6, 8, 10, 1, 4, 5, 10, 8, 9, 2, 4, 7, 2, 4, 7, 10, 8, 7, 1, 2, 3, 4, 6, 7, 8, 3, 10, 2, 4, 6, 1, 1, 2, 4, 6, 7, 9, 10, 2, 3, 6, 2, 2, 3, 4, 6, 10, 1, 7, 9, 1, 2, 6, 9, 1, 9, 2, 9, 6, 7, 1, 3, 6, 9, 7, 1, 2, 8, 4, 6, 3, 4, 7, 2, 8, 4, 4, 6, 7, 10, 6, 8, 2, 6, 7, 8, 9, 5, 4, 6, 5, 9, 10, 1, 10, 2, 4, 10, 3, 6, 7, 9, 7, 7, 5, 6, 7, 1, 2, 3, 4, 5, 6, 7, 8, 9, 10, 3, 2, 3, 4, 5, 6, 7, 8, 9, 9, 5, 7, 5, 10, 1, 2, 9, 7, 6, 1, 2, 3, 4, 6, 7, 8, 10, 4, 6, 10, 9, 9, 1, 1, 3, 4, 5, 6, 7, 9, 10, 2, 6, 7, 8, 7, 1, 2, 3, 5, 6, 9, 10, 4, 7, 8, 6, 3, 2, 3, 2, 4, 2, 3, 4, 5, 6, 1, 2, 3, 10, 2, 7, 10, 4, 6, 10, 10, 3, 10, 1, 3, 4, 6, 8, 2, 4, 1, 7, 4, 9, 7, 8, 3, 6, 6, 6, 10, 4, 7, 1, 5, 5, 2, 4, 2, 3, 4, 6, 8, 3, 4, 8, 8, 9, 6, 7, 2, 7, 1, 2, 4, 6, 7, 8, 9, 10, 1, 3, 6, 10, 4, 1, 5, 4, 5, 6, 7, 10, 2, 3, 4, 6, 10, 8, 4, 7, 9, 10, 1, 3, 4, 5, 6, 7, 8, 9, 10, 1, 3, 6, 2, 5, 2, 3, 4, 6, 8, 10, 4, 10, 10, 10, 1, 2, 3, 4, 5, 6, 7, 8, 9, 10, 8, 7, 7, 9, 1, 2, 9, 2, 3, 4, 6, 7, 8, 10, 5, 3, 4, 1, 2, 3, 4, 5, 6, 7, 9, 2, 3, 4, 5, 6, 8, 8, 8, 1, 2, 3, 4, 5, 6, 7, 8, 5, 2, 10, 3, 6, 8, 1, 10, 5, 2, 4, 4, 5, 10, 6, 2, 4, 9, 9, 2, 4, 10, 5, 1, 2, 4, 6, 7, 8, 10, 1, 1, 2, 3, 6, 7, 9, 10, 8, 9, 8, 3, 1, 2, 3, 4, 5, 6, 7, 8, 9, 10, 6, 7, 9, 7, 9], \"Freq\": [0.022794680413247167, 0.11397340206623584, 0.8661978557033924, 0.9938976496137175, 0.034470120861251, 0.0172350604306255, 0.034470120861251, 0.068940241722502, 0.3274661481818845, 0.0861753021531275, 0.43087651076563754, 0.034470120861251, 0.5311849289220301, 0.26559246446101503, 0.8927452289648182, 0.9922817841881351, 0.6644016787125459, 0.627737325484368, 0.03902161529100008, 0.19510807645500042, 0.03902161529100008, 0.03902161529100008, 0.7023890752380014, 0.8837504170206252, 0.7984353536485724, 0.8927450582032691, 0.04113555096571971, 0.10283887741429927, 0.061703326448579565, 0.04113555096571971, 0.04113555096571971, 0.061703326448579565, 0.6376010399686555, 0.020567775482859856, 0.9005017856152655, 0.8444300942764955, 0.1688860188552991, 0.5505217831910123, 0.06116908702122359, 0.18350726106367077, 0.18350726106367077, 0.3720139193337838, 0.04133487992597598, 0.08266975985195196, 0.4960185591117118, 0.23267271130774395, 0.023267271130774394, 0.11633635565387197, 0.23267271130774395, 0.04653454226154879, 0.2792072535692927, 0.04653454226154879, 0.023267271130774394, 0.023267271130774394, 0.07291025771531184, 0.08506196733453049, 0.024303419238437284, 0.12151709619218641, 0.012151709619218642, 0.34024786933812196, 0.07291025771531184, 0.04860683847687457, 0.2065790635267169, 0.024303419238437284, 0.15506067602354565, 0.07753033801177282, 0.7753033801177281, 0.2624415765275708, 0.656103941318927, 0.8837502889526276, 0.8880139023345694, 0.6277374288311947, 0.8927446596295376, 0.48775924612514265, 0.794192616571458, 0.9468893171514626, 0.6277371083632324, 0.042477294976630324, 0.1699091799065213, 0.21238647488315163, 0.08495458995326065, 0.3398183598130426, 0.042477294976630324, 0.08495458995326065, 0.042477294976630324, 0.627737437249233, 0.6644020413245086, 0.4877627416573124, 0.22720874740082356, 0.6816262422024707, 0.11360437370041178, 0.8927455367339301, 0.7514895339866732, 0.8927443976323072, 0.6934470974182255, 0.18912193565951604, 0.06304064521983868, 0.8927452814064427, 0.5693845139319803, 0.6590726971899846, 0.8837491860858477, 0.9468917675495836, 0.8837502660817554, 0.7800093714154456, 0.13000156190257425, 0.7474538400596615, 0.15735182716114496, 0.7867591358057249, 0.16190737390230162, 0.809536869511508, 0.8871579735613618, 0.9415807162211506, 0.9439680741134231, 0.16406987594922914, 0.08203493797461457, 0.6562795037969166, 0.08203493797461457, 0.9238699551457581, 0.05688308951836497, 0.1516882387156399, 0.05688308951836497, 0.1706492685550949, 0.01896102983945499, 0.1896102983945499, 0.1516882387156399, 0.05688308951836497, 0.05688308951836497, 0.09480514919727495, 0.9008047593695849, 0.9343877950376347, 0.0968934189469705, 0.193786837893941, 0.6782539326287935, 0.8889152462249844, 0.21416827317571077, 0.42833654635142154, 0.10708413658785539, 0.10708413658785539, 0.10708413658785539, 0.8837485564078715, 0.7474492523906929, 0.5693812384044845, 0.7941850174610153, 0.8871317844157123, 0.9794368360251979, 0.5693817664354719, 0.45866658128234306, 0.0458666581282343, 0.4815999103464602, 0.9355581430625008, 0.1871248067163744, 0.0935624033581872, 0.6549368235073104, 0.0935624033581872, 0.6804088258616056, 0.0756009806512895, 0.22680294195386852, 0.5425796255965868, 0.07751137508522668, 0.07751137508522668, 0.03875568754261334, 0.19377843771306671, 0.07751137508522668, 0.882669438329265, 0.37776996544762187, 0.18888498272381093, 0.37776996544762187, 0.9677563483998382, 0.04579206561475914, 0.9463693560383555, 0.12457878207589909, 0.12457878207589909, 0.12457878207589909, 0.3737363462276973, 0.24915756415179818, 0.021860295252089535, 0.010930147626044768, 0.032790442878134304, 0.9399926958398501, 0.7941928898334101, 0.08109837702881488, 0.14192215980042605, 0.7704345817737414, 0.8290540094880161, 0.7145598204564529, 0.11909330340940882, 0.11909330340940882, 0.038949850880182005, 0.9347964211243681, 0.9355593395426505, 0.840022380669239, 0.661101560579587, 0.08140680353381613, 0.20351700883454032, 0.3256272141352645, 0.3256272141352645, 0.040703401766908065, 0.040703401766908065, 0.9355606742525906, 0.44356287455617127, 0.44356287455617127, 0.22178143727808564, 0.33635965472810736, 0.2522697410460805, 0.16817982736405368, 0.08408991368202684, 0.16817982736405368, 0.8837498759679048, 0.4882981874966632, 0.04069151562472194, 0.1220745468741658, 0.3662236406224974, 0.7984354207225887, 0.6610970297468952, 0.6644008047173042, 0.0832206550731286, 0.0832206550731286, 0.7489858956581574, 0.8868579346274165, 0.8763647617435328, 0.9355574682960858, 0.057525439036994724, 0.019175146345664907, 0.316389914703471, 0.4410283659502929, 0.06711301220982718, 0.009587573172832453, 0.09587573172832455, 0.8837492888755222, 0.4839735273092838, 0.4839735273092838, 0.09754581196426355, 0.007503523997251043, 0.18008457593402502, 0.7128347797388491, 0.6590689180823159, 0.4535388508824727, 0.22676942544123635, 0.22676942544123635, 0.11338471272061817, 0.10646670769981471, 0.10646670769981471, 0.7452669538987029, 0.13067432756876324, 0.7840459654125794, 0.10765919788797251, 0.10765919788797251, 0.21531839577594503, 0.16148879683195877, 0.3768071926079038, 0.6610939869507805, 0.4877640717401582, 0.6610937095435336, 0.8923278368813142, 0.37819393220910436, 0.37819393220910436, 0.18909696610455218, 0.22743879570221293, 0.045487759140442584, 0.545853109685311, 0.18195103656177034, 0.9269630718278619, 0.25853798448920245, 0.021544832040766872, 0.043089664081533745, 0.03231724806115031, 0.20467590438728528, 0.010772416020383436, 0.3554897286726534, 0.07540691214268405, 0.11431483024053507, 0.4572593209621403, 0.11431483024053507, 0.3429444907216052, 0.9909086647374697, 0.08482060502911143, 0.08482060502911143, 0.7633854452620029, 0.08482060502911143, 0.7677547238409014, 0.15355094476818026, 0.8889186356056324, 0.22869047662516553, 0.45738095325033107, 0.11434523831258277, 0.11434523831258277, 0.11434523831258277, 0.26144129951750555, 0.7843238985525167, 0.6610948253513943, 0.7474423107796838, 0.7861198047660723, 0.8889123365555913, 0.880270317617665, 0.935559879713862, 0.13818989391578593, 0.8686221903277973, 0.23767056577080142, 0.7130116973124042, 0.925187109519805, 0.11941389065008567, 0.11941389065008567, 0.11941389065008567, 0.05970694532504284, 0.5373625079253855, 0.6622189506962102, 0.13244379013924204, 0.13244379013924204, 0.9690503911649357, 0.8871317684915286, 0.8337661831817752, 0.5693822204088461, 0.8147580242441037, 0.18105733872091193, 0.9468915095971525, 0.5693837628384109, 0.19806363404746566, 0.3961272680949313, 0.3961272680949313, 0.08838993474286554, 0.8838993474286553, 0.7861238812780227, 0.5693842601727155, 0.5693837242009028, 0.7543750851140186, 0.16763890780311524, 0.08381945390155762, 0.9782677593131912, 0.9922685027883593, 0.8293287035907324, 0.4877636146006341, 0.9433398333229931, 0.0701451891351768, 0.35072594567588394, 0.35072594567588394, 0.0701451891351768, 0.0701451891351768, 0.1402903782703536, 0.7941908328392944, 0.8296776169548871, 0.7432608792850172, 0.015057247939535742, 0.037643119848839356, 0.9486066201907518, 0.04925073099408478, 0.03283382066272319, 0.04925073099408478, 0.016416910331361594, 0.8536793372308029, 0.743260947795957, 0.8826692382020563, 0.8923176325596645, 0.8482531692654605, 0.07711392447867822, 0.07711392447867822, 0.6630969892502072, 0.2210323297500691, 0.25637022061330916, 0.12818511030665458, 0.640925551533273, 0.21709473736145596, 0.7381221070289503, 0.9469016458695965, 0.7434237649767805, 0.18585594124419513, 0.8286578229067204, 0.9306124981458543, 0.9873162853439058, 0.061199226521972634, 0.24479690608789054, 0.061199226521972634, 0.061199226521972634, 0.1835976795659179, 0.3671953591318358, 0.6462596327133207, 0.21541987757110687, 0.8927455728369248, 0.48776365492602075, 0.023221381916514752, 0.9520766585771049, 0.05568753631370441, 0.9466881173329751, 0.7474483886754589, 0.9743626480970242, 0.7474502499265981, 0.8889176271980559, 0.09453036376601733, 0.8507732738941559, 0.8290301104977797, 0.8400173882870661, 0.05651453788379489, 0.014128634470948722, 0.07064317235474361, 0.028257268941897444, 0.8194607993150259, 0.9355567688876657, 0.791594405030678, 0.05685950780367733, 0.085289261705516, 0.11371901560735466, 0.767603355349644, 0.6612671571050817, 0.791596531553648, 0.04986468365822633, 0.04986468365822633, 0.07479702548733949, 0.09972936731645266, 0.04986468365822633, 0.04986468365822633, 0.4986468365822633, 0.12466170914556582, 0.7474494685778548, 0.19919362032500668, 0.6971776711375234, 0.09959681016250334, 0.6590679060754941, 0.8923367695465625, 0.6741909172079376, 0.03889562983891948, 0.20744335914090387, 0.06482604973153246, 0.012965209946306492, 0.7941955560453363, 0.011610096366559306, 0.011610096366559306, 0.02322019273311861, 0.08127067456591514, 0.8823673238585071, 0.6300388253160177, 0.2800172556960079, 0.07000431392400197, 0.8830905001507042, 0.992281900997315, 0.06347837933351069, 0.12695675866702139, 0.06347837933351069, 0.6982621726686176, 0.042318919555673795, 0.043905428964667294, 0.043905428964667294, 0.9000612937756796, 0.07986633278067154, 0.7187969950260439, 0.15973266556134308, 0.07986633278067154, 0.8837532232594142, 0.7432783288349211, 0.2617073148641916, 0.5234146297283832, 0.09076951197344597, 0.04538475598672299, 0.24961615792697642, 0.06807713398008448, 0.06807713398008448, 0.022692377993361493, 0.3857704258871454, 0.06807713398008448, 0.747448523244242, 0.03405283066709872, 0.03405283066709872, 0.08513207666774682, 0.05107924600064809, 0.03405283066709872, 0.01702641533354936, 0.7321358593426226, 0.03405283066709872, 0.13136754483052146, 0.3284188620763036, 0.06568377241526073, 0.13136754483052146, 0.19705131724578218, 0.19705131724578218, 0.48776293690132705, 0.38777264305559095, 0.0775545286111182, 0.23266358583335459, 0.3102181144444728, 0.1532983743315467, 0.1532983743315467, 0.6898426844919602, 0.07664918716577335, 0.7520958695893519, 0.18802396739733798, 0.6590686970834609, 0.751549449161507, 0.887139067249913, 0.4877624238057779, 0.8290298998481838, 0.031617296760929975, 0.9485189028278993, 0.8337626107813654, 0.48776262090551403, 0.11878574729129347, 0.023757149458258693, 0.19005719566606954, 0.6652001848312434, 0.9735588412129259, 0.8830908195541273, 0.569382845909855, 0.9824483644501592, 0.9845198937359301, 0.5693841329598528, 0.9857321800980209, 0.5352638910068599, 0.13381597275171497, 0.2007239591275725, 0.2007239591275725, 0.4877657459988326, 0.6590701134068885, 0.7078399529958672, 0.30335997985537166, 0.44392901872968854, 0.44392901872968854, 0.9468893903204624, 0.10548585287531186, 0.2109717057506237, 0.05274292643765593, 0.47468633793890336, 0.10548585287531186, 0.33951325331907, 0.09259452363247364, 0.4012429357407191, 0.0617296824216491, 0.0617296824216491, 0.882674105036206, 0.0874755880101566, 0.9097461153056288, 0.07640712267037353, 0.038203561335186764, 0.649460542698175, 0.22922136801112059, 0.15052181285664432, 0.175608781666085, 0.025086968809440717, 0.2508696880944072, 0.025086968809440717, 0.30104362571328863, 0.025086968809440717, 0.07526090642832216, 0.9815515614326469, 0.030925117332798707, 0.010308372444266236, 0.030925117332798707, 0.9277535199839612, 0.6610983017425353, 0.01142492525738581, 0.1256741778312439, 0.28562313143464524, 0.27419820617725943, 0.02284985051477162, 0.02284985051477162, 0.2513483556624878, 0.031468568446548266, 0.07867142111637067, 0.12587427378619306, 0.3304199686887568, 0.4248256740284016, 0.04396086858915122, 0.13188260576745367, 0.17584347435660488, 0.26376521153490734, 0.08792173717830244, 0.30772608012405855, 0.7474421317120591, 0.2889283792354114, 0.018058023702213214, 0.07223209480885286, 0.07223209480885286, 0.5417407110663964, 0.018058023702213214, 0.6610979832632814, 0.9267276360891187, 0.8800725439964228, 0.8290298126913324, 0.7222981830146725, 0.07222981830146726, 0.21668945490440175, 0.946901622796497, 0.41524905719369326, 0.16609962287747732, 0.24914943431621597, 0.16609962287747732, 0.9622220321785397, 0.984521315451498, 0.9845239402852274, 0.9845210431171625, 0.8800829154511275, 0.6277371571577296, 0.04614756008522195, 0.023073780042610976, 0.11536890021305488, 0.48454938089483046, 0.023073780042610976, 0.2768853605113317, 0.023073780042610976, 0.023073780042610976, 0.040522596452930215, 0.9455272505683717, 0.013507532150976739, 0.48776388938147314, 0.9476623379251718, 0.08957348146091668, 0.8957348146091668, 0.07060733288628104, 0.2118219986588431, 0.5648586630902483, 0.1412146657725621, 0.2201919511177637, 0.6605758533532912, 0.31756081841034983, 0.6351216368206997, 0.09204099364770002, 0.061360662431800016, 0.09204099364770002, 0.6136066243180002, 0.15340165607950004, 0.569384599068509, 0.6590702051244748, 0.24932622547130012, 0.08310874182376671, 0.33243496729506683, 0.12466311273565006, 0.041554370911883354, 0.20777185455941677, 0.9005237568873316, 0.9821667643654616, 0.46371289442273855, 0.23185644721136928, 0.05796411180284232, 0.23185644721136928, 0.02987226309023915, 0.019914842060159435, 0.09957421030079718, 0.8463807875567759, 0.7289714978823529, 0.2908963602739086, 0.5817927205478172, 0.22033582170542854, 0.6610074651162856, 0.18896714834898765, 0.7558685933959506, 0.16296642125983998, 0.16296642125983998, 0.08148321062991999, 0.08148321062991999, 0.16296642125983998, 0.08148321062991999, 0.08148321062991999, 0.32593284251967997, 0.8901581497961424, 0.12215243506626826, 0.04071747835542275, 0.20358739177711377, 0.12215243506626826, 0.20358739177711377, 0.04071747835542275, 0.20358739177711377, 0.5978188169235118, 0.0543471651748647, 0.0543471651748647, 0.32608299104918825, 0.2166732887885027, 0.07222442959616757, 0.03611221479808378, 0.6861320811635919, 0.9358329120058352, 0.0492543637897808, 0.009467738187201683, 0.04733869093600841, 0.35030631292646225, 0.17041928736963027, 0.13254833462082355, 0.009467738187201683, 0.2650966692416471, 0.018935476374403366, 0.8837499428380038, 0.7915928698571169, 0.8826749239687802, 0.9154001433460539, 0.12529911040851605, 0.041766370136172015, 0.20883185068086008, 0.3341309610893761, 0.12529911040851605, 0.16706548054468806, 0.13067439033381542, 0.7840463420028925, 0.7941884098741636, 0.26171240218140734, 0.5234248043628147, 0.6765229969510222, 0.13530459939020445, 0.13530459939020445, 0.74744206878181, 0.8837504629546473, 0.041233151670150806, 0.32986521336120644, 0.20616575835075404, 0.08246630334030161, 0.32986521336120644, 0.21068723386056673, 0.4916035456746557, 0.21068723386056673, 0.07022907795352225, 0.6590673270173144, 0.8847240232428073, 0.04907844724704347, 0.12269611811760868, 0.3926275779763478, 0.024539223623521737, 0.3435491307293043, 0.07361767087056521, 0.024539223623521737, 0.31756073521039824, 0.6351214704207965, 0.1082034880916092, 0.3091528231188834, 0.18549169387133008, 0.07728820577972086, 0.3091528231188834, 0.015457641155944172, 0.046687972459925335, 0.9337594491985067, 0.9605693635375676, 0.02134598585639039, 0.15190232978553023, 0.03797558244638256, 0.13291453856233895, 0.20886570345510405, 0.01898779122319128, 0.4177314069102081, 0.03797558244638256, 0.27724423233325185, 0.5544884646665037, 0.5693848477032561, 0.9336561497107335, 0.6590684372931008, 0.9005018888563723, 0.6479327000475477, 0.2159775666825159, 0.5973211687746204, 0.0663690187527356, 0.1991070562582068, 0.0663690187527356, 0.0663690187527356, 0.040800368071113195, 0.08160073614222639, 0.061200552106669796, 0.28560257649779236, 0.15300138026667448, 0.061200552106669796, 0.020400184035556598, 0.24480220842667919, 0.051000460088891496, 0.07214607133347356, 0.07214607133347356, 0.649314642001262, 0.03607303566673678, 0.03607303566673678, 0.03607303566673678, 0.10821910700021034, 0.9113950953129468, 0.8923260080158342, 0.7474475167411796, 0.8290299259333153, 0.24660537616484338, 0.12330268808242169, 0.49321075232968675, 0.12330268808242169, 0.061651344041210844, 0.0897795724821925, 0.8080161523397325, 0.01855655378957346, 0.01855655378957346, 0.14845243031658767, 0.8164883667412322, 0.17590458125040992, 0.1539165085941087, 0.04397614531260248, 0.08795229062520496, 0.04397614531260248, 0.2198807265630124, 0.1099403632815062, 0.04397614531260248, 0.1099403632815062, 0.8461650257164396, 0.06508961736280304, 0.06508961736280304, 0.5693825645376537, 0.9782674882896915, 0.8337555846043065, 0.48776578403765464, 0.09344864797734068, 0.28034594393202206, 0.5606918878640441, 0.0222448050125344, 0.0222448050125344, 0.9565266155389792, 0.646259423496403, 0.21541980783213432, 0.10561012542123513, 0.5280506271061757, 0.21122025084247026, 0.052805062710617565, 0.10561012542123513, 0.014904958365954644, 0.014904958365954644, 0.09688222937870518, 0.007452479182977322, 0.17885950039145573, 0.6930805640168909, 0.12261880267968252, 0.009942065082136419, 0.06959445557495494, 0.1988413016427284, 0.5965239049281852, 0.05088756663991311, 0.15266269991973935, 0.15266269991973935, 0.05088756663991311, 0.05088756663991311, 0.20355026655965244, 0.35621296647939177, 0.7101136052526615, 0.10144480075038022, 0.10144480075038022, 0.7432783183819881, 0.2437819283317193, 0.12189096416585965, 0.12189096416585965, 0.36567289249757895, 0.2437819283317193, 0.7009878494042027, 0.11683130823403377, 0.11683130823403377, 0.11683130823403377, 0.48776334473825944, 0.9782680063036957, 0.06521359062369217, 0.13042718124738434, 0.782563087484306, 0.1087232613647736, 0.1630848920471604, 0.5979779375062548, 0.1087232613647736, 0.9005066546433791, 0.6277426168848226, 0.04959217989160133, 0.074388269837402, 0.09918435978320266, 0.17357262962060466, 0.37194134918701, 0.1983687195664053, 0.024796089945800664, 0.8837504534506818, 0.8800737281149464, 0.09826928225041359, 0.7861542580033087, 0.09826928225041359, 0.7474480645310599, 0.1446225526061309, 0.024103758767688485, 0.04820751753537697, 0.10846691445459818, 0.06025939691922121, 0.6025939691922121, 0.012051879383844243, 0.07015019227802531, 0.14030038455605062, 0.7015019227802531, 0.6610943025437109, 0.16795102133316195, 0.08397551066658097, 0.16795102133316195, 0.2519265319997429, 0.41987755333290483, 0.28136281173319716, 0.0511568748605813, 0.6394609357572663, 0.745885649811581, 0.16575236662479578, 0.08287618331239789, 0.9845236592320168, 0.026691513520581744, 0.9608944867409428, 0.7943121704188301, 0.9782702659080034, 0.7763584125842963, 0.6277371971916009, 0.09735708881713878, 0.03245236293904626, 0.03245236293904626, 0.8437614364152028, 0.8337654378508553, 0.733004765943609, 0.09162559574295112, 0.09162559574295112, 0.9468846615669225, 0.7763566986032208, 0.8837503888018663, 0.17665102414138453, 0.7066040965655381, 0.794194229805486, 0.9004985905630755, 0.9311392022735753, 0.04659435861908068, 0.7921040965243715, 0.09318871723816136, 0.04659435861908068, 0.7723345247621883, 0.11033350353745548, 0.8830887083218854, 0.049642172043428454, 0.06205271505428557, 0.012410543010857113, 0.8811485537708551, 0.7289750441930172, 0.7870580411807644, 0.9570537159484878, 0.5693818667350442, 0.9845229056247409, 0.7915927876208785, 0.21739509623128017, 0.6521852886938405, 0.5793616536342922, 0.14484041340857304, 0.2896808268171461, 0.013400575886870837, 0.026801151773741674, 0.040201727660612516, 0.9246397361940878, 0.8727638244183119, 0.906387990927911, 0.17456817380310885, 0.6982726952124354, 0.08728408690155443, 0.16749624126908982, 0.027916040211514972, 0.07444277389737325, 0.08374812063454491, 0.009305346737171656, 0.1488855477947465, 0.027916040211514972, 0.027916040211514972, 0.3908245629612096, 0.055832080423029944, 0.6644008670042292, 0.0093118479601803, 0.18623695920360597, 0.1489895673628848, 0.0093118479601803, 0.5680227255709982, 0.0186236959203606, 0.0372473918407212, 0.027935543880540897, 0.9922664991010147, 0.654642052351562, 0.327321026175781, 0.5693836702405795, 0.6590697386780768, 0.7832999251283922, 0.15665998502567843, 0.9872958514857622, 0.9343862950016033, 0.9355563746804091, 0.12896061457398889, 0.04298687152466296, 0.08597374304932592, 0.08597374304932592, 0.17194748609865185, 0.30090810067264073, 0.04298687152466296, 0.08597374304932592, 0.7159690325321144, 0.26848838719954293, 0.7915972047410548, 0.9681209137624586, 0.9845236818419447, 0.9643852081043768, 0.01569121869622158, 0.00784560934811079, 0.12552974956977264, 0.00784560934811079, 0.03138243739244316, 0.039228046740553954, 0.7531784974186359, 0.01569121869622158, 0.1562477952711053, 0.23437169290665794, 0.5468672834488685, 0.07812389763555265, 0.6277431285920649, 0.05689003748480153, 0.03792669165653435, 0.018963345828267177, 0.018963345828267177, 0.03792669165653435, 0.8343872164437558, 0.018963345828267177, 0.2293837152840048, 0.2293837152840048, 0.4587674305680096, 0.9355774965919434, 0.8880111769558686, 0.6610942563070038, 0.9520973815398076, 0.6464446214034913, 0.21548154046783044, 0.0770574280379006, 0.23117228411370178, 0.1541148560758012, 0.1541148560758012, 0.385287140189503, 0.1739438723159792, 0.0869719361579896, 0.0869719361579896, 0.6088035531059272, 0.9188746997436757, 0.7515474918567425, 0.6590690658119992, 0.10501357121357616, 0.8401085697086093, 0.791593182367202, 0.6590696762302795, 0.8211762007788724, 0.10264702509735905, 0.6965931160359559, 0.04097606564917387, 0.1639042625966955, 0.08195213129834775, 0.04097606564917387, 0.8136622915928673, 0.16273245831857347, 0.7234776791164714, 0.20670790831899183, 0.8802658698157503, 0.9845236032176599, 0.8923244533940554, 0.48776591043454254, 0.664404824769634, 0.8826685191101531, 0.9355575081693746, 0.7132858474867163, 0.23776194916223878, 0.6498384313901631, 0.21661281046338768, 0.7549244472391105, 0.1509848894478221, 0.8763575737850273, 0.1712283826307099, 0.6849135305228397, 0.05003029327945244, 0.05003029327945244, 0.4252574928753457, 0.4502726395150719, 0.02501514663972622, 0.13624775833870786, 0.6812387916935393, 0.13624775833870786, 0.4877658302587628, 0.9845255527505504, 0.154337469924684, 0.7716873496234201, 0.725386689475932, 0.2901546757903728, 0.04554429433619812, 0.09108858867239623, 0.22772147168099058, 0.13663288300859433, 0.04554429433619812, 0.04554429433619812, 0.13663288300859433, 0.27326576601718866, 0.17754590497588557, 0.35509180995177114, 0.35509180995177114, 0.08877295248794279, 0.8927426437989621, 0.747461737331941, 0.5693843927092158, 0.08461839471714348, 0.08461839471714348, 0.08461839471714348, 0.6769471577371479, 0.08461839471714348, 0.490611293084902, 0.06132641163561275, 0.1226528232712255, 0.1226528232712255, 0.18397923490683823, 0.4877631273562196, 0.01844189539195145, 0.20286084931146595, 0.7561177110700095, 0.0368837907839029, 0.13476740146546332, 0.03369185036636583, 0.15161332664864624, 0.016845925183182914, 0.2358429525645608, 0.08422962591591457, 0.016845925183182914, 0.3200725784804754, 0.016845925183182914, 0.13011348627577674, 0.6505674313788837, 0.13011348627577674, 0.6610987898820033, 0.8041075547791567, 0.10790873045154052, 0.10790873045154052, 0.4316349218061621, 0.10790873045154052, 0.2697718261288513, 0.05395436522577026, 0.7861252465053136, 0.9154009380265716, 0.6590687863289058, 0.7915908160428574, 0.013548235297267437, 0.1309662745402519, 0.08128941178360463, 0.11290196081056197, 0.04967686275664727, 0.3387058824316859, 0.06322509805391471, 0.06322509805391471, 0.09935372551329454, 0.04967686275664727, 0.7432783639730367, 0.8923275205334615, 0.0963826802649375, 0.886720658437425, 0.9286029855340123, 0.6610973613260851, 0.9922831157102312, 0.10886847706616143, 0.03628949235538714, 0.07257898471077429, 0.39918441590925857, 0.14515796942154857, 0.18144746177693571, 0.03628949235538714, 0.8041006819202362, 0.7984348219776529, 0.9468889756117416, 0.00840011710048258, 0.00420005855024129, 0.00840011710048258, 0.012600175650723869, 0.00420005855024129, 0.037800526952171606, 0.025200351301447738, 0.9030125883018773, 0.016164285565794374, 0.03232857113158875, 0.7597214215923356, 0.016164285565794374, 0.04849285669738312, 0.129314284526355, 0.4877641540967312, 0.4877638562342821, 0.018603636656476102, 0.08371636495414246, 0.17673454823652296, 0.19533818489299906, 0.07441454662590441, 0.38137455145776006, 0.018603636656476102, 0.037207273312952205, 0.8889134485347394, 0.6611065602307006, 0.6590684596006037, 0.15243873743957212, 0.5335355810385024, 0.30487747487914424, 0.21766406573889774, 0.7618242300861421, 0.569381751647683, 0.14916153592291842, 0.745807679614592, 0.9468842576591687, 0.9259158864070367, 0.9433403435297582, 0.9355568482325144, 0.01814632634867328, 0.05443897904601983, 0.9254626437823371, 0.9801219198358443, 0.08489370398792785, 0.8489370398792785, 0.08489370398792785, 0.5693848802525101, 0.20097640849107312, 0.06699213616369104, 0.13398427232738208, 0.06699213616369104, 0.06699213616369104, 0.3349606808184552, 0.13398427232738208, 0.954849361754119, 0.057790956248638545, 0.04334321718647891, 0.014447739062159636, 0.08668643437295782, 0.057790956248638545, 0.635700518735024, 0.07223869531079818, 0.48776255244885747, 0.9708082145264482, 0.8671866457656606, 0.8837489791888288, 0.07708716016157084, 0.02569572005385695, 0.12847860026928473, 0.23126148048471254, 0.008565240017952317, 0.23126148048471254, 0.02569572005385695, 0.008565240017952317, 0.23126148048471254, 0.02569572005385695, 0.935578235182955, 0.14395099335304132, 0.8431415324963848, 0.023818291281113537, 0.976549942525655], \"Term\": [\"01\", \"01\", \"01\", \"03\", \"1\", \"1\", \"1\", \"1\", \"1\", \"1\", \"1\", \"1\", \"1000\", \"1000\", \"1025\", \"10year\", \"113\", \"140\", \"15\", \"15\", \"15\", \"15\", \"15\", \"152\", \"158\", \"1654\", \"2\", \"2\", \"2\", \"2\", \"2\", \"2\", \"2\", \"2\", \"2000\", \"2013\", \"2013\", \"2015\", \"2015\", \"2015\", \"2015\", \"2016\", \"2016\", \"2016\", \"2016\", \"2017\", \"2017\", \"2017\", \"2017\", \"2017\", \"2017\", \"2017\", \"2017\", \"2017\", \"2018\", \"2018\", \"2018\", \"2018\", \"2018\", \"2018\", \"2018\", \"2018\", \"2018\", \"2018\", \"2019\", \"2019\", \"2019\", \"2020\", \"2020\", \"2030\", \"2050\", \"2315786\", \"2490\", \"283\", \"2wd\", \"30second\", \"32825\", \"4\", \"4\", \"4\", \"4\", \"4\", \"4\", \"4\", \"4\", \"4year\", \"52\", \"570\", \"6\", \"6\", \"6\", \"64\", \"645000\", \"647\", \"7\", \"7\", \"7\", \"780\", \"7aiy437\", \"7eleven\", \"90\", \"99\", \"achieving\", \"ad\", \"ad\", \"address\", \"advancing\", \"advancing\", \"aichi\", \"aichi\", \"aidt\", \"alabama\", \"alliance\", \"almost\", \"almost\", \"almost\", \"almost\", \"alonso\", \"also\", \"also\", \"also\", \"also\", \"also\", \"also\", \"also\", \"also\", \"also\", \"also\", \"aluminum\", \"amendment\", \"america\", \"america\", \"america\", \"ana\", \"announced\", \"announced\", \"announced\", \"announced\", \"announced\", \"apex\", \"argue\", \"armed\", \"artist\", \"ashmore\", \"asian\", \"assault\", \"australia\", \"australia\", \"australia\", \"autoblog\", \"automatic\", \"automatic\", \"automatic\", \"automatic\", \"automobile\", \"automobile\", \"automobile\", \"automotive\", \"automotive\", \"automotive\", \"automotive\", \"automotive\", \"automotive\", \"avalanche\", \"avoid\", \"avoid\", \"avoid\", \"ball\", \"barrel\", \"barrel\", \"behind\", \"behind\", \"behind\", \"behind\", \"behind\", \"benchmark\", \"benchmark\", \"benchmark\", \"benchmark\", \"benefit\", \"billion\", \"billion\", \"billion\", \"birmingham\", \"body\", \"body\", \"body\", \"bond\", \"bond\", \"book\", \"bowl\", \"boyd\", \"brand\", \"brand\", \"brand\", \"brand\", \"brand\", \"brand\", \"brings\", \"build\", \"build\", \"build\", \"built\", \"built\", \"built\", \"built\", \"built\", \"bus\", \"business\", \"business\", \"business\", \"business\", \"bykeki\", \"cab\", \"cadillac\", \"camry\", \"camry\", \"camry\", \"canada\", \"canadian\", \"capacity\", \"car\", \"car\", \"car\", \"car\", \"car\", \"car\", \"car\", \"cc\", \"cell\", \"cell\", \"cent\", \"cent\", \"cent\", \"cent\", \"century\", \"challenge\", \"challenge\", \"challenge\", \"challenge\", \"chevrolet\", \"chevrolet\", \"chevrolet\", \"chevy\", \"chevy\", \"chief\", \"chief\", \"chief\", \"chief\", \"chief\", \"choice\", \"chromey\", \"class\", \"closed\", \"co\", \"co\", \"co\", \"commercial\", \"commercial\", \"commercial\", \"commercial\", \"commodity\", \"company\", \"company\", \"company\", \"company\", \"company\", \"company\", \"company\", \"company\", \"compared\", \"compared\", \"compared\", \"compared\", \"composite\", \"concept\", \"concept\", \"concept\", \"concept\", \"concerned\", \"concerned\", \"count\", \"country\", \"country\", \"country\", \"country\", \"country\", \"county\", \"county\", \"coupon\", \"cowboy\", \"crawford\", \"crime\", \"crossback\", \"crown\", \"crude\", \"crude\", \"cruiser\", \"cruiser\", \"culture\", \"customer\", \"customer\", \"customer\", \"customer\", \"customer\", \"cx3\", \"cx3\", \"cx3\", \"d\", \"dallas\", \"damn\", \"dangerous\", \"date\", \"date\", \"david\", \"deadly\", \"december\", \"december\", \"december\", \"declining\", \"declining\", \"delivery\", \"dependability\", \"detective\", \"development\", \"development\", \"development\", \"digesting\", \"dipped\", \"division\", \"doe\", \"doll\", \"drive\", \"drive\", \"drive\", \"drive\", \"drive\", \"drive\", \"driveaway\", \"driven\", \"dvd\", \"earnings\", \"earnings\", \"earnings\", \"economy\", \"economy\", \"economy\", \"economy\", \"economy\", \"ecu\", \"el\", \"electrical\", \"electrified\", \"electrified\", \"electrified\", \"emerging\", \"emerging\", \"employer\", \"employer\", \"employer\", \"energy\", \"energy\", \"entry\", \"environmental\", \"environmental\", \"esso\", \"estate\", \"euro\", \"even\", \"even\", \"even\", \"even\", \"even\", \"even\", \"example\", \"example\", \"existed\", \"exists\", \"expected\", \"expected\", \"export\", \"export\", \"exposure\", \"f1\", \"f150\", \"facility\", \"factory\", \"factory\", \"fame\", \"fee\", \"fell\", \"fell\", \"fell\", \"fell\", \"fell\", \"fernando\", \"festival\", \"figure\", \"figure\", \"figure\", \"figure\", \"filling\", \"fire\", \"first\", \"first\", \"first\", \"first\", \"first\", \"first\", \"first\", \"first\", \"fitness\", \"followed\", \"followed\", \"followed\", \"food\", \"foot\", \"ford\", \"ford\", \"ford\", \"ford\", \"ford\", \"founding\", \"friday\", \"friday\", \"friday\", \"friday\", \"friday\", \"fuel\", \"fuel\", \"fuel\", \"fuelcell\", \"fueled\", \"future\", \"future\", \"future\", \"future\", \"future\", \"gain\", \"gain\", \"gain\", \"game\", \"game\", \"game\", \"game\", \"gasket\", \"geller\", \"genesis\", \"genesis\", \"get\", \"get\", \"get\", \"get\", \"get\", \"get\", \"get\", \"get\", \"given\", \"global\", \"global\", \"global\", \"global\", \"global\", \"global\", \"global\", \"global\", \"good\", \"good\", \"good\", \"good\", \"good\", \"good\", \"goodwill\", \"government\", \"government\", \"government\", \"government\", \"great\", \"great\", \"great\", \"great\", \"grove\", \"grove\", \"guest\", \"guy\", \"hackett\", \"hadnt\", \"hall\", \"hang\", \"hang\", \"hemisphere\", \"heritage\", \"higher\", \"higher\", \"higher\", \"higher\", \"hma\", \"hmca\", \"homicide\", \"hong\", \"hovered\", \"hutchinson\", \"hydrogen\", \"hyundai\", \"hyundai\", \"hyundai\", \"hyundai\", \"i81\", \"importantly\", \"improvement\", \"improvement\", \"inc\", \"inc\", \"includes\", \"including\", \"including\", \"including\", \"including\", \"including\", \"increase\", \"increase\", \"increase\", \"increase\", \"increase\", \"increasing\", \"index\", \"index\", \"industrial\", \"industrial\", \"industrial\", \"industrial\", \"industry\", \"industry\", \"industry\", \"industry\", \"industry\", \"industry\", \"industry\", \"industry\", \"inflation\", \"investor\", \"investor\", \"investor\", \"investor\", \"ix35\", \"january\", \"january\", \"january\", \"january\", \"january\", \"january\", \"january\", \"japan\", \"japan\", \"japan\", \"japan\", \"japan\", \"japanese\", \"japanese\", \"japanese\", \"japanese\", \"japanese\", \"japanese\", \"jerry\", \"job\", \"job\", \"job\", \"job\", \"job\", \"job\", \"johnson\", \"jose\", \"karakuri\", \"kdc\", \"key\", \"key\", \"key\", \"keyless\", \"kia\", \"kia\", \"kia\", \"kia\", \"kong\", \"kongs\", \"korea\", \"kospi\", \"kostrna\", \"kyocera\", \"last\", \"last\", \"last\", \"last\", \"last\", \"last\", \"last\", \"last\", \"latest\", \"latest\", \"latest\", \"lavish\", \"law\", \"le\", \"le\", \"leader\", \"leader\", \"leader\", \"leader\", \"leading\", \"leading\", \"learn\", \"learn\", \"lexus\", \"lexus\", \"lexus\", \"lexus\", \"lexus\", \"license\", \"life\", \"like\", \"like\", \"like\", \"like\", \"like\", \"like\", \"livestock\", \"losing\", \"low\", \"low\", \"low\", \"low\", \"lower\", \"lower\", \"lower\", \"lower\", \"luis\", \"lx\", \"lx\", \"machine\", \"machine\", \"machinery\", \"machinery\", \"made\", \"made\", \"made\", \"made\", \"made\", \"made\", \"made\", \"made\", \"magazine\", \"make\", \"make\", \"make\", \"make\", \"make\", \"make\", \"make\", \"man\", \"man\", \"man\", \"man\", \"manufacturing\", \"manufacturing\", \"manufacturing\", \"manufacturing\", \"margin\", \"margin\", \"market\", \"market\", \"market\", \"market\", \"market\", \"market\", \"market\", \"market\", \"mass\", \"master\", \"mat\", \"matcha\", \"may\", \"may\", \"may\", \"may\", \"may\", \"may\", \"mclaren\", \"mclaren\", \"mediacamera\", \"meeting\", \"meeting\", \"member\", \"member\", \"member\", \"mickey\", \"milestone\", \"million\", \"million\", \"million\", \"million\", \"million\", \"mixed\", \"mixed\", \"mixed\", \"mixed\", \"mizkan\", \"mobility\", \"model\", \"model\", \"model\", \"model\", \"model\", \"model\", \"model\", \"modern\", \"modern\", \"month\", \"month\", \"month\", \"month\", \"month\", \"month\", \"monthly\", \"monthly\", \"mostly\", \"mostly\", \"motor\", \"motor\", \"motor\", \"motor\", \"motor\", \"motor\", \"motor\", \"multiple\", \"multiple\", \"murder\", \"museum\", \"nagoya\", \"navigation\", \"near\", \"near\", \"need\", \"need\", \"need\", \"need\", \"need\", \"new\", \"new\", \"new\", \"new\", \"new\", \"new\", \"new\", \"new\", \"new\", \"news\", \"news\", \"news\", \"news\", \"news\", \"news\", \"news\", \"nice\", \"ninemonth\", \"normal\", \"ntcar\", \"number\", \"number\", \"number\", \"number\", \"number\", \"nx\", \"nx\", \"oil\", \"oil\", \"oil\", \"oil\", \"one\", \"one\", \"one\", \"one\", \"one\", \"one\", \"one\", \"one\", \"one\", \"operating\", \"operating\", \"operating\", \"orange\", \"overhaul\", \"overnight\", \"overturned\", \"owner\", \"owner\", \"owner\", \"pace\", \"pace\", \"pace\", \"park\", \"park\", \"passenger\", \"passenger\", \"passenger\", \"passenger\", \"passenger\", \"per\", \"per\", \"per\", \"per\", \"per\", \"per\", \"percent\", \"percent\", \"percent\", \"percent\", \"percent\", \"photo\", \"photo\", \"photo\", \"photo\", \"photo\", \"photo\", \"photo\", \"picture\", \"picture\", \"picture\", \"pig\", \"place\", \"place\", \"place\", \"place\", \"place\", \"plant\", \"plant\", \"plant\", \"plant\", \"plaster\", \"plate\", \"player\", \"player\", \"player\", \"point\", \"point\", \"point\", \"point\", \"polo\", \"possession\", \"post\", \"post\", \"post\", \"post\", \"post\", \"post\", \"post\", \"powertrains\", \"prefecture\", \"premium\", \"premium\", \"premium\", \"presentation\", \"price\", \"price\", \"price\", \"price\", \"price\", \"price\", \"price\", \"prius\", \"prius\", \"prius\", \"prize\", \"production\", \"production\", \"production\", \"production\", \"production\", \"profit\", \"profit\", \"profit\", \"program\", \"program\", \"program\", \"prospect\", \"providing\", \"providing\", \"public\", \"quarterly\", \"race\", \"raising\", \"rate\", \"rate\", \"rate\", \"rate\", \"rationale\", \"real\", \"real\", \"real\", \"realize\", \"redesign\", \"reducing\", \"referee\", \"referee\", \"refuelling\", \"refurbished\", \"registration\", \"release\", \"release\", \"release\", \"release\", \"renault\", \"renault\", \"renewable\", \"report\", \"report\", \"report\", \"report\", \"residence\", \"resident\", \"review\", \"rifle\", \"risen\", \"robot\", \"robotics\", \"robotics\", \"role\", \"role\", \"role\", \"rose\", \"rose\", \"rose\", \"rose\", \"ruck\", \"rugby\", \"rx\", \"rx\", \"rx\", \"said\", \"said\", \"said\", \"said\", \"said\", \"said\", \"said\", \"said\", \"said\", \"said\", \"sakarya\", \"sale\", \"sale\", \"sale\", \"sale\", \"sale\", \"sale\", \"sale\", \"sale\", \"sank\", \"santa\", \"santa\", \"sapd\", \"sauce\", \"school\", \"school\", \"score\", \"scrum\", \"secret\", \"see\", \"see\", \"see\", \"see\", \"see\", \"see\", \"see\", \"see\", \"segment\", \"segment\", \"selden\", \"seng\", \"shanghai\", \"shank\", \"share\", \"share\", \"share\", \"share\", \"share\", \"share\", \"share\", \"share\", \"side\", \"side\", \"side\", \"side\", \"simpler\", \"since\", \"since\", \"since\", \"since\", \"since\", \"since\", \"since\", \"six\", \"six\", \"six\", \"skoda\", \"sled\", \"smile\", \"snowmobile\", \"society\", \"society\", \"sold\", \"sold\", \"sold\", \"sold\", \"sold\", \"solid\", \"solid\", \"solid\", \"solid\", \"soul\", \"southern\", \"soy\", \"spec\", \"spec\", \"spice\", \"spinning\", \"staff\", \"staff\", \"state\", \"state\", \"state\", \"state\", \"state\", \"station\", \"station\", \"steel\", \"steel\", \"steering\", \"stoking\", \"stop\", \"stopped\", \"stroke\", \"subcompact\", \"subscription\", \"success\", \"success\", \"super\", \"super\", \"supplier\", \"supplier\", \"suspect\", \"suspension\", \"suspension\", \"suv\", \"suv\", \"suv\", \"suv\", \"suv\", \"suzuki\", \"suzuki\", \"suzuki\", \"swerved\", \"swiftly\", \"tackle\", \"tackle\", \"tacoma\", \"tacoma\", \"take\", \"take\", \"take\", \"take\", \"take\", \"take\", \"take\", \"take\", \"target\", \"target\", \"target\", \"target\", \"taxi\", \"taylor\", \"tci\", \"team\", \"team\", \"team\", \"team\", \"team\", \"technology\", \"technology\", \"technology\", \"technology\", \"technology\", \"thered\", \"thursday\", \"thursday\", \"thursday\", \"thursday\", \"time\", \"time\", \"time\", \"time\", \"time\", \"time\", \"time\", \"time\", \"time\", \"tm\", \"tm\", \"tm\", \"tmca\", \"tmmc\", \"top\", \"top\", \"top\", \"top\", \"top\", \"top\", \"touchscreen\", \"tour\", \"tourist\", \"toyoda\", \"toyota\", \"toyota\", \"toyota\", \"toyota\", \"toyota\", \"toyota\", \"toyota\", \"toyota\", \"toyota\", \"toyota\", \"tractortrailer\", \"trader\", \"trading\", \"trading\", \"training\", \"transport\", \"treasury\", \"truck\", \"truck\", \"truck\", \"truck\", \"truck\", \"truck\", \"truck\", \"trujillo\", \"turkey\", \"tyler\", \"u\", \"u\", \"u\", \"u\", \"u\", \"u\", \"u\", \"u\", \"unit\", \"unit\", \"unit\", \"unit\", \"unit\", \"unit\", \"unpeacekeeping\", \"upsell\", \"vehicle\", \"vehicle\", \"vehicle\", \"vehicle\", \"vehicle\", \"vehicle\", \"vehicle\", \"vehicle\", \"victim\", \"victory\", \"vinegar\", \"volkswagen\", \"volkswagen\", \"volkswagen\", \"wage\", \"wage\", \"warrant\", \"warranty\", \"warranty\", \"waste\", \"weapon\", \"weaving\", \"wec\", \"week\", \"week\", \"week\", \"weigh\", \"wheel\", \"wheel\", \"wheel\", \"woodstock\", \"work\", \"work\", \"work\", \"work\", \"work\", \"work\", \"work\", \"workforce\", \"world\", \"world\", \"world\", \"world\", \"world\", \"world\", \"world\", \"worldpatrolling\", \"worry\", \"wythe\", \"yamaha\", \"year\", \"year\", \"year\", \"year\", \"year\", \"year\", \"year\", \"year\", \"year\", \"year\", \"yearoveryear\", \"yen\", \"yen\", \"yield\", \"yield\"]}, \"R\": 30, \"lambda.step\": 0.01, \"plot.opts\": {\"xlab\": \"PC1\", \"ylab\": \"PC2\"}, \"topic.order\": [1, 2, 3, 4, 5, 6, 7, 8, 9, 10]};\n",
       "\n",
       "function LDAvis_load_lib(url, callback){\n",
       "  var s = document.createElement('script');\n",
       "  s.src = url;\n",
       "  s.async = true;\n",
       "  s.onreadystatechange = s.onload = callback;\n",
       "  s.onerror = function(){console.warn(\"failed to load library \" + url);};\n",
       "  document.getElementsByTagName(\"head\")[0].appendChild(s);\n",
       "}\n",
       "\n",
       "if(typeof(LDAvis) !== \"undefined\"){\n",
       "   // already loaded: just create the visualization\n",
       "   !function(LDAvis){\n",
       "       new LDAvis(\"#\" + \"ldavis_el530139805489747152960402443\", ldavis_el530139805489747152960402443_data);\n",
       "   }(LDAvis);\n",
       "}else if(typeof define === \"function\" && define.amd){\n",
       "   // require.js is available: use it to load d3/LDAvis\n",
       "   require.config({paths: {d3: \"https://d3js.org/d3.v5\"}});\n",
       "   require([\"d3\"], function(d3){\n",
       "      window.d3 = d3;\n",
       "      LDAvis_load_lib(\"https://cdn.jsdelivr.net/gh/bmabey/pyLDAvis@3.3.1/pyLDAvis/js/ldavis.v3.0.0.js\", function(){\n",
       "        new LDAvis(\"#\" + \"ldavis_el530139805489747152960402443\", ldavis_el530139805489747152960402443_data);\n",
       "      });\n",
       "    });\n",
       "}else{\n",
       "    // require.js not available: dynamically load d3 & LDAvis\n",
       "    LDAvis_load_lib(\"https://d3js.org/d3.v5.js\", function(){\n",
       "         LDAvis_load_lib(\"https://cdn.jsdelivr.net/gh/bmabey/pyLDAvis@3.3.1/pyLDAvis/js/ldavis.v3.0.0.js\", function(){\n",
       "                 new LDAvis(\"#\" + \"ldavis_el530139805489747152960402443\", ldavis_el530139805489747152960402443_data);\n",
       "            })\n",
       "         });\n",
       "}\n",
       "</script>"
      ],
      "text/plain": [
       "<IPython.core.display.HTML object>"
      ]
     },
     "execution_count": 77,
     "metadata": {},
     "output_type": "execute_result"
    }
   ],
   "source": [
    "%%time\n",
    "\n",
    "lda_display = gensimvis.prepare(ldamodel, doc_term_matrix, dictionary, sort_topics=False, mds='mmds')\n",
    "pyLDAvis.display(lda_display)"
   ]
  },
  {
   "cell_type": "code",
   "execution_count": null,
   "metadata": {},
   "outputs": [],
   "source": []
  },
  {
   "cell_type": "code",
   "execution_count": null,
   "metadata": {},
   "outputs": [],
   "source": []
  },
  {
   "cell_type": "code",
   "execution_count": null,
   "metadata": {},
   "outputs": [],
   "source": []
  },
  {
   "cell_type": "code",
   "execution_count": 78,
   "metadata": {},
   "outputs": [
    {
     "data": {
      "text/plain": [
       "'Thu, 03 November 2022 12:49:57'"
      ]
     },
     "execution_count": 78,
     "metadata": {},
     "output_type": "execute_result"
    }
   ],
   "source": [
    "import datetime\n",
    "import pytz\n",
    "\n",
    "datetime.datetime.now(pytz.timezone('US/Central')).strftime(\"%a, %d %B %Y %H:%M:%S\")"
   ]
  }
 ],
 "metadata": {
  "anaconda-cloud": {},
  "kernelspec": {
   "display_name": "Python 3 (ipykernel)",
   "language": "python",
   "name": "python3"
  },
  "language_info": {
   "codemirror_mode": {
    "name": "ipython",
    "version": 3
   },
   "file_extension": ".py",
   "mimetype": "text/x-python",
   "name": "python",
   "nbconvert_exporter": "python",
   "pygments_lexer": "ipython3",
   "version": "3.7.12"
  }
 },
 "nbformat": 4,
 "nbformat_minor": 4
}
