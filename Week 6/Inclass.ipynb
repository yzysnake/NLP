{
 "cells": [
  {
   "cell_type": "code",
   "execution_count": 14,
   "outputs": [],
   "source": [
    "import pandas as pd\n",
    "import re\n",
    "\n",
    "import re\n",
    "import itertools\n",
    "from nltk import ngrams\n",
    "from nltk.metrics.distance import jaccard_distance\n",
    "from nltk.tokenize import TweetTokenizer, RegexpTokenizer\n",
    "import matplotlib.pyplot as plt\n",
    "from rake_nltk import Rake\n",
    "import nltk as nltk\n",
    "import nltk.corpus"
   ],
   "metadata": {
    "collapsed": false,
    "ExecuteTime": {
     "end_time": "2024-02-09T01:25:09.090159Z",
     "start_time": "2024-02-09T01:25:09.060323Z"
    }
   },
   "id": "d4be13afd346e42c"
  },
  {
   "cell_type": "code",
   "execution_count": 9,
   "outputs": [],
   "source": [
    "news_path = 'https://storage.googleapis.com/msca-bdp-data-open/news/news_some_company.json'\n",
    "df = pd.read_json(news_path, orient='records', lines=True)"
   ],
   "metadata": {
    "collapsed": false,
    "ExecuteTime": {
     "end_time": "2024-02-09T00:30:56.176602Z",
     "start_time": "2024-02-09T00:30:55.066572Z"
    }
   },
   "id": "initial_id"
  },
  {
   "cell_type": "code",
   "execution_count": 10,
   "outputs": [
    {
     "data": {
      "text/plain": "                         crawled language  \\\n0  2019-05-07T04:18:26.000+03:00  english   \n1  2019-05-07T04:19:12.028+03:00  english   \n2  2019-05-07T04:19:38.000+03:00  english   \n3  2019-05-07T04:27:37.005+03:00  english   \n4  2019-05-07T04:36:07.017+03:00  english   \n5  2019-05-07T04:38:02.018+03:00  english   \n6  2019-05-07T04:38:30.015+03:00  english   \n7  2019-05-07T04:40:54.003+03:00  english   \n8  2019-05-07T04:44:26.009+03:00  english   \n9  2019-05-07T04:44:29.014+03:00  english   \n\n                                                text  \\\n0  No comments\\nPacking can be stressful for anyo...   \n1  I couldn't find another thread for this, so I ...   \n2  05-06-2019, 01:01 PM Here we go again with ano...   \n3  Wednesday, July 11, 2018 McDonald's Disney Wor...   \n4  As Disney’s Hollywood Studios celebrated its 3...   \n5  Hercules and Hades Jack Skellington and Sally\\...   \n6  Jason @disneygeek.com 0 Comments Walt Disney W...   \n7                                                      \n8  Enter for your chance to win a trip for four t...   \n9  Ratman Raving Rabbids TV Party $15\\nDisney Inf...   \n\n                                               title  \n0           The Most Useful Things I Bring to Disney  \n1               Walt Disney World 50th Rumored Plans  \n2               XFL Strikes Deal with Fox and Disney  \n3            McDonald's Disney World Millennium Cups  \n4  Disney World Star Wars: Galaxy's Edge: Hollywo...  \n5  Lego Collectibles – Disney Series 2 – Jack and...  \n6  Walt Disney World Resort announces $1.5 millio...  \n7                                 Disney needs balls  \n8     GMA’s Strahan and Sara Disney Trip Sweepstakes  \n9  Nintendo Wii games. Mario, Harry, Disney Infin...  ",
      "text/html": "<div>\n<style scoped>\n    .dataframe tbody tr th:only-of-type {\n        vertical-align: middle;\n    }\n\n    .dataframe tbody tr th {\n        vertical-align: top;\n    }\n\n    .dataframe thead th {\n        text-align: right;\n    }\n</style>\n<table border=\"1\" class=\"dataframe\">\n  <thead>\n    <tr style=\"text-align: right;\">\n      <th></th>\n      <th>crawled</th>\n      <th>language</th>\n      <th>text</th>\n      <th>title</th>\n    </tr>\n  </thead>\n  <tbody>\n    <tr>\n      <th>0</th>\n      <td>2019-05-07T04:18:26.000+03:00</td>\n      <td>english</td>\n      <td>No comments\\nPacking can be stressful for anyo...</td>\n      <td>The Most Useful Things I Bring to Disney</td>\n    </tr>\n    <tr>\n      <th>1</th>\n      <td>2019-05-07T04:19:12.028+03:00</td>\n      <td>english</td>\n      <td>I couldn't find another thread for this, so I ...</td>\n      <td>Walt Disney World 50th Rumored Plans</td>\n    </tr>\n    <tr>\n      <th>2</th>\n      <td>2019-05-07T04:19:38.000+03:00</td>\n      <td>english</td>\n      <td>05-06-2019, 01:01 PM Here we go again with ano...</td>\n      <td>XFL Strikes Deal with Fox and Disney</td>\n    </tr>\n    <tr>\n      <th>3</th>\n      <td>2019-05-07T04:27:37.005+03:00</td>\n      <td>english</td>\n      <td>Wednesday, July 11, 2018 McDonald's Disney Wor...</td>\n      <td>McDonald's Disney World Millennium Cups</td>\n    </tr>\n    <tr>\n      <th>4</th>\n      <td>2019-05-07T04:36:07.017+03:00</td>\n      <td>english</td>\n      <td>As Disney’s Hollywood Studios celebrated its 3...</td>\n      <td>Disney World Star Wars: Galaxy's Edge: Hollywo...</td>\n    </tr>\n    <tr>\n      <th>5</th>\n      <td>2019-05-07T04:38:02.018+03:00</td>\n      <td>english</td>\n      <td>Hercules and Hades Jack Skellington and Sally\\...</td>\n      <td>Lego Collectibles – Disney Series 2 – Jack and...</td>\n    </tr>\n    <tr>\n      <th>6</th>\n      <td>2019-05-07T04:38:30.015+03:00</td>\n      <td>english</td>\n      <td>Jason @disneygeek.com 0 Comments Walt Disney W...</td>\n      <td>Walt Disney World Resort announces $1.5 millio...</td>\n    </tr>\n    <tr>\n      <th>7</th>\n      <td>2019-05-07T04:40:54.003+03:00</td>\n      <td>english</td>\n      <td></td>\n      <td>Disney needs balls</td>\n    </tr>\n    <tr>\n      <th>8</th>\n      <td>2019-05-07T04:44:26.009+03:00</td>\n      <td>english</td>\n      <td>Enter for your chance to win a trip for four t...</td>\n      <td>GMA’s Strahan and Sara Disney Trip Sweepstakes</td>\n    </tr>\n    <tr>\n      <th>9</th>\n      <td>2019-05-07T04:44:29.014+03:00</td>\n      <td>english</td>\n      <td>Ratman Raving Rabbids TV Party $15\\nDisney Inf...</td>\n      <td>Nintendo Wii games. Mario, Harry, Disney Infin...</td>\n    </tr>\n  </tbody>\n</table>\n</div>"
     },
     "execution_count": 10,
     "metadata": {},
     "output_type": "execute_result"
    }
   ],
   "source": [
    "df.head(10)"
   ],
   "metadata": {
    "collapsed": false,
    "ExecuteTime": {
     "end_time": "2024-02-09T00:30:57.703244Z",
     "start_time": "2024-02-09T00:30:57.693065Z"
    }
   },
   "id": "a632e527cf5f61c5"
  },
  {
   "cell_type": "code",
   "execution_count": 11,
   "outputs": [],
   "source": [
    "## Remove NA rows\n",
    "df = df.dropna(subset=['text'])\n",
    "\n",
    "## Remove URLs and Mentions\n",
    "df[\"text_cleaned\"] = df['text'].apply(lambda  x: re.sub(r'(?:\\@|http?\\://|https?\\://|www)\\S+', '', str(x)))\n",
    "\n",
    "## Remove new lines\n",
    "df[\"text_cleaned\"] = df[\"text_cleaned\"].apply(lambda x: re.sub(r'(?:\\n)','|', str(x)))"
   ],
   "metadata": {
    "collapsed": false,
    "ExecuteTime": {
     "end_time": "2024-02-09T00:30:58.222260Z",
     "start_time": "2024-02-09T00:30:58.178360Z"
    }
   },
   "id": "6403be1da47de2d6"
  },
  {
   "cell_type": "code",
   "execution_count": 12,
   "outputs": [],
   "source": [
    "# Function to tokenize and clean a single tweet\n",
    "def tokenize_and_clean(news):\n",
    "    # Initialize TweetTokenizer\n",
    "    news_tokenizer = RegexpTokenizer(r'\\w+')\n",
    "    \n",
    "    # Tokenize the tweet\n",
    "    words = news_tokenizer.tokenize(news)\n",
    "\n",
    "    # Set of stopwords\n",
    "    stopwords = set(nltk.corpus.stopwords.words('english'))\n",
    "\n",
    "    # Cleaning steps\n",
    "    words = [word for word in words if len(word) > 1]  # Remove single-character tokens\n",
    "    words = [word for word in words if not word.isnumeric()]  # Remove numbers\n",
    "    words = [word.lower() for word in words]  # Lowercase\n",
    "    words = [word for word in words if not word.startswith('#')]  # Remove hashtags\n",
    "    words = [word for word in words if word not in stopwords]  # Remove stopwords\n",
    "\n",
    "    return words\n",
    "\n",
    "# Apply the function to each row in the DataFrame\n",
    "df['text_cleaned_tokens'] = df['text_cleaned'].apply(tokenize_and_clean)"
   ],
   "metadata": {
    "collapsed": false,
    "ExecuteTime": {
     "end_time": "2024-02-09T00:31:02.691951Z",
     "start_time": "2024-02-09T00:31:01.254172Z"
    }
   },
   "id": "dd658ba0e8e7e9da"
  },
  {
   "cell_type": "code",
   "execution_count": 13,
   "outputs": [
    {
     "data": {
      "text/plain": "                         crawled language  \\\n0  2019-05-07T04:18:26.000+03:00  english   \n1  2019-05-07T04:19:12.028+03:00  english   \n2  2019-05-07T04:19:38.000+03:00  english   \n3  2019-05-07T04:27:37.005+03:00  english   \n4  2019-05-07T04:36:07.017+03:00  english   \n5  2019-05-07T04:38:02.018+03:00  english   \n6  2019-05-07T04:38:30.015+03:00  english   \n7  2019-05-07T04:40:54.003+03:00  english   \n8  2019-05-07T04:44:26.009+03:00  english   \n9  2019-05-07T04:44:29.014+03:00  english   \n\n                                                text  \\\n0  No comments\\nPacking can be stressful for anyo...   \n1  I couldn't find another thread for this, so I ...   \n2  05-06-2019, 01:01 PM Here we go again with ano...   \n3  Wednesday, July 11, 2018 McDonald's Disney Wor...   \n4  As Disney’s Hollywood Studios celebrated its 3...   \n5  Hercules and Hades Jack Skellington and Sally\\...   \n6  Jason @disneygeek.com 0 Comments Walt Disney W...   \n7                                                      \n8  Enter for your chance to win a trip for four t...   \n9  Ratman Raving Rabbids TV Party $15\\nDisney Inf...   \n\n                                               title  \\\n0           The Most Useful Things I Bring to Disney   \n1               Walt Disney World 50th Rumored Plans   \n2               XFL Strikes Deal with Fox and Disney   \n3            McDonald's Disney World Millennium Cups   \n4  Disney World Star Wars: Galaxy's Edge: Hollywo...   \n5  Lego Collectibles – Disney Series 2 – Jack and...   \n6  Walt Disney World Resort announces $1.5 millio...   \n7                                 Disney needs balls   \n8     GMA’s Strahan and Sara Disney Trip Sweepstakes   \n9  Nintendo Wii games. Mario, Harry, Disney Infin...   \n\n                                        text_cleaned  \\\n0  No comments|Packing can be stressful for anyon...   \n1  I couldn't find another thread for this, so I ...   \n2  05-06-2019, 01:01 PM Here we go again with ano...   \n3  Wednesday, July 11, 2018 McDonald's Disney Wor...   \n4  As Disney’s Hollywood Studios celebrated its 3...   \n5  Hercules and Hades Jack Skellington and Sally|...   \n6  Jason  0 Comments Walt Disney World Resort ann...   \n7                                                      \n8  Enter for your chance to win a trip for four t...   \n9  Ratman Raving Rabbids TV Party $15|Disney Infi...   \n\n                                 text_cleaned_tokens  \n0  [comments, packing, stressful, anyone, right, ...  \n1  [find, another, thread, apologize, duplicated,...  \n2  [pm, go, another, professional, football, leag...  \n3  [wednesday, july, mcdonald, disney, world, mil...  \n4  [disney, hollywood, studios, celebrated, 30th,...  \n5  [hercules, hades, jack, skellington, sally, pr...  \n6  [jason, comments, walt, disney, world, resort,...  \n7                                                 []  \n8  [enter, chance, win, trip, four, aulani, disne...  \n9  [ratman, raving, rabbids, tv, party, disney, i...  ",
      "text/html": "<div>\n<style scoped>\n    .dataframe tbody tr th:only-of-type {\n        vertical-align: middle;\n    }\n\n    .dataframe tbody tr th {\n        vertical-align: top;\n    }\n\n    .dataframe thead th {\n        text-align: right;\n    }\n</style>\n<table border=\"1\" class=\"dataframe\">\n  <thead>\n    <tr style=\"text-align: right;\">\n      <th></th>\n      <th>crawled</th>\n      <th>language</th>\n      <th>text</th>\n      <th>title</th>\n      <th>text_cleaned</th>\n      <th>text_cleaned_tokens</th>\n    </tr>\n  </thead>\n  <tbody>\n    <tr>\n      <th>0</th>\n      <td>2019-05-07T04:18:26.000+03:00</td>\n      <td>english</td>\n      <td>No comments\\nPacking can be stressful for anyo...</td>\n      <td>The Most Useful Things I Bring to Disney</td>\n      <td>No comments|Packing can be stressful for anyon...</td>\n      <td>[comments, packing, stressful, anyone, right, ...</td>\n    </tr>\n    <tr>\n      <th>1</th>\n      <td>2019-05-07T04:19:12.028+03:00</td>\n      <td>english</td>\n      <td>I couldn't find another thread for this, so I ...</td>\n      <td>Walt Disney World 50th Rumored Plans</td>\n      <td>I couldn't find another thread for this, so I ...</td>\n      <td>[find, another, thread, apologize, duplicated,...</td>\n    </tr>\n    <tr>\n      <th>2</th>\n      <td>2019-05-07T04:19:38.000+03:00</td>\n      <td>english</td>\n      <td>05-06-2019, 01:01 PM Here we go again with ano...</td>\n      <td>XFL Strikes Deal with Fox and Disney</td>\n      <td>05-06-2019, 01:01 PM Here we go again with ano...</td>\n      <td>[pm, go, another, professional, football, leag...</td>\n    </tr>\n    <tr>\n      <th>3</th>\n      <td>2019-05-07T04:27:37.005+03:00</td>\n      <td>english</td>\n      <td>Wednesday, July 11, 2018 McDonald's Disney Wor...</td>\n      <td>McDonald's Disney World Millennium Cups</td>\n      <td>Wednesday, July 11, 2018 McDonald's Disney Wor...</td>\n      <td>[wednesday, july, mcdonald, disney, world, mil...</td>\n    </tr>\n    <tr>\n      <th>4</th>\n      <td>2019-05-07T04:36:07.017+03:00</td>\n      <td>english</td>\n      <td>As Disney’s Hollywood Studios celebrated its 3...</td>\n      <td>Disney World Star Wars: Galaxy's Edge: Hollywo...</td>\n      <td>As Disney’s Hollywood Studios celebrated its 3...</td>\n      <td>[disney, hollywood, studios, celebrated, 30th,...</td>\n    </tr>\n    <tr>\n      <th>5</th>\n      <td>2019-05-07T04:38:02.018+03:00</td>\n      <td>english</td>\n      <td>Hercules and Hades Jack Skellington and Sally\\...</td>\n      <td>Lego Collectibles – Disney Series 2 – Jack and...</td>\n      <td>Hercules and Hades Jack Skellington and Sally|...</td>\n      <td>[hercules, hades, jack, skellington, sally, pr...</td>\n    </tr>\n    <tr>\n      <th>6</th>\n      <td>2019-05-07T04:38:30.015+03:00</td>\n      <td>english</td>\n      <td>Jason @disneygeek.com 0 Comments Walt Disney W...</td>\n      <td>Walt Disney World Resort announces $1.5 millio...</td>\n      <td>Jason  0 Comments Walt Disney World Resort ann...</td>\n      <td>[jason, comments, walt, disney, world, resort,...</td>\n    </tr>\n    <tr>\n      <th>7</th>\n      <td>2019-05-07T04:40:54.003+03:00</td>\n      <td>english</td>\n      <td></td>\n      <td>Disney needs balls</td>\n      <td></td>\n      <td>[]</td>\n    </tr>\n    <tr>\n      <th>8</th>\n      <td>2019-05-07T04:44:26.009+03:00</td>\n      <td>english</td>\n      <td>Enter for your chance to win a trip for four t...</td>\n      <td>GMA’s Strahan and Sara Disney Trip Sweepstakes</td>\n      <td>Enter for your chance to win a trip for four t...</td>\n      <td>[enter, chance, win, trip, four, aulani, disne...</td>\n    </tr>\n    <tr>\n      <th>9</th>\n      <td>2019-05-07T04:44:29.014+03:00</td>\n      <td>english</td>\n      <td>Ratman Raving Rabbids TV Party $15\\nDisney Inf...</td>\n      <td>Nintendo Wii games. Mario, Harry, Disney Infin...</td>\n      <td>Ratman Raving Rabbids TV Party $15|Disney Infi...</td>\n      <td>[ratman, raving, rabbids, tv, party, disney, i...</td>\n    </tr>\n  </tbody>\n</table>\n</div>"
     },
     "execution_count": 13,
     "metadata": {},
     "output_type": "execute_result"
    }
   ],
   "source": [
    "df.head(10)"
   ],
   "metadata": {
    "collapsed": false,
    "ExecuteTime": {
     "end_time": "2024-02-09T00:31:09.366419Z",
     "start_time": "2024-02-09T00:31:09.359882Z"
    }
   },
   "id": "e536226063079ef0"
  },
  {
   "cell_type": "code",
   "execution_count": 15,
   "outputs": [],
   "source": [
    "r = Rake() # Uses stopwords for english from NLTK, and all puntuation characters.\n",
    "\n",
    "def rake_implement(x,r):\n",
    "    r.extract_keywords_from_text(x) # r.extract_keywords_from_text(<text to process>)\n",
    "    return r.get_ranked_phrases() # r.get_ranked_phrases() # To get keyword phrases ranked highest to lowest."
   ],
   "metadata": {
    "collapsed": false,
    "ExecuteTime": {
     "end_time": "2024-02-09T01:25:58.558190Z",
     "start_time": "2024-02-09T01:25:58.536640Z"
    }
   },
   "id": "b920f3ee96115585"
  },
  {
   "cell_type": "code",
   "execution_count": null,
   "outputs": [],
   "source": [],
   "metadata": {
    "collapsed": false
   },
   "id": "3193d4ceeaf60051"
  }
 ],
 "metadata": {
  "kernelspec": {
   "display_name": "Python 3",
   "language": "python",
   "name": "python3"
  },
  "language_info": {
   "codemirror_mode": {
    "name": "ipython",
    "version": 2
   },
   "file_extension": ".py",
   "mimetype": "text/x-python",
   "name": "python",
   "nbconvert_exporter": "python",
   "pygments_lexer": "ipython2",
   "version": "2.7.6"
  }
 },
 "nbformat": 4,
 "nbformat_minor": 5
}
