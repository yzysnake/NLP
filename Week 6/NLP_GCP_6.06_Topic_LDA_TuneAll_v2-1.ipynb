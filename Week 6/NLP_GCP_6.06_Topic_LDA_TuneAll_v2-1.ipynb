{
 "cells": [
  {
   "cell_type": "markdown",
   "metadata": {},
   "source": [
    "## LDA with Hyperparameter Tuning\n",
    "\n",
    "**Tuning LDA:** https://towardsdatascience.com/evaluate-topic-model-in-python-latent-dirichlet-allocation-lda-7d57484bb5d0"
   ]
  },
  {
   "cell_type": "code",
   "execution_count": 1,
   "metadata": {},
   "outputs": [
    {
     "name": "stdout",
     "output_type": "stream",
     "text": [
      "3.7.12 | packaged by conda-forge | (default, Oct 26 2021, 06:08:53) \n",
      "[GCC 9.4.0]\n"
     ]
    }
   ],
   "source": [
    "import sys\n",
    "print(sys.version)"
   ]
  },
  {
   "cell_type": "code",
   "execution_count": 2,
   "metadata": {},
   "outputs": [],
   "source": [
    "#!pip install gensim"
   ]
  },
  {
   "cell_type": "code",
   "execution_count": 3,
   "metadata": {},
   "outputs": [],
   "source": [
    "import os\n",
    "import time\n",
    "import math\n",
    "import re\n",
    "from pprint import pprint\n",
    "from textblob import TextBlob\n",
    "import pandas as pd\n",
    "import numpy as np\n",
    "\n",
    "\n",
    "import nltk as nltk\n",
    "from nltk.corpus import stopwords\n",
    "# from nltk.stem.wordnet import WordNetLemmatizer\n",
    "import spacy\n",
    "import multiprocessing\n",
    "import string\n",
    "\n",
    "\n",
    "import gensim\n",
    "from gensim import corpora, models\n",
    "from gensim.models.ldamulticore import LdaMulticore\n",
    "from gensim.utils import simple_preprocess\n",
    "from gensim.models import CoherenceModel\n",
    "\n",
    "# import pyLDAvis.gensim\n",
    "import pyLDAvis\n",
    "import pyLDAvis.gensim_models as gensimvis\n",
    "pyLDAvis.enable_notebook()"
   ]
  },
  {
   "cell_type": "code",
   "execution_count": 4,
   "metadata": {},
   "outputs": [],
   "source": [
    "import warnings\n",
    "\n",
    "# warnings.simplefilter('once')\n",
    "warnings.simplefilter('ignore')\n",
    "# warnings.filterwarnings(\"ignore\", category=FutureWarning)\n",
    "# warnings.filterwarnings(\"ignore\", category=DeprecationWarning)\n",
    "# warnings.filterwarnings(action='ignore', category=UserWarning, module='gensim')"
   ]
  },
  {
   "cell_type": "code",
   "execution_count": 5,
   "metadata": {},
   "outputs": [
    {
     "name": "stdout",
     "output_type": "stream",
     "text": [
      "Using 7 workers\n"
     ]
    }
   ],
   "source": [
    "num_processors = multiprocessing.cpu_count()\n",
    "num_processors\n",
    "\n",
    "workers = num_processors-1\n",
    "\n",
    "print(f'Using {workers} workers')"
   ]
  },
  {
   "cell_type": "markdown",
   "metadata": {},
   "source": [
    "#### Copy files to local FS from GCP bucket"
   ]
  },
  {
   "cell_type": "code",
   "execution_count": 6,
   "metadata": {},
   "outputs": [],
   "source": [
    "path_news = '/home/jupyter/data/news'\n",
    "path_tweets = '/home/jupyter/data/tweets'\n",
    "path_lda = '/home/jupyter/data/lda'\n",
    "\n",
    "if not os.path.isdir(path_news): os.mkdir(path_news)\n",
    "if not os.path.isdir(path_tweets): os.mkdir(path_tweets)\n",
    "if not os.path.isdir(path_lda): os.mkdir(path_lda)"
   ]
  },
  {
   "cell_type": "code",
   "execution_count": 7,
   "metadata": {},
   "outputs": [],
   "source": [
    "start_time = time.time()\n",
    "\n",
    "def tic():\n",
    "    global start_time \n",
    "    start_time = time.time()\n",
    "\n",
    "def tac():\n",
    "    t_sec = round(time.time() - start_time)\n",
    "    (t_min, t_sec) = divmod(t_sec,60)\n",
    "    (t_hour,t_min) = divmod(t_min,60) \n",
    "    print(f'Execution time to calculate for topic {k}: {t_hour}hour:{t_min}min:{t_sec}sec'.format(t_hour,t_min,t_sec))"
   ]
  },
  {
   "cell_type": "markdown",
   "metadata": {},
   "source": [
    "## Applying LDA to news articles"
   ]
  },
  {
   "cell_type": "code",
   "execution_count": 8,
   "metadata": {},
   "outputs": [
    {
     "data": {
      "text/plain": [
       "(100, 4)"
      ]
     },
     "execution_count": 8,
     "metadata": {},
     "output_type": "execute_result"
    }
   ],
   "source": [
    "news_path = 'https://storage.googleapis.com/msca-bdp-data-open/news/news_toyota.json'\n",
    "\n",
    "news_df = pd.read_json(news_path, orient='records', lines=True)\n",
    "news_df.shape"
   ]
  },
  {
   "cell_type": "code",
   "execution_count": 9,
   "metadata": {
    "scrolled": true
   },
   "outputs": [
    {
     "data": {
      "text/html": [
       "<div>\n",
       "<style scoped>\n",
       "    .dataframe tbody tr th:only-of-type {\n",
       "        vertical-align: middle;\n",
       "    }\n",
       "\n",
       "    .dataframe tbody tr th {\n",
       "        vertical-align: top;\n",
       "    }\n",
       "\n",
       "    .dataframe thead th {\n",
       "        text-align: right;\n",
       "    }\n",
       "</style>\n",
       "<table border=\"1\" class=\"dataframe\">\n",
       "  <thead>\n",
       "    <tr style=\"text-align: right;\">\n",
       "      <th></th>\n",
       "      <th>crawled</th>\n",
       "      <th>language</th>\n",
       "      <th>text</th>\n",
       "      <th>title</th>\n",
       "    </tr>\n",
       "  </thead>\n",
       "  <tbody>\n",
       "    <tr>\n",
       "      <th>0</th>\n",
       "      <td>2018-02-02T04:24:51.072+02:00</td>\n",
       "      <td>english</td>\n",
       "      <td>QR Code Link to This Post All maintenance rece...</td>\n",
       "      <td>Dependable truck 03 Toyota Tacoma Double Cab $...</td>\n",
       "    </tr>\n",
       "    <tr>\n",
       "      <th>1</th>\n",
       "      <td>2018-02-02T04:27:15.000+02:00</td>\n",
       "      <td>english</td>\n",
       "      <td>0 \\nNEW YORK: Automakers reported mixed US car...</td>\n",
       "      <td>US car sales mixed in January; trucks stay strong</td>\n",
       "    </tr>\n",
       "    <tr>\n",
       "      <th>2</th>\n",
       "      <td>2018-02-02T04:34:00.008+02:00</td>\n",
       "      <td>english</td>\n",
       "      <td>transmission: automatic   2005 Toyota Camry LE...</td>\n",
       "      <td>2005 TOYOTA CAMRY LE 167300 MILEAGE $2450 (TAL...</td>\n",
       "    </tr>\n",
       "    <tr>\n",
       "      <th>3</th>\n",
       "      <td>2018-02-02T04:36:42.006+02:00</td>\n",
       "      <td>english</td>\n",
       "      <td>favorite this post Brand New Toyota Avalon Flo...</td>\n",
       "      <td>Brand New Toyota Avalon Floor Mats (New Britai...</td>\n",
       "    </tr>\n",
       "    <tr>\n",
       "      <th>4</th>\n",
       "      <td>2018-02-02T04:38:24.018+02:00</td>\n",
       "      <td>english</td>\n",
       "      <td>more ads by this user QR Code Link to This Pos...</td>\n",
       "      <td>2016 Lexus ES 350 (Coliseum Lexus of Oakland) ...</td>\n",
       "    </tr>\n",
       "  </tbody>\n",
       "</table>\n",
       "</div>"
      ],
      "text/plain": [
       "                         crawled language  \\\n",
       "0  2018-02-02T04:24:51.072+02:00  english   \n",
       "1  2018-02-02T04:27:15.000+02:00  english   \n",
       "2  2018-02-02T04:34:00.008+02:00  english   \n",
       "3  2018-02-02T04:36:42.006+02:00  english   \n",
       "4  2018-02-02T04:38:24.018+02:00  english   \n",
       "\n",
       "                                                text  \\\n",
       "0  QR Code Link to This Post All maintenance rece...   \n",
       "1  0 \\nNEW YORK: Automakers reported mixed US car...   \n",
       "2  transmission: automatic   2005 Toyota Camry LE...   \n",
       "3  favorite this post Brand New Toyota Avalon Flo...   \n",
       "4  more ads by this user QR Code Link to This Pos...   \n",
       "\n",
       "                                               title  \n",
       "0  Dependable truck 03 Toyota Tacoma Double Cab $...  \n",
       "1  US car sales mixed in January; trucks stay strong  \n",
       "2  2005 TOYOTA CAMRY LE 167300 MILEAGE $2450 (TAL...  \n",
       "3  Brand New Toyota Avalon Floor Mats (New Britai...  \n",
       "4  2016 Lexus ES 350 (Coliseum Lexus of Oakland) ...  "
      ]
     },
     "execution_count": 9,
     "metadata": {},
     "output_type": "execute_result"
    }
   ],
   "source": [
    "news_df.head(5)"
   ]
  },
  {
   "cell_type": "markdown",
   "metadata": {},
   "source": [
    "## Clean text"
   ]
  },
  {
   "cell_type": "code",
   "execution_count": 10,
   "metadata": {},
   "outputs": [
    {
     "name": "stdout",
     "output_type": "stream",
     "text": [
      "CPU times: user 1.16 ms, sys: 0 ns, total: 1.16 ms\n",
      "Wall time: 1.03 ms\n"
     ]
    }
   ],
   "source": [
    "# Filter non-English articles\n",
    "%time news_eng = news_df[news_df['language']=='english'].reset_index(drop=True)"
   ]
  },
  {
   "cell_type": "markdown",
   "metadata": {},
   "source": [
    "#### Tokenize text into words and remove punctuation"
   ]
  },
  {
   "cell_type": "code",
   "execution_count": 11,
   "metadata": {},
   "outputs": [
    {
     "name": "stdout",
     "output_type": "stream",
     "text": [
      "CPU times: user 188 ms, sys: 3.89 ms, total: 192 ms\n",
      "Wall time: 191 ms\n"
     ]
    }
   ],
   "source": [
    "%%time\n",
    "\n",
    "def sent_to_words(sentences):\n",
    "    for sentence in sentences:\n",
    "        yield(gensim.utils.simple_preprocess(str(sentence), deacc=True))  # deacc=True removes punctuations\n",
    "        \n",
    "        \n",
    "data_list = news_eng['text'].tolist()        \n",
    "data_tokens = list(sent_to_words(data_list))"
   ]
  },
  {
   "cell_type": "markdown",
   "metadata": {},
   "source": [
    "#### Remove Stopwords, Make n-grams and Lemmatize"
   ]
  },
  {
   "cell_type": "code",
   "execution_count": 12,
   "metadata": {},
   "outputs": [
    {
     "name": "stdout",
     "output_type": "stream",
     "text": [
      "CPU times: user 341 ms, sys: 8.71 ms, total: 349 ms\n",
      "Wall time: 347 ms\n"
     ]
    }
   ],
   "source": [
    "%%time\n",
    "\n",
    "# bigram = gensim.models.Phrases(data_tokens, min_count=5, threshold=100)\n",
    "# trigram = gensim.models.Phrases(bigram[data_tokens], threshold=100)\n",
    "\n",
    "bigram = gensim.models.Phrases(data_tokens, min_count=1, threshold=1)\n",
    "trigram = gensim.models.Phrases(bigram[data_tokens], threshold=1)\n",
    "\n",
    "bigram_mod = gensim.models.phrases.Phraser(bigram)\n",
    "trigram_mod = gensim.models.phrases.Phraser(trigram)"
   ]
  },
  {
   "cell_type": "code",
   "execution_count": 13,
   "metadata": {},
   "outputs": [
    {
     "name": "stdout",
     "output_type": "stream",
     "text": [
      "CPU times: user 0 ns, sys: 3.84 ms, total: 3.84 ms\n",
      "Wall time: 2.69 ms\n"
     ]
    }
   ],
   "source": [
    "%%time\n",
    "\n",
    "stop_words = stopwords.words('english')\n",
    "\n",
    "# Define functions for stopwords, bigrams, trigrams and lemmatization\n",
    "def remove_stopwords(texts):\n",
    "    return [[word for word in simple_preprocess(str(doc)) if word not in stop_words] for doc in texts]\n",
    "\n",
    "def make_bigrams(texts):\n",
    "    return [bigram_mod[doc] for doc in texts]\n",
    "\n",
    "def make_trigrams(texts):\n",
    "    return [trigram_mod[bigram_mod[doc]] for doc in texts]\n",
    "\n",
    "def lemmatization(texts, allowed_postags=['NOUN', 'ADJ', 'VERB', 'ADV']):\n",
    "    \"\"\"https://spacy.io/api/annotation\"\"\"\n",
    "    texts_out = []\n",
    "    for sent in texts:\n",
    "        doc = nlp(\" \".join(sent)) \n",
    "        texts_out.append([token.lemma_ for token in doc if token.pos_ in allowed_postags])\n",
    "    return texts_out"
   ]
  },
  {
   "cell_type": "code",
   "execution_count": 14,
   "metadata": {},
   "outputs": [
    {
     "name": "stdout",
     "output_type": "stream",
     "text": [
      "['maintenance', 'receipt', 'available', 'one_owner', 'truck', 'cash', 'sale', 'trade']\n",
      "CPU times: user 3.87 s, sys: 97.3 ms, total: 3.96 s\n",
      "Wall time: 3.96 s\n"
     ]
    }
   ],
   "source": [
    "%%time\n",
    "\n",
    "# Remove Stop Words\n",
    "data_tokens_nostops = remove_stopwords(data_tokens)\n",
    "\n",
    "# Create n-grams\n",
    "data_words_bigrams = make_bigrams(data_tokens_nostops)\n",
    "data_words_trigrams = make_trigrams(data_tokens_nostops)\n",
    "\n",
    "# Combine tokens and n-grams\n",
    "# data_tokens_cobnined = data_tokens_nostops + data_words_bigrams + data_words_trigrams\n",
    "data_tokens_cobnined = data_words_trigrams\n",
    "\n",
    "# Initialize spacy 'en' model, keeping only tagger component (for efficiency)\n",
    "nlp = spacy.load(\"en_core_web_sm\", disable=['parser', 'ner'])\n",
    "\n",
    "# Lemmatize text keeping only noun, adj, vb, adv\n",
    "data_lemmatized = lemmatization(data_tokens_cobnined, allowed_postags=['NOUN', 'ADJ', 'VERB', 'ADV'])\n",
    "\n",
    "print(*data_lemmatized[:1])"
   ]
  },
  {
   "cell_type": "code",
   "execution_count": 15,
   "metadata": {},
   "outputs": [
    {
     "name": "stdout",
     "output_type": "stream",
     "text": [
      "CPU times: user 41.2 ms, sys: 1.22 ms, total: 42.5 ms\n",
      "Wall time: 40.8 ms\n"
     ]
    }
   ],
   "source": [
    "%%time\n",
    "\n",
    "# Creating the term dictionary of our courpus, where every unique term is assigned an index. \n",
    "dictionary = corpora.Dictionary(data_lemmatized)\n",
    "\n",
    "# Converting list of documents (corpus) into Document Term Matrix using dictionary prepared above.\n",
    "doc_term_matrix = [dictionary.doc2bow(doc) for doc in data_lemmatized]"
   ]
  },
  {
   "cell_type": "markdown",
   "metadata": {},
   "source": [
    "#### Build initial 3 topic model"
   ]
  },
  {
   "cell_type": "code",
   "execution_count": 16,
   "metadata": {},
   "outputs": [
    {
     "name": "stdout",
     "output_type": "stream",
     "text": [
      "CPU times: user 1.69 s, sys: 241 ms, total: 1.93 s\n",
      "Wall time: 1.93 s\n"
     ]
    }
   ],
   "source": [
    "%%time\n",
    "\n",
    "lda_model = LdaMulticore(corpus=doc_term_matrix,\n",
    "                   id2word=dictionary,\n",
    "                   num_topics=3,\n",
    "                   random_state=100,\n",
    "                   passes=10,\n",
    "                   eta='auto',\n",
    "                   workers=workers)"
   ]
  },
  {
   "cell_type": "code",
   "execution_count": 17,
   "metadata": {},
   "outputs": [
    {
     "name": "stdout",
     "output_type": "stream",
     "text": [
      "[(0,\n",
      "  '0.007*\"company\" + 0.007*\"say\" + 0.006*\"percent\" + 0.005*\"year\" + '\n",
      "  '0.005*\"job\" + 0.005*\"see\" + 0.005*\"make\" + 0.004*\"per_cent\" + 0.004*\"state\" '\n",
      "  '+ 0.004*\"sale\"'),\n",
      " (1,\n",
      "  '0.009*\"car\" + 0.008*\"vehicle\" + 0.005*\"also\" + 0.005*\"say\" + 0.005*\"make\" + '\n",
      "  '0.005*\"include\" + 0.004*\"new\" + 0.004*\"year\" + 0.004*\"model\" + '\n",
      "  '0.004*\"contact\"'),\n",
      " (2,\n",
      "  '0.028*\"percent\" + 0.008*\"cent\" + 0.007*\"year\" + 0.007*\"rise\" + '\n",
      "  '0.007*\"per_barrel\" + 0.007*\"yen\" + 0.007*\"gain\" + 0.006*\"unit\" + '\n",
      "  '0.006*\"report\" + 0.006*\"growth\"')]\n"
     ]
    }
   ],
   "source": [
    "# Print the Keyword in the 3 topics\n",
    "pprint(lda_model.print_topics())\n",
    "doc_lda = lda_model[doc_term_matrix]"
   ]
  },
  {
   "cell_type": "markdown",
   "metadata": {},
   "source": [
    "#### Compute Coherence Score"
   ]
  },
  {
   "cell_type": "code",
   "execution_count": 18,
   "metadata": {},
   "outputs": [
    {
     "name": "stdout",
     "output_type": "stream",
     "text": [
      "\n",
      "Coherence Score:  0.466116080951055\n",
      "CPU times: user 208 ms, sys: 152 ms, total: 360 ms\n",
      "Wall time: 447 ms\n"
     ]
    }
   ],
   "source": [
    "%%time\n",
    "\n",
    "coherence_model_lda = CoherenceModel(model=lda_model, texts=data_lemmatized, dictionary=dictionary, coherence='c_v')\n",
    "coherence_lda = coherence_model_lda.get_coherence()\n",
    "print('\\nCoherence Score: ', coherence_lda)"
   ]
  },
  {
   "cell_type": "markdown",
   "metadata": {},
   "source": [
    "#### Tune LDA model"
   ]
  },
  {
   "cell_type": "code",
   "execution_count": 19,
   "metadata": {},
   "outputs": [],
   "source": [
    "# supporting function\n",
    "def compute_coherence_values(corpus, dictionary, k, a, b):\n",
    "    \n",
    "    lda_model = LdaMulticore(corpus=doc_term_matrix,\n",
    "                       id2word=dictionary,\n",
    "                       num_topics=k,\n",
    "                       random_state=100,                  \n",
    "                       passes=10,\n",
    "                       alpha=a,\n",
    "                       eta=b,\n",
    "                       workers=workers)\n",
    "    \n",
    "    coherence_model_lda = CoherenceModel(model=lda_model, texts=data_lemmatized, dictionary=dictionary, coherence='c_v')\n",
    "    \n",
    "    return coherence_model_lda.get_coherence()"
   ]
  },
  {
   "cell_type": "markdown",
   "metadata": {},
   "source": [
    "#### Hyperparameter Tuning:\n",
    "- Number of Topics (K)\n",
    "- Dirichlet hyperparameter alpha: Document-Topic Density\n",
    "- Dirichlet hyperparameter beta: Word-Topic Density"
   ]
  },
  {
   "cell_type": "code",
   "execution_count": 20,
   "metadata": {},
   "outputs": [
    {
     "name": "stdout",
     "output_type": "stream",
     "text": [
      "LDA will execute 120 iterations\n",
      "Completed model based on 17 LDA topics. Finished 25.0% of LDA runs\n",
      "Execution time to calculate for topic 17: 0hour:1min:48sec\n",
      "Completed model based on 18 LDA topics. Finished 50.0% of LDA runs\n",
      "Execution time to calculate for topic 18: 0hour:1min:48sec\n",
      "Completed model based on 19 LDA topics. Finished 75.0% of LDA runs\n",
      "Execution time to calculate for topic 19: 0hour:1min:52sec\n",
      "Completed model based on 20 LDA topics. Finished 100.0% of LDA runs\n",
      "Execution time to calculate for topic 20: 0hour:1min:55sec\n",
      "CPU times: user 5min 49s, sys: 46.1 s, total: 6min 35s\n",
      "Wall time: 7min 23s\n"
     ]
    }
   ],
   "source": [
    "%%time\n",
    "\n",
    "grid = {}\n",
    "grid['Validation_Set'] = {}\n",
    "# Topics range\n",
    "min_topics = 17\n",
    "max_topics = 20\n",
    "step_size = 1\n",
    "topics_range = range(min_topics, max_topics+1, step_size)\n",
    "\n",
    "# Alpha parameter\n",
    "alpha = list(np.arange(0.01, 1, 0.3))\n",
    "alpha.append('symmetric')\n",
    "alpha.append('asymmetric')\n",
    "# alpha = ['symmetric'] # Run for number of topics only\n",
    "\n",
    "# Beta parameter\n",
    "beta = list(np.arange(0.01, 1, 0.3))\n",
    "beta.append('symmetric')\n",
    "# beta = ['auto'] # Run for number of topics only\n",
    "\n",
    "\n",
    "# Validation sets\n",
    "num_of_docs = len(doc_term_matrix)\n",
    "corpus_sets = [# gensim.utils.ClippedCorpus(doc_term_matrix, num_of_docs*0.25), \n",
    "               # gensim.utils.ClippedCorpus(doc_term_matrix, num_of_docs*0.5), \n",
    "#                gensim.utils.ClippedCorpus(doc_term_matrix, num_of_docs*0.75), \n",
    "               doc_term_matrix]\n",
    "# corpus_title = ['75% Corpus', '100% Corpus']\n",
    "corpus_title = ['100% Corpus']\n",
    "model_results = {\n",
    "                 'Topics': [],\n",
    "                 'Alpha': [],\n",
    "                 'Beta': [],\n",
    "                 'Coherence': []\n",
    "                }\n",
    "\n",
    "itr = 0\n",
    "itr_total = len(beta)*len(alpha)*len(topics_range)*len(corpus_title)\n",
    "print(f'LDA will execute {itr_total} iterations')\n",
    "\n",
    "    \n",
    "# iterate through hyperparameters\n",
    "for i in range(len(corpus_sets)):\n",
    "    # iterate through number of topics\n",
    "    for k in topics_range:\n",
    "        # iterate through alpha values\n",
    "        tic()\n",
    "        for a in alpha:\n",
    "            # iterare through beta values\n",
    "            for b in beta:\n",
    "                # get the coherence score for the given parameters\n",
    "                itr += 1\n",
    "                cv = compute_coherence_values(corpus=corpus_sets[i], dictionary=dictionary, \n",
    "                                              k=k, a=a, b=b)\n",
    "                # Save the model results\n",
    "                model_results['Topics'].append(k)\n",
    "                model_results['Alpha'].append(a)\n",
    "                model_results['Beta'].append(b)\n",
    "                model_results['Coherence'].append(cv)\n",
    "                pct_completed = round((itr / itr_total * 100),1)\n",
    "#                 print(f'Completed Percent: {pct_completed}%, Corpus: {corpus_title[i]}, Topics: {k}, Alpha: {a}, Beta: {b}, Coherence: {cv}')\n",
    "        print(f'Completed model based on {k} LDA topics. Finished {pct_completed}% of LDA runs')\n",
    "        tac()\n",
    "                    \n",
    "lda_tuning = pd.DataFrame(model_results)\n",
    "lda_tuning.to_csv(os.path.join(path_lda, 'lda_tuning_results.csv'), index=False)"
   ]
  },
  {
   "cell_type": "code",
   "execution_count": 21,
   "metadata": {},
   "outputs": [],
   "source": [
    "# lda_tuning = pd.read_csv(os.path.join(path_lda, 'lda_tuning_results.csv'))"
   ]
  },
  {
   "cell_type": "code",
   "execution_count": 22,
   "metadata": {},
   "outputs": [
    {
     "data": {
      "text/html": [
       "<div>\n",
       "<style scoped>\n",
       "    .dataframe tbody tr th:only-of-type {\n",
       "        vertical-align: middle;\n",
       "    }\n",
       "\n",
       "    .dataframe tbody tr th {\n",
       "        vertical-align: top;\n",
       "    }\n",
       "\n",
       "    .dataframe thead th {\n",
       "        text-align: right;\n",
       "    }\n",
       "</style>\n",
       "<table border=\"1\" class=\"dataframe\">\n",
       "  <thead>\n",
       "    <tr style=\"text-align: right;\">\n",
       "      <th></th>\n",
       "      <th>Topics</th>\n",
       "      <th>Alpha</th>\n",
       "      <th>Beta</th>\n",
       "      <th>Coherence</th>\n",
       "    </tr>\n",
       "  </thead>\n",
       "  <tbody>\n",
       "    <tr>\n",
       "      <th>108</th>\n",
       "      <td>20</td>\n",
       "      <td>0.91</td>\n",
       "      <td>0.91</td>\n",
       "      <td>0.554034</td>\n",
       "    </tr>\n",
       "    <tr>\n",
       "      <th>63</th>\n",
       "      <td>19</td>\n",
       "      <td>0.01</td>\n",
       "      <td>0.91</td>\n",
       "      <td>0.544508</td>\n",
       "    </tr>\n",
       "    <tr>\n",
       "      <th>83</th>\n",
       "      <td>19</td>\n",
       "      <td>symmetric</td>\n",
       "      <td>0.91</td>\n",
       "      <td>0.542586</td>\n",
       "    </tr>\n",
       "    <tr>\n",
       "      <th>48</th>\n",
       "      <td>18</td>\n",
       "      <td>0.91</td>\n",
       "      <td>0.91</td>\n",
       "      <td>0.529961</td>\n",
       "    </tr>\n",
       "    <tr>\n",
       "      <th>107</th>\n",
       "      <td>20</td>\n",
       "      <td>0.91</td>\n",
       "      <td>0.61</td>\n",
       "      <td>0.525843</td>\n",
       "    </tr>\n",
       "    <tr>\n",
       "      <th>78</th>\n",
       "      <td>19</td>\n",
       "      <td>0.91</td>\n",
       "      <td>0.91</td>\n",
       "      <td>0.520196</td>\n",
       "    </tr>\n",
       "    <tr>\n",
       "      <th>18</th>\n",
       "      <td>17</td>\n",
       "      <td>0.91</td>\n",
       "      <td>0.91</td>\n",
       "      <td>0.517649</td>\n",
       "    </tr>\n",
       "    <tr>\n",
       "      <th>28</th>\n",
       "      <td>17</td>\n",
       "      <td>asymmetric</td>\n",
       "      <td>0.91</td>\n",
       "      <td>0.517645</td>\n",
       "    </tr>\n",
       "    <tr>\n",
       "      <th>62</th>\n",
       "      <td>19</td>\n",
       "      <td>0.01</td>\n",
       "      <td>0.61</td>\n",
       "      <td>0.516491</td>\n",
       "    </tr>\n",
       "    <tr>\n",
       "      <th>7</th>\n",
       "      <td>17</td>\n",
       "      <td>0.31</td>\n",
       "      <td>0.61</td>\n",
       "      <td>0.514001</td>\n",
       "    </tr>\n",
       "  </tbody>\n",
       "</table>\n",
       "</div>"
      ],
      "text/plain": [
       "     Topics       Alpha  Beta  Coherence\n",
       "108      20        0.91  0.91   0.554034\n",
       "63       19        0.01  0.91   0.544508\n",
       "83       19   symmetric  0.91   0.542586\n",
       "48       18        0.91  0.91   0.529961\n",
       "107      20        0.91  0.61   0.525843\n",
       "78       19        0.91  0.91   0.520196\n",
       "18       17        0.91  0.91   0.517649\n",
       "28       17  asymmetric  0.91   0.517645\n",
       "62       19        0.01  0.61   0.516491\n",
       "7        17        0.31  0.61   0.514001"
      ]
     },
     "execution_count": 22,
     "metadata": {},
     "output_type": "execute_result"
    }
   ],
   "source": [
    "# Best LDA parameters\n",
    "lda_tuning.sort_values(by=['Coherence'], ascending=False).head(10)"
   ]
  },
  {
   "cell_type": "code",
   "execution_count": 23,
   "metadata": {},
   "outputs": [
    {
     "data": {
      "text/html": [
       "<div>\n",
       "<style scoped>\n",
       "    .dataframe tbody tr th:only-of-type {\n",
       "        vertical-align: middle;\n",
       "    }\n",
       "\n",
       "    .dataframe tbody tr th {\n",
       "        vertical-align: top;\n",
       "    }\n",
       "\n",
       "    .dataframe thead th {\n",
       "        text-align: right;\n",
       "    }\n",
       "</style>\n",
       "<table border=\"1\" class=\"dataframe\">\n",
       "  <thead>\n",
       "    <tr style=\"text-align: right;\">\n",
       "      <th></th>\n",
       "      <th>Topics</th>\n",
       "      <th>Alpha</th>\n",
       "      <th>Beta</th>\n",
       "      <th>Coherence</th>\n",
       "    </tr>\n",
       "  </thead>\n",
       "  <tbody>\n",
       "    <tr>\n",
       "      <th>97</th>\n",
       "      <td>20</td>\n",
       "      <td>0.31</td>\n",
       "      <td>0.61</td>\n",
       "      <td>0.407313</td>\n",
       "    </tr>\n",
       "    <tr>\n",
       "      <th>32</th>\n",
       "      <td>18</td>\n",
       "      <td>0.01</td>\n",
       "      <td>0.61</td>\n",
       "      <td>0.415155</td>\n",
       "    </tr>\n",
       "    <tr>\n",
       "      <th>31</th>\n",
       "      <td>18</td>\n",
       "      <td>0.01</td>\n",
       "      <td>0.31</td>\n",
       "      <td>0.415278</td>\n",
       "    </tr>\n",
       "    <tr>\n",
       "      <th>43</th>\n",
       "      <td>18</td>\n",
       "      <td>0.61</td>\n",
       "      <td>0.91</td>\n",
       "      <td>0.418865</td>\n",
       "    </tr>\n",
       "    <tr>\n",
       "      <th>114</th>\n",
       "      <td>20</td>\n",
       "      <td>symmetric</td>\n",
       "      <td>symmetric</td>\n",
       "      <td>0.426692</td>\n",
       "    </tr>\n",
       "    <tr>\n",
       "      <th>53</th>\n",
       "      <td>18</td>\n",
       "      <td>symmetric</td>\n",
       "      <td>0.91</td>\n",
       "      <td>0.427270</td>\n",
       "    </tr>\n",
       "    <tr>\n",
       "      <th>110</th>\n",
       "      <td>20</td>\n",
       "      <td>symmetric</td>\n",
       "      <td>0.01</td>\n",
       "      <td>0.428290</td>\n",
       "    </tr>\n",
       "    <tr>\n",
       "      <th>44</th>\n",
       "      <td>18</td>\n",
       "      <td>0.61</td>\n",
       "      <td>symmetric</td>\n",
       "      <td>0.430924</td>\n",
       "    </tr>\n",
       "    <tr>\n",
       "      <th>33</th>\n",
       "      <td>18</td>\n",
       "      <td>0.01</td>\n",
       "      <td>0.91</td>\n",
       "      <td>0.430999</td>\n",
       "    </tr>\n",
       "    <tr>\n",
       "      <th>51</th>\n",
       "      <td>18</td>\n",
       "      <td>symmetric</td>\n",
       "      <td>0.31</td>\n",
       "      <td>0.432959</td>\n",
       "    </tr>\n",
       "  </tbody>\n",
       "</table>\n",
       "</div>"
      ],
      "text/plain": [
       "     Topics      Alpha       Beta  Coherence\n",
       "97       20       0.31       0.61   0.407313\n",
       "32       18       0.01       0.61   0.415155\n",
       "31       18       0.01       0.31   0.415278\n",
       "43       18       0.61       0.91   0.418865\n",
       "114      20  symmetric  symmetric   0.426692\n",
       "53       18  symmetric       0.91   0.427270\n",
       "110      20  symmetric       0.01   0.428290\n",
       "44       18       0.61  symmetric   0.430924\n",
       "33       18       0.01       0.91   0.430999\n",
       "51       18  symmetric       0.31   0.432959"
      ]
     },
     "execution_count": 23,
     "metadata": {},
     "output_type": "execute_result"
    }
   ],
   "source": [
    "# Worst LDA parameters\n",
    "lda_tuning.sort_values(by=['Coherence']).head(10)"
   ]
  },
  {
   "cell_type": "markdown",
   "metadata": {},
   "source": [
    "#### Running best model"
   ]
  },
  {
   "cell_type": "code",
   "execution_count": 24,
   "metadata": {},
   "outputs": [
    {
     "name": "stdout",
     "output_type": "stream",
     "text": [
      "Best Parameters: Topics: 20, Alpha: 0.91, Beta: 0.91\n"
     ]
    }
   ],
   "source": [
    "lda_tuning_best = lda_tuning.sort_values(by=['Coherence'], ascending=False).head(1)\n",
    "\n",
    "\n",
    "tuned_topics = int(lda_tuning_best['Topics'].to_string(index=False))\n",
    "\n",
    "\n",
    "# Since the values for Alpha and Beta can be float, symmetric and asymmetric, we will either strip or convert to float\n",
    "try:\n",
    "    tuned_alpha = float(lda_tuning_best['Alpha'].to_string(index=False))\n",
    "except:\n",
    "    tuned_alpha = lda_tuning_best['Alpha'].to_string(index=False).strip()\n",
    "    \n",
    "\n",
    "try:\n",
    "    tuned_beta = float(lda_tuning_best['Beta'].to_string(index=False))\n",
    "except:\n",
    "    tuned_beta = lda_tuning_best['Beta'].to_string(index=False).strip()    \n",
    "    \n",
    "print(f'Best Parameters: Topics: {tuned_topics}, Alpha: {tuned_alpha}, Beta: {tuned_beta}')"
   ]
  },
  {
   "cell_type": "code",
   "execution_count": 25,
   "metadata": {},
   "outputs": [
    {
     "name": "stdout",
     "output_type": "stream",
     "text": [
      "\n",
      "Coherence Score:  0.466116080951055\n",
      "CPU times: user 2.13 s, sys: 239 ms, total: 2.36 s\n",
      "Wall time: 2.35 s\n"
     ]
    }
   ],
   "source": [
    "%%time\n",
    "\n",
    "tuned_lda_model = LdaMulticore(corpus=doc_term_matrix,\n",
    "                       id2word=dictionary,\n",
    "                       num_topics=tuned_topics,\n",
    "                       random_state=100,\n",
    "                       passes=10,\n",
    "                       alpha=tuned_alpha,\n",
    "                       eta=tuned_beta,\n",
    "                       workers = workers)\n",
    "\n",
    "coherence_model_lda = CoherenceModel(model=tuned_lda_model, texts=data_lemmatized, dictionary=dictionary, coherence='c_v')\n",
    "print('\\nCoherence Score: ', coherence_lda)"
   ]
  },
  {
   "cell_type": "code",
   "execution_count": 26,
   "metadata": {},
   "outputs": [
    {
     "name": "stderr",
     "output_type": "stream",
     "text": [
      "/opt/conda/lib/python3.7/site-packages/past/builtins/misc.py:45: DeprecationWarning: the imp module is deprecated in favour of importlib; see the module's documentation for alternative uses\n",
      "  from imp import reload\n",
      "/opt/conda/lib/python3.7/site-packages/past/builtins/misc.py:45: DeprecationWarning: the imp module is deprecated in favour of importlib; see the module's documentation for alternative uses\n",
      "  from imp import reload\n",
      "/opt/conda/lib/python3.7/site-packages/past/builtins/misc.py:45: DeprecationWarning: the imp module is deprecated in favour of importlib; see the module's documentation for alternative uses\n",
      "  from imp import reload\n",
      "/opt/conda/lib/python3.7/site-packages/past/builtins/misc.py:45: DeprecationWarning: the imp module is deprecated in favour of importlib; see the module's documentation for alternative uses\n",
      "  from imp import reload\n",
      "/opt/conda/lib/python3.7/site-packages/past/builtins/misc.py:45: DeprecationWarning: the imp module is deprecated in favour of importlib; see the module's documentation for alternative uses\n",
      "  from imp import reload\n",
      "/opt/conda/lib/python3.7/site-packages/past/builtins/misc.py:45: DeprecationWarning: the imp module is deprecated in favour of importlib; see the module's documentation for alternative uses\n",
      "  from imp import reload\n",
      "/opt/conda/lib/python3.7/site-packages/past/builtins/misc.py:45: DeprecationWarning: the imp module is deprecated in favour of importlib; see the module's documentation for alternative uses\n",
      "  from imp import reload\n",
      "/opt/conda/lib/python3.7/site-packages/past/builtins/misc.py:45: DeprecationWarning: the imp module is deprecated in favour of importlib; see the module's documentation for alternative uses\n",
      "  from imp import reload\n"
     ]
    },
    {
     "name": "stdout",
     "output_type": "stream",
     "text": [
      "CPU times: user 463 ms, sys: 208 ms, total: 671 ms\n",
      "Wall time: 2.24 s\n"
     ]
    },
    {
     "data": {
      "text/html": [
       "\n",
       "<link rel=\"stylesheet\" type=\"text/css\" href=\"https://cdn.jsdelivr.net/gh/bmabey/pyLDAvis@3.3.1/pyLDAvis/js/ldavis.v1.0.0.css\">\n",
       "\n",
       "\n",
       "<div id=\"ldavis_el242921399444011383841338835926\"></div>\n",
       "<script type=\"text/javascript\">\n",
       "\n",
       "var ldavis_el242921399444011383841338835926_data = {\"mdsDat\": {\"x\": [0.004256139354610949, 0.01065055493948518, -0.007213370072518458, 0.00417732152682963, 0.00925139884178119, 0.004281092600807869, 0.008103455823885245, 0.0026417589685231477, -0.011802893915183403, 0.024495263958632142, 0.00426786309695923, 0.0018983755566369751, -0.14609921247989402, 0.004145233273473807, 0.012748901016898058, 0.003707018311839232, 0.00478216164013465, 4.342880524395077e-05, 0.004273038995329896, 0.06139246975652471], \"y\": [0.0028811485722453154, -0.0002748913276998355, -0.00809519857131363, 0.002924415958715146, -0.0035573558952099065, 0.0028439389088422366, 0.014201246010254973, 0.0004160441288913502, 0.012122467366490688, 0.018800591596973393, 0.002878440668163739, 0.035709263621711305, -0.024693313956977037, 0.002957827603426314, -0.06120646552888529, 0.0028016353766131667, -0.006632614986371345, 0.0025884573800084333, 0.0028787762311882174, 0.00045558684293275166], \"topics\": [1, 2, 3, 4, 5, 6, 7, 8, 9, 10, 11, 12, 13, 14, 15, 16, 17, 18, 19, 20], \"cluster\": [1, 1, 1, 1, 1, 1, 1, 1, 1, 1, 1, 1, 1, 1, 1, 1, 1, 1, 1, 1], \"Freq\": [0.668205439972975, 2.462134138525855, 2.4433454148823275, 0.6677118772091449, 1.8009700438980973, 0.6679156296824701, 3.0665753488395358, 1.4096976620403938, 4.088652592532329, 6.5053115029888655, 0.6678081870219975, 8.332570554000739, 24.872127080102338, 0.669169812621985, 18.376623065204644, 0.6693406221700813, 2.541339641401465, 1.7534435187220156, 0.6681156347985978, 17.66894223338414]}, \"tinfo\": {\"Term\": [\"percent\", \"sale\", \"unit\", \"cent\", \"per_cent\", \"vehicle\", \"yen\", \"per_barrel\", \"rise\", \"car\", \"rising_bond\", \"month\", \"increase\", \"say\", \"latest_earning\", \"gain\", \"worry\", \"investors_evaluate\", \"year\", \"asian_share\", \"company\", \"year_treasury\", \"yield\", \"new_york\", \"barrel\", \"see\", \"export\", \"interest_rate\", \"stoking_investor\", \"prospect\", \"sales_weapon\", \"syndicate\", \"toyota_secret\", \"https\", \"xmirlv\", \"autozone\", \"gallery\", \"alternator\", \"warning\", \"duralast\", \"web\", \"obo\", \"grill\", \"receipt\", \"nice\", \"cyl\", \"hale\", \"contact_info\", \"cloth\", \"rvixe\", \"autoblog\", \"earning\", \"paperwork\", \"leaf\", \"passat\", \"civic\", \"camry_shine\", \"mixed_january\", \"shine\", \"door_lock\", \"mileage\", \"camry\", \"wordpress\", \"transmission_automatic\", \"new_tire\", \"text\", \"offers_post_id\", \"one_owner\", \"unsolicited_service\", \"contact\", \"inspection\", \"show_contact\", \"link\", \"google_alert\", \"unsubscribe\", \"irrelevant\", \"send_feedback\", \"happens_update\", \"flag\", \"door\", \"vehicle_sale\", \"mile\", \"receive\", \"truck\", \"subscribe\", \"alert\", \"maintenance\", \"forum\", \"car\", \"recall\", \"email\", \"trade\", \"leave\", \"vehicle\", \"new\", \"percent\", \"year\", \"also\", \"time\", \"post\", \"soul\", \"cx\", \"choice\", \"small_car\", \"class\", \"deal\", \"space\", \"two_tone\", \"drive_away\", \"mazda\", \"especially\", \"standout\", \"buyer\", \"crowd\", \"benefit\", \"good\", \"strength\", \"quality\", \"corolla\", \"wildcard\", \"slash\", \"sensible\", \"boxy\", \"tiddler\", \"reflect\", \"gutsy\", \"stablemate\", \"suburb\", \"quiet\", \"personality\", \"kia\", \"paint_job\", \"stand\", \"price\", \"solid\", \"hit\", \"auto\", \"even\", \"look\", \"real\", \"big\", \"car\", \"also\", \"still\", \"well\", \"want\", \"drive\", \"take\", \"unit\", \"new_vehicle\", \"vehicle_registration\", \"units_followed\", \"suv_registration\", \"exist\", \"registration\", \"corolla_begin\", \"new_sale\", \"somewhat\", \"low_cost\", \"holden\", \"second_bestselle\", \"sales_remain\", \"key_driver\", \"bestselling_vehicle\", \"market_leader\", \"january_commercial\", \"small_passenger\", \"segment_accounte\", \"strongest_ever\", \"suv_compact\", \"expectations_make\", \"suv_medium\", \"overall_market\", \"january_registration\", \"units_followe\", \"model_table\", \"ford_ranger\", \"continued_elevated\", \"per_cent\", \"toyota\", \"last_month\", \"month\", \"model\", \"change\", \"back\", \"continue\", \"leader\", \"passenger\", \"start\", \"trend\", \"also\", \"corolla\", \"growth\", \"market\", \"top\", \"officer\", \"market_share\", \"remain\", \"top_selle\", \"sales_weapon\", \"https\", \"xmirlv\", \"toyota_secret\", \"syndicate\", \"autozone\", \"duralast\", \"web\", \"alternator\", \"warning\", \"gallery\", \"grill\", \"obo\", \"receipt\", \"cyl\", \"nice\", \"contact_info\", \"hale\", \"cloth\", \"autoblog\", \"rvixe\", \"earning\", \"passat\", \"civic\", \"paperwork\", \"leaf\", \"mixed_january\", \"camry_shine\", \"shine\", \"door_lock\", \"mileage\", \"camry\", \"wordpress\", \"transmission_automatic\", \"new_tire\", \"text\", \"offers_post_id\", \"unsolicited_service\", \"one_owner\", \"contact\", \"inspection\", \"show_contact\", \"flag\", \"unsubscribe\", \"irrelevant\", \"send_feedback\", \"happens_update\", \"link\", \"google_alert\", \"vehicle_sale\", \"door\", \"mile\", \"receive\", \"truck\", \"maintenance\", \"alert\", \"forum\", \"recall\", \"email\", \"trade\", \"vehicle\", \"car\", \"new\", \"leave\", \"com\", \"percent\", \"year\", \"post\", \"time\", \"export\", \"meeting\", \"increase\", \"parity\", \"olive\", \"sector_billion\", \"tim_chairman\", \"highest_increase\", \"turkish\", \"yesterday\", \"buyukeksi_emphasize\", \"sakarya\", \"country\", \"affect\", \"leather\", \"sector\", \"reach\", \"statement\", \"governor\", \"export_market\", \"chemical\", \"apparel\", \"exports_positively\", \"chair\", \"exchange_rate\", \"buyukeksi_said\", \"surpass\", \"hit_billion\", \"attend\", \"accessory\", \"experience\", \"system\", \"percent_respectively\", \"term\", \"month\", \"announce\", \"follow\", \"percent\", \"top\", \"oil\", \"say\", \"record\", \"year\", \"also\", \"sales_weapon\", \"toyota_secret\", \"xmirlv\", \"https\", \"syndicate\", \"autozone\", \"gallery\", \"web\", \"alternator\", \"warning\", \"duralast\", \"obo\", \"grill\", \"receipt\", \"civic\", \"leaf\", \"passat\", \"paperwork\", \"nice\", \"cloth\", \"cyl\", \"hale\", \"contact_info\", \"rvixe\", \"autoblog\", \"earning\", \"mixed_january\", \"camry_shine\", \"door_lock\", \"shine\", \"mileage\", \"camry\", \"wordpress\", \"transmission_automatic\", \"new_tire\", \"text\", \"unsolicited_service\", \"offers_post_id\", \"contact\", \"one_owner\", \"inspection\", \"show_contact\", \"link\", \"flag\", \"happens_update\", \"send_feedback\", \"unsubscribe\", \"google_alert\", \"irrelevant\", \"door\", \"vehicle_sale\", \"mile\", \"receive\", \"truck\", \"maintenance\", \"alert\", \"forum\", \"email\", \"trade\", \"recall\", \"vehicle\", \"car\", \"percent\", \"new\", \"leave\", \"post\", \"prius\", \"ball\", \"player\", \"amendment\", \"law_amendment\", \"law\", \"rationale\", \"team\", \"rugby\", \"scrum\", \"scrum_law\", \"foot\", \"referee\", \"sanzaar\", \"possession\", \"throw\", \"feed\", \"trial\", \"season\", \"play\", \"tackle\", \"allow\", \"promote\", \"consistent\", \"global_law\", \"may_use\", \"tackle_ruck\", \"tackler\", \"southern_hemisphere\", \"arrive\", \"gate\", \"simple\", \"hook\", \"see\", \"make\", \"clean\", \"hand\", \"pick\", \"line\", \"use\", \"suspect\", \"residence\", \"victim\", \"crime\", \"suspect_jose\", \"sapd\", \"assault\", \"multiple_count\", \"considered_armed\", \"warrant\", \"suspect_trujillo\", \"license_aiy\", \"arrest\", \"dangerous\", \"homicide\", \"rifle\", \"multiple\", \"type\", \"information\", \"execute\", \"trauma\", \"shooting\", \"outstanding\", \"stopper\", \"search\", \"count\", \"altercation\", \"investigation\", \"retrieve\", \"jail\", \"charge\", \"message\", \"contact\", \"vehicle\", \"condition\", \"black\", \"incident\", \"respond\", \"leave\", \"occur\", \"base\", \"original\", \"call\", \"margin\", \"operating_margin\", \"steel\", \"shanks_said\", \"automotive_operate\", \"key_commoditie\", \"guy\", \"damn\", \"impact\", \"rising_commodity\", \"real_issue\", \"wait\", \"leave\", \"day\", \"talk\", \"maybe\", \"profit\", \"hit\", \"owns_share\", \"fool\", \"usually\", \"sustainable_automotive\", \"cost_cut\", \"aluminum\", \"fiscal\", \"quarter_earning\", \"fitness_improvement\", \"key_indicator\", \"rising_cost\", \"ford_core\", \"call\", \"price\", \"still\", \"improvement\", \"part\", \"go\", \"see\", \"car\", \"concern\", \"well\", \"general_motor\", \"expect\", \"get\", \"time\", \"work\", \"year\", \"say\", \"know\", \"tour\", \"museum\", \"factory\", \"culture\", \"learn\", \"machinery\", \"japanese\", \"industrial\", \"doll\", \"robot\", \"spice\", \"robotic\", \"city\", \"perform\", \"string\", \"vinegar\", \"jonamagashi\", \"importantly\", \"food\", \"festival\", \"weaving\", \"guest\", \"sauce\", \"wood\", \"process\", \"life\", \"ever\", \"simple\", \"favorite\", \"modern\", \"change\", \"production\", \"make\", \"today\", \"use\", \"different\", \"watch\", \"play\", \"big\", \"hand\", \"company\", \"world\", \"even\", \"car\", \"new\", \"also\", \"see\", \"work\", \"sales_weapon\", \"toyota_secret\", \"xmirlv\", \"https\", \"syndicate\", \"autozone\", \"duralast\", \"gallery\", \"web\", \"warning\", \"alternator\", \"grill\", \"obo\", \"receipt\", \"cloth\", \"leaf\", \"nice\", \"cyl\", \"hale\", \"contact_info\", \"paperwork\", \"civic\", \"passat\", \"earning\", \"autoblog\", \"rvixe\", \"camry_shine\", \"mixed_january\", \"shine\", \"door_lock\", \"mileage\", \"camry\", \"transmission_automatic\", \"new_tire\", \"wordpress\", \"text\", \"unsolicited_service\", \"offers_post_id\", \"contact\", \"one_owner\", \"inspection\", \"show_contact\", \"happens_update\", \"send_feedback\", \"google_alert\", \"irrelevant\", \"flag\", \"link\", \"unsubscribe\", \"vehicle_sale\", \"door\", \"mile\", \"receive\", \"truck\", \"maintenance\", \"alert\", \"forum\", \"email\", \"recall\", \"trade\", \"car\", \"vehicle\", \"percent\", \"leave\", \"prius\", \"new\", \"post\", \"year\", \"time\", \"air_bag\", \"brake\", \"sensor\", \"cost\", \"side\", \"interior\", \"touchscreen\", \"airbag\", \"could_stop\", \"seat\", \"recall\", \"replace\", \"snowmobile\", \"offers_post_id\", \"unsolicited_service\", \"inch\", \"ride\", \"quite\", \"road\", \"safety\", \"system\", \"rear\", \"late_march\", \"inspect_serial\", \"sle\", \"premium\", \"contact\", \"inflate\", \"citroen\", \"diamond\", \"car\", \"prius\", \"drive\", \"model\", \"front\", \"engine\", \"include\", \"get\", \"make\", \"new\", \"take\", \"start\", \"yen\", \"per_barrel\", \"rising_bond\", \"rise\", \"cent\", \"latest_earning\", \"investors_evaluate\", \"asian_share\", \"year_treasury\", \"yield\", \"worry\", \"barrel\", \"interest_rate\", \"stoking_investor\", \"prospect\", \"higher_rates_could_weigh\", \"hover\", \"stronger_economic\", \"risen_swiftly\", \"company_earning\", \"new_york\", \"google_parent\", \"price_international\", \"london_currencie\", \"benchmark_crude\", \"electronic_trade\", \"plate\", \"sentiment_keepe\", \"digesting_full\", \"economy_yield\", \"percent\", \"gain\", \"benchmark\", \"fuel\", \"report\", \"low\", \"note\", \"growth\", \"concern\", \"sales_weapon\", \"autozone\", \"syndicate\", \"https\", \"xmirlv\", \"toyota_secret\", \"gallery\", \"web\", \"alternator\", \"duralast\", \"warning\", \"obo\", \"grill\", \"receipt\", \"autoblog\", \"earning\", \"rvixe\", \"mixed_january\", \"camry_shine\", \"nice\", \"hale\", \"cloth\", \"cyl\", \"contact_info\", \"passat\", \"civic\", \"paperwork\", \"leaf\", \"shine\", \"door_lock\", \"mileage\", \"camry\", \"transmission_automatic\", \"new_tire\", \"wordpress\", \"text\", \"permalink\", \"offers_post_id\", \"unsolicited_service\", \"contact\", \"one_owner\", \"coupon\", \"prize\", \"google_alert\", \"send_feedback\", \"irrelevant\", \"flag\", \"happens_update\", \"receive\", \"inspection\", \"alert\", \"unsubscribe\", \"link\", \"esso\", \"grade\", \"esso_smile\", \"mile\", \"door\", \"truck\", \"vehicle_sale\", \"com\", \"forum\", \"customer\", \"recall\", \"vehicle\", \"fuel\", \"car\", \"email\", \"new\", \"percent\", \"prius\", \"air_bag\", \"sale\", \"month\", \"automaker\", \"game\", \"increase\", \"fiat_chrysler\", \"drop\", \"record\", \"january_sale\", \"commercial\", \"target\", \"post\", \"brand\", \"percent_automobile\", \"delivery\", \"version\", \"strong\", \"average\", \"sell\", \"achieve\", \"crossover\", \"ad\", \"meanwhile\", \"second\", \"year\", \"demand\", \"vehicle\", \"volume\", \"alliance\", \"plan\", \"launch\", \"see\", \"say\", \"decline\", \"per_cent\", \"unit\", \"percent\", \"come\", \"market\", \"grow\", \"number\", \"new\", \"industry\", \"big\", \"show\", \"good\", \"also\", \"car\", \"company\", \"include\", \"report\", \"time\", \"sales_weapon\", \"https\", \"xmirlv\", \"syndicate\", \"toyota_secret\", \"autozone\", \"warning\", \"web\", \"gallery\", \"alternator\", \"duralast\", \"camry_shine\", \"mixed_january\", \"autoblog\", \"rvixe\", \"earning\", \"receipt\", \"obo\", \"grill\", \"cloth\", \"contact_info\", \"nice\", \"cyl\", \"civic\", \"hale\", \"passat\", \"leaf\", \"paperwork\", \"door_lock\", \"shine\", \"another_per\", \"slipped_per\", \"poised\", \"shed_per\", \"britain_ftse\", \"dipped_per\", \"mileage\", \"man_studie\", \"tweet\", \"australia_asx\", \"modify\", \"open_lower\", \"third_annual\", \"score_european\", \"coming_week\", \"singapore_said\", \"rising_sale\", \"remains_much\", \"wall_street\", \"triple\", \"world_stock\", \"market_strategist\", \"expected_market\", \"ig\", \"tax_cut\", \"commentary_earning\", \"index_due\", \"charge\", \"one_time\", \"equity_market\", \"per_cent\", \"row\", \"email\", \"cent\", \"loss\", \"early_trade\", \"post\", \"contact\", \"offers_post_id\", \"unsolicited_service\", \"boost\", \"report\", \"latest_earning\", \"company\", \"sale\", \"reviews_price\", \"review\", \"car_release\", \"release_date\", \"specs_reviews\", \"model_release\", \"design_spec\", \"north_american\", \"get_full\", \"autoblog_bring\", \"car_new\", \"date_performance\", \"car_picture\", \"compare_car\", \"loan_payment\", \"car_book\", \"dealers_calculate\", \"information\", \"date\", \"find\", \"personal_finance\", \"car_hacker\", \"chevy_el\", \"handbook\", \"chevrolet\", \"dead_volkswagen\", \"existing_subscription\", \"inevitable\", \"new_car\", \"scirocco_jalopnik\", \"wikipedia\", \"subscribe\", \"research\", \"car\", \"link\", \"new\", \"market\", \"click\", \"friend\", \"engine\", \"value\", \"price\", \"time\", \"toyota\", \"canadian\", \"tmmc\", \"lexus_rx\", \"facility\", \"quality_dependability\", \"seven_million\", \"net_exporter\", \"number_one\", \"vancouver\", \"canadian_customer\", \"primary_suppli\", \"cambridge\", \"build\", \"toyota_motor\", \"toyota_rav\", \"reliability\", \"archive\", \"distributor\", \"tci\", \"dedicated\", \"toyota_vehicle\", \"proud\", \"en\", \"inc_tci\", \"exclusive\", \"versatile\", \"woodstock\", \"passion\", \"safety\", \"operate\", \"vehicle\", \"service\", \"support\", \"receive\", \"country\", \"artists_victory\", \"ledisi\", \"boyd\", \"make\", \"lead\", \"today\", \"part\", \"sell\", \"year\", \"community\", \"sales_weapon\", \"https\", \"toyota_secret\", \"syndicate\", \"xmirlv\", \"autozone\", \"duralast\", \"warning\", \"alternator\", \"web\", \"gallery\", \"obo\", \"grill\", \"mixed_january\", \"camry_shine\", \"receipt\", \"rvixe\", \"autoblog\", \"earning\", \"contact_info\", \"cloth\", \"hale\", \"nice\", \"cyl\", \"passat\", \"civic\", \"paperwork\", \"leaf\", \"shine\", \"door_lock\", \"mileage\", \"camry\", \"transmission_automatic\", \"new_tire\", \"text\", \"wordpress\", \"offers_post_id\", \"unsolicited_service\", \"one_owner\", \"contact\", \"inspection\", \"irrelevant\", \"show_contact\", \"unsubscribe\", \"google_alert\", \"send_feedback\", \"happens_update\", \"flag\", \"vehicle_sale\", \"link\", \"mile\", \"door\", \"receive\", \"truck\", \"alert\", \"forum\", \"maintenance\", \"recall\", \"email\", \"vehicle\", \"see\", \"trade\", \"com\", \"new\", \"car\", \"line\", \"percent\", \"year\", \"time\", \"say\", \"state\", \"alabama\", \"hma\", \"workforce\", \"need\", \"job\", \"training\", \"work\", \"program\", \"education\", \"future\", \"think\", \"fill\", \"win\", \"company\", \"supplier\", \"opportunity\", \"challenge\", \"provide\", \"pay\", \"store\", \"development\", \"want\", \"school\", \"alonso\", \"land\", \"director\", \"driver\", \"ntcar\", \"technology\", \"time\", \"get\", \"say\", \"industry\", \"also\", \"new\", \"vehicle\", \"car\", \"make\", \"include\", \"take\", \"continue\", \"world\", \"come\", \"year\", \"low\"], \"Freq\": [100.0, 27.0, 11.0, 28.0, 22.0, 24.0, 23.0, 23.0, 24.0, 22.0, 19.0, 13.0, 10.0, 28.0, 17.0, 25.0, 18.0, 16.0, 37.0, 16.0, 23.0, 15.0, 15.0, 16.0, 14.0, 15.0, 4.0, 14.0, 14.0, 14.0, 0.028249256015797537, 0.026581678538820958, 0.026581400199187536, 0.026580336544159824, 0.02658035642556221, 0.02785794279848743, 0.026398908806675735, 0.02639842171231725, 0.026398501237926798, 0.026396895814684036, 0.026397069776954923, 0.026319112313019543, 0.026317529256354465, 0.02636398215303208, 0.026259107755439777, 0.026258277706890112, 0.02625779806805752, 0.026257604224384248, 0.026257415351061568, 0.02616851814546265, 0.02616821246890095, 0.026168063358383044, 0.02631234766585731, 0.02631053597306478, 0.02631028745553494, 0.026309874916435407, 0.02734065356012634, 0.027339806115349585, 0.02618884936457883, 0.026188774809319876, 0.027436198609648466, 0.027164715574876406, 0.026572791551953894, 0.028779217163005147, 0.0288274693265988, 0.029039713237783, 0.03644603017688693, 0.027009645606607104, 0.036092357424646324, 0.03695022999695137, 0.028177700363430827, 0.026835566532480374, 0.03107495997428075, 0.02697542971309879, 0.02697361802030626, 0.026973473880138953, 0.026972559335629143, 0.02697174419813127, 0.026970665632051766, 0.027815687362888804, 0.027225048175595564, 0.028178125328406852, 0.03007252475486802, 0.029592093151357437, 0.027015841148626006, 0.027558113854261868, 0.027149078851898902, 0.02732858057852673, 0.030063128307064785, 0.027495211582284174, 0.027456537284290535, 0.027376213933471085, 0.0273761940520687, 0.028705047106224527, 0.028403252388337935, 0.02816480478880745, 0.027734029472934116, 0.027476607560000383, 0.027465235397834922, 0.02739830217152323, 0.909732328503744, 0.4514381794416158, 0.35807848486602467, 0.3580353365339043, 0.36727900592176044, 0.35897119382225373, 0.3574504532000349, 0.2664009525592182, 0.26639393820811375, 0.2673849030225031, 0.26622055736762834, 0.2663803856759537, 0.2831487322610247, 0.2665263317959313, 0.2661318615389106, 0.7736999956865944, 0.26746795806756507, 0.2695207271482291, 0.2690873757752952, 0.17503406626659923, 0.17503181361598344, 0.17503045836276743, 0.17502956096536765, 0.17503058656239595, 0.17502798594135985, 0.17502895659569023, 0.17502685045893562, 0.17502434140906276, 0.17502337075473237, 0.17502412163827097, 0.2666200457243948, 0.18689483949995692, 0.26696710043308797, 0.37408897018985915, 0.2666127383455679, 0.2725130896207029, 0.26670854009655337, 0.3602181732948395, 0.3549893866167004, 0.18349293415699253, 0.36059035513072674, 0.5650930839546046, 0.4567413219043088, 0.2763008941598084, 0.27313870380798305, 0.2679081223350443, 0.2677630003555359, 0.2666329389441795, 3.116418301044655, 0.921602494826019, 0.6162398296608298, 0.615642907190296, 0.5258766650374833, 0.5039028882347518, 0.43668277346444306, 0.34686913227974775, 0.34684085279600185, 0.34683794487993547, 0.34683910804636203, 0.34684575990436395, 0.34682627686671896, 0.3468189707276021, 0.34680512177733575, 0.346809774443042, 0.3468151904367157, 0.34680726636543474, 0.3468038495640567, 0.34680592145425404, 0.34680446749622085, 0.34679981483051453, 0.34679719770605477, 0.34679719770605477, 0.3467921452018894, 0.3467943261389392, 0.34679861531513717, 0.34678709269772395, 0.34677142629991614, 0.34677538833555666, 1.2296940211258356, 0.5940029228030383, 0.4345971070147564, 0.6138425436556757, 0.39630061574801384, 0.3641964226978534, 0.37537496094247147, 0.36814555446080166, 0.3556812447784666, 0.35463457673931065, 0.36299098244147115, 0.3507320079823759, 0.35442855088600506, 0.3490715879084519, 0.35300523501834646, 0.34938255318280437, 0.34784466542212894, 0.347647908551285, 0.3472224440818174, 0.3470783204917756, 0.34702972194451565, 0.028286890038715637, 0.026597921075698003, 0.026597625558279606, 0.026597081706896175, 0.02659711399031163, 0.027837800413000952, 0.026388386809357393, 0.026387562340593466, 0.02638687197217066, 0.026386782571943244, 0.026385928303103514, 0.02630562703216877, 0.026305145264276596, 0.02636215529263041, 0.026251457944374994, 0.02625126424388226, 0.02625097617648282, 0.02625073032585743, 0.026250248557965258, 0.026182329218527315, 0.02618028046331575, 0.026180503963884286, 0.026312495949641725, 0.026312381716017807, 0.02631240406607466, 0.02631168886425535, 0.027370867991898272, 0.027369263754484126, 0.026189086385716005, 0.02618848293418096, 0.0274260055821557, 0.027147883958011196, 0.026550069603974796, 0.02873223478823755, 0.028827880614872, 0.029051438300218318, 0.03595756116781626, 0.03593653721433613, 0.026958643543293505, 0.03692201082115572, 0.028118601560628217, 0.02680743795866106, 0.026963513372347904, 0.02696114426632144, 0.026959182427997636, 0.02695918739467694, 0.026957600540640343, 0.0303894070703717, 0.026956192487058578, 0.02724595600748407, 0.02776915842172475, 0.02815230296302355, 0.029409583061256725, 0.02903480240790041, 0.027124016580631377, 0.02743997685102875, 0.02731307571155459, 0.027379673914298526, 0.02744157115508429, 0.02736537981127093, 0.028557422576888578, 0.028070039853765005, 0.027641479996940024, 0.027153161054768258, 0.027125109250077543, 0.02792995466408697, 0.027523441896678078, 0.02721185478740503, 0.027194670077024388, 1.2517340315781083, 0.26683585851357294, 0.8298185078689129, 0.19793231218638577, 0.1979340001149054, 0.19793326332071032, 0.19793205765748204, 0.19793373218974356, 0.19792972670857398, 0.19792612311514718, 0.1979303563327043, 0.19791555346751244, 0.33090488284289693, 0.19909729097885812, 0.20483196114296887, 0.267191529165921, 0.21015357108506458, 0.19578203861123183, 0.12944354080224946, 0.12944323268831331, 0.12944214759140785, 0.12944058022921107, 0.1294407275880501, 0.12943976305746743, 0.1294393075846923, 0.12944007117140358, 0.12943918701836948, 0.12943918701836948, 0.12943756607114032, 0.12943727135346228, 0.19487342400986998, 0.21249064208305624, 0.1950452578124187, 0.19184656628645264, 0.32752222050455065, 0.1972552251136315, 0.2464183536300828, 0.5103837691297229, 0.18372847407135123, 0.1370558572930797, 0.24941233693614187, 0.17123188188010335, 0.22343016040373104, 0.17437172364427034, 0.028308747126211595, 0.026611109966018894, 0.026609756132912894, 0.026609646832625438, 0.02660875752574113, 0.027839419144164882, 0.026393540291544018, 0.026392643532367387, 0.026392370281648744, 0.02639230817921269, 0.0263920498330787, 0.026353687916278845, 0.02635283835495361, 0.0263868928467887, 0.026362081681536028, 0.02636149295044223, 0.02636133396820593, 0.02636050924785512, 0.02627756026606526, 0.02627733669729546, 0.02627610458496413, 0.026276131910035992, 0.026275453751434273, 0.02618676898865038, 0.026185688406263022, 0.026185467321590668, 0.027366499157216752, 0.02736579615764061, 0.026219929205406275, 0.02621922123763525, 0.027492564618310837, 0.02720486390484784, 0.02656486103984006, 0.02881850131003263, 0.02891729634940627, 0.02919032101518076, 0.03742791106617537, 0.037057475003302545, 0.03801677878533552, 0.026993636131142897, 0.028193075128815664, 0.026839363743592658, 0.030780250194377218, 0.026968429994396918, 0.026966825267449257, 0.026966800426474837, 0.026966564437217826, 0.026966085006411483, 0.026965208120014388, 0.02787999687588318, 0.02726693404763603, 0.028238904242526768, 0.02928331568702687, 0.02932755994656985, 0.027175809901163896, 0.027492214360571487, 0.027336444062263602, 0.027461826396561084, 0.027465728913642774, 0.027320600488777266, 0.028708281906522325, 0.02845094680019275, 0.028326384218051198, 0.027662966250553263, 0.02719152678568068, 0.02726714768001606, 0.027202871658699196, 1.6805791063094087, 1.3452256229249686, 0.7781708592416878, 0.6654505653518676, 0.6654137495564889, 0.665423968562889, 1.1286348771700059, 0.5527154447786544, 0.5526895322981401, 0.5526743406502329, 0.5546956053714805, 0.5537183216433497, 0.4400282714185057, 0.4400197859935485, 0.4413483936872445, 0.49950863685774455, 0.44007827155696294, 0.5625860469292275, 0.7811681303152663, 0.44197266548893166, 0.44165323029780235, 0.5576334784703588, 0.32741915484385, 0.32741313292936425, 0.32741345227331425, 0.3274054914848464, 0.3274087989757571, 0.3274033245080428, 0.32740925518139996, 0.32740177340885707, 0.4400662733485558, 0.3461304064753972, 0.8417651046859649, 0.5621458084838693, 0.36504936853613784, 0.35721193807409096, 0.34936501853467267, 0.35611651989474197, 0.3692868802703906, 0.32262502928757, 0.2676584319519928, 0.21279411344554858, 0.21277299497498536, 0.2127569935916291, 0.15802070712370378, 0.15802127335876356, 0.15801593606903333, 0.15801578926735116, 0.1580124128286613, 0.15801480359891376, 0.15801307343623106, 0.15801055683596535, 0.1580080926648718, 0.15800475816951973, 0.15799757537292797, 0.15793975648182287, 0.1600914287373508, 0.16279498094531825, 0.10356961438089198, 0.10356657348890422, 0.1035666468897453, 0.10356645814472537, 0.1035662064846988, 0.10356615405552659, 0.10356632182887764, 0.10356571365048009, 0.1035639834877974, 0.10356447632201611, 0.1035637003702675, 0.16447190704655115, 0.10986411399386008, 0.1627859316701961, 0.22268651257175143, 0.11413905237941652, 0.11150015582660937, 0.10568743836284586, 0.1055981409967503, 0.1147256614155231, 0.10966960176498824, 0.11027844077010875, 0.1120363804282292, 0.11222315411128392, 1.2687256356084873, 0.9802994618590275, 0.6958471537271773, 0.6958433217071273, 0.6958055489380626, 0.6957107824739678, 0.6931224049944515, 0.6929185780232183, 0.8476651581069353, 0.5536837109734997, 0.553660353898909, 0.5528234528851226, 0.8253648694899981, 0.7024318415131677, 0.5532551938107607, 0.551629991529537, 0.9861648247384813, 0.7154236668228301, 0.4118687083286582, 0.41184474299691665, 0.4116781413633124, 0.4116637256688384, 0.4116629045216848, 0.4116666757160198, 0.4116602281902213, 0.41165861630877165, 0.41166050190593917, 0.4116613534659503, 0.4116532332329871, 0.41166165759452567, 0.8422742358051059, 0.8699037086230663, 0.8791195343662743, 0.6987432484992836, 0.9154938594155781, 1.3049027028637865, 1.1708945286851813, 1.1681382722320441, 0.9822289143670817, 0.7148239252721408, 0.5683470269335616, 0.8422155998157687, 0.7000983237798368, 0.7341901638707619, 0.7178336424800166, 0.7056712974469009, 0.6720729363824204, 0.5772438218011748, 2.313955554759297, 2.3139754909569312, 2.319328069688684, 1.677273147119983, 1.4062093778797893, 1.2560600021770028, 1.690046249588553, 1.4663954036496072, 1.041185631746961, 1.0411865995235452, 1.0411517595665147, 1.0417785884600848, 0.9595436119953589, 0.993774063332931, 0.9935344418506893, 0.8291512017031796, 0.82914016905012, 0.8291531372563479, 0.8291139423046888, 0.8291088130887927, 0.8290952642166143, 0.829094973883639, 0.8290987482123173, 0.8290798765689259, 0.8290887801135003, 0.8290716504679604, 1.0465141128417679, 0.830459732422642, 0.6997778601541361, 0.8341898337110262, 1.0044305416342525, 1.492066838876739, 2.6153726687855428, 1.2377811219434052, 1.3528067885214266, 1.0482179802958655, 1.05046631885622, 1.0468715127343036, 1.1988340178675414, 0.9502986358420558, 1.71020929405388, 1.495000072925714, 1.0634940433440863, 1.3441273810039152, 1.2447640171088585, 1.1386841869419717, 1.10982847641993, 1.067310083193145, 0.02828780835220533, 0.026598426883249843, 0.026598287796170593, 0.026597207387608554, 0.02659689444168024, 0.027855490938123735, 0.026398419663287057, 0.02639820358157465, 0.02639761742888352, 0.026397632331070585, 0.026396847482551954, 0.026331136288699437, 0.026329022661834393, 0.02636733121737664, 0.026263937359838507, 0.02634276496200395, 0.026263388462615035, 0.026262933945909624, 0.026262914076326874, 0.026262606097794246, 0.02634171684151388, 0.026341475922823036, 0.026341239971527878, 0.02619085455078569, 0.026190335457936344, 0.026190104474036874, 0.02738999628824512, 0.027387122649839883, 0.026203223366047648, 0.026202719175385362, 0.027455305123046943, 0.027163895338735727, 0.028743402982478693, 0.028837746245074142, 0.02653813263439458, 0.029119735363463958, 0.03683756065729741, 0.03672153471252588, 0.03714626939709045, 0.02697149071787271, 0.028140035781594783, 0.026806682463751775, 0.02697341061630594, 0.026971895560621243, 0.026971277119858146, 0.026971103261009082, 0.0269705195920158, 0.030585656053717974, 0.026968388579265846, 0.02726759965850433, 0.02782646892881933, 0.02815338814120287, 0.029470200031406397, 0.028965338770704088, 0.027129036639498474, 0.02747368697078866, 0.027332016845780245, 0.027485886894597234, 0.027409687044750497, 0.02743313563609349, 0.028276991848095727, 0.028278104544729735, 0.029078987816639132, 0.027187095560294347, 0.02717928929797139, 0.02743002853009094, 0.027247889032416206, 0.02721714085311038, 0.027203306656120606, 2.5413091429130814, 2.541176752278173, 2.002794120458097, 2.144998769004829, 2.41820742170898, 1.6607952690632692, 1.491617888072973, 1.5674286332131246, 1.5302505414061647, 1.5460872132813774, 1.5756261919083445, 1.5655203734436673, 1.3723304551049507, 2.29168536118054, 2.29293761791635, 1.4993508399333269, 1.4589822329940885, 1.2429381953624001, 1.9518053797505903, 1.2416925085738282, 1.6487971818327891, 1.6749931729670497, 1.2195686451144199, 1.219176555621709, 1.1373586474032211, 1.2428728677738263, 2.233086142346097, 1.0834504948579537, 0.9874563139770633, 0.9873620414322619, 6.028822087037945, 1.5628040101639402, 2.4468209055042744, 2.5215432707057595, 1.860096849829786, 1.52693928799823, 2.117790758073385, 2.0163397401662895, 2.2674397766470746, 2.191202108897724, 1.5393819003380562, 1.501435248665523, 20.979131073749933, 20.97893422549328, 17.573354301024903, 21.556063712752138, 24.96699554170209, 15.62177404347037, 14.696446631313501, 14.271510447687396, 13.801490093039913, 13.799642975563971, 16.147175361030364, 12.843694559032283, 12.370192358341408, 12.367671072587989, 12.367242594615805, 12.36806402907025, 12.365324434160017, 12.364668026627502, 12.36536365580514, 12.3642632296486, 14.28763868417405, 11.429504121886406, 11.409077785119194, 11.408613045626048, 11.407500038941826, 11.40574246522173, 11.392887386025178, 11.38843017907101, 11.386181224740326, 10.933644103413812, 70.9650871367858, 19.752457101840044, 12.381806405483811, 13.14630065161545, 16.94395346128379, 16.212848675647763, 12.411839085181795, 13.90015547148442, 12.424239045288722, 0.028341142808796186, 0.028265830382749175, 0.026635880436732404, 0.02663547227976893, 0.02663530802147875, 0.026633802320485445, 0.02659586612174004, 0.02659562471182872, 0.026595039852765203, 0.02659482830799755, 0.026594701381136954, 0.02635041446097336, 0.026349503574091458, 0.0263964018046995, 0.026238676514698196, 0.026238975166134885, 0.026237536661714835, 0.02746541466727937, 0.027464745190308792, 0.02628225971435899, 0.026282346821028025, 0.02628202079320964, 0.02628171218672506, 0.026281072574898152, 0.02635933916140641, 0.026358161976993463, 0.02635825157242447, 0.026357918078320167, 0.026226100800451624, 0.026226133154357265, 0.027477736527804757, 0.02719381607323058, 0.02884047307836812, 0.028895151178901905, 0.026591351507522096, 0.02921232895971336, 0.02764338105840226, 0.036963874285450095, 0.03680222172905633, 0.0376147900692374, 0.027023963046137738, 0.028948243938059264, 0.028933831517477054, 0.027225283979609695, 0.02722492559788567, 0.027223482115941673, 0.02722370610451919, 0.027222730509826005, 0.03358407579663387, 0.02819310378039149, 0.028996252156507, 0.027222260133813223, 0.03081645302274246, 0.027532942245876692, 0.027525167353474895, 0.027513806155070854, 0.028268966222834407, 0.02786003525438622, 0.02958889108994842, 0.02736171542217508, 0.02814384371467164, 0.02768872879030149, 0.028411241278511006, 0.027810528801231096, 0.02989622332839703, 0.02908256491047205, 0.02892484210923272, 0.027670351771897236, 0.027942176843285517, 0.02775178655239637, 0.027605439882132914, 0.027568646025132846, 25.268172453191035, 10.509961079753737, 6.781426445371866, 5.4222072017336815, 7.016474151599765, 4.181394567385977, 3.7337286525292672, 4.63913440059173, 3.634210674316208, 4.954153419233395, 4.075215046976086, 5.925150767065016, 5.087660380772495, 2.908429815227912, 2.8945818340058347, 3.3111998280782022, 3.0324971087523016, 3.218844231119086, 5.484499332845492, 2.953490567644506, 3.1058227352275947, 2.653521325254969, 2.4545621896667593, 2.8684654829546825, 20.28557399999794, 2.9034657128267103, 12.980699660167359, 2.501032782158416, 2.8638674414145453, 3.2964972492073663, 4.174158099131775, 7.706724963079854, 13.532369507433698, 4.601679731279345, 9.362768442277341, 5.259869735126515, 26.835759334682955, 5.541967334043678, 5.653269519438354, 3.3872901845668975, 4.161411034330539, 5.519506123927875, 4.807214566562242, 3.815247043668027, 3.7346455816763995, 4.047297096914916, 4.762969591299806, 5.074806969686752, 4.720087160721122, 4.135417159206017, 4.260585369151247, 4.157211039551948, 0.027786547478424538, 0.026291980587090223, 0.02628985962063867, 0.02628938912455963, 0.026289067992315205, 0.027703384184707455, 0.02625006660569966, 0.026249337212307284, 0.02624865013866805, 0.026248787055516448, 0.026248632712887344, 0.027429448422624018, 0.027423595849704305, 0.026124635836183425, 0.0261240807005981, 0.026123809356298548, 0.02615624620238271, 0.02602429072269099, 0.026023494115573035, 0.025978211979711875, 0.02597822193730085, 0.02597765684412655, 0.02597744026656636, 0.026055684511330078, 0.025977554778839566, 0.026054280491284686, 0.026053775143644237, 0.026053655652576543, 0.025931573122352954, 0.02593125199010853, 0.03184700083306991, 0.03184660999770267, 0.03184358289065444, 0.031840274481717695, 0.03183474801983689, 0.031831394801749756, 0.027066840330723405, 0.02788126655414643, 0.027876215567139154, 0.027875702751306974, 0.027875115253557483, 0.03194544155767099, 0.03194109258068641, 0.031939018912782495, 0.031937861343064214, 0.03192753532329775, 0.03192738098066864, 0.031926945336151015, 0.03192615868662203, 0.03192037581682514, 0.03191810050774449, 0.03191310926627106, 0.03191285783714946, 0.0319115982021442, 0.03191064227360265, 0.031903699344690235, 0.031886368161080265, 0.03415688266264322, 0.0319138535960469, 0.03183973179311859, 0.055944239191898004, 0.03215653497573689, 0.032201174847109194, 0.057743391304179006, 0.035177074994030826, 0.03345347359869596, 0.03850477427002134, 0.03488228804063496, 0.0338793970200904, 0.03368451953566934, 0.03352202413059308, 0.033831712615889166, 0.03331401258631477, 0.032657324529835476, 0.03250335282092132, 0.6400378330597432, 0.5468530734006319, 0.4541075529453386, 0.36158089595629594, 0.3614348861607077, 0.36141825117622844, 0.3613875520685077, 0.36138849723808036, 0.3613456621530463, 0.36127912221512937, 0.36124732671070425, 0.36126067250507055, 0.36124354603241354, 0.36123866895741846, 0.3612310697940541, 0.3612120907890346, 0.3611931117840151, 0.4704149416506878, 0.3607555738854281, 0.45455132896310524, 0.26885322030253483, 0.26884318260167295, 0.26883322051437686, 0.26881768192660194, 0.26880335315588005, 0.2687486656444045, 0.2687476637646575, 0.2687368321213545, 0.2687368321213545, 0.26873225750062274, 0.2687367754111802, 0.2937575122765818, 0.36308564372279206, 0.7055564585432499, 0.34886999089535875, 0.38432541874658516, 0.362538768608037, 0.27563653219516615, 0.27084318032086413, 0.2790243980114953, 0.27420004457520925, 0.27936242845747006, 0.27997561666944465, 0.2763325928752737, 0.6591124591844932, 0.39095552261009303, 0.3273730837955833, 0.257433222792169, 0.19095092663943622, 0.19094805723689315, 0.19094113154257333, 0.19093763608856634, 0.19093461017315733, 0.19091985883553828, 0.19092008056209842, 0.19091414611592983, 0.4187198355311699, 0.18848385346113808, 0.18606314721938785, 0.19059971176816687, 0.12504642381696304, 0.1250427457646124, 0.12504078935378762, 0.12503990244754704, 0.12503831123340953, 0.1250392763960831, 0.12503949812264323, 0.12503855904544733, 0.1250379721221999, 0.1250356505146878, 0.12503630265162938, 0.12503425494163276, 0.1726997917813717, 0.12868117427467785, 0.6961013534864459, 0.1917065055427155, 0.18176149543971284, 0.21958872482283412, 0.18362405071588445, 0.1323772386476421, 0.13231334227010388, 0.13230808604635458, 0.2858906007693032, 0.18166336187274054, 0.16891384989511585, 0.1786313424619323, 0.1756261650076404, 0.17161796180894762, 0.1345438984224217, 0.028267338412604384, 0.026588910116295626, 0.02658841563287754, 0.026587762119616446, 0.026587205515165937, 0.027936365006378118, 0.026431965055140665, 0.02643189050990176, 0.026431599783470018, 0.026430220696550225, 0.026429244153920534, 0.026300273436086336, 0.026299480771712617, 0.027470531808443943, 0.02746590503394907, 0.026365145187825106, 0.02622575304559161, 0.026224508140101854, 0.026222761296670116, 0.026258910767857753, 0.026258376526978915, 0.026258528102298027, 0.026257576408081306, 0.02625696762196356, 0.026314389819494157, 0.02631441715274842, 0.0263144345466375, 0.02631359467027914, 0.026186621764847668, 0.026186373280717976, 0.027445221214993484, 0.0271379258614856, 0.028773570160343934, 0.028833395199408654, 0.029049946633594205, 0.02652421975797153, 0.03618256181918842, 0.0361827432126031, 0.02698334636924531, 0.0363813242745293, 0.02814579240056539, 0.027026505577731567, 0.026807044394387317, 0.02702461212866331, 0.027022184438716217, 0.02702176947021963, 0.02702064632195342, 0.027019021235745233, 0.027346155562167754, 0.030341457806717768, 0.02845976203779681, 0.02779454268935623, 0.02991330225736884, 0.029197128753293555, 0.027600362281366878, 0.027455446336930322, 0.02715913149711354, 0.027497840214297128, 0.027546796557529108, 0.029344149358308605, 0.028218049100638617, 0.027384484239172793, 0.02727866975738462, 0.028009029220424038, 0.02800448196085067, 0.027265395735176456, 0.027813415059006363, 0.02758159924473381, 0.027473280042918338, 0.027464021524246006, 9.017727673498042, 6.960624495215696, 5.690151468166001, 5.313582672679488, 6.79346187524059, 9.18037127656829, 4.077112408996232, 8.462859583523562, 4.634568314316708, 3.6606329031939064, 5.329086959156703, 4.49779445332083, 3.562952270977422, 3.5453112297061398, 13.929024264980356, 2.8435417076371676, 2.791876874535488, 5.407972613142138, 3.6740672002501245, 3.1697002807529744, 2.7699152724879617, 2.838244374710013, 3.5980266974383874, 2.5303024970663746, 2.3936621668166382, 2.3818617814100604, 2.7996497833822547, 3.2165464413383735, 2.3565151223766807, 4.549006123024186, 6.421916254082363, 5.303480598593426, 11.082414767307322, 5.759679455689533, 7.098960245372154, 6.073051934150669, 7.306280922970394, 6.0731696935488415, 5.344048711263767, 4.458048553591299, 4.1125374850937195, 3.822775240254522, 3.9451488091310507, 3.7197786123491183, 3.905504371740123, 3.8047575266225686], \"Total\": [100.0, 27.0, 11.0, 28.0, 22.0, 24.0, 23.0, 23.0, 24.0, 22.0, 19.0, 13.0, 10.0, 28.0, 17.0, 25.0, 18.0, 16.0, 37.0, 16.0, 23.0, 15.0, 15.0, 16.0, 14.0, 15.0, 4.0, 14.0, 14.0, 14.0, 2.682736490481039, 2.5829734790117422, 2.5829564706070878, 2.5829475759114846, 2.582957308787475, 2.7376799610233165, 2.6092026827903925, 2.6092257406108206, 2.6092379952668256, 2.609214007406809, 2.6092336570704484, 2.6071123886187375, 2.60710105868136, 2.617909117770259, 2.610695661724231, 2.6106977786221637, 2.610720427211306, 2.610707267549964, 2.610695077232553, 2.6041332898458887, 2.604145548425808, 2.6041918468554055, 2.618587496557523, 2.618560916072341, 2.6185529310553495, 2.618570009804958, 2.726677928195781, 2.726672401068896, 2.61560112267233, 2.615613472525559, 2.769648391396636, 2.773048898303599, 2.6811462893729354, 3.180878885686211, 3.2190214117716205, 3.3290694559850835, 6.311538708694955, 2.8155784726485753, 6.315328158592347, 6.928231737014595, 3.35707702396581, 2.8186330296594964, 5.30063208760629, 2.9116203966944365, 2.9115749671428603, 2.9115379088055766, 2.911645425362013, 2.911595806406302, 2.9116756646580306, 3.4905037722440055, 3.0978849562401796, 3.836149288437692, 6.26841803540586, 6.834330687901804, 3.085354174661031, 3.8569807462066668, 3.267963531577753, 3.6680857479797497, 22.24811780477152, 4.219998339225641, 4.457387674604798, 4.700169904946754, 4.748829507863194, 24.255307550292528, 16.85562837947276, 100.47860468742309, 37.87505080180025, 17.562680123913697, 14.327928274739152, 9.824888839401714, 3.3473779961351338, 3.2689783950926854, 2.7709196215974923, 2.7708472004313833, 2.984696463918241, 2.91733883954347, 3.5327960192777166, 2.674510897751778, 2.674526505060204, 2.8613370006812167, 2.8879262335819127, 2.9275316665412165, 3.2438262889237603, 3.0914480433828446, 3.490999579957342, 10.322876245254948, 3.7953650064048925, 3.8510804812827053, 3.8678390022007965, 2.578032744556308, 2.5780123660214604, 2.5780095793798314, 2.5780145602028743, 2.578033908748715, 2.578006288647831, 2.578035670213289, 2.578040417880104, 2.5780225657988267, 2.5780104702252156, 2.578024098413699, 3.9309811968010986, 2.7576745994193894, 4.011814386517917, 6.45023461491127, 4.3089442509787546, 4.659558851617784, 4.6713578985988224, 7.340164622496785, 7.490079187558431, 2.777546117488101, 8.428854329719599, 22.24811780477152, 17.562680123913697, 6.717383043490224, 8.860671139409234, 6.748001984346352, 9.571963613687117, 11.618295962290631, 11.217022684419492, 4.007640558419314, 3.036965494190251, 3.0367583322364466, 2.9441342203811107, 2.9508630018411646, 2.852275994722029, 2.7595898907108296, 2.759541093491984, 2.7595511651330047, 2.7595767387392973, 2.759634660521024, 2.759638037470619, 2.759606246764306, 2.75959249293016, 2.759634330100455, 2.759679859195654, 2.759644618946803, 2.759620643635165, 2.7596588779000166, 2.7596897437371952, 2.759672133251524, 2.759670300332428, 2.7596719408979205, 2.75963454205884, 2.7596844428803893, 2.759733547999653, 2.759675398212913, 2.759614720321607, 2.7596680493301684, 22.07757753856528, 6.871485698800426, 5.112127480501708, 13.715152091564526, 10.763603571742419, 4.746335759098775, 8.081485285748666, 10.561983422020322, 4.703916344046253, 4.654216515993907, 9.824007279786533, 4.774717118967818, 17.562680123913697, 3.8678390022007965, 20.319383804955187, 15.309050076480624, 6.670149067727371, 7.212915399643128, 3.165882306131344, 3.995882734596952, 3.27057450326962, 2.682736490481039, 2.5829475759114846, 2.582957308787475, 2.5829564706070878, 2.5829734790117422, 2.7376799610233165, 2.609214007406809, 2.6092336570704484, 2.6092257406108206, 2.6092379952668256, 2.6092026827903925, 2.60710105868136, 2.6071123886187375, 2.617909117770259, 2.6106977786221637, 2.610695661724231, 2.610707267549964, 2.610720427211306, 2.610695077232553, 2.604145548425808, 2.6041332898458887, 2.6041918468554055, 2.6185529310553495, 2.618570009804958, 2.618587496557523, 2.618560916072341, 2.726672401068896, 2.726677928195781, 2.61560112267233, 2.615613472525559, 2.769648391396636, 2.773048898303599, 2.6811462893729354, 3.180878885686211, 3.2190214117716205, 3.3290694559850835, 6.311538708694955, 6.315328158592347, 2.8155784726485753, 6.928231737014595, 3.35707702396581, 2.8186330296594964, 2.9116756646580306, 2.9115749671428603, 2.9115379088055766, 2.911645425362013, 2.911595806406302, 5.30063208760629, 2.9116203966944365, 3.0978849562401796, 3.4905037722440055, 3.836149288437692, 6.26841803540586, 6.834330687901804, 3.267963531577753, 3.8569807462066668, 3.6680857479797497, 4.219998339225641, 4.457387674604798, 4.700169904946754, 24.255307550292528, 22.24811780477152, 16.85562837947276, 4.748829507863194, 4.413877344923657, 100.47860468742309, 37.87505080180025, 9.824888839401714, 14.327928274739152, 4.420702928906583, 3.1200464763374125, 10.70141661130567, 2.635420538583637, 2.6354541982885022, 2.635447298637992, 2.635481356312149, 2.635509305138969, 2.6354568610707627, 2.635461506052424, 2.635526673904736, 2.635527089668344, 5.0489255555138675, 3.1199572244109324, 3.321827492177229, 4.345127517090992, 3.7792922993377047, 3.7092698035823433, 2.5622379622046605, 2.5622434128409854, 2.5622297534456093, 2.5622234745935746, 2.5622296160459035, 2.562240353546424, 2.562237556113544, 2.5622545077582646, 2.5622448354754983, 2.5622487911033724, 2.5622465915905837, 2.5622435162758217, 4.305034480429308, 4.878703873300914, 4.480229056026224, 4.955801494661096, 13.715152091564526, 5.535039731823499, 8.403103320928645, 100.47860468742309, 6.670149067727371, 3.063214646586655, 28.260918791996765, 7.314502327018528, 37.87505080180025, 17.562680123913697, 2.682736490481039, 2.5829564706070878, 2.582957308787475, 2.5829475759114846, 2.5829734790117422, 2.7376799610233165, 2.6092026827903925, 2.6092336570704484, 2.6092257406108206, 2.6092379952668256, 2.609214007406809, 2.6071123886187375, 2.60710105868136, 2.617909117770259, 2.618570009804958, 2.618560916072341, 2.6185529310553495, 2.618587496557523, 2.610695661724231, 2.610695077232553, 2.6106977786221637, 2.610720427211306, 2.610707267549964, 2.6041332898458887, 2.604145548425808, 2.6041918468554055, 2.726672401068896, 2.726677928195781, 2.615613472525559, 2.61560112267233, 2.769648391396636, 2.773048898303599, 2.6811462893729354, 3.180878885686211, 3.2190214117716205, 3.3290694559850835, 6.315328158592347, 6.311538708694955, 6.928231737014595, 2.8155784726485753, 3.35707702396581, 2.8186330296594964, 5.30063208760629, 2.9116756646580306, 2.911595806406302, 2.911645425362013, 2.9115749671428603, 2.9116203966944365, 2.9115379088055766, 3.4905037722440055, 3.0978849562401796, 3.836149288437692, 6.26841803540586, 6.834330687901804, 3.267963531577753, 3.8569807462066668, 3.6680857479797497, 4.457387674604798, 4.700169904946754, 4.219998339225641, 24.255307550292528, 22.24811780477152, 100.47860468742309, 16.85562837947276, 4.748829507863194, 9.824888839401714, 5.423030674387264, 4.075543351946901, 4.563934100343447, 3.164285869643778, 3.0502811206220346, 3.050318979524157, 3.0504646249557483, 5.694740447283129, 2.9364309034004936, 2.936437623774275, 2.936455337204757, 3.2280855744688326, 3.350888791436561, 2.822511993247816, 2.8224958883915625, 2.968537216206142, 3.3642510447821286, 3.035438834745096, 3.9821849658574964, 5.652283806256422, 3.212575434631274, 3.5336179060585513, 4.547555690743044, 2.708601611684741, 2.7085759900282467, 2.7086027068259653, 2.70854938998457, 2.7085968212292926, 2.7085774798919395, 2.708630195229969, 2.7085686960659165, 3.715781885133516, 2.9144632054817645, 15.162509982419454, 17.623800070844894, 4.726875372180606, 4.527044013976524, 4.018748671578043, 4.7835302333670295, 8.743716329908814, 2.7682687666716035, 2.711439924752132, 2.654433433258104, 2.6544699160459757, 2.654533122495239, 2.5973363752032057, 2.597354185997272, 2.5973788625658827, 2.597392893623566, 2.597365886552189, 2.5974233590991136, 2.5974102140110316, 2.5973981418183274, 2.5973766438603665, 2.5974090594001655, 2.5973838766803077, 2.8507065181801723, 3.5679987603957173, 3.6877402477391024, 2.5399149840579596, 2.539921900556014, 2.5399254473860338, 2.53992252114912, 2.5399201728247944, 2.5399228571438615, 2.5399270677403907, 2.5399256024866332, 2.5399084691437217, 2.5399268844328526, 2.539913050375235, 4.452938847302085, 2.8193789376827847, 6.928231737014595, 24.255307550292528, 3.3822527365377764, 3.4250560803186274, 2.760812341202822, 2.8396471805033547, 4.748829507863194, 4.094677197017145, 4.343502466427942, 5.454792269697812, 5.727825337305001, 4.035576512163024, 3.3476031277540454, 3.0583133222821592, 3.0583112336823786, 3.058324831542766, 3.058400164809468, 3.0639808866376743, 3.0640840393263296, 4.451152436106808, 2.9137242467652595, 2.913632028687628, 2.9151879358628348, 4.748829507863194, 4.141919475041338, 3.3316089771465904, 3.335234846573359, 6.183392037137881, 4.659558851617784, 2.7690697843981154, 2.769034020577335, 2.769031711798634, 2.769035035059173, 2.769030730089524, 2.7690658546907896, 2.7690608457371058, 2.7690659068618344, 2.769081322968838, 2.769096375387654, 2.769042711404619, 2.7691098368059452, 5.727825337305001, 6.45023461491127, 6.717383043490224, 5.531835364934349, 8.81999178506262, 17.279593894526585, 15.162509982419454, 22.24811780477152, 16.95979817628432, 8.860671139409234, 5.8415447015424835, 16.057319185025094, 11.59865085529524, 14.327928274739152, 13.090963165562023, 37.87505080180025, 28.260918791996765, 6.348068653661925, 4.617515591690248, 4.61771602913853, 4.703259292857537, 3.9761748007245137, 3.85217453788645, 3.632125217045011, 4.898418960704987, 4.588377357031593, 3.3347236342679194, 3.3348949200709868, 3.3348041378801816, 3.7467055575677084, 3.4772043303199514, 3.7323926588826404, 3.736924197689485, 3.120980305604365, 3.120964013660223, 3.1210921356481713, 3.1209794683655216, 3.120995681476554, 3.120954984074045, 3.120955931220718, 3.1209719373784646, 3.1209548075639306, 3.1209946971015943, 3.12093449932764, 4.025687047161783, 3.715781885133516, 3.269318996134635, 3.9241506968567137, 4.746335759098775, 7.2413199017321705, 17.623800070844894, 6.648519765569617, 8.743716329908814, 5.405924739606766, 5.4695420315637815, 5.652283806256422, 8.428854329719599, 4.527044013976524, 23.739039679763028, 18.781980740555262, 7.340164622496785, 22.24811780477152, 16.85562837947276, 17.562680123913697, 15.162509982419454, 13.090963165562023, 2.682736490481039, 2.5829564706070878, 2.582957308787475, 2.5829475759114846, 2.5829734790117422, 2.7376799610233165, 2.609214007406809, 2.6092026827903925, 2.6092336570704484, 2.6092379952668256, 2.6092257406108206, 2.60710105868136, 2.6071123886187375, 2.617909117770259, 2.610695077232553, 2.618560916072341, 2.610695661724231, 2.6106977786221637, 2.610720427211306, 2.610707267549964, 2.618587496557523, 2.618570009804958, 2.6185529310553495, 2.6041918468554055, 2.604145548425808, 2.6041332898458887, 2.726677928195781, 2.726672401068896, 2.61560112267233, 2.615613472525559, 2.769648391396636, 2.773048898303599, 3.180878885686211, 3.2190214117716205, 2.6811462893729354, 3.3290694559850835, 6.315328158592347, 6.311538708694955, 6.928231737014595, 2.8155784726485753, 3.35707702396581, 2.8186330296594964, 2.911595806406302, 2.911645425362013, 2.9116203966944365, 2.9115379088055766, 2.9116756646580306, 5.30063208760629, 2.9115749671428603, 3.0978849562401796, 3.4905037722440055, 3.836149288437692, 6.26841803540586, 6.834330687901804, 3.267963531577753, 3.8569807462066668, 3.6680857479797497, 4.457387674604798, 4.219998339225641, 4.700169904946754, 22.24811780477152, 24.255307550292528, 100.47860468742309, 4.748829507863194, 5.423030674387264, 16.85562837947276, 9.824888839401714, 37.87505080180025, 14.327928274739152, 5.119818746869543, 5.2930364727221715, 4.440807807391121, 4.832158782207386, 5.5343207376514645, 3.9535960221028104, 3.7499639608459168, 3.9425343009470537, 3.886840394039842, 4.001331476766107, 4.219998339225641, 4.229007560680975, 3.709398355363353, 6.311538708694955, 6.315328158592347, 4.139303535525185, 4.15624775526815, 3.594818188345228, 5.699627843757291, 3.6569979300186364, 4.878703873300914, 4.973559228076227, 3.6564677182030483, 3.656670044051338, 3.460742024130779, 3.8020642729100538, 6.928231737014595, 3.4126201276883585, 3.241621368229554, 3.241550427589667, 22.24811780477152, 5.423030674387264, 9.571963613687117, 10.763603571742419, 7.36143728906486, 5.376213116343889, 12.477232295151719, 11.59865085529524, 17.623800070844894, 16.85562837947276, 11.618295962290631, 9.824007279786533, 23.07921207748396, 23.080149081185873, 19.66791579829515, 24.13637138319438, 28.221540993572447, 17.714755119108396, 16.78348941258321, 16.354888493890307, 15.8839741088624, 15.882518791608678, 18.642065573022496, 14.924844300796732, 14.447353652628223, 14.44542981505501, 14.445993848583319, 14.447495534283412, 14.444460603962705, 14.443833032292178, 14.444737239189887, 14.443878739940198, 16.765444401602423, 13.504005386064199, 13.485152919435183, 13.484972166615561, 13.48413282354551, 13.483600018447333, 13.469254976956428, 13.465015072906267, 13.463195500790704, 13.00775446107617, 100.47860468742309, 25.009761390141378, 15.060953316232679, 16.48082206519181, 23.97085102956022, 22.898049464390205, 15.364463617585873, 20.319383804955187, 16.95979817628432, 2.682736490481039, 2.7376799610233165, 2.5829734790117422, 2.5829475759114846, 2.582957308787475, 2.5829564706070878, 2.6092026827903925, 2.6092336570704484, 2.6092257406108206, 2.609214007406809, 2.6092379952668256, 2.6071123886187375, 2.60710105868136, 2.617909117770259, 2.604145548425808, 2.6041918468554055, 2.6041332898458887, 2.726672401068896, 2.726677928195781, 2.610695661724231, 2.610720427211306, 2.610695077232553, 2.6106977786221637, 2.610707267549964, 2.6185529310553495, 2.618570009804958, 2.618587496557523, 2.618560916072341, 2.61560112267233, 2.615613472525559, 2.769648391396636, 2.773048898303599, 3.180878885686211, 3.2190214117716205, 2.6811462893729354, 3.3290694559850835, 2.9374900352677096, 6.311538708694955, 6.315328158592347, 6.928231737014595, 2.8155784726485753, 3.524392822651387, 3.5244249327794765, 2.9116203966944365, 2.911645425362013, 2.9115379088055766, 2.9116756646580306, 2.911595806406302, 6.26841803540586, 3.35707702396581, 3.8569807462066668, 2.9115749671428603, 5.30063208760629, 3.161295542389357, 3.1613235479777213, 3.1614179461922975, 3.836149288437692, 3.4905037722440055, 6.834330687901804, 3.0978849562401796, 4.413877344923657, 3.6680857479797497, 5.626444440843277, 4.219998339225641, 24.255307550292528, 16.48082206519181, 22.24811780477152, 4.457387674604798, 16.85562837947276, 100.47860468742309, 5.423030674387264, 5.119818746869543, 27.56385889357591, 13.715152091564526, 9.402973424786113, 7.998047337164577, 10.70141661130567, 6.394759954484118, 5.851023589596701, 7.314502327018528, 5.774890375433091, 7.879394892460457, 6.503302586113476, 9.824888839401714, 8.723663626482887, 5.018039560612683, 5.004850435635098, 5.808702719110309, 5.403838105366292, 5.763786298094626, 9.953715412382813, 5.3963959591653134, 5.697038886743777, 4.867442092683243, 4.568300269217162, 5.351009026946881, 37.87505080180025, 5.42438765680795, 24.255307550292528, 4.680552177389392, 5.381332853495492, 6.217063540674616, 7.920054518775965, 15.162509982419454, 28.260918791996765, 9.349646571608039, 22.07757753856528, 11.217022684419492, 100.47860468742309, 12.623100613722944, 15.309050076480624, 6.6094530565598415, 9.614230889229772, 16.85562837947276, 12.926296204165185, 8.428854329719599, 8.130536331559728, 10.322876245254948, 17.562680123913697, 22.24811780477152, 23.739039679763028, 12.477232295151719, 23.97085102956022, 14.327928274739152, 2.682736490481039, 2.5829475759114846, 2.582957308787475, 2.5829734790117422, 2.5829564706070878, 2.7376799610233165, 2.6092379952668256, 2.6092336570704484, 2.6092026827903925, 2.6092257406108206, 2.609214007406809, 2.726677928195781, 2.726672401068896, 2.604145548425808, 2.6041332898458887, 2.6041918468554055, 2.617909117770259, 2.6071123886187375, 2.60710105868136, 2.610695077232553, 2.610707267549964, 2.610695661724231, 2.6106977786221637, 2.618570009804958, 2.610720427211306, 2.6185529310553495, 2.618560916072341, 2.618587496557523, 2.615613472525559, 2.61560112267233, 3.305110089454833, 3.3051337735704394, 3.3051327910739996, 3.3052251776342936, 3.305221966052132, 3.305301442290207, 2.769648391396636, 2.89551083291572, 2.895602711936087, 2.89559378848233, 2.895617457031666, 3.779009497572609, 3.7790600463521633, 3.7791302960652087, 3.779086228898315, 3.7792200882064204, 3.7792760726231136, 3.779286686835201, 3.7792624379377693, 3.77946805738033, 3.779466936352962, 3.77943378878534, 3.779498762539675, 3.779572250618834, 3.7796172416347344, 3.7796240173034774, 3.7801330786287983, 4.452938847302085, 4.197319753873836, 4.198800555812659, 22.07757753856528, 4.417535340002408, 4.457387674604798, 28.221540993572447, 5.9098484175787815, 5.201512308019827, 9.824888839401714, 6.928231737014595, 6.311538708694955, 6.315328158592347, 6.094517951939766, 23.97085102956022, 17.714755119108396, 23.739039679763028, 27.56385889357591, 3.066528487311974, 2.969086199014231, 2.871849241081717, 2.7743489670610986, 2.7743110766494423, 2.7744026724868087, 2.7742727012822566, 2.77434640062365, 2.774404840609867, 2.77420949377723, 2.7741797101459404, 2.774294979458427, 2.7741742981432167, 2.7742592455297714, 2.7743280035942632, 2.7742443261142227, 2.77422980290631, 3.6877402477391024, 3.202475434153816, 4.2451175785652, 2.6769062098987666, 2.676880442749218, 2.676907207540877, 2.676941765518289, 2.676958784136404, 2.6767363367793333, 2.676769332646236, 2.6767735824508003, 2.6767744040750063, 2.6767647555814684, 2.676821305371268, 3.085354174661031, 4.385992786450517, 22.24811780477152, 5.30063208760629, 16.85562837947276, 15.309050076480624, 3.5979502556092844, 2.9130326721011457, 5.376213116343889, 3.799493180595399, 6.45023461491127, 14.327928274739152, 6.871485698800426, 3.129154119139099, 2.8480789745475636, 3.2167546481479086, 2.706388648034832, 2.634820778239244, 2.6348379234912978, 2.634826301890448, 2.634874737313389, 2.634927440491404, 2.6348540623313124, 2.6348800461872277, 2.634889943207263, 6.505611489980732, 3.0551436837349266, 3.485121004816423, 3.587770282647868, 2.5617368557152562, 2.561761064922128, 2.5617350199682702, 2.5617633232670127, 2.5617407363024034, 2.5617662711367557, 2.561776638227944, 2.5617643485803234, 2.561753061736054, 2.561746690098896, 2.5617783502272347, 2.561760807449839, 3.6569979300186364, 2.751614646993855, 24.255307550292528, 4.854569600264952, 4.606727329297319, 6.26841803540586, 5.0489255555138675, 2.890813395191213, 2.890775128969965, 2.890843161170944, 17.623800070844894, 6.828031819348279, 6.648519765569617, 8.81999178506262, 9.953715412382813, 37.87505080180025, 3.7940962643133647, 2.682736490481039, 2.5829475759114846, 2.5829564706070878, 2.5829734790117422, 2.582957308787475, 2.7376799610233165, 2.609214007406809, 2.6092379952668256, 2.6092257406108206, 2.6092336570704484, 2.6092026827903925, 2.6071123886187375, 2.60710105868136, 2.726672401068896, 2.726677928195781, 2.617909117770259, 2.6041332898458887, 2.604145548425808, 2.6041918468554055, 2.610707267549964, 2.610695077232553, 2.610720427211306, 2.610695661724231, 2.6106977786221637, 2.6185529310553495, 2.618570009804958, 2.618587496557523, 2.618560916072341, 2.61560112267233, 2.615613472525559, 2.769648391396636, 2.773048898303599, 3.180878885686211, 3.2190214117716205, 3.3290694559850835, 2.6811462893729354, 6.311538708694955, 6.315328158592347, 2.8155784726485753, 6.928231737014595, 3.35707702396581, 2.9115379088055766, 2.8186330296594964, 2.9115749671428603, 2.9116203966944365, 2.911645425362013, 2.911595806406302, 2.9116756646580306, 3.0978849562401796, 5.30063208760629, 3.836149288437692, 3.4905037722440055, 6.26841803540586, 6.834330687901804, 3.8569807462066668, 3.6680857479797497, 3.267963531577753, 4.219998339225641, 4.457387674604798, 24.255307550292528, 15.162509982419454, 4.700169904946754, 4.413877344923657, 16.85562837947276, 22.24811780477152, 4.7835302333670295, 100.47860468742309, 37.87505080180025, 14.327928274739152, 28.260918791996765, 11.189689846297151, 9.117943433554512, 7.8194670240913675, 7.4576661977021885, 9.665360645668107, 13.33910281677576, 6.212724380625873, 13.090963165562023, 7.304994867996925, 5.787747001450297, 8.441785764898043, 7.167886234972501, 5.722757499228657, 5.925395235325539, 23.739039679763028, 4.96704401325983, 4.926000329304742, 9.8286519075962, 6.721860730166153, 5.869515823968488, 5.155258953643509, 5.29809386341868, 6.748001984346352, 4.763967971996939, 4.515586201472637, 4.509838754621386, 5.301863352302849, 6.114152521959099, 4.486488283595792, 8.75569246601362, 14.327928274739152, 11.59865085529524, 28.260918791996765, 12.926296204165185, 17.562680123913697, 16.85562837947276, 24.255307550292528, 22.24811780477152, 17.623800070844894, 12.477232295151719, 11.618295962290631, 10.561983422020322, 18.781980740555262, 12.623100613722944, 37.87505080180025, 22.898049464390205], \"Category\": [\"Default\", \"Default\", \"Default\", \"Default\", \"Default\", \"Default\", \"Default\", \"Default\", \"Default\", \"Default\", \"Default\", \"Default\", \"Default\", \"Default\", \"Default\", \"Default\", \"Default\", \"Default\", \"Default\", \"Default\", \"Default\", \"Default\", \"Default\", \"Default\", \"Default\", \"Default\", \"Default\", \"Default\", \"Default\", \"Default\", \"Topic1\", \"Topic1\", \"Topic1\", \"Topic1\", \"Topic1\", \"Topic1\", \"Topic1\", \"Topic1\", \"Topic1\", \"Topic1\", \"Topic1\", \"Topic1\", \"Topic1\", \"Topic1\", \"Topic1\", \"Topic1\", \"Topic1\", \"Topic1\", \"Topic1\", \"Topic1\", \"Topic1\", \"Topic1\", \"Topic1\", \"Topic1\", \"Topic1\", \"Topic1\", \"Topic1\", \"Topic1\", \"Topic1\", \"Topic1\", \"Topic1\", \"Topic1\", \"Topic1\", \"Topic1\", \"Topic1\", \"Topic1\", \"Topic1\", \"Topic1\", \"Topic1\", \"Topic1\", \"Topic1\", \"Topic1\", \"Topic1\", \"Topic1\", \"Topic1\", \"Topic1\", \"Topic1\", \"Topic1\", \"Topic1\", \"Topic1\", \"Topic1\", \"Topic1\", \"Topic1\", \"Topic1\", \"Topic1\", \"Topic1\", \"Topic1\", \"Topic1\", \"Topic1\", \"Topic1\", \"Topic1\", \"Topic1\", \"Topic1\", \"Topic1\", \"Topic1\", \"Topic1\", \"Topic1\", \"Topic1\", \"Topic1\", \"Topic1\", \"Topic2\", \"Topic2\", \"Topic2\", \"Topic2\", \"Topic2\", \"Topic2\", \"Topic2\", \"Topic2\", \"Topic2\", \"Topic2\", \"Topic2\", \"Topic2\", \"Topic2\", \"Topic2\", \"Topic2\", \"Topic2\", \"Topic2\", \"Topic2\", \"Topic2\", \"Topic2\", \"Topic2\", \"Topic2\", \"Topic2\", \"Topic2\", \"Topic2\", \"Topic2\", \"Topic2\", \"Topic2\", \"Topic2\", \"Topic2\", \"Topic2\", \"Topic2\", \"Topic2\", \"Topic2\", \"Topic2\", \"Topic2\", \"Topic2\", \"Topic2\", \"Topic2\", \"Topic2\", \"Topic2\", \"Topic2\", \"Topic2\", \"Topic2\", \"Topic2\", \"Topic2\", \"Topic2\", \"Topic2\", \"Topic3\", \"Topic3\", \"Topic3\", \"Topic3\", \"Topic3\", \"Topic3\", \"Topic3\", \"Topic3\", \"Topic3\", \"Topic3\", \"Topic3\", \"Topic3\", \"Topic3\", \"Topic3\", \"Topic3\", \"Topic3\", \"Topic3\", \"Topic3\", \"Topic3\", \"Topic3\", \"Topic3\", \"Topic3\", \"Topic3\", \"Topic3\", \"Topic3\", \"Topic3\", \"Topic3\", \"Topic3\", \"Topic3\", \"Topic3\", \"Topic3\", \"Topic3\", \"Topic3\", \"Topic3\", \"Topic3\", \"Topic3\", \"Topic3\", \"Topic3\", \"Topic3\", \"Topic3\", \"Topic3\", \"Topic3\", \"Topic3\", \"Topic3\", \"Topic3\", \"Topic3\", \"Topic3\", \"Topic3\", \"Topic3\", \"Topic3\", \"Topic3\", \"Topic4\", \"Topic4\", \"Topic4\", \"Topic4\", \"Topic4\", \"Topic4\", \"Topic4\", \"Topic4\", \"Topic4\", \"Topic4\", \"Topic4\", \"Topic4\", \"Topic4\", \"Topic4\", \"Topic4\", \"Topic4\", \"Topic4\", \"Topic4\", \"Topic4\", \"Topic4\", \"Topic4\", \"Topic4\", \"Topic4\", \"Topic4\", \"Topic4\", \"Topic4\", \"Topic4\", \"Topic4\", \"Topic4\", \"Topic4\", \"Topic4\", \"Topic4\", \"Topic4\", \"Topic4\", \"Topic4\", \"Topic4\", \"Topic4\", \"Topic4\", \"Topic4\", \"Topic4\", \"Topic4\", \"Topic4\", \"Topic4\", \"Topic4\", \"Topic4\", \"Topic4\", \"Topic4\", \"Topic4\", \"Topic4\", \"Topic4\", \"Topic4\", \"Topic4\", \"Topic4\", \"Topic4\", \"Topic4\", \"Topic4\", \"Topic4\", \"Topic4\", \"Topic4\", \"Topic4\", \"Topic4\", \"Topic4\", \"Topic4\", \"Topic4\", \"Topic4\", \"Topic4\", \"Topic4\", \"Topic4\", \"Topic4\", \"Topic5\", \"Topic5\", \"Topic5\", \"Topic5\", \"Topic5\", \"Topic5\", \"Topic5\", \"Topic5\", \"Topic5\", \"Topic5\", \"Topic5\", \"Topic5\", \"Topic5\", \"Topic5\", \"Topic5\", \"Topic5\", \"Topic5\", \"Topic5\", \"Topic5\", \"Topic5\", \"Topic5\", \"Topic5\", \"Topic5\", \"Topic5\", \"Topic5\", \"Topic5\", \"Topic5\", \"Topic5\", \"Topic5\", \"Topic5\", \"Topic5\", \"Topic5\", \"Topic5\", \"Topic5\", \"Topic5\", \"Topic5\", \"Topic5\", \"Topic5\", \"Topic5\", \"Topic5\", \"Topic5\", \"Topic5\", \"Topic5\", \"Topic5\", \"Topic6\", \"Topic6\", \"Topic6\", \"Topic6\", \"Topic6\", \"Topic6\", \"Topic6\", \"Topic6\", \"Topic6\", \"Topic6\", \"Topic6\", \"Topic6\", \"Topic6\", \"Topic6\", \"Topic6\", \"Topic6\", \"Topic6\", \"Topic6\", \"Topic6\", \"Topic6\", \"Topic6\", \"Topic6\", \"Topic6\", \"Topic6\", \"Topic6\", \"Topic6\", \"Topic6\", \"Topic6\", \"Topic6\", \"Topic6\", \"Topic6\", \"Topic6\", \"Topic6\", \"Topic6\", \"Topic6\", \"Topic6\", \"Topic6\", \"Topic6\", \"Topic6\", \"Topic6\", \"Topic6\", \"Topic6\", \"Topic6\", \"Topic6\", \"Topic6\", \"Topic6\", \"Topic6\", \"Topic6\", \"Topic6\", \"Topic6\", \"Topic6\", \"Topic6\", \"Topic6\", \"Topic6\", \"Topic6\", \"Topic6\", \"Topic6\", \"Topic6\", \"Topic6\", \"Topic6\", \"Topic6\", \"Topic6\", \"Topic6\", \"Topic6\", \"Topic6\", \"Topic6\", \"Topic6\", \"Topic7\", \"Topic7\", \"Topic7\", \"Topic7\", \"Topic7\", \"Topic7\", \"Topic7\", \"Topic7\", \"Topic7\", \"Topic7\", \"Topic7\", \"Topic7\", \"Topic7\", \"Topic7\", \"Topic7\", \"Topic7\", \"Topic7\", \"Topic7\", \"Topic7\", \"Topic7\", \"Topic7\", \"Topic7\", \"Topic7\", \"Topic7\", \"Topic7\", \"Topic7\", \"Topic7\", \"Topic7\", \"Topic7\", \"Topic7\", \"Topic7\", \"Topic7\", \"Topic7\", \"Topic7\", \"Topic7\", \"Topic7\", \"Topic7\", \"Topic7\", \"Topic7\", \"Topic8\", \"Topic8\", \"Topic8\", \"Topic8\", \"Topic8\", \"Topic8\", \"Topic8\", \"Topic8\", \"Topic8\", \"Topic8\", \"Topic8\", \"Topic8\", \"Topic8\", \"Topic8\", \"Topic8\", \"Topic8\", \"Topic8\", \"Topic8\", \"Topic8\", \"Topic8\", \"Topic8\", \"Topic8\", \"Topic8\", \"Topic8\", \"Topic8\", \"Topic8\", \"Topic8\", \"Topic8\", \"Topic8\", \"Topic8\", \"Topic8\", \"Topic8\", \"Topic8\", \"Topic8\", \"Topic8\", \"Topic8\", \"Topic8\", \"Topic8\", \"Topic8\", \"Topic8\", \"Topic8\", \"Topic8\", \"Topic8\", \"Topic9\", \"Topic9\", \"Topic9\", \"Topic9\", \"Topic9\", \"Topic9\", \"Topic9\", \"Topic9\", \"Topic9\", \"Topic9\", \"Topic9\", \"Topic9\", \"Topic9\", \"Topic9\", \"Topic9\", \"Topic9\", \"Topic9\", \"Topic9\", \"Topic9\", \"Topic9\", \"Topic9\", \"Topic9\", \"Topic9\", \"Topic9\", \"Topic9\", \"Topic9\", \"Topic9\", \"Topic9\", \"Topic9\", \"Topic9\", \"Topic9\", \"Topic9\", \"Topic9\", \"Topic9\", \"Topic9\", \"Topic9\", \"Topic9\", \"Topic9\", \"Topic9\", \"Topic9\", \"Topic9\", \"Topic9\", \"Topic9\", \"Topic9\", \"Topic9\", \"Topic9\", \"Topic9\", \"Topic9\", \"Topic10\", \"Topic10\", \"Topic10\", \"Topic10\", \"Topic10\", \"Topic10\", \"Topic10\", \"Topic10\", \"Topic10\", \"Topic10\", \"Topic10\", \"Topic10\", \"Topic10\", \"Topic10\", \"Topic10\", \"Topic10\", \"Topic10\", \"Topic10\", \"Topic10\", \"Topic10\", \"Topic10\", \"Topic10\", \"Topic10\", \"Topic10\", \"Topic10\", \"Topic10\", \"Topic10\", \"Topic10\", \"Topic10\", \"Topic10\", \"Topic10\", \"Topic10\", \"Topic10\", \"Topic10\", \"Topic10\", \"Topic10\", \"Topic10\", \"Topic10\", \"Topic10\", \"Topic10\", \"Topic10\", \"Topic10\", \"Topic10\", \"Topic10\", \"Topic10\", \"Topic10\", \"Topic10\", \"Topic10\", \"Topic11\", \"Topic11\", \"Topic11\", \"Topic11\", \"Topic11\", \"Topic11\", \"Topic11\", \"Topic11\", \"Topic11\", \"Topic11\", \"Topic11\", \"Topic11\", \"Topic11\", \"Topic11\", \"Topic11\", \"Topic11\", \"Topic11\", \"Topic11\", \"Topic11\", \"Topic11\", \"Topic11\", \"Topic11\", \"Topic11\", \"Topic11\", \"Topic11\", \"Topic11\", \"Topic11\", \"Topic11\", \"Topic11\", \"Topic11\", \"Topic11\", \"Topic11\", \"Topic11\", \"Topic11\", \"Topic11\", \"Topic11\", \"Topic11\", \"Topic11\", \"Topic11\", \"Topic11\", \"Topic11\", \"Topic11\", \"Topic11\", \"Topic11\", \"Topic11\", \"Topic11\", \"Topic11\", \"Topic11\", \"Topic11\", \"Topic11\", \"Topic11\", \"Topic11\", \"Topic11\", \"Topic11\", \"Topic11\", \"Topic11\", \"Topic11\", \"Topic11\", \"Topic11\", \"Topic11\", \"Topic11\", \"Topic11\", \"Topic11\", \"Topic11\", \"Topic11\", \"Topic11\", \"Topic11\", \"Topic11\", \"Topic11\", \"Topic12\", \"Topic12\", \"Topic12\", \"Topic12\", \"Topic12\", \"Topic12\", \"Topic12\", \"Topic12\", \"Topic12\", \"Topic12\", \"Topic12\", \"Topic12\", \"Topic12\", \"Topic12\", \"Topic12\", \"Topic12\", \"Topic12\", \"Topic12\", \"Topic12\", \"Topic12\", \"Topic12\", \"Topic12\", \"Topic12\", \"Topic12\", \"Topic12\", \"Topic12\", \"Topic12\", \"Topic12\", \"Topic12\", \"Topic12\", \"Topic12\", \"Topic12\", \"Topic12\", \"Topic12\", \"Topic12\", \"Topic12\", \"Topic12\", \"Topic12\", \"Topic12\", \"Topic12\", \"Topic12\", \"Topic12\", \"Topic13\", \"Topic13\", \"Topic13\", \"Topic13\", \"Topic13\", \"Topic13\", \"Topic13\", \"Topic13\", \"Topic13\", \"Topic13\", \"Topic13\", \"Topic13\", \"Topic13\", \"Topic13\", \"Topic13\", \"Topic13\", \"Topic13\", \"Topic13\", \"Topic13\", \"Topic13\", \"Topic13\", \"Topic13\", \"Topic13\", \"Topic13\", \"Topic13\", \"Topic13\", \"Topic13\", \"Topic13\", \"Topic13\", \"Topic13\", \"Topic13\", \"Topic13\", \"Topic13\", \"Topic13\", \"Topic13\", \"Topic13\", \"Topic13\", \"Topic13\", \"Topic13\", \"Topic14\", \"Topic14\", \"Topic14\", \"Topic14\", \"Topic14\", \"Topic14\", \"Topic14\", \"Topic14\", \"Topic14\", \"Topic14\", \"Topic14\", \"Topic14\", \"Topic14\", \"Topic14\", \"Topic14\", \"Topic14\", \"Topic14\", \"Topic14\", \"Topic14\", \"Topic14\", \"Topic14\", \"Topic14\", \"Topic14\", \"Topic14\", \"Topic14\", \"Topic14\", \"Topic14\", \"Topic14\", \"Topic14\", \"Topic14\", \"Topic14\", \"Topic14\", \"Topic14\", \"Topic14\", \"Topic14\", \"Topic14\", \"Topic14\", \"Topic14\", \"Topic14\", \"Topic14\", \"Topic14\", \"Topic14\", \"Topic14\", \"Topic14\", \"Topic14\", \"Topic14\", \"Topic14\", \"Topic14\", \"Topic14\", \"Topic14\", \"Topic14\", \"Topic14\", \"Topic14\", \"Topic14\", \"Topic14\", \"Topic14\", \"Topic14\", \"Topic14\", \"Topic14\", \"Topic14\", \"Topic14\", \"Topic14\", \"Topic14\", \"Topic14\", \"Topic14\", \"Topic14\", \"Topic14\", \"Topic14\", \"Topic14\", \"Topic14\", \"Topic14\", \"Topic14\", \"Topic15\", \"Topic15\", \"Topic15\", \"Topic15\", \"Topic15\", \"Topic15\", \"Topic15\", \"Topic15\", \"Topic15\", \"Topic15\", \"Topic15\", \"Topic15\", \"Topic15\", \"Topic15\", \"Topic15\", \"Topic15\", \"Topic15\", \"Topic15\", \"Topic15\", \"Topic15\", \"Topic15\", \"Topic15\", \"Topic15\", \"Topic15\", \"Topic15\", \"Topic15\", \"Topic15\", \"Topic15\", \"Topic15\", \"Topic15\", \"Topic15\", \"Topic15\", \"Topic15\", \"Topic15\", \"Topic15\", \"Topic15\", \"Topic15\", \"Topic15\", \"Topic15\", \"Topic15\", \"Topic15\", \"Topic15\", \"Topic15\", \"Topic15\", \"Topic15\", \"Topic15\", \"Topic15\", \"Topic15\", \"Topic15\", \"Topic15\", \"Topic15\", \"Topic15\", \"Topic16\", \"Topic16\", \"Topic16\", \"Topic16\", \"Topic16\", \"Topic16\", \"Topic16\", \"Topic16\", \"Topic16\", \"Topic16\", \"Topic16\", \"Topic16\", \"Topic16\", \"Topic16\", \"Topic16\", \"Topic16\", \"Topic16\", \"Topic16\", \"Topic16\", \"Topic16\", \"Topic16\", \"Topic16\", \"Topic16\", \"Topic16\", \"Topic16\", \"Topic16\", \"Topic16\", \"Topic16\", \"Topic16\", \"Topic16\", \"Topic16\", \"Topic16\", \"Topic16\", \"Topic16\", \"Topic16\", \"Topic16\", \"Topic16\", \"Topic16\", \"Topic16\", \"Topic16\", \"Topic16\", \"Topic16\", \"Topic16\", \"Topic16\", \"Topic16\", \"Topic16\", \"Topic16\", \"Topic16\", \"Topic16\", \"Topic16\", \"Topic16\", \"Topic16\", \"Topic16\", \"Topic16\", \"Topic16\", \"Topic16\", \"Topic16\", \"Topic16\", \"Topic16\", \"Topic16\", \"Topic16\", \"Topic16\", \"Topic16\", \"Topic16\", \"Topic16\", \"Topic16\", \"Topic16\", \"Topic16\", \"Topic16\", \"Topic16\", \"Topic16\", \"Topic16\", \"Topic16\", \"Topic16\", \"Topic16\", \"Topic17\", \"Topic17\", \"Topic17\", \"Topic17\", \"Topic17\", \"Topic17\", \"Topic17\", \"Topic17\", \"Topic17\", \"Topic17\", \"Topic17\", \"Topic17\", \"Topic17\", \"Topic17\", \"Topic17\", \"Topic17\", \"Topic17\", \"Topic17\", \"Topic17\", \"Topic17\", \"Topic17\", \"Topic17\", \"Topic17\", \"Topic17\", \"Topic17\", \"Topic17\", \"Topic17\", \"Topic17\", \"Topic17\", \"Topic17\", \"Topic17\", \"Topic17\", \"Topic17\", \"Topic17\", \"Topic17\", \"Topic17\", \"Topic17\", \"Topic17\", \"Topic17\", \"Topic17\", \"Topic17\", \"Topic17\", \"Topic17\", \"Topic17\", \"Topic18\", \"Topic18\", \"Topic18\", \"Topic18\", \"Topic18\", \"Topic18\", \"Topic18\", \"Topic18\", \"Topic18\", \"Topic18\", \"Topic18\", \"Topic18\", \"Topic18\", \"Topic18\", \"Topic18\", \"Topic18\", \"Topic18\", \"Topic18\", \"Topic18\", \"Topic18\", \"Topic18\", \"Topic18\", \"Topic18\", \"Topic18\", \"Topic18\", \"Topic18\", \"Topic18\", \"Topic18\", \"Topic18\", \"Topic18\", \"Topic18\", \"Topic18\", \"Topic18\", \"Topic18\", \"Topic18\", \"Topic18\", \"Topic18\", \"Topic18\", \"Topic18\", \"Topic18\", \"Topic18\", \"Topic18\", \"Topic18\", \"Topic18\", \"Topic18\", \"Topic19\", \"Topic19\", \"Topic19\", \"Topic19\", \"Topic19\", \"Topic19\", \"Topic19\", \"Topic19\", \"Topic19\", \"Topic19\", \"Topic19\", \"Topic19\", \"Topic19\", \"Topic19\", \"Topic19\", \"Topic19\", \"Topic19\", \"Topic19\", \"Topic19\", \"Topic19\", \"Topic19\", \"Topic19\", \"Topic19\", \"Topic19\", \"Topic19\", \"Topic19\", \"Topic19\", \"Topic19\", \"Topic19\", \"Topic19\", \"Topic19\", \"Topic19\", \"Topic19\", \"Topic19\", \"Topic19\", \"Topic19\", \"Topic19\", \"Topic19\", \"Topic19\", \"Topic19\", \"Topic19\", \"Topic19\", \"Topic19\", \"Topic19\", \"Topic19\", \"Topic19\", \"Topic19\", \"Topic19\", \"Topic19\", \"Topic19\", \"Topic19\", \"Topic19\", \"Topic19\", \"Topic19\", \"Topic19\", \"Topic19\", \"Topic19\", \"Topic19\", \"Topic19\", \"Topic19\", \"Topic19\", \"Topic19\", \"Topic19\", \"Topic19\", \"Topic19\", \"Topic19\", \"Topic19\", \"Topic19\", \"Topic19\", \"Topic19\", \"Topic20\", \"Topic20\", \"Topic20\", \"Topic20\", \"Topic20\", \"Topic20\", \"Topic20\", \"Topic20\", \"Topic20\", \"Topic20\", \"Topic20\", \"Topic20\", \"Topic20\", \"Topic20\", \"Topic20\", \"Topic20\", \"Topic20\", \"Topic20\", \"Topic20\", \"Topic20\", \"Topic20\", \"Topic20\", \"Topic20\", \"Topic20\", \"Topic20\", \"Topic20\", \"Topic20\", \"Topic20\", \"Topic20\", \"Topic20\", \"Topic20\", \"Topic20\", \"Topic20\", \"Topic20\", \"Topic20\", \"Topic20\", \"Topic20\", \"Topic20\", \"Topic20\", \"Topic20\", \"Topic20\", \"Topic20\", \"Topic20\", \"Topic20\", \"Topic20\", \"Topic20\"], \"logprob\": [30.0, 29.0, 28.0, 27.0, 26.0, 25.0, 24.0, 23.0, 22.0, 21.0, 20.0, 19.0, 18.0, 17.0, 16.0, 15.0, 14.0, 13.0, 12.0, 11.0, 10.0, 9.0, 8.0, 7.0, 6.0, 5.0, 4.0, 3.0, 2.0, 1.0, -8.0139, -8.0748, -8.0748, -8.0748, -8.0748, -8.0279, -8.0817, -8.0817, -8.0817, -8.0817, -8.0817, -8.0847, -8.0847, -8.083, -8.087, -8.087, -8.087, -8.087, -8.087, -8.0904, -8.0904, -8.0904, -8.0849, -8.085, -8.085, -8.085, -8.0466, -8.0466, -8.0897, -8.0897, -8.0431, -8.0531, -8.0751, -7.9953, -7.9937, -7.9863, -7.7592, -8.0588, -7.7689, -7.7454, -8.0165, -8.0653, -7.9186, -8.0601, -8.0601, -8.0601, -8.0602, -8.0602, -8.0602, -8.0294, -8.0508, -8.0164, -7.9514, -7.9675, -8.0586, -8.0387, -8.0536, -8.0471, -7.9517, -8.041, -8.0424, -8.0453, -8.0453, -7.9979, -8.0085, -8.0169, -8.0323, -8.0416, -8.0421, -8.0445, -5.846, -6.5467, -6.7784, -6.7785, -6.7531, -6.7759, -6.7802, -7.0742, -7.0742, -7.0705, -7.0748, -7.0742, -7.0132, -7.0737, -7.0752, -6.008, -7.0702, -7.0625, -7.0641, -7.4942, -7.4942, -7.4942, -7.4942, -7.4942, -7.4942, -7.4942, -7.4942, -7.4942, -7.4943, -7.4942, -7.0733, -7.4286, -7.072, -6.7347, -7.0734, -7.0515, -7.073, -6.7725, -6.7871, -7.447, -6.7714, -6.3222, -6.5351, -7.0377, -7.0492, -7.0685, -7.0691, -7.0733, -4.6071, -5.8254, -6.2279, -6.2288, -6.3864, -6.4291, -6.5723, -6.8026, -6.8026, -6.8027, -6.8027, -6.8026, -6.8027, -6.8027, -6.8027, -6.8027, -6.8027, -6.8027, -6.8028, -6.8027, -6.8028, -6.8028, -6.8028, -6.8028, -6.8028, -6.8028, -6.8028, -6.8028, -6.8028, -6.8028, -5.537, -6.2646, -6.5771, -6.2318, -6.6693, -6.7538, -6.7236, -6.743, -6.7775, -6.7804, -6.7571, -6.7915, -6.781, -6.7962, -6.785, -6.7953, -6.7998, -6.8003, -6.8015, -6.802, -6.8021, -8.0118, -8.0734, -8.0734, -8.0734, -8.0734, -8.0279, -8.0813, -8.0814, -8.0814, -8.0814, -8.0814, -8.0845, -8.0845, -8.0823, -8.0865, -8.0865, -8.0865, -8.0866, -8.0866, -8.0892, -8.0892, -8.0892, -8.0842, -8.0842, -8.0842, -8.0842, -8.0448, -8.0448, -8.0889, -8.0889, -8.0428, -8.0529, -8.0752, -7.9962, -7.9929, -7.9852, -7.7719, -7.7725, -8.0599, -7.7454, -8.0178, -8.0656, -8.0598, -8.0598, -8.0599, -8.0599, -8.06, -7.9402, -8.06, -8.0493, -8.0303, -8.0166, -7.9729, -7.9857, -8.0538, -8.0422, -8.0469, -8.0444, -8.0422, -8.045, -8.0023, -8.0195, -8.0349, -8.0528, -8.0538, -8.0245, -8.0392, -8.0506, -8.0512, -5.2142, -6.7598, -5.6253, -7.0585, -7.0585, -7.0585, -7.0585, -7.0585, -7.0586, -7.0586, -7.0586, -7.0586, -6.5446, -7.0527, -7.0243, -6.7585, -6.9986, -7.0695, -7.4832, -7.4832, -7.4832, -7.4832, -7.4832, -7.4833, -7.4833, -7.4833, -7.4833, -7.4833, -7.4833, -7.4833, -7.0741, -6.9876, -7.0732, -7.0898, -6.5549, -7.062, -6.8394, -6.1113, -7.133, -7.4261, -6.8274, -7.2035, -6.9374, -7.1853, -8.0114, -8.0732, -8.0733, -8.0733, -8.0733, -8.0281, -8.0814, -8.0815, -8.0815, -8.0815, -8.0815, -8.0829, -8.083, -8.0817, -8.0826, -8.0826, -8.0827, -8.0827, -8.0858, -8.0858, -8.0859, -8.0859, -8.0859, -8.0893, -8.0893, -8.0893, -8.0452, -8.0453, -8.088, -8.0881, -8.0406, -8.0512, -8.075, -7.9935, -7.9901, -7.9807, -7.7321, -7.7421, -7.7165, -8.0589, -8.0155, -8.0647, -7.9277, -8.0599, -8.0599, -8.0599, -8.06, -8.06, -8.06, -8.0266, -8.0489, -8.0138, -7.9775, -7.976, -8.0522, -8.0406, -8.0463, -8.0418, -8.0416, -8.0469, -7.9974, -8.0064, -8.0108, -8.0345, -8.0516, -8.0489, -8.0512, -5.4518, -5.6744, -6.2218, -6.3782, -6.3783, -6.3783, -5.8499, -6.5639, -6.5639, -6.5639, -6.5603, -6.562, -6.7919, -6.7919, -6.7889, -6.6651, -6.7918, -6.5462, -6.2179, -6.7875, -6.7882, -6.555, -7.0875, -7.0875, -7.0875, -7.0875, -7.0875, -7.0875, -7.0875, -7.0875, -6.7918, -7.0319, -6.1432, -6.5469, -6.9787, -7.0004, -7.0226, -7.0034, -6.9671, -6.325, -6.5118, -6.7412, -6.7413, -6.7414, -7.0388, -7.0388, -7.0388, -7.0388, -7.0388, -7.0388, -7.0388, -7.0389, -7.0389, -7.0389, -7.0389, -7.0393, -7.0258, -7.009, -7.4613, -7.4613, -7.4613, -7.4613, -7.4613, -7.4613, -7.4613, -7.4613, -7.4613, -7.4613, -7.4613, -6.9988, -7.4023, -7.0091, -6.6958, -7.3641, -7.3875, -7.441, -7.4419, -7.359, -7.404, -7.3985, -7.3827, -7.381, -6.0206, -6.2785, -6.6212, -6.6212, -6.6213, -6.6214, -6.6252, -6.6254, -6.4239, -6.8498, -6.8498, -6.8513, -6.4505, -6.6118, -6.8505, -6.8535, -6.2725, -6.5935, -7.1457, -7.1457, -7.1461, -7.1462, -7.1462, -7.1461, -7.1462, -7.1462, -7.1462, -7.1462, -7.1462, -7.1462, -6.4303, -6.398, -6.3874, -6.6171, -6.3469, -5.9925, -6.1008, -6.1032, -6.2765, -6.5943, -6.8236, -6.4303, -6.6151, -6.5676, -6.5901, -6.6072, -6.656, -6.8081, -5.884, -5.884, -5.8817, -6.2058, -6.3821, -6.495, -6.1983, -6.3402, -6.6826, -6.6826, -6.6827, -6.6821, -6.7643, -6.7293, -6.7295, -6.9104, -6.9104, -6.9104, -6.9104, -6.9104, -6.9104, -6.9104, -6.9104, -6.9104, -6.9104, -6.9105, -6.6775, -6.9088, -7.08, -6.9043, -6.7186, -6.3228, -5.7616, -6.5097, -6.4208, -6.6759, -6.6738, -6.6772, -6.5417, -6.774, -6.1864, -6.3209, -6.6614, -6.4273, -6.5041, -6.5931, -6.6188, -6.6579, -8.012, -8.0735, -8.0735, -8.0736, -8.0736, -8.0274, -8.0811, -8.0811, -8.0811, -8.0811, -8.0811, -8.0836, -8.0837, -8.0823, -8.0862, -8.0832, -8.0862, -8.0862, -8.0862, -8.0862, -8.0832, -8.0832, -8.0833, -8.089, -8.089, -8.089, -8.0442, -8.0443, -8.0885, -8.0885, -8.0418, -8.0525, -7.996, -7.9927, -8.0758, -7.983, -7.7479, -7.751, -7.7395, -8.0596, -8.0172, -8.0657, -8.0595, -8.0596, -8.0596, -8.0596, -8.0596, -7.9339, -8.0597, -8.0487, -8.0284, -8.0167, -7.971, -7.9883, -8.0538, -8.0412, -8.0463, -8.0407, -8.0435, -8.0426, -8.0123, -8.0123, -7.9844, -8.0516, -8.0519, -8.0428, -8.0494, -8.0505, -8.0511, -6.0379, -6.0379, -6.276, -6.2074, -6.0875, -6.4633, -6.5707, -6.5211, -6.5451, -6.5348, -6.5159, -6.5223, -6.654, -6.1413, -6.1407, -6.5655, -6.5928, -6.7531, -6.3018, -6.7541, -6.4705, -6.4548, -6.7721, -6.7724, -6.8419, -6.7531, -6.1672, -6.8904, -6.9832, -6.9833, -5.174, -6.5241, -6.0758, -6.0457, -6.3499, -6.5473, -6.2202, -6.2693, -6.1519, -6.1861, -6.5392, -6.5641, -5.0206, -5.0206, -5.1978, -4.9935, -4.8466, -5.3155, -5.3765, -5.4059, -5.4394, -5.4395, -5.2824, -5.5113, -5.5488, -5.5491, -5.5491, -5.549, -5.5492, -5.5493, -5.5492, -5.5493, -5.4047, -5.6279, -5.6297, -5.6298, -5.6299, -5.63, -5.6311, -5.6315, -5.6317, -5.6723, -3.8019, -5.0809, -5.5479, -5.488, -5.2342, -5.2783, -5.5455, -5.4322, -5.5445, -8.0121, -8.0148, -8.0742, -8.0742, -8.0742, -8.0742, -8.0757, -8.0757, -8.0757, -8.0757, -8.0757, -8.0849, -8.085, -8.0832, -8.0892, -8.0892, -8.0892, -8.0435, -8.0435, -8.0875, -8.0875, -8.0875, -8.0876, -8.0876, -8.0846, -8.0846, -8.0846, -8.0847, -8.0897, -8.0897, -8.0431, -8.0534, -7.9946, -7.9928, -8.0758, -7.9818, -8.037, -7.7465, -7.7509, -7.729, -8.0597, -7.9909, -7.9914, -8.0523, -8.0523, -8.0523, -8.0523, -8.0524, -7.8424, -8.0173, -7.9893, -8.0524, -7.9284, -8.041, -8.0413, -8.0417, -8.0147, -8.0292, -7.969, -8.0473, -8.0191, -8.0354, -8.0096, -8.031, -7.9587, -7.9863, -7.9917, -8.0361, -8.0263, -8.0331, -8.0384, -8.0397, -4.5319, -5.4091, -5.8473, -6.071, -5.8132, -6.3308, -6.4441, -6.2269, -6.4711, -6.1612, -6.3565, -5.9823, -6.1346, -6.6939, -6.6986, -6.5642, -6.6521, -6.5924, -6.0595, -6.6785, -6.6282, -6.7856, -6.8635, -6.7077, -4.7516, -6.6956, -5.198, -6.8448, -6.7093, -6.5686, -6.3326, -5.7194, -5.1564, -6.235, -5.5247, -6.1014, -4.4717, -6.0491, -6.0292, -6.5414, -6.3356, -6.0532, -6.1913, -6.4225, -6.4438, -6.3634, -6.2006, -6.1372, -6.2096, -6.3419, -6.3121, -6.3366, -8.0321, -8.0874, -8.0875, -8.0875, -8.0875, -8.0351, -8.089, -8.089, -8.0891, -8.0891, -8.0891, -8.0451, -8.0453, -8.0938, -8.0938, -8.0938, -8.0926, -8.0977, -8.0977, -8.0994, -8.0994, -8.0994, -8.0995, -8.0964, -8.0994, -8.0965, -8.0965, -8.0965, -8.1012, -8.1012, -7.8957, -7.8958, -7.8958, -7.8959, -7.8961, -7.8962, -8.0584, -8.0287, -8.0289, -8.0289, -8.0289, -7.8927, -7.8928, -7.8929, -7.8929, -7.8932, -7.8932, -7.8932, -7.8933, -7.8934, -7.8935, -7.8937, -7.8937, -7.8937, -7.8937, -7.894, -7.8945, -7.8257, -7.8936, -7.896, -7.3323, -7.8861, -7.8847, -7.3007, -7.7963, -7.8465, -7.7059, -7.8047, -7.8339, -7.8396, -7.8445, -7.8353, -7.8507, -7.8706, -7.8753, -6.2293, -6.3867, -6.5725, -6.8003, -6.8008, -6.8008, -6.8009, -6.8009, -6.801, -6.8012, -6.8013, -6.8012, -6.8013, -6.8013, -6.8013, -6.8014, -6.8014, -6.5372, -6.8026, -6.5715, -7.0967, -7.0967, -7.0967, -7.0968, -7.0969, -7.0971, -7.0971, -7.0971, -7.0971, -7.0971, -7.0971, -7.0081, -6.7962, -6.1318, -6.8361, -6.7393, -6.7977, -7.0718, -7.0893, -7.0595, -7.077, -7.0583, -7.0561, -7.0692, -5.8288, -6.3511, -6.5286, -6.769, -7.0677, -7.0677, -7.0678, -7.0678, -7.0678, -7.0679, -7.0679, -7.0679, -6.2825, -7.0807, -7.0936, -7.0695, -7.491, -7.4911, -7.4911, -7.4911, -7.4911, -7.4911, -7.4911, -7.4911, -7.4911, -7.4911, -7.4911, -7.4911, -7.1682, -7.4624, -5.7742, -7.0638, -7.117, -6.928, -7.1068, -7.4341, -7.4346, -7.4346, -6.6641, -7.1176, -7.1903, -7.1344, -7.1514, -7.1745, -7.4178, -8.0131, -8.0744, -8.0744, -8.0744, -8.0744, -8.0249, -8.0803, -8.0803, -8.0803, -8.0803, -8.0804, -8.0853, -8.0853, -8.0417, -8.0419, -8.0828, -8.0881, -8.0882, -8.0882, -8.0868, -8.0869, -8.0869, -8.0869, -8.0869, -8.0847, -8.0847, -8.0847, -8.0848, -8.0896, -8.0896, -8.0427, -8.0539, -7.9954, -7.9933, -7.9858, -8.0768, -7.7663, -7.7663, -8.0596, -7.7608, -8.0175, -8.058, -8.0662, -8.0581, -8.0582, -8.0582, -8.0582, -8.0583, -8.0463, -7.9423, -8.0064, -8.03, -7.9565, -7.9808, -8.037, -8.0423, -8.0531, -8.0407, -8.039, -7.9758, -8.0149, -8.0449, -8.0487, -8.0223, -8.0225, -8.0492, -8.0293, -8.0377, -8.0416, -8.042, -5.523, -5.7819, -5.9835, -6.0519, -5.8062, -5.5051, -6.3168, -5.5865, -6.1887, -6.4246, -6.049, -6.2186, -6.4516, -6.4566, -5.0882, -6.6771, -6.6955, -6.0343, -6.4209, -6.5686, -6.7034, -6.679, -6.4418, -6.7939, -6.8494, -6.8543, -6.6927, -6.5539, -6.865, -6.2073, -5.8625, -6.0538, -5.3168, -5.9713, -5.7622, -5.9183, -5.7335, -5.9183, -6.0462, -6.2275, -6.3082, -6.3812, -6.3497, -6.4085, -6.3598, -6.3859], \"loglift\": [30.0, 29.0, 28.0, 27.0, 26.0, 25.0, 24.0, 23.0, 22.0, 21.0, 20.0, 19.0, 18.0, 17.0, 16.0, 15.0, 14.0, 13.0, 12.0, 11.0, 10.0, 9.0, 8.0, 7.0, 6.0, 5.0, 4.0, 3.0, 2.0, 1.0, 0.4548, 0.4319, 0.4319, 0.4318, 0.4318, 0.4206, 0.4149, 0.4148, 0.4148, 0.4148, 0.4148, 0.4126, 0.4126, 0.4102, 0.409, 0.4089, 0.4089, 0.4089, 0.4089, 0.408, 0.408, 0.408, 0.408, 0.4079, 0.4079, 0.4079, 0.4059, 0.4058, 0.4044, 0.4044, 0.3937, 0.3825, 0.3942, 0.3031, 0.2928, 0.2665, -0.146, 0.3616, -0.1563, -0.2255, 0.228, 0.3541, -0.1308, 0.3268, 0.3267, 0.3267, 0.3267, 0.3267, 0.3266, 0.1761, 0.274, 0.0947, -0.3313, -0.4339, 0.2703, 0.067, 0.2178, 0.1088, -1.5984, -0.0252, -0.0814, -0.1373, -0.1476, -1.731, -1.3776, -3.1713, -2.2111, -1.4519, -1.2487, -0.8739, 2.4014, 1.7243, 1.658, 1.6579, 1.609, 1.609, 1.4133, 1.3976, 1.3976, 1.3338, 1.3202, 1.3072, 1.2656, 1.2532, 1.1302, 1.1132, 1.0516, 1.0447, 1.0387, 1.0143, 1.0143, 1.0143, 1.0143, 1.0143, 1.0143, 1.0143, 1.0143, 1.0143, 1.0143, 1.0143, 1.0133, 1.0125, 0.9943, 0.8568, 0.9215, 0.8652, 0.8411, 0.6897, 0.6549, 0.987, 0.5525, 0.0311, 0.0547, 0.5132, 0.2247, 0.4778, 0.1277, -0.0703, 2.4311, 2.242, 2.1168, 2.1159, 1.9893, 1.9443, 1.8351, 1.6379, 1.6378, 1.6378, 1.6378, 1.6378, 1.6378, 1.6378, 1.6377, 1.6377, 1.6377, 1.6377, 1.6377, 1.6377, 1.6377, 1.6377, 1.6377, 1.6377, 1.6377, 1.6377, 1.6377, 1.6376, 1.6376, 1.6376, 0.824, 1.2636, 1.2469, 0.6053, 0.41, 1.1444, 0.6424, 0.3553, 1.1297, 1.1374, 0.4136, 1.1007, -0.1912, 1.3066, -0.341, -0.0682, 0.7582, 0.6794, 1.5016, 1.2683, 1.4685, 0.4569, 0.4332, 0.4332, 0.4332, 0.4332, 0.4206, 0.4152, 0.4151, 0.4151, 0.4151, 0.4151, 0.4129, 0.4128, 0.4109, 0.4094, 0.4094, 0.4094, 0.4094, 0.4094, 0.4093, 0.4092, 0.4092, 0.4087, 0.4087, 0.4087, 0.4087, 0.4077, 0.4077, 0.4052, 0.4051, 0.3941, 0.3827, 0.3941, 0.3022, 0.2936, 0.2677, -0.1587, -0.1599, 0.3604, -0.2255, 0.2267, 0.3537, 0.3271, 0.327, 0.327, 0.3269, 0.3269, -0.1524, 0.3268, 0.2755, 0.1752, 0.0945, -0.3529, -0.4521, 0.2176, 0.0634, 0.109, -0.0287, -0.0812, -0.137, -1.7354, -1.6662, -1.4041, -0.1551, -0.083, -3.1789, -2.2179, -0.88, -1.2579, 2.7551, 1.5579, 1.4599, 1.428, 1.428, 1.428, 1.4279, 1.4279, 1.4279, 1.4279, 1.4279, 1.4278, 1.2917, 1.2651, 1.2308, 1.228, 1.1274, 1.0753, 1.0315, 1.0314, 1.0314, 1.0314, 1.0314, 1.0314, 1.0314, 1.0314, 1.0314, 1.0314, 1.0314, 1.0314, 0.9217, 0.8831, 0.8826, 0.7652, 0.2821, 0.6825, 0.4875, -1.2657, 0.4249, 0.91, -0.7133, 0.2622, -1.1161, -0.5955, 0.4573, 0.4334, 0.4334, 0.4334, 0.4333, 0.4204, 0.4151, 0.415, 0.415, 0.415, 0.415, 0.4144, 0.4143, 0.4115, 0.4103, 0.4103, 0.4103, 0.4102, 0.4101, 0.4101, 0.4101, 0.41, 0.41, 0.4092, 0.4091, 0.4091, 0.4072, 0.4072, 0.406, 0.406, 0.3962, 0.3845, 0.3944, 0.3049, 0.2964, 0.2722, -0.1196, -0.1289, -0.1966, 0.3614, 0.229, 0.3546, -0.1399, 0.3269, 0.3269, 0.3269, 0.3269, 0.3269, 0.3269, 0.1789, 0.276, 0.0972, -0.3575, -0.4424, 0.2192, 0.065, 0.1096, -0.0808, -0.1337, -0.0312, -1.7304, -1.6531, -3.1651, -1.4036, -0.154, -0.8782, -0.2863, 2.5987, 2.263, 2.0819, 1.9621, 1.962, 1.962, 1.8661, 1.8145, 1.8145, 1.8144, 1.7234, 1.6843, 1.6261, 1.6261, 1.5786, 1.5773, 1.5535, 1.5276, 1.5056, 1.501, 1.4051, 1.386, 1.3717, 1.3717, 1.3716, 1.3716, 1.3716, 1.3716, 1.3716, 1.3716, 1.3512, 1.354, 0.5935, 0.0394, 0.9236, 0.9451, 1.042, 0.8869, 0.3201, 2.1123, 1.9463, 1.7381, 1.738, 1.7379, 1.4623, 1.4623, 1.4622, 1.4622, 1.4622, 1.4622, 1.4622, 1.4622, 1.4622, 1.4622, 1.4621, 1.3687, 1.1578, 1.1415, 1.0622, 1.0621, 1.0621, 1.0621, 1.0621, 1.0621, 1.0621, 1.0621, 1.0621, 1.0621, 1.0621, 0.9632, 1.0168, 0.5109, -0.4288, 0.8729, 0.8369, 0.999, 0.97, 0.5387, 0.6418, 0.5884, 0.3764, 0.3292, 2.0398, 1.9688, 1.7165, 1.7165, 1.7164, 1.7162, 1.7107, 1.7104, 1.5385, 1.5364, 1.5364, 1.5343, 1.4471, 1.4226, 1.4016, 1.3975, 1.3612, 1.3232, 1.2914, 1.2913, 1.2909, 1.2909, 1.2909, 1.2909, 1.2909, 1.2909, 1.2909, 1.2909, 1.2909, 1.2909, 1.28, 1.1935, 1.1634, 1.128, 0.9316, 0.6136, 0.6359, 0.2501, 0.3482, 0.6796, 0.8669, 0.2491, 0.3895, 0.2258, 0.2935, -0.7859, -0.5419, 0.7993, 2.0417, 2.0416, 2.0256, 1.8694, 1.7248, 1.6707, 1.6684, 1.5918, 1.5685, 1.5685, 1.5685, 1.4526, 1.445, 1.4093, 1.4078, 1.4071, 1.407, 1.407, 1.407, 1.407, 1.407, 1.407, 1.407, 1.407, 1.407, 1.407, 1.3853, 1.2342, 1.191, 1.1841, 1.1796, 1.1529, 0.8247, 1.0515, 0.8664, 1.0921, 1.0826, 1.0463, 0.7822, 1.1715, 0.102, 0.2018, 0.8007, -0.074, 0.1268, -0.0034, 0.1179, 0.2258, 0.4568, 0.4331, 0.4331, 0.433, 0.433, 0.4211, 0.4154, 0.4154, 0.4154, 0.4154, 0.4154, 0.4137, 0.4136, 0.4109, 0.4097, 0.4097, 0.4097, 0.4097, 0.4097, 0.4097, 0.4097, 0.4097, 0.4097, 0.4095, 0.4095, 0.4095, 0.4083, 0.4082, 0.4056, 0.4055, 0.395, 0.3831, 0.3024, 0.2938, 0.3935, 0.2699, -0.1353, -0.1378, -0.2196, 0.3608, 0.2273, 0.3536, 0.3273, 0.3272, 0.3272, 0.3273, 0.3272, -0.1461, 0.3271, 0.2761, 0.1771, 0.0944, -0.351, -0.4547, 0.2176, 0.0645, 0.1096, -0.0797, -0.0278, -0.1347, -1.659, -1.7454, -3.1388, -0.154, -0.287, -1.4119, -0.8788, -2.2293, -1.2577, 1.7846, 1.7512, 1.6887, 1.6728, 1.6571, 1.6177, 1.5631, 1.5626, 1.5528, 1.5341, 1.4998, 1.4912, 1.4906, 1.4719, 1.4719, 1.4695, 1.4381, 1.423, 1.4134, 1.4048, 1.4002, 1.3967, 1.387, 1.3866, 1.3722, 1.3669, 1.3528, 1.3377, 1.2963, 1.2962, 1.1793, 1.2408, 1.1209, 1.0337, 1.1094, 1.2263, 0.7115, 0.7354, 0.4344, 0.4448, 0.4638, 0.6066, 1.296, 1.296, 1.2788, 1.2784, 1.2689, 1.2657, 1.2586, 1.2552, 1.2509, 1.2508, 1.2477, 1.2412, 1.2362, 1.2361, 1.2361, 1.236, 1.236, 1.236, 1.236, 1.236, 1.2315, 1.2246, 1.2242, 1.2242, 1.2242, 1.2241, 1.224, 1.2239, 1.2239, 1.2177, 1.0437, 1.1554, 1.1955, 1.1654, 1.0445, 1.0462, 1.178, 1.0117, 1.0802, 0.4566, 0.4337, 0.4325, 0.4324, 0.4324, 0.4324, 0.4208, 0.4208, 0.4208, 0.4208, 0.4208, 0.4124, 0.4123, 0.41, 0.4093, 0.4093, 0.4092, 0.409, 0.409, 0.4084, 0.4084, 0.4084, 0.4084, 0.4084, 0.4083, 0.4083, 0.4083, 0.4083, 0.4044, 0.4044, 0.3938, 0.3822, 0.3038, 0.2937, 0.3935, 0.271, 0.341, -0.1333, -0.1383, -0.2091, 0.3607, 0.2049, 0.2044, 0.3346, 0.3345, 0.3345, 0.3345, 0.3345, -0.2223, 0.2271, 0.1164, 0.3345, -0.1406, 0.2635, 0.2632, 0.2628, 0.0964, 0.1763, -0.4354, 0.2776, -0.0483, 0.1205, -0.2816, -0.0153, -1.6918, -1.3329, -1.6384, -0.0751, -1.3954, -3.1875, -0.2735, -0.2173, 1.6071, 1.4279, 1.3673, 1.3054, 1.272, 1.2693, 1.2449, 1.2388, 1.231, 1.2301, 1.2267, 1.1884, 1.1549, 1.1487, 1.1465, 1.132, 1.1164, 1.1115, 1.0981, 1.0913, 1.0874, 1.0874, 1.0729, 1.0706, 1.0697, 1.0691, 1.0689, 1.0674, 1.0633, 1.0597, 1.0536, 1.0174, 0.9577, 0.9852, 0.8363, 0.9368, 0.3739, 0.8709, 0.6979, 1.0256, 0.8567, 0.5777, 0.7049, 0.9014, 0.9161, 0.7578, 0.3892, 0.2161, 0.0788, 0.5898, -0.0333, 0.4567, 0.4366, 0.4192, 0.4191, 0.4191, 0.4191, 0.4133, 0.4075, 0.4075, 0.4074, 0.4074, 0.4074, 0.4074, 0.4072, 0.4047, 0.4046, 0.4046, 0.4006, 0.3997, 0.3996, 0.3965, 0.3965, 0.3965, 0.3965, 0.3965, 0.3965, 0.3964, 0.3964, 0.3964, 0.3928, 0.3928, 0.3644, 0.3643, 0.3642, 0.3641, 0.3639, 0.3638, 0.3785, 0.3637, 0.3635, 0.3634, 0.3634, 0.2334, 0.2333, 0.2332, 0.2332, 0.2328, 0.2328, 0.2328, 0.2328, 0.2325, 0.2325, 0.2323, 0.2323, 0.2322, 0.2322, 0.232, 0.2313, 0.1363, 0.1275, 0.1248, -0.9713, 0.0839, 0.0763, -1.1852, -0.1173, -0.0399, -0.5353, -0.2847, -0.2207, -0.2271, -0.1963, -1.5566, -1.2695, -1.5822, -1.7363, 2.1057, 1.9806, 1.8281, 1.6348, 1.6344, 1.6343, 1.6343, 1.6343, 1.6341, 1.634, 1.6339, 1.6339, 1.6339, 1.6339, 1.6338, 1.6338, 1.6338, 1.6133, 1.489, 1.4383, 1.3742, 1.3742, 1.3742, 1.3741, 1.374, 1.3739, 1.3739, 1.3738, 1.3738, 1.3738, 1.3738, 1.3208, 1.1809, 0.2215, 0.9516, -0.1085, -0.0706, 1.1034, 1.2971, 0.714, 1.0437, 0.5331, -0.2628, 0.4589, 2.486, 2.0578, 1.7586, 1.691, 1.419, 1.419, 1.419, 1.4189, 1.4189, 1.4189, 1.4189, 1.4188, 1.3004, 1.258, 1.1134, 1.1085, 1.0238, 1.0238, 1.0238, 1.0238, 1.0238, 1.0238, 1.0238, 1.0238, 1.0238, 1.0237, 1.0237, 1.0237, 0.9907, 0.981, 0.4927, 0.8119, 0.811, 0.6921, 0.7295, 0.96, 0.9595, 0.9594, -0.0778, 0.417, 0.3708, 0.1441, 0.0062, -1.3532, 0.7043, 0.4556, 0.4323, 0.4322, 0.4322, 0.4322, 0.4235, 0.4162, 0.4162, 0.4162, 0.4162, 0.4161, 0.412, 0.412, 0.4107, 0.4106, 0.4104, 0.4104, 0.4103, 0.4102, 0.4091, 0.4091, 0.4091, 0.409, 0.409, 0.4082, 0.4082, 0.4082, 0.4082, 0.4045, 0.4044, 0.3942, 0.3817, 0.303, 0.2932, 0.267, 0.3925, -0.1531, -0.1537, 0.3608, -0.2408, 0.227, 0.3288, 0.3531, 0.3288, 0.3287, 0.3286, 0.3286, 0.3285, 0.2786, -0.1546, 0.1047, 0.1755, -0.3365, -0.4472, 0.0687, 0.1136, 0.2183, -0.025, -0.078, -1.7088, -1.2782, -0.1369, -0.0779, -1.3914, -1.6692, -0.1589, -3.1837, -2.2164, -1.2483, -1.9279, 1.5176, 1.4634, 1.4155, 1.3944, 1.3808, 1.3597, 1.3122, 1.2971, 1.2783, 1.2753, 1.2733, 1.2673, 1.2595, 1.2197, 1.2002, 1.1756, 1.1655, 1.1359, 1.1293, 1.1172, 1.1122, 1.1092, 1.1045, 1.1006, 1.0987, 1.095, 1.0948, 1.0911, 1.0895, 1.0786, 0.9309, 0.9508, 0.7972, 0.925, 0.8275, 0.7125, 0.5335, 0.435, 0.5401, 0.7042, 0.6948, 0.7171, 0.173, 0.5115, -0.5385, -0.0614]}, \"token.table\": {\"Topic\": [15, 15, 12, 15, 12, 20, 12, 15, 20, 15, 20, 20, 20, 10, 12, 13, 15, 20, 7, 15, 20, 13, 13, 13, 15, 20, 15, 20, 9, 15, 20, 15, 20, 7, 13, 15, 20, 13, 15, 13, 20, 10, 12, 15, 20, 12, 13, 15, 20, 12, 20, 12, 15, 20, 13, 10, 20, 15, 9, 15, 20, 18, 2, 9, 10, 12, 15, 17, 20, 13, 15, 10, 15, 20, 10, 15, 20, 12, 13, 12, 10, 15, 20, 12, 20, 12, 15, 20, 9, 10, 12, 15, 20, 13, 13, 15, 20, 20, 9, 10, 13, 15, 20, 13, 9, 13, 15, 20, 15, 12, 13, 15, 20, 13, 15, 20, 15, 12, 12, 15, 20, 20, 15, 20, 15, 10, 15, 20, 15, 9, 10, 9, 10, 15, 13, 15, 15, 15, 20, 15, 20, 12, 10, 15, 20, 13, 13, 15, 20, 10, 12, 12, 15, 20, 12, 20, 15, 13, 13, 20, 13, 13, 15, 12, 15, 20, 13, 15, 20, 20, 9, 10, 13, 15, 20, 10, 20, 3, 9, 13, 15, 20, 13, 10, 15, 20, 5, 15, 20, 10, 10, 20, 10, 15, 20, 20, 15, 13, 15, 20, 10, 7, 20, 12, 13, 20, 13, 20, 15, 20, 13, 15, 15, 9, 15, 20, 9, 12, 15, 20, 9, 10, 12, 13, 15, 20, 2, 12, 15, 20, 15, 13, 20, 15, 20, 13, 15, 20, 10, 9, 10, 15, 15, 13, 9, 15, 20, 20, 15, 13, 13, 9, 12, 15, 20, 10, 9, 15, 20, 12, 20, 12, 15, 20, 5, 12, 15, 13, 10, 20, 10, 15, 20, 12, 20, 12, 15, 20, 13, 12, 13, 15, 15, 10, 15, 13, 15, 20, 10, 9, 15, 9, 10, 20, 20, 15, 12, 13, 12, 15, 20, 7, 7, 15, 20, 15, 20, 10, 12, 9, 12, 15, 20, 12, 10, 12, 20, 12, 15, 20, 13, 12, 15, 20, 13, 15, 12, 13, 15, 20, 10, 20, 7, 10, 12, 13, 15, 20, 13, 9, 15, 13, 15, 20, 15, 13, 9, 15, 15, 20, 12, 20, 12, 15, 20, 10, 20, 13, 3, 15, 10, 20, 10, 12, 15, 20, 15, 3, 15, 13, 15, 12, 13, 15, 20, 12, 15, 20, 12, 20, 12, 13, 15, 20, 13, 15, 20, 20, 13, 15, 13, 9, 20, 10, 12, 15, 20, 9, 10, 15, 20, 12, 15, 20, 15, 20, 13, 3, 13, 15, 5, 13, 15, 20, 15, 13, 15, 10, 15, 20, 15, 15, 20, 13, 7, 10, 15, 20, 7, 15, 13, 13, 15, 12, 20, 9, 12, 15, 20, 13, 12, 15, 20, 10, 10, 15, 20, 9, 13, 15, 20, 7, 15, 20, 13, 15, 20, 15, 20, 12, 7, 15, 9, 12, 20, 12, 15, 15, 20, 15, 20, 7, 15, 12, 15, 15, 20, 13, 12, 13, 15, 20, 15, 20, 17, 17, 12, 15, 13, 15, 13, 13, 9, 13, 12, 15, 20, 10, 10, 20, 13, 15, 7, 12, 15, 10, 9, 12, 13, 15, 20, 20, 13, 7, 7, 7, 15, 20, 12, 15, 20, 7, 9, 10, 12, 15, 20, 15, 20, 15, 12, 13, 15, 20, 9, 13, 10, 15, 20, 12, 20, 10, 13, 12, 13, 12, 15, 20, 2, 12, 10, 15, 20, 10, 12, 15, 20, 20, 15, 20, 9, 9, 10, 12, 15, 20, 13, 20, 15, 10, 15, 15, 13, 15, 20, 15, 20, 3, 12, 15, 20, 20, 10, 12, 13, 15, 20, 9, 15, 15, 13, 7, 15, 20, 10, 12, 15, 20, 15, 12, 20, 13, 9, 12, 15, 20, 10, 15, 20, 12, 15, 20, 15, 12, 10, 3, 10, 15, 20, 15, 15, 13, 20, 20, 12, 15, 15, 20, 13, 12, 15, 20, 13, 20, 3, 15, 20, 3, 12, 13, 15, 20, 15, 10, 12, 13, 15, 20, 15, 20, 12, 15, 18, 20, 3, 15, 15, 20, 10, 15, 9, 13, 15, 20, 10, 13, 15, 10, 9, 12, 15, 20, 20, 10, 9, 10, 15, 20, 20, 10, 13, 15, 20, 13, 13, 20, 9, 12, 13, 15, 20, 13, 13, 13], \"Freq\": [0.555926589283123, 0.616340152152937, 0.5859582435089753, 0.19531941450299176, 0.5072879136446755, 0.7677169803707744, 0.2592701560627437, 0.2592701560627437, 0.2592701560627437, 0.5574827058042552, 0.18582756860141839, 0.2829960755760983, 0.44291037990765275, 0.056938917804372005, 0.056938917804372005, 0.11387783560874401, 0.28469458902186, 0.39857242463060405, 0.31602707252002354, 0.3613343529407886, 0.1806671764703943, 0.30256178249268145, 0.8560131733842133, 0.3453523087311673, 0.21407051690472076, 0.4281410338094415, 0.7444453667760129, 0.10634933811085898, 0.32697638579337956, 0.5204911918736006, 0.17349706395786688, 0.3712188903307619, 0.24747926022050792, 0.4907321128223537, 0.871030862231911, 0.23022894719854764, 0.23022894719854764, 0.7967623129849565, 0.06639685941541304, 0.8157736314190108, 0.2864509081413924, 0.11864008569635191, 0.11864008569635191, 0.47456034278540765, 0.11864008569635191, 0.29196602232188024, 0.32816377206066627, 0.32816377206066627, 0.16408188603033314, 0.5667824160027224, 0.18892747200090745, 0.11463073804957898, 0.5731536902478949, 0.11463073804957898, 0.3025515412492655, 0.15371345207750206, 0.4611403562325062, 0.30827791346736416, 0.1745863292106791, 0.3491726584213582, 0.1745863292106791, 0.31957518291720405, 0.04494762248092427, 0.04494762248092427, 0.04494762248092427, 0.26968573488554565, 0.22473811240462135, 0.04494762248092427, 0.26968573488554565, 0.8858481542766866, 0.07086785234213493, 0.1017433529441751, 0.2034867058883502, 0.5087167647208755, 0.21068884519663186, 0.21068884519663186, 0.21068884519663186, 0.22457079117667939, 0.44914158235335877, 0.3084876012358472, 0.28758735610684866, 0.21155624408575832, 0.42311248817151664, 0.27793602717018606, 0.27793602717018606, 0.226558175919883, 0.226558175919883, 0.226558175919883, 0.07921983913467905, 0.07921983913467905, 0.07921983913467905, 0.4753190348080743, 0.3168793565387162, 0.5292284639355909, 0.5291531620192406, 0.634566495047017, 0.1269132990094034, 0.26356737687597254, 0.042124703167857144, 0.08424940633571429, 0.08424940633571429, 0.2106235158392857, 0.58974584435, 0.8308017684209446, 0.058962965809248064, 0.7075555897109768, 0.058962965809248064, 0.11792593161849613, 0.2956609330808449, 0.28867394681890485, 0.14433697340945242, 0.14433697340945242, 0.28867394681890485, 0.18935837333641972, 0.28403756000462954, 0.37871674667283944, 0.2585423021565792, 0.41389368399156307, 0.5145567600529313, 0.19806194189334259, 0.39612388378668517, 0.28373681661504, 0.5265893492460769, 0.17552978308202563, 0.3234730087540922, 0.5029959949536355, 0.5331964141016858, 0.1777321380338953, 0.30590596790152447, 0.32636180573554385, 0.31225844524369567, 0.24143395496360284, 0.24143395496360284, 0.24143395496360284, 0.3208677437187909, 0.5347795728646515, 0.5994185118179881, 0.553057817730783, 0.18435260591026098, 0.18874712788775205, 0.5662413836632562, 0.30849435242121903, 0.1849822274944844, 0.1849822274944844, 0.1849822274944844, 0.8170422838585358, 0.3025442663732089, 0.18861293351999592, 0.5658388005599878, 0.2998749250834193, 0.2864915969871911, 0.20894354394955755, 0.31341531592433636, 0.20894354394955755, 0.16355496471644768, 0.49066489414934306, 0.6836410653192584, 0.5767553400526463, 0.8456494188075209, 0.6911152127067195, 0.8158058667529856, 0.22434665167163462, 0.44869330334326923, 0.3720090622746939, 0.18600453113734694, 0.18600453113734694, 0.4763265064427212, 0.2381632532213606, 0.31632600830613394, 0.316313760793453, 0.13623672648091728, 0.13623672648091728, 0.27247345296183456, 0.13623672648091728, 0.27247345296183456, 0.2484048035241653, 0.2484048035241653, 0.33888391273199026, 0.062276896191525585, 0.5604920657237303, 0.24910758476610234, 0.062276896191525585, 0.5291706984595169, 0.2322861766952161, 0.2322861766952161, 0.2322861766952161, 0.22620836913991416, 0.22620836913991416, 0.22620836913991416, 0.42523702723284673, 0.30587409830069046, 0.29724297821084894, 0.32041056831161535, 0.625512142515237, 0.6989637426606213, 0.2355647356033866, 0.3434448459139928, 0.2380073079690487, 0.4760146159380974, 0.11900365398452435, 0.32041223280578224, 0.30978113093068965, 0.2726217620596149, 0.27168607453478216, 0.27168607453478216, 0.27168607453478216, 0.7887956042833899, 0.06067658494487615, 0.11845834848807936, 0.5922917424403968, 0.7996877574323368, 0.15993755148646735, 0.625152589028383, 0.17118759696145883, 0.5135627908843765, 0.17118759696145883, 0.08621692406091012, 0.17243384812182025, 0.17243384812182025, 0.43108462030455064, 0.0578717304413477, 0.0578717304413477, 0.0578717304413477, 0.5208455739721293, 0.0578717304413477, 0.1736151913240431, 0.09687222594184094, 0.09687222594184094, 0.3874889037673638, 0.1937444518836819, 0.3434513651351324, 0.814573134823519, 0.31632320603175645, 0.4538953487267027, 0.15129844957556754, 0.6889972714913672, 0.1968563632832478, 0.04921409082081195, 0.320414649241415, 0.32637279310752215, 0.22089469351582622, 0.22089469351582622, 0.34345426580149907, 0.8305937850283055, 0.21461259141577388, 0.21461259141577388, 0.21461259141577388, 0.7673157238868474, 0.3431163577975927, 0.8307683013589244, 0.5291604095337872, 0.22466091969536053, 0.22466091969536053, 0.22466091969536053, 0.22466091969536053, 0.32040066634954545, 0.18077182960629704, 0.36154365921259407, 0.36154365921259407, 0.2415865353718551, 0.2415865353718551, 0.1602919583998721, 0.3205839167997442, 0.3205839167997442, 0.09344557233138043, 0.09344557233138043, 0.654119006319663, 0.5290819022502451, 0.2179419699357379, 0.2179419699357379, 0.07736168073247264, 0.3868084036623632, 0.4641700843948358, 0.29302997772488093, 0.27116877350922014, 0.27347285589160486, 0.2978781817816833, 0.2978781817816833, 0.8306019419561307, 0.5058685785848839, 0.893735482012098, 0.3434610955865033, 0.6926538410177211, 0.40829500621403714, 0.20414750310701857, 0.14993512138497983, 0.07496756069248992, 0.6747080462324092, 0.3204138194554874, 0.32696833184427254, 0.5087788264231672, 0.15752822701801492, 0.15752822701801492, 0.4725846810540447, 0.4434748355360891, 0.5868398257755454, 0.27348798815361747, 0.9032018728128655, 0.12626175711660995, 0.5050470284664398, 0.12626175711660995, 0.32783456638885605, 0.32783863534390334, 0.14645508785801878, 0.4393652635740563, 0.212588814693888, 0.425177629387776, 0.25959363735077906, 0.3010391124629319, 0.21057820634414917, 0.21057820634414917, 0.21057820634414917, 0.21057820634414917, 0.31087232611158705, 0.32041684957356054, 0.2090506281374792, 0.4181012562749584, 0.18865674573758046, 0.18865674573758046, 0.3773134914751609, 0.8157228553450373, 0.13350993693912785, 0.2670198738782557, 0.40052981081738354, 0.5076272330566943, 0.16920907768556476, 0.04367184207349824, 0.6987494731759718, 0.04367184207349824, 0.17468736829399295, 0.2753209044961204, 0.30600096676023986, 0.056741451672179546, 0.17022435501653865, 0.11348290334435909, 0.11348290334435909, 0.22696580668871819, 0.2837072583608977, 0.3453622029771584, 0.24779607002519974, 0.24779607002519974, 0.326604196538721, 0.39192503584646526, 0.13064167861548842, 0.31586771184238477, 0.5291797956441442, 0.299828961378059, 0.299828961378059, 0.43779959331410717, 0.32050804614099493, 0.2606780718920507, 0.2606780718920507, 0.27871706534007534, 0.3716227537867671, 0.18581137689338356, 0.254832211413545, 0.254832211413545, 0.3453494858485598, 0.07291206056803758, 0.8020326662484133, 0.4331145500025724, 0.7242357793588707, 0.05932736398115108, 0.11865472796230216, 0.3559641838869064, 0.3559641838869064, 0.3106534167008352, 0.24952337551809242, 0.24952337551809242, 0.8350509336133014, 0.05964649525809296, 0.0650852528854583, 0.7810230346254996, 0.0650852528854583, 0.44578295396707407, 0.10401248019955898, 0.41604992079823594, 0.31203744059867694, 0.24421949567318063, 0.24421949567318063, 0.3168799388403882, 0.1584399694201941, 0.1584399694201941, 0.1584399694201941, 0.4159205860293925, 0.13864019534313085, 0.2772803906862617, 0.3264544328012735, 0.4764945530190161, 0.23824727650950805, 0.5292392097147864, 0.29872119299605093, 0.6090133575820166, 0.1833250379771838, 0.1833250379771838, 0.1833250379771838, 0.3666500759543676, 0.11337879040812511, 0.11337879040812511, 0.34013637122437534, 0.34013637122437534, 0.21485893416508797, 0.21485893416508797, 0.21485893416508797, 0.17037180407904268, 0.5111154122371281, 0.909872805679512, 0.0452948245002511, 0.452948245002511, 0.4076534205022599, 0.009952367502622876, 0.7066180926862241, 0.2687139225708176, 0.009952367502622876, 0.5978430348671288, 0.44640574733781946, 0.22320287366890973, 0.2679246508590466, 0.2679246508590466, 0.3404266867270801, 0.2488336747884584, 0.4825429208456295, 0.16084764028187648, 0.8166747172593513, 0.1769196371373136, 0.1769196371373136, 0.1769196371373136, 0.3538392742746272, 0.21910921104771158, 0.21910921104771158, 0.3025597043182798, 0.20356464410866454, 0.6106939323259936, 0.26301501716450787, 0.26301501716450787, 0.15503312045243428, 0.15503312045243428, 0.31006624090486856, 0.15503312045243428, 0.8157119215271552, 0.36879747139287117, 0.36879747139287117, 0.28373423156196076, 0.3204106693704671, 0.13809637104428898, 0.27619274208857797, 0.27619274208857797, 0.16172353200216497, 0.48517059600649487, 0.1368926355281898, 0.684463177640949, 0.21989835155522985, 0.21989835155522985, 0.4397967031104597, 0.8306801266689456, 0.14876833069632517, 0.5950733227853007, 0.2596673855195369, 0.2596673855195369, 0.27817818526736715, 0.3278189138202206, 0.26459980355984725, 0.3432142391880641, 0.4021265070514904, 0.2010632535257452, 0.4739338358050148, 0.2369669179025074, 0.15952988367267582, 0.4785896510180275, 0.6835735059555386, 0.1367147011911077, 0.2984282864163002, 0.2984282864163002, 0.278724645453603, 0.278724645453603, 0.2502575942336471, 0.2502575942336471, 0.5292003930177662, 0.47292419587870177, 0.7091946789471951, 0.16686933622286942, 0.041717334055717356, 0.2279985509983652, 0.4559971019967304, 0.3368039635669759, 0.32610165016812537, 0.24060163370493845, 0.24060163370493845, 0.9114874663934825, 0.04143124847243102, 0.8307523910814318, 0.9151961084539659, 0.34320337660990874, 0.5292018792932064, 0.35090010344983613, 0.17545005172491807, 0.17545005172491807, 0.2998595230037155, 0.26690114412117866, 0.26690114412117866, 0.45274114320926057, 0.22637057160463028, 0.3405494741394949, 0.2734483363502762, 0.9069847620583542, 0.3204130059688951, 0.03538455374929958, 0.03538455374929958, 0.03538455374929958, 0.49538375249019406, 0.38923009124229535, 0.6297271555212562, 0.5292222927805319, 0.34054869475302374, 0.340546640478418, 0.251118420810136, 0.251118420810136, 0.251118420810136, 0.4998336207867508, 0.5606419247084894, 0.46028568600881353, 0.06595214124570896, 0.06595214124570896, 0.06595214124570896, 0.06595214124570896, 0.5276171299656717, 0.13190428249141792, 0.5023249905035263, 0.20092999620141053, 0.34344841280791155, 0.4503685110333467, 0.8169318742266939, 0.41198296959031017, 0.20599148479515508, 0.3269778395954632, 0.3025512472695574, 0.12299311622510936, 0.49197246490043745, 0.24598623245021872, 0.3613812958821604, 0.1806906479410802, 0.26912236264483214, 0.5292097187568612, 0.28895537229509793, 0.3025596143782493, 0.2695854972152338, 0.46415081827659066, 0.23207540913829533, 0.2987412838211266, 0.2830619131541172, 0.29986768597320534, 0.2492637753532653, 0.2492637753532653, 0.10179145551505832, 0.20358291103011664, 0.30537436654517497, 0.20358291103011664, 0.8043118373811089, 0.2695948402120058, 0.2695948402120058, 0.32697761629399863, 0.14886749698888976, 0.14886749698888976, 0.14886749698888976, 0.2977349939777795, 0.14886749698888976, 0.8307125612485143, 0.581930030474945, 0.26347926966508983, 0.2675997550654876, 0.2675997550654876, 0.5551609692046184, 0.8308043975011008, 0.32411189879355223, 0.6039809576865667, 0.4341476838189742, 0.2170738419094871, 0.33965842762105886, 0.4099449468423684, 0.2049724734211842, 0.2049724734211842, 0.3112767374176152, 0.08607114186501089, 0.17214228373002177, 0.25821342559503263, 0.08607114186501089, 0.34428456746004354, 0.30015527238027373, 0.30015527238027373, 0.6150721032942883, 0.529154110624962, 0.17560062820371106, 0.17560062820371106, 0.3512012564074221, 0.1142114120478343, 0.1142114120478343, 0.1142114120478343, 0.5710570602391715, 0.4035674153120555, 0.3003842404676103, 0.5580445711434127, 0.5292321306009817, 0.06979376088607657, 0.06979376088607657, 0.2791750435443063, 0.41876256531645945, 0.1504094197295846, 0.3008188394591692, 0.1504094197295846, 0.14992168688378602, 0.449765060651358, 0.14992168688378602, 0.3057566794458563, 0.26666922947558674, 0.43313335067005093, 0.1455289356382671, 0.1455289356382671, 0.4365868069148013, 0.1455289356382671, 0.32731684775542064, 0.2869340830972595, 0.4255165324757887, 0.21275826623789434, 0.6438399251178495, 0.3143785211376478, 0.3143785211376478, 0.41887298245479165, 0.20943649122739583, 0.5291749975487989, 0.14632010736182394, 0.2926402147236479, 0.14632010736182394, 0.34535124445002674, 0.2802691556678379, 0.2674506492856627, 0.44575108214277115, 0.08915021642855422, 0.32929851196408555, 0.31668979818236226, 0.15834489909118113, 0.15834489909118113, 0.15834489909118113, 0.34345672403596184, 0.11436784569272831, 0.11436784569272831, 0.22873569138545663, 0.11436784569272831, 0.22873569138545663, 0.2631929977153677, 0.2631929977153677, 0.041228089890286285, 0.5359651685737217, 0.041228089890286285, 0.288596629232004, 0.3292760493700081, 0.3228008832237829, 0.5164664375283257, 0.17215547917610854, 0.3204121468515176, 0.6409500174984203, 0.3430310573455433, 0.5292037885284676, 0.14819201332775916, 0.5927680533110367, 0.18283066374280935, 0.3656613274856187, 0.18283066374280935, 0.32041474648077617, 0.11285826821315398, 0.11285826821315398, 0.33857480463946193, 0.33857480463946193, 0.6750604543901352, 0.32041476460229573, 0.07638857335040618, 0.07638857335040618, 0.07638857335040618, 0.6111085868032494, 0.6704510321929628, 0.05324252078699749, 0.5856677286569724, 0.05324252078699749, 0.21297008314798996, 0.5291751545073502, 0.8582739899356481, 0.053642124370978005, 0.026402604850168775, 0.026402604850168775, 0.2904286533518565, 0.5280520970033755, 0.1056104194006751, 0.8813915147462218, 0.909909746030176, 0.8814722767648616], \"Term\": [\"achieve\", \"ad\", \"air_bag\", \"air_bag\", \"airbag\", \"alabama\", \"alert\", \"alert\", \"alert\", \"alliance\", \"alliance\", \"allow\", \"alonso\", \"also\", \"also\", \"also\", \"also\", \"also\", \"amendment\", \"announce\", \"announce\", \"another_per\", \"asian_share\", \"australia_asx\", \"auto\", \"auto\", \"automaker\", \"automaker\", \"automotive_operate\", \"average\", \"average\", \"back\", \"back\", \"ball\", \"barrel\", \"base\", \"base\", \"benchmark\", \"benchmark\", \"benchmark_crude\", \"benefit\", \"big\", \"big\", \"big\", \"big\", \"black\", \"boost\", \"boost\", \"boost\", \"brake\", \"brake\", \"brand\", \"brand\", \"brand\", \"britain_ftse\", \"build\", \"build\", \"buyer\", \"call\", \"call\", \"call\", \"canadian\", \"car\", \"car\", \"car\", \"car\", \"car\", \"car\", \"car\", \"cent\", \"cent\", \"challenge\", \"challenge\", \"challenge\", \"change\", \"change\", \"change\", \"charge\", \"charge\", \"citroen\", \"city\", \"clean\", \"clean\", \"click\", \"click\", \"com\", \"com\", \"com\", \"come\", \"come\", \"come\", \"come\", \"come\", \"coming_week\", \"commentary_earning\", \"commercial\", \"commercial\", \"community\", \"company\", \"company\", \"company\", \"company\", \"company\", \"company_earning\", \"concern\", \"concern\", \"concern\", \"concern\", \"condition\", \"contact\", \"contact\", \"contact\", \"contact\", \"continue\", \"continue\", \"continue\", \"corolla\", \"cost\", \"could_stop\", \"country\", \"country\", \"coupon\", \"crossover\", \"crossover\", \"crowd\", \"culture\", \"customer\", \"customer\", \"cx\", \"damn\", \"date\", \"day\", \"day\", \"day\", \"decline\", \"decline\", \"delivery\", \"demand\", \"demand\", \"development\", \"development\", \"diamond\", \"different\", \"different\", \"different\", \"digesting_full\", \"dipped_per\", \"director\", \"director\", \"doll\", \"door\", \"drive\", \"drive\", \"drive\", \"driver\", \"driver\", \"drop\", \"early_trade\", \"economy_yield\", \"education\", \"electronic_trade\", \"email\", \"email\", \"engine\", \"engine\", \"engine\", \"equity_market\", \"equity_market\", \"esso\", \"esso_smile\", \"even\", \"even\", \"even\", \"even\", \"even\", \"ever\", \"ever\", \"exist\", \"expect\", \"expect\", \"expect\", \"expect\", \"expected_market\", \"experience\", \"experience\", \"experience\", \"export\", \"export\", \"export\", \"factory\", \"favorite\", \"feed\", \"festival\", \"fiat_chrysler\", \"fill\", \"find\", \"flag\", \"follow\", \"follow\", \"follow\", \"food\", \"foot\", \"forum\", \"front\", \"front\", \"front\", \"fuel\", \"fuel\", \"future\", \"future\", \"gain\", \"gain\", \"game\", \"general_motor\", \"general_motor\", \"general_motor\", \"get\", \"get\", \"get\", \"get\", \"go\", \"go\", \"go\", \"go\", \"go\", \"go\", \"good\", \"good\", \"good\", \"good\", \"google_alert\", \"google_parent\", \"grade\", \"grow\", \"grow\", \"growth\", \"growth\", \"growth\", \"guest\", \"guy\", \"hand\", \"hand\", \"happens_update\", \"higher_rates_could_weigh\", \"hit\", \"hit\", \"hit\", \"hma\", \"hook\", \"hover\", \"ig\", \"impact\", \"impact\", \"impact\", \"impact\", \"importantly\", \"improvement\", \"improvement\", \"improvement\", \"inch\", \"inch\", \"include\", \"include\", \"include\", \"increase\", \"increase\", \"increase\", \"index_due\", \"industrial\", \"industrial\", \"industry\", \"industry\", \"industry\", \"inflate\", \"information\", \"inspect_serial\", \"inspection\", \"inspection\", \"interest_rate\", \"interior\", \"investors_evaluate\", \"irrelevant\", \"january_sale\", \"japanese\", \"japanese\", \"job\", \"job\", \"job\", \"jonamagashi\", \"key_commoditie\", \"kia\", \"know\", \"know\", \"know\", \"land\", \"last_month\", \"late_march\", \"latest_earning\", \"launch\", \"launch\", \"launch\", \"law\", \"law_amendment\", \"lead\", \"lead\", \"leader\", \"leader\", \"learn\", \"leather\", \"leave\", \"leave\", \"leave\", \"leave\", \"lexus_rx\", \"life\", \"line\", \"line\", \"link\", \"link\", \"link\", \"london_currencie\", \"look\", \"look\", \"look\", \"loss\", \"loss\", \"low\", \"low\", \"low\", \"low\", \"machinery\", \"maintenance\", \"make\", \"make\", \"make\", \"make\", \"make\", \"make\", \"man_studie\", \"margin\", \"margin\", \"market\", \"market\", \"market\", \"market_share\", \"market_strategist\", \"maybe\", \"maybe\", \"meanwhile\", \"meeting\", \"mile\", \"mile\", \"model\", \"model\", \"model\", \"modern\", \"modern\", \"modify\", \"month\", \"month\", \"museum\", \"need\", \"new\", \"new\", \"new\", \"new\", \"new_tire\", \"new_vehicle\", \"new_vehicle\", \"new_york\", \"new_york\", \"note\", \"note\", \"note\", \"ntcar\", \"number\", \"number\", \"number\", \"occur\", \"occur\", \"offers_post_id\", \"offers_post_id\", \"offers_post_id\", \"offers_post_id\", \"officer\", \"officer\", \"officer\", \"oil\", \"one_time\", \"one_time\", \"open_lower\", \"operating_margin\", \"opportunity\", \"original\", \"original\", \"original\", \"original\", \"part\", \"part\", \"part\", \"part\", \"passenger\", \"passenger\", \"passenger\", \"pay\", \"pay\", \"per_barrel\", \"per_cent\", \"per_cent\", \"per_cent\", \"percent\", \"percent\", \"percent\", \"percent\", \"percent_automobile\", \"percent_respectively\", \"percent_respectively\", \"perform\", \"perform\", \"permalink\", \"pick\", \"plan\", \"plan\", \"plate\", \"play\", \"play\", \"play\", \"play\", \"player\", \"player\", \"poised\", \"post\", \"post\", \"premium\", \"premium\", \"price\", \"price\", \"price\", \"price\", \"price_international\", \"prius\", \"prius\", \"prize\", \"process\", \"production\", \"production\", \"production\", \"profit\", \"profit\", \"program\", \"program\", \"promote\", \"promote\", \"promote\", \"prospect\", \"provide\", \"provide\", \"quality\", \"quality\", \"quite\", \"rationale\", \"reach\", \"real_issue\", \"rear\", \"rear\", \"recall\", \"recall\", \"receive\", \"receive\", \"record\", \"record\", \"referee\", \"referee\", \"reliability\", \"reliability\", \"remain\", \"remain\", \"remains_much\", \"replace\", \"report\", \"report\", \"report\", \"research\", \"research\", \"review\", \"reviews_price\", \"ride\", \"ride\", \"rise\", \"rise\", \"risen_swiftly\", \"rising_bond\", \"rising_commodity\", \"rising_sale\", \"road\", \"road\", \"road\", \"robot\", \"robotic\", \"robotic\", \"row\", \"row\", \"rugby\", \"safety\", \"sale\", \"sauce\", \"say\", \"say\", \"say\", \"say\", \"say\", \"school\", \"score_european\", \"scrum\", \"scrum_law\", \"season\", \"season\", \"season\", \"seat\", \"second\", \"sector\", \"see\", \"see\", \"see\", \"see\", \"see\", \"see\", \"sell\", \"sell\", \"send_feedback\", \"sensor\", \"sentiment_keepe\", \"service\", \"service\", \"shanks_said\", \"shed_per\", \"show\", \"show\", \"show\", \"side\", \"side\", \"simple\", \"singapore_said\", \"sle\", \"slipped_per\", \"snowmobile\", \"solid\", \"solid\", \"soul\", \"space\", \"spice\", \"stand\", \"stand\", \"start\", \"start\", \"start\", \"start\", \"state\", \"statement\", \"statement\", \"steel\", \"still\", \"still\", \"still\", \"still\", \"still\", \"stoking_investor\", \"store\", \"strength\", \"string\", \"string\", \"strong\", \"stronger_economic\", \"subscribe\", \"supplier\", \"support\", \"support\", \"suv_registration\", \"system\", \"system\", \"system\", \"tackle\", \"take\", \"take\", \"take\", \"take\", \"take\", \"talk\", \"talk\", \"target\", \"tax_cut\", \"team\", \"team\", \"team\", \"technology\", \"technology\", \"technology\", \"technology\", \"term\", \"text\", \"think\", \"third_annual\", \"time\", \"time\", \"time\", \"time\", \"today\", \"today\", \"today\", \"top\", \"top\", \"top\", \"top_selle\", \"touchscreen\", \"tour\", \"toyota\", \"toyota\", \"toyota\", \"toyota\", \"toyota_motor\", \"toyota_rav\", \"trade\", \"trade\", \"training\", \"transmission_automatic\", \"transmission_automatic\", \"trend\", \"trend\", \"triple\", \"truck\", \"truck\", \"truck\", \"tweet\", \"type\", \"unit\", \"unit\", \"unit\", \"units_followed\", \"unsolicited_service\", \"unsolicited_service\", \"unsolicited_service\", \"unsolicited_service\", \"unsubscribe\", \"use\", \"use\", \"use\", \"use\", \"use\", \"value\", \"value\", \"vehicle\", \"vehicle\", \"vehicle\", \"vehicle\", \"vehicle_registration\", \"vehicle_sale\", \"version\", \"version\", \"vinegar\", \"volume\", \"wait\", \"wall_street\", \"want\", \"want\", \"watch\", \"watch\", \"watch\", \"weaving\", \"well\", \"well\", \"well\", \"well\", \"win\", \"wood\", \"work\", \"work\", \"work\", \"work\", \"workforce\", \"world\", \"world\", \"world\", \"world\", \"world_stock\", \"worry\", \"worry\", \"year\", \"year\", \"year\", \"year\", \"year\", \"year_treasury\", \"yen\", \"yield\"]}, \"R\": 30, \"lambda.step\": 0.01, \"plot.opts\": {\"xlab\": \"PC1\", \"ylab\": \"PC2\"}, \"topic.order\": [1, 2, 3, 4, 5, 6, 7, 8, 9, 10, 11, 12, 13, 14, 15, 16, 17, 18, 19, 20]};\n",
       "\n",
       "function LDAvis_load_lib(url, callback){\n",
       "  var s = document.createElement('script');\n",
       "  s.src = url;\n",
       "  s.async = true;\n",
       "  s.onreadystatechange = s.onload = callback;\n",
       "  s.onerror = function(){console.warn(\"failed to load library \" + url);};\n",
       "  document.getElementsByTagName(\"head\")[0].appendChild(s);\n",
       "}\n",
       "\n",
       "if(typeof(LDAvis) !== \"undefined\"){\n",
       "   // already loaded: just create the visualization\n",
       "   !function(LDAvis){\n",
       "       new LDAvis(\"#\" + \"ldavis_el242921399444011383841338835926\", ldavis_el242921399444011383841338835926_data);\n",
       "   }(LDAvis);\n",
       "}else if(typeof define === \"function\" && define.amd){\n",
       "   // require.js is available: use it to load d3/LDAvis\n",
       "   require.config({paths: {d3: \"https://d3js.org/d3.v5\"}});\n",
       "   require([\"d3\"], function(d3){\n",
       "      window.d3 = d3;\n",
       "      LDAvis_load_lib(\"https://cdn.jsdelivr.net/gh/bmabey/pyLDAvis@3.3.1/pyLDAvis/js/ldavis.v3.0.0.js\", function(){\n",
       "        new LDAvis(\"#\" + \"ldavis_el242921399444011383841338835926\", ldavis_el242921399444011383841338835926_data);\n",
       "      });\n",
       "    });\n",
       "}else{\n",
       "    // require.js not available: dynamically load d3 & LDAvis\n",
       "    LDAvis_load_lib(\"https://d3js.org/d3.v5.js\", function(){\n",
       "         LDAvis_load_lib(\"https://cdn.jsdelivr.net/gh/bmabey/pyLDAvis@3.3.1/pyLDAvis/js/ldavis.v3.0.0.js\", function(){\n",
       "                 new LDAvis(\"#\" + \"ldavis_el242921399444011383841338835926\", ldavis_el242921399444011383841338835926_data);\n",
       "            })\n",
       "         });\n",
       "}\n",
       "</script>"
      ],
      "text/plain": [
       "<IPython.core.display.HTML object>"
      ]
     },
     "execution_count": 26,
     "metadata": {},
     "output_type": "execute_result"
    }
   ],
   "source": [
    "%%time\n",
    "\n",
    "lda_display = gensimvis.prepare(tuned_lda_model, doc_term_matrix, dictionary, sort_topics=False, mds='mmds')\n",
    "pyLDAvis.display(lda_display)"
   ]
  },
  {
   "cell_type": "code",
   "execution_count": null,
   "metadata": {},
   "outputs": [],
   "source": []
  },
  {
   "cell_type": "code",
   "execution_count": null,
   "metadata": {},
   "outputs": [],
   "source": []
  },
  {
   "cell_type": "code",
   "execution_count": null,
   "metadata": {},
   "outputs": [],
   "source": []
  },
  {
   "cell_type": "code",
   "execution_count": 27,
   "metadata": {},
   "outputs": [
    {
     "data": {
      "text/plain": [
       "'Sat, 29 October 2022 16:32:27'"
      ]
     },
     "execution_count": 27,
     "metadata": {},
     "output_type": "execute_result"
    }
   ],
   "source": [
    "import datetime\n",
    "import pytz\n",
    "\n",
    "datetime.datetime.now(pytz.timezone('US/Central')).strftime(\"%a, %d %B %Y %H:%M:%S\")"
   ]
  }
 ],
 "metadata": {
  "anaconda-cloud": {},
  "kernelspec": {
   "display_name": "Python 3 (ipykernel)",
   "language": "python",
   "name": "python3"
  },
  "language_info": {
   "codemirror_mode": {
    "name": "ipython",
    "version": 3
   },
   "file_extension": ".py",
   "mimetype": "text/x-python",
   "name": "python",
   "nbconvert_exporter": "python",
   "pygments_lexer": "ipython3",
   "version": "3.7.12"
  }
 },
 "nbformat": 4,
 "nbformat_minor": 4
}
