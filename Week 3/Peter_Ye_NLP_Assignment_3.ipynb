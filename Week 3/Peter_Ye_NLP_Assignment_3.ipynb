{
 "cells": [
  {
   "cell_type": "markdown",
   "metadata": {},
   "source": [
    "## NLP Class Assignment 3"
   ]
  },
  {
   "cell_type": "markdown",
   "source": [
    "#### Import Package"
   ],
   "metadata": {
    "collapsed": false
   }
  },
  {
   "cell_type": "code",
   "execution_count": 1,
   "metadata": {
    "ExecuteTime": {
     "end_time": "2024-02-06T08:09:59.104846Z",
     "start_time": "2024-02-06T08:09:55.988515Z"
    }
   },
   "outputs": [],
   "source": [
    "import re\n",
    "import pandas as pd\n",
    "import itertools\n",
    "from nltk import ngrams\n",
    "from nltk.metrics.distance import jaccard_distance\n",
    "from nltk.tokenize import TweetTokenizer, RegexpTokenizer\n",
    "import matplotlib.pyplot as plt\n",
    "import nltk as nltk\n",
    "import nltk.corpus  \n",
    "\n",
    "\n",
    "pd.set_option('display.max_rows', 100)\n",
    "pd.set_option('display.max_columns', None)\n",
    "pd.set_option('display.max_colwidth', 500)"
   ]
  },
  {
   "cell_type": "markdown",
   "metadata": {},
   "source": [
    "#### Read news data"
   ]
  },
  {
   "cell_type": "code",
   "execution_count": 2,
   "metadata": {
    "ExecuteTime": {
     "end_time": "2024-02-06T08:10:01.379092Z",
     "start_time": "2024-02-06T08:10:00.648485Z"
    }
   },
   "outputs": [
    {
     "name": "stdout",
     "output_type": "stream",
     "text": [
      "Sample contains 1,018 news articles\n"
     ]
    },
    {
     "data": {
      "text/plain": "                                                                                                                                                 url  \\\n0                                                                                        https://auto.hindustantimes.com/lml-bikes/dealers/bodh-gaya   \n1                                                                                        https://auto.hindustantimes.com/pure-ev-bikes/dealers/avadi   \n2  https://www.ktre.com/prnewswire/2022/06/07/syncron-price-selected-by-mitsubishi-motors-corporation-boost-enhanced-service-parts-pricing-strategy/   \n3                                                                         https://www.motoroids.com/news/mahindra-teases-its-future-electric-lineup/   \n4                                                                                        https://auto.hindustantimes.com/jawa-bikes/dealers/vadodara   \n5                                                                         https://auto.hindustantimes.com/mahindra-cars/e2oplus/offers-in-darjeeling   \n6                                                                                      https://news.yahoo.com/ex-nissan-us-exec-kelly-175354274.html   \n7                                                             https://www.autocar.co.uk/car-news/new-cars/bmw-m3-vs-audi-rs3-4wd-sports-saloons-face   \n8                                                                       https://www.rttnews.com/3276727/european-shares-climb-on-earnings-boost.aspx   \n9                                                                           https://auto.hindustantimes.com/astonmartin-cars/vantage/offers-in-kagal   \n\n        date language  \\\n0 2022-01-21       en   \n1 2022-01-21       en   \n2 2022-06-07       en   \n3 2022-02-14       en   \n4 2022-01-07       en   \n5 2022-03-15       en   \n6 2022-03-03       en   \n7 2022-01-03       en   \n8 2022-04-20       en   \n9 2022-03-13       en   \n\n                                                                                                      title  \\\n0                                                      Lml Bikes Car Dealers - Lml Bikes Showrooms in India   \n1                                              Pure Ev Bikes Car Dealers - Pure Ev Bikes Showrooms in India   \n2  Syncron Price Selected by Mitsubishi Motors Corporation to Boost Enhanced Service Parts Pricing Strategy   \n3                                                   Mahindra Teases Its Future Electric Lineup! | Motoroids   \n4                                                    Jawa Bikes Car Dealers - Jawa Bikes Showrooms in India   \n5                                        Mahindra E2o-plus Car Discount Offers in Darjeeling for March 2022   \n6                                               Ex-Nissan US exec Kelly gets suspended sentence, to go home   \n7                                                 BMW M3 vs Audi RS3: 4WD sports saloons face off | Autocar   \n8                                                          \\r \\tEuropean Shares Climb On Earnings Boost \\r    \n9                                          Aston Martin Vantage Car Discount Offers in Kagal for March 2022   \n\n                                                                                                                                                                                                                                                                                                                                                                                                                                                                                                                  text  \n0  Lml Bikes Car Dealers - Lml Bikes Showrooms in India Explore  Friday, 21 January 2022 Log in/Sign up SearchNotificationsTop SectionsAuto NewsCar NewsBike NewsLatestAuto NewsPhotosVideosElectric VehiclesTrendingMy ReadsOffersnewFind carsFind bikesCompare carsCompare bikesEMI calculatorDealersExplore AutoAbout UsContact UsSITEMAPRSSTerms of UsePrivacy PolicyCopyright © HT Media Limited All rights reserved.HomeOffersnewFind carsFind bikesCompare carsCompare bikesEMI calculatorDealersCar NewsBik...  \n1  Pure Ev Bikes Car Dealers - Pure Ev Bikes Showrooms in India Explore  Friday, 21 January 2022 Log in/Sign up SearchNotificationsTop SectionsAuto NewsCar NewsBike NewsLatestAuto NewsPhotosVideosElectric VehiclesTrendingMy ReadsOffersnewFind carsFind bikesCompare carsCompare bikesEMI calculatorDealersExplore AutoAbout UsContact UsSITEMAPRSSTerms of UsePrivacy PolicyCopyright © HT Media Limited All rights reserved.HomeOffersnewFind carsFind bikesCompare carsCompare bikesEMI calculatorDealersCar...  \n2  Syncron Price Selected by Mitsubishi Motors Corporation to Boost Enhanced Service Parts Pricing StrategySkip to contentCircle - Country Music & LifestyleAdvertise With UsTeacher TributeAsk The ExpertThank A NurseBe ExcellentWatch LiveNewsElectionsVaccine TrackerVideoWeatherSportsCommunityContestsAbout UsCOVID-19SearchHomeSee it, Snap it, Send itNewsStorm of the CenturyNationalStateEditorialInvestigateEast Texas Ag NewsCrimeEast Texas NowThe Next NormalSept 11thWeatherSign Up for ThunderCallL...  \n3  Mahindra Teases Its Future Electric Lineup! | Motoroids Motoroids BlogMotoroids Forum AuthorsContact usSubmit storyAdvertise with usPrivacy Policy Search HomeAuto NewsFeaturesLaunchesUpcoming CarsUpcoming SUVsUpcoming BikesRecent LaunchesReviewsModsModified BikesModified CarsInteresting / Off-beatLists100cc Bikes110cc Bikes125cc Bikes150cc Bikes160cc Bikes200cc Bikes250cc Bikes300cc – 350cc BikesBikes In IndiaCars in IndiaForums Trending: Triumph Trident 660 Gets Pricier! HomeNewsMahindra Te...  \n4  Jawa Bikes Car Dealers - Jawa Bikes Showrooms in India Explore  Saturday, 8 January 2022 Log in/Sign up SearchNotificationsTop SectionsAuto NewsCar NewsBike NewsLatestAuto NewsPhotosVideosElectric VehiclesTrendingMy ReadsOffersnewFind carsFind bikesCompare carsCompare bikesEMI calculatorDealersExplore AutoAbout UsContact UsSITEMAPRSSTerms of UsePrivacy PolicyCopyright © HT Media Limited All rights reserved.HomeOffersnewFind carsFind bikesCompare carsCompare bikesEMI calculatorDealersCar News...  \n5  Mahindra E2o-plus Car Discount Offers in Darjeeling for March 2022 Explore  Tuesday, 15 March 2022 Log in/Sign up SearchNotificationsTop SectionsAuto NewsCar NewsBike NewsLatestAuto NewsPhotosVideosElectric VehiclesTrendingMy ReadsOffersnewFind carsFind bikesCompare carsCompare bikesEMI calculatorDealersExplore AutoAbout UsContact UsSITEMAPRSSTerms of UsePrivacy PolicyCopyright © HT Media Limited All rights reserved.HomeOffersnewFind carsFind bikesCompare carsCompare bikesEMI calculatorDeale...  \n6  Ex-Nissan US exec Kelly gets suspended sentence, to go home         HOME    MAIL    NEWS    FINANCE    SPORTS    ENTERTAINMENT    LIFE    SHOPPING    YAHOO PLUS    MORE...     Download the Yahoo News app           Yahoo News  Search query     Sign in   Mail Sign in to view your mail    News   News   US   US   Politics   Politics   World   World   COVID-19   COVID-19   Climate Change   Climate Change  Originals   Originals   The 360The 360 SkullduggerySkullduggery ConspiracylandConspiracyland...  \n7  BMW M3 vs Audi RS3: 4WD sports saloons face off | Autocar Car ReviewsLatest car reviewsIn-depth road test reviewsFirst drive reviewsLong-term reviewsTop 10s: Best Cars on saleVideo reviewsCar NewsLatest newsAdviceOpinionsFeaturesUsed carsUsed car homeUsed car dealsNearly new buying guidesUsed car buying guidesElectricMotorsportBusinessLatest Business newsWebinars and podcasts OffersGap InsuranceWarrantyLeasingSell your carSubscribeSubscribe to magazineAutocar NewsletterAutocar Archive…Car Re...  \n8  European Shares Climb On Earnings Boost  ▮ Home ▮ Business                    Latest HeadlinesTop StoriesBreaking                    NewsEarningsBiotechInvestorsStock AlertsIPOsM&ACanadianUKKey Wallstreet                    Events▮ Industry                    News                            Technology                            Software                            Banking                            Automotive                            EnergyMore▮ Corp. CalendarsDividendsStock                ...  \n9  Aston Martin Vantage Car Discount Offers in Kagal for March 2022 Explore  Sunday, 13 March 2022 Log in/Sign up SearchNotificationsTop SectionsAuto NewsCar NewsBike NewsLatestAuto NewsPhotosVideosElectric VehiclesTrendingMy ReadsOffersnewFind carsFind bikesCompare carsCompare bikesEMI calculatorDealersExplore AutoAbout UsContact UsSITEMAPRSSTerms of UsePrivacy PolicyCopyright © HT Media Limited All rights reserved.HomeOffersnewFind carsFind bikesCompare carsCompare bikesEMI calculatorDealersC...  ",
      "text/html": "<div>\n<style scoped>\n    .dataframe tbody tr th:only-of-type {\n        vertical-align: middle;\n    }\n\n    .dataframe tbody tr th {\n        vertical-align: top;\n    }\n\n    .dataframe thead th {\n        text-align: right;\n    }\n</style>\n<table border=\"1\" class=\"dataframe\">\n  <thead>\n    <tr style=\"text-align: right;\">\n      <th></th>\n      <th>url</th>\n      <th>date</th>\n      <th>language</th>\n      <th>title</th>\n      <th>text</th>\n    </tr>\n  </thead>\n  <tbody>\n    <tr>\n      <th>0</th>\n      <td>https://auto.hindustantimes.com/lml-bikes/dealers/bodh-gaya</td>\n      <td>2022-01-21</td>\n      <td>en</td>\n      <td>Lml Bikes Car Dealers - Lml Bikes Showrooms in India</td>\n      <td>Lml Bikes Car Dealers - Lml Bikes Showrooms in India Explore  Friday, 21 January 2022 Log in/Sign up SearchNotificationsTop SectionsAuto NewsCar NewsBike NewsLatestAuto NewsPhotosVideosElectric VehiclesTrendingMy ReadsOffersnewFind carsFind bikesCompare carsCompare bikesEMI calculatorDealersExplore AutoAbout UsContact UsSITEMAPRSSTerms of UsePrivacy PolicyCopyright © HT Media Limited All rights reserved.HomeOffersnewFind carsFind bikesCompare carsCompare bikesEMI calculatorDealersCar NewsBik...</td>\n    </tr>\n    <tr>\n      <th>1</th>\n      <td>https://auto.hindustantimes.com/pure-ev-bikes/dealers/avadi</td>\n      <td>2022-01-21</td>\n      <td>en</td>\n      <td>Pure Ev Bikes Car Dealers - Pure Ev Bikes Showrooms in India</td>\n      <td>Pure Ev Bikes Car Dealers - Pure Ev Bikes Showrooms in India Explore  Friday, 21 January 2022 Log in/Sign up SearchNotificationsTop SectionsAuto NewsCar NewsBike NewsLatestAuto NewsPhotosVideosElectric VehiclesTrendingMy ReadsOffersnewFind carsFind bikesCompare carsCompare bikesEMI calculatorDealersExplore AutoAbout UsContact UsSITEMAPRSSTerms of UsePrivacy PolicyCopyright © HT Media Limited All rights reserved.HomeOffersnewFind carsFind bikesCompare carsCompare bikesEMI calculatorDealersCar...</td>\n    </tr>\n    <tr>\n      <th>2</th>\n      <td>https://www.ktre.com/prnewswire/2022/06/07/syncron-price-selected-by-mitsubishi-motors-corporation-boost-enhanced-service-parts-pricing-strategy/</td>\n      <td>2022-06-07</td>\n      <td>en</td>\n      <td>Syncron Price Selected by Mitsubishi Motors Corporation to Boost Enhanced Service Parts Pricing Strategy</td>\n      <td>Syncron Price Selected by Mitsubishi Motors Corporation to Boost Enhanced Service Parts Pricing StrategySkip to contentCircle - Country Music &amp; LifestyleAdvertise With UsTeacher TributeAsk The ExpertThank A NurseBe ExcellentWatch LiveNewsElectionsVaccine TrackerVideoWeatherSportsCommunityContestsAbout UsCOVID-19SearchHomeSee it, Snap it, Send itNewsStorm of the CenturyNationalStateEditorialInvestigateEast Texas Ag NewsCrimeEast Texas NowThe Next NormalSept 11thWeatherSign Up for ThunderCallL...</td>\n    </tr>\n    <tr>\n      <th>3</th>\n      <td>https://www.motoroids.com/news/mahindra-teases-its-future-electric-lineup/</td>\n      <td>2022-02-14</td>\n      <td>en</td>\n      <td>Mahindra Teases Its Future Electric Lineup! | Motoroids</td>\n      <td>Mahindra Teases Its Future Electric Lineup! | Motoroids Motoroids BlogMotoroids Forum AuthorsContact usSubmit storyAdvertise with usPrivacy Policy Search HomeAuto NewsFeaturesLaunchesUpcoming CarsUpcoming SUVsUpcoming BikesRecent LaunchesReviewsModsModified BikesModified CarsInteresting / Off-beatLists100cc Bikes110cc Bikes125cc Bikes150cc Bikes160cc Bikes200cc Bikes250cc Bikes300cc – 350cc BikesBikes In IndiaCars in IndiaForums Trending: Triumph Trident 660 Gets Pricier! HomeNewsMahindra Te...</td>\n    </tr>\n    <tr>\n      <th>4</th>\n      <td>https://auto.hindustantimes.com/jawa-bikes/dealers/vadodara</td>\n      <td>2022-01-07</td>\n      <td>en</td>\n      <td>Jawa Bikes Car Dealers - Jawa Bikes Showrooms in India</td>\n      <td>Jawa Bikes Car Dealers - Jawa Bikes Showrooms in India Explore  Saturday, 8 January 2022 Log in/Sign up SearchNotificationsTop SectionsAuto NewsCar NewsBike NewsLatestAuto NewsPhotosVideosElectric VehiclesTrendingMy ReadsOffersnewFind carsFind bikesCompare carsCompare bikesEMI calculatorDealersExplore AutoAbout UsContact UsSITEMAPRSSTerms of UsePrivacy PolicyCopyright © HT Media Limited All rights reserved.HomeOffersnewFind carsFind bikesCompare carsCompare bikesEMI calculatorDealersCar News...</td>\n    </tr>\n    <tr>\n      <th>5</th>\n      <td>https://auto.hindustantimes.com/mahindra-cars/e2oplus/offers-in-darjeeling</td>\n      <td>2022-03-15</td>\n      <td>en</td>\n      <td>Mahindra E2o-plus Car Discount Offers in Darjeeling for March 2022</td>\n      <td>Mahindra E2o-plus Car Discount Offers in Darjeeling for March 2022 Explore  Tuesday, 15 March 2022 Log in/Sign up SearchNotificationsTop SectionsAuto NewsCar NewsBike NewsLatestAuto NewsPhotosVideosElectric VehiclesTrendingMy ReadsOffersnewFind carsFind bikesCompare carsCompare bikesEMI calculatorDealersExplore AutoAbout UsContact UsSITEMAPRSSTerms of UsePrivacy PolicyCopyright © HT Media Limited All rights reserved.HomeOffersnewFind carsFind bikesCompare carsCompare bikesEMI calculatorDeale...</td>\n    </tr>\n    <tr>\n      <th>6</th>\n      <td>https://news.yahoo.com/ex-nissan-us-exec-kelly-175354274.html</td>\n      <td>2022-03-03</td>\n      <td>en</td>\n      <td>Ex-Nissan US exec Kelly gets suspended sentence, to go home</td>\n      <td>Ex-Nissan US exec Kelly gets suspended sentence, to go home         HOME    MAIL    NEWS    FINANCE    SPORTS    ENTERTAINMENT    LIFE    SHOPPING    YAHOO PLUS    MORE...     Download the Yahoo News app           Yahoo News  Search query     Sign in   Mail Sign in to view your mail    News   News   US   US   Politics   Politics   World   World   COVID-19   COVID-19   Climate Change   Climate Change  Originals   Originals   The 360The 360 SkullduggerySkullduggery ConspiracylandConspiracyland...</td>\n    </tr>\n    <tr>\n      <th>7</th>\n      <td>https://www.autocar.co.uk/car-news/new-cars/bmw-m3-vs-audi-rs3-4wd-sports-saloons-face</td>\n      <td>2022-01-03</td>\n      <td>en</td>\n      <td>BMW M3 vs Audi RS3: 4WD sports saloons face off | Autocar</td>\n      <td>BMW M3 vs Audi RS3: 4WD sports saloons face off | Autocar Car ReviewsLatest car reviewsIn-depth road test reviewsFirst drive reviewsLong-term reviewsTop 10s: Best Cars on saleVideo reviewsCar NewsLatest newsAdviceOpinionsFeaturesUsed carsUsed car homeUsed car dealsNearly new buying guidesUsed car buying guidesElectricMotorsportBusinessLatest Business newsWebinars and podcasts OffersGap InsuranceWarrantyLeasingSell your carSubscribeSubscribe to magazineAutocar NewsletterAutocar Archive…Car Re...</td>\n    </tr>\n    <tr>\n      <th>8</th>\n      <td>https://www.rttnews.com/3276727/european-shares-climb-on-earnings-boost.aspx</td>\n      <td>2022-04-20</td>\n      <td>en</td>\n      <td>\\r \\tEuropean Shares Climb On Earnings Boost \\r</td>\n      <td>European Shares Climb On Earnings Boost  ▮ Home ▮ Business                    Latest HeadlinesTop StoriesBreaking                    NewsEarningsBiotechInvestorsStock AlertsIPOsM&amp;ACanadianUKKey Wallstreet                    Events▮ Industry                    News                            Technology                            Software                            Banking                            Automotive                            EnergyMore▮ Corp. CalendarsDividendsStock                ...</td>\n    </tr>\n    <tr>\n      <th>9</th>\n      <td>https://auto.hindustantimes.com/astonmartin-cars/vantage/offers-in-kagal</td>\n      <td>2022-03-13</td>\n      <td>en</td>\n      <td>Aston Martin Vantage Car Discount Offers in Kagal for March 2022</td>\n      <td>Aston Martin Vantage Car Discount Offers in Kagal for March 2022 Explore  Sunday, 13 March 2022 Log in/Sign up SearchNotificationsTop SectionsAuto NewsCar NewsBike NewsLatestAuto NewsPhotosVideosElectric VehiclesTrendingMy ReadsOffersnewFind carsFind bikesCompare carsCompare bikesEMI calculatorDealersExplore AutoAbout UsContact UsSITEMAPRSSTerms of UsePrivacy PolicyCopyright © HT Media Limited All rights reserved.HomeOffersnewFind carsFind bikesCompare carsCompare bikesEMI calculatorDealersC...</td>\n    </tr>\n  </tbody>\n</table>\n</div>"
     },
     "execution_count": 2,
     "metadata": {},
     "output_type": "execute_result"
    }
   ],
   "source": [
    "news_path = 'https://storage.googleapis.com/msca-bdp-data-open/news/nlp_a_3_news.json'\n",
    "news_df = pd.read_json(news_path, orient='records', lines=True)\n",
    "\n",
    "print(f'Sample contains {news_df.shape[0]:,.0f} news articles')\n",
    "news_df.head(10)"
   ]
  },
  {
   "cell_type": "markdown",
   "metadata": {},
   "source": [
    "#### Read Tweets data"
   ]
  },
  {
   "cell_type": "code",
   "execution_count": 3,
   "metadata": {
    "ExecuteTime": {
     "end_time": "2024-02-06T08:10:03.507571Z",
     "start_time": "2024-02-06T08:10:03.360018Z"
    }
   },
   "outputs": [
    {
     "name": "stdout",
     "output_type": "stream",
     "text": [
      "Sample contains 1,020 tweets\n"
     ]
    },
    {
     "data": {
      "text/plain": "                    id lang       date                                name  \\\n0  1491880241782005777   en 2022-02-10      Sir Botalot dropping the Mike!   \n1  1501237946590142469   en 2022-03-08                        Sabrina Ghio   \n2  1505982695129718784   en 2022-03-21  Colin N. Walker 🏴󠁧󠁢󠁳󠁣󠁴󠁿 🇪🇺💙😷 #FBPE   \n3  1516744110463463426   en 2022-04-20                      Yvette Lissman   \n4  1493777143347630086   en 2022-02-16                      Andile Xaba 🇿🇦   \n5  1542804207560019969   en 2022-07-01                  Pendle Slot Racing   \n6  1534778811291684865   en 2022-06-09                  Vickie L. Caldwell   \n7  1483588131173634048   en 2022-01-18                      automobilsport   \n8  1540738855350833154   en 2022-06-25                   Hoses and Clamps,   \n9  1494617602248908800   en 2022-02-18                          UK HAULIER   \n\n  retweeted  \\\n0             \n1        RT   \n2        RT   \n3        RT   \n4        RT   \n5             \n6        RT   \n7             \n8             \n9             \n\n                                                                                                                                                                                                                                                                                                              text  \n0                                                                                                                                                                                                            @singervehicles Will you do a straight swap for my Renault Twingo 1.2 Extreme? \\n\\nThat is awesome! 🔥  \n1                          Australian GP Qualifying, Melbourne, 8th March 1997. #F1 The Grid ⬇️\\n\\nRow 3:\\n5. Eddie Irvine (Ferrari) +2.512s\\n6. Mika Hakkinen (McLaren-Mercedes) +2.602s\\n\\nRow 4:\\n7. Johnny Herbert (Sauber-Petronas) +2.918s\\n8. Jean Alesi (Benetton-Renault) +3.224s https://t.co/i4IC4LzVVN  \n2                                                                                                                                                                   #BoycottRenault\\n\\nThink of the blood of thousands of Ukrainian women and children pouring from every Renault car. \\n\\nhttps://t.co/rbU01Sy9DU  \n3                  Almost 200,000 workers in Russia still on western payrolls\\n\\nMcDonald’s, IKEA, Renault, Levi Strauss, &amp;others pay salaries to thousands of their employees while their operations in🇷🇺are suspended\\nCoca-Cola, Yum Brands,KFC didn't confirm if they still pay🇷🇺s https://t.co/KWDhCo1dM0  \n4                                                                          Take a selfie with the New #Renault #ClioV and WIN R1000 fuel voucher 💥 tag @tableviewrenault &amp; #renaulttableviewcliov random winner announced 28.02.2022 @BradAtRenault 0825662336 to book a test drive 🇿🇦 https://t.co/D7V2GnJa8B  \n5                                New Fly Renault 5 Turbo Rallye Monte-Carlo 1983/1985 special edition #slotcar set. Includes the No.9 car of Ragnotti/Andrie - 1983 Rallye Monte-Carlo, plus the snow effect No.10 car of Snobeck/Bechu - 1985 Rallye Monte-Carlo. https://t.co/uDOeljcHcV https://t.co/mSisBugCN4  \n6                                                                                                                                                                    Just Inspector Renault, the media professes to be shocked—shocked!—that top Democrats are involved in coordinated illegal ballot trafficking!  \n7  3D sketching: a digital touch to every drawing - https://t.co/dIrCFvHGIT https://t.co/KjbM6xqctH photos Renault #renault #3dmodeling #3Danimation #3d #Sketching #sketch #projects #modelling #future #technology #designers #drawing  #vrheadset #VR #creation #Automotivedesign #cars https://t.co/NzY3idDN3U  \n8                                                                                                                                                                            Silicone Radiator Hose Pipe +Clamps Fit For Renault 5GT R5 Turbo Super 1.4L Blue https://t.co/BCwYJCWZQn eBay https://t.co/CWeRrvdAvZ  \n9                                                                                                                          Chosen Few: Four More Renault Trucks C Tippers for J T Few Plant Hire LTD\\n\\n@RenaultTrucksUK @JTFewPlantHire \\n\\n#Trucks #RenaultTrucks #Renault #Supplied \\n\\nhttps://t.co/TpnOzX2TZt  ",
      "text/html": "<div>\n<style scoped>\n    .dataframe tbody tr th:only-of-type {\n        vertical-align: middle;\n    }\n\n    .dataframe tbody tr th {\n        vertical-align: top;\n    }\n\n    .dataframe thead th {\n        text-align: right;\n    }\n</style>\n<table border=\"1\" class=\"dataframe\">\n  <thead>\n    <tr style=\"text-align: right;\">\n      <th></th>\n      <th>id</th>\n      <th>lang</th>\n      <th>date</th>\n      <th>name</th>\n      <th>retweeted</th>\n      <th>text</th>\n    </tr>\n  </thead>\n  <tbody>\n    <tr>\n      <th>0</th>\n      <td>1491880241782005777</td>\n      <td>en</td>\n      <td>2022-02-10</td>\n      <td>Sir Botalot dropping the Mike!</td>\n      <td></td>\n      <td>@singervehicles Will you do a straight swap for my Renault Twingo 1.2 Extreme? \\n\\nThat is awesome! 🔥</td>\n    </tr>\n    <tr>\n      <th>1</th>\n      <td>1501237946590142469</td>\n      <td>en</td>\n      <td>2022-03-08</td>\n      <td>Sabrina Ghio</td>\n      <td>RT</td>\n      <td>Australian GP Qualifying, Melbourne, 8th March 1997. #F1 The Grid ⬇️\\n\\nRow 3:\\n5. Eddie Irvine (Ferrari) +2.512s\\n6. Mika Hakkinen (McLaren-Mercedes) +2.602s\\n\\nRow 4:\\n7. Johnny Herbert (Sauber-Petronas) +2.918s\\n8. Jean Alesi (Benetton-Renault) +3.224s https://t.co/i4IC4LzVVN</td>\n    </tr>\n    <tr>\n      <th>2</th>\n      <td>1505982695129718784</td>\n      <td>en</td>\n      <td>2022-03-21</td>\n      <td>Colin N. Walker 🏴󠁧󠁢󠁳󠁣󠁴󠁿 🇪🇺💙😷 #FBPE</td>\n      <td>RT</td>\n      <td>#BoycottRenault\\n\\nThink of the blood of thousands of Ukrainian women and children pouring from every Renault car. \\n\\nhttps://t.co/rbU01Sy9DU</td>\n    </tr>\n    <tr>\n      <th>3</th>\n      <td>1516744110463463426</td>\n      <td>en</td>\n      <td>2022-04-20</td>\n      <td>Yvette Lissman</td>\n      <td>RT</td>\n      <td>Almost 200,000 workers in Russia still on western payrolls\\n\\nMcDonald’s, IKEA, Renault, Levi Strauss, &amp;amp;others pay salaries to thousands of their employees while their operations in🇷🇺are suspended\\nCoca-Cola, Yum Brands,KFC didn't confirm if they still pay🇷🇺s https://t.co/KWDhCo1dM0</td>\n    </tr>\n    <tr>\n      <th>4</th>\n      <td>1493777143347630086</td>\n      <td>en</td>\n      <td>2022-02-16</td>\n      <td>Andile Xaba 🇿🇦</td>\n      <td>RT</td>\n      <td>Take a selfie with the New #Renault #ClioV and WIN R1000 fuel voucher 💥 tag @tableviewrenault &amp;amp; #renaulttableviewcliov random winner announced 28.02.2022 @BradAtRenault 0825662336 to book a test drive 🇿🇦 https://t.co/D7V2GnJa8B</td>\n    </tr>\n    <tr>\n      <th>5</th>\n      <td>1542804207560019969</td>\n      <td>en</td>\n      <td>2022-07-01</td>\n      <td>Pendle Slot Racing</td>\n      <td></td>\n      <td>New Fly Renault 5 Turbo Rallye Monte-Carlo 1983/1985 special edition #slotcar set. Includes the No.9 car of Ragnotti/Andrie - 1983 Rallye Monte-Carlo, plus the snow effect No.10 car of Snobeck/Bechu - 1985 Rallye Monte-Carlo. https://t.co/uDOeljcHcV https://t.co/mSisBugCN4</td>\n    </tr>\n    <tr>\n      <th>6</th>\n      <td>1534778811291684865</td>\n      <td>en</td>\n      <td>2022-06-09</td>\n      <td>Vickie L. Caldwell</td>\n      <td>RT</td>\n      <td>Just Inspector Renault, the media professes to be shocked—shocked!—that top Democrats are involved in coordinated illegal ballot trafficking!</td>\n    </tr>\n    <tr>\n      <th>7</th>\n      <td>1483588131173634048</td>\n      <td>en</td>\n      <td>2022-01-18</td>\n      <td>automobilsport</td>\n      <td></td>\n      <td>3D sketching: a digital touch to every drawing - https://t.co/dIrCFvHGIT https://t.co/KjbM6xqctH photos Renault #renault #3dmodeling #3Danimation #3d #Sketching #sketch #projects #modelling #future #technology #designers #drawing  #vrheadset #VR #creation #Automotivedesign #cars https://t.co/NzY3idDN3U</td>\n    </tr>\n    <tr>\n      <th>8</th>\n      <td>1540738855350833154</td>\n      <td>en</td>\n      <td>2022-06-25</td>\n      <td>Hoses and Clamps,</td>\n      <td></td>\n      <td>Silicone Radiator Hose Pipe +Clamps Fit For Renault 5GT R5 Turbo Super 1.4L Blue https://t.co/BCwYJCWZQn eBay https://t.co/CWeRrvdAvZ</td>\n    </tr>\n    <tr>\n      <th>9</th>\n      <td>1494617602248908800</td>\n      <td>en</td>\n      <td>2022-02-18</td>\n      <td>UK HAULIER</td>\n      <td></td>\n      <td>Chosen Few: Four More Renault Trucks C Tippers for J T Few Plant Hire LTD\\n\\n@RenaultTrucksUK @JTFewPlantHire \\n\\n#Trucks #RenaultTrucks #Renault #Supplied \\n\\nhttps://t.co/TpnOzX2TZt</td>\n    </tr>\n  </tbody>\n</table>\n</div>"
     },
     "execution_count": 3,
     "metadata": {},
     "output_type": "execute_result"
    }
   ],
   "source": [
    "tweets_path = 'https://storage.googleapis.com/msca-bdp-data-open/tweets/nlp_a_3_tweets.json'\n",
    "tweets_df = pd.read_json(tweets_path, orient='records', lines=True)\n",
    "print(f'Sample contains {tweets_df.shape[0]:,.0f} tweets')\n",
    "tweets_df.head(10)"
   ]
  },
  {
   "cell_type": "markdown",
   "metadata": {},
   "source": [
    "### Tweets data"
   ]
  },
  {
   "cell_type": "markdown",
   "source": [
    "#### Tokenize and Clean"
   ],
   "metadata": {
    "collapsed": false
   }
  },
  {
   "cell_type": "code",
   "execution_count": 4,
   "metadata": {
    "ExecuteTime": {
     "end_time": "2024-02-06T08:10:05.592594Z",
     "start_time": "2024-02-06T08:10:05.586453Z"
    }
   },
   "outputs": [
    {
     "data": {
      "text/plain": "463"
     },
     "execution_count": 4,
     "metadata": {},
     "output_type": "execute_result"
    }
   ],
   "source": [
    "# Filter out retweets\n",
    "tweets_df = tweets_df[tweets_df['retweeted'] != 'RT']\n",
    "\n",
    "## Remove URLs and Mentions\n",
    "tweets_df[\"text_cleaned\"] = tweets_df['text'].apply(lambda  x: re.sub(r'(?:\\@|http?\\://|https?\\://|www)\\S+', '', str(x)))\n",
    "\n",
    "## Remove new lines\n",
    "tweets_df[\"text_cleaned\"] = tweets_df[\"text_cleaned\"].apply(lambda x: re.sub(r'(?:\\n)','|', str(x)))\n",
    "\n",
    "tweets_df.shape[0]"
   ]
  },
  {
   "cell_type": "code",
   "execution_count": 5,
   "metadata": {
    "ExecuteTime": {
     "end_time": "2024-01-22T22:45:26.632545Z",
     "start_time": "2024-01-22T22:45:26.411134Z"
    }
   },
   "outputs": [],
   "source": [
    "# Function to tokenize and clean a single tweet\n",
    "def tokenize_and_clean(tweet):\n",
    "    # Initialize TweetTokenizer\n",
    "    tweet_tokenizer = TweetTokenizer()\n",
    "    \n",
    "    # Tokenize the tweet\n",
    "    words = tweet_tokenizer.tokenize(tweet)\n",
    "\n",
    "    # Set of stopwords\n",
    "    stopwords = set(nltk.corpus.stopwords.words('english'))\n",
    "\n",
    "    # Cleaning steps\n",
    "    words = [word for word in words if len(word) > 1]  # Remove single-character tokens\n",
    "    words = [word for word in words if not word.isnumeric()]  # Remove numbers\n",
    "    words = [word.lower() for word in words]  # Lowercase\n",
    "    words = [word for word in words if not word.startswith('#')]  # Remove hashtags\n",
    "    words = [word for word in words if word not in stopwords]  # Remove stopwords\n",
    "\n",
    "    return words\n",
    "\n",
    "# Apply the function to each row in the DataFrame\n",
    "tweets_df['text_cleaned_tokens'] = tweets_df['text_cleaned'].apply(tokenize_and_clean)"
   ]
  },
  {
   "cell_type": "code",
   "execution_count": 6,
   "metadata": {
    "ExecuteTime": {
     "end_time": "2024-01-22T22:45:29.857471Z",
     "start_time": "2024-01-22T22:45:29.820937Z"
    }
   },
   "outputs": [
    {
     "data": {
      "text/plain": "                     id lang       date                            name  \\\n0   1491880241782005777   en 2022-02-10  Sir Botalot dropping the Mike!   \n5   1542804207560019969   en 2022-07-01              Pendle Slot Racing   \n7   1483588131173634048   en 2022-01-18                  automobilsport   \n8   1540738855350833154   en 2022-06-25               Hoses and Clamps,   \n9   1494617602248908800   en 2022-02-18                      UK HAULIER   \n10  1483130007820115984   en 2022-01-17                      Ghostpup 🐾   \n11  1493816428637691909   en 2022-02-16                   Market’s Cafe   \n12  1506000451879292935   en 2022-03-21                             A E   \n14  1542807320886902784   en 2022-07-01                 Alexander Glass   \n15  1534789969105256450   en 2022-06-09                     Renault Ngl   \n\n   retweeted  \\\n0              \n5              \n7              \n8              \n9              \n10             \n11             \n12             \n14             \n15             \n\n                                                                                                                                                                                                                                                                                                               text  \\\n0                                                                                                                                                                                                             @singervehicles Will you do a straight swap for my Renault Twingo 1.2 Extreme? \\n\\nThat is awesome! 🔥   \n5                                 New Fly Renault 5 Turbo Rallye Monte-Carlo 1983/1985 special edition #slotcar set. Includes the No.9 car of Ragnotti/Andrie - 1983 Rallye Monte-Carlo, plus the snow effect No.10 car of Snobeck/Bechu - 1985 Rallye Monte-Carlo. https://t.co/uDOeljcHcV https://t.co/mSisBugCN4   \n7   3D sketching: a digital touch to every drawing - https://t.co/dIrCFvHGIT https://t.co/KjbM6xqctH photos Renault #renault #3dmodeling #3Danimation #3d #Sketching #sketch #projects #modelling #future #technology #designers #drawing  #vrheadset #VR #creation #Automotivedesign #cars https://t.co/NzY3idDN3U   \n8                                                                                                                                                                             Silicone Radiator Hose Pipe +Clamps Fit For Renault 5GT R5 Turbo Super 1.4L Blue https://t.co/BCwYJCWZQn eBay https://t.co/CWeRrvdAvZ   \n9                                                                                                                           Chosen Few: Four More Renault Trucks C Tippers for J T Few Plant Hire LTD\\n\\n@RenaultTrucksUK @JTFewPlantHire \\n\\n#Trucks #RenaultTrucks #Renault #Supplied \\n\\nhttps://t.co/TpnOzX2TZt   \n10                                                                                                                                                                                                                         @sysable @Cavalonraptor I thought it was a v6 engine jointly made by Renault and Volvo 👀   \n11                                                            Renault Kiger gets 4-star adult safety rating in Global NCAP crash test Five stars indicates the highest score while zero star rating points to the minimum score during the vehicle crash test. #LatestNews by #MoneyControl https://t.co/rzBpqxWS1x   \n12                                                                                                                                                                                                                       @ToyotaUK 🇺🇦🇺🇦🇺🇦🇺🇦🇺🇦\\nWhen will Toyota sell its stake in Renault?\\nhttps://t.co/AAxBFeziNu   \n14                  @garethlpowell Yes! All the dialogue is so sharp. \\n\\n\"What kind of a man is Captain Renault?\"\\n\"He's much like other men, only more so.\"\\n\\nIt's funny, but it also tells you something about Renault, and the fact that Rick says it (and the way he says it) tells you something about Rick.   \n15                                                                 Renault Kiger is stunning yet muscular SUV stance is crafted to complement your free spirit. \\n#renault #cars #nagercoil #Sportysmart #renaultcars #renaultindia #bestcars #buycarsnagercoil #morespacing  #renaultkiger https://t.co/0gaRyxca7h   \n\n                                                                                                                                                                                                                                                                    text_cleaned  \\\n0                                                                                                                                                                                            Will you do a straight swap for my Renault Twingo 1.2 Extreme? ||That is awesome! 🔥   \n5                                            New Fly Renault 5 Turbo Rallye Monte-Carlo 1983/1985 special edition #slotcar set. Includes the No.9 car of Ragnotti/Andrie - 1983 Rallye Monte-Carlo, plus the snow effect No.10 car of Snobeck/Bechu - 1985 Rallye Monte-Carlo.     \n7                                     3D sketching: a digital touch to every drawing -   photos Renault #renault #3dmodeling #3Danimation #3d #Sketching #sketch #projects #modelling #future #technology #designers #drawing  #vrheadset #VR #creation #Automotivedesign #cars    \n8                                                                                                                                                                                        Silicone Radiator Hose Pipe +Clamps Fit For Renault 5GT R5 Turbo Super 1.4L Blue  eBay    \n9                                                                                                                                                    Chosen Few: Four More Renault Trucks C Tippers for J T Few Plant Hire LTD||  ||#Trucks #RenaultTrucks #Renault #Supplied ||   \n10                                                                                                                                                                                                              I thought it was a v6 engine jointly made by Renault and Volvo 👀   \n11                                                Renault Kiger gets 4-star adult safety rating in Global NCAP crash test Five stars indicates the highest score while zero star rating points to the minimum score during the vehicle crash test. #LatestNews by #MoneyControl    \n12                                                                                                                                                                                                                       🇺🇦🇺🇦🇺🇦🇺🇦🇺🇦|When will Toyota sell its stake in Renault?|   \n14   Yes! All the dialogue is so sharp. ||\"What kind of a man is Captain Renault?\"|\"He's much like other men, only more so.\"||It's funny, but it also tells you something about Renault, and the fact that Rick says it (and the way he says it) tells you something about Rick.   \n15                                                      Renault Kiger is stunning yet muscular SUV stance is crafted to complement your free spirit. |#renault #cars #nagercoil #Sportysmart #renaultcars #renaultindia #bestcars #buycarsnagercoil #morespacing  #renaultkiger    \n\n                                                                                                                                                                                      text_cleaned_tokens  \n0                                                                                                                                                [straight, swap, renault, twingo, 1.2, extreme, awesome]  \n5   [new, fly, renault, turbo, rallye, monte-carlo, 1983/1985, special, edition, set, includes, car, ragnotti, andrie, rallye, monte-carlo, plus, snow, effect, car, snobeck, bechu, rallye, monte-carlo]  \n7                                                                                                                                        [3d, sketching, digital, touch, every, drawing, photos, renault]  \n8                                                                                                          [silicone, radiator, hose, pipe, clamps, fit, renault, 5gt, r5, turbo, super, 1.4, blue, ebay]  \n9                                                                                                                                              [chosen, four, renault, trucks, tippers, plant, hire, ltd]  \n10                                                                                                                                                   [thought, v6, engine, jointly, made, renault, volvo]  \n11               [renault, kiger, gets, star, adult, safety, rating, global, ncap, crash, test, five, stars, indicates, highest, score, zero, star, rating, points, minimum, score, vehicle, crash, test]  \n12                                                                                                                                                     [🇺🇦, 🇺🇦, 🇺🇦, 🇺🇦, 🇺🇦, toyota, sell, stake, renault]  \n14                                [yes, dialogue, sharp, kind, man, captain, renault, he's, much, like, men, funny, also, tells, something, renault, fact, rick, says, way, says, tells, something, rick]  \n15                                                                                                              [renault, kiger, stunning, yet, muscular, suv, stance, crafted, complement, free, spirit]  ",
      "text/html": "<div>\n<style scoped>\n    .dataframe tbody tr th:only-of-type {\n        vertical-align: middle;\n    }\n\n    .dataframe tbody tr th {\n        vertical-align: top;\n    }\n\n    .dataframe thead th {\n        text-align: right;\n    }\n</style>\n<table border=\"1\" class=\"dataframe\">\n  <thead>\n    <tr style=\"text-align: right;\">\n      <th></th>\n      <th>id</th>\n      <th>lang</th>\n      <th>date</th>\n      <th>name</th>\n      <th>retweeted</th>\n      <th>text</th>\n      <th>text_cleaned</th>\n      <th>text_cleaned_tokens</th>\n    </tr>\n  </thead>\n  <tbody>\n    <tr>\n      <th>0</th>\n      <td>1491880241782005777</td>\n      <td>en</td>\n      <td>2022-02-10</td>\n      <td>Sir Botalot dropping the Mike!</td>\n      <td></td>\n      <td>@singervehicles Will you do a straight swap for my Renault Twingo 1.2 Extreme? \\n\\nThat is awesome! 🔥</td>\n      <td>Will you do a straight swap for my Renault Twingo 1.2 Extreme? ||That is awesome! 🔥</td>\n      <td>[straight, swap, renault, twingo, 1.2, extreme, awesome]</td>\n    </tr>\n    <tr>\n      <th>5</th>\n      <td>1542804207560019969</td>\n      <td>en</td>\n      <td>2022-07-01</td>\n      <td>Pendle Slot Racing</td>\n      <td></td>\n      <td>New Fly Renault 5 Turbo Rallye Monte-Carlo 1983/1985 special edition #slotcar set. Includes the No.9 car of Ragnotti/Andrie - 1983 Rallye Monte-Carlo, plus the snow effect No.10 car of Snobeck/Bechu - 1985 Rallye Monte-Carlo. https://t.co/uDOeljcHcV https://t.co/mSisBugCN4</td>\n      <td>New Fly Renault 5 Turbo Rallye Monte-Carlo 1983/1985 special edition #slotcar set. Includes the No.9 car of Ragnotti/Andrie - 1983 Rallye Monte-Carlo, plus the snow effect No.10 car of Snobeck/Bechu - 1985 Rallye Monte-Carlo.</td>\n      <td>[new, fly, renault, turbo, rallye, monte-carlo, 1983/1985, special, edition, set, includes, car, ragnotti, andrie, rallye, monte-carlo, plus, snow, effect, car, snobeck, bechu, rallye, monte-carlo]</td>\n    </tr>\n    <tr>\n      <th>7</th>\n      <td>1483588131173634048</td>\n      <td>en</td>\n      <td>2022-01-18</td>\n      <td>automobilsport</td>\n      <td></td>\n      <td>3D sketching: a digital touch to every drawing - https://t.co/dIrCFvHGIT https://t.co/KjbM6xqctH photos Renault #renault #3dmodeling #3Danimation #3d #Sketching #sketch #projects #modelling #future #technology #designers #drawing  #vrheadset #VR #creation #Automotivedesign #cars https://t.co/NzY3idDN3U</td>\n      <td>3D sketching: a digital touch to every drawing -   photos Renault #renault #3dmodeling #3Danimation #3d #Sketching #sketch #projects #modelling #future #technology #designers #drawing  #vrheadset #VR #creation #Automotivedesign #cars</td>\n      <td>[3d, sketching, digital, touch, every, drawing, photos, renault]</td>\n    </tr>\n    <tr>\n      <th>8</th>\n      <td>1540738855350833154</td>\n      <td>en</td>\n      <td>2022-06-25</td>\n      <td>Hoses and Clamps,</td>\n      <td></td>\n      <td>Silicone Radiator Hose Pipe +Clamps Fit For Renault 5GT R5 Turbo Super 1.4L Blue https://t.co/BCwYJCWZQn eBay https://t.co/CWeRrvdAvZ</td>\n      <td>Silicone Radiator Hose Pipe +Clamps Fit For Renault 5GT R5 Turbo Super 1.4L Blue  eBay</td>\n      <td>[silicone, radiator, hose, pipe, clamps, fit, renault, 5gt, r5, turbo, super, 1.4, blue, ebay]</td>\n    </tr>\n    <tr>\n      <th>9</th>\n      <td>1494617602248908800</td>\n      <td>en</td>\n      <td>2022-02-18</td>\n      <td>UK HAULIER</td>\n      <td></td>\n      <td>Chosen Few: Four More Renault Trucks C Tippers for J T Few Plant Hire LTD\\n\\n@RenaultTrucksUK @JTFewPlantHire \\n\\n#Trucks #RenaultTrucks #Renault #Supplied \\n\\nhttps://t.co/TpnOzX2TZt</td>\n      <td>Chosen Few: Four More Renault Trucks C Tippers for J T Few Plant Hire LTD||  ||#Trucks #RenaultTrucks #Renault #Supplied ||</td>\n      <td>[chosen, four, renault, trucks, tippers, plant, hire, ltd]</td>\n    </tr>\n    <tr>\n      <th>10</th>\n      <td>1483130007820115984</td>\n      <td>en</td>\n      <td>2022-01-17</td>\n      <td>Ghostpup 🐾</td>\n      <td></td>\n      <td>@sysable @Cavalonraptor I thought it was a v6 engine jointly made by Renault and Volvo 👀</td>\n      <td>I thought it was a v6 engine jointly made by Renault and Volvo 👀</td>\n      <td>[thought, v6, engine, jointly, made, renault, volvo]</td>\n    </tr>\n    <tr>\n      <th>11</th>\n      <td>1493816428637691909</td>\n      <td>en</td>\n      <td>2022-02-16</td>\n      <td>Market’s Cafe</td>\n      <td></td>\n      <td>Renault Kiger gets 4-star adult safety rating in Global NCAP crash test Five stars indicates the highest score while zero star rating points to the minimum score during the vehicle crash test. #LatestNews by #MoneyControl https://t.co/rzBpqxWS1x</td>\n      <td>Renault Kiger gets 4-star adult safety rating in Global NCAP crash test Five stars indicates the highest score while zero star rating points to the minimum score during the vehicle crash test. #LatestNews by #MoneyControl</td>\n      <td>[renault, kiger, gets, star, adult, safety, rating, global, ncap, crash, test, five, stars, indicates, highest, score, zero, star, rating, points, minimum, score, vehicle, crash, test]</td>\n    </tr>\n    <tr>\n      <th>12</th>\n      <td>1506000451879292935</td>\n      <td>en</td>\n      <td>2022-03-21</td>\n      <td>A E</td>\n      <td></td>\n      <td>@ToyotaUK 🇺🇦🇺🇦🇺🇦🇺🇦🇺🇦\\nWhen will Toyota sell its stake in Renault?\\nhttps://t.co/AAxBFeziNu</td>\n      <td>🇺🇦🇺🇦🇺🇦🇺🇦🇺🇦|When will Toyota sell its stake in Renault?|</td>\n      <td>[🇺🇦, 🇺🇦, 🇺🇦, 🇺🇦, 🇺🇦, toyota, sell, stake, renault]</td>\n    </tr>\n    <tr>\n      <th>14</th>\n      <td>1542807320886902784</td>\n      <td>en</td>\n      <td>2022-07-01</td>\n      <td>Alexander Glass</td>\n      <td></td>\n      <td>@garethlpowell Yes! All the dialogue is so sharp. \\n\\n\"What kind of a man is Captain Renault?\"\\n\"He's much like other men, only more so.\"\\n\\nIt's funny, but it also tells you something about Renault, and the fact that Rick says it (and the way he says it) tells you something about Rick.</td>\n      <td>Yes! All the dialogue is so sharp. ||\"What kind of a man is Captain Renault?\"|\"He's much like other men, only more so.\"||It's funny, but it also tells you something about Renault, and the fact that Rick says it (and the way he says it) tells you something about Rick.</td>\n      <td>[yes, dialogue, sharp, kind, man, captain, renault, he's, much, like, men, funny, also, tells, something, renault, fact, rick, says, way, says, tells, something, rick]</td>\n    </tr>\n    <tr>\n      <th>15</th>\n      <td>1534789969105256450</td>\n      <td>en</td>\n      <td>2022-06-09</td>\n      <td>Renault Ngl</td>\n      <td></td>\n      <td>Renault Kiger is stunning yet muscular SUV stance is crafted to complement your free spirit. \\n#renault #cars #nagercoil #Sportysmart #renaultcars #renaultindia #bestcars #buycarsnagercoil #morespacing  #renaultkiger https://t.co/0gaRyxca7h</td>\n      <td>Renault Kiger is stunning yet muscular SUV stance is crafted to complement your free spirit. |#renault #cars #nagercoil #Sportysmart #renaultcars #renaultindia #bestcars #buycarsnagercoil #morespacing  #renaultkiger</td>\n      <td>[renault, kiger, stunning, yet, muscular, suv, stance, crafted, complement, free, spirit]</td>\n    </tr>\n  </tbody>\n</table>\n</div>"
     },
     "execution_count": 6,
     "metadata": {},
     "output_type": "execute_result"
    }
   ],
   "source": [
    "tweets_df.head(10)"
   ]
  },
  {
   "cell_type": "markdown",
   "source": [
    "#### N-grams & Similarity Check"
   ],
   "metadata": {
    "collapsed": false
   }
  },
  {
   "cell_type": "code",
   "execution_count": 7,
   "metadata": {
    "ExecuteTime": {
     "end_time": "2024-01-22T22:45:35.737100Z",
     "start_time": "2024-01-22T22:45:31.118935Z"
    }
   },
   "outputs": [],
   "source": [
    "def generate_ngrams(tokens, n):\n",
    "    if len(tokens) < n:\n",
    "        return set()\n",
    "    return set(ngrams(tokens, n))\n",
    "\n",
    "def calculate_jaccard_distance(set1, set2):\n",
    "    if not set1 or not set2:  # Check for empty sets\n",
    "        return 1  # Max distance if one of the sets is empty\n",
    "    return jaccard_distance(set1, set2)\n",
    "\n",
    "# Range of n values to test\n",
    "n_values = range(1, 5) \n",
    "\n",
    "# Calculate average Jaccard distance for each n\n",
    "avg_distances = []\n",
    "for n in n_values:\n",
    "    distances = []\n",
    "    # Generate n-grams and calculate distances for each pair of tweets\n",
    "    for tweet1, tweet2 in itertools.combinations(tweets_df['text_cleaned_tokens'], 2):\n",
    "        set1 = generate_ngrams(tweet1, n)\n",
    "        set2 = generate_ngrams(tweet2, n)\n",
    "        if set1 and set2:  # Only calculate if both sets are non-empty\n",
    "            distances.append(calculate_jaccard_distance(set1, set2))\n",
    "\n",
    "    # Compute average if distances list is not empty\n",
    "    avg_distances.append(sum(distances) / len(distances) if distances else 0)"
   ]
  },
  {
   "cell_type": "code",
   "execution_count": 8,
   "metadata": {
    "ExecuteTime": {
     "end_time": "2024-01-22T22:45:37.581788Z",
     "start_time": "2024-01-22T22:45:37.342914Z"
    }
   },
   "outputs": [
    {
     "data": {
      "text/plain": "<Figure size 640x480 with 1 Axes>",
      "image/png": "[encoded data removed]"
     },
     "metadata": {},
     "output_type": "display_data"
    }
   ],
   "source": [
    "# Plotting\n",
    "plt.plot(n_values, avg_distances, marker='o')  # Adding a marker for clarity\n",
    "plt.xticks(n_values)  # Ensuring that only whole numbers are used for x-ticks\n",
    "plt.xlabel('n-gram')\n",
    "plt.ylabel('Average Jaccard Distance')\n",
    "plt.title('Effect of n-gram Size on Average Jaccard Distance')\n",
    "plt.show()"
   ]
  },
  {
   "cell_type": "markdown",
   "source": [
    "This graph indicates a steep increase in the average Jaccard distance as the n-gram size increases from 1 to 2, then the curve flattens out as the n-gram size increases to 3 and 4. In the context of news similarity:\n",
    "* An n-gram size of 1 (unigram) would consider individual words, which might be too granular and could miss context. It shows the lowest Jaccard distance, suggesting high similarity across documents, but this may not be meaningful for understanding the similarity in terms of topics or events. \n",
    "* Moving to an n-gram size of 2 (bigram) introduces some context by considering pairs of words. The graph shows a significant jump in Jaccard distance at this point, which might indicate that using bigrams increases the differentiation between articles, possibly catching more specific language patterns.\n",
    "* As we move to 3-grams and 4-grams, the increase in Jaccard distance slows down, suggesting that the addition of more context does not significantly change the overall dissimilarity metric at this point.\n",
    "Thus, bigram would be a proper choose due to it's an elbow point"
   ],
   "metadata": {
    "collapsed": false
   }
  },
  {
   "cell_type": "code",
   "execution_count": 41,
   "metadata": {
    "ExecuteTime": {
     "end_time": "2024-01-23T05:09:56.901695Z",
     "start_time": "2024-01-23T05:09:56.083728Z"
    }
   },
   "outputs": [
    {
     "name": "stdout",
     "output_type": "stream",
     "text": [
      "Tweet 44 and Tweet 196 have a Jaccard Distance score of: 0.0000\n",
      "Tweet 292 and Tweet 502 have a Jaccard Distance score of: 0.0000\n",
      "Tweet 292 and Tweet 583 have a Jaccard Distance score of: 0.0000\n",
      "Tweet 502 and Tweet 583 have a Jaccard Distance score of: 0.0000\n",
      "Tweet 15 and Tweet 378 have a Jaccard Distance score of: 0.1000\n",
      "Tweet 88 and Tweet 955 have a Jaccard Distance score of: 0.2800\n",
      "Tweet 24 and Tweet 385 have a Jaccard Distance score of: 0.6000\n",
      "Tweet 80 and Tweet 838 have a Jaccard Distance score of: 0.7500\n",
      "Tweet 328 and Tweet 519 have a Jaccard Distance score of: 0.7500\n",
      "Tweet 286 and Tweet 938 have a Jaccard Distance score of: 0.8000\n",
      "Tweet 385 and Tweet 521 have a Jaccard Distance score of: 0.8000\n",
      "Tweet 759 and Tweet 815 have a Jaccard Distance score of: 0.8000\n",
      "Tweet 825 and Tweet 892 have a Jaccard Distance score of: 0.8000\n",
      "Tweet 319 and Tweet 762 have a Jaccard Distance score of: 0.8333\n",
      "Tweet 385 and Tweet 656 have a Jaccard Distance score of: 0.8333\n",
      "Tweet 745 and Tweet 892 have a Jaccard Distance score of: 0.8333\n",
      "Tweet 524 and Tweet 961 have a Jaccard Distance score of: 0.8462\n",
      "Tweet 9 and Tweet 815 have a Jaccard Distance score of: 0.8571\n",
      "Tweet 10 and Tweet 517 have a Jaccard Distance score of: 0.8571\n",
      "Tweet 167 and Tweet 244 have a Jaccard Distance score of: 0.8571\n"
     ]
    }
   ],
   "source": [
    "# Add a new column to the DataFrame for bi-grams\n",
    "tweets_df['bi_grams'] = tweets_df['text_cleaned_tokens'].apply(lambda tokens: generate_ngrams(tokens, 2))\n",
    "\n",
    "# Initialize an empty list to store the similarity scores\n",
    "similarity_scores = []\n",
    "\n",
    "# Calculate Jaccard distances for each pair of tweets, handling empty bi-grams sets\n",
    "for (index1, tweet1), (index2, tweet2) in itertools.combinations(tweets_df.iterrows(), 2):\n",
    "    score = calculate_jaccard_distance(tweet1['bi_grams'], tweet2['bi_grams'])\n",
    "    similarity_scores.append((score, index1, index2))\n",
    "\n",
    "# Continue with sorting the list and displaying the results as before...\n",
    "# Sort the list of scores by the Jaccard distance\n",
    "similarity_scores.sort()\n",
    "\n",
    "# Display the most similar tweet pairs and their Jaccard distance\n",
    "most_similar_tweets = similarity_scores[:20]  # Adjust number as needed\n",
    "for score, index1, index2 in most_similar_tweets:\n",
    "    print(f\"Tweet {index1} and Tweet {index2} have a Jaccard Distance score of: {score:.4f}\")\n"
   ]
  },
  {
   "cell_type": "code",
   "execution_count": 11,
   "metadata": {
    "ExecuteTime": {
     "end_time": "2024-01-22T22:45:58.516089Z",
     "start_time": "2024-01-22T22:45:58.501189Z"
    }
   },
   "outputs": [
    {
     "name": "stdout",
     "output_type": "stream",
     "text": [
      "Tweet 44: @renault_uk @RetromobileFR Welcome to the #renaulution journey #Renault @renaultgroup https://t.co/hcN6lky3E7\n",
      "Tweet 196: @JoeCMerriman Welcome to the #renaulution journey #Renault @renaultgroup https://t.co/MAn4MjTCvN\n",
      "---\n",
      "Tweet 292: I AM A FUCKING DUSTER ((Dacia ))Duster Renault\n",
      "Tweet 502: I AM A FUCKING DUSTER ((Dacia ))Duster Renault\n",
      "---\n",
      "Tweet 292: I AM A FUCKING DUSTER ((Dacia ))Duster Renault\n",
      "Tweet 583: I AM A FUCKING DUSTER ((Dacia ))Duster Renault\n",
      "---\n",
      "Tweet 502: I AM A FUCKING DUSTER ((Dacia ))Duster Renault\n",
      "Tweet 583: I AM A FUCKING DUSTER ((Dacia ))Duster Renault\n",
      "---\n",
      "Tweet 15: Renault Kiger is stunning yet muscular SUV stance is crafted to complement your free spirit. \n",
      "#renault #cars #nagercoil #Sportysmart #renaultcars #renaultindia #bestcars #buycarsnagercoil #morespacing  #renaultkiger https://t.co/0gaRyxca7h\n",
      "Tweet 378: https://t.co/DFfqSVOypZ \n",
      "Kiger is stunning yet muscular SUV stance is crafted to complement your free spirit.\n",
      "#renault #cars #nagercoil #Sportysmart #renaultcars #renaultindia #bestcars #buycarsnagercoil #morespacing #renaultkiger https://t.co/LzLJ0IjpyT\n",
      "---\n",
      "Tweet 88: @cz_binance But what can u tell about @BeaRex_io? They worked with such brands as Spotify, Intel, Amway, Netflix, Blizzard, Sharp, Canon, Loewe, Huawei, Bentley, Audi, Renault, Oriflame. And they have the first instagram mask highly profitable game!\n",
      "Tweet 955: @AboxCrypto @socialdudesnft But what can ya claim about @BeaRexOfficial? They worked with such brands as Spotify, Intel, Amway, Netflix, Blizzard, Sharp, Canon, Loewe, Huawei, Bentley, Audi, Renault, Oriflame. And they have the first instagram mask highly valuable game! https://t.co/qFn1mX16CQ\n",
      "---\n",
      "Tweet 24: ai... anything but a renault kwid i guess. https://t.co/vIRj1Cals7\n",
      "Tweet 385: 8. anything but a renault kwid. https://t.co/uzJZyPFCM7\n",
      "---\n",
      "Tweet 80: @WilliamsRacing Switch to Renault engine\n",
      "Tweet 838: How is that Renault engine doing on the Mercedes Benz?\n",
      "---\n",
      "Tweet 328: @IAPonomarenko do not buy Renault #BoykottRenault\n",
      "Tweet 519: @nexta_tv I will remember this &amp; never buy Renault in my life.\n",
      "---\n",
      "Tweet 286: Renault Kangoo 2012 Owner's Manual\n",
      "https://t.co/pJnKJZHZgD\n",
      "Tweet 938: Renault Twizy 2012 Owner's Manual\n",
      "https://t.co/9oTtZOaZI0\n",
      "---\n",
      "Tweet 385: 8. anything but a renault kwid. https://t.co/uzJZyPFCM7\n",
      "Tweet 521: Beautiful Renault Kwid RXT | @indiatubeauto \n",
      "#indiaautotube #indiatube #renaultindia🇮🇳 #renaultkwidindia #renaultkwidrxt #kwidlife #kwidrxt #instagramfeedpost #instapoat #feedpost❤️ #carreview #carvloggers #Vlogging https://t.co/n5tYv7l6ja\n",
      "---\n",
      "Tweet 759: A D&amp;G Service le gamme K e D di Renault Trucks\n",
      "@RenaultTrucksCo \n",
      "https://t.co/jChTlqv93H https://t.co/HiwPqUifXZ\n",
      "Tweet 815: @SCSsoftware Renault trucks @SCSsoftware\n",
      "---\n",
      "Tweet 825: This Super-Rare Renault Clio V6 Phase 2 Just Sold For Stupid Money https://t.co/y0liDJEIGD https://t.co/L968ZMHdJn\n",
      "Tweet 892: @hlovo_ Renault Clio v6 is the only renau car that matters\n",
      "---\n",
      "Tweet 319: @PureStorageIN @drashwathcn @AjaySin16024715 @AJ_AJEYA @Ramkomanduri What do you do !! ??\n",
      "It looks like a Renault logo to me 🤔\n",
      "Tweet 762: @Lobow0lf Well, more like Renault Medallion than Alliance.\n",
      "---\n",
      "Tweet 385: 8. anything but a renault kwid. https://t.co/uzJZyPFCM7\n",
      "Tweet 656: Suddenly, Renault kwid looks Hella attractive 😩😩😩\n",
      "---\n",
      "Tweet 745: @NoContextHumour Missing Renault Clio V6  so as Renault 5 Turbo.  Can't deside between 4 and 8 hits me emotionally! https://t.co/lzQZ5yOGzR\n",
      "Tweet 892: @hlovo_ Renault Clio v6 is the only renau car that matters\n",
      "---\n",
      "Tweet 524: @KyivIndependent For those people who wants to know the brand of my car: Renault Clio, Diesel, 1400 cc, 66 kW. It is a lovely \"lady\".\n",
      "Tweet 961: Do you like this car?\n",
      "\n",
      "Renault Clio Wiliams https://t.co/HoHhM5U6IM\n",
      "---\n",
      "Tweet 9: Chosen Few: Four More Renault Trucks C Tippers for J T Few Plant Hire LTD\n",
      "\n",
      "@RenaultTrucksUK @JTFewPlantHire \n",
      "\n",
      "#Trucks #RenaultTrucks #Renault #Supplied \n",
      "\n",
      "https://t.co/TpnOzX2TZt\n",
      "Tweet 815: @SCSsoftware Renault trucks @SCSsoftware\n",
      "---\n",
      "Tweet 10: @sysable @Cavalonraptor I thought it was a v6 engine jointly made by Renault and Volvo 👀\n",
      "Tweet 517: @m1cksacc @PeteWhite5000 But the Renault is a volvo in disguise 🤔\n",
      "---\n",
      "Tweet 167: @PursleyLewis Could have been in Renault Clio advert with Thierry\n",
      "Tweet 244: Renault Clio 4 Door Moulding for Sale https://t.co/5RBcrPek5O\n",
      "---\n"
     ]
    }
   ],
   "source": [
    "# Inspect the tweets with a Jaccard similarity score\n",
    "for _, index1, index2 in most_similar_tweets:\n",
    "    print(f\"Tweet {index1}: {tweets_df.loc[index1]['text']}\")\n",
    "    print(f\"Tweet {index2}: {tweets_df.loc[index2]['text']}\")\n",
    "    print(\"---\")\n"
   ]
  },
  {
   "cell_type": "markdown",
   "metadata": {},
   "source": [
    "## News"
   ]
  },
  {
   "cell_type": "code",
   "execution_count": 42,
   "outputs": [
    {
     "data": {
      "text/plain": "                                                                                                                                                 url  \\\n0                                                                                        https://auto.hindustantimes.com/lml-bikes/dealers/bodh-gaya   \n1                                                                                        https://auto.hindustantimes.com/pure-ev-bikes/dealers/avadi   \n2  https://www.ktre.com/prnewswire/2022/06/07/syncron-price-selected-by-mitsubishi-motors-corporation-boost-enhanced-service-parts-pricing-strategy/   \n3                                                                         https://www.motoroids.com/news/mahindra-teases-its-future-electric-lineup/   \n4                                                                                        https://auto.hindustantimes.com/jawa-bikes/dealers/vadodara   \n\n        date language  \\\n0 2022-01-21       en   \n1 2022-01-21       en   \n2 2022-06-07       en   \n3 2022-02-14       en   \n4 2022-01-07       en   \n\n                                                                                                      title  \\\n0                                                      Lml Bikes Car Dealers - Lml Bikes Showrooms in India   \n1                                              Pure Ev Bikes Car Dealers - Pure Ev Bikes Showrooms in India   \n2  Syncron Price Selected by Mitsubishi Motors Corporation to Boost Enhanced Service Parts Pricing Strategy   \n3                                                   Mahindra Teases Its Future Electric Lineup! | Motoroids   \n4                                                    Jawa Bikes Car Dealers - Jawa Bikes Showrooms in India   \n\n                                                                                                                                                                                                                                                                                                                                                                                                                                                                                                                  text  \\\n0  Lml Bikes Car Dealers - Lml Bikes Showrooms in India Explore  Friday, 21 January 2022 Log in/Sign up SearchNotificationsTop SectionsAuto NewsCar NewsBike NewsLatestAuto NewsPhotosVideosElectric VehiclesTrendingMy ReadsOffersnewFind carsFind bikesCompare carsCompare bikesEMI calculatorDealersExplore AutoAbout UsContact UsSITEMAPRSSTerms of UsePrivacy PolicyCopyright © HT Media Limited All rights reserved.HomeOffersnewFind carsFind bikesCompare carsCompare bikesEMI calculatorDealersCar NewsBik...   \n1  Pure Ev Bikes Car Dealers - Pure Ev Bikes Showrooms in India Explore  Friday, 21 January 2022 Log in/Sign up SearchNotificationsTop SectionsAuto NewsCar NewsBike NewsLatestAuto NewsPhotosVideosElectric VehiclesTrendingMy ReadsOffersnewFind carsFind bikesCompare carsCompare bikesEMI calculatorDealersExplore AutoAbout UsContact UsSITEMAPRSSTerms of UsePrivacy PolicyCopyright © HT Media Limited All rights reserved.HomeOffersnewFind carsFind bikesCompare carsCompare bikesEMI calculatorDealersCar...   \n2  Syncron Price Selected by Mitsubishi Motors Corporation to Boost Enhanced Service Parts Pricing StrategySkip to contentCircle - Country Music & LifestyleAdvertise With UsTeacher TributeAsk The ExpertThank A NurseBe ExcellentWatch LiveNewsElectionsVaccine TrackerVideoWeatherSportsCommunityContestsAbout UsCOVID-19SearchHomeSee it, Snap it, Send itNewsStorm of the CenturyNationalStateEditorialInvestigateEast Texas Ag NewsCrimeEast Texas NowThe Next NormalSept 11thWeatherSign Up for ThunderCallL...   \n3  Mahindra Teases Its Future Electric Lineup! | Motoroids Motoroids BlogMotoroids Forum AuthorsContact usSubmit storyAdvertise with usPrivacy Policy Search HomeAuto NewsFeaturesLaunchesUpcoming CarsUpcoming SUVsUpcoming BikesRecent LaunchesReviewsModsModified BikesModified CarsInteresting / Off-beatLists100cc Bikes110cc Bikes125cc Bikes150cc Bikes160cc Bikes200cc Bikes250cc Bikes300cc – 350cc BikesBikes In IndiaCars in IndiaForums Trending: Triumph Trident 660 Gets Pricier! HomeNewsMahindra Te...   \n4  Jawa Bikes Car Dealers - Jawa Bikes Showrooms in India Explore  Saturday, 8 January 2022 Log in/Sign up SearchNotificationsTop SectionsAuto NewsCar NewsBike NewsLatestAuto NewsPhotosVideosElectric VehiclesTrendingMy ReadsOffersnewFind carsFind bikesCompare carsCompare bikesEMI calculatorDealersExplore AutoAbout UsContact UsSITEMAPRSSTerms of UsePrivacy PolicyCopyright © HT Media Limited All rights reserved.HomeOffersnewFind carsFind bikesCompare carsCompare bikesEMI calculatorDealersCar News...   \n\n                                                                                                                                                                                                                                                                                                                                                                                                                                                                                                   text_cleaned_tokens  \\\n0  [lml, bikes, car, dealers, lml, bikes, showrooms, india, explore, friday, january, log, sign, searchnotificationstop, sectionsauto, newscar, newsbike, newslatestauto, newsphotosvideoselectric, vehiclestrendingmy, readsoffersnewfind, carsfind, bikescompare, carscompare, bikesemi, calculatordealersexplore, autoabout, uscontact, ussitemaprssterms, useprivacy, policycopyright, ht, media, limited, rights, reserved, homeoffersnewfind, carsfind, bikescompare, carscompare, bikesemi, calculatordealer...   \n1  [pure, ev, bikes, car, dealers, pure, ev, bikes, showrooms, india, explore, friday, january, log, sign, searchnotificationstop, sectionsauto, newscar, newsbike, newslatestauto, newsphotosvideoselectric, vehiclestrendingmy, readsoffersnewfind, carsfind, bikescompare, carscompare, bikesemi, calculatordealersexplore, autoabout, uscontact, ussitemaprssterms, useprivacy, policycopyright, ht, media, limited, rights, reserved, homeoffersnewfind, carsfind, bikescompare, carscompare, bikesemi, calcul...   \n2  [syncron, price, selected, mitsubishi, motors, corporation, boost, enhanced, service, parts, pricing, strategyskip, contentcircle, country, music, lifestyleadvertise, usteacher, tributeask, expertthank, nursebe, excellentwatch, livenewselectionsvaccine, trackervideoweathersportscommunitycontestsabout, uscovid, 19searchhomesee, snap, send, itnewsstorm, centurynationalstateeditorialinvestigateeast, texas, ag, newscrimeeast, texas, nowthe, next, normalsept, 11thweathersign, thundercalllake, lev...   \n3  [mahindra, teases, future, electric, lineup, motoroids, motoroids, blogmotoroids, forum, authorscontact, ussubmit, storyadvertise, usprivacy, policy, search, homeauto, newsfeatureslaunchesupcoming, carsupcoming, suvsupcoming, bikesrecent, launchesreviewsmodsmodified, bikesmodified, carsinteresting, beatlists100cc, bikes110cc, bikes125cc, bikes150cc, bikes160cc, bikes200cc, bikes250cc, bikes300cc, 350cc, bikesbikes, indiacars, indiaforums, trending, triumph, trident, gets, pricier, homenewsma...   \n4  [jawa, bikes, car, dealers, jawa, bikes, showrooms, india, explore, saturday, january, log, sign, searchnotificationstop, sectionsauto, newscar, newsbike, newslatestauto, newsphotosvideoselectric, vehiclestrendingmy, readsoffersnewfind, carsfind, bikescompare, carscompare, bikesemi, calculatordealersexplore, autoabout, uscontact, ussitemaprssterms, useprivacy, policycopyright, ht, media, limited, rights, reserved, homeoffersnewfind, carsfind, bikescompare, carscompare, bikesemi, calculatorde...   \n\n                                                                                                                                                                                                                                                                                                                                                                                                                                                                                                              bi_grams  \n0  {(petrol, manual, lakhs, onwardsget, road, priceadd, comparehelp, us, basic, details), (cars, car, dealers, showrooms, indialml, bikes, car, dealers, showrooms, bodh), (newsphotosvideoselectric, vehiclestrendingmy, readsoffersnewfind, carsfind, bikescompare, carscompare, bikesemi, calculatordealersexplore, autoabout, uscontact), (gayatrending, carssee, allkia, seltos1497, cc, petrol, manual, lakhs, onwardsget, road), (gayasearch, car, dealers, near, lml, bikes, dealers, found, bodh, gayatren...  \n1  {(petrol, manual, lakhs, onwardsget, road, priceadd, comparehelp, us, basic, details), (newsphotosvideoselectric, vehiclestrendingmy, readsoffersnewfind, carsfind, bikescompare, carscompare, bikesemi, calculatordealersexplore, autoabout, uscontact), (resend, otpsubmit, otpno, networkserver, issueinternet, availablewait, log, website, save, bookmarks), (agree, terms, privacy, policyview, offersdear, nameplease, verify, mobile, number, choose), (limited, rights, reserved, homeoffersnewfind, ca...  \n2  {(world, first, mass, produced, electric, vehicle, followed, outlander, phev, world), (www, mitsubishi, motors, com, en, syncronsyncron, empowers, leading, manufacturers, distributors), (nam, russia, mitsubishi, motors, competitive, edge, suvs, pickup, trucks, plug), (pricing, strategy, htmlsource, syncronthe, press, release, provided, courtesy, prnewswire, views), (successfully, future, service, driven, business, models, industry, leading, investments, ai), (sought, solution, used, base, sy...  \n3  {(r15yamaha, yzf, r25yamaha, yzf, r6zerounoarchivesfebruary, 2022january, 2022december, 2021november, 2021october, 2021september), (plans, launch, electric, duke, maruti, suzuki, baleno, facelift, infotainment, system), (karizma, rhero, motocorp, maestro, edgehero, motocorp, passion, prohero, motocorp, passion), (z125kawasaki, z250kawasaki, z300kawasaki, z650kawasaki, z800kawasaki, z900kawasaki, zx, 10rkawasaki, zx, 14rkawasaki), (tlxalfa, romeoalfa, romeo, 4calfa, romeo, stelvioalto, 800alt...  \n4  {(petrol, manual, lakhs, onwardsget, road, priceadd, comparehelp, us, basic, details), (newsphotosvideoselectric, vehiclestrendingmy, readsoffersnewfind, carsfind, bikescompare, carscompare, bikesemi, calculatordealersexplore, autoabout, uscontact), (resend, otpsubmit, otpno, networkserver, issueinternet, availablewait, log, website, save, bookmarks), (agree, terms, privacy, policyview, offersdear, nameplease, verify, mobile, number, choose), (limited, rights, reserved, homeoffersnewfind, ca...  ",
      "text/html": "<div>\n<style scoped>\n    .dataframe tbody tr th:only-of-type {\n        vertical-align: middle;\n    }\n\n    .dataframe tbody tr th {\n        vertical-align: top;\n    }\n\n    .dataframe thead th {\n        text-align: right;\n    }\n</style>\n<table border=\"1\" class=\"dataframe\">\n  <thead>\n    <tr style=\"text-align: right;\">\n      <th></th>\n      <th>url</th>\n      <th>date</th>\n      <th>language</th>\n      <th>title</th>\n      <th>text</th>\n      <th>text_cleaned_tokens</th>\n      <th>bi_grams</th>\n    </tr>\n  </thead>\n  <tbody>\n    <tr>\n      <th>0</th>\n      <td>https://auto.hindustantimes.com/lml-bikes/dealers/bodh-gaya</td>\n      <td>2022-01-21</td>\n      <td>en</td>\n      <td>Lml Bikes Car Dealers - Lml Bikes Showrooms in India</td>\n      <td>Lml Bikes Car Dealers - Lml Bikes Showrooms in India Explore  Friday, 21 January 2022 Log in/Sign up SearchNotificationsTop SectionsAuto NewsCar NewsBike NewsLatestAuto NewsPhotosVideosElectric VehiclesTrendingMy ReadsOffersnewFind carsFind bikesCompare carsCompare bikesEMI calculatorDealersExplore AutoAbout UsContact UsSITEMAPRSSTerms of UsePrivacy PolicyCopyright © HT Media Limited All rights reserved.HomeOffersnewFind carsFind bikesCompare carsCompare bikesEMI calculatorDealersCar NewsBik...</td>\n      <td>[lml, bikes, car, dealers, lml, bikes, showrooms, india, explore, friday, january, log, sign, searchnotificationstop, sectionsauto, newscar, newsbike, newslatestauto, newsphotosvideoselectric, vehiclestrendingmy, readsoffersnewfind, carsfind, bikescompare, carscompare, bikesemi, calculatordealersexplore, autoabout, uscontact, ussitemaprssterms, useprivacy, policycopyright, ht, media, limited, rights, reserved, homeoffersnewfind, carsfind, bikescompare, carscompare, bikesemi, calculatordealer...</td>\n      <td>{(petrol, manual, lakhs, onwardsget, road, priceadd, comparehelp, us, basic, details), (cars, car, dealers, showrooms, indialml, bikes, car, dealers, showrooms, bodh), (newsphotosvideoselectric, vehiclestrendingmy, readsoffersnewfind, carsfind, bikescompare, carscompare, bikesemi, calculatordealersexplore, autoabout, uscontact), (gayatrending, carssee, allkia, seltos1497, cc, petrol, manual, lakhs, onwardsget, road), (gayasearch, car, dealers, near, lml, bikes, dealers, found, bodh, gayatren...</td>\n    </tr>\n    <tr>\n      <th>1</th>\n      <td>https://auto.hindustantimes.com/pure-ev-bikes/dealers/avadi</td>\n      <td>2022-01-21</td>\n      <td>en</td>\n      <td>Pure Ev Bikes Car Dealers - Pure Ev Bikes Showrooms in India</td>\n      <td>Pure Ev Bikes Car Dealers - Pure Ev Bikes Showrooms in India Explore  Friday, 21 January 2022 Log in/Sign up SearchNotificationsTop SectionsAuto NewsCar NewsBike NewsLatestAuto NewsPhotosVideosElectric VehiclesTrendingMy ReadsOffersnewFind carsFind bikesCompare carsCompare bikesEMI calculatorDealersExplore AutoAbout UsContact UsSITEMAPRSSTerms of UsePrivacy PolicyCopyright © HT Media Limited All rights reserved.HomeOffersnewFind carsFind bikesCompare carsCompare bikesEMI calculatorDealersCar...</td>\n      <td>[pure, ev, bikes, car, dealers, pure, ev, bikes, showrooms, india, explore, friday, january, log, sign, searchnotificationstop, sectionsauto, newscar, newsbike, newslatestauto, newsphotosvideoselectric, vehiclestrendingmy, readsoffersnewfind, carsfind, bikescompare, carscompare, bikesemi, calculatordealersexplore, autoabout, uscontact, ussitemaprssterms, useprivacy, policycopyright, ht, media, limited, rights, reserved, homeoffersnewfind, carsfind, bikescompare, carscompare, bikesemi, calcul...</td>\n      <td>{(petrol, manual, lakhs, onwardsget, road, priceadd, comparehelp, us, basic, details), (newsphotosvideoselectric, vehiclestrendingmy, readsoffersnewfind, carsfind, bikescompare, carscompare, bikesemi, calculatordealersexplore, autoabout, uscontact), (resend, otpsubmit, otpno, networkserver, issueinternet, availablewait, log, website, save, bookmarks), (agree, terms, privacy, policyview, offersdear, nameplease, verify, mobile, number, choose), (limited, rights, reserved, homeoffersnewfind, ca...</td>\n    </tr>\n    <tr>\n      <th>2</th>\n      <td>https://www.ktre.com/prnewswire/2022/06/07/syncron-price-selected-by-mitsubishi-motors-corporation-boost-enhanced-service-parts-pricing-strategy/</td>\n      <td>2022-06-07</td>\n      <td>en</td>\n      <td>Syncron Price Selected by Mitsubishi Motors Corporation to Boost Enhanced Service Parts Pricing Strategy</td>\n      <td>Syncron Price Selected by Mitsubishi Motors Corporation to Boost Enhanced Service Parts Pricing StrategySkip to contentCircle - Country Music &amp; LifestyleAdvertise With UsTeacher TributeAsk The ExpertThank A NurseBe ExcellentWatch LiveNewsElectionsVaccine TrackerVideoWeatherSportsCommunityContestsAbout UsCOVID-19SearchHomeSee it, Snap it, Send itNewsStorm of the CenturyNationalStateEditorialInvestigateEast Texas Ag NewsCrimeEast Texas NowThe Next NormalSept 11thWeatherSign Up for ThunderCallL...</td>\n      <td>[syncron, price, selected, mitsubishi, motors, corporation, boost, enhanced, service, parts, pricing, strategyskip, contentcircle, country, music, lifestyleadvertise, usteacher, tributeask, expertthank, nursebe, excellentwatch, livenewselectionsvaccine, trackervideoweathersportscommunitycontestsabout, uscovid, 19searchhomesee, snap, send, itnewsstorm, centurynationalstateeditorialinvestigateeast, texas, ag, newscrimeeast, texas, nowthe, next, normalsept, 11thweathersign, thundercalllake, lev...</td>\n      <td>{(world, first, mass, produced, electric, vehicle, followed, outlander, phev, world), (www, mitsubishi, motors, com, en, syncronsyncron, empowers, leading, manufacturers, distributors), (nam, russia, mitsubishi, motors, competitive, edge, suvs, pickup, trucks, plug), (pricing, strategy, htmlsource, syncronthe, press, release, provided, courtesy, prnewswire, views), (successfully, future, service, driven, business, models, industry, leading, investments, ai), (sought, solution, used, base, sy...</td>\n    </tr>\n    <tr>\n      <th>3</th>\n      <td>https://www.motoroids.com/news/mahindra-teases-its-future-electric-lineup/</td>\n      <td>2022-02-14</td>\n      <td>en</td>\n      <td>Mahindra Teases Its Future Electric Lineup! | Motoroids</td>\n      <td>Mahindra Teases Its Future Electric Lineup! | Motoroids Motoroids BlogMotoroids Forum AuthorsContact usSubmit storyAdvertise with usPrivacy Policy Search HomeAuto NewsFeaturesLaunchesUpcoming CarsUpcoming SUVsUpcoming BikesRecent LaunchesReviewsModsModified BikesModified CarsInteresting / Off-beatLists100cc Bikes110cc Bikes125cc Bikes150cc Bikes160cc Bikes200cc Bikes250cc Bikes300cc – 350cc BikesBikes In IndiaCars in IndiaForums Trending: Triumph Trident 660 Gets Pricier! HomeNewsMahindra Te...</td>\n      <td>[mahindra, teases, future, electric, lineup, motoroids, motoroids, blogmotoroids, forum, authorscontact, ussubmit, storyadvertise, usprivacy, policy, search, homeauto, newsfeatureslaunchesupcoming, carsupcoming, suvsupcoming, bikesrecent, launchesreviewsmodsmodified, bikesmodified, carsinteresting, beatlists100cc, bikes110cc, bikes125cc, bikes150cc, bikes160cc, bikes200cc, bikes250cc, bikes300cc, 350cc, bikesbikes, indiacars, indiaforums, trending, triumph, trident, gets, pricier, homenewsma...</td>\n      <td>{(r15yamaha, yzf, r25yamaha, yzf, r6zerounoarchivesfebruary, 2022january, 2022december, 2021november, 2021october, 2021september), (plans, launch, electric, duke, maruti, suzuki, baleno, facelift, infotainment, system), (karizma, rhero, motocorp, maestro, edgehero, motocorp, passion, prohero, motocorp, passion), (z125kawasaki, z250kawasaki, z300kawasaki, z650kawasaki, z800kawasaki, z900kawasaki, zx, 10rkawasaki, zx, 14rkawasaki), (tlxalfa, romeoalfa, romeo, 4calfa, romeo, stelvioalto, 800alt...</td>\n    </tr>\n    <tr>\n      <th>4</th>\n      <td>https://auto.hindustantimes.com/jawa-bikes/dealers/vadodara</td>\n      <td>2022-01-07</td>\n      <td>en</td>\n      <td>Jawa Bikes Car Dealers - Jawa Bikes Showrooms in India</td>\n      <td>Jawa Bikes Car Dealers - Jawa Bikes Showrooms in India Explore  Saturday, 8 January 2022 Log in/Sign up SearchNotificationsTop SectionsAuto NewsCar NewsBike NewsLatestAuto NewsPhotosVideosElectric VehiclesTrendingMy ReadsOffersnewFind carsFind bikesCompare carsCompare bikesEMI calculatorDealersExplore AutoAbout UsContact UsSITEMAPRSSTerms of UsePrivacy PolicyCopyright © HT Media Limited All rights reserved.HomeOffersnewFind carsFind bikesCompare carsCompare bikesEMI calculatorDealersCar News...</td>\n      <td>[jawa, bikes, car, dealers, jawa, bikes, showrooms, india, explore, saturday, january, log, sign, searchnotificationstop, sectionsauto, newscar, newsbike, newslatestauto, newsphotosvideoselectric, vehiclestrendingmy, readsoffersnewfind, carsfind, bikescompare, carscompare, bikesemi, calculatordealersexplore, autoabout, uscontact, ussitemaprssterms, useprivacy, policycopyright, ht, media, limited, rights, reserved, homeoffersnewfind, carsfind, bikescompare, carscompare, bikesemi, calculatorde...</td>\n      <td>{(petrol, manual, lakhs, onwardsget, road, priceadd, comparehelp, us, basic, details), (newsphotosvideoselectric, vehiclestrendingmy, readsoffersnewfind, carsfind, bikescompare, carscompare, bikesemi, calculatordealersexplore, autoabout, uscontact), (resend, otpsubmit, otpno, networkserver, issueinternet, availablewait, log, website, save, bookmarks), (agree, terms, privacy, policyview, offersdear, nameplease, verify, mobile, number, choose), (limited, rights, reserved, homeoffersnewfind, ca...</td>\n    </tr>\n  </tbody>\n</table>\n</div>"
     },
     "execution_count": 42,
     "metadata": {},
     "output_type": "execute_result"
    }
   ],
   "source": [
    "news_df.head(5)"
   ],
   "metadata": {
    "collapsed": false,
    "ExecuteTime": {
     "end_time": "2024-01-23T05:10:37.421797Z",
     "start_time": "2024-01-23T05:10:37.323942Z"
    }
   }
  },
  {
   "cell_type": "markdown",
   "metadata": {},
   "source": [
    "* Title Only: The title of a news article provides a concise summary of its content. Using only the title is useful when the goal is to understand the main theme or focus of the article quickly. There are some unclean text, such as extraneous characters and escape sequences (e.g., backslashes “\\”). \n",
    "* Text Only: The full text of an article offers a comprehensive view of the subject matter, including details, context, and nuances that are not present in the title alone. \n",
    "* Title+Text approach can lead to redundancy, since the title is often included at the start of the text.\n",
    "\n",
    "Thus, choose only column 'text' approach is better than others"
   ]
  },
  {
   "cell_type": "markdown",
   "source": [
    "#### Tokenize and Clean"
   ],
   "metadata": {
    "collapsed": false
   }
  },
  {
   "cell_type": "code",
   "execution_count": 12,
   "outputs": [],
   "source": [
    "# Function to tokenize and clean a single tweet\n",
    "def tokenize_and_clean(news):\n",
    "    # Initialize TweetTokenizer\n",
    "    news_tokenizer = RegexpTokenizer(r'\\w+')\n",
    "    \n",
    "    # Tokenize the tweet\n",
    "    words = news_tokenizer.tokenize(news)\n",
    "\n",
    "    # Set of stopwords\n",
    "    stopwords = set(nltk.corpus.stopwords.words('english'))\n",
    "\n",
    "    # Cleaning steps\n",
    "    words = [word for word in words if len(word) > 1]  # Remove single-character tokens\n",
    "    words = [word for word in words if not word.isnumeric()]  # Remove numbers\n",
    "    words = [word.lower() for word in words]  # Lowercase\n",
    "    words = [word for word in words if not word.startswith('#')]  # Remove hashtags\n",
    "    words = [word for word in words if word not in stopwords]  # Remove stopwords\n",
    "\n",
    "    return words\n",
    "\n",
    "# Apply the function to each row in the DataFrame\n",
    "news_df['text_cleaned_tokens'] = news_df['text'].apply(tokenize_and_clean)"
   ],
   "metadata": {
    "collapsed": false,
    "ExecuteTime": {
     "end_time": "2024-01-22T23:02:31.180675Z",
     "start_time": "2024-01-22T23:02:29.369309Z"
    }
   }
  },
  {
   "cell_type": "markdown",
   "source": [
    "#### N-grams & Similarity Check"
   ],
   "metadata": {
    "collapsed": false
   }
  },
  {
   "cell_type": "code",
   "execution_count": 17,
   "outputs": [],
   "source": [
    "# Range of n values to test\n",
    "n_values = range(3, 11) \n",
    "\n",
    "# Calculate average Jaccard distance for each n\n",
    "avg_distances = []\n",
    "for n in n_values:\n",
    "    distances = []\n",
    "    # Generate n-grams and calculate distances for each pair of tweets\n",
    "    for tweet1, tweet2 in itertools.combinations(news_df['text_cleaned_tokens'], 2):\n",
    "        set1 = generate_ngrams(tweet1, n)\n",
    "        set2 = generate_ngrams(tweet2, n)\n",
    "        if set1 and set2:  # Only calculate if both sets are non-empty\n",
    "            distances.append(calculate_jaccard_distance(set1, set2))\n",
    "\n",
    "    # Compute average if distances list is not empty\n",
    "    avg_distances.append(sum(distances) / len(distances) if distances else 0)"
   ],
   "metadata": {
    "collapsed": false,
    "ExecuteTime": {
     "end_time": "2024-01-22T23:55:03.299518Z",
     "start_time": "2024-01-22T23:13:04.093983Z"
    }
   }
  },
  {
   "cell_type": "code",
   "execution_count": 18,
   "outputs": [
    {
     "data": {
      "text/plain": "<Figure size 640x480 with 1 Axes>",
      "image/png": "[encoded data removed]"
     },
     "metadata": {},
     "output_type": "display_data"
    }
   ],
   "source": [
    "# Plotting\n",
    "plt.plot(n_values, avg_distances, marker='o')  # Adding a marker for clarity\n",
    "plt.xticks(n_values)  # Ensuring that only whole numbers are used for x-ticks\n",
    "plt.xlabel('n-gram')\n",
    "plt.ylabel('Average Jaccard Distance')\n",
    "plt.title('Effect of n-grama Size on Average Jaccard Distance')\n",
    "plt.show()"
   ],
   "metadata": {
    "collapsed": false,
    "ExecuteTime": {
     "end_time": "2024-01-22T23:55:44.704632Z",
     "start_time": "2024-01-22T23:55:44.517125Z"
    }
   }
  },
  {
   "cell_type": "markdown",
   "source": [
    "From the graph we know, the increase in Jaccard distance with larger n-grams could indicate that larger n-grams are less common across different texts, leading to a higher dissimilarity (or distance) between text samples when larger n-grams are used for comparison. A smaller n-gram might initially seem preferable because a smaller average Jaccard distance indicates higher similarity. Smaller n-grams (like trigrams or 4-grams) might capture more general language patterns which are common across many news articles. Larger n-grams (like 5-grams to 7-grams) might capture more specific phrases and terms that are unique to particular news stories, providing a better distinction between articles on different topics. \n",
    "This, 4-grams is a proper choice becuase this could be useful for finding broadly similar articles but might not differentiate well between articles on different events that use similar language."
   ],
   "metadata": {
    "collapsed": false
   }
  },
  {
   "cell_type": "code",
   "execution_count": 48,
   "outputs": [],
   "source": [
    "# Add a new column to the DataFrame for four-grams\n",
    "news_df['four_grams'] = news_df['text_cleaned_tokens'].apply(lambda tokens: generate_ngrams(tokens, 4))\n",
    "\n",
    "# Initialize an empty list to store the similarity scores\n",
    "similarity_scores = []\n",
    "\n",
    "# Calculate Jaccard distances for each pair of tweets, handling empty four-grams sets\n",
    "for (index1, news1), (index2, news2) in itertools.combinations(news_df.iterrows(), 2):\n",
    "    score = calculate_jaccard_distance(news1['ten_grams'], news2['ten_grams'])\n",
    "    similarity_scores.append((score, index1, index2))\n",
    "\n",
    "# Sort the list of scores by the Jaccard distance\n",
    "similarity_scores.sort()"
   ],
   "metadata": {
    "collapsed": false,
    "ExecuteTime": {
     "end_time": "2024-01-23T20:30:51.160195Z",
     "start_time": "2024-01-23T20:29:39.142647Z"
    }
   }
  },
  {
   "cell_type": "code",
   "execution_count": 49,
   "outputs": [
    {
     "name": "stdout",
     "output_type": "stream",
     "text": [
      "News 29 and News 38 have a Jaccard distance of: 0.0128\n",
      "News 29 and News 39 have a Jaccard distance of: 0.0128\n",
      "News 29 and News 46 have a Jaccard distance of: 0.0128\n",
      "News 29 and News 161 have a Jaccard distance of: 0.0128\n",
      "News 29 and News 406 have a Jaccard distance of: 0.0128\n",
      "News 29 and News 663 have a Jaccard distance of: 0.0128\n",
      "News 29 and News 846 have a Jaccard distance of: 0.0128\n",
      "News 38 and News 39 have a Jaccard distance of: 0.0128\n",
      "News 38 and News 46 have a Jaccard distance of: 0.0128\n",
      "News 38 and News 161 have a Jaccard distance of: 0.0128\n",
      "News 38 and News 406 have a Jaccard distance of: 0.0128\n",
      "News 38 and News 663 have a Jaccard distance of: 0.0128\n",
      "News 38 and News 846 have a Jaccard distance of: 0.0128\n",
      "News 39 and News 46 have a Jaccard distance of: 0.0128\n",
      "News 39 and News 161 have a Jaccard distance of: 0.0128\n",
      "News 39 and News 406 have a Jaccard distance of: 0.0128\n",
      "News 39 and News 663 have a Jaccard distance of: 0.0128\n",
      "News 39 and News 846 have a Jaccard distance of: 0.0128\n",
      "News 46 and News 161 have a Jaccard distance of: 0.0128\n",
      "News 46 and News 406 have a Jaccard distance of: 0.0128\n",
      "News 46 and News 663 have a Jaccard distance of: 0.0128\n",
      "News 46 and News 846 have a Jaccard distance of: 0.0128\n",
      "News 161 and News 406 have a Jaccard distance of: 0.0128\n",
      "News 161 and News 663 have a Jaccard distance of: 0.0128\n",
      "News 161 and News 846 have a Jaccard distance of: 0.0128\n",
      "News 406 and News 663 have a Jaccard distance of: 0.0128\n",
      "News 406 and News 846 have a Jaccard distance of: 0.0128\n",
      "News 663 and News 846 have a Jaccard distance of: 0.0128\n",
      "News 29 and News 599 have a Jaccard distance of: 0.0140\n",
      "News 38 and News 599 have a Jaccard distance of: 0.0140\n",
      "News 39 and News 599 have a Jaccard distance of: 0.0140\n",
      "News 46 and News 599 have a Jaccard distance of: 0.0140\n",
      "News 161 and News 599 have a Jaccard distance of: 0.0140\n",
      "News 406 and News 599 have a Jaccard distance of: 0.0140\n",
      "News 599 and News 663 have a Jaccard distance of: 0.0140\n",
      "News 599 and News 846 have a Jaccard distance of: 0.0140\n",
      "News 290 and News 808 have a Jaccard distance of: 0.0143\n",
      "News 29 and News 475 have a Jaccard distance of: 0.0151\n",
      "News 38 and News 475 have a Jaccard distance of: 0.0151\n",
      "News 39 and News 475 have a Jaccard distance of: 0.0151\n",
      "News 46 and News 475 have a Jaccard distance of: 0.0151\n",
      "News 161 and News 475 have a Jaccard distance of: 0.0151\n",
      "News 406 and News 475 have a Jaccard distance of: 0.0151\n",
      "News 475 and News 663 have a Jaccard distance of: 0.0151\n",
      "News 475 and News 846 have a Jaccard distance of: 0.0151\n",
      "News 475 and News 599 have a Jaccard distance of: 0.0163\n",
      "News 275 and News 594 have a Jaccard distance of: 0.0233\n",
      "News 438 and News 972 have a Jaccard distance of: 0.0337\n",
      "News 34 and News 532 have a Jaccard distance of: 0.0354\n",
      "News 34 and News 955 have a Jaccard distance of: 0.0354\n"
     ]
    }
   ],
   "source": [
    "# Display the most similar news pairs and their Jaccard distance\n",
    "most_similar_news = similarity_scores[:50]  # Adjust number as needed\n",
    "for score, index1, index2 in most_similar_news:\n",
    "    print(f\"News {index1} and News {index2} have a Jaccard distance of: {score:.4f}\")"
   ],
   "metadata": {
    "collapsed": false,
    "ExecuteTime": {
     "end_time": "2024-01-23T20:35:49.229520Z",
     "start_time": "2024-01-23T20:35:49.196593Z"
    }
   }
  },
  {
   "cell_type": "code",
   "execution_count": 52,
   "outputs": [
    {
     "name": "stdout",
     "output_type": "stream",
     "text": [
      "News 29 and News 38 have a Jaccard distance of: 0.0128\n",
      "News 29: Toyota Urban Cruiser Car Discount Offers in Kulgam for March 2022\n",
      "News 38: Toyota Urban Cruiser Car Discount Offers in Kandhamal for March 2022\n",
      "---\n",
      "News 29 and News 39 have a Jaccard distance of: 0.0128\n",
      "News 29: Toyota Urban Cruiser Car Discount Offers in Kulgam for March 2022\n",
      "News 39: Toyota Urban Cruiser Car Discount Offers in Naharlagun for March 2022\n",
      "---\n",
      "News 29 and News 46 have a Jaccard distance of: 0.0128\n",
      "News 29: Toyota Urban Cruiser Car Discount Offers in Kulgam for March 2022\n",
      "News 46: Toyota Urban Cruiser Car Discount Offers in Mayurbhanja for March 2022\n",
      "---\n",
      "News 29 and News 161 have a Jaccard distance of: 0.0128\n",
      "News 29: Toyota Urban Cruiser Car Discount Offers in Kulgam for March 2022\n",
      "News 161: Toyota Urban Cruiser Car Discount Offers in Nirjuli for March 2022\n",
      "---\n",
      "News 29 and News 406 have a Jaccard distance of: 0.0128\n",
      "News 29: Toyota Urban Cruiser Car Discount Offers in Kulgam for March 2022\n",
      "News 406: Toyota Urban Cruiser Car Discount Offers in Madgaon for March 2022\n",
      "---\n",
      "News 29 and News 663 have a Jaccard distance of: 0.0128\n",
      "News 29: Toyota Urban Cruiser Car Discount Offers in Kulgam for March 2022\n",
      "News 663: Toyota Urban Cruiser Car Discount Offers in Kishtwar for March 2022\n",
      "---\n",
      "News 29 and News 846 have a Jaccard distance of: 0.0128\n",
      "News 29: Toyota Urban Cruiser Car Discount Offers in Kulgam for March 2022\n",
      "News 846: Toyota Urban Cruiser Car Discount Offers in Keonjhar for March 2022\n",
      "---\n",
      "News 38 and News 39 have a Jaccard distance of: 0.0128\n",
      "News 38: Toyota Urban Cruiser Car Discount Offers in Kandhamal for March 2022\n",
      "News 39: Toyota Urban Cruiser Car Discount Offers in Naharlagun for March 2022\n",
      "---\n",
      "News 38 and News 46 have a Jaccard distance of: 0.0128\n",
      "News 38: Toyota Urban Cruiser Car Discount Offers in Kandhamal for March 2022\n",
      "News 46: Toyota Urban Cruiser Car Discount Offers in Mayurbhanja for March 2022\n",
      "---\n",
      "News 38 and News 161 have a Jaccard distance of: 0.0128\n",
      "News 38: Toyota Urban Cruiser Car Discount Offers in Kandhamal for March 2022\n",
      "News 161: Toyota Urban Cruiser Car Discount Offers in Nirjuli for March 2022\n",
      "---\n",
      "News 38 and News 406 have a Jaccard distance of: 0.0128\n",
      "News 38: Toyota Urban Cruiser Car Discount Offers in Kandhamal for March 2022\n",
      "News 406: Toyota Urban Cruiser Car Discount Offers in Madgaon for March 2022\n",
      "---\n",
      "News 38 and News 663 have a Jaccard distance of: 0.0128\n",
      "News 38: Toyota Urban Cruiser Car Discount Offers in Kandhamal for March 2022\n",
      "News 663: Toyota Urban Cruiser Car Discount Offers in Kishtwar for March 2022\n",
      "---\n",
      "News 38 and News 846 have a Jaccard distance of: 0.0128\n",
      "News 38: Toyota Urban Cruiser Car Discount Offers in Kandhamal for March 2022\n",
      "News 846: Toyota Urban Cruiser Car Discount Offers in Keonjhar for March 2022\n",
      "---\n",
      "News 39 and News 46 have a Jaccard distance of: 0.0128\n",
      "News 39: Toyota Urban Cruiser Car Discount Offers in Naharlagun for March 2022\n",
      "News 46: Toyota Urban Cruiser Car Discount Offers in Mayurbhanja for March 2022\n",
      "---\n",
      "News 39 and News 161 have a Jaccard distance of: 0.0128\n",
      "News 39: Toyota Urban Cruiser Car Discount Offers in Naharlagun for March 2022\n",
      "News 161: Toyota Urban Cruiser Car Discount Offers in Nirjuli for March 2022\n",
      "---\n",
      "News 39 and News 406 have a Jaccard distance of: 0.0128\n",
      "News 39: Toyota Urban Cruiser Car Discount Offers in Naharlagun for March 2022\n",
      "News 406: Toyota Urban Cruiser Car Discount Offers in Madgaon for March 2022\n",
      "---\n",
      "News 39 and News 663 have a Jaccard distance of: 0.0128\n",
      "News 39: Toyota Urban Cruiser Car Discount Offers in Naharlagun for March 2022\n",
      "News 663: Toyota Urban Cruiser Car Discount Offers in Kishtwar for March 2022\n",
      "---\n",
      "News 39 and News 846 have a Jaccard distance of: 0.0128\n",
      "News 39: Toyota Urban Cruiser Car Discount Offers in Naharlagun for March 2022\n",
      "News 846: Toyota Urban Cruiser Car Discount Offers in Keonjhar for March 2022\n",
      "---\n",
      "News 46 and News 161 have a Jaccard distance of: 0.0128\n",
      "News 46: Toyota Urban Cruiser Car Discount Offers in Mayurbhanja for March 2022\n",
      "News 161: Toyota Urban Cruiser Car Discount Offers in Nirjuli for March 2022\n",
      "---\n",
      "News 46 and News 406 have a Jaccard distance of: 0.0128\n",
      "News 46: Toyota Urban Cruiser Car Discount Offers in Mayurbhanja for March 2022\n",
      "News 406: Toyota Urban Cruiser Car Discount Offers in Madgaon for March 2022\n",
      "---\n",
      "News 46 and News 663 have a Jaccard distance of: 0.0128\n",
      "News 46: Toyota Urban Cruiser Car Discount Offers in Mayurbhanja for March 2022\n",
      "News 663: Toyota Urban Cruiser Car Discount Offers in Kishtwar for March 2022\n",
      "---\n",
      "News 46 and News 846 have a Jaccard distance of: 0.0128\n",
      "News 46: Toyota Urban Cruiser Car Discount Offers in Mayurbhanja for March 2022\n",
      "News 846: Toyota Urban Cruiser Car Discount Offers in Keonjhar for March 2022\n",
      "---\n",
      "News 161 and News 406 have a Jaccard distance of: 0.0128\n",
      "News 161: Toyota Urban Cruiser Car Discount Offers in Nirjuli for March 2022\n",
      "News 406: Toyota Urban Cruiser Car Discount Offers in Madgaon for March 2022\n",
      "---\n",
      "News 161 and News 663 have a Jaccard distance of: 0.0128\n",
      "News 161: Toyota Urban Cruiser Car Discount Offers in Nirjuli for March 2022\n",
      "News 663: Toyota Urban Cruiser Car Discount Offers in Kishtwar for March 2022\n",
      "---\n",
      "News 161 and News 846 have a Jaccard distance of: 0.0128\n",
      "News 161: Toyota Urban Cruiser Car Discount Offers in Nirjuli for March 2022\n",
      "News 846: Toyota Urban Cruiser Car Discount Offers in Keonjhar for March 2022\n",
      "---\n",
      "News 406 and News 663 have a Jaccard distance of: 0.0128\n",
      "News 406: Toyota Urban Cruiser Car Discount Offers in Madgaon for March 2022\n",
      "News 663: Toyota Urban Cruiser Car Discount Offers in Kishtwar for March 2022\n",
      "---\n",
      "News 406 and News 846 have a Jaccard distance of: 0.0128\n",
      "News 406: Toyota Urban Cruiser Car Discount Offers in Madgaon for March 2022\n",
      "News 846: Toyota Urban Cruiser Car Discount Offers in Keonjhar for March 2022\n",
      "---\n",
      "News 663 and News 846 have a Jaccard distance of: 0.0128\n",
      "News 663: Toyota Urban Cruiser Car Discount Offers in Kishtwar for March 2022\n",
      "News 846: Toyota Urban Cruiser Car Discount Offers in Keonjhar for March 2022\n",
      "---\n",
      "News 29 and News 599 have a Jaccard distance of: 0.0140\n",
      "News 29: Toyota Urban Cruiser Car Discount Offers in Kulgam for March 2022\n",
      "News 599: Toyota Urban Cruiser Car Discount Offers in Jajpur Road for March 2022\n",
      "---\n",
      "News 38 and News 599 have a Jaccard distance of: 0.0140\n",
      "News 38: Toyota Urban Cruiser Car Discount Offers in Kandhamal for March 2022\n",
      "News 599: Toyota Urban Cruiser Car Discount Offers in Jajpur Road for March 2022\n",
      "---\n",
      "News 39 and News 599 have a Jaccard distance of: 0.0140\n",
      "News 39: Toyota Urban Cruiser Car Discount Offers in Naharlagun for March 2022\n",
      "News 599: Toyota Urban Cruiser Car Discount Offers in Jajpur Road for March 2022\n",
      "---\n",
      "News 46 and News 599 have a Jaccard distance of: 0.0140\n",
      "News 46: Toyota Urban Cruiser Car Discount Offers in Mayurbhanja for March 2022\n",
      "News 599: Toyota Urban Cruiser Car Discount Offers in Jajpur Road for March 2022\n",
      "---\n",
      "News 161 and News 599 have a Jaccard distance of: 0.0140\n",
      "News 161: Toyota Urban Cruiser Car Discount Offers in Nirjuli for March 2022\n",
      "News 599: Toyota Urban Cruiser Car Discount Offers in Jajpur Road for March 2022\n",
      "---\n",
      "News 406 and News 599 have a Jaccard distance of: 0.0140\n",
      "News 406: Toyota Urban Cruiser Car Discount Offers in Madgaon for March 2022\n",
      "News 599: Toyota Urban Cruiser Car Discount Offers in Jajpur Road for March 2022\n",
      "---\n",
      "News 599 and News 663 have a Jaccard distance of: 0.0140\n",
      "News 599: Toyota Urban Cruiser Car Discount Offers in Jajpur Road for March 2022\n",
      "News 663: Toyota Urban Cruiser Car Discount Offers in Kishtwar for March 2022\n",
      "---\n",
      "News 599 and News 846 have a Jaccard distance of: 0.0140\n",
      "News 599: Toyota Urban Cruiser Car Discount Offers in Jajpur Road for March 2022\n",
      "News 846: Toyota Urban Cruiser Car Discount Offers in Keonjhar for March 2022\n",
      "---\n",
      "News 290 and News 808 have a Jaccard distance of: 0.0143\n",
      "News 290: Porsche Cayenne Coupe Car Discount Offers in Jamshedpur for March 2022\n",
      "News 808: Porsche Cayenne Car Discount Offers in Jamshedpur for March 2022\n",
      "---\n",
      "News 29 and News 475 have a Jaccard distance of: 0.0151\n",
      "News 29: Toyota Urban Cruiser Car Discount Offers in Kulgam for March 2022\n",
      "News 475: Toyota Urban Cruiser Car Discount Offers in Khurda Andhra Pradesh for March 2022\n",
      "---\n",
      "News 38 and News 475 have a Jaccard distance of: 0.0151\n",
      "News 38: Toyota Urban Cruiser Car Discount Offers in Kandhamal for March 2022\n",
      "News 475: Toyota Urban Cruiser Car Discount Offers in Khurda Andhra Pradesh for March 2022\n",
      "---\n",
      "News 39 and News 475 have a Jaccard distance of: 0.0151\n",
      "News 39: Toyota Urban Cruiser Car Discount Offers in Naharlagun for March 2022\n",
      "News 475: Toyota Urban Cruiser Car Discount Offers in Khurda Andhra Pradesh for March 2022\n",
      "---\n",
      "News 46 and News 475 have a Jaccard distance of: 0.0151\n",
      "News 46: Toyota Urban Cruiser Car Discount Offers in Mayurbhanja for March 2022\n",
      "News 475: Toyota Urban Cruiser Car Discount Offers in Khurda Andhra Pradesh for March 2022\n",
      "---\n",
      "News 161 and News 475 have a Jaccard distance of: 0.0151\n",
      "News 161: Toyota Urban Cruiser Car Discount Offers in Nirjuli for March 2022\n",
      "News 475: Toyota Urban Cruiser Car Discount Offers in Khurda Andhra Pradesh for March 2022\n",
      "---\n",
      "News 406 and News 475 have a Jaccard distance of: 0.0151\n",
      "News 406: Toyota Urban Cruiser Car Discount Offers in Madgaon for March 2022\n",
      "News 475: Toyota Urban Cruiser Car Discount Offers in Khurda Andhra Pradesh for March 2022\n",
      "---\n",
      "News 475 and News 663 have a Jaccard distance of: 0.0151\n",
      "News 475: Toyota Urban Cruiser Car Discount Offers in Khurda Andhra Pradesh for March 2022\n",
      "News 663: Toyota Urban Cruiser Car Discount Offers in Kishtwar for March 2022\n",
      "---\n",
      "News 475 and News 846 have a Jaccard distance of: 0.0151\n",
      "News 475: Toyota Urban Cruiser Car Discount Offers in Khurda Andhra Pradesh for March 2022\n",
      "News 846: Toyota Urban Cruiser Car Discount Offers in Keonjhar for March 2022\n",
      "---\n",
      "News 475 and News 599 have a Jaccard distance of: 0.0163\n",
      "News 475: Toyota Urban Cruiser Car Discount Offers in Khurda Andhra Pradesh for March 2022\n",
      "News 599: Toyota Urban Cruiser Car Discount Offers in Jajpur Road for March 2022\n",
      "---\n",
      "News 275 and News 594 have a Jaccard distance of: 0.0233\n",
      "News 275: White grizzly bear spotted in Banff National Park | CTV News \n",
      "News 594: Mexico-U.S. cross-border tunnel discovered | CTV News \n",
      "---\n",
      "News 438 and News 972 have a Jaccard distance of: 0.0337\n",
      "News 438: Porsche Cayenne Car Discount Offers in Ahmedabad for March 2022\n",
      "News 972: Audi A8 L Car Discount Offers in Ahmedabad for March 2022\n",
      "---\n",
      "News 34 and News 532 have a Jaccard distance of: 0.0354\n",
      "News 34: Toyota Urban Cruiser Car Discount Offers in Noorpur for March 2022\n",
      "News 532: Toyota Urban Cruiser Car Discount Offers in Hardoi for March 2022\n",
      "---\n",
      "News 34 and News 955 have a Jaccard distance of: 0.0354\n",
      "News 34: Toyota Urban Cruiser Car Discount Offers in Noorpur for March 2022\n",
      "News 955: Toyota Urban Cruiser Car Discount Offers in Mahrajganj for March 2022\n",
      "---\n"
     ]
    }
   ],
   "source": [
    "# Inspect the news with a Jaccard similarity score of 0\n",
    "for _, index1, index2 in most_similar_news:\n",
    "    print(f\"News {index1} and News {index2} have a Jaccard distance of: {_:.4f}\")\n",
    "    print(f\"News {index1}: {news_df.loc[index1]['title']}\")\n",
    "    print(f\"News {index2}: {news_df.loc[index2]['title']}\")\n",
    "    print(\"---\")"
   ],
   "metadata": {
    "collapsed": false,
    "ExecuteTime": {
     "end_time": "2024-01-23T20:37:33.467507Z",
     "start_time": "2024-01-23T20:37:33.427468Z"
    }
   }
  },
  {
   "cell_type": "code",
   "execution_count": null,
   "outputs": [],
   "source": [],
   "metadata": {
    "collapsed": false
   }
  }
 ],
 "metadata": {
  "kernelspec": {
   "display_name": "Python 3 (ipykernel)",
   "language": "python",
   "name": "python3"
  },
  "language_info": {
   "codemirror_mode": {
    "name": "ipython",
    "version": 3
   },
   "file_extension": ".py",
   "mimetype": "text/x-python",
   "name": "python",
   "nbconvert_exporter": "python",
   "pygments_lexer": "ipython3",
   "version": "3.11.4"
  }
 },
 "nbformat": 4,
 "nbformat_minor": 4
}
